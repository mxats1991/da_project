{
 "cells": [
  {
   "cell_type": "markdown",
   "metadata": {
    "id": "sRW85nPMDWKb"
   },
   "source": [
    "# Исследование базы данных сервиса Stackoverflow\n",
    "\n",
    "<b>Цель:</b>исследование, связанное с базой данных сервиса StackOverflow.<br>\n",
    "<b>Описание:</b>В этом исследовании работа идёт с базой данных StackOverflow — сервиса вопросов и ответов о программировании. StackOverflow похож на социальную сеть — пользователи сервиса задают вопросы, отвечают на посты, оставляют комментарии и ставят оценки другим ответам. Я исследовал предоставленные данные, сформировал требуемые выгрузки данных с помощью SQL, посчитал различные продуктовые метрики и визуализировал их."
   ]
  },
  {
   "cell_type": "code",
   "execution_count": 1,
   "metadata": {
    "id": "nlZBlglMDWKe"
   },
   "outputs": [],
   "source": [
    "import pandas as pd\n",
    "import matplotlib.pyplot as plt\n",
    "from sqlalchemy import create_engine "
   ]
  },
  {
   "cell_type": "markdown",
   "metadata": {
    "id": "XnOE3n28DWKg"
   },
   "source": [
    "### Конфигурация для подключения к базе данных `data-analyst-advanced-sql`\n",
    "Эта база данных содержит схему `stackoverflow`, с которой вы будете работать в проекте"
   ]
  },
  {
   "cell_type": "code",
   "execution_count": 2,
   "metadata": {
    "id": "6p-yGp7qDWKg"
   },
   "outputs": [],
   "source": [
    "db_config = {\n",
    "    'user': '***', # имя пользователя\n",
    "    'pwd': '***', # пароль\n",
    "    'host': '***',\n",
    "    'port': 6432, # порт подключения\n",
    "    'db': 'data-analyst-advanced-sql' # название базы данных\n",
    "}  \n",
    "\n",
    "connection_string = 'postgresql://{}:{}@{}:{}/{}'.format(\n",
    "    db_config['user'],\n",
    "    db_config['pwd'],\n",
    "    db_config['host'],\n",
    "    db_config['port'],\n",
    "    db_config['db'],\n",
    ")"
   ]
  },
  {
   "cell_type": "markdown",
   "metadata": {
    "id": "2Rg8ZpS0DWKh"
   },
   "source": [
    "Создание подключения"
   ]
  },
  {
   "cell_type": "code",
   "execution_count": 3,
   "metadata": {
    "id": "DamCUTR6DWKi"
   },
   "outputs": [],
   "source": [
    "engine = create_engine(connection_string) "
   ]
  },
  {
   "cell_type": "markdown",
   "metadata": {
    "id": "bel8XeSlDWKj"
   },
   "source": [
    "Пример запроса к базе данных\n",
    "\n",
    "`sample_df` является pandas-датафреймом."
   ]
  },
  {
   "cell_type": "code",
   "execution_count": 4,
   "metadata": {
    "id": "6Z_fw0yLDWKk"
   },
   "outputs": [],
   "source": [
    "query = '''\n",
    "SELECT *\n",
    "FROM stackoverflow.users\n",
    "LIMIT 10;\n",
    "'''\n",
    "\n",
    "sample_df = pd.read_sql_query(query, con=engine) "
   ]
  },
  {
   "cell_type": "code",
   "execution_count": 5,
   "metadata": {
    "id": "ZpuZ290oDWKk",
    "outputId": "22785a0a-e2bc-4559-ec3c-4879c4b377eb"
   },
   "outputs": [
    {
     "data": {
      "text/html": [
       "<div>\n",
       "<style scoped>\n",
       "    .dataframe tbody tr th:only-of-type {\n",
       "        vertical-align: middle;\n",
       "    }\n",
       "\n",
       "    .dataframe tbody tr th {\n",
       "        vertical-align: top;\n",
       "    }\n",
       "\n",
       "    .dataframe thead th {\n",
       "        text-align: right;\n",
       "    }\n",
       "</style>\n",
       "<table border=\"1\" class=\"dataframe\">\n",
       "  <thead>\n",
       "    <tr style=\"text-align: right;\">\n",
       "      <th></th>\n",
       "      <th>id</th>\n",
       "      <th>creation_date</th>\n",
       "      <th>display_name</th>\n",
       "      <th>last_access_date</th>\n",
       "      <th>location</th>\n",
       "      <th>reputation</th>\n",
       "      <th>views</th>\n",
       "    </tr>\n",
       "  </thead>\n",
       "  <tbody>\n",
       "    <tr>\n",
       "      <th>0</th>\n",
       "      <td>1</td>\n",
       "      <td>2008-07-31 14:22:31</td>\n",
       "      <td>Jeff Atwood</td>\n",
       "      <td>2018-08-29 02:34:23</td>\n",
       "      <td>El Cerrito, CA</td>\n",
       "      <td>44300</td>\n",
       "      <td>408587</td>\n",
       "    </tr>\n",
       "    <tr>\n",
       "      <th>1</th>\n",
       "      <td>2</td>\n",
       "      <td>2008-07-31 14:22:31</td>\n",
       "      <td>Geoff Dalgas</td>\n",
       "      <td>2018-08-23 17:31:56</td>\n",
       "      <td>Corvallis, OR</td>\n",
       "      <td>3491</td>\n",
       "      <td>23966</td>\n",
       "    </tr>\n",
       "    <tr>\n",
       "      <th>2</th>\n",
       "      <td>3</td>\n",
       "      <td>2008-07-31 14:22:31</td>\n",
       "      <td>Jarrod Dixon</td>\n",
       "      <td>2018-08-30 20:56:24</td>\n",
       "      <td>Raleigh, NC, United States</td>\n",
       "      <td>13418</td>\n",
       "      <td>24396</td>\n",
       "    </tr>\n",
       "    <tr>\n",
       "      <th>3</th>\n",
       "      <td>4</td>\n",
       "      <td>2008-07-31 14:22:31</td>\n",
       "      <td>Joel Spolsky</td>\n",
       "      <td>2018-08-14 22:18:15</td>\n",
       "      <td>New York, NY</td>\n",
       "      <td>28768</td>\n",
       "      <td>73755</td>\n",
       "    </tr>\n",
       "    <tr>\n",
       "      <th>4</th>\n",
       "      <td>5</td>\n",
       "      <td>2008-07-31 14:22:31</td>\n",
       "      <td>Jon Galloway</td>\n",
       "      <td>2018-08-29 16:48:36</td>\n",
       "      <td>San Diego, CA</td>\n",
       "      <td>39172</td>\n",
       "      <td>11700</td>\n",
       "    </tr>\n",
       "    <tr>\n",
       "      <th>5</th>\n",
       "      <td>8</td>\n",
       "      <td>2008-07-31 21:33:24</td>\n",
       "      <td>Eggs McLaren</td>\n",
       "      <td>2018-04-09 02:04:56</td>\n",
       "      <td>None</td>\n",
       "      <td>942</td>\n",
       "      <td>6372</td>\n",
       "    </tr>\n",
       "    <tr>\n",
       "      <th>6</th>\n",
       "      <td>9</td>\n",
       "      <td>2008-07-31 21:35:27</td>\n",
       "      <td>Kevin Dente</td>\n",
       "      <td>2018-08-30 18:18:03</td>\n",
       "      <td>Oakland, CA</td>\n",
       "      <td>14337</td>\n",
       "      <td>4949</td>\n",
       "    </tr>\n",
       "    <tr>\n",
       "      <th>7</th>\n",
       "      <td>11</td>\n",
       "      <td>2008-08-01 00:59:11</td>\n",
       "      <td>Anonymous User</td>\n",
       "      <td>2008-08-01 00:59:11</td>\n",
       "      <td>None</td>\n",
       "      <td>1890</td>\n",
       "      <td>2123</td>\n",
       "    </tr>\n",
       "    <tr>\n",
       "      <th>8</th>\n",
       "      <td>13</td>\n",
       "      <td>2008-08-01 04:18:05</td>\n",
       "      <td>Chris Jester-Young</td>\n",
       "      <td>2018-08-30 02:47:23</td>\n",
       "      <td>Raleigh, NC, United States</td>\n",
       "      <td>177138</td>\n",
       "      <td>35414</td>\n",
       "    </tr>\n",
       "    <tr>\n",
       "      <th>9</th>\n",
       "      <td>17</td>\n",
       "      <td>2008-08-01 12:02:22</td>\n",
       "      <td>Nick Berardi</td>\n",
       "      <td>2018-01-22 01:35:38</td>\n",
       "      <td>Issaquah, WA</td>\n",
       "      <td>44443</td>\n",
       "      <td>4786</td>\n",
       "    </tr>\n",
       "  </tbody>\n",
       "</table>\n",
       "</div>"
      ],
      "text/plain": [
       "   id       creation_date        display_name    last_access_date  \\\n",
       "0   1 2008-07-31 14:22:31         Jeff Atwood 2018-08-29 02:34:23   \n",
       "1   2 2008-07-31 14:22:31        Geoff Dalgas 2018-08-23 17:31:56   \n",
       "2   3 2008-07-31 14:22:31        Jarrod Dixon 2018-08-30 20:56:24   \n",
       "3   4 2008-07-31 14:22:31        Joel Spolsky 2018-08-14 22:18:15   \n",
       "4   5 2008-07-31 14:22:31        Jon Galloway 2018-08-29 16:48:36   \n",
       "5   8 2008-07-31 21:33:24        Eggs McLaren 2018-04-09 02:04:56   \n",
       "6   9 2008-07-31 21:35:27         Kevin Dente 2018-08-30 18:18:03   \n",
       "7  11 2008-08-01 00:59:11      Anonymous User 2008-08-01 00:59:11   \n",
       "8  13 2008-08-01 04:18:05  Chris Jester-Young 2018-08-30 02:47:23   \n",
       "9  17 2008-08-01 12:02:22        Nick Berardi 2018-01-22 01:35:38   \n",
       "\n",
       "                     location  reputation   views  \n",
       "0              El Cerrito, CA       44300  408587  \n",
       "1               Corvallis, OR        3491   23966  \n",
       "2  Raleigh, NC, United States       13418   24396  \n",
       "3                New York, NY       28768   73755  \n",
       "4               San Diego, CA       39172   11700  \n",
       "5                        None         942    6372  \n",
       "6                 Oakland, CA       14337    4949  \n",
       "7                        None        1890    2123  \n",
       "8  Raleigh, NC, United States      177138   35414  \n",
       "9                Issaquah, WA       44443    4786  "
      ]
     },
     "execution_count": 5,
     "metadata": {},
     "output_type": "execute_result"
    }
   ],
   "source": [
    "sample_df"
   ]
  },
  {
   "cell_type": "markdown",
   "metadata": {
    "id": "gnBMXkDBDWKm"
   },
   "source": [
    "# Задание 1"
   ]
  },
  {
   "cell_type": "markdown",
   "metadata": {
    "id": "vHsfOrrNDWKn"
   },
   "source": [
    "Выведите общую сумму просмотров постов за каждый месяц 2008 года. Если данных за какой-либо месяц в базе нет, такой месяц можно пропустить. Результат отсортируйте по убыванию общего количества просмотров."
   ]
  },
  {
   "cell_type": "markdown",
   "metadata": {
    "id": "N5rTgGNmDWKn"
   },
   "source": [
    "| month_date  | total_views |\n",
    "| ------------- | ------------- |\n",
    "| 2008-09-01  | 452928568  |\n",
    "| 2008-10-01  | 365400138  |\n",
    "| ...         | ... |"
   ]
  },
  {
   "cell_type": "code",
   "execution_count": 6,
   "metadata": {
    "id": "eWvykcXTDWKo"
   },
   "outputs": [
    {
     "data": {
      "text/html": [
       "<div>\n",
       "<style scoped>\n",
       "    .dataframe tbody tr th:only-of-type {\n",
       "        vertical-align: middle;\n",
       "    }\n",
       "\n",
       "    .dataframe tbody tr th {\n",
       "        vertical-align: top;\n",
       "    }\n",
       "\n",
       "    .dataframe thead th {\n",
       "        text-align: right;\n",
       "    }\n",
       "</style>\n",
       "<table border=\"1\" class=\"dataframe\">\n",
       "  <thead>\n",
       "    <tr style=\"text-align: right;\">\n",
       "      <th></th>\n",
       "      <th>date_trunc</th>\n",
       "      <th>sum</th>\n",
       "    </tr>\n",
       "  </thead>\n",
       "  <tbody>\n",
       "    <tr>\n",
       "      <th>0</th>\n",
       "      <td>2008-07-01 00:00:00+04:00</td>\n",
       "      <td>669895</td>\n",
       "    </tr>\n",
       "    <tr>\n",
       "      <th>1</th>\n",
       "      <td>2008-08-01 00:00:00+04:00</td>\n",
       "      <td>131367083</td>\n",
       "    </tr>\n",
       "    <tr>\n",
       "      <th>2</th>\n",
       "      <td>2008-09-01 00:00:00+04:00</td>\n",
       "      <td>452928568</td>\n",
       "    </tr>\n",
       "    <tr>\n",
       "      <th>3</th>\n",
       "      <td>2008-10-01 00:00:00+04:00</td>\n",
       "      <td>365400138</td>\n",
       "    </tr>\n",
       "    <tr>\n",
       "      <th>4</th>\n",
       "      <td>2008-11-01 00:00:00+03:00</td>\n",
       "      <td>221759651</td>\n",
       "    </tr>\n",
       "    <tr>\n",
       "      <th>5</th>\n",
       "      <td>2008-12-01 00:00:00+03:00</td>\n",
       "      <td>197792841</td>\n",
       "    </tr>\n",
       "  </tbody>\n",
       "</table>\n",
       "</div>"
      ],
      "text/plain": [
       "                  date_trunc        sum\n",
       "0  2008-07-01 00:00:00+04:00     669895\n",
       "1  2008-08-01 00:00:00+04:00  131367083\n",
       "2  2008-09-01 00:00:00+04:00  452928568\n",
       "3  2008-10-01 00:00:00+04:00  365400138\n",
       "4  2008-11-01 00:00:00+03:00  221759651\n",
       "5  2008-12-01 00:00:00+03:00  197792841"
      ]
     },
     "execution_count": 6,
     "metadata": {},
     "output_type": "execute_result"
    }
   ],
   "source": [
    "# напишите запрос\n",
    "query = '''\n",
    "select distinct Date_trunc('month', cast(creation_date as date)),\n",
    "sum(views_count) over (partition by Date_trunc('month', cast(creation_date as date)))\n",
    "from stackoverflow.posts\n",
    "where extract(year from cast(creation_date as date)) = '2008'\n",
    "'''\n",
    "\n",
    "# выполните запрос\n",
    "sample_df = pd.read_sql_query(query, con=engine)\n",
    "sample_df"
   ]
  },
  {
   "cell_type": "markdown",
   "metadata": {
    "id": "I_ZvhOxkDWKp"
   },
   "source": [
    "Проанализируйте итоговую таблицу. Отличаются ли данные за разные месяцы? С чем могут быть связаны отличия?"
   ]
  },
  {
   "cell_type": "code",
   "execution_count": 7,
   "metadata": {
    "id": "luxSj17oDWKq"
   },
   "outputs": [
    {
     "data": {
      "text/plain": [
       "<AxesSubplot:xlabel='date_trunc'>"
      ]
     },
     "execution_count": 7,
     "metadata": {},
     "output_type": "execute_result"
    },
    {
     "data": {
      "image/png": "[encoded data removed]",
      "text/plain": [
       "<Figure size 432x288 with 1 Axes>"
      ]
     },
     "metadata": {
      "needs_background": "light"
     },
     "output_type": "display_data"
    }
   ],
   "source": [
    "# напишите ваш ответ здесь\n",
    "sample_df.plot(x='date_trunc')\n",
    "#1. Данные отличаются. Видно что с окончанием лета идет рост просмотров и снижение к декабрю\n",
    "#2. Снижения летом и ближе к декабрю могут быть связаны с периодами летних и зимних отпусков. "
   ]
  },
  {
   "cell_type": "markdown",
   "metadata": {
    "id": "FziIXkn5DWKr"
   },
   "source": [
    "# Задание 2"
   ]
  },
  {
   "cell_type": "markdown",
   "metadata": {
    "id": "fTGESZvYDWKr"
   },
   "source": [
    "Выведите имена самых активных пользователей, которые в первый месяц после регистрации (включая день регистрации) дали больше 100 ответов. Вопросы, которые задавали пользователи, не учитывайте. Для каждого имени пользователя выведите количество уникальных значений `user_id`. Отсортируйте результат по полю с именами в лексикографическом порядке."
   ]
  },
  {
   "cell_type": "markdown",
   "metadata": {
    "id": "W5-tv6Y3DWKs"
   },
   "source": [
    "| display_name | count |\n",
    "| ------------ | ----- |\n",
    "| 1800 INFORMATION | 1 |\n",
    "| Adam Bellaire | 1 |\n",
    "| Adam Davis | 1 |\n",
    "| ... | ... |"
   ]
  },
  {
   "cell_type": "code",
   "execution_count": 8,
   "metadata": {
    "id": "fIO-y-YjDWKt"
   },
   "outputs": [
    {
     "data": {
      "text/html": [
       "<div>\n",
       "<style scoped>\n",
       "    .dataframe tbody tr th:only-of-type {\n",
       "        vertical-align: middle;\n",
       "    }\n",
       "\n",
       "    .dataframe tbody tr th {\n",
       "        vertical-align: top;\n",
       "    }\n",
       "\n",
       "    .dataframe thead th {\n",
       "        text-align: right;\n",
       "    }\n",
       "</style>\n",
       "<table border=\"1\" class=\"dataframe\">\n",
       "  <thead>\n",
       "    <tr style=\"text-align: right;\">\n",
       "      <th></th>\n",
       "      <th>display_name</th>\n",
       "      <th>count</th>\n",
       "    </tr>\n",
       "  </thead>\n",
       "  <tbody>\n",
       "    <tr>\n",
       "      <th>0</th>\n",
       "      <td>1800 INFORMATION</td>\n",
       "      <td>1</td>\n",
       "    </tr>\n",
       "    <tr>\n",
       "      <th>1</th>\n",
       "      <td>Adam Bellaire</td>\n",
       "      <td>1</td>\n",
       "    </tr>\n",
       "    <tr>\n",
       "      <th>2</th>\n",
       "      <td>Adam Davis</td>\n",
       "      <td>1</td>\n",
       "    </tr>\n",
       "    <tr>\n",
       "      <th>3</th>\n",
       "      <td>Adam Liss</td>\n",
       "      <td>1</td>\n",
       "    </tr>\n",
       "    <tr>\n",
       "      <th>4</th>\n",
       "      <td>Amy B</td>\n",
       "      <td>1</td>\n",
       "    </tr>\n",
       "    <tr>\n",
       "      <th>...</th>\n",
       "      <td>...</td>\n",
       "      <td>...</td>\n",
       "    </tr>\n",
       "    <tr>\n",
       "      <th>57</th>\n",
       "      <td>leppie</td>\n",
       "      <td>1</td>\n",
       "    </tr>\n",
       "    <tr>\n",
       "      <th>58</th>\n",
       "      <td>lomaxx</td>\n",
       "      <td>1</td>\n",
       "    </tr>\n",
       "    <tr>\n",
       "      <th>59</th>\n",
       "      <td>mattlant</td>\n",
       "      <td>1</td>\n",
       "    </tr>\n",
       "    <tr>\n",
       "      <th>60</th>\n",
       "      <td>paxdiablo</td>\n",
       "      <td>1</td>\n",
       "    </tr>\n",
       "    <tr>\n",
       "      <th>61</th>\n",
       "      <td>tzot</td>\n",
       "      <td>1</td>\n",
       "    </tr>\n",
       "  </tbody>\n",
       "</table>\n",
       "<p>62 rows × 2 columns</p>\n",
       "</div>"
      ],
      "text/plain": [
       "        display_name  count\n",
       "0   1800 INFORMATION      1\n",
       "1      Adam Bellaire      1\n",
       "2         Adam Davis      1\n",
       "3          Adam Liss      1\n",
       "4              Amy B      1\n",
       "..               ...    ...\n",
       "57            leppie      1\n",
       "58            lomaxx      1\n",
       "59          mattlant      1\n",
       "60         paxdiablo      1\n",
       "61              tzot      1\n",
       "\n",
       "[62 rows x 2 columns]"
      ]
     },
     "execution_count": 8,
     "metadata": {},
     "output_type": "execute_result"
    }
   ],
   "source": [
    "# напишите запрос\n",
    "query = '''\n",
    "with rr as (select  u.display_name as display_name,\n",
    "p.user_id as us,\n",
    "count(p.user_id) over (partition by u.id) as count\n",
    "from stackoverflow.users u \n",
    "inner join stackoverflow.posts p on u.id = p.user_id\n",
    "inner join stackoverflow.post_types pt on p.post_type_id = pt.id\n",
    "where (pt.type = 'Answer') and (p.creation_date BETWEEN u.creation_date and u.creation_date + INTERVAL '1 month'))\n",
    "select\n",
    "distinct display_name,\n",
    "count(distinct us)\n",
    "from rr\n",
    "where count > 100\n",
    "group by 1\n",
    "order by 1\n",
    "'''\n",
    "\n",
    "# выполните запрос\n",
    "sample_df = pd.read_sql_query(query, con=engine)\n",
    "sample_df"
   ]
  },
  {
   "cell_type": "markdown",
   "metadata": {
    "id": "I3Wr82TplKpI"
   },
   "source": [
    "Какие аномалии наблюдаются в данных? О чём они говорят?"
   ]
  },
  {
   "cell_type": "code",
   "execution_count": 9,
   "metadata": {
    "id": "CEIGGQ6ODWKy"
   },
   "outputs": [
    {
     "name": "stdout",
     "output_type": "stream",
     "text": [
      "62\n"
     ]
    },
    {
     "data": {
      "text/html": [
       "<div>\n",
       "<style scoped>\n",
       "    .dataframe tbody tr th:only-of-type {\n",
       "        vertical-align: middle;\n",
       "    }\n",
       "\n",
       "    .dataframe tbody tr th {\n",
       "        vertical-align: top;\n",
       "    }\n",
       "\n",
       "    .dataframe thead th {\n",
       "        text-align: right;\n",
       "    }\n",
       "</style>\n",
       "<table border=\"1\" class=\"dataframe\">\n",
       "  <thead>\n",
       "    <tr style=\"text-align: right;\">\n",
       "      <th></th>\n",
       "      <th>count</th>\n",
       "    </tr>\n",
       "  </thead>\n",
       "  <tbody>\n",
       "    <tr>\n",
       "      <th>0</th>\n",
       "      <td>24044</td>\n",
       "    </tr>\n",
       "  </tbody>\n",
       "</table>\n",
       "</div>"
      ],
      "text/plain": [
       "   count\n",
       "0  24044"
      ]
     },
     "execution_count": 9,
     "metadata": {},
     "output_type": "execute_result"
    }
   ],
   "source": [
    "# напишите ваш ответ здесь\n",
    "print(sample_df['count'].sum())\n",
    "query = '''\n",
    "with rr as (\n",
    "select\n",
    "distinct id\n",
    "from stackoverflow.users)\n",
    "select \n",
    "distinct count(id) over () as count\n",
    "from rr\n",
    "\n",
    "\n",
    "'''\n",
    "\n",
    "# выполните запрос\n",
    "sample_df = pd.read_sql_query(query, con=engine)\n",
    "sample_df"
   ]
  },
  {
   "cell_type": "markdown",
   "metadata": {},
   "source": [
    "Если сравнить количество display_name с количеством уникальных user_id. То можно увидеть сильную разницу в значениях. Это может быть из-за повторяющихся имен c различными id."
   ]
  },
  {
   "cell_type": "markdown",
   "metadata": {
    "id": "JhM2xXj5DWKu"
   },
   "source": [
    "# Задание 3"
   ]
  },
  {
   "cell_type": "markdown",
   "metadata": {
    "id": "IS6xPqyyDWKu"
   },
   "source": [
    "Выведите количество постов за 2008 год по месяцам. Отберите посты от пользователей, которые зарегистрировались в сентябре 2008 года и сделали хотя бы один пост в декабре того же года. Отсортируйте таблицу по значению месяца по убыванию."
   ]
  },
  {
   "cell_type": "markdown",
   "metadata": {
    "id": "WmjhjV2xDWKv"
   },
   "source": [
    "| month | count |\n",
    "| ------|------ |\n",
    "| 2008-12-01 | 17641 |\n",
    "| 2008-11-01 | 18294 |\n",
    "| ... | ... |"
   ]
  },
  {
   "cell_type": "code",
   "execution_count": 10,
   "metadata": {
    "id": "kVu0FB8WDWKv"
   },
   "outputs": [
    {
     "data": {
      "text/html": [
       "<div>\n",
       "<style scoped>\n",
       "    .dataframe tbody tr th:only-of-type {\n",
       "        vertical-align: middle;\n",
       "    }\n",
       "\n",
       "    .dataframe tbody tr th {\n",
       "        vertical-align: top;\n",
       "    }\n",
       "\n",
       "    .dataframe thead th {\n",
       "        text-align: right;\n",
       "    }\n",
       "</style>\n",
       "<table border=\"1\" class=\"dataframe\">\n",
       "  <thead>\n",
       "    <tr style=\"text-align: right;\">\n",
       "      <th></th>\n",
       "      <th>dt</th>\n",
       "      <th>count</th>\n",
       "    </tr>\n",
       "  </thead>\n",
       "  <tbody>\n",
       "    <tr>\n",
       "      <th>0</th>\n",
       "      <td>2008-12-01 00:00:00+03:00</td>\n",
       "      <td>17641</td>\n",
       "    </tr>\n",
       "    <tr>\n",
       "      <th>1</th>\n",
       "      <td>2008-11-01 00:00:00+03:00</td>\n",
       "      <td>18294</td>\n",
       "    </tr>\n",
       "    <tr>\n",
       "      <th>2</th>\n",
       "      <td>2008-10-01 00:00:00+04:00</td>\n",
       "      <td>27171</td>\n",
       "    </tr>\n",
       "    <tr>\n",
       "      <th>3</th>\n",
       "      <td>2008-09-01 00:00:00+04:00</td>\n",
       "      <td>24870</td>\n",
       "    </tr>\n",
       "    <tr>\n",
       "      <th>4</th>\n",
       "      <td>2008-08-01 00:00:00+04:00</td>\n",
       "      <td>32</td>\n",
       "    </tr>\n",
       "  </tbody>\n",
       "</table>\n",
       "</div>"
      ],
      "text/plain": [
       "                          dt  count\n",
       "0  2008-12-01 00:00:00+03:00  17641\n",
       "1  2008-11-01 00:00:00+03:00  18294\n",
       "2  2008-10-01 00:00:00+04:00  27171\n",
       "3  2008-09-01 00:00:00+04:00  24870\n",
       "4  2008-08-01 00:00:00+04:00     32"
      ]
     },
     "execution_count": 10,
     "metadata": {},
     "output_type": "execute_result"
    }
   ],
   "source": [
    "# напишите запрос\n",
    "query = '''\n",
    "with rr as (\n",
    "    select\n",
    "        distinct u.id as us\n",
    "        from stackoverflow.users u\n",
    "        inner join stackoverflow.posts p on p.user_id = u.id\n",
    "    where (cast(u.creation_date as date) between '2008-09-01' and '2008-09-30') and (cast(p.creation_date as date) between '2008-12-01' and '2008-12-31')\n",
    "        \n",
    ")\n",
    "select date_trunc('month', cast(pt.creation_date as date)) as dt,\n",
    "count(pt.id)\n",
    "from stackoverflow.posts pt\n",
    "inner join rr r on r.us = pt.user_id\n",
    "\n",
    "where cast(pt.creation_date as date) between '2008-01-01' and '2008-12-31' \n",
    "group by 1\n",
    "order by 1 desc\n",
    "'''\n",
    "\n",
    "# выполните запрос\n",
    "sample_df = pd.read_sql_query(query, con=engine)\n",
    "sample_df"
   ]
  },
  {
   "cell_type": "markdown",
   "metadata": {
    "id": "Vnxn9DVHDWKx"
   },
   "source": [
    "Изучите данные: есть ли в них аномалии? Предположите, почему могли появиться аномальные значения."
   ]
  },
  {
   "cell_type": "code",
   "execution_count": 11,
   "metadata": {
    "id": "MMVIz4yMlKpN"
   },
   "outputs": [
    {
     "data": {
      "text/html": [
       "<div>\n",
       "<style scoped>\n",
       "    .dataframe tbody tr th:only-of-type {\n",
       "        vertical-align: middle;\n",
       "    }\n",
       "\n",
       "    .dataframe tbody tr th {\n",
       "        vertical-align: top;\n",
       "    }\n",
       "\n",
       "    .dataframe thead th {\n",
       "        text-align: right;\n",
       "    }\n",
       "</style>\n",
       "<table border=\"1\" class=\"dataframe\">\n",
       "  <thead>\n",
       "    <tr style=\"text-align: right;\">\n",
       "      <th></th>\n",
       "      <th>count</th>\n",
       "    </tr>\n",
       "  </thead>\n",
       "  <tbody>\n",
       "    <tr>\n",
       "      <th>count</th>\n",
       "      <td>5.000000</td>\n",
       "    </tr>\n",
       "    <tr>\n",
       "      <th>mean</th>\n",
       "      <td>17601.600000</td>\n",
       "    </tr>\n",
       "    <tr>\n",
       "      <th>std</th>\n",
       "      <td>10648.648614</td>\n",
       "    </tr>\n",
       "    <tr>\n",
       "      <th>min</th>\n",
       "      <td>32.000000</td>\n",
       "    </tr>\n",
       "    <tr>\n",
       "      <th>25%</th>\n",
       "      <td>17641.000000</td>\n",
       "    </tr>\n",
       "    <tr>\n",
       "      <th>50%</th>\n",
       "      <td>18294.000000</td>\n",
       "    </tr>\n",
       "    <tr>\n",
       "      <th>75%</th>\n",
       "      <td>24870.000000</td>\n",
       "    </tr>\n",
       "    <tr>\n",
       "      <th>max</th>\n",
       "      <td>27171.000000</td>\n",
       "    </tr>\n",
       "  </tbody>\n",
       "</table>\n",
       "</div>"
      ],
      "text/plain": [
       "              count\n",
       "count      5.000000\n",
       "mean   17601.600000\n",
       "std    10648.648614\n",
       "min       32.000000\n",
       "25%    17641.000000\n",
       "50%    18294.000000\n",
       "75%    24870.000000\n",
       "max    27171.000000"
      ]
     },
     "execution_count": 11,
     "metadata": {},
     "output_type": "execute_result"
    },
    {
     "data": {
      "image/png": "[encoded data removed]",
      "text/plain": [
       "<Figure size 432x288 with 1 Axes>"
      ]
     },
     "metadata": {
      "needs_background": "light"
     },
     "output_type": "display_data"
    }
   ],
   "source": [
    "# напишите ваш ответ здесь\n",
    "sample_df.sort_values(by='dt').plot(x='dt')\n",
    "sample_df.describe()"
   ]
  },
  {
   "cell_type": "markdown",
   "metadata": {},
   "source": [
    "1. Из полученных ранных видно что аномальные низкие значения находятся в августе. Это связано с тем что в августе пользователи еще не могли писать посты т.к. еще не зарегестрировались."
   ]
  },
  {
   "cell_type": "markdown",
   "metadata": {
    "id": "5Pcizm0DDWKz"
   },
   "source": [
    "# Задание 4"
   ]
  },
  {
   "cell_type": "markdown",
   "metadata": {
    "id": "KUZPF6vHDWKz"
   },
   "source": [
    "Используя данные о постах, выведите несколько полей:\n",
    "\n",
    "- идентификатор пользователя, который написал пост;\n",
    "- дата создания поста;\n",
    "- количество просмотров у текущего поста;\n",
    "- сумму просмотров постов автора с накоплением.\n",
    "\n",
    "Данные в таблице должны быть отсортированы по возрастанию идентификаторов пользователей, а данные об одном и том же пользователе — по возрастанию даты создания поста."
   ]
  },
  {
   "cell_type": "markdown",
   "metadata": {
    "id": "ZpsTUVDYDWK0"
   },
   "source": [
    "| user_id | creation_date | views_count | cumulative_count |\n",
    "| ------ | -------------- | ----------- | ---------------- |\n",
    "| 1 | 2008-07-31 23:41:00  | 480476   | 480476  |\n",
    "| 1 | 2008-07-31 23:55:38  | 136033 | 616509  | \n",
    "| 1 | 2008-07-31 23:56:41  | 0 |  616509  |\n",
    "| ... | ... | ... | ... |\n",
    "| 2 | 2008-07-31 23:56:41 | 79087  | 79087 |\n",
    "| 2 | 2008-08-01 05:09:56 | 65443 | 144530 |\n",
    "| ... | ...  | ...  | ...  |"
   ]
  },
  {
   "cell_type": "code",
   "execution_count": 12,
   "metadata": {
    "id": "hDoJhMzfDWK0"
   },
   "outputs": [
    {
     "data": {
      "text/html": [
       "<div>\n",
       "<style scoped>\n",
       "    .dataframe tbody tr th:only-of-type {\n",
       "        vertical-align: middle;\n",
       "    }\n",
       "\n",
       "    .dataframe tbody tr th {\n",
       "        vertical-align: top;\n",
       "    }\n",
       "\n",
       "    .dataframe thead th {\n",
       "        text-align: right;\n",
       "    }\n",
       "</style>\n",
       "<table border=\"1\" class=\"dataframe\">\n",
       "  <thead>\n",
       "    <tr style=\"text-align: right;\">\n",
       "      <th></th>\n",
       "      <th>user_id</th>\n",
       "      <th>creation_date</th>\n",
       "      <th>views_count</th>\n",
       "      <th>sum</th>\n",
       "    </tr>\n",
       "  </thead>\n",
       "  <tbody>\n",
       "    <tr>\n",
       "      <th>0</th>\n",
       "      <td>1</td>\n",
       "      <td>2008-07-31 23:41:00</td>\n",
       "      <td>480476</td>\n",
       "      <td>480476</td>\n",
       "    </tr>\n",
       "    <tr>\n",
       "      <th>1</th>\n",
       "      <td>1</td>\n",
       "      <td>2008-07-31 23:55:38</td>\n",
       "      <td>136033</td>\n",
       "      <td>616509</td>\n",
       "    </tr>\n",
       "    <tr>\n",
       "      <th>2</th>\n",
       "      <td>1</td>\n",
       "      <td>2008-07-31 23:56:41</td>\n",
       "      <td>0</td>\n",
       "      <td>616509</td>\n",
       "    </tr>\n",
       "    <tr>\n",
       "      <th>3</th>\n",
       "      <td>1</td>\n",
       "      <td>2008-08-04 02:45:08</td>\n",
       "      <td>0</td>\n",
       "      <td>616509</td>\n",
       "    </tr>\n",
       "    <tr>\n",
       "      <th>4</th>\n",
       "      <td>1</td>\n",
       "      <td>2008-08-04 04:31:03</td>\n",
       "      <td>0</td>\n",
       "      <td>616509</td>\n",
       "    </tr>\n",
       "    <tr>\n",
       "      <th>...</th>\n",
       "      <td>...</td>\n",
       "      <td>...</td>\n",
       "      <td>...</td>\n",
       "      <td>...</td>\n",
       "    </tr>\n",
       "    <tr>\n",
       "      <th>243791</th>\n",
       "      <td>5696608</td>\n",
       "      <td>2008-12-23 16:00:37</td>\n",
       "      <td>0</td>\n",
       "      <td>2804</td>\n",
       "    </tr>\n",
       "    <tr>\n",
       "      <th>243792</th>\n",
       "      <td>5696608</td>\n",
       "      <td>2008-12-23 17:35:09</td>\n",
       "      <td>0</td>\n",
       "      <td>2804</td>\n",
       "    </tr>\n",
       "    <tr>\n",
       "      <th>243793</th>\n",
       "      <td>5696608</td>\n",
       "      <td>2008-12-24 01:02:48</td>\n",
       "      <td>0</td>\n",
       "      <td>2804</td>\n",
       "    </tr>\n",
       "    <tr>\n",
       "      <th>243794</th>\n",
       "      <td>5696608</td>\n",
       "      <td>2008-12-30 14:34:45</td>\n",
       "      <td>0</td>\n",
       "      <td>2804</td>\n",
       "    </tr>\n",
       "    <tr>\n",
       "      <th>243795</th>\n",
       "      <td>5696608</td>\n",
       "      <td>2008-12-30 16:32:12</td>\n",
       "      <td>0</td>\n",
       "      <td>2804</td>\n",
       "    </tr>\n",
       "  </tbody>\n",
       "</table>\n",
       "<p>243796 rows × 4 columns</p>\n",
       "</div>"
      ],
      "text/plain": [
       "        user_id       creation_date  views_count     sum\n",
       "0             1 2008-07-31 23:41:00       480476  480476\n",
       "1             1 2008-07-31 23:55:38       136033  616509\n",
       "2             1 2008-07-31 23:56:41            0  616509\n",
       "3             1 2008-08-04 02:45:08            0  616509\n",
       "4             1 2008-08-04 04:31:03            0  616509\n",
       "...         ...                 ...          ...     ...\n",
       "243791  5696608 2008-12-23 16:00:37            0    2804\n",
       "243792  5696608 2008-12-23 17:35:09            0    2804\n",
       "243793  5696608 2008-12-24 01:02:48            0    2804\n",
       "243794  5696608 2008-12-30 14:34:45            0    2804\n",
       "243795  5696608 2008-12-30 16:32:12            0    2804\n",
       "\n",
       "[243796 rows x 4 columns]"
      ]
     },
     "execution_count": 12,
     "metadata": {},
     "output_type": "execute_result"
    }
   ],
   "source": [
    "# напишите запрос\n",
    "query = '''\n",
    "select\n",
    "    user_id,\n",
    "    creation_date,\n",
    "    views_count as views_count,\n",
    "    sum(views_count) over (partition by user_id order by creation_date)\n",
    "    from stackoverflow.posts\n",
    "    order by 1, 2\n",
    "    \n",
    "'''\n",
    "\n",
    "# выполните запрос\n",
    "sample_df = pd.read_sql_query(query, con=engine)\n",
    "sample_df"
   ]
  },
  {
   "cell_type": "markdown",
   "metadata": {
    "id": "N0kHRHvIDWK2"
   },
   "source": [
    "# Задание 5"
   ]
  },
  {
   "cell_type": "markdown",
   "metadata": {
    "id": "gBgvmPtODWK2"
   },
   "source": [
    "Найдите среднее количество постов пользователей в день за август 2008 года. Отберите данные о пользователях, которые опубликовали больше 120 постов за август. Дни без публикаций не учитывайте. \n",
    "\n",
    "Отсортируйте результат по возрастанию среднего количества постов. Значения можно не округлять."
   ]
  },
  {
   "cell_type": "markdown",
   "metadata": {
    "id": "nfzR08BODWK3"
   },
   "source": [
    "| user_id | avg_daily |\n",
    "| ------- | --------- |\n",
    "| 116     | 4.777778  |\n",
    "| 234     | 5.208333  |\n",
    "| ...     | ... |"
   ]
  },
  {
   "cell_type": "code",
   "execution_count": 13,
   "metadata": {
    "id": "YFyPNz5GDWK3"
   },
   "outputs": [
    {
     "data": {
      "text/html": [
       "<div>\n",
       "<style scoped>\n",
       "    .dataframe tbody tr th:only-of-type {\n",
       "        vertical-align: middle;\n",
       "    }\n",
       "\n",
       "    .dataframe tbody tr th {\n",
       "        vertical-align: top;\n",
       "    }\n",
       "\n",
       "    .dataframe thead th {\n",
       "        text-align: right;\n",
       "    }\n",
       "</style>\n",
       "<table border=\"1\" class=\"dataframe\">\n",
       "  <thead>\n",
       "    <tr style=\"text-align: right;\">\n",
       "      <th></th>\n",
       "      <th>usr_id</th>\n",
       "      <th>avg</th>\n",
       "    </tr>\n",
       "  </thead>\n",
       "  <tbody>\n",
       "    <tr>\n",
       "      <th>0</th>\n",
       "      <td>116</td>\n",
       "      <td>4.777778</td>\n",
       "    </tr>\n",
       "    <tr>\n",
       "      <th>1</th>\n",
       "      <td>234</td>\n",
       "      <td>5.208333</td>\n",
       "    </tr>\n",
       "    <tr>\n",
       "      <th>2</th>\n",
       "      <td>91</td>\n",
       "      <td>5.681818</td>\n",
       "    </tr>\n",
       "    <tr>\n",
       "      <th>3</th>\n",
       "      <td>905</td>\n",
       "      <td>7.000000</td>\n",
       "    </tr>\n",
       "    <tr>\n",
       "      <th>4</th>\n",
       "      <td>383</td>\n",
       "      <td>7.277778</td>\n",
       "    </tr>\n",
       "  </tbody>\n",
       "</table>\n",
       "</div>"
      ],
      "text/plain": [
       "   usr_id       avg\n",
       "0     116  4.777778\n",
       "1     234  5.208333\n",
       "2      91  5.681818\n",
       "3     905  7.000000\n",
       "4     383  7.277778"
      ]
     },
     "execution_count": 13,
     "metadata": {},
     "output_type": "execute_result"
    }
   ],
   "source": [
    "# напишите запрос\n",
    "query = '''\n",
    "with rr as (\n",
    "select\n",
    "distinct user_id as id,\n",
    "count(id) over (partition by user_id) cnt_id\n",
    "from stackoverflow.posts\n",
    "where cast(creation_date as date) between '2008-08-01' and '2008-08-31'\n",
    "),\n",
    "rs as (\n",
    "select \n",
    "r.id as usr_id,\n",
    "date_trunc('day', cast(p.creation_date as date)) as dtt,\n",
    "count(p.id) as cnt_day\n",
    "from rr r\n",
    "inner join stackoverflow.posts p on p.user_id = r.id\n",
    "where cnt_id > 120 and cast(p.creation_date as date) between '2008-08-01' and '2008-08-31'\n",
    "group by 1, 2\n",
    "order by 1\n",
    " )\n",
    "select \n",
    "s.usr_id,\n",
    "avg(s.cnt_day)\n",
    "from rs s\n",
    "where s.cnt_day > 0\n",
    "group by 1\n",
    "order by 2\n",
    "'''\n",
    "\n",
    "# выполните запрос\n",
    "sample_df = pd.read_sql_query(query, con=engine)\n",
    "sample_df"
   ]
  },
  {
   "cell_type": "markdown",
   "metadata": {
    "id": "EQ0dcFH4DWK5"
   },
   "source": [
    "# Задание 6"
   ]
  },
  {
   "cell_type": "markdown",
   "metadata": {
    "id": "c7flfg_hDWK5"
   },
   "source": [
    "Сколько в среднем дней в период с 1 по 7 декабря 2008 года пользователи взаимодействовали с платформой? Для каждого пользователя отберите дни, в которые он или она опубликовали хотя бы один пост. Нужно получить одно целое число — не забудьте округлить результат. "
   ]
  },
  {
   "cell_type": "markdown",
   "metadata": {
    "id": "RC1Ibzm9DWK6"
   },
   "source": [
    "| result |\n",
    "| -----  |\n",
    "| <целое число> |"
   ]
  },
  {
   "cell_type": "code",
   "execution_count": 14,
   "metadata": {
    "id": "kZ7LXTr6DWK6"
   },
   "outputs": [
    {
     "data": {
      "text/html": [
       "<div>\n",
       "<style scoped>\n",
       "    .dataframe tbody tr th:only-of-type {\n",
       "        vertical-align: middle;\n",
       "    }\n",
       "\n",
       "    .dataframe tbody tr th {\n",
       "        vertical-align: top;\n",
       "    }\n",
       "\n",
       "    .dataframe thead th {\n",
       "        text-align: right;\n",
       "    }\n",
       "</style>\n",
       "<table border=\"1\" class=\"dataframe\">\n",
       "  <thead>\n",
       "    <tr style=\"text-align: right;\">\n",
       "      <th></th>\n",
       "      <th>round</th>\n",
       "    </tr>\n",
       "  </thead>\n",
       "  <tbody>\n",
       "    <tr>\n",
       "      <th>0</th>\n",
       "      <td>2.0</td>\n",
       "    </tr>\n",
       "  </tbody>\n",
       "</table>\n",
       "</div>"
      ],
      "text/plain": [
       "   round\n",
       "0    2.0"
      ]
     },
     "execution_count": 14,
     "metadata": {},
     "output_type": "execute_result"
    }
   ],
   "source": [
    "# напишите запрос\n",
    "query = '''\n",
    "with rr as (\n",
    "select \n",
    "p.user_id as usr_id,\n",
    "date_trunc('day', cast(p.creation_date as date)) as dtt,\n",
    "count(p.id) as cnt_day\n",
    "from stackoverflow.posts p\n",
    "where cast(p.creation_date as date) between '2008-12-01' and '2008-12-07'\n",
    "group by 1, 2\n",
    "order by 1\n",
    "),\n",
    "rs as (select\n",
    "usr_id,\n",
    "count(dtt) as result\n",
    "from rr\n",
    "where cnt_day > 0\n",
    "group by 1)\n",
    "select\n",
    "round(avg(result))\n",
    "from rs\n",
    "\n",
    "'''\n",
    "\n",
    "# выполните запрос\n",
    "sample_df = pd.read_sql_query(query, con=engine)\n",
    "sample_df"
   ]
  },
  {
   "cell_type": "markdown",
   "metadata": {
    "id": "2K5G3xuBDWK7"
   },
   "source": [
    "<details>\n",
    "\n",
    "<summary>Подсказка</summary>\n",
    "Посчитайте, сколько активных дней было у каждого пользователя. Добавьте данные во временную таблицу и используйте в основном запросе.\n",
    "</details>"
   ]
  },
  {
   "cell_type": "markdown",
   "metadata": {
    "id": "UJFtNNggDWK7"
   },
   "source": [
    "Проанализируйте итоговую таблицу — какие выводы можно сделать?"
   ]
  },
  {
   "cell_type": "code",
   "execution_count": 15,
   "metadata": {
    "id": "LfUuYz-1DWK8"
   },
   "outputs": [
    {
     "data": {
      "text/plain": [
       "count    3766.000000\n",
       "mean        1.772438\n",
       "std         1.230206\n",
       "min         1.000000\n",
       "25%         1.000000\n",
       "50%         1.000000\n",
       "75%         2.000000\n",
       "max         7.000000\n",
       "Name: result, dtype: float64"
      ]
     },
     "execution_count": 15,
     "metadata": {},
     "output_type": "execute_result"
    },
    {
     "data": {
      "image/png": "[encoded data removed]",
      "text/plain": [
       "<Figure size 432x288 with 1 Axes>"
      ]
     },
     "metadata": {
      "needs_background": "light"
     },
     "output_type": "display_data"
    }
   ],
   "source": [
    "# напишите ваш ответ здесь\n",
    "query = '''\n",
    "with rr as (\n",
    "select \n",
    "p.user_id as usr_id,\n",
    "date_trunc('day', cast(p.creation_date as date)) as dtt,\n",
    "count(p.id) as cnt_day\n",
    "from stackoverflow.posts p\n",
    "where cast(p.creation_date as date) between '2008-12-01' and '2008-12-07'\n",
    "group by 1, 2\n",
    "order by 1\n",
    ")\n",
    "select\n",
    "usr_id,\n",
    "count(dtt) as result\n",
    "from rr\n",
    "where cnt_day > 0\n",
    "group by 1\n",
    "\n",
    "'''\n",
    "\n",
    "# выполните запрос\n",
    "sample_df = pd.read_sql_query(query, con=engine)\n",
    "sample_df['result'].hist()\n",
    "sample_df['result'].describe()\n",
    "# Из полученных данных можно сделать вывод, что пользователи чаще всего взаимодействуют с сайтом в среднем два дня. \n",
    "#С увеличением дней взаимодействия, количество пользователей сильно снижается. Пользователи больше 7 дней не взаимодействуют"
   ]
  },
  {
   "cell_type": "markdown",
   "metadata": {
    "id": "wfOmqmfLDWK8"
   },
   "source": [
    "# Задание 7"
   ]
  },
  {
   "cell_type": "markdown",
   "metadata": {
    "id": "X4ARQimADWK9"
   },
   "source": [
    "Выведите историю активности каждого пользователя в таком виде: идентификатор пользователя, дата публикации поста. Отсортируйте вывод по возрастанию идентификаторов пользователей, а для каждого пользователя — по возрастанию даты публикации.\n",
    "\n",
    "Добавьте в таблицу новое поле: для каждого поста в нём будет указано название месяца предпоследней публикации пользователя относительно текущей. Если такой публикации нет, укажите `NULL`.  Python автоматически поменяет `NULL` на `None`, но дополнительно преобразовывать значения `None` вам не нужно.\n",
    "\n",
    "Посмотрите внимательно на образец таблицы: для первых двух постов предпоследней публикации нет, но, начиная с третьего поста, в новое поле входит нужный месяц. Для следующего пользователя в первые две записи поля `second_last_month` тоже войдёт `NULL`."
   ]
  },
  {
   "cell_type": "markdown",
   "metadata": {
    "id": "IGPjRP01DWK9"
   },
   "source": [
    "| user_id | creation_date | second_last_month |\n",
    "| ------- | ------------- | ----------------- |\n",
    "| 1       | 2008-07-31 23:41:00 | None |\n",
    "| 1       | 2008-07-31 23:55:38 | None |\n",
    "| 1       | 2008-07-31 23:56:41 | July |\n",
    "| 1       | 2008-08-04 02:45:08 | July |\n",
    "| 1       | 2008-08-04 04:31:03 | July |\n",
    "| 1       | 2008-08-04 08:04:42 | August |\n",
    "| ... | ... | ... |"
   ]
  },
  {
   "cell_type": "code",
   "execution_count": 16,
   "metadata": {
    "id": "HzI1vhaMDWK-"
   },
   "outputs": [
    {
     "data": {
      "text/html": [
       "<div>\n",
       "<style scoped>\n",
       "    .dataframe tbody tr th:only-of-type {\n",
       "        vertical-align: middle;\n",
       "    }\n",
       "\n",
       "    .dataframe tbody tr th {\n",
       "        vertical-align: top;\n",
       "    }\n",
       "\n",
       "    .dataframe thead th {\n",
       "        text-align: right;\n",
       "    }\n",
       "</style>\n",
       "<table border=\"1\" class=\"dataframe\">\n",
       "  <thead>\n",
       "    <tr style=\"text-align: right;\">\n",
       "      <th></th>\n",
       "      <th>user_id</th>\n",
       "      <th>creation_date</th>\n",
       "      <th>second_last_month</th>\n",
       "    </tr>\n",
       "  </thead>\n",
       "  <tbody>\n",
       "    <tr>\n",
       "      <th>0</th>\n",
       "      <td>1</td>\n",
       "      <td>2008-07-31 23:41:00</td>\n",
       "      <td>None</td>\n",
       "    </tr>\n",
       "    <tr>\n",
       "      <th>1</th>\n",
       "      <td>1</td>\n",
       "      <td>2008-07-31 23:55:38</td>\n",
       "      <td>None</td>\n",
       "    </tr>\n",
       "    <tr>\n",
       "      <th>2</th>\n",
       "      <td>1</td>\n",
       "      <td>2008-07-31 23:56:41</td>\n",
       "      <td>July</td>\n",
       "    </tr>\n",
       "    <tr>\n",
       "      <th>3</th>\n",
       "      <td>1</td>\n",
       "      <td>2008-08-04 02:45:08</td>\n",
       "      <td>July</td>\n",
       "    </tr>\n",
       "    <tr>\n",
       "      <th>4</th>\n",
       "      <td>1</td>\n",
       "      <td>2008-08-04 04:31:03</td>\n",
       "      <td>July</td>\n",
       "    </tr>\n",
       "    <tr>\n",
       "      <th>...</th>\n",
       "      <td>...</td>\n",
       "      <td>...</td>\n",
       "      <td>...</td>\n",
       "    </tr>\n",
       "    <tr>\n",
       "      <th>243791</th>\n",
       "      <td>5696608</td>\n",
       "      <td>2008-12-23 16:00:37</td>\n",
       "      <td>December</td>\n",
       "    </tr>\n",
       "    <tr>\n",
       "      <th>243792</th>\n",
       "      <td>5696608</td>\n",
       "      <td>2008-12-23 17:35:09</td>\n",
       "      <td>December</td>\n",
       "    </tr>\n",
       "    <tr>\n",
       "      <th>243793</th>\n",
       "      <td>5696608</td>\n",
       "      <td>2008-12-24 01:02:48</td>\n",
       "      <td>December</td>\n",
       "    </tr>\n",
       "    <tr>\n",
       "      <th>243794</th>\n",
       "      <td>5696608</td>\n",
       "      <td>2008-12-30 14:34:45</td>\n",
       "      <td>December</td>\n",
       "    </tr>\n",
       "    <tr>\n",
       "      <th>243795</th>\n",
       "      <td>5696608</td>\n",
       "      <td>2008-12-30 16:32:12</td>\n",
       "      <td>December</td>\n",
       "    </tr>\n",
       "  </tbody>\n",
       "</table>\n",
       "<p>243796 rows × 3 columns</p>\n",
       "</div>"
      ],
      "text/plain": [
       "        user_id       creation_date second_last_month\n",
       "0             1 2008-07-31 23:41:00              None\n",
       "1             1 2008-07-31 23:55:38              None\n",
       "2             1 2008-07-31 23:56:41              July\n",
       "3             1 2008-08-04 02:45:08              July\n",
       "4             1 2008-08-04 04:31:03              July\n",
       "...         ...                 ...               ...\n",
       "243791  5696608 2008-12-23 16:00:37          December\n",
       "243792  5696608 2008-12-23 17:35:09          December\n",
       "243793  5696608 2008-12-24 01:02:48          December\n",
       "243794  5696608 2008-12-30 14:34:45          December\n",
       "243795  5696608 2008-12-30 16:32:12          December\n",
       "\n",
       "[243796 rows x 3 columns]"
      ]
     },
     "execution_count": 16,
     "metadata": {},
     "output_type": "execute_result"
    }
   ],
   "source": [
    "# напишите запрос\n",
    "query = '''\n",
    "with rr as (select \n",
    "user_id,\n",
    "creation_date,\n",
    "LAST_VALUE(extract(month from cast(creation_date as date))) over (partition by user_id order by creation_date) as last_value\n",
    "from stackoverflow.posts)\n",
    "select\n",
    "user_id,\n",
    "creation_date,\n",
    "case\n",
    "lag(last_value, 2, NULL) over(partition by user_id order by creation_date)\n",
    "when 1 then 'January'\n",
    "when 2 then 'February'\n",
    "when 3 then 'March'\n",
    "when 4 then 'April'\n",
    "when 5 then 'May'\n",
    "when 6 then 'June'\n",
    "when 7 then 'July'\n",
    "when 8 then 'August'\n",
    "when 9 then 'September'\n",
    "when 10 then 'October'\n",
    "when 11 then 'November'\n",
    "when 12 then 'December'\n",
    "end as second_last_month\n",
    "from rr\n",
    "order by 1, 2\n",
    "'''\n",
    "\n",
    "# выполните запрос\n",
    "sample_df = pd.read_sql_query(query, con=engine)\n",
    "sample_df"
   ]
  },
  {
   "cell_type": "markdown",
   "metadata": {
    "id": "tf9qq2yzDWK_"
   },
   "source": [
    "# Задание 8"
   ]
  },
  {
   "cell_type": "markdown",
   "metadata": {
    "id": "gfwLVXBYDWLA"
   },
   "source": [
    "Рассчитайте аналог Retention Rate по месяцам для пользователей StackOverflow. Объедините пользователей в когорты по месяцу их первого поста. Возвращение определяйте по наличию поста в текущем месяце. "
   ]
  },
  {
   "cell_type": "markdown",
   "metadata": {
    "id": "kN2ic39WlKpl"
   },
   "source": [
    "| cohort_dt | session_date | users_cnt | cohort_users_cnt | retention_rate |\n",
    "| --- | --- | --- | --- | --- |\n",
    "| 2008-07-01 00:00:00 | 2008-07-01 00:00:00 | 3 | 3 | 100 |\n",
    "| 2008-07-01 00:00:00 | 2008-08-01 00:00:00 | 2 | 3 | 66,67 |\n",
    "| 2008-07-01 00:00:00 | 2008-09-01 00:00:00 | 1 | 3 | 33,33 |\n",
    "| 2008-07-01 00:00:00 | 2008-10-01 00:00:00 | 2 | 3 | 66,67 |\n",
    "| 2008-07-01 00:00:00 | 2008-11-01 00:00:00 | 1 | 3 | 33,33 |\n",
    "| 2008-07-01 00:00:00 | 2008-12-01 00:00:00 | 2 | 3 | 66,67 |\n",
    "| 2008-08-01 00:00:00 | 2008-08-01 00:00:00 | 2151 | 2151 | 100 |\n",
    "| ... | ... | ... | ... | ... |"
   ]
  },
  {
   "cell_type": "code",
   "execution_count": 17,
   "metadata": {
    "id": "LUgFmwmTDWLB"
   },
   "outputs": [
    {
     "data": {
      "text/html": [
       "<div>\n",
       "<style scoped>\n",
       "    .dataframe tbody tr th:only-of-type {\n",
       "        vertical-align: middle;\n",
       "    }\n",
       "\n",
       "    .dataframe tbody tr th {\n",
       "        vertical-align: top;\n",
       "    }\n",
       "\n",
       "    .dataframe thead th {\n",
       "        text-align: right;\n",
       "    }\n",
       "</style>\n",
       "<table border=\"1\" class=\"dataframe\">\n",
       "  <thead>\n",
       "    <tr style=\"text-align: right;\">\n",
       "      <th></th>\n",
       "      <th>cohort_dt</th>\n",
       "      <th>session_date</th>\n",
       "      <th>users_cnt</th>\n",
       "      <th>cohort_users_cnt</th>\n",
       "      <th>retention_rate</th>\n",
       "    </tr>\n",
       "  </thead>\n",
       "  <tbody>\n",
       "    <tr>\n",
       "      <th>0</th>\n",
       "      <td>2008-07-01 00:00:00+04:00</td>\n",
       "      <td>2008-07-01 00:00:00+04:00</td>\n",
       "      <td>3</td>\n",
       "      <td>3</td>\n",
       "      <td>100.00</td>\n",
       "    </tr>\n",
       "    <tr>\n",
       "      <th>1</th>\n",
       "      <td>2008-07-01 00:00:00+04:00</td>\n",
       "      <td>2008-08-01 00:00:00+04:00</td>\n",
       "      <td>2</td>\n",
       "      <td>3</td>\n",
       "      <td>66.67</td>\n",
       "    </tr>\n",
       "    <tr>\n",
       "      <th>2</th>\n",
       "      <td>2008-07-01 00:00:00+04:00</td>\n",
       "      <td>2008-09-01 00:00:00+04:00</td>\n",
       "      <td>1</td>\n",
       "      <td>3</td>\n",
       "      <td>33.33</td>\n",
       "    </tr>\n",
       "    <tr>\n",
       "      <th>3</th>\n",
       "      <td>2008-07-01 00:00:00+04:00</td>\n",
       "      <td>2008-10-01 00:00:00+04:00</td>\n",
       "      <td>2</td>\n",
       "      <td>3</td>\n",
       "      <td>66.67</td>\n",
       "    </tr>\n",
       "    <tr>\n",
       "      <th>4</th>\n",
       "      <td>2008-07-01 00:00:00+04:00</td>\n",
       "      <td>2008-11-01 00:00:00+03:00</td>\n",
       "      <td>1</td>\n",
       "      <td>3</td>\n",
       "      <td>33.33</td>\n",
       "    </tr>\n",
       "    <tr>\n",
       "      <th>5</th>\n",
       "      <td>2008-07-01 00:00:00+04:00</td>\n",
       "      <td>2008-12-01 00:00:00+03:00</td>\n",
       "      <td>2</td>\n",
       "      <td>3</td>\n",
       "      <td>66.67</td>\n",
       "    </tr>\n",
       "    <tr>\n",
       "      <th>6</th>\n",
       "      <td>2008-08-01 00:00:00+04:00</td>\n",
       "      <td>2008-08-01 00:00:00+04:00</td>\n",
       "      <td>2151</td>\n",
       "      <td>2151</td>\n",
       "      <td>100.00</td>\n",
       "    </tr>\n",
       "    <tr>\n",
       "      <th>7</th>\n",
       "      <td>2008-08-01 00:00:00+04:00</td>\n",
       "      <td>2008-09-01 00:00:00+04:00</td>\n",
       "      <td>1571</td>\n",
       "      <td>2151</td>\n",
       "      <td>73.04</td>\n",
       "    </tr>\n",
       "    <tr>\n",
       "      <th>8</th>\n",
       "      <td>2008-08-01 00:00:00+04:00</td>\n",
       "      <td>2008-10-01 00:00:00+04:00</td>\n",
       "      <td>1275</td>\n",
       "      <td>2151</td>\n",
       "      <td>59.27</td>\n",
       "    </tr>\n",
       "    <tr>\n",
       "      <th>9</th>\n",
       "      <td>2008-08-01 00:00:00+04:00</td>\n",
       "      <td>2008-11-01 00:00:00+03:00</td>\n",
       "      <td>1050</td>\n",
       "      <td>2151</td>\n",
       "      <td>48.81</td>\n",
       "    </tr>\n",
       "    <tr>\n",
       "      <th>10</th>\n",
       "      <td>2008-08-01 00:00:00+04:00</td>\n",
       "      <td>2008-12-01 00:00:00+03:00</td>\n",
       "      <td>894</td>\n",
       "      <td>2151</td>\n",
       "      <td>41.56</td>\n",
       "    </tr>\n",
       "    <tr>\n",
       "      <th>11</th>\n",
       "      <td>2008-09-01 00:00:00+04:00</td>\n",
       "      <td>2008-09-01 00:00:00+04:00</td>\n",
       "      <td>7678</td>\n",
       "      <td>7678</td>\n",
       "      <td>100.00</td>\n",
       "    </tr>\n",
       "    <tr>\n",
       "      <th>12</th>\n",
       "      <td>2008-09-01 00:00:00+04:00</td>\n",
       "      <td>2008-10-01 00:00:00+04:00</td>\n",
       "      <td>4132</td>\n",
       "      <td>7678</td>\n",
       "      <td>53.82</td>\n",
       "    </tr>\n",
       "    <tr>\n",
       "      <th>13</th>\n",
       "      <td>2008-09-01 00:00:00+04:00</td>\n",
       "      <td>2008-11-01 00:00:00+03:00</td>\n",
       "      <td>2966</td>\n",
       "      <td>7678</td>\n",
       "      <td>38.63</td>\n",
       "    </tr>\n",
       "    <tr>\n",
       "      <th>14</th>\n",
       "      <td>2008-09-01 00:00:00+04:00</td>\n",
       "      <td>2008-12-01 00:00:00+03:00</td>\n",
       "      <td>2500</td>\n",
       "      <td>7678</td>\n",
       "      <td>32.56</td>\n",
       "    </tr>\n",
       "    <tr>\n",
       "      <th>15</th>\n",
       "      <td>2008-10-01 00:00:00+04:00</td>\n",
       "      <td>2008-10-01 00:00:00+04:00</td>\n",
       "      <td>3629</td>\n",
       "      <td>3629</td>\n",
       "      <td>100.00</td>\n",
       "    </tr>\n",
       "    <tr>\n",
       "      <th>16</th>\n",
       "      <td>2008-10-01 00:00:00+04:00</td>\n",
       "      <td>2008-11-01 00:00:00+03:00</td>\n",
       "      <td>1640</td>\n",
       "      <td>3629</td>\n",
       "      <td>45.19</td>\n",
       "    </tr>\n",
       "    <tr>\n",
       "      <th>17</th>\n",
       "      <td>2008-10-01 00:00:00+04:00</td>\n",
       "      <td>2008-12-01 00:00:00+03:00</td>\n",
       "      <td>1221</td>\n",
       "      <td>3629</td>\n",
       "      <td>33.65</td>\n",
       "    </tr>\n",
       "    <tr>\n",
       "      <th>18</th>\n",
       "      <td>2008-11-01 00:00:00+03:00</td>\n",
       "      <td>2008-11-01 00:00:00+03:00</td>\n",
       "      <td>2852</td>\n",
       "      <td>2852</td>\n",
       "      <td>100.00</td>\n",
       "    </tr>\n",
       "    <tr>\n",
       "      <th>19</th>\n",
       "      <td>2008-11-01 00:00:00+03:00</td>\n",
       "      <td>2008-12-01 00:00:00+03:00</td>\n",
       "      <td>1151</td>\n",
       "      <td>2852</td>\n",
       "      <td>40.36</td>\n",
       "    </tr>\n",
       "    <tr>\n",
       "      <th>20</th>\n",
       "      <td>2008-12-01 00:00:00+03:00</td>\n",
       "      <td>2008-12-01 00:00:00+03:00</td>\n",
       "      <td>2536</td>\n",
       "      <td>2536</td>\n",
       "      <td>100.00</td>\n",
       "    </tr>\n",
       "  </tbody>\n",
       "</table>\n",
       "</div>"
      ],
      "text/plain": [
       "                    cohort_dt               session_date  users_cnt  \\\n",
       "0   2008-07-01 00:00:00+04:00  2008-07-01 00:00:00+04:00          3   \n",
       "1   2008-07-01 00:00:00+04:00  2008-08-01 00:00:00+04:00          2   \n",
       "2   2008-07-01 00:00:00+04:00  2008-09-01 00:00:00+04:00          1   \n",
       "3   2008-07-01 00:00:00+04:00  2008-10-01 00:00:00+04:00          2   \n",
       "4   2008-07-01 00:00:00+04:00  2008-11-01 00:00:00+03:00          1   \n",
       "5   2008-07-01 00:00:00+04:00  2008-12-01 00:00:00+03:00          2   \n",
       "6   2008-08-01 00:00:00+04:00  2008-08-01 00:00:00+04:00       2151   \n",
       "7   2008-08-01 00:00:00+04:00  2008-09-01 00:00:00+04:00       1571   \n",
       "8   2008-08-01 00:00:00+04:00  2008-10-01 00:00:00+04:00       1275   \n",
       "9   2008-08-01 00:00:00+04:00  2008-11-01 00:00:00+03:00       1050   \n",
       "10  2008-08-01 00:00:00+04:00  2008-12-01 00:00:00+03:00        894   \n",
       "11  2008-09-01 00:00:00+04:00  2008-09-01 00:00:00+04:00       7678   \n",
       "12  2008-09-01 00:00:00+04:00  2008-10-01 00:00:00+04:00       4132   \n",
       "13  2008-09-01 00:00:00+04:00  2008-11-01 00:00:00+03:00       2966   \n",
       "14  2008-09-01 00:00:00+04:00  2008-12-01 00:00:00+03:00       2500   \n",
       "15  2008-10-01 00:00:00+04:00  2008-10-01 00:00:00+04:00       3629   \n",
       "16  2008-10-01 00:00:00+04:00  2008-11-01 00:00:00+03:00       1640   \n",
       "17  2008-10-01 00:00:00+04:00  2008-12-01 00:00:00+03:00       1221   \n",
       "18  2008-11-01 00:00:00+03:00  2008-11-01 00:00:00+03:00       2852   \n",
       "19  2008-11-01 00:00:00+03:00  2008-12-01 00:00:00+03:00       1151   \n",
       "20  2008-12-01 00:00:00+03:00  2008-12-01 00:00:00+03:00       2536   \n",
       "\n",
       "    cohort_users_cnt  retention_rate  \n",
       "0                  3          100.00  \n",
       "1                  3           66.67  \n",
       "2                  3           33.33  \n",
       "3                  3           66.67  \n",
       "4                  3           33.33  \n",
       "5                  3           66.67  \n",
       "6               2151          100.00  \n",
       "7               2151           73.04  \n",
       "8               2151           59.27  \n",
       "9               2151           48.81  \n",
       "10              2151           41.56  \n",
       "11              7678          100.00  \n",
       "12              7678           53.82  \n",
       "13              7678           38.63  \n",
       "14              7678           32.56  \n",
       "15              3629          100.00  \n",
       "16              3629           45.19  \n",
       "17              3629           33.65  \n",
       "18              2852          100.00  \n",
       "19              2852           40.36  \n",
       "20              2536          100.00  "
      ]
     },
     "execution_count": 17,
     "metadata": {},
     "output_type": "execute_result"
    }
   ],
   "source": [
    "# напишите запрос\n",
    "query = '''\n",
    "with rr as(\n",
    "select\n",
    "distinct user_id,\n",
    "first_value(date_trunc('month', cast(creation_date as date))) over(partition by user_id order by date_trunc('month', cast(creation_date as date))) as cohort_dt\n",
    "from stackoverflow.posts\n",
    "),\n",
    "profile as (\n",
    "select\n",
    "distinct user_id,\n",
    "cohort_dt,\n",
    "count(user_id) over (partition by cohort_dt) as cohort_users_cnt\n",
    "from rr),\n",
    "sessions as (\n",
    "select\n",
    "user_id,\n",
    "date_trunc('month', cast(creation_date as date)) as session_date\n",
    "from stackoverflow.posts\n",
    "group by 1, 2\n",
    ")\n",
    "select\n",
    "p.cohort_dt,\n",
    "s.session_date,\n",
    "count(p.user_id) as users_cnt,\n",
    "cohort_users_cnt,\n",
    "round(count(p.user_id) * 100.0 / cohort_users_cnt, 2) as retention_rate\n",
    "from profile p join sessions s on p.user_id = s.user_id\n",
    "group by 1, 2, 4\n",
    "\n",
    " \n",
    "\n",
    "'''\n",
    "\n",
    "# выполните запрос\n",
    "sample_df = pd.read_sql_query(query, con=engine)\n",
    "sample_df"
   ]
  },
  {
   "cell_type": "markdown",
   "metadata": {
    "id": "_msBtnb2DWLC"
   },
   "source": [
    "Постройте тепловую карту Retention Rate. Какие аномалии или другие необычные явления удалось выявить? Сформулируйте гипотезы о возможных причинах."
   ]
  },
  {
   "cell_type": "code",
   "execution_count": 18,
   "metadata": {
    "id": "qAEJc8H1DWLC"
   },
   "outputs": [
    {
     "data": {
      "image/png": "[encoded data removed]",
      "text/plain": [
       "<Figure size 1152x1152 with 2 Axes>"
      ]
     },
     "metadata": {
      "needs_background": "light"
     },
     "output_type": "display_data"
    }
   ],
   "source": [
    "# постройте тепловую карту Retention Rate\n",
    "import seaborn as sns\n",
    "retention = sample_df.pivot('cohort_dt', 'session_date', 'retention_rate')\n",
    "retention.index = [str(x)[0:10] for x in retention.index]\n",
    "retention.columns = [str(x)[0:10] for x in retention.columns]\n",
    "\n",
    "# строим хитмэп\n",
    "plt.figure(figsize=(16, 16)) # задаём размер графика\n",
    "sns.heatmap(retention, # датафрейм с данными\n",
    "            annot=True, # добавляем подписи\n",
    "            fmt='') # задаём исходный формат\n",
    "plt.title('Тепловая карта') # название графика\n",
    "plt.show() "
   ]
  },
  {
   "cell_type": "markdown",
   "metadata": {
    "id": "EgOfIsI4DWLC"
   },
   "source": [
    "# опишите аномалии или другие необычные явления и сформулируйте гипотезы\n",
    "видно аномалии в данных пользователей когорты за июль. В данных нет плавного снижения кол-ва пользователей. Так же видно что данные в этой когорте поочередно повторяются.\n",
    "Данные проблемы могут возникнуть из-за сбоев в отслеживании данной когорты. Например неправильно сохранены их данные, возможно данные пострадали при копировании. Очень похоже на то что данные за два месяца продуюлировались на весь рассматриваемый период"
   ]
  },
  {
   "cell_type": "markdown",
   "metadata": {
    "id": "1k7oPWt5DWLK"
   },
   "source": [
    "# Задание 9\n"
   ]
  },
  {
   "cell_type": "markdown",
   "metadata": {
    "id": "ALsYVSyRDWLM"
   },
   "source": [
    "На сколько процентов менялось количество постов ежемесячно с 1 сентября по 31 декабря 2008 года? Отобразите таблицу со следующими полями:\n",
    "\n",
    "- номер месяца;\n",
    "- количество постов за месяц;\n",
    "- процент, который показывает, насколько изменилось количество постов в текущем месяце по сравнению с предыдущим.\n",
    "\n",
    "Если постов стало меньше, значение процента должно быть отрицательным, если больше — положительным. Округлите значение процента до двух знаков после запятой.\n",
    "\n",
    "Напомним, что при делении одного целого числа на другое в PostgreSQL в результате получится целое число, округлённое до ближайшего целого вниз. Чтобы этого избежать, переведите делимое в тип `numeric`."
   ]
  },
  {
   "cell_type": "markdown",
   "metadata": {
    "id": "u4E2zF8DDWLM"
   },
   "source": [
    "| creation_month | posts_count | percentage |\n",
    "| -------------- | ----------- | ---------- |\n",
    "| 9 | 70731 | Nan |\n",
    "| 10 | 63102 | -10.33 |\n",
    "| ... | ... | ... |"
   ]
  },
  {
   "cell_type": "code",
   "execution_count": 19,
   "metadata": {
    "id": "Mb5pShStDWLN"
   },
   "outputs": [
    {
     "data": {
      "text/html": [
       "<div>\n",
       "<style scoped>\n",
       "    .dataframe tbody tr th:only-of-type {\n",
       "        vertical-align: middle;\n",
       "    }\n",
       "\n",
       "    .dataframe tbody tr th {\n",
       "        vertical-align: top;\n",
       "    }\n",
       "\n",
       "    .dataframe thead th {\n",
       "        text-align: right;\n",
       "    }\n",
       "</style>\n",
       "<table border=\"1\" class=\"dataframe\">\n",
       "  <thead>\n",
       "    <tr style=\"text-align: right;\">\n",
       "      <th></th>\n",
       "      <th>creation_month</th>\n",
       "      <th>posts_count</th>\n",
       "      <th>percentage</th>\n",
       "    </tr>\n",
       "  </thead>\n",
       "  <tbody>\n",
       "    <tr>\n",
       "      <th>0</th>\n",
       "      <td>9.0</td>\n",
       "      <td>70371</td>\n",
       "      <td>NaN</td>\n",
       "    </tr>\n",
       "    <tr>\n",
       "      <th>1</th>\n",
       "      <td>10.0</td>\n",
       "      <td>63102</td>\n",
       "      <td>-10.33</td>\n",
       "    </tr>\n",
       "    <tr>\n",
       "      <th>2</th>\n",
       "      <td>11.0</td>\n",
       "      <td>46975</td>\n",
       "      <td>-25.56</td>\n",
       "    </tr>\n",
       "    <tr>\n",
       "      <th>3</th>\n",
       "      <td>12.0</td>\n",
       "      <td>44592</td>\n",
       "      <td>-5.07</td>\n",
       "    </tr>\n",
       "  </tbody>\n",
       "</table>\n",
       "</div>"
      ],
      "text/plain": [
       "   creation_month  posts_count  percentage\n",
       "0             9.0        70371         NaN\n",
       "1            10.0        63102      -10.33\n",
       "2            11.0        46975      -25.56\n",
       "3            12.0        44592       -5.07"
      ]
     },
     "execution_count": 19,
     "metadata": {},
     "output_type": "execute_result"
    }
   ],
   "source": [
    "# напишите запрос\n",
    "query = '''\n",
    "with rr as (select \n",
    "  distinct extract(month from cast(creation_date as date)) as creation_month,\n",
    "  count(id) over (partition by extract(month from cast(creation_date as date))) as posts_count\n",
    "  from stackoverflow.posts\n",
    "  where cast(creation_date as date) between '2008-09-01' and '2008-12-31'),\n",
    "  rs as (select\n",
    "  creation_month,\n",
    "  posts_count,\n",
    "  lag(posts_count, 1, NULL) over(order by creation_month) as last_posts_count\n",
    "  from rr)\n",
    "  select\n",
    "  creation_month,\n",
    "  posts_count,\n",
    "  round(((last_posts_count::numeric - posts_count) / last_posts_count::numeric) * 100, 2) * -1 as percentage\n",
    "  from rs\n",
    "'''\n",
    "sample_df = pd.read_sql_query(query, con=engine)\n",
    "sample_df\n",
    "# выполните запрос"
   ]
  },
  {
   "cell_type": "markdown",
   "metadata": {
    "id": "9NQE2y_MDWLP"
   },
   "source": [
    "Постройте круговую диаграмму с количеством постов по месяцам."
   ]
  },
  {
   "cell_type": "code",
   "execution_count": 20,
   "metadata": {
    "id": "377ABjiVDWLP"
   },
   "outputs": [
    {
     "data": {
      "image/png": "[encoded data removed]",
      "text/plain": [
       "<Figure size 432x432 with 1 Axes>"
      ]
     },
     "metadata": {},
     "output_type": "display_data"
    }
   ],
   "source": [
    "# постройте круговую диаграмму с количеством постов по месяцам\n",
    "sample_df1 = sample_df[['creation_month','posts_count']]\n",
    "sample_df1['posts_count'].plot(kind='pie', figsize=(6,6), y=['creation_month'], subplots=True, autopct='%1.1f%%')\n",
    "plt.show()"
   ]
  },
  {
   "cell_type": "markdown",
   "metadata": {
    "id": "uw7qMtafDWLP"
   },
   "source": [
    "# Задание 10"
   ]
  },
  {
   "cell_type": "markdown",
   "metadata": {
    "id": "oRBpWKx3DWLQ"
   },
   "source": [
    "Выгрузите данные активности пользователя, который опубликовал больше всего постов за всё время. Выведите данные за октябрь 2008 года в таком виде:\n",
    "\n",
    "- номер недели;\n",
    "- дата и время последнего поста, опубликованного на этой неделе."
   ]
  },
  {
   "cell_type": "markdown",
   "metadata": {
    "id": "XjAWSn_3DWLQ"
   },
   "source": [
    "| week_creation | creation_date |\n",
    "| ------------- | ------------- |\n",
    "| 40 | 2008-10-05 09:00:58 |\n",
    "| 41 | 2008-10-12 21:22:23 |\n",
    "| ... | ... |"
   ]
  },
  {
   "cell_type": "code",
   "execution_count": 21,
   "metadata": {
    "id": "r5F5fSkwDWLQ"
   },
   "outputs": [
    {
     "data": {
      "text/html": [
       "<div>\n",
       "<style scoped>\n",
       "    .dataframe tbody tr th:only-of-type {\n",
       "        vertical-align: middle;\n",
       "    }\n",
       "\n",
       "    .dataframe tbody tr th {\n",
       "        vertical-align: top;\n",
       "    }\n",
       "\n",
       "    .dataframe thead th {\n",
       "        text-align: right;\n",
       "    }\n",
       "</style>\n",
       "<table border=\"1\" class=\"dataframe\">\n",
       "  <thead>\n",
       "    <tr style=\"text-align: right;\">\n",
       "      <th></th>\n",
       "      <th>date_part</th>\n",
       "      <th>max</th>\n",
       "    </tr>\n",
       "  </thead>\n",
       "  <tbody>\n",
       "    <tr>\n",
       "      <th>0</th>\n",
       "      <td>40.0</td>\n",
       "      <td>2008-10-05 09:00:58</td>\n",
       "    </tr>\n",
       "    <tr>\n",
       "      <th>1</th>\n",
       "      <td>41.0</td>\n",
       "      <td>2008-10-12 21:22:23</td>\n",
       "    </tr>\n",
       "    <tr>\n",
       "      <th>2</th>\n",
       "      <td>42.0</td>\n",
       "      <td>2008-10-19 06:49:30</td>\n",
       "    </tr>\n",
       "    <tr>\n",
       "      <th>3</th>\n",
       "      <td>43.0</td>\n",
       "      <td>2008-10-26 21:44:36</td>\n",
       "    </tr>\n",
       "    <tr>\n",
       "      <th>4</th>\n",
       "      <td>44.0</td>\n",
       "      <td>2008-10-31 22:16:01</td>\n",
       "    </tr>\n",
       "  </tbody>\n",
       "</table>\n",
       "</div>"
      ],
      "text/plain": [
       "   date_part                 max\n",
       "0       40.0 2008-10-05 09:00:58\n",
       "1       41.0 2008-10-12 21:22:23\n",
       "2       42.0 2008-10-19 06:49:30\n",
       "3       43.0 2008-10-26 21:44:36\n",
       "4       44.0 2008-10-31 22:16:01"
      ]
     },
     "execution_count": 21,
     "metadata": {},
     "output_type": "execute_result"
    }
   ],
   "source": [
    "# напишите запрос\n",
    "query = '''\n",
    "with rr as (\n",
    "    select\n",
    "    user_id,\n",
    "    count(id)\n",
    "    from stackoverflow.posts\n",
    "    group by 1\n",
    "    order by 2 desc limit 1\n",
    ")\n",
    "select\n",
    "    distinct extract(week from cast(p.creation_date as date)),\n",
    "    max(p.creation_date)\n",
    "    from stackoverflow.posts p\n",
    "    inner join rr r on r.user_id = p.user_id\n",
    "    where cast(creation_date as date) between '2008-10-01' and '2008-10-31'\n",
    "    group by extract(week from cast(p.creation_date as date))\n",
    "    order by 1, 2\n",
    "'''\n",
    "\n",
    "# выполните запрос\n",
    "sample_df = pd.read_sql_query(query, con=engine)\n",
    "sample_df"
   ]
  }
 ],
 "metadata": {
  "ExecuteTimeLog": [
   {
    "duration": 2,
    "start_time": "2022-08-29T07:23:28.762Z"
   },
   {
    "duration": 3,
    "start_time": "2022-08-29T07:23:29.534Z"
   },
   {
    "duration": 3,
    "start_time": "2022-08-29T07:23:30.502Z"
   },
   {
    "duration": 231,
    "start_time": "2022-08-29T07:23:31.474Z"
   },
   {
    "duration": 12,
    "start_time": "2022-08-29T07:23:32.577Z"
   },
   {
    "duration": 200,
    "start_time": "2022-08-29T07:23:37.660Z"
   },
   {
    "duration": 633,
    "start_time": "2022-08-29T07:24:09.688Z"
   },
   {
    "duration": 459,
    "start_time": "2022-08-29T07:24:29.204Z"
   },
   {
    "duration": 66,
    "start_time": "2022-08-29T07:25:42.360Z"
   },
   {
    "duration": 62,
    "start_time": "2022-08-29T07:26:18.985Z"
   },
   {
    "duration": 802,
    "start_time": "2022-08-29T07:26:24.653Z"
   },
   {
    "duration": 46,
    "start_time": "2022-08-29T08:45:40.376Z"
   },
   {
    "duration": 819,
    "start_time": "2022-08-29T08:45:45.270Z"
   },
   {
    "duration": 3,
    "start_time": "2022-08-29T08:45:46.091Z"
   },
   {
    "duration": 6169,
    "start_time": "2022-08-29T08:45:46.810Z"
   },
   {
    "duration": 218,
    "start_time": "2022-08-29T08:45:52.981Z"
   },
   {
    "duration": 15,
    "start_time": "2022-08-29T08:45:53.200Z"
   },
   {
    "duration": 166,
    "start_time": "2022-08-29T08:45:53.217Z"
   },
   {
    "duration": 228,
    "start_time": "2022-08-29T08:46:05.921Z"
   },
   {
    "duration": 103,
    "start_time": "2022-08-29T08:47:06.440Z"
   },
   {
    "duration": 115,
    "start_time": "2022-08-29T08:47:21.647Z"
   },
   {
    "duration": 239,
    "start_time": "2022-08-29T08:47:35.055Z"
   },
   {
    "duration": 3,
    "start_time": "2022-08-29T11:38:39.680Z"
   },
   {
    "duration": 3,
    "start_time": "2022-08-29T11:38:40.260Z"
   },
   {
    "duration": 4,
    "start_time": "2022-08-29T11:38:41.483Z"
   },
   {
    "duration": 215,
    "start_time": "2022-08-29T11:38:42.738Z"
   },
   {
    "duration": 11,
    "start_time": "2022-08-29T11:38:43.437Z"
   },
   {
    "duration": 263,
    "start_time": "2022-08-29T11:38:47.809Z"
   },
   {
    "duration": 113,
    "start_time": "2022-08-29T11:51:45.713Z"
   },
   {
    "duration": 720,
    "start_time": "2022-08-29T11:51:53.336Z"
   },
   {
    "duration": 93,
    "start_time": "2022-08-29T11:52:04.728Z"
   },
   {
    "duration": 723,
    "start_time": "2022-08-29T11:52:44.429Z"
   },
   {
    "duration": 554,
    "start_time": "2022-08-29T11:54:39.909Z"
   },
   {
    "duration": 131,
    "start_time": "2022-08-29T12:52:01.880Z"
   },
   {
    "duration": 114,
    "start_time": "2022-08-29T12:53:05.133Z"
   },
   {
    "duration": 250,
    "start_time": "2022-08-29T12:54:26.024Z"
   },
   {
    "duration": 203,
    "start_time": "2022-08-29T12:54:48.363Z"
   },
   {
    "duration": 227,
    "start_time": "2022-08-29T12:55:16.797Z"
   },
   {
    "duration": 186,
    "start_time": "2022-08-29T12:56:45.352Z"
   },
   {
    "duration": 258,
    "start_time": "2022-08-29T12:57:32.068Z"
   },
   {
    "duration": 215,
    "start_time": "2022-08-29T12:57:37.580Z"
   },
   {
    "duration": 280,
    "start_time": "2022-08-29T13:00:17.858Z"
   },
   {
    "duration": 219,
    "start_time": "2022-08-29T13:00:23.835Z"
   },
   {
    "duration": 186,
    "start_time": "2022-08-29T13:08:19.379Z"
   },
   {
    "duration": 102,
    "start_time": "2022-08-29T13:08:29.355Z"
   },
   {
    "duration": 140,
    "start_time": "2022-08-29T13:08:36.741Z"
   },
   {
    "duration": 207,
    "start_time": "2022-08-29T13:09:06.279Z"
   },
   {
    "duration": 204,
    "start_time": "2022-08-29T13:09:18.788Z"
   },
   {
    "duration": 121,
    "start_time": "2022-08-29T13:16:37.734Z"
   },
   {
    "duration": 152,
    "start_time": "2022-08-29T13:17:03.694Z"
   },
   {
    "duration": 116,
    "start_time": "2022-08-29T13:17:41.198Z"
   },
   {
    "duration": 1175,
    "start_time": "2022-08-29T13:18:07.245Z"
   },
   {
    "duration": 753,
    "start_time": "2022-08-29T13:20:42.780Z"
   },
   {
    "duration": 196,
    "start_time": "2022-08-29T13:21:00.573Z"
   },
   {
    "duration": 126,
    "start_time": "2022-08-29T13:22:38.237Z"
   },
   {
    "duration": 125,
    "start_time": "2022-08-29T13:23:27.538Z"
   },
   {
    "duration": 251,
    "start_time": "2022-08-29T13:23:50.617Z"
   },
   {
    "duration": 104,
    "start_time": "2022-08-29T14:01:40.444Z"
   },
   {
    "duration": 161,
    "start_time": "2022-08-29T14:02:48.840Z"
   },
   {
    "duration": 147,
    "start_time": "2022-08-29T14:03:42.108Z"
   },
   {
    "duration": 120,
    "start_time": "2022-08-29T14:04:02.626Z"
   },
   {
    "duration": 203,
    "start_time": "2022-08-29T14:04:40.036Z"
   },
   {
    "duration": 1194,
    "start_time": "2022-08-29T14:05:01.906Z"
   },
   {
    "duration": 1175,
    "start_time": "2022-08-29T14:05:21.642Z"
   },
   {
    "duration": 363,
    "start_time": "2022-08-29T14:05:39.056Z"
   },
   {
    "duration": 1128,
    "start_time": "2022-08-29T14:05:46.967Z"
   },
   {
    "duration": 757,
    "start_time": "2022-08-30T08:47:24.904Z"
   },
   {
    "duration": 3,
    "start_time": "2022-08-30T08:47:25.746Z"
   },
   {
    "duration": 11394,
    "start_time": "2022-08-30T08:47:26.657Z"
   },
   {
    "duration": 52,
    "start_time": "2022-08-30T08:47:38.053Z"
   },
   {
    "duration": 14,
    "start_time": "2022-08-30T08:47:38.106Z"
   },
   {
    "duration": 279,
    "start_time": "2022-08-30T08:47:39.707Z"
   },
   {
    "duration": 3,
    "start_time": "2022-08-30T08:47:42.608Z"
   },
   {
    "duration": 222,
    "start_time": "2022-08-30T08:47:46.453Z"
   },
   {
    "duration": 2,
    "start_time": "2022-08-30T08:47:52.580Z"
   },
   {
    "duration": 982,
    "start_time": "2022-08-30T08:47:54.069Z"
   },
   {
    "duration": 151,
    "start_time": "2022-08-30T09:00:06.524Z"
   },
   {
    "duration": 103,
    "start_time": "2022-08-30T09:00:19.162Z"
   },
   {
    "duration": 91,
    "start_time": "2022-08-30T09:01:16.115Z"
   },
   {
    "duration": 102,
    "start_time": "2022-08-30T09:01:23.622Z"
   },
   {
    "duration": 104,
    "start_time": "2022-08-30T09:01:41.431Z"
   },
   {
    "duration": 132,
    "start_time": "2022-08-30T09:01:55.721Z"
   },
   {
    "duration": 97,
    "start_time": "2022-08-30T09:02:03.320Z"
   },
   {
    "duration": 106,
    "start_time": "2022-08-30T09:02:20.278Z"
   },
   {
    "duration": 1864,
    "start_time": "2022-08-30T09:02:30.970Z"
   },
   {
    "duration": 1744,
    "start_time": "2022-08-30T09:03:49.572Z"
   },
   {
    "duration": 171,
    "start_time": "2022-08-30T09:09:21.844Z"
   },
   {
    "duration": 240,
    "start_time": "2022-08-30T09:11:33.189Z"
   },
   {
    "duration": 173,
    "start_time": "2022-08-30T09:12:27.056Z"
   },
   {
    "duration": 211,
    "start_time": "2022-08-30T09:12:49.268Z"
   },
   {
    "duration": 202,
    "start_time": "2022-08-30T09:17:22.449Z"
   },
   {
    "duration": 155,
    "start_time": "2022-08-30T09:17:33.656Z"
   },
   {
    "duration": 182,
    "start_time": "2022-08-30T09:18:04.523Z"
   },
   {
    "duration": 130,
    "start_time": "2022-08-30T09:59:30.608Z"
   },
   {
    "duration": 203,
    "start_time": "2022-08-30T09:59:39.286Z"
   },
   {
    "duration": 86,
    "start_time": "2022-08-30T10:06:14.786Z"
   },
   {
    "duration": 89,
    "start_time": "2022-08-30T10:06:32.204Z"
   },
   {
    "duration": 0,
    "start_time": "2022-08-30T10:11:11.978Z"
   },
   {
    "duration": 3,
    "start_time": "2022-08-30T10:11:24.442Z"
   },
   {
    "duration": 3,
    "start_time": "2022-08-30T10:11:25.268Z"
   },
   {
    "duration": 4,
    "start_time": "2022-08-30T10:11:26.818Z"
   },
   {
    "duration": 52,
    "start_time": "2022-08-30T10:11:27.937Z"
   },
   {
    "duration": 9,
    "start_time": "2022-08-30T10:11:28.452Z"
   },
   {
    "duration": 280,
    "start_time": "2022-08-30T10:11:30.667Z"
   },
   {
    "duration": 2,
    "start_time": "2022-08-30T10:11:32.044Z"
   },
   {
    "duration": 164,
    "start_time": "2022-08-30T10:11:33.365Z"
   },
   {
    "duration": 2,
    "start_time": "2022-08-30T10:11:35.076Z"
   },
   {
    "duration": 706,
    "start_time": "2022-08-30T10:12:18.101Z"
   },
   {
    "duration": 4,
    "start_time": "2022-08-30T10:12:18.809Z"
   },
   {
    "duration": 9182,
    "start_time": "2022-08-30T10:12:18.815Z"
   },
   {
    "duration": 99,
    "start_time": "2022-08-30T10:12:27.999Z"
   },
   {
    "duration": 12,
    "start_time": "2022-08-30T10:12:28.100Z"
   },
   {
    "duration": 285,
    "start_time": "2022-08-30T10:12:28.113Z"
   },
   {
    "duration": 3,
    "start_time": "2022-08-30T10:12:28.400Z"
   },
   {
    "duration": 186,
    "start_time": "2022-08-30T10:12:28.404Z"
   },
   {
    "duration": 2,
    "start_time": "2022-08-30T10:12:28.592Z"
   },
   {
    "duration": 165,
    "start_time": "2022-08-30T10:12:28.596Z"
   },
   {
    "duration": 0,
    "start_time": "2022-08-30T10:12:28.763Z"
   },
   {
    "duration": 0,
    "start_time": "2022-08-30T10:12:28.764Z"
   },
   {
    "duration": 0,
    "start_time": "2022-08-30T10:12:28.765Z"
   },
   {
    "duration": 0,
    "start_time": "2022-08-30T10:12:28.765Z"
   },
   {
    "duration": 0,
    "start_time": "2022-08-30T10:12:28.768Z"
   },
   {
    "duration": 0,
    "start_time": "2022-08-30T10:12:28.769Z"
   },
   {
    "duration": 0,
    "start_time": "2022-08-30T10:12:28.770Z"
   },
   {
    "duration": 0,
    "start_time": "2022-08-30T10:12:28.771Z"
   },
   {
    "duration": 0,
    "start_time": "2022-08-30T10:12:28.772Z"
   },
   {
    "duration": 0,
    "start_time": "2022-08-30T10:12:28.773Z"
   },
   {
    "duration": 0,
    "start_time": "2022-08-30T10:12:28.774Z"
   },
   {
    "duration": 0,
    "start_time": "2022-08-30T10:12:28.775Z"
   },
   {
    "duration": 246,
    "start_time": "2022-08-30T10:13:05.892Z"
   },
   {
    "duration": 2,
    "start_time": "2022-08-30T10:30:35.093Z"
   },
   {
    "duration": 3,
    "start_time": "2022-08-30T10:30:57.858Z"
   },
   {
    "duration": 1046,
    "start_time": "2022-08-30T10:31:08.141Z"
   },
   {
    "duration": 1142,
    "start_time": "2022-08-30T10:31:33.265Z"
   },
   {
    "duration": 1130,
    "start_time": "2022-08-30T10:31:59.555Z"
   },
   {
    "duration": 1103,
    "start_time": "2022-08-30T10:32:06.147Z"
   },
   {
    "duration": 1180,
    "start_time": "2022-08-30T10:33:01.431Z"
   },
   {
    "duration": 3,
    "start_time": "2022-08-30T10:40:16.418Z"
   },
   {
    "duration": 96,
    "start_time": "2022-08-30T10:40:26.120Z"
   },
   {
    "duration": 281,
    "start_time": "2022-08-30T10:40:32.337Z"
   },
   {
    "duration": 219,
    "start_time": "2022-08-30T10:40:35.603Z"
   },
   {
    "duration": 156,
    "start_time": "2022-08-30T10:40:54.170Z"
   },
   {
    "duration": 122,
    "start_time": "2022-08-30T10:41:17.390Z"
   },
   {
    "duration": 156,
    "start_time": "2022-08-30T10:41:34.590Z"
   },
   {
    "duration": 88,
    "start_time": "2022-08-30T10:41:57.530Z"
   },
   {
    "duration": 113,
    "start_time": "2022-08-30T10:42:05.714Z"
   },
   {
    "duration": 94,
    "start_time": "2022-08-30T10:42:20.287Z"
   },
   {
    "duration": 128,
    "start_time": "2022-08-30T10:42:35.670Z"
   },
   {
    "duration": 39,
    "start_time": "2022-08-30T10:43:28.527Z"
   },
   {
    "duration": 37,
    "start_time": "2022-08-30T10:43:43.751Z"
   },
   {
    "duration": 104,
    "start_time": "2022-08-30T10:43:54.370Z"
   },
   {
    "duration": 37,
    "start_time": "2022-08-30T10:43:59.956Z"
   },
   {
    "duration": 92,
    "start_time": "2022-08-30T10:44:42.899Z"
   },
   {
    "duration": 41,
    "start_time": "2022-08-30T10:44:47.215Z"
   },
   {
    "duration": 93,
    "start_time": "2022-08-30T10:45:21.912Z"
   },
   {
    "duration": 131,
    "start_time": "2022-08-30T10:46:11.748Z"
   },
   {
    "duration": 105,
    "start_time": "2022-08-30T10:47:29.188Z"
   },
   {
    "duration": 89,
    "start_time": "2022-08-30T10:47:39.101Z"
   },
   {
    "duration": 5829,
    "start_time": "2022-08-30T10:47:54.323Z"
   },
   {
    "duration": 58,
    "start_time": "2022-08-30T10:48:21.738Z"
   },
   {
    "duration": 49,
    "start_time": "2022-08-30T10:49:16.868Z"
   },
   {
    "duration": 48,
    "start_time": "2022-08-30T10:50:37.400Z"
   },
   {
    "duration": 43,
    "start_time": "2022-08-30T10:50:51.440Z"
   },
   {
    "duration": 825,
    "start_time": "2022-08-30T20:50:17.823Z"
   },
   {
    "duration": 3,
    "start_time": "2022-08-30T20:50:18.650Z"
   },
   {
    "duration": 7905,
    "start_time": "2022-08-30T20:50:18.655Z"
   },
   {
    "duration": 80,
    "start_time": "2022-08-30T20:50:26.562Z"
   },
   {
    "duration": 13,
    "start_time": "2022-08-30T20:50:26.644Z"
   },
   {
    "duration": 10047,
    "start_time": "2022-08-30T20:50:26.659Z"
   },
   {
    "duration": 3,
    "start_time": "2022-08-30T20:50:36.708Z"
   },
   {
    "duration": 4976,
    "start_time": "2022-08-30T20:50:36.713Z"
   },
   {
    "duration": 2,
    "start_time": "2022-08-30T20:50:41.690Z"
   },
   {
    "duration": 775,
    "start_time": "2022-08-30T20:50:41.695Z"
   },
   {
    "duration": 3,
    "start_time": "2022-08-30T20:50:42.472Z"
   },
   {
    "duration": 2121,
    "start_time": "2022-08-30T20:50:42.477Z"
   },
   {
    "duration": 334,
    "start_time": "2022-08-30T20:50:44.599Z"
   },
   {
    "duration": 2,
    "start_time": "2022-08-30T20:50:44.935Z"
   },
   {
    "duration": 10,
    "start_time": "2022-08-30T20:50:44.938Z"
   },
   {
    "duration": 6,
    "start_time": "2022-08-30T20:50:44.949Z"
   },
   {
    "duration": 6,
    "start_time": "2022-08-30T20:50:44.956Z"
   },
   {
    "duration": 6,
    "start_time": "2022-08-30T20:50:44.963Z"
   },
   {
    "duration": 4,
    "start_time": "2022-08-30T20:50:44.970Z"
   },
   {
    "duration": 7,
    "start_time": "2022-08-30T20:50:44.976Z"
   },
   {
    "duration": 8,
    "start_time": "2022-08-30T20:50:44.984Z"
   },
   {
    "duration": 13,
    "start_time": "2022-08-30T20:50:44.994Z"
   },
   {
    "duration": 65,
    "start_time": "2022-08-30T20:57:05.706Z"
   },
   {
    "duration": 54,
    "start_time": "2022-08-30T20:57:30.378Z"
   },
   {
    "duration": 211,
    "start_time": "2022-08-30T21:00:08.060Z"
   },
   {
    "duration": 94,
    "start_time": "2022-08-30T21:01:18.860Z"
   },
   {
    "duration": 100,
    "start_time": "2022-08-30T21:01:26.225Z"
   },
   {
    "duration": 50,
    "start_time": "2022-08-30T21:04:41.169Z"
   },
   {
    "duration": 167,
    "start_time": "2022-08-30T21:05:46.016Z"
   },
   {
    "duration": 53,
    "start_time": "2022-08-30T21:06:00.204Z"
   },
   {
    "duration": 59,
    "start_time": "2022-08-30T21:06:16.675Z"
   },
   {
    "duration": 122,
    "start_time": "2022-08-30T21:07:17.467Z"
   },
   {
    "duration": 106,
    "start_time": "2022-08-30T21:08:17.017Z"
   },
   {
    "duration": 63,
    "start_time": "2022-08-30T21:08:27.029Z"
   },
   {
    "duration": 58,
    "start_time": "2022-08-30T21:09:01.007Z"
   },
   {
    "duration": 124,
    "start_time": "2022-08-30T21:15:24.602Z"
   },
   {
    "duration": 145,
    "start_time": "2022-08-30T21:16:30.001Z"
   },
   {
    "duration": 97,
    "start_time": "2022-08-30T21:18:33.000Z"
   },
   {
    "duration": 876,
    "start_time": "2022-08-31T11:43:28.790Z"
   },
   {
    "duration": 4,
    "start_time": "2022-08-31T11:43:29.668Z"
   },
   {
    "duration": 6299,
    "start_time": "2022-08-31T11:43:29.712Z"
   },
   {
    "duration": 238,
    "start_time": "2022-08-31T11:43:36.013Z"
   },
   {
    "duration": 15,
    "start_time": "2022-08-31T11:43:36.252Z"
   },
   {
    "duration": 272,
    "start_time": "2022-08-31T11:43:36.269Z"
   },
   {
    "duration": 3,
    "start_time": "2022-08-31T11:43:36.542Z"
   },
   {
    "duration": 188,
    "start_time": "2022-08-31T11:43:36.546Z"
   },
   {
    "duration": 3,
    "start_time": "2022-08-31T11:43:36.736Z"
   },
   {
    "duration": 180,
    "start_time": "2022-08-31T11:43:36.740Z"
   },
   {
    "duration": 2,
    "start_time": "2022-08-31T11:43:36.923Z"
   },
   {
    "duration": 1315,
    "start_time": "2022-08-31T11:43:37.949Z"
   },
   {
    "duration": 235,
    "start_time": "2022-08-31T11:45:13.075Z"
   },
   {
    "duration": 112,
    "start_time": "2022-08-31T11:46:14.572Z"
   },
   {
    "duration": 102,
    "start_time": "2022-08-31T11:46:39.278Z"
   },
   {
    "duration": 109,
    "start_time": "2022-08-31T11:59:56.371Z"
   },
   {
    "duration": 96,
    "start_time": "2022-08-31T12:00:45.549Z"
   },
   {
    "duration": 79,
    "start_time": "2022-08-31T12:00:55.778Z"
   },
   {
    "duration": 80,
    "start_time": "2022-08-31T12:02:28.361Z"
   },
   {
    "duration": 267,
    "start_time": "2022-08-31T12:05:45.746Z"
   },
   {
    "duration": 106,
    "start_time": "2022-08-31T12:06:07.373Z"
   },
   {
    "duration": 188,
    "start_time": "2022-08-31T12:06:21.594Z"
   },
   {
    "duration": 135,
    "start_time": "2022-08-31T12:07:00.530Z"
   },
   {
    "duration": 142,
    "start_time": "2022-08-31T12:07:21.101Z"
   },
   {
    "duration": 114,
    "start_time": "2022-08-31T12:08:22.041Z"
   },
   {
    "duration": 144,
    "start_time": "2022-08-31T12:08:30.977Z"
   },
   {
    "duration": 119,
    "start_time": "2022-08-31T12:09:09.616Z"
   },
   {
    "duration": 138,
    "start_time": "2022-08-31T12:10:03.319Z"
   },
   {
    "duration": 111,
    "start_time": "2022-08-31T13:00:28.188Z"
   },
   {
    "duration": 119,
    "start_time": "2022-08-31T13:02:20.051Z"
   },
   {
    "duration": 139,
    "start_time": "2022-08-31T13:14:40.763Z"
   },
   {
    "duration": 151,
    "start_time": "2022-08-31T13:14:48.340Z"
   },
   {
    "duration": 119,
    "start_time": "2022-08-31T13:14:55.148Z"
   },
   {
    "duration": 173,
    "start_time": "2022-08-31T13:16:15.514Z"
   },
   {
    "duration": 135,
    "start_time": "2022-08-31T13:18:41.882Z"
   },
   {
    "duration": 107,
    "start_time": "2022-08-31T13:18:55.191Z"
   },
   {
    "duration": 119,
    "start_time": "2022-08-31T13:19:42.759Z"
   },
   {
    "duration": 106,
    "start_time": "2022-08-31T13:30:42.315Z"
   },
   {
    "duration": 102,
    "start_time": "2022-08-31T13:31:31.548Z"
   },
   {
    "duration": 200,
    "start_time": "2022-08-31T13:31:55.146Z"
   },
   {
    "duration": 107,
    "start_time": "2022-08-31T13:32:06.991Z"
   },
   {
    "duration": 105,
    "start_time": "2022-08-31T13:32:43.233Z"
   },
   {
    "duration": 2230,
    "start_time": "2022-08-31T13:32:55.604Z"
   },
   {
    "duration": 113,
    "start_time": "2022-08-31T13:34:10.201Z"
   },
   {
    "duration": 65,
    "start_time": "2022-08-31T13:34:25.050Z"
   },
   {
    "duration": 339,
    "start_time": "2022-08-31T13:39:20.026Z"
   },
   {
    "duration": 144,
    "start_time": "2022-08-31T13:44:27.539Z"
   },
   {
    "duration": 113,
    "start_time": "2022-08-31T13:44:38.984Z"
   },
   {
    "duration": 973,
    "start_time": "2022-08-31T16:15:13.414Z"
   },
   {
    "duration": 6,
    "start_time": "2022-08-31T16:15:14.389Z"
   },
   {
    "duration": 9679,
    "start_time": "2022-08-31T16:15:14.397Z"
   },
   {
    "duration": 113,
    "start_time": "2022-08-31T16:15:24.077Z"
   },
   {
    "duration": 16,
    "start_time": "2022-08-31T16:15:24.193Z"
   },
   {
    "duration": 240,
    "start_time": "2022-08-31T16:15:24.211Z"
   },
   {
    "duration": 2,
    "start_time": "2022-08-31T16:15:24.453Z"
   },
   {
    "duration": 203,
    "start_time": "2022-08-31T16:15:24.457Z"
   },
   {
    "duration": 3,
    "start_time": "2022-08-31T16:15:24.661Z"
   },
   {
    "duration": 146,
    "start_time": "2022-08-31T16:15:24.665Z"
   },
   {
    "duration": 2,
    "start_time": "2022-08-31T16:15:24.813Z"
   },
   {
    "duration": 1242,
    "start_time": "2022-08-31T16:15:24.817Z"
   },
   {
    "duration": 88,
    "start_time": "2022-08-31T16:15:26.060Z"
   },
   {
    "duration": 2,
    "start_time": "2022-08-31T16:15:26.151Z"
   },
   {
    "duration": 6,
    "start_time": "2022-08-31T16:15:26.155Z"
   },
   {
    "duration": 7,
    "start_time": "2022-08-31T16:15:26.162Z"
   },
   {
    "duration": 12,
    "start_time": "2022-08-31T16:15:26.170Z"
   },
   {
    "duration": 9,
    "start_time": "2022-08-31T16:15:26.183Z"
   },
   {
    "duration": 7,
    "start_time": "2022-08-31T16:15:26.194Z"
   },
   {
    "duration": 6,
    "start_time": "2022-08-31T16:15:26.202Z"
   },
   {
    "duration": 4,
    "start_time": "2022-08-31T16:15:26.209Z"
   },
   {
    "duration": 4,
    "start_time": "2022-08-31T16:15:26.215Z"
   },
   {
    "duration": 937,
    "start_time": "2022-09-03T07:38:01.876Z"
   },
   {
    "duration": 4,
    "start_time": "2022-09-03T07:38:02.816Z"
   },
   {
    "duration": 5616,
    "start_time": "2022-09-03T07:38:02.822Z"
   },
   {
    "duration": 202,
    "start_time": "2022-09-03T07:38:08.441Z"
   },
   {
    "duration": 14,
    "start_time": "2022-09-03T07:38:08.645Z"
   },
   {
    "duration": 286,
    "start_time": "2022-09-03T07:38:08.660Z"
   },
   {
    "duration": 3,
    "start_time": "2022-09-03T07:38:08.948Z"
   },
   {
    "duration": 275,
    "start_time": "2022-09-03T07:38:08.953Z"
   },
   {
    "duration": 2,
    "start_time": "2022-09-03T07:38:09.229Z"
   },
   {
    "duration": 186,
    "start_time": "2022-09-03T07:38:09.233Z"
   },
   {
    "duration": 3,
    "start_time": "2022-09-03T07:38:09.421Z"
   },
   {
    "duration": 1307,
    "start_time": "2022-09-03T07:38:09.425Z"
   },
   {
    "duration": 128,
    "start_time": "2022-09-03T07:38:10.734Z"
   },
   {
    "duration": 2,
    "start_time": "2022-09-03T07:38:10.866Z"
   },
   {
    "duration": 27,
    "start_time": "2022-09-03T07:38:10.870Z"
   },
   {
    "duration": 12,
    "start_time": "2022-09-03T07:38:10.899Z"
   },
   {
    "duration": 36,
    "start_time": "2022-09-03T07:38:10.913Z"
   },
   {
    "duration": 14,
    "start_time": "2022-09-03T07:38:10.951Z"
   },
   {
    "duration": 6,
    "start_time": "2022-09-03T07:38:10.969Z"
   },
   {
    "duration": 5,
    "start_time": "2022-09-03T07:38:10.977Z"
   },
   {
    "duration": 5,
    "start_time": "2022-09-03T07:38:10.983Z"
   },
   {
    "duration": 5,
    "start_time": "2022-09-03T07:38:10.989Z"
   },
   {
    "duration": 159,
    "start_time": "2022-09-03T07:41:56.566Z"
   },
   {
    "duration": 168,
    "start_time": "2022-09-03T07:42:18.279Z"
   },
   {
    "duration": 95,
    "start_time": "2022-09-03T07:42:53.158Z"
   },
   {
    "duration": 99,
    "start_time": "2022-09-03T07:43:05.108Z"
   },
   {
    "duration": 738,
    "start_time": "2022-09-03T07:43:54.481Z"
   },
   {
    "duration": 98,
    "start_time": "2022-09-03T07:46:08.155Z"
   },
   {
    "duration": 321,
    "start_time": "2022-09-03T07:46:12.972Z"
   },
   {
    "duration": 257,
    "start_time": "2022-09-03T07:46:26.774Z"
   },
   {
    "duration": 242,
    "start_time": "2022-09-03T07:46:35.065Z"
   },
   {
    "duration": 236,
    "start_time": "2022-09-03T07:46:48.402Z"
   },
   {
    "duration": 73,
    "start_time": "2022-09-03T07:48:13.954Z"
   },
   {
    "duration": 98,
    "start_time": "2022-09-03T07:51:25.442Z"
   },
   {
    "duration": 102,
    "start_time": "2022-09-03T07:52:30.808Z"
   },
   {
    "duration": 141,
    "start_time": "2022-09-03T07:52:53.653Z"
   },
   {
    "duration": 147,
    "start_time": "2022-09-03T07:53:29.511Z"
   },
   {
    "duration": 134,
    "start_time": "2022-09-03T07:56:53.202Z"
   },
   {
    "duration": 155,
    "start_time": "2022-09-03T07:57:42.057Z"
   },
   {
    "duration": 395,
    "start_time": "2022-09-03T07:57:54.970Z"
   },
   {
    "duration": 357,
    "start_time": "2022-09-03T07:58:25.949Z"
   },
   {
    "duration": 179,
    "start_time": "2022-09-03T07:59:03.577Z"
   },
   {
    "duration": 213,
    "start_time": "2022-09-03T08:00:06.198Z"
   },
   {
    "duration": 102,
    "start_time": "2022-09-03T08:01:33.747Z"
   },
   {
    "duration": 107,
    "start_time": "2022-09-03T08:01:52.598Z"
   },
   {
    "duration": 136,
    "start_time": "2022-09-03T08:02:22.108Z"
   },
   {
    "duration": 94,
    "start_time": "2022-09-03T08:02:53.397Z"
   },
   {
    "duration": 107,
    "start_time": "2022-09-03T08:06:46.996Z"
   },
   {
    "duration": 92,
    "start_time": "2022-09-03T08:06:52.255Z"
   },
   {
    "duration": 110,
    "start_time": "2022-09-03T08:07:44.458Z"
   },
   {
    "duration": 109,
    "start_time": "2022-09-03T08:09:00.695Z"
   },
   {
    "duration": 108,
    "start_time": "2022-09-03T08:10:31.356Z"
   },
   {
    "duration": 98,
    "start_time": "2022-09-03T08:13:26.407Z"
   },
   {
    "duration": 162,
    "start_time": "2022-09-03T08:13:43.126Z"
   },
   {
    "duration": 99,
    "start_time": "2022-09-03T08:13:57.215Z"
   },
   {
    "duration": 100,
    "start_time": "2022-09-03T08:14:22.604Z"
   },
   {
    "duration": 114,
    "start_time": "2022-09-03T08:14:41.401Z"
   },
   {
    "duration": 3,
    "start_time": "2022-09-03T08:39:21.446Z"
   },
   {
    "duration": 101,
    "start_time": "2022-09-03T08:39:42.540Z"
   },
   {
    "duration": 145,
    "start_time": "2022-09-03T08:40:31.089Z"
   },
   {
    "duration": 111,
    "start_time": "2022-09-03T08:43:20.751Z"
   },
   {
    "duration": 90,
    "start_time": "2022-09-03T08:43:42.782Z"
   },
   {
    "duration": 106,
    "start_time": "2022-09-03T08:45:12.059Z"
   },
   {
    "duration": 110,
    "start_time": "2022-09-03T08:45:25.705Z"
   },
   {
    "duration": 68,
    "start_time": "2022-09-03T08:45:34.753Z"
   },
   {
    "duration": 63,
    "start_time": "2022-09-03T08:45:52.008Z"
   },
   {
    "duration": 103,
    "start_time": "2022-09-03T08:57:15.559Z"
   },
   {
    "duration": 91,
    "start_time": "2022-09-03T08:57:40.853Z"
   },
   {
    "duration": 94,
    "start_time": "2022-09-03T08:57:53.452Z"
   },
   {
    "duration": 110,
    "start_time": "2022-09-03T08:58:38.184Z"
   },
   {
    "duration": 2183,
    "start_time": "2022-09-03T08:59:49.789Z"
   },
   {
    "duration": 109,
    "start_time": "2022-09-03T09:04:43.338Z"
   },
   {
    "duration": 1156,
    "start_time": "2022-09-03T09:04:59.145Z"
   },
   {
    "duration": 1170,
    "start_time": "2022-09-03T09:05:45.483Z"
   },
   {
    "duration": 1246,
    "start_time": "2022-09-03T09:09:37.103Z"
   },
   {
    "duration": 2119,
    "start_time": "2022-09-03T09:10:45.425Z"
   },
   {
    "duration": 1241,
    "start_time": "2022-09-03T09:11:19.827Z"
   },
   {
    "duration": 6703,
    "start_time": "2022-09-03T09:11:38.470Z"
   },
   {
    "duration": 3155,
    "start_time": "2022-09-03T09:13:14.072Z"
   },
   {
    "duration": 1301,
    "start_time": "2022-09-03T09:14:10.414Z"
   },
   {
    "duration": 1326,
    "start_time": "2022-09-03T09:15:54.445Z"
   },
   {
    "duration": 1328,
    "start_time": "2022-09-03T09:16:16.822Z"
   },
   {
    "duration": 3897,
    "start_time": "2022-09-03T09:16:47.816Z"
   },
   {
    "duration": 109,
    "start_time": "2022-09-03T09:19:02.627Z"
   },
   {
    "duration": 112,
    "start_time": "2022-09-03T09:19:15.661Z"
   },
   {
    "duration": 1458,
    "start_time": "2022-09-03T09:19:29.696Z"
   },
   {
    "duration": 1432,
    "start_time": "2022-09-03T09:20:23.224Z"
   },
   {
    "duration": 1318,
    "start_time": "2022-09-03T09:24:50.325Z"
   },
   {
    "duration": 1491,
    "start_time": "2022-09-03T09:25:27.880Z"
   },
   {
    "duration": 4,
    "start_time": "2022-09-03T09:49:58.649Z"
   },
   {
    "duration": 98,
    "start_time": "2022-09-03T09:50:12.197Z"
   },
   {
    "duration": 960,
    "start_time": "2022-09-03T09:50:18.547Z"
   },
   {
    "duration": 1125,
    "start_time": "2022-09-03T09:54:18.095Z"
   },
   {
    "duration": 94,
    "start_time": "2022-09-03T09:54:59.500Z"
   },
   {
    "duration": 124,
    "start_time": "2022-09-03T09:55:39.778Z"
   },
   {
    "duration": 1283,
    "start_time": "2022-09-03T09:55:45.800Z"
   },
   {
    "duration": 1198,
    "start_time": "2022-09-03T09:56:20.578Z"
   },
   {
    "duration": 109,
    "start_time": "2022-09-03T09:59:41.997Z"
   },
   {
    "duration": 141,
    "start_time": "2022-09-03T09:59:49.453Z"
   },
   {
    "duration": 115,
    "start_time": "2022-09-03T10:00:05.588Z"
   },
   {
    "duration": 129,
    "start_time": "2022-09-03T10:00:27.109Z"
   },
   {
    "duration": 98,
    "start_time": "2022-09-03T10:00:35.893Z"
   },
   {
    "duration": 96,
    "start_time": "2022-09-03T10:01:29.850Z"
   },
   {
    "duration": 117,
    "start_time": "2022-09-03T10:03:56.748Z"
   },
   {
    "duration": 124,
    "start_time": "2022-09-03T10:04:08.917Z"
   },
   {
    "duration": 159,
    "start_time": "2022-09-03T10:04:38.997Z"
   },
   {
    "duration": 152,
    "start_time": "2022-09-03T10:05:05.428Z"
   },
   {
    "duration": 2500,
    "start_time": "2022-09-03T10:05:13.909Z"
   },
   {
    "duration": 2515,
    "start_time": "2022-09-03T10:05:40.807Z"
   },
   {
    "duration": 2643,
    "start_time": "2022-09-03T10:06:48.219Z"
   },
   {
    "duration": 95,
    "start_time": "2022-09-03T10:09:18.690Z"
   },
   {
    "duration": 1723,
    "start_time": "2022-09-03T10:09:33.585Z"
   },
   {
    "duration": 1049,
    "start_time": "2022-09-03T10:09:57.327Z"
   },
   {
    "duration": 854,
    "start_time": "2022-09-03T10:10:37.138Z"
   },
   {
    "duration": 719,
    "start_time": "2022-09-03T10:13:21.337Z"
   },
   {
    "duration": 3,
    "start_time": "2022-09-03T10:13:22.058Z"
   },
   {
    "duration": 6099,
    "start_time": "2022-09-03T10:13:22.063Z"
   },
   {
    "duration": 206,
    "start_time": "2022-09-03T10:13:28.164Z"
   },
   {
    "duration": 14,
    "start_time": "2022-09-03T10:13:28.372Z"
   },
   {
    "duration": 251,
    "start_time": "2022-09-03T10:13:28.387Z"
   },
   {
    "duration": 3,
    "start_time": "2022-09-03T10:13:28.639Z"
   },
   {
    "duration": 198,
    "start_time": "2022-09-03T10:13:28.644Z"
   },
   {
    "duration": 2,
    "start_time": "2022-09-03T10:13:28.844Z"
   },
   {
    "duration": 186,
    "start_time": "2022-09-03T10:13:28.849Z"
   },
   {
    "duration": 2,
    "start_time": "2022-09-03T10:13:29.038Z"
   },
   {
    "duration": 1307,
    "start_time": "2022-09-03T10:13:29.043Z"
   },
   {
    "duration": 95,
    "start_time": "2022-09-03T10:13:30.352Z"
   },
   {
    "duration": 66,
    "start_time": "2022-09-03T10:13:30.448Z"
   },
   {
    "duration": 2,
    "start_time": "2022-09-03T10:13:30.517Z"
   },
   {
    "duration": 1414,
    "start_time": "2022-09-03T10:13:30.521Z"
   },
   {
    "duration": 52,
    "start_time": "2022-09-03T10:14:20.303Z"
   },
   {
    "duration": 743,
    "start_time": "2022-09-03T10:14:26.450Z"
   },
   {
    "duration": 4,
    "start_time": "2022-09-03T10:14:27.195Z"
   },
   {
    "duration": 6286,
    "start_time": "2022-09-03T10:14:27.203Z"
   },
   {
    "duration": 210,
    "start_time": "2022-09-03T10:14:33.490Z"
   },
   {
    "duration": 13,
    "start_time": "2022-09-03T10:14:33.703Z"
   },
   {
    "duration": 276,
    "start_time": "2022-09-03T10:14:33.717Z"
   },
   {
    "duration": 3,
    "start_time": "2022-09-03T10:14:33.994Z"
   },
   {
    "duration": 189,
    "start_time": "2022-09-03T10:14:33.998Z"
   },
   {
    "duration": 2,
    "start_time": "2022-09-03T10:14:34.188Z"
   },
   {
    "duration": 178,
    "start_time": "2022-09-03T10:14:34.192Z"
   },
   {
    "duration": 3,
    "start_time": "2022-09-03T10:14:34.372Z"
   },
   {
    "duration": 1291,
    "start_time": "2022-09-03T10:14:34.377Z"
   },
   {
    "duration": 107,
    "start_time": "2022-09-03T10:14:35.670Z"
   },
   {
    "duration": 71,
    "start_time": "2022-09-03T10:14:35.780Z"
   },
   {
    "duration": 2,
    "start_time": "2022-09-03T10:14:35.853Z"
   },
   {
    "duration": 1369,
    "start_time": "2022-09-03T10:14:35.857Z"
   },
   {
    "duration": 48,
    "start_time": "2022-09-03T10:15:23.737Z"
   },
   {
    "duration": 780,
    "start_time": "2022-09-03T10:15:27.890Z"
   },
   {
    "duration": 3,
    "start_time": "2022-09-03T10:15:28.673Z"
   },
   {
    "duration": 6672,
    "start_time": "2022-09-03T10:15:28.677Z"
   },
   {
    "duration": 204,
    "start_time": "2022-09-03T10:15:35.351Z"
   },
   {
    "duration": 17,
    "start_time": "2022-09-03T10:15:35.558Z"
   },
   {
    "duration": 263,
    "start_time": "2022-09-03T10:15:35.577Z"
   },
   {
    "duration": 3,
    "start_time": "2022-09-03T10:15:35.842Z"
   },
   {
    "duration": 203,
    "start_time": "2022-09-03T10:15:35.847Z"
   },
   {
    "duration": 3,
    "start_time": "2022-09-03T10:15:36.052Z"
   },
   {
    "duration": 174,
    "start_time": "2022-09-03T10:15:36.057Z"
   },
   {
    "duration": 2,
    "start_time": "2022-09-03T10:15:36.233Z"
   },
   {
    "duration": 1352,
    "start_time": "2022-09-03T10:15:36.237Z"
   },
   {
    "duration": 109,
    "start_time": "2022-09-03T10:15:37.591Z"
   },
   {
    "duration": 69,
    "start_time": "2022-09-03T10:15:37.702Z"
   },
   {
    "duration": 2,
    "start_time": "2022-09-03T10:15:37.773Z"
   },
   {
    "duration": 1374,
    "start_time": "2022-09-03T10:15:37.777Z"
   },
   {
    "duration": 2376,
    "start_time": "2022-09-03T10:15:39.153Z"
   },
   {
    "duration": 3,
    "start_time": "2022-09-03T10:15:41.530Z"
   },
   {
    "duration": 15,
    "start_time": "2022-09-03T10:15:41.534Z"
   },
   {
    "duration": 24,
    "start_time": "2022-09-03T10:15:41.550Z"
   },
   {
    "duration": 22,
    "start_time": "2022-09-03T10:15:41.575Z"
   },
   {
    "duration": 10,
    "start_time": "2022-09-03T10:15:41.599Z"
   },
   {
    "duration": 765,
    "start_time": "2022-09-03T10:16:01.695Z"
   },
   {
    "duration": 53,
    "start_time": "2022-09-03T10:22:11.878Z"
   },
   {
    "duration": 776,
    "start_time": "2022-09-03T10:22:18.217Z"
   },
   {
    "duration": 8,
    "start_time": "2022-09-03T10:22:18.995Z"
   },
   {
    "duration": 5551,
    "start_time": "2022-09-03T10:22:19.005Z"
   },
   {
    "duration": 200,
    "start_time": "2022-09-03T10:22:24.557Z"
   },
   {
    "duration": 16,
    "start_time": "2022-09-03T10:22:24.760Z"
   },
   {
    "duration": 255,
    "start_time": "2022-09-03T10:22:24.777Z"
   },
   {
    "duration": 3,
    "start_time": "2022-09-03T10:22:25.034Z"
   },
   {
    "duration": 195,
    "start_time": "2022-09-03T10:22:25.039Z"
   },
   {
    "duration": 3,
    "start_time": "2022-09-03T10:22:25.236Z"
   },
   {
    "duration": 163,
    "start_time": "2022-09-03T10:22:25.241Z"
   },
   {
    "duration": 3,
    "start_time": "2022-09-03T10:22:25.406Z"
   },
   {
    "duration": 2374,
    "start_time": "2022-09-03T10:22:25.412Z"
   },
   {
    "duration": 92,
    "start_time": "2022-09-03T10:22:27.788Z"
   },
   {
    "duration": 66,
    "start_time": "2022-09-03T10:22:27.883Z"
   },
   {
    "duration": 3,
    "start_time": "2022-09-03T10:22:27.951Z"
   },
   {
    "duration": 1399,
    "start_time": "2022-09-03T10:22:27.956Z"
   },
   {
    "duration": 39888,
    "start_time": "2022-09-03T10:22:29.357Z"
   },
   {
    "duration": 3,
    "start_time": "2022-09-03T10:23:09.247Z"
   },
   {
    "duration": 8,
    "start_time": "2022-09-03T10:23:09.252Z"
   },
   {
    "duration": 4,
    "start_time": "2022-09-03T10:23:09.262Z"
   },
   {
    "duration": 4,
    "start_time": "2022-09-03T10:23:09.268Z"
   },
   {
    "duration": 8,
    "start_time": "2022-09-03T10:23:09.274Z"
   },
   {
    "duration": 709,
    "start_time": "2022-09-03T10:24:41.063Z"
   },
   {
    "duration": 4,
    "start_time": "2022-09-03T10:24:41.774Z"
   },
   {
    "duration": 5700,
    "start_time": "2022-09-03T10:24:41.779Z"
   },
   {
    "duration": 202,
    "start_time": "2022-09-03T10:24:47.481Z"
   },
   {
    "duration": 13,
    "start_time": "2022-09-03T10:24:47.685Z"
   },
   {
    "duration": 284,
    "start_time": "2022-09-03T10:24:47.700Z"
   },
   {
    "duration": 2,
    "start_time": "2022-09-03T10:24:47.986Z"
   },
   {
    "duration": 210,
    "start_time": "2022-09-03T10:24:47.990Z"
   },
   {
    "duration": 3,
    "start_time": "2022-09-03T10:24:48.202Z"
   },
   {
    "duration": 194,
    "start_time": "2022-09-03T10:24:48.208Z"
   },
   {
    "duration": 3,
    "start_time": "2022-09-03T10:24:48.404Z"
   },
   {
    "duration": 1385,
    "start_time": "2022-09-03T10:24:48.409Z"
   },
   {
    "duration": 107,
    "start_time": "2022-09-03T10:24:49.796Z"
   },
   {
    "duration": 65,
    "start_time": "2022-09-03T10:24:49.904Z"
   },
   {
    "duration": 3,
    "start_time": "2022-09-03T10:24:49.970Z"
   },
   {
    "duration": 1373,
    "start_time": "2022-09-03T10:24:49.975Z"
   },
   {
    "duration": 24316,
    "start_time": "2022-09-03T10:24:51.350Z"
   },
   {
    "duration": 2,
    "start_time": "2022-09-03T10:25:15.668Z"
   },
   {
    "duration": 8,
    "start_time": "2022-09-03T10:25:15.672Z"
   },
   {
    "duration": 5,
    "start_time": "2022-09-03T10:25:15.682Z"
   },
   {
    "duration": 4,
    "start_time": "2022-09-03T10:25:15.689Z"
   },
   {
    "duration": 5,
    "start_time": "2022-09-03T10:25:15.695Z"
   },
   {
    "duration": 4949,
    "start_time": "2022-09-03T10:26:11.815Z"
   },
   {
    "duration": 692,
    "start_time": "2022-09-03T10:27:39.363Z"
   },
   {
    "duration": 574,
    "start_time": "2022-09-03T10:28:03.945Z"
   },
   {
    "duration": 83,
    "start_time": "2022-09-03T10:31:19.191Z"
   },
   {
    "duration": 936,
    "start_time": "2022-09-03T10:32:04.849Z"
   },
   {
    "duration": 137,
    "start_time": "2022-09-03T10:34:14.064Z"
   },
   {
    "duration": 118,
    "start_time": "2022-09-03T10:34:28.907Z"
   },
   {
    "duration": 1006,
    "start_time": "2022-09-03T10:35:03.903Z"
   },
   {
    "duration": 92,
    "start_time": "2022-09-03T10:36:11.674Z"
   },
   {
    "duration": 812,
    "start_time": "2022-09-03T10:36:22.362Z"
   },
   {
    "duration": 221,
    "start_time": "2022-09-03T10:36:42.566Z"
   },
   {
    "duration": 210,
    "start_time": "2022-09-03T10:37:56.279Z"
   },
   {
    "duration": 109,
    "start_time": "2022-09-03T10:39:47.520Z"
   },
   {
    "duration": 146,
    "start_time": "2022-09-03T10:39:57.871Z"
   },
   {
    "duration": 371,
    "start_time": "2022-09-03T10:41:39.866Z"
   },
   {
    "duration": 107,
    "start_time": "2022-09-03T10:43:39.659Z"
   },
   {
    "duration": 210,
    "start_time": "2022-09-03T10:45:15.746Z"
   },
   {
    "duration": 233,
    "start_time": "2022-09-03T10:45:31.337Z"
   },
   {
    "duration": 217,
    "start_time": "2022-09-03T10:45:40.428Z"
   },
   {
    "duration": 121,
    "start_time": "2022-09-03T10:48:16.873Z"
   },
   {
    "duration": 220,
    "start_time": "2022-09-03T10:48:24.940Z"
   },
   {
    "duration": 226,
    "start_time": "2022-09-03T10:50:05.101Z"
   },
   {
    "duration": 237,
    "start_time": "2022-09-03T10:51:29.370Z"
   },
   {
    "duration": 238,
    "start_time": "2022-09-03T10:51:41.672Z"
   },
   {
    "duration": 210,
    "start_time": "2022-09-03T10:52:35.202Z"
   },
   {
    "duration": 214,
    "start_time": "2022-09-03T10:52:52.870Z"
   },
   {
    "duration": 231,
    "start_time": "2022-09-03T10:52:57.071Z"
   },
   {
    "duration": 225,
    "start_time": "2022-09-03T10:53:49.370Z"
   },
   {
    "duration": 250,
    "start_time": "2022-09-03T10:54:29.256Z"
   },
   {
    "duration": 8,
    "start_time": "2022-09-03T10:55:23.740Z"
   },
   {
    "duration": 19,
    "start_time": "2022-09-03T10:57:09.639Z"
   },
   {
    "duration": 892,
    "start_time": "2022-09-03T10:57:18.097Z"
   },
   {
    "duration": 0,
    "start_time": "2022-09-03T10:57:18.992Z"
   },
   {
    "duration": 596,
    "start_time": "2022-09-03T10:57:29.675Z"
   },
   {
    "duration": 472,
    "start_time": "2022-09-03T10:57:32.994Z"
   },
   {
    "duration": 4,
    "start_time": "2022-09-03T10:57:34.140Z"
   },
   {
    "duration": 259,
    "start_time": "2022-09-03T10:57:35.917Z"
   },
   {
    "duration": 19,
    "start_time": "2022-09-03T10:57:37.659Z"
   },
   {
    "duration": 15,
    "start_time": "2022-09-03T10:57:47.035Z"
   },
   {
    "duration": 140,
    "start_time": "2022-09-03T10:58:20.682Z"
   },
   {
    "duration": 122,
    "start_time": "2022-09-03T10:58:35.466Z"
   },
   {
    "duration": 16,
    "start_time": "2022-09-03T10:58:50.609Z"
   },
   {
    "duration": 9,
    "start_time": "2022-09-03T10:59:52.653Z"
   },
   {
    "duration": 10,
    "start_time": "2022-09-03T11:00:56.774Z"
   },
   {
    "duration": 10,
    "start_time": "2022-09-03T11:01:02.540Z"
   },
   {
    "duration": 49,
    "start_time": "2022-09-03T11:01:48.250Z"
   },
   {
    "duration": 11,
    "start_time": "2022-09-03T11:01:52.543Z"
   },
   {
    "duration": 17,
    "start_time": "2022-09-03T11:01:59.445Z"
   },
   {
    "duration": 10,
    "start_time": "2022-09-03T11:03:41.729Z"
   },
   {
    "duration": 9,
    "start_time": "2022-09-03T11:03:52.259Z"
   },
   {
    "duration": 14,
    "start_time": "2022-09-03T11:04:05.187Z"
   },
   {
    "duration": 13,
    "start_time": "2022-09-03T11:04:17.977Z"
   },
   {
    "duration": 1605,
    "start_time": "2022-09-03T11:04:21.555Z"
   },
   {
    "duration": 111,
    "start_time": "2022-09-03T11:04:43.583Z"
   },
   {
    "duration": 801,
    "start_time": "2022-09-03T11:04:46.800Z"
   },
   {
    "duration": 115,
    "start_time": "2022-09-03T11:05:15.915Z"
   },
   {
    "duration": 9,
    "start_time": "2022-09-03T11:05:25.107Z"
   },
   {
    "duration": 127,
    "start_time": "2022-09-03T11:05:35.679Z"
   },
   {
    "duration": 9,
    "start_time": "2022-09-03T11:05:54.920Z"
   },
   {
    "duration": 126,
    "start_time": "2022-09-03T11:06:15.786Z"
   },
   {
    "duration": 93,
    "start_time": "2022-09-03T11:07:45.025Z"
   },
   {
    "duration": 93,
    "start_time": "2022-09-03T11:08:10.024Z"
   },
   {
    "duration": 92,
    "start_time": "2022-09-03T11:09:32.725Z"
   },
   {
    "duration": 86,
    "start_time": "2022-09-03T11:10:04.596Z"
   },
   {
    "duration": 108,
    "start_time": "2022-09-03T11:10:28.873Z"
   },
   {
    "duration": 100,
    "start_time": "2022-09-03T11:11:27.712Z"
   },
   {
    "duration": 3,
    "start_time": "2022-09-03T11:30:56.697Z"
   },
   {
    "duration": 4,
    "start_time": "2022-09-03T11:31:36.457Z"
   },
   {
    "duration": 100,
    "start_time": "2022-09-03T11:31:47.232Z"
   },
   {
    "duration": 241,
    "start_time": "2022-09-03T11:31:57.156Z"
   },
   {
    "duration": 144,
    "start_time": "2022-09-03T11:32:11.114Z"
   },
   {
    "duration": 131,
    "start_time": "2022-09-03T11:33:04.160Z"
   },
   {
    "duration": 162,
    "start_time": "2022-09-03T11:33:52.649Z"
   },
   {
    "duration": 134,
    "start_time": "2022-09-03T11:34:19.302Z"
   },
   {
    "duration": 137,
    "start_time": "2022-09-03T11:34:48.517Z"
   },
   {
    "duration": 45,
    "start_time": "2022-09-03T11:39:06.744Z"
   },
   {
    "duration": 340,
    "start_time": "2022-09-03T11:40:44.036Z"
   },
   {
    "duration": 193,
    "start_time": "2022-09-03T11:40:51.640Z"
   },
   {
    "duration": 816,
    "start_time": "2022-09-03T11:41:54.552Z"
   },
   {
    "duration": 14,
    "start_time": "2022-09-03T11:42:04.621Z"
   },
   {
    "duration": 875,
    "start_time": "2022-09-03T11:42:23.858Z"
   },
   {
    "duration": 761,
    "start_time": "2022-09-03T11:42:44.143Z"
   },
   {
    "duration": 15,
    "start_time": "2022-09-03T11:43:29.292Z"
   },
   {
    "duration": 18,
    "start_time": "2022-09-03T11:46:11.833Z"
   },
   {
    "duration": 346,
    "start_time": "2022-09-03T11:47:13.793Z"
   },
   {
    "duration": 1069,
    "start_time": "2022-09-03T11:47:32.490Z"
   },
   {
    "duration": 834,
    "start_time": "2022-09-03T11:47:40.844Z"
   },
   {
    "duration": 11,
    "start_time": "2022-09-03T11:47:53.822Z"
   },
   {
    "duration": 248,
    "start_time": "2022-09-03T11:48:06.225Z"
   },
   {
    "duration": 11,
    "start_time": "2022-09-03T11:48:08.992Z"
   },
   {
    "duration": 164,
    "start_time": "2022-09-03T11:48:35.496Z"
   },
   {
    "duration": 158,
    "start_time": "2022-09-03T11:48:49.954Z"
   },
   {
    "duration": 189,
    "start_time": "2022-09-03T11:49:24.662Z"
   },
   {
    "duration": 253,
    "start_time": "2022-09-03T11:49:34.652Z"
   },
   {
    "duration": 173,
    "start_time": "2022-09-03T11:49:48.063Z"
   },
   {
    "duration": 161,
    "start_time": "2022-09-03T11:50:11.192Z"
   },
   {
    "duration": 268,
    "start_time": "2022-09-03T11:50:29.857Z"
   },
   {
    "duration": 209,
    "start_time": "2022-09-03T11:50:41.988Z"
   },
   {
    "duration": 145,
    "start_time": "2022-09-03T11:50:54.427Z"
   },
   {
    "duration": 142,
    "start_time": "2022-09-03T11:51:05.533Z"
   },
   {
    "duration": 11,
    "start_time": "2022-09-03T11:51:17.243Z"
   },
   {
    "duration": 16,
    "start_time": "2022-09-03T11:51:29.057Z"
   },
   {
    "duration": 13,
    "start_time": "2022-09-03T11:51:52.581Z"
   },
   {
    "duration": 186,
    "start_time": "2022-09-03T11:55:10.396Z"
   },
   {
    "duration": 150,
    "start_time": "2022-09-03T11:55:26.338Z"
   },
   {
    "duration": 156,
    "start_time": "2022-09-03T11:57:13.396Z"
   },
   {
    "duration": 184,
    "start_time": "2022-09-03T11:57:50.699Z"
   },
   {
    "duration": 187,
    "start_time": "2022-09-03T11:57:59.599Z"
   },
   {
    "duration": 248,
    "start_time": "2022-09-03T11:58:15.815Z"
   },
   {
    "duration": 216,
    "start_time": "2022-09-03T11:58:44.481Z"
   },
   {
    "duration": 11,
    "start_time": "2022-09-03T12:00:10.956Z"
   },
   {
    "duration": 16,
    "start_time": "2022-09-03T12:00:19.866Z"
   },
   {
    "duration": 10,
    "start_time": "2022-09-03T12:00:37.676Z"
   },
   {
    "duration": 212,
    "start_time": "2022-09-03T12:00:55.417Z"
   },
   {
    "duration": 47,
    "start_time": "2022-09-03T12:06:25.929Z"
   },
   {
    "duration": 241,
    "start_time": "2022-09-03T12:06:30.407Z"
   },
   {
    "duration": 234,
    "start_time": "2022-09-03T12:06:53.364Z"
   },
   {
    "duration": 1472,
    "start_time": "2022-09-03T12:07:26.743Z"
   },
   {
    "duration": 95,
    "start_time": "2022-09-03T12:07:52.466Z"
   },
   {
    "duration": 73,
    "start_time": "2022-09-03T12:08:02.239Z"
   },
   {
    "duration": 130,
    "start_time": "2022-09-03T12:10:46.548Z"
   },
   {
    "duration": 275,
    "start_time": "2022-09-03T12:10:59.362Z"
   },
   {
    "duration": 238,
    "start_time": "2022-09-03T12:11:27.840Z"
   },
   {
    "duration": 433,
    "start_time": "2022-09-03T12:11:39.030Z"
   },
   {
    "duration": 226,
    "start_time": "2022-09-03T12:12:01.619Z"
   },
   {
    "duration": 241,
    "start_time": "2022-09-03T12:13:50.456Z"
   },
   {
    "duration": 1410,
    "start_time": "2022-09-03T12:14:12.044Z"
   },
   {
    "duration": 615,
    "start_time": "2022-09-03T12:14:19.840Z"
   },
   {
    "duration": 462,
    "start_time": "2022-09-03T12:14:26.332Z"
   },
   {
    "duration": 602,
    "start_time": "2022-09-03T12:29:48.433Z"
   },
   {
    "duration": 190,
    "start_time": "2022-09-03T12:30:35.247Z"
   },
   {
    "duration": 228,
    "start_time": "2022-09-03T12:30:39.317Z"
   },
   {
    "duration": 198,
    "start_time": "2022-09-03T12:30:52.066Z"
   },
   {
    "duration": 196,
    "start_time": "2022-09-03T12:30:54.119Z"
   },
   {
    "duration": 168,
    "start_time": "2022-09-03T12:34:26.889Z"
   },
   {
    "duration": 119,
    "start_time": "2022-09-03T12:35:38.327Z"
   },
   {
    "duration": 156,
    "start_time": "2022-09-03T12:35:44.933Z"
   },
   {
    "duration": 137,
    "start_time": "2022-09-03T12:35:57.061Z"
   },
   {
    "duration": 169,
    "start_time": "2022-09-03T12:36:00.325Z"
   },
   {
    "duration": 78,
    "start_time": "2022-09-03T12:36:18.136Z"
   },
   {
    "duration": 195,
    "start_time": "2022-09-03T12:36:23.959Z"
   },
   {
    "duration": 67,
    "start_time": "2022-09-03T12:36:25.747Z"
   },
   {
    "duration": 1080,
    "start_time": "2022-09-03T12:37:25.543Z"
   },
   {
    "duration": 12,
    "start_time": "2022-09-03T12:37:26.633Z"
   },
   {
    "duration": 10749,
    "start_time": "2022-09-03T12:37:26.652Z"
   },
   {
    "duration": 256,
    "start_time": "2022-09-03T12:37:37.408Z"
   },
   {
    "duration": 20,
    "start_time": "2022-09-03T12:37:37.666Z"
   },
   {
    "duration": 259,
    "start_time": "2022-09-03T12:37:37.689Z"
   },
   {
    "duration": 516,
    "start_time": "2022-09-03T12:37:37.951Z"
   },
   {
    "duration": 265,
    "start_time": "2022-09-03T12:37:38.470Z"
   },
   {
    "duration": 60,
    "start_time": "2022-09-03T12:37:38.738Z"
   },
   {
    "duration": 189,
    "start_time": "2022-09-03T12:37:38.801Z"
   },
   {
    "duration": 287,
    "start_time": "2022-09-03T12:37:38.992Z"
   },
   {
    "duration": 1685,
    "start_time": "2022-09-03T12:37:39.281Z"
   },
   {
    "duration": 106,
    "start_time": "2022-09-03T12:37:40.970Z"
   },
   {
    "duration": 70,
    "start_time": "2022-09-03T12:37:41.078Z"
   },
   {
    "duration": 293,
    "start_time": "2022-09-03T12:37:41.150Z"
   },
   {
    "duration": 1622,
    "start_time": "2022-09-03T12:37:41.446Z"
   },
   {
    "duration": 591,
    "start_time": "2022-09-03T12:37:43.070Z"
   },
   {
    "duration": 1071,
    "start_time": "2022-09-03T12:37:43.663Z"
   },
   {
    "duration": 263,
    "start_time": "2022-09-03T12:37:44.737Z"
   },
   {
    "duration": 170,
    "start_time": "2022-09-03T12:37:45.002Z"
   },
   {
    "duration": 128,
    "start_time": "2022-09-03T12:37:45.174Z"
   },
   {
    "duration": 768,
    "start_time": "2022-09-03T15:01:44.259Z"
   },
   {
    "duration": 3,
    "start_time": "2022-09-03T15:01:45.029Z"
   },
   {
    "duration": 7902,
    "start_time": "2022-09-03T15:01:45.033Z"
   },
   {
    "duration": 53,
    "start_time": "2022-09-03T15:01:52.937Z"
   },
   {
    "duration": 18,
    "start_time": "2022-09-03T15:01:52.991Z"
   },
   {
    "duration": 257,
    "start_time": "2022-09-03T15:01:53.011Z"
   },
   {
    "duration": 244,
    "start_time": "2022-09-03T15:01:53.270Z"
   },
   {
    "duration": 181,
    "start_time": "2022-09-03T15:01:53.516Z"
   },
   {
    "duration": 31,
    "start_time": "2022-09-03T15:01:53.699Z"
   },
   {
    "duration": 144,
    "start_time": "2022-09-03T15:01:53.733Z"
   },
   {
    "duration": 180,
    "start_time": "2022-09-03T15:01:53.879Z"
   },
   {
    "duration": 1081,
    "start_time": "2022-09-03T15:01:54.060Z"
   },
   {
    "duration": 60,
    "start_time": "2022-09-03T15:01:55.143Z"
   },
   {
    "duration": 34,
    "start_time": "2022-09-03T15:01:55.204Z"
   },
   {
    "duration": 154,
    "start_time": "2022-09-03T15:01:55.239Z"
   },
   {
    "duration": 1302,
    "start_time": "2022-09-03T15:01:55.394Z"
   },
   {
    "duration": 569,
    "start_time": "2022-09-03T15:01:56.698Z"
   },
   {
    "duration": 904,
    "start_time": "2022-09-03T15:01:57.269Z"
   },
   {
    "duration": 240,
    "start_time": "2022-09-03T15:01:58.175Z"
   },
   {
    "duration": 81,
    "start_time": "2022-09-03T15:01:58.417Z"
   },
   {
    "duration": 91,
    "start_time": "2022-09-03T15:01:58.500Z"
   },
   {
    "duration": 108,
    "start_time": "2022-09-03T15:06:25.533Z"
   },
   {
    "duration": 112,
    "start_time": "2022-09-03T15:06:28.230Z"
   },
   {
    "duration": 921,
    "start_time": "2022-09-03T15:48:21.454Z"
   },
   {
    "duration": 8,
    "start_time": "2022-09-03T15:48:22.377Z"
   },
   {
    "duration": 5437,
    "start_time": "2022-09-03T15:48:22.387Z"
   },
   {
    "duration": 216,
    "start_time": "2022-09-03T15:48:27.826Z"
   },
   {
    "duration": 15,
    "start_time": "2022-09-03T15:48:28.045Z"
   },
   {
    "duration": 255,
    "start_time": "2022-09-03T15:48:28.062Z"
   },
   {
    "duration": 304,
    "start_time": "2022-09-03T15:48:28.319Z"
   },
   {
    "duration": 188,
    "start_time": "2022-09-03T15:48:28.624Z"
   },
   {
    "duration": 59,
    "start_time": "2022-09-03T15:48:28.814Z"
   },
   {
    "duration": 178,
    "start_time": "2022-09-03T15:48:28.875Z"
   },
   {
    "duration": 226,
    "start_time": "2022-09-03T15:48:29.055Z"
   },
   {
    "duration": 1248,
    "start_time": "2022-09-03T15:48:29.282Z"
   },
   {
    "duration": 92,
    "start_time": "2022-09-03T15:48:30.532Z"
   },
   {
    "duration": 68,
    "start_time": "2022-09-03T15:48:30.627Z"
   },
   {
    "duration": 196,
    "start_time": "2022-09-03T15:48:30.697Z"
   },
   {
    "duration": 1258,
    "start_time": "2022-09-03T15:48:30.895Z"
   },
   {
    "duration": 576,
    "start_time": "2022-09-03T15:48:32.155Z"
   },
   {
    "duration": 923,
    "start_time": "2022-09-03T15:48:32.733Z"
   },
   {
    "duration": 256,
    "start_time": "2022-09-03T15:48:33.658Z"
   },
   {
    "duration": 120,
    "start_time": "2022-09-03T15:48:33.916Z"
   },
   {
    "duration": 143,
    "start_time": "2022-09-03T15:48:34.038Z"
   },
   {
    "duration": 221,
    "start_time": "2022-09-03T15:50:16.475Z"
   },
   {
    "duration": 138,
    "start_time": "2022-09-03T15:50:23.576Z"
   },
   {
    "duration": 173,
    "start_time": "2022-09-03T15:50:30.846Z"
   },
   {
    "duration": 135,
    "start_time": "2022-09-03T15:50:39.497Z"
   },
   {
    "duration": 140,
    "start_time": "2022-09-03T15:51:04.951Z"
   },
   {
    "duration": 144,
    "start_time": "2022-09-03T15:52:05.216Z"
   },
   {
    "duration": 145,
    "start_time": "2022-09-03T15:52:49.076Z"
   },
   {
    "duration": 103,
    "start_time": "2022-09-03T15:53:12.580Z"
   },
   {
    "duration": 168,
    "start_time": "2022-09-03T15:53:20.613Z"
   },
   {
    "duration": 149,
    "start_time": "2022-09-03T15:53:33.397Z"
   },
   {
    "duration": 88,
    "start_time": "2022-09-03T15:54:21.258Z"
   },
   {
    "duration": 223,
    "start_time": "2022-09-03T15:56:48.894Z"
   },
   {
    "duration": 242,
    "start_time": "2022-09-03T15:57:05.695Z"
   },
   {
    "duration": 247,
    "start_time": "2022-09-03T15:57:13.200Z"
   },
   {
    "duration": 274,
    "start_time": "2022-09-03T15:57:20.040Z"
   },
   {
    "duration": 1241,
    "start_time": "2022-09-03T15:59:01.120Z"
   },
   {
    "duration": 858,
    "start_time": "2022-09-04T13:08:01.739Z"
   },
   {
    "duration": 6,
    "start_time": "2022-09-04T13:08:02.599Z"
   },
   {
    "duration": 7676,
    "start_time": "2022-09-04T13:08:02.607Z"
   },
   {
    "duration": 237,
    "start_time": "2022-09-04T13:08:10.285Z"
   },
   {
    "duration": 14,
    "start_time": "2022-09-04T13:08:10.524Z"
   },
   {
    "duration": 264,
    "start_time": "2022-09-04T13:08:10.540Z"
   },
   {
    "duration": 298,
    "start_time": "2022-09-04T13:08:10.805Z"
   },
   {
    "duration": 202,
    "start_time": "2022-09-04T13:08:11.105Z"
   },
   {
    "duration": 59,
    "start_time": "2022-09-04T13:08:11.308Z"
   },
   {
    "duration": 177,
    "start_time": "2022-09-04T13:08:11.370Z"
   },
   {
    "duration": 191,
    "start_time": "2022-09-04T13:08:11.549Z"
   },
   {
    "duration": 1161,
    "start_time": "2022-09-04T13:08:11.741Z"
   },
   {
    "duration": 98,
    "start_time": "2022-09-04T13:08:12.904Z"
   },
   {
    "duration": 65,
    "start_time": "2022-09-04T13:08:13.003Z"
   },
   {
    "duration": 190,
    "start_time": "2022-09-04T13:08:13.070Z"
   },
   {
    "duration": 1369,
    "start_time": "2022-09-04T13:08:13.262Z"
   },
   {
    "duration": 637,
    "start_time": "2022-09-04T13:08:14.633Z"
   },
   {
    "duration": 971,
    "start_time": "2022-09-04T13:08:15.272Z"
   },
   {
    "duration": 235,
    "start_time": "2022-09-04T13:08:16.245Z"
   },
   {
    "duration": 125,
    "start_time": "2022-09-04T13:08:16.483Z"
   },
   {
    "duration": 159,
    "start_time": "2022-09-04T13:08:16.611Z"
   }
  ],
  "colab": {
   "name": "AdvansedSQLProjectTemplate.ipynb",
   "provenance": []
  },
  "kernelspec": {
   "display_name": "Python 3 (ipykernel)",
   "language": "python",
   "name": "python3"
  },
  "language_info": {
   "codemirror_mode": {
    "name": "ipython",
    "version": 3
   },
   "file_extension": ".py",
   "mimetype": "text/x-python",
   "name": "python",
   "nbconvert_exporter": "python",
   "pygments_lexer": "ipython3",
   "version": "3.9.12"
  },
  "toc": {
   "base_numbering": 1,
   "nav_menu": {},
   "number_sections": false,
   "sideBar": true,
   "skip_h1_title": false,
   "title_cell": "Table of Contents",
   "title_sidebar": "Contents",
   "toc_cell": false,
   "toc_position": {},
   "toc_section_display": true,
   "toc_window_display": true
  }
 },
 "nbformat": 4,
 "nbformat_minor": 1
}
