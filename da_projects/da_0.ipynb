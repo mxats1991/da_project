{
 "cells": [
  {
   "cell_type": "markdown",
   "id": "d0c2dc4b",
   "metadata": {},
   "source": [
    "# Исследование надёжности заёмщиков — анализ банковских данных"
   ]
  },
  {
   "cell_type": "markdown",
   "id": "42df6fca",
   "metadata": {},
   "source": [
    "<b>Цель:</b>на основе статистики о платёжеспособности клиентов исследовать влияет ли семейное положение и количество детей клиента на факт возврата кредита в срок<br>\n",
    "<b>Описание:</b>На основе данных кредитного отдела банка исследовал влияние семейного положения и\n",
    "количества детей на факт погашения кредита в срок. Была получена информация о\n",
    "данных. Определены и обработаны пропуски. Заменены типы данных на соответствующие\n",
    "хранящимся данным. Удалены дубликаты. Выделены леммы в значениях столбца и\n",
    "категоризированны данные."
   ]
  },
  {
   "cell_type": "markdown",
   "id": "b45d4e33",
   "metadata": {},
   "source": [
    "### Шаг 1. Обзор данных"
   ]
  },
  {
   "cell_type": "code",
   "execution_count": 1,
   "id": "32a792c8",
   "metadata": {},
   "outputs": [],
   "source": [
    "import pandas as pd"
   ]
  },
  {
   "cell_type": "code",
   "execution_count": 2,
   "id": "bfa06dba",
   "metadata": {},
   "outputs": [
    {
     "name": "stdout",
     "output_type": "stream",
     "text": [
      "<class 'pandas.core.frame.DataFrame'>\n",
      "RangeIndex: 21525 entries, 0 to 21524\n",
      "Data columns (total 12 columns):\n",
      "children            21525 non-null int64\n",
      "days_employed       19351 non-null float64\n",
      "dob_years           21525 non-null int64\n",
      "education           21525 non-null object\n",
      "education_id        21525 non-null int64\n",
      "family_status       21525 non-null object\n",
      "family_status_id    21525 non-null int64\n",
      "gender              21525 non-null object\n",
      "income_type         21525 non-null object\n",
      "debt                21525 non-null int64\n",
      "total_income        19351 non-null float64\n",
      "purpose             21525 non-null object\n",
      "dtypes: float64(2), int64(5), object(5)\n",
      "memory usage: 2.0+ MB\n"
     ]
    }
   ],
   "source": [
    "df = pd.read_csv('/datasets/data.csv')\n",
    "df.info()"
   ]
  },
  {
   "cell_type": "code",
   "execution_count": 3,
   "id": "3e4bf58a",
   "metadata": {},
   "outputs": [
    {
     "data": {
      "text/plain": [
       "Index(['children', 'days_employed', 'dob_years', 'education', 'education_id',\n",
       "       'family_status', 'family_status_id', 'gender', 'income_type', 'debt',\n",
       "       'total_income', 'purpose'],\n",
       "      dtype='object')"
      ]
     },
     "execution_count": 3,
     "metadata": {},
     "output_type": "execute_result"
    }
   ],
   "source": [
    "df.columns"
   ]
  },
  {
   "cell_type": "markdown",
   "id": "3a3a5f7a",
   "metadata": {},
   "source": [
    "Просмотрим первые 5-ть значений таблицы"
   ]
  },
  {
   "cell_type": "code",
   "execution_count": 4,
   "id": "acc30999",
   "metadata": {},
   "outputs": [
    {
     "data": {
      "text/html": [
       "<div>\n",
       "<style scoped>\n",
       "    .dataframe tbody tr th:only-of-type {\n",
       "        vertical-align: middle;\n",
       "    }\n",
       "\n",
       "    .dataframe tbody tr th {\n",
       "        vertical-align: top;\n",
       "    }\n",
       "\n",
       "    .dataframe thead th {\n",
       "        text-align: right;\n",
       "    }\n",
       "</style>\n",
       "<table border=\"1\" class=\"dataframe\">\n",
       "  <thead>\n",
       "    <tr style=\"text-align: right;\">\n",
       "      <th></th>\n",
       "      <th>children</th>\n",
       "      <th>days_employed</th>\n",
       "      <th>dob_years</th>\n",
       "      <th>education</th>\n",
       "      <th>education_id</th>\n",
       "      <th>family_status</th>\n",
       "      <th>family_status_id</th>\n",
       "      <th>gender</th>\n",
       "      <th>income_type</th>\n",
       "      <th>debt</th>\n",
       "      <th>total_income</th>\n",
       "      <th>purpose</th>\n",
       "    </tr>\n",
       "  </thead>\n",
       "  <tbody>\n",
       "    <tr>\n",
       "      <td>0</td>\n",
       "      <td>1</td>\n",
       "      <td>-8437.673028</td>\n",
       "      <td>42</td>\n",
       "      <td>высшее</td>\n",
       "      <td>0</td>\n",
       "      <td>женат / замужем</td>\n",
       "      <td>0</td>\n",
       "      <td>F</td>\n",
       "      <td>сотрудник</td>\n",
       "      <td>0</td>\n",
       "      <td>253875.639453</td>\n",
       "      <td>покупка жилья</td>\n",
       "    </tr>\n",
       "    <tr>\n",
       "      <td>1</td>\n",
       "      <td>1</td>\n",
       "      <td>-4024.803754</td>\n",
       "      <td>36</td>\n",
       "      <td>среднее</td>\n",
       "      <td>1</td>\n",
       "      <td>женат / замужем</td>\n",
       "      <td>0</td>\n",
       "      <td>F</td>\n",
       "      <td>сотрудник</td>\n",
       "      <td>0</td>\n",
       "      <td>112080.014102</td>\n",
       "      <td>приобретение автомобиля</td>\n",
       "    </tr>\n",
       "    <tr>\n",
       "      <td>2</td>\n",
       "      <td>0</td>\n",
       "      <td>-5623.422610</td>\n",
       "      <td>33</td>\n",
       "      <td>Среднее</td>\n",
       "      <td>1</td>\n",
       "      <td>женат / замужем</td>\n",
       "      <td>0</td>\n",
       "      <td>M</td>\n",
       "      <td>сотрудник</td>\n",
       "      <td>0</td>\n",
       "      <td>145885.952297</td>\n",
       "      <td>покупка жилья</td>\n",
       "    </tr>\n",
       "    <tr>\n",
       "      <td>3</td>\n",
       "      <td>3</td>\n",
       "      <td>-4124.747207</td>\n",
       "      <td>32</td>\n",
       "      <td>среднее</td>\n",
       "      <td>1</td>\n",
       "      <td>женат / замужем</td>\n",
       "      <td>0</td>\n",
       "      <td>M</td>\n",
       "      <td>сотрудник</td>\n",
       "      <td>0</td>\n",
       "      <td>267628.550329</td>\n",
       "      <td>дополнительное образование</td>\n",
       "    </tr>\n",
       "    <tr>\n",
       "      <td>4</td>\n",
       "      <td>0</td>\n",
       "      <td>340266.072047</td>\n",
       "      <td>53</td>\n",
       "      <td>среднее</td>\n",
       "      <td>1</td>\n",
       "      <td>гражданский брак</td>\n",
       "      <td>1</td>\n",
       "      <td>F</td>\n",
       "      <td>пенсионер</td>\n",
       "      <td>0</td>\n",
       "      <td>158616.077870</td>\n",
       "      <td>сыграть свадьбу</td>\n",
       "    </tr>\n",
       "  </tbody>\n",
       "</table>\n",
       "</div>"
      ],
      "text/plain": [
       "   children  days_employed  dob_years education  education_id  \\\n",
       "0         1   -8437.673028         42    высшее             0   \n",
       "1         1   -4024.803754         36   среднее             1   \n",
       "2         0   -5623.422610         33   Среднее             1   \n",
       "3         3   -4124.747207         32   среднее             1   \n",
       "4         0  340266.072047         53   среднее             1   \n",
       "\n",
       "      family_status  family_status_id gender income_type  debt   total_income  \\\n",
       "0   женат / замужем                 0      F   сотрудник     0  253875.639453   \n",
       "1   женат / замужем                 0      F   сотрудник     0  112080.014102   \n",
       "2   женат / замужем                 0      M   сотрудник     0  145885.952297   \n",
       "3   женат / замужем                 0      M   сотрудник     0  267628.550329   \n",
       "4  гражданский брак                 1      F   пенсионер     0  158616.077870   \n",
       "\n",
       "                      purpose  \n",
       "0               покупка жилья  \n",
       "1     приобретение автомобиля  \n",
       "2               покупка жилья  \n",
       "3  дополнительное образование  \n",
       "4             сыграть свадьбу  "
      ]
     },
     "execution_count": 4,
     "metadata": {},
     "output_type": "execute_result"
    }
   ],
   "source": [
    "df.head()"
   ]
  },
  {
   "cell_type": "markdown",
   "id": "e5b1b2cb",
   "metadata": {},
   "source": [
    "Просмотрим последние 5-ть значений"
   ]
  },
  {
   "cell_type": "code",
   "execution_count": 5,
   "id": "0e22df22",
   "metadata": {
    "scrolled": true
   },
   "outputs": [
    {
     "data": {
      "text/html": [
       "<div>\n",
       "<style scoped>\n",
       "    .dataframe tbody tr th:only-of-type {\n",
       "        vertical-align: middle;\n",
       "    }\n",
       "\n",
       "    .dataframe tbody tr th {\n",
       "        vertical-align: top;\n",
       "    }\n",
       "\n",
       "    .dataframe thead th {\n",
       "        text-align: right;\n",
       "    }\n",
       "</style>\n",
       "<table border=\"1\" class=\"dataframe\">\n",
       "  <thead>\n",
       "    <tr style=\"text-align: right;\">\n",
       "      <th></th>\n",
       "      <th>children</th>\n",
       "      <th>days_employed</th>\n",
       "      <th>dob_years</th>\n",
       "      <th>education</th>\n",
       "      <th>education_id</th>\n",
       "      <th>family_status</th>\n",
       "      <th>family_status_id</th>\n",
       "      <th>gender</th>\n",
       "      <th>income_type</th>\n",
       "      <th>debt</th>\n",
       "      <th>total_income</th>\n",
       "      <th>purpose</th>\n",
       "    </tr>\n",
       "  </thead>\n",
       "  <tbody>\n",
       "    <tr>\n",
       "      <td>21520</td>\n",
       "      <td>1</td>\n",
       "      <td>-4529.316663</td>\n",
       "      <td>43</td>\n",
       "      <td>среднее</td>\n",
       "      <td>1</td>\n",
       "      <td>гражданский брак</td>\n",
       "      <td>1</td>\n",
       "      <td>F</td>\n",
       "      <td>компаньон</td>\n",
       "      <td>0</td>\n",
       "      <td>224791.862382</td>\n",
       "      <td>операции с жильем</td>\n",
       "    </tr>\n",
       "    <tr>\n",
       "      <td>21521</td>\n",
       "      <td>0</td>\n",
       "      <td>343937.404131</td>\n",
       "      <td>67</td>\n",
       "      <td>среднее</td>\n",
       "      <td>1</td>\n",
       "      <td>женат / замужем</td>\n",
       "      <td>0</td>\n",
       "      <td>F</td>\n",
       "      <td>пенсионер</td>\n",
       "      <td>0</td>\n",
       "      <td>155999.806512</td>\n",
       "      <td>сделка с автомобилем</td>\n",
       "    </tr>\n",
       "    <tr>\n",
       "      <td>21522</td>\n",
       "      <td>1</td>\n",
       "      <td>-2113.346888</td>\n",
       "      <td>38</td>\n",
       "      <td>среднее</td>\n",
       "      <td>1</td>\n",
       "      <td>гражданский брак</td>\n",
       "      <td>1</td>\n",
       "      <td>M</td>\n",
       "      <td>сотрудник</td>\n",
       "      <td>1</td>\n",
       "      <td>89672.561153</td>\n",
       "      <td>недвижимость</td>\n",
       "    </tr>\n",
       "    <tr>\n",
       "      <td>21523</td>\n",
       "      <td>3</td>\n",
       "      <td>-3112.481705</td>\n",
       "      <td>38</td>\n",
       "      <td>среднее</td>\n",
       "      <td>1</td>\n",
       "      <td>женат / замужем</td>\n",
       "      <td>0</td>\n",
       "      <td>M</td>\n",
       "      <td>сотрудник</td>\n",
       "      <td>1</td>\n",
       "      <td>244093.050500</td>\n",
       "      <td>на покупку своего автомобиля</td>\n",
       "    </tr>\n",
       "    <tr>\n",
       "      <td>21524</td>\n",
       "      <td>2</td>\n",
       "      <td>-1984.507589</td>\n",
       "      <td>40</td>\n",
       "      <td>среднее</td>\n",
       "      <td>1</td>\n",
       "      <td>женат / замужем</td>\n",
       "      <td>0</td>\n",
       "      <td>F</td>\n",
       "      <td>сотрудник</td>\n",
       "      <td>0</td>\n",
       "      <td>82047.418899</td>\n",
       "      <td>на покупку автомобиля</td>\n",
       "    </tr>\n",
       "  </tbody>\n",
       "</table>\n",
       "</div>"
      ],
      "text/plain": [
       "       children  days_employed  dob_years education  education_id  \\\n",
       "21520         1   -4529.316663         43   среднее             1   \n",
       "21521         0  343937.404131         67   среднее             1   \n",
       "21522         1   -2113.346888         38   среднее             1   \n",
       "21523         3   -3112.481705         38   среднее             1   \n",
       "21524         2   -1984.507589         40   среднее             1   \n",
       "\n",
       "          family_status  family_status_id gender income_type  debt  \\\n",
       "21520  гражданский брак                 1      F   компаньон     0   \n",
       "21521   женат / замужем                 0      F   пенсионер     0   \n",
       "21522  гражданский брак                 1      M   сотрудник     1   \n",
       "21523   женат / замужем                 0      M   сотрудник     1   \n",
       "21524   женат / замужем                 0      F   сотрудник     0   \n",
       "\n",
       "        total_income                       purpose  \n",
       "21520  224791.862382             операции с жильем  \n",
       "21521  155999.806512          сделка с автомобилем  \n",
       "21522   89672.561153                  недвижимость  \n",
       "21523  244093.050500  на покупку своего автомобиля  \n",
       "21524   82047.418899         на покупку автомобиля  "
      ]
     },
     "execution_count": 5,
     "metadata": {},
     "output_type": "execute_result"
    }
   ],
   "source": [
    "df.tail()"
   ]
  },
  {
   "cell_type": "markdown",
   "id": "c53b23f7",
   "metadata": {},
   "source": [
    "Найдем столбцы в которых есть пропуски в значениях"
   ]
  },
  {
   "cell_type": "code",
   "execution_count": 6,
   "id": "bce3fef2",
   "metadata": {},
   "outputs": [
    {
     "data": {
      "text/plain": [
       "children               0\n",
       "days_employed       2174\n",
       "dob_years              0\n",
       "education              0\n",
       "education_id           0\n",
       "family_status          0\n",
       "family_status_id       0\n",
       "gender                 0\n",
       "income_type            0\n",
       "debt                   0\n",
       "total_income        2174\n",
       "purpose                0\n",
       "dtype: int64"
      ]
     },
     "execution_count": 6,
     "metadata": {},
     "output_type": "execute_result"
    }
   ],
   "source": [
    "df.isna().sum()"
   ]
  },
  {
   "cell_type": "markdown",
   "id": "8cc99a42",
   "metadata": {},
   "source": [
    "отсортируем таблицу по столбцу 'days_employed' (трудовой стаж) по убыванию."
   ]
  },
  {
   "cell_type": "code",
   "execution_count": 7,
   "id": "6c40ab4f",
   "metadata": {},
   "outputs": [
    {
     "data": {
      "text/html": [
       "<div>\n",
       "<style scoped>\n",
       "    .dataframe tbody tr th:only-of-type {\n",
       "        vertical-align: middle;\n",
       "    }\n",
       "\n",
       "    .dataframe tbody tr th {\n",
       "        vertical-align: top;\n",
       "    }\n",
       "\n",
       "    .dataframe thead th {\n",
       "        text-align: right;\n",
       "    }\n",
       "</style>\n",
       "<table border=\"1\" class=\"dataframe\">\n",
       "  <thead>\n",
       "    <tr style=\"text-align: right;\">\n",
       "      <th></th>\n",
       "      <th>children</th>\n",
       "      <th>days_employed</th>\n",
       "      <th>dob_years</th>\n",
       "      <th>education</th>\n",
       "      <th>education_id</th>\n",
       "      <th>family_status</th>\n",
       "      <th>family_status_id</th>\n",
       "      <th>gender</th>\n",
       "      <th>income_type</th>\n",
       "      <th>debt</th>\n",
       "      <th>total_income</th>\n",
       "      <th>purpose</th>\n",
       "    </tr>\n",
       "  </thead>\n",
       "  <tbody>\n",
       "    <tr>\n",
       "      <td>6954</td>\n",
       "      <td>0</td>\n",
       "      <td>401755.400475</td>\n",
       "      <td>56</td>\n",
       "      <td>среднее</td>\n",
       "      <td>1</td>\n",
       "      <td>вдовец / вдова</td>\n",
       "      <td>2</td>\n",
       "      <td>F</td>\n",
       "      <td>пенсионер</td>\n",
       "      <td>0</td>\n",
       "      <td>176278.441171</td>\n",
       "      <td>ремонт жилью</td>\n",
       "    </tr>\n",
       "    <tr>\n",
       "      <td>10006</td>\n",
       "      <td>0</td>\n",
       "      <td>401715.811749</td>\n",
       "      <td>69</td>\n",
       "      <td>высшее</td>\n",
       "      <td>0</td>\n",
       "      <td>Не женат / не замужем</td>\n",
       "      <td>4</td>\n",
       "      <td>F</td>\n",
       "      <td>пенсионер</td>\n",
       "      <td>0</td>\n",
       "      <td>57390.256908</td>\n",
       "      <td>получение образования</td>\n",
       "    </tr>\n",
       "    <tr>\n",
       "      <td>7664</td>\n",
       "      <td>1</td>\n",
       "      <td>401675.093434</td>\n",
       "      <td>61</td>\n",
       "      <td>среднее</td>\n",
       "      <td>1</td>\n",
       "      <td>женат / замужем</td>\n",
       "      <td>0</td>\n",
       "      <td>F</td>\n",
       "      <td>пенсионер</td>\n",
       "      <td>0</td>\n",
       "      <td>126214.519212</td>\n",
       "      <td>операции с жильем</td>\n",
       "    </tr>\n",
       "    <tr>\n",
       "      <td>2156</td>\n",
       "      <td>0</td>\n",
       "      <td>401674.466633</td>\n",
       "      <td>60</td>\n",
       "      <td>среднее</td>\n",
       "      <td>1</td>\n",
       "      <td>женат / замужем</td>\n",
       "      <td>0</td>\n",
       "      <td>M</td>\n",
       "      <td>пенсионер</td>\n",
       "      <td>0</td>\n",
       "      <td>325395.724541</td>\n",
       "      <td>автомобили</td>\n",
       "    </tr>\n",
       "    <tr>\n",
       "      <td>7794</td>\n",
       "      <td>0</td>\n",
       "      <td>401663.850046</td>\n",
       "      <td>61</td>\n",
       "      <td>среднее</td>\n",
       "      <td>1</td>\n",
       "      <td>гражданский брак</td>\n",
       "      <td>1</td>\n",
       "      <td>F</td>\n",
       "      <td>пенсионер</td>\n",
       "      <td>0</td>\n",
       "      <td>48286.441362</td>\n",
       "      <td>свадьба</td>\n",
       "    </tr>\n",
       "    <tr>\n",
       "      <td>...</td>\n",
       "      <td>...</td>\n",
       "      <td>...</td>\n",
       "      <td>...</td>\n",
       "      <td>...</td>\n",
       "      <td>...</td>\n",
       "      <td>...</td>\n",
       "      <td>...</td>\n",
       "      <td>...</td>\n",
       "      <td>...</td>\n",
       "      <td>...</td>\n",
       "      <td>...</td>\n",
       "      <td>...</td>\n",
       "    </tr>\n",
       "    <tr>\n",
       "      <td>21489</td>\n",
       "      <td>2</td>\n",
       "      <td>NaN</td>\n",
       "      <td>47</td>\n",
       "      <td>Среднее</td>\n",
       "      <td>1</td>\n",
       "      <td>женат / замужем</td>\n",
       "      <td>0</td>\n",
       "      <td>M</td>\n",
       "      <td>компаньон</td>\n",
       "      <td>0</td>\n",
       "      <td>NaN</td>\n",
       "      <td>сделка с автомобилем</td>\n",
       "    </tr>\n",
       "    <tr>\n",
       "      <td>21495</td>\n",
       "      <td>1</td>\n",
       "      <td>NaN</td>\n",
       "      <td>50</td>\n",
       "      <td>среднее</td>\n",
       "      <td>1</td>\n",
       "      <td>гражданский брак</td>\n",
       "      <td>1</td>\n",
       "      <td>F</td>\n",
       "      <td>сотрудник</td>\n",
       "      <td>0</td>\n",
       "      <td>NaN</td>\n",
       "      <td>свадьба</td>\n",
       "    </tr>\n",
       "    <tr>\n",
       "      <td>21497</td>\n",
       "      <td>0</td>\n",
       "      <td>NaN</td>\n",
       "      <td>48</td>\n",
       "      <td>ВЫСШЕЕ</td>\n",
       "      <td>0</td>\n",
       "      <td>женат / замужем</td>\n",
       "      <td>0</td>\n",
       "      <td>F</td>\n",
       "      <td>компаньон</td>\n",
       "      <td>0</td>\n",
       "      <td>NaN</td>\n",
       "      <td>строительство недвижимости</td>\n",
       "    </tr>\n",
       "    <tr>\n",
       "      <td>21502</td>\n",
       "      <td>1</td>\n",
       "      <td>NaN</td>\n",
       "      <td>42</td>\n",
       "      <td>среднее</td>\n",
       "      <td>1</td>\n",
       "      <td>женат / замужем</td>\n",
       "      <td>0</td>\n",
       "      <td>F</td>\n",
       "      <td>сотрудник</td>\n",
       "      <td>0</td>\n",
       "      <td>NaN</td>\n",
       "      <td>строительство жилой недвижимости</td>\n",
       "    </tr>\n",
       "    <tr>\n",
       "      <td>21510</td>\n",
       "      <td>2</td>\n",
       "      <td>NaN</td>\n",
       "      <td>28</td>\n",
       "      <td>среднее</td>\n",
       "      <td>1</td>\n",
       "      <td>женат / замужем</td>\n",
       "      <td>0</td>\n",
       "      <td>F</td>\n",
       "      <td>сотрудник</td>\n",
       "      <td>0</td>\n",
       "      <td>NaN</td>\n",
       "      <td>приобретение автомобиля</td>\n",
       "    </tr>\n",
       "  </tbody>\n",
       "</table>\n",
       "<p>21525 rows × 12 columns</p>\n",
       "</div>"
      ],
      "text/plain": [
       "       children  days_employed  dob_years education  education_id  \\\n",
       "6954          0  401755.400475         56   среднее             1   \n",
       "10006         0  401715.811749         69    высшее             0   \n",
       "7664          1  401675.093434         61   среднее             1   \n",
       "2156          0  401674.466633         60   среднее             1   \n",
       "7794          0  401663.850046         61   среднее             1   \n",
       "...         ...            ...        ...       ...           ...   \n",
       "21489         2            NaN         47   Среднее             1   \n",
       "21495         1            NaN         50   среднее             1   \n",
       "21497         0            NaN         48    ВЫСШЕЕ             0   \n",
       "21502         1            NaN         42   среднее             1   \n",
       "21510         2            NaN         28   среднее             1   \n",
       "\n",
       "               family_status  family_status_id gender income_type  debt  \\\n",
       "6954          вдовец / вдова                 2      F   пенсионер     0   \n",
       "10006  Не женат / не замужем                 4      F   пенсионер     0   \n",
       "7664         женат / замужем                 0      F   пенсионер     0   \n",
       "2156         женат / замужем                 0      M   пенсионер     0   \n",
       "7794        гражданский брак                 1      F   пенсионер     0   \n",
       "...                      ...               ...    ...         ...   ...   \n",
       "21489        женат / замужем                 0      M   компаньон     0   \n",
       "21495       гражданский брак                 1      F   сотрудник     0   \n",
       "21497        женат / замужем                 0      F   компаньон     0   \n",
       "21502        женат / замужем                 0      F   сотрудник     0   \n",
       "21510        женат / замужем                 0      F   сотрудник     0   \n",
       "\n",
       "        total_income                           purpose  \n",
       "6954   176278.441171                      ремонт жилью  \n",
       "10006   57390.256908             получение образования  \n",
       "7664   126214.519212                 операции с жильем  \n",
       "2156   325395.724541                        автомобили  \n",
       "7794    48286.441362                           свадьба  \n",
       "...              ...                               ...  \n",
       "21489            NaN              сделка с автомобилем  \n",
       "21495            NaN                           свадьба  \n",
       "21497            NaN        строительство недвижимости  \n",
       "21502            NaN  строительство жилой недвижимости  \n",
       "21510            NaN           приобретение автомобиля  \n",
       "\n",
       "[21525 rows x 12 columns]"
      ]
     },
     "metadata": {},
     "output_type": "display_data"
    }
   ],
   "source": [
    "display(df.sort_values(by='days_employed', ascending=False))"
   ]
  },
  {
   "cell_type": "markdown",
   "id": "498e2d43",
   "metadata": {},
   "source": [
    "отсортируем таблицу по столбцу 'total_income' (ежемесячный доход) по убыванию."
   ]
  },
  {
   "cell_type": "code",
   "execution_count": 8,
   "id": "8812a386",
   "metadata": {
    "scrolled": false
   },
   "outputs": [
    {
     "data": {
      "text/html": [
       "<div>\n",
       "<style scoped>\n",
       "    .dataframe tbody tr th:only-of-type {\n",
       "        vertical-align: middle;\n",
       "    }\n",
       "\n",
       "    .dataframe tbody tr th {\n",
       "        vertical-align: top;\n",
       "    }\n",
       "\n",
       "    .dataframe thead th {\n",
       "        text-align: right;\n",
       "    }\n",
       "</style>\n",
       "<table border=\"1\" class=\"dataframe\">\n",
       "  <thead>\n",
       "    <tr style=\"text-align: right;\">\n",
       "      <th></th>\n",
       "      <th>children</th>\n",
       "      <th>days_employed</th>\n",
       "      <th>dob_years</th>\n",
       "      <th>education</th>\n",
       "      <th>education_id</th>\n",
       "      <th>family_status</th>\n",
       "      <th>family_status_id</th>\n",
       "      <th>gender</th>\n",
       "      <th>income_type</th>\n",
       "      <th>debt</th>\n",
       "      <th>total_income</th>\n",
       "      <th>purpose</th>\n",
       "    </tr>\n",
       "  </thead>\n",
       "  <tbody>\n",
       "    <tr>\n",
       "      <td>12412</td>\n",
       "      <td>0</td>\n",
       "      <td>-1477.438114</td>\n",
       "      <td>44</td>\n",
       "      <td>высшее</td>\n",
       "      <td>0</td>\n",
       "      <td>женат / замужем</td>\n",
       "      <td>0</td>\n",
       "      <td>M</td>\n",
       "      <td>компаньон</td>\n",
       "      <td>0</td>\n",
       "      <td>2.265604e+06</td>\n",
       "      <td>ремонт жилью</td>\n",
       "    </tr>\n",
       "    <tr>\n",
       "      <td>19606</td>\n",
       "      <td>1</td>\n",
       "      <td>-2577.664662</td>\n",
       "      <td>39</td>\n",
       "      <td>высшее</td>\n",
       "      <td>0</td>\n",
       "      <td>женат / замужем</td>\n",
       "      <td>0</td>\n",
       "      <td>M</td>\n",
       "      <td>компаньон</td>\n",
       "      <td>1</td>\n",
       "      <td>2.200852e+06</td>\n",
       "      <td>строительство недвижимости</td>\n",
       "    </tr>\n",
       "    <tr>\n",
       "      <td>9169</td>\n",
       "      <td>1</td>\n",
       "      <td>-5248.554336</td>\n",
       "      <td>35</td>\n",
       "      <td>среднее</td>\n",
       "      <td>1</td>\n",
       "      <td>гражданский брак</td>\n",
       "      <td>1</td>\n",
       "      <td>M</td>\n",
       "      <td>сотрудник</td>\n",
       "      <td>0</td>\n",
       "      <td>1.726276e+06</td>\n",
       "      <td>дополнительное образование</td>\n",
       "    </tr>\n",
       "    <tr>\n",
       "      <td>20809</td>\n",
       "      <td>0</td>\n",
       "      <td>-4719.273476</td>\n",
       "      <td>61</td>\n",
       "      <td>среднее</td>\n",
       "      <td>1</td>\n",
       "      <td>Не женат / не замужем</td>\n",
       "      <td>4</td>\n",
       "      <td>F</td>\n",
       "      <td>сотрудник</td>\n",
       "      <td>0</td>\n",
       "      <td>1.715018e+06</td>\n",
       "      <td>покупка жилья для семьи</td>\n",
       "    </tr>\n",
       "    <tr>\n",
       "      <td>17178</td>\n",
       "      <td>0</td>\n",
       "      <td>-5734.127087</td>\n",
       "      <td>42</td>\n",
       "      <td>высшее</td>\n",
       "      <td>0</td>\n",
       "      <td>гражданский брак</td>\n",
       "      <td>1</td>\n",
       "      <td>M</td>\n",
       "      <td>компаньон</td>\n",
       "      <td>0</td>\n",
       "      <td>1.711309e+06</td>\n",
       "      <td>сыграть свадьбу</td>\n",
       "    </tr>\n",
       "    <tr>\n",
       "      <td>...</td>\n",
       "      <td>...</td>\n",
       "      <td>...</td>\n",
       "      <td>...</td>\n",
       "      <td>...</td>\n",
       "      <td>...</td>\n",
       "      <td>...</td>\n",
       "      <td>...</td>\n",
       "      <td>...</td>\n",
       "      <td>...</td>\n",
       "      <td>...</td>\n",
       "      <td>...</td>\n",
       "      <td>...</td>\n",
       "    </tr>\n",
       "    <tr>\n",
       "      <td>21489</td>\n",
       "      <td>2</td>\n",
       "      <td>NaN</td>\n",
       "      <td>47</td>\n",
       "      <td>Среднее</td>\n",
       "      <td>1</td>\n",
       "      <td>женат / замужем</td>\n",
       "      <td>0</td>\n",
       "      <td>M</td>\n",
       "      <td>компаньон</td>\n",
       "      <td>0</td>\n",
       "      <td>NaN</td>\n",
       "      <td>сделка с автомобилем</td>\n",
       "    </tr>\n",
       "    <tr>\n",
       "      <td>21495</td>\n",
       "      <td>1</td>\n",
       "      <td>NaN</td>\n",
       "      <td>50</td>\n",
       "      <td>среднее</td>\n",
       "      <td>1</td>\n",
       "      <td>гражданский брак</td>\n",
       "      <td>1</td>\n",
       "      <td>F</td>\n",
       "      <td>сотрудник</td>\n",
       "      <td>0</td>\n",
       "      <td>NaN</td>\n",
       "      <td>свадьба</td>\n",
       "    </tr>\n",
       "    <tr>\n",
       "      <td>21497</td>\n",
       "      <td>0</td>\n",
       "      <td>NaN</td>\n",
       "      <td>48</td>\n",
       "      <td>ВЫСШЕЕ</td>\n",
       "      <td>0</td>\n",
       "      <td>женат / замужем</td>\n",
       "      <td>0</td>\n",
       "      <td>F</td>\n",
       "      <td>компаньон</td>\n",
       "      <td>0</td>\n",
       "      <td>NaN</td>\n",
       "      <td>строительство недвижимости</td>\n",
       "    </tr>\n",
       "    <tr>\n",
       "      <td>21502</td>\n",
       "      <td>1</td>\n",
       "      <td>NaN</td>\n",
       "      <td>42</td>\n",
       "      <td>среднее</td>\n",
       "      <td>1</td>\n",
       "      <td>женат / замужем</td>\n",
       "      <td>0</td>\n",
       "      <td>F</td>\n",
       "      <td>сотрудник</td>\n",
       "      <td>0</td>\n",
       "      <td>NaN</td>\n",
       "      <td>строительство жилой недвижимости</td>\n",
       "    </tr>\n",
       "    <tr>\n",
       "      <td>21510</td>\n",
       "      <td>2</td>\n",
       "      <td>NaN</td>\n",
       "      <td>28</td>\n",
       "      <td>среднее</td>\n",
       "      <td>1</td>\n",
       "      <td>женат / замужем</td>\n",
       "      <td>0</td>\n",
       "      <td>F</td>\n",
       "      <td>сотрудник</td>\n",
       "      <td>0</td>\n",
       "      <td>NaN</td>\n",
       "      <td>приобретение автомобиля</td>\n",
       "    </tr>\n",
       "  </tbody>\n",
       "</table>\n",
       "<p>21525 rows × 12 columns</p>\n",
       "</div>"
      ],
      "text/plain": [
       "       children  days_employed  dob_years education  education_id  \\\n",
       "12412         0   -1477.438114         44    высшее             0   \n",
       "19606         1   -2577.664662         39    высшее             0   \n",
       "9169          1   -5248.554336         35   среднее             1   \n",
       "20809         0   -4719.273476         61   среднее             1   \n",
       "17178         0   -5734.127087         42    высшее             0   \n",
       "...         ...            ...        ...       ...           ...   \n",
       "21489         2            NaN         47   Среднее             1   \n",
       "21495         1            NaN         50   среднее             1   \n",
       "21497         0            NaN         48    ВЫСШЕЕ             0   \n",
       "21502         1            NaN         42   среднее             1   \n",
       "21510         2            NaN         28   среднее             1   \n",
       "\n",
       "               family_status  family_status_id gender income_type  debt  \\\n",
       "12412        женат / замужем                 0      M   компаньон     0   \n",
       "19606        женат / замужем                 0      M   компаньон     1   \n",
       "9169        гражданский брак                 1      M   сотрудник     0   \n",
       "20809  Не женат / не замужем                 4      F   сотрудник     0   \n",
       "17178       гражданский брак                 1      M   компаньон     0   \n",
       "...                      ...               ...    ...         ...   ...   \n",
       "21489        женат / замужем                 0      M   компаньон     0   \n",
       "21495       гражданский брак                 1      F   сотрудник     0   \n",
       "21497        женат / замужем                 0      F   компаньон     0   \n",
       "21502        женат / замужем                 0      F   сотрудник     0   \n",
       "21510        женат / замужем                 0      F   сотрудник     0   \n",
       "\n",
       "       total_income                           purpose  \n",
       "12412  2.265604e+06                      ремонт жилью  \n",
       "19606  2.200852e+06        строительство недвижимости  \n",
       "9169   1.726276e+06        дополнительное образование  \n",
       "20809  1.715018e+06           покупка жилья для семьи  \n",
       "17178  1.711309e+06                   сыграть свадьбу  \n",
       "...             ...                               ...  \n",
       "21489           NaN              сделка с автомобилем  \n",
       "21495           NaN                           свадьба  \n",
       "21497           NaN        строительство недвижимости  \n",
       "21502           NaN  строительство жилой недвижимости  \n",
       "21510           NaN           приобретение автомобиля  \n",
       "\n",
       "[21525 rows x 12 columns]"
      ]
     },
     "metadata": {},
     "output_type": "display_data"
    }
   ],
   "source": [
    "display(df.sort_values(by='total_income', ascending=False))"
   ]
  },
  {
   "cell_type": "markdown",
   "id": "612fc424",
   "metadata": {},
   "source": [
    "Просежуточные выводы: в двух столбцах были найденные пропуски в значениях. В days_employed   -  2174 пропусков, в total_income  -   2174 пропусков"
   ]
  },
  {
   "cell_type": "markdown",
   "id": "2fa05f39",
   "metadata": {},
   "source": [
    "### Шаг 2.1 Заполнение пропусков"
   ]
  },
  {
   "cell_type": "code",
   "execution_count": 9,
   "id": "de6f6843",
   "metadata": {},
   "outputs": [
    {
     "data": {
      "text/plain": [
       "children               0\n",
       "days_employed       2174\n",
       "dob_years              0\n",
       "education              0\n",
       "education_id           0\n",
       "family_status          0\n",
       "family_status_id       0\n",
       "gender                 0\n",
       "income_type            0\n",
       "debt                   0\n",
       "total_income        2174\n",
       "purpose                0\n",
       "dtype: int64"
      ]
     },
     "execution_count": 9,
     "metadata": {},
     "output_type": "execute_result"
    }
   ],
   "source": [
    "df.isna().sum()"
   ]
  },
  {
   "cell_type": "code",
   "execution_count": 10,
   "id": "77990900",
   "metadata": {},
   "outputs": [],
   "source": [
    "import numpy as np"
   ]
  },
  {
   "cell_type": "code",
   "execution_count": 11,
   "id": "f94d00ad",
   "metadata": {},
   "outputs": [],
   "source": [
    "m = np.vectorize(len)\n"
   ]
  },
  {
   "cell_type": "markdown",
   "id": "cd9af574",
   "metadata": {},
   "source": [
    "Как видно пропуски в двух столбцах: days_employed (трудовой стаж) и total_income (уровень дохлда). "
   ]
  },
  {
   "cell_type": "code",
   "execution_count": 12,
   "id": "4bc61acf",
   "metadata": {},
   "outputs": [
    {
     "name": "stdout",
     "output_type": "stream",
     "text": [
      "доля пропусков в столбце days_employed: 10.099883855981417\n"
     ]
    }
   ],
   "source": [
    "print('доля пропусков в столбце days_employed:', df['days_employed'].isna().sum() / len(df['days_employed']) * 100)"
   ]
  },
  {
   "cell_type": "code",
   "execution_count": 13,
   "id": "1ce162ca",
   "metadata": {},
   "outputs": [
    {
     "name": "stdout",
     "output_type": "stream",
     "text": [
      "доля пропусков в столбце total_income: 10.099883855981417\n"
     ]
    }
   ],
   "source": [
    "print('доля пропусков в столбце total_income:', df['total_income'].isna().sum() / len(df['total_income']) * 100)"
   ]
  },
  {
   "cell_type": "markdown",
   "id": "e1578e09",
   "metadata": {},
   "source": [
    "Возможные причины пропусков:\n",
    " - ЧЕЛОВЕЧЕСКИЙ ФАКТОР. В графе могут быть пропуски по причине незаполнения граф. Возможно разработчик не предусмотрел данные графы как обязательные к заолнению и в ходе внесения данных оператором данные были не внесены.\n",
    " - ТЕХНОЛОГИЧЕСКИЙ ФАКТОР. Возможно данные графы заполнялись из дополнительных БД и был сбой в результете чего некоторые данные не были внесены в данную таблицу."
   ]
  },
  {
   "cell_type": "markdown",
   "id": "f8243062",
   "metadata": {},
   "source": [
    "Зполнение медианным значением для кол-в переменных является лучшем решением т.к. медиана более устойчева к аномально большим и малым значениям. Например: аномально большоиу дохлоду или анамально большому стажу"
   ]
  },
  {
   "cell_type": "code",
   "execution_count": 14,
   "id": "48b15893",
   "metadata": {},
   "outputs": [],
   "source": [
    "days_employed_median = df['days_employed'].median()\n",
    "total_income_median = df['total_income'].median()\n",
    "\n",
    "df['days_employed'] = df['days_employed'].fillna(value=days_employed_median)\n",
    "df['total_income'] = df['total_income'].fillna(value=total_income_median)"
   ]
  },
  {
   "cell_type": "code",
   "execution_count": 15,
   "id": "4fd5fc29",
   "metadata": {},
   "outputs": [
    {
     "data": {
      "text/html": [
       "<div>\n",
       "<style scoped>\n",
       "    .dataframe tbody tr th:only-of-type {\n",
       "        vertical-align: middle;\n",
       "    }\n",
       "\n",
       "    .dataframe tbody tr th {\n",
       "        vertical-align: top;\n",
       "    }\n",
       "\n",
       "    .dataframe thead th {\n",
       "        text-align: right;\n",
       "    }\n",
       "</style>\n",
       "<table border=\"1\" class=\"dataframe\">\n",
       "  <thead>\n",
       "    <tr style=\"text-align: right;\">\n",
       "      <th></th>\n",
       "      <th>children</th>\n",
       "      <th>days_employed</th>\n",
       "      <th>dob_years</th>\n",
       "      <th>education</th>\n",
       "      <th>education_id</th>\n",
       "      <th>family_status</th>\n",
       "      <th>family_status_id</th>\n",
       "      <th>gender</th>\n",
       "      <th>income_type</th>\n",
       "      <th>debt</th>\n",
       "      <th>total_income</th>\n",
       "      <th>purpose</th>\n",
       "    </tr>\n",
       "  </thead>\n",
       "  <tbody>\n",
       "    <tr>\n",
       "      <td>0</td>\n",
       "      <td>1</td>\n",
       "      <td>-8437.673028</td>\n",
       "      <td>42</td>\n",
       "      <td>высшее</td>\n",
       "      <td>0</td>\n",
       "      <td>женат / замужем</td>\n",
       "      <td>0</td>\n",
       "      <td>F</td>\n",
       "      <td>сотрудник</td>\n",
       "      <td>0</td>\n",
       "      <td>253875.639453</td>\n",
       "      <td>покупка жилья</td>\n",
       "    </tr>\n",
       "    <tr>\n",
       "      <td>1</td>\n",
       "      <td>1</td>\n",
       "      <td>-4024.803754</td>\n",
       "      <td>36</td>\n",
       "      <td>среднее</td>\n",
       "      <td>1</td>\n",
       "      <td>женат / замужем</td>\n",
       "      <td>0</td>\n",
       "      <td>F</td>\n",
       "      <td>сотрудник</td>\n",
       "      <td>0</td>\n",
       "      <td>112080.014102</td>\n",
       "      <td>приобретение автомобиля</td>\n",
       "    </tr>\n",
       "    <tr>\n",
       "      <td>2</td>\n",
       "      <td>0</td>\n",
       "      <td>-5623.422610</td>\n",
       "      <td>33</td>\n",
       "      <td>Среднее</td>\n",
       "      <td>1</td>\n",
       "      <td>женат / замужем</td>\n",
       "      <td>0</td>\n",
       "      <td>M</td>\n",
       "      <td>сотрудник</td>\n",
       "      <td>0</td>\n",
       "      <td>145885.952297</td>\n",
       "      <td>покупка жилья</td>\n",
       "    </tr>\n",
       "    <tr>\n",
       "      <td>3</td>\n",
       "      <td>3</td>\n",
       "      <td>-4124.747207</td>\n",
       "      <td>32</td>\n",
       "      <td>среднее</td>\n",
       "      <td>1</td>\n",
       "      <td>женат / замужем</td>\n",
       "      <td>0</td>\n",
       "      <td>M</td>\n",
       "      <td>сотрудник</td>\n",
       "      <td>0</td>\n",
       "      <td>267628.550329</td>\n",
       "      <td>дополнительное образование</td>\n",
       "    </tr>\n",
       "    <tr>\n",
       "      <td>4</td>\n",
       "      <td>0</td>\n",
       "      <td>340266.072047</td>\n",
       "      <td>53</td>\n",
       "      <td>среднее</td>\n",
       "      <td>1</td>\n",
       "      <td>гражданский брак</td>\n",
       "      <td>1</td>\n",
       "      <td>F</td>\n",
       "      <td>пенсионер</td>\n",
       "      <td>0</td>\n",
       "      <td>158616.077870</td>\n",
       "      <td>сыграть свадьбу</td>\n",
       "    </tr>\n",
       "    <tr>\n",
       "      <td>5</td>\n",
       "      <td>0</td>\n",
       "      <td>-926.185831</td>\n",
       "      <td>27</td>\n",
       "      <td>высшее</td>\n",
       "      <td>0</td>\n",
       "      <td>гражданский брак</td>\n",
       "      <td>1</td>\n",
       "      <td>M</td>\n",
       "      <td>компаньон</td>\n",
       "      <td>0</td>\n",
       "      <td>255763.565419</td>\n",
       "      <td>покупка жилья</td>\n",
       "    </tr>\n",
       "    <tr>\n",
       "      <td>6</td>\n",
       "      <td>0</td>\n",
       "      <td>-2879.202052</td>\n",
       "      <td>43</td>\n",
       "      <td>высшее</td>\n",
       "      <td>0</td>\n",
       "      <td>женат / замужем</td>\n",
       "      <td>0</td>\n",
       "      <td>F</td>\n",
       "      <td>компаньон</td>\n",
       "      <td>0</td>\n",
       "      <td>240525.971920</td>\n",
       "      <td>операции с жильем</td>\n",
       "    </tr>\n",
       "    <tr>\n",
       "      <td>7</td>\n",
       "      <td>0</td>\n",
       "      <td>-152.779569</td>\n",
       "      <td>50</td>\n",
       "      <td>СРЕДНЕЕ</td>\n",
       "      <td>1</td>\n",
       "      <td>женат / замужем</td>\n",
       "      <td>0</td>\n",
       "      <td>M</td>\n",
       "      <td>сотрудник</td>\n",
       "      <td>0</td>\n",
       "      <td>135823.934197</td>\n",
       "      <td>образование</td>\n",
       "    </tr>\n",
       "    <tr>\n",
       "      <td>8</td>\n",
       "      <td>2</td>\n",
       "      <td>-6929.865299</td>\n",
       "      <td>35</td>\n",
       "      <td>ВЫСШЕЕ</td>\n",
       "      <td>0</td>\n",
       "      <td>гражданский брак</td>\n",
       "      <td>1</td>\n",
       "      <td>F</td>\n",
       "      <td>сотрудник</td>\n",
       "      <td>0</td>\n",
       "      <td>95856.832424</td>\n",
       "      <td>на проведение свадьбы</td>\n",
       "    </tr>\n",
       "    <tr>\n",
       "      <td>9</td>\n",
       "      <td>0</td>\n",
       "      <td>-2188.756445</td>\n",
       "      <td>41</td>\n",
       "      <td>среднее</td>\n",
       "      <td>1</td>\n",
       "      <td>женат / замужем</td>\n",
       "      <td>0</td>\n",
       "      <td>M</td>\n",
       "      <td>сотрудник</td>\n",
       "      <td>0</td>\n",
       "      <td>144425.938277</td>\n",
       "      <td>покупка жилья для семьи</td>\n",
       "    </tr>\n",
       "  </tbody>\n",
       "</table>\n",
       "</div>"
      ],
      "text/plain": [
       "   children  days_employed  dob_years education  education_id  \\\n",
       "0         1   -8437.673028         42    высшее             0   \n",
       "1         1   -4024.803754         36   среднее             1   \n",
       "2         0   -5623.422610         33   Среднее             1   \n",
       "3         3   -4124.747207         32   среднее             1   \n",
       "4         0  340266.072047         53   среднее             1   \n",
       "5         0    -926.185831         27    высшее             0   \n",
       "6         0   -2879.202052         43    высшее             0   \n",
       "7         0    -152.779569         50   СРЕДНЕЕ             1   \n",
       "8         2   -6929.865299         35    ВЫСШЕЕ             0   \n",
       "9         0   -2188.756445         41   среднее             1   \n",
       "\n",
       "      family_status  family_status_id gender income_type  debt   total_income  \\\n",
       "0   женат / замужем                 0      F   сотрудник     0  253875.639453   \n",
       "1   женат / замужем                 0      F   сотрудник     0  112080.014102   \n",
       "2   женат / замужем                 0      M   сотрудник     0  145885.952297   \n",
       "3   женат / замужем                 0      M   сотрудник     0  267628.550329   \n",
       "4  гражданский брак                 1      F   пенсионер     0  158616.077870   \n",
       "5  гражданский брак                 1      M   компаньон     0  255763.565419   \n",
       "6   женат / замужем                 0      F   компаньон     0  240525.971920   \n",
       "7   женат / замужем                 0      M   сотрудник     0  135823.934197   \n",
       "8  гражданский брак                 1      F   сотрудник     0   95856.832424   \n",
       "9   женат / замужем                 0      M   сотрудник     0  144425.938277   \n",
       "\n",
       "                      purpose  \n",
       "0               покупка жилья  \n",
       "1     приобретение автомобиля  \n",
       "2               покупка жилья  \n",
       "3  дополнительное образование  \n",
       "4             сыграть свадьбу  \n",
       "5               покупка жилья  \n",
       "6           операции с жильем  \n",
       "7                 образование  \n",
       "8       на проведение свадьбы  \n",
       "9     покупка жилья для семьи  "
      ]
     },
     "metadata": {},
     "output_type": "display_data"
    }
   ],
   "source": [
    "display(df.head(10))"
   ]
  },
  {
   "cell_type": "markdown",
   "id": "f52ecff4",
   "metadata": {},
   "source": [
    "### Шаг 2.2 Проверка данных на аномалии и исправления."
   ]
  },
  {
   "cell_type": "code",
   "execution_count": 16,
   "id": "1fdb934b",
   "metadata": {},
   "outputs": [
    {
     "name": "stdout",
     "output_type": "stream",
     "text": [
      "Набор уникальных значений в столбце children [ 1  0  3  2 -1  4 20  5]\n"
     ]
    }
   ],
   "source": [
    "print('Набор уникальных значений в столбце children', df['children'].unique())"
   ]
  },
  {
   "cell_type": "markdown",
   "id": "8cb40701",
   "metadata": {},
   "source": [
    "Как видно есть два аномальных значения: -1 и 20. Если 20, еще может быть. -1 не может быть в столбце с количественными данными"
   ]
  },
  {
   "cell_type": "code",
   "execution_count": 17,
   "id": "8a4a44ed",
   "metadata": {},
   "outputs": [
    {
     "name": "stdout",
     "output_type": "stream",
     "text": [
      "Кол-во значений -1 в children: 47\n",
      "Кол-во значений 20 в children: 76\n"
     ]
    }
   ],
   "source": [
    "print('Кол-во значений -1 в children:', df[df['children'] == -1 ]['children'].count())\n",
    "print('Кол-во значений 20 в children:', df[df['children'] == 20 ]['children'].count())"
   ]
  },
  {
   "cell_type": "code",
   "execution_count": 18,
   "id": "44a79176",
   "metadata": {
    "scrolled": true
   },
   "outputs": [
    {
     "data": {
      "text/html": [
       "<div>\n",
       "<style scoped>\n",
       "    .dataframe tbody tr th:only-of-type {\n",
       "        vertical-align: middle;\n",
       "    }\n",
       "\n",
       "    .dataframe tbody tr th {\n",
       "        vertical-align: top;\n",
       "    }\n",
       "\n",
       "    .dataframe thead th {\n",
       "        text-align: right;\n",
       "    }\n",
       "</style>\n",
       "<table border=\"1\" class=\"dataframe\">\n",
       "  <thead>\n",
       "    <tr style=\"text-align: right;\">\n",
       "      <th></th>\n",
       "      <th>children</th>\n",
       "      <th>days_employed</th>\n",
       "      <th>dob_years</th>\n",
       "      <th>education</th>\n",
       "      <th>education_id</th>\n",
       "      <th>family_status</th>\n",
       "      <th>family_status_id</th>\n",
       "      <th>gender</th>\n",
       "      <th>income_type</th>\n",
       "      <th>debt</th>\n",
       "      <th>total_income</th>\n",
       "      <th>purpose</th>\n",
       "    </tr>\n",
       "  </thead>\n",
       "  <tbody>\n",
       "    <tr>\n",
       "      <td>606</td>\n",
       "      <td>20</td>\n",
       "      <td>-880.221113</td>\n",
       "      <td>21</td>\n",
       "      <td>среднее</td>\n",
       "      <td>1</td>\n",
       "      <td>женат / замужем</td>\n",
       "      <td>0</td>\n",
       "      <td>M</td>\n",
       "      <td>компаньон</td>\n",
       "      <td>0</td>\n",
       "      <td>145334.865002</td>\n",
       "      <td>покупка жилья</td>\n",
       "    </tr>\n",
       "    <tr>\n",
       "      <td>720</td>\n",
       "      <td>20</td>\n",
       "      <td>-855.595512</td>\n",
       "      <td>44</td>\n",
       "      <td>среднее</td>\n",
       "      <td>1</td>\n",
       "      <td>женат / замужем</td>\n",
       "      <td>0</td>\n",
       "      <td>F</td>\n",
       "      <td>компаньон</td>\n",
       "      <td>0</td>\n",
       "      <td>112998.738649</td>\n",
       "      <td>покупка недвижимости</td>\n",
       "    </tr>\n",
       "    <tr>\n",
       "      <td>1074</td>\n",
       "      <td>20</td>\n",
       "      <td>-3310.411598</td>\n",
       "      <td>56</td>\n",
       "      <td>среднее</td>\n",
       "      <td>1</td>\n",
       "      <td>женат / замужем</td>\n",
       "      <td>0</td>\n",
       "      <td>F</td>\n",
       "      <td>сотрудник</td>\n",
       "      <td>1</td>\n",
       "      <td>229518.537004</td>\n",
       "      <td>получение образования</td>\n",
       "    </tr>\n",
       "    <tr>\n",
       "      <td>2510</td>\n",
       "      <td>20</td>\n",
       "      <td>-2714.161249</td>\n",
       "      <td>59</td>\n",
       "      <td>высшее</td>\n",
       "      <td>0</td>\n",
       "      <td>вдовец / вдова</td>\n",
       "      <td>2</td>\n",
       "      <td>F</td>\n",
       "      <td>сотрудник</td>\n",
       "      <td>0</td>\n",
       "      <td>264474.835577</td>\n",
       "      <td>операции с коммерческой недвижимостью</td>\n",
       "    </tr>\n",
       "    <tr>\n",
       "      <td>2941</td>\n",
       "      <td>20</td>\n",
       "      <td>-2161.591519</td>\n",
       "      <td>0</td>\n",
       "      <td>среднее</td>\n",
       "      <td>1</td>\n",
       "      <td>женат / замужем</td>\n",
       "      <td>0</td>\n",
       "      <td>F</td>\n",
       "      <td>сотрудник</td>\n",
       "      <td>0</td>\n",
       "      <td>199739.941398</td>\n",
       "      <td>на покупку автомобиля</td>\n",
       "    </tr>\n",
       "    <tr>\n",
       "      <td>...</td>\n",
       "      <td>...</td>\n",
       "      <td>...</td>\n",
       "      <td>...</td>\n",
       "      <td>...</td>\n",
       "      <td>...</td>\n",
       "      <td>...</td>\n",
       "      <td>...</td>\n",
       "      <td>...</td>\n",
       "      <td>...</td>\n",
       "      <td>...</td>\n",
       "      <td>...</td>\n",
       "      <td>...</td>\n",
       "    </tr>\n",
       "    <tr>\n",
       "      <td>21008</td>\n",
       "      <td>20</td>\n",
       "      <td>-1240.257910</td>\n",
       "      <td>40</td>\n",
       "      <td>среднее</td>\n",
       "      <td>1</td>\n",
       "      <td>женат / замужем</td>\n",
       "      <td>0</td>\n",
       "      <td>F</td>\n",
       "      <td>сотрудник</td>\n",
       "      <td>1</td>\n",
       "      <td>133524.010303</td>\n",
       "      <td>свой автомобиль</td>\n",
       "    </tr>\n",
       "    <tr>\n",
       "      <td>21325</td>\n",
       "      <td>20</td>\n",
       "      <td>-601.174883</td>\n",
       "      <td>37</td>\n",
       "      <td>среднее</td>\n",
       "      <td>1</td>\n",
       "      <td>женат / замужем</td>\n",
       "      <td>0</td>\n",
       "      <td>F</td>\n",
       "      <td>компаньон</td>\n",
       "      <td>0</td>\n",
       "      <td>102986.065978</td>\n",
       "      <td>профильное образование</td>\n",
       "    </tr>\n",
       "    <tr>\n",
       "      <td>21390</td>\n",
       "      <td>20</td>\n",
       "      <td>-1203.369529</td>\n",
       "      <td>53</td>\n",
       "      <td>среднее</td>\n",
       "      <td>1</td>\n",
       "      <td>женат / замужем</td>\n",
       "      <td>0</td>\n",
       "      <td>M</td>\n",
       "      <td>компаньон</td>\n",
       "      <td>0</td>\n",
       "      <td>145017.937533</td>\n",
       "      <td>покупка жилой недвижимости</td>\n",
       "    </tr>\n",
       "    <tr>\n",
       "      <td>21404</td>\n",
       "      <td>20</td>\n",
       "      <td>-494.788448</td>\n",
       "      <td>52</td>\n",
       "      <td>среднее</td>\n",
       "      <td>1</td>\n",
       "      <td>женат / замужем</td>\n",
       "      <td>0</td>\n",
       "      <td>M</td>\n",
       "      <td>компаньон</td>\n",
       "      <td>0</td>\n",
       "      <td>156629.683642</td>\n",
       "      <td>операции со своей недвижимостью</td>\n",
       "    </tr>\n",
       "    <tr>\n",
       "      <td>21491</td>\n",
       "      <td>20</td>\n",
       "      <td>-173.954460</td>\n",
       "      <td>27</td>\n",
       "      <td>среднее</td>\n",
       "      <td>1</td>\n",
       "      <td>женат / замужем</td>\n",
       "      <td>0</td>\n",
       "      <td>F</td>\n",
       "      <td>сотрудник</td>\n",
       "      <td>0</td>\n",
       "      <td>155520.899688</td>\n",
       "      <td>на покупку подержанного автомобиля</td>\n",
       "    </tr>\n",
       "  </tbody>\n",
       "</table>\n",
       "<p>76 rows × 12 columns</p>\n",
       "</div>"
      ],
      "text/plain": [
       "       children  days_employed  dob_years education  education_id  \\\n",
       "606          20    -880.221113         21   среднее             1   \n",
       "720          20    -855.595512         44   среднее             1   \n",
       "1074         20   -3310.411598         56   среднее             1   \n",
       "2510         20   -2714.161249         59    высшее             0   \n",
       "2941         20   -2161.591519          0   среднее             1   \n",
       "...         ...            ...        ...       ...           ...   \n",
       "21008        20   -1240.257910         40   среднее             1   \n",
       "21325        20    -601.174883         37   среднее             1   \n",
       "21390        20   -1203.369529         53   среднее             1   \n",
       "21404        20    -494.788448         52   среднее             1   \n",
       "21491        20    -173.954460         27   среднее             1   \n",
       "\n",
       "         family_status  family_status_id gender income_type  debt  \\\n",
       "606    женат / замужем                 0      M   компаньон     0   \n",
       "720    женат / замужем                 0      F   компаньон     0   \n",
       "1074   женат / замужем                 0      F   сотрудник     1   \n",
       "2510    вдовец / вдова                 2      F   сотрудник     0   \n",
       "2941   женат / замужем                 0      F   сотрудник     0   \n",
       "...                ...               ...    ...         ...   ...   \n",
       "21008  женат / замужем                 0      F   сотрудник     1   \n",
       "21325  женат / замужем                 0      F   компаньон     0   \n",
       "21390  женат / замужем                 0      M   компаньон     0   \n",
       "21404  женат / замужем                 0      M   компаньон     0   \n",
       "21491  женат / замужем                 0      F   сотрудник     0   \n",
       "\n",
       "        total_income                                purpose  \n",
       "606    145334.865002                          покупка жилья  \n",
       "720    112998.738649                   покупка недвижимости  \n",
       "1074   229518.537004                  получение образования  \n",
       "2510   264474.835577  операции с коммерческой недвижимостью  \n",
       "2941   199739.941398                  на покупку автомобиля  \n",
       "...              ...                                    ...  \n",
       "21008  133524.010303                        свой автомобиль  \n",
       "21325  102986.065978                 профильное образование  \n",
       "21390  145017.937533             покупка жилой недвижимости  \n",
       "21404  156629.683642        операции со своей недвижимостью  \n",
       "21491  155520.899688     на покупку подержанного автомобиля  \n",
       "\n",
       "[76 rows x 12 columns]"
      ]
     },
     "metadata": {},
     "output_type": "display_data"
    }
   ],
   "source": [
    "display(df[df['children'] == 20])"
   ]
  },
  {
   "cell_type": "markdown",
   "id": "f8b9bcb0",
   "metadata": {},
   "source": [
    "Согласен, что значения \"20\" довольно странное. В связи с тем что проблематично выявить закономерность его появления, решил удалить строки с занчениями \"-1\" и \"20\". Строк от обще выборке не много, на результат исследования должны не повлиять."
   ]
  },
  {
   "cell_type": "code",
   "execution_count": 19,
   "id": "00da0e1c",
   "metadata": {},
   "outputs": [
    {
     "name": "stdout",
     "output_type": "stream",
     "text": [
      "Кол-во значений -1 в children: 0\n",
      "Кол-во значений 20 в children: 0\n"
     ]
    }
   ],
   "source": [
    "df = df.drop(df[(df.children == -1) | (df.children == 20)].index)\n",
    "print('Кол-во значений -1 в children:', df[df['children'] == -1 ]['children'].count())\n",
    "print('Кол-во значений 20 в children:', df[df['children'] == 20 ]['children'].count())"
   ]
  },
  {
   "cell_type": "markdown",
   "id": "c1566c95",
   "metadata": {},
   "source": [
    "Возможное появление значения -1: таким образом могли сотрудники обозначать отсутвие детей, видно что в таблице присутвует и значение 0. -1 могло воявиться по причине того что данные вносяться с клавиатуры, а в поле не предесмотрено ограничение на ввод отрицательных начений"
   ]
  },
  {
   "cell_type": "code",
   "execution_count": 20,
   "id": "71d45d0c",
   "metadata": {},
   "outputs": [
    {
     "name": "stdout",
     "output_type": "stream",
     "text": [
      "Кол-во аномальных значений (значения < 0) в days_employed: 17971\n",
      "Кол-во значений > 0 в days_employed: 3431\n"
     ]
    }
   ],
   "source": [
    "print('Кол-во аномальных значений (значения < 0) в days_employed:', df[df['days_employed'] < 0 ]['days_employed'].count())\n",
    "print('Кол-во значений > 0 в days_employed:', df[df['days_employed'] > 0 ]['days_employed'].count())"
   ]
  },
  {
   "cell_type": "code",
   "execution_count": 21,
   "id": "45f8f0a9",
   "metadata": {},
   "outputs": [
    {
     "data": {
      "text/html": [
       "<div>\n",
       "<style scoped>\n",
       "    .dataframe tbody tr th:only-of-type {\n",
       "        vertical-align: middle;\n",
       "    }\n",
       "\n",
       "    .dataframe tbody tr th {\n",
       "        vertical-align: top;\n",
       "    }\n",
       "\n",
       "    .dataframe thead th {\n",
       "        text-align: right;\n",
       "    }\n",
       "</style>\n",
       "<table border=\"1\" class=\"dataframe\">\n",
       "  <thead>\n",
       "    <tr style=\"text-align: right;\">\n",
       "      <th></th>\n",
       "      <th>children</th>\n",
       "      <th>days_employed</th>\n",
       "      <th>dob_years</th>\n",
       "      <th>education</th>\n",
       "      <th>education_id</th>\n",
       "      <th>family_status</th>\n",
       "      <th>family_status_id</th>\n",
       "      <th>gender</th>\n",
       "      <th>income_type</th>\n",
       "      <th>debt</th>\n",
       "      <th>total_income</th>\n",
       "      <th>purpose</th>\n",
       "    </tr>\n",
       "  </thead>\n",
       "  <tbody>\n",
       "    <tr>\n",
       "      <td>4</td>\n",
       "      <td>0</td>\n",
       "      <td>340266.072047</td>\n",
       "      <td>53</td>\n",
       "      <td>среднее</td>\n",
       "      <td>1</td>\n",
       "      <td>гражданский брак</td>\n",
       "      <td>1</td>\n",
       "      <td>F</td>\n",
       "      <td>пенсионер</td>\n",
       "      <td>0</td>\n",
       "      <td>158616.077870</td>\n",
       "      <td>сыграть свадьбу</td>\n",
       "    </tr>\n",
       "    <tr>\n",
       "      <td>18</td>\n",
       "      <td>0</td>\n",
       "      <td>400281.136913</td>\n",
       "      <td>53</td>\n",
       "      <td>среднее</td>\n",
       "      <td>1</td>\n",
       "      <td>вдовец / вдова</td>\n",
       "      <td>2</td>\n",
       "      <td>F</td>\n",
       "      <td>пенсионер</td>\n",
       "      <td>0</td>\n",
       "      <td>56823.777243</td>\n",
       "      <td>на покупку подержанного автомобиля</td>\n",
       "    </tr>\n",
       "    <tr>\n",
       "      <td>24</td>\n",
       "      <td>1</td>\n",
       "      <td>338551.952911</td>\n",
       "      <td>57</td>\n",
       "      <td>среднее</td>\n",
       "      <td>1</td>\n",
       "      <td>Не женат / не замужем</td>\n",
       "      <td>4</td>\n",
       "      <td>F</td>\n",
       "      <td>пенсионер</td>\n",
       "      <td>0</td>\n",
       "      <td>290547.235997</td>\n",
       "      <td>операции с коммерческой недвижимостью</td>\n",
       "    </tr>\n",
       "    <tr>\n",
       "      <td>25</td>\n",
       "      <td>0</td>\n",
       "      <td>363548.489348</td>\n",
       "      <td>67</td>\n",
       "      <td>среднее</td>\n",
       "      <td>1</td>\n",
       "      <td>женат / замужем</td>\n",
       "      <td>0</td>\n",
       "      <td>M</td>\n",
       "      <td>пенсионер</td>\n",
       "      <td>0</td>\n",
       "      <td>55112.757732</td>\n",
       "      <td>покупка недвижимости</td>\n",
       "    </tr>\n",
       "    <tr>\n",
       "      <td>30</td>\n",
       "      <td>1</td>\n",
       "      <td>335581.668515</td>\n",
       "      <td>62</td>\n",
       "      <td>среднее</td>\n",
       "      <td>1</td>\n",
       "      <td>женат / замужем</td>\n",
       "      <td>0</td>\n",
       "      <td>F</td>\n",
       "      <td>пенсионер</td>\n",
       "      <td>0</td>\n",
       "      <td>171456.067993</td>\n",
       "      <td>операции с коммерческой недвижимостью</td>\n",
       "    </tr>\n",
       "    <tr>\n",
       "      <td>...</td>\n",
       "      <td>...</td>\n",
       "      <td>...</td>\n",
       "      <td>...</td>\n",
       "      <td>...</td>\n",
       "      <td>...</td>\n",
       "      <td>...</td>\n",
       "      <td>...</td>\n",
       "      <td>...</td>\n",
       "      <td>...</td>\n",
       "      <td>...</td>\n",
       "      <td>...</td>\n",
       "      <td>...</td>\n",
       "    </tr>\n",
       "    <tr>\n",
       "      <td>21505</td>\n",
       "      <td>0</td>\n",
       "      <td>338904.866406</td>\n",
       "      <td>53</td>\n",
       "      <td>среднее</td>\n",
       "      <td>1</td>\n",
       "      <td>гражданский брак</td>\n",
       "      <td>1</td>\n",
       "      <td>M</td>\n",
       "      <td>пенсионер</td>\n",
       "      <td>0</td>\n",
       "      <td>75439.993167</td>\n",
       "      <td>сыграть свадьбу</td>\n",
       "    </tr>\n",
       "    <tr>\n",
       "      <td>21508</td>\n",
       "      <td>0</td>\n",
       "      <td>386497.714078</td>\n",
       "      <td>62</td>\n",
       "      <td>среднее</td>\n",
       "      <td>1</td>\n",
       "      <td>женат / замужем</td>\n",
       "      <td>0</td>\n",
       "      <td>M</td>\n",
       "      <td>пенсионер</td>\n",
       "      <td>0</td>\n",
       "      <td>72638.590915</td>\n",
       "      <td>недвижимость</td>\n",
       "    </tr>\n",
       "    <tr>\n",
       "      <td>21509</td>\n",
       "      <td>0</td>\n",
       "      <td>362161.054124</td>\n",
       "      <td>59</td>\n",
       "      <td>высшее</td>\n",
       "      <td>0</td>\n",
       "      <td>женат / замужем</td>\n",
       "      <td>0</td>\n",
       "      <td>M</td>\n",
       "      <td>пенсионер</td>\n",
       "      <td>0</td>\n",
       "      <td>73029.059379</td>\n",
       "      <td>операции с недвижимостью</td>\n",
       "    </tr>\n",
       "    <tr>\n",
       "      <td>21518</td>\n",
       "      <td>0</td>\n",
       "      <td>373995.710838</td>\n",
       "      <td>59</td>\n",
       "      <td>СРЕДНЕЕ</td>\n",
       "      <td>1</td>\n",
       "      <td>женат / замужем</td>\n",
       "      <td>0</td>\n",
       "      <td>F</td>\n",
       "      <td>пенсионер</td>\n",
       "      <td>0</td>\n",
       "      <td>153864.650328</td>\n",
       "      <td>сделка с автомобилем</td>\n",
       "    </tr>\n",
       "    <tr>\n",
       "      <td>21521</td>\n",
       "      <td>0</td>\n",
       "      <td>343937.404131</td>\n",
       "      <td>67</td>\n",
       "      <td>среднее</td>\n",
       "      <td>1</td>\n",
       "      <td>женат / замужем</td>\n",
       "      <td>0</td>\n",
       "      <td>F</td>\n",
       "      <td>пенсионер</td>\n",
       "      <td>0</td>\n",
       "      <td>155999.806512</td>\n",
       "      <td>сделка с автомобилем</td>\n",
       "    </tr>\n",
       "  </tbody>\n",
       "</table>\n",
       "<p>3431 rows × 12 columns</p>\n",
       "</div>"
      ],
      "text/plain": [
       "       children  days_employed  dob_years education  education_id  \\\n",
       "4             0  340266.072047         53   среднее             1   \n",
       "18            0  400281.136913         53   среднее             1   \n",
       "24            1  338551.952911         57   среднее             1   \n",
       "25            0  363548.489348         67   среднее             1   \n",
       "30            1  335581.668515         62   среднее             1   \n",
       "...         ...            ...        ...       ...           ...   \n",
       "21505         0  338904.866406         53   среднее             1   \n",
       "21508         0  386497.714078         62   среднее             1   \n",
       "21509         0  362161.054124         59    высшее             0   \n",
       "21518         0  373995.710838         59   СРЕДНЕЕ             1   \n",
       "21521         0  343937.404131         67   среднее             1   \n",
       "\n",
       "               family_status  family_status_id gender income_type  debt  \\\n",
       "4           гражданский брак                 1      F   пенсионер     0   \n",
       "18            вдовец / вдова                 2      F   пенсионер     0   \n",
       "24     Не женат / не замужем                 4      F   пенсионер     0   \n",
       "25           женат / замужем                 0      M   пенсионер     0   \n",
       "30           женат / замужем                 0      F   пенсионер     0   \n",
       "...                      ...               ...    ...         ...   ...   \n",
       "21505       гражданский брак                 1      M   пенсионер     0   \n",
       "21508        женат / замужем                 0      M   пенсионер     0   \n",
       "21509        женат / замужем                 0      M   пенсионер     0   \n",
       "21518        женат / замужем                 0      F   пенсионер     0   \n",
       "21521        женат / замужем                 0      F   пенсионер     0   \n",
       "\n",
       "        total_income                                purpose  \n",
       "4      158616.077870                        сыграть свадьбу  \n",
       "18      56823.777243     на покупку подержанного автомобиля  \n",
       "24     290547.235997  операции с коммерческой недвижимостью  \n",
       "25      55112.757732                   покупка недвижимости  \n",
       "30     171456.067993  операции с коммерческой недвижимостью  \n",
       "...              ...                                    ...  \n",
       "21505   75439.993167                        сыграть свадьбу  \n",
       "21508   72638.590915                           недвижимость  \n",
       "21509   73029.059379               операции с недвижимостью  \n",
       "21518  153864.650328                   сделка с автомобилем  \n",
       "21521  155999.806512                   сделка с автомобилем  \n",
       "\n",
       "[3431 rows x 12 columns]"
      ]
     },
     "metadata": {},
     "output_type": "display_data"
    }
   ],
   "source": [
    "display(df[df['days_employed'] > 0 ])"
   ]
  },
  {
   "cell_type": "markdown",
   "id": "bccf5f14",
   "metadata": {},
   "source": [
    "Заметно что очень большое кол-во аномальных значений. Скорее всего эти значения были сохранены в другом формате или типе данных т.к. рчень большое кол-во аномальных данных"
   ]
  },
  {
   "cell_type": "code",
   "execution_count": 22,
   "id": "81fb31fd",
   "metadata": {},
   "outputs": [
    {
     "name": "stdout",
     "output_type": "stream",
     "text": [
      "Кол-во аномальных значений (значения < 0) в days_employed: 0\n",
      "Кол-во значений > 0 в days_employed: 21402\n"
     ]
    }
   ],
   "source": [
    "\n",
    "df['days_employed'] = df['days_employed'].abs()\n",
    "\n",
    "print('Кол-во аномальных значений (значения < 0) в days_employed:', df[df['days_employed'] < 0 ]['days_employed'].count())\n",
    "print('Кол-во значений > 0 в days_employed:', df[df['days_employed'] > 0 ]['days_employed'].count())"
   ]
  },
  {
   "cell_type": "code",
   "execution_count": 23,
   "id": "1219f01b",
   "metadata": {},
   "outputs": [
    {
     "name": "stdout",
     "output_type": "stream",
     "text": [
      "Набор уникальных значений в столбце dob_years [42 36 33 32 53 27 43 50 35 41 40 65 54 56 26 48 24 21 57 67 28 63 62 47\n",
      " 34 68 25 31 30 20 49 37 45 61 64 44 52 46 23 38 39 51  0 59 29 60 55 58\n",
      " 71 22 73 66 69 19 72 70 74 75]\n"
     ]
    }
   ],
   "source": [
    "print('Набор уникальных значений в столбце dob_years', df['dob_years'].unique())"
   ]
  },
  {
   "cell_type": "markdown",
   "id": "8160823c",
   "metadata": {},
   "source": [
    "Как видно есть данные со значение 0. Возраст не может быть равен 0."
   ]
  },
  {
   "cell_type": "code",
   "execution_count": 24,
   "id": "f116c38a",
   "metadata": {},
   "outputs": [
    {
     "name": "stdout",
     "output_type": "stream",
     "text": [
      "Кол-во значений = 0 в dob_years: 100\n"
     ]
    }
   ],
   "source": [
    "print('Кол-во значений = 0 в dob_years:', df[df['dob_years'] == 0 ]['dob_years'].count())"
   ]
  },
  {
   "cell_type": "markdown",
   "id": "7b22e093",
   "metadata": {},
   "source": [
    "Удалим строки с возратом = 0"
   ]
  },
  {
   "cell_type": "code",
   "execution_count": 25,
   "id": "f953c081",
   "metadata": {},
   "outputs": [
    {
     "name": "stdout",
     "output_type": "stream",
     "text": [
      "Кол-во значений = 0 в dob_years: 0\n"
     ]
    }
   ],
   "source": [
    "df = df.drop(df[df.dob_years == 0].index)\n",
    "print('Кол-во значений = 0 в dob_years:', df[df['dob_years'] == 0 ]['dob_years'].count())"
   ]
  },
  {
   "cell_type": "markdown",
   "id": "6b27ef10",
   "metadata": {},
   "source": [
    "Данное значение возможно могло появится по причине того, что например для заполнения анкеты требовалось заполнить все поля, а тот кто вносил данные не хотел указывать свой возраст"
   ]
  },
  {
   "cell_type": "code",
   "execution_count": 26,
   "id": "81b10305",
   "metadata": {},
   "outputs": [
    {
     "name": "stdout",
     "output_type": "stream",
     "text": [
      "Набор уникальных значений в столбце education_id [0 1 2 3 4]\n"
     ]
    }
   ],
   "source": [
    "print('Набор уникальных значений в столбце education_id', df['education_id'].unique())"
   ]
  },
  {
   "cell_type": "code",
   "execution_count": 27,
   "id": "44ba9954",
   "metadata": {},
   "outputs": [
    {
     "name": "stdout",
     "output_type": "stream",
     "text": [
      "Набор уникальных значений в столбце debt [0 1]\n"
     ]
    }
   ],
   "source": [
    "print('Набор уникальных значений в столбце debt', df['debt'].unique())"
   ]
  },
  {
   "cell_type": "code",
   "execution_count": 28,
   "id": "80be92a9",
   "metadata": {},
   "outputs": [
    {
     "name": "stdout",
     "output_type": "stream",
     "text": [
      "Кол-во значений < 0 в total_income: 0\n"
     ]
    }
   ],
   "source": [
    "print('Кол-во значений < 0 в total_income:', df[df['total_income'] < 0 ]['total_income'].count())"
   ]
  },
  {
   "cell_type": "code",
   "execution_count": 29,
   "id": "b0523c51",
   "metadata": {},
   "outputs": [
    {
     "name": "stdout",
     "output_type": "stream",
     "text": [
      "Набор уникальных значений в столбце gender ['F' 'M' 'XNA']\n"
     ]
    }
   ],
   "source": [
    "print('Набор уникальных значений в столбце gender', df['gender'].unique())"
   ]
  },
  {
   "cell_type": "markdown",
   "id": "def96102",
   "metadata": {},
   "source": [
    "При проверке встретилось интересное значение в столбце \"gender\". Проверим теперь какое кол-во таких значений внесено в столбце."
   ]
  },
  {
   "cell_type": "code",
   "execution_count": 30,
   "id": "8d447e5c",
   "metadata": {},
   "outputs": [
    {
     "name": "stdout",
     "output_type": "stream",
     "text": [
      "Кол-во значений = XNA в gender: 1\n"
     ]
    }
   ],
   "source": [
    "print('Кол-во значений = XNA в gender:', df[df['gender'] == 'XNA' ]['gender'].count())"
   ]
  },
  {
   "cell_type": "markdown",
   "id": "18e36a89",
   "metadata": {},
   "source": [
    "Удалим строчку с данным значением."
   ]
  },
  {
   "cell_type": "code",
   "execution_count": 31,
   "id": "ed5f987e",
   "metadata": {},
   "outputs": [
    {
     "name": "stdout",
     "output_type": "stream",
     "text": [
      "Кол-во значений = XNA в gender: 0\n"
     ]
    }
   ],
   "source": [
    "df = df.drop(df[df.gender == 'XNA'].index)\n",
    "print('Кол-во значений = XNA в gender:', df[df['gender'] == 'XNA' ]['gender'].count())"
   ]
  },
  {
   "cell_type": "markdown",
   "id": "83687281",
   "metadata": {},
   "source": [
    "Как видно такое значение в строке втречаеться только один раз."
   ]
  },
  {
   "cell_type": "markdown",
   "id": "fe3a2e11",
   "metadata": {},
   "source": [
    "### Шаг 2.3. Изменение типов данных."
   ]
  },
  {
   "cell_type": "code",
   "execution_count": 32,
   "id": "3592e797",
   "metadata": {},
   "outputs": [
    {
     "name": "stdout",
     "output_type": "stream",
     "text": [
      "<class 'pandas.core.frame.DataFrame'>\n",
      "Int64Index: 21301 entries, 0 to 21524\n",
      "Data columns (total 12 columns):\n",
      "children            21301 non-null int64\n",
      "days_employed       21301 non-null float64\n",
      "dob_years           21301 non-null int64\n",
      "education           21301 non-null object\n",
      "education_id        21301 non-null int64\n",
      "family_status       21301 non-null object\n",
      "family_status_id    21301 non-null int64\n",
      "gender              21301 non-null object\n",
      "income_type         21301 non-null object\n",
      "debt                21301 non-null int64\n",
      "total_income        21301 non-null int64\n",
      "purpose             21301 non-null object\n",
      "dtypes: float64(1), int64(6), object(5)\n",
      "memory usage: 2.1+ MB\n"
     ]
    }
   ],
   "source": [
    "df['total_income'] = df['total_income'].astype('int')\n",
    "df.info()"
   ]
  },
  {
   "cell_type": "markdown",
   "id": "56ed6b3c",
   "metadata": {},
   "source": [
    "### Шаг 2.4. Удаление дубликатов."
   ]
  },
  {
   "cell_type": "code",
   "execution_count": 33,
   "id": "1c4d299e",
   "metadata": {},
   "outputs": [
    {
     "name": "stdout",
     "output_type": "stream",
     "text": [
      "кол-во уникальных дубликатов 54\n"
     ]
    }
   ],
   "source": [
    "print('кол-во уникальных дубликатов', df.duplicated().sum())"
   ]
  },
  {
   "cell_type": "code",
   "execution_count": 34,
   "id": "f62854e2",
   "metadata": {},
   "outputs": [],
   "source": [
    "df = df.drop_duplicates().reset_index(drop=True)"
   ]
  },
  {
   "cell_type": "code",
   "execution_count": 35,
   "id": "2ffd1af3",
   "metadata": {},
   "outputs": [
    {
     "name": "stdout",
     "output_type": "stream",
     "text": [
      "Набор уникальных значений в столбце education ['высшее' 'среднее' 'Среднее' 'СРЕДНЕЕ' 'ВЫСШЕЕ' 'неоконченное высшее'\n",
      " 'начальное' 'Высшее' 'НЕОКОНЧЕННОЕ ВЫСШЕЕ' 'Неоконченное высшее'\n",
      " 'НАЧАЛЬНОЕ' 'Начальное' 'Ученая степень' 'УЧЕНАЯ СТЕПЕНЬ'\n",
      " 'ученая степень']\n"
     ]
    }
   ],
   "source": [
    "print('Набор уникальных значений в столбце education', df['education'].unique())"
   ]
  },
  {
   "cell_type": "markdown",
   "id": "09566d26",
   "metadata": {},
   "source": [
    "Как видно из полученных данных, данные записаны в таблицу в разных регистрах. Нужно привести все к строчным буквам"
   ]
  },
  {
   "cell_type": "code",
   "execution_count": 36,
   "id": "e4f6cee5",
   "metadata": {},
   "outputs": [
    {
     "name": "stdout",
     "output_type": "stream",
     "text": [
      "Набор уникальных значений в столбце education ['высшее' 'среднее' 'неоконченное высшее' 'начальное' 'ученая степень']\n"
     ]
    }
   ],
   "source": [
    "df['education'] = df['education'].str.lower()\n",
    "print('Набор уникальных значений в столбце education', df['education'].unique())"
   ]
  },
  {
   "cell_type": "code",
   "execution_count": 37,
   "id": "2812f7ec",
   "metadata": {},
   "outputs": [
    {
     "name": "stdout",
     "output_type": "stream",
     "text": [
      "Набор уникальных значений в столбце family_status ['женат / замужем' 'гражданский брак' 'вдовец / вдова' 'в разводе'\n",
      " 'Не женат / не замужем']\n"
     ]
    }
   ],
   "source": [
    "print('Набор уникальных значений в столбце family_status', df['family_status'].unique())"
   ]
  },
  {
   "cell_type": "code",
   "execution_count": 38,
   "id": "6ab7e1d9",
   "metadata": {},
   "outputs": [
    {
     "name": "stdout",
     "output_type": "stream",
     "text": [
      "Набор уникальных значений в столбце family_status ['женат / замужем' 'гражданский брак' 'вдовец / вдова' 'в разводе'\n",
      " 'не женат / не замужем']\n"
     ]
    }
   ],
   "source": [
    "df['family_status'] = df['family_status'].str.lower()\n",
    "print('Набор уникальных значений в столбце family_status', df['family_status'].unique())"
   ]
  },
  {
   "cell_type": "code",
   "execution_count": 39,
   "id": "b73642f7",
   "metadata": {},
   "outputs": [
    {
     "name": "stdout",
     "output_type": "stream",
     "text": [
      "Набор уникальных значений в столбце income_type ['сотрудник' 'пенсионер' 'компаньон' 'госслужащий' 'безработный'\n",
      " 'предприниматель' 'студент' 'в декрете']\n"
     ]
    }
   ],
   "source": [
    "print('Набор уникальных значений в столбце income_type', df['income_type'].unique())"
   ]
  },
  {
   "cell_type": "code",
   "execution_count": 40,
   "id": "97bc3c84",
   "metadata": {},
   "outputs": [
    {
     "name": "stdout",
     "output_type": "stream",
     "text": [
      "Набор уникальных значений в столбце purpose ['покупка жилья' 'приобретение автомобиля' 'дополнительное образование'\n",
      " 'сыграть свадьбу' 'операции с жильем' 'образование'\n",
      " 'на проведение свадьбы' 'покупка жилья для семьи' 'покупка недвижимости'\n",
      " 'покупка коммерческой недвижимости' 'покупка жилой недвижимости'\n",
      " 'строительство собственной недвижимости' 'недвижимость'\n",
      " 'строительство недвижимости' 'на покупку подержанного автомобиля'\n",
      " 'на покупку своего автомобиля' 'операции с коммерческой недвижимостью'\n",
      " 'строительство жилой недвижимости' 'жилье'\n",
      " 'операции со своей недвижимостью' 'автомобили' 'заняться образованием'\n",
      " 'сделка с подержанным автомобилем' 'получение образования' 'автомобиль'\n",
      " 'свадьба' 'получение дополнительного образования' 'покупка своего жилья'\n",
      " 'операции с недвижимостью' 'получение высшего образования'\n",
      " 'свой автомобиль' 'сделка с автомобилем' 'профильное образование'\n",
      " 'высшее образование' 'покупка жилья для сдачи' 'на покупку автомобиля'\n",
      " 'ремонт жилью' 'заняться высшим образованием']\n"
     ]
    }
   ],
   "source": [
    "print('Набор уникальных значений в столбце purpose', df['purpose'].unique())"
   ]
  },
  {
   "cell_type": "code",
   "execution_count": 41,
   "id": "cefdb0e2",
   "metadata": {},
   "outputs": [
    {
     "name": "stdout",
     "output_type": "stream",
     "text": [
      "кол-во уникальных дубликатов 17\n"
     ]
    }
   ],
   "source": [
    "print('кол-во уникальных дубликатов', df.duplicated().sum())"
   ]
  },
  {
   "cell_type": "code",
   "execution_count": 42,
   "id": "3162e07d",
   "metadata": {},
   "outputs": [
    {
     "name": "stdout",
     "output_type": "stream",
     "text": [
      "кол-во уникальных дубликатов 0\n"
     ]
    }
   ],
   "source": [
    "df = df.drop_duplicates().reset_index(drop=True)\n",
    "print('кол-во уникальных дубликатов', df.duplicated().sum())"
   ]
  },
  {
   "cell_type": "raw",
   "id": "aedecb97",
   "metadata": {},
   "source": [
    "После приведения столбцов к строчному регистру нашлись еще строчки с дубликатами.\n",
    "Для обработки были применены методы:\n",
    "    - duplicared(), для поиска явных дубликатов\n",
    "    - sum(), для подсчета дубликатов\n",
    "    - unique(), для поиска уникальных значений\n",
    "    - str.lower(), для форматирования сиволов в строчный регистр"
   ]
  },
  {
   "cell_type": "markdown",
   "id": "539d6eaa",
   "metadata": {},
   "source": [
    "Возможные причины появления дубликатов:\n",
    "    \n",
    "    - Человеческий фактор. Ручной ввод данных из-за этого были различия в регистре символов и одни и те же записи воспринимались как различные.. "
   ]
  },
  {
   "cell_type": "markdown",
   "id": "d37ad334",
   "metadata": {},
   "source": [
    "### Шаг 2.5. Формирование дополнительных датафреймов словарей, декомпозиция исходного датафрейма."
   ]
  },
  {
   "cell_type": "code",
   "execution_count": 56,
   "id": "99e71529",
   "metadata": {},
   "outputs": [
    {
     "data": {
      "text/html": [
       "<div>\n",
       "<style scoped>\n",
       "    .dataframe tbody tr th:only-of-type {\n",
       "        vertical-align: middle;\n",
       "    }\n",
       "\n",
       "    .dataframe tbody tr th {\n",
       "        vertical-align: top;\n",
       "    }\n",
       "\n",
       "    .dataframe thead th {\n",
       "        text-align: right;\n",
       "    }\n",
       "</style>\n",
       "<table border=\"1\" class=\"dataframe\">\n",
       "  <thead>\n",
       "    <tr style=\"text-align: right;\">\n",
       "      <th></th>\n",
       "      <th>index</th>\n",
       "      <th>education_id</th>\n",
       "      <th>education</th>\n",
       "    </tr>\n",
       "  </thead>\n",
       "  <tbody>\n",
       "    <tr>\n",
       "      <td>0</td>\n",
       "      <td>0</td>\n",
       "      <td>0</td>\n",
       "      <td>высшее</td>\n",
       "    </tr>\n",
       "    <tr>\n",
       "      <td>1</td>\n",
       "      <td>1</td>\n",
       "      <td>1</td>\n",
       "      <td>среднее</td>\n",
       "    </tr>\n",
       "    <tr>\n",
       "      <td>2</td>\n",
       "      <td>13</td>\n",
       "      <td>2</td>\n",
       "      <td>неоконченное высшее</td>\n",
       "    </tr>\n",
       "    <tr>\n",
       "      <td>3</td>\n",
       "      <td>31</td>\n",
       "      <td>3</td>\n",
       "      <td>начальное</td>\n",
       "    </tr>\n",
       "    <tr>\n",
       "      <td>4</td>\n",
       "      <td>2934</td>\n",
       "      <td>4</td>\n",
       "      <td>ученая степень</td>\n",
       "    </tr>\n",
       "  </tbody>\n",
       "</table>\n",
       "</div>"
      ],
      "text/plain": [
       "   index  education_id            education\n",
       "0      0             0               высшее\n",
       "1      1             1              среднее\n",
       "2     13             2  неоконченное высшее\n",
       "3     31             3            начальное\n",
       "4   2934             4       ученая степень"
      ]
     },
     "execution_count": 56,
     "metadata": {},
     "output_type": "execute_result"
    }
   ],
   "source": [
    "df_education = df[['education_id', 'education']]\n",
    "df_education = df_education.drop_duplicates().reset_index()\n",
    "df_education.head()"
   ]
  },
  {
   "cell_type": "code",
   "execution_count": 57,
   "id": "570dc24e",
   "metadata": {},
   "outputs": [
    {
     "data": {
      "text/html": [
       "<div>\n",
       "<style scoped>\n",
       "    .dataframe tbody tr th:only-of-type {\n",
       "        vertical-align: middle;\n",
       "    }\n",
       "\n",
       "    .dataframe tbody tr th {\n",
       "        vertical-align: top;\n",
       "    }\n",
       "\n",
       "    .dataframe thead th {\n",
       "        text-align: right;\n",
       "    }\n",
       "</style>\n",
       "<table border=\"1\" class=\"dataframe\">\n",
       "  <thead>\n",
       "    <tr style=\"text-align: right;\">\n",
       "      <th></th>\n",
       "      <th>index</th>\n",
       "      <th>family_status_id</th>\n",
       "      <th>family_status</th>\n",
       "    </tr>\n",
       "  </thead>\n",
       "  <tbody>\n",
       "    <tr>\n",
       "      <td>0</td>\n",
       "      <td>0</td>\n",
       "      <td>0</td>\n",
       "      <td>женат / замужем</td>\n",
       "    </tr>\n",
       "    <tr>\n",
       "      <td>1</td>\n",
       "      <td>4</td>\n",
       "      <td>1</td>\n",
       "      <td>гражданский брак</td>\n",
       "    </tr>\n",
       "    <tr>\n",
       "      <td>2</td>\n",
       "      <td>18</td>\n",
       "      <td>2</td>\n",
       "      <td>вдовец / вдова</td>\n",
       "    </tr>\n",
       "    <tr>\n",
       "      <td>3</td>\n",
       "      <td>19</td>\n",
       "      <td>3</td>\n",
       "      <td>в разводе</td>\n",
       "    </tr>\n",
       "    <tr>\n",
       "      <td>4</td>\n",
       "      <td>24</td>\n",
       "      <td>4</td>\n",
       "      <td>не женат / не замужем</td>\n",
       "    </tr>\n",
       "  </tbody>\n",
       "</table>\n",
       "</div>"
      ],
      "text/plain": [
       "   index  family_status_id          family_status\n",
       "0      0                 0        женат / замужем\n",
       "1      4                 1       гражданский брак\n",
       "2     18                 2         вдовец / вдова\n",
       "3     19                 3              в разводе\n",
       "4     24                 4  не женат / не замужем"
      ]
     },
     "execution_count": 57,
     "metadata": {},
     "output_type": "execute_result"
    }
   ],
   "source": [
    "df_family_status = df[['family_status_id', 'family_status']]\n",
    "df_family_status = df_family_status.drop_duplicates().reset_index()\n",
    "df_family_status.head()"
   ]
  },
  {
   "cell_type": "code",
   "execution_count": 60,
   "id": "2a711c68",
   "metadata": {},
   "outputs": [
    {
     "data": {
      "text/html": [
       "<div>\n",
       "<style scoped>\n",
       "    .dataframe tbody tr th:only-of-type {\n",
       "        vertical-align: middle;\n",
       "    }\n",
       "\n",
       "    .dataframe tbody tr th {\n",
       "        vertical-align: top;\n",
       "    }\n",
       "\n",
       "    .dataframe thead th {\n",
       "        text-align: right;\n",
       "    }\n",
       "</style>\n",
       "<table border=\"1\" class=\"dataframe\">\n",
       "  <thead>\n",
       "    <tr style=\"text-align: right;\">\n",
       "      <th></th>\n",
       "      <th>children</th>\n",
       "      <th>days_employed</th>\n",
       "      <th>dob_years</th>\n",
       "      <th>education_id</th>\n",
       "      <th>family_status_id</th>\n",
       "      <th>gender</th>\n",
       "      <th>income_type</th>\n",
       "      <th>debt</th>\n",
       "      <th>total_income</th>\n",
       "      <th>purpose</th>\n",
       "    </tr>\n",
       "  </thead>\n",
       "  <tbody>\n",
       "    <tr>\n",
       "      <td>0</td>\n",
       "      <td>1</td>\n",
       "      <td>8437.673028</td>\n",
       "      <td>42</td>\n",
       "      <td>0</td>\n",
       "      <td>0</td>\n",
       "      <td>F</td>\n",
       "      <td>сотрудник</td>\n",
       "      <td>0</td>\n",
       "      <td>253875</td>\n",
       "      <td>покупка жилья</td>\n",
       "    </tr>\n",
       "    <tr>\n",
       "      <td>1</td>\n",
       "      <td>1</td>\n",
       "      <td>4024.803754</td>\n",
       "      <td>36</td>\n",
       "      <td>1</td>\n",
       "      <td>0</td>\n",
       "      <td>F</td>\n",
       "      <td>сотрудник</td>\n",
       "      <td>0</td>\n",
       "      <td>112080</td>\n",
       "      <td>приобретение автомобиля</td>\n",
       "    </tr>\n",
       "    <tr>\n",
       "      <td>2</td>\n",
       "      <td>0</td>\n",
       "      <td>5623.422610</td>\n",
       "      <td>33</td>\n",
       "      <td>1</td>\n",
       "      <td>0</td>\n",
       "      <td>M</td>\n",
       "      <td>сотрудник</td>\n",
       "      <td>0</td>\n",
       "      <td>145885</td>\n",
       "      <td>покупка жилья</td>\n",
       "    </tr>\n",
       "    <tr>\n",
       "      <td>3</td>\n",
       "      <td>3</td>\n",
       "      <td>4124.747207</td>\n",
       "      <td>32</td>\n",
       "      <td>1</td>\n",
       "      <td>0</td>\n",
       "      <td>M</td>\n",
       "      <td>сотрудник</td>\n",
       "      <td>0</td>\n",
       "      <td>267628</td>\n",
       "      <td>дополнительное образование</td>\n",
       "    </tr>\n",
       "    <tr>\n",
       "      <td>4</td>\n",
       "      <td>0</td>\n",
       "      <td>340266.072047</td>\n",
       "      <td>53</td>\n",
       "      <td>1</td>\n",
       "      <td>1</td>\n",
       "      <td>F</td>\n",
       "      <td>пенсионер</td>\n",
       "      <td>0</td>\n",
       "      <td>158616</td>\n",
       "      <td>сыграть свадьбу</td>\n",
       "    </tr>\n",
       "  </tbody>\n",
       "</table>\n",
       "</div>"
      ],
      "text/plain": [
       "   children  days_employed  dob_years  education_id  family_status_id gender  \\\n",
       "0         1    8437.673028         42             0                 0      F   \n",
       "1         1    4024.803754         36             1                 0      F   \n",
       "2         0    5623.422610         33             1                 0      M   \n",
       "3         3    4124.747207         32             1                 0      M   \n",
       "4         0  340266.072047         53             1                 1      F   \n",
       "\n",
       "  income_type  debt  total_income                     purpose  \n",
       "0   сотрудник     0        253875               покупка жилья  \n",
       "1   сотрудник     0        112080     приобретение автомобиля  \n",
       "2   сотрудник     0        145885               покупка жилья  \n",
       "3   сотрудник     0        267628  дополнительное образование  \n",
       "4   пенсионер     0        158616             сыграть свадьбу  "
      ]
     },
     "execution_count": 60,
     "metadata": {},
     "output_type": "execute_result"
    }
   ],
   "source": [
    "df = df.drop(['education', 'family_status'], axis = 1)\n",
    "df.head()"
   ]
  },
  {
   "cell_type": "markdown",
   "id": "c64c2df6",
   "metadata": {},
   "source": [
    "### Шаг 2.6. Категоризация дохода."
   ]
  },
  {
   "cell_type": "code",
   "execution_count": 61,
   "id": "580e4357",
   "metadata": {},
   "outputs": [
    {
     "data": {
      "text/html": [
       "<div>\n",
       "<style scoped>\n",
       "    .dataframe tbody tr th:only-of-type {\n",
       "        vertical-align: middle;\n",
       "    }\n",
       "\n",
       "    .dataframe tbody tr th {\n",
       "        vertical-align: top;\n",
       "    }\n",
       "\n",
       "    .dataframe thead th {\n",
       "        text-align: right;\n",
       "    }\n",
       "</style>\n",
       "<table border=\"1\" class=\"dataframe\">\n",
       "  <thead>\n",
       "    <tr style=\"text-align: right;\">\n",
       "      <th></th>\n",
       "      <th>children</th>\n",
       "      <th>days_employed</th>\n",
       "      <th>dob_years</th>\n",
       "      <th>education_id</th>\n",
       "      <th>family_status_id</th>\n",
       "      <th>gender</th>\n",
       "      <th>income_type</th>\n",
       "      <th>debt</th>\n",
       "      <th>total_income</th>\n",
       "      <th>purpose</th>\n",
       "      <th>total_income_category</th>\n",
       "    </tr>\n",
       "  </thead>\n",
       "  <tbody>\n",
       "    <tr>\n",
       "      <td>0</td>\n",
       "      <td>1</td>\n",
       "      <td>8437.673028</td>\n",
       "      <td>42</td>\n",
       "      <td>0</td>\n",
       "      <td>0</td>\n",
       "      <td>F</td>\n",
       "      <td>сотрудник</td>\n",
       "      <td>0</td>\n",
       "      <td>253875</td>\n",
       "      <td>покупка жилья</td>\n",
       "      <td>B</td>\n",
       "    </tr>\n",
       "    <tr>\n",
       "      <td>1</td>\n",
       "      <td>1</td>\n",
       "      <td>4024.803754</td>\n",
       "      <td>36</td>\n",
       "      <td>1</td>\n",
       "      <td>0</td>\n",
       "      <td>F</td>\n",
       "      <td>сотрудник</td>\n",
       "      <td>0</td>\n",
       "      <td>112080</td>\n",
       "      <td>приобретение автомобиля</td>\n",
       "      <td>C</td>\n",
       "    </tr>\n",
       "    <tr>\n",
       "      <td>2</td>\n",
       "      <td>0</td>\n",
       "      <td>5623.422610</td>\n",
       "      <td>33</td>\n",
       "      <td>1</td>\n",
       "      <td>0</td>\n",
       "      <td>M</td>\n",
       "      <td>сотрудник</td>\n",
       "      <td>0</td>\n",
       "      <td>145885</td>\n",
       "      <td>покупка жилья</td>\n",
       "      <td>C</td>\n",
       "    </tr>\n",
       "    <tr>\n",
       "      <td>3</td>\n",
       "      <td>3</td>\n",
       "      <td>4124.747207</td>\n",
       "      <td>32</td>\n",
       "      <td>1</td>\n",
       "      <td>0</td>\n",
       "      <td>M</td>\n",
       "      <td>сотрудник</td>\n",
       "      <td>0</td>\n",
       "      <td>267628</td>\n",
       "      <td>дополнительное образование</td>\n",
       "      <td>B</td>\n",
       "    </tr>\n",
       "    <tr>\n",
       "      <td>4</td>\n",
       "      <td>0</td>\n",
       "      <td>340266.072047</td>\n",
       "      <td>53</td>\n",
       "      <td>1</td>\n",
       "      <td>1</td>\n",
       "      <td>F</td>\n",
       "      <td>пенсионер</td>\n",
       "      <td>0</td>\n",
       "      <td>158616</td>\n",
       "      <td>сыграть свадьбу</td>\n",
       "      <td>C</td>\n",
       "    </tr>\n",
       "  </tbody>\n",
       "</table>\n",
       "</div>"
      ],
      "text/plain": [
       "   children  days_employed  dob_years  education_id  family_status_id gender  \\\n",
       "0         1    8437.673028         42             0                 0      F   \n",
       "1         1    4024.803754         36             1                 0      F   \n",
       "2         0    5623.422610         33             1                 0      M   \n",
       "3         3    4124.747207         32             1                 0      M   \n",
       "4         0  340266.072047         53             1                 1      F   \n",
       "\n",
       "  income_type  debt  total_income                     purpose  \\\n",
       "0   сотрудник     0        253875               покупка жилья   \n",
       "1   сотрудник     0        112080     приобретение автомобиля   \n",
       "2   сотрудник     0        145885               покупка жилья   \n",
       "3   сотрудник     0        267628  дополнительное образование   \n",
       "4   пенсионер     0        158616             сыграть свадьбу   \n",
       "\n",
       "  total_income_category  \n",
       "0                     B  \n",
       "1                     C  \n",
       "2                     C  \n",
       "3                     B  \n",
       "4                     C  "
      ]
     },
     "execution_count": 61,
     "metadata": {},
     "output_type": "execute_result"
    }
   ],
   "source": [
    "def total_income_category(total_income):\n",
    "    if total_income >= 0 and total_income <= 30000:\n",
    "        return 'E'\n",
    "    if total_income > 30000 and total_income <= 50000:\n",
    "        return 'D'\n",
    "    if total_income > 50000 and total_income <= 200000:\n",
    "        return 'C'\n",
    "    if total_income > 200000 and total_income <= 1000000:\n",
    "        return 'B'\n",
    "    else:\n",
    "        return 'A'\n",
    "\n",
    "df['total_income_category'] = df['total_income'].apply(total_income_category)\n",
    "df.head()"
   ]
  },
  {
   "cell_type": "markdown",
   "id": "96e235c3",
   "metadata": {},
   "source": [
    "### Шаг 2.7. Категоризация целей кредита."
   ]
  },
  {
   "cell_type": "code",
   "execution_count": 62,
   "id": "c6c837e5",
   "metadata": {},
   "outputs": [
    {
     "data": {
      "text/html": [
       "<div>\n",
       "<style scoped>\n",
       "    .dataframe tbody tr th:only-of-type {\n",
       "        vertical-align: middle;\n",
       "    }\n",
       "\n",
       "    .dataframe tbody tr th {\n",
       "        vertical-align: top;\n",
       "    }\n",
       "\n",
       "    .dataframe thead th {\n",
       "        text-align: right;\n",
       "    }\n",
       "</style>\n",
       "<table border=\"1\" class=\"dataframe\">\n",
       "  <thead>\n",
       "    <tr style=\"text-align: right;\">\n",
       "      <th></th>\n",
       "      <th>children</th>\n",
       "      <th>days_employed</th>\n",
       "      <th>dob_years</th>\n",
       "      <th>education_id</th>\n",
       "      <th>family_status_id</th>\n",
       "      <th>gender</th>\n",
       "      <th>income_type</th>\n",
       "      <th>debt</th>\n",
       "      <th>total_income</th>\n",
       "      <th>purpose</th>\n",
       "      <th>total_income_category</th>\n",
       "      <th>purpose_category</th>\n",
       "    </tr>\n",
       "  </thead>\n",
       "  <tbody>\n",
       "    <tr>\n",
       "      <td>0</td>\n",
       "      <td>1</td>\n",
       "      <td>8437.673028</td>\n",
       "      <td>42</td>\n",
       "      <td>0</td>\n",
       "      <td>0</td>\n",
       "      <td>F</td>\n",
       "      <td>сотрудник</td>\n",
       "      <td>0</td>\n",
       "      <td>253875</td>\n",
       "      <td>покупка жилья</td>\n",
       "      <td>B</td>\n",
       "      <td>операции с автомобилем</td>\n",
       "    </tr>\n",
       "    <tr>\n",
       "      <td>1</td>\n",
       "      <td>1</td>\n",
       "      <td>4024.803754</td>\n",
       "      <td>36</td>\n",
       "      <td>1</td>\n",
       "      <td>0</td>\n",
       "      <td>F</td>\n",
       "      <td>сотрудник</td>\n",
       "      <td>0</td>\n",
       "      <td>112080</td>\n",
       "      <td>приобретение автомобиля</td>\n",
       "      <td>C</td>\n",
       "      <td>операции с автомобилем</td>\n",
       "    </tr>\n",
       "    <tr>\n",
       "      <td>2</td>\n",
       "      <td>0</td>\n",
       "      <td>5623.422610</td>\n",
       "      <td>33</td>\n",
       "      <td>1</td>\n",
       "      <td>0</td>\n",
       "      <td>M</td>\n",
       "      <td>сотрудник</td>\n",
       "      <td>0</td>\n",
       "      <td>145885</td>\n",
       "      <td>покупка жилья</td>\n",
       "      <td>C</td>\n",
       "      <td>операции с автомобилем</td>\n",
       "    </tr>\n",
       "    <tr>\n",
       "      <td>3</td>\n",
       "      <td>3</td>\n",
       "      <td>4124.747207</td>\n",
       "      <td>32</td>\n",
       "      <td>1</td>\n",
       "      <td>0</td>\n",
       "      <td>M</td>\n",
       "      <td>сотрудник</td>\n",
       "      <td>0</td>\n",
       "      <td>267628</td>\n",
       "      <td>дополнительное образование</td>\n",
       "      <td>B</td>\n",
       "      <td>получение образования</td>\n",
       "    </tr>\n",
       "    <tr>\n",
       "      <td>4</td>\n",
       "      <td>0</td>\n",
       "      <td>340266.072047</td>\n",
       "      <td>53</td>\n",
       "      <td>1</td>\n",
       "      <td>1</td>\n",
       "      <td>F</td>\n",
       "      <td>пенсионер</td>\n",
       "      <td>0</td>\n",
       "      <td>158616</td>\n",
       "      <td>сыграть свадьбу</td>\n",
       "      <td>C</td>\n",
       "      <td>проведение свадьбы</td>\n",
       "    </tr>\n",
       "  </tbody>\n",
       "</table>\n",
       "</div>"
      ],
      "text/plain": [
       "   children  days_employed  dob_years  education_id  family_status_id gender  \\\n",
       "0         1    8437.673028         42             0                 0      F   \n",
       "1         1    4024.803754         36             1                 0      F   \n",
       "2         0    5623.422610         33             1                 0      M   \n",
       "3         3    4124.747207         32             1                 0      M   \n",
       "4         0  340266.072047         53             1                 1      F   \n",
       "\n",
       "  income_type  debt  total_income                     purpose  \\\n",
       "0   сотрудник     0        253875               покупка жилья   \n",
       "1   сотрудник     0        112080     приобретение автомобиля   \n",
       "2   сотрудник     0        145885               покупка жилья   \n",
       "3   сотрудник     0        267628  дополнительное образование   \n",
       "4   пенсионер     0        158616             сыграть свадьбу   \n",
       "\n",
       "  total_income_category        purpose_category  \n",
       "0                     B  операции с автомобилем  \n",
       "1                     C  операции с автомобилем  \n",
       "2                     C  операции с автомобилем  \n",
       "3                     B   получение образования  \n",
       "4                     C      проведение свадьбы  "
      ]
     },
     "execution_count": 62,
     "metadata": {},
     "output_type": "execute_result"
    }
   ],
   "source": [
    "def purpose_category(purpose):\n",
    "    if 'авто' in purpose or 'жил' in purpose:\n",
    "        return 'операции с автомобилем'\n",
    "    if 'недвиж' in purpose:\n",
    "        return 'операции с недвижимостью'\n",
    "    if 'свадь' in purpose:\n",
    "        return 'проведение свадьбы'\n",
    "    if 'образ' in purpose:\n",
    "        return 'получение образования'\n",
    "\n",
    "df['purpose_category'] = df['purpose'].apply(purpose_category)\n",
    "df.head()"
   ]
  },
  {
   "cell_type": "code",
   "execution_count": 63,
   "id": "4e4b639d",
   "metadata": {},
   "outputs": [
    {
     "name": "stdout",
     "output_type": "stream",
     "text": [
      "<class 'pandas.core.frame.DataFrame'>\n",
      "RangeIndex: 21230 entries, 0 to 21229\n",
      "Data columns (total 12 columns):\n",
      "children                 21230 non-null int64\n",
      "days_employed            21230 non-null float64\n",
      "dob_years                21230 non-null int64\n",
      "education_id             21230 non-null int64\n",
      "family_status_id         21230 non-null int64\n",
      "gender                   21230 non-null object\n",
      "income_type              21230 non-null object\n",
      "debt                     21230 non-null int64\n",
      "total_income             21230 non-null int64\n",
      "purpose                  21230 non-null object\n",
      "total_income_category    21230 non-null object\n",
      "purpose_category         21230 non-null object\n",
      "dtypes: float64(1), int64(6), object(5)\n",
      "memory usage: 1.9+ MB\n",
      "None\n"
     ]
    }
   ],
   "source": [
    "print(df.info())"
   ]
  },
  {
   "cell_type": "markdown",
   "id": "f779a75e",
   "metadata": {},
   "source": [
    "### Ответы на вопросы."
   ]
  },
  {
   "cell_type": "markdown",
   "id": "9513ea77",
   "metadata": {},
   "source": [
    "##### Вопрос 1:"
   ]
  },
  {
   "cell_type": "markdown",
   "id": "c57da729",
   "metadata": {},
   "source": [
    "Есть ли зависимость между количеством детей и возвратом кредита в срок?"
   ]
  },
  {
   "cell_type": "code",
   "execution_count": 64,
   "id": "004d349f",
   "metadata": {},
   "outputs": [
    {
     "name": "stdout",
     "output_type": "stream",
     "text": [
      "с просрочкой по кредиту\n",
      "Для категории - Нет детей 7.545824120961416\n",
      "Для категории - Один ребенок 9.202838063439065\n",
      "Для категории - Детей >1 и <4 9.336713138994508\n",
      "Для категории - Больше 3 детей 8.0\n",
      "без просрочки по кредиту\n",
      "Для категории - Нет детей 92.45417587903859\n",
      "Для категории - Один ребенок 90.79716193656094\n",
      "Для категории - Детей >1 и <4 90.66328686100549\n",
      "Для категории - Больше 3 детей 92.0\n"
     ]
    }
   ],
   "source": [
    "print('с просрочкой по кредиту')\n",
    "\n",
    "print('Для категории - Нет детей', df[(df['children'] == 0) & (df['debt'] == 1)]['debt'].count() / df[df['children'] == 0]['debt'].count() * 100)\n",
    "\n",
    "print('Для категории - Один ребенок', df[(df['children'] == 1) & (df['debt'] == 1)]['debt'].count() / df[df['children'] == 1]['debt'].count() * 100)\n",
    "\n",
    "print('Для категории - Детей >1 и <4', df[(df['children'] > 1) & (df['children'] <= 3) & (df['debt'] == 1)]['debt'].count() / df[(df['children'] > 1) & (df['children'] <= 3)]['debt'].count() * 100)\n",
    "\n",
    "print('Для категории - Больше 3 детей', df[(df['children'] > 3) & (df['debt'] == 1)]['debt'].count() / df[df['children'] > 3]['debt'].count() * 100)\n",
    "\n",
    "print('без просрочки по кредиту')\n",
    "\n",
    "print('Для категории - Нет детей', df[(df['children'] == 0) & (df['debt'] == 0)]['debt'].count() / df[df['children'] == 0]['debt'].count() * 100)\n",
    "\n",
    "print('Для категории - Один ребенок', df[(df['children'] == 1) & (df['debt'] == 0)]['debt'].count() / df[df['children'] == 1]['debt'].count() * 100)\n",
    "\n",
    "print('Для категории - Детей >1 и <4', df[(df['children'] > 1) & (df['children'] <= 3) & (df['debt'] == 0)]['debt'].count() / df[(df['children'] > 1) & (df['children'] <= 3)]['debt'].count() * 100)\n",
    "\n",
    "print('Для категории - Больше 3 детей', df[(df['children'] > 3) & (df['debt'] == 0)]['debt'].count() / df[df['children'] > 3]['debt'].count() * 100)\n",
    "\n"
   ]
  },
  {
   "cell_type": "markdown",
   "id": "e296daf8",
   "metadata": {},
   "source": [
    "##### Вывод 1:"
   ]
  },
  {
   "cell_type": "markdown",
   "id": "dc9dc569",
   "metadata": {},
   "source": [
    "Из полученных данных видно, что процент по просрочки кредита меньше у категории \"Нет детей\" - 92,4% возврата и категории \"Больше 3-х детей\" - 92% возврата. У категорий \"Один ребенок\" - 90,79% возврата и \"Детей >1 и <4\" - 90,66% возврата, самый большой процент невозрата.  "
   ]
  },
  {
   "cell_type": "markdown",
   "id": "e5718f87",
   "metadata": {},
   "source": [
    "##### Вопрос 2:"
   ]
  },
  {
   "cell_type": "markdown",
   "id": "a7be92b9",
   "metadata": {},
   "source": [
    "Есть ли зависимость между семейным положением и возвратом кредита в срок?"
   ]
  },
  {
   "cell_type": "code",
   "execution_count": 68,
   "id": "9e819885",
   "metadata": {},
   "outputs": [
    {
     "name": "stdout",
     "output_type": "stream",
     "text": [
      "с просрочкой по кредиту\n",
      "Для категории - не женат 9.784172661870503\n",
      "Для категории - женат 7.5575206746909025\n",
      "Для категории - гражданский брак 9.31420233463035\n",
      "Для категории - в разводе 7.124681933842239\n",
      "Для категории - вдовец / вдова 6.553911205073996\n",
      "без просрочки по кредиту\n",
      "Для категории - не женат 90.2158273381295\n",
      "Для категории - женат 92.44247932530911\n",
      "Для категории - гражданский брак 90.68579766536965\n",
      "Для категории - в разводе 92.87531806615776\n",
      "Для категории - вдовец / вдова 93.44608879492601\n"
     ]
    }
   ],
   "source": [
    "['женат / замужем' 'гражданский брак' 'вдовец / вдова' 'в разводе'\n",
    " 'не женат / не замужем']\n",
    "\n",
    "print('с просрочкой по кредиту')\n",
    "\n",
    "print('Для категории - не женат', df[(df['family_status_id'] == 4) & (df['debt'] == 1)]['debt'].count() / df[df['family_status_id'] == 4]['debt'].count() * 100)\n",
    "print('Для категории - женат', df[(df['family_status_id'] == 0) & (df['debt'] == 1)]['debt'].count() / df[df['family_status_id'] == 0]['debt'].count() * 100)\n",
    "print('Для категории - гражданский брак', df[(df['family_status_id'] == 1) & (df['debt'] == 1)]['debt'].count() / df[df['family_status_id'] == 1]['debt'].count() * 100)\n",
    "print('Для категории - в разводе', df[(df['family_status_id'] == 3) & (df['debt'] == 1)]['debt'].count() / df[df['family_status_id'] == 3]['debt'].count() * 100)\n",
    "print('Для категории - вдовец / вдова', df[(df['family_status_id'] == 2) & (df['debt'] == 1)]['debt'].count() / df[df['family_status_id'] == 2]['debt'].count() * 100)\n",
    "\n",
    "\n",
    "print('без просрочки по кредиту')\n",
    "\n",
    "  \n",
    "print('Для категории - не женат', df[(df['family_status_id'] == 4) & (df['debt'] == 0)]['debt'].count() / df[df['family_status_id'] == 4]['debt'].count() * 100)\n",
    "print('Для категории - женат', df[(df['family_status_id'] == 0) & (df['debt'] == 0)]['debt'].count() / df[df['family_status_id'] == 0]['debt'].count() * 100)\n",
    "print('Для категории - гражданский брак', df[(df['family_status_id'] == 1) & (df['debt'] == 0)]['debt'].count() / df[df['family_status_id'] == 1]['debt'].count() * 100)\n",
    "print('Для категории - в разводе', df[(df['family_status_id'] == 3) & (df['debt'] == 0)]['debt'].count() / df[df['family_status_id'] == 3]['debt'].count() * 100)\n",
    "print('Для категории - вдовец / вдова', df[(df['family_status_id'] == 2) & (df['debt'] == 0)]['debt'].count() / df[df['family_status_id'] == 2]['debt'].count() * 100)\n",
    "\n",
    "\n",
    "\n"
   ]
  },
  {
   "cell_type": "markdown",
   "id": "e0c66848",
   "metadata": {},
   "source": [
    "##### Вывод 2:"
   ]
  },
  {
   "cell_type": "markdown",
   "id": "8d016d20",
   "metadata": {},
   "source": [
    "Из результа видно, что лучше всех возвращают кредиты клиенты из категории \"вдовец / вдова \" - 93,4% возврата, так же неплохо из категорий \"женат\" - 92,4% возврата и \"в разводе\" - 92,8% возврата. Хуже всех возвращают кредиты  клиенты из категорий \"не женат\" - 90,2% возврата и \"гражданский брак\" - 90,68% возврата. Видна зависимость в том, что люди женатые или бывшие в прошлом в браке возвращают чаще кредиты, чем те кто не женат или находится в гражданском браке."
   ]
  },
  {
   "cell_type": "markdown",
   "id": "88615d6b",
   "metadata": {},
   "source": [
    "##### Вопрос 3:"
   ]
  },
  {
   "cell_type": "markdown",
   "id": "1041b60e",
   "metadata": {},
   "source": [
    "Есть ли зависимость между уровнем дохода и возвратом кредита в срок?"
   ]
  },
  {
   "cell_type": "code",
   "execution_count": 69,
   "id": "9839fc39",
   "metadata": {},
   "outputs": [
    {
     "name": "stdout",
     "output_type": "stream",
     "text": [
      "с просрочкой по кредиту\n",
      "Для категории - E 9.090909090909092\n",
      "Для категории - D 6.051873198847262\n",
      "Для категории - C 8.49211356466877\n",
      "Для категории - B 7.079823505816285\n",
      "Для категории - A 8.0\n",
      "без просрочки по кредиту\n",
      "Для категории - E 90.9090909090909\n",
      "Для категории - D 93.94812680115274\n",
      "Для категории - C 91.50788643533123\n",
      "Для категории - B 92.92017649418372\n",
      "Для категории - A 92.0\n"
     ]
    }
   ],
   "source": [
    "print('с просрочкой по кредиту')\n",
    "\n",
    "print('Для категории - E', df[(df['total_income_category'] == 'E') & (df['debt'] == 1)]['debt'].count() / df[df['total_income_category'] == 'E']['debt'].count() * 100)\n",
    "\n",
    "print('Для категории - D', df[(df['total_income_category'] == 'D') & (df['debt'] == 1)]['debt'].count() / df[df['total_income_category'] == 'D']['debt'].count() * 100)\n",
    "\n",
    "print('Для категории - C', df[(df['total_income_category'] == 'C') & (df['debt'] == 1)]['debt'].count() / df[df['total_income_category'] == 'C']['debt'].count() * 100)\n",
    "\n",
    "print('Для категории - B', df[(df['total_income_category'] == 'B') & (df['debt'] == 1)]['debt'].count() / df[df['total_income_category'] == 'B']['debt'].count() * 100)\n",
    "\n",
    "print('Для категории - A', df[(df['total_income_category'] == 'A') & (df['debt'] == 1)]['debt'].count() / df[df['total_income_category'] == 'A']['debt'].count() * 100)\n",
    "\n",
    "\n",
    "print('без просрочки по кредиту')\n",
    "\n",
    "\n",
    "print('Для категории - E', df[(df['total_income_category'] == 'E') & (df['debt'] == 0)]['debt'].count() / df[df['total_income_category'] == 'E']['debt'].count() * 100)\n",
    "\n",
    "print('Для категории - D', df[(df['total_income_category'] == 'D') & (df['debt'] == 0)]['debt'].count() / df[df['total_income_category'] == 'D']['debt'].count() * 100)\n",
    "\n",
    "print('Для категории - C', df[(df['total_income_category'] == 'C') & (df['debt'] == 0)]['debt'].count() / df[df['total_income_category'] == 'C']['debt'].count() * 100)\n",
    "\n",
    "print('Для категории - B', df[(df['total_income_category'] == 'B') & (df['debt'] == 0)]['debt'].count() / df[df['total_income_category'] == 'B']['debt'].count() * 100)\n",
    "\n",
    "print('Для категории - A', df[(df['total_income_category'] == 'A') & (df['debt'] == 0)]['debt'].count() / df[df['total_income_category'] == 'A']['debt'].count() * 100)\n",
    "\n"
   ]
  },
  {
   "cell_type": "markdown",
   "id": "b031c2c1",
   "metadata": {},
   "source": [
    "##### Вывод 3:"
   ]
  },
  {
   "cell_type": "markdown",
   "id": "0f42a5a2",
   "metadata": {},
   "source": [
    "Из результа видно, что лучше всех возвращают кредиты клиенты из категории  D (30001–50000) выше низшего - 93,94% возврата, а хуже все из категории E (0–30000) низкий доход - 90,9% возврата. "
   ]
  },
  {
   "cell_type": "markdown",
   "id": "1a928320",
   "metadata": {},
   "source": [
    "##### Вопрос 4:"
   ]
  },
  {
   "cell_type": "markdown",
   "id": "a81c82fe",
   "metadata": {},
   "source": [
    "Как разные цели кредита влияют на его возврат в срок?"
   ]
  },
  {
   "cell_type": "code",
   "execution_count": 70,
   "id": "63504ac0",
   "metadata": {},
   "outputs": [
    {
     "name": "stdout",
     "output_type": "stream",
     "text": [
      "с просрочкой по кредиту\n",
      "Для категории - операции с автомобилем 8.010518863153635\n",
      "Для категории - получение образования 9.29471032745592\n",
      "Для категории - проведение свадьбы 7.872988255763376\n",
      "Для категории - операции с недвижимостью 7.528577059519118\n",
      "без просрочки по кредиту\n",
      "Для категории - операции с автомобилем 91.98948113684636\n",
      "Для категории - получение образования 90.70528967254407\n",
      "Для категории - проведение свадьбы 92.12701174423663\n",
      "Для категории - операции с недвижимостью 92.47142294048089\n"
     ]
    }
   ],
   "source": [
    "\n",
    "\n",
    "print('с просрочкой по кредиту')\n",
    "\n",
    "print('Для категории - операции с автомобилем', df[(df['purpose_category'] == 'операции с автомобилем') & (df['debt'] == 1)]['debt'].count() / df[df['purpose_category'] == 'операции с автомобилем']['debt'].count() * 100)\n",
    "\n",
    "print('Для категории - получение образования', df[(df['purpose_category'] == 'получение образования') & (df['debt'] == 1)]['debt'].count() / df[df['purpose_category'] == 'получение образования']['debt'].count() * 100)\n",
    "\n",
    "print('Для категории - проведение свадьбы', df[(df['purpose_category'] == 'проведение свадьбы') & (df['debt'] == 1)]['debt'].count() / df[df['purpose_category'] == 'проведение свадьбы']['debt'].count() * 100)\n",
    "\n",
    "print('Для категории - операции с недвижимостью', df[(df['purpose_category'] == 'операции с недвижимостью') & (df['debt'] == 1)]['debt'].count() / df[df['purpose_category'] == 'операции с недвижимостью']['debt'].count() * 100)\n",
    "\n",
    "print('без просрочки по кредиту')\n",
    "\n",
    "print('Для категории - операции с автомобилем', df[(df['purpose_category'] == 'операции с автомобилем') & (df['debt'] == 0)]['debt'].count() / df[df['purpose_category'] == 'операции с автомобилем']['debt'].count() * 100)\n",
    "\n",
    "print('Для категории - получение образования', df[(df['purpose_category'] == 'получение образования') & (df['debt'] == 0)]['debt'].count() / df[df['purpose_category'] == 'получение образования']['debt'].count() * 100)\n",
    "\n",
    "print('Для категории - проведение свадьбы', df[(df['purpose_category'] == 'проведение свадьбы') & (df['debt'] == 0)]['debt'].count() / df[df['purpose_category'] == 'проведение свадьбы']['debt'].count() * 100)\n",
    "\n",
    "print('Для категории - операции с недвижимостью', df[(df['purpose_category'] == 'операции с недвижимостью') & (df['debt'] == 0)]['debt'].count() / df[df['purpose_category'] == 'операции с недвижимостью']['debt'].count() * 100)\n",
    "\n"
   ]
  },
  {
   "cell_type": "markdown",
   "id": "459a4cfc",
   "metadata": {},
   "source": [
    "##### Вопрос 4:"
   ]
  },
  {
   "cell_type": "markdown",
   "id": "13fe8b5e",
   "metadata": {},
   "source": [
    "Из результатов видно, что клиенты с целью \"операции с недвижимостью\" - 92,4% возврата, чаще всего возвращают кредиты, хуже всех возвращают кредиты клиенты с целью \"получение образования\" - 90,7% возврата. Далее идут цели \"проведение свадьбы\" - 92,12% возврата и  \"операции с автомобилем\" - 91,98% возврата. "
   ]
  },
  {
   "cell_type": "markdown",
   "id": "f93a1c8c",
   "metadata": {},
   "source": [
    "## Общий вывод:"
   ]
  },
  {
   "cell_type": "markdown",
   "id": "af85a64c",
   "metadata": {},
   "source": [
    "Из исследования видно, что семейное положение и количество детей клиента на факт погашения кредита в срок влияет. Видно что клиенты которые женаты или были в браке, без детей или если детей больше 3-х возвращают кредиты чаще. Хуже всех возвращают кредиты клиенты, которые не женаты или сотоят в браке с 1-3 ребенком в семье. \n",
    "\n",
    "Возвраты по кредитам в зависимости от семейного положения:\n",
    "\n",
    "Для категории - не женат: 90.21%\n",
    "Для категории - гражданский брак: 90.68%\n",
    "Для категории - женат: 92.44%\n",
    "Для категории - в разводе: 92.87%\n",
    "Для категории - вдовец / вдова: 93.44%\n",
    "\n",
    "Возвраты по кредитам в зависимости от кл-ва детей клиента:\n",
    "\n",
    "Для категории - Детей >1 и <4: 90.66%\n",
    "Для категории - Один ребенок: 90.79%\n",
    "Для категории - Больше 3 детей: 92%\n",
    "Для категории - Нет детей: 92.45%"
   ]
  }
 ],
 "metadata": {
  "ExecuteTimeLog": [
   {
    "duration": 790,
    "start_time": "2022-02-21T16:46:09.184Z"
   },
   {
    "duration": 10,
    "start_time": "2022-02-21T16:47:43.250Z"
   },
   {
    "duration": 15,
    "start_time": "2022-02-21T16:48:52.969Z"
   },
   {
    "duration": 13,
    "start_time": "2022-02-21T16:49:41.176Z"
   },
   {
    "duration": 20,
    "start_time": "2022-02-21T16:50:44.438Z"
   },
   {
    "duration": 11,
    "start_time": "2022-02-21T16:51:00.737Z"
   },
   {
    "duration": 20,
    "start_time": "2022-02-21T17:13:42.281Z"
   },
   {
    "duration": 28,
    "start_time": "2022-02-21T17:13:55.072Z"
   },
   {
    "duration": 315,
    "start_time": "2022-02-21T17:14:59.403Z"
   },
   {
    "duration": 331,
    "start_time": "2022-02-21T17:15:07.425Z"
   },
   {
    "duration": 30,
    "start_time": "2022-02-21T17:15:27.157Z"
   },
   {
    "duration": 27,
    "start_time": "2022-02-21T17:17:34.672Z"
   },
   {
    "duration": 29,
    "start_time": "2022-02-21T17:18:15.363Z"
   },
   {
    "duration": 12,
    "start_time": "2022-02-21T17:26:58.475Z"
   },
   {
    "duration": 36,
    "start_time": "2022-02-21T17:36:51.286Z"
   },
   {
    "duration": 262,
    "start_time": "2022-02-21T17:43:11.372Z"
   },
   {
    "duration": 10,
    "start_time": "2022-02-21T17:43:17.370Z"
   },
   {
    "duration": 6,
    "start_time": "2022-02-21T17:43:30.959Z"
   },
   {
    "duration": 5,
    "start_time": "2022-02-21T17:43:44.483Z"
   },
   {
    "duration": 6,
    "start_time": "2022-02-21T17:46:17.747Z"
   },
   {
    "duration": 7,
    "start_time": "2022-02-21T17:46:45.019Z"
   },
   {
    "duration": 64,
    "start_time": "2022-02-23T09:37:48.428Z"
   },
   {
    "duration": 241,
    "start_time": "2022-02-23T09:44:47.611Z"
   },
   {
    "duration": 759,
    "start_time": "2022-02-23T09:44:57.939Z"
   },
   {
    "duration": 11,
    "start_time": "2022-02-23T09:44:59.301Z"
   },
   {
    "duration": 21,
    "start_time": "2022-02-23T09:44:59.909Z"
   },
   {
    "duration": 15,
    "start_time": "2022-02-23T09:45:00.472Z"
   },
   {
    "duration": 16,
    "start_time": "2022-02-23T09:45:01.867Z"
   },
   {
    "duration": 33,
    "start_time": "2022-02-23T09:45:02.788Z"
   },
   {
    "duration": 28,
    "start_time": "2022-02-23T09:45:03.666Z"
   },
   {
    "duration": 11,
    "start_time": "2022-02-23T09:45:05.984Z"
   },
   {
    "duration": 5,
    "start_time": "2022-02-23T09:45:07.987Z"
   },
   {
    "duration": 6,
    "start_time": "2022-02-23T09:45:08.752Z"
   },
   {
    "duration": 8,
    "start_time": "2022-02-23T09:45:11.009Z"
   },
   {
    "duration": 11,
    "start_time": "2022-02-23T09:45:34.615Z"
   },
   {
    "duration": 14,
    "start_time": "2022-02-23T09:45:43.166Z"
   },
   {
    "duration": 14,
    "start_time": "2022-02-23T10:11:13.437Z"
   },
   {
    "duration": 8,
    "start_time": "2022-02-23T10:11:27.262Z"
   },
   {
    "duration": 7,
    "start_time": "2022-02-23T10:12:03.962Z"
   },
   {
    "duration": 8,
    "start_time": "2022-02-23T10:12:12.546Z"
   },
   {
    "duration": 8,
    "start_time": "2022-02-23T10:16:41.722Z"
   },
   {
    "duration": 10,
    "start_time": "2022-02-23T10:17:07.160Z"
   },
   {
    "duration": 4,
    "start_time": "2022-02-23T10:19:44.891Z"
   },
   {
    "duration": 11,
    "start_time": "2022-02-23T10:21:50.283Z"
   },
   {
    "duration": 72,
    "start_time": "2022-02-23T10:23:38.878Z"
   },
   {
    "duration": 6,
    "start_time": "2022-02-23T10:24:08.410Z"
   },
   {
    "duration": 4,
    "start_time": "2022-02-23T10:24:28.511Z"
   },
   {
    "duration": 10,
    "start_time": "2022-02-23T10:24:31.259Z"
   },
   {
    "duration": 5,
    "start_time": "2022-02-23T10:24:32.226Z"
   },
   {
    "duration": 6,
    "start_time": "2022-02-23T10:27:03.681Z"
   },
   {
    "duration": 10,
    "start_time": "2022-02-23T10:27:24.469Z"
   },
   {
    "duration": 12,
    "start_time": "2022-02-23T10:30:12.870Z"
   },
   {
    "duration": 8,
    "start_time": "2022-02-23T10:30:32.130Z"
   },
   {
    "duration": 7,
    "start_time": "2022-02-23T10:30:46.341Z"
   },
   {
    "duration": 4,
    "start_time": "2022-02-23T10:33:16.051Z"
   },
   {
    "duration": 4,
    "start_time": "2022-02-23T10:34:07.454Z"
   },
   {
    "duration": 6,
    "start_time": "2022-02-23T10:35:45.671Z"
   },
   {
    "duration": 4,
    "start_time": "2022-02-23T10:54:24.699Z"
   },
   {
    "duration": 14,
    "start_time": "2022-02-23T10:54:32.850Z"
   },
   {
    "duration": 20,
    "start_time": "2022-02-23T10:56:58.661Z"
   },
   {
    "duration": 17,
    "start_time": "2022-02-23T10:57:16.761Z"
   },
   {
    "duration": 19,
    "start_time": "2022-02-23T10:58:16.106Z"
   },
   {
    "duration": 35,
    "start_time": "2022-02-23T10:58:26.233Z"
   },
   {
    "duration": 17,
    "start_time": "2022-02-23T10:58:59.151Z"
   },
   {
    "duration": 32,
    "start_time": "2022-02-23T10:59:13.202Z"
   },
   {
    "duration": 5,
    "start_time": "2022-02-23T11:03:34.706Z"
   },
   {
    "duration": 72,
    "start_time": "2022-02-23T11:04:31.059Z"
   },
   {
    "duration": 266,
    "start_time": "2022-02-23T11:06:23.271Z"
   },
   {
    "duration": 15,
    "start_time": "2022-02-23T11:06:38.740Z"
   },
   {
    "duration": 19,
    "start_time": "2022-02-23T11:06:51.341Z"
   },
   {
    "duration": 6552,
    "start_time": "2022-02-23T11:07:37.119Z"
   },
   {
    "duration": 21,
    "start_time": "2022-02-23T11:07:51.003Z"
   },
   {
    "duration": 60,
    "start_time": "2022-02-23T11:07:59.980Z"
   },
   {
    "duration": 5,
    "start_time": "2022-02-23T11:08:00.340Z"
   },
   {
    "duration": 13,
    "start_time": "2022-02-23T11:08:00.696Z"
   },
   {
    "duration": 12,
    "start_time": "2022-02-23T11:08:01.039Z"
   },
   {
    "duration": 12,
    "start_time": "2022-02-23T11:08:01.353Z"
   },
   {
    "duration": 28,
    "start_time": "2022-02-23T11:08:01.735Z"
   },
   {
    "duration": 28,
    "start_time": "2022-02-23T11:08:02.254Z"
   },
   {
    "duration": 12,
    "start_time": "2022-02-23T11:08:03.242Z"
   },
   {
    "duration": 5,
    "start_time": "2022-02-23T11:08:04.165Z"
   },
   {
    "duration": 6,
    "start_time": "2022-02-23T11:08:04.606Z"
   },
   {
    "duration": 7,
    "start_time": "2022-02-23T11:08:05.751Z"
   },
   {
    "duration": 16,
    "start_time": "2022-02-23T11:08:06.158Z"
   },
   {
    "duration": 5,
    "start_time": "2022-02-23T11:08:07.113Z"
   },
   {
    "duration": 7,
    "start_time": "2022-02-23T11:08:08.137Z"
   },
   {
    "duration": 11,
    "start_time": "2022-02-23T11:08:09.058Z"
   },
   {
    "duration": 4,
    "start_time": "2022-02-23T11:08:09.982Z"
   },
   {
    "duration": 7,
    "start_time": "2022-02-23T11:08:10.903Z"
   },
   {
    "duration": 5,
    "start_time": "2022-02-23T11:08:11.883Z"
   },
   {
    "duration": 5,
    "start_time": "2022-02-23T11:08:12.400Z"
   },
   {
    "duration": 5,
    "start_time": "2022-02-23T11:08:12.909Z"
   },
   {
    "duration": 14,
    "start_time": "2022-02-23T11:08:14.302Z"
   },
   {
    "duration": 16,
    "start_time": "2022-02-23T11:08:15.584Z"
   },
   {
    "duration": 19,
    "start_time": "2022-02-23T11:08:16.259Z"
   },
   {
    "duration": 4955,
    "start_time": "2022-02-23T11:08:17.149Z"
   },
   {
    "duration": -155,
    "start_time": "2022-02-23T11:08:22.262Z"
   },
   {
    "duration": 6,
    "start_time": "2022-02-23T11:08:32.686Z"
   },
   {
    "duration": 16,
    "start_time": "2022-02-23T11:08:44.319Z"
   },
   {
    "duration": 5,
    "start_time": "2022-02-23T11:09:16.968Z"
   },
   {
    "duration": 18,
    "start_time": "2022-02-23T11:09:42.168Z"
   },
   {
    "duration": 13,
    "start_time": "2022-02-23T11:10:27.422Z"
   },
   {
    "duration": 20,
    "start_time": "2022-02-23T11:11:44.054Z"
   },
   {
    "duration": 6,
    "start_time": "2022-02-23T11:11:44.933Z"
   },
   {
    "duration": 6,
    "start_time": "2022-02-23T11:12:23.872Z"
   },
   {
    "duration": 18,
    "start_time": "2022-02-23T11:12:50.103Z"
   },
   {
    "duration": 20,
    "start_time": "2022-02-23T11:13:03.181Z"
   },
   {
    "duration": 39,
    "start_time": "2022-02-23T11:13:09.412Z"
   },
   {
    "duration": 208,
    "start_time": "2022-02-23T11:16:23.462Z"
   },
   {
    "duration": 528,
    "start_time": "2022-02-23T20:04:51.057Z"
   },
   {
    "duration": 652,
    "start_time": "2022-02-23T20:05:15.304Z"
   },
   {
    "duration": 11,
    "start_time": "2022-02-23T20:05:15.958Z"
   },
   {
    "duration": 12,
    "start_time": "2022-02-23T20:05:16.204Z"
   },
   {
    "duration": 11,
    "start_time": "2022-02-23T20:05:17.093Z"
   },
   {
    "duration": 10,
    "start_time": "2022-02-23T20:05:17.698Z"
   },
   {
    "duration": 22,
    "start_time": "2022-02-23T20:05:18.464Z"
   },
   {
    "duration": 22,
    "start_time": "2022-02-23T20:05:19.272Z"
   },
   {
    "duration": 9,
    "start_time": "2022-02-23T20:05:20.601Z"
   },
   {
    "duration": 5,
    "start_time": "2022-02-23T20:05:21.907Z"
   },
   {
    "duration": 4,
    "start_time": "2022-02-23T20:05:22.481Z"
   },
   {
    "duration": 7,
    "start_time": "2022-02-23T20:05:24.056Z"
   },
   {
    "duration": 12,
    "start_time": "2022-02-23T20:05:24.696Z"
   },
   {
    "duration": 4,
    "start_time": "2022-02-23T20:05:25.947Z"
   },
   {
    "duration": 6,
    "start_time": "2022-02-23T20:05:27.047Z"
   },
   {
    "duration": 9,
    "start_time": "2022-02-23T20:05:28.308Z"
   },
   {
    "duration": 4,
    "start_time": "2022-02-23T20:05:29.534Z"
   },
   {
    "duration": 5,
    "start_time": "2022-02-23T20:05:30.729Z"
   },
   {
    "duration": 4,
    "start_time": "2022-02-23T20:05:31.954Z"
   },
   {
    "duration": 3,
    "start_time": "2022-02-23T20:05:32.461Z"
   },
   {
    "duration": 5,
    "start_time": "2022-02-23T20:05:33.034Z"
   },
   {
    "duration": 12,
    "start_time": "2022-02-23T20:05:34.506Z"
   },
   {
    "duration": 15,
    "start_time": "2022-02-23T20:05:35.903Z"
   },
   {
    "duration": 16,
    "start_time": "2022-02-23T20:05:36.881Z"
   },
   {
    "duration": 4,
    "start_time": "2022-02-23T20:05:37.547Z"
   },
   {
    "duration": 15,
    "start_time": "2022-02-23T20:05:38.591Z"
   },
   {
    "duration": 5,
    "start_time": "2022-02-23T20:05:39.165Z"
   },
   {
    "duration": 17,
    "start_time": "2022-02-23T20:05:39.694Z"
   },
   {
    "duration": 4,
    "start_time": "2022-02-23T20:05:40.257Z"
   },
   {
    "duration": 5,
    "start_time": "2022-02-23T20:05:41.213Z"
   },
   {
    "duration": 14,
    "start_time": "2022-02-23T20:05:42.462Z"
   },
   {
    "duration": 34,
    "start_time": "2022-02-23T20:05:43.552Z"
   },
   {
    "duration": 7,
    "start_time": "2022-02-23T20:05:46.333Z"
   },
   {
    "duration": 7,
    "start_time": "2022-02-23T20:05:51.844Z"
   },
   {
    "duration": 8,
    "start_time": "2022-02-23T20:06:05.515Z"
   },
   {
    "duration": 8,
    "start_time": "2022-02-23T20:06:15.405Z"
   },
   {
    "duration": 11,
    "start_time": "2022-02-23T20:06:44.985Z"
   },
   {
    "duration": 28,
    "start_time": "2022-02-23T20:19:12.508Z"
   },
   {
    "duration": 18,
    "start_time": "2022-02-23T20:27:38.537Z"
   },
   {
    "duration": 18,
    "start_time": "2022-02-23T20:29:41.619Z"
   },
   {
    "duration": 87,
    "start_time": "2022-02-23T20:30:29.793Z"
   },
   {
    "duration": 260,
    "start_time": "2022-02-23T20:30:38.024Z"
   },
   {
    "duration": 1070,
    "start_time": "2022-02-23T20:30:56.488Z"
   },
   {
    "duration": 121,
    "start_time": "2022-02-23T20:31:06.581Z"
   },
   {
    "duration": 1057,
    "start_time": "2022-02-23T20:31:24.796Z"
   },
   {
    "duration": 18,
    "start_time": "2022-02-23T20:31:36.327Z"
   },
   {
    "duration": 18,
    "start_time": "2022-02-23T20:32:04.195Z"
   },
   {
    "duration": 18,
    "start_time": "2022-02-23T20:32:22.309Z"
   },
   {
    "duration": 259,
    "start_time": "2022-02-24T20:39:26.032Z"
   },
   {
    "duration": 253,
    "start_time": "2022-02-24T20:39:29.862Z"
   },
   {
    "duration": 607,
    "start_time": "2022-02-24T20:39:37.875Z"
   },
   {
    "duration": 10,
    "start_time": "2022-02-24T20:39:38.484Z"
   },
   {
    "duration": 13,
    "start_time": "2022-02-24T20:39:38.497Z"
   },
   {
    "duration": 13,
    "start_time": "2022-02-24T20:39:38.683Z"
   },
   {
    "duration": 11,
    "start_time": "2022-02-24T20:39:39.831Z"
   },
   {
    "duration": 27,
    "start_time": "2022-02-24T20:39:40.337Z"
   },
   {
    "duration": 26,
    "start_time": "2022-02-24T20:39:40.776Z"
   },
   {
    "duration": 10,
    "start_time": "2022-02-24T20:39:41.879Z"
   },
   {
    "duration": 5,
    "start_time": "2022-02-24T20:39:42.936Z"
   },
   {
    "duration": 4,
    "start_time": "2022-02-24T20:39:43.296Z"
   },
   {
    "duration": 7,
    "start_time": "2022-02-24T20:39:44.330Z"
   },
   {
    "duration": 12,
    "start_time": "2022-02-24T20:39:44.634Z"
   },
   {
    "duration": 4,
    "start_time": "2022-02-24T20:39:45.691Z"
   },
   {
    "duration": 7,
    "start_time": "2022-02-24T20:39:46.762Z"
   },
   {
    "duration": 8,
    "start_time": "2022-02-24T20:39:47.819Z"
   },
   {
    "duration": 4,
    "start_time": "2022-02-24T20:39:48.549Z"
   },
   {
    "duration": 8,
    "start_time": "2022-02-24T20:39:49.203Z"
   },
   {
    "duration": 3,
    "start_time": "2022-02-24T20:39:49.866Z"
   },
   {
    "duration": 4,
    "start_time": "2022-02-24T20:39:50.248Z"
   },
   {
    "duration": 5,
    "start_time": "2022-02-24T20:39:50.677Z"
   },
   {
    "duration": 12,
    "start_time": "2022-02-24T20:39:51.710Z"
   },
   {
    "duration": 16,
    "start_time": "2022-02-24T20:39:52.744Z"
   },
   {
    "duration": 18,
    "start_time": "2022-02-24T20:39:53.231Z"
   },
   {
    "duration": 5,
    "start_time": "2022-02-24T20:39:53.780Z"
   },
   {
    "duration": 14,
    "start_time": "2022-02-24T20:39:54.647Z"
   },
   {
    "duration": 5,
    "start_time": "2022-02-24T20:39:55.041Z"
   },
   {
    "duration": 17,
    "start_time": "2022-02-24T20:39:55.434Z"
   },
   {
    "duration": 5,
    "start_time": "2022-02-24T20:39:55.929Z"
   },
   {
    "duration": 5,
    "start_time": "2022-02-24T20:39:56.502Z"
   },
   {
    "duration": 16,
    "start_time": "2022-02-24T20:39:57.076Z"
   },
   {
    "duration": 32,
    "start_time": "2022-02-24T20:39:57.866Z"
   },
   {
    "duration": 9,
    "start_time": "2022-02-24T20:39:59.642Z"
   },
   {
    "duration": 9,
    "start_time": "2022-02-24T20:39:59.844Z"
   },
   {
    "duration": 13,
    "start_time": "2022-02-24T20:40:00.104Z"
   },
   {
    "duration": 23,
    "start_time": "2022-02-24T20:40:01.498Z"
   },
   {
    "duration": 257,
    "start_time": "2022-02-24T20:40:05.848Z"
   },
   {
    "duration": 7,
    "start_time": "2022-02-24T20:41:19.012Z"
   },
   {
    "duration": 13,
    "start_time": "2022-02-24T20:41:23.197Z"
   },
   {
    "duration": 13,
    "start_time": "2022-02-24T20:41:35.765Z"
   },
   {
    "duration": 12,
    "start_time": "2022-02-24T20:41:44.168Z"
   },
   {
    "duration": 12,
    "start_time": "2022-02-24T20:41:52.009Z"
   },
   {
    "duration": 12,
    "start_time": "2022-02-24T20:41:59.819Z"
   },
   {
    "duration": 11,
    "start_time": "2022-02-24T20:47:41.691Z"
   },
   {
    "duration": 5,
    "start_time": "2022-02-24T20:48:38.569Z"
   },
   {
    "duration": 14,
    "start_time": "2022-02-24T20:48:39.291Z"
   },
   {
    "duration": 13,
    "start_time": "2022-02-24T20:48:40.966Z"
   },
   {
    "duration": 13,
    "start_time": "2022-02-24T20:48:41.497Z"
   },
   {
    "duration": 12,
    "start_time": "2022-02-24T20:48:42.047Z"
   },
   {
    "duration": 12,
    "start_time": "2022-02-24T20:48:42.597Z"
   },
   {
    "duration": 890,
    "start_time": "2022-02-24T20:50:33.740Z"
   },
   {
    "duration": 961,
    "start_time": "2022-02-24T20:50:39.185Z"
   },
   {
    "duration": 87,
    "start_time": "2022-02-24T20:50:59.793Z"
   },
   {
    "duration": 948,
    "start_time": "2022-02-24T20:51:04.743Z"
   },
   {
    "duration": 245,
    "start_time": "2022-02-24T20:51:30.059Z"
   },
   {
    "duration": 952,
    "start_time": "2022-02-24T20:51:37.268Z"
   },
   {
    "duration": 14,
    "start_time": "2022-02-24T20:53:38.636Z"
   },
   {
    "duration": 15,
    "start_time": "2022-02-24T20:54:18.384Z"
   },
   {
    "duration": 5,
    "start_time": "2022-02-24T20:59:04.001Z"
   },
   {
    "duration": 14,
    "start_time": "2022-02-24T20:59:04.980Z"
   },
   {
    "duration": 14,
    "start_time": "2022-02-24T20:59:05.768Z"
   },
   {
    "duration": 15,
    "start_time": "2022-02-24T20:59:06.376Z"
   },
   {
    "duration": 16,
    "start_time": "2022-02-24T20:59:07.061Z"
   },
   {
    "duration": 15,
    "start_time": "2022-02-24T20:59:08.091Z"
   },
   {
    "duration": 14,
    "start_time": "2022-02-24T20:59:09.075Z"
   },
   {
    "duration": 20,
    "start_time": "2022-02-24T21:12:08.412Z"
   },
   {
    "duration": 6256,
    "start_time": "2022-02-24T21:13:16.745Z"
   },
   {
    "duration": 11,
    "start_time": "2022-02-24T21:13:28.591Z"
   },
   {
    "duration": 9,
    "start_time": "2022-02-24T21:13:42.575Z"
   },
   {
    "duration": 8,
    "start_time": "2022-02-24T21:13:45.743Z"
   },
   {
    "duration": 11,
    "start_time": "2022-02-24T21:14:07.977Z"
   },
   {
    "duration": 284,
    "start_time": "2022-02-24T21:14:29.017Z"
   },
   {
    "duration": 11,
    "start_time": "2022-02-24T21:14:33.866Z"
   },
   {
    "duration": 19,
    "start_time": "2022-02-24T21:15:16.470Z"
   },
   {
    "duration": 12,
    "start_time": "2022-02-24T21:15:17.290Z"
   },
   {
    "duration": 6,
    "start_time": "2022-02-24T21:24:25.186Z"
   },
   {
    "duration": 6,
    "start_time": "2022-02-24T21:24:39.752Z"
   },
   {
    "duration": 7,
    "start_time": "2022-02-24T21:24:58.487Z"
   },
   {
    "duration": 7,
    "start_time": "2022-02-24T21:25:15.562Z"
   },
   {
    "duration": 9,
    "start_time": "2022-02-24T21:26:47.792Z"
   },
   {
    "duration": 9,
    "start_time": "2022-02-24T21:26:50.122Z"
   },
   {
    "duration": 9,
    "start_time": "2022-02-24T21:27:48.984Z"
   },
   {
    "duration": 11,
    "start_time": "2022-02-24T21:28:00.714Z"
   },
   {
    "duration": 640,
    "start_time": "2022-02-25T18:46:35.723Z"
   },
   {
    "duration": 10,
    "start_time": "2022-02-25T18:46:36.365Z"
   },
   {
    "duration": 17,
    "start_time": "2022-02-25T18:46:36.377Z"
   },
   {
    "duration": 11,
    "start_time": "2022-02-25T18:46:36.396Z"
   },
   {
    "duration": 11,
    "start_time": "2022-02-25T18:46:36.519Z"
   },
   {
    "duration": 27,
    "start_time": "2022-02-25T18:46:36.723Z"
   },
   {
    "duration": 27,
    "start_time": "2022-02-25T18:46:36.902Z"
   },
   {
    "duration": 9,
    "start_time": "2022-02-25T18:46:37.285Z"
   },
   {
    "duration": 5,
    "start_time": "2022-02-25T18:46:37.758Z"
   },
   {
    "duration": 5,
    "start_time": "2022-02-25T18:46:38.141Z"
   },
   {
    "duration": 8,
    "start_time": "2022-02-25T18:46:39.198Z"
   },
   {
    "duration": 14,
    "start_time": "2022-02-25T18:46:39.547Z"
   },
   {
    "duration": 4,
    "start_time": "2022-02-25T18:46:40.278Z"
   },
   {
    "duration": 7,
    "start_time": "2022-02-25T18:46:40.931Z"
   },
   {
    "duration": 11,
    "start_time": "2022-02-25T18:46:41.482Z"
   },
   {
    "duration": 5,
    "start_time": "2022-02-25T18:46:42.078Z"
   },
   {
    "duration": 6,
    "start_time": "2022-02-25T18:46:42.605Z"
   },
   {
    "duration": 4,
    "start_time": "2022-02-25T18:46:43.169Z"
   },
   {
    "duration": 4,
    "start_time": "2022-02-25T18:46:43.451Z"
   },
   {
    "duration": 6,
    "start_time": "2022-02-25T18:46:43.799Z"
   },
   {
    "duration": 14,
    "start_time": "2022-02-25T18:46:44.474Z"
   },
   {
    "duration": 16,
    "start_time": "2022-02-25T18:46:45.216Z"
   },
   {
    "duration": 19,
    "start_time": "2022-02-25T18:46:45.488Z"
   },
   {
    "duration": 5,
    "start_time": "2022-02-25T18:46:45.857Z"
   },
   {
    "duration": 16,
    "start_time": "2022-02-25T18:46:46.478Z"
   },
   {
    "duration": 5,
    "start_time": "2022-02-25T18:46:46.770Z"
   },
   {
    "duration": 19,
    "start_time": "2022-02-25T18:46:47.075Z"
   },
   {
    "duration": 5,
    "start_time": "2022-02-25T18:46:47.388Z"
   },
   {
    "duration": 5,
    "start_time": "2022-02-25T18:46:47.750Z"
   },
   {
    "duration": 17,
    "start_time": "2022-02-25T18:46:48.255Z"
   },
   {
    "duration": 33,
    "start_time": "2022-02-25T18:46:48.603Z"
   },
   {
    "duration": 8,
    "start_time": "2022-02-25T18:46:49.855Z"
   },
   {
    "duration": 9,
    "start_time": "2022-02-25T18:46:50.314Z"
   },
   {
    "duration": 14,
    "start_time": "2022-02-25T18:46:50.978Z"
   },
   {
    "duration": 22,
    "start_time": "2022-02-25T18:46:52.147Z"
   },
   {
    "duration": 21,
    "start_time": "2022-02-25T18:46:57.504Z"
   },
   {
    "duration": 13,
    "start_time": "2022-02-25T18:46:58.999Z"
   },
   {
    "duration": 6,
    "start_time": "2022-02-25T18:47:02.521Z"
   },
   {
    "duration": 10,
    "start_time": "2022-02-25T18:47:02.992Z"
   },
   {
    "duration": 281,
    "start_time": "2022-02-25T18:57:55.400Z"
   },
   {
    "duration": 11,
    "start_time": "2022-02-25T18:58:15.901Z"
   },
   {
    "duration": 310,
    "start_time": "2022-02-25T18:58:16.960Z"
   },
   {
    "duration": 223,
    "start_time": "2022-02-25T18:58:23.102Z"
   },
   {
    "duration": 209,
    "start_time": "2022-02-25T18:58:27.602Z"
   },
   {
    "duration": 14,
    "start_time": "2022-02-25T18:58:49.306Z"
   },
   {
    "duration": 23,
    "start_time": "2022-02-25T18:59:00.804Z"
   },
   {
    "duration": 9,
    "start_time": "2022-02-25T18:59:08.533Z"
   },
   {
    "duration": 453,
    "start_time": "2022-02-25T19:22:51.034Z"
   },
   {
    "duration": 404,
    "start_time": "2022-02-25T19:23:13.303Z"
   },
   {
    "duration": 370,
    "start_time": "2022-02-25T19:23:21.416Z"
   },
   {
    "duration": 6805,
    "start_time": "2022-02-25T19:27:47.860Z"
   },
   {
    "duration": 6520,
    "start_time": "2022-02-25T19:27:57.135Z"
   },
   {
    "duration": 404,
    "start_time": "2022-02-25T19:30:09.330Z"
   },
   {
    "duration": 6150,
    "start_time": "2022-02-25T19:30:13.740Z"
   },
   {
    "duration": 374,
    "start_time": "2022-02-25T19:30:40.428Z"
   },
   {
    "duration": 6307,
    "start_time": "2022-02-25T19:38:14.734Z"
   },
   {
    "duration": 393,
    "start_time": "2022-02-25T19:39:16.593Z"
   },
   {
    "duration": 401,
    "start_time": "2022-02-25T19:52:00.592Z"
   },
   {
    "duration": 392,
    "start_time": "2022-02-25T19:56:49.363Z"
   },
   {
    "duration": 1174,
    "start_time": "2022-02-25T20:05:19.594Z"
   },
   {
    "duration": 598,
    "start_time": "2022-02-25T20:05:54.624Z"
   },
   {
    "duration": 636,
    "start_time": "2022-02-25T20:06:08.066Z"
   },
   {
    "duration": 645,
    "start_time": "2022-02-25T20:07:59.985Z"
   },
   {
    "duration": 595,
    "start_time": "2022-02-25T20:08:52.605Z"
   },
   {
    "duration": 570,
    "start_time": "2022-02-25T20:08:57.734Z"
   },
   {
    "duration": 550,
    "start_time": "2022-02-25T20:10:03.006Z"
   },
   {
    "duration": 545,
    "start_time": "2022-02-25T20:10:27.898Z"
   },
   {
    "duration": 5,
    "start_time": "2022-02-25T20:10:41.933Z"
   },
   {
    "duration": 535,
    "start_time": "2022-02-25T20:11:40.802Z"
   },
   {
    "duration": 545,
    "start_time": "2022-02-25T20:12:05.408Z"
   },
   {
    "duration": 504,
    "start_time": "2022-02-25T20:12:21.193Z"
   },
   {
    "duration": 577,
    "start_time": "2022-02-25T20:12:51.794Z"
   },
   {
    "duration": 565,
    "start_time": "2022-02-25T20:13:24.934Z"
   },
   {
    "duration": 497,
    "start_time": "2022-02-25T20:19:52.501Z"
   },
   {
    "duration": 598,
    "start_time": "2022-02-25T20:19:58.980Z"
   },
   {
    "duration": 546,
    "start_time": "2022-02-25T20:20:39.191Z"
   },
   {
    "duration": 341,
    "start_time": "2022-02-26T08:23:35.557Z"
   },
   {
    "duration": 794,
    "start_time": "2022-02-26T08:23:44.388Z"
   },
   {
    "duration": 14,
    "start_time": "2022-02-26T08:23:45.185Z"
   },
   {
    "duration": 34,
    "start_time": "2022-02-26T08:23:45.202Z"
   },
   {
    "duration": 30,
    "start_time": "2022-02-26T08:23:45.239Z"
   },
   {
    "duration": 14,
    "start_time": "2022-02-26T08:23:45.272Z"
   },
   {
    "duration": 42,
    "start_time": "2022-02-26T08:23:45.344Z"
   },
   {
    "duration": 39,
    "start_time": "2022-02-26T08:23:45.514Z"
   },
   {
    "duration": 13,
    "start_time": "2022-02-26T08:23:45.850Z"
   },
   {
    "duration": 5,
    "start_time": "2022-02-26T08:23:46.187Z"
   },
   {
    "duration": 7,
    "start_time": "2022-02-26T08:23:46.348Z"
   },
   {
    "duration": 9,
    "start_time": "2022-02-26T08:23:46.864Z"
   },
   {
    "duration": 21,
    "start_time": "2022-02-26T08:23:47.043Z"
   },
   {
    "duration": 6,
    "start_time": "2022-02-26T08:23:49.186Z"
   },
   {
    "duration": 19,
    "start_time": "2022-02-26T08:23:49.195Z"
   },
   {
    "duration": 17,
    "start_time": "2022-02-26T08:23:49.217Z"
   },
   {
    "duration": 5,
    "start_time": "2022-02-26T08:23:49.237Z"
   },
   {
    "duration": 23,
    "start_time": "2022-02-26T08:23:49.244Z"
   },
   {
    "duration": 6,
    "start_time": "2022-02-26T08:23:49.384Z"
   },
   {
    "duration": 6,
    "start_time": "2022-02-26T08:23:49.584Z"
   },
   {
    "duration": 6,
    "start_time": "2022-02-26T08:23:49.800Z"
   },
   {
    "duration": 17,
    "start_time": "2022-02-26T08:23:50.193Z"
   },
   {
    "duration": 24,
    "start_time": "2022-02-26T08:23:50.633Z"
   },
   {
    "duration": 25,
    "start_time": "2022-02-26T08:23:50.822Z"
   },
   {
    "duration": 7,
    "start_time": "2022-02-26T08:23:51.049Z"
   },
   {
    "duration": 21,
    "start_time": "2022-02-26T08:23:51.419Z"
   },
   {
    "duration": 7,
    "start_time": "2022-02-26T08:23:51.611Z"
   },
   {
    "duration": 24,
    "start_time": "2022-02-26T08:23:51.791Z"
   },
   {
    "duration": 7,
    "start_time": "2022-02-26T08:23:51.995Z"
   },
   {
    "duration": 7,
    "start_time": "2022-02-26T08:23:52.172Z"
   },
   {
    "duration": 24,
    "start_time": "2022-02-26T08:23:52.365Z"
   },
   {
    "duration": 47,
    "start_time": "2022-02-26T08:23:52.567Z"
   },
   {
    "duration": 12,
    "start_time": "2022-02-26T08:23:53.400Z"
   },
   {
    "duration": 11,
    "start_time": "2022-02-26T08:23:53.624Z"
   },
   {
    "duration": 20,
    "start_time": "2022-02-26T08:23:53.851Z"
   },
   {
    "duration": 33,
    "start_time": "2022-02-26T08:23:54.279Z"
   },
   {
    "duration": 30,
    "start_time": "2022-02-26T08:23:54.717Z"
   },
   {
    "duration": 16,
    "start_time": "2022-02-26T08:23:54.932Z"
   },
   {
    "duration": 1601,
    "start_time": "2022-02-26T08:23:55.887Z"
   },
   {
    "duration": 819,
    "start_time": "2022-02-26T08:23:57.491Z"
   },
   {
    "duration": 877,
    "start_time": "2022-02-26T08:23:58.979Z"
   },
   {
    "duration": 1056,
    "start_time": "2022-02-26T08:23:59.887Z"
   },
   {
    "duration": 1099,
    "start_time": "2022-02-26T08:24:33.770Z"
   },
   {
    "duration": 1398,
    "start_time": "2022-02-26T08:24:48.507Z"
   },
   {
    "duration": 1078,
    "start_time": "2022-02-26T08:26:33.837Z"
   },
   {
    "duration": 1108,
    "start_time": "2022-02-26T08:26:52.330Z"
   },
   {
    "duration": 1158,
    "start_time": "2022-02-26T08:32:26.080Z"
   },
   {
    "duration": 1441,
    "start_time": "2022-02-26T08:34:05.728Z"
   },
   {
    "duration": 1039,
    "start_time": "2022-02-26T08:34:20.028Z"
   },
   {
    "duration": 1268,
    "start_time": "2022-02-26T08:34:32.786Z"
   },
   {
    "duration": 1141,
    "start_time": "2022-02-26T08:34:45.252Z"
   },
   {
    "duration": 1031,
    "start_time": "2022-02-26T08:34:59.034Z"
   },
   {
    "duration": 1216,
    "start_time": "2022-02-26T08:35:33.182Z"
   },
   {
    "duration": 1031,
    "start_time": "2022-02-26T08:35:50.348Z"
   },
   {
    "duration": 1025,
    "start_time": "2022-02-26T08:36:17.687Z"
   },
   {
    "duration": 980,
    "start_time": "2022-02-26T08:36:34.394Z"
   },
   {
    "duration": 1032,
    "start_time": "2022-02-26T08:37:25.293Z"
   },
   {
    "duration": 1030,
    "start_time": "2022-02-26T08:37:50.283Z"
   },
   {
    "duration": 1108,
    "start_time": "2022-02-26T08:38:32.740Z"
   },
   {
    "duration": 969,
    "start_time": "2022-02-26T08:39:33.844Z"
   },
   {
    "duration": 878,
    "start_time": "2022-02-26T08:39:49.292Z"
   },
   {
    "duration": 883,
    "start_time": "2022-02-26T08:41:50.874Z"
   },
   {
    "duration": 918,
    "start_time": "2022-02-26T08:42:49.220Z"
   },
   {
    "duration": 224,
    "start_time": "2022-02-26T15:51:10.313Z"
   },
   {
    "duration": 575,
    "start_time": "2022-02-26T15:51:27.174Z"
   },
   {
    "duration": 9,
    "start_time": "2022-02-26T15:51:27.750Z"
   },
   {
    "duration": 14,
    "start_time": "2022-02-26T15:51:27.761Z"
   },
   {
    "duration": 12,
    "start_time": "2022-02-26T15:51:27.781Z"
   },
   {
    "duration": 9,
    "start_time": "2022-02-26T15:51:27.979Z"
   },
   {
    "duration": 26,
    "start_time": "2022-02-26T15:51:28.173Z"
   },
   {
    "duration": 24,
    "start_time": "2022-02-26T15:51:28.389Z"
   },
   {
    "duration": 10,
    "start_time": "2022-02-26T15:51:28.772Z"
   },
   {
    "duration": 4,
    "start_time": "2022-02-26T15:51:29.173Z"
   },
   {
    "duration": 4,
    "start_time": "2022-02-26T15:51:29.373Z"
   },
   {
    "duration": 6,
    "start_time": "2022-02-26T15:51:29.937Z"
   },
   {
    "duration": 18,
    "start_time": "2022-02-26T15:51:30.163Z"
   },
   {
    "duration": 4,
    "start_time": "2022-02-26T15:51:30.523Z"
   },
   {
    "duration": 7,
    "start_time": "2022-02-26T15:51:30.886Z"
   },
   {
    "duration": 12,
    "start_time": "2022-02-26T15:51:31.272Z"
   },
   {
    "duration": 5,
    "start_time": "2022-02-26T15:51:31.635Z"
   },
   {
    "duration": 7,
    "start_time": "2022-02-26T15:51:31.995Z"
   },
   {
    "duration": 5,
    "start_time": "2022-02-26T15:51:32.571Z"
   },
   {
    "duration": 4,
    "start_time": "2022-02-26T15:51:32.772Z"
   },
   {
    "duration": 7,
    "start_time": "2022-02-26T15:51:32.973Z"
   },
   {
    "duration": 19,
    "start_time": "2022-02-26T15:51:33.371Z"
   },
   {
    "duration": 15,
    "start_time": "2022-02-26T15:51:33.773Z"
   },
   {
    "duration": 19,
    "start_time": "2022-02-26T15:51:33.982Z"
   },
   {
    "duration": 5,
    "start_time": "2022-02-26T15:51:34.172Z"
   },
   {
    "duration": 17,
    "start_time": "2022-02-26T15:51:34.577Z"
   },
   {
    "duration": 5,
    "start_time": "2022-02-26T15:51:34.774Z"
   },
   {
    "duration": 17,
    "start_time": "2022-02-26T15:51:34.972Z"
   },
   {
    "duration": 4,
    "start_time": "2022-02-26T15:51:35.172Z"
   },
   {
    "duration": 5,
    "start_time": "2022-02-26T15:51:35.372Z"
   },
   {
    "duration": 16,
    "start_time": "2022-02-26T15:51:35.528Z"
   },
   {
    "duration": 32,
    "start_time": "2022-02-26T15:51:35.730Z"
   },
   {
    "duration": 8,
    "start_time": "2022-02-26T15:51:36.523Z"
   },
   {
    "duration": 8,
    "start_time": "2022-02-26T15:51:36.742Z"
   },
   {
    "duration": 12,
    "start_time": "2022-02-26T15:51:36.973Z"
   },
   {
    "duration": 20,
    "start_time": "2022-02-26T15:51:37.373Z"
   },
   {
    "duration": 18,
    "start_time": "2022-02-26T15:51:37.780Z"
   },
   {
    "duration": 12,
    "start_time": "2022-02-26T15:51:38.022Z"
   },
   {
    "duration": 1027,
    "start_time": "2022-02-26T15:51:38.872Z"
   },
   {
    "duration": 355,
    "start_time": "2022-02-26T15:51:39.901Z"
   },
   {
    "duration": 455,
    "start_time": "2022-02-26T15:51:40.271Z"
   },
   {
    "duration": 479,
    "start_time": "2022-02-26T15:51:41.323Z"
   },
   {
    "duration": 584,
    "start_time": "2022-02-26T15:51:42.137Z"
   },
   {
    "duration": 584,
    "start_time": "2022-02-26T15:51:42.723Z"
   },
   {
    "duration": 337,
    "start_time": "2022-02-26T17:05:03.772Z"
   },
   {
    "duration": 343,
    "start_time": "2022-02-26T17:13:01.940Z"
   },
   {
    "duration": 4431,
    "start_time": "2022-02-26T17:14:05.873Z"
   },
   {
    "duration": 8,
    "start_time": "2022-02-26T17:14:22.253Z"
   },
   {
    "duration": 332,
    "start_time": "2022-02-26T17:16:09.866Z"
   },
   {
    "duration": 473,
    "start_time": "2022-02-26T17:16:16.789Z"
   },
   {
    "duration": 327,
    "start_time": "2022-02-26T17:16:18.392Z"
   },
   {
    "duration": 8,
    "start_time": "2022-02-26T17:16:27.289Z"
   },
   {
    "duration": 46,
    "start_time": "2022-02-26T17:23:38.956Z"
   },
   {
    "duration": 573,
    "start_time": "2022-02-26T17:23:48.966Z"
   },
   {
    "duration": 836,
    "start_time": "2022-03-07T09:32:35.377Z"
   },
   {
    "duration": 13,
    "start_time": "2022-03-07T09:32:36.215Z"
   },
   {
    "duration": 21,
    "start_time": "2022-03-07T09:32:36.231Z"
   },
   {
    "duration": 41,
    "start_time": "2022-03-07T09:32:36.254Z"
   },
   {
    "duration": 15,
    "start_time": "2022-03-07T09:32:36.298Z"
   },
   {
    "duration": 68,
    "start_time": "2022-03-07T09:32:36.315Z"
   },
   {
    "duration": 40,
    "start_time": "2022-03-07T09:32:36.386Z"
   },
   {
    "duration": 14,
    "start_time": "2022-03-07T09:32:36.429Z"
   },
   {
    "duration": 6,
    "start_time": "2022-03-07T09:32:36.482Z"
   },
   {
    "duration": 6,
    "start_time": "2022-03-07T09:32:36.493Z"
   },
   {
    "duration": 11,
    "start_time": "2022-03-07T09:32:36.502Z"
   },
   {
    "duration": 22,
    "start_time": "2022-03-07T09:32:36.515Z"
   },
   {
    "duration": 6,
    "start_time": "2022-03-07T09:32:36.583Z"
   },
   {
    "duration": 10,
    "start_time": "2022-03-07T09:32:36.591Z"
   },
   {
    "duration": 16,
    "start_time": "2022-03-07T09:32:36.604Z"
   },
   {
    "duration": 9,
    "start_time": "2022-03-07T09:32:36.623Z"
   },
   {
    "duration": 20,
    "start_time": "2022-03-07T09:32:36.634Z"
   },
   {
    "duration": 5,
    "start_time": "2022-03-07T09:32:36.683Z"
   },
   {
    "duration": 12,
    "start_time": "2022-03-07T09:32:36.690Z"
   },
   {
    "duration": 8,
    "start_time": "2022-03-07T09:32:36.705Z"
   },
   {
    "duration": 17,
    "start_time": "2022-03-07T09:32:36.715Z"
   },
   {
    "duration": 58,
    "start_time": "2022-03-07T09:32:36.734Z"
   },
   {
    "duration": 24,
    "start_time": "2022-03-07T09:32:36.794Z"
   },
   {
    "duration": 6,
    "start_time": "2022-03-07T09:32:36.820Z"
   },
   {
    "duration": 20,
    "start_time": "2022-03-07T09:32:36.829Z"
   },
   {
    "duration": 34,
    "start_time": "2022-03-07T09:32:36.852Z"
   },
   {
    "duration": 22,
    "start_time": "2022-03-07T09:32:36.891Z"
   },
   {
    "duration": 9,
    "start_time": "2022-03-07T09:32:36.916Z"
   },
   {
    "duration": 7,
    "start_time": "2022-03-07T09:32:36.928Z"
   },
   {
    "duration": 57,
    "start_time": "2022-03-07T09:32:36.938Z"
   },
   {
    "duration": 42,
    "start_time": "2022-03-07T09:32:36.998Z"
   },
   {
    "duration": 11,
    "start_time": "2022-03-07T09:32:37.042Z"
   },
   {
    "duration": 36,
    "start_time": "2022-03-07T09:32:37.055Z"
   },
   {
    "duration": 18,
    "start_time": "2022-03-07T09:32:37.093Z"
   },
   {
    "duration": 33,
    "start_time": "2022-03-07T09:32:37.113Z"
   },
   {
    "duration": 61,
    "start_time": "2022-03-07T09:32:37.148Z"
   },
   {
    "duration": 17,
    "start_time": "2022-03-07T09:32:37.211Z"
   },
   {
    "duration": 1506,
    "start_time": "2022-03-07T09:32:37.230Z"
   },
   {
    "duration": 783,
    "start_time": "2022-03-07T09:32:38.738Z"
   },
   {
    "duration": 894,
    "start_time": "2022-03-07T09:32:39.524Z"
   },
   {
    "duration": 1270,
    "start_time": "2022-03-07T09:32:40.420Z"
   },
   {
    "duration": 991,
    "start_time": "2022-03-07T09:32:41.693Z"
   },
   {
    "duration": 729,
    "start_time": "2022-03-07T13:16:26.223Z"
   },
   {
    "duration": 66,
    "start_time": "2022-03-07T13:16:26.955Z"
   },
   {
    "duration": 71,
    "start_time": "2022-03-07T13:20:17.853Z"
   },
   {
    "duration": 13,
    "start_time": "2022-03-07T13:21:32.642Z"
   },
   {
    "duration": 19,
    "start_time": "2022-03-07T13:21:33.339Z"
   },
   {
    "duration": 17,
    "start_time": "2022-03-07T13:21:33.914Z"
   },
   {
    "duration": 14,
    "start_time": "2022-03-07T13:21:37.559Z"
   },
   {
    "duration": 39,
    "start_time": "2022-03-07T13:21:38.111Z"
   },
   {
    "duration": 41,
    "start_time": "2022-03-07T13:21:39.327Z"
   },
   {
    "duration": 62,
    "start_time": "2022-03-07T13:43:33.564Z"
   },
   {
    "duration": 71,
    "start_time": "2022-03-07T13:44:03.671Z"
   },
   {
    "duration": 18,
    "start_time": "2022-03-07T13:44:09.977Z"
   },
   {
    "duration": 13,
    "start_time": "2022-03-07T13:44:10.894Z"
   },
   {
    "duration": 39,
    "start_time": "2022-03-07T13:46:16.942Z"
   },
   {
    "duration": 39,
    "start_time": "2022-03-07T13:47:00.077Z"
   },
   {
    "duration": 14,
    "start_time": "2022-03-07T13:52:03.038Z"
   },
   {
    "duration": 280,
    "start_time": "2022-03-07T13:52:04.926Z"
   },
   {
    "duration": 211,
    "start_time": "2022-03-07T13:54:21.564Z"
   },
   {
    "duration": 211,
    "start_time": "2022-03-07T13:55:06.532Z"
   },
   {
    "duration": 206,
    "start_time": "2022-03-07T13:56:20.355Z"
   },
   {
    "duration": 202,
    "start_time": "2022-03-07T13:56:31.235Z"
   },
   {
    "duration": 192,
    "start_time": "2022-03-07T13:56:39.007Z"
   },
   {
    "duration": 6,
    "start_time": "2022-03-07T13:56:43.451Z"
   },
   {
    "duration": 194,
    "start_time": "2022-03-07T13:57:09.016Z"
   },
   {
    "duration": 198,
    "start_time": "2022-03-07T13:57:56.455Z"
   },
   {
    "duration": 7,
    "start_time": "2022-03-07T13:59:14.816Z"
   },
   {
    "duration": 5,
    "start_time": "2022-03-07T13:59:17.041Z"
   },
   {
    "duration": 5,
    "start_time": "2022-03-07T14:03:06.592Z"
   },
   {
    "duration": 280,
    "start_time": "2022-03-07T14:04:37.744Z"
   },
   {
    "duration": 3,
    "start_time": "2022-03-07T14:04:41.287Z"
   },
   {
    "duration": 233,
    "start_time": "2022-03-07T14:04:43.046Z"
   },
   {
    "duration": 230,
    "start_time": "2022-03-07T14:05:20.916Z"
   },
   {
    "duration": 371,
    "start_time": "2022-03-07T14:05:27.075Z"
   },
   {
    "duration": 238,
    "start_time": "2022-03-07T14:06:04.036Z"
   },
   {
    "duration": 240,
    "start_time": "2022-03-07T14:06:37.381Z"
   },
   {
    "duration": 7,
    "start_time": "2022-03-07T14:07:19.164Z"
   },
   {
    "duration": 5,
    "start_time": "2022-03-07T14:07:30.976Z"
   },
   {
    "duration": 10,
    "start_time": "2022-03-07T14:09:07.327Z"
   },
   {
    "duration": 19,
    "start_time": "2022-03-07T14:09:11.541Z"
   },
   {
    "duration": 6,
    "start_time": "2022-03-07T14:09:13.051Z"
   },
   {
    "duration": 11,
    "start_time": "2022-03-07T14:09:15.998Z"
   },
   {
    "duration": 235,
    "start_time": "2022-03-07T18:20:44.936Z"
   },
   {
    "duration": 613,
    "start_time": "2022-03-07T18:20:55.782Z"
   },
   {
    "duration": 56,
    "start_time": "2022-03-07T18:20:56.397Z"
   },
   {
    "duration": 10,
    "start_time": "2022-03-07T18:20:57.189Z"
   },
   {
    "duration": 16,
    "start_time": "2022-03-07T18:20:58.123Z"
   },
   {
    "duration": 13,
    "start_time": "2022-03-07T18:20:59.134Z"
   },
   {
    "duration": 16,
    "start_time": "2022-03-07T18:21:00.837Z"
   },
   {
    "duration": 39,
    "start_time": "2022-03-07T18:21:00.979Z"
   },
   {
    "duration": 39,
    "start_time": "2022-03-07T18:21:02.004Z"
   },
   {
    "duration": 12,
    "start_time": "2022-03-07T18:21:04.208Z"
   },
   {
    "duration": 3,
    "start_time": "2022-03-07T18:21:04.748Z"
   },
   {
    "duration": 3,
    "start_time": "2022-03-07T18:21:06.120Z"
   },
   {
    "duration": 6,
    "start_time": "2022-03-07T18:21:07.042Z"
   },
   {
    "duration": 6,
    "start_time": "2022-03-07T18:21:07.518Z"
   },
   {
    "duration": 8,
    "start_time": "2022-03-07T18:21:09.473Z"
   },
   {
    "duration": 14,
    "start_time": "2022-03-07T18:21:11.363Z"
   },
   {
    "duration": 5,
    "start_time": "2022-03-07T18:21:13.545Z"
   },
   {
    "duration": 8,
    "start_time": "2022-03-07T18:21:15.256Z"
   },
   {
    "duration": 12,
    "start_time": "2022-03-07T18:21:16.865Z"
   },
   {
    "duration": 5,
    "start_time": "2022-03-07T18:21:19.060Z"
   },
   {
    "duration": 5,
    "start_time": "2022-03-07T18:21:20.611Z"
   },
   {
    "duration": 5,
    "start_time": "2022-03-07T18:21:22.186Z"
   },
   {
    "duration": 4,
    "start_time": "2022-03-07T18:21:22.783Z"
   },
   {
    "duration": 6,
    "start_time": "2022-03-07T18:21:23.368Z"
   },
   {
    "duration": 4,
    "start_time": "2022-03-07T18:21:24.096Z"
   },
   {
    "duration": 55,
    "start_time": "2022-03-07T18:23:42.327Z"
   },
   {
    "duration": 7,
    "start_time": "2022-03-07T18:23:52.324Z"
   },
   {
    "duration": 61,
    "start_time": "2022-03-07T18:24:19.373Z"
   },
   {
    "duration": 4250,
    "start_time": "2022-03-07T18:24:24.908Z"
   },
   {
    "duration": 10,
    "start_time": "2022-03-07T18:24:52.574Z"
   },
   {
    "duration": 13,
    "start_time": "2022-03-07T18:25:16.999Z"
   },
   {
    "duration": 60,
    "start_time": "2022-03-07T18:36:57.551Z"
   },
   {
    "duration": 25,
    "start_time": "2022-03-07T18:37:05.383Z"
   },
   {
    "duration": 11,
    "start_time": "2022-03-07T18:45:55.330Z"
   },
   {
    "duration": 15,
    "start_time": "2022-03-07T18:46:10.305Z"
   },
   {
    "duration": 12,
    "start_time": "2022-03-07T18:47:57.962Z"
   },
   {
    "duration": 10,
    "start_time": "2022-03-07T18:50:11.078Z"
   },
   {
    "duration": 4,
    "start_time": "2022-03-07T18:51:34.210Z"
   },
   {
    "duration": 4,
    "start_time": "2022-03-07T18:51:58.702Z"
   },
   {
    "duration": 3,
    "start_time": "2022-03-07T18:52:11.101Z"
   },
   {
    "duration": 3,
    "start_time": "2022-03-07T18:52:11.538Z"
   },
   {
    "duration": 4,
    "start_time": "2022-03-07T18:52:12.573Z"
   },
   {
    "duration": 5,
    "start_time": "2022-03-07T18:52:13.485Z"
   },
   {
    "duration": 3,
    "start_time": "2022-03-07T18:52:22.177Z"
   },
   {
    "duration": 3,
    "start_time": "2022-03-07T18:52:22.496Z"
   },
   {
    "duration": 2,
    "start_time": "2022-03-07T18:52:25.264Z"
   },
   {
    "duration": 54,
    "start_time": "2022-03-07T18:52:25.837Z"
   },
   {
    "duration": 4,
    "start_time": "2022-03-07T18:52:27.042Z"
   },
   {
    "duration": 12,
    "start_time": "2022-03-07T18:52:28.065Z"
   },
   {
    "duration": 12,
    "start_time": "2022-03-07T18:52:29.147Z"
   },
   {
    "duration": 12,
    "start_time": "2022-03-07T18:52:30.215Z"
   },
   {
    "duration": 29,
    "start_time": "2022-03-07T18:52:31.452Z"
   },
   {
    "duration": 26,
    "start_time": "2022-03-07T18:52:32.645Z"
   },
   {
    "duration": 11,
    "start_time": "2022-03-07T18:52:34.827Z"
   },
   {
    "duration": 2,
    "start_time": "2022-03-07T18:52:35.435Z"
   },
   {
    "duration": 2,
    "start_time": "2022-03-07T18:52:36.245Z"
   },
   {
    "duration": 5,
    "start_time": "2022-03-07T18:52:37.460Z"
   },
   {
    "duration": 4,
    "start_time": "2022-03-07T18:52:51.658Z"
   },
   {
    "duration": 7,
    "start_time": "2022-03-07T18:52:55.584Z"
   },
   {
    "duration": 14,
    "start_time": "2022-03-07T18:52:57.395Z"
   },
   {
    "duration": 4,
    "start_time": "2022-03-07T18:52:58.576Z"
   },
   {
    "duration": 8,
    "start_time": "2022-03-07T18:53:00.378Z"
   },
   {
    "duration": 24,
    "start_time": "2022-03-07T18:53:01.682Z"
   },
   {
    "duration": 12,
    "start_time": "2022-03-07T18:53:04.314Z"
   },
   {
    "duration": 9,
    "start_time": "2022-03-07T18:53:08.477Z"
   },
   {
    "duration": 24,
    "start_time": "2022-03-07T18:54:02.255Z"
   },
   {
    "duration": 16,
    "start_time": "2022-03-07T19:02:20.637Z"
   },
   {
    "duration": 3,
    "start_time": "2022-03-07T19:02:48.603Z"
   },
   {
    "duration": 54,
    "start_time": "2022-03-07T19:02:48.794Z"
   },
   {
    "duration": 4,
    "start_time": "2022-03-07T19:02:49.177Z"
   },
   {
    "duration": 12,
    "start_time": "2022-03-07T19:02:49.660Z"
   },
   {
    "duration": 12,
    "start_time": "2022-03-07T19:02:50.146Z"
   },
   {
    "duration": 11,
    "start_time": "2022-03-07T19:02:50.651Z"
   },
   {
    "duration": 25,
    "start_time": "2022-03-07T19:02:51.112Z"
   },
   {
    "duration": 26,
    "start_time": "2022-03-07T19:02:51.676Z"
   },
   {
    "duration": 10,
    "start_time": "2022-03-07T19:02:52.913Z"
   },
   {
    "duration": 3,
    "start_time": "2022-03-07T19:02:53.227Z"
   },
   {
    "duration": 3,
    "start_time": "2022-03-07T19:02:53.577Z"
   },
   {
    "duration": 5,
    "start_time": "2022-03-07T19:02:54.241Z"
   },
   {
    "duration": 5,
    "start_time": "2022-03-07T19:02:54.556Z"
   },
   {
    "duration": 7,
    "start_time": "2022-03-07T19:02:55.848Z"
   },
   {
    "duration": 14,
    "start_time": "2022-03-07T19:02:56.782Z"
   },
   {
    "duration": 4,
    "start_time": "2022-03-07T19:02:59.463Z"
   },
   {
    "duration": 8,
    "start_time": "2022-03-07T19:03:01.069Z"
   },
   {
    "duration": 51,
    "start_time": "2022-03-07T19:03:01.079Z"
   },
   {
    "duration": 12,
    "start_time": "2022-03-07T19:03:01.147Z"
   },
   {
    "duration": 10,
    "start_time": "2022-03-07T19:03:02.418Z"
   },
   {
    "duration": 23,
    "start_time": "2022-03-07T19:03:10.959Z"
   },
   {
    "duration": 14,
    "start_time": "2022-03-07T19:03:17.460Z"
   },
   {
    "duration": 9,
    "start_time": "2022-03-07T19:04:59.291Z"
   },
   {
    "duration": 57,
    "start_time": "2022-03-07T19:05:54.409Z"
   },
   {
    "duration": 11,
    "start_time": "2022-03-07T19:06:44.666Z"
   },
   {
    "duration": 13,
    "start_time": "2022-03-07T19:07:04.027Z"
   },
   {
    "duration": 15,
    "start_time": "2022-03-07T19:07:05.454Z"
   },
   {
    "duration": 17,
    "start_time": "2022-03-07T19:07:05.949Z"
   },
   {
    "duration": 6,
    "start_time": "2022-03-07T19:07:06.445Z"
   },
   {
    "duration": 23,
    "start_time": "2022-03-07T19:07:07.706Z"
   },
   {
    "duration": 7,
    "start_time": "2022-03-07T19:07:08.143Z"
   },
   {
    "duration": 24,
    "start_time": "2022-03-07T19:07:08.583Z"
   },
   {
    "duration": 6,
    "start_time": "2022-03-07T19:07:09.056Z"
   },
   {
    "duration": 8,
    "start_time": "2022-03-07T19:07:09.586Z"
   },
   {
    "duration": 17,
    "start_time": "2022-03-07T19:07:10.091Z"
   },
   {
    "duration": 29,
    "start_time": "2022-03-07T19:07:10.788Z"
   },
   {
    "duration": 10,
    "start_time": "2022-03-07T19:07:27.910Z"
   },
   {
    "duration": 10,
    "start_time": "2022-03-07T19:07:31.478Z"
   },
   {
    "duration": 9,
    "start_time": "2022-03-07T19:15:14.362Z"
   },
   {
    "duration": 9,
    "start_time": "2022-03-07T19:15:14.757Z"
   },
   {
    "duration": 14,
    "start_time": "2022-03-07T19:15:15.780Z"
   },
   {
    "duration": 88,
    "start_time": "2022-03-07T19:15:28.767Z"
   },
   {
    "duration": 23,
    "start_time": "2022-03-07T19:15:36.515Z"
   },
   {
    "duration": 20,
    "start_time": "2022-03-07T19:16:10.494Z"
   },
   {
    "duration": 13,
    "start_time": "2022-03-07T19:16:11.031Z"
   },
   {
    "duration": 1146,
    "start_time": "2022-03-07T19:34:53.914Z"
   },
   {
    "duration": 523,
    "start_time": "2022-03-07T19:35:14.309Z"
   },
   {
    "duration": 491,
    "start_time": "2022-03-07T19:38:27.999Z"
   },
   {
    "duration": 309,
    "start_time": "2022-03-07T19:39:12.776Z"
   },
   {
    "duration": 310,
    "start_time": "2022-03-07T19:39:22.328Z"
   },
   {
    "duration": 318,
    "start_time": "2022-03-07T19:41:14.486Z"
   },
   {
    "duration": 371,
    "start_time": "2022-03-07T19:41:36.267Z"
   },
   {
    "duration": 333,
    "start_time": "2022-03-07T19:48:07.528Z"
   },
   {
    "duration": 4,
    "start_time": "2022-03-07T19:48:20.139Z"
   },
   {
    "duration": 73,
    "start_time": "2022-03-07T19:48:20.339Z"
   },
   {
    "duration": 4,
    "start_time": "2022-03-07T19:48:20.701Z"
   },
   {
    "duration": 12,
    "start_time": "2022-03-07T19:48:21.069Z"
   },
   {
    "duration": 13,
    "start_time": "2022-03-07T19:48:21.399Z"
   },
   {
    "duration": 11,
    "start_time": "2022-03-07T19:48:21.758Z"
   },
   {
    "duration": 42,
    "start_time": "2022-03-07T19:48:22.108Z"
   },
   {
    "duration": 37,
    "start_time": "2022-03-07T19:48:22.439Z"
   },
   {
    "duration": 12,
    "start_time": "2022-03-07T19:48:23.109Z"
   },
   {
    "duration": 3,
    "start_time": "2022-03-07T19:48:23.277Z"
   },
   {
    "duration": 4,
    "start_time": "2022-03-07T19:48:23.457Z"
   },
   {
    "duration": 5,
    "start_time": "2022-03-07T19:48:23.796Z"
   },
   {
    "duration": 5,
    "start_time": "2022-03-07T19:48:23.975Z"
   },
   {
    "duration": 8,
    "start_time": "2022-03-07T19:48:24.695Z"
   },
   {
    "duration": 14,
    "start_time": "2022-03-07T19:48:25.055Z"
   },
   {
    "duration": 4,
    "start_time": "2022-03-07T19:48:25.415Z"
   },
   {
    "duration": 7,
    "start_time": "2022-03-07T19:48:25.843Z"
   },
   {
    "duration": 24,
    "start_time": "2022-03-07T19:48:26.023Z"
   },
   {
    "duration": 12,
    "start_time": "2022-03-07T19:48:26.451Z"
   },
   {
    "duration": 9,
    "start_time": "2022-03-07T19:48:27.226Z"
   },
   {
    "duration": 23,
    "start_time": "2022-03-07T19:48:27.440Z"
   },
   {
    "duration": 15,
    "start_time": "2022-03-07T19:48:28.846Z"
   },
   {
    "duration": 5,
    "start_time": "2022-03-07T19:48:29.273Z"
   },
   {
    "duration": 5,
    "start_time": "2022-03-07T19:48:30.063Z"
   },
   {
    "duration": 9,
    "start_time": "2022-03-07T19:48:30.791Z"
   },
   {
    "duration": 5,
    "start_time": "2022-03-07T19:48:31.165Z"
   },
   {
    "duration": 4,
    "start_time": "2022-03-07T19:48:31.628Z"
   },
   {
    "duration": 6,
    "start_time": "2022-03-07T19:48:31.839Z"
   },
   {
    "duration": 5,
    "start_time": "2022-03-07T19:48:32.019Z"
   },
   {
    "duration": 7,
    "start_time": "2022-03-07T19:48:32.440Z"
   },
   {
    "duration": 10,
    "start_time": "2022-03-07T19:48:33.080Z"
   },
   {
    "duration": 12,
    "start_time": "2022-03-07T19:48:35.540Z"
   },
   {
    "duration": 14,
    "start_time": "2022-03-07T19:48:38.898Z"
   },
   {
    "duration": 17,
    "start_time": "2022-03-07T19:48:39.264Z"
   },
   {
    "duration": 5,
    "start_time": "2022-03-07T19:48:39.524Z"
   },
   {
    "duration": 14,
    "start_time": "2022-03-07T19:48:39.861Z"
   },
   {
    "duration": 5,
    "start_time": "2022-03-07T19:48:40.039Z"
   },
   {
    "duration": 16,
    "start_time": "2022-03-07T19:48:40.199Z"
   },
   {
    "duration": 5,
    "start_time": "2022-03-07T19:48:40.378Z"
   },
   {
    "duration": 5,
    "start_time": "2022-03-07T19:48:40.570Z"
   },
   {
    "duration": 17,
    "start_time": "2022-03-07T19:48:40.761Z"
   },
   {
    "duration": 32,
    "start_time": "2022-03-07T19:48:40.975Z"
   },
   {
    "duration": 11,
    "start_time": "2022-03-07T19:48:43.361Z"
   },
   {
    "duration": 9,
    "start_time": "2022-03-07T19:48:44.428Z"
   },
   {
    "duration": 15,
    "start_time": "2022-03-07T19:48:48.906Z"
   },
   {
    "duration": 20,
    "start_time": "2022-03-07T19:48:50.839Z"
   },
   {
    "duration": 21,
    "start_time": "2022-03-07T19:48:51.924Z"
   },
   {
    "duration": 14,
    "start_time": "2022-03-07T19:48:52.293Z"
   },
   {
    "duration": 336,
    "start_time": "2022-03-07T19:48:53.890Z"
   },
   {
    "duration": 341,
    "start_time": "2022-03-07T19:50:17.739Z"
   },
   {
    "duration": 3,
    "start_time": "2022-03-07T20:00:13.845Z"
   },
   {
    "duration": 64,
    "start_time": "2022-03-07T20:00:14.081Z"
   },
   {
    "duration": 5,
    "start_time": "2022-03-07T20:00:14.452Z"
   },
   {
    "duration": 13,
    "start_time": "2022-03-07T20:00:14.812Z"
   },
   {
    "duration": 13,
    "start_time": "2022-03-07T20:00:15.194Z"
   },
   {
    "duration": 11,
    "start_time": "2022-03-07T20:00:15.599Z"
   },
   {
    "duration": 27,
    "start_time": "2022-03-07T20:00:15.993Z"
   },
   {
    "duration": 26,
    "start_time": "2022-03-07T20:00:16.342Z"
   },
   {
    "duration": 11,
    "start_time": "2022-03-07T20:00:17.006Z"
   },
   {
    "duration": 3,
    "start_time": "2022-03-07T20:00:17.174Z"
   },
   {
    "duration": 4,
    "start_time": "2022-03-07T20:00:17.353Z"
   },
   {
    "duration": 5,
    "start_time": "2022-03-07T20:00:17.749Z"
   },
   {
    "duration": 4,
    "start_time": "2022-03-07T20:00:17.972Z"
   },
   {
    "duration": 7,
    "start_time": "2022-03-07T20:00:18.760Z"
   },
   {
    "duration": 14,
    "start_time": "2022-03-07T20:00:19.166Z"
   },
   {
    "duration": 4,
    "start_time": "2022-03-07T20:00:19.638Z"
   },
   {
    "duration": 8,
    "start_time": "2022-03-07T20:00:20.054Z"
   },
   {
    "duration": 22,
    "start_time": "2022-03-07T20:00:20.245Z"
   },
   {
    "duration": 12,
    "start_time": "2022-03-07T20:00:20.661Z"
   },
   {
    "duration": 9,
    "start_time": "2022-03-07T20:00:21.314Z"
   },
   {
    "duration": 23,
    "start_time": "2022-03-07T20:00:21.517Z"
   },
   {
    "duration": 14,
    "start_time": "2022-03-07T20:00:22.865Z"
   },
   {
    "duration": 5,
    "start_time": "2022-03-07T20:00:23.035Z"
   },
   {
    "duration": 10,
    "start_time": "2022-03-07T20:00:23.394Z"
   },
   {
    "duration": 10,
    "start_time": "2022-03-07T20:00:23.799Z"
   },
   {
    "duration": 5,
    "start_time": "2022-03-07T20:00:24.205Z"
   },
   {
    "duration": 5,
    "start_time": "2022-03-07T20:00:24.407Z"
   },
   {
    "duration": 6,
    "start_time": "2022-03-07T20:00:24.598Z"
   },
   {
    "duration": 5,
    "start_time": "2022-03-07T20:00:24.801Z"
   },
   {
    "duration": 6,
    "start_time": "2022-03-07T20:00:25.172Z"
   },
   {
    "duration": 10,
    "start_time": "2022-03-07T20:00:25.567Z"
   },
   {
    "duration": 12,
    "start_time": "2022-03-07T20:00:26.602Z"
   },
   {
    "duration": 15,
    "start_time": "2022-03-07T20:00:27.299Z"
   },
   {
    "duration": 19,
    "start_time": "2022-03-07T20:00:27.569Z"
   },
   {
    "duration": 6,
    "start_time": "2022-03-07T20:00:27.761Z"
   },
   {
    "duration": 15,
    "start_time": "2022-03-07T20:00:28.188Z"
   },
   {
    "duration": 5,
    "start_time": "2022-03-07T20:00:28.402Z"
   },
   {
    "duration": 17,
    "start_time": "2022-03-07T20:00:28.649Z"
   },
   {
    "duration": 6,
    "start_time": "2022-03-07T20:00:28.840Z"
   },
   {
    "duration": 6,
    "start_time": "2022-03-07T20:00:29.065Z"
   },
   {
    "duration": 16,
    "start_time": "2022-03-07T20:00:29.324Z"
   },
   {
    "duration": 31,
    "start_time": "2022-03-07T20:00:29.932Z"
   },
   {
    "duration": 10,
    "start_time": "2022-03-07T20:00:31.621Z"
   },
   {
    "duration": 9,
    "start_time": "2022-03-07T20:00:32.228Z"
   },
   {
    "duration": 15,
    "start_time": "2022-03-07T20:00:33.555Z"
   },
   {
    "duration": 21,
    "start_time": "2022-03-07T20:00:35.063Z"
   },
   {
    "duration": 21,
    "start_time": "2022-03-07T20:00:35.850Z"
   },
   {
    "duration": 13,
    "start_time": "2022-03-07T20:00:36.080Z"
   },
   {
    "duration": 309,
    "start_time": "2022-03-07T20:00:37.761Z"
   },
   {
    "duration": 211,
    "start_time": "2022-03-07T20:06:42.013Z"
   },
   {
    "duration": 24,
    "start_time": "2022-03-07T20:08:22.034Z"
   },
   {
    "duration": 2470,
    "start_time": "2022-03-07T20:10:43.631Z"
   },
   {
    "duration": 17,
    "start_time": "2022-03-07T20:11:15.808Z"
   },
   {
    "duration": 16,
    "start_time": "2022-03-07T20:12:12.839Z"
   },
   {
    "duration": 19,
    "start_time": "2022-03-07T20:12:24.930Z"
   },
   {
    "duration": 18,
    "start_time": "2022-03-07T20:12:31.331Z"
   },
   {
    "duration": 18,
    "start_time": "2022-03-07T20:12:39.028Z"
   },
   {
    "duration": 18,
    "start_time": "2022-03-07T20:13:29.993Z"
   },
   {
    "duration": 16,
    "start_time": "2022-03-07T20:13:45.756Z"
   },
   {
    "duration": 31,
    "start_time": "2022-03-07T20:15:04.556Z"
   },
   {
    "duration": 31,
    "start_time": "2022-03-07T20:15:41.705Z"
   },
   {
    "duration": 15,
    "start_time": "2022-03-07T20:16:36.550Z"
   },
   {
    "duration": 18,
    "start_time": "2022-03-07T20:17:46.302Z"
   },
   {
    "duration": 10,
    "start_time": "2022-03-07T20:34:21.207Z"
   },
   {
    "duration": 10,
    "start_time": "2022-03-07T20:34:41.692Z"
   },
   {
    "duration": 676,
    "start_time": "2022-03-07T20:37:51.831Z"
   },
   {
    "duration": 22,
    "start_time": "2022-03-07T20:38:51.156Z"
   },
   {
    "duration": 44,
    "start_time": "2022-03-07T20:42:03.469Z"
   },
   {
    "duration": 44,
    "start_time": "2022-03-07T20:42:10.177Z"
   },
   {
    "duration": 18,
    "start_time": "2022-03-07T20:43:20.451Z"
   },
   {
    "duration": 30,
    "start_time": "2022-03-07T20:44:09.197Z"
   },
   {
    "duration": 29,
    "start_time": "2022-03-07T20:44:39.224Z"
   },
   {
    "duration": 31,
    "start_time": "2022-03-07T20:47:12.819Z"
   },
   {
    "duration": 18,
    "start_time": "2022-03-07T20:47:15.965Z"
   },
   {
    "duration": 45,
    "start_time": "2022-03-07T20:47:21.625Z"
   },
   {
    "duration": 20,
    "start_time": "2022-03-07T20:47:23.807Z"
   },
   {
    "duration": 62,
    "start_time": "2022-03-07T20:53:59.640Z"
   },
   {
    "duration": 19,
    "start_time": "2022-03-07T20:54:08.190Z"
   },
   {
    "duration": 108,
    "start_time": "2022-03-07T20:55:10.213Z"
   },
   {
    "duration": 31,
    "start_time": "2022-03-07T20:55:48.106Z"
   },
   {
    "duration": 29,
    "start_time": "2022-03-07T20:56:00.910Z"
   },
   {
    "duration": 28,
    "start_time": "2022-03-07T20:56:20.722Z"
   },
   {
    "duration": 29,
    "start_time": "2022-03-07T20:56:28.754Z"
   },
   {
    "duration": 29,
    "start_time": "2022-03-07T20:58:20.057Z"
   },
   {
    "duration": 31,
    "start_time": "2022-03-07T20:59:38.519Z"
   },
   {
    "duration": 42,
    "start_time": "2022-03-07T21:05:57.047Z"
   },
   {
    "duration": 2,
    "start_time": "2022-03-07T21:06:04.818Z"
   },
   {
    "duration": 6,
    "start_time": "2022-03-07T21:09:11.596Z"
   },
   {
    "duration": 38,
    "start_time": "2022-03-07T21:11:14.378Z"
   },
   {
    "duration": 36,
    "start_time": "2022-03-07T21:12:15.628Z"
   },
   {
    "duration": 279,
    "start_time": "2022-03-07T21:19:35.192Z"
   },
   {
    "duration": 253,
    "start_time": "2022-03-07T21:20:23.399Z"
   },
   {
    "duration": 62,
    "start_time": "2022-03-07T21:20:39.521Z"
   },
   {
    "duration": 67,
    "start_time": "2022-03-07T21:21:57.409Z"
   },
   {
    "duration": 58,
    "start_time": "2022-03-07T21:44:41.883Z"
   },
   {
    "duration": 280,
    "start_time": "2022-03-08T18:33:10.765Z"
   },
   {
    "duration": 518,
    "start_time": "2022-03-08T19:05:16.458Z"
   },
   {
    "duration": 55,
    "start_time": "2022-03-08T19:05:16.978Z"
   },
   {
    "duration": 7,
    "start_time": "2022-03-08T19:05:17.035Z"
   },
   {
    "duration": 11,
    "start_time": "2022-03-08T19:05:17.204Z"
   },
   {
    "duration": 11,
    "start_time": "2022-03-08T19:05:18.057Z"
   },
   {
    "duration": 9,
    "start_time": "2022-03-08T19:05:18.620Z"
   },
   {
    "duration": 22,
    "start_time": "2022-03-08T19:05:19.161Z"
   },
   {
    "duration": 22,
    "start_time": "2022-03-08T19:05:19.553Z"
   },
   {
    "duration": 11,
    "start_time": "2022-03-08T19:05:20.680Z"
   },
   {
    "duration": 3,
    "start_time": "2022-03-08T19:05:20.881Z"
   },
   {
    "duration": 2,
    "start_time": "2022-03-08T19:05:21.232Z"
   },
   {
    "duration": 5,
    "start_time": "2022-03-08T19:05:21.669Z"
   },
   {
    "duration": 4,
    "start_time": "2022-03-08T19:05:21.883Z"
   },
   {
    "duration": 6,
    "start_time": "2022-03-08T19:05:23.761Z"
   },
   {
    "duration": 11,
    "start_time": "2022-03-08T19:05:24.352Z"
   },
   {
    "duration": 4,
    "start_time": "2022-03-08T19:05:25.404Z"
   },
   {
    "duration": 6,
    "start_time": "2022-03-08T19:05:26.181Z"
   },
   {
    "duration": 20,
    "start_time": "2022-03-08T19:05:26.705Z"
   },
   {
    "duration": 10,
    "start_time": "2022-03-08T19:05:28.303Z"
   },
   {
    "duration": 10,
    "start_time": "2022-03-08T19:05:30.637Z"
   },
   {
    "duration": 21,
    "start_time": "2022-03-08T19:05:31.166Z"
   },
   {
    "duration": 8,
    "start_time": "2022-03-08T19:05:33.388Z"
   },
   {
    "duration": 4,
    "start_time": "2022-03-08T19:05:35.663Z"
   },
   {
    "duration": 5,
    "start_time": "2022-03-08T19:05:36.634Z"
   },
   {
    "duration": 8,
    "start_time": "2022-03-08T19:05:37.904Z"
   },
   {
    "duration": 3,
    "start_time": "2022-03-08T19:05:38.804Z"
   },
   {
    "duration": 4,
    "start_time": "2022-03-08T19:05:39.211Z"
   },
   {
    "duration": 5,
    "start_time": "2022-03-08T19:05:39.705Z"
   },
   {
    "duration": 4,
    "start_time": "2022-03-08T19:05:40.176Z"
   },
   {
    "duration": 6,
    "start_time": "2022-03-08T19:05:41.504Z"
   },
   {
    "duration": 10,
    "start_time": "2022-03-08T19:05:42.553Z"
   },
   {
    "duration": 12,
    "start_time": "2022-03-08T19:05:45.170Z"
   },
   {
    "duration": 14,
    "start_time": "2022-03-08T19:05:47.655Z"
   },
   {
    "duration": 17,
    "start_time": "2022-03-08T19:05:48.007Z"
   },
   {
    "duration": 4,
    "start_time": "2022-03-08T19:05:48.304Z"
   },
   {
    "duration": 14,
    "start_time": "2022-03-08T19:05:49.051Z"
   },
   {
    "duration": 5,
    "start_time": "2022-03-08T19:05:49.353Z"
   },
   {
    "duration": 15,
    "start_time": "2022-03-08T19:05:49.729Z"
   },
   {
    "duration": 4,
    "start_time": "2022-03-08T19:05:50.335Z"
   },
   {
    "duration": 5,
    "start_time": "2022-03-08T19:05:50.808Z"
   },
   {
    "duration": 14,
    "start_time": "2022-03-08T19:05:51.403Z"
   },
   {
    "duration": 28,
    "start_time": "2022-03-08T19:05:51.709Z"
   },
   {
    "duration": 8,
    "start_time": "2022-03-08T19:05:53.805Z"
   },
   {
    "duration": 7,
    "start_time": "2022-03-08T19:05:55.038Z"
   },
   {
    "duration": 12,
    "start_time": "2022-03-08T19:06:01.904Z"
   },
   {
    "duration": 17,
    "start_time": "2022-03-08T19:06:02.958Z"
   },
   {
    "duration": 17,
    "start_time": "2022-03-08T19:06:27.704Z"
   },
   {
    "duration": 11,
    "start_time": "2022-03-08T19:06:28.054Z"
   },
   {
    "duration": 56,
    "start_time": "2022-03-08T19:06:32.029Z"
   },
   {
    "duration": 39,
    "start_time": "2022-03-08T19:09:53.495Z"
   },
   {
    "duration": 45,
    "start_time": "2022-03-08T19:42:09.700Z"
   },
   {
    "duration": 39,
    "start_time": "2022-03-08T19:49:30.649Z"
   },
   {
    "duration": 57,
    "start_time": "2022-03-08T20:00:05.488Z"
   },
   {
    "duration": 74,
    "start_time": "2022-03-08T20:12:09.686Z"
   },
   {
    "duration": 69,
    "start_time": "2022-03-08T20:12:32.885Z"
   },
   {
    "duration": 72,
    "start_time": "2022-03-08T20:12:50.316Z"
   },
   {
    "duration": 21,
    "start_time": "2022-03-08T20:21:33.252Z"
   },
   {
    "duration": 49,
    "start_time": "2022-03-08T20:22:28.001Z"
   },
   {
    "duration": 87,
    "start_time": "2022-03-08T20:41:46.922Z"
   },
   {
    "duration": 6185,
    "start_time": "2022-03-08T20:41:52.283Z"
   },
   {
    "duration": 10,
    "start_time": "2022-03-08T20:43:00.058Z"
   },
   {
    "duration": 17,
    "start_time": "2022-03-08T20:43:11.273Z"
   },
   {
    "duration": 6332,
    "start_time": "2022-03-08T20:43:50.222Z"
   },
   {
    "duration": 857,
    "start_time": "2022-03-09T19:08:58.952Z"
   },
   {
    "duration": 113,
    "start_time": "2022-03-09T19:08:59.812Z"
   },
   {
    "duration": 14,
    "start_time": "2022-03-09T19:09:01.742Z"
   },
   {
    "duration": 44,
    "start_time": "2022-03-09T19:09:10.059Z"
   },
   {
    "duration": 17,
    "start_time": "2022-03-09T19:10:25.391Z"
   },
   {
    "duration": 18,
    "start_time": "2022-03-09T19:10:31.003Z"
   },
   {
    "duration": 13,
    "start_time": "2022-03-09T19:10:34.411Z"
   },
   {
    "duration": 41,
    "start_time": "2022-03-09T19:10:35.807Z"
   },
   {
    "duration": 40,
    "start_time": "2022-03-09T19:10:38.125Z"
   },
   {
    "duration": 13,
    "start_time": "2022-03-09T19:10:42.030Z"
   },
   {
    "duration": 3,
    "start_time": "2022-03-09T19:10:42.546Z"
   },
   {
    "duration": 3,
    "start_time": "2022-03-09T19:10:43.716Z"
   },
   {
    "duration": 5,
    "start_time": "2022-03-09T19:10:44.560Z"
   },
   {
    "duration": 7,
    "start_time": "2022-03-09T19:10:45.099Z"
   },
   {
    "duration": 9,
    "start_time": "2022-03-09T19:10:47.934Z"
   },
   {
    "duration": 19,
    "start_time": "2022-03-09T19:10:49.195Z"
   },
   {
    "duration": 5,
    "start_time": "2022-03-09T19:10:51.110Z"
   },
   {
    "duration": 10,
    "start_time": "2022-03-09T19:10:51.546Z"
   },
   {
    "duration": 34,
    "start_time": "2022-03-09T19:10:52.558Z"
   },
   {
    "duration": 16,
    "start_time": "2022-03-09T19:10:54.481Z"
   },
   {
    "duration": 14,
    "start_time": "2022-03-09T19:10:57.575Z"
   },
   {
    "duration": 36,
    "start_time": "2022-03-09T19:10:58.454Z"
   },
   {
    "duration": 14,
    "start_time": "2022-03-09T19:11:01.186Z"
   },
   {
    "duration": 6,
    "start_time": "2022-03-09T19:11:02.424Z"
   },
   {
    "duration": 6,
    "start_time": "2022-03-09T19:11:03.661Z"
   },
   {
    "duration": 15,
    "start_time": "2022-03-09T19:11:05.484Z"
   },
   {
    "duration": 5,
    "start_time": "2022-03-09T19:11:06.092Z"
   },
   {
    "duration": 6,
    "start_time": "2022-03-09T19:11:06.396Z"
   },
   {
    "duration": 7,
    "start_time": "2022-03-09T19:11:06.664Z"
   },
   {
    "duration": 5,
    "start_time": "2022-03-09T19:11:06.970Z"
   },
   {
    "duration": 8,
    "start_time": "2022-03-09T19:11:07.441Z"
   },
   {
    "duration": 15,
    "start_time": "2022-03-09T19:11:08.703Z"
   },
   {
    "duration": 15,
    "start_time": "2022-03-09T19:11:10.547Z"
   },
   {
    "duration": 22,
    "start_time": "2022-03-09T19:11:11.211Z"
   },
   {
    "duration": 26,
    "start_time": "2022-03-09T19:11:11.694Z"
   },
   {
    "duration": 6,
    "start_time": "2022-03-09T19:11:25.106Z"
   },
   {
    "duration": 29,
    "start_time": "2022-03-09T19:11:26.195Z"
   },
   {
    "duration": 8,
    "start_time": "2022-03-09T19:11:27.569Z"
   },
   {
    "duration": 23,
    "start_time": "2022-03-09T19:11:43.680Z"
   },
   {
    "duration": 5,
    "start_time": "2022-03-09T19:11:44.266Z"
   },
   {
    "duration": 7,
    "start_time": "2022-03-09T19:11:44.917Z"
   },
   {
    "duration": 22,
    "start_time": "2022-03-09T19:11:45.592Z"
   },
   {
    "duration": 44,
    "start_time": "2022-03-09T19:11:46.898Z"
   },
   {
    "duration": 12,
    "start_time": "2022-03-09T19:12:27.206Z"
   },
   {
    "duration": 12,
    "start_time": "2022-03-09T19:12:30.108Z"
   },
   {
    "duration": 18,
    "start_time": "2022-03-09T19:12:46.983Z"
   },
   {
    "duration": 39,
    "start_time": "2022-03-09T19:13:08.247Z"
   },
   {
    "duration": 28,
    "start_time": "2022-03-09T19:13:12.714Z"
   },
   {
    "duration": 17,
    "start_time": "2022-03-09T19:13:13.288Z"
   },
   {
    "duration": 61,
    "start_time": "2022-03-09T19:13:17.710Z"
   },
   {
    "duration": 73,
    "start_time": "2022-03-09T19:17:20.159Z"
   },
   {
    "duration": 75,
    "start_time": "2022-03-09T19:19:12.290Z"
   },
   {
    "duration": 92,
    "start_time": "2022-03-09T19:19:14.193Z"
   },
   {
    "duration": 81,
    "start_time": "2022-03-09T19:19:15.048Z"
   },
   {
    "duration": 79,
    "start_time": "2022-03-09T19:33:21.804Z"
   },
   {
    "duration": 760,
    "start_time": "2022-03-10T14:39:47.787Z"
   },
   {
    "duration": 716,
    "start_time": "2022-03-10T14:39:50.456Z"
   },
   {
    "duration": 76,
    "start_time": "2022-03-10T14:39:51.175Z"
   },
   {
    "duration": 14,
    "start_time": "2022-03-10T14:39:51.255Z"
   },
   {
    "duration": 22,
    "start_time": "2022-03-10T14:39:51.273Z"
   },
   {
    "duration": 17,
    "start_time": "2022-03-10T14:39:51.298Z"
   },
   {
    "duration": 49,
    "start_time": "2022-03-10T14:39:51.318Z"
   },
   {
    "duration": 39,
    "start_time": "2022-03-10T14:39:51.369Z"
   },
   {
    "duration": 73,
    "start_time": "2022-03-10T14:39:51.412Z"
   },
   {
    "duration": 12,
    "start_time": "2022-03-10T14:39:51.488Z"
   },
   {
    "duration": 3,
    "start_time": "2022-03-10T14:39:51.503Z"
   },
   {
    "duration": 6,
    "start_time": "2022-03-10T14:39:51.508Z"
   },
   {
    "duration": 37,
    "start_time": "2022-03-10T14:39:51.516Z"
   },
   {
    "duration": 9,
    "start_time": "2022-03-10T14:39:51.555Z"
   },
   {
    "duration": 13,
    "start_time": "2022-03-10T14:39:51.567Z"
   },
   {
    "duration": 19,
    "start_time": "2022-03-10T14:39:51.583Z"
   },
   {
    "duration": 8,
    "start_time": "2022-03-10T14:39:51.605Z"
   },
   {
    "duration": 42,
    "start_time": "2022-03-10T14:39:51.615Z"
   },
   {
    "duration": 34,
    "start_time": "2022-03-10T14:39:51.660Z"
   },
   {
    "duration": 17,
    "start_time": "2022-03-10T14:39:51.696Z"
   },
   {
    "duration": 47,
    "start_time": "2022-03-10T14:39:51.715Z"
   },
   {
    "duration": 36,
    "start_time": "2022-03-10T14:39:51.765Z"
   },
   {
    "duration": 55,
    "start_time": "2022-03-10T14:39:51.803Z"
   },
   {
    "duration": 7,
    "start_time": "2022-03-10T14:39:51.864Z"
   },
   {
    "duration": 8,
    "start_time": "2022-03-10T14:39:51.876Z"
   },
   {
    "duration": 16,
    "start_time": "2022-03-10T14:39:51.887Z"
   },
   {
    "duration": 45,
    "start_time": "2022-03-10T14:39:51.906Z"
   },
   {
    "duration": 6,
    "start_time": "2022-03-10T14:39:51.954Z"
   },
   {
    "duration": 7,
    "start_time": "2022-03-10T14:39:51.962Z"
   },
   {
    "duration": 11,
    "start_time": "2022-03-10T14:39:51.972Z"
   },
   {
    "duration": 9,
    "start_time": "2022-03-10T14:39:51.986Z"
   },
   {
    "duration": 64,
    "start_time": "2022-03-10T14:39:51.998Z"
   },
   {
    "duration": 18,
    "start_time": "2022-03-10T14:39:52.064Z"
   },
   {
    "duration": 20,
    "start_time": "2022-03-10T14:39:52.085Z"
   },
   {
    "duration": 59,
    "start_time": "2022-03-10T14:39:52.108Z"
   },
   {
    "duration": 6,
    "start_time": "2022-03-10T14:39:52.169Z"
   },
   {
    "duration": 30,
    "start_time": "2022-03-10T14:39:52.177Z"
   },
   {
    "duration": 6,
    "start_time": "2022-03-10T14:39:52.211Z"
   },
   {
    "duration": 51,
    "start_time": "2022-03-10T14:39:52.219Z"
   },
   {
    "duration": 7,
    "start_time": "2022-03-10T14:39:52.273Z"
   },
   {
    "duration": 8,
    "start_time": "2022-03-10T14:39:52.283Z"
   },
   {
    "duration": 60,
    "start_time": "2022-03-10T14:39:52.293Z"
   },
   {
    "duration": 45,
    "start_time": "2022-03-10T14:39:52.356Z"
   },
   {
    "duration": 11,
    "start_time": "2022-03-10T14:39:52.403Z"
   },
   {
    "duration": 36,
    "start_time": "2022-03-10T14:39:52.416Z"
   },
   {
    "duration": 25,
    "start_time": "2022-03-10T14:39:52.455Z"
   },
   {
    "duration": 4,
    "start_time": "2022-03-10T14:40:17.126Z"
   },
   {
    "duration": 74,
    "start_time": "2022-03-10T14:40:17.132Z"
   },
   {
    "duration": 5,
    "start_time": "2022-03-10T14:40:17.209Z"
   },
   {
    "duration": 18,
    "start_time": "2022-03-10T14:40:17.251Z"
   },
   {
    "duration": 17,
    "start_time": "2022-03-10T14:40:17.271Z"
   },
   {
    "duration": 18,
    "start_time": "2022-03-10T14:40:17.290Z"
   },
   {
    "duration": 73,
    "start_time": "2022-03-10T14:40:17.311Z"
   },
   {
    "duration": 38,
    "start_time": "2022-03-10T14:40:17.387Z"
   },
   {
    "duration": 33,
    "start_time": "2022-03-10T14:40:17.427Z"
   },
   {
    "duration": 4,
    "start_time": "2022-03-10T14:40:17.463Z"
   },
   {
    "duration": 5,
    "start_time": "2022-03-10T14:40:17.470Z"
   },
   {
    "duration": 7,
    "start_time": "2022-03-10T14:40:17.478Z"
   },
   {
    "duration": 6,
    "start_time": "2022-03-10T14:40:17.487Z"
   },
   {
    "duration": 9,
    "start_time": "2022-03-10T14:40:17.496Z"
   },
   {
    "duration": 59,
    "start_time": "2022-03-10T14:40:17.508Z"
   },
   {
    "duration": 5,
    "start_time": "2022-03-10T14:40:17.570Z"
   },
   {
    "duration": 8,
    "start_time": "2022-03-10T14:40:17.577Z"
   },
   {
    "duration": 68,
    "start_time": "2022-03-10T14:40:17.588Z"
   },
   {
    "duration": 16,
    "start_time": "2022-03-10T14:40:17.661Z"
   },
   {
    "duration": 11,
    "start_time": "2022-03-10T14:40:17.680Z"
   },
   {
    "duration": 62,
    "start_time": "2022-03-10T14:40:17.693Z"
   },
   {
    "duration": 12,
    "start_time": "2022-03-10T14:40:17.757Z"
   },
   {
    "duration": 5,
    "start_time": "2022-03-10T14:40:17.771Z"
   },
   {
    "duration": 19,
    "start_time": "2022-03-10T14:40:17.779Z"
   },
   {
    "duration": 30,
    "start_time": "2022-03-10T14:40:17.800Z"
   },
   {
    "duration": 29,
    "start_time": "2022-03-10T14:40:17.833Z"
   },
   {
    "duration": 13,
    "start_time": "2022-03-10T14:40:17.864Z"
   },
   {
    "duration": 34,
    "start_time": "2022-03-10T14:40:17.879Z"
   },
   {
    "duration": 7,
    "start_time": "2022-03-10T14:40:17.915Z"
   },
   {
    "duration": 12,
    "start_time": "2022-03-10T14:40:17.924Z"
   },
   {
    "duration": 20,
    "start_time": "2022-03-10T14:40:17.938Z"
   },
   {
    "duration": 16,
    "start_time": "2022-03-10T14:40:17.960Z"
   },
   {
    "duration": 21,
    "start_time": "2022-03-10T14:40:17.979Z"
   },
   {
    "duration": 21,
    "start_time": "2022-03-10T14:40:18.003Z"
   },
   {
    "duration": 5,
    "start_time": "2022-03-10T14:40:18.051Z"
   },
   {
    "duration": 45,
    "start_time": "2022-03-10T14:40:18.059Z"
   },
   {
    "duration": 44,
    "start_time": "2022-03-10T14:40:18.107Z"
   },
   {
    "duration": 36,
    "start_time": "2022-03-10T14:40:18.154Z"
   },
   {
    "duration": 59,
    "start_time": "2022-03-10T14:40:18.193Z"
   },
   {
    "duration": 9,
    "start_time": "2022-03-10T14:40:18.255Z"
   },
   {
    "duration": 25,
    "start_time": "2022-03-10T14:40:18.267Z"
   },
   {
    "duration": 95,
    "start_time": "2022-03-10T14:40:18.294Z"
   },
   {
    "duration": 64,
    "start_time": "2022-03-10T14:40:18.391Z"
   },
   {
    "duration": 20,
    "start_time": "2022-03-10T14:40:18.458Z"
   },
   {
    "duration": 79,
    "start_time": "2022-03-10T14:40:18.481Z"
   },
   {
    "duration": 18,
    "start_time": "2022-03-10T14:40:18.563Z"
   },
   {
    "duration": 88,
    "start_time": "2022-03-10T14:40:18.584Z"
   },
   {
    "duration": 79,
    "start_time": "2022-03-10T14:40:18.674Z"
   },
   {
    "duration": 29,
    "start_time": "2022-03-10T14:40:18.755Z"
   },
   {
    "duration": 167,
    "start_time": "2022-03-10T14:40:18.787Z"
   },
   {
    "duration": 96,
    "start_time": "2022-03-10T14:40:18.957Z"
   },
   {
    "duration": 102,
    "start_time": "2022-03-10T14:40:19.056Z"
   },
   {
    "duration": 98,
    "start_time": "2022-03-10T14:40:19.161Z"
   },
   {
    "duration": 16,
    "start_time": "2022-03-10T14:41:01.227Z"
   },
   {
    "duration": 288,
    "start_time": "2022-03-10T14:41:08.826Z"
   },
   {
    "duration": 19,
    "start_time": "2022-03-10T14:41:12.242Z"
   },
   {
    "duration": 19,
    "start_time": "2022-03-10T14:41:16.471Z"
   },
   {
    "duration": 715,
    "start_time": "2022-03-10T19:12:48.767Z"
   },
   {
    "duration": 74,
    "start_time": "2022-03-10T19:12:49.485Z"
   },
   {
    "duration": 14,
    "start_time": "2022-03-10T19:12:51.129Z"
   },
   {
    "duration": 20,
    "start_time": "2022-03-10T19:12:52.394Z"
   },
   {
    "duration": 17,
    "start_time": "2022-03-10T19:12:53.602Z"
   },
   {
    "duration": 13,
    "start_time": "2022-03-10T19:12:54.997Z"
   },
   {
    "duration": 40,
    "start_time": "2022-03-10T19:12:56.213Z"
   },
   {
    "duration": 38,
    "start_time": "2022-03-10T19:12:58.202Z"
   },
   {
    "duration": 20,
    "start_time": "2022-03-10T19:13:01.772Z"
   },
   {
    "duration": 4,
    "start_time": "2022-03-10T19:13:02.379Z"
   },
   {
    "duration": 3,
    "start_time": "2022-03-10T19:13:03.143Z"
   },
   {
    "duration": 5,
    "start_time": "2022-03-10T19:13:03.879Z"
   },
   {
    "duration": 6,
    "start_time": "2022-03-10T19:13:04.196Z"
   },
   {
    "duration": 9,
    "start_time": "2022-03-10T19:13:09.493Z"
   },
   {
    "duration": 19,
    "start_time": "2022-03-10T19:13:10.787Z"
   },
   {
    "duration": 5,
    "start_time": "2022-03-10T19:13:15.293Z"
   },
   {
    "duration": 10,
    "start_time": "2022-03-10T19:13:16.375Z"
   },
   {
    "duration": 36,
    "start_time": "2022-03-10T19:13:17.279Z"
   },
   {
    "duration": 17,
    "start_time": "2022-03-10T19:13:18.130Z"
   },
   {
    "duration": 17,
    "start_time": "2022-03-10T19:13:20.582Z"
   },
   {
    "duration": 37,
    "start_time": "2022-03-10T19:13:21.264Z"
   },
   {
    "duration": 13,
    "start_time": "2022-03-10T19:13:22.644Z"
   },
   {
    "duration": 6,
    "start_time": "2022-03-10T19:13:23.568Z"
   },
   {
    "duration": 8,
    "start_time": "2022-03-10T19:13:24.430Z"
   },
   {
    "duration": 12,
    "start_time": "2022-03-10T19:13:26.645Z"
   },
   {
    "duration": 5,
    "start_time": "2022-03-10T19:13:28.389Z"
   },
   {
    "duration": 6,
    "start_time": "2022-03-10T19:13:28.822Z"
   },
   {
    "duration": 7,
    "start_time": "2022-03-10T19:13:29.394Z"
   },
   {
    "duration": 7,
    "start_time": "2022-03-10T19:13:29.900Z"
   },
   {
    "duration": 8,
    "start_time": "2022-03-10T19:13:30.625Z"
   },
   {
    "duration": 16,
    "start_time": "2022-03-10T19:13:31.386Z"
   },
   {
    "duration": 18,
    "start_time": "2022-03-10T19:13:32.911Z"
   },
   {
    "duration": 21,
    "start_time": "2022-03-10T19:13:39.366Z"
   },
   {
    "duration": 27,
    "start_time": "2022-03-10T19:13:52.580Z"
   },
   {
    "duration": 7,
    "start_time": "2022-03-10T19:13:53.230Z"
   },
   {
    "duration": 21,
    "start_time": "2022-03-10T19:13:54.090Z"
   },
   {
    "duration": 7,
    "start_time": "2022-03-10T19:13:54.495Z"
   },
   {
    "duration": 23,
    "start_time": "2022-03-10T19:13:54.813Z"
   },
   {
    "duration": 6,
    "start_time": "2022-03-10T19:13:55.198Z"
   },
   {
    "duration": 8,
    "start_time": "2022-03-10T19:13:55.614Z"
   },
   {
    "duration": 23,
    "start_time": "2022-03-10T19:13:56.146Z"
   },
   {
    "duration": 44,
    "start_time": "2022-03-10T19:13:56.640Z"
   },
   {
    "duration": 12,
    "start_time": "2022-03-10T19:13:59.318Z"
   },
   {
    "duration": 21,
    "start_time": "2022-03-10T19:15:16.828Z"
   },
   {
    "duration": 91,
    "start_time": "2022-03-10T19:15:27.460Z"
   },
   {
    "duration": 16,
    "start_time": "2022-03-10T19:15:40.838Z"
   },
   {
    "duration": 25,
    "start_time": "2022-03-10T19:16:10.347Z"
   },
   {
    "duration": 15,
    "start_time": "2022-03-10T19:17:40.813Z"
   },
   {
    "duration": 18,
    "start_time": "2022-03-10T19:17:58.568Z"
   },
   {
    "duration": 17,
    "start_time": "2022-03-10T19:18:06.218Z"
   },
   {
    "duration": 17,
    "start_time": "2022-03-10T19:18:07.093Z"
   },
   {
    "duration": 18,
    "start_time": "2022-03-10T19:18:11.935Z"
   },
   {
    "duration": 17,
    "start_time": "2022-03-10T19:18:14.606Z"
   },
   {
    "duration": 17,
    "start_time": "2022-03-10T19:18:19.487Z"
   },
   {
    "duration": 17,
    "start_time": "2022-03-10T19:18:22.425Z"
   },
   {
    "duration": 17,
    "start_time": "2022-03-10T19:18:46.926Z"
   },
   {
    "duration": 19,
    "start_time": "2022-03-10T19:19:00.863Z"
   },
   {
    "duration": 98,
    "start_time": "2022-03-10T19:19:27.614Z"
   },
   {
    "duration": 16,
    "start_time": "2022-03-10T19:19:37.271Z"
   },
   {
    "duration": 19,
    "start_time": "2022-03-10T19:19:37.434Z"
   },
   {
    "duration": 31,
    "start_time": "2022-03-10T19:19:37.783Z"
   },
   {
    "duration": 29,
    "start_time": "2022-03-10T19:19:38.480Z"
   },
   {
    "duration": 18,
    "start_time": "2022-03-10T19:19:38.618Z"
   },
   {
    "duration": 59,
    "start_time": "2022-03-10T19:19:39.295Z"
   },
   {
    "duration": 17,
    "start_time": "2022-03-10T19:19:40.873Z"
   },
   {
    "duration": 20,
    "start_time": "2022-03-10T19:19:40.894Z"
   },
   {
    "duration": 27,
    "start_time": "2022-03-10T19:19:40.918Z"
   },
   {
    "duration": 69,
    "start_time": "2022-03-10T19:19:41.055Z"
   },
   {
    "duration": 86,
    "start_time": "2022-03-10T19:19:42.375Z"
   },
   {
    "duration": 74,
    "start_time": "2022-03-10T19:19:43.329Z"
   }
  ],
  "kernelspec": {
   "display_name": "Python 3 (ipykernel)",
   "language": "python",
   "name": "python3"
  },
  "language_info": {
   "codemirror_mode": {
    "name": "ipython",
    "version": 3
   },
   "file_extension": ".py",
   "mimetype": "text/x-python",
   "name": "python",
   "nbconvert_exporter": "python",
   "pygments_lexer": "ipython3",
   "version": "3.9.7"
  },
  "toc": {
   "base_numbering": 1,
   "nav_menu": {},
   "number_sections": true,
   "sideBar": true,
   "skip_h1_title": true,
   "title_cell": "Table of Contents",
   "title_sidebar": "Contents",
   "toc_cell": false,
   "toc_position": {
    "height": "calc(100% - 180px)",
    "left": "10px",
    "top": "150px",
    "width": "292px"
   },
   "toc_section_display": true,
   "toc_window_display": true
  }
 },
 "nbformat": 4,
 "nbformat_minor": 5
}
