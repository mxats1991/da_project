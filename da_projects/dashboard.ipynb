{
 "cells": [
  {
   "cell_type": "markdown",
   "id": "b5b0e002",
   "metadata": {},
   "source": [
    "# Исследование опроса клиентов телекомунникацонной компании\n",
    "\n",
    "<b>Цель:</b>Исследование данных с результатами опроса, отражающего текущий уровень потребительской лояльности (NPS) клиентов телекоммуникационной компании.\n",
    "<br>\n",
    "\n",
    "<b>Описание:</b>Заказчик этого исследования — большая телекоммуникационная компания, которая оказывает услуги на территории всего СНГ. Перед компанией стоит задача определить текущий уровень потребительской лояльности, или NPS (от англ. Net Promoter Score), среди клиентов из России.\n",
    "Чтобы определить уровень лояльности, клиентам задавали классический вопрос: «Оцените по шкале от 1 до 10 вероятность того, что вы порекомендуете компанию друзьям и знакомым».\n",
    "Компания провела опрос и попросила меня подготовить дашборд с его итогами. Большую базу данных для такой задачи разворачивать не стали и выгрузили данные в SQLite.\n",
    "\n",
    "### Ссылка на дашборд на сайте Tableau Public:\n",
    "\n",
    "ссылка https://public.tableau.com/views/Book5_16567106509540/Dashboard1?:language=en-US&publish=yes&:display_count=n&:origin=viz_share_link\n",
    "\n",
    "### Укажите ссылку на pdf-файл с презентацией:\n",
    "\n",
    "ссылка https://disk.yandex.ru/i/WCbcKrsfk7fzIw"
   ]
  },
  {
   "cell_type": "markdown",
   "id": "bc46126f",
   "metadata": {},
   "source": [
    "<hr style=\"border: 2px solid red;\" />"
   ]
  }
 ],
 "metadata": {
  "ExecuteTimeLog": [
   {
    "duration": 752,
    "start_time": "2021-10-03T17:40:52.731Z"
   },
   {
    "duration": 20,
    "start_time": "2021-10-03T17:40:53.486Z"
   },
   {
    "duration": 4,
    "start_time": "2021-10-03T17:41:04.638Z"
   },
   {
    "duration": 461,
    "start_time": "2021-10-03T17:41:04.912Z"
   },
   {
    "duration": 284,
    "start_time": "2021-10-03T17:41:05.376Z"
   },
   {
    "duration": 574,
    "start_time": "2021-10-06T07:55:05.029Z"
   },
   {
    "duration": 6,
    "start_time": "2021-10-06T07:55:05.605Z"
   },
   {
    "duration": 3,
    "start_time": "2021-10-06T07:55:14.685Z"
   },
   {
    "duration": 406,
    "start_time": "2021-10-06T07:55:15.522Z"
   },
   {
    "duration": 67,
    "start_time": "2021-10-06T07:55:15.929Z"
   },
   {
    "duration": 840,
    "start_time": "2021-10-07T07:54:04.647Z"
   },
   {
    "duration": 10,
    "start_time": "2021-10-07T07:54:05.490Z"
   },
   {
    "duration": 4,
    "start_time": "2021-10-07T07:54:05.544Z"
   },
   {
    "duration": 391,
    "start_time": "2021-10-07T07:54:06.237Z"
   },
   {
    "duration": 293,
    "start_time": "2021-10-07T07:54:06.654Z"
   },
   {
    "duration": 645,
    "start_time": "2022-06-25T13:53:32.241Z"
   },
   {
    "duration": 47,
    "start_time": "2022-06-25T13:53:33.608Z"
   },
   {
    "duration": 3,
    "start_time": "2022-06-25T13:53:35.801Z"
   },
   {
    "duration": 596,
    "start_time": "2022-06-25T13:53:37.813Z"
   },
   {
    "duration": 97,
    "start_time": "2022-06-25T13:53:41.708Z"
   },
   {
    "duration": 2,
    "start_time": "2022-06-25T13:56:27.289Z"
   },
   {
    "duration": 4883,
    "start_time": "2022-06-25T13:56:29.009Z"
   },
   {
    "duration": 3,
    "start_time": "2022-06-25T14:51:47.122Z"
   },
   {
    "duration": 758,
    "start_time": "2022-06-25T14:51:47.463Z"
   },
   {
    "duration": 5,
    "start_time": "2022-06-25T14:52:20.919Z"
   },
   {
    "duration": 681,
    "start_time": "2022-06-25T14:52:22.443Z"
   },
   {
    "duration": 3,
    "start_time": "2022-06-25T14:52:32.902Z"
   },
   {
    "duration": 3192,
    "start_time": "2022-06-25T14:52:34.363Z"
   },
   {
    "duration": 6,
    "start_time": "2022-06-25T15:02:39.525Z"
   },
   {
    "duration": 564,
    "start_time": "2022-06-25T15:02:54.597Z"
   },
   {
    "duration": 6,
    "start_time": "2022-06-25T15:06:52.838Z"
   },
   {
    "duration": 4650,
    "start_time": "2022-06-25T15:06:53.401Z"
   },
   {
    "duration": 4,
    "start_time": "2022-06-25T15:07:25.846Z"
   },
   {
    "duration": 4449,
    "start_time": "2022-06-25T15:07:29.261Z"
   },
   {
    "duration": 3,
    "start_time": "2022-06-25T15:10:15.349Z"
   },
   {
    "duration": 4723,
    "start_time": "2022-06-25T15:10:15.985Z"
   },
   {
    "duration": 3,
    "start_time": "2022-06-25T15:12:11.418Z"
   },
   {
    "duration": 619,
    "start_time": "2022-06-25T15:12:11.800Z"
   },
   {
    "duration": 4,
    "start_time": "2022-06-25T15:12:27.216Z"
   },
   {
    "duration": 719,
    "start_time": "2022-06-25T15:12:27.756Z"
   },
   {
    "duration": 3,
    "start_time": "2022-06-25T15:12:53.809Z"
   },
   {
    "duration": 692,
    "start_time": "2022-06-25T15:12:55.079Z"
   },
   {
    "duration": 7,
    "start_time": "2022-06-25T15:13:22.142Z"
   },
   {
    "duration": 5831,
    "start_time": "2022-06-25T15:13:22.583Z"
   },
   {
    "duration": 5,
    "start_time": "2022-06-25T16:42:52.234Z"
   },
   {
    "duration": 5192,
    "start_time": "2022-06-25T16:42:53.902Z"
   },
   {
    "duration": 3,
    "start_time": "2022-06-25T16:43:28.939Z"
   },
   {
    "duration": 5346,
    "start_time": "2022-06-25T16:43:30.692Z"
   },
   {
    "duration": 13,
    "start_time": "2022-06-25T16:44:04.823Z"
   },
   {
    "duration": 321,
    "start_time": "2022-06-25T16:44:06.192Z"
   },
   {
    "duration": 3,
    "start_time": "2022-06-25T16:44:13.560Z"
   },
   {
    "duration": 5035,
    "start_time": "2022-06-25T16:44:15.188Z"
   },
   {
    "duration": 3,
    "start_time": "2022-06-25T16:48:39.795Z"
   },
   {
    "duration": 458,
    "start_time": "2022-06-25T16:48:40.838Z"
   },
   {
    "duration": 3,
    "start_time": "2022-06-25T16:48:47.838Z"
   },
   {
    "duration": 458,
    "start_time": "2022-06-25T16:48:48.857Z"
   },
   {
    "duration": 3,
    "start_time": "2022-06-25T16:49:26.598Z"
   },
   {
    "duration": 479,
    "start_time": "2022-06-25T16:49:27.897Z"
   },
   {
    "duration": 3,
    "start_time": "2022-06-25T16:50:18.813Z"
   },
   {
    "duration": 475,
    "start_time": "2022-06-25T16:50:19.897Z"
   },
   {
    "duration": 3,
    "start_time": "2022-06-25T16:51:12.959Z"
   },
   {
    "duration": 4823,
    "start_time": "2022-06-25T16:51:14.549Z"
   },
   {
    "duration": 3,
    "start_time": "2022-06-25T16:52:34.065Z"
   },
   {
    "duration": 5314,
    "start_time": "2022-06-25T16:52:35.571Z"
   },
   {
    "duration": 3,
    "start_time": "2022-06-25T16:52:56.109Z"
   },
   {
    "duration": 5460,
    "start_time": "2022-06-25T16:52:58.238Z"
   },
   {
    "duration": 3,
    "start_time": "2022-06-25T16:54:03.774Z"
   },
   {
    "duration": 49,
    "start_time": "2022-06-25T16:54:18.740Z"
   },
   {
    "duration": 546,
    "start_time": "2022-06-25T16:54:22.372Z"
   },
   {
    "duration": 3,
    "start_time": "2022-06-25T16:54:30.742Z"
   },
   {
    "duration": 65,
    "start_time": "2022-06-25T16:54:31.167Z"
   },
   {
    "duration": 3,
    "start_time": "2022-06-25T16:54:31.574Z"
   },
   {
    "duration": 597,
    "start_time": "2022-06-25T16:54:32.058Z"
   },
   {
    "duration": 3,
    "start_time": "2022-06-25T16:54:33.318Z"
   },
   {
    "duration": 6113,
    "start_time": "2022-06-25T16:54:34.275Z"
   },
   {
    "duration": 3,
    "start_time": "2022-06-25T16:55:07.971Z"
   },
   {
    "duration": 5737,
    "start_time": "2022-06-25T16:55:09.305Z"
   },
   {
    "duration": 603,
    "start_time": "2022-06-26T09:45:17.895Z"
   },
   {
    "duration": 32,
    "start_time": "2022-06-26T09:45:18.500Z"
   },
   {
    "duration": 4,
    "start_time": "2022-06-26T09:45:19.086Z"
   },
   {
    "duration": 542,
    "start_time": "2022-06-26T09:45:20.236Z"
   },
   {
    "duration": 3,
    "start_time": "2022-06-26T09:49:17.019Z"
   },
   {
    "duration": 5409,
    "start_time": "2022-06-26T09:49:17.519Z"
   },
   {
    "duration": 2,
    "start_time": "2022-06-26T10:01:27.964Z"
   },
   {
    "duration": 4,
    "start_time": "2022-06-26T10:01:28.257Z"
   },
   {
    "duration": 3,
    "start_time": "2022-06-26T10:01:28.561Z"
   },
   {
    "duration": 5212,
    "start_time": "2022-06-26T10:01:29.170Z"
   },
   {
    "duration": 3,
    "start_time": "2022-06-26T10:02:03.122Z"
   },
   {
    "duration": 2,
    "start_time": "2022-06-26T10:02:06.992Z"
   },
   {
    "duration": 3,
    "start_time": "2022-06-26T10:02:07.375Z"
   },
   {
    "duration": 4,
    "start_time": "2022-06-26T10:02:08.072Z"
   },
   {
    "duration": 5348,
    "start_time": "2022-06-26T10:02:08.850Z"
   },
   {
    "duration": 4902,
    "start_time": "2022-06-26T10:02:15.459Z"
   },
   {
    "duration": 610,
    "start_time": "2022-06-27T13:31:02.704Z"
   },
   {
    "duration": 12,
    "start_time": "2022-06-27T13:31:03.316Z"
   },
   {
    "duration": 4,
    "start_time": "2022-06-27T13:31:07.255Z"
   },
   {
    "duration": 340,
    "start_time": "2022-06-27T13:31:08.566Z"
   },
   {
    "duration": 4,
    "start_time": "2022-06-27T13:31:24.800Z"
   },
   {
    "duration": 4,
    "start_time": "2022-06-27T13:31:25.092Z"
   },
   {
    "duration": 3,
    "start_time": "2022-06-27T13:31:25.447Z"
   },
   {
    "duration": 276,
    "start_time": "2022-06-27T13:31:26.144Z"
   },
   {
    "duration": 3,
    "start_time": "2022-06-27T13:31:35.843Z"
   },
   {
    "duration": 4985,
    "start_time": "2022-06-27T13:31:36.794Z"
   },
   {
    "duration": 4222,
    "start_time": "2022-06-27T13:31:43.063Z"
   },
   {
    "duration": 513,
    "start_time": "2022-06-27T20:53:26.938Z"
   },
   {
    "duration": 29,
    "start_time": "2022-06-27T20:53:27.452Z"
   },
   {
    "duration": 3,
    "start_time": "2022-06-27T20:53:27.975Z"
   },
   {
    "duration": 5073,
    "start_time": "2022-06-27T20:53:30.326Z"
   },
   {
    "duration": 4190,
    "start_time": "2022-06-27T20:53:36.598Z"
   },
   {
    "duration": 444,
    "start_time": "2022-06-28T04:37:29.771Z"
   },
   {
    "duration": 24,
    "start_time": "2022-06-28T04:37:30.217Z"
   },
   {
    "duration": 3,
    "start_time": "2022-06-28T04:37:30.243Z"
   },
   {
    "duration": 5509,
    "start_time": "2022-06-28T04:37:30.248Z"
   },
   {
    "duration": 4046,
    "start_time": "2022-06-28T04:37:35.758Z"
   },
   {
    "duration": 504,
    "start_time": "2022-06-28T04:47:05.167Z"
   },
   {
    "duration": 4,
    "start_time": "2022-06-28T04:48:40.943Z"
   },
   {
    "duration": 472,
    "start_time": "2022-07-01T12:13:09.090Z"
   },
   {
    "duration": 8,
    "start_time": "2022-07-01T12:13:10.374Z"
   },
   {
    "duration": 3,
    "start_time": "2022-07-01T12:13:11.478Z"
   },
   {
    "duration": 5190,
    "start_time": "2022-07-01T12:13:15.613Z"
   },
   {
    "duration": 4542,
    "start_time": "2022-07-01T12:13:22.368Z"
   },
   {
    "duration": 564,
    "start_time": "2022-07-02T09:57:51.205Z"
   },
   {
    "duration": 24,
    "start_time": "2022-07-02T09:57:51.771Z"
   },
   {
    "duration": 4,
    "start_time": "2022-07-02T09:57:52.615Z"
   },
   {
    "duration": 739,
    "start_time": "2022-07-02T09:57:54.024Z"
   },
   {
    "duration": 3,
    "start_time": "2022-07-02T10:02:27.606Z"
   },
   {
    "duration": 3,
    "start_time": "2022-07-02T10:02:27.968Z"
   },
   {
    "duration": 3,
    "start_time": "2022-07-02T10:02:28.887Z"
   },
   {
    "duration": 6315,
    "start_time": "2022-07-02T10:02:29.629Z"
   },
   {
    "duration": 502,
    "start_time": "2022-07-04T04:20:00.670Z"
   },
   {
    "duration": 21,
    "start_time": "2022-07-04T04:20:01.175Z"
   },
   {
    "duration": 3,
    "start_time": "2022-07-04T04:20:01.197Z"
   },
   {
    "duration": 6317,
    "start_time": "2022-07-04T04:20:01.202Z"
   },
   {
    "duration": 4876,
    "start_time": "2022-07-04T04:20:07.521Z"
   },
   {
    "duration": 13,
    "start_time": "2022-07-04T04:51:49.551Z"
   },
   {
    "duration": 526,
    "start_time": "2022-07-04T04:51:49.566Z"
   },
   {
    "duration": 10,
    "start_time": "2022-07-04T04:51:50.093Z"
   },
   {
    "duration": 3,
    "start_time": "2022-07-04T04:51:50.105Z"
   },
   {
    "duration": 5867,
    "start_time": "2022-07-04T04:51:50.109Z"
   },
   {
    "duration": 4660,
    "start_time": "2022-07-04T04:51:55.978Z"
   },
   {
    "duration": 415,
    "start_time": "2022-07-04T04:54:19.782Z"
   },
   {
    "duration": 16,
    "start_time": "2022-07-04T05:21:14.491Z"
   },
   {
    "duration": 342,
    "start_time": "2022-07-04T05:21:24.296Z"
   },
   {
    "duration": 1147,
    "start_time": "2022-07-04T05:21:34.355Z"
   },
   {
    "duration": 103,
    "start_time": "2022-07-04T05:21:53.711Z"
   },
   {
    "duration": 15,
    "start_time": "2022-07-04T05:22:06.574Z"
   },
   {
    "duration": 990,
    "start_time": "2022-07-04T05:22:32.575Z"
   },
   {
    "duration": 502,
    "start_time": "2022-07-05T04:26:13.796Z"
   },
   {
    "duration": 26,
    "start_time": "2022-07-05T04:26:14.300Z"
   },
   {
    "duration": 3,
    "start_time": "2022-07-05T04:26:14.328Z"
   },
   {
    "duration": 5620,
    "start_time": "2022-07-05T04:26:14.332Z"
   },
   {
    "duration": 5564,
    "start_time": "2022-07-05T04:26:19.954Z"
   },
   {
    "duration": 1447,
    "start_time": "2022-07-05T04:26:25.521Z"
   },
   {
    "duration": 590,
    "start_time": "2022-07-05T04:28:58.454Z"
   },
   {
    "duration": 1281,
    "start_time": "2022-07-05T04:29:07.544Z"
   },
   {
    "duration": 920,
    "start_time": "2022-07-05T04:29:14.316Z"
   },
   {
    "duration": 862,
    "start_time": "2022-07-05T04:29:56.211Z"
   },
   {
    "duration": 838,
    "start_time": "2022-07-05T04:30:02.715Z"
   },
   {
    "duration": 802,
    "start_time": "2022-07-05T04:30:18.903Z"
   },
   {
    "duration": 616,
    "start_time": "2022-07-05T04:30:28.671Z"
   },
   {
    "duration": 448,
    "start_time": "2022-07-05T04:37:04.221Z"
   },
   {
    "duration": 1246,
    "start_time": "2022-07-05T04:38:23.289Z"
   },
   {
    "duration": 5,
    "start_time": "2022-07-05T04:38:31.775Z"
   },
   {
    "duration": 588,
    "start_time": "2022-07-05T04:38:35.780Z"
   },
   {
    "duration": 5,
    "start_time": "2022-07-05T04:38:37.579Z"
   },
   {
    "duration": 5,
    "start_time": "2022-07-05T04:38:48.698Z"
   },
   {
    "duration": 503,
    "start_time": "2022-07-06T04:28:30.930Z"
   },
   {
    "duration": 68,
    "start_time": "2022-07-06T04:28:31.435Z"
   },
   {
    "duration": 10,
    "start_time": "2022-07-06T04:28:31.504Z"
   },
   {
    "duration": 6143,
    "start_time": "2022-07-06T04:28:31.516Z"
   },
   {
    "duration": 5648,
    "start_time": "2022-07-06T04:28:37.665Z"
   },
   {
    "duration": 1397,
    "start_time": "2022-07-06T04:28:43.315Z"
   },
   {
    "duration": 460,
    "start_time": "2022-07-06T04:28:44.714Z"
   },
   {
    "duration": 533,
    "start_time": "2022-07-06T04:28:45.175Z"
   },
   {
    "duration": 105,
    "start_time": "2022-07-06T08:45:04.400Z"
   },
   {
    "duration": 510,
    "start_time": "2022-07-07T03:45:50.732Z"
   },
   {
    "duration": 30,
    "start_time": "2022-07-07T03:45:51.244Z"
   },
   {
    "duration": 3,
    "start_time": "2022-07-07T03:45:51.276Z"
   },
   {
    "duration": 6220,
    "start_time": "2022-07-07T03:45:51.280Z"
   },
   {
    "duration": 4445,
    "start_time": "2022-07-07T03:45:57.502Z"
   },
   {
    "duration": 1457,
    "start_time": "2022-07-07T03:46:01.949Z"
   },
   {
    "duration": 468,
    "start_time": "2022-07-07T03:46:03.408Z"
   },
   {
    "duration": 613,
    "start_time": "2022-07-07T03:46:03.878Z"
   }
  ],
  "kernelspec": {
   "display_name": "Python 3 (ipykernel)",
   "language": "python",
   "name": "python3"
  },
  "language_info": {
   "codemirror_mode": {
    "name": "ipython",
    "version": 3
   },
   "file_extension": ".py",
   "mimetype": "text/x-python",
   "name": "python",
   "nbconvert_exporter": "python",
   "pygments_lexer": "ipython3",
   "version": "3.9.12"
  },
  "toc": {
   "base_numbering": 1,
   "nav_menu": {},
   "number_sections": true,
   "sideBar": true,
   "skip_h1_title": true,
   "title_cell": "Table of Contents",
   "title_sidebar": "Contents",
   "toc_cell": false,
   "toc_position": {},
   "toc_section_display": true,
   "toc_window_display": false
  }
 },
 "nbformat": 4,
 "nbformat_minor": 5
}
