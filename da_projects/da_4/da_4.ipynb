{
 "cells": [
  {
   "cell_type": "markdown",
   "metadata": {},
   "source": [
    "# Проверка гипотез по увеличению выручки в интернет-магазине —оценить результаты A/B теста"
   ]
  },
  {
   "cell_type": "markdown",
   "metadata": {},
   "source": [
    "<b>Цель:</b>Используя данные интернет-магазина приоритезировать гипотезы, произвести оценку результатов A/B-тестирования различными методами<br>\n",
    "<b>Описание:</b>проведена приоритизация гипотез по фреймворкам ICE и RICE. Затем провел анализ\n",
    "результатов A/B-теста, построил графики кумулятивной выручки, среднего чека,\n",
    "конверсии по группам, а затем посчитал статистическую значимость различий конверсий\n",
    "и средних чеков по сырым и очищенным данным. На основании анализа мной было\n",
    "принято решение о нецелесообразности дальнейшего проведения теста."
   ]
  },
  {
   "cell_type": "code",
   "execution_count": 1,
   "metadata": {},
   "outputs": [],
   "source": [
    "import pandas as pd\n",
    "import math\n",
    "import seaborn as sns\n",
    "import matplotlib.pyplot as plt\n",
    "from scipy import stats as st\n",
    "import numpy as np"
   ]
  },
  {
   "cell_type": "markdown",
   "metadata": {},
   "source": [
    "## Шаг 1. Откройте файл с данными и изучите общую информацию"
   ]
  },
  {
   "cell_type": "code",
   "execution_count": 2,
   "metadata": {},
   "outputs": [],
   "source": [
    "server_path = 'datasets/'   \n",
    "local_path = '/datasets/' \n",
    "\n",
    "files = ['calls.csv',\n",
    "         'internet.csv',\n",
    "         'messages.csv',\n",
    "         'tariffs.csv',\n",
    "         'users.csv']\n",
    "\n",
    "datasets = []\n",
    "\n",
    "for file in files:\n",
    "    try:\n",
    "        datasets.append(pd.read_csv(server_path + file))\n",
    "    except FileNotFoundError: \n",
    "        datasets.append(pd.read_csv(local_path + file))\n",
    "\n",
    "df_calls = datasets[0]\n",
    "df_internet = datasets[1]\n",
    "df_messages = datasets[2]\n",
    "df_tariffs = datasets[3]\n",
    "df_users = datasets[4]\n"
   ]
  },
  {
   "cell_type": "markdown",
   "metadata": {},
   "source": [
    "## Шаг 2. Подготовьте данные"
   ]
  },
  {
   "cell_type": "code",
   "execution_count": 3,
   "metadata": {},
   "outputs": [
    {
     "data": {
      "text/html": [
       "<div>\n",
       "<style scoped>\n",
       "    .dataframe tbody tr th:only-of-type {\n",
       "        vertical-align: middle;\n",
       "    }\n",
       "\n",
       "    .dataframe tbody tr th {\n",
       "        vertical-align: top;\n",
       "    }\n",
       "\n",
       "    .dataframe thead th {\n",
       "        text-align: right;\n",
       "    }\n",
       "</style>\n",
       "<table border=\"1\" class=\"dataframe\">\n",
       "  <thead>\n",
       "    <tr style=\"text-align: right;\">\n",
       "      <th></th>\n",
       "      <th>id</th>\n",
       "      <th>call_date</th>\n",
       "      <th>duration</th>\n",
       "      <th>user_id</th>\n",
       "    </tr>\n",
       "  </thead>\n",
       "  <tbody>\n",
       "    <tr>\n",
       "      <th>0</th>\n",
       "      <td>1000_0</td>\n",
       "      <td>2018-07-25</td>\n",
       "      <td>0.00</td>\n",
       "      <td>1000</td>\n",
       "    </tr>\n",
       "    <tr>\n",
       "      <th>1</th>\n",
       "      <td>1000_1</td>\n",
       "      <td>2018-08-17</td>\n",
       "      <td>0.00</td>\n",
       "      <td>1000</td>\n",
       "    </tr>\n",
       "    <tr>\n",
       "      <th>2</th>\n",
       "      <td>1000_2</td>\n",
       "      <td>2018-06-11</td>\n",
       "      <td>2.85</td>\n",
       "      <td>1000</td>\n",
       "    </tr>\n",
       "    <tr>\n",
       "      <th>3</th>\n",
       "      <td>1000_3</td>\n",
       "      <td>2018-09-21</td>\n",
       "      <td>13.80</td>\n",
       "      <td>1000</td>\n",
       "    </tr>\n",
       "    <tr>\n",
       "      <th>4</th>\n",
       "      <td>1000_4</td>\n",
       "      <td>2018-12-15</td>\n",
       "      <td>5.18</td>\n",
       "      <td>1000</td>\n",
       "    </tr>\n",
       "  </tbody>\n",
       "</table>\n",
       "</div>"
      ],
      "text/plain": [
       "       id   call_date  duration  user_id\n",
       "0  1000_0  2018-07-25      0.00     1000\n",
       "1  1000_1  2018-08-17      0.00     1000\n",
       "2  1000_2  2018-06-11      2.85     1000\n",
       "3  1000_3  2018-09-21     13.80     1000\n",
       "4  1000_4  2018-12-15      5.18     1000"
      ]
     },
     "execution_count": 3,
     "metadata": {},
     "output_type": "execute_result"
    }
   ],
   "source": [
    "df_calls.head()"
   ]
  },
  {
   "cell_type": "code",
   "execution_count": 4,
   "metadata": {},
   "outputs": [
    {
     "name": "stdout",
     "output_type": "stream",
     "text": [
      "<class 'pandas.core.frame.DataFrame'>\n",
      "RangeIndex: 202607 entries, 0 to 202606\n",
      "Data columns (total 4 columns):\n",
      " #   Column     Non-Null Count   Dtype  \n",
      "---  ------     --------------   -----  \n",
      " 0   id         202607 non-null  object \n",
      " 1   call_date  202607 non-null  object \n",
      " 2   duration   202607 non-null  float64\n",
      " 3   user_id    202607 non-null  int64  \n",
      "dtypes: float64(1), int64(1), object(2)\n",
      "memory usage: 6.2+ MB\n"
     ]
    }
   ],
   "source": [
    "df_calls.info()"
   ]
  },
  {
   "cell_type": "code",
   "execution_count": 5,
   "metadata": {},
   "outputs": [
    {
     "data": {
      "text/html": [
       "<div>\n",
       "<style scoped>\n",
       "    .dataframe tbody tr th:only-of-type {\n",
       "        vertical-align: middle;\n",
       "    }\n",
       "\n",
       "    .dataframe tbody tr th {\n",
       "        vertical-align: top;\n",
       "    }\n",
       "\n",
       "    .dataframe thead th {\n",
       "        text-align: right;\n",
       "    }\n",
       "</style>\n",
       "<table border=\"1\" class=\"dataframe\">\n",
       "  <thead>\n",
       "    <tr style=\"text-align: right;\">\n",
       "      <th></th>\n",
       "      <th>Unnamed: 0</th>\n",
       "      <th>id</th>\n",
       "      <th>mb_used</th>\n",
       "      <th>session_date</th>\n",
       "      <th>user_id</th>\n",
       "    </tr>\n",
       "  </thead>\n",
       "  <tbody>\n",
       "    <tr>\n",
       "      <th>0</th>\n",
       "      <td>0</td>\n",
       "      <td>1000_0</td>\n",
       "      <td>112.95</td>\n",
       "      <td>2018-11-25</td>\n",
       "      <td>1000</td>\n",
       "    </tr>\n",
       "    <tr>\n",
       "      <th>1</th>\n",
       "      <td>1</td>\n",
       "      <td>1000_1</td>\n",
       "      <td>1052.81</td>\n",
       "      <td>2018-09-07</td>\n",
       "      <td>1000</td>\n",
       "    </tr>\n",
       "    <tr>\n",
       "      <th>2</th>\n",
       "      <td>2</td>\n",
       "      <td>1000_2</td>\n",
       "      <td>1197.26</td>\n",
       "      <td>2018-06-25</td>\n",
       "      <td>1000</td>\n",
       "    </tr>\n",
       "    <tr>\n",
       "      <th>3</th>\n",
       "      <td>3</td>\n",
       "      <td>1000_3</td>\n",
       "      <td>550.27</td>\n",
       "      <td>2018-08-22</td>\n",
       "      <td>1000</td>\n",
       "    </tr>\n",
       "    <tr>\n",
       "      <th>4</th>\n",
       "      <td>4</td>\n",
       "      <td>1000_4</td>\n",
       "      <td>302.56</td>\n",
       "      <td>2018-09-24</td>\n",
       "      <td>1000</td>\n",
       "    </tr>\n",
       "  </tbody>\n",
       "</table>\n",
       "</div>"
      ],
      "text/plain": [
       "   Unnamed: 0      id  mb_used session_date  user_id\n",
       "0           0  1000_0   112.95   2018-11-25     1000\n",
       "1           1  1000_1  1052.81   2018-09-07     1000\n",
       "2           2  1000_2  1197.26   2018-06-25     1000\n",
       "3           3  1000_3   550.27   2018-08-22     1000\n",
       "4           4  1000_4   302.56   2018-09-24     1000"
      ]
     },
     "execution_count": 5,
     "metadata": {},
     "output_type": "execute_result"
    }
   ],
   "source": [
    "df_internet.head()"
   ]
  },
  {
   "cell_type": "code",
   "execution_count": 6,
   "metadata": {},
   "outputs": [
    {
     "name": "stdout",
     "output_type": "stream",
     "text": [
      "<class 'pandas.core.frame.DataFrame'>\n",
      "RangeIndex: 149396 entries, 0 to 149395\n",
      "Data columns (total 5 columns):\n",
      " #   Column        Non-Null Count   Dtype  \n",
      "---  ------        --------------   -----  \n",
      " 0   Unnamed: 0    149396 non-null  int64  \n",
      " 1   id            149396 non-null  object \n",
      " 2   mb_used       149396 non-null  float64\n",
      " 3   session_date  149396 non-null  object \n",
      " 4   user_id       149396 non-null  int64  \n",
      "dtypes: float64(1), int64(2), object(2)\n",
      "memory usage: 5.7+ MB\n"
     ]
    }
   ],
   "source": [
    "df_internet.info()"
   ]
  },
  {
   "cell_type": "code",
   "execution_count": 7,
   "metadata": {},
   "outputs": [
    {
     "data": {
      "text/html": [
       "<div>\n",
       "<style scoped>\n",
       "    .dataframe tbody tr th:only-of-type {\n",
       "        vertical-align: middle;\n",
       "    }\n",
       "\n",
       "    .dataframe tbody tr th {\n",
       "        vertical-align: top;\n",
       "    }\n",
       "\n",
       "    .dataframe thead th {\n",
       "        text-align: right;\n",
       "    }\n",
       "</style>\n",
       "<table border=\"1\" class=\"dataframe\">\n",
       "  <thead>\n",
       "    <tr style=\"text-align: right;\">\n",
       "      <th></th>\n",
       "      <th>id</th>\n",
       "      <th>message_date</th>\n",
       "      <th>user_id</th>\n",
       "    </tr>\n",
       "  </thead>\n",
       "  <tbody>\n",
       "    <tr>\n",
       "      <th>0</th>\n",
       "      <td>1000_0</td>\n",
       "      <td>2018-06-27</td>\n",
       "      <td>1000</td>\n",
       "    </tr>\n",
       "    <tr>\n",
       "      <th>1</th>\n",
       "      <td>1000_1</td>\n",
       "      <td>2018-10-08</td>\n",
       "      <td>1000</td>\n",
       "    </tr>\n",
       "    <tr>\n",
       "      <th>2</th>\n",
       "      <td>1000_2</td>\n",
       "      <td>2018-08-04</td>\n",
       "      <td>1000</td>\n",
       "    </tr>\n",
       "    <tr>\n",
       "      <th>3</th>\n",
       "      <td>1000_3</td>\n",
       "      <td>2018-06-16</td>\n",
       "      <td>1000</td>\n",
       "    </tr>\n",
       "    <tr>\n",
       "      <th>4</th>\n",
       "      <td>1000_4</td>\n",
       "      <td>2018-12-05</td>\n",
       "      <td>1000</td>\n",
       "    </tr>\n",
       "  </tbody>\n",
       "</table>\n",
       "</div>"
      ],
      "text/plain": [
       "       id message_date  user_id\n",
       "0  1000_0   2018-06-27     1000\n",
       "1  1000_1   2018-10-08     1000\n",
       "2  1000_2   2018-08-04     1000\n",
       "3  1000_3   2018-06-16     1000\n",
       "4  1000_4   2018-12-05     1000"
      ]
     },
     "execution_count": 7,
     "metadata": {},
     "output_type": "execute_result"
    }
   ],
   "source": [
    "df_messages.head()"
   ]
  },
  {
   "cell_type": "code",
   "execution_count": 8,
   "metadata": {},
   "outputs": [
    {
     "name": "stdout",
     "output_type": "stream",
     "text": [
      "<class 'pandas.core.frame.DataFrame'>\n",
      "RangeIndex: 123036 entries, 0 to 123035\n",
      "Data columns (total 3 columns):\n",
      " #   Column        Non-Null Count   Dtype \n",
      "---  ------        --------------   ----- \n",
      " 0   id            123036 non-null  object\n",
      " 1   message_date  123036 non-null  object\n",
      " 2   user_id       123036 non-null  int64 \n",
      "dtypes: int64(1), object(2)\n",
      "memory usage: 2.8+ MB\n"
     ]
    }
   ],
   "source": [
    "df_messages.info()"
   ]
  },
  {
   "cell_type": "code",
   "execution_count": 9,
   "metadata": {},
   "outputs": [
    {
     "data": {
      "text/html": [
       "<div>\n",
       "<style scoped>\n",
       "    .dataframe tbody tr th:only-of-type {\n",
       "        vertical-align: middle;\n",
       "    }\n",
       "\n",
       "    .dataframe tbody tr th {\n",
       "        vertical-align: top;\n",
       "    }\n",
       "\n",
       "    .dataframe thead th {\n",
       "        text-align: right;\n",
       "    }\n",
       "</style>\n",
       "<table border=\"1\" class=\"dataframe\">\n",
       "  <thead>\n",
       "    <tr style=\"text-align: right;\">\n",
       "      <th></th>\n",
       "      <th>messages_included</th>\n",
       "      <th>mb_per_month_included</th>\n",
       "      <th>minutes_included</th>\n",
       "      <th>rub_monthly_fee</th>\n",
       "      <th>rub_per_gb</th>\n",
       "      <th>rub_per_message</th>\n",
       "      <th>rub_per_minute</th>\n",
       "      <th>tariff_name</th>\n",
       "    </tr>\n",
       "  </thead>\n",
       "  <tbody>\n",
       "    <tr>\n",
       "      <th>0</th>\n",
       "      <td>50</td>\n",
       "      <td>15360</td>\n",
       "      <td>500</td>\n",
       "      <td>550</td>\n",
       "      <td>200</td>\n",
       "      <td>3</td>\n",
       "      <td>3</td>\n",
       "      <td>smart</td>\n",
       "    </tr>\n",
       "    <tr>\n",
       "      <th>1</th>\n",
       "      <td>1000</td>\n",
       "      <td>30720</td>\n",
       "      <td>3000</td>\n",
       "      <td>1950</td>\n",
       "      <td>150</td>\n",
       "      <td>1</td>\n",
       "      <td>1</td>\n",
       "      <td>ultra</td>\n",
       "    </tr>\n",
       "  </tbody>\n",
       "</table>\n",
       "</div>"
      ],
      "text/plain": [
       "   messages_included  mb_per_month_included  minutes_included  \\\n",
       "0                 50                  15360               500   \n",
       "1               1000                  30720              3000   \n",
       "\n",
       "   rub_monthly_fee  rub_per_gb  rub_per_message  rub_per_minute tariff_name  \n",
       "0              550         200                3               3       smart  \n",
       "1             1950         150                1               1       ultra  "
      ]
     },
     "execution_count": 9,
     "metadata": {},
     "output_type": "execute_result"
    }
   ],
   "source": [
    "df_tariffs.head()"
   ]
  },
  {
   "cell_type": "code",
   "execution_count": 10,
   "metadata": {},
   "outputs": [
    {
     "name": "stdout",
     "output_type": "stream",
     "text": [
      "<class 'pandas.core.frame.DataFrame'>\n",
      "RangeIndex: 2 entries, 0 to 1\n",
      "Data columns (total 8 columns):\n",
      " #   Column                 Non-Null Count  Dtype \n",
      "---  ------                 --------------  ----- \n",
      " 0   messages_included      2 non-null      int64 \n",
      " 1   mb_per_month_included  2 non-null      int64 \n",
      " 2   minutes_included       2 non-null      int64 \n",
      " 3   rub_monthly_fee        2 non-null      int64 \n",
      " 4   rub_per_gb             2 non-null      int64 \n",
      " 5   rub_per_message        2 non-null      int64 \n",
      " 6   rub_per_minute         2 non-null      int64 \n",
      " 7   tariff_name            2 non-null      object\n",
      "dtypes: int64(7), object(1)\n",
      "memory usage: 256.0+ bytes\n"
     ]
    }
   ],
   "source": [
    "df_tariffs.info()"
   ]
  },
  {
   "cell_type": "code",
   "execution_count": 11,
   "metadata": {},
   "outputs": [
    {
     "data": {
      "text/html": [
       "<div>\n",
       "<style scoped>\n",
       "    .dataframe tbody tr th:only-of-type {\n",
       "        vertical-align: middle;\n",
       "    }\n",
       "\n",
       "    .dataframe tbody tr th {\n",
       "        vertical-align: top;\n",
       "    }\n",
       "\n",
       "    .dataframe thead th {\n",
       "        text-align: right;\n",
       "    }\n",
       "</style>\n",
       "<table border=\"1\" class=\"dataframe\">\n",
       "  <thead>\n",
       "    <tr style=\"text-align: right;\">\n",
       "      <th></th>\n",
       "      <th>user_id</th>\n",
       "      <th>age</th>\n",
       "      <th>churn_date</th>\n",
       "      <th>city</th>\n",
       "      <th>first_name</th>\n",
       "      <th>last_name</th>\n",
       "      <th>reg_date</th>\n",
       "      <th>tariff</th>\n",
       "    </tr>\n",
       "  </thead>\n",
       "  <tbody>\n",
       "    <tr>\n",
       "      <th>0</th>\n",
       "      <td>1000</td>\n",
       "      <td>52</td>\n",
       "      <td>NaN</td>\n",
       "      <td>Краснодар</td>\n",
       "      <td>Рафаил</td>\n",
       "      <td>Верещагин</td>\n",
       "      <td>2018-05-25</td>\n",
       "      <td>ultra</td>\n",
       "    </tr>\n",
       "    <tr>\n",
       "      <th>1</th>\n",
       "      <td>1001</td>\n",
       "      <td>41</td>\n",
       "      <td>NaN</td>\n",
       "      <td>Москва</td>\n",
       "      <td>Иван</td>\n",
       "      <td>Ежов</td>\n",
       "      <td>2018-11-01</td>\n",
       "      <td>smart</td>\n",
       "    </tr>\n",
       "    <tr>\n",
       "      <th>2</th>\n",
       "      <td>1002</td>\n",
       "      <td>59</td>\n",
       "      <td>NaN</td>\n",
       "      <td>Стерлитамак</td>\n",
       "      <td>Евгений</td>\n",
       "      <td>Абрамович</td>\n",
       "      <td>2018-06-17</td>\n",
       "      <td>smart</td>\n",
       "    </tr>\n",
       "    <tr>\n",
       "      <th>3</th>\n",
       "      <td>1003</td>\n",
       "      <td>23</td>\n",
       "      <td>NaN</td>\n",
       "      <td>Москва</td>\n",
       "      <td>Белла</td>\n",
       "      <td>Белякова</td>\n",
       "      <td>2018-08-17</td>\n",
       "      <td>ultra</td>\n",
       "    </tr>\n",
       "    <tr>\n",
       "      <th>4</th>\n",
       "      <td>1004</td>\n",
       "      <td>68</td>\n",
       "      <td>NaN</td>\n",
       "      <td>Новокузнецк</td>\n",
       "      <td>Татьяна</td>\n",
       "      <td>Авдеенко</td>\n",
       "      <td>2018-05-14</td>\n",
       "      <td>ultra</td>\n",
       "    </tr>\n",
       "  </tbody>\n",
       "</table>\n",
       "</div>"
      ],
      "text/plain": [
       "   user_id  age churn_date         city first_name  last_name    reg_date  \\\n",
       "0     1000   52        NaN    Краснодар     Рафаил  Верещагин  2018-05-25   \n",
       "1     1001   41        NaN       Москва       Иван       Ежов  2018-11-01   \n",
       "2     1002   59        NaN  Стерлитамак    Евгений  Абрамович  2018-06-17   \n",
       "3     1003   23        NaN       Москва      Белла   Белякова  2018-08-17   \n",
       "4     1004   68        NaN  Новокузнецк    Татьяна   Авдеенко  2018-05-14   \n",
       "\n",
       "  tariff  \n",
       "0  ultra  \n",
       "1  smart  \n",
       "2  smart  \n",
       "3  ultra  \n",
       "4  ultra  "
      ]
     },
     "execution_count": 11,
     "metadata": {},
     "output_type": "execute_result"
    }
   ],
   "source": [
    "df_users.head()"
   ]
  },
  {
   "cell_type": "code",
   "execution_count": 12,
   "metadata": {},
   "outputs": [
    {
     "name": "stdout",
     "output_type": "stream",
     "text": [
      "<class 'pandas.core.frame.DataFrame'>\n",
      "RangeIndex: 500 entries, 0 to 499\n",
      "Data columns (total 8 columns):\n",
      " #   Column      Non-Null Count  Dtype \n",
      "---  ------      --------------  ----- \n",
      " 0   user_id     500 non-null    int64 \n",
      " 1   age         500 non-null    int64 \n",
      " 2   churn_date  38 non-null     object\n",
      " 3   city        500 non-null    object\n",
      " 4   first_name  500 non-null    object\n",
      " 5   last_name   500 non-null    object\n",
      " 6   reg_date    500 non-null    object\n",
      " 7   tariff      500 non-null    object\n",
      "dtypes: int64(2), object(6)\n",
      "memory usage: 31.4+ KB\n"
     ]
    }
   ],
   "source": [
    "df_users.info()"
   ]
  },
  {
   "cell_type": "markdown",
   "metadata": {},
   "source": [
    "Вывод: псоле первичной проверки данных было выявлено: \n",
    "- что необходимо привести к типу datatime колонки reg_date, message_date, session_date, call_date\n",
    "- в колонке df_internet в колонке 'Unnamed: 0' была найдена опечатка"
   ]
  },
  {
   "cell_type": "markdown",
   "metadata": {},
   "source": [
    "### Приведите данные к нужным типам"
   ]
  },
  {
   "cell_type": "markdown",
   "metadata": {},
   "source": [
    "Приведем к типу datatime колонки reg_date, message_date, session_date, call_date"
   ]
  },
  {
   "cell_type": "code",
   "execution_count": 13,
   "metadata": {},
   "outputs": [],
   "source": [
    "def to_dt(df,col):\n",
    "    df[col] = pd.to_datetime(df[col])\n",
    "\n",
    "for df, col in [(df_users,   \"reg_date\"),\n",
    "                (df_messages,       \"message_date\"),\n",
    "                (df_internet,         \"session_date\"),\n",
    "                (df_calls,         \"call_date\")]:\n",
    "    to_dt(df,col)"
   ]
  },
  {
   "cell_type": "code",
   "execution_count": 14,
   "metadata": {},
   "outputs": [
    {
     "name": "stdout",
     "output_type": "stream",
     "text": [
      "<class 'pandas.core.frame.DataFrame'>\n",
      "RangeIndex: 149396 entries, 0 to 149395\n",
      "Data columns (total 5 columns):\n",
      " #   Column        Non-Null Count   Dtype         \n",
      "---  ------        --------------   -----         \n",
      " 0   Unnamed: 0    149396 non-null  int64         \n",
      " 1   id            149396 non-null  object        \n",
      " 2   mb_used       149396 non-null  float64       \n",
      " 3   session_date  149396 non-null  datetime64[ns]\n",
      " 4   user_id       149396 non-null  int64         \n",
      "dtypes: datetime64[ns](1), float64(1), int64(2), object(1)\n",
      "memory usage: 5.7+ MB\n"
     ]
    }
   ],
   "source": [
    "df_internet.info()"
   ]
  },
  {
   "cell_type": "code",
   "execution_count": 15,
   "metadata": {},
   "outputs": [
    {
     "name": "stdout",
     "output_type": "stream",
     "text": [
      "<class 'pandas.core.frame.DataFrame'>\n",
      "RangeIndex: 202607 entries, 0 to 202606\n",
      "Data columns (total 4 columns):\n",
      " #   Column     Non-Null Count   Dtype         \n",
      "---  ------     --------------   -----         \n",
      " 0   id         202607 non-null  object        \n",
      " 1   call_date  202607 non-null  datetime64[ns]\n",
      " 2   duration   202607 non-null  float64       \n",
      " 3   user_id    202607 non-null  int64         \n",
      "dtypes: datetime64[ns](1), float64(1), int64(1), object(1)\n",
      "memory usage: 6.2+ MB\n"
     ]
    }
   ],
   "source": [
    "df_calls.info()"
   ]
  },
  {
   "cell_type": "code",
   "execution_count": 16,
   "metadata": {},
   "outputs": [
    {
     "name": "stdout",
     "output_type": "stream",
     "text": [
      "<class 'pandas.core.frame.DataFrame'>\n",
      "RangeIndex: 123036 entries, 0 to 123035\n",
      "Data columns (total 3 columns):\n",
      " #   Column        Non-Null Count   Dtype         \n",
      "---  ------        --------------   -----         \n",
      " 0   id            123036 non-null  object        \n",
      " 1   message_date  123036 non-null  datetime64[ns]\n",
      " 2   user_id       123036 non-null  int64         \n",
      "dtypes: datetime64[ns](1), int64(1), object(1)\n",
      "memory usage: 2.8+ MB\n"
     ]
    }
   ],
   "source": [
    "df_messages.info()"
   ]
  },
  {
   "cell_type": "code",
   "execution_count": 17,
   "metadata": {},
   "outputs": [
    {
     "name": "stdout",
     "output_type": "stream",
     "text": [
      "<class 'pandas.core.frame.DataFrame'>\n",
      "RangeIndex: 500 entries, 0 to 499\n",
      "Data columns (total 8 columns):\n",
      " #   Column      Non-Null Count  Dtype         \n",
      "---  ------      --------------  -----         \n",
      " 0   user_id     500 non-null    int64         \n",
      " 1   age         500 non-null    int64         \n",
      " 2   churn_date  38 non-null     object        \n",
      " 3   city        500 non-null    object        \n",
      " 4   first_name  500 non-null    object        \n",
      " 5   last_name   500 non-null    object        \n",
      " 6   reg_date    500 non-null    datetime64[ns]\n",
      " 7   tariff      500 non-null    object        \n",
      "dtypes: datetime64[ns](1), int64(2), object(5)\n",
      "memory usage: 31.4+ KB\n"
     ]
    }
   ],
   "source": [
    "df_users.info()"
   ]
  },
  {
   "cell_type": "markdown",
   "metadata": {},
   "source": [
    "### Найдите и исправьте ошибки в данных, если они есть"
   ]
  },
  {
   "cell_type": "code",
   "execution_count": 18,
   "metadata": {},
   "outputs": [
    {
     "data": {
      "text/plain": [
       "Unnamed: 0      0\n",
       "id              0\n",
       "mb_used         0\n",
       "session_date    0\n",
       "user_id         0\n",
       "dtype: int64"
      ]
     },
     "execution_count": 18,
     "metadata": {},
     "output_type": "execute_result"
    }
   ],
   "source": [
    "df_internet.isnull().sum()"
   ]
  },
  {
   "cell_type": "markdown",
   "metadata": {},
   "source": [
    "В столбце Unnamed: 0, есть опечатка в виде \":0\", уберем ее."
   ]
  },
  {
   "cell_type": "code",
   "execution_count": 19,
   "metadata": {},
   "outputs": [
    {
     "data": {
      "text/html": [
       "<div>\n",
       "<style scoped>\n",
       "    .dataframe tbody tr th:only-of-type {\n",
       "        vertical-align: middle;\n",
       "    }\n",
       "\n",
       "    .dataframe tbody tr th {\n",
       "        vertical-align: top;\n",
       "    }\n",
       "\n",
       "    .dataframe thead th {\n",
       "        text-align: right;\n",
       "    }\n",
       "</style>\n",
       "<table border=\"1\" class=\"dataframe\">\n",
       "  <thead>\n",
       "    <tr style=\"text-align: right;\">\n",
       "      <th></th>\n",
       "      <th>Unnamed</th>\n",
       "      <th>id</th>\n",
       "      <th>mb_used</th>\n",
       "      <th>session_date</th>\n",
       "      <th>user_id</th>\n",
       "    </tr>\n",
       "  </thead>\n",
       "  <tbody>\n",
       "    <tr>\n",
       "      <th>0</th>\n",
       "      <td>0</td>\n",
       "      <td>1000_0</td>\n",
       "      <td>112.95</td>\n",
       "      <td>2018-11-25</td>\n",
       "      <td>1000</td>\n",
       "    </tr>\n",
       "    <tr>\n",
       "      <th>1</th>\n",
       "      <td>1</td>\n",
       "      <td>1000_1</td>\n",
       "      <td>1052.81</td>\n",
       "      <td>2018-09-07</td>\n",
       "      <td>1000</td>\n",
       "    </tr>\n",
       "    <tr>\n",
       "      <th>2</th>\n",
       "      <td>2</td>\n",
       "      <td>1000_2</td>\n",
       "      <td>1197.26</td>\n",
       "      <td>2018-06-25</td>\n",
       "      <td>1000</td>\n",
       "    </tr>\n",
       "    <tr>\n",
       "      <th>3</th>\n",
       "      <td>3</td>\n",
       "      <td>1000_3</td>\n",
       "      <td>550.27</td>\n",
       "      <td>2018-08-22</td>\n",
       "      <td>1000</td>\n",
       "    </tr>\n",
       "    <tr>\n",
       "      <th>4</th>\n",
       "      <td>4</td>\n",
       "      <td>1000_4</td>\n",
       "      <td>302.56</td>\n",
       "      <td>2018-09-24</td>\n",
       "      <td>1000</td>\n",
       "    </tr>\n",
       "  </tbody>\n",
       "</table>\n",
       "</div>"
      ],
      "text/plain": [
       "   Unnamed      id  mb_used session_date  user_id\n",
       "0        0  1000_0   112.95   2018-11-25     1000\n",
       "1        1  1000_1  1052.81   2018-09-07     1000\n",
       "2        2  1000_2  1197.26   2018-06-25     1000\n",
       "3        3  1000_3   550.27   2018-08-22     1000\n",
       "4        4  1000_4   302.56   2018-09-24     1000"
      ]
     },
     "execution_count": 19,
     "metadata": {},
     "output_type": "execute_result"
    }
   ],
   "source": [
    "df_internet = df_internet.rename(columns={'Unnamed: 0':'Unnamed'})\n",
    "df_internet.head()"
   ]
  },
  {
   "cell_type": "code",
   "execution_count": 20,
   "metadata": {},
   "outputs": [
    {
     "data": {
      "text/plain": [
       "id           0\n",
       "call_date    0\n",
       "duration     0\n",
       "user_id      0\n",
       "dtype: int64"
      ]
     },
     "execution_count": 20,
     "metadata": {},
     "output_type": "execute_result"
    }
   ],
   "source": [
    "df_calls.isnull().sum()"
   ]
  },
  {
   "cell_type": "code",
   "execution_count": 21,
   "metadata": {},
   "outputs": [
    {
     "data": {
      "text/plain": [
       "id              0\n",
       "message_date    0\n",
       "user_id         0\n",
       "dtype: int64"
      ]
     },
     "execution_count": 21,
     "metadata": {},
     "output_type": "execute_result"
    }
   ],
   "source": [
    "df_messages.isnull().sum()"
   ]
  },
  {
   "cell_type": "code",
   "execution_count": 22,
   "metadata": {},
   "outputs": [
    {
     "data": {
      "text/plain": [
       "user_id         0\n",
       "age             0\n",
       "churn_date    462\n",
       "city            0\n",
       "first_name      0\n",
       "last_name       0\n",
       "reg_date        0\n",
       "tariff          0\n",
       "dtype: int64"
      ]
     },
     "execution_count": 22,
     "metadata": {},
     "output_type": "execute_result"
    }
   ],
   "source": [
    "df_users.isnull().sum()"
   ]
  },
  {
   "cell_type": "markdown",
   "metadata": {},
   "source": [
    "Пропуски в churn_date обоснованы тем, что еще не наступил момент прекращения тарифа. Пропуск означает что пользователь еще использует данный тариф."
   ]
  },
  {
   "cell_type": "markdown",
   "metadata": {},
   "source": [
    "### Посчитайте для каждого пользователя:"
   ]
  },
  {
   "cell_type": "markdown",
   "metadata": {},
   "source": [
    "#### количество сделанных звонков и израсходованных минут разговора по месяцам"
   ]
  },
  {
   "cell_type": "code",
   "execution_count": 23,
   "metadata": {},
   "outputs": [],
   "source": [
    "df_calls['call_date_m'] = df_calls['call_date'].dt.month\n",
    "df_calls['duration'] = df_calls['duration'].apply(np.ceil)"
   ]
  },
  {
   "cell_type": "code",
   "execution_count": 24,
   "metadata": {},
   "outputs": [
    {
     "data": {
      "text/html": [
       "<div>\n",
       "<style scoped>\n",
       "    .dataframe tbody tr th:only-of-type {\n",
       "        vertical-align: middle;\n",
       "    }\n",
       "\n",
       "    .dataframe tbody tr th {\n",
       "        vertical-align: top;\n",
       "    }\n",
       "\n",
       "    .dataframe thead th {\n",
       "        text-align: right;\n",
       "    }\n",
       "</style>\n",
       "<table border=\"1\" class=\"dataframe\">\n",
       "  <thead>\n",
       "    <tr style=\"text-align: right;\">\n",
       "      <th></th>\n",
       "      <th>call_date_m</th>\n",
       "      <th>user_id</th>\n",
       "      <th>id</th>\n",
       "      <th>duration</th>\n",
       "    </tr>\n",
       "  </thead>\n",
       "  <tbody>\n",
       "    <tr>\n",
       "      <th>0</th>\n",
       "      <td>1</td>\n",
       "      <td>1005</td>\n",
       "      <td>15</td>\n",
       "      <td>95.0</td>\n",
       "    </tr>\n",
       "    <tr>\n",
       "      <th>1</th>\n",
       "      <td>1</td>\n",
       "      <td>1032</td>\n",
       "      <td>61</td>\n",
       "      <td>380.0</td>\n",
       "    </tr>\n",
       "    <tr>\n",
       "      <th>2</th>\n",
       "      <td>1</td>\n",
       "      <td>1045</td>\n",
       "      <td>1</td>\n",
       "      <td>9.0</td>\n",
       "    </tr>\n",
       "    <tr>\n",
       "      <th>3</th>\n",
       "      <td>1</td>\n",
       "      <td>1055</td>\n",
       "      <td>64</td>\n",
       "      <td>551.0</td>\n",
       "    </tr>\n",
       "    <tr>\n",
       "      <th>4</th>\n",
       "      <td>1</td>\n",
       "      <td>1071</td>\n",
       "      <td>24</td>\n",
       "      <td>194.0</td>\n",
       "    </tr>\n",
       "    <tr>\n",
       "      <th>...</th>\n",
       "      <td>...</td>\n",
       "      <td>...</td>\n",
       "      <td>...</td>\n",
       "      <td>...</td>\n",
       "    </tr>\n",
       "    <tr>\n",
       "      <th>3169</th>\n",
       "      <td>12</td>\n",
       "      <td>1494</td>\n",
       "      <td>62</td>\n",
       "      <td>418.0</td>\n",
       "    </tr>\n",
       "    <tr>\n",
       "      <th>3170</th>\n",
       "      <td>12</td>\n",
       "      <td>1495</td>\n",
       "      <td>155</td>\n",
       "      <td>1031.0</td>\n",
       "    </tr>\n",
       "    <tr>\n",
       "      <th>3171</th>\n",
       "      <td>12</td>\n",
       "      <td>1496</td>\n",
       "      <td>80</td>\n",
       "      <td>518.0</td>\n",
       "    </tr>\n",
       "    <tr>\n",
       "      <th>3172</th>\n",
       "      <td>12</td>\n",
       "      <td>1497</td>\n",
       "      <td>71</td>\n",
       "      <td>545.0</td>\n",
       "    </tr>\n",
       "    <tr>\n",
       "      <th>3173</th>\n",
       "      <td>12</td>\n",
       "      <td>1499</td>\n",
       "      <td>69</td>\n",
       "      <td>492.0</td>\n",
       "    </tr>\n",
       "  </tbody>\n",
       "</table>\n",
       "<p>3174 rows × 4 columns</p>\n",
       "</div>"
      ],
      "text/plain": [
       "      call_date_m  user_id   id  duration\n",
       "0               1     1005   15      95.0\n",
       "1               1     1032   61     380.0\n",
       "2               1     1045    1       9.0\n",
       "3               1     1055   64     551.0\n",
       "4               1     1071   24     194.0\n",
       "...           ...      ...  ...       ...\n",
       "3169           12     1494   62     418.0\n",
       "3170           12     1495  155    1031.0\n",
       "3171           12     1496   80     518.0\n",
       "3172           12     1497   71     545.0\n",
       "3173           12     1499   69     492.0\n",
       "\n",
       "[3174 rows x 4 columns]"
      ]
     },
     "execution_count": 24,
     "metadata": {},
     "output_type": "execute_result"
    }
   ],
   "source": [
    "df_calls_gr_m = df_calls.groupby(['call_date_m', 'user_id']).agg({'id':'count', 'duration':'sum'}).reset_index()\n",
    "df_calls_gr_m"
   ]
  },
  {
   "cell_type": "code",
   "execution_count": 25,
   "metadata": {},
   "outputs": [
    {
     "data": {
      "text/html": [
       "<div>\n",
       "<style scoped>\n",
       "    .dataframe tbody tr th:only-of-type {\n",
       "        vertical-align: middle;\n",
       "    }\n",
       "\n",
       "    .dataframe tbody tr th {\n",
       "        vertical-align: top;\n",
       "    }\n",
       "\n",
       "    .dataframe thead th {\n",
       "        text-align: right;\n",
       "    }\n",
       "</style>\n",
       "<table border=\"1\" class=\"dataframe\">\n",
       "  <thead>\n",
       "    <tr style=\"text-align: right;\">\n",
       "      <th></th>\n",
       "      <th>call_date_m</th>\n",
       "      <th>user_id</th>\n",
       "      <th>id</th>\n",
       "      <th>duration</th>\n",
       "    </tr>\n",
       "  </thead>\n",
       "  <tbody>\n",
       "    <tr>\n",
       "      <th>0</th>\n",
       "      <td>1</td>\n",
       "      <td>1005</td>\n",
       "      <td>15</td>\n",
       "      <td>95.0</td>\n",
       "    </tr>\n",
       "    <tr>\n",
       "      <th>1</th>\n",
       "      <td>1</td>\n",
       "      <td>1032</td>\n",
       "      <td>61</td>\n",
       "      <td>380.0</td>\n",
       "    </tr>\n",
       "    <tr>\n",
       "      <th>2</th>\n",
       "      <td>1</td>\n",
       "      <td>1045</td>\n",
       "      <td>1</td>\n",
       "      <td>9.0</td>\n",
       "    </tr>\n",
       "    <tr>\n",
       "      <th>3</th>\n",
       "      <td>1</td>\n",
       "      <td>1055</td>\n",
       "      <td>64</td>\n",
       "      <td>551.0</td>\n",
       "    </tr>\n",
       "    <tr>\n",
       "      <th>4</th>\n",
       "      <td>1</td>\n",
       "      <td>1071</td>\n",
       "      <td>24</td>\n",
       "      <td>194.0</td>\n",
       "    </tr>\n",
       "    <tr>\n",
       "      <th>5</th>\n",
       "      <td>1</td>\n",
       "      <td>1113</td>\n",
       "      <td>18</td>\n",
       "      <td>110.0</td>\n",
       "    </tr>\n",
       "    <tr>\n",
       "      <th>6</th>\n",
       "      <td>1</td>\n",
       "      <td>1120</td>\n",
       "      <td>5</td>\n",
       "      <td>55.0</td>\n",
       "    </tr>\n",
       "    <tr>\n",
       "      <th>7</th>\n",
       "      <td>1</td>\n",
       "      <td>1126</td>\n",
       "      <td>35</td>\n",
       "      <td>272.0</td>\n",
       "    </tr>\n",
       "    <tr>\n",
       "      <th>8</th>\n",
       "      <td>1</td>\n",
       "      <td>1134</td>\n",
       "      <td>42</td>\n",
       "      <td>332.0</td>\n",
       "    </tr>\n",
       "    <tr>\n",
       "      <th>9</th>\n",
       "      <td>1</td>\n",
       "      <td>1135</td>\n",
       "      <td>9</td>\n",
       "      <td>90.0</td>\n",
       "    </tr>\n",
       "    <tr>\n",
       "      <th>10</th>\n",
       "      <td>1</td>\n",
       "      <td>1155</td>\n",
       "      <td>44</td>\n",
       "      <td>337.0</td>\n",
       "    </tr>\n",
       "    <tr>\n",
       "      <th>11</th>\n",
       "      <td>1</td>\n",
       "      <td>1168</td>\n",
       "      <td>38</td>\n",
       "      <td>277.0</td>\n",
       "    </tr>\n",
       "    <tr>\n",
       "      <th>12</th>\n",
       "      <td>1</td>\n",
       "      <td>1176</td>\n",
       "      <td>25</td>\n",
       "      <td>187.0</td>\n",
       "    </tr>\n",
       "    <tr>\n",
       "      <th>13</th>\n",
       "      <td>1</td>\n",
       "      <td>1189</td>\n",
       "      <td>7</td>\n",
       "      <td>51.0</td>\n",
       "    </tr>\n",
       "    <tr>\n",
       "      <th>14</th>\n",
       "      <td>1</td>\n",
       "      <td>1193</td>\n",
       "      <td>53</td>\n",
       "      <td>388.0</td>\n",
       "    </tr>\n",
       "    <tr>\n",
       "      <th>15</th>\n",
       "      <td>1</td>\n",
       "      <td>1204</td>\n",
       "      <td>50</td>\n",
       "      <td>305.0</td>\n",
       "    </tr>\n",
       "    <tr>\n",
       "      <th>16</th>\n",
       "      <td>1</td>\n",
       "      <td>1219</td>\n",
       "      <td>18</td>\n",
       "      <td>146.0</td>\n",
       "    </tr>\n",
       "    <tr>\n",
       "      <th>17</th>\n",
       "      <td>1</td>\n",
       "      <td>1227</td>\n",
       "      <td>67</td>\n",
       "      <td>471.0</td>\n",
       "    </tr>\n",
       "    <tr>\n",
       "      <th>18</th>\n",
       "      <td>1</td>\n",
       "      <td>1238</td>\n",
       "      <td>8</td>\n",
       "      <td>55.0</td>\n",
       "    </tr>\n",
       "    <tr>\n",
       "      <th>19</th>\n",
       "      <td>1</td>\n",
       "      <td>1254</td>\n",
       "      <td>59</td>\n",
       "      <td>466.0</td>\n",
       "    </tr>\n",
       "  </tbody>\n",
       "</table>\n",
       "</div>"
      ],
      "text/plain": [
       "    call_date_m  user_id  id  duration\n",
       "0             1     1005  15      95.0\n",
       "1             1     1032  61     380.0\n",
       "2             1     1045   1       9.0\n",
       "3             1     1055  64     551.0\n",
       "4             1     1071  24     194.0\n",
       "5             1     1113  18     110.0\n",
       "6             1     1120   5      55.0\n",
       "7             1     1126  35     272.0\n",
       "8             1     1134  42     332.0\n",
       "9             1     1135   9      90.0\n",
       "10            1     1155  44     337.0\n",
       "11            1     1168  38     277.0\n",
       "12            1     1176  25     187.0\n",
       "13            1     1189   7      51.0\n",
       "14            1     1193  53     388.0\n",
       "15            1     1204  50     305.0\n",
       "16            1     1219  18     146.0\n",
       "17            1     1227  67     471.0\n",
       "18            1     1238   8      55.0\n",
       "19            1     1254  59     466.0"
      ]
     },
     "execution_count": 25,
     "metadata": {},
     "output_type": "execute_result"
    }
   ],
   "source": [
    "df_calls_gr_m.head(20)"
   ]
  },
  {
   "cell_type": "markdown",
   "metadata": {},
   "source": [
    "#### количество отправленных сообщений по месяцам"
   ]
  },
  {
   "cell_type": "code",
   "execution_count": 26,
   "metadata": {},
   "outputs": [],
   "source": [
    "df_messages['message_date_m'] = df_messages['message_date'].dt.month"
   ]
  },
  {
   "cell_type": "code",
   "execution_count": 27,
   "metadata": {},
   "outputs": [
    {
     "data": {
      "text/html": [
       "<div>\n",
       "<style scoped>\n",
       "    .dataframe tbody tr th:only-of-type {\n",
       "        vertical-align: middle;\n",
       "    }\n",
       "\n",
       "    .dataframe tbody tr th {\n",
       "        vertical-align: top;\n",
       "    }\n",
       "\n",
       "    .dataframe thead th {\n",
       "        text-align: right;\n",
       "    }\n",
       "</style>\n",
       "<table border=\"1\" class=\"dataframe\">\n",
       "  <thead>\n",
       "    <tr style=\"text-align: right;\">\n",
       "      <th></th>\n",
       "      <th>message_date_m</th>\n",
       "      <th>user_id</th>\n",
       "      <th>id</th>\n",
       "    </tr>\n",
       "  </thead>\n",
       "  <tbody>\n",
       "    <tr>\n",
       "      <th>0</th>\n",
       "      <td>1</td>\n",
       "      <td>1005</td>\n",
       "      <td>7</td>\n",
       "    </tr>\n",
       "    <tr>\n",
       "      <th>1</th>\n",
       "      <td>1</td>\n",
       "      <td>1032</td>\n",
       "      <td>38</td>\n",
       "    </tr>\n",
       "    <tr>\n",
       "      <th>2</th>\n",
       "      <td>1</td>\n",
       "      <td>1045</td>\n",
       "      <td>5</td>\n",
       "    </tr>\n",
       "    <tr>\n",
       "      <th>3</th>\n",
       "      <td>1</td>\n",
       "      <td>1055</td>\n",
       "      <td>30</td>\n",
       "    </tr>\n",
       "    <tr>\n",
       "      <th>4</th>\n",
       "      <td>1</td>\n",
       "      <td>1071</td>\n",
       "      <td>16</td>\n",
       "    </tr>\n",
       "    <tr>\n",
       "      <th>...</th>\n",
       "      <td>...</td>\n",
       "      <td>...</td>\n",
       "      <td>...</td>\n",
       "    </tr>\n",
       "    <tr>\n",
       "      <th>2712</th>\n",
       "      <td>12</td>\n",
       "      <td>1493</td>\n",
       "      <td>78</td>\n",
       "    </tr>\n",
       "    <tr>\n",
       "      <th>2713</th>\n",
       "      <td>12</td>\n",
       "      <td>1495</td>\n",
       "      <td>84</td>\n",
       "    </tr>\n",
       "    <tr>\n",
       "      <th>2714</th>\n",
       "      <td>12</td>\n",
       "      <td>1496</td>\n",
       "      <td>51</td>\n",
       "    </tr>\n",
       "    <tr>\n",
       "      <th>2715</th>\n",
       "      <td>12</td>\n",
       "      <td>1497</td>\n",
       "      <td>17</td>\n",
       "    </tr>\n",
       "    <tr>\n",
       "      <th>2716</th>\n",
       "      <td>12</td>\n",
       "      <td>1499</td>\n",
       "      <td>66</td>\n",
       "    </tr>\n",
       "  </tbody>\n",
       "</table>\n",
       "<p>2717 rows × 3 columns</p>\n",
       "</div>"
      ],
      "text/plain": [
       "      message_date_m  user_id  id\n",
       "0                  1     1005   7\n",
       "1                  1     1032  38\n",
       "2                  1     1045   5\n",
       "3                  1     1055  30\n",
       "4                  1     1071  16\n",
       "...              ...      ...  ..\n",
       "2712              12     1493  78\n",
       "2713              12     1495  84\n",
       "2714              12     1496  51\n",
       "2715              12     1497  17\n",
       "2716              12     1499  66\n",
       "\n",
       "[2717 rows x 3 columns]"
      ]
     },
     "execution_count": 27,
     "metadata": {},
     "output_type": "execute_result"
    }
   ],
   "source": [
    "df_messages_gr_m = df_messages.groupby(['message_date_m', 'user_id']).agg({'id':'count'}).reset_index()\n",
    "df_messages_gr_m"
   ]
  },
  {
   "cell_type": "markdown",
   "metadata": {},
   "source": [
    "#### объем израсходованного интернет-трафика по месяцам"
   ]
  },
  {
   "cell_type": "code",
   "execution_count": 28,
   "metadata": {},
   "outputs": [],
   "source": [
    "df_internet['session_date_m'] = df_internet['session_date'].dt.month"
   ]
  },
  {
   "cell_type": "code",
   "execution_count": 29,
   "metadata": {},
   "outputs": [
    {
     "data": {
      "text/html": [
       "<div>\n",
       "<style scoped>\n",
       "    .dataframe tbody tr th:only-of-type {\n",
       "        vertical-align: middle;\n",
       "    }\n",
       "\n",
       "    .dataframe tbody tr th {\n",
       "        vertical-align: top;\n",
       "    }\n",
       "\n",
       "    .dataframe thead th {\n",
       "        text-align: right;\n",
       "    }\n",
       "</style>\n",
       "<table border=\"1\" class=\"dataframe\">\n",
       "  <thead>\n",
       "    <tr style=\"text-align: right;\">\n",
       "      <th></th>\n",
       "      <th>session_date_m</th>\n",
       "      <th>user_id</th>\n",
       "      <th>mb_used</th>\n",
       "    </tr>\n",
       "  </thead>\n",
       "  <tbody>\n",
       "    <tr>\n",
       "      <th>0</th>\n",
       "      <td>1</td>\n",
       "      <td>1005</td>\n",
       "      <td>2727.97</td>\n",
       "    </tr>\n",
       "    <tr>\n",
       "      <th>1</th>\n",
       "      <td>1</td>\n",
       "      <td>1032</td>\n",
       "      <td>24127.69</td>\n",
       "    </tr>\n",
       "    <tr>\n",
       "      <th>2</th>\n",
       "      <td>1</td>\n",
       "      <td>1045</td>\n",
       "      <td>2346.71</td>\n",
       "    </tr>\n",
       "    <tr>\n",
       "      <th>3</th>\n",
       "      <td>1</td>\n",
       "      <td>1055</td>\n",
       "      <td>17090.88</td>\n",
       "    </tr>\n",
       "    <tr>\n",
       "      <th>4</th>\n",
       "      <td>1</td>\n",
       "      <td>1071</td>\n",
       "      <td>15604.34</td>\n",
       "    </tr>\n",
       "    <tr>\n",
       "      <th>...</th>\n",
       "      <td>...</td>\n",
       "      <td>...</td>\n",
       "      <td>...</td>\n",
       "    </tr>\n",
       "    <tr>\n",
       "      <th>3198</th>\n",
       "      <td>12</td>\n",
       "      <td>1494</td>\n",
       "      <td>17621.21</td>\n",
       "    </tr>\n",
       "    <tr>\n",
       "      <th>3199</th>\n",
       "      <td>12</td>\n",
       "      <td>1495</td>\n",
       "      <td>23426.76</td>\n",
       "    </tr>\n",
       "    <tr>\n",
       "      <th>3200</th>\n",
       "      <td>12</td>\n",
       "      <td>1496</td>\n",
       "      <td>20736.15</td>\n",
       "    </tr>\n",
       "    <tr>\n",
       "      <th>3201</th>\n",
       "      <td>12</td>\n",
       "      <td>1497</td>\n",
       "      <td>19918.60</td>\n",
       "    </tr>\n",
       "    <tr>\n",
       "      <th>3202</th>\n",
       "      <td>12</td>\n",
       "      <td>1499</td>\n",
       "      <td>13055.58</td>\n",
       "    </tr>\n",
       "  </tbody>\n",
       "</table>\n",
       "<p>3203 rows × 3 columns</p>\n",
       "</div>"
      ],
      "text/plain": [
       "      session_date_m  user_id   mb_used\n",
       "0                  1     1005   2727.97\n",
       "1                  1     1032  24127.69\n",
       "2                  1     1045   2346.71\n",
       "3                  1     1055  17090.88\n",
       "4                  1     1071  15604.34\n",
       "...              ...      ...       ...\n",
       "3198              12     1494  17621.21\n",
       "3199              12     1495  23426.76\n",
       "3200              12     1496  20736.15\n",
       "3201              12     1497  19918.60\n",
       "3202              12     1499  13055.58\n",
       "\n",
       "[3203 rows x 3 columns]"
      ]
     },
     "execution_count": 29,
     "metadata": {},
     "output_type": "execute_result"
    }
   ],
   "source": [
    "df_internet_gr_m = df_internet.groupby(['session_date_m', 'user_id']).agg({'mb_used':'sum'}).reset_index()\n",
    "df_internet_gr_m"
   ]
  },
  {
   "cell_type": "code",
   "execution_count": 30,
   "metadata": {},
   "outputs": [
    {
     "data": {
      "text/html": [
       "<div>\n",
       "<style scoped>\n",
       "    .dataframe tbody tr th:only-of-type {\n",
       "        vertical-align: middle;\n",
       "    }\n",
       "\n",
       "    .dataframe tbody tr th {\n",
       "        vertical-align: top;\n",
       "    }\n",
       "\n",
       "    .dataframe thead th {\n",
       "        text-align: right;\n",
       "    }\n",
       "</style>\n",
       "<table border=\"1\" class=\"dataframe\">\n",
       "  <thead>\n",
       "    <tr style=\"text-align: right;\">\n",
       "      <th></th>\n",
       "      <th>session_date_m</th>\n",
       "      <th>user_id</th>\n",
       "      <th>mb_used</th>\n",
       "      <th>gb_used</th>\n",
       "    </tr>\n",
       "  </thead>\n",
       "  <tbody>\n",
       "    <tr>\n",
       "      <th>0</th>\n",
       "      <td>1</td>\n",
       "      <td>1005</td>\n",
       "      <td>2727.97</td>\n",
       "      <td>3.0</td>\n",
       "    </tr>\n",
       "    <tr>\n",
       "      <th>1</th>\n",
       "      <td>1</td>\n",
       "      <td>1032</td>\n",
       "      <td>24127.69</td>\n",
       "      <td>24.0</td>\n",
       "    </tr>\n",
       "    <tr>\n",
       "      <th>2</th>\n",
       "      <td>1</td>\n",
       "      <td>1045</td>\n",
       "      <td>2346.71</td>\n",
       "      <td>3.0</td>\n",
       "    </tr>\n",
       "    <tr>\n",
       "      <th>3</th>\n",
       "      <td>1</td>\n",
       "      <td>1055</td>\n",
       "      <td>17090.88</td>\n",
       "      <td>17.0</td>\n",
       "    </tr>\n",
       "    <tr>\n",
       "      <th>4</th>\n",
       "      <td>1</td>\n",
       "      <td>1071</td>\n",
       "      <td>15604.34</td>\n",
       "      <td>16.0</td>\n",
       "    </tr>\n",
       "  </tbody>\n",
       "</table>\n",
       "</div>"
      ],
      "text/plain": [
       "   session_date_m  user_id   mb_used  gb_used\n",
       "0               1     1005   2727.97      3.0\n",
       "1               1     1032  24127.69     24.0\n",
       "2               1     1045   2346.71      3.0\n",
       "3               1     1055  17090.88     17.0\n",
       "4               1     1071  15604.34     16.0"
      ]
     },
     "execution_count": 30,
     "metadata": {},
     "output_type": "execute_result"
    }
   ],
   "source": [
    "df_internet_gr_m['gb_used'] = df_internet_gr_m['mb_used'] / 1024\n",
    "df_internet_gr_m['gb_used'] = df_internet_gr_m['gb_used'].apply(np.ceil)\n",
    "df_internet_gr_m.head()"
   ]
  },
  {
   "cell_type": "markdown",
   "metadata": {},
   "source": [
    "#### помесячную выручку с каждого пользователя (вычтите бесплатный лимит из суммарного количества звонков, сообщений и интернет-трафика; остаток умножьте на значение из тарифного плана; прибавьте абонентскую плату, соответствующую тарифному плану)"
   ]
  },
  {
   "cell_type": "markdown",
   "metadata": {},
   "source": [
    "Сгруппируем данные по пользователю и рассчитаем кол-во и продолжительность звонков звонков"
   ]
  },
  {
   "cell_type": "code",
   "execution_count": 31,
   "metadata": {},
   "outputs": [
    {
     "data": {
      "text/html": [
       "<div>\n",
       "<style scoped>\n",
       "    .dataframe tbody tr th:only-of-type {\n",
       "        vertical-align: middle;\n",
       "    }\n",
       "\n",
       "    .dataframe tbody tr th {\n",
       "        vertical-align: top;\n",
       "    }\n",
       "\n",
       "    .dataframe thead th {\n",
       "        text-align: right;\n",
       "    }\n",
       "</style>\n",
       "<table border=\"1\" class=\"dataframe\">\n",
       "  <thead>\n",
       "    <tr style=\"text-align: right;\">\n",
       "      <th></th>\n",
       "      <th>user_id</th>\n",
       "      <th>id</th>\n",
       "      <th>duration</th>\n",
       "    </tr>\n",
       "  </thead>\n",
       "  <tbody>\n",
       "    <tr>\n",
       "      <th>0</th>\n",
       "      <td>1000</td>\n",
       "      <td>368</td>\n",
       "      <td>2566.0</td>\n",
       "    </tr>\n",
       "    <tr>\n",
       "      <th>1</th>\n",
       "      <td>1001</td>\n",
       "      <td>122</td>\n",
       "      <td>844.0</td>\n",
       "    </tr>\n",
       "    <tr>\n",
       "      <th>2</th>\n",
       "      <td>1002</td>\n",
       "      <td>217</td>\n",
       "      <td>1517.0</td>\n",
       "    </tr>\n",
       "    <tr>\n",
       "      <th>3</th>\n",
       "      <td>1003</td>\n",
       "      <td>520</td>\n",
       "      <td>3822.0</td>\n",
       "    </tr>\n",
       "    <tr>\n",
       "      <th>4</th>\n",
       "      <td>1004</td>\n",
       "      <td>176</td>\n",
       "      <td>987.0</td>\n",
       "    </tr>\n",
       "  </tbody>\n",
       "</table>\n",
       "</div>"
      ],
      "text/plain": [
       "   user_id   id  duration\n",
       "0     1000  368    2566.0\n",
       "1     1001  122     844.0\n",
       "2     1002  217    1517.0\n",
       "3     1003  520    3822.0\n",
       "4     1004  176     987.0"
      ]
     },
     "execution_count": 31,
     "metadata": {},
     "output_type": "execute_result"
    }
   ],
   "source": [
    "df_calls_gr = df_calls.groupby('user_id').agg({'id':'count', 'duration':'sum'}).reset_index()\n",
    "df_calls_dr = df_calls_gr.rename(columns={'id':'count_calls'})\n",
    "df_calls_gr.head()"
   ]
  },
  {
   "cell_type": "markdown",
   "metadata": {},
   "source": [
    "Сгруппируем данные по пользователям и рассчитаем кол-во отправленных сообщений"
   ]
  },
  {
   "cell_type": "code",
   "execution_count": 32,
   "metadata": {},
   "outputs": [
    {
     "data": {
      "text/html": [
       "<div>\n",
       "<style scoped>\n",
       "    .dataframe tbody tr th:only-of-type {\n",
       "        vertical-align: middle;\n",
       "    }\n",
       "\n",
       "    .dataframe tbody tr th {\n",
       "        vertical-align: top;\n",
       "    }\n",
       "\n",
       "    .dataframe thead th {\n",
       "        text-align: right;\n",
       "    }\n",
       "</style>\n",
       "<table border=\"1\" class=\"dataframe\">\n",
       "  <thead>\n",
       "    <tr style=\"text-align: right;\">\n",
       "      <th></th>\n",
       "      <th>user_id</th>\n",
       "      <th>count_messages</th>\n",
       "    </tr>\n",
       "  </thead>\n",
       "  <tbody>\n",
       "    <tr>\n",
       "      <th>0</th>\n",
       "      <td>1000</td>\n",
       "      <td>496</td>\n",
       "    </tr>\n",
       "    <tr>\n",
       "      <th>1</th>\n",
       "      <td>1002</td>\n",
       "      <td>70</td>\n",
       "    </tr>\n",
       "    <tr>\n",
       "      <th>2</th>\n",
       "      <td>1003</td>\n",
       "      <td>380</td>\n",
       "    </tr>\n",
       "    <tr>\n",
       "      <th>3</th>\n",
       "      <td>1004</td>\n",
       "      <td>1192</td>\n",
       "    </tr>\n",
       "    <tr>\n",
       "      <th>4</th>\n",
       "      <td>1005</td>\n",
       "      <td>552</td>\n",
       "    </tr>\n",
       "  </tbody>\n",
       "</table>\n",
       "</div>"
      ],
      "text/plain": [
       "   user_id  count_messages\n",
       "0     1000             496\n",
       "1     1002              70\n",
       "2     1003             380\n",
       "3     1004            1192\n",
       "4     1005             552"
      ]
     },
     "execution_count": 32,
     "metadata": {},
     "output_type": "execute_result"
    }
   ],
   "source": [
    "df_messages_gr = df_messages.groupby('user_id').agg({'id':'count'}).reset_index()\n",
    "df_messages_gr = df_messages_gr.rename(columns={'id':'count_messages'})\n",
    "df_messages_gr.head()"
   ]
  },
  {
   "cell_type": "markdown",
   "metadata": {},
   "source": [
    "Сгруппируем данные попользователю и рассчитаем  кол-во интернет сессий и кол-во потраченного трафика"
   ]
  },
  {
   "cell_type": "code",
   "execution_count": 33,
   "metadata": {},
   "outputs": [
    {
     "data": {
      "text/html": [
       "<div>\n",
       "<style scoped>\n",
       "    .dataframe tbody tr th:only-of-type {\n",
       "        vertical-align: middle;\n",
       "    }\n",
       "\n",
       "    .dataframe tbody tr th {\n",
       "        vertical-align: top;\n",
       "    }\n",
       "\n",
       "    .dataframe thead th {\n",
       "        text-align: right;\n",
       "    }\n",
       "</style>\n",
       "<table border=\"1\" class=\"dataframe\">\n",
       "  <thead>\n",
       "    <tr style=\"text-align: right;\">\n",
       "      <th></th>\n",
       "      <th>user_id</th>\n",
       "      <th>count_internet</th>\n",
       "      <th>mb_used</th>\n",
       "      <th>gb_used</th>\n",
       "    </tr>\n",
       "  </thead>\n",
       "  <tbody>\n",
       "    <tr>\n",
       "      <th>0</th>\n",
       "      <td>1000</td>\n",
       "      <td>211</td>\n",
       "      <td>107392.31</td>\n",
       "      <td>105.0</td>\n",
       "    </tr>\n",
       "    <tr>\n",
       "      <th>1</th>\n",
       "      <td>1001</td>\n",
       "      <td>96</td>\n",
       "      <td>32466.00</td>\n",
       "      <td>32.0</td>\n",
       "    </tr>\n",
       "    <tr>\n",
       "      <th>2</th>\n",
       "      <td>1002</td>\n",
       "      <td>369</td>\n",
       "      <td>116036.52</td>\n",
       "      <td>114.0</td>\n",
       "    </tr>\n",
       "    <tr>\n",
       "      <th>3</th>\n",
       "      <td>1003</td>\n",
       "      <td>104</td>\n",
       "      <td>57280.64</td>\n",
       "      <td>56.0</td>\n",
       "    </tr>\n",
       "    <tr>\n",
       "      <th>4</th>\n",
       "      <td>1004</td>\n",
       "      <td>300</td>\n",
       "      <td>149039.48</td>\n",
       "      <td>146.0</td>\n",
       "    </tr>\n",
       "  </tbody>\n",
       "</table>\n",
       "</div>"
      ],
      "text/plain": [
       "   user_id  count_internet    mb_used  gb_used\n",
       "0     1000             211  107392.31    105.0\n",
       "1     1001              96   32466.00     32.0\n",
       "2     1002             369  116036.52    114.0\n",
       "3     1003             104   57280.64     56.0\n",
       "4     1004             300  149039.48    146.0"
      ]
     },
     "execution_count": 33,
     "metadata": {},
     "output_type": "execute_result"
    }
   ],
   "source": [
    "df_internet_gr = df_internet.groupby('user_id').agg({'id':'count', 'mb_used':'sum'}).reset_index()\n",
    "df_internet_gr['gb_used'] = df_internet_gr['mb_used'] / 1024\n",
    "df_internet_gr['gb_used'] = df_internet_gr['gb_used'].apply(np.ceil)\n",
    "df_internet_gr = df_internet_gr.rename(columns={'id':'count_internet'})\n",
    "df_internet_gr.head()"
   ]
  },
  {
   "cell_type": "markdown",
   "metadata": {},
   "source": [
    "Соединим таблицу звонков с таблицей сообщений по id пользователя"
   ]
  },
  {
   "cell_type": "code",
   "execution_count": 34,
   "metadata": {},
   "outputs": [
    {
     "data": {
      "text/html": [
       "<div>\n",
       "<style scoped>\n",
       "    .dataframe tbody tr th:only-of-type {\n",
       "        vertical-align: middle;\n",
       "    }\n",
       "\n",
       "    .dataframe tbody tr th {\n",
       "        vertical-align: top;\n",
       "    }\n",
       "\n",
       "    .dataframe thead th {\n",
       "        text-align: right;\n",
       "    }\n",
       "</style>\n",
       "<table border=\"1\" class=\"dataframe\">\n",
       "  <thead>\n",
       "    <tr style=\"text-align: right;\">\n",
       "      <th></th>\n",
       "      <th>user_id</th>\n",
       "      <th>count_calls</th>\n",
       "      <th>duration</th>\n",
       "      <th>count_messages</th>\n",
       "    </tr>\n",
       "  </thead>\n",
       "  <tbody>\n",
       "    <tr>\n",
       "      <th>0</th>\n",
       "      <td>1000</td>\n",
       "      <td>368.0</td>\n",
       "      <td>2566.0</td>\n",
       "      <td>496.0</td>\n",
       "    </tr>\n",
       "    <tr>\n",
       "      <th>1</th>\n",
       "      <td>1001</td>\n",
       "      <td>122.0</td>\n",
       "      <td>844.0</td>\n",
       "      <td>NaN</td>\n",
       "    </tr>\n",
       "    <tr>\n",
       "      <th>2</th>\n",
       "      <td>1002</td>\n",
       "      <td>217.0</td>\n",
       "      <td>1517.0</td>\n",
       "      <td>70.0</td>\n",
       "    </tr>\n",
       "    <tr>\n",
       "      <th>3</th>\n",
       "      <td>1003</td>\n",
       "      <td>520.0</td>\n",
       "      <td>3822.0</td>\n",
       "      <td>380.0</td>\n",
       "    </tr>\n",
       "    <tr>\n",
       "      <th>4</th>\n",
       "      <td>1004</td>\n",
       "      <td>176.0</td>\n",
       "      <td>987.0</td>\n",
       "      <td>1192.0</td>\n",
       "    </tr>\n",
       "  </tbody>\n",
       "</table>\n",
       "</div>"
      ],
      "text/plain": [
       "   user_id  count_calls  duration  count_messages\n",
       "0     1000        368.0    2566.0           496.0\n",
       "1     1001        122.0     844.0             NaN\n",
       "2     1002        217.0    1517.0            70.0\n",
       "3     1003        520.0    3822.0           380.0\n",
       "4     1004        176.0     987.0          1192.0"
      ]
     },
     "execution_count": 34,
     "metadata": {},
     "output_type": "execute_result"
    }
   ],
   "source": [
    "df_profil_user = df_calls_gr.merge(df_messages_gr, left_on='user_id', right_on='user_id', how='outer')\n",
    "df_profil_user = df_profil_user.rename(columns={'id':'count_calls'})\n",
    "df_profil_user.head()"
   ]
  },
  {
   "cell_type": "markdown",
   "metadata": {},
   "source": [
    "Присоединим таблицу интернет трафика"
   ]
  },
  {
   "cell_type": "code",
   "execution_count": 35,
   "metadata": {},
   "outputs": [
    {
     "data": {
      "text/html": [
       "<div>\n",
       "<style scoped>\n",
       "    .dataframe tbody tr th:only-of-type {\n",
       "        vertical-align: middle;\n",
       "    }\n",
       "\n",
       "    .dataframe tbody tr th {\n",
       "        vertical-align: top;\n",
       "    }\n",
       "\n",
       "    .dataframe thead th {\n",
       "        text-align: right;\n",
       "    }\n",
       "</style>\n",
       "<table border=\"1\" class=\"dataframe\">\n",
       "  <thead>\n",
       "    <tr style=\"text-align: right;\">\n",
       "      <th></th>\n",
       "      <th>user_id</th>\n",
       "      <th>count_calls</th>\n",
       "      <th>duration</th>\n",
       "      <th>count_messages</th>\n",
       "      <th>count_internet</th>\n",
       "      <th>mb_used</th>\n",
       "      <th>gb_used</th>\n",
       "    </tr>\n",
       "  </thead>\n",
       "  <tbody>\n",
       "    <tr>\n",
       "      <th>0</th>\n",
       "      <td>1000</td>\n",
       "      <td>368.0</td>\n",
       "      <td>2566.0</td>\n",
       "      <td>496.0</td>\n",
       "      <td>211.0</td>\n",
       "      <td>107392.31</td>\n",
       "      <td>105.0</td>\n",
       "    </tr>\n",
       "    <tr>\n",
       "      <th>1</th>\n",
       "      <td>1001</td>\n",
       "      <td>122.0</td>\n",
       "      <td>844.0</td>\n",
       "      <td>NaN</td>\n",
       "      <td>96.0</td>\n",
       "      <td>32466.00</td>\n",
       "      <td>32.0</td>\n",
       "    </tr>\n",
       "    <tr>\n",
       "      <th>2</th>\n",
       "      <td>1002</td>\n",
       "      <td>217.0</td>\n",
       "      <td>1517.0</td>\n",
       "      <td>70.0</td>\n",
       "      <td>369.0</td>\n",
       "      <td>116036.52</td>\n",
       "      <td>114.0</td>\n",
       "    </tr>\n",
       "    <tr>\n",
       "      <th>3</th>\n",
       "      <td>1003</td>\n",
       "      <td>520.0</td>\n",
       "      <td>3822.0</td>\n",
       "      <td>380.0</td>\n",
       "      <td>104.0</td>\n",
       "      <td>57280.64</td>\n",
       "      <td>56.0</td>\n",
       "    </tr>\n",
       "    <tr>\n",
       "      <th>4</th>\n",
       "      <td>1004</td>\n",
       "      <td>176.0</td>\n",
       "      <td>987.0</td>\n",
       "      <td>1192.0</td>\n",
       "      <td>300.0</td>\n",
       "      <td>149039.48</td>\n",
       "      <td>146.0</td>\n",
       "    </tr>\n",
       "  </tbody>\n",
       "</table>\n",
       "</div>"
      ],
      "text/plain": [
       "   user_id  count_calls  duration  count_messages  count_internet    mb_used  \\\n",
       "0     1000        368.0    2566.0           496.0           211.0  107392.31   \n",
       "1     1001        122.0     844.0             NaN            96.0   32466.00   \n",
       "2     1002        217.0    1517.0            70.0           369.0  116036.52   \n",
       "3     1003        520.0    3822.0           380.0           104.0   57280.64   \n",
       "4     1004        176.0     987.0          1192.0           300.0  149039.48   \n",
       "\n",
       "   gb_used  \n",
       "0    105.0  \n",
       "1     32.0  \n",
       "2    114.0  \n",
       "3     56.0  \n",
       "4    146.0  "
      ]
     },
     "execution_count": 35,
     "metadata": {},
     "output_type": "execute_result"
    }
   ],
   "source": [
    "df_profil_user = df_profil_user.merge(df_internet_gr, left_on='user_id', right_on='user_id', how='outer')\n",
    "df_profil_user.head()"
   ]
  },
  {
   "cell_type": "markdown",
   "metadata": {},
   "source": [
    "Добавим столбец с тарифом в итоговую таблицу"
   ]
  },
  {
   "cell_type": "code",
   "execution_count": 36,
   "metadata": {},
   "outputs": [
    {
     "data": {
      "text/html": [
       "<div>\n",
       "<style scoped>\n",
       "    .dataframe tbody tr th:only-of-type {\n",
       "        vertical-align: middle;\n",
       "    }\n",
       "\n",
       "    .dataframe tbody tr th {\n",
       "        vertical-align: top;\n",
       "    }\n",
       "\n",
       "    .dataframe thead th {\n",
       "        text-align: right;\n",
       "    }\n",
       "</style>\n",
       "<table border=\"1\" class=\"dataframe\">\n",
       "  <thead>\n",
       "    <tr style=\"text-align: right;\">\n",
       "      <th></th>\n",
       "      <th>user_id</th>\n",
       "      <th>count_calls</th>\n",
       "      <th>duration</th>\n",
       "      <th>count_messages</th>\n",
       "      <th>count_internet</th>\n",
       "      <th>mb_used</th>\n",
       "      <th>gb_used</th>\n",
       "      <th>city</th>\n",
       "      <th>tariff</th>\n",
       "    </tr>\n",
       "  </thead>\n",
       "  <tbody>\n",
       "    <tr>\n",
       "      <th>0</th>\n",
       "      <td>1000</td>\n",
       "      <td>368.0</td>\n",
       "      <td>2566.0</td>\n",
       "      <td>496.0</td>\n",
       "      <td>211.0</td>\n",
       "      <td>107392.31</td>\n",
       "      <td>105.0</td>\n",
       "      <td>Краснодар</td>\n",
       "      <td>ultra</td>\n",
       "    </tr>\n",
       "    <tr>\n",
       "      <th>1</th>\n",
       "      <td>1001</td>\n",
       "      <td>122.0</td>\n",
       "      <td>844.0</td>\n",
       "      <td>NaN</td>\n",
       "      <td>96.0</td>\n",
       "      <td>32466.00</td>\n",
       "      <td>32.0</td>\n",
       "      <td>Москва</td>\n",
       "      <td>smart</td>\n",
       "    </tr>\n",
       "    <tr>\n",
       "      <th>2</th>\n",
       "      <td>1002</td>\n",
       "      <td>217.0</td>\n",
       "      <td>1517.0</td>\n",
       "      <td>70.0</td>\n",
       "      <td>369.0</td>\n",
       "      <td>116036.52</td>\n",
       "      <td>114.0</td>\n",
       "      <td>Стерлитамак</td>\n",
       "      <td>smart</td>\n",
       "    </tr>\n",
       "    <tr>\n",
       "      <th>3</th>\n",
       "      <td>1003</td>\n",
       "      <td>520.0</td>\n",
       "      <td>3822.0</td>\n",
       "      <td>380.0</td>\n",
       "      <td>104.0</td>\n",
       "      <td>57280.64</td>\n",
       "      <td>56.0</td>\n",
       "      <td>Москва</td>\n",
       "      <td>ultra</td>\n",
       "    </tr>\n",
       "    <tr>\n",
       "      <th>4</th>\n",
       "      <td>1004</td>\n",
       "      <td>176.0</td>\n",
       "      <td>987.0</td>\n",
       "      <td>1192.0</td>\n",
       "      <td>300.0</td>\n",
       "      <td>149039.48</td>\n",
       "      <td>146.0</td>\n",
       "      <td>Новокузнецк</td>\n",
       "      <td>ultra</td>\n",
       "    </tr>\n",
       "  </tbody>\n",
       "</table>\n",
       "</div>"
      ],
      "text/plain": [
       "   user_id  count_calls  duration  count_messages  count_internet    mb_used  \\\n",
       "0     1000        368.0    2566.0           496.0           211.0  107392.31   \n",
       "1     1001        122.0     844.0             NaN            96.0   32466.00   \n",
       "2     1002        217.0    1517.0            70.0           369.0  116036.52   \n",
       "3     1003        520.0    3822.0           380.0           104.0   57280.64   \n",
       "4     1004        176.0     987.0          1192.0           300.0  149039.48   \n",
       "\n",
       "   gb_used         city tariff  \n",
       "0    105.0    Краснодар  ultra  \n",
       "1     32.0       Москва  smart  \n",
       "2    114.0  Стерлитамак  smart  \n",
       "3     56.0       Москва  ultra  \n",
       "4    146.0  Новокузнецк  ultra  "
      ]
     },
     "execution_count": 36,
     "metadata": {},
     "output_type": "execute_result"
    }
   ],
   "source": [
    "df_profil_user = df_profil_user.merge(df_users[['user_id', 'city', 'tariff']], left_on='user_id', right_on='user_id', how='outer')\n",
    "df_profil_user.head()"
   ]
  },
  {
   "cell_type": "markdown",
   "metadata": {},
   "source": [
    "Вычтим входящие в тариф минуты из потраченных. Если минут затрачено меньше, чем в ходит тариф, то заменим значение на 0"
   ]
  },
  {
   "cell_type": "code",
   "execution_count": 37,
   "metadata": {},
   "outputs": [
    {
     "data": {
      "text/html": [
       "<div>\n",
       "<style scoped>\n",
       "    .dataframe tbody tr th:only-of-type {\n",
       "        vertical-align: middle;\n",
       "    }\n",
       "\n",
       "    .dataframe tbody tr th {\n",
       "        vertical-align: top;\n",
       "    }\n",
       "\n",
       "    .dataframe thead th {\n",
       "        text-align: right;\n",
       "    }\n",
       "</style>\n",
       "<table border=\"1\" class=\"dataframe\">\n",
       "  <thead>\n",
       "    <tr style=\"text-align: right;\">\n",
       "      <th></th>\n",
       "      <th>user_id</th>\n",
       "      <th>count_calls</th>\n",
       "      <th>duration</th>\n",
       "      <th>count_messages</th>\n",
       "      <th>count_internet</th>\n",
       "      <th>mb_used</th>\n",
       "      <th>gb_used</th>\n",
       "      <th>city</th>\n",
       "      <th>tariff</th>\n",
       "      <th>duration_clear</th>\n",
       "    </tr>\n",
       "  </thead>\n",
       "  <tbody>\n",
       "    <tr>\n",
       "      <th>0</th>\n",
       "      <td>1000</td>\n",
       "      <td>368.0</td>\n",
       "      <td>2566.0</td>\n",
       "      <td>496.0</td>\n",
       "      <td>211.0</td>\n",
       "      <td>107392.31</td>\n",
       "      <td>105.0</td>\n",
       "      <td>Краснодар</td>\n",
       "      <td>ultra</td>\n",
       "      <td>0.0</td>\n",
       "    </tr>\n",
       "    <tr>\n",
       "      <th>1</th>\n",
       "      <td>1001</td>\n",
       "      <td>122.0</td>\n",
       "      <td>844.0</td>\n",
       "      <td>NaN</td>\n",
       "      <td>96.0</td>\n",
       "      <td>32466.00</td>\n",
       "      <td>32.0</td>\n",
       "      <td>Москва</td>\n",
       "      <td>smart</td>\n",
       "      <td>344.0</td>\n",
       "    </tr>\n",
       "    <tr>\n",
       "      <th>2</th>\n",
       "      <td>1002</td>\n",
       "      <td>217.0</td>\n",
       "      <td>1517.0</td>\n",
       "      <td>70.0</td>\n",
       "      <td>369.0</td>\n",
       "      <td>116036.52</td>\n",
       "      <td>114.0</td>\n",
       "      <td>Стерлитамак</td>\n",
       "      <td>smart</td>\n",
       "      <td>1017.0</td>\n",
       "    </tr>\n",
       "    <tr>\n",
       "      <th>3</th>\n",
       "      <td>1003</td>\n",
       "      <td>520.0</td>\n",
       "      <td>3822.0</td>\n",
       "      <td>380.0</td>\n",
       "      <td>104.0</td>\n",
       "      <td>57280.64</td>\n",
       "      <td>56.0</td>\n",
       "      <td>Москва</td>\n",
       "      <td>ultra</td>\n",
       "      <td>822.0</td>\n",
       "    </tr>\n",
       "    <tr>\n",
       "      <th>4</th>\n",
       "      <td>1004</td>\n",
       "      <td>176.0</td>\n",
       "      <td>987.0</td>\n",
       "      <td>1192.0</td>\n",
       "      <td>300.0</td>\n",
       "      <td>149039.48</td>\n",
       "      <td>146.0</td>\n",
       "      <td>Новокузнецк</td>\n",
       "      <td>ultra</td>\n",
       "      <td>0.0</td>\n",
       "    </tr>\n",
       "  </tbody>\n",
       "</table>\n",
       "</div>"
      ],
      "text/plain": [
       "   user_id  count_calls  duration  count_messages  count_internet    mb_used  \\\n",
       "0     1000        368.0    2566.0           496.0           211.0  107392.31   \n",
       "1     1001        122.0     844.0             NaN            96.0   32466.00   \n",
       "2     1002        217.0    1517.0            70.0           369.0  116036.52   \n",
       "3     1003        520.0    3822.0           380.0           104.0   57280.64   \n",
       "4     1004        176.0     987.0          1192.0           300.0  149039.48   \n",
       "\n",
       "   gb_used         city tariff  duration_clear  \n",
       "0    105.0    Краснодар  ultra             0.0  \n",
       "1     32.0       Москва  smart           344.0  \n",
       "2    114.0  Стерлитамак  smart          1017.0  \n",
       "3     56.0       Москва  ultra           822.0  \n",
       "4    146.0  Новокузнецк  ultra             0.0  "
      ]
     },
     "execution_count": 37,
     "metadata": {},
     "output_type": "execute_result"
    }
   ],
   "source": [
    "def duration(row):\n",
    "    if row['tariff'] == 'smart':\n",
    "        if row['duration'] > 500:\n",
    "            return row['duration'] - 500\n",
    "        else:\n",
    "            return 0\n",
    "    if row['tariff'] == 'ultra':\n",
    "        if row['duration'] > 3000:\n",
    "            return row['duration'] - 3000\n",
    "        else:\n",
    "            return 0\n",
    "df_profil_user['duration_clear'] = df_profil_user.apply(duration, axis=1)\n",
    "df_profil_user.head()"
   ]
  },
  {
   "cell_type": "markdown",
   "metadata": {},
   "source": [
    "Вычтим входящие в тариф кол-во сообщений. Если сообщений меньше, то вернем 0"
   ]
  },
  {
   "cell_type": "code",
   "execution_count": 38,
   "metadata": {},
   "outputs": [
    {
     "data": {
      "text/html": [
       "<div>\n",
       "<style scoped>\n",
       "    .dataframe tbody tr th:only-of-type {\n",
       "        vertical-align: middle;\n",
       "    }\n",
       "\n",
       "    .dataframe tbody tr th {\n",
       "        vertical-align: top;\n",
       "    }\n",
       "\n",
       "    .dataframe thead th {\n",
       "        text-align: right;\n",
       "    }\n",
       "</style>\n",
       "<table border=\"1\" class=\"dataframe\">\n",
       "  <thead>\n",
       "    <tr style=\"text-align: right;\">\n",
       "      <th></th>\n",
       "      <th>user_id</th>\n",
       "      <th>count_calls</th>\n",
       "      <th>duration</th>\n",
       "      <th>count_messages</th>\n",
       "      <th>count_internet</th>\n",
       "      <th>mb_used</th>\n",
       "      <th>gb_used</th>\n",
       "      <th>city</th>\n",
       "      <th>tariff</th>\n",
       "      <th>duration_clear</th>\n",
       "      <th>count_messages_clear</th>\n",
       "    </tr>\n",
       "  </thead>\n",
       "  <tbody>\n",
       "    <tr>\n",
       "      <th>0</th>\n",
       "      <td>1000</td>\n",
       "      <td>368.0</td>\n",
       "      <td>2566.0</td>\n",
       "      <td>496.0</td>\n",
       "      <td>211.0</td>\n",
       "      <td>107392.31</td>\n",
       "      <td>105.0</td>\n",
       "      <td>Краснодар</td>\n",
       "      <td>ultra</td>\n",
       "      <td>0.0</td>\n",
       "      <td>0.0</td>\n",
       "    </tr>\n",
       "    <tr>\n",
       "      <th>1</th>\n",
       "      <td>1001</td>\n",
       "      <td>122.0</td>\n",
       "      <td>844.0</td>\n",
       "      <td>NaN</td>\n",
       "      <td>96.0</td>\n",
       "      <td>32466.00</td>\n",
       "      <td>32.0</td>\n",
       "      <td>Москва</td>\n",
       "      <td>smart</td>\n",
       "      <td>344.0</td>\n",
       "      <td>0.0</td>\n",
       "    </tr>\n",
       "    <tr>\n",
       "      <th>2</th>\n",
       "      <td>1002</td>\n",
       "      <td>217.0</td>\n",
       "      <td>1517.0</td>\n",
       "      <td>70.0</td>\n",
       "      <td>369.0</td>\n",
       "      <td>116036.52</td>\n",
       "      <td>114.0</td>\n",
       "      <td>Стерлитамак</td>\n",
       "      <td>smart</td>\n",
       "      <td>1017.0</td>\n",
       "      <td>20.0</td>\n",
       "    </tr>\n",
       "    <tr>\n",
       "      <th>3</th>\n",
       "      <td>1003</td>\n",
       "      <td>520.0</td>\n",
       "      <td>3822.0</td>\n",
       "      <td>380.0</td>\n",
       "      <td>104.0</td>\n",
       "      <td>57280.64</td>\n",
       "      <td>56.0</td>\n",
       "      <td>Москва</td>\n",
       "      <td>ultra</td>\n",
       "      <td>822.0</td>\n",
       "      <td>0.0</td>\n",
       "    </tr>\n",
       "    <tr>\n",
       "      <th>4</th>\n",
       "      <td>1004</td>\n",
       "      <td>176.0</td>\n",
       "      <td>987.0</td>\n",
       "      <td>1192.0</td>\n",
       "      <td>300.0</td>\n",
       "      <td>149039.48</td>\n",
       "      <td>146.0</td>\n",
       "      <td>Новокузнецк</td>\n",
       "      <td>ultra</td>\n",
       "      <td>0.0</td>\n",
       "      <td>192.0</td>\n",
       "    </tr>\n",
       "  </tbody>\n",
       "</table>\n",
       "</div>"
      ],
      "text/plain": [
       "   user_id  count_calls  duration  count_messages  count_internet    mb_used  \\\n",
       "0     1000        368.0    2566.0           496.0           211.0  107392.31   \n",
       "1     1001        122.0     844.0             NaN            96.0   32466.00   \n",
       "2     1002        217.0    1517.0            70.0           369.0  116036.52   \n",
       "3     1003        520.0    3822.0           380.0           104.0   57280.64   \n",
       "4     1004        176.0     987.0          1192.0           300.0  149039.48   \n",
       "\n",
       "   gb_used         city tariff  duration_clear  count_messages_clear  \n",
       "0    105.0    Краснодар  ultra             0.0                   0.0  \n",
       "1     32.0       Москва  smart           344.0                   0.0  \n",
       "2    114.0  Стерлитамак  smart          1017.0                  20.0  \n",
       "3     56.0       Москва  ultra           822.0                   0.0  \n",
       "4    146.0  Новокузнецк  ultra             0.0                 192.0  "
      ]
     },
     "execution_count": 38,
     "metadata": {},
     "output_type": "execute_result"
    }
   ],
   "source": [
    "def count_messages(row):\n",
    "    if row['tariff'] == 'smart':\n",
    "        if row['count_messages'] > 50:\n",
    "            return row['count_messages'] - 50\n",
    "        else:\n",
    "            return 0\n",
    "    if row['tariff'] == 'ultra':\n",
    "        if row['count_messages'] > 1000:\n",
    "            return row['count_messages'] - 1000\n",
    "        else:\n",
    "            return 0\n",
    "df_profil_user['count_messages_clear'] = df_profil_user.apply(count_messages, axis=1)\n",
    "df_profil_user.head()"
   ]
  },
  {
   "cell_type": "markdown",
   "metadata": {},
   "source": [
    "Вычтим трафик интернета входящий в тариф."
   ]
  },
  {
   "cell_type": "code",
   "execution_count": 39,
   "metadata": {},
   "outputs": [
    {
     "data": {
      "text/html": [
       "<div>\n",
       "<style scoped>\n",
       "    .dataframe tbody tr th:only-of-type {\n",
       "        vertical-align: middle;\n",
       "    }\n",
       "\n",
       "    .dataframe tbody tr th {\n",
       "        vertical-align: top;\n",
       "    }\n",
       "\n",
       "    .dataframe thead th {\n",
       "        text-align: right;\n",
       "    }\n",
       "</style>\n",
       "<table border=\"1\" class=\"dataframe\">\n",
       "  <thead>\n",
       "    <tr style=\"text-align: right;\">\n",
       "      <th></th>\n",
       "      <th>user_id</th>\n",
       "      <th>count_calls</th>\n",
       "      <th>duration</th>\n",
       "      <th>count_messages</th>\n",
       "      <th>count_internet</th>\n",
       "      <th>mb_used</th>\n",
       "      <th>gb_used</th>\n",
       "      <th>city</th>\n",
       "      <th>tariff</th>\n",
       "      <th>duration_clear</th>\n",
       "      <th>count_messages_clear</th>\n",
       "      <th>gb_used_clear</th>\n",
       "    </tr>\n",
       "  </thead>\n",
       "  <tbody>\n",
       "    <tr>\n",
       "      <th>0</th>\n",
       "      <td>1000</td>\n",
       "      <td>368.0</td>\n",
       "      <td>2566.0</td>\n",
       "      <td>496.0</td>\n",
       "      <td>211.0</td>\n",
       "      <td>107392.31</td>\n",
       "      <td>105.0</td>\n",
       "      <td>Краснодар</td>\n",
       "      <td>ultra</td>\n",
       "      <td>0.0</td>\n",
       "      <td>0.0</td>\n",
       "      <td>75.0</td>\n",
       "    </tr>\n",
       "    <tr>\n",
       "      <th>1</th>\n",
       "      <td>1001</td>\n",
       "      <td>122.0</td>\n",
       "      <td>844.0</td>\n",
       "      <td>NaN</td>\n",
       "      <td>96.0</td>\n",
       "      <td>32466.00</td>\n",
       "      <td>32.0</td>\n",
       "      <td>Москва</td>\n",
       "      <td>smart</td>\n",
       "      <td>344.0</td>\n",
       "      <td>0.0</td>\n",
       "      <td>17.0</td>\n",
       "    </tr>\n",
       "    <tr>\n",
       "      <th>2</th>\n",
       "      <td>1002</td>\n",
       "      <td>217.0</td>\n",
       "      <td>1517.0</td>\n",
       "      <td>70.0</td>\n",
       "      <td>369.0</td>\n",
       "      <td>116036.52</td>\n",
       "      <td>114.0</td>\n",
       "      <td>Стерлитамак</td>\n",
       "      <td>smart</td>\n",
       "      <td>1017.0</td>\n",
       "      <td>20.0</td>\n",
       "      <td>99.0</td>\n",
       "    </tr>\n",
       "    <tr>\n",
       "      <th>3</th>\n",
       "      <td>1003</td>\n",
       "      <td>520.0</td>\n",
       "      <td>3822.0</td>\n",
       "      <td>380.0</td>\n",
       "      <td>104.0</td>\n",
       "      <td>57280.64</td>\n",
       "      <td>56.0</td>\n",
       "      <td>Москва</td>\n",
       "      <td>ultra</td>\n",
       "      <td>822.0</td>\n",
       "      <td>0.0</td>\n",
       "      <td>26.0</td>\n",
       "    </tr>\n",
       "    <tr>\n",
       "      <th>4</th>\n",
       "      <td>1004</td>\n",
       "      <td>176.0</td>\n",
       "      <td>987.0</td>\n",
       "      <td>1192.0</td>\n",
       "      <td>300.0</td>\n",
       "      <td>149039.48</td>\n",
       "      <td>146.0</td>\n",
       "      <td>Новокузнецк</td>\n",
       "      <td>ultra</td>\n",
       "      <td>0.0</td>\n",
       "      <td>192.0</td>\n",
       "      <td>116.0</td>\n",
       "    </tr>\n",
       "  </tbody>\n",
       "</table>\n",
       "</div>"
      ],
      "text/plain": [
       "   user_id  count_calls  duration  count_messages  count_internet    mb_used  \\\n",
       "0     1000        368.0    2566.0           496.0           211.0  107392.31   \n",
       "1     1001        122.0     844.0             NaN            96.0   32466.00   \n",
       "2     1002        217.0    1517.0            70.0           369.0  116036.52   \n",
       "3     1003        520.0    3822.0           380.0           104.0   57280.64   \n",
       "4     1004        176.0     987.0          1192.0           300.0  149039.48   \n",
       "\n",
       "   gb_used         city tariff  duration_clear  count_messages_clear  \\\n",
       "0    105.0    Краснодар  ultra             0.0                   0.0   \n",
       "1     32.0       Москва  smart           344.0                   0.0   \n",
       "2    114.0  Стерлитамак  smart          1017.0                  20.0   \n",
       "3     56.0       Москва  ultra           822.0                   0.0   \n",
       "4    146.0  Новокузнецк  ultra             0.0                 192.0   \n",
       "\n",
       "   gb_used_clear  \n",
       "0           75.0  \n",
       "1           17.0  \n",
       "2           99.0  \n",
       "3           26.0  \n",
       "4          116.0  "
      ]
     },
     "execution_count": 39,
     "metadata": {},
     "output_type": "execute_result"
    }
   ],
   "source": [
    "def count_internet(row):\n",
    "    if row['tariff'] == 'smart':\n",
    "        if row['gb_used'] > 15:\n",
    "            return row['gb_used'] - 15\n",
    "        else:\n",
    "            return 0\n",
    "    if row['tariff'] == 'ultra':\n",
    "        if row['gb_used'] > 30:\n",
    "            return row['gb_used'] - 30\n",
    "        else:\n",
    "            return 0\n",
    "df_profil_user['gb_used_clear'] = df_profil_user.apply(count_internet, axis=1)\n",
    "df_profil_user.head()"
   ]
  },
  {
   "cell_type": "markdown",
   "metadata": {},
   "source": [
    "Расчитаем выручку с каждого пользователя"
   ]
  },
  {
   "cell_type": "code",
   "execution_count": 40,
   "metadata": {},
   "outputs": [
    {
     "data": {
      "text/html": [
       "<div>\n",
       "<style scoped>\n",
       "    .dataframe tbody tr th:only-of-type {\n",
       "        vertical-align: middle;\n",
       "    }\n",
       "\n",
       "    .dataframe tbody tr th {\n",
       "        vertical-align: top;\n",
       "    }\n",
       "\n",
       "    .dataframe thead th {\n",
       "        text-align: right;\n",
       "    }\n",
       "</style>\n",
       "<table border=\"1\" class=\"dataframe\">\n",
       "  <thead>\n",
       "    <tr style=\"text-align: right;\">\n",
       "      <th></th>\n",
       "      <th>user_id</th>\n",
       "      <th>count_calls</th>\n",
       "      <th>duration</th>\n",
       "      <th>count_messages</th>\n",
       "      <th>count_internet</th>\n",
       "      <th>mb_used</th>\n",
       "      <th>gb_used</th>\n",
       "      <th>city</th>\n",
       "      <th>tariff</th>\n",
       "      <th>duration_clear</th>\n",
       "      <th>count_messages_clear</th>\n",
       "      <th>gb_used_clear</th>\n",
       "      <th>income</th>\n",
       "    </tr>\n",
       "  </thead>\n",
       "  <tbody>\n",
       "    <tr>\n",
       "      <th>0</th>\n",
       "      <td>1000</td>\n",
       "      <td>368.0</td>\n",
       "      <td>2566.0</td>\n",
       "      <td>496.0</td>\n",
       "      <td>211.0</td>\n",
       "      <td>107392.31</td>\n",
       "      <td>105.0</td>\n",
       "      <td>Краснодар</td>\n",
       "      <td>ultra</td>\n",
       "      <td>0.0</td>\n",
       "      <td>0.0</td>\n",
       "      <td>75.0</td>\n",
       "      <td>13200.0</td>\n",
       "    </tr>\n",
       "    <tr>\n",
       "      <th>1</th>\n",
       "      <td>1001</td>\n",
       "      <td>122.0</td>\n",
       "      <td>844.0</td>\n",
       "      <td>NaN</td>\n",
       "      <td>96.0</td>\n",
       "      <td>32466.00</td>\n",
       "      <td>32.0</td>\n",
       "      <td>Москва</td>\n",
       "      <td>smart</td>\n",
       "      <td>344.0</td>\n",
       "      <td>0.0</td>\n",
       "      <td>17.0</td>\n",
       "      <td>4982.0</td>\n",
       "    </tr>\n",
       "    <tr>\n",
       "      <th>2</th>\n",
       "      <td>1002</td>\n",
       "      <td>217.0</td>\n",
       "      <td>1517.0</td>\n",
       "      <td>70.0</td>\n",
       "      <td>369.0</td>\n",
       "      <td>116036.52</td>\n",
       "      <td>114.0</td>\n",
       "      <td>Стерлитамак</td>\n",
       "      <td>smart</td>\n",
       "      <td>1017.0</td>\n",
       "      <td>20.0</td>\n",
       "      <td>99.0</td>\n",
       "      <td>23461.0</td>\n",
       "    </tr>\n",
       "    <tr>\n",
       "      <th>3</th>\n",
       "      <td>1003</td>\n",
       "      <td>520.0</td>\n",
       "      <td>3822.0</td>\n",
       "      <td>380.0</td>\n",
       "      <td>104.0</td>\n",
       "      <td>57280.64</td>\n",
       "      <td>56.0</td>\n",
       "      <td>Москва</td>\n",
       "      <td>ultra</td>\n",
       "      <td>822.0</td>\n",
       "      <td>0.0</td>\n",
       "      <td>26.0</td>\n",
       "      <td>6672.0</td>\n",
       "    </tr>\n",
       "    <tr>\n",
       "      <th>4</th>\n",
       "      <td>1004</td>\n",
       "      <td>176.0</td>\n",
       "      <td>987.0</td>\n",
       "      <td>1192.0</td>\n",
       "      <td>300.0</td>\n",
       "      <td>149039.48</td>\n",
       "      <td>146.0</td>\n",
       "      <td>Новокузнецк</td>\n",
       "      <td>ultra</td>\n",
       "      <td>0.0</td>\n",
       "      <td>192.0</td>\n",
       "      <td>116.0</td>\n",
       "      <td>19542.0</td>\n",
       "    </tr>\n",
       "  </tbody>\n",
       "</table>\n",
       "</div>"
      ],
      "text/plain": [
       "   user_id  count_calls  duration  count_messages  count_internet    mb_used  \\\n",
       "0     1000        368.0    2566.0           496.0           211.0  107392.31   \n",
       "1     1001        122.0     844.0             NaN            96.0   32466.00   \n",
       "2     1002        217.0    1517.0            70.0           369.0  116036.52   \n",
       "3     1003        520.0    3822.0           380.0           104.0   57280.64   \n",
       "4     1004        176.0     987.0          1192.0           300.0  149039.48   \n",
       "\n",
       "   gb_used         city tariff  duration_clear  count_messages_clear  \\\n",
       "0    105.0    Краснодар  ultra             0.0                   0.0   \n",
       "1     32.0       Москва  smart           344.0                   0.0   \n",
       "2    114.0  Стерлитамак  smart          1017.0                  20.0   \n",
       "3     56.0       Москва  ultra           822.0                   0.0   \n",
       "4    146.0  Новокузнецк  ultra             0.0                 192.0   \n",
       "\n",
       "   gb_used_clear   income  \n",
       "0           75.0  13200.0  \n",
       "1           17.0   4982.0  \n",
       "2           99.0  23461.0  \n",
       "3           26.0   6672.0  \n",
       "4          116.0  19542.0  "
      ]
     },
     "execution_count": 40,
     "metadata": {},
     "output_type": "execute_result"
    }
   ],
   "source": [
    "def income(row):\n",
    "    if row['tariff'] == 'smart':\n",
    "        return row['duration_clear'] * 3 + row['count_messages_clear'] * 3 + row['gb_used_clear'] * 200 + 550\n",
    "    if row['tariff'] == 'ultra':\n",
    "        return row['duration_clear'] * 1 + row['count_messages_clear'] * 1 + row['gb_used_clear'] * 150 + 1950\n",
    "df_profil_user['income'] = df_profil_user.apply(income, axis=1)\n",
    "df_profil_user.head()"
   ]
  },
  {
   "cell_type": "markdown",
   "metadata": {},
   "source": [
    "## Шаг 3. Проанализируйте данные"
   ]
  },
  {
   "cell_type": "markdown",
   "metadata": {},
   "source": [
    "Опишите поведение клиентов оператора, исходя из выборки. Сколько минут разговора, сколько сообщений и какой объём интернет-трафика требуется пользователям каждого тарифа в месяц? Посчитайте среднее количество, дисперсию и стандартное отклонение. Постройте гистограммы. Опишите распределения."
   ]
  },
  {
   "cell_type": "markdown",
   "metadata": {},
   "source": [
    "Разделим данные на две группы пользователей smart и ultra"
   ]
  },
  {
   "cell_type": "code",
   "execution_count": 41,
   "metadata": {},
   "outputs": [
    {
     "data": {
      "text/html": [
       "<div>\n",
       "<style scoped>\n",
       "    .dataframe tbody tr th:only-of-type {\n",
       "        vertical-align: middle;\n",
       "    }\n",
       "\n",
       "    .dataframe tbody tr th {\n",
       "        vertical-align: top;\n",
       "    }\n",
       "\n",
       "    .dataframe thead th {\n",
       "        text-align: right;\n",
       "    }\n",
       "</style>\n",
       "<table border=\"1\" class=\"dataframe\">\n",
       "  <thead>\n",
       "    <tr style=\"text-align: right;\">\n",
       "      <th></th>\n",
       "      <th>call_date_m</th>\n",
       "      <th>user_id</th>\n",
       "      <th>id</th>\n",
       "      <th>duration</th>\n",
       "      <th>city</th>\n",
       "      <th>tariff</th>\n",
       "    </tr>\n",
       "  </thead>\n",
       "  <tbody>\n",
       "    <tr>\n",
       "      <th>0</th>\n",
       "      <td>1.0</td>\n",
       "      <td>1005</td>\n",
       "      <td>15.0</td>\n",
       "      <td>95.0</td>\n",
       "      <td>Набережные Челны</td>\n",
       "      <td>smart</td>\n",
       "    </tr>\n",
       "    <tr>\n",
       "      <th>1</th>\n",
       "      <td>2.0</td>\n",
       "      <td>1005</td>\n",
       "      <td>69.0</td>\n",
       "      <td>456.0</td>\n",
       "      <td>Набережные Челны</td>\n",
       "      <td>smart</td>\n",
       "    </tr>\n",
       "    <tr>\n",
       "      <th>2</th>\n",
       "      <td>3.0</td>\n",
       "      <td>1005</td>\n",
       "      <td>77.0</td>\n",
       "      <td>606.0</td>\n",
       "      <td>Набережные Челны</td>\n",
       "      <td>smart</td>\n",
       "    </tr>\n",
       "    <tr>\n",
       "      <th>3</th>\n",
       "      <td>4.0</td>\n",
       "      <td>1005</td>\n",
       "      <td>101.0</td>\n",
       "      <td>712.0</td>\n",
       "      <td>Набережные Челны</td>\n",
       "      <td>smart</td>\n",
       "    </tr>\n",
       "    <tr>\n",
       "      <th>4</th>\n",
       "      <td>5.0</td>\n",
       "      <td>1005</td>\n",
       "      <td>73.0</td>\n",
       "      <td>595.0</td>\n",
       "      <td>Набережные Челны</td>\n",
       "      <td>smart</td>\n",
       "    </tr>\n",
       "  </tbody>\n",
       "</table>\n",
       "</div>"
      ],
      "text/plain": [
       "   call_date_m  user_id     id  duration              city tariff\n",
       "0          1.0     1005   15.0      95.0  Набережные Челны  smart\n",
       "1          2.0     1005   69.0     456.0  Набережные Челны  smart\n",
       "2          3.0     1005   77.0     606.0  Набережные Челны  smart\n",
       "3          4.0     1005  101.0     712.0  Набережные Челны  smart\n",
       "4          5.0     1005   73.0     595.0  Набережные Челны  smart"
      ]
     },
     "execution_count": 41,
     "metadata": {},
     "output_type": "execute_result"
    }
   ],
   "source": [
    "df_calls_gr_m_tariff = df_calls_gr_m.merge(df_users[['user_id', 'city', 'tariff']], left_on='user_id', right_on='user_id', how='outer')\n",
    "df_calls_gr_m_tariff.head()"
   ]
  },
  {
   "cell_type": "code",
   "execution_count": 42,
   "metadata": {},
   "outputs": [
    {
     "data": {
      "text/html": [
       "<div>\n",
       "<style scoped>\n",
       "    .dataframe tbody tr th:only-of-type {\n",
       "        vertical-align: middle;\n",
       "    }\n",
       "\n",
       "    .dataframe tbody tr th {\n",
       "        vertical-align: top;\n",
       "    }\n",
       "\n",
       "    .dataframe thead th {\n",
       "        text-align: right;\n",
       "    }\n",
       "</style>\n",
       "<table border=\"1\" class=\"dataframe\">\n",
       "  <thead>\n",
       "    <tr style=\"text-align: right;\">\n",
       "      <th></th>\n",
       "      <th>message_date_m</th>\n",
       "      <th>user_id</th>\n",
       "      <th>id</th>\n",
       "      <th>city</th>\n",
       "      <th>tariff</th>\n",
       "    </tr>\n",
       "  </thead>\n",
       "  <tbody>\n",
       "    <tr>\n",
       "      <th>0</th>\n",
       "      <td>1.0</td>\n",
       "      <td>1005</td>\n",
       "      <td>7.0</td>\n",
       "      <td>Набережные Челны</td>\n",
       "      <td>smart</td>\n",
       "    </tr>\n",
       "    <tr>\n",
       "      <th>1</th>\n",
       "      <td>2.0</td>\n",
       "      <td>1005</td>\n",
       "      <td>38.0</td>\n",
       "      <td>Набережные Челны</td>\n",
       "      <td>smart</td>\n",
       "    </tr>\n",
       "    <tr>\n",
       "      <th>2</th>\n",
       "      <td>3.0</td>\n",
       "      <td>1005</td>\n",
       "      <td>56.0</td>\n",
       "      <td>Набережные Челны</td>\n",
       "      <td>smart</td>\n",
       "    </tr>\n",
       "    <tr>\n",
       "      <th>3</th>\n",
       "      <td>4.0</td>\n",
       "      <td>1005</td>\n",
       "      <td>41.0</td>\n",
       "      <td>Набережные Челны</td>\n",
       "      <td>smart</td>\n",
       "    </tr>\n",
       "    <tr>\n",
       "      <th>4</th>\n",
       "      <td>5.0</td>\n",
       "      <td>1005</td>\n",
       "      <td>42.0</td>\n",
       "      <td>Набережные Челны</td>\n",
       "      <td>smart</td>\n",
       "    </tr>\n",
       "  </tbody>\n",
       "</table>\n",
       "</div>"
      ],
      "text/plain": [
       "   message_date_m  user_id    id              city tariff\n",
       "0             1.0     1005   7.0  Набережные Челны  smart\n",
       "1             2.0     1005  38.0  Набережные Челны  smart\n",
       "2             3.0     1005  56.0  Набережные Челны  smart\n",
       "3             4.0     1005  41.0  Набережные Челны  smart\n",
       "4             5.0     1005  42.0  Набережные Челны  smart"
      ]
     },
     "execution_count": 42,
     "metadata": {},
     "output_type": "execute_result"
    }
   ],
   "source": [
    "df_messages_gr_m_tariff = df_messages_gr_m.merge(df_users[['user_id', 'city', 'tariff']], left_on='user_id', right_on='user_id', how='outer')\n",
    "df_messages_gr_m_tariff.head()"
   ]
  },
  {
   "cell_type": "code",
   "execution_count": 43,
   "metadata": {},
   "outputs": [
    {
     "data": {
      "text/html": [
       "<div>\n",
       "<style scoped>\n",
       "    .dataframe tbody tr th:only-of-type {\n",
       "        vertical-align: middle;\n",
       "    }\n",
       "\n",
       "    .dataframe tbody tr th {\n",
       "        vertical-align: top;\n",
       "    }\n",
       "\n",
       "    .dataframe thead th {\n",
       "        text-align: right;\n",
       "    }\n",
       "</style>\n",
       "<table border=\"1\" class=\"dataframe\">\n",
       "  <thead>\n",
       "    <tr style=\"text-align: right;\">\n",
       "      <th></th>\n",
       "      <th>session_date_m</th>\n",
       "      <th>user_id</th>\n",
       "      <th>mb_used</th>\n",
       "      <th>gb_used</th>\n",
       "      <th>city</th>\n",
       "      <th>tariff</th>\n",
       "    </tr>\n",
       "  </thead>\n",
       "  <tbody>\n",
       "    <tr>\n",
       "      <th>0</th>\n",
       "      <td>1.0</td>\n",
       "      <td>1005</td>\n",
       "      <td>2727.97</td>\n",
       "      <td>3.0</td>\n",
       "      <td>Набережные Челны</td>\n",
       "      <td>smart</td>\n",
       "    </tr>\n",
       "    <tr>\n",
       "      <th>1</th>\n",
       "      <td>2.0</td>\n",
       "      <td>1005</td>\n",
       "      <td>7383.93</td>\n",
       "      <td>8.0</td>\n",
       "      <td>Набережные Челны</td>\n",
       "      <td>smart</td>\n",
       "    </tr>\n",
       "    <tr>\n",
       "      <th>2</th>\n",
       "      <td>3.0</td>\n",
       "      <td>1005</td>\n",
       "      <td>11104.25</td>\n",
       "      <td>11.0</td>\n",
       "      <td>Набережные Челны</td>\n",
       "      <td>smart</td>\n",
       "    </tr>\n",
       "    <tr>\n",
       "      <th>3</th>\n",
       "      <td>4.0</td>\n",
       "      <td>1005</td>\n",
       "      <td>9351.72</td>\n",
       "      <td>10.0</td>\n",
       "      <td>Набережные Челны</td>\n",
       "      <td>smart</td>\n",
       "    </tr>\n",
       "    <tr>\n",
       "      <th>4</th>\n",
       "      <td>5.0</td>\n",
       "      <td>1005</td>\n",
       "      <td>7865.53</td>\n",
       "      <td>8.0</td>\n",
       "      <td>Набережные Челны</td>\n",
       "      <td>smart</td>\n",
       "    </tr>\n",
       "  </tbody>\n",
       "</table>\n",
       "</div>"
      ],
      "text/plain": [
       "   session_date_m  user_id   mb_used  gb_used              city tariff\n",
       "0             1.0     1005   2727.97      3.0  Набережные Челны  smart\n",
       "1             2.0     1005   7383.93      8.0  Набережные Челны  smart\n",
       "2             3.0     1005  11104.25     11.0  Набережные Челны  smart\n",
       "3             4.0     1005   9351.72     10.0  Набережные Челны  smart\n",
       "4             5.0     1005   7865.53      8.0  Набережные Челны  smart"
      ]
     },
     "execution_count": 43,
     "metadata": {},
     "output_type": "execute_result"
    }
   ],
   "source": [
    "df_internet_gr_m_tariff = df_internet_gr_m.merge(df_users[['user_id', 'city', 'tariff']], left_on='user_id', right_on='user_id', how='outer')\n",
    "df_internet_gr_m_tariff.head()"
   ]
  },
  {
   "cell_type": "code",
   "execution_count": 44,
   "metadata": {},
   "outputs": [],
   "source": [
    "df_calls_gr_m_tariff_smart = df_calls_gr_m_tariff[df_calls_gr_m_tariff['tariff'] == 'smart']\n",
    "df_messages_gr_m_tariff_smart = df_messages_gr_m_tariff[df_messages_gr_m_tariff['tariff'] == 'smart']\n",
    "df_internet_gr_m_tariff_smart = df_internet_gr_m_tariff[df_internet_gr_m_tariff['tariff'] == 'smart']"
   ]
  },
  {
   "cell_type": "code",
   "execution_count": 45,
   "metadata": {},
   "outputs": [],
   "source": [
    "df_calls_gr_m_tariff_ultra = df_calls_gr_m_tariff[df_calls_gr_m_tariff['tariff'] == 'ultra']\n",
    "df_messages_gr_m_tariff_ultra = df_messages_gr_m_tariff[df_messages_gr_m_tariff['tariff'] == 'ultra']\n",
    "df_internet_gr_m_tariff_ultra = df_internet_gr_m_tariff[df_internet_gr_m_tariff['tariff'] == 'ultra']"
   ]
  },
  {
   "cell_type": "markdown",
   "metadata": {},
   "source": [
    "#### Пользователи smart"
   ]
  },
  {
   "cell_type": "code",
   "execution_count": 46,
   "metadata": {},
   "outputs": [
    {
     "data": {
      "text/html": [
       "<div>\n",
       "<style scoped>\n",
       "    .dataframe tbody tr th:only-of-type {\n",
       "        vertical-align: middle;\n",
       "    }\n",
       "\n",
       "    .dataframe tbody tr th {\n",
       "        vertical-align: top;\n",
       "    }\n",
       "\n",
       "    .dataframe thead th {\n",
       "        text-align: right;\n",
       "    }\n",
       "</style>\n",
       "<table border=\"1\" class=\"dataframe\">\n",
       "  <thead>\n",
       "    <tr style=\"text-align: right;\">\n",
       "      <th></th>\n",
       "      <th>duration</th>\n",
       "    </tr>\n",
       "    <tr>\n",
       "      <th>call_date_m</th>\n",
       "      <th></th>\n",
       "    </tr>\n",
       "  </thead>\n",
       "  <tbody>\n",
       "    <tr>\n",
       "      <th>1.0</th>\n",
       "      <td>203.852941</td>\n",
       "    </tr>\n",
       "    <tr>\n",
       "      <th>2.0</th>\n",
       "      <td>298.689655</td>\n",
       "    </tr>\n",
       "    <tr>\n",
       "      <th>3.0</th>\n",
       "      <td>390.051948</td>\n",
       "    </tr>\n",
       "    <tr>\n",
       "      <th>4.0</th>\n",
       "      <td>367.133929</td>\n",
       "    </tr>\n",
       "    <tr>\n",
       "      <th>5.0</th>\n",
       "      <td>387.361702</td>\n",
       "    </tr>\n",
       "    <tr>\n",
       "      <th>6.0</th>\n",
       "      <td>398.067485</td>\n",
       "    </tr>\n",
       "    <tr>\n",
       "      <th>7.0</th>\n",
       "      <td>408.353234</td>\n",
       "    </tr>\n",
       "    <tr>\n",
       "      <th>8.0</th>\n",
       "      <td>423.269231</td>\n",
       "    </tr>\n",
       "    <tr>\n",
       "      <th>9.0</th>\n",
       "      <td>430.266409</td>\n",
       "    </tr>\n",
       "    <tr>\n",
       "      <th>10.0</th>\n",
       "      <td>427.590444</td>\n",
       "    </tr>\n",
       "    <tr>\n",
       "      <th>11.0</th>\n",
       "      <td>436.647619</td>\n",
       "    </tr>\n",
       "    <tr>\n",
       "      <th>12.0</th>\n",
       "      <td>479.985119</td>\n",
       "    </tr>\n",
       "  </tbody>\n",
       "</table>\n",
       "</div>"
      ],
      "text/plain": [
       "               duration\n",
       "call_date_m            \n",
       "1.0          203.852941\n",
       "2.0          298.689655\n",
       "3.0          390.051948\n",
       "4.0          367.133929\n",
       "5.0          387.361702\n",
       "6.0          398.067485\n",
       "7.0          408.353234\n",
       "8.0          423.269231\n",
       "9.0          430.266409\n",
       "10.0         427.590444\n",
       "11.0         436.647619\n",
       "12.0         479.985119"
      ]
     },
     "execution_count": 46,
     "metadata": {},
     "output_type": "execute_result"
    }
   ],
   "source": [
    "df_calls_gr_m_tariff_smart.groupby('call_date_m').agg({'duration':'mean'})"
   ]
  },
  {
   "cell_type": "code",
   "execution_count": 47,
   "metadata": {},
   "outputs": [
    {
     "name": "stdout",
     "output_type": "stream",
     "text": [
      "Среднее в месяц: 387.605809617519\n"
     ]
    }
   ],
   "source": [
    "print('Среднее в месяц:', df_calls_gr_m_tariff_smart.groupby('call_date_m').agg({'duration':'mean'}).reset_index()['duration'].mean())"
   ]
  },
  {
   "cell_type": "code",
   "execution_count": 48,
   "metadata": {},
   "outputs": [
    {
     "data": {
      "text/plain": [
       "array([[<AxesSubplot:title={'center':'duration'}>]], dtype=object)"
      ]
     },
     "execution_count": 48,
     "metadata": {},
     "output_type": "execute_result"
    },
    {
     "data": {
      "image/png": "[encoded data removed]",
      "text/plain": [
       "<Figure size 432x288 with 1 Axes>"
      ]
     },
     "metadata": {
      "needs_background": "light"
     },
     "output_type": "display_data"
    }
   ],
   "source": [
    "df_calls_gr_m_tariff_smart.groupby('call_date_m').agg({'duration':'mean'}).hist()"
   ]
  },
  {
   "cell_type": "markdown",
   "metadata": {},
   "source": [
    "видно что пользователи начинают тратить больше минут на разговоры к концу года. Так же видно сильное проседание в начале года."
   ]
  },
  {
   "cell_type": "code",
   "execution_count": 49,
   "metadata": {},
   "outputs": [
    {
     "data": {
      "text/plain": [
       "call_date_m\n",
       "1.0     23787.341355\n",
       "2.0     36412.287961\n",
       "3.0     36823.155161\n",
       "4.0     34778.207127\n",
       "5.0     34820.061094\n",
       "6.0     29960.520109\n",
       "7.0     32250.269602\n",
       "8.0     34177.270551\n",
       "9.0     32950.529526\n",
       "10.0    34889.530319\n",
       "11.0    31100.611101\n",
       "12.0    39131.447539\n",
       "Name: duration, dtype: float64"
      ]
     },
     "execution_count": 49,
     "metadata": {},
     "output_type": "execute_result"
    }
   ],
   "source": [
    "df_calls_gr_m_tariff_smart.groupby('call_date_m')['duration'].var()"
   ]
  },
  {
   "cell_type": "code",
   "execution_count": 50,
   "metadata": {},
   "outputs": [
    {
     "data": {
      "text/plain": [
       "call_date_m\n",
       "1.0     154.231454\n",
       "2.0     190.820041\n",
       "3.0     191.893604\n",
       "4.0     186.489161\n",
       "5.0     186.601343\n",
       "6.0     173.091075\n",
       "7.0     179.583601\n",
       "8.0     184.870956\n",
       "9.0     181.522807\n",
       "10.0    186.787393\n",
       "11.0    176.353653\n",
       "12.0    197.816702\n",
       "Name: duration, dtype: float64"
      ]
     },
     "execution_count": 50,
     "metadata": {},
     "output_type": "execute_result"
    }
   ],
   "source": [
    "df_calls_gr_m_tariff_smart.groupby('call_date_m')['duration'].std()"
   ]
  },
  {
   "cell_type": "markdown",
   "metadata": {},
   "source": [
    "Из полученных данных видно, что меньше всего пользователи разговаривают в первые два месяца. К концу года активность резко возрастает."
   ]
  },
  {
   "cell_type": "code",
   "execution_count": 51,
   "metadata": {},
   "outputs": [
    {
     "data": {
      "text/plain": [
       "message_date_m\n",
       "1.0     20.000000\n",
       "2.0     27.940000\n",
       "3.0     35.550725\n",
       "4.0     35.864583\n",
       "5.0     39.032787\n",
       "6.0     38.577465\n",
       "7.0     38.988506\n",
       "8.0     38.750000\n",
       "9.0     39.219731\n",
       "10.0    39.082677\n",
       "11.0    39.881481\n",
       "12.0    42.264808\n",
       "Name: id, dtype: float64"
      ]
     },
     "execution_count": 51,
     "metadata": {},
     "output_type": "execute_result"
    }
   ],
   "source": [
    "df_messages_gr_m_tariff_smart.groupby('message_date_m')['id'].mean()"
   ]
  },
  {
   "cell_type": "code",
   "execution_count": 52,
   "metadata": {},
   "outputs": [
    {
     "name": "stdout",
     "output_type": "stream",
     "text": [
      "Среднее в месяц: 36.2627302785857\n"
     ]
    }
   ],
   "source": [
    "print('Среднее в месяц:', df_messages_gr_m_tariff_smart.groupby('message_date_m')['id'].mean().reset_index()['id'].mean())"
   ]
  },
  {
   "cell_type": "code",
   "execution_count": 53,
   "metadata": {},
   "outputs": [
    {
     "data": {
      "text/plain": [
       "<AxesSubplot:>"
      ]
     },
     "execution_count": 53,
     "metadata": {},
     "output_type": "execute_result"
    },
    {
     "data": {
      "image/png": "[encoded data removed]",
      "text/plain": [
       "<Figure size 432x288 with 1 Axes>"
      ]
     },
     "metadata": {
      "needs_background": "light"
     },
     "output_type": "display_data"
    }
   ],
   "source": [
    "df_messages_gr_m_tariff_smart.groupby('message_date_m')['id'].mean().hist()"
   ]
  },
  {
   "cell_type": "markdown",
   "metadata": {},
   "source": [
    "Можно заметить на графике склонность к нормальному распределению. Выбрасы слевой стороны обоснованы первыми месяцами года. Данная ситуация наблюдается и далее. Так же стоит заметить что большая часть пользователей тратит схожее кол-во сообщений."
   ]
  },
  {
   "cell_type": "code",
   "execution_count": 54,
   "metadata": {},
   "outputs": [
    {
     "data": {
      "text/plain": [
       "message_date_m\n",
       "1.0     252.133333\n",
       "2.0     440.465714\n",
       "3.0     669.780477\n",
       "4.0     517.865680\n",
       "5.0     638.775776\n",
       "6.0     731.635801\n",
       "7.0     719.352468\n",
       "8.0     767.213054\n",
       "9.0     702.505555\n",
       "10.0    736.503019\n",
       "11.0    711.361366\n",
       "12.0    832.447114\n",
       "Name: id, dtype: float64"
      ]
     },
     "execution_count": 54,
     "metadata": {},
     "output_type": "execute_result"
    }
   ],
   "source": [
    "df_messages_gr_m_tariff_smart.groupby('message_date_m')['id'].var()"
   ]
  },
  {
   "cell_type": "code",
   "execution_count": 55,
   "metadata": {},
   "outputs": [
    {
     "data": {
      "text/plain": [
       "message_date_m\n",
       "1.0     15.878707\n",
       "2.0     20.987275\n",
       "3.0     25.880117\n",
       "4.0     22.756662\n",
       "5.0     25.274014\n",
       "6.0     27.048767\n",
       "7.0     26.820747\n",
       "8.0     27.698611\n",
       "9.0     26.504821\n",
       "10.0    27.138589\n",
       "11.0    26.671359\n",
       "12.0    28.852160\n",
       "Name: id, dtype: float64"
      ]
     },
     "execution_count": 55,
     "metadata": {},
     "output_type": "execute_result"
    }
   ],
   "source": [
    "df_messages_gr_m_tariff_smart.groupby('message_date_m')['id'].std()"
   ]
  },
  {
   "cell_type": "markdown",
   "metadata": {},
   "source": [
    "С отправкой сообщений ситуация похожа с разговорами по телефону. Резкий рост отправки сообщений виден к концу года."
   ]
  },
  {
   "cell_type": "code",
   "execution_count": 56,
   "metadata": {},
   "outputs": [
    {
     "data": {
      "text/plain": [
       "session_date_m\n",
       "1.0      8.735294\n",
       "2.0     11.844828\n",
       "3.0     15.233766\n",
       "4.0     13.625000\n",
       "5.0     15.907801\n",
       "6.0     15.951220\n",
       "7.0     15.875622\n",
       "8.0     16.807692\n",
       "9.0     16.392308\n",
       "10.0    16.880952\n",
       "11.0    17.000000\n",
       "12.0    18.201780\n",
       "Name: gb_used, dtype: float64"
      ]
     },
     "execution_count": 56,
     "metadata": {},
     "output_type": "execute_result"
    }
   ],
   "source": [
    "df_internet_gr_m_tariff_smart.groupby('session_date_m')['gb_used'].mean()"
   ]
  },
  {
   "cell_type": "code",
   "execution_count": 57,
   "metadata": {},
   "outputs": [
    {
     "name": "stdout",
     "output_type": "stream",
     "text": [
      "Среднее в месяц: 15.204688629598747\n"
     ]
    }
   ],
   "source": [
    "print('Среднее в месяц:', df_internet_gr_m_tariff_smart.groupby('session_date_m')['gb_used'].mean().reset_index()['gb_used'].mean())"
   ]
  },
  {
   "cell_type": "code",
   "execution_count": 58,
   "metadata": {},
   "outputs": [
    {
     "data": {
      "text/plain": [
       "<AxesSubplot:>"
      ]
     },
     "execution_count": 58,
     "metadata": {},
     "output_type": "execute_result"
    },
    {
     "data": {
      "image/png": "[encoded data removed]",
      "text/plain": [
       "<Figure size 432x288 with 1 Axes>"
      ]
     },
     "metadata": {
      "needs_background": "light"
     },
     "output_type": "display_data"
    }
   ],
   "source": [
    "df_internet_gr_m_tariff_smart.groupby('session_date_m')['gb_used'].mean().hist()"
   ]
  },
  {
   "cell_type": "markdown",
   "metadata": {},
   "source": [
    "График показывает нормально распределение, видны выбрасы слевой стороны по первым двум месяцам года. Так же видно, что пользователи тратят стабильно 15-16гб, к концу года кол-во израсход. трафика увеличивается "
   ]
  },
  {
   "cell_type": "code",
   "execution_count": 59,
   "metadata": {},
   "outputs": [
    {
     "data": {
      "text/plain": [
       "session_date_m\n",
       "1.0     39.412656\n",
       "2.0     37.150938\n",
       "3.0     32.549897\n",
       "4.0     31.299550\n",
       "5.0     34.370010\n",
       "6.0     31.911716\n",
       "7.0     33.419453\n",
       "8.0     28.962859\n",
       "9.0     25.884110\n",
       "10.0    32.897042\n",
       "11.0    27.180952\n",
       "12.0    29.786544\n",
       "Name: gb_used, dtype: float64"
      ]
     },
     "execution_count": 59,
     "metadata": {},
     "output_type": "execute_result"
    }
   ],
   "source": [
    "df_internet_gr_m_tariff_smart.groupby('session_date_m')['gb_used'].var()"
   ]
  },
  {
   "cell_type": "code",
   "execution_count": 60,
   "metadata": {},
   "outputs": [
    {
     "data": {
      "text/plain": [
       "session_date_m\n",
       "1.0     6.277950\n",
       "2.0     6.095157\n",
       "3.0     5.705252\n",
       "4.0     5.594600\n",
       "5.0     5.862594\n",
       "6.0     5.649046\n",
       "7.0     5.780956\n",
       "8.0     5.381715\n",
       "9.0     5.087643\n",
       "10.0    5.735594\n",
       "11.0    5.213535\n",
       "12.0    5.457705\n",
       "Name: gb_used, dtype: float64"
      ]
     },
     "execution_count": 60,
     "metadata": {},
     "output_type": "execute_result"
    }
   ],
   "source": [
    "df_internet_gr_m_tariff_smart.groupby('session_date_m')['gb_used'].std()"
   ]
  },
  {
   "cell_type": "markdown",
   "metadata": {},
   "source": [
    "Потребление интернет трафика заничительно меньше в начале года. К концу года наблюдается рост."
   ]
  },
  {
   "cell_type": "markdown",
   "metadata": {},
   "source": [
    "Вывод по пользователям тарифа smart: как видно из полученных данных в январе - феврале пользователи меньше всего активны, скорее всего это связано с новогодними каникулами. К концу года наблюдается рост. Рост связан скорее всего с приближением нового года, поздравления, поиски подарков и т.д. "
   ]
  },
  {
   "cell_type": "markdown",
   "metadata": {},
   "source": [
    "#### Пользователи ultra"
   ]
  },
  {
   "cell_type": "code",
   "execution_count": 61,
   "metadata": {},
   "outputs": [
    {
     "data": {
      "text/html": [
       "<div>\n",
       "<style scoped>\n",
       "    .dataframe tbody tr th:only-of-type {\n",
       "        vertical-align: middle;\n",
       "    }\n",
       "\n",
       "    .dataframe tbody tr th {\n",
       "        vertical-align: top;\n",
       "    }\n",
       "\n",
       "    .dataframe thead th {\n",
       "        text-align: right;\n",
       "    }\n",
       "</style>\n",
       "<table border=\"1\" class=\"dataframe\">\n",
       "  <thead>\n",
       "    <tr style=\"text-align: right;\">\n",
       "      <th></th>\n",
       "      <th>duration</th>\n",
       "    </tr>\n",
       "    <tr>\n",
       "      <th>call_date_m</th>\n",
       "      <th></th>\n",
       "    </tr>\n",
       "  </thead>\n",
       "  <tbody>\n",
       "    <tr>\n",
       "      <th>1.0</th>\n",
       "      <td>428.111111</td>\n",
       "    </tr>\n",
       "    <tr>\n",
       "      <th>2.0</th>\n",
       "      <td>297.125000</td>\n",
       "    </tr>\n",
       "    <tr>\n",
       "      <th>3.0</th>\n",
       "      <td>489.648649</td>\n",
       "    </tr>\n",
       "    <tr>\n",
       "      <th>4.0</th>\n",
       "      <td>475.301887</td>\n",
       "    </tr>\n",
       "    <tr>\n",
       "      <th>5.0</th>\n",
       "      <td>534.250000</td>\n",
       "    </tr>\n",
       "    <tr>\n",
       "      <th>6.0</th>\n",
       "      <td>497.469136</td>\n",
       "    </tr>\n",
       "    <tr>\n",
       "      <th>7.0</th>\n",
       "      <td>564.397727</td>\n",
       "    </tr>\n",
       "    <tr>\n",
       "      <th>8.0</th>\n",
       "      <td>530.611650</td>\n",
       "    </tr>\n",
       "    <tr>\n",
       "      <th>9.0</th>\n",
       "      <td>558.882883</td>\n",
       "    </tr>\n",
       "    <tr>\n",
       "      <th>10.0</th>\n",
       "      <td>581.728814</td>\n",
       "    </tr>\n",
       "    <tr>\n",
       "      <th>11.0</th>\n",
       "      <td>562.364341</td>\n",
       "    </tr>\n",
       "    <tr>\n",
       "      <th>12.0</th>\n",
       "      <td>614.925373</td>\n",
       "    </tr>\n",
       "  </tbody>\n",
       "</table>\n",
       "</div>"
      ],
      "text/plain": [
       "               duration\n",
       "call_date_m            \n",
       "1.0          428.111111\n",
       "2.0          297.125000\n",
       "3.0          489.648649\n",
       "4.0          475.301887\n",
       "5.0          534.250000\n",
       "6.0          497.469136\n",
       "7.0          564.397727\n",
       "8.0          530.611650\n",
       "9.0          558.882883\n",
       "10.0         581.728814\n",
       "11.0         562.364341\n",
       "12.0         614.925373"
      ]
     },
     "execution_count": 61,
     "metadata": {},
     "output_type": "execute_result"
    }
   ],
   "source": [
    "df_calls_gr_m_tariff_ultra.groupby('call_date_m').agg({'duration':'mean'})"
   ]
  },
  {
   "cell_type": "code",
   "execution_count": 62,
   "metadata": {},
   "outputs": [
    {
     "name": "stdout",
     "output_type": "stream",
     "text": [
      "Среднее в месяц: 511.23471423122083\n"
     ]
    }
   ],
   "source": [
    "print('Среднее в месяц:', df_calls_gr_m_tariff_ultra.groupby('call_date_m').agg({'duration':'mean'}).reset_index()['duration'].mean())"
   ]
  },
  {
   "cell_type": "code",
   "execution_count": 63,
   "metadata": {},
   "outputs": [
    {
     "data": {
      "text/plain": [
       "array([[<AxesSubplot:title={'center':'duration'}>]], dtype=object)"
      ]
     },
     "execution_count": 63,
     "metadata": {},
     "output_type": "execute_result"
    },
    {
     "data": {
      "image/png": "[encoded data removed]",
      "text/plain": [
       "<Figure size 432x288 with 1 Axes>"
      ]
     },
     "metadata": {
      "needs_background": "light"
     },
     "output_type": "display_data"
    }
   ],
   "source": [
    "df_calls_gr_m_tariff_ultra.groupby('call_date_m').agg({'duration':'mean'}).hist()"
   ]
  },
  {
   "cell_type": "markdown",
   "metadata": {},
   "source": [
    "Из данных видно, что у пользователей тарифа ultra расход минут более стабилен, проседание видно только в феврале. Так же отмечается рост к концу года"
   ]
  },
  {
   "cell_type": "code",
   "execution_count": 64,
   "metadata": {},
   "outputs": [
    {
     "data": {
      "text/plain": [
       "call_date_m\n",
       "1.0      72769.361111\n",
       "2.0      87919.679348\n",
       "3.0     111384.900901\n",
       "4.0      66036.830189\n",
       "5.0      74881.015873\n",
       "6.0      86019.652160\n",
       "7.0      86952.587121\n",
       "8.0      91169.553588\n",
       "9.0      98597.904341\n",
       "10.0     97140.336086\n",
       "11.0     88449.624031\n",
       "12.0    107981.031983\n",
       "Name: duration, dtype: float64"
      ]
     },
     "execution_count": 64,
     "metadata": {},
     "output_type": "execute_result"
    }
   ],
   "source": [
    "df_calls_gr_m_tariff_ultra.groupby('call_date_m')['duration'].var()"
   ]
  },
  {
   "cell_type": "code",
   "execution_count": 65,
   "metadata": {},
   "outputs": [
    {
     "data": {
      "text/plain": [
       "call_date_m\n",
       "1.0     269.757968\n",
       "2.0     296.512528\n",
       "3.0     333.743765\n",
       "4.0     256.976322\n",
       "5.0     273.643958\n",
       "6.0     293.291071\n",
       "7.0     294.877241\n",
       "8.0     301.942964\n",
       "9.0     314.003032\n",
       "10.0    311.673445\n",
       "11.0    297.404815\n",
       "12.0    328.604674\n",
       "Name: duration, dtype: float64"
      ]
     },
     "execution_count": 65,
     "metadata": {},
     "output_type": "execute_result"
    }
   ],
   "source": [
    "df_calls_gr_m_tariff_ultra.groupby('call_date_m')['duration'].std()"
   ]
  },
  {
   "cell_type": "markdown",
   "metadata": {},
   "source": [
    "При этом разброс значений больше, чем у пользователей smart"
   ]
  },
  {
   "cell_type": "code",
   "execution_count": 66,
   "metadata": {},
   "outputs": [
    {
     "data": {
      "text/plain": [
       "message_date_m\n",
       "1.0     43.428571\n",
       "2.0     32.937500\n",
       "3.0     47.800000\n",
       "4.0     44.512821\n",
       "5.0     48.769231\n",
       "6.0     52.313433\n",
       "7.0     62.136986\n",
       "8.0     58.897727\n",
       "9.0     63.294737\n",
       "10.0    69.776699\n",
       "11.0    66.159292\n",
       "12.0    72.008547\n",
       "Name: id, dtype: float64"
      ]
     },
     "execution_count": 66,
     "metadata": {},
     "output_type": "execute_result"
    }
   ],
   "source": [
    "df_messages_gr_m_tariff_ultra.groupby('message_date_m')['id'].mean()"
   ]
  },
  {
   "cell_type": "code",
   "execution_count": 67,
   "metadata": {},
   "outputs": [
    {
     "name": "stdout",
     "output_type": "stream",
     "text": [
      "Среднее в месяц: 55.169628669643124\n"
     ]
    }
   ],
   "source": [
    "print('Среднее в месяц:', df_messages_gr_m_tariff_ultra.groupby('message_date_m')['id'].mean().reset_index()['id'].mean())"
   ]
  },
  {
   "cell_type": "code",
   "execution_count": 68,
   "metadata": {},
   "outputs": [
    {
     "data": {
      "text/plain": [
       "<AxesSubplot:>"
      ]
     },
     "execution_count": 68,
     "metadata": {},
     "output_type": "execute_result"
    },
    {
     "data": {
      "image/png": "[encoded data removed]",
      "text/plain": [
       "<Figure size 432x288 with 1 Axes>"
      ]
     },
     "metadata": {
      "needs_background": "light"
     },
     "output_type": "display_data"
    }
   ],
   "source": [
    "df_messages_gr_m_tariff_ultra.groupby('message_date_m')['id'].mean().hist()"
   ]
  },
  {
   "cell_type": "markdown",
   "metadata": {},
   "source": [
    "В значениях для пользователей ultra наблюдается отсутвие нормального распределения данных"
   ]
  },
  {
   "cell_type": "code",
   "execution_count": 69,
   "metadata": {},
   "outputs": [
    {
     "data": {
      "text/plain": [
       "message_date_m\n",
       "1.0      765.285714\n",
       "2.0      713.395833\n",
       "3.0     1826.666667\n",
       "4.0     1408.256410\n",
       "5.0     1559.553544\n",
       "6.0     1935.672999\n",
       "7.0     2190.730974\n",
       "8.0     2022.966432\n",
       "9.0     1906.763270\n",
       "10.0    2426.606511\n",
       "11.0    2249.295828\n",
       "12.0    2362.870616\n",
       "Name: id, dtype: float64"
      ]
     },
     "execution_count": 69,
     "metadata": {},
     "output_type": "execute_result"
    }
   ],
   "source": [
    "df_messages_gr_m_tariff_ultra.groupby('message_date_m')['id'].var()"
   ]
  },
  {
   "cell_type": "code",
   "execution_count": 70,
   "metadata": {},
   "outputs": [
    {
     "data": {
      "text/plain": [
       "message_date_m\n",
       "1.0     27.663798\n",
       "2.0     26.709471\n",
       "3.0     42.739521\n",
       "4.0     37.526743\n",
       "5.0     39.491183\n",
       "6.0     43.996284\n",
       "7.0     46.805245\n",
       "8.0     44.977399\n",
       "9.0     43.666501\n",
       "10.0    49.260598\n",
       "11.0    47.426742\n",
       "12.0    48.609368\n",
       "Name: id, dtype: float64"
      ]
     },
     "execution_count": 70,
     "metadata": {},
     "output_type": "execute_result"
    }
   ],
   "source": [
    "df_messages_gr_m_tariff_ultra.groupby('message_date_m')['id'].std()"
   ]
  },
  {
   "cell_type": "markdown",
   "metadata": {},
   "source": [
    "Можно заметить, что разброс увеличивается начиная с марта и до конца года"
   ]
  },
  {
   "cell_type": "code",
   "execution_count": 71,
   "metadata": {},
   "outputs": [
    {
     "data": {
      "text/plain": [
       "session_date_m\n",
       "1.0     13.222222\n",
       "2.0     13.090909\n",
       "3.0     17.648649\n",
       "4.0     16.963636\n",
       "5.0     19.666667\n",
       "6.0     19.168675\n",
       "7.0     20.733333\n",
       "8.0     19.783019\n",
       "9.0     19.412281\n",
       "10.0    20.229508\n",
       "11.0    19.954887\n",
       "12.0    21.898551\n",
       "Name: gb_used, dtype: float64"
      ]
     },
     "execution_count": 71,
     "metadata": {},
     "output_type": "execute_result"
    }
   ],
   "source": [
    "df_internet_gr_m_tariff_ultra.groupby('session_date_m')['gb_used'].mean()"
   ]
  },
  {
   "cell_type": "code",
   "execution_count": 72,
   "metadata": {},
   "outputs": [
    {
     "name": "stdout",
     "output_type": "stream",
     "text": [
      "Среднее в месяц: 18.481028061107875\n"
     ]
    }
   ],
   "source": [
    "print('Среднее в месяц:', df_internet_gr_m_tariff_ultra.groupby('session_date_m')['gb_used'].mean().reset_index()['gb_used'].mean())"
   ]
  },
  {
   "cell_type": "code",
   "execution_count": 73,
   "metadata": {},
   "outputs": [
    {
     "data": {
      "text/plain": [
       "<AxesSubplot:>"
      ]
     },
     "execution_count": 73,
     "metadata": {},
     "output_type": "execute_result"
    },
    {
     "data": {
      "image/png": "[encoded data removed]",
      "text/plain": [
       "<Figure size 432x288 with 1 Axes>"
      ]
     },
     "metadata": {
      "needs_background": "light"
     },
     "output_type": "display_data"
    }
   ],
   "source": [
    "df_internet_gr_m_tariff_ultra.groupby('session_date_m')['gb_used'].mean().hist()"
   ]
  },
  {
   "cell_type": "markdown",
   "metadata": {},
   "source": [
    "Из данных видно, что расход интернет трафика так же резко проседает в первые месяцы. Далее заметно нормальное распределение данных. Так же видно, что пользователи начиная с мая трят стабильно 19-20гб, есть небольшой рост в декабре"
   ]
  },
  {
   "cell_type": "code",
   "execution_count": 74,
   "metadata": {},
   "outputs": [
    {
     "data": {
      "text/plain": [
       "session_date_m\n",
       "1.0      44.444444\n",
       "2.0     104.562771\n",
       "3.0     114.345345\n",
       "4.0      89.443098\n",
       "5.0      91.241026\n",
       "6.0      78.971202\n",
       "7.0      92.737079\n",
       "8.0     102.457233\n",
       "9.0      83.713476\n",
       "10.0     88.657634\n",
       "11.0     91.513101\n",
       "12.0    100.515180\n",
       "Name: gb_used, dtype: float64"
      ]
     },
     "execution_count": 74,
     "metadata": {},
     "output_type": "execute_result"
    }
   ],
   "source": [
    "df_internet_gr_m_tariff_ultra.groupby('session_date_m')['gb_used'].var()"
   ]
  },
  {
   "cell_type": "code",
   "execution_count": 75,
   "metadata": {},
   "outputs": [
    {
     "data": {
      "text/plain": [
       "session_date_m\n",
       "1.0      6.666667\n",
       "2.0     10.225594\n",
       "3.0     10.693238\n",
       "4.0      9.457436\n",
       "5.0      9.552017\n",
       "6.0      8.886574\n",
       "7.0      9.630009\n",
       "8.0     10.122116\n",
       "9.0      9.149507\n",
       "10.0     9.415818\n",
       "11.0     9.566248\n",
       "12.0    10.025726\n",
       "Name: gb_used, dtype: float64"
      ]
     },
     "execution_count": 75,
     "metadata": {},
     "output_type": "execute_result"
    }
   ],
   "source": [
    "df_internet_gr_m_tariff_ultra.groupby('session_date_m')['gb_used'].std()"
   ]
  },
  {
   "cell_type": "markdown",
   "metadata": {},
   "source": [
    "Сравнение данных по двум тарифам"
   ]
  },
  {
   "cell_type": "markdown",
   "metadata": {},
   "source": [
    "Вывод по пользователям ultra: виден сильный разброс в данных по расходу сообщений. Как и пользователей smart первые два месяца хуже остальных и виден рост к концу года"
   ]
  },
  {
   "cell_type": "markdown",
   "metadata": {},
   "source": [
    "Общий вывод по разделу: если проанализировать стартовые два пакета и как их расходуют пользователи, то видно что по звонкам и сообщениям пользователи чаще всего укладываются в пакеты. По интернет трафику не укладываются пользователи   smart, превышение не больше 15%. Стоит отметить, что пользователи ultra сильно не добирают по расходу пакета услуг, особенно по интернет трафику и сообщениям."
   ]
  },
  {
   "cell_type": "markdown",
   "metadata": {},
   "source": [
    "## Шаг 4. Проверьте гипотезы"
   ]
  },
  {
   "cell_type": "markdown",
   "metadata": {},
   "source": [
    "- средняя выручка пользователей тарифов «Ультра» и «Смарт» различаются;\n",
    "- средняя выручка пользователей из Москвы отличается от выручки пользователей из других регионов. <br>\n",
    "Пороговое значение alpha задайте самостоятельно. <br>\n",
    "Поясните:\n",
    "- как вы формулировали нулевую и альтернативную гипотезы;\n",
    "- какой критерий использовали для проверки гипотез и почему."
   ]
  },
  {
   "cell_type": "markdown",
   "metadata": {},
   "source": [
    "Для рассчета будем использовать метод scipy.stats.ttest_ind (Гипотеза о равенстве средних двух генеральных совокупностей)"
   ]
  },
  {
   "cell_type": "markdown",
   "metadata": {},
   "source": [
    "За H0 будем брать гипотезу о равенстве двух выборок, за H1 противоположную гипотезу"
   ]
  },
  {
   "cell_type": "markdown",
   "metadata": {},
   "source": [
    "#### Средняя выручка пользователей тарифов «Ультра» и «Смарт» различаются;"
   ]
  },
  {
   "cell_type": "markdown",
   "metadata": {},
   "source": [
    "Сохраним нужные данные по выручки двух категорий клиентов"
   ]
  },
  {
   "cell_type": "code",
   "execution_count": 76,
   "metadata": {},
   "outputs": [
    {
     "data": {
      "text/html": [
       "<div>\n",
       "<style scoped>\n",
       "    .dataframe tbody tr th:only-of-type {\n",
       "        vertical-align: middle;\n",
       "    }\n",
       "\n",
       "    .dataframe tbody tr th {\n",
       "        vertical-align: top;\n",
       "    }\n",
       "\n",
       "    .dataframe thead th {\n",
       "        text-align: right;\n",
       "    }\n",
       "</style>\n",
       "<table border=\"1\" class=\"dataframe\">\n",
       "  <thead>\n",
       "    <tr style=\"text-align: right;\">\n",
       "      <th></th>\n",
       "      <th>user_id</th>\n",
       "      <th>count_calls</th>\n",
       "      <th>duration</th>\n",
       "      <th>count_messages</th>\n",
       "      <th>count_internet</th>\n",
       "      <th>mb_used</th>\n",
       "      <th>gb_used</th>\n",
       "      <th>city</th>\n",
       "      <th>tariff</th>\n",
       "      <th>duration_clear</th>\n",
       "      <th>count_messages_clear</th>\n",
       "      <th>gb_used_clear</th>\n",
       "      <th>income</th>\n",
       "    </tr>\n",
       "  </thead>\n",
       "  <tbody>\n",
       "    <tr>\n",
       "      <th>0</th>\n",
       "      <td>1000</td>\n",
       "      <td>368.0</td>\n",
       "      <td>2566.0</td>\n",
       "      <td>496.0</td>\n",
       "      <td>211.0</td>\n",
       "      <td>107392.31</td>\n",
       "      <td>105.0</td>\n",
       "      <td>Краснодар</td>\n",
       "      <td>ultra</td>\n",
       "      <td>0.0</td>\n",
       "      <td>0.0</td>\n",
       "      <td>75.0</td>\n",
       "      <td>13200.0</td>\n",
       "    </tr>\n",
       "    <tr>\n",
       "      <th>1</th>\n",
       "      <td>1001</td>\n",
       "      <td>122.0</td>\n",
       "      <td>844.0</td>\n",
       "      <td>NaN</td>\n",
       "      <td>96.0</td>\n",
       "      <td>32466.00</td>\n",
       "      <td>32.0</td>\n",
       "      <td>Москва</td>\n",
       "      <td>smart</td>\n",
       "      <td>344.0</td>\n",
       "      <td>0.0</td>\n",
       "      <td>17.0</td>\n",
       "      <td>4982.0</td>\n",
       "    </tr>\n",
       "    <tr>\n",
       "      <th>2</th>\n",
       "      <td>1002</td>\n",
       "      <td>217.0</td>\n",
       "      <td>1517.0</td>\n",
       "      <td>70.0</td>\n",
       "      <td>369.0</td>\n",
       "      <td>116036.52</td>\n",
       "      <td>114.0</td>\n",
       "      <td>Стерлитамак</td>\n",
       "      <td>smart</td>\n",
       "      <td>1017.0</td>\n",
       "      <td>20.0</td>\n",
       "      <td>99.0</td>\n",
       "      <td>23461.0</td>\n",
       "    </tr>\n",
       "    <tr>\n",
       "      <th>3</th>\n",
       "      <td>1003</td>\n",
       "      <td>520.0</td>\n",
       "      <td>3822.0</td>\n",
       "      <td>380.0</td>\n",
       "      <td>104.0</td>\n",
       "      <td>57280.64</td>\n",
       "      <td>56.0</td>\n",
       "      <td>Москва</td>\n",
       "      <td>ultra</td>\n",
       "      <td>822.0</td>\n",
       "      <td>0.0</td>\n",
       "      <td>26.0</td>\n",
       "      <td>6672.0</td>\n",
       "    </tr>\n",
       "    <tr>\n",
       "      <th>4</th>\n",
       "      <td>1004</td>\n",
       "      <td>176.0</td>\n",
       "      <td>987.0</td>\n",
       "      <td>1192.0</td>\n",
       "      <td>300.0</td>\n",
       "      <td>149039.48</td>\n",
       "      <td>146.0</td>\n",
       "      <td>Новокузнецк</td>\n",
       "      <td>ultra</td>\n",
       "      <td>0.0</td>\n",
       "      <td>192.0</td>\n",
       "      <td>116.0</td>\n",
       "      <td>19542.0</td>\n",
       "    </tr>\n",
       "    <tr>\n",
       "      <th>...</th>\n",
       "      <td>...</td>\n",
       "      <td>...</td>\n",
       "      <td>...</td>\n",
       "      <td>...</td>\n",
       "      <td>...</td>\n",
       "      <td>...</td>\n",
       "      <td>...</td>\n",
       "      <td>...</td>\n",
       "      <td>...</td>\n",
       "      <td>...</td>\n",
       "      <td>...</td>\n",
       "      <td>...</td>\n",
       "      <td>...</td>\n",
       "    </tr>\n",
       "    <tr>\n",
       "      <th>495</th>\n",
       "      <td>1328</td>\n",
       "      <td>NaN</td>\n",
       "      <td>NaN</td>\n",
       "      <td>21.0</td>\n",
       "      <td>208.0</td>\n",
       "      <td>97373.29</td>\n",
       "      <td>96.0</td>\n",
       "      <td>Мурманск</td>\n",
       "      <td>ultra</td>\n",
       "      <td>0.0</td>\n",
       "      <td>0.0</td>\n",
       "      <td>66.0</td>\n",
       "      <td>11850.0</td>\n",
       "    </tr>\n",
       "    <tr>\n",
       "      <th>496</th>\n",
       "      <td>1473</td>\n",
       "      <td>NaN</td>\n",
       "      <td>NaN</td>\n",
       "      <td>90.0</td>\n",
       "      <td>163.0</td>\n",
       "      <td>83975.96</td>\n",
       "      <td>83.0</td>\n",
       "      <td>Красноярск</td>\n",
       "      <td>ultra</td>\n",
       "      <td>0.0</td>\n",
       "      <td>0.0</td>\n",
       "      <td>53.0</td>\n",
       "      <td>9900.0</td>\n",
       "    </tr>\n",
       "    <tr>\n",
       "      <th>497</th>\n",
       "      <td>1489</td>\n",
       "      <td>NaN</td>\n",
       "      <td>NaN</td>\n",
       "      <td>125.0</td>\n",
       "      <td>266.0</td>\n",
       "      <td>82630.37</td>\n",
       "      <td>81.0</td>\n",
       "      <td>Санкт-Петербург</td>\n",
       "      <td>smart</td>\n",
       "      <td>0.0</td>\n",
       "      <td>75.0</td>\n",
       "      <td>66.0</td>\n",
       "      <td>13975.0</td>\n",
       "    </tr>\n",
       "    <tr>\n",
       "      <th>498</th>\n",
       "      <td>1128</td>\n",
       "      <td>NaN</td>\n",
       "      <td>NaN</td>\n",
       "      <td>NaN</td>\n",
       "      <td>NaN</td>\n",
       "      <td>NaN</td>\n",
       "      <td>NaN</td>\n",
       "      <td>Волжский</td>\n",
       "      <td>ultra</td>\n",
       "      <td>0.0</td>\n",
       "      <td>0.0</td>\n",
       "      <td>0.0</td>\n",
       "      <td>1950.0</td>\n",
       "    </tr>\n",
       "    <tr>\n",
       "      <th>499</th>\n",
       "      <td>1371</td>\n",
       "      <td>NaN</td>\n",
       "      <td>NaN</td>\n",
       "      <td>NaN</td>\n",
       "      <td>NaN</td>\n",
       "      <td>NaN</td>\n",
       "      <td>NaN</td>\n",
       "      <td>Омск</td>\n",
       "      <td>smart</td>\n",
       "      <td>0.0</td>\n",
       "      <td>0.0</td>\n",
       "      <td>0.0</td>\n",
       "      <td>550.0</td>\n",
       "    </tr>\n",
       "  </tbody>\n",
       "</table>\n",
       "<p>500 rows × 13 columns</p>\n",
       "</div>"
      ],
      "text/plain": [
       "     user_id  count_calls  duration  count_messages  count_internet  \\\n",
       "0       1000        368.0    2566.0           496.0           211.0   \n",
       "1       1001        122.0     844.0             NaN            96.0   \n",
       "2       1002        217.0    1517.0            70.0           369.0   \n",
       "3       1003        520.0    3822.0           380.0           104.0   \n",
       "4       1004        176.0     987.0          1192.0           300.0   \n",
       "..       ...          ...       ...             ...             ...   \n",
       "495     1328          NaN       NaN            21.0           208.0   \n",
       "496     1473          NaN       NaN            90.0           163.0   \n",
       "497     1489          NaN       NaN           125.0           266.0   \n",
       "498     1128          NaN       NaN             NaN             NaN   \n",
       "499     1371          NaN       NaN             NaN             NaN   \n",
       "\n",
       "       mb_used  gb_used             city tariff  duration_clear  \\\n",
       "0    107392.31    105.0        Краснодар  ultra             0.0   \n",
       "1     32466.00     32.0           Москва  smart           344.0   \n",
       "2    116036.52    114.0      Стерлитамак  smart          1017.0   \n",
       "3     57280.64     56.0           Москва  ultra           822.0   \n",
       "4    149039.48    146.0      Новокузнецк  ultra             0.0   \n",
       "..         ...      ...              ...    ...             ...   \n",
       "495   97373.29     96.0         Мурманск  ultra             0.0   \n",
       "496   83975.96     83.0       Красноярск  ultra             0.0   \n",
       "497   82630.37     81.0  Санкт-Петербург  smart             0.0   \n",
       "498        NaN      NaN         Волжский  ultra             0.0   \n",
       "499        NaN      NaN             Омск  smart             0.0   \n",
       "\n",
       "     count_messages_clear  gb_used_clear   income  \n",
       "0                     0.0           75.0  13200.0  \n",
       "1                     0.0           17.0   4982.0  \n",
       "2                    20.0           99.0  23461.0  \n",
       "3                     0.0           26.0   6672.0  \n",
       "4                   192.0          116.0  19542.0  \n",
       "..                    ...            ...      ...  \n",
       "495                   0.0           66.0  11850.0  \n",
       "496                   0.0           53.0   9900.0  \n",
       "497                  75.0           66.0  13975.0  \n",
       "498                   0.0            0.0   1950.0  \n",
       "499                   0.0            0.0    550.0  \n",
       "\n",
       "[500 rows x 13 columns]"
      ]
     },
     "execution_count": 76,
     "metadata": {},
     "output_type": "execute_result"
    }
   ],
   "source": [
    "df_profil_user"
   ]
  },
  {
   "cell_type": "code",
   "execution_count": 77,
   "metadata": {},
   "outputs": [],
   "source": [
    "df_profil_user_ultra = df_profil_user[df_profil_user['tariff'] == 'ultra'][['income']].sample(n=100)\n",
    "df_profil_user_smart = df_profil_user[df_profil_user['tariff'] == 'smart'][['income']].sample(n=100)"
   ]
  },
  {
   "cell_type": "code",
   "execution_count": 78,
   "metadata": {},
   "outputs": [
    {
     "data": {
      "text/html": [
       "<div>\n",
       "<style scoped>\n",
       "    .dataframe tbody tr th:only-of-type {\n",
       "        vertical-align: middle;\n",
       "    }\n",
       "\n",
       "    .dataframe tbody tr th {\n",
       "        vertical-align: top;\n",
       "    }\n",
       "\n",
       "    .dataframe thead th {\n",
       "        text-align: right;\n",
       "    }\n",
       "</style>\n",
       "<table border=\"1\" class=\"dataframe\">\n",
       "  <thead>\n",
       "    <tr style=\"text-align: right;\">\n",
       "      <th></th>\n",
       "      <th>income</th>\n",
       "    </tr>\n",
       "  </thead>\n",
       "  <tbody>\n",
       "    <tr>\n",
       "      <th>163</th>\n",
       "      <td>4800.0</td>\n",
       "    </tr>\n",
       "    <tr>\n",
       "      <th>222</th>\n",
       "      <td>24737.0</td>\n",
       "    </tr>\n",
       "    <tr>\n",
       "      <th>336</th>\n",
       "      <td>30433.0</td>\n",
       "    </tr>\n",
       "    <tr>\n",
       "      <th>193</th>\n",
       "      <td>31310.0</td>\n",
       "    </tr>\n",
       "    <tr>\n",
       "      <th>78</th>\n",
       "      <td>24424.0</td>\n",
       "    </tr>\n",
       "  </tbody>\n",
       "</table>\n",
       "</div>"
      ],
      "text/plain": [
       "      income\n",
       "163   4800.0\n",
       "222  24737.0\n",
       "336  30433.0\n",
       "193  31310.0\n",
       "78   24424.0"
      ]
     },
     "execution_count": 78,
     "metadata": {},
     "output_type": "execute_result"
    }
   ],
   "source": [
    "df_profil_user_ultra.head()"
   ]
  },
  {
   "cell_type": "code",
   "execution_count": 79,
   "metadata": {},
   "outputs": [
    {
     "data": {
      "text/html": [
       "<div>\n",
       "<style scoped>\n",
       "    .dataframe tbody tr th:only-of-type {\n",
       "        vertical-align: middle;\n",
       "    }\n",
       "\n",
       "    .dataframe tbody tr th {\n",
       "        vertical-align: top;\n",
       "    }\n",
       "\n",
       "    .dataframe thead th {\n",
       "        text-align: right;\n",
       "    }\n",
       "</style>\n",
       "<table border=\"1\" class=\"dataframe\">\n",
       "  <thead>\n",
       "    <tr style=\"text-align: right;\">\n",
       "      <th></th>\n",
       "      <th>income</th>\n",
       "    </tr>\n",
       "  </thead>\n",
       "  <tbody>\n",
       "    <tr>\n",
       "      <th>276</th>\n",
       "      <td>25572.0</td>\n",
       "    </tr>\n",
       "    <tr>\n",
       "      <th>443</th>\n",
       "      <td>23117.0</td>\n",
       "    </tr>\n",
       "    <tr>\n",
       "      <th>329</th>\n",
       "      <td>4756.0</td>\n",
       "    </tr>\n",
       "    <tr>\n",
       "      <th>194</th>\n",
       "      <td>35014.0</td>\n",
       "    </tr>\n",
       "    <tr>\n",
       "      <th>184</th>\n",
       "      <td>17742.0</td>\n",
       "    </tr>\n",
       "  </tbody>\n",
       "</table>\n",
       "</div>"
      ],
      "text/plain": [
       "      income\n",
       "276  25572.0\n",
       "443  23117.0\n",
       "329   4756.0\n",
       "194  35014.0\n",
       "184  17742.0"
      ]
     },
     "execution_count": 79,
     "metadata": {},
     "output_type": "execute_result"
    }
   ],
   "source": [
    "df_profil_user_smart.head()"
   ]
  },
  {
   "cell_type": "code",
   "execution_count": 80,
   "metadata": {},
   "outputs": [
    {
     "data": {
      "text/plain": [
       "array([[<AxesSubplot:title={'center':'income'}>]], dtype=object)"
      ]
     },
     "execution_count": 80,
     "metadata": {},
     "output_type": "execute_result"
    },
    {
     "data": {
      "image/png": "[encoded data removed]",
      "text/plain": [
       "<Figure size 432x288 with 1 Axes>"
      ]
     },
     "metadata": {
      "needs_background": "light"
     },
     "output_type": "display_data"
    }
   ],
   "source": [
    "df_profil_user_ultra.hist()"
   ]
  },
  {
   "cell_type": "code",
   "execution_count": 81,
   "metadata": {},
   "outputs": [
    {
     "data": {
      "text/plain": [
       "array([[<AxesSubplot:title={'center':'income'}>]], dtype=object)"
      ]
     },
     "execution_count": 81,
     "metadata": {},
     "output_type": "execute_result"
    },
    {
     "data": {
      "image/png": "[encoded data removed]",
      "text/plain": [
       "<Figure size 432x288 with 1 Axes>"
      ]
     },
     "metadata": {
      "needs_background": "light"
     },
     "output_type": "display_data"
    }
   ],
   "source": [
    "df_profil_user_smart.hist()"
   ]
  },
  {
   "cell_type": "markdown",
   "metadata": {},
   "source": [
    "Сформулируем две гипотезы: <br>\n",
    "H0: средняя выручка пользователей тарифов «Ультра» и «Смарт» равны. <br>\n",
    "H1: средняя выручка пользователей тарифов «Ультра» и «Смарт» различны."
   ]
  },
  {
   "cell_type": "code",
   "execution_count": 82,
   "metadata": {},
   "outputs": [
    {
     "name": "stdout",
     "output_type": "stream",
     "text": [
      "p-значение: [0.00516481]\n",
      "Отвергаем нулевую гипотезу\n"
     ]
    }
   ],
   "source": [
    "alpha = .05 # пороговое значение возьмем за 5%\n",
    "\n",
    "results = st.ttest_ind(\n",
    "    df_profil_user_smart, \n",
    "    df_profil_user_ultra)\n",
    "\n",
    "print('p-значение:', results.pvalue)\n",
    "\n",
    "if results.pvalue < alpha:\n",
    "    print(\"Отвергаем нулевую гипотезу\")\n",
    "else:\n",
    "    print(\"Не получилось отвергнуть нулевую гипотезу\")"
   ]
  },
  {
   "cell_type": "markdown",
   "metadata": {},
   "source": [
    "Из полученных данных можем предположить, что средняя выручка пользователей тарифов «Ультра» и «Смарт» различна."
   ]
  },
  {
   "cell_type": "markdown",
   "metadata": {},
   "source": [
    "#### Средняя выручка пользователей из Москвы отличается от выручки пользователей из других регионов. "
   ]
  },
  {
   "cell_type": "markdown",
   "metadata": {},
   "source": [
    "Сохраним нужные данные:"
   ]
  },
  {
   "cell_type": "code",
   "execution_count": 83,
   "metadata": {},
   "outputs": [],
   "source": [
    "df_profil_user['city'] = df_profil_user['city'].str.lower()\n",
    "df_profil_user_moskow = df_profil_user[df_profil_user['city'] == 'москва'][['income']].sample(n=70)\n",
    "df_profil_user_unmoskow = df_profil_user[df_profil_user['city'] != 'москва'][['income']].sample(n=70)"
   ]
  },
  {
   "cell_type": "code",
   "execution_count": 84,
   "metadata": {},
   "outputs": [
    {
     "data": {
      "text/plain": [
       "array([[<AxesSubplot:title={'center':'income'}>]], dtype=object)"
      ]
     },
     "execution_count": 84,
     "metadata": {},
     "output_type": "execute_result"
    },
    {
     "data": {
      "image/png": "[encoded data removed]",
      "text/plain": [
       "<Figure size 432x288 with 1 Axes>"
      ]
     },
     "metadata": {
      "needs_background": "light"
     },
     "output_type": "display_data"
    }
   ],
   "source": [
    "df_profil_user_moskow.hist()"
   ]
  },
  {
   "cell_type": "code",
   "execution_count": 85,
   "metadata": {},
   "outputs": [
    {
     "data": {
      "text/plain": [
       "array([[<AxesSubplot:title={'center':'income'}>]], dtype=object)"
      ]
     },
     "execution_count": 85,
     "metadata": {},
     "output_type": "execute_result"
    },
    {
     "data": {
      "image/png": "[encoded data removed]",
      "text/plain": [
       "<Figure size 432x288 with 1 Axes>"
      ]
     },
     "metadata": {
      "needs_background": "light"
     },
     "output_type": "display_data"
    }
   ],
   "source": [
    "df_profil_user_unmoskow.hist()"
   ]
  },
  {
   "cell_type": "markdown",
   "metadata": {},
   "source": [
    "H0:средняя выручка пользователей из Москвы не отличается от выручки пользователей из других регионов <br>\n",
    "H1:средняя выручка пользователей из Москвы отличается от выручки пользователей из других регионов"
   ]
  },
  {
   "cell_type": "code",
   "execution_count": 86,
   "metadata": {},
   "outputs": [
    {
     "name": "stdout",
     "output_type": "stream",
     "text": [
      "p-значение: [0.77564625]\n",
      "Не получилось отвергнуть нулевую гипотезу\n"
     ]
    }
   ],
   "source": [
    "alpha = .05 # пороговое значение возьмем за 5%\n",
    "\n",
    "results = st.ttest_ind(\n",
    "    df_profil_user_moskow, \n",
    "    df_profil_user_unmoskow)\n",
    "\n",
    "print('p-значение:', results.pvalue)\n",
    "\n",
    "if results.pvalue < alpha:\n",
    "    print(\"Отвергаем нулевую гипотезу\")\n",
    "else:\n",
    "    print(\"Не получилось отвергнуть нулевую гипотезу\")"
   ]
  },
  {
   "cell_type": "markdown",
   "metadata": {},
   "source": [
    "Из полученных данный можно предположить, что средняя выручка пользователей из Москвы не отличается от выручки пользователей из других регионов"
   ]
  },
  {
   "cell_type": "markdown",
   "metadata": {},
   "source": [
    "## Шаг 5. Напишите общий вывод"
   ]
  },
  {
   "cell_type": "markdown",
   "metadata": {},
   "source": [
    "Вывод: из исследования можно сделать выводы:\n",
    "- пользователи smart чаще всего расходуют больше мбайт, чем входит в пакет\n",
    "- пользователи ultra чаще всего расходуют в пределах 65 %  от входящего в тариф пакета (и это трафик интернета). если мы проанализируем звонки и сообщения, то там показатели меньше 20%.\n",
    "- стоит отметить что пользователи smart превышают пакет интренета не больше 2ГБ (с учетом окрубления в большую сторону), что приносит в районе 400р. Если сравнивать абоненскую плату + превышения лимита, то пользователи тарифа ultra выгоднее для поставщика услуг т.к. абоненская плата по тарифу больше тарифа smart + превышения в 2Гб. Так же пользователи тарифа ultra платят за пакеты, которые не могут израсходовать и пакеты остаются полнымив большей степени к концу месяца.\n",
    "- средняя выручка не отличается в зависимости от региона\n",
    "Если подвести итог, то могу заметить, что для поставщика услуг пользователи тарифа smart являются более выгодными т.к.:\n",
    "- они не расходуют очень сильно свои вкл в стоимость абонента пакеты\n",
    "- переплаты за перерасход пользователей smart значительно меньше, чем абоненская плата пользователей ultra."
   ]
  }
 ],
 "metadata": {
  "ExecuteTimeLog": [
   {
    "duration": 468,
    "start_time": "2022-10-09T18:30:44.204Z"
   },
   {
    "duration": 66,
    "start_time": "2022-10-09T18:36:55.929Z"
   },
   {
    "duration": 2,
    "start_time": "2022-10-09T18:37:04.134Z"
   },
   {
    "duration": 1039,
    "start_time": "2022-10-09T18:37:04.913Z"
   },
   {
    "duration": 632,
    "start_time": "2022-10-09T18:37:44.452Z"
   },
   {
    "duration": 16,
    "start_time": "2022-10-09T18:38:04.676Z"
   },
   {
    "duration": 7,
    "start_time": "2022-10-09T18:38:11.803Z"
   },
   {
    "duration": 32,
    "start_time": "2022-10-09T18:38:29.053Z"
   },
   {
    "duration": 8,
    "start_time": "2022-10-09T18:39:13.450Z"
   },
   {
    "duration": 18,
    "start_time": "2022-10-09T18:39:20.783Z"
   },
   {
    "duration": 6,
    "start_time": "2022-10-09T18:39:48.907Z"
   },
   {
    "duration": 16,
    "start_time": "2022-10-09T18:39:55.355Z"
   },
   {
    "duration": 8,
    "start_time": "2022-10-09T18:40:07.627Z"
   },
   {
    "duration": 10,
    "start_time": "2022-10-09T18:40:16.301Z"
   },
   {
    "duration": 16,
    "start_time": "2022-10-09T18:40:39.355Z"
   },
   {
    "duration": 10,
    "start_time": "2022-10-09T18:40:45.508Z"
   },
   {
    "duration": 1725,
    "start_time": "2022-10-09T18:49:08.920Z"
   },
   {
    "duration": 67,
    "start_time": "2022-10-09T18:50:22.508Z"
   },
   {
    "duration": 12,
    "start_time": "2022-10-09T18:50:38.921Z"
   },
   {
    "duration": 14,
    "start_time": "2022-10-09T18:50:52.228Z"
   },
   {
    "duration": 17,
    "start_time": "2022-10-09T18:51:08.500Z"
   },
   {
    "duration": 13,
    "start_time": "2022-10-09T18:51:20.953Z"
   },
   {
    "duration": 10,
    "start_time": "2022-10-09T18:51:31.653Z"
   },
   {
    "duration": 387,
    "start_time": "2022-10-09T20:19:11.474Z"
   },
   {
    "duration": 533,
    "start_time": "2022-10-09T20:19:11.863Z"
   },
   {
    "duration": 14,
    "start_time": "2022-10-09T20:19:12.397Z"
   },
   {
    "duration": 21,
    "start_time": "2022-10-09T20:19:12.413Z"
   },
   {
    "duration": 7,
    "start_time": "2022-10-09T20:19:12.436Z"
   },
   {
    "duration": 19,
    "start_time": "2022-10-09T20:19:12.444Z"
   },
   {
    "duration": 6,
    "start_time": "2022-10-09T20:19:12.465Z"
   },
   {
    "duration": 40,
    "start_time": "2022-10-09T20:19:12.472Z"
   },
   {
    "duration": 7,
    "start_time": "2022-10-09T20:19:12.513Z"
   },
   {
    "duration": 11,
    "start_time": "2022-10-09T20:19:12.522Z"
   },
   {
    "duration": 8,
    "start_time": "2022-10-09T20:19:12.535Z"
   },
   {
    "duration": 10,
    "start_time": "2022-10-09T20:19:12.544Z"
   },
   {
    "duration": 91,
    "start_time": "2022-10-09T20:19:12.555Z"
   },
   {
    "duration": 15,
    "start_time": "2022-10-09T20:19:12.648Z"
   },
   {
    "duration": 15,
    "start_time": "2022-10-09T20:19:12.664Z"
   },
   {
    "duration": 29,
    "start_time": "2022-10-09T20:19:12.681Z"
   },
   {
    "duration": 8,
    "start_time": "2022-10-09T20:19:12.712Z"
   },
   {
    "duration": 422,
    "start_time": "2022-10-10T18:02:54.046Z"
   },
   {
    "duration": 1364,
    "start_time": "2022-10-10T18:02:54.470Z"
   },
   {
    "duration": 18,
    "start_time": "2022-10-10T18:02:55.835Z"
   },
   {
    "duration": 32,
    "start_time": "2022-10-10T18:02:55.855Z"
   },
   {
    "duration": 10,
    "start_time": "2022-10-10T18:02:55.889Z"
   },
   {
    "duration": 49,
    "start_time": "2022-10-10T18:02:55.901Z"
   },
   {
    "duration": 9,
    "start_time": "2022-10-10T18:02:55.953Z"
   },
   {
    "duration": 28,
    "start_time": "2022-10-10T18:02:55.964Z"
   },
   {
    "duration": 22,
    "start_time": "2022-10-10T18:02:55.994Z"
   },
   {
    "duration": 25,
    "start_time": "2022-10-10T18:02:56.018Z"
   },
   {
    "duration": 29,
    "start_time": "2022-10-10T18:02:56.045Z"
   },
   {
    "duration": 20,
    "start_time": "2022-10-10T18:02:56.075Z"
   },
   {
    "duration": 83,
    "start_time": "2022-10-10T18:02:56.097Z"
   },
   {
    "duration": 17,
    "start_time": "2022-10-10T18:02:56.182Z"
   },
   {
    "duration": 30,
    "start_time": "2022-10-10T18:02:56.201Z"
   },
   {
    "duration": 27,
    "start_time": "2022-10-10T18:02:56.233Z"
   },
   {
    "duration": 14,
    "start_time": "2022-10-10T18:02:56.263Z"
   },
   {
    "duration": 13,
    "start_time": "2022-10-10T18:06:50.873Z"
   },
   {
    "duration": 453,
    "start_time": "2022-10-10T18:08:07.351Z"
   },
   {
    "duration": 740,
    "start_time": "2022-10-10T18:08:07.807Z"
   },
   {
    "duration": 16,
    "start_time": "2022-10-10T18:08:08.549Z"
   },
   {
    "duration": 24,
    "start_time": "2022-10-10T18:08:08.567Z"
   },
   {
    "duration": 9,
    "start_time": "2022-10-10T18:08:08.593Z"
   },
   {
    "duration": 28,
    "start_time": "2022-10-10T18:08:08.604Z"
   },
   {
    "duration": 8,
    "start_time": "2022-10-10T18:08:08.653Z"
   },
   {
    "duration": 32,
    "start_time": "2022-10-10T18:08:08.664Z"
   },
   {
    "duration": 13,
    "start_time": "2022-10-10T18:08:08.698Z"
   },
   {
    "duration": 14,
    "start_time": "2022-10-10T18:08:08.713Z"
   },
   {
    "duration": 31,
    "start_time": "2022-10-10T18:08:08.729Z"
   },
   {
    "duration": 16,
    "start_time": "2022-10-10T18:08:08.762Z"
   },
   {
    "duration": 96,
    "start_time": "2022-10-10T18:08:08.780Z"
   },
   {
    "duration": 18,
    "start_time": "2022-10-10T18:08:08.878Z"
   },
   {
    "duration": 19,
    "start_time": "2022-10-10T18:08:08.898Z"
   },
   {
    "duration": 39,
    "start_time": "2022-10-10T18:08:08.920Z"
   },
   {
    "duration": 13,
    "start_time": "2022-10-10T18:08:08.961Z"
   },
   {
    "duration": 19,
    "start_time": "2022-10-10T18:08:08.976Z"
   },
   {
    "duration": 14,
    "start_time": "2022-10-10T18:08:08.997Z"
   },
   {
    "duration": 44,
    "start_time": "2022-10-10T18:08:09.013Z"
   },
   {
    "duration": 7,
    "start_time": "2022-10-10T18:08:09.059Z"
   },
   {
    "duration": 66,
    "start_time": "2022-10-10T18:11:13.081Z"
   },
   {
    "duration": 76,
    "start_time": "2022-10-10T18:26:55.462Z"
   },
   {
    "duration": 25,
    "start_time": "2022-10-10T18:28:29.212Z"
   },
   {
    "duration": 47,
    "start_time": "2022-10-10T18:28:31.630Z"
   },
   {
    "duration": 13,
    "start_time": "2022-10-10T18:31:13.672Z"
   },
   {
    "duration": 443,
    "start_time": "2022-10-10T18:31:29.275Z"
   },
   {
    "duration": 740,
    "start_time": "2022-10-10T18:31:29.720Z"
   },
   {
    "duration": 19,
    "start_time": "2022-10-10T18:31:30.463Z"
   },
   {
    "duration": 197,
    "start_time": "2022-10-10T18:31:30.485Z"
   },
   {
    "duration": 13,
    "start_time": "2022-10-10T18:31:30.685Z"
   },
   {
    "duration": 53,
    "start_time": "2022-10-10T18:31:30.700Z"
   },
   {
    "duration": 21,
    "start_time": "2022-10-10T18:31:30.757Z"
   },
   {
    "duration": 60,
    "start_time": "2022-10-10T18:31:30.780Z"
   },
   {
    "duration": 58,
    "start_time": "2022-10-10T18:31:30.842Z"
   },
   {
    "duration": 51,
    "start_time": "2022-10-10T18:31:30.902Z"
   },
   {
    "duration": 89,
    "start_time": "2022-10-10T18:31:30.957Z"
   },
   {
    "duration": 88,
    "start_time": "2022-10-10T18:31:31.048Z"
   },
   {
    "duration": 120,
    "start_time": "2022-10-10T18:31:31.138Z"
   },
   {
    "duration": 22,
    "start_time": "2022-10-10T18:31:31.262Z"
   },
   {
    "duration": 44,
    "start_time": "2022-10-10T18:31:31.286Z"
   },
   {
    "duration": 31,
    "start_time": "2022-10-10T18:31:31.332Z"
   },
   {
    "duration": 24,
    "start_time": "2022-10-10T18:31:31.370Z"
   },
   {
    "duration": 38,
    "start_time": "2022-10-10T18:31:31.396Z"
   },
   {
    "duration": 52,
    "start_time": "2022-10-10T18:31:31.436Z"
   },
   {
    "duration": 50,
    "start_time": "2022-10-10T18:31:31.491Z"
   },
   {
    "duration": 73,
    "start_time": "2022-10-10T18:31:31.543Z"
   },
   {
    "duration": 123,
    "start_time": "2022-10-10T18:31:31.618Z"
   },
   {
    "duration": 0,
    "start_time": "2022-10-10T18:31:31.743Z"
   },
   {
    "duration": 64,
    "start_time": "2022-10-10T18:32:17.715Z"
   },
   {
    "duration": 16,
    "start_time": "2022-10-10T18:32:29.755Z"
   },
   {
    "duration": 27,
    "start_time": "2022-10-10T18:32:38.094Z"
   },
   {
    "duration": 54,
    "start_time": "2022-10-10T18:32:39.656Z"
   },
   {
    "duration": 55,
    "start_time": "2022-10-10T18:33:43.956Z"
   },
   {
    "duration": 52,
    "start_time": "2022-10-10T18:33:53.727Z"
   },
   {
    "duration": 377,
    "start_time": "2022-10-10T22:09:34.936Z"
   },
   {
    "duration": 1421,
    "start_time": "2022-10-10T22:09:35.314Z"
   },
   {
    "duration": 14,
    "start_time": "2022-10-10T22:09:36.738Z"
   },
   {
    "duration": 38,
    "start_time": "2022-10-10T22:09:36.753Z"
   },
   {
    "duration": 8,
    "start_time": "2022-10-10T22:09:36.794Z"
   },
   {
    "duration": 39,
    "start_time": "2022-10-10T22:09:36.803Z"
   },
   {
    "duration": 8,
    "start_time": "2022-10-10T22:09:36.844Z"
   },
   {
    "duration": 44,
    "start_time": "2022-10-10T22:09:36.854Z"
   },
   {
    "duration": 24,
    "start_time": "2022-10-10T22:09:36.900Z"
   },
   {
    "duration": 30,
    "start_time": "2022-10-10T22:09:36.925Z"
   },
   {
    "duration": 33,
    "start_time": "2022-10-10T22:09:36.956Z"
   },
   {
    "duration": 26,
    "start_time": "2022-10-10T22:09:36.991Z"
   },
   {
    "duration": 103,
    "start_time": "2022-10-10T22:09:37.018Z"
   },
   {
    "duration": 15,
    "start_time": "2022-10-10T22:09:37.124Z"
   },
   {
    "duration": 32,
    "start_time": "2022-10-10T22:09:37.141Z"
   },
   {
    "duration": 27,
    "start_time": "2022-10-10T22:09:37.175Z"
   },
   {
    "duration": 45,
    "start_time": "2022-10-10T22:09:37.203Z"
   },
   {
    "duration": 44,
    "start_time": "2022-10-10T22:09:37.250Z"
   },
   {
    "duration": 19,
    "start_time": "2022-10-10T22:09:37.295Z"
   },
   {
    "duration": 42,
    "start_time": "2022-10-10T22:09:37.316Z"
   },
   {
    "duration": 34,
    "start_time": "2022-10-10T22:09:37.360Z"
   },
   {
    "duration": 37,
    "start_time": "2022-10-10T22:09:37.396Z"
   },
   {
    "duration": 75,
    "start_time": "2022-10-10T22:09:37.435Z"
   },
   {
    "duration": 19,
    "start_time": "2022-10-10T22:09:37.513Z"
   },
   {
    "duration": 46,
    "start_time": "2022-10-10T22:09:37.533Z"
   },
   {
    "duration": 425,
    "start_time": "2022-10-12T16:36:58.485Z"
   },
   {
    "duration": 2295,
    "start_time": "2022-10-12T16:36:58.912Z"
   },
   {
    "duration": 18,
    "start_time": "2022-10-12T16:37:01.210Z"
   },
   {
    "duration": 35,
    "start_time": "2022-10-12T16:37:01.230Z"
   },
   {
    "duration": 18,
    "start_time": "2022-10-12T16:37:01.267Z"
   },
   {
    "duration": 50,
    "start_time": "2022-10-12T16:37:01.287Z"
   },
   {
    "duration": 10,
    "start_time": "2022-10-12T16:37:01.338Z"
   },
   {
    "duration": 32,
    "start_time": "2022-10-12T16:37:01.349Z"
   },
   {
    "duration": 26,
    "start_time": "2022-10-12T16:37:01.384Z"
   },
   {
    "duration": 36,
    "start_time": "2022-10-12T16:37:01.412Z"
   },
   {
    "duration": 25,
    "start_time": "2022-10-12T16:37:01.450Z"
   },
   {
    "duration": 20,
    "start_time": "2022-10-12T16:37:01.477Z"
   },
   {
    "duration": 97,
    "start_time": "2022-10-12T16:37:01.500Z"
   },
   {
    "duration": 25,
    "start_time": "2022-10-12T16:37:01.602Z"
   },
   {
    "duration": 18,
    "start_time": "2022-10-12T16:37:01.628Z"
   },
   {
    "duration": 14,
    "start_time": "2022-10-12T16:37:01.648Z"
   },
   {
    "duration": 47,
    "start_time": "2022-10-12T16:37:01.663Z"
   },
   {
    "duration": 23,
    "start_time": "2022-10-12T16:37:01.714Z"
   },
   {
    "duration": 12,
    "start_time": "2022-10-12T16:37:01.739Z"
   },
   {
    "duration": 13,
    "start_time": "2022-10-12T16:37:01.753Z"
   },
   {
    "duration": 11,
    "start_time": "2022-10-12T16:37:01.767Z"
   },
   {
    "duration": 52,
    "start_time": "2022-10-12T16:37:01.779Z"
   },
   {
    "duration": 42,
    "start_time": "2022-10-12T16:37:01.833Z"
   },
   {
    "duration": 22,
    "start_time": "2022-10-12T16:37:01.876Z"
   },
   {
    "duration": 60,
    "start_time": "2022-10-12T16:37:01.900Z"
   },
   {
    "duration": 27,
    "start_time": "2022-10-12T16:42:09.316Z"
   },
   {
    "duration": 12,
    "start_time": "2022-10-12T18:08:15.632Z"
   },
   {
    "duration": 19,
    "start_time": "2022-10-12T18:09:30.148Z"
   },
   {
    "duration": 5,
    "start_time": "2022-10-12T18:09:31.156Z"
   },
   {
    "duration": 16,
    "start_time": "2022-10-12T18:10:18.113Z"
   },
   {
    "duration": 650,
    "start_time": "2022-10-12T18:10:42.526Z"
   },
   {
    "duration": 160,
    "start_time": "2022-10-12T18:10:49.137Z"
   },
   {
    "duration": 404,
    "start_time": "2022-10-13T15:35:04.010Z"
   },
   {
    "duration": 3177,
    "start_time": "2022-10-13T15:35:04.416Z"
   },
   {
    "duration": 16,
    "start_time": "2022-10-13T15:35:07.594Z"
   },
   {
    "duration": 32,
    "start_time": "2022-10-13T15:35:07.613Z"
   },
   {
    "duration": 9,
    "start_time": "2022-10-13T15:35:07.647Z"
   },
   {
    "duration": 19,
    "start_time": "2022-10-13T15:35:07.658Z"
   },
   {
    "duration": 6,
    "start_time": "2022-10-13T15:35:07.679Z"
   },
   {
    "duration": 18,
    "start_time": "2022-10-13T15:35:07.686Z"
   },
   {
    "duration": 32,
    "start_time": "2022-10-13T15:35:07.706Z"
   },
   {
    "duration": 10,
    "start_time": "2022-10-13T15:35:07.742Z"
   },
   {
    "duration": 12,
    "start_time": "2022-10-13T15:35:07.754Z"
   },
   {
    "duration": 12,
    "start_time": "2022-10-13T15:35:07.768Z"
   },
   {
    "duration": 103,
    "start_time": "2022-10-13T15:35:07.783Z"
   },
   {
    "duration": 16,
    "start_time": "2022-10-13T15:35:07.887Z"
   },
   {
    "duration": 40,
    "start_time": "2022-10-13T15:35:07.905Z"
   },
   {
    "duration": 14,
    "start_time": "2022-10-13T15:35:07.947Z"
   },
   {
    "duration": 11,
    "start_time": "2022-10-13T15:35:07.962Z"
   },
   {
    "duration": 14,
    "start_time": "2022-10-13T15:35:07.974Z"
   },
   {
    "duration": 11,
    "start_time": "2022-10-13T15:35:07.989Z"
   },
   {
    "duration": 24,
    "start_time": "2022-10-13T15:35:08.001Z"
   },
   {
    "duration": 10,
    "start_time": "2022-10-13T15:35:08.027Z"
   },
   {
    "duration": 30,
    "start_time": "2022-10-13T15:35:08.039Z"
   },
   {
    "duration": 66,
    "start_time": "2022-10-13T15:35:08.071Z"
   },
   {
    "duration": 16,
    "start_time": "2022-10-13T15:35:08.143Z"
   },
   {
    "duration": 27,
    "start_time": "2022-10-13T15:35:08.161Z"
   },
   {
    "duration": 35,
    "start_time": "2022-10-13T15:35:08.190Z"
   },
   {
    "duration": 28,
    "start_time": "2022-10-13T15:35:08.227Z"
   },
   {
    "duration": 649,
    "start_time": "2022-10-13T15:35:08.257Z"
   },
   {
    "duration": 43,
    "start_time": "2022-10-14T15:12:00.130Z"
   },
   {
    "duration": 394,
    "start_time": "2022-10-14T15:12:15.093Z"
   },
   {
    "duration": 1166,
    "start_time": "2022-10-14T15:12:15.489Z"
   },
   {
    "duration": 13,
    "start_time": "2022-10-14T15:12:16.657Z"
   },
   {
    "duration": 24,
    "start_time": "2022-10-14T15:12:16.672Z"
   },
   {
    "duration": 25,
    "start_time": "2022-10-14T15:12:16.697Z"
   },
   {
    "duration": 24,
    "start_time": "2022-10-14T15:12:16.724Z"
   },
   {
    "duration": 11,
    "start_time": "2022-10-14T15:12:16.749Z"
   },
   {
    "duration": 54,
    "start_time": "2022-10-14T15:12:16.761Z"
   },
   {
    "duration": 26,
    "start_time": "2022-10-14T15:12:16.817Z"
   },
   {
    "duration": 25,
    "start_time": "2022-10-14T15:12:16.846Z"
   },
   {
    "duration": 40,
    "start_time": "2022-10-14T15:12:16.872Z"
   },
   {
    "duration": 22,
    "start_time": "2022-10-14T15:12:16.913Z"
   },
   {
    "duration": 79,
    "start_time": "2022-10-14T15:12:16.936Z"
   },
   {
    "duration": 13,
    "start_time": "2022-10-14T15:12:17.016Z"
   },
   {
    "duration": 36,
    "start_time": "2022-10-14T15:12:17.031Z"
   },
   {
    "duration": 41,
    "start_time": "2022-10-14T15:12:17.068Z"
   },
   {
    "duration": 28,
    "start_time": "2022-10-14T15:12:17.111Z"
   },
   {
    "duration": 83,
    "start_time": "2022-10-14T15:12:17.141Z"
   },
   {
    "duration": 45,
    "start_time": "2022-10-14T15:12:17.225Z"
   },
   {
    "duration": 9,
    "start_time": "2022-10-14T15:12:17.272Z"
   },
   {
    "duration": 44,
    "start_time": "2022-10-14T15:12:17.283Z"
   },
   {
    "duration": 55,
    "start_time": "2022-10-14T15:12:17.328Z"
   },
   {
    "duration": 64,
    "start_time": "2022-10-14T15:12:17.385Z"
   },
   {
    "duration": 15,
    "start_time": "2022-10-14T15:12:17.450Z"
   },
   {
    "duration": 46,
    "start_time": "2022-10-14T15:12:17.466Z"
   },
   {
    "duration": 22,
    "start_time": "2022-10-14T15:12:17.513Z"
   },
   {
    "duration": 21,
    "start_time": "2022-10-14T15:12:17.537Z"
   },
   {
    "duration": 533,
    "start_time": "2022-10-14T15:12:17.561Z"
   },
   {
    "duration": 81,
    "start_time": "2022-10-14T15:12:18.095Z"
   },
   {
    "duration": 30,
    "start_time": "2022-10-14T15:12:32.987Z"
   },
   {
    "duration": 9,
    "start_time": "2022-10-14T15:12:48.938Z"
   },
   {
    "duration": 3,
    "start_time": "2022-10-14T15:12:59.813Z"
   },
   {
    "duration": 3,
    "start_time": "2022-10-14T15:13:08.236Z"
   },
   {
    "duration": 344,
    "start_time": "2022-10-14T15:13:50.350Z"
   },
   {
    "duration": 483,
    "start_time": "2022-10-14T15:13:50.696Z"
   },
   {
    "duration": 14,
    "start_time": "2022-10-14T15:13:51.181Z"
   },
   {
    "duration": 43,
    "start_time": "2022-10-14T15:13:51.197Z"
   },
   {
    "duration": 9,
    "start_time": "2022-10-14T15:13:51.242Z"
   },
   {
    "duration": 35,
    "start_time": "2022-10-14T15:13:51.252Z"
   },
   {
    "duration": 7,
    "start_time": "2022-10-14T15:13:51.289Z"
   },
   {
    "duration": 34,
    "start_time": "2022-10-14T15:13:51.298Z"
   },
   {
    "duration": 8,
    "start_time": "2022-10-14T15:13:51.333Z"
   },
   {
    "duration": 10,
    "start_time": "2022-10-14T15:13:51.345Z"
   },
   {
    "duration": 11,
    "start_time": "2022-10-14T15:13:51.357Z"
   },
   {
    "duration": 17,
    "start_time": "2022-10-14T15:13:51.370Z"
   },
   {
    "duration": 78,
    "start_time": "2022-10-14T15:13:51.389Z"
   },
   {
    "duration": 15,
    "start_time": "2022-10-14T15:13:51.469Z"
   },
   {
    "duration": 30,
    "start_time": "2022-10-14T15:13:51.486Z"
   },
   {
    "duration": 17,
    "start_time": "2022-10-14T15:13:51.518Z"
   },
   {
    "duration": 10,
    "start_time": "2022-10-14T15:13:51.536Z"
   },
   {
    "duration": 15,
    "start_time": "2022-10-14T15:13:51.548Z"
   },
   {
    "duration": 13,
    "start_time": "2022-10-14T15:13:51.564Z"
   },
   {
    "duration": 55,
    "start_time": "2022-10-14T15:13:51.578Z"
   },
   {
    "duration": 7,
    "start_time": "2022-10-14T15:13:51.634Z"
   },
   {
    "duration": 28,
    "start_time": "2022-10-14T15:13:51.643Z"
   },
   {
    "duration": 48,
    "start_time": "2022-10-14T15:13:51.672Z"
   },
   {
    "duration": 16,
    "start_time": "2022-10-14T15:13:51.722Z"
   },
   {
    "duration": 30,
    "start_time": "2022-10-14T15:13:51.739Z"
   },
   {
    "duration": 34,
    "start_time": "2022-10-14T15:13:51.770Z"
   },
   {
    "duration": 22,
    "start_time": "2022-10-14T15:13:51.806Z"
   },
   {
    "duration": 400,
    "start_time": "2022-10-14T15:13:51.830Z"
   },
   {
    "duration": 5,
    "start_time": "2022-10-14T15:13:52.233Z"
   },
   {
    "duration": 32,
    "start_time": "2022-10-14T15:13:52.239Z"
   },
   {
    "duration": 4,
    "start_time": "2022-10-14T15:13:52.273Z"
   },
   {
    "duration": 48,
    "start_time": "2022-10-15T15:51:35.648Z"
   },
   {
    "duration": 415,
    "start_time": "2022-10-15T15:51:47.986Z"
   },
   {
    "duration": 1003,
    "start_time": "2022-10-15T15:51:48.403Z"
   },
   {
    "duration": 21,
    "start_time": "2022-10-15T15:51:49.408Z"
   },
   {
    "duration": 46,
    "start_time": "2022-10-15T15:51:49.435Z"
   },
   {
    "duration": 10,
    "start_time": "2022-10-15T15:51:49.483Z"
   },
   {
    "duration": 40,
    "start_time": "2022-10-15T15:51:49.495Z"
   },
   {
    "duration": 11,
    "start_time": "2022-10-15T15:51:49.538Z"
   },
   {
    "duration": 22,
    "start_time": "2022-10-15T15:51:49.551Z"
   },
   {
    "duration": 17,
    "start_time": "2022-10-15T15:51:49.575Z"
   },
   {
    "duration": 39,
    "start_time": "2022-10-15T15:51:49.597Z"
   },
   {
    "duration": 17,
    "start_time": "2022-10-15T15:51:49.638Z"
   },
   {
    "duration": 20,
    "start_time": "2022-10-15T15:51:49.657Z"
   },
   {
    "duration": 124,
    "start_time": "2022-10-15T15:51:49.679Z"
   },
   {
    "duration": 30,
    "start_time": "2022-10-15T15:51:49.805Z"
   },
   {
    "duration": 24,
    "start_time": "2022-10-15T15:51:49.838Z"
   },
   {
    "duration": 17,
    "start_time": "2022-10-15T15:51:49.865Z"
   },
   {
    "duration": 19,
    "start_time": "2022-10-15T15:51:49.883Z"
   },
   {
    "duration": 35,
    "start_time": "2022-10-15T15:51:49.904Z"
   },
   {
    "duration": 22,
    "start_time": "2022-10-15T15:51:49.942Z"
   },
   {
    "duration": 12,
    "start_time": "2022-10-15T15:51:49.966Z"
   },
   {
    "duration": 12,
    "start_time": "2022-10-15T15:51:49.980Z"
   },
   {
    "duration": 58,
    "start_time": "2022-10-15T15:51:49.994Z"
   },
   {
    "duration": 82,
    "start_time": "2022-10-15T15:51:50.054Z"
   },
   {
    "duration": 20,
    "start_time": "2022-10-15T15:51:50.138Z"
   },
   {
    "duration": 40,
    "start_time": "2022-10-15T15:51:50.160Z"
   },
   {
    "duration": 28,
    "start_time": "2022-10-15T15:51:50.202Z"
   },
   {
    "duration": 27,
    "start_time": "2022-10-15T15:51:50.237Z"
   },
   {
    "duration": 673,
    "start_time": "2022-10-15T15:51:50.267Z"
   },
   {
    "duration": 15,
    "start_time": "2022-10-15T15:51:50.943Z"
   },
   {
    "duration": 13,
    "start_time": "2022-10-15T15:51:50.960Z"
   },
   {
    "duration": 48,
    "start_time": "2022-10-15T15:51:50.975Z"
   },
   {
    "duration": 33,
    "start_time": "2022-10-15T15:51:51.025Z"
   },
   {
    "duration": 93,
    "start_time": "2022-10-15T15:51:51.060Z"
   },
   {
    "duration": 22,
    "start_time": "2022-10-15T15:54:08.904Z"
   },
   {
    "duration": 25,
    "start_time": "2022-10-15T15:54:16.229Z"
   },
   {
    "duration": 18,
    "start_time": "2022-10-15T15:54:21.944Z"
   },
   {
    "duration": 23,
    "start_time": "2022-10-15T15:54:36.310Z"
   },
   {
    "duration": 11,
    "start_time": "2022-10-15T15:55:28.522Z"
   },
   {
    "duration": 20,
    "start_time": "2022-10-15T15:55:35.563Z"
   },
   {
    "duration": 16,
    "start_time": "2022-10-15T15:57:06.175Z"
   },
   {
    "duration": 1310,
    "start_time": "2022-10-17T08:15:33.176Z"
   },
   {
    "duration": 1944,
    "start_time": "2022-10-17T08:15:34.488Z"
   },
   {
    "duration": 12,
    "start_time": "2022-10-17T08:15:36.433Z"
   },
   {
    "duration": 33,
    "start_time": "2022-10-17T08:15:36.447Z"
   },
   {
    "duration": 9,
    "start_time": "2022-10-17T08:15:36.482Z"
   },
   {
    "duration": 40,
    "start_time": "2022-10-17T08:15:36.492Z"
   },
   {
    "duration": 9,
    "start_time": "2022-10-17T08:15:36.534Z"
   },
   {
    "duration": 18,
    "start_time": "2022-10-17T08:15:36.546Z"
   },
   {
    "duration": 11,
    "start_time": "2022-10-17T08:15:36.566Z"
   },
   {
    "duration": 42,
    "start_time": "2022-10-17T08:15:36.580Z"
   },
   {
    "duration": 13,
    "start_time": "2022-10-17T08:15:36.624Z"
   },
   {
    "duration": 13,
    "start_time": "2022-10-17T08:15:36.638Z"
   },
   {
    "duration": 77,
    "start_time": "2022-10-17T08:15:36.653Z"
   },
   {
    "duration": 15,
    "start_time": "2022-10-17T08:15:36.732Z"
   },
   {
    "duration": 17,
    "start_time": "2022-10-17T08:15:36.749Z"
   },
   {
    "duration": 14,
    "start_time": "2022-10-17T08:15:36.768Z"
   },
   {
    "duration": 38,
    "start_time": "2022-10-17T08:15:36.784Z"
   },
   {
    "duration": 12,
    "start_time": "2022-10-17T08:15:36.824Z"
   },
   {
    "duration": 13,
    "start_time": "2022-10-17T08:15:36.837Z"
   },
   {
    "duration": 9,
    "start_time": "2022-10-17T08:15:36.852Z"
   },
   {
    "duration": 7,
    "start_time": "2022-10-17T08:15:36.864Z"
   },
   {
    "duration": 53,
    "start_time": "2022-10-17T08:15:36.872Z"
   },
   {
    "duration": 39,
    "start_time": "2022-10-17T08:15:37.645Z"
   },
   {
    "duration": 13,
    "start_time": "2022-10-17T08:15:42.571Z"
   },
   {
    "duration": 9,
    "start_time": "2022-10-17T08:15:54.718Z"
   },
   {
    "duration": 1319,
    "start_time": "2022-10-19T06:19:40.914Z"
   },
   {
    "duration": 793,
    "start_time": "2022-10-19T06:19:42.236Z"
   },
   {
    "duration": 11,
    "start_time": "2022-10-19T06:19:43.030Z"
   },
   {
    "duration": 21,
    "start_time": "2022-10-19T06:19:43.042Z"
   },
   {
    "duration": 7,
    "start_time": "2022-10-19T06:19:43.064Z"
   },
   {
    "duration": 24,
    "start_time": "2022-10-19T06:19:43.072Z"
   },
   {
    "duration": 17,
    "start_time": "2022-10-19T06:19:43.097Z"
   },
   {
    "duration": 25,
    "start_time": "2022-10-19T06:19:43.115Z"
   },
   {
    "duration": 7,
    "start_time": "2022-10-19T06:19:43.141Z"
   },
   {
    "duration": 9,
    "start_time": "2022-10-19T06:19:43.150Z"
   },
   {
    "duration": 7,
    "start_time": "2022-10-19T06:19:43.161Z"
   },
   {
    "duration": 35,
    "start_time": "2022-10-19T06:19:43.170Z"
   },
   {
    "duration": 78,
    "start_time": "2022-10-19T06:19:43.208Z"
   },
   {
    "duration": 24,
    "start_time": "2022-10-19T06:19:43.287Z"
   },
   {
    "duration": 17,
    "start_time": "2022-10-19T06:19:43.312Z"
   },
   {
    "duration": 14,
    "start_time": "2022-10-19T06:19:43.330Z"
   },
   {
    "duration": 9,
    "start_time": "2022-10-19T06:19:43.346Z"
   },
   {
    "duration": 14,
    "start_time": "2022-10-19T06:19:43.356Z"
   },
   {
    "duration": 30,
    "start_time": "2022-10-19T06:19:43.372Z"
   },
   {
    "duration": 12,
    "start_time": "2022-10-19T06:19:43.403Z"
   },
   {
    "duration": 10,
    "start_time": "2022-10-19T06:19:43.421Z"
   },
   {
    "duration": 26,
    "start_time": "2022-10-19T06:19:43.433Z"
   },
   {
    "duration": 48,
    "start_time": "2022-10-19T06:19:43.460Z"
   },
   {
    "duration": 11,
    "start_time": "2022-10-19T06:19:43.510Z"
   },
   {
    "duration": 23,
    "start_time": "2022-10-19T06:19:43.522Z"
   },
   {
    "duration": 26,
    "start_time": "2022-10-19T06:19:43.547Z"
   },
   {
    "duration": 26,
    "start_time": "2022-10-19T06:19:43.574Z"
   },
   {
    "duration": 28,
    "start_time": "2022-10-19T06:19:43.605Z"
   },
   {
    "duration": 19,
    "start_time": "2022-10-19T06:19:43.634Z"
   },
   {
    "duration": 11,
    "start_time": "2022-10-19T06:19:43.655Z"
   },
   {
    "duration": 47,
    "start_time": "2022-10-19T06:19:43.667Z"
   },
   {
    "duration": 14,
    "start_time": "2022-10-19T06:19:43.716Z"
   },
   {
    "duration": 27,
    "start_time": "2022-10-19T06:19:43.731Z"
   },
   {
    "duration": 29,
    "start_time": "2022-10-19T06:19:43.760Z"
   },
   {
    "duration": 26,
    "start_time": "2022-10-19T06:19:43.791Z"
   },
   {
    "duration": 19,
    "start_time": "2022-10-19T06:19:43.819Z"
   },
   {
    "duration": 25,
    "start_time": "2022-10-19T06:19:43.839Z"
   },
   {
    "duration": 25,
    "start_time": "2022-10-19T06:19:43.865Z"
   },
   {
    "duration": 17,
    "start_time": "2022-10-19T06:19:43.900Z"
   },
   {
    "duration": 13,
    "start_time": "2022-10-19T06:19:43.919Z"
   },
   {
    "duration": 11,
    "start_time": "2022-10-19T06:19:43.934Z"
   },
   {
    "duration": 6,
    "start_time": "2022-10-19T06:19:43.946Z"
   },
   {
    "duration": 5,
    "start_time": "2022-10-19T06:19:43.953Z"
   },
   {
    "duration": 9,
    "start_time": "2022-10-19T06:19:43.959Z"
   },
   {
    "duration": 37,
    "start_time": "2022-10-19T06:19:43.969Z"
   },
   {
    "duration": 165,
    "start_time": "2022-10-19T06:19:44.010Z"
   },
   {
    "duration": 8,
    "start_time": "2022-10-19T06:19:44.177Z"
   },
   {
    "duration": 17,
    "start_time": "2022-10-19T06:19:44.190Z"
   },
   {
    "duration": 9,
    "start_time": "2022-10-19T06:19:44.209Z"
   },
   {
    "duration": 30,
    "start_time": "2022-10-19T06:19:44.219Z"
   },
   {
    "duration": 139,
    "start_time": "2022-10-19T06:19:44.250Z"
   },
   {
    "duration": 10,
    "start_time": "2022-10-19T06:19:44.391Z"
   },
   {
    "duration": 11,
    "start_time": "2022-10-19T06:19:44.403Z"
   },
   {
    "duration": 31,
    "start_time": "2022-10-19T06:19:44.417Z"
   },
   {
    "duration": 10,
    "start_time": "2022-10-19T06:19:44.450Z"
   },
   {
    "duration": 172,
    "start_time": "2022-10-19T06:19:44.462Z"
   },
   {
    "duration": 7,
    "start_time": "2022-10-19T06:19:44.635Z"
   },
   {
    "duration": 9,
    "start_time": "2022-10-19T06:19:44.643Z"
   },
   {
    "duration": 13,
    "start_time": "2022-10-19T06:19:44.653Z"
   },
   {
    "duration": 15,
    "start_time": "2022-10-19T06:19:44.668Z"
   },
   {
    "duration": 145,
    "start_time": "2022-10-19T06:19:44.685Z"
   },
   {
    "duration": 6,
    "start_time": "2022-10-19T06:19:44.832Z"
   },
   {
    "duration": 8,
    "start_time": "2022-10-19T06:19:44.840Z"
   },
   {
    "duration": 8,
    "start_time": "2022-10-19T06:19:44.849Z"
   },
   {
    "duration": 11,
    "start_time": "2022-10-19T06:19:44.858Z"
   },
   {
    "duration": 170,
    "start_time": "2022-10-19T06:19:44.871Z"
   },
   {
    "duration": 7,
    "start_time": "2022-10-19T06:19:45.043Z"
   },
   {
    "duration": 9,
    "start_time": "2022-10-19T06:19:45.051Z"
   },
   {
    "duration": 19,
    "start_time": "2022-10-19T06:19:45.061Z"
   },
   {
    "duration": 9,
    "start_time": "2022-10-19T06:19:45.082Z"
   },
   {
    "duration": 136,
    "start_time": "2022-10-19T06:19:45.101Z"
   },
   {
    "duration": 7,
    "start_time": "2022-10-19T06:19:45.239Z"
   },
   {
    "duration": 7,
    "start_time": "2022-10-19T06:19:45.247Z"
   },
   {
    "duration": 20,
    "start_time": "2022-10-19T06:19:45.256Z"
   },
   {
    "duration": 26,
    "start_time": "2022-10-19T06:19:45.278Z"
   },
   {
    "duration": 14,
    "start_time": "2022-10-19T06:19:45.305Z"
   },
   {
    "duration": 8,
    "start_time": "2022-10-19T06:19:45.320Z"
   },
   {
    "duration": 131,
    "start_time": "2022-10-19T06:19:45.330Z"
   },
   {
    "duration": 144,
    "start_time": "2022-10-19T06:19:45.463Z"
   },
   {
    "duration": 6,
    "start_time": "2022-10-19T06:19:45.608Z"
   },
   {
    "duration": 26,
    "start_time": "2022-10-19T06:19:45.616Z"
   },
   {
    "duration": 221,
    "start_time": "2022-10-19T06:19:45.646Z"
   },
   {
    "duration": 135,
    "start_time": "2022-10-19T06:19:45.868Z"
   },
   {
    "duration": 8,
    "start_time": "2022-10-19T06:19:46.005Z"
   },
   {
    "duration": 16,
    "start_time": "2022-10-19T06:52:07.362Z"
   },
   {
    "duration": 21,
    "start_time": "2022-10-19T08:05:40.147Z"
   },
   {
    "duration": 32,
    "start_time": "2022-10-19T08:05:41.249Z"
   },
   {
    "duration": 23,
    "start_time": "2022-10-19T08:11:31.854Z"
   },
   {
    "duration": 32,
    "start_time": "2022-10-19T08:11:32.678Z"
   },
   {
    "duration": 10,
    "start_time": "2022-10-19T08:11:47.134Z"
   },
   {
    "duration": 13,
    "start_time": "2022-10-19T08:12:07.020Z"
   },
   {
    "duration": 23,
    "start_time": "2022-10-19T08:12:07.686Z"
   },
   {
    "duration": 16,
    "start_time": "2022-10-19T08:12:18.262Z"
   },
   {
    "duration": 17,
    "start_time": "2022-10-19T08:12:51.147Z"
   },
   {
    "duration": 24,
    "start_time": "2022-10-19T08:12:53.448Z"
   },
   {
    "duration": 8,
    "start_time": "2022-10-19T08:14:20.061Z"
   },
   {
    "duration": 24,
    "start_time": "2022-10-19T08:14:36.350Z"
   },
   {
    "duration": 14,
    "start_time": "2022-10-19T08:14:37.682Z"
   },
   {
    "duration": 19,
    "start_time": "2022-10-19T08:14:40.378Z"
   },
   {
    "duration": 16,
    "start_time": "2022-10-19T08:14:41.250Z"
   },
   {
    "duration": 16,
    "start_time": "2022-10-19T08:14:43.508Z"
   },
   {
    "duration": 17,
    "start_time": "2022-10-19T08:14:47.276Z"
   },
   {
    "duration": 18,
    "start_time": "2022-10-19T08:14:59.552Z"
   },
   {
    "duration": 2179,
    "start_time": "2022-10-19T08:15:02.493Z"
   },
   {
    "duration": 1058,
    "start_time": "2022-10-19T08:17:00.054Z"
   },
   {
    "duration": 490,
    "start_time": "2022-10-19T08:17:01.114Z"
   },
   {
    "duration": 11,
    "start_time": "2022-10-19T08:17:01.606Z"
   },
   {
    "duration": 40,
    "start_time": "2022-10-19T08:17:01.619Z"
   },
   {
    "duration": 9,
    "start_time": "2022-10-19T08:17:01.661Z"
   },
   {
    "duration": 65,
    "start_time": "2022-10-19T08:17:01.672Z"
   },
   {
    "duration": 8,
    "start_time": "2022-10-19T08:17:01.739Z"
   },
   {
    "duration": 45,
    "start_time": "2022-10-19T08:17:01.749Z"
   },
   {
    "duration": 21,
    "start_time": "2022-10-19T08:17:01.796Z"
   },
   {
    "duration": 91,
    "start_time": "2022-10-19T08:17:01.820Z"
   },
   {
    "duration": 33,
    "start_time": "2022-10-19T08:17:01.913Z"
   },
   {
    "duration": 33,
    "start_time": "2022-10-19T08:17:01.947Z"
   },
   {
    "duration": 114,
    "start_time": "2022-10-19T08:17:01.981Z"
   },
   {
    "duration": 14,
    "start_time": "2022-10-19T08:17:02.097Z"
   },
   {
    "duration": 35,
    "start_time": "2022-10-19T08:17:02.113Z"
   },
   {
    "duration": 25,
    "start_time": "2022-10-19T08:17:02.150Z"
   },
   {
    "duration": 31,
    "start_time": "2022-10-19T08:17:02.177Z"
   },
   {
    "duration": 18,
    "start_time": "2022-10-19T08:17:02.210Z"
   },
   {
    "duration": 11,
    "start_time": "2022-10-19T08:17:02.230Z"
   },
   {
    "duration": 17,
    "start_time": "2022-10-19T08:17:02.243Z"
   },
   {
    "duration": 8,
    "start_time": "2022-10-19T08:17:02.262Z"
   },
   {
    "duration": 12,
    "start_time": "2022-10-19T08:17:02.272Z"
   },
   {
    "duration": 36,
    "start_time": "2022-10-19T08:17:02.286Z"
   },
   {
    "duration": 48,
    "start_time": "2022-10-19T08:17:02.324Z"
   },
   {
    "duration": 8,
    "start_time": "2022-10-19T08:17:02.374Z"
   },
   {
    "duration": 57,
    "start_time": "2022-10-19T08:17:02.383Z"
   },
   {
    "duration": 46,
    "start_time": "2022-10-19T08:17:02.441Z"
   },
   {
    "duration": 16,
    "start_time": "2022-10-19T08:17:02.490Z"
   },
   {
    "duration": 27,
    "start_time": "2022-10-19T08:17:02.507Z"
   },
   {
    "duration": 7,
    "start_time": "2022-10-19T08:17:02.536Z"
   },
   {
    "duration": 26,
    "start_time": "2022-10-19T08:17:02.544Z"
   },
   {
    "duration": 37,
    "start_time": "2022-10-19T08:17:02.572Z"
   },
   {
    "duration": 19,
    "start_time": "2022-10-19T08:17:02.611Z"
   },
   {
    "duration": 12,
    "start_time": "2022-10-19T08:17:02.632Z"
   },
   {
    "duration": 14,
    "start_time": "2022-10-19T08:17:02.646Z"
   },
   {
    "duration": 50,
    "start_time": "2022-10-19T08:17:02.662Z"
   },
   {
    "duration": 22,
    "start_time": "2022-10-19T08:17:02.713Z"
   },
   {
    "duration": 48,
    "start_time": "2022-10-19T08:17:02.736Z"
   },
   {
    "duration": 32,
    "start_time": "2022-10-19T08:17:02.785Z"
   },
   {
    "duration": 22,
    "start_time": "2022-10-19T08:17:02.818Z"
   },
   {
    "duration": 19,
    "start_time": "2022-10-19T08:17:02.841Z"
   },
   {
    "duration": 11,
    "start_time": "2022-10-19T08:17:02.862Z"
   },
   {
    "duration": 36,
    "start_time": "2022-10-19T08:17:02.875Z"
   },
   {
    "duration": 25,
    "start_time": "2022-10-19T08:17:02.912Z"
   },
   {
    "duration": 13,
    "start_time": "2022-10-19T08:17:02.938Z"
   },
   {
    "duration": 12,
    "start_time": "2022-10-19T08:17:02.952Z"
   },
   {
    "duration": 16,
    "start_time": "2022-10-19T08:17:02.965Z"
   },
   {
    "duration": 144,
    "start_time": "2022-10-19T08:17:02.983Z"
   },
   {
    "duration": 7,
    "start_time": "2022-10-19T08:17:03.128Z"
   },
   {
    "duration": 37,
    "start_time": "2022-10-19T08:17:03.136Z"
   },
   {
    "duration": 12,
    "start_time": "2022-10-19T08:17:03.175Z"
   },
   {
    "duration": 23,
    "start_time": "2022-10-19T08:17:03.189Z"
   },
   {
    "duration": 125,
    "start_time": "2022-10-19T08:17:03.214Z"
   },
   {
    "duration": 6,
    "start_time": "2022-10-19T08:17:03.341Z"
   },
   {
    "duration": 16,
    "start_time": "2022-10-19T08:17:03.349Z"
   },
   {
    "duration": 18,
    "start_time": "2022-10-19T08:17:03.366Z"
   },
   {
    "duration": 11,
    "start_time": "2022-10-19T08:17:03.385Z"
   },
   {
    "duration": 134,
    "start_time": "2022-10-19T08:17:03.398Z"
   },
   {
    "duration": 6,
    "start_time": "2022-10-19T08:17:03.533Z"
   },
   {
    "duration": 16,
    "start_time": "2022-10-19T08:17:03.540Z"
   },
   {
    "duration": 12,
    "start_time": "2022-10-19T08:17:03.558Z"
   },
   {
    "duration": 13,
    "start_time": "2022-10-19T08:17:03.571Z"
   },
   {
    "duration": 140,
    "start_time": "2022-10-19T08:17:03.600Z"
   },
   {
    "duration": 5,
    "start_time": "2022-10-19T08:17:03.742Z"
   },
   {
    "duration": 14,
    "start_time": "2022-10-19T08:17:03.749Z"
   },
   {
    "duration": 12,
    "start_time": "2022-10-19T08:17:03.764Z"
   },
   {
    "duration": 6,
    "start_time": "2022-10-19T08:17:03.777Z"
   },
   {
    "duration": 130,
    "start_time": "2022-10-19T08:17:03.800Z"
   },
   {
    "duration": 6,
    "start_time": "2022-10-19T08:17:03.931Z"
   },
   {
    "duration": 10,
    "start_time": "2022-10-19T08:17:03.938Z"
   },
   {
    "duration": 6,
    "start_time": "2022-10-19T08:17:03.949Z"
   },
   {
    "duration": 5,
    "start_time": "2022-10-19T08:17:03.957Z"
   },
   {
    "duration": 149,
    "start_time": "2022-10-19T08:17:03.964Z"
   },
   {
    "duration": 6,
    "start_time": "2022-10-19T08:17:04.115Z"
   },
   {
    "duration": 8,
    "start_time": "2022-10-19T08:17:04.123Z"
   },
   {
    "duration": 25,
    "start_time": "2022-10-19T08:17:04.133Z"
   },
   {
    "duration": 8,
    "start_time": "2022-10-19T08:17:04.160Z"
   },
   {
    "duration": 35,
    "start_time": "2022-10-19T08:17:04.169Z"
   },
   {
    "duration": 13,
    "start_time": "2022-10-19T08:17:04.206Z"
   },
   {
    "duration": 128,
    "start_time": "2022-10-19T08:17:04.220Z"
   },
   {
    "duration": 157,
    "start_time": "2022-10-19T08:17:04.349Z"
   },
   {
    "duration": 6,
    "start_time": "2022-10-19T08:17:04.512Z"
   },
   {
    "duration": 19,
    "start_time": "2022-10-19T08:17:04.519Z"
   },
   {
    "duration": 221,
    "start_time": "2022-10-19T08:17:04.540Z"
   },
   {
    "duration": 144,
    "start_time": "2022-10-19T08:17:04.762Z"
   },
   {
    "duration": 5,
    "start_time": "2022-10-19T08:17:04.908Z"
   },
   {
    "duration": 1118,
    "start_time": "2022-10-19T08:25:49.679Z"
   },
   {
    "duration": 673,
    "start_time": "2022-10-19T08:25:50.799Z"
   },
   {
    "duration": 13,
    "start_time": "2022-10-19T08:25:51.474Z"
   },
   {
    "duration": 50,
    "start_time": "2022-10-19T08:25:51.488Z"
   },
   {
    "duration": 10,
    "start_time": "2022-10-19T08:25:51.540Z"
   },
   {
    "duration": 49,
    "start_time": "2022-10-19T08:25:51.552Z"
   },
   {
    "duration": 10,
    "start_time": "2022-10-19T08:25:51.603Z"
   },
   {
    "duration": 43,
    "start_time": "2022-10-19T08:25:51.614Z"
   },
   {
    "duration": 30,
    "start_time": "2022-10-19T08:25:51.659Z"
   },
   {
    "duration": 54,
    "start_time": "2022-10-19T08:25:51.693Z"
   },
   {
    "duration": 36,
    "start_time": "2022-10-19T08:25:51.749Z"
   },
   {
    "duration": 22,
    "start_time": "2022-10-19T08:25:51.787Z"
   },
   {
    "duration": 106,
    "start_time": "2022-10-19T08:25:51.811Z"
   },
   {
    "duration": 18,
    "start_time": "2022-10-19T08:25:51.919Z"
   },
   {
    "duration": 16,
    "start_time": "2022-10-19T08:25:51.938Z"
   },
   {
    "duration": 13,
    "start_time": "2022-10-19T08:25:51.956Z"
   },
   {
    "duration": 39,
    "start_time": "2022-10-19T08:25:51.970Z"
   },
   {
    "duration": 28,
    "start_time": "2022-10-19T08:25:52.011Z"
   },
   {
    "duration": 13,
    "start_time": "2022-10-19T08:25:52.040Z"
   },
   {
    "duration": 13,
    "start_time": "2022-10-19T08:25:52.054Z"
   },
   {
    "duration": 32,
    "start_time": "2022-10-19T08:25:52.068Z"
   },
   {
    "duration": 6,
    "start_time": "2022-10-19T08:25:52.102Z"
   },
   {
    "duration": 40,
    "start_time": "2022-10-19T08:25:52.109Z"
   },
   {
    "duration": 36,
    "start_time": "2022-10-19T08:25:52.150Z"
   },
   {
    "duration": 19,
    "start_time": "2022-10-19T08:25:52.187Z"
   },
   {
    "duration": 33,
    "start_time": "2022-10-19T08:25:52.207Z"
   },
   {
    "duration": 22,
    "start_time": "2022-10-19T08:25:52.242Z"
   },
   {
    "duration": 17,
    "start_time": "2022-10-19T08:25:52.267Z"
   },
   {
    "duration": 35,
    "start_time": "2022-10-19T08:25:52.285Z"
   },
   {
    "duration": 9,
    "start_time": "2022-10-19T08:25:52.321Z"
   },
   {
    "duration": 32,
    "start_time": "2022-10-19T08:25:52.332Z"
   },
   {
    "duration": 39,
    "start_time": "2022-10-19T08:25:52.365Z"
   },
   {
    "duration": 100,
    "start_time": "2022-10-19T08:25:52.406Z"
   },
   {
    "duration": 0,
    "start_time": "2022-10-19T08:25:52.508Z"
   },
   {
    "duration": 0,
    "start_time": "2022-10-19T08:25:52.509Z"
   },
   {
    "duration": 0,
    "start_time": "2022-10-19T08:25:52.510Z"
   },
   {
    "duration": 0,
    "start_time": "2022-10-19T08:25:52.511Z"
   },
   {
    "duration": 0,
    "start_time": "2022-10-19T08:25:52.512Z"
   },
   {
    "duration": 0,
    "start_time": "2022-10-19T08:25:52.513Z"
   },
   {
    "duration": 0,
    "start_time": "2022-10-19T08:25:52.514Z"
   },
   {
    "duration": 0,
    "start_time": "2022-10-19T08:25:52.515Z"
   },
   {
    "duration": 0,
    "start_time": "2022-10-19T08:25:52.515Z"
   },
   {
    "duration": 0,
    "start_time": "2022-10-19T08:25:52.516Z"
   },
   {
    "duration": 0,
    "start_time": "2022-10-19T08:25:52.517Z"
   },
   {
    "duration": 0,
    "start_time": "2022-10-19T08:25:52.518Z"
   },
   {
    "duration": 0,
    "start_time": "2022-10-19T08:25:52.519Z"
   },
   {
    "duration": 0,
    "start_time": "2022-10-19T08:25:52.520Z"
   },
   {
    "duration": 0,
    "start_time": "2022-10-19T08:25:52.521Z"
   },
   {
    "duration": 0,
    "start_time": "2022-10-19T08:25:52.522Z"
   },
   {
    "duration": 0,
    "start_time": "2022-10-19T08:25:52.523Z"
   },
   {
    "duration": 0,
    "start_time": "2022-10-19T08:25:52.524Z"
   },
   {
    "duration": 0,
    "start_time": "2022-10-19T08:25:52.524Z"
   },
   {
    "duration": 0,
    "start_time": "2022-10-19T08:25:52.525Z"
   },
   {
    "duration": 0,
    "start_time": "2022-10-19T08:25:52.526Z"
   },
   {
    "duration": 0,
    "start_time": "2022-10-19T08:25:52.527Z"
   },
   {
    "duration": 0,
    "start_time": "2022-10-19T08:25:52.528Z"
   },
   {
    "duration": 0,
    "start_time": "2022-10-19T08:25:52.529Z"
   },
   {
    "duration": 0,
    "start_time": "2022-10-19T08:25:52.530Z"
   },
   {
    "duration": 0,
    "start_time": "2022-10-19T08:25:52.531Z"
   },
   {
    "duration": 0,
    "start_time": "2022-10-19T08:25:52.532Z"
   },
   {
    "duration": 1,
    "start_time": "2022-10-19T08:25:52.532Z"
   },
   {
    "duration": 0,
    "start_time": "2022-10-19T08:25:52.533Z"
   },
   {
    "duration": 0,
    "start_time": "2022-10-19T08:25:52.535Z"
   },
   {
    "duration": 0,
    "start_time": "2022-10-19T08:25:52.536Z"
   },
   {
    "duration": 0,
    "start_time": "2022-10-19T08:25:52.536Z"
   },
   {
    "duration": 0,
    "start_time": "2022-10-19T08:25:52.537Z"
   },
   {
    "duration": 0,
    "start_time": "2022-10-19T08:25:52.538Z"
   },
   {
    "duration": 0,
    "start_time": "2022-10-19T08:25:52.539Z"
   },
   {
    "duration": 0,
    "start_time": "2022-10-19T08:25:52.540Z"
   },
   {
    "duration": 0,
    "start_time": "2022-10-19T08:25:52.541Z"
   },
   {
    "duration": 0,
    "start_time": "2022-10-19T08:25:52.600Z"
   },
   {
    "duration": 0,
    "start_time": "2022-10-19T08:25:52.601Z"
   },
   {
    "duration": 0,
    "start_time": "2022-10-19T08:25:52.602Z"
   },
   {
    "duration": 0,
    "start_time": "2022-10-19T08:25:52.603Z"
   },
   {
    "duration": 0,
    "start_time": "2022-10-19T08:25:52.604Z"
   },
   {
    "duration": 0,
    "start_time": "2022-10-19T08:25:52.605Z"
   },
   {
    "duration": 0,
    "start_time": "2022-10-19T08:25:52.606Z"
   },
   {
    "duration": 0,
    "start_time": "2022-10-19T08:25:52.607Z"
   },
   {
    "duration": 0,
    "start_time": "2022-10-19T08:25:52.608Z"
   },
   {
    "duration": 0,
    "start_time": "2022-10-19T08:25:52.609Z"
   },
   {
    "duration": 0,
    "start_time": "2022-10-19T08:25:52.610Z"
   },
   {
    "duration": 0,
    "start_time": "2022-10-19T08:25:52.611Z"
   },
   {
    "duration": 0,
    "start_time": "2022-10-19T08:25:52.612Z"
   },
   {
    "duration": 0,
    "start_time": "2022-10-19T08:25:52.613Z"
   },
   {
    "duration": 0,
    "start_time": "2022-10-19T08:25:52.614Z"
   },
   {
    "duration": 0,
    "start_time": "2022-10-19T08:25:52.615Z"
   },
   {
    "duration": 1131,
    "start_time": "2022-10-19T08:28:56.174Z"
   },
   {
    "duration": 654,
    "start_time": "2022-10-19T08:28:57.307Z"
   },
   {
    "duration": 11,
    "start_time": "2022-10-19T08:28:57.963Z"
   },
   {
    "duration": 26,
    "start_time": "2022-10-19T08:28:57.975Z"
   },
   {
    "duration": 8,
    "start_time": "2022-10-19T08:28:58.002Z"
   },
   {
    "duration": 21,
    "start_time": "2022-10-19T08:28:58.011Z"
   },
   {
    "duration": 6,
    "start_time": "2022-10-19T08:28:58.034Z"
   },
   {
    "duration": 34,
    "start_time": "2022-10-19T08:28:58.041Z"
   },
   {
    "duration": 9,
    "start_time": "2022-10-19T08:28:58.077Z"
   },
   {
    "duration": 10,
    "start_time": "2022-10-19T08:28:58.102Z"
   },
   {
    "duration": 13,
    "start_time": "2022-10-19T08:28:58.114Z"
   },
   {
    "duration": 21,
    "start_time": "2022-10-19T08:28:58.129Z"
   },
   {
    "duration": 81,
    "start_time": "2022-10-19T08:28:58.152Z"
   },
   {
    "duration": 16,
    "start_time": "2022-10-19T08:28:58.234Z"
   },
   {
    "duration": 15,
    "start_time": "2022-10-19T08:28:58.252Z"
   },
   {
    "duration": 38,
    "start_time": "2022-10-19T08:28:58.269Z"
   },
   {
    "duration": 10,
    "start_time": "2022-10-19T08:28:58.309Z"
   },
   {
    "duration": 22,
    "start_time": "2022-10-19T08:28:58.321Z"
   },
   {
    "duration": 14,
    "start_time": "2022-10-19T08:28:58.345Z"
   },
   {
    "duration": 41,
    "start_time": "2022-10-19T08:28:58.360Z"
   },
   {
    "duration": 10,
    "start_time": "2022-10-19T08:28:58.403Z"
   },
   {
    "duration": 7,
    "start_time": "2022-10-19T08:28:58.415Z"
   },
   {
    "duration": 26,
    "start_time": "2022-10-19T08:28:58.424Z"
   },
   {
    "duration": 55,
    "start_time": "2022-10-19T08:28:58.451Z"
   },
   {
    "duration": 8,
    "start_time": "2022-10-19T08:28:58.507Z"
   },
   {
    "duration": 25,
    "start_time": "2022-10-19T08:28:58.516Z"
   },
   {
    "duration": 22,
    "start_time": "2022-10-19T08:28:58.543Z"
   },
   {
    "duration": 34,
    "start_time": "2022-10-19T08:28:58.569Z"
   },
   {
    "duration": 24,
    "start_time": "2022-10-19T08:28:58.605Z"
   },
   {
    "duration": 8,
    "start_time": "2022-10-19T08:28:58.630Z"
   },
   {
    "duration": 42,
    "start_time": "2022-10-19T08:28:58.640Z"
   },
   {
    "duration": 18,
    "start_time": "2022-10-19T08:28:58.684Z"
   },
   {
    "duration": 103,
    "start_time": "2022-10-19T08:28:58.704Z"
   },
   {
    "duration": 0,
    "start_time": "2022-10-19T08:28:58.808Z"
   },
   {
    "duration": 0,
    "start_time": "2022-10-19T08:28:58.810Z"
   },
   {
    "duration": 0,
    "start_time": "2022-10-19T08:28:58.811Z"
   },
   {
    "duration": 0,
    "start_time": "2022-10-19T08:28:58.812Z"
   },
   {
    "duration": 0,
    "start_time": "2022-10-19T08:28:58.812Z"
   },
   {
    "duration": 0,
    "start_time": "2022-10-19T08:28:58.814Z"
   },
   {
    "duration": 0,
    "start_time": "2022-10-19T08:28:58.815Z"
   },
   {
    "duration": 0,
    "start_time": "2022-10-19T08:28:58.816Z"
   },
   {
    "duration": 0,
    "start_time": "2022-10-19T08:28:58.817Z"
   },
   {
    "duration": 0,
    "start_time": "2022-10-19T08:28:58.818Z"
   },
   {
    "duration": 0,
    "start_time": "2022-10-19T08:28:58.819Z"
   },
   {
    "duration": 0,
    "start_time": "2022-10-19T08:28:58.820Z"
   },
   {
    "duration": 0,
    "start_time": "2022-10-19T08:28:58.820Z"
   },
   {
    "duration": 0,
    "start_time": "2022-10-19T08:28:58.821Z"
   },
   {
    "duration": 0,
    "start_time": "2022-10-19T08:28:58.822Z"
   },
   {
    "duration": 0,
    "start_time": "2022-10-19T08:28:58.823Z"
   },
   {
    "duration": 0,
    "start_time": "2022-10-19T08:28:58.824Z"
   },
   {
    "duration": 0,
    "start_time": "2022-10-19T08:28:58.825Z"
   },
   {
    "duration": 0,
    "start_time": "2022-10-19T08:28:58.826Z"
   },
   {
    "duration": 0,
    "start_time": "2022-10-19T08:28:58.827Z"
   },
   {
    "duration": 0,
    "start_time": "2022-10-19T08:28:58.828Z"
   },
   {
    "duration": 0,
    "start_time": "2022-10-19T08:28:58.829Z"
   },
   {
    "duration": 0,
    "start_time": "2022-10-19T08:28:58.830Z"
   },
   {
    "duration": 0,
    "start_time": "2022-10-19T08:28:58.831Z"
   },
   {
    "duration": 0,
    "start_time": "2022-10-19T08:28:58.831Z"
   },
   {
    "duration": 0,
    "start_time": "2022-10-19T08:28:58.832Z"
   },
   {
    "duration": 0,
    "start_time": "2022-10-19T08:28:58.833Z"
   },
   {
    "duration": 0,
    "start_time": "2022-10-19T08:28:58.834Z"
   },
   {
    "duration": 0,
    "start_time": "2022-10-19T08:28:58.835Z"
   },
   {
    "duration": 0,
    "start_time": "2022-10-19T08:28:58.836Z"
   },
   {
    "duration": 0,
    "start_time": "2022-10-19T08:28:58.837Z"
   },
   {
    "duration": 0,
    "start_time": "2022-10-19T08:28:58.839Z"
   },
   {
    "duration": 0,
    "start_time": "2022-10-19T08:28:58.840Z"
   },
   {
    "duration": 0,
    "start_time": "2022-10-19T08:28:58.841Z"
   },
   {
    "duration": 0,
    "start_time": "2022-10-19T08:28:58.843Z"
   },
   {
    "duration": 0,
    "start_time": "2022-10-19T08:28:58.844Z"
   },
   {
    "duration": 0,
    "start_time": "2022-10-19T08:28:58.845Z"
   },
   {
    "duration": 0,
    "start_time": "2022-10-19T08:28:58.901Z"
   },
   {
    "duration": 0,
    "start_time": "2022-10-19T08:28:58.903Z"
   },
   {
    "duration": 0,
    "start_time": "2022-10-19T08:28:58.904Z"
   },
   {
    "duration": 0,
    "start_time": "2022-10-19T08:28:58.905Z"
   },
   {
    "duration": 0,
    "start_time": "2022-10-19T08:28:58.906Z"
   },
   {
    "duration": 0,
    "start_time": "2022-10-19T08:28:58.908Z"
   },
   {
    "duration": 0,
    "start_time": "2022-10-19T08:28:58.909Z"
   },
   {
    "duration": 0,
    "start_time": "2022-10-19T08:28:58.911Z"
   },
   {
    "duration": 0,
    "start_time": "2022-10-19T08:28:58.912Z"
   },
   {
    "duration": 0,
    "start_time": "2022-10-19T08:28:58.913Z"
   },
   {
    "duration": 0,
    "start_time": "2022-10-19T08:28:58.914Z"
   },
   {
    "duration": 0,
    "start_time": "2022-10-19T08:28:58.915Z"
   },
   {
    "duration": 0,
    "start_time": "2022-10-19T08:28:58.917Z"
   },
   {
    "duration": 0,
    "start_time": "2022-10-19T08:28:58.918Z"
   },
   {
    "duration": 0,
    "start_time": "2022-10-19T08:28:58.919Z"
   },
   {
    "duration": 0,
    "start_time": "2022-10-19T08:28:58.921Z"
   },
   {
    "duration": 1108,
    "start_time": "2022-10-19T08:29:43.911Z"
   },
   {
    "duration": 627,
    "start_time": "2022-10-19T08:29:45.021Z"
   },
   {
    "duration": 12,
    "start_time": "2022-10-19T08:29:45.650Z"
   },
   {
    "duration": 36,
    "start_time": "2022-10-19T08:29:45.664Z"
   },
   {
    "duration": 16,
    "start_time": "2022-10-19T08:29:45.702Z"
   },
   {
    "duration": 43,
    "start_time": "2022-10-19T08:29:45.720Z"
   },
   {
    "duration": 7,
    "start_time": "2022-10-19T08:29:45.765Z"
   },
   {
    "duration": 45,
    "start_time": "2022-10-19T08:29:45.773Z"
   },
   {
    "duration": 23,
    "start_time": "2022-10-19T08:29:45.820Z"
   },
   {
    "duration": 37,
    "start_time": "2022-10-19T08:29:45.846Z"
   },
   {
    "duration": 34,
    "start_time": "2022-10-19T08:29:45.885Z"
   },
   {
    "duration": 41,
    "start_time": "2022-10-19T08:29:45.920Z"
   },
   {
    "duration": 105,
    "start_time": "2022-10-19T08:29:45.962Z"
   },
   {
    "duration": 15,
    "start_time": "2022-10-19T08:29:46.069Z"
   },
   {
    "duration": 31,
    "start_time": "2022-10-19T08:29:46.086Z"
   },
   {
    "duration": 16,
    "start_time": "2022-10-19T08:29:46.119Z"
   },
   {
    "duration": 20,
    "start_time": "2022-10-19T08:29:46.137Z"
   },
   {
    "duration": 31,
    "start_time": "2022-10-19T08:29:46.159Z"
   },
   {
    "duration": 24,
    "start_time": "2022-10-19T08:29:46.191Z"
   },
   {
    "duration": 20,
    "start_time": "2022-10-19T08:29:46.217Z"
   },
   {
    "duration": 14,
    "start_time": "2022-10-19T08:29:46.239Z"
   },
   {
    "duration": 26,
    "start_time": "2022-10-19T08:29:46.254Z"
   },
   {
    "duration": 35,
    "start_time": "2022-10-19T08:29:46.281Z"
   },
   {
    "duration": 35,
    "start_time": "2022-10-19T08:29:46.318Z"
   },
   {
    "duration": 7,
    "start_time": "2022-10-19T08:29:46.355Z"
   },
   {
    "duration": 25,
    "start_time": "2022-10-19T08:29:46.363Z"
   },
   {
    "duration": 32,
    "start_time": "2022-10-19T08:29:46.390Z"
   },
   {
    "duration": 16,
    "start_time": "2022-10-19T08:29:46.426Z"
   },
   {
    "duration": 31,
    "start_time": "2022-10-19T08:29:46.443Z"
   },
   {
    "duration": 17,
    "start_time": "2022-10-19T08:29:46.475Z"
   },
   {
    "duration": 45,
    "start_time": "2022-10-19T08:29:46.493Z"
   },
   {
    "duration": 15,
    "start_time": "2022-10-19T08:29:46.539Z"
   },
   {
    "duration": 37,
    "start_time": "2022-10-19T08:29:46.555Z"
   },
   {
    "duration": 16,
    "start_time": "2022-10-19T08:29:46.593Z"
   },
   {
    "duration": 39,
    "start_time": "2022-10-19T08:29:46.611Z"
   },
   {
    "duration": 17,
    "start_time": "2022-10-19T08:29:46.652Z"
   },
   {
    "duration": 32,
    "start_time": "2022-10-19T08:29:46.671Z"
   },
   {
    "duration": 22,
    "start_time": "2022-10-19T08:29:46.705Z"
   },
   {
    "duration": 43,
    "start_time": "2022-10-19T08:29:46.729Z"
   },
   {
    "duration": 30,
    "start_time": "2022-10-19T08:29:46.774Z"
   },
   {
    "duration": 15,
    "start_time": "2022-10-19T08:29:46.806Z"
   },
   {
    "duration": 36,
    "start_time": "2022-10-19T08:29:46.823Z"
   },
   {
    "duration": 17,
    "start_time": "2022-10-19T08:29:46.860Z"
   },
   {
    "duration": 18,
    "start_time": "2022-10-19T08:29:46.878Z"
   },
   {
    "duration": 33,
    "start_time": "2022-10-19T08:29:46.898Z"
   },
   {
    "duration": 20,
    "start_time": "2022-10-19T08:29:46.932Z"
   },
   {
    "duration": 18,
    "start_time": "2022-10-19T08:29:46.953Z"
   },
   {
    "duration": 148,
    "start_time": "2022-10-19T08:29:46.972Z"
   },
   {
    "duration": 6,
    "start_time": "2022-10-19T08:29:47.121Z"
   },
   {
    "duration": 49,
    "start_time": "2022-10-19T08:29:47.128Z"
   },
   {
    "duration": 25,
    "start_time": "2022-10-19T08:29:47.179Z"
   },
   {
    "duration": 24,
    "start_time": "2022-10-19T08:29:47.207Z"
   },
   {
    "duration": 116,
    "start_time": "2022-10-19T08:29:47.233Z"
   },
   {
    "duration": 7,
    "start_time": "2022-10-19T08:29:47.350Z"
   },
   {
    "duration": 40,
    "start_time": "2022-10-19T08:29:47.358Z"
   },
   {
    "duration": 24,
    "start_time": "2022-10-19T08:29:47.400Z"
   },
   {
    "duration": 41,
    "start_time": "2022-10-19T08:29:47.426Z"
   },
   {
    "duration": 158,
    "start_time": "2022-10-19T08:29:47.468Z"
   },
   {
    "duration": 8,
    "start_time": "2022-10-19T08:29:47.627Z"
   },
   {
    "duration": 24,
    "start_time": "2022-10-19T08:29:47.636Z"
   },
   {
    "duration": 10,
    "start_time": "2022-10-19T08:29:47.662Z"
   },
   {
    "duration": 8,
    "start_time": "2022-10-19T08:29:47.674Z"
   },
   {
    "duration": 161,
    "start_time": "2022-10-19T08:29:47.683Z"
   },
   {
    "duration": 8,
    "start_time": "2022-10-19T08:29:47.846Z"
   },
   {
    "duration": 8,
    "start_time": "2022-10-19T08:29:47.855Z"
   },
   {
    "duration": 8,
    "start_time": "2022-10-19T08:29:47.865Z"
   },
   {
    "duration": 32,
    "start_time": "2022-10-19T08:29:47.874Z"
   },
   {
    "duration": 141,
    "start_time": "2022-10-19T08:29:47.907Z"
   },
   {
    "duration": 6,
    "start_time": "2022-10-19T08:29:48.050Z"
   },
   {
    "duration": 7,
    "start_time": "2022-10-19T08:29:48.057Z"
   },
   {
    "duration": 8,
    "start_time": "2022-10-19T08:29:48.065Z"
   },
   {
    "duration": 27,
    "start_time": "2022-10-19T08:29:48.074Z"
   },
   {
    "duration": 129,
    "start_time": "2022-10-19T08:29:48.102Z"
   },
   {
    "duration": 7,
    "start_time": "2022-10-19T08:29:48.232Z"
   },
   {
    "duration": 17,
    "start_time": "2022-10-19T08:29:48.240Z"
   },
   {
    "duration": 23,
    "start_time": "2022-10-19T08:29:48.259Z"
   },
   {
    "duration": 21,
    "start_time": "2022-10-19T08:29:48.283Z"
   },
   {
    "duration": 10,
    "start_time": "2022-10-19T08:29:48.306Z"
   },
   {
    "duration": 10,
    "start_time": "2022-10-19T08:29:48.318Z"
   },
   {
    "duration": 143,
    "start_time": "2022-10-19T08:29:48.329Z"
   },
   {
    "duration": 147,
    "start_time": "2022-10-19T08:29:48.474Z"
   },
   {
    "duration": 5,
    "start_time": "2022-10-19T08:29:48.626Z"
   },
   {
    "duration": 12,
    "start_time": "2022-10-19T08:29:48.632Z"
   },
   {
    "duration": 215,
    "start_time": "2022-10-19T08:29:48.645Z"
   },
   {
    "duration": 147,
    "start_time": "2022-10-19T08:29:48.862Z"
   },
   {
    "duration": 5,
    "start_time": "2022-10-19T08:29:49.011Z"
   },
   {
    "duration": 1093,
    "start_time": "2022-10-19T08:31:49.509Z"
   },
   {
    "duration": 447,
    "start_time": "2022-10-19T08:31:50.604Z"
   },
   {
    "duration": 11,
    "start_time": "2022-10-19T08:31:51.053Z"
   },
   {
    "duration": 27,
    "start_time": "2022-10-19T08:31:51.066Z"
   },
   {
    "duration": 8,
    "start_time": "2022-10-19T08:31:51.095Z"
   },
   {
    "duration": 24,
    "start_time": "2022-10-19T08:31:51.104Z"
   },
   {
    "duration": 8,
    "start_time": "2022-10-19T08:31:51.129Z"
   },
   {
    "duration": 24,
    "start_time": "2022-10-19T08:31:51.138Z"
   },
   {
    "duration": 13,
    "start_time": "2022-10-19T08:31:51.163Z"
   },
   {
    "duration": 9,
    "start_time": "2022-10-19T08:31:51.200Z"
   },
   {
    "duration": 20,
    "start_time": "2022-10-19T08:31:51.210Z"
   },
   {
    "duration": 11,
    "start_time": "2022-10-19T08:31:51.231Z"
   },
   {
    "duration": 74,
    "start_time": "2022-10-19T08:31:51.243Z"
   },
   {
    "duration": 13,
    "start_time": "2022-10-19T08:31:51.319Z"
   },
   {
    "duration": 14,
    "start_time": "2022-10-19T08:31:51.334Z"
   },
   {
    "duration": 18,
    "start_time": "2022-10-19T08:31:51.350Z"
   },
   {
    "duration": 33,
    "start_time": "2022-10-19T08:31:51.370Z"
   },
   {
    "duration": 21,
    "start_time": "2022-10-19T08:31:51.404Z"
   },
   {
    "duration": 23,
    "start_time": "2022-10-19T08:31:51.427Z"
   },
   {
    "duration": 12,
    "start_time": "2022-10-19T08:31:51.451Z"
   },
   {
    "duration": 14,
    "start_time": "2022-10-19T08:31:51.464Z"
   },
   {
    "duration": 24,
    "start_time": "2022-10-19T08:31:51.480Z"
   },
   {
    "duration": 32,
    "start_time": "2022-10-19T08:31:51.506Z"
   },
   {
    "duration": 34,
    "start_time": "2022-10-19T08:31:51.539Z"
   },
   {
    "duration": 28,
    "start_time": "2022-10-19T08:31:51.574Z"
   },
   {
    "duration": 17,
    "start_time": "2022-10-19T08:31:51.604Z"
   },
   {
    "duration": 21,
    "start_time": "2022-10-19T08:31:51.623Z"
   },
   {
    "duration": 16,
    "start_time": "2022-10-19T08:31:51.648Z"
   },
   {
    "duration": 53,
    "start_time": "2022-10-19T08:31:51.665Z"
   },
   {
    "duration": 9,
    "start_time": "2022-10-19T08:31:51.720Z"
   },
   {
    "duration": 21,
    "start_time": "2022-10-19T08:31:51.730Z"
   },
   {
    "duration": 15,
    "start_time": "2022-10-19T08:31:51.752Z"
   },
   {
    "duration": 45,
    "start_time": "2022-10-19T08:31:51.768Z"
   },
   {
    "duration": 11,
    "start_time": "2022-10-19T08:31:51.815Z"
   },
   {
    "duration": 13,
    "start_time": "2022-10-19T08:31:51.827Z"
   },
   {
    "duration": 14,
    "start_time": "2022-10-19T08:31:51.841Z"
   },
   {
    "duration": 55,
    "start_time": "2022-10-19T08:31:51.857Z"
   },
   {
    "duration": 23,
    "start_time": "2022-10-19T08:31:51.913Z"
   },
   {
    "duration": 24,
    "start_time": "2022-10-19T08:31:51.938Z"
   },
   {
    "duration": 48,
    "start_time": "2022-10-19T08:31:51.963Z"
   },
   {
    "duration": 14,
    "start_time": "2022-10-19T08:31:52.013Z"
   },
   {
    "duration": 13,
    "start_time": "2022-10-19T08:31:52.028Z"
   },
   {
    "duration": 15,
    "start_time": "2022-10-19T08:31:52.042Z"
   },
   {
    "duration": 47,
    "start_time": "2022-10-19T08:31:52.058Z"
   },
   {
    "duration": 6,
    "start_time": "2022-10-19T08:31:52.107Z"
   },
   {
    "duration": 14,
    "start_time": "2022-10-19T08:31:52.114Z"
   },
   {
    "duration": 6,
    "start_time": "2022-10-19T08:31:52.130Z"
   },
   {
    "duration": 167,
    "start_time": "2022-10-19T08:31:52.138Z"
   },
   {
    "duration": 7,
    "start_time": "2022-10-19T08:31:52.307Z"
   },
   {
    "duration": 41,
    "start_time": "2022-10-19T08:31:52.316Z"
   },
   {
    "duration": 9,
    "start_time": "2022-10-19T08:31:52.359Z"
   },
   {
    "duration": 16,
    "start_time": "2022-10-19T08:31:52.370Z"
   },
   {
    "duration": 123,
    "start_time": "2022-10-19T08:31:52.388Z"
   },
   {
    "duration": 7,
    "start_time": "2022-10-19T08:31:52.513Z"
   },
   {
    "duration": 11,
    "start_time": "2022-10-19T08:31:52.521Z"
   },
   {
    "duration": 6,
    "start_time": "2022-10-19T08:31:52.533Z"
   },
   {
    "duration": 5,
    "start_time": "2022-10-19T08:31:52.541Z"
   },
   {
    "duration": 177,
    "start_time": "2022-10-19T08:31:52.547Z"
   },
   {
    "duration": 6,
    "start_time": "2022-10-19T08:31:52.726Z"
   },
   {
    "duration": 9,
    "start_time": "2022-10-19T08:31:52.734Z"
   },
   {
    "duration": 11,
    "start_time": "2022-10-19T08:31:52.745Z"
   },
   {
    "duration": 42,
    "start_time": "2022-10-19T08:31:52.758Z"
   },
   {
    "duration": 166,
    "start_time": "2022-10-19T08:31:52.802Z"
   },
   {
    "duration": 7,
    "start_time": "2022-10-19T08:31:52.970Z"
   },
   {
    "duration": 30,
    "start_time": "2022-10-19T08:31:52.978Z"
   },
   {
    "duration": 17,
    "start_time": "2022-10-19T08:31:53.010Z"
   },
   {
    "duration": 5,
    "start_time": "2022-10-19T08:31:53.029Z"
   },
   {
    "duration": 140,
    "start_time": "2022-10-19T08:31:53.036Z"
   },
   {
    "duration": 6,
    "start_time": "2022-10-19T08:31:53.178Z"
   },
   {
    "duration": 16,
    "start_time": "2022-10-19T08:31:53.185Z"
   },
   {
    "duration": 9,
    "start_time": "2022-10-19T08:31:53.203Z"
   },
   {
    "duration": 15,
    "start_time": "2022-10-19T08:31:53.213Z"
   },
   {
    "duration": 133,
    "start_time": "2022-10-19T08:31:53.230Z"
   },
   {
    "duration": 6,
    "start_time": "2022-10-19T08:31:53.365Z"
   },
   {
    "duration": 9,
    "start_time": "2022-10-19T08:31:53.372Z"
   },
   {
    "duration": 35,
    "start_time": "2022-10-19T08:31:53.382Z"
   },
   {
    "duration": 6,
    "start_time": "2022-10-19T08:31:53.419Z"
   },
   {
    "duration": 28,
    "start_time": "2022-10-19T08:31:53.426Z"
   },
   {
    "duration": 11,
    "start_time": "2022-10-19T08:31:53.455Z"
   },
   {
    "duration": 120,
    "start_time": "2022-10-19T08:31:53.467Z"
   },
   {
    "duration": 144,
    "start_time": "2022-10-19T08:31:53.589Z"
   },
   {
    "duration": 4,
    "start_time": "2022-10-19T08:31:53.738Z"
   },
   {
    "duration": 27,
    "start_time": "2022-10-19T08:31:53.744Z"
   },
   {
    "duration": 215,
    "start_time": "2022-10-19T08:31:53.772Z"
   },
   {
    "duration": 155,
    "start_time": "2022-10-19T08:31:53.989Z"
   },
   {
    "duration": 6,
    "start_time": "2022-10-19T08:31:54.145Z"
   },
   {
    "duration": 1067,
    "start_time": "2022-10-19T08:38:01.927Z"
   },
   {
    "duration": 563,
    "start_time": "2022-10-19T08:38:02.996Z"
   },
   {
    "duration": 13,
    "start_time": "2022-10-19T08:38:03.561Z"
   },
   {
    "duration": 22,
    "start_time": "2022-10-19T08:38:03.576Z"
   },
   {
    "duration": 7,
    "start_time": "2022-10-19T08:38:03.599Z"
   },
   {
    "duration": 18,
    "start_time": "2022-10-19T08:38:03.608Z"
   },
   {
    "duration": 6,
    "start_time": "2022-10-19T08:38:03.628Z"
   },
   {
    "duration": 18,
    "start_time": "2022-10-19T08:38:03.635Z"
   },
   {
    "duration": 6,
    "start_time": "2022-10-19T08:38:03.655Z"
   },
   {
    "duration": 42,
    "start_time": "2022-10-19T08:38:03.663Z"
   },
   {
    "duration": 13,
    "start_time": "2022-10-19T08:38:03.706Z"
   },
   {
    "duration": 11,
    "start_time": "2022-10-19T08:38:03.720Z"
   },
   {
    "duration": 81,
    "start_time": "2022-10-19T08:38:03.733Z"
   },
   {
    "duration": 16,
    "start_time": "2022-10-19T08:38:03.817Z"
   },
   {
    "duration": 17,
    "start_time": "2022-10-19T08:38:03.835Z"
   },
   {
    "duration": 12,
    "start_time": "2022-10-19T08:38:03.854Z"
   },
   {
    "duration": 39,
    "start_time": "2022-10-19T08:38:03.868Z"
   },
   {
    "duration": 11,
    "start_time": "2022-10-19T08:38:03.909Z"
   },
   {
    "duration": 12,
    "start_time": "2022-10-19T08:38:03.922Z"
   },
   {
    "duration": 12,
    "start_time": "2022-10-19T08:38:03.935Z"
   },
   {
    "duration": 26,
    "start_time": "2022-10-19T08:38:03.948Z"
   },
   {
    "duration": 24,
    "start_time": "2022-10-19T08:38:03.976Z"
   },
   {
    "duration": 29,
    "start_time": "2022-10-19T08:38:04.002Z"
   },
   {
    "duration": 34,
    "start_time": "2022-10-19T08:38:04.032Z"
   },
   {
    "duration": 34,
    "start_time": "2022-10-19T08:38:04.067Z"
   },
   {
    "duration": 17,
    "start_time": "2022-10-19T08:38:04.102Z"
   },
   {
    "duration": 24,
    "start_time": "2022-10-19T08:38:04.121Z"
   },
   {
    "duration": 19,
    "start_time": "2022-10-19T08:38:04.147Z"
   },
   {
    "duration": 56,
    "start_time": "2022-10-19T08:38:04.167Z"
   },
   {
    "duration": 14,
    "start_time": "2022-10-19T08:38:04.224Z"
   },
   {
    "duration": 22,
    "start_time": "2022-10-19T08:38:04.240Z"
   },
   {
    "duration": 46,
    "start_time": "2022-10-19T08:38:04.264Z"
   },
   {
    "duration": 20,
    "start_time": "2022-10-19T08:38:04.312Z"
   },
   {
    "duration": 13,
    "start_time": "2022-10-19T08:38:04.334Z"
   },
   {
    "duration": 14,
    "start_time": "2022-10-19T08:38:04.349Z"
   },
   {
    "duration": 20,
    "start_time": "2022-10-19T08:38:04.402Z"
   },
   {
    "duration": 41,
    "start_time": "2022-10-19T08:38:04.424Z"
   },
   {
    "duration": 42,
    "start_time": "2022-10-19T08:38:04.467Z"
   },
   {
    "duration": 43,
    "start_time": "2022-10-19T08:38:04.511Z"
   },
   {
    "duration": 43,
    "start_time": "2022-10-19T08:38:04.556Z"
   },
   {
    "duration": 17,
    "start_time": "2022-10-19T08:38:04.604Z"
   },
   {
    "duration": 15,
    "start_time": "2022-10-19T08:38:04.623Z"
   },
   {
    "duration": 15,
    "start_time": "2022-10-19T08:38:04.640Z"
   },
   {
    "duration": 45,
    "start_time": "2022-10-19T08:38:04.657Z"
   },
   {
    "duration": 5,
    "start_time": "2022-10-19T08:38:04.703Z"
   },
   {
    "duration": 29,
    "start_time": "2022-10-19T08:38:04.710Z"
   },
   {
    "duration": 8,
    "start_time": "2022-10-19T08:38:04.740Z"
   },
   {
    "duration": 130,
    "start_time": "2022-10-19T08:38:04.750Z"
   },
   {
    "duration": 6,
    "start_time": "2022-10-19T08:38:04.881Z"
   },
   {
    "duration": 33,
    "start_time": "2022-10-19T08:38:04.899Z"
   },
   {
    "duration": 8,
    "start_time": "2022-10-19T08:38:04.934Z"
   },
   {
    "duration": 14,
    "start_time": "2022-10-19T08:38:04.944Z"
   },
   {
    "duration": 117,
    "start_time": "2022-10-19T08:38:04.959Z"
   },
   {
    "duration": 5,
    "start_time": "2022-10-19T08:38:05.078Z"
   },
   {
    "duration": 16,
    "start_time": "2022-10-19T08:38:05.085Z"
   },
   {
    "duration": 6,
    "start_time": "2022-10-19T08:38:05.102Z"
   },
   {
    "duration": 8,
    "start_time": "2022-10-19T08:38:05.110Z"
   },
   {
    "duration": 146,
    "start_time": "2022-10-19T08:38:05.119Z"
   },
   {
    "duration": 7,
    "start_time": "2022-10-19T08:38:05.266Z"
   },
   {
    "duration": 10,
    "start_time": "2022-10-19T08:38:05.274Z"
   },
   {
    "duration": 22,
    "start_time": "2022-10-19T08:38:05.286Z"
   },
   {
    "duration": 19,
    "start_time": "2022-10-19T08:38:05.309Z"
   },
   {
    "duration": 154,
    "start_time": "2022-10-19T08:38:05.329Z"
   },
   {
    "duration": 15,
    "start_time": "2022-10-19T08:38:05.485Z"
   },
   {
    "duration": 16,
    "start_time": "2022-10-19T08:38:05.502Z"
   },
   {
    "duration": 13,
    "start_time": "2022-10-19T08:38:05.519Z"
   },
   {
    "duration": 19,
    "start_time": "2022-10-19T08:38:05.533Z"
   },
   {
    "duration": 176,
    "start_time": "2022-10-19T08:38:05.554Z"
   },
   {
    "duration": 7,
    "start_time": "2022-10-19T08:38:05.732Z"
   },
   {
    "duration": 11,
    "start_time": "2022-10-19T08:38:05.740Z"
   },
   {
    "duration": 17,
    "start_time": "2022-10-19T08:38:05.753Z"
   },
   {
    "duration": 6,
    "start_time": "2022-10-19T08:38:05.771Z"
   },
   {
    "duration": 158,
    "start_time": "2022-10-19T08:38:05.779Z"
   },
   {
    "duration": 7,
    "start_time": "2022-10-19T08:38:05.939Z"
   },
   {
    "duration": 15,
    "start_time": "2022-10-19T08:38:05.948Z"
   },
   {
    "duration": 36,
    "start_time": "2022-10-19T08:38:05.965Z"
   },
   {
    "duration": 7,
    "start_time": "2022-10-19T08:38:06.003Z"
   },
   {
    "duration": 20,
    "start_time": "2022-10-19T08:38:06.011Z"
   },
   {
    "duration": 14,
    "start_time": "2022-10-19T08:38:06.032Z"
   },
   {
    "duration": 136,
    "start_time": "2022-10-19T08:38:06.047Z"
   },
   {
    "duration": 135,
    "start_time": "2022-10-19T08:38:06.184Z"
   },
   {
    "duration": 5,
    "start_time": "2022-10-19T08:38:06.320Z"
   },
   {
    "duration": 16,
    "start_time": "2022-10-19T08:38:06.326Z"
   },
   {
    "duration": 211,
    "start_time": "2022-10-19T08:38:06.343Z"
   },
   {
    "duration": 125,
    "start_time": "2022-10-19T08:38:06.555Z"
   },
   {
    "duration": 4,
    "start_time": "2022-10-19T08:38:06.682Z"
   },
   {
    "duration": 62,
    "start_time": "2022-10-19T08:59:22.842Z"
   },
   {
    "duration": 104,
    "start_time": "2022-10-19T10:28:12.609Z"
   },
   {
    "duration": 181,
    "start_time": "2022-10-19T10:29:19.265Z"
   },
   {
    "duration": 6,
    "start_time": "2022-10-19T10:36:28.378Z"
   },
   {
    "duration": 1094,
    "start_time": "2022-10-19T10:46:40.724Z"
   },
   {
    "duration": 436,
    "start_time": "2022-10-19T10:46:41.819Z"
   },
   {
    "duration": 12,
    "start_time": "2022-10-19T10:46:42.256Z"
   },
   {
    "duration": 43,
    "start_time": "2022-10-19T10:46:42.270Z"
   },
   {
    "duration": 8,
    "start_time": "2022-10-19T10:46:42.314Z"
   },
   {
    "duration": 49,
    "start_time": "2022-10-19T10:46:42.324Z"
   },
   {
    "duration": 9,
    "start_time": "2022-10-19T10:46:42.375Z"
   },
   {
    "duration": 46,
    "start_time": "2022-10-19T10:46:42.385Z"
   },
   {
    "duration": 7,
    "start_time": "2022-10-19T10:46:42.433Z"
   },
   {
    "duration": 29,
    "start_time": "2022-10-19T10:46:42.442Z"
   },
   {
    "duration": 37,
    "start_time": "2022-10-19T10:46:42.473Z"
   },
   {
    "duration": 25,
    "start_time": "2022-10-19T10:46:42.512Z"
   },
   {
    "duration": 91,
    "start_time": "2022-10-19T10:46:42.539Z"
   },
   {
    "duration": 15,
    "start_time": "2022-10-19T10:46:42.632Z"
   },
   {
    "duration": 25,
    "start_time": "2022-10-19T10:46:42.649Z"
   },
   {
    "duration": 30,
    "start_time": "2022-10-19T10:46:42.675Z"
   },
   {
    "duration": 13,
    "start_time": "2022-10-19T10:46:42.707Z"
   },
   {
    "duration": 38,
    "start_time": "2022-10-19T10:46:42.722Z"
   },
   {
    "duration": 22,
    "start_time": "2022-10-19T10:46:42.762Z"
   },
   {
    "duration": 41,
    "start_time": "2022-10-19T10:46:42.786Z"
   },
   {
    "duration": 28,
    "start_time": "2022-10-19T10:46:42.828Z"
   },
   {
    "duration": 34,
    "start_time": "2022-10-19T10:46:42.858Z"
   },
   {
    "duration": 32,
    "start_time": "2022-10-19T10:46:42.893Z"
   },
   {
    "duration": 34,
    "start_time": "2022-10-19T10:46:42.927Z"
   },
   {
    "duration": 9,
    "start_time": "2022-10-19T10:46:42.962Z"
   },
   {
    "duration": 44,
    "start_time": "2022-10-19T10:46:42.972Z"
   },
   {
    "duration": 38,
    "start_time": "2022-10-19T10:46:43.017Z"
   },
   {
    "duration": 17,
    "start_time": "2022-10-19T10:46:43.058Z"
   },
   {
    "duration": 46,
    "start_time": "2022-10-19T10:46:43.076Z"
   },
   {
    "duration": 11,
    "start_time": "2022-10-19T10:46:43.123Z"
   },
   {
    "duration": 47,
    "start_time": "2022-10-19T10:46:43.136Z"
   },
   {
    "duration": 20,
    "start_time": "2022-10-19T10:46:43.184Z"
   },
   {
    "duration": 38,
    "start_time": "2022-10-19T10:46:43.206Z"
   },
   {
    "duration": 12,
    "start_time": "2022-10-19T10:46:43.246Z"
   },
   {
    "duration": 27,
    "start_time": "2022-10-19T10:46:43.260Z"
   },
   {
    "duration": 35,
    "start_time": "2022-10-19T10:46:43.288Z"
   },
   {
    "duration": 35,
    "start_time": "2022-10-19T10:46:43.324Z"
   },
   {
    "duration": 22,
    "start_time": "2022-10-19T10:46:43.361Z"
   },
   {
    "duration": 76,
    "start_time": "2022-10-19T10:46:43.385Z"
   },
   {
    "duration": 56,
    "start_time": "2022-10-19T10:46:43.463Z"
   },
   {
    "duration": 15,
    "start_time": "2022-10-19T10:46:43.521Z"
   },
   {
    "duration": 19,
    "start_time": "2022-10-19T10:46:43.538Z"
   },
   {
    "duration": 65,
    "start_time": "2022-10-19T10:46:43.559Z"
   },
   {
    "duration": 8,
    "start_time": "2022-10-19T10:46:43.626Z"
   },
   {
    "duration": 36,
    "start_time": "2022-10-19T10:46:43.636Z"
   },
   {
    "duration": 46,
    "start_time": "2022-10-19T10:46:43.674Z"
   },
   {
    "duration": 67,
    "start_time": "2022-10-19T10:46:43.722Z"
   },
   {
    "duration": 182,
    "start_time": "2022-10-19T10:46:43.791Z"
   },
   {
    "duration": 6,
    "start_time": "2022-10-19T10:46:43.975Z"
   },
   {
    "duration": 63,
    "start_time": "2022-10-19T10:46:43.982Z"
   },
   {
    "duration": 59,
    "start_time": "2022-10-19T10:46:44.047Z"
   },
   {
    "duration": 55,
    "start_time": "2022-10-19T10:46:44.107Z"
   },
   {
    "duration": 179,
    "start_time": "2022-10-19T10:46:44.163Z"
   },
   {
    "duration": 6,
    "start_time": "2022-10-19T10:46:44.344Z"
   },
   {
    "duration": 33,
    "start_time": "2022-10-19T10:46:44.352Z"
   },
   {
    "duration": 39,
    "start_time": "2022-10-19T10:46:44.386Z"
   },
   {
    "duration": 28,
    "start_time": "2022-10-19T10:46:44.427Z"
   },
   {
    "duration": 217,
    "start_time": "2022-10-19T10:46:44.457Z"
   },
   {
    "duration": 7,
    "start_time": "2022-10-19T10:46:44.675Z"
   },
   {
    "duration": 24,
    "start_time": "2022-10-19T10:46:44.683Z"
   },
   {
    "duration": 32,
    "start_time": "2022-10-19T10:46:44.708Z"
   },
   {
    "duration": 34,
    "start_time": "2022-10-19T10:46:44.742Z"
   },
   {
    "duration": 157,
    "start_time": "2022-10-19T10:46:44.778Z"
   },
   {
    "duration": 7,
    "start_time": "2022-10-19T10:46:44.937Z"
   },
   {
    "duration": 15,
    "start_time": "2022-10-19T10:46:44.946Z"
   },
   {
    "duration": 41,
    "start_time": "2022-10-19T10:46:44.963Z"
   },
   {
    "duration": 40,
    "start_time": "2022-10-19T10:46:45.005Z"
   },
   {
    "duration": 188,
    "start_time": "2022-10-19T10:46:45.047Z"
   },
   {
    "duration": 7,
    "start_time": "2022-10-19T10:46:45.236Z"
   },
   {
    "duration": 35,
    "start_time": "2022-10-19T10:46:45.245Z"
   },
   {
    "duration": 38,
    "start_time": "2022-10-19T10:46:45.282Z"
   },
   {
    "duration": 20,
    "start_time": "2022-10-19T10:46:45.322Z"
   },
   {
    "duration": 158,
    "start_time": "2022-10-19T10:46:45.343Z"
   },
   {
    "duration": 6,
    "start_time": "2022-10-19T10:46:45.503Z"
   },
   {
    "duration": 10,
    "start_time": "2022-10-19T10:46:45.511Z"
   },
   {
    "duration": 24,
    "start_time": "2022-10-19T10:46:45.523Z"
   },
   {
    "duration": 18,
    "start_time": "2022-10-19T10:46:45.548Z"
   },
   {
    "duration": 35,
    "start_time": "2022-10-19T10:46:45.569Z"
   },
   {
    "duration": 9,
    "start_time": "2022-10-19T10:46:45.606Z"
   },
   {
    "duration": 140,
    "start_time": "2022-10-19T10:46:45.617Z"
   },
   {
    "duration": 161,
    "start_time": "2022-10-19T10:46:45.759Z"
   },
   {
    "duration": 5,
    "start_time": "2022-10-19T10:46:45.925Z"
   },
   {
    "duration": 40,
    "start_time": "2022-10-19T10:46:45.932Z"
   },
   {
    "duration": 197,
    "start_time": "2022-10-19T10:46:45.974Z"
   },
   {
    "duration": 141,
    "start_time": "2022-10-19T10:46:46.173Z"
   },
   {
    "duration": 5,
    "start_time": "2022-10-19T10:46:46.315Z"
   }
  ],
  "kernelspec": {
   "display_name": "Python 3 (ipykernel)",
   "language": "python",
   "name": "python3"
  },
  "language_info": {
   "codemirror_mode": {
    "name": "ipython",
    "version": 3
   },
   "file_extension": ".py",
   "mimetype": "text/x-python",
   "name": "python",
   "nbconvert_exporter": "python",
   "pygments_lexer": "ipython3",
   "version": "3.9.12"
  },
  "toc": {
   "base_numbering": 1,
   "nav_menu": {},
   "number_sections": true,
   "sideBar": true,
   "skip_h1_title": true,
   "title_cell": "Table of Contents",
   "title_sidebar": "Contents",
   "toc_cell": false,
   "toc_position": {},
   "toc_section_display": true,
   "toc_window_display": false
  }
 },
 "nbformat": 4,
 "nbformat_minor": 2
}
