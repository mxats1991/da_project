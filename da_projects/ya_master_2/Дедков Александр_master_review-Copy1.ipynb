{
 "cells": [
  {
   "cell_type": "markdown",
   "id": "33df9bff",
   "metadata": {},
   "source": [
    "# Проект \"Бюро добрых дел\""
   ]
  },
  {
   "cell_type": "markdown",
   "id": "03388fb7",
   "metadata": {},
   "source": [
    "Задача: Связь email-событий и платежей (воронка)"
   ]
  },
  {
   "cell_type": "markdown",
   "id": "53ac2a2d",
   "metadata": {},
   "source": [
    "<h3>Заказчик: Благотворительный фонд помощи детям-отказникам и детям-сиротам “Бюро добрых дел“.</h3>\n",
    " <p>Фонд ищет форматы того, как обеспечить фонду пусть не очень большой, но стабильный поток денежных средств, для чего нужно провести углублённый анализ паттернов характера пожертвований и типов доноров.</p>\n",
    "<p>После крупных медиа-событий — например, после того, как про “Бюро добрых дел” рассказали своим поклонникам актёры “Квартета И” — фонд получил много разовых пожертвований. Но цель фонда — ежедневная работа и ежедневная помощь нуждающимся в обучении и новой профессии, жилье, психологической помощи и т.д, и такие внезапные увеличения финансового потока сложно планировать заранее.</p>\n",
    "\n",
    "<br> - Влияет ли на жертвователей получение email’ов от фонда с информацией о том, как тратятся средства и какие программы сейчас действуют и нуждаются в помощи?"
   ]
  },
  {
   "cell_type": "markdown",
   "id": "e5e8ab4c",
   "metadata": {},
   "source": [
    "<h3>Описание данных:</h3>\n",
    "<br><ul><b>Содержимое таблицы df_clients:</b></ul>\n",
    "<br><li>ID- id клиента</li>\n",
    "<br><li>gender_male- пол (сгенерированый на основании имён, которые нам недоступны) - если 1 — мужчина, -1 — женщина, 0 — был пропуск</li>\n",
    "<br><li>city- город плательщика (очень много пропусков)</li>\n",
    "<br><li>email_action- последнее открытие письма (отдельная таблица с событиями открытия писем у заказчика запрошена, он может её предоставить eventually)</li>\n",
    "<ul><b>Содержимое таблицы df_payments:</b></ul>\n",
    "<br><li>client_id- бъющийся с первой таблицей id клиента</li>\n",
    "<br><li>pay_datetime- дата платежа</li>\n",
    "<br><li>pay_hour - час платежа (у части платежей час указан 0)</li>\n",
    "<br><li>pay_sum- сумма платежа</li>\n",
    "<br><li>recurrentis- был ли платёж по подписке</li>\n",
    "<br><li>pay_method- по какому каналу поступили деньги</li>\n",
    "<br><li>pay_purpose_cat- категория платежа (на основании основания платежа)</li>\n",
    "<br><li>first_pay- первый платёж данного клиента</li>\n",
    "<br><li>lt- количество дней, прошедшее с первого платежа данного клиента до даты данного платежа</li>\n",
    "\n",
    "<ul><b>Задача проекта:</b></ul>\n",
    "<br><li>- Связь email-событий и платежей (воронка?)</li>"
   ]
  },
  {
   "cell_type": "code",
   "execution_count": 85,
   "id": "788bb467",
   "metadata": {},
   "outputs": [],
   "source": [
    "import warnings\n",
    "warnings.filterwarnings('ignore')"
   ]
  },
  {
   "cell_type": "code",
   "execution_count": 86,
   "id": "aca25d70",
   "metadata": {},
   "outputs": [],
   "source": [
    "import pandas as pd\n",
    "import numpy as np\n",
    "from datetime import datetime, timedelta\n",
    "from matplotlib import pyplot as plt\n",
    "from plotly import graph_objects as go"
   ]
  },
  {
   "cell_type": "code",
   "execution_count": 87,
   "id": "34e53b35",
   "metadata": {},
   "outputs": [],
   "source": [
    "server_path = 'datasets/'   \n",
    "local_path = '' \n",
    "\n",
    "files = ['df_clients.csv', 'df_email_reaction.csv', 'df_email_send.csv', 'df_payments.csv']\n",
    "\n",
    "datasets = []\n",
    "\n",
    "for file in files:\n",
    "    try:\n",
    "        datasets.append(pd.read_csv(server_path + file))\n",
    "    except FileNotFoundError: \n",
    "        datasets.append(pd.read_csv(local_path + file))\n",
    "\n",
    "temp_df_clients = datasets[0]\n",
    "temp_df_email_reaction = datasets[1]\n",
    "temp_df_email_send = datasets[2]\n",
    "temp_df_payments = datasets[3]\n",
    "\n",
    "def to_dt(df,col):\n",
    "    df[col] = pd.to_datetime(df[col])\n",
    "\n",
    "for df, col in [(temp_df_email_reaction,   \"reaction_datetime\"),\n",
    "                (temp_df_email_send,       \"send_datetime\"),\n",
    "                (temp_df_payments,         \"pay_datetime\")]:\n",
    "    to_dt(df,col)"
   ]
  },
  {
   "cell_type": "markdown",
   "id": "2189c0a0",
   "metadata": {},
   "source": [
    "Таблица с клиентами:"
   ]
  },
  {
   "cell_type": "code",
   "execution_count": 88,
   "id": "1db429db",
   "metadata": {},
   "outputs": [
    {
     "data": {
      "text/html": [
       "<div>\n",
       "<style scoped>\n",
       "    .dataframe tbody tr th:only-of-type {\n",
       "        vertical-align: middle;\n",
       "    }\n",
       "\n",
       "    .dataframe tbody tr th {\n",
       "        vertical-align: top;\n",
       "    }\n",
       "\n",
       "    .dataframe thead th {\n",
       "        text-align: right;\n",
       "    }\n",
       "</style>\n",
       "<table border=\"1\" class=\"dataframe\">\n",
       "  <thead>\n",
       "    <tr style=\"text-align: right;\">\n",
       "      <th></th>\n",
       "      <th>ID</th>\n",
       "      <th>gender_male</th>\n",
       "      <th>city</th>\n",
       "      <th>email_action</th>\n",
       "    </tr>\n",
       "  </thead>\n",
       "  <tbody>\n",
       "    <tr>\n",
       "      <th>0</th>\n",
       "      <td>AF575B85-917F-475D-8875-00055586E05B</td>\n",
       "      <td>0</td>\n",
       "      <td>NaN</td>\n",
       "      <td>NaN</td>\n",
       "    </tr>\n",
       "    <tr>\n",
       "      <th>1</th>\n",
       "      <td>229A9B43-3A15-4A48-8CB6-000EDB240D50</td>\n",
       "      <td>0</td>\n",
       "      <td>NaN</td>\n",
       "      <td>NaN</td>\n",
       "    </tr>\n",
       "  </tbody>\n",
       "</table>\n",
       "</div>"
      ],
      "text/plain": [
       "                                     ID  gender_male city email_action\n",
       "0  AF575B85-917F-475D-8875-00055586E05B            0  NaN          NaN\n",
       "1  229A9B43-3A15-4A48-8CB6-000EDB240D50            0  NaN          NaN"
      ]
     },
     "execution_count": 88,
     "metadata": {},
     "output_type": "execute_result"
    }
   ],
   "source": [
    "temp_df_clients.head(2)"
   ]
  },
  {
   "cell_type": "code",
   "execution_count": 89,
   "id": "e8e62dee",
   "metadata": {},
   "outputs": [
    {
     "name": "stdout",
     "output_type": "stream",
     "text": [
      "<class 'pandas.core.frame.DataFrame'>\n",
      "RangeIndex: 3683 entries, 0 to 3682\n",
      "Data columns (total 4 columns):\n",
      " #   Column        Non-Null Count  Dtype \n",
      "---  ------        --------------  ----- \n",
      " 0   ID            3683 non-null   object\n",
      " 1   gender_male   3683 non-null   int64 \n",
      " 2   city          1015 non-null   object\n",
      " 3   email_action  1835 non-null   object\n",
      "dtypes: int64(1), object(3)\n",
      "memory usage: 115.2+ KB\n"
     ]
    }
   ],
   "source": [
    "temp_df_clients.info()"
   ]
  },
  {
   "cell_type": "markdown",
   "id": "49bdcbc0",
   "metadata": {},
   "source": [
    "Таблица с информацией об открытии писем:"
   ]
  },
  {
   "cell_type": "code",
   "execution_count": 90,
   "id": "7dd10ca8",
   "metadata": {},
   "outputs": [
    {
     "data": {
      "text/html": [
       "<div>\n",
       "<style scoped>\n",
       "    .dataframe tbody tr th:only-of-type {\n",
       "        vertical-align: middle;\n",
       "    }\n",
       "\n",
       "    .dataframe tbody tr th {\n",
       "        vertical-align: top;\n",
       "    }\n",
       "\n",
       "    .dataframe thead th {\n",
       "        text-align: right;\n",
       "    }\n",
       "</style>\n",
       "<table border=\"1\" class=\"dataframe\">\n",
       "  <thead>\n",
       "    <tr style=\"text-align: right;\">\n",
       "      <th></th>\n",
       "      <th>ID</th>\n",
       "      <th>reaction_datetime</th>\n",
       "    </tr>\n",
       "  </thead>\n",
       "  <tbody>\n",
       "    <tr>\n",
       "      <th>0</th>\n",
       "      <td>D3F7551A-8B93-4A92-966D-BE2E5D58131E</td>\n",
       "      <td>2022-05-03 21:09:38</td>\n",
       "    </tr>\n",
       "    <tr>\n",
       "      <th>1</th>\n",
       "      <td>D3F7551A-8B93-4A92-966D-BE2E5D58131E</td>\n",
       "      <td>2022-05-03 21:09:38</td>\n",
       "    </tr>\n",
       "  </tbody>\n",
       "</table>\n",
       "</div>"
      ],
      "text/plain": [
       "                                     ID   reaction_datetime\n",
       "0  D3F7551A-8B93-4A92-966D-BE2E5D58131E 2022-05-03 21:09:38\n",
       "1  D3F7551A-8B93-4A92-966D-BE2E5D58131E 2022-05-03 21:09:38"
      ]
     },
     "execution_count": 90,
     "metadata": {},
     "output_type": "execute_result"
    }
   ],
   "source": [
    "temp_df_email_reaction.head(2)"
   ]
  },
  {
   "cell_type": "code",
   "execution_count": 91,
   "id": "cd187cd2",
   "metadata": {},
   "outputs": [
    {
     "name": "stdout",
     "output_type": "stream",
     "text": [
      "<class 'pandas.core.frame.DataFrame'>\n",
      "RangeIndex: 9224 entries, 0 to 9223\n",
      "Data columns (total 2 columns):\n",
      " #   Column             Non-Null Count  Dtype         \n",
      "---  ------             --------------  -----         \n",
      " 0   ID                 9224 non-null   object        \n",
      " 1   reaction_datetime  9224 non-null   datetime64[ns]\n",
      "dtypes: datetime64[ns](1), object(1)\n",
      "memory usage: 144.2+ KB\n"
     ]
    }
   ],
   "source": [
    "temp_df_email_reaction.info()"
   ]
  },
  {
   "cell_type": "markdown",
   "id": "525b0db7",
   "metadata": {},
   "source": [
    "Таблица с информацией о рассылке писем:"
   ]
  },
  {
   "cell_type": "code",
   "execution_count": 92,
   "id": "c775056b",
   "metadata": {},
   "outputs": [
    {
     "data": {
      "text/html": [
       "<div>\n",
       "<style scoped>\n",
       "    .dataframe tbody tr th:only-of-type {\n",
       "        vertical-align: middle;\n",
       "    }\n",
       "\n",
       "    .dataframe tbody tr th {\n",
       "        vertical-align: top;\n",
       "    }\n",
       "\n",
       "    .dataframe thead th {\n",
       "        text-align: right;\n",
       "    }\n",
       "</style>\n",
       "<table border=\"1\" class=\"dataframe\">\n",
       "  <thead>\n",
       "    <tr style=\"text-align: right;\">\n",
       "      <th></th>\n",
       "      <th>ID</th>\n",
       "      <th>send_datetime</th>\n",
       "    </tr>\n",
       "  </thead>\n",
       "  <tbody>\n",
       "    <tr>\n",
       "      <th>0</th>\n",
       "      <td>D3F7551A-8B93-4A92-966D-BE2E5D58131E</td>\n",
       "      <td>2022-08-24 13:14:05</td>\n",
       "    </tr>\n",
       "    <tr>\n",
       "      <th>1</th>\n",
       "      <td>D3F7551A-8B93-4A92-966D-BE2E5D58131E</td>\n",
       "      <td>2022-08-12 19:05:00</td>\n",
       "    </tr>\n",
       "  </tbody>\n",
       "</table>\n",
       "</div>"
      ],
      "text/plain": [
       "                                     ID       send_datetime\n",
       "0  D3F7551A-8B93-4A92-966D-BE2E5D58131E 2022-08-24 13:14:05\n",
       "1  D3F7551A-8B93-4A92-966D-BE2E5D58131E 2022-08-12 19:05:00"
      ]
     },
     "execution_count": 92,
     "metadata": {},
     "output_type": "execute_result"
    }
   ],
   "source": [
    "temp_df_email_send.head(2)"
   ]
  },
  {
   "cell_type": "code",
   "execution_count": 93,
   "id": "63a02338",
   "metadata": {},
   "outputs": [
    {
     "name": "stdout",
     "output_type": "stream",
     "text": [
      "<class 'pandas.core.frame.DataFrame'>\n",
      "RangeIndex: 9224 entries, 0 to 9223\n",
      "Data columns (total 2 columns):\n",
      " #   Column         Non-Null Count  Dtype         \n",
      "---  ------         --------------  -----         \n",
      " 0   ID             9224 non-null   object        \n",
      " 1   send_datetime  9224 non-null   datetime64[ns]\n",
      "dtypes: datetime64[ns](1), object(1)\n",
      "memory usage: 144.2+ KB\n"
     ]
    }
   ],
   "source": [
    "temp_df_email_send.info()"
   ]
  },
  {
   "cell_type": "markdown",
   "id": "e82ca9dc",
   "metadata": {},
   "source": [
    "Таблица с информацией о плательщиках:"
   ]
  },
  {
   "cell_type": "code",
   "execution_count": 94,
   "id": "4e9d0719",
   "metadata": {},
   "outputs": [
    {
     "data": {
      "text/html": [
       "<div>\n",
       "<style scoped>\n",
       "    .dataframe tbody tr th:only-of-type {\n",
       "        vertical-align: middle;\n",
       "    }\n",
       "\n",
       "    .dataframe tbody tr th {\n",
       "        vertical-align: top;\n",
       "    }\n",
       "\n",
       "    .dataframe thead th {\n",
       "        text-align: right;\n",
       "    }\n",
       "</style>\n",
       "<table border=\"1\" class=\"dataframe\">\n",
       "  <thead>\n",
       "    <tr style=\"text-align: right;\">\n",
       "      <th></th>\n",
       "      <th>client_id</th>\n",
       "      <th>pay_datetime</th>\n",
       "      <th>pay_date</th>\n",
       "      <th>pay_sum</th>\n",
       "      <th>recurrentis</th>\n",
       "      <th>pay_method</th>\n",
       "      <th>pay_purpose_cat</th>\n",
       "      <th>pay_hour</th>\n",
       "      <th>first_pay</th>\n",
       "      <th>lt</th>\n",
       "    </tr>\n",
       "  </thead>\n",
       "  <tbody>\n",
       "    <tr>\n",
       "      <th>0</th>\n",
       "      <td>81662625-B780-41E6-ACEE-F8F5162E79A2</td>\n",
       "      <td>2015-07-19 20:25:16</td>\n",
       "      <td>2015-07-19</td>\n",
       "      <td>101.0</td>\n",
       "      <td>1</td>\n",
       "      <td>cards</td>\n",
       "      <td>general</td>\n",
       "      <td>20</td>\n",
       "      <td>2015-07-19</td>\n",
       "      <td>0</td>\n",
       "    </tr>\n",
       "    <tr>\n",
       "      <th>1</th>\n",
       "      <td>81662625-B780-41E6-ACEE-F8F5162E79A2</td>\n",
       "      <td>2015-07-19 20:10:11</td>\n",
       "      <td>2015-07-19</td>\n",
       "      <td>100.0</td>\n",
       "      <td>0</td>\n",
       "      <td>cards</td>\n",
       "      <td>general</td>\n",
       "      <td>20</td>\n",
       "      <td>2015-07-19</td>\n",
       "      <td>0</td>\n",
       "    </tr>\n",
       "  </tbody>\n",
       "</table>\n",
       "</div>"
      ],
      "text/plain": [
       "                              client_id        pay_datetime    pay_date  \\\n",
       "0  81662625-B780-41E6-ACEE-F8F5162E79A2 2015-07-19 20:25:16  2015-07-19   \n",
       "1  81662625-B780-41E6-ACEE-F8F5162E79A2 2015-07-19 20:10:11  2015-07-19   \n",
       "\n",
       "   pay_sum  recurrentis pay_method pay_purpose_cat  pay_hour   first_pay  lt  \n",
       "0    101.0            1      cards         general        20  2015-07-19   0  \n",
       "1    100.0            0      cards         general        20  2015-07-19   0  "
      ]
     },
     "execution_count": 94,
     "metadata": {},
     "output_type": "execute_result"
    }
   ],
   "source": [
    "temp_df_payments.head(2)"
   ]
  },
  {
   "cell_type": "code",
   "execution_count": 95,
   "id": "fd229870",
   "metadata": {},
   "outputs": [
    {
     "name": "stdout",
     "output_type": "stream",
     "text": [
      "<class 'pandas.core.frame.DataFrame'>\n",
      "RangeIndex: 14025 entries, 0 to 14024\n",
      "Data columns (total 10 columns):\n",
      " #   Column           Non-Null Count  Dtype         \n",
      "---  ------           --------------  -----         \n",
      " 0   client_id        14025 non-null  object        \n",
      " 1   pay_datetime     14025 non-null  datetime64[ns]\n",
      " 2   pay_date         14025 non-null  object        \n",
      " 3   pay_sum          14025 non-null  float64       \n",
      " 4   recurrentis      14025 non-null  int64         \n",
      " 5   pay_method       14025 non-null  object        \n",
      " 6   pay_purpose_cat  14025 non-null  object        \n",
      " 7   pay_hour         14025 non-null  int64         \n",
      " 8   first_pay        14025 non-null  object        \n",
      " 9   lt               14025 non-null  int64         \n",
      "dtypes: datetime64[ns](1), float64(1), int64(3), object(5)\n",
      "memory usage: 1.1+ MB\n"
     ]
    }
   ],
   "source": [
    "temp_df_payments.info()"
   ]
  },
  {
   "cell_type": "markdown",
   "id": "79178cf8",
   "metadata": {},
   "source": [
    "Рассмотрим уникальные значения в столбцах: pay_method и pay_purpose_cat"
   ]
  },
  {
   "cell_type": "code",
   "execution_count": 96,
   "id": "d9875065",
   "metadata": {},
   "outputs": [
    {
     "data": {
      "text/plain": [
       "array(['cards', 'sms', 'account', 'cash'], dtype=object)"
      ]
     },
     "execution_count": 96,
     "metadata": {},
     "output_type": "execute_result"
    }
   ],
   "source": [
    "temp_df_payments['pay_method'].unique()"
   ]
  },
  {
   "cell_type": "code",
   "execution_count": 97,
   "id": "e7800f8a",
   "metadata": {},
   "outputs": [
    {
     "data": {
      "text/plain": [
       "array(['general', 'return', 'telic'], dtype=object)"
      ]
     },
     "execution_count": 97,
     "metadata": {},
     "output_type": "execute_result"
    }
   ],
   "source": [
    "temp_df_payments['pay_purpose_cat'].unique()"
   ]
  },
  {
   "cell_type": "markdown",
   "id": "d19dd71a",
   "metadata": {},
   "source": [
    "## Связь email-событий и платежей (воронка)"
   ]
  },
  {
   "cell_type": "markdown",
   "id": "c9ed0e18",
   "metadata": {},
   "source": [
    "Подготовим данные и рассмотрим рассылки, реакции и платежи на одном графике для подбора рекламных компаний и дальнейшнего анализа."
   ]
  },
  {
   "cell_type": "code",
   "execution_count": 98,
   "id": "69b78412",
   "metadata": {},
   "outputs": [
    {
     "data": {
      "image/png": "[encoded data removed]",
      "text/plain": [
       "<Figure size 1080x576 with 1 Axes>"
      ]
     },
     "metadata": {
      "needs_background": "light"
     },
     "output_type": "display_data"
    }
   ],
   "source": [
    "plot_freq = lambda df, col, ax, freq='1D':df.drop_duplicates()\\\n",
    "                                            .set_index(col)\\\n",
    "                                            .groupby([pd.Grouper(freq=freq)])\\\n",
    "                                            .agg({\"ID\":\"count\"})\\\n",
    "                                            .set_axis([col],axis=1)\\\n",
    "                                            .plot(ax=ax, alpha = .8)\\\n",
    "                                            .set(ylabel=\"Users\")\n",
    "\n",
    "\n",
    "temp_begin = temp_df_email_send.send_datetime.min()\n",
    "temp_df_payments_cut = temp_df_payments.rename(columns={\"client_id\":\"ID\"})\\\n",
    "                                       .query(\"pay_datetime > @temp_begin\")\n",
    "\n",
    "\n",
    "fig, ax = plt.subplots(figsize=(15,8))\n",
    "plot_freq(temp_df_email_reaction, \"reaction_datetime\", ax)\n",
    "plot_freq(temp_df_email_send, \"send_datetime\", ax)\n",
    "plot_freq(temp_df_payments_cut, \"pay_datetime\", ax)\n",
    "\n",
    "plt.ylim((0,300));"
   ]
  },
  {
   "cell_type": "markdown",
   "id": "6b3766a9",
   "metadata": {},
   "source": [
    "Вывод: видно, что реакция на рассылку продолжается максимум 7 дней, а обычно вообще 2-3 дня. По данному графику подберем временные границы между рекламными кампаниями."
   ]
  },
  {
   "cell_type": "markdown",
   "id": "a3906fe8",
   "metadata": {},
   "source": [
    "## Воронка для пользователей которые отреагировали на письма"
   ]
  },
  {
   "cell_type": "markdown",
   "id": "eddf3d32",
   "metadata": {},
   "source": [
    "Далее выделим плательщиков которые отреагировали на письма."
   ]
  },
  {
   "cell_type": "code",
   "execution_count": 99,
   "id": "c766a426",
   "metadata": {},
   "outputs": [],
   "source": [
    "temp_df_payments_cut = temp_df_payments_cut[temp_df_payments_cut['recurrentis'] == 0]"
   ]
  },
  {
   "cell_type": "code",
   "execution_count": 100,
   "id": "ad7baa3b",
   "metadata": {},
   "outputs": [],
   "source": [
    "temp_df_payments_cut_all = temp_df_payments_cut.groupby(pd.Grouper(key='pay_datetime', axis=0, \n",
    "                      freq='3D', sort=True))['ID'].count()"
   ]
  },
  {
   "cell_type": "code",
   "execution_count": 101,
   "id": "2aa8fd12",
   "metadata": {},
   "outputs": [
    {
     "data": {
      "text/plain": [
       "<AxesSubplot:xlabel='pay_datetime'>"
      ]
     },
     "execution_count": 101,
     "metadata": {},
     "output_type": "execute_result"
    },
    {
     "data": {
      "image/png": "[encoded data removed]",
      "text/plain": [
       "<Figure size 432x288 with 1 Axes>"
      ]
     },
     "metadata": {
      "needs_background": "light"
     },
     "output_type": "display_data"
    }
   ],
   "source": [
    "temp_df_payments_cut_all.plot()"
   ]
  },
  {
   "cell_type": "code",
   "execution_count": 102,
   "id": "1997af71",
   "metadata": {},
   "outputs": [
    {
     "data": {
      "text/html": [
       "<div>\n",
       "<style scoped>\n",
       "    .dataframe tbody tr th:only-of-type {\n",
       "        vertical-align: middle;\n",
       "    }\n",
       "\n",
       "    .dataframe tbody tr th {\n",
       "        vertical-align: top;\n",
       "    }\n",
       "\n",
       "    .dataframe thead th {\n",
       "        text-align: right;\n",
       "    }\n",
       "</style>\n",
       "<table border=\"1\" class=\"dataframe\">\n",
       "  <thead>\n",
       "    <tr style=\"text-align: right;\">\n",
       "      <th></th>\n",
       "      <th>ID</th>\n",
       "    </tr>\n",
       "    <tr>\n",
       "      <th>send_datetime</th>\n",
       "      <th></th>\n",
       "    </tr>\n",
       "  </thead>\n",
       "  <tbody>\n",
       "    <tr>\n",
       "      <th>2022-04-25</th>\n",
       "      <td>61</td>\n",
       "    </tr>\n",
       "    <tr>\n",
       "      <th>2022-04-26</th>\n",
       "      <td>24</td>\n",
       "    </tr>\n",
       "    <tr>\n",
       "      <th>2022-04-27</th>\n",
       "      <td>5</td>\n",
       "    </tr>\n",
       "    <tr>\n",
       "      <th>2022-04-28</th>\n",
       "      <td>4</td>\n",
       "    </tr>\n",
       "    <tr>\n",
       "      <th>2022-04-29</th>\n",
       "      <td>929</td>\n",
       "    </tr>\n",
       "    <tr>\n",
       "      <th>2022-04-30</th>\n",
       "      <td>2</td>\n",
       "    </tr>\n",
       "    <tr>\n",
       "      <th>2022-05-01</th>\n",
       "      <td>4</td>\n",
       "    </tr>\n",
       "    <tr>\n",
       "      <th>2022-05-02</th>\n",
       "      <td>4</td>\n",
       "    </tr>\n",
       "    <tr>\n",
       "      <th>2022-05-03</th>\n",
       "      <td>0</td>\n",
       "    </tr>\n",
       "    <tr>\n",
       "      <th>2022-05-04</th>\n",
       "      <td>25</td>\n",
       "    </tr>\n",
       "    <tr>\n",
       "      <th>2022-05-05</th>\n",
       "      <td>2</td>\n",
       "    </tr>\n",
       "    <tr>\n",
       "      <th>2022-05-06</th>\n",
       "      <td>12</td>\n",
       "    </tr>\n",
       "    <tr>\n",
       "      <th>2022-05-07</th>\n",
       "      <td>4</td>\n",
       "    </tr>\n",
       "    <tr>\n",
       "      <th>2022-05-08</th>\n",
       "      <td>0</td>\n",
       "    </tr>\n",
       "    <tr>\n",
       "      <th>2022-05-09</th>\n",
       "      <td>0</td>\n",
       "    </tr>\n",
       "    <tr>\n",
       "      <th>2022-05-10</th>\n",
       "      <td>2</td>\n",
       "    </tr>\n",
       "    <tr>\n",
       "      <th>2022-05-11</th>\n",
       "      <td>2</td>\n",
       "    </tr>\n",
       "    <tr>\n",
       "      <th>2022-05-12</th>\n",
       "      <td>6</td>\n",
       "    </tr>\n",
       "    <tr>\n",
       "      <th>2022-05-13</th>\n",
       "      <td>940</td>\n",
       "    </tr>\n",
       "    <tr>\n",
       "      <th>2022-05-14</th>\n",
       "      <td>2</td>\n",
       "    </tr>\n",
       "    <tr>\n",
       "      <th>2022-05-15</th>\n",
       "      <td>2</td>\n",
       "    </tr>\n",
       "    <tr>\n",
       "      <th>2022-05-16</th>\n",
       "      <td>10</td>\n",
       "    </tr>\n",
       "    <tr>\n",
       "      <th>2022-05-17</th>\n",
       "      <td>3</td>\n",
       "    </tr>\n",
       "    <tr>\n",
       "      <th>2022-05-18</th>\n",
       "      <td>2</td>\n",
       "    </tr>\n",
       "    <tr>\n",
       "      <th>2022-05-19</th>\n",
       "      <td>0</td>\n",
       "    </tr>\n",
       "    <tr>\n",
       "      <th>2022-05-20</th>\n",
       "      <td>4</td>\n",
       "    </tr>\n",
       "    <tr>\n",
       "      <th>2022-05-21</th>\n",
       "      <td>0</td>\n",
       "    </tr>\n",
       "    <tr>\n",
       "      <th>2022-05-22</th>\n",
       "      <td>4</td>\n",
       "    </tr>\n",
       "    <tr>\n",
       "      <th>2022-05-23</th>\n",
       "      <td>3</td>\n",
       "    </tr>\n",
       "    <tr>\n",
       "      <th>2022-05-24</th>\n",
       "      <td>0</td>\n",
       "    </tr>\n",
       "  </tbody>\n",
       "</table>\n",
       "</div>"
      ],
      "text/plain": [
       "                ID\n",
       "send_datetime     \n",
       "2022-04-25      61\n",
       "2022-04-26      24\n",
       "2022-04-27       5\n",
       "2022-04-28       4\n",
       "2022-04-29     929\n",
       "2022-04-30       2\n",
       "2022-05-01       4\n",
       "2022-05-02       4\n",
       "2022-05-03       0\n",
       "2022-05-04      25\n",
       "2022-05-05       2\n",
       "2022-05-06      12\n",
       "2022-05-07       4\n",
       "2022-05-08       0\n",
       "2022-05-09       0\n",
       "2022-05-10       2\n",
       "2022-05-11       2\n",
       "2022-05-12       6\n",
       "2022-05-13     940\n",
       "2022-05-14       2\n",
       "2022-05-15       2\n",
       "2022-05-16      10\n",
       "2022-05-17       3\n",
       "2022-05-18       2\n",
       "2022-05-19       0\n",
       "2022-05-20       4\n",
       "2022-05-21       0\n",
       "2022-05-22       4\n",
       "2022-05-23       3\n",
       "2022-05-24       0"
      ]
     },
     "execution_count": 102,
     "metadata": {},
     "output_type": "execute_result"
    }
   ],
   "source": [
    "temp_df_email_send = temp_df_email_send.groupby(pd.Grouper(key='send_datetime', axis=0, \n",
    "                      freq='1D', sort=True)).agg({'ID':'count'})\n",
    "temp_df_email_send.head(30)"
   ]
  },
  {
   "cell_type": "code",
   "execution_count": 103,
   "id": "6deae891",
   "metadata": {},
   "outputs": [
    {
     "data": {
      "text/plain": [
       "<AxesSubplot:xlabel='send_datetime'>"
      ]
     },
     "execution_count": 103,
     "metadata": {},
     "output_type": "execute_result"
    },
    {
     "data": {
      "image/png": "[encoded data removed]",
      "text/plain": [
       "<Figure size 1080x360 with 1 Axes>"
      ]
     },
     "metadata": {
      "needs_background": "light"
     },
     "output_type": "display_data"
    }
   ],
   "source": [
    "temp_df_email_send_pr = temp_df_email_send.reset_index()\n",
    "temp_df_email_send.reset_index().plot(x='send_datetime', y='ID', figsize=(15,5))"
   ]
  },
  {
   "cell_type": "code",
   "execution_count": 104,
   "id": "203c4ff9",
   "metadata": {},
   "outputs": [
    {
     "data": {
      "text/html": [
       "<div>\n",
       "<style scoped>\n",
       "    .dataframe tbody tr th:only-of-type {\n",
       "        vertical-align: middle;\n",
       "    }\n",
       "\n",
       "    .dataframe tbody tr th {\n",
       "        vertical-align: top;\n",
       "    }\n",
       "\n",
       "    .dataframe thead th {\n",
       "        text-align: right;\n",
       "    }\n",
       "</style>\n",
       "<table border=\"1\" class=\"dataframe\">\n",
       "  <thead>\n",
       "    <tr style=\"text-align: right;\">\n",
       "      <th></th>\n",
       "      <th>send_datetime</th>\n",
       "      <th>ID</th>\n",
       "    </tr>\n",
       "  </thead>\n",
       "  <tbody>\n",
       "    <tr>\n",
       "      <th>0</th>\n",
       "      <td>2022-04-29</td>\n",
       "      <td>929</td>\n",
       "    </tr>\n",
       "    <tr>\n",
       "      <th>1</th>\n",
       "      <td>2022-05-13</td>\n",
       "      <td>940</td>\n",
       "    </tr>\n",
       "    <tr>\n",
       "      <th>2</th>\n",
       "      <td>2022-05-30</td>\n",
       "      <td>904</td>\n",
       "    </tr>\n",
       "    <tr>\n",
       "      <th>3</th>\n",
       "      <td>2022-06-09</td>\n",
       "      <td>913</td>\n",
       "    </tr>\n",
       "    <tr>\n",
       "      <th>4</th>\n",
       "      <td>2022-06-24</td>\n",
       "      <td>878</td>\n",
       "    </tr>\n",
       "    <tr>\n",
       "      <th>5</th>\n",
       "      <td>2022-07-11</td>\n",
       "      <td>890</td>\n",
       "    </tr>\n",
       "    <tr>\n",
       "      <th>6</th>\n",
       "      <td>2022-07-18</td>\n",
       "      <td>860</td>\n",
       "    </tr>\n",
       "    <tr>\n",
       "      <th>7</th>\n",
       "      <td>2022-08-12</td>\n",
       "      <td>874</td>\n",
       "    </tr>\n",
       "    <tr>\n",
       "      <th>8</th>\n",
       "      <td>2022-08-24</td>\n",
       "      <td>908</td>\n",
       "    </tr>\n",
       "  </tbody>\n",
       "</table>\n",
       "</div>"
      ],
      "text/plain": [
       "  send_datetime   ID\n",
       "0    2022-04-29  929\n",
       "1    2022-05-13  940\n",
       "2    2022-05-30  904\n",
       "3    2022-06-09  913\n",
       "4    2022-06-24  878\n",
       "5    2022-07-11  890\n",
       "6    2022-07-18  860\n",
       "7    2022-08-12  874\n",
       "8    2022-08-24  908"
      ]
     },
     "execution_count": 104,
     "metadata": {},
     "output_type": "execute_result"
    }
   ],
   "source": [
    "temp_df_email_send = temp_df_email_send[temp_df_email_send['ID'] > 700].reset_index()\n",
    "temp_df_email_send"
   ]
  },
  {
   "cell_type": "code",
   "execution_count": 105,
   "id": "d5d77de4",
   "metadata": {},
   "outputs": [
    {
     "data": {
      "text/plain": [
       "['2022-04-29',\n",
       " '2022-05-13',\n",
       " '2022-05-30',\n",
       " '2022-06-09',\n",
       " '2022-06-24',\n",
       " '2022-07-11',\n",
       " '2022-07-18',\n",
       " '2022-08-12',\n",
       " '2022-08-24']"
      ]
     },
     "execution_count": 105,
     "metadata": {},
     "output_type": "execute_result"
    }
   ],
   "source": [
    "temp_df_email = temp_df_email_send['send_datetime'].astype(str).values\n",
    "temp_df_email = [temp_df_email[i] for i in range(0, len(temp_df_email))]\n",
    "temp_df_email"
   ]
  },
  {
   "cell_type": "code",
   "execution_count": 106,
   "id": "8427864c",
   "metadata": {},
   "outputs": [
    {
     "data": {
      "text/plain": [
       "0    1651190400\n",
       "1    1652400000\n",
       "2    1653868800\n",
       "3    1654732800\n",
       "4    1656028800\n",
       "5    1657497600\n",
       "6    1658102400\n",
       "7    1660262400\n",
       "8    1661299200\n",
       "Name: send_datetime, dtype: int64"
      ]
     },
     "execution_count": 106,
     "metadata": {},
     "output_type": "execute_result"
    }
   ],
   "source": [
    "temp_df_email_send['send_datetime'].astype(np.int64)//10**9"
   ]
  },
  {
   "cell_type": "code",
   "execution_count": 107,
   "id": "a5369bba",
   "metadata": {},
   "outputs": [],
   "source": [
    "temp_df_email_reaction = temp_df_email_reaction[temp_df_email_reaction['reaction_datetime'].between('2022-04-29', '2022-08-24', inclusive = True)]"
   ]
  },
  {
   "cell_type": "code",
   "execution_count": 108,
   "id": "2eb00a04",
   "metadata": {},
   "outputs": [
    {
     "data": {
      "text/html": [
       "<div>\n",
       "<style scoped>\n",
       "    .dataframe tbody tr th:only-of-type {\n",
       "        vertical-align: middle;\n",
       "    }\n",
       "\n",
       "    .dataframe tbody tr th {\n",
       "        vertical-align: top;\n",
       "    }\n",
       "\n",
       "    .dataframe thead th {\n",
       "        text-align: right;\n",
       "    }\n",
       "</style>\n",
       "<table border=\"1\" class=\"dataframe\">\n",
       "  <thead>\n",
       "    <tr style=\"text-align: right;\">\n",
       "      <th></th>\n",
       "      <th>ID</th>\n",
       "      <th>reaction_datetime</th>\n",
       "      <th>reaction_datetime_1</th>\n",
       "    </tr>\n",
       "  </thead>\n",
       "  <tbody>\n",
       "    <tr>\n",
       "      <th>0</th>\n",
       "      <td>D3F7551A-8B93-4A92-966D-BE2E5D58131E</td>\n",
       "      <td>2022-05-03 21:09:38</td>\n",
       "      <td>2022-04-29</td>\n",
       "    </tr>\n",
       "    <tr>\n",
       "      <th>1</th>\n",
       "      <td>D3F7551A-8B93-4A92-966D-BE2E5D58131E</td>\n",
       "      <td>2022-05-03 21:09:38</td>\n",
       "      <td>2022-04-29</td>\n",
       "    </tr>\n",
       "    <tr>\n",
       "      <th>2</th>\n",
       "      <td>D3F7551A-8B93-4A92-966D-BE2E5D58131E</td>\n",
       "      <td>2022-05-03 21:09:38</td>\n",
       "      <td>2022-04-29</td>\n",
       "    </tr>\n",
       "    <tr>\n",
       "      <th>3</th>\n",
       "      <td>D3F7551A-8B93-4A92-966D-BE2E5D58131E</td>\n",
       "      <td>2022-05-03 21:09:38</td>\n",
       "      <td>2022-04-29</td>\n",
       "    </tr>\n",
       "    <tr>\n",
       "      <th>4</th>\n",
       "      <td>D3F7551A-8B93-4A92-966D-BE2E5D58131E</td>\n",
       "      <td>2022-05-03 21:09:38</td>\n",
       "      <td>2022-04-29</td>\n",
       "    </tr>\n",
       "    <tr>\n",
       "      <th>...</th>\n",
       "      <td>...</td>\n",
       "      <td>...</td>\n",
       "      <td>...</td>\n",
       "    </tr>\n",
       "    <tr>\n",
       "      <th>9210</th>\n",
       "      <td>A98BA2DA-F3B6-4EAA-9007-60C77BB9D8BA</td>\n",
       "      <td>2022-06-09 15:58:35</td>\n",
       "      <td>2022-06-09</td>\n",
       "    </tr>\n",
       "    <tr>\n",
       "      <th>9211</th>\n",
       "      <td>A98BA2DA-F3B6-4EAA-9007-60C77BB9D8BA</td>\n",
       "      <td>2022-06-09 15:58:35</td>\n",
       "      <td>2022-06-09</td>\n",
       "    </tr>\n",
       "    <tr>\n",
       "      <th>9212</th>\n",
       "      <td>A98BA2DA-F3B6-4EAA-9007-60C77BB9D8BA</td>\n",
       "      <td>2022-06-09 15:58:35</td>\n",
       "      <td>2022-06-09</td>\n",
       "    </tr>\n",
       "    <tr>\n",
       "      <th>9213</th>\n",
       "      <td>A98BA2DA-F3B6-4EAA-9007-60C77BB9D8BA</td>\n",
       "      <td>2022-06-09 15:58:35</td>\n",
       "      <td>2022-06-09</td>\n",
       "    </tr>\n",
       "    <tr>\n",
       "      <th>9214</th>\n",
       "      <td>A98BA2DA-F3B6-4EAA-9007-60C77BB9D8BA</td>\n",
       "      <td>2022-06-09 15:58:35</td>\n",
       "      <td>2022-06-09</td>\n",
       "    </tr>\n",
       "  </tbody>\n",
       "</table>\n",
       "<p>8553 rows × 3 columns</p>\n",
       "</div>"
      ],
      "text/plain": [
       "                                        ID   reaction_datetime  \\\n",
       "0     D3F7551A-8B93-4A92-966D-BE2E5D58131E 2022-05-03 21:09:38   \n",
       "1     D3F7551A-8B93-4A92-966D-BE2E5D58131E 2022-05-03 21:09:38   \n",
       "2     D3F7551A-8B93-4A92-966D-BE2E5D58131E 2022-05-03 21:09:38   \n",
       "3     D3F7551A-8B93-4A92-966D-BE2E5D58131E 2022-05-03 21:09:38   \n",
       "4     D3F7551A-8B93-4A92-966D-BE2E5D58131E 2022-05-03 21:09:38   \n",
       "...                                    ...                 ...   \n",
       "9210  A98BA2DA-F3B6-4EAA-9007-60C77BB9D8BA 2022-06-09 15:58:35   \n",
       "9211  A98BA2DA-F3B6-4EAA-9007-60C77BB9D8BA 2022-06-09 15:58:35   \n",
       "9212  A98BA2DA-F3B6-4EAA-9007-60C77BB9D8BA 2022-06-09 15:58:35   \n",
       "9213  A98BA2DA-F3B6-4EAA-9007-60C77BB9D8BA 2022-06-09 15:58:35   \n",
       "9214  A98BA2DA-F3B6-4EAA-9007-60C77BB9D8BA 2022-06-09 15:58:35   \n",
       "\n",
       "     reaction_datetime_1  \n",
       "0             2022-04-29  \n",
       "1             2022-04-29  \n",
       "2             2022-04-29  \n",
       "3             2022-04-29  \n",
       "4             2022-04-29  \n",
       "...                  ...  \n",
       "9210          2022-06-09  \n",
       "9211          2022-06-09  \n",
       "9212          2022-06-09  \n",
       "9213          2022-06-09  \n",
       "9214          2022-06-09  \n",
       "\n",
       "[8553 rows x 3 columns]"
      ]
     },
     "execution_count": 108,
     "metadata": {},
     "output_type": "execute_result"
    }
   ],
   "source": [
    "temp_df_email_reaction['reaction_datetime_1'] = pd.cut(temp_df_email_reaction.reaction_datetime.astype(np.int64)//10**9,\n",
    "                       bins=temp_df_email_send['send_datetime'].astype(np.int64)//10**9,\n",
    "                       labels=temp_df_email[:-1])\n",
    "temp_df_email_reaction"
   ]
  },
  {
   "cell_type": "code",
   "execution_count": 109,
   "id": "1b25ec3a",
   "metadata": {},
   "outputs": [
    {
     "data": {
      "text/plain": [
       "reaction_datetime_1\n",
       "2022-04-29    459\n",
       "2022-05-13    182\n",
       "2022-05-30     99\n",
       "2022-06-09     43\n",
       "2022-06-24     41\n",
       "2022-07-11     54\n",
       "2022-07-18     97\n",
       "2022-08-12     82\n",
       "Name: ID, dtype: int64"
      ]
     },
     "execution_count": 109,
     "metadata": {},
     "output_type": "execute_result"
    }
   ],
   "source": [
    "temp_df_email_reaction = temp_df_email_reaction.groupby('reaction_datetime_1')['ID'].nunique()\n",
    "temp_df_email_reaction"
   ]
  },
  {
   "cell_type": "code",
   "execution_count": 110,
   "id": "050cb1e8",
   "metadata": {},
   "outputs": [
    {
     "data": {
      "text/plain": [
       "<AxesSubplot:xlabel='reaction_datetime_1'>"
      ]
     },
     "execution_count": 110,
     "metadata": {},
     "output_type": "execute_result"
    },
    {
     "data": {
      "image/png": "[encoded data removed]",
      "text/plain": [
       "<Figure size 432x288 with 1 Axes>"
      ]
     },
     "metadata": {
      "needs_background": "light"
     },
     "output_type": "display_data"
    }
   ],
   "source": [
    "temp_df_email_reaction.plot()"
   ]
  },
  {
   "cell_type": "code",
   "execution_count": 111,
   "id": "81458048",
   "metadata": {},
   "outputs": [],
   "source": [
    "temp_df_email_reaction = temp_df_email_reaction.to_frame().reset_index()\n",
    "temp_df_email_reaction['reaction_datetime_1'] = pd.to_datetime(temp_df_email_reaction['reaction_datetime_1'])"
   ]
  },
  {
   "cell_type": "code",
   "execution_count": 112,
   "id": "e60423f4",
   "metadata": {},
   "outputs": [
    {
     "data": {
      "text/html": [
       "<div>\n",
       "<style scoped>\n",
       "    .dataframe tbody tr th:only-of-type {\n",
       "        vertical-align: middle;\n",
       "    }\n",
       "\n",
       "    .dataframe tbody tr th {\n",
       "        vertical-align: top;\n",
       "    }\n",
       "\n",
       "    .dataframe thead th {\n",
       "        text-align: right;\n",
       "    }\n",
       "</style>\n",
       "<table border=\"1\" class=\"dataframe\">\n",
       "  <thead>\n",
       "    <tr style=\"text-align: right;\">\n",
       "      <th></th>\n",
       "      <th>datetime</th>\n",
       "      <th>send_email</th>\n",
       "      <th>reaction_email</th>\n",
       "    </tr>\n",
       "  </thead>\n",
       "  <tbody>\n",
       "    <tr>\n",
       "      <th>0</th>\n",
       "      <td>2022-04-29</td>\n",
       "      <td>929</td>\n",
       "      <td>459</td>\n",
       "    </tr>\n",
       "    <tr>\n",
       "      <th>1</th>\n",
       "      <td>2022-05-13</td>\n",
       "      <td>940</td>\n",
       "      <td>182</td>\n",
       "    </tr>\n",
       "    <tr>\n",
       "      <th>2</th>\n",
       "      <td>2022-05-30</td>\n",
       "      <td>904</td>\n",
       "      <td>99</td>\n",
       "    </tr>\n",
       "    <tr>\n",
       "      <th>3</th>\n",
       "      <td>2022-06-09</td>\n",
       "      <td>913</td>\n",
       "      <td>43</td>\n",
       "    </tr>\n",
       "    <tr>\n",
       "      <th>4</th>\n",
       "      <td>2022-06-24</td>\n",
       "      <td>878</td>\n",
       "      <td>41</td>\n",
       "    </tr>\n",
       "    <tr>\n",
       "      <th>5</th>\n",
       "      <td>2022-07-11</td>\n",
       "      <td>890</td>\n",
       "      <td>54</td>\n",
       "    </tr>\n",
       "    <tr>\n",
       "      <th>6</th>\n",
       "      <td>2022-07-18</td>\n",
       "      <td>860</td>\n",
       "      <td>97</td>\n",
       "    </tr>\n",
       "    <tr>\n",
       "      <th>7</th>\n",
       "      <td>2022-08-12</td>\n",
       "      <td>874</td>\n",
       "      <td>82</td>\n",
       "    </tr>\n",
       "  </tbody>\n",
       "</table>\n",
       "</div>"
      ],
      "text/plain": [
       "    datetime  send_email  reaction_email\n",
       "0 2022-04-29         929             459\n",
       "1 2022-05-13         940             182\n",
       "2 2022-05-30         904              99\n",
       "3 2022-06-09         913              43\n",
       "4 2022-06-24         878              41\n",
       "5 2022-07-11         890              54\n",
       "6 2022-07-18         860              97\n",
       "7 2022-08-12         874              82"
      ]
     },
     "execution_count": 112,
     "metadata": {},
     "output_type": "execute_result"
    }
   ],
   "source": [
    "df = temp_df_email_send.reset_index().merge(\n",
    "    temp_df_email_reaction.reset_index(),\n",
    "    left_on='send_datetime',\n",
    "    right_on='reaction_datetime_1',\n",
    "    how='inner')\n",
    "df = df.drop(['reaction_datetime_1', 'index_x', 'index_y'], axis=1)\n",
    "df = df.rename(columns={'send_datetime':'datetime', 'ID_x':'send_email', 'ID_y':'reaction_email'})\n",
    "df"
   ]
  },
  {
   "cell_type": "code",
   "execution_count": 113,
   "id": "47d07600",
   "metadata": {},
   "outputs": [
    {
     "data": {
      "text/html": [
       "<div>\n",
       "<style scoped>\n",
       "    .dataframe tbody tr th:only-of-type {\n",
       "        vertical-align: middle;\n",
       "    }\n",
       "\n",
       "    .dataframe tbody tr th {\n",
       "        vertical-align: top;\n",
       "    }\n",
       "\n",
       "    .dataframe thead th {\n",
       "        text-align: right;\n",
       "    }\n",
       "</style>\n",
       "<table border=\"1\" class=\"dataframe\">\n",
       "  <thead>\n",
       "    <tr style=\"text-align: right;\">\n",
       "      <th></th>\n",
       "      <th>datetime</th>\n",
       "      <th>send_email</th>\n",
       "      <th>reaction_email</th>\n",
       "      <th>CTR %</th>\n",
       "    </tr>\n",
       "  </thead>\n",
       "  <tbody>\n",
       "    <tr>\n",
       "      <th>0</th>\n",
       "      <td>2022-04-29</td>\n",
       "      <td>929</td>\n",
       "      <td>459</td>\n",
       "      <td>49.407966</td>\n",
       "    </tr>\n",
       "    <tr>\n",
       "      <th>1</th>\n",
       "      <td>2022-05-13</td>\n",
       "      <td>940</td>\n",
       "      <td>182</td>\n",
       "      <td>19.361702</td>\n",
       "    </tr>\n",
       "    <tr>\n",
       "      <th>2</th>\n",
       "      <td>2022-05-30</td>\n",
       "      <td>904</td>\n",
       "      <td>99</td>\n",
       "      <td>10.951327</td>\n",
       "    </tr>\n",
       "    <tr>\n",
       "      <th>3</th>\n",
       "      <td>2022-06-09</td>\n",
       "      <td>913</td>\n",
       "      <td>43</td>\n",
       "      <td>4.709748</td>\n",
       "    </tr>\n",
       "    <tr>\n",
       "      <th>4</th>\n",
       "      <td>2022-06-24</td>\n",
       "      <td>878</td>\n",
       "      <td>41</td>\n",
       "      <td>4.669704</td>\n",
       "    </tr>\n",
       "    <tr>\n",
       "      <th>5</th>\n",
       "      <td>2022-07-11</td>\n",
       "      <td>890</td>\n",
       "      <td>54</td>\n",
       "      <td>6.067416</td>\n",
       "    </tr>\n",
       "    <tr>\n",
       "      <th>6</th>\n",
       "      <td>2022-07-18</td>\n",
       "      <td>860</td>\n",
       "      <td>97</td>\n",
       "      <td>11.279070</td>\n",
       "    </tr>\n",
       "    <tr>\n",
       "      <th>7</th>\n",
       "      <td>2022-08-12</td>\n",
       "      <td>874</td>\n",
       "      <td>82</td>\n",
       "      <td>9.382151</td>\n",
       "    </tr>\n",
       "  </tbody>\n",
       "</table>\n",
       "</div>"
      ],
      "text/plain": [
       "    datetime  send_email  reaction_email      CTR %\n",
       "0 2022-04-29         929             459  49.407966\n",
       "1 2022-05-13         940             182  19.361702\n",
       "2 2022-05-30         904              99  10.951327\n",
       "3 2022-06-09         913              43   4.709748\n",
       "4 2022-06-24         878              41   4.669704\n",
       "5 2022-07-11         890              54   6.067416\n",
       "6 2022-07-18         860              97  11.279070\n",
       "7 2022-08-12         874              82   9.382151"
      ]
     },
     "execution_count": 113,
     "metadata": {},
     "output_type": "execute_result"
    }
   ],
   "source": [
    "df['CTR %'] = (df['reaction_email'] / df['send_email']) * 100\n",
    "df"
   ]
  },
  {
   "cell_type": "code",
   "execution_count": 114,
   "id": "13418a62",
   "metadata": {},
   "outputs": [],
   "source": [
    "temp_df_payments_cut = temp_df_payments_cut[temp_df_payments_cut['pay_datetime'].between('2022-04-29', '2022-08-24', inclusive = True)]"
   ]
  },
  {
   "cell_type": "code",
   "execution_count": 115,
   "id": "b176af9d",
   "metadata": {},
   "outputs": [
    {
     "data": {
      "text/html": [
       "<div>\n",
       "<style scoped>\n",
       "    .dataframe tbody tr th:only-of-type {\n",
       "        vertical-align: middle;\n",
       "    }\n",
       "\n",
       "    .dataframe tbody tr th {\n",
       "        vertical-align: top;\n",
       "    }\n",
       "\n",
       "    .dataframe thead th {\n",
       "        text-align: right;\n",
       "    }\n",
       "</style>\n",
       "<table border=\"1\" class=\"dataframe\">\n",
       "  <thead>\n",
       "    <tr style=\"text-align: right;\">\n",
       "      <th></th>\n",
       "      <th>ID</th>\n",
       "      <th>pay_datetime</th>\n",
       "      <th>pay_date</th>\n",
       "      <th>pay_sum</th>\n",
       "      <th>recurrentis</th>\n",
       "      <th>pay_method</th>\n",
       "      <th>pay_purpose_cat</th>\n",
       "      <th>pay_hour</th>\n",
       "      <th>first_pay</th>\n",
       "      <th>lt</th>\n",
       "      <th>pay_datetime_1</th>\n",
       "    </tr>\n",
       "  </thead>\n",
       "  <tbody>\n",
       "    <tr>\n",
       "      <th>13250</th>\n",
       "      <td>BBA4E944-A48D-44B8-A0E6-E4FEB6486097</td>\n",
       "      <td>2022-04-29 15:55:39</td>\n",
       "      <td>2022-04-29</td>\n",
       "      <td>1000.0</td>\n",
       "      <td>0</td>\n",
       "      <td>cards</td>\n",
       "      <td>telic</td>\n",
       "      <td>15</td>\n",
       "      <td>2020-07-07</td>\n",
       "      <td>661</td>\n",
       "      <td>2022-04-29</td>\n",
       "    </tr>\n",
       "    <tr>\n",
       "      <th>13251</th>\n",
       "      <td>91478E1B-C882-4F24-A435-FC4930218C4A</td>\n",
       "      <td>2022-04-29 17:42:51</td>\n",
       "      <td>2022-04-29</td>\n",
       "      <td>100.0</td>\n",
       "      <td>0</td>\n",
       "      <td>cards</td>\n",
       "      <td>telic</td>\n",
       "      <td>17</td>\n",
       "      <td>2015-12-11</td>\n",
       "      <td>2331</td>\n",
       "      <td>2022-04-29</td>\n",
       "    </tr>\n",
       "    <tr>\n",
       "      <th>13253</th>\n",
       "      <td>81CD4BEF-443E-4D36-B34F-664E11182D65</td>\n",
       "      <td>2022-04-29 17:18:36</td>\n",
       "      <td>2022-04-29</td>\n",
       "      <td>300.0</td>\n",
       "      <td>0</td>\n",
       "      <td>cards</td>\n",
       "      <td>telic</td>\n",
       "      <td>17</td>\n",
       "      <td>2019-10-11</td>\n",
       "      <td>931</td>\n",
       "      <td>2022-04-29</td>\n",
       "    </tr>\n",
       "    <tr>\n",
       "      <th>13254</th>\n",
       "      <td>6D405455-BA95-43E9-9E03-47F2A922F7BA</td>\n",
       "      <td>2022-04-29 11:49:39</td>\n",
       "      <td>2022-04-29</td>\n",
       "      <td>10.0</td>\n",
       "      <td>0</td>\n",
       "      <td>cards</td>\n",
       "      <td>telic</td>\n",
       "      <td>11</td>\n",
       "      <td>2022-04-29</td>\n",
       "      <td>0</td>\n",
       "      <td>2022-04-29</td>\n",
       "    </tr>\n",
       "    <tr>\n",
       "      <th>13255</th>\n",
       "      <td>0AA8C81F-EBA3-4FDA-8B8F-28C1263D3E62</td>\n",
       "      <td>2022-04-29 22:46:05</td>\n",
       "      <td>2022-04-29</td>\n",
       "      <td>1000.0</td>\n",
       "      <td>0</td>\n",
       "      <td>cards</td>\n",
       "      <td>telic</td>\n",
       "      <td>22</td>\n",
       "      <td>2020-11-12</td>\n",
       "      <td>533</td>\n",
       "      <td>2022-04-29</td>\n",
       "    </tr>\n",
       "    <tr>\n",
       "      <th>...</th>\n",
       "      <td>...</td>\n",
       "      <td>...</td>\n",
       "      <td>...</td>\n",
       "      <td>...</td>\n",
       "      <td>...</td>\n",
       "      <td>...</td>\n",
       "      <td>...</td>\n",
       "      <td>...</td>\n",
       "      <td>...</td>\n",
       "      <td>...</td>\n",
       "      <td>...</td>\n",
       "    </tr>\n",
       "    <tr>\n",
       "      <th>13984</th>\n",
       "      <td>100B2146-E7A1-45CC-8E97-22CDE8FCA242</td>\n",
       "      <td>2022-07-25 14:47:49</td>\n",
       "      <td>2022-07-25</td>\n",
       "      <td>1000.0</td>\n",
       "      <td>0</td>\n",
       "      <td>cards</td>\n",
       "      <td>general</td>\n",
       "      <td>14</td>\n",
       "      <td>2021-12-25</td>\n",
       "      <td>212</td>\n",
       "      <td>2022-07-18</td>\n",
       "    </tr>\n",
       "    <tr>\n",
       "      <th>14011</th>\n",
       "      <td>CAD3BCE5-2860-4D2D-B198-CC47B8121244</td>\n",
       "      <td>2022-07-27 14:08:33</td>\n",
       "      <td>2022-07-27</td>\n",
       "      <td>500.0</td>\n",
       "      <td>0</td>\n",
       "      <td>cards</td>\n",
       "      <td>general</td>\n",
       "      <td>14</td>\n",
       "      <td>2020-04-28</td>\n",
       "      <td>820</td>\n",
       "      <td>2022-07-18</td>\n",
       "    </tr>\n",
       "    <tr>\n",
       "      <th>14017</th>\n",
       "      <td>568E4084-7312-4210-9E14-26D7D2080ED7</td>\n",
       "      <td>2022-07-27 16:14:04</td>\n",
       "      <td>2022-07-27</td>\n",
       "      <td>136.0</td>\n",
       "      <td>0</td>\n",
       "      <td>cards</td>\n",
       "      <td>general</td>\n",
       "      <td>16</td>\n",
       "      <td>2019-08-01</td>\n",
       "      <td>1091</td>\n",
       "      <td>2022-07-18</td>\n",
       "    </tr>\n",
       "    <tr>\n",
       "      <th>14020</th>\n",
       "      <td>D72C9BBA-0EAC-473D-BE6B-DE91EAF9BAB6</td>\n",
       "      <td>2022-07-28 09:39:02</td>\n",
       "      <td>2022-07-28</td>\n",
       "      <td>361.0</td>\n",
       "      <td>0</td>\n",
       "      <td>cards</td>\n",
       "      <td>telic</td>\n",
       "      <td>9</td>\n",
       "      <td>2021-06-05</td>\n",
       "      <td>418</td>\n",
       "      <td>2022-07-18</td>\n",
       "    </tr>\n",
       "    <tr>\n",
       "      <th>14024</th>\n",
       "      <td>D185B410-AA9A-4870-B39E-9F3F38FF6CB1</td>\n",
       "      <td>2022-07-28 11:28:33</td>\n",
       "      <td>2022-07-28</td>\n",
       "      <td>5000.0</td>\n",
       "      <td>0</td>\n",
       "      <td>cards</td>\n",
       "      <td>telic</td>\n",
       "      <td>11</td>\n",
       "      <td>2020-04-19</td>\n",
       "      <td>830</td>\n",
       "      <td>2022-07-18</td>\n",
       "    </tr>\n",
       "  </tbody>\n",
       "</table>\n",
       "<p>303 rows × 11 columns</p>\n",
       "</div>"
      ],
      "text/plain": [
       "                                         ID        pay_datetime    pay_date  \\\n",
       "13250  BBA4E944-A48D-44B8-A0E6-E4FEB6486097 2022-04-29 15:55:39  2022-04-29   \n",
       "13251  91478E1B-C882-4F24-A435-FC4930218C4A 2022-04-29 17:42:51  2022-04-29   \n",
       "13253  81CD4BEF-443E-4D36-B34F-664E11182D65 2022-04-29 17:18:36  2022-04-29   \n",
       "13254  6D405455-BA95-43E9-9E03-47F2A922F7BA 2022-04-29 11:49:39  2022-04-29   \n",
       "13255  0AA8C81F-EBA3-4FDA-8B8F-28C1263D3E62 2022-04-29 22:46:05  2022-04-29   \n",
       "...                                     ...                 ...         ...   \n",
       "13984  100B2146-E7A1-45CC-8E97-22CDE8FCA242 2022-07-25 14:47:49  2022-07-25   \n",
       "14011  CAD3BCE5-2860-4D2D-B198-CC47B8121244 2022-07-27 14:08:33  2022-07-27   \n",
       "14017  568E4084-7312-4210-9E14-26D7D2080ED7 2022-07-27 16:14:04  2022-07-27   \n",
       "14020  D72C9BBA-0EAC-473D-BE6B-DE91EAF9BAB6 2022-07-28 09:39:02  2022-07-28   \n",
       "14024  D185B410-AA9A-4870-B39E-9F3F38FF6CB1 2022-07-28 11:28:33  2022-07-28   \n",
       "\n",
       "       pay_sum  recurrentis pay_method pay_purpose_cat  pay_hour   first_pay  \\\n",
       "13250   1000.0            0      cards           telic        15  2020-07-07   \n",
       "13251    100.0            0      cards           telic        17  2015-12-11   \n",
       "13253    300.0            0      cards           telic        17  2019-10-11   \n",
       "13254     10.0            0      cards           telic        11  2022-04-29   \n",
       "13255   1000.0            0      cards           telic        22  2020-11-12   \n",
       "...        ...          ...        ...             ...       ...         ...   \n",
       "13984   1000.0            0      cards         general        14  2021-12-25   \n",
       "14011    500.0            0      cards         general        14  2020-04-28   \n",
       "14017    136.0            0      cards         general        16  2019-08-01   \n",
       "14020    361.0            0      cards           telic         9  2021-06-05   \n",
       "14024   5000.0            0      cards           telic        11  2020-04-19   \n",
       "\n",
       "         lt pay_datetime_1  \n",
       "13250   661     2022-04-29  \n",
       "13251  2331     2022-04-29  \n",
       "13253   931     2022-04-29  \n",
       "13254     0     2022-04-29  \n",
       "13255   533     2022-04-29  \n",
       "...     ...            ...  \n",
       "13984   212     2022-07-18  \n",
       "14011   820     2022-07-18  \n",
       "14017  1091     2022-07-18  \n",
       "14020   418     2022-07-18  \n",
       "14024   830     2022-07-18  \n",
       "\n",
       "[303 rows x 11 columns]"
      ]
     },
     "execution_count": 115,
     "metadata": {},
     "output_type": "execute_result"
    }
   ],
   "source": [
    "temp_df_payments_cut['pay_datetime_1'] = pd.cut(temp_df_payments_cut.pay_datetime.astype(np.int64)//10**9,\n",
    "                       bins=temp_df_email_send['send_datetime'].astype(np.int64)//10**9,\n",
    "                       labels=temp_df_email[:-1])\n",
    "temp_df_payments_cut"
   ]
  },
  {
   "cell_type": "code",
   "execution_count": 116,
   "id": "c95dab4b",
   "metadata": {},
   "outputs": [
    {
     "data": {
      "text/plain": [
       "pay_datetime_1\n",
       "2022-04-29    65\n",
       "2022-05-13    51\n",
       "2022-05-30    43\n",
       "2022-06-09    46\n",
       "2022-06-24    45\n",
       "2022-07-11    19\n",
       "2022-07-18    32\n",
       "2022-08-12     0\n",
       "Name: ID, dtype: int64"
      ]
     },
     "execution_count": 116,
     "metadata": {},
     "output_type": "execute_result"
    }
   ],
   "source": [
    "temp_df_payments_cut = temp_df_payments_cut.groupby('pay_datetime_1')['ID'].count()\n",
    "temp_df_payments_cut"
   ]
  },
  {
   "cell_type": "code",
   "execution_count": 117,
   "id": "b991eb03",
   "metadata": {},
   "outputs": [],
   "source": [
    "temp_df_payments_cut = temp_df_payments_cut.to_frame().reset_index()\n",
    "temp_df_payments_cut['pay_datetime_1'] = pd.to_datetime(temp_df_payments_cut['pay_datetime_1'])"
   ]
  },
  {
   "cell_type": "code",
   "execution_count": 118,
   "id": "2893e9b6",
   "metadata": {},
   "outputs": [
    {
     "data": {
      "text/html": [
       "<div>\n",
       "<style scoped>\n",
       "    .dataframe tbody tr th:only-of-type {\n",
       "        vertical-align: middle;\n",
       "    }\n",
       "\n",
       "    .dataframe tbody tr th {\n",
       "        vertical-align: top;\n",
       "    }\n",
       "\n",
       "    .dataframe thead th {\n",
       "        text-align: right;\n",
       "    }\n",
       "</style>\n",
       "<table border=\"1\" class=\"dataframe\">\n",
       "  <thead>\n",
       "    <tr style=\"text-align: right;\">\n",
       "      <th></th>\n",
       "      <th>datetime</th>\n",
       "      <th>send_email</th>\n",
       "      <th>reaction_email</th>\n",
       "      <th>CTR %</th>\n",
       "      <th>payments</th>\n",
       "    </tr>\n",
       "  </thead>\n",
       "  <tbody>\n",
       "    <tr>\n",
       "      <th>0</th>\n",
       "      <td>2022-04-29</td>\n",
       "      <td>929</td>\n",
       "      <td>459</td>\n",
       "      <td>49.407966</td>\n",
       "      <td>65</td>\n",
       "    </tr>\n",
       "    <tr>\n",
       "      <th>1</th>\n",
       "      <td>2022-05-13</td>\n",
       "      <td>940</td>\n",
       "      <td>182</td>\n",
       "      <td>19.361702</td>\n",
       "      <td>51</td>\n",
       "    </tr>\n",
       "    <tr>\n",
       "      <th>2</th>\n",
       "      <td>2022-05-30</td>\n",
       "      <td>904</td>\n",
       "      <td>99</td>\n",
       "      <td>10.951327</td>\n",
       "      <td>43</td>\n",
       "    </tr>\n",
       "    <tr>\n",
       "      <th>3</th>\n",
       "      <td>2022-06-09</td>\n",
       "      <td>913</td>\n",
       "      <td>43</td>\n",
       "      <td>4.709748</td>\n",
       "      <td>46</td>\n",
       "    </tr>\n",
       "    <tr>\n",
       "      <th>4</th>\n",
       "      <td>2022-06-24</td>\n",
       "      <td>878</td>\n",
       "      <td>41</td>\n",
       "      <td>4.669704</td>\n",
       "      <td>45</td>\n",
       "    </tr>\n",
       "    <tr>\n",
       "      <th>5</th>\n",
       "      <td>2022-07-11</td>\n",
       "      <td>890</td>\n",
       "      <td>54</td>\n",
       "      <td>6.067416</td>\n",
       "      <td>19</td>\n",
       "    </tr>\n",
       "    <tr>\n",
       "      <th>6</th>\n",
       "      <td>2022-07-18</td>\n",
       "      <td>860</td>\n",
       "      <td>97</td>\n",
       "      <td>11.279070</td>\n",
       "      <td>32</td>\n",
       "    </tr>\n",
       "    <tr>\n",
       "      <th>7</th>\n",
       "      <td>2022-08-12</td>\n",
       "      <td>874</td>\n",
       "      <td>82</td>\n",
       "      <td>9.382151</td>\n",
       "      <td>0</td>\n",
       "    </tr>\n",
       "  </tbody>\n",
       "</table>\n",
       "</div>"
      ],
      "text/plain": [
       "    datetime  send_email  reaction_email      CTR %  payments\n",
       "0 2022-04-29         929             459  49.407966        65\n",
       "1 2022-05-13         940             182  19.361702        51\n",
       "2 2022-05-30         904              99  10.951327        43\n",
       "3 2022-06-09         913              43   4.709748        46\n",
       "4 2022-06-24         878              41   4.669704        45\n",
       "5 2022-07-11         890              54   6.067416        19\n",
       "6 2022-07-18         860              97  11.279070        32\n",
       "7 2022-08-12         874              82   9.382151         0"
      ]
     },
     "execution_count": 118,
     "metadata": {},
     "output_type": "execute_result"
    }
   ],
   "source": [
    "df = df.merge(temp_df_payments_cut, left_on='datetime', right_on='pay_datetime_1', how='outer')\n",
    "df = df.rename(columns={'ID':'payments'})\n",
    "df = df.drop('pay_datetime_1', axis=1)\n",
    "df"
   ]
  },
  {
   "cell_type": "code",
   "execution_count": 119,
   "id": "f8b7457f",
   "metadata": {},
   "outputs": [
    {
     "data": {
      "text/html": [
       "<div>\n",
       "<style scoped>\n",
       "    .dataframe tbody tr th:only-of-type {\n",
       "        vertical-align: middle;\n",
       "    }\n",
       "\n",
       "    .dataframe tbody tr th {\n",
       "        vertical-align: top;\n",
       "    }\n",
       "\n",
       "    .dataframe thead th {\n",
       "        text-align: right;\n",
       "    }\n",
       "</style>\n",
       "<table border=\"1\" class=\"dataframe\">\n",
       "  <thead>\n",
       "    <tr style=\"text-align: right;\">\n",
       "      <th></th>\n",
       "      <th>datetime</th>\n",
       "      <th>send_email</th>\n",
       "      <th>reaction_email</th>\n",
       "      <th>CTR %</th>\n",
       "      <th>payments</th>\n",
       "      <th>CR %</th>\n",
       "    </tr>\n",
       "  </thead>\n",
       "  <tbody>\n",
       "    <tr>\n",
       "      <th>0</th>\n",
       "      <td>2022-04-29</td>\n",
       "      <td>929</td>\n",
       "      <td>459</td>\n",
       "      <td>49.407966</td>\n",
       "      <td>65</td>\n",
       "      <td>6.996771</td>\n",
       "    </tr>\n",
       "    <tr>\n",
       "      <th>1</th>\n",
       "      <td>2022-05-13</td>\n",
       "      <td>940</td>\n",
       "      <td>182</td>\n",
       "      <td>19.361702</td>\n",
       "      <td>51</td>\n",
       "      <td>5.425532</td>\n",
       "    </tr>\n",
       "    <tr>\n",
       "      <th>2</th>\n",
       "      <td>2022-05-30</td>\n",
       "      <td>904</td>\n",
       "      <td>99</td>\n",
       "      <td>10.951327</td>\n",
       "      <td>43</td>\n",
       "      <td>4.756637</td>\n",
       "    </tr>\n",
       "    <tr>\n",
       "      <th>3</th>\n",
       "      <td>2022-06-09</td>\n",
       "      <td>913</td>\n",
       "      <td>43</td>\n",
       "      <td>4.709748</td>\n",
       "      <td>46</td>\n",
       "      <td>5.038335</td>\n",
       "    </tr>\n",
       "    <tr>\n",
       "      <th>4</th>\n",
       "      <td>2022-06-24</td>\n",
       "      <td>878</td>\n",
       "      <td>41</td>\n",
       "      <td>4.669704</td>\n",
       "      <td>45</td>\n",
       "      <td>5.125285</td>\n",
       "    </tr>\n",
       "    <tr>\n",
       "      <th>5</th>\n",
       "      <td>2022-07-11</td>\n",
       "      <td>890</td>\n",
       "      <td>54</td>\n",
       "      <td>6.067416</td>\n",
       "      <td>19</td>\n",
       "      <td>2.134831</td>\n",
       "    </tr>\n",
       "    <tr>\n",
       "      <th>6</th>\n",
       "      <td>2022-07-18</td>\n",
       "      <td>860</td>\n",
       "      <td>97</td>\n",
       "      <td>11.279070</td>\n",
       "      <td>32</td>\n",
       "      <td>3.720930</td>\n",
       "    </tr>\n",
       "    <tr>\n",
       "      <th>7</th>\n",
       "      <td>2022-08-12</td>\n",
       "      <td>874</td>\n",
       "      <td>82</td>\n",
       "      <td>9.382151</td>\n",
       "      <td>0</td>\n",
       "      <td>0.000000</td>\n",
       "    </tr>\n",
       "  </tbody>\n",
       "</table>\n",
       "</div>"
      ],
      "text/plain": [
       "    datetime  send_email  reaction_email      CTR %  payments      CR %\n",
       "0 2022-04-29         929             459  49.407966        65  6.996771\n",
       "1 2022-05-13         940             182  19.361702        51  5.425532\n",
       "2 2022-05-30         904              99  10.951327        43  4.756637\n",
       "3 2022-06-09         913              43   4.709748        46  5.038335\n",
       "4 2022-06-24         878              41   4.669704        45  5.125285\n",
       "5 2022-07-11         890              54   6.067416        19  2.134831\n",
       "6 2022-07-18         860              97  11.279070        32  3.720930\n",
       "7 2022-08-12         874              82   9.382151         0  0.000000"
      ]
     },
     "execution_count": 119,
     "metadata": {},
     "output_type": "execute_result"
    }
   ],
   "source": [
    "df['CR %'] = (df['payments'] / df['send_email']) * 100\n",
    "df"
   ]
  },
  {
   "cell_type": "code",
   "execution_count": 120,
   "id": "3d6d06de",
   "metadata": {},
   "outputs": [],
   "source": [
    "df = df[df['datetime'].between('2022-04-29', '2022-07-18', inclusive = True)]"
   ]
  },
  {
   "cell_type": "code",
   "execution_count": 121,
   "id": "a0d91512",
   "metadata": {},
   "outputs": [
    {
     "data": {
      "text/plain": [
       "<AxesSubplot:xlabel='datetime'>"
      ]
     },
     "execution_count": 121,
     "metadata": {},
     "output_type": "execute_result"
    },
    {
     "data": {
      "image/png": "[encoded data removed]",
      "text/plain": [
       "<Figure size 1080x504 with 1 Axes>"
      ]
     },
     "metadata": {
      "needs_background": "light"
     },
     "output_type": "display_data"
    }
   ],
   "source": [
    "df.plot(x='datetime',\n",
    "        y=['send_email', 'reaction_email', 'CTR %', 'payments', 'CR %'],\n",
    "       figsize=(15,7))"
   ]
  },
  {
   "cell_type": "markdown",
   "id": "bd02c928",
   "metadata": {},
   "source": [
    "Вывод: как видим из полученных данных, конверсия для плательщиков отреагирующих на письма уменьшается несмотря на то, что рассылка остается на том же уровне. Видно что конверсия летом проседает, особенно июль. Для более полного вывода хорошо бы посмотреть что будет дальше. Влияет на снижение сезон или это связано с внешне и внутреннеми экономическими причинами."
   ]
  }
 ],
 "metadata": {
  "kernelspec": {
   "display_name": "Python 3 (ipykernel)",
   "language": "python",
   "name": "python3"
  },
  "language_info": {
   "codemirror_mode": {
    "name": "ipython",
    "version": 3
   },
   "file_extension": ".py",
   "mimetype": "text/x-python",
   "name": "python",
   "nbconvert_exporter": "python",
   "pygments_lexer": "ipython3",
   "version": "3.9.7"
  },
  "toc": {
   "base_numbering": 1,
   "nav_menu": {},
   "number_sections": true,
   "sideBar": true,
   "skip_h1_title": false,
   "title_cell": "Table of Contents",
   "title_sidebar": "Contents",
   "toc_cell": false,
   "toc_position": {},
   "toc_section_display": true,
   "toc_window_display": false
  },
  "vscode": {
   "interpreter": {
    "hash": "f8fc6acfc70914e2c48c716fabe0491d61b84d9c840a3a76bf52490886abc896"
   }
  }
 },
 "nbformat": 4,
 "nbformat_minor": 5
}
