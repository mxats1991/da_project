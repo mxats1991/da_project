{
 "cells": [
  {
   "cell_type": "markdown",
   "id": "fb3945f6",
   "metadata": {},
   "source": [
    "# Исследование о рынке российского кинопроката"
   ]
  },
  {
   "cell_type": "markdown",
   "id": "3d692bbb",
   "metadata": {},
   "source": [
    "## Описание проекта "
   ]
  },
  {
   "cell_type": "markdown",
   "id": "70f1f40e",
   "metadata": {},
   "source": [
    "<b>Цель:</b> используя данные государственного портала и сервиса “КиноПоиск”, проведите исследование, изучите текущие тренды и визуализируйте полученные результаты.<br>\n",
    "<b>Описание:</b> Заказчик этого исследования — Министерство культуры Российской Федерации.\n",
    "Нужно изучить рынок российского кинопроката и выявить текущие тренды. Уделить внимание фильмам, которые получили государственную поддержку. Попробовать ответить на вопрос, насколько такие фильмы интересны зрителю.\n",
    "Вы будете работать с данными, опубликованными на портале открытых данных Министерства культуры. Набор данных содержит информацию о прокатных удостоверениях, сборах и государственной поддержке фильмов, а также информацию с сайта КиноПоиск."
   ]
  },
  {
   "cell_type": "markdown",
   "id": "247db5da",
   "metadata": {},
   "source": [
    "## Шаг 1. Откройте файлы с данными и объедините их в один датафрейм "
   ]
  },
  {
   "cell_type": "code",
   "execution_count": 1,
   "id": "eb48de5a",
   "metadata": {},
   "outputs": [],
   "source": [
    "\n",
    "\n",
    "import pandas as pd\n",
    "import numpy as np\n",
    "import requests\n",
    "from bs4 import BeautifulSoup\n",
    "from itertools import zip_longest\n",
    "\n",
    "\n",
    "server_path = '/datasets/mkrf_movies.csv'   \n",
    "local_path= 'datasets/mkrf_movies.csv'              \n",
    "\n",
    "try:\n",
    "    data = pd.read_csv(server_path)    \n",
    "except: \n",
    "    data = pd.read_csv(local_path)\n",
    "\n",
    "server_path = '/datasets/mkrf_shows.csv'   \n",
    "local_path= 'datasets/mkrf_shows.csv'               \n",
    "\n",
    "try:\n",
    "    data1 = pd.read_csv(server_path)    \n",
    "except: \n",
    "    data1 = pd.read_csv(local_path)\n",
    "\n",
    "pd.options.display.float_format = '{:,.2f}'.format"
   ]
  },
  {
   "cell_type": "code",
   "execution_count": 2,
   "id": "8ded7cd5",
   "metadata": {},
   "outputs": [
    {
     "name": "stdout",
     "output_type": "stream",
     "text": [
      "<class 'pandas.core.frame.DataFrame'>\n",
      "RangeIndex: 7486 entries, 0 to 7485\n",
      "Data columns (total 15 columns):\n",
      " #   Column                 Non-Null Count  Dtype  \n",
      "---  ------                 --------------  -----  \n",
      " 0   title                  7486 non-null   object \n",
      " 1   puNumber               7486 non-null   object \n",
      " 2   show_start_date        7486 non-null   object \n",
      " 3   type                   7486 non-null   object \n",
      " 4   film_studio            7468 non-null   object \n",
      " 5   production_country     7484 non-null   object \n",
      " 6   director               7477 non-null   object \n",
      " 7   producer               6918 non-null   object \n",
      " 8   age_restriction        7486 non-null   object \n",
      " 9   refundable_support     332 non-null    float64\n",
      " 10  nonrefundable_support  332 non-null    float64\n",
      " 11  budget                 332 non-null    float64\n",
      " 12  financing_source       332 non-null    object \n",
      " 13  ratings                6519 non-null   object \n",
      " 14  genres                 6510 non-null   object \n",
      "dtypes: float64(3), object(12)\n",
      "memory usage: 877.4+ KB\n"
     ]
    }
   ],
   "source": [
    "data.info()"
   ]
  },
  {
   "cell_type": "code",
   "execution_count": 3,
   "id": "62e1de71",
   "metadata": {},
   "outputs": [
    {
     "name": "stdout",
     "output_type": "stream",
     "text": [
      "<class 'pandas.core.frame.DataFrame'>\n",
      "RangeIndex: 3158 entries, 0 to 3157\n",
      "Data columns (total 2 columns):\n",
      " #   Column      Non-Null Count  Dtype  \n",
      "---  ------      --------------  -----  \n",
      " 0   puNumber    3158 non-null   int64  \n",
      " 1   box_office  3158 non-null   float64\n",
      "dtypes: float64(1), int64(1)\n",
      "memory usage: 49.5 KB\n"
     ]
    }
   ],
   "source": [
    "data1.info()"
   ]
  },
  {
   "cell_type": "code",
   "execution_count": 4,
   "id": "182359eb",
   "metadata": {},
   "outputs": [
    {
     "data": {
      "text/html": [
       "<div>\n",
       "<style scoped>\n",
       "    .dataframe tbody tr th:only-of-type {\n",
       "        vertical-align: middle;\n",
       "    }\n",
       "\n",
       "    .dataframe tbody tr th {\n",
       "        vertical-align: top;\n",
       "    }\n",
       "\n",
       "    .dataframe thead th {\n",
       "        text-align: right;\n",
       "    }\n",
       "</style>\n",
       "<table border=\"1\" class=\"dataframe\">\n",
       "  <thead>\n",
       "    <tr style=\"text-align: right;\">\n",
       "      <th></th>\n",
       "      <th>title</th>\n",
       "      <th>puNumber</th>\n",
       "      <th>show_start_date</th>\n",
       "      <th>type</th>\n",
       "      <th>film_studio</th>\n",
       "      <th>production_country</th>\n",
       "      <th>director</th>\n",
       "      <th>producer</th>\n",
       "      <th>age_restriction</th>\n",
       "      <th>refundable_support</th>\n",
       "      <th>nonrefundable_support</th>\n",
       "      <th>budget</th>\n",
       "      <th>financing_source</th>\n",
       "      <th>ratings</th>\n",
       "      <th>genres</th>\n",
       "    </tr>\n",
       "  </thead>\n",
       "  <tbody>\n",
       "    <tr>\n",
       "      <th>0</th>\n",
       "      <td>Открытый простор</td>\n",
       "      <td>221048915</td>\n",
       "      <td>2015-11-27T12:00:00.000Z</td>\n",
       "      <td>Художественный</td>\n",
       "      <td>Тачстоун Пикчерз, Кобальт Пикчерз, Бикон Пикче...</td>\n",
       "      <td>США</td>\n",
       "      <td>Кевин Костнер</td>\n",
       "      <td>Дэвид Валдес, Кевин Костнер, Джейк Эбертс</td>\n",
       "      <td>«18+» - запрещено для детей</td>\n",
       "      <td>NaN</td>\n",
       "      <td>NaN</td>\n",
       "      <td>NaN</td>\n",
       "      <td>NaN</td>\n",
       "      <td>7.2</td>\n",
       "      <td>боевик,драма,мелодрама</td>\n",
       "    </tr>\n",
       "    <tr>\n",
       "      <th>1</th>\n",
       "      <td>Особо важное задание</td>\n",
       "      <td>111013716</td>\n",
       "      <td>2016-09-13T12:00:00.000Z</td>\n",
       "      <td>Художественный</td>\n",
       "      <td>Киностудия \"Мосфильм\"</td>\n",
       "      <td>СССР</td>\n",
       "      <td>Е.Матвеев</td>\n",
       "      <td>NaN</td>\n",
       "      <td>«6+» - для детей старше 6 лет</td>\n",
       "      <td>NaN</td>\n",
       "      <td>NaN</td>\n",
       "      <td>NaN</td>\n",
       "      <td>NaN</td>\n",
       "      <td>6.6</td>\n",
       "      <td>драма,военный</td>\n",
       "    </tr>\n",
       "    <tr>\n",
       "      <th>2</th>\n",
       "      <td>Особо опасен</td>\n",
       "      <td>221038416</td>\n",
       "      <td>2016-10-10T12:00:00.000Z</td>\n",
       "      <td>Художественный</td>\n",
       "      <td>Юниверсал Пикчерз, Кикстарт Продакшнз, Марк Пл...</td>\n",
       "      <td>США</td>\n",
       "      <td>Тимур Бекмамбетов</td>\n",
       "      <td>Джим Лемли, Джейсон Нетер, Марк Е.Платт, Яйн Смит</td>\n",
       "      <td>«18+» - запрещено для детей</td>\n",
       "      <td>NaN</td>\n",
       "      <td>NaN</td>\n",
       "      <td>NaN</td>\n",
       "      <td>NaN</td>\n",
       "      <td>6.8</td>\n",
       "      <td>фантастика,боевик,триллер</td>\n",
       "    </tr>\n",
       "    <tr>\n",
       "      <th>3</th>\n",
       "      <td>Особо опасен</td>\n",
       "      <td>221026916</td>\n",
       "      <td>2016-06-10T12:00:00.000Z</td>\n",
       "      <td>Художественный</td>\n",
       "      <td>Юниверсал Пикчерз, Кикстарт Продакшнз, Марк Пл...</td>\n",
       "      <td>США</td>\n",
       "      <td>Тимур Бекмамбетов</td>\n",
       "      <td>Джим Лемли, Джейсон Нетер, Марк Е.Платт, Яйн Смит</td>\n",
       "      <td>«18+» - запрещено для детей</td>\n",
       "      <td>NaN</td>\n",
       "      <td>NaN</td>\n",
       "      <td>NaN</td>\n",
       "      <td>NaN</td>\n",
       "      <td>6.8</td>\n",
       "      <td>фантастика,боевик,триллер</td>\n",
       "    </tr>\n",
       "    <tr>\n",
       "      <th>4</th>\n",
       "      <td>Особо опасен</td>\n",
       "      <td>221030815</td>\n",
       "      <td>2015-07-29T12:00:00.000Z</td>\n",
       "      <td>Художественный</td>\n",
       "      <td>Юниверсал Пикчерз, Кикстарт Продакшнз, Марк Пл...</td>\n",
       "      <td>США</td>\n",
       "      <td>Тимур Бекмамбетов</td>\n",
       "      <td>Джим Лемли, Джейсон Нетер, Марк Е.Платт, Яйн Смит</td>\n",
       "      <td>«18+» - запрещено для детей</td>\n",
       "      <td>NaN</td>\n",
       "      <td>NaN</td>\n",
       "      <td>NaN</td>\n",
       "      <td>NaN</td>\n",
       "      <td>6.8</td>\n",
       "      <td>фантастика,боевик,триллер</td>\n",
       "    </tr>\n",
       "  </tbody>\n",
       "</table>\n",
       "</div>"
      ],
      "text/plain": [
       "                  title   puNumber           show_start_date            type  \\\n",
       "0      Открытый простор  221048915  2015-11-27T12:00:00.000Z  Художественный   \n",
       "1  Особо важное задание  111013716  2016-09-13T12:00:00.000Z  Художественный   \n",
       "2          Особо опасен  221038416  2016-10-10T12:00:00.000Z  Художественный   \n",
       "3          Особо опасен  221026916  2016-06-10T12:00:00.000Z  Художественный   \n",
       "4          Особо опасен  221030815  2015-07-29T12:00:00.000Z  Художественный   \n",
       "\n",
       "                                         film_studio production_country  \\\n",
       "0  Тачстоун Пикчерз, Кобальт Пикчерз, Бикон Пикче...                США   \n",
       "1                              Киностудия \"Мосфильм\"               СССР   \n",
       "2  Юниверсал Пикчерз, Кикстарт Продакшнз, Марк Пл...                США   \n",
       "3  Юниверсал Пикчерз, Кикстарт Продакшнз, Марк Пл...                США   \n",
       "4  Юниверсал Пикчерз, Кикстарт Продакшнз, Марк Пл...                США   \n",
       "\n",
       "            director                                           producer  \\\n",
       "0      Кевин Костнер          Дэвид Валдес, Кевин Костнер, Джейк Эбертс   \n",
       "1          Е.Матвеев                                                NaN   \n",
       "2  Тимур Бекмамбетов  Джим Лемли, Джейсон Нетер, Марк Е.Платт, Яйн Смит   \n",
       "3  Тимур Бекмамбетов  Джим Лемли, Джейсон Нетер, Марк Е.Платт, Яйн Смит   \n",
       "4  Тимур Бекмамбетов  Джим Лемли, Джейсон Нетер, Марк Е.Платт, Яйн Смит   \n",
       "\n",
       "                 age_restriction  refundable_support  nonrefundable_support  \\\n",
       "0    «18+» - запрещено для детей                 NaN                    NaN   \n",
       "1  «6+» - для детей старше 6 лет                 NaN                    NaN   \n",
       "2    «18+» - запрещено для детей                 NaN                    NaN   \n",
       "3    «18+» - запрещено для детей                 NaN                    NaN   \n",
       "4    «18+» - запрещено для детей                 NaN                    NaN   \n",
       "\n",
       "   budget financing_source ratings                     genres  \n",
       "0     NaN              NaN     7.2     боевик,драма,мелодрама  \n",
       "1     NaN              NaN     6.6              драма,военный  \n",
       "2     NaN              NaN     6.8  фантастика,боевик,триллер  \n",
       "3     NaN              NaN     6.8  фантастика,боевик,триллер  \n",
       "4     NaN              NaN     6.8  фантастика,боевик,триллер  "
      ]
     },
     "execution_count": 4,
     "metadata": {},
     "output_type": "execute_result"
    }
   ],
   "source": [
    "data.head()"
   ]
  },
  {
   "cell_type": "code",
   "execution_count": 5,
   "id": "5c7f3f23",
   "metadata": {},
   "outputs": [
    {
     "data": {
      "text/html": [
       "<div>\n",
       "<style scoped>\n",
       "    .dataframe tbody tr th:only-of-type {\n",
       "        vertical-align: middle;\n",
       "    }\n",
       "\n",
       "    .dataframe tbody tr th {\n",
       "        vertical-align: top;\n",
       "    }\n",
       "\n",
       "    .dataframe thead th {\n",
       "        text-align: right;\n",
       "    }\n",
       "</style>\n",
       "<table border=\"1\" class=\"dataframe\">\n",
       "  <thead>\n",
       "    <tr style=\"text-align: right;\">\n",
       "      <th></th>\n",
       "      <th>puNumber</th>\n",
       "      <th>box_office</th>\n",
       "    </tr>\n",
       "  </thead>\n",
       "  <tbody>\n",
       "    <tr>\n",
       "      <th>0</th>\n",
       "      <td>111000113</td>\n",
       "      <td>2,450.00</td>\n",
       "    </tr>\n",
       "    <tr>\n",
       "      <th>1</th>\n",
       "      <td>111000115</td>\n",
       "      <td>61,040.00</td>\n",
       "    </tr>\n",
       "    <tr>\n",
       "      <th>2</th>\n",
       "      <td>111000116</td>\n",
       "      <td>153,030,013.40</td>\n",
       "    </tr>\n",
       "    <tr>\n",
       "      <th>3</th>\n",
       "      <td>111000117</td>\n",
       "      <td>12,260,956.00</td>\n",
       "    </tr>\n",
       "    <tr>\n",
       "      <th>4</th>\n",
       "      <td>111000118</td>\n",
       "      <td>163,684,057.79</td>\n",
       "    </tr>\n",
       "  </tbody>\n",
       "</table>\n",
       "</div>"
      ],
      "text/plain": [
       "    puNumber     box_office\n",
       "0  111000113       2,450.00\n",
       "1  111000115      61,040.00\n",
       "2  111000116 153,030,013.40\n",
       "3  111000117  12,260,956.00\n",
       "4  111000118 163,684,057.79"
      ]
     },
     "execution_count": 5,
     "metadata": {},
     "output_type": "execute_result"
    }
   ],
   "source": [
    "data1.head()"
   ]
  },
  {
   "cell_type": "markdown",
   "id": "b4a86b48",
   "metadata": {},
   "source": [
    "Проверим строки со значением 'нет'"
   ]
  },
  {
   "cell_type": "code",
   "execution_count": 6,
   "id": "d88bf56b",
   "metadata": {},
   "outputs": [
    {
     "data": {
      "text/html": [
       "<div>\n",
       "<style scoped>\n",
       "    .dataframe tbody tr th:only-of-type {\n",
       "        vertical-align: middle;\n",
       "    }\n",
       "\n",
       "    .dataframe tbody tr th {\n",
       "        vertical-align: top;\n",
       "    }\n",
       "\n",
       "    .dataframe thead th {\n",
       "        text-align: right;\n",
       "    }\n",
       "</style>\n",
       "<table border=\"1\" class=\"dataframe\">\n",
       "  <thead>\n",
       "    <tr style=\"text-align: right;\">\n",
       "      <th></th>\n",
       "      <th>title</th>\n",
       "      <th>puNumber</th>\n",
       "      <th>show_start_date</th>\n",
       "      <th>type</th>\n",
       "      <th>film_studio</th>\n",
       "      <th>production_country</th>\n",
       "      <th>director</th>\n",
       "      <th>producer</th>\n",
       "      <th>age_restriction</th>\n",
       "      <th>refundable_support</th>\n",
       "      <th>nonrefundable_support</th>\n",
       "      <th>budget</th>\n",
       "      <th>financing_source</th>\n",
       "      <th>ratings</th>\n",
       "      <th>genres</th>\n",
       "    </tr>\n",
       "  </thead>\n",
       "  <tbody>\n",
       "    <tr>\n",
       "      <th>1797</th>\n",
       "      <td>Курбан-роман. (История с жертвой)</td>\n",
       "      <td>нет</td>\n",
       "      <td>2014-05-15T12:00:00.000Z</td>\n",
       "      <td>Художественный</td>\n",
       "      <td>ФОНД \"ИННОВАЦИЯ\"</td>\n",
       "      <td>Россия</td>\n",
       "      <td>С.Юзеев</td>\n",
       "      <td>М.Галицкая</td>\n",
       "      <td>«12+» - для детей старше 12 лет</td>\n",
       "      <td>NaN</td>\n",
       "      <td>NaN</td>\n",
       "      <td>NaN</td>\n",
       "      <td>NaN</td>\n",
       "      <td>NaN</td>\n",
       "      <td>NaN</td>\n",
       "    </tr>\n",
       "  </tbody>\n",
       "</table>\n",
       "</div>"
      ],
      "text/plain": [
       "                                  title puNumber           show_start_date  \\\n",
       "1797  Курбан-роман. (История с жертвой)      нет  2014-05-15T12:00:00.000Z   \n",
       "\n",
       "                type       film_studio production_country director  \\\n",
       "1797  Художественный  ФОНД \"ИННОВАЦИЯ\"             Россия  С.Юзеев   \n",
       "\n",
       "        producer                  age_restriction  refundable_support  \\\n",
       "1797  М.Галицкая  «12+» - для детей старше 12 лет                 NaN   \n",
       "\n",
       "      nonrefundable_support  budget financing_source ratings genres  \n",
       "1797                    NaN     NaN              NaN     NaN    NaN  "
      ]
     },
     "metadata": {},
     "output_type": "display_data"
    }
   ],
   "source": [
    "display(data[data['puNumber'] == 'нет'])"
   ]
  },
  {
   "cell_type": "code",
   "execution_count": 7,
   "id": "62593564",
   "metadata": {
    "scrolled": true
   },
   "outputs": [
    {
     "data": {
      "text/html": [
       "<div>\n",
       "<style scoped>\n",
       "    .dataframe tbody tr th:only-of-type {\n",
       "        vertical-align: middle;\n",
       "    }\n",
       "\n",
       "    .dataframe tbody tr th {\n",
       "        vertical-align: top;\n",
       "    }\n",
       "\n",
       "    .dataframe thead th {\n",
       "        text-align: right;\n",
       "    }\n",
       "</style>\n",
       "<table border=\"1\" class=\"dataframe\">\n",
       "  <thead>\n",
       "    <tr style=\"text-align: right;\">\n",
       "      <th></th>\n",
       "      <th>title</th>\n",
       "      <th>puNumber</th>\n",
       "      <th>show_start_date</th>\n",
       "      <th>type</th>\n",
       "      <th>film_studio</th>\n",
       "      <th>production_country</th>\n",
       "      <th>director</th>\n",
       "      <th>producer</th>\n",
       "      <th>age_restriction</th>\n",
       "      <th>refundable_support</th>\n",
       "      <th>nonrefundable_support</th>\n",
       "      <th>budget</th>\n",
       "      <th>financing_source</th>\n",
       "      <th>ratings</th>\n",
       "      <th>genres</th>\n",
       "    </tr>\n",
       "  </thead>\n",
       "  <tbody>\n",
       "    <tr>\n",
       "      <th>1797</th>\n",
       "      <td>Курбан-роман. (История с жертвой)</td>\n",
       "      <td>нет</td>\n",
       "      <td>2014-05-15T12:00:00.000Z</td>\n",
       "      <td>Художественный</td>\n",
       "      <td>ФОНД \"ИННОВАЦИЯ\"</td>\n",
       "      <td>Россия</td>\n",
       "      <td>С.Юзеев</td>\n",
       "      <td>М.Галицкая</td>\n",
       "      <td>«12+» - для детей старше 12 лет</td>\n",
       "      <td>NaN</td>\n",
       "      <td>NaN</td>\n",
       "      <td>NaN</td>\n",
       "      <td>NaN</td>\n",
       "      <td>NaN</td>\n",
       "      <td>NaN</td>\n",
       "    </tr>\n",
       "  </tbody>\n",
       "</table>\n",
       "</div>"
      ],
      "text/plain": [
       "                                  title puNumber           show_start_date  \\\n",
       "1797  Курбан-роман. (История с жертвой)      нет  2014-05-15T12:00:00.000Z   \n",
       "\n",
       "                type       film_studio production_country director  \\\n",
       "1797  Художественный  ФОНД \"ИННОВАЦИЯ\"             Россия  С.Юзеев   \n",
       "\n",
       "        producer                  age_restriction  refundable_support  \\\n",
       "1797  М.Галицкая  «12+» - для детей старше 12 лет                 NaN   \n",
       "\n",
       "      nonrefundable_support  budget financing_source ratings genres  \n",
       "1797                    NaN     NaN              NaN     NaN    NaN  "
      ]
     },
     "metadata": {},
     "output_type": "display_data"
    }
   ],
   "source": [
    "display(data[data['title'] == 'Курбан-роман. (История с жертвой)'])"
   ]
  },
  {
   "cell_type": "markdown",
   "id": "24c12ce6",
   "metadata": {},
   "source": [
    "Поменяем значение 'нет' на '111009614' для преобразования столбцов в int()"
   ]
  },
  {
   "cell_type": "code",
   "execution_count": 8,
   "id": "6b56d573",
   "metadata": {},
   "outputs": [
    {
     "data": {
      "text/html": [
       "<div>\n",
       "<style scoped>\n",
       "    .dataframe tbody tr th:only-of-type {\n",
       "        vertical-align: middle;\n",
       "    }\n",
       "\n",
       "    .dataframe tbody tr th {\n",
       "        vertical-align: top;\n",
       "    }\n",
       "\n",
       "    .dataframe thead th {\n",
       "        text-align: right;\n",
       "    }\n",
       "</style>\n",
       "<table border=\"1\" class=\"dataframe\">\n",
       "  <thead>\n",
       "    <tr style=\"text-align: right;\">\n",
       "      <th></th>\n",
       "      <th>title</th>\n",
       "      <th>puNumber</th>\n",
       "      <th>show_start_date</th>\n",
       "      <th>type</th>\n",
       "      <th>film_studio</th>\n",
       "      <th>production_country</th>\n",
       "      <th>director</th>\n",
       "      <th>producer</th>\n",
       "      <th>age_restriction</th>\n",
       "      <th>refundable_support</th>\n",
       "      <th>nonrefundable_support</th>\n",
       "      <th>budget</th>\n",
       "      <th>financing_source</th>\n",
       "      <th>ratings</th>\n",
       "      <th>genres</th>\n",
       "    </tr>\n",
       "  </thead>\n",
       "  <tbody>\n",
       "    <tr>\n",
       "      <th>1797</th>\n",
       "      <td>Курбан-роман. (История с жертвой)</td>\n",
       "      <td>111009614</td>\n",
       "      <td>2014-05-15T12:00:00.000Z</td>\n",
       "      <td>Художественный</td>\n",
       "      <td>ФОНД \"ИННОВАЦИЯ\"</td>\n",
       "      <td>Россия</td>\n",
       "      <td>С.Юзеев</td>\n",
       "      <td>М.Галицкая</td>\n",
       "      <td>«12+» - для детей старше 12 лет</td>\n",
       "      <td>NaN</td>\n",
       "      <td>NaN</td>\n",
       "      <td>NaN</td>\n",
       "      <td>NaN</td>\n",
       "      <td>NaN</td>\n",
       "      <td>NaN</td>\n",
       "    </tr>\n",
       "    <tr>\n",
       "      <th>2078</th>\n",
       "      <td>Курбан-роман. (История с жертвой).</td>\n",
       "      <td>111009614</td>\n",
       "      <td>2014-09-02T12:00:00.000Z</td>\n",
       "      <td>Художественный</td>\n",
       "      <td>ФОНД \"ИННОВАЦИЯ\"</td>\n",
       "      <td>Россия</td>\n",
       "      <td>С.Юзеев</td>\n",
       "      <td>М.Галицкая</td>\n",
       "      <td>«12+» - для детей старше 12 лет</td>\n",
       "      <td>NaN</td>\n",
       "      <td>NaN</td>\n",
       "      <td>NaN</td>\n",
       "      <td>NaN</td>\n",
       "      <td>NaN</td>\n",
       "      <td>NaN</td>\n",
       "    </tr>\n",
       "  </tbody>\n",
       "</table>\n",
       "</div>"
      ],
      "text/plain": [
       "                                   title   puNumber           show_start_date  \\\n",
       "1797   Курбан-роман. (История с жертвой)  111009614  2014-05-15T12:00:00.000Z   \n",
       "2078  Курбан-роман. (История с жертвой).  111009614  2014-09-02T12:00:00.000Z   \n",
       "\n",
       "                type       film_studio production_country director  \\\n",
       "1797  Художественный  ФОНД \"ИННОВАЦИЯ\"             Россия  С.Юзеев   \n",
       "2078  Художественный  ФОНД \"ИННОВАЦИЯ\"             Россия  С.Юзеев   \n",
       "\n",
       "        producer                  age_restriction  refundable_support  \\\n",
       "1797  М.Галицкая  «12+» - для детей старше 12 лет                 NaN   \n",
       "2078  М.Галицкая  «12+» - для детей старше 12 лет                 NaN   \n",
       "\n",
       "      nonrefundable_support  budget financing_source ratings genres  \n",
       "1797                    NaN     NaN              NaN     NaN    NaN  \n",
       "2078                    NaN     NaN              NaN     NaN    NaN  "
      ]
     },
     "metadata": {},
     "output_type": "display_data"
    }
   ],
   "source": [
    "\n",
    "\n",
    "data['puNumber'] = np.where((data.puNumber == 'нет'), '111009614', data.puNumber)\n",
    "display(data[data['puNumber'] == '111009614'])"
   ]
  },
  {
   "cell_type": "code",
   "execution_count": 9,
   "id": "cc4351f2",
   "metadata": {},
   "outputs": [
    {
     "name": "stdout",
     "output_type": "stream",
     "text": [
      "<class 'pandas.core.frame.DataFrame'>\n",
      "RangeIndex: 7486 entries, 0 to 7485\n",
      "Data columns (total 15 columns):\n",
      " #   Column                 Non-Null Count  Dtype  \n",
      "---  ------                 --------------  -----  \n",
      " 0   title                  7486 non-null   object \n",
      " 1   puNumber               7486 non-null   int64  \n",
      " 2   show_start_date        7486 non-null   object \n",
      " 3   type                   7486 non-null   object \n",
      " 4   film_studio            7468 non-null   object \n",
      " 5   production_country     7484 non-null   object \n",
      " 6   director               7477 non-null   object \n",
      " 7   producer               6918 non-null   object \n",
      " 8   age_restriction        7486 non-null   object \n",
      " 9   refundable_support     332 non-null    float64\n",
      " 10  nonrefundable_support  332 non-null    float64\n",
      " 11  budget                 332 non-null    float64\n",
      " 12  financing_source       332 non-null    object \n",
      " 13  ratings                6519 non-null   object \n",
      " 14  genres                 6510 non-null   object \n",
      "dtypes: float64(3), int64(1), object(11)\n",
      "memory usage: 877.4+ KB\n"
     ]
    }
   ],
   "source": [
    "data['puNumber'] = data['puNumber'].astype('int')\n",
    "data.info()"
   ]
  },
  {
   "cell_type": "code",
   "execution_count": 10,
   "id": "ce7338c6",
   "metadata": {},
   "outputs": [],
   "source": [
    "#объединим два датафрейма по столбцу puNumber\n",
    "df = pd.merge(data, data1, how='left')"
   ]
  },
  {
   "cell_type": "code",
   "execution_count": 11,
   "id": "bc123949",
   "metadata": {
    "scrolled": false
   },
   "outputs": [
    {
     "data": {
      "text/html": [
       "<div>\n",
       "<style scoped>\n",
       "    .dataframe tbody tr th:only-of-type {\n",
       "        vertical-align: middle;\n",
       "    }\n",
       "\n",
       "    .dataframe tbody tr th {\n",
       "        vertical-align: top;\n",
       "    }\n",
       "\n",
       "    .dataframe thead th {\n",
       "        text-align: right;\n",
       "    }\n",
       "</style>\n",
       "<table border=\"1\" class=\"dataframe\">\n",
       "  <thead>\n",
       "    <tr style=\"text-align: right;\">\n",
       "      <th></th>\n",
       "      <th>title</th>\n",
       "      <th>puNumber</th>\n",
       "      <th>show_start_date</th>\n",
       "      <th>type</th>\n",
       "      <th>film_studio</th>\n",
       "      <th>production_country</th>\n",
       "      <th>director</th>\n",
       "      <th>producer</th>\n",
       "      <th>age_restriction</th>\n",
       "      <th>refundable_support</th>\n",
       "      <th>nonrefundable_support</th>\n",
       "      <th>budget</th>\n",
       "      <th>financing_source</th>\n",
       "      <th>ratings</th>\n",
       "      <th>genres</th>\n",
       "      <th>box_office</th>\n",
       "    </tr>\n",
       "  </thead>\n",
       "  <tbody>\n",
       "    <tr>\n",
       "      <th>0</th>\n",
       "      <td>Открытый простор</td>\n",
       "      <td>221048915</td>\n",
       "      <td>2015-11-27T12:00:00.000Z</td>\n",
       "      <td>Художественный</td>\n",
       "      <td>Тачстоун Пикчерз, Кобальт Пикчерз, Бикон Пикче...</td>\n",
       "      <td>США</td>\n",
       "      <td>Кевин Костнер</td>\n",
       "      <td>Дэвид Валдес, Кевин Костнер, Джейк Эбертс</td>\n",
       "      <td>«18+» - запрещено для детей</td>\n",
       "      <td>NaN</td>\n",
       "      <td>NaN</td>\n",
       "      <td>NaN</td>\n",
       "      <td>NaN</td>\n",
       "      <td>7.2</td>\n",
       "      <td>боевик,драма,мелодрама</td>\n",
       "      <td>NaN</td>\n",
       "    </tr>\n",
       "    <tr>\n",
       "      <th>1</th>\n",
       "      <td>Особо важное задание</td>\n",
       "      <td>111013716</td>\n",
       "      <td>2016-09-13T12:00:00.000Z</td>\n",
       "      <td>Художественный</td>\n",
       "      <td>Киностудия \"Мосфильм\"</td>\n",
       "      <td>СССР</td>\n",
       "      <td>Е.Матвеев</td>\n",
       "      <td>NaN</td>\n",
       "      <td>«6+» - для детей старше 6 лет</td>\n",
       "      <td>NaN</td>\n",
       "      <td>NaN</td>\n",
       "      <td>NaN</td>\n",
       "      <td>NaN</td>\n",
       "      <td>6.6</td>\n",
       "      <td>драма,военный</td>\n",
       "      <td>NaN</td>\n",
       "    </tr>\n",
       "    <tr>\n",
       "      <th>2</th>\n",
       "      <td>Особо опасен</td>\n",
       "      <td>221038416</td>\n",
       "      <td>2016-10-10T12:00:00.000Z</td>\n",
       "      <td>Художественный</td>\n",
       "      <td>Юниверсал Пикчерз, Кикстарт Продакшнз, Марк Пл...</td>\n",
       "      <td>США</td>\n",
       "      <td>Тимур Бекмамбетов</td>\n",
       "      <td>Джим Лемли, Джейсон Нетер, Марк Е.Платт, Яйн Смит</td>\n",
       "      <td>«18+» - запрещено для детей</td>\n",
       "      <td>NaN</td>\n",
       "      <td>NaN</td>\n",
       "      <td>NaN</td>\n",
       "      <td>NaN</td>\n",
       "      <td>6.8</td>\n",
       "      <td>фантастика,боевик,триллер</td>\n",
       "      <td>NaN</td>\n",
       "    </tr>\n",
       "    <tr>\n",
       "      <th>3</th>\n",
       "      <td>Особо опасен</td>\n",
       "      <td>221026916</td>\n",
       "      <td>2016-06-10T12:00:00.000Z</td>\n",
       "      <td>Художественный</td>\n",
       "      <td>Юниверсал Пикчерз, Кикстарт Продакшнз, Марк Пл...</td>\n",
       "      <td>США</td>\n",
       "      <td>Тимур Бекмамбетов</td>\n",
       "      <td>Джим Лемли, Джейсон Нетер, Марк Е.Платт, Яйн Смит</td>\n",
       "      <td>«18+» - запрещено для детей</td>\n",
       "      <td>NaN</td>\n",
       "      <td>NaN</td>\n",
       "      <td>NaN</td>\n",
       "      <td>NaN</td>\n",
       "      <td>6.8</td>\n",
       "      <td>фантастика,боевик,триллер</td>\n",
       "      <td>NaN</td>\n",
       "    </tr>\n",
       "    <tr>\n",
       "      <th>4</th>\n",
       "      <td>Особо опасен</td>\n",
       "      <td>221030815</td>\n",
       "      <td>2015-07-29T12:00:00.000Z</td>\n",
       "      <td>Художественный</td>\n",
       "      <td>Юниверсал Пикчерз, Кикстарт Продакшнз, Марк Пл...</td>\n",
       "      <td>США</td>\n",
       "      <td>Тимур Бекмамбетов</td>\n",
       "      <td>Джим Лемли, Джейсон Нетер, Марк Е.Платт, Яйн Смит</td>\n",
       "      <td>«18+» - запрещено для детей</td>\n",
       "      <td>NaN</td>\n",
       "      <td>NaN</td>\n",
       "      <td>NaN</td>\n",
       "      <td>NaN</td>\n",
       "      <td>6.8</td>\n",
       "      <td>фантастика,боевик,триллер</td>\n",
       "      <td>NaN</td>\n",
       "    </tr>\n",
       "  </tbody>\n",
       "</table>\n",
       "</div>"
      ],
      "text/plain": [
       "                  title   puNumber           show_start_date            type  \\\n",
       "0      Открытый простор  221048915  2015-11-27T12:00:00.000Z  Художественный   \n",
       "1  Особо важное задание  111013716  2016-09-13T12:00:00.000Z  Художественный   \n",
       "2          Особо опасен  221038416  2016-10-10T12:00:00.000Z  Художественный   \n",
       "3          Особо опасен  221026916  2016-06-10T12:00:00.000Z  Художественный   \n",
       "4          Особо опасен  221030815  2015-07-29T12:00:00.000Z  Художественный   \n",
       "\n",
       "                                         film_studio production_country  \\\n",
       "0  Тачстоун Пикчерз, Кобальт Пикчерз, Бикон Пикче...                США   \n",
       "1                              Киностудия \"Мосфильм\"               СССР   \n",
       "2  Юниверсал Пикчерз, Кикстарт Продакшнз, Марк Пл...                США   \n",
       "3  Юниверсал Пикчерз, Кикстарт Продакшнз, Марк Пл...                США   \n",
       "4  Юниверсал Пикчерз, Кикстарт Продакшнз, Марк Пл...                США   \n",
       "\n",
       "            director                                           producer  \\\n",
       "0      Кевин Костнер          Дэвид Валдес, Кевин Костнер, Джейк Эбертс   \n",
       "1          Е.Матвеев                                                NaN   \n",
       "2  Тимур Бекмамбетов  Джим Лемли, Джейсон Нетер, Марк Е.Платт, Яйн Смит   \n",
       "3  Тимур Бекмамбетов  Джим Лемли, Джейсон Нетер, Марк Е.Платт, Яйн Смит   \n",
       "4  Тимур Бекмамбетов  Джим Лемли, Джейсон Нетер, Марк Е.Платт, Яйн Смит   \n",
       "\n",
       "                 age_restriction  refundable_support  nonrefundable_support  \\\n",
       "0    «18+» - запрещено для детей                 NaN                    NaN   \n",
       "1  «6+» - для детей старше 6 лет                 NaN                    NaN   \n",
       "2    «18+» - запрещено для детей                 NaN                    NaN   \n",
       "3    «18+» - запрещено для детей                 NaN                    NaN   \n",
       "4    «18+» - запрещено для детей                 NaN                    NaN   \n",
       "\n",
       "   budget financing_source ratings                     genres  box_office  \n",
       "0     NaN              NaN     7.2     боевик,драма,мелодрама         NaN  \n",
       "1     NaN              NaN     6.6              драма,военный         NaN  \n",
       "2     NaN              NaN     6.8  фантастика,боевик,триллер         NaN  \n",
       "3     NaN              NaN     6.8  фантастика,боевик,триллер         NaN  \n",
       "4     NaN              NaN     6.8  фантастика,боевик,триллер         NaN  "
      ]
     },
     "execution_count": 11,
     "metadata": {},
     "output_type": "execute_result"
    }
   ],
   "source": [
    "df.head()"
   ]
  },
  {
   "cell_type": "code",
   "execution_count": 12,
   "id": "be89812a",
   "metadata": {},
   "outputs": [
    {
     "name": "stdout",
     "output_type": "stream",
     "text": [
      "<class 'pandas.core.frame.DataFrame'>\n",
      "Int64Index: 7486 entries, 0 to 7485\n",
      "Data columns (total 16 columns):\n",
      " #   Column                 Non-Null Count  Dtype  \n",
      "---  ------                 --------------  -----  \n",
      " 0   title                  7486 non-null   object \n",
      " 1   puNumber               7486 non-null   int64  \n",
      " 2   show_start_date        7486 non-null   object \n",
      " 3   type                   7486 non-null   object \n",
      " 4   film_studio            7468 non-null   object \n",
      " 5   production_country     7484 non-null   object \n",
      " 6   director               7477 non-null   object \n",
      " 7   producer               6918 non-null   object \n",
      " 8   age_restriction        7486 non-null   object \n",
      " 9   refundable_support     332 non-null    float64\n",
      " 10  nonrefundable_support  332 non-null    float64\n",
      " 11  budget                 332 non-null    float64\n",
      " 12  financing_source       332 non-null    object \n",
      " 13  ratings                6519 non-null   object \n",
      " 14  genres                 6510 non-null   object \n",
      " 15  box_office             3159 non-null   float64\n",
      "dtypes: float64(4), int64(1), object(11)\n",
      "memory usage: 994.2+ KB\n"
     ]
    }
   ],
   "source": [
    "df.info()"
   ]
  },
  {
   "cell_type": "markdown",
   "id": "2b04b966",
   "metadata": {},
   "source": [
    "После объединения значений в столбце box_office увеличилось на 1. Это может быть связано с дублирующей строкой."
   ]
  },
  {
   "cell_type": "markdown",
   "id": "00562de0",
   "metadata": {},
   "source": [
    "### Вывод 1.1 "
   ]
  },
  {
   "cell_type": "markdown",
   "id": "8a8e18cb",
   "metadata": {},
   "source": [
    "На данном этапе мы объединили два датафрейма вместе. В ходе исследования выяснилось что столбец \"puNumber\" в двух датафреймах имеет различный тип данных. Оба столбца были приведены к общему типу данных int(). Доля этого пришлось изменить одно значение в data 'нет' на '111009614', номер прокатного удостоверения взят из следующего источника: https://culture.gov.ru/services/reestr-prokatnykh-udostovereniy/472371/ "
   ]
  },
  {
   "cell_type": "markdown",
   "id": "b9418942",
   "metadata": {},
   "source": [
    "## Шаг 2. Предобработка данных "
   ]
  },
  {
   "cell_type": "markdown",
   "id": "9a9ebca4",
   "metadata": {},
   "source": [
    "Проверим типы данных в датафрейме"
   ]
  },
  {
   "cell_type": "code",
   "execution_count": 13,
   "id": "ad849fcc",
   "metadata": {},
   "outputs": [
    {
     "name": "stdout",
     "output_type": "stream",
     "text": [
      "<class 'pandas.core.frame.DataFrame'>\n",
      "Int64Index: 7486 entries, 0 to 7485\n",
      "Data columns (total 16 columns):\n",
      " #   Column                 Non-Null Count  Dtype  \n",
      "---  ------                 --------------  -----  \n",
      " 0   title                  7486 non-null   object \n",
      " 1   puNumber               7486 non-null   int64  \n",
      " 2   show_start_date        7486 non-null   object \n",
      " 3   type                   7486 non-null   object \n",
      " 4   film_studio            7468 non-null   object \n",
      " 5   production_country     7484 non-null   object \n",
      " 6   director               7477 non-null   object \n",
      " 7   producer               6918 non-null   object \n",
      " 8   age_restriction        7486 non-null   object \n",
      " 9   refundable_support     332 non-null    float64\n",
      " 10  nonrefundable_support  332 non-null    float64\n",
      " 11  budget                 332 non-null    float64\n",
      " 12  financing_source       332 non-null    object \n",
      " 13  ratings                6519 non-null   object \n",
      " 14  genres                 6510 non-null   object \n",
      " 15  box_office             3159 non-null   float64\n",
      "dtypes: float64(4), int64(1), object(11)\n",
      "memory usage: 994.2+ KB\n"
     ]
    }
   ],
   "source": [
    "df.info()"
   ]
  },
  {
   "cell_type": "markdown",
   "id": "d3ad69f4",
   "metadata": {},
   "source": [
    "2015-11-27T12:00:00.000Z\n",
    "Преобразуем столбец \"show_start_date\" в типа данных datetime."
   ]
  },
  {
   "cell_type": "code",
   "execution_count": 14,
   "id": "aaa1a3e3",
   "metadata": {},
   "outputs": [],
   "source": [
    "df['show_start_date'] = pd.to_datetime(df['show_start_date'], format='%Y-%m-%dT%H:%M:%S')"
   ]
  },
  {
   "cell_type": "markdown",
   "id": "8ceebc50",
   "metadata": {},
   "source": [
    "Далее преобразуем столбец с рейтингом фильмав в вещественный тип. Для этого проанализируем уникальные значения в столбцах и обработаем те данные которые представленный не в подходящем формате или отсутвуют."
   ]
  },
  {
   "cell_type": "markdown",
   "id": "e67131ee",
   "metadata": {},
   "source": [
    "Найдем пропуски по всем столбцам"
   ]
  },
  {
   "cell_type": "code",
   "execution_count": 15,
   "id": "3dd91bd0",
   "metadata": {},
   "outputs": [
    {
     "data": {
      "text/plain": [
       "title                       0\n",
       "puNumber                    0\n",
       "show_start_date             0\n",
       "type                        0\n",
       "film_studio                18\n",
       "production_country          2\n",
       "director                    9\n",
       "producer                  568\n",
       "age_restriction             0\n",
       "refundable_support       7154\n",
       "nonrefundable_support    7154\n",
       "budget                   7154\n",
       "financing_source         7154\n",
       "ratings                   967\n",
       "genres                    976\n",
       "dtype: int64"
      ]
     },
     "execution_count": 15,
     "metadata": {},
     "output_type": "execute_result"
    }
   ],
   "source": [
    "data.isna().sum()"
   ]
  },
  {
   "cell_type": "code",
   "execution_count": 16,
   "id": "86290035",
   "metadata": {},
   "outputs": [
    {
     "data": {
      "text/plain": [
       "array(['7.2', '6.6', '6.8', '7.7', '8.3', '8.0', '7.8', '8.1', '7.1',\n",
       "       '6.0', '7.4', '5.8', '8.7', '6.3', '6.9', '5.0', '4.3', '7.3',\n",
       "       '7.0', '6.4', nan, '8.2', '7.5', '6.7', '7.9', '5.9', '6.2', '5.6',\n",
       "       '6.5', '2.4', '7.6', '6.1', '8.6', '8.5', '8.8', '5.5', '5.1',\n",
       "       '5.7', '5.4', '99%', '4.4', '4.5', '5.3', '4.1', '8.4', '2.6',\n",
       "       '3.8', '4.6', '4.8', '4.0', '3.0', '1.6', '4.2', '5.2', '4.7',\n",
       "       '4.9', '3.9', '2.7', '3.3', '2.9', '28%', '3.7', '1.4', '3.1',\n",
       "       '97%', '3.5', '3.2', '2.8', '1.5', '2.1', '2.5', '9.2', '3.4',\n",
       "       '1.1', '3.6', '83%', '64%', '91%', '94%', '62%', '79%', '90%',\n",
       "       '19%', '88%', '1.0', '89%', '1.3', '1.9', '1.8', '1.2', '1.7',\n",
       "       '9.0', '98%', '8.9', '9.1'], dtype=object)"
      ]
     },
     "execution_count": 16,
     "metadata": {},
     "output_type": "execute_result"
    }
   ],
   "source": [
    "df['ratings'].unique()"
   ]
  },
  {
   "cell_type": "code",
   "execution_count": 17,
   "id": "23e327e2",
   "metadata": {},
   "outputs": [
    {
     "data": {
      "text/html": [
       "<div>\n",
       "<style scoped>\n",
       "    .dataframe tbody tr th:only-of-type {\n",
       "        vertical-align: middle;\n",
       "    }\n",
       "\n",
       "    .dataframe tbody tr th {\n",
       "        vertical-align: top;\n",
       "    }\n",
       "\n",
       "    .dataframe thead th {\n",
       "        text-align: right;\n",
       "    }\n",
       "</style>\n",
       "<table border=\"1\" class=\"dataframe\">\n",
       "  <thead>\n",
       "    <tr style=\"text-align: right;\">\n",
       "      <th></th>\n",
       "      <th>title</th>\n",
       "      <th>puNumber</th>\n",
       "      <th>show_start_date</th>\n",
       "      <th>type</th>\n",
       "      <th>film_studio</th>\n",
       "      <th>production_country</th>\n",
       "      <th>director</th>\n",
       "      <th>producer</th>\n",
       "      <th>age_restriction</th>\n",
       "      <th>refundable_support</th>\n",
       "      <th>nonrefundable_support</th>\n",
       "      <th>budget</th>\n",
       "      <th>financing_source</th>\n",
       "      <th>ratings</th>\n",
       "      <th>genres</th>\n",
       "      <th>box_office</th>\n",
       "    </tr>\n",
       "  </thead>\n",
       "  <tbody>\n",
       "    <tr>\n",
       "      <th>259</th>\n",
       "      <td>Прошлое</td>\n",
       "      <td>221030715</td>\n",
       "      <td>2015-07-29 12:00:00+00:00</td>\n",
       "      <td>Художественный</td>\n",
       "      <td>20 Сенчюри Фокс де Архентина, Чемо, ЭйчБи Филм...</td>\n",
       "      <td>Аргентина - Бразилия</td>\n",
       "      <td>Эктор Бабенко</td>\n",
       "      <td>Эктор Бабенко, Оскар Крамер, Хуго Сидмэн</td>\n",
       "      <td>«16+» - для детей старше 16 лет</td>\n",
       "      <td>NaN</td>\n",
       "      <td>NaN</td>\n",
       "      <td>NaN</td>\n",
       "      <td>NaN</td>\n",
       "      <td>99%</td>\n",
       "      <td>ужасы,триллер,драма</td>\n",
       "      <td>NaN</td>\n",
       "    </tr>\n",
       "    <tr>\n",
       "      <th>1053</th>\n",
       "      <td>Песочный человек</td>\n",
       "      <td>121029212</td>\n",
       "      <td>2012-11-29 12:00:00+00:00</td>\n",
       "      <td>Художественный</td>\n",
       "      <td>Спотлайт Медиа Продакшн</td>\n",
       "      <td>Швейцария</td>\n",
       "      <td>Питер Луизи</td>\n",
       "      <td>Дэвид Луизи, Питер Луизи</td>\n",
       "      <td>«16+» - для детей старше 16 лет</td>\n",
       "      <td>NaN</td>\n",
       "      <td>NaN</td>\n",
       "      <td>NaN</td>\n",
       "      <td>NaN</td>\n",
       "      <td>97%</td>\n",
       "      <td>ужасы,фантастика,фэнтези</td>\n",
       "      <td>NaN</td>\n",
       "    </tr>\n",
       "    <tr>\n",
       "      <th>1341</th>\n",
       "      <td>Сказка о добре и Вре</td>\n",
       "      <td>111008913</td>\n",
       "      <td>2013-11-15 12:00:00+00:00</td>\n",
       "      <td>Художественный</td>\n",
       "      <td>НП \"Студия игрового кино \"Лик\"</td>\n",
       "      <td>Россия</td>\n",
       "      <td>Е.Шиляева</td>\n",
       "      <td>К.Терещенко</td>\n",
       "      <td>«6+» - для детей старше 6 лет</td>\n",
       "      <td>NaN</td>\n",
       "      <td>NaN</td>\n",
       "      <td>NaN</td>\n",
       "      <td>NaN</td>\n",
       "      <td>99%</td>\n",
       "      <td>триллер,драма,детектив</td>\n",
       "      <td>NaN</td>\n",
       "    </tr>\n",
       "    <tr>\n",
       "      <th>1805</th>\n",
       "      <td>Спираль.</td>\n",
       "      <td>111001014</td>\n",
       "      <td>2014-01-30 12:00:00+00:00</td>\n",
       "      <td>Художественный</td>\n",
       "      <td>ООО \"Компания Питон\"</td>\n",
       "      <td>Россия</td>\n",
       "      <td>А.Волгин</td>\n",
       "      <td>Е.Ковалева</td>\n",
       "      <td>«12+» - для детей старше 12 лет</td>\n",
       "      <td>NaN</td>\n",
       "      <td>NaN</td>\n",
       "      <td>NaN</td>\n",
       "      <td>NaN</td>\n",
       "      <td>99%</td>\n",
       "      <td>аниме,мультфильм,ужасы</td>\n",
       "      <td>4,295.00</td>\n",
       "    </tr>\n",
       "    <tr>\n",
       "      <th>1874</th>\n",
       "      <td>Короткие истории о любви 2</td>\n",
       "      <td>121002615</td>\n",
       "      <td>2015-02-13 12:00:00+00:00</td>\n",
       "      <td>Художественный</td>\n",
       "      <td>Кавиар, Курт 13, СтритЛайт Филмз, Нэйер Дойче ...</td>\n",
       "      <td>Нидерланды - США - Германия - Канада - Франция...</td>\n",
       "      <td>Мэтью Аувро, Лео Брайдл, Бен Бренд, Ден Кларк,...</td>\n",
       "      <td>Мэри Пэт Бентел, Бен Бренд, Сиара Гиллан, Джор...</td>\n",
       "      <td>«18+» - запрещено для детей</td>\n",
       "      <td>NaN</td>\n",
       "      <td>NaN</td>\n",
       "      <td>NaN</td>\n",
       "      <td>NaN</td>\n",
       "      <td>83%</td>\n",
       "      <td>NaN</td>\n",
       "      <td>1,429,859.00</td>\n",
       "    </tr>\n",
       "    <tr>\n",
       "      <th>1899</th>\n",
       "      <td>Золушка /По сказке Шарля Перро/. Холодное торж...</td>\n",
       "      <td>121003615</td>\n",
       "      <td>2015-02-27 12:00:00+00:00</td>\n",
       "      <td>Художественный</td>\n",
       "      <td>Женр Филмз, Уолт Дисней Пикчерз</td>\n",
       "      <td>США</td>\n",
       "      <td>Кеннет Брана</td>\n",
       "      <td>Дэвид Бэррон, Саймон Кинберг, Эллисон Ширмур</td>\n",
       "      <td>«6+» - для детей старше 6 лет</td>\n",
       "      <td>NaN</td>\n",
       "      <td>NaN</td>\n",
       "      <td>NaN</td>\n",
       "      <td>NaN</td>\n",
       "      <td>64%</td>\n",
       "      <td>мюзикл,фэнтези,мелодрама</td>\n",
       "      <td>528,732,557.70</td>\n",
       "    </tr>\n",
       "    <tr>\n",
       "      <th>2126</th>\n",
       "      <td>Поездка к матери</td>\n",
       "      <td>111002015</td>\n",
       "      <td>2015-03-02 12:00:00+00:00</td>\n",
       "      <td>Художественный</td>\n",
       "      <td>ЗАО \"Киностудия \"М\"-Фильм\"</td>\n",
       "      <td>Россия</td>\n",
       "      <td>М.Косырев-Нестеров</td>\n",
       "      <td>М.Косырев-Нестеров</td>\n",
       "      <td>«16+» - для детей старше 16 лет</td>\n",
       "      <td>NaN</td>\n",
       "      <td>NaN</td>\n",
       "      <td>NaN</td>\n",
       "      <td>NaN</td>\n",
       "      <td>91%</td>\n",
       "      <td>драма,семейный</td>\n",
       "      <td>0.00</td>\n",
       "    </tr>\n",
       "    <tr>\n",
       "      <th>2146</th>\n",
       "      <td>Главный</td>\n",
       "      <td>111003415</td>\n",
       "      <td>2015-03-27 12:00:00+00:00</td>\n",
       "      <td>Художественный</td>\n",
       "      <td>ООО \"Киностудия \"МАСТЕР\"</td>\n",
       "      <td>Россия</td>\n",
       "      <td>Ю.Кара</td>\n",
       "      <td>Ю.Кара</td>\n",
       "      <td>«6+» - для детей старше 6 лет</td>\n",
       "      <td>0.00</td>\n",
       "      <td>10,000,000.00</td>\n",
       "      <td>40,000,000.00</td>\n",
       "      <td>Министерство культуры</td>\n",
       "      <td>94%</td>\n",
       "      <td>фантастика,боевик,комедия</td>\n",
       "      <td>334,750.00</td>\n",
       "    </tr>\n",
       "    <tr>\n",
       "      <th>2438</th>\n",
       "      <td>Самый рыжий Лис</td>\n",
       "      <td>111012715</td>\n",
       "      <td>2015-07-30 12:00:00+00:00</td>\n",
       "      <td>Художественный</td>\n",
       "      <td>ООО \"Продюсерский центр \"Ленфильм\"</td>\n",
       "      <td>Россия</td>\n",
       "      <td>А.Стреляная</td>\n",
       "      <td>А.Котелевский, Э.Пичугин</td>\n",
       "      <td>«6+» - для детей старше 6 лет</td>\n",
       "      <td>NaN</td>\n",
       "      <td>NaN</td>\n",
       "      <td>NaN</td>\n",
       "      <td>NaN</td>\n",
       "      <td>62%</td>\n",
       "      <td>фэнтези,семейный</td>\n",
       "      <td>NaN</td>\n",
       "    </tr>\n",
       "    <tr>\n",
       "      <th>2680</th>\n",
       "      <td>Год Белого Слона</td>\n",
       "      <td>111003915</td>\n",
       "      <td>2015-04-08 12:00:00+00:00</td>\n",
       "      <td>Художественный</td>\n",
       "      <td>ООО \"Творческое объединение ЮГ\"</td>\n",
       "      <td>Россия</td>\n",
       "      <td>Ю.Грымов</td>\n",
       "      <td>П.Поляков</td>\n",
       "      <td>«6+» - для детей старше 6 лет</td>\n",
       "      <td>NaN</td>\n",
       "      <td>NaN</td>\n",
       "      <td>NaN</td>\n",
       "      <td>NaN</td>\n",
       "      <td>79%</td>\n",
       "      <td>семейный</td>\n",
       "      <td>NaN</td>\n",
       "    </tr>\n",
       "    <tr>\n",
       "      <th>3139</th>\n",
       "      <td>Я умею вязать</td>\n",
       "      <td>111019615</td>\n",
       "      <td>2015-11-27 12:00:00+00:00</td>\n",
       "      <td>Художественный</td>\n",
       "      <td>ООО \"Белое Зеркало\"</td>\n",
       "      <td>Россия</td>\n",
       "      <td>Н.Степанова при участии С.Иванова</td>\n",
       "      <td>С.Кикнавелидзе, Д.Улюкаев</td>\n",
       "      <td>«16+» - для детей старше 16 лет</td>\n",
       "      <td>0.00</td>\n",
       "      <td>4,700,000.00</td>\n",
       "      <td>14,462,464.00</td>\n",
       "      <td>Министерство культуры</td>\n",
       "      <td>90%</td>\n",
       "      <td>драма</td>\n",
       "      <td>801,370.00</td>\n",
       "    </tr>\n",
       "    <tr>\n",
       "      <th>3431</th>\n",
       "      <td>Наурыз</td>\n",
       "      <td>131000217</td>\n",
       "      <td>2017-03-09 12:00:00+00:00</td>\n",
       "      <td>Художественный</td>\n",
       "      <td>Эс Джи</td>\n",
       "      <td>Республика Казахстан</td>\n",
       "      <td>Аскар Бисембин</td>\n",
       "      <td>Олег Головашкин, Алмас Султангазин</td>\n",
       "      <td>«12+» - для детей старше 12 лет</td>\n",
       "      <td>NaN</td>\n",
       "      <td>NaN</td>\n",
       "      <td>NaN</td>\n",
       "      <td>NaN</td>\n",
       "      <td>19%</td>\n",
       "      <td>комедия</td>\n",
       "      <td>37,960.00</td>\n",
       "    </tr>\n",
       "    <tr>\n",
       "      <th>3439</th>\n",
       "      <td>Семь диких историй</td>\n",
       "      <td>126005916</td>\n",
       "      <td>2016-11-28 12:00:00+00:00</td>\n",
       "      <td>Прочие</td>\n",
       "      <td>Макс Бэйкер, Джон Е.Брайан, Пьер-Луи Гарнон,  ...</td>\n",
       "      <td>США - Пуэрто-Рико - Франция</td>\n",
       "      <td>М.Бэйкер, Д.Е.Брайант, Д.Рондот, Я.Серсар, Д.С...</td>\n",
       "      <td>М.Бэйкер, Д.Е.Брайан, П.-Л.Гарнон, М.Х.Дельгад...</td>\n",
       "      <td>«18+» - запрещено для детей</td>\n",
       "      <td>NaN</td>\n",
       "      <td>NaN</td>\n",
       "      <td>NaN</td>\n",
       "      <td>NaN</td>\n",
       "      <td>88%</td>\n",
       "      <td>NaN</td>\n",
       "      <td>1,025,937.00</td>\n",
       "    </tr>\n",
       "    <tr>\n",
       "      <th>3446</th>\n",
       "      <td>Короткие истории о любви - 4</td>\n",
       "      <td>126006316</td>\n",
       "      <td>2016-12-30 12:00:00+00:00</td>\n",
       "      <td>Прочие</td>\n",
       "      <td>Нетворг Айлэнд Телевижн, Магнетфильм, Шорткатс...</td>\n",
       "      <td>Великобритания - Аргентина - США - Франция - Р...</td>\n",
       "      <td>Д.Адар, П.Антохин, М.Биасин, А.Бурунова, К.Кол...</td>\n",
       "      <td>Д.Адар, Д.Амсон, П.Антохин, А.Армстронг, С.Бил...</td>\n",
       "      <td>«18+» - запрещено для детей</td>\n",
       "      <td>NaN</td>\n",
       "      <td>NaN</td>\n",
       "      <td>NaN</td>\n",
       "      <td>NaN</td>\n",
       "      <td>83%</td>\n",
       "      <td>NaN</td>\n",
       "      <td>2,266,408.00</td>\n",
       "    </tr>\n",
       "    <tr>\n",
       "      <th>3514</th>\n",
       "      <td>Чужой дом</td>\n",
       "      <td>111015516</td>\n",
       "      <td>2016-09-14 12:00:00+00:00</td>\n",
       "      <td>Художественный</td>\n",
       "      <td>ООО \"Лига Продакшн\"</td>\n",
       "      <td>Россия, Грузия, Хорватия, Испания</td>\n",
       "      <td>Р.Глурджидзе</td>\n",
       "      <td>З.Магалашвили, К.Гечмен-Вальдек, Н.Горшкова</td>\n",
       "      <td>«12+» - для детей старше 12 лет</td>\n",
       "      <td>NaN</td>\n",
       "      <td>NaN</td>\n",
       "      <td>NaN</td>\n",
       "      <td>NaN</td>\n",
       "      <td>91%</td>\n",
       "      <td>драма</td>\n",
       "      <td>NaN</td>\n",
       "    </tr>\n",
       "    <tr>\n",
       "      <th>3585</th>\n",
       "      <td>Машины Страшилки. Серия \"Жутчайшая повесть о п...</td>\n",
       "      <td>114003916</td>\n",
       "      <td>2016-12-09 12:00:00+00:00</td>\n",
       "      <td>Анимационный</td>\n",
       "      <td>ООО Студия \"АНИМАККОРД\", АНИМАККОРД ЛТД.</td>\n",
       "      <td>Россия, Республика Кипр</td>\n",
       "      <td>Д.Червяцов</td>\n",
       "      <td>Д.Ловейко, О.Кузовков</td>\n",
       "      <td>«0+» - для любой зрительской аудитории</td>\n",
       "      <td>NaN</td>\n",
       "      <td>NaN</td>\n",
       "      <td>NaN</td>\n",
       "      <td>NaN</td>\n",
       "      <td>97%</td>\n",
       "      <td>мультфильм,ужасы,фэнтези</td>\n",
       "      <td>NaN</td>\n",
       "    </tr>\n",
       "    <tr>\n",
       "      <th>3786</th>\n",
       "      <td>Охотники</td>\n",
       "      <td>111017816</td>\n",
       "      <td>2016-02-06 12:00:00+00:00</td>\n",
       "      <td>Художественный</td>\n",
       "      <td>Селиверстов Александр Александрович</td>\n",
       "      <td>Россия</td>\n",
       "      <td>А.Селиверстов</td>\n",
       "      <td>Е.Тарковская, Т.Лагода, Д.Степанян</td>\n",
       "      <td>«16+» - для детей старше 16 лет</td>\n",
       "      <td>NaN</td>\n",
       "      <td>NaN</td>\n",
       "      <td>NaN</td>\n",
       "      <td>NaN</td>\n",
       "      <td>89%</td>\n",
       "      <td>фантастика,комедия,боевик</td>\n",
       "      <td>82,840.00</td>\n",
       "    </tr>\n",
       "    <tr>\n",
       "      <th>3948</th>\n",
       "      <td>Круиз.</td>\n",
       "      <td>211038210</td>\n",
       "      <td>2010-09-03 12:00:00+00:00</td>\n",
       "      <td>Художественный</td>\n",
       "      <td>ООО \"ЮНАЙТЕД МУЛЬТИМЕДИА ПРОДЖЕКТС\"</td>\n",
       "      <td>Россия</td>\n",
       "      <td>И.Ромащенко</td>\n",
       "      <td>Р.Атамалибеков</td>\n",
       "      <td>«16+» - для детей старше 16 лет</td>\n",
       "      <td>NaN</td>\n",
       "      <td>NaN</td>\n",
       "      <td>NaN</td>\n",
       "      <td>NaN</td>\n",
       "      <td>97%</td>\n",
       "      <td>приключения,комедия,фэнтези</td>\n",
       "      <td>NaN</td>\n",
       "    </tr>\n",
       "    <tr>\n",
       "      <th>5332</th>\n",
       "      <td>Добыча.</td>\n",
       "      <td>121009411</td>\n",
       "      <td>2011-06-15 12:00:00+00:00</td>\n",
       "      <td>Художественный</td>\n",
       "      <td>Афтер Дарк Филмз</td>\n",
       "      <td>США</td>\n",
       "      <td>Патрик Сиверсен</td>\n",
       "      <td>Закари Ти Брайан, Кристофер</td>\n",
       "      <td>«18+» - запрещено для детей</td>\n",
       "      <td>NaN</td>\n",
       "      <td>NaN</td>\n",
       "      <td>NaN</td>\n",
       "      <td>NaN</td>\n",
       "      <td>88%</td>\n",
       "      <td>фантастика,боевик,триллер</td>\n",
       "      <td>NaN</td>\n",
       "    </tr>\n",
       "    <tr>\n",
       "      <th>5455</th>\n",
       "      <td>Вечный холод</td>\n",
       "      <td>111006417</td>\n",
       "      <td>2017-08-28 12:00:00+00:00</td>\n",
       "      <td>Художественный</td>\n",
       "      <td>ЗАО \"Производственный комплекс \"ГЛАВКИНО\", ООО...</td>\n",
       "      <td>Россия</td>\n",
       "      <td>А.Мигачев</td>\n",
       "      <td>И.Бачурин</td>\n",
       "      <td>«18+» - запрещено для детей</td>\n",
       "      <td>NaN</td>\n",
       "      <td>NaN</td>\n",
       "      <td>NaN</td>\n",
       "      <td>NaN</td>\n",
       "      <td>83%</td>\n",
       "      <td>фэнтези,боевик,триллер</td>\n",
       "      <td>NaN</td>\n",
       "    </tr>\n",
       "    <tr>\n",
       "      <th>5821</th>\n",
       "      <td>Свинья</td>\n",
       "      <td>121007018</td>\n",
       "      <td>2018-04-11 12:00:00+00:00</td>\n",
       "      <td>Художественный</td>\n",
       "      <td>Дарк Прекёрсор Продакшен, Филмиран, Хедейт Филм</td>\n",
       "      <td>Иран</td>\n",
       "      <td>Мани Хагиги</td>\n",
       "      <td>Мани Хагиги</td>\n",
       "      <td>«18+» - запрещено для детей</td>\n",
       "      <td>NaN</td>\n",
       "      <td>NaN</td>\n",
       "      <td>NaN</td>\n",
       "      <td>NaN</td>\n",
       "      <td>94%</td>\n",
       "      <td>триллер,драма</td>\n",
       "      <td>1,587,221.51</td>\n",
       "    </tr>\n",
       "    <tr>\n",
       "      <th>5910</th>\n",
       "      <td>Мира</td>\n",
       "      <td>112000118</td>\n",
       "      <td>2018-06-04 12:00:00+00:00</td>\n",
       "      <td>Документальный</td>\n",
       "      <td>ООО \"Компания \"Новые люди\"</td>\n",
       "      <td>Россия</td>\n",
       "      <td>Д.Шабаев</td>\n",
       "      <td>Н.Мокрицкая</td>\n",
       "      <td>«18+» - запрещено для детей</td>\n",
       "      <td>NaN</td>\n",
       "      <td>NaN</td>\n",
       "      <td>NaN</td>\n",
       "      <td>NaN</td>\n",
       "      <td>94%</td>\n",
       "      <td>драма</td>\n",
       "      <td>NaN</td>\n",
       "    </tr>\n",
       "    <tr>\n",
       "      <th>6426</th>\n",
       "      <td>Памятные даты России. Партизаны и подпольщики</td>\n",
       "      <td>112013018</td>\n",
       "      <td>2018-11-28 12:00:00+00:00</td>\n",
       "      <td>Документальный</td>\n",
       "      <td>ООО Кинокомпания \"Вектор\"</td>\n",
       "      <td>Россия</td>\n",
       "      <td>Н.Иванова, А.Кузнецова</td>\n",
       "      <td>В.Коханович</td>\n",
       "      <td>«12+» - для детей старше 12 лет</td>\n",
       "      <td>NaN</td>\n",
       "      <td>NaN</td>\n",
       "      <td>NaN</td>\n",
       "      <td>NaN</td>\n",
       "      <td>91%</td>\n",
       "      <td>драма,биография</td>\n",
       "      <td>NaN</td>\n",
       "    </tr>\n",
       "    <tr>\n",
       "      <th>6616</th>\n",
       "      <td>ОТ ВОЙНЫ ДО НАШИХ ДНЕЙ</td>\n",
       "      <td>111026518</td>\n",
       "      <td>2019-01-21 12:00:00+00:00</td>\n",
       "      <td>Художественный</td>\n",
       "      <td>ИП Вайсман Анатолий Александрович</td>\n",
       "      <td>Россия</td>\n",
       "      <td>А.Сазонов, Е.Климович, А.Коломеец, С.Черникова...</td>\n",
       "      <td>Д.Руюежин, Л.Пятницкая, Д.Колеров, Э.Ким, А.Хомич</td>\n",
       "      <td>«12+» - для детей старше 12 лет</td>\n",
       "      <td>NaN</td>\n",
       "      <td>NaN</td>\n",
       "      <td>NaN</td>\n",
       "      <td>NaN</td>\n",
       "      <td>98%</td>\n",
       "      <td>фантастика,боевик</td>\n",
       "      <td>NaN</td>\n",
       "    </tr>\n",
       "    <tr>\n",
       "      <th>6737</th>\n",
       "      <td>Колесо времени</td>\n",
       "      <td>111003219</td>\n",
       "      <td>2019-03-01 12:00:00+00:00</td>\n",
       "      <td>Художественный</td>\n",
       "      <td>ООО \"БестМедиа\"</td>\n",
       "      <td>Россия</td>\n",
       "      <td>Б.Куломзин</td>\n",
       "      <td>Б.Куломзин</td>\n",
       "      <td>«6+» - для детей старше 6 лет</td>\n",
       "      <td>NaN</td>\n",
       "      <td>NaN</td>\n",
       "      <td>NaN</td>\n",
       "      <td>NaN</td>\n",
       "      <td>98%</td>\n",
       "      <td>фэнтези,приключения</td>\n",
       "      <td>34,992.00</td>\n",
       "    </tr>\n",
       "    <tr>\n",
       "      <th>6882</th>\n",
       "      <td>Животные рядом со Святыми</td>\n",
       "      <td>112003719</td>\n",
       "      <td>2019-05-03 12:00:00+00:00</td>\n",
       "      <td>Документальный</td>\n",
       "      <td>ООО \"Кинопрограмма \"XXI век\"</td>\n",
       "      <td>Россия</td>\n",
       "      <td>Т.Мирошник</td>\n",
       "      <td>В.Есинов, Е.Калинина</td>\n",
       "      <td>«0+» - для любой зрительской аудитории</td>\n",
       "      <td>NaN</td>\n",
       "      <td>NaN</td>\n",
       "      <td>NaN</td>\n",
       "      <td>NaN</td>\n",
       "      <td>99%</td>\n",
       "      <td>криминал,драма</td>\n",
       "      <td>NaN</td>\n",
       "    </tr>\n",
       "    <tr>\n",
       "      <th>7159</th>\n",
       "      <td>Анна Каренина. Интимный дневник</td>\n",
       "      <td>111013919</td>\n",
       "      <td>2019-10-23 12:00:00+00:00</td>\n",
       "      <td>Художественный</td>\n",
       "      <td>ООО \"РТВ\"</td>\n",
       "      <td>Россия</td>\n",
       "      <td>Ю.Грымов</td>\n",
       "      <td>Ю.Грымов</td>\n",
       "      <td>«16+» - для детей старше 16 лет</td>\n",
       "      <td>NaN</td>\n",
       "      <td>NaN</td>\n",
       "      <td>NaN</td>\n",
       "      <td>NaN</td>\n",
       "      <td>79%</td>\n",
       "      <td>драма</td>\n",
       "      <td>182,882.50</td>\n",
       "    </tr>\n",
       "    <tr>\n",
       "      <th>7277</th>\n",
       "      <td>Добыча</td>\n",
       "      <td>121028319</td>\n",
       "      <td>2019-10-03 12:00:00+00:00</td>\n",
       "      <td>Художественный</td>\n",
       "      <td>Блумхаус Продакшнз, Хайд Парк Интертейнмент, Т...</td>\n",
       "      <td>США</td>\n",
       "      <td>Франк Халфун</td>\n",
       "      <td>Ашок Амритрадж, Джейсон Блум, Трэвис Клафф</td>\n",
       "      <td>«16+» - для детей старше 16 лет</td>\n",
       "      <td>NaN</td>\n",
       "      <td>NaN</td>\n",
       "      <td>NaN</td>\n",
       "      <td>NaN</td>\n",
       "      <td>88%</td>\n",
       "      <td>фантастика,боевик,триллер</td>\n",
       "      <td>4,416,590.45</td>\n",
       "    </tr>\n",
       "  </tbody>\n",
       "</table>\n",
       "</div>"
      ],
      "text/plain": [
       "                                                  title   puNumber  \\\n",
       "259                                             Прошлое  221030715   \n",
       "1053                                   Песочный человек  121029212   \n",
       "1341                               Сказка о добре и Вре  111008913   \n",
       "1805                                           Спираль.  111001014   \n",
       "1874                         Короткие истории о любви 2  121002615   \n",
       "1899  Золушка /По сказке Шарля Перро/. Холодное торж...  121003615   \n",
       "2126                                   Поездка к матери  111002015   \n",
       "2146                                            Главный  111003415   \n",
       "2438                                    Самый рыжий Лис  111012715   \n",
       "2680                                   Год Белого Слона  111003915   \n",
       "3139                                      Я умею вязать  111019615   \n",
       "3431                                             Наурыз  131000217   \n",
       "3439                                 Семь диких историй  126005916   \n",
       "3446                       Короткие истории о любви - 4  126006316   \n",
       "3514                                          Чужой дом  111015516   \n",
       "3585  Машины Страшилки. Серия \"Жутчайшая повесть о п...  114003916   \n",
       "3786                                           Охотники  111017816   \n",
       "3948                                             Круиз.  211038210   \n",
       "5332                                            Добыча.  121009411   \n",
       "5455                                       Вечный холод  111006417   \n",
       "5821                                             Свинья  121007018   \n",
       "5910                                               Мира  112000118   \n",
       "6426      Памятные даты России. Партизаны и подпольщики  112013018   \n",
       "6616                             ОТ ВОЙНЫ ДО НАШИХ ДНЕЙ  111026518   \n",
       "6737                                     Колесо времени  111003219   \n",
       "6882                          Животные рядом со Святыми  112003719   \n",
       "7159                    Анна Каренина. Интимный дневник  111013919   \n",
       "7277                                             Добыча  121028319   \n",
       "\n",
       "               show_start_date             type  \\\n",
       "259  2015-07-29 12:00:00+00:00   Художественный   \n",
       "1053 2012-11-29 12:00:00+00:00   Художественный   \n",
       "1341 2013-11-15 12:00:00+00:00   Художественный   \n",
       "1805 2014-01-30 12:00:00+00:00   Художественный   \n",
       "1874 2015-02-13 12:00:00+00:00   Художественный   \n",
       "1899 2015-02-27 12:00:00+00:00   Художественный   \n",
       "2126 2015-03-02 12:00:00+00:00   Художественный   \n",
       "2146 2015-03-27 12:00:00+00:00   Художественный   \n",
       "2438 2015-07-30 12:00:00+00:00   Художественный   \n",
       "2680 2015-04-08 12:00:00+00:00   Художественный   \n",
       "3139 2015-11-27 12:00:00+00:00   Художественный   \n",
       "3431 2017-03-09 12:00:00+00:00   Художественный   \n",
       "3439 2016-11-28 12:00:00+00:00           Прочие   \n",
       "3446 2016-12-30 12:00:00+00:00           Прочие   \n",
       "3514 2016-09-14 12:00:00+00:00   Художественный   \n",
       "3585 2016-12-09 12:00:00+00:00     Анимационный   \n",
       "3786 2016-02-06 12:00:00+00:00   Художественный   \n",
       "3948 2010-09-03 12:00:00+00:00   Художественный   \n",
       "5332 2011-06-15 12:00:00+00:00   Художественный   \n",
       "5455 2017-08-28 12:00:00+00:00   Художественный   \n",
       "5821 2018-04-11 12:00:00+00:00   Художественный   \n",
       "5910 2018-06-04 12:00:00+00:00   Документальный   \n",
       "6426 2018-11-28 12:00:00+00:00   Документальный   \n",
       "6616 2019-01-21 12:00:00+00:00   Художественный   \n",
       "6737 2019-03-01 12:00:00+00:00   Художественный   \n",
       "6882 2019-05-03 12:00:00+00:00   Документальный   \n",
       "7159 2019-10-23 12:00:00+00:00   Художественный   \n",
       "7277 2019-10-03 12:00:00+00:00   Художественный   \n",
       "\n",
       "                                            film_studio  \\\n",
       "259   20 Сенчюри Фокс де Архентина, Чемо, ЭйчБи Филм...   \n",
       "1053                            Спотлайт Медиа Продакшн   \n",
       "1341                     НП \"Студия игрового кино \"Лик\"   \n",
       "1805                               ООО \"Компания Питон\"   \n",
       "1874  Кавиар, Курт 13, СтритЛайт Филмз, Нэйер Дойче ...   \n",
       "1899                    Женр Филмз, Уолт Дисней Пикчерз   \n",
       "2126                         ЗАО \"Киностудия \"М\"-Фильм\"   \n",
       "2146                           ООО \"Киностудия \"МАСТЕР\"   \n",
       "2438                 ООО \"Продюсерский центр \"Ленфильм\"   \n",
       "2680                    ООО \"Творческое объединение ЮГ\"   \n",
       "3139                                ООО \"Белое Зеркало\"   \n",
       "3431                                             Эс Джи   \n",
       "3439  Макс Бэйкер, Джон Е.Брайан, Пьер-Луи Гарнон,  ...   \n",
       "3446  Нетворг Айлэнд Телевижн, Магнетфильм, Шорткатс...   \n",
       "3514                                ООО \"Лига Продакшн\"   \n",
       "3585           ООО Студия \"АНИМАККОРД\", АНИМАККОРД ЛТД.   \n",
       "3786                Селиверстов Александр Александрович   \n",
       "3948                ООО \"ЮНАЙТЕД МУЛЬТИМЕДИА ПРОДЖЕКТС\"   \n",
       "5332                                   Афтер Дарк Филмз   \n",
       "5455  ЗАО \"Производственный комплекс \"ГЛАВКИНО\", ООО...   \n",
       "5821    Дарк Прекёрсор Продакшен, Филмиран, Хедейт Филм   \n",
       "5910                         ООО \"Компания \"Новые люди\"   \n",
       "6426                          ООО Кинокомпания \"Вектор\"   \n",
       "6616                  ИП Вайсман Анатолий Александрович   \n",
       "6737                                    ООО \"БестМедиа\"   \n",
       "6882                       ООО \"Кинопрограмма \"XXI век\"   \n",
       "7159                                          ООО \"РТВ\"   \n",
       "7277  Блумхаус Продакшнз, Хайд Парк Интертейнмент, Т...   \n",
       "\n",
       "                                     production_country  \\\n",
       "259                                Аргентина - Бразилия   \n",
       "1053                                          Швейцария   \n",
       "1341                                             Россия   \n",
       "1805                                             Россия   \n",
       "1874  Нидерланды - США - Германия - Канада - Франция...   \n",
       "1899                                                США   \n",
       "2126                                             Россия   \n",
       "2146                                             Россия   \n",
       "2438                                             Россия   \n",
       "2680                                             Россия   \n",
       "3139                                             Россия   \n",
       "3431                               Республика Казахстан   \n",
       "3439                       США - Пуэрто-Рико - Франция    \n",
       "3446  Великобритания - Аргентина - США - Франция - Р...   \n",
       "3514                  Россия, Грузия, Хорватия, Испания   \n",
       "3585                            Россия, Республика Кипр   \n",
       "3786                                             Россия   \n",
       "3948                                             Россия   \n",
       "5332                                                США   \n",
       "5455                                             Россия   \n",
       "5821                                               Иран   \n",
       "5910                                             Россия   \n",
       "6426                                             Россия   \n",
       "6616                                             Россия   \n",
       "6737                                             Россия   \n",
       "6882                                             Россия   \n",
       "7159                                             Россия   \n",
       "7277                                                США   \n",
       "\n",
       "                                               director  \\\n",
       "259                                       Эктор Бабенко   \n",
       "1053                                        Питер Луизи   \n",
       "1341                                          Е.Шиляева   \n",
       "1805                                           А.Волгин   \n",
       "1874  Мэтью Аувро, Лео Брайдл, Бен Бренд, Ден Кларк,...   \n",
       "1899                                       Кеннет Брана   \n",
       "2126                                 М.Косырев-Нестеров   \n",
       "2146                                             Ю.Кара   \n",
       "2438                                        А.Стреляная   \n",
       "2680                                           Ю.Грымов   \n",
       "3139                  Н.Степанова при участии С.Иванова   \n",
       "3431                                     Аскар Бисембин   \n",
       "3439  М.Бэйкер, Д.Е.Брайант, Д.Рондот, Я.Серсар, Д.С...   \n",
       "3446  Д.Адар, П.Антохин, М.Биасин, А.Бурунова, К.Кол...   \n",
       "3514                                       Р.Глурджидзе   \n",
       "3585                                         Д.Червяцов   \n",
       "3786                                      А.Селиверстов   \n",
       "3948                                        И.Ромащенко   \n",
       "5332                                    Патрик Сиверсен   \n",
       "5455                                          А.Мигачев   \n",
       "5821                                        Мани Хагиги   \n",
       "5910                                           Д.Шабаев   \n",
       "6426                             Н.Иванова, А.Кузнецова   \n",
       "6616  А.Сазонов, Е.Климович, А.Коломеец, С.Черникова...   \n",
       "6737                                         Б.Куломзин   \n",
       "6882                                         Т.Мирошник   \n",
       "7159                                           Ю.Грымов   \n",
       "7277                                       Франк Халфун   \n",
       "\n",
       "                                               producer  \\\n",
       "259            Эктор Бабенко, Оскар Крамер, Хуго Сидмэн   \n",
       "1053                           Дэвид Луизи, Питер Луизи   \n",
       "1341                                        К.Терещенко   \n",
       "1805                                         Е.Ковалева   \n",
       "1874  Мэри Пэт Бентел, Бен Бренд, Сиара Гиллан, Джор...   \n",
       "1899       Дэвид Бэррон, Саймон Кинберг, Эллисон Ширмур   \n",
       "2126                                 М.Косырев-Нестеров   \n",
       "2146                                             Ю.Кара   \n",
       "2438                           А.Котелевский, Э.Пичугин   \n",
       "2680                                          П.Поляков   \n",
       "3139                          С.Кикнавелидзе, Д.Улюкаев   \n",
       "3431                 Олег Головашкин, Алмас Султангазин   \n",
       "3439  М.Бэйкер, Д.Е.Брайан, П.-Л.Гарнон, М.Х.Дельгад...   \n",
       "3446  Д.Адар, Д.Амсон, П.Антохин, А.Армстронг, С.Бил...   \n",
       "3514        З.Магалашвили, К.Гечмен-Вальдек, Н.Горшкова   \n",
       "3585                              Д.Ловейко, О.Кузовков   \n",
       "3786                 Е.Тарковская, Т.Лагода, Д.Степанян   \n",
       "3948                                     Р.Атамалибеков   \n",
       "5332                        Закари Ти Брайан, Кристофер   \n",
       "5455                                          И.Бачурин   \n",
       "5821                                        Мани Хагиги   \n",
       "5910                                        Н.Мокрицкая   \n",
       "6426                                        В.Коханович   \n",
       "6616  Д.Руюежин, Л.Пятницкая, Д.Колеров, Э.Ким, А.Хомич   \n",
       "6737                                         Б.Куломзин   \n",
       "6882                               В.Есинов, Е.Калинина   \n",
       "7159                                           Ю.Грымов   \n",
       "7277         Ашок Амритрадж, Джейсон Блум, Трэвис Клафф   \n",
       "\n",
       "                             age_restriction  refundable_support  \\\n",
       "259          «16+» - для детей старше 16 лет                 NaN   \n",
       "1053         «16+» - для детей старше 16 лет                 NaN   \n",
       "1341           «6+» - для детей старше 6 лет                 NaN   \n",
       "1805         «12+» - для детей старше 12 лет                 NaN   \n",
       "1874             «18+» - запрещено для детей                 NaN   \n",
       "1899           «6+» - для детей старше 6 лет                 NaN   \n",
       "2126         «16+» - для детей старше 16 лет                 NaN   \n",
       "2146           «6+» - для детей старше 6 лет                0.00   \n",
       "2438           «6+» - для детей старше 6 лет                 NaN   \n",
       "2680           «6+» - для детей старше 6 лет                 NaN   \n",
       "3139         «16+» - для детей старше 16 лет                0.00   \n",
       "3431         «12+» - для детей старше 12 лет                 NaN   \n",
       "3439             «18+» - запрещено для детей                 NaN   \n",
       "3446             «18+» - запрещено для детей                 NaN   \n",
       "3514         «12+» - для детей старше 12 лет                 NaN   \n",
       "3585  «0+» - для любой зрительской аудитории                 NaN   \n",
       "3786         «16+» - для детей старше 16 лет                 NaN   \n",
       "3948         «16+» - для детей старше 16 лет                 NaN   \n",
       "5332             «18+» - запрещено для детей                 NaN   \n",
       "5455             «18+» - запрещено для детей                 NaN   \n",
       "5821             «18+» - запрещено для детей                 NaN   \n",
       "5910             «18+» - запрещено для детей                 NaN   \n",
       "6426         «12+» - для детей старше 12 лет                 NaN   \n",
       "6616         «12+» - для детей старше 12 лет                 NaN   \n",
       "6737           «6+» - для детей старше 6 лет                 NaN   \n",
       "6882  «0+» - для любой зрительской аудитории                 NaN   \n",
       "7159         «16+» - для детей старше 16 лет                 NaN   \n",
       "7277         «16+» - для детей старше 16 лет                 NaN   \n",
       "\n",
       "      nonrefundable_support        budget       financing_source ratings  \\\n",
       "259                     NaN           NaN                    NaN     99%   \n",
       "1053                    NaN           NaN                    NaN     97%   \n",
       "1341                    NaN           NaN                    NaN     99%   \n",
       "1805                    NaN           NaN                    NaN     99%   \n",
       "1874                    NaN           NaN                    NaN     83%   \n",
       "1899                    NaN           NaN                    NaN     64%   \n",
       "2126                    NaN           NaN                    NaN     91%   \n",
       "2146          10,000,000.00 40,000,000.00  Министерство культуры     94%   \n",
       "2438                    NaN           NaN                    NaN     62%   \n",
       "2680                    NaN           NaN                    NaN     79%   \n",
       "3139           4,700,000.00 14,462,464.00  Министерство культуры     90%   \n",
       "3431                    NaN           NaN                    NaN     19%   \n",
       "3439                    NaN           NaN                    NaN     88%   \n",
       "3446                    NaN           NaN                    NaN     83%   \n",
       "3514                    NaN           NaN                    NaN     91%   \n",
       "3585                    NaN           NaN                    NaN     97%   \n",
       "3786                    NaN           NaN                    NaN     89%   \n",
       "3948                    NaN           NaN                    NaN     97%   \n",
       "5332                    NaN           NaN                    NaN     88%   \n",
       "5455                    NaN           NaN                    NaN     83%   \n",
       "5821                    NaN           NaN                    NaN     94%   \n",
       "5910                    NaN           NaN                    NaN     94%   \n",
       "6426                    NaN           NaN                    NaN     91%   \n",
       "6616                    NaN           NaN                    NaN     98%   \n",
       "6737                    NaN           NaN                    NaN     98%   \n",
       "6882                    NaN           NaN                    NaN     99%   \n",
       "7159                    NaN           NaN                    NaN     79%   \n",
       "7277                    NaN           NaN                    NaN     88%   \n",
       "\n",
       "                           genres     box_office  \n",
       "259           ужасы,триллер,драма            NaN  \n",
       "1053     ужасы,фантастика,фэнтези            NaN  \n",
       "1341       триллер,драма,детектив            NaN  \n",
       "1805       аниме,мультфильм,ужасы       4,295.00  \n",
       "1874                          NaN   1,429,859.00  \n",
       "1899     мюзикл,фэнтези,мелодрама 528,732,557.70  \n",
       "2126               драма,семейный           0.00  \n",
       "2146    фантастика,боевик,комедия     334,750.00  \n",
       "2438             фэнтези,семейный            NaN  \n",
       "2680                     семейный            NaN  \n",
       "3139                        драма     801,370.00  \n",
       "3431                      комедия      37,960.00  \n",
       "3439                          NaN   1,025,937.00  \n",
       "3446                          NaN   2,266,408.00  \n",
       "3514                        драма            NaN  \n",
       "3585     мультфильм,ужасы,фэнтези            NaN  \n",
       "3786    фантастика,комедия,боевик      82,840.00  \n",
       "3948  приключения,комедия,фэнтези            NaN  \n",
       "5332    фантастика,боевик,триллер            NaN  \n",
       "5455       фэнтези,боевик,триллер            NaN  \n",
       "5821                триллер,драма   1,587,221.51  \n",
       "5910                        драма            NaN  \n",
       "6426              драма,биография            NaN  \n",
       "6616            фантастика,боевик            NaN  \n",
       "6737          фэнтези,приключения      34,992.00  \n",
       "6882               криминал,драма            NaN  \n",
       "7159                        драма     182,882.50  \n",
       "7277    фантастика,боевик,триллер   4,416,590.45  "
      ]
     },
     "metadata": {},
     "output_type": "display_data"
    }
   ],
   "source": [
    "display(df[(df['ratings'] == '99%') \n",
    "           | (df['ratings'] == '99%')  \n",
    "           | (df['ratings'] == '97%')  \n",
    "           | (df['ratings'] == '83%')\n",
    "           | (df['ratings'] == '64%')\n",
    "           | (df['ratings'] == '91%')\n",
    "           | (df['ratings'] == '94%')\n",
    "           | (df['ratings'] == '62%')\n",
    "           | (df['ratings'] == '79%')\n",
    "           | (df['ratings'] == '90%')\n",
    "           | (df['ratings'] == '19%')\n",
    "           | (df['ratings'] == '88%')\n",
    "           | (df['ratings'] == '89%')\n",
    "           | (df['ratings'] == '98%')\n",
    "           | (df['ratings'] == 'nan')])"
   ]
  },
  {
   "cell_type": "markdown",
   "id": "ee5a06c3",
   "metadata": {},
   "source": [
    "В столбце \"\" в место рейтинга фильма указано значение в процентах, для того чтобы востановить рейтинг фильмов был использовани источник сайт кинопоиска. Была написана функция для парсинга сайта. Колонки где информация о рейтинге отсутвует принято решение не заполнять значение"
   ]
  },
  {
   "cell_type": "code",
   "execution_count": 18,
   "id": "e5a0e2fa",
   "metadata": {},
   "outputs": [
    {
     "name": "stdout",
     "output_type": "stream",
     "text": [
      "☃☃☃☃☃☃☃☃☃☃☃☃☃☃☃☃☃☃☃☃☃☃☃☃☃☃☃☃☃☃☃☃☃☃☃☃☃☃☃☃☃☃☃☃☃☃☃☃☃☃☃☃☃☃☃☃☃☃☃☃☃☃☃☃☃☃☃☃☃☃☃☃☃☃☃☃☃☃☃☃☃☃☃☃☃☃☃☃☃☃☃☃☃☃☃☃☃☃☃☃☃☃☃☃☃☃☃☃☃☃☃☃☃☃☃☃☃☃☃☃☃☃☃☃☃☃☃☃☃☃☃☃☃☃☃☃☃☃☃☃☃☃☃☃☃☃☃☃☃☃☃☃☃☃☃☃☃☃☃☃☃☃☃☃☃☃☃☃☃☃☃☃☃☃☃☃☃☃☃☃☃☃☃☃☃☃☃☃☃☃☃☃☃☃☃☃☃☃☃☃☃☃☃☃☃☃☃☃☃☃☃☃☃☃☃☃☃☃☃☃☃☃☃☃☃☃☃☃☃☃☃☃☃☃☃☃☃☃☃☃☃☃☃☃☃☃☃☃☃☃☃☃☃☃☃☃☃☃☃☃☃☃☃☃☃☃☃☃☃☃☃☃☃☃☃☃☃☃☃☃☃☃☃☃☃☃☃☃☃☃☃☃☃☃☃☃☃☃☃☃☃☃☃☃☃☃☃☃☃☃☃☃☃☃☃☃☃☃☃☃☃☃☃☃☃☃☃☃☃☃☃☃☃☃☃☃☃☃☃☃☃☃☃☃☃☃☃☃☃☃☃☃☃☃☃☃☃☃☃☃☃☃☃☃☃☃☃☃☃☃☃☃☃☃☃☃☃☃☃☃☃☃☃☃☃☃☃☃☃☃☃☃☃☃☃☃☃☃☃☃☃☃☃☃☃☃☃☃☃☃☃☃☃☃☃☃☃☃☃☃☃☃☃☃☃☃☃☃☃☃☃☃☃☃☃☃☃☃☃☃☃☃☃☃☃☃☃☃☃☃☃☃☃☃☃☃☃☃☃☃☃☃☃☃☃☃☃☃☃☃☃☃☃☃☃☃☃☃☃☃☃☃☃☃☃☃☃☃☃☃☃☃☃☃☃☃☃☃☃☃☃☃☃☃☃☃☃☃☃☃☃☃☃☃☃☃☃☃☃☃☃☃☃☃☃☃☃☃☃☃☃☃☃☃☃☃☃☃☃☃☃☃☃☃☃☃☃☃☃☃☃☃☃☃☃☃☃☃☃☃☃☃☃☃☃☃☃☃☃☃☃☃☃☃☃☃☃☃☃☃☃☃☃☃☃☃☃☃☃☃☃☃☃☃☃☃☃☃☃☃☃☃☃☃☃☃☃☃☃☃☃☃☃☃☃☃☃☃☃☃☃☃☃☃☃☃☃☃☃☃☃☃☃☃☃☃☃☃☃☃☃☃☃☃☃☃☃☃☃☃☃☃☃☃☃☃☃☃☃☃☃☃☃☃☃☃☃☃☃☃☃☃☃☃☃☃☃☃☃☃☃☃☃☃☃☃☃☃☃☃☃☃☃☃☃☃☃☃☃☃☃☃☃☃☃☃☃☃☃☃☃☃☃☃☃☃☃☃☃☃☃☃☃☃☃☃☃☃☃☃☃☃☃☃☃☃☃☃☃☃☃☃☃☃☃☃☃☃☃☃☃☃☃☃☃☃☃☃☃☃☃☃☃☃☃☃☃☃☃☃☃☃☃☃☃☃☃☃☃☃☃☃☃☃☃☃☃☃☃☃☃☃☃☃☃☃☃☃☃☃☃☃☃☃☃☃☃☃☃☃☃☃☃☃☃☃☃☃☃☃☃☃☃☃☃☃☃☃☃☃☃☃☃☃☃☃☃☃☃☃☃☃☃☃☃☃☃☃☃☃☃☃☃☃☃☃☃☃☃☃☃☃☃☃☃☃☃☃☃☃☃☃☃☃☃☃☃☃☃☃☃☃☃☃☃☃☃☃☃☃☃☃☃☃☃☃☃☃☃☃☃☃☃☃☃☃☃☃☃☃☃☃☃☃☃☃☃☃☃☃☃☃☃☃☃☃☃☃☃☃☃☃☃☃☃☃☃☃☃☃☃☃☃☃☃☃☃☃☃☃☃☃☃☃☃☃☃☃☃☃☃☃☃☃☃☃☃☃☃☃☃☃☃☃☃☃☃☃☃☃☃☃☃☃☃☃☃☃☃☃☃☃☃☃☃☃ok найдено: 240\n"
     ]
    }
   ],
   "source": [
    "k = 0\n",
    "def rating_films(row):\n",
    "    name_film = row['title']\n",
    "    director_film = row['director']\n",
    "    ratings_film = row['ratings']\n",
    "    global k\n",
    "    if ('%' in str(ratings_film)) or ('nan' in str(ratings_film)) or (ratings_film == '') or (ratings_film == None) or ('NaN' in str(ratings_film)) or ('?' in str(ratings_film)):\n",
    "\n",
    "        # добавляем название фильма к адрессу поиска фильмов на сайте кинпоиск\n",
    "        url = 'https://www.kinopoisk.ru/index.php?kp_query=' + name_film\n",
    "        web = {'Mozilla/5.0 (Macintosh; Intel Mac OS X 10_15_7) AppleWebKit/605.1.15 (KHTML, like Gecko) Version/15.1 Safari/605.1.15'}\n",
    "        web_page = requests.get(url)\n",
    "        html_tag = BeautifulSoup(web_page.content, 'html.parser')\n",
    "        # подключаемся необходимым блокам для выгрузки данных\n",
    "        c1 = html_tag.findAll(\"p\", {\"class\": \"name\"})\n",
    "        c2 = html_tag.findAll(\"div\", {\"class\": \"right\"})\n",
    "        name = []\n",
    "        director = []\n",
    "        reg = []\n",
    "        print('☃', end='')\n",
    "        for i in range(len(c1)):\n",
    "            # конкретизируем какие данные о фильмах забираем\n",
    "            m = c1[i].findAll(\"a\", {\"class\": \"js-serp-metrika\"})\n",
    "            y = c1[i].findAll(\"a\", {\"class\": \"lined js-serp-metrika\"})\n",
    "\n",
    "            for j in m:\n",
    "                name.append(j.text)\n",
    "\n",
    "            for j1 in y:\n",
    "                director.append(j1.text)\n",
    "\n",
    "        for i in range(len(c2)):\n",
    "\n",
    "            r = c2[i].findAll(\"div\", {\"class\": \"rating\"})\n",
    "\n",
    "\n",
    "            for j in r:\n",
    "                reg.append(j.text)\n",
    "\n",
    "        \n",
    "\n",
    "        films = list(zip_longest(name, director, reg, fillvalue='?'))\n",
    "\n",
    "\n",
    "\n",
    "\n",
    "        for i in range(len(films)):\n",
    "            t = films[i][0]\n",
    "            t1 = films[i][1]\n",
    "\n",
    "            if (name_film.lower() in t.lower()) and ('%' in str(ratings_film)):\n",
    "                k += 1\n",
    "                return films[i][2].strip()\n",
    "            elif (name_film.lower() in t.lower()) and (('nan' in str(ratings_film)) or (ratings_film == '') or (ratings_film == None) or ('NaN' in str(ratings_film))):\n",
    "                k += 1\n",
    "                return films[i][2].strip()\n",
    "            else:\n",
    "                pass\n",
    "    elif ratings_film:\n",
    "        return ratings_film.strip()\n",
    "    else:\n",
    "        pass\n",
    "\n",
    "\n",
    "df['ratings'] = df.apply(rating_films, axis=1) \n",
    "print('ok', 'найдено:', k)"
   ]
  },
  {
   "cell_type": "markdown",
   "id": "04745a62",
   "metadata": {},
   "source": [
    "Как видно после парсинга наденно 240 недостоющих рейтингов. Было пропусков 967"
   ]
  },
  {
   "cell_type": "code",
   "execution_count": 19,
   "id": "7911c480",
   "metadata": {},
   "outputs": [
    {
     "data": {
      "text/plain": [
       "array(['7.2', '6.6', '6.8', '7.7', '8.3', '8.0', '7.8', '8.1', '7.1',\n",
       "       '6.0', '7.4', '5.8', '8.7', '6.3', '6.9', '5.0', '4.3', '7.3',\n",
       "       '7.0', '6.4', None, '8.2', '7.5', '6.7', '7.9', '5.9', '6.2',\n",
       "       '5.6', '6.5', '2.4', '7.6', '6.1', '8.6', '8.5', '8.8', '5.5',\n",
       "       '5.1', '5.7', '5.4', '4.4', '4.5', '5.3', '4.1', '8.4', '2.6',\n",
       "       '3.8', '4.6', '4.8', '4.0', '3.0', '1.6', '4.2', '5.2', '4.7',\n",
       "       '4.9', '2.9', '3.9', '2.7', '3.3', '?', '3.7', '1.4', '3.1', '3.5',\n",
       "       '3.2', '2.8', '1.5', '2.1', '2.5', '9.2', '3.4', '1.1', '3.6',\n",
       "       '1.0', '1.3', '1.9', '1.8', '1.2', '1.7', '9.0', '8.9', '9.1'],\n",
       "      dtype=object)"
      ]
     },
     "execution_count": 19,
     "metadata": {},
     "output_type": "execute_result"
    }
   ],
   "source": [
    "df['ratings'].unique()"
   ]
  },
  {
   "cell_type": "code",
   "execution_count": 20,
   "id": "fe385e11",
   "metadata": {
    "scrolled": false
   },
   "outputs": [
    {
     "data": {
      "text/html": [
       "<div>\n",
       "<style scoped>\n",
       "    .dataframe tbody tr th:only-of-type {\n",
       "        vertical-align: middle;\n",
       "    }\n",
       "\n",
       "    .dataframe tbody tr th {\n",
       "        vertical-align: top;\n",
       "    }\n",
       "\n",
       "    .dataframe thead th {\n",
       "        text-align: right;\n",
       "    }\n",
       "</style>\n",
       "<table border=\"1\" class=\"dataframe\">\n",
       "  <thead>\n",
       "    <tr style=\"text-align: right;\">\n",
       "      <th></th>\n",
       "      <th>title</th>\n",
       "      <th>puNumber</th>\n",
       "      <th>show_start_date</th>\n",
       "      <th>type</th>\n",
       "      <th>film_studio</th>\n",
       "      <th>production_country</th>\n",
       "      <th>director</th>\n",
       "      <th>producer</th>\n",
       "      <th>age_restriction</th>\n",
       "      <th>refundable_support</th>\n",
       "      <th>nonrefundable_support</th>\n",
       "      <th>budget</th>\n",
       "      <th>financing_source</th>\n",
       "      <th>ratings</th>\n",
       "      <th>genres</th>\n",
       "      <th>box_office</th>\n",
       "    </tr>\n",
       "  </thead>\n",
       "  <tbody>\n",
       "    <tr>\n",
       "      <th>881</th>\n",
       "      <td>Президент и бомж</td>\n",
       "      <td>131000312</td>\n",
       "      <td>2012-09-05 12:00:00+00:00</td>\n",
       "      <td>Художественный</td>\n",
       "      <td>ООО \"Акбата Фильм\"</td>\n",
       "      <td>Киргизия</td>\n",
       "      <td>Ырыс Окенова</td>\n",
       "      <td>Омурзак Толобеков</td>\n",
       "      <td>«16+» - для детей старше 16 лет</td>\n",
       "      <td>NaN</td>\n",
       "      <td>NaN</td>\n",
       "      <td>NaN</td>\n",
       "      <td>NaN</td>\n",
       "      <td>?</td>\n",
       "      <td>NaN</td>\n",
       "      <td>NaN</td>\n",
       "    </tr>\n",
       "    <tr>\n",
       "      <th>899</th>\n",
       "      <td>Фэтбой Слим Лайв</td>\n",
       "      <td>126002312</td>\n",
       "      <td>2012-08-29 12:00:00+00:00</td>\n",
       "      <td>Прочие</td>\n",
       "      <td>Полиграм Мьюзик Пабл, Соутерн Френд Рекордс, Э...</td>\n",
       "      <td>Австралия</td>\n",
       "      <td>Мэт Аскем</td>\n",
       "      <td>Гэрри Блэкберн, Норман Кук, Селия Мор, Джастин...</td>\n",
       "      <td>«0+» - для любой зрительской аудитории</td>\n",
       "      <td>NaN</td>\n",
       "      <td>NaN</td>\n",
       "      <td>NaN</td>\n",
       "      <td>NaN</td>\n",
       "      <td>?</td>\n",
       "      <td>NaN</td>\n",
       "      <td>NaN</td>\n",
       "    </tr>\n",
       "    <tr>\n",
       "      <th>2374</th>\n",
       "      <td>Живало-бывало</td>\n",
       "      <td>111022914</td>\n",
       "      <td>2014-12-02 12:00:00+00:00</td>\n",
       "      <td>Художественный</td>\n",
       "      <td>ООО \"Кинокомпания \"Эрн\"</td>\n",
       "      <td>Россия</td>\n",
       "      <td>Е.Барханов</td>\n",
       "      <td>А.Морозов, В.Орел</td>\n",
       "      <td>«16+» - для детей старше 16 лет</td>\n",
       "      <td>NaN</td>\n",
       "      <td>NaN</td>\n",
       "      <td>NaN</td>\n",
       "      <td>NaN</td>\n",
       "      <td>?</td>\n",
       "      <td>NaN</td>\n",
       "      <td>NaN</td>\n",
       "    </tr>\n",
       "    <tr>\n",
       "      <th>2381</th>\n",
       "      <td>Звёздная карта</td>\n",
       "      <td>121029014</td>\n",
       "      <td>2014-12-17 12:00:00+00:00</td>\n",
       "      <td>Художественный</td>\n",
       "      <td>Просперо Пикчерз, Сентиент Интертейнмент, Эс Б...</td>\n",
       "      <td>Канада - США - Германия - Франция</td>\n",
       "      <td>Дэвид Кроненберг</td>\n",
       "      <td>Мартин Кац, Мишель Меркт, Саид Бен Саид</td>\n",
       "      <td>«18+» - запрещено для детей</td>\n",
       "      <td>NaN</td>\n",
       "      <td>NaN</td>\n",
       "      <td>NaN</td>\n",
       "      <td>NaN</td>\n",
       "      <td>?</td>\n",
       "      <td>NaN</td>\n",
       "      <td>123,190.00</td>\n",
       "    </tr>\n",
       "    <tr>\n",
       "      <th>2529</th>\n",
       "      <td>Чёрная месса</td>\n",
       "      <td>121021415</td>\n",
       "      <td>2015-10-23 12:00:00+00:00</td>\n",
       "      <td>Художественный</td>\n",
       "      <td>Уорнер Бразерс, Кросс Крик Пикчерз, Гризби Про...</td>\n",
       "      <td>США</td>\n",
       "      <td>Скотт Купер</td>\n",
       "      <td>Джон Лешер, Брайан Оливер</td>\n",
       "      <td>«18+» - запрещено для детей</td>\n",
       "      <td>NaN</td>\n",
       "      <td>NaN</td>\n",
       "      <td>NaN</td>\n",
       "      <td>NaN</td>\n",
       "      <td>?</td>\n",
       "      <td>NaN</td>\n",
       "      <td>136,223,214.80</td>\n",
       "    </tr>\n",
       "    <tr>\n",
       "      <th>2695</th>\n",
       "      <td>МУЛЬТ в кино. Выпуск № 12</td>\n",
       "      <td>114002115</td>\n",
       "      <td>2015-08-20 12:00:00+00:00</td>\n",
       "      <td>Анимационный</td>\n",
       "      <td>ООО \"Студия анимационного кино \"Мельница\", ООО...</td>\n",
       "      <td>Россия-Кипр</td>\n",
       "      <td>В.Пономарёв, А.Миронов, Е.Салабай, Н.Мальгина</td>\n",
       "      <td>Т.Цыварева, А.Златопольский, В.Воля, Е.Головин...</td>\n",
       "      <td>«0+» - для любой зрительской аудитории</td>\n",
       "      <td>NaN</td>\n",
       "      <td>NaN</td>\n",
       "      <td>NaN</td>\n",
       "      <td>NaN</td>\n",
       "      <td>?</td>\n",
       "      <td>NaN</td>\n",
       "      <td>2,591,302.50</td>\n",
       "    </tr>\n",
       "    <tr>\n",
       "      <th>3431</th>\n",
       "      <td>Наурыз</td>\n",
       "      <td>131000217</td>\n",
       "      <td>2017-03-09 12:00:00+00:00</td>\n",
       "      <td>Художественный</td>\n",
       "      <td>Эс Джи</td>\n",
       "      <td>Республика Казахстан</td>\n",
       "      <td>Аскар Бисембин</td>\n",
       "      <td>Олег Головашкин, Алмас Султангазин</td>\n",
       "      <td>«12+» - для детей старше 12 лет</td>\n",
       "      <td>NaN</td>\n",
       "      <td>NaN</td>\n",
       "      <td>NaN</td>\n",
       "      <td>NaN</td>\n",
       "      <td>?</td>\n",
       "      <td>комедия</td>\n",
       "      <td>37,960.00</td>\n",
       "    </tr>\n",
       "    <tr>\n",
       "      <th>3447</th>\n",
       "      <td>Апостасия</td>\n",
       "      <td>111000317</td>\n",
       "      <td>2017-01-18 12:00:00+00:00</td>\n",
       "      <td>Художественный</td>\n",
       "      <td>ООО \"ТПО Кинокомпания М2Ф\"</td>\n",
       "      <td>Россия</td>\n",
       "      <td>А.Мурадов</td>\n",
       "      <td>А.Мурадов, Р.Филатов, А.Голодницкий</td>\n",
       "      <td>«16+» - для детей старше 16 лет</td>\n",
       "      <td>NaN</td>\n",
       "      <td>NaN</td>\n",
       "      <td>NaN</td>\n",
       "      <td>NaN</td>\n",
       "      <td>?</td>\n",
       "      <td>NaN</td>\n",
       "      <td>NaN</td>\n",
       "    </tr>\n",
       "    <tr>\n",
       "      <th>4936</th>\n",
       "      <td>БИРМИНГЕМСКИЙ ОРНАМЕНТ</td>\n",
       "      <td>111006611</td>\n",
       "      <td>2011-10-03 12:00:00+00:00</td>\n",
       "      <td>Художественный</td>\n",
       "      <td>Фонд поддержки независимого и экспериментально...</td>\n",
       "      <td>Россия</td>\n",
       "      <td>Ю.Лейдерман, А.Сильвестров</td>\n",
       "      <td>А.Сильвестров</td>\n",
       "      <td>«16+» - для детей старше 16 лет</td>\n",
       "      <td>NaN</td>\n",
       "      <td>NaN</td>\n",
       "      <td>NaN</td>\n",
       "      <td>NaN</td>\n",
       "      <td>?</td>\n",
       "      <td>NaN</td>\n",
       "      <td>NaN</td>\n",
       "    </tr>\n",
       "    <tr>\n",
       "      <th>5816</th>\n",
       "      <td>Невероятные приключения Нильса</td>\n",
       "      <td>214003818</td>\n",
       "      <td>2018-04-16 12:00:00+00:00</td>\n",
       "      <td>Анимационный</td>\n",
       "      <td>ООО \"АА студио\"</td>\n",
       "      <td>Россия</td>\n",
       "      <td>А.Котёночкин</td>\n",
       "      <td>А.Митрошенков, Н.Гюзалян, А.Ованнисян</td>\n",
       "      <td>«0+» - для любой зрительской аудитории</td>\n",
       "      <td>NaN</td>\n",
       "      <td>NaN</td>\n",
       "      <td>NaN</td>\n",
       "      <td>NaN</td>\n",
       "      <td>?</td>\n",
       "      <td>NaN</td>\n",
       "      <td>NaN</td>\n",
       "    </tr>\n",
       "    <tr>\n",
       "      <th>5892</th>\n",
       "      <td>Байгал</td>\n",
       "      <td>111006218</td>\n",
       "      <td>2018-05-29 12:00:00+00:00</td>\n",
       "      <td>Художественный</td>\n",
       "      <td>РОООО СК РТ</td>\n",
       "      <td>Россия</td>\n",
       "      <td>И.Ягафаров</td>\n",
       "      <td>И.Ягафаров</td>\n",
       "      <td>«12+» - для детей старше 12 лет</td>\n",
       "      <td>NaN</td>\n",
       "      <td>NaN</td>\n",
       "      <td>NaN</td>\n",
       "      <td>NaN</td>\n",
       "      <td>?</td>\n",
       "      <td>NaN</td>\n",
       "      <td>NaN</td>\n",
       "    </tr>\n",
       "    <tr>\n",
       "      <th>5915</th>\n",
       "      <td>Крым. Крылья</td>\n",
       "      <td>112000318</td>\n",
       "      <td>2018-06-29 12:00:00+00:00</td>\n",
       "      <td>Документальный</td>\n",
       "      <td>ООО \"ВВП Альянс\"</td>\n",
       "      <td>Россия</td>\n",
       "      <td>А.Безрук</td>\n",
       "      <td>А.Казанкова, М.Королев</td>\n",
       "      <td>«6+» - для детей старше 6 лет</td>\n",
       "      <td>NaN</td>\n",
       "      <td>NaN</td>\n",
       "      <td>NaN</td>\n",
       "      <td>NaN</td>\n",
       "      <td>?</td>\n",
       "      <td>NaN</td>\n",
       "      <td>NaN</td>\n",
       "    </tr>\n",
       "    <tr>\n",
       "      <th>5992</th>\n",
       "      <td>Снегозавр</td>\n",
       "      <td>114002718</td>\n",
       "      <td>2018-07-06 12:00:00+00:00</td>\n",
       "      <td>Анимационный</td>\n",
       "      <td>ФГУП \"ТПО \"Киностудия \"Союзмультфильм\"</td>\n",
       "      <td>Россия</td>\n",
       "      <td>А.Кузина</td>\n",
       "      <td>ФГУП \"ТПО \"Киностудия \"Союзмультфильм\"</td>\n",
       "      <td>«0+» - для любой зрительской аудитории</td>\n",
       "      <td>NaN</td>\n",
       "      <td>NaN</td>\n",
       "      <td>NaN</td>\n",
       "      <td>NaN</td>\n",
       "      <td>?</td>\n",
       "      <td>NaN</td>\n",
       "      <td>NaN</td>\n",
       "    </tr>\n",
       "    <tr>\n",
       "      <th>6015</th>\n",
       "      <td>Аршалуйс</td>\n",
       "      <td>111011218</td>\n",
       "      <td>2016-07-16 12:00:00+00:00</td>\n",
       "      <td>Художественный</td>\n",
       "      <td>ООО Медиагруппа \"АЙК\"</td>\n",
       "      <td>Россия</td>\n",
       "      <td>Э.Арутюнов, А.Алексиади</td>\n",
       "      <td>Э.Арутюнов</td>\n",
       "      <td>«12+» - для детей старше 12 лет</td>\n",
       "      <td>NaN</td>\n",
       "      <td>NaN</td>\n",
       "      <td>NaN</td>\n",
       "      <td>NaN</td>\n",
       "      <td>?</td>\n",
       "      <td>NaN</td>\n",
       "      <td>NaN</td>\n",
       "    </tr>\n",
       "    <tr>\n",
       "      <th>6023</th>\n",
       "      <td>ОСАННА</td>\n",
       "      <td>112002618</td>\n",
       "      <td>2018-08-01 12:00:00+00:00</td>\n",
       "      <td>Документальный</td>\n",
       "      <td>ИП Барыкин Алексей Александрович</td>\n",
       "      <td>Россия</td>\n",
       "      <td>А.Барыкин</td>\n",
       "      <td>А.Барыкин</td>\n",
       "      <td>«12+» - для детей старше 12 лет</td>\n",
       "      <td>NaN</td>\n",
       "      <td>NaN</td>\n",
       "      <td>NaN</td>\n",
       "      <td>NaN</td>\n",
       "      <td>?</td>\n",
       "      <td>NaN</td>\n",
       "      <td>NaN</td>\n",
       "    </tr>\n",
       "    <tr>\n",
       "      <th>6053</th>\n",
       "      <td>Диктор Советского Союза</td>\n",
       "      <td>112003518</td>\n",
       "      <td>2018-07-25 12:00:00+00:00</td>\n",
       "      <td>Документальный</td>\n",
       "      <td>ООО \"Студия-А\"</td>\n",
       "      <td>Россия</td>\n",
       "      <td>И.Фирсова</td>\n",
       "      <td>Е.Кривцов</td>\n",
       "      <td>«12+» - для детей старше 12 лет</td>\n",
       "      <td>NaN</td>\n",
       "      <td>NaN</td>\n",
       "      <td>NaN</td>\n",
       "      <td>NaN</td>\n",
       "      <td>?</td>\n",
       "      <td>NaN</td>\n",
       "      <td>NaN</td>\n",
       "    </tr>\n",
       "    <tr>\n",
       "      <th>6070</th>\n",
       "      <td>Митина любовь</td>\n",
       "      <td>114003518</td>\n",
       "      <td>2018-08-01 12:00:00+00:00</td>\n",
       "      <td>Анимационный</td>\n",
       "      <td>АНО Школа-Студия анимационного кино \"ШАР\"</td>\n",
       "      <td>Россия</td>\n",
       "      <td>С.Филиппова</td>\n",
       "      <td>Н.Маковский</td>\n",
       "      <td>«12+» - для детей старше 12 лет</td>\n",
       "      <td>NaN</td>\n",
       "      <td>NaN</td>\n",
       "      <td>NaN</td>\n",
       "      <td>NaN</td>\n",
       "      <td>?</td>\n",
       "      <td>NaN</td>\n",
       "      <td>NaN</td>\n",
       "    </tr>\n",
       "    <tr>\n",
       "      <th>6086</th>\n",
       "      <td>Послевкусие</td>\n",
       "      <td>111012718</td>\n",
       "      <td>2018-08-01 12:00:00+00:00</td>\n",
       "      <td>Художественный</td>\n",
       "      <td>Заозёрский Георгий Игоревич</td>\n",
       "      <td>Россия</td>\n",
       "      <td>Г.Заозёрский</td>\n",
       "      <td>Р.Дишдишян</td>\n",
       "      <td>«16+» - для детей старше 16 лет</td>\n",
       "      <td>NaN</td>\n",
       "      <td>NaN</td>\n",
       "      <td>NaN</td>\n",
       "      <td>NaN</td>\n",
       "      <td>?</td>\n",
       "      <td>NaN</td>\n",
       "      <td>NaN</td>\n",
       "    </tr>\n",
       "    <tr>\n",
       "      <th>6137</th>\n",
       "      <td>Лорик</td>\n",
       "      <td>111014918</td>\n",
       "      <td>2018-08-12 12:00:00+00:00</td>\n",
       "      <td>Художественный</td>\n",
       "      <td>Минасян Мартирос Константинович</td>\n",
       "      <td>Россия</td>\n",
       "      <td>А.Злобин</td>\n",
       "      <td>М.Минасян, М.Погосян</td>\n",
       "      <td>«18+» - запрещено для детей</td>\n",
       "      <td>NaN</td>\n",
       "      <td>NaN</td>\n",
       "      <td>NaN</td>\n",
       "      <td>NaN</td>\n",
       "      <td>?</td>\n",
       "      <td>NaN</td>\n",
       "      <td>NaN</td>\n",
       "    </tr>\n",
       "    <tr>\n",
       "      <th>6177</th>\n",
       "      <td>Вертолёты</td>\n",
       "      <td>112006918</td>\n",
       "      <td>2018-09-26 12:00:00+00:00</td>\n",
       "      <td>Документальный</td>\n",
       "      <td>ООО \"Космосфильм\"</td>\n",
       "      <td>Россия</td>\n",
       "      <td>Д.Кубасов</td>\n",
       "      <td>Т.Пендюрин</td>\n",
       "      <td>«16+» - для детей старше 16 лет</td>\n",
       "      <td>NaN</td>\n",
       "      <td>NaN</td>\n",
       "      <td>NaN</td>\n",
       "      <td>NaN</td>\n",
       "      <td>?</td>\n",
       "      <td>NaN</td>\n",
       "      <td>136,355.00</td>\n",
       "    </tr>\n",
       "    <tr>\n",
       "      <th>6209</th>\n",
       "      <td>Похищенные сокровища Европы</td>\n",
       "      <td>126001518</td>\n",
       "      <td>2018-09-06 12:00:00+00:00</td>\n",
       "      <td>Прочие</td>\n",
       "      <td>3D Продуциони, Нексо Диджитал</td>\n",
       "      <td>Италия, Франция, Германия</td>\n",
       "      <td>Клаудио Поли</td>\n",
       "      <td>Вероника Ботанелли</td>\n",
       "      <td>«16+» - для детей старше 16 лет</td>\n",
       "      <td>NaN</td>\n",
       "      <td>NaN</td>\n",
       "      <td>NaN</td>\n",
       "      <td>NaN</td>\n",
       "      <td>?</td>\n",
       "      <td>NaN</td>\n",
       "      <td>NaN</td>\n",
       "    </tr>\n",
       "    <tr>\n",
       "      <th>6230</th>\n",
       "      <td>Своя республика</td>\n",
       "      <td>112008718</td>\n",
       "      <td>2018-09-11 12:00:00+00:00</td>\n",
       "      <td>Документальный</td>\n",
       "      <td>АО \"ТПО \"Киностудия им. М.Горького\"</td>\n",
       "      <td>Россия</td>\n",
       "      <td>А.Полунина</td>\n",
       "      <td>С.Зернов</td>\n",
       "      <td>«18+» - запрещено для детей</td>\n",
       "      <td>NaN</td>\n",
       "      <td>NaN</td>\n",
       "      <td>NaN</td>\n",
       "      <td>NaN</td>\n",
       "      <td>?</td>\n",
       "      <td>NaN</td>\n",
       "      <td>NaN</td>\n",
       "    </tr>\n",
       "    <tr>\n",
       "      <th>6233</th>\n",
       "      <td>Кошка Бяка и хороший мальчик</td>\n",
       "      <td>114006018</td>\n",
       "      <td>2018-09-14 12:00:00+00:00</td>\n",
       "      <td>Анимационный</td>\n",
       "      <td>ООО \"СТУДИЯ ПАРОВОЗ\"</td>\n",
       "      <td>Россия</td>\n",
       "      <td>Р.Верещак</td>\n",
       "      <td>А.Сметанкин, Е.Головин, Т.Цыварева</td>\n",
       "      <td>«0+» - для любой зрительской аудитории</td>\n",
       "      <td>NaN</td>\n",
       "      <td>NaN</td>\n",
       "      <td>NaN</td>\n",
       "      <td>NaN</td>\n",
       "      <td>?</td>\n",
       "      <td>NaN</td>\n",
       "      <td>NaN</td>\n",
       "    </tr>\n",
       "    <tr>\n",
       "      <th>6257</th>\n",
       "      <td>ИЗБРАННИКИ</td>\n",
       "      <td>112009018</td>\n",
       "      <td>2018-09-27 12:00:00+00:00</td>\n",
       "      <td>Документальный</td>\n",
       "      <td>ООО \"Студия ТРЕТИЙ РИМ\"</td>\n",
       "      <td>Россия</td>\n",
       "      <td>А.Голуб</td>\n",
       "      <td>Е.Миронов, А.Новин, Е.Бренькова, А.Темникова</td>\n",
       "      <td>«12+» - для детей старше 12 лет</td>\n",
       "      <td>NaN</td>\n",
       "      <td>NaN</td>\n",
       "      <td>NaN</td>\n",
       "      <td>NaN</td>\n",
       "      <td>?</td>\n",
       "      <td>NaN</td>\n",
       "      <td>NaN</td>\n",
       "    </tr>\n",
       "    <tr>\n",
       "      <th>6337</th>\n",
       "      <td>Техническая эстетика</td>\n",
       "      <td>112010718</td>\n",
       "      <td>2018-10-25 12:00:00+00:00</td>\n",
       "      <td>Документальный</td>\n",
       "      <td>Фонд \"Возрождение\"</td>\n",
       "      <td>Россия</td>\n",
       "      <td>Л.Лысцов</td>\n",
       "      <td>Т.Хамитова</td>\n",
       "      <td>«0+» - для любой зрительской аудитории</td>\n",
       "      <td>NaN</td>\n",
       "      <td>NaN</td>\n",
       "      <td>NaN</td>\n",
       "      <td>NaN</td>\n",
       "      <td>?</td>\n",
       "      <td>NaN</td>\n",
       "      <td>NaN</td>\n",
       "    </tr>\n",
       "    <tr>\n",
       "      <th>6362</th>\n",
       "      <td>Шахматы</td>\n",
       "      <td>114007118</td>\n",
       "      <td>2018-11-12 12:00:00+00:00</td>\n",
       "      <td>Анимационный</td>\n",
       "      <td>ФГУП \"ТПО \"Киностудия \"Союзмультфильм\"</td>\n",
       "      <td>Россия</td>\n",
       "      <td>А.Почивалов</td>\n",
       "      <td>Б.Машковцев, С.Струсовский</td>\n",
       "      <td>«12+» - для детей старше 12 лет</td>\n",
       "      <td>NaN</td>\n",
       "      <td>NaN</td>\n",
       "      <td>NaN</td>\n",
       "      <td>NaN</td>\n",
       "      <td>?</td>\n",
       "      <td>NaN</td>\n",
       "      <td>NaN</td>\n",
       "    </tr>\n",
       "    <tr>\n",
       "      <th>6457</th>\n",
       "      <td>Ригерт</td>\n",
       "      <td>112013918</td>\n",
       "      <td>2018-12-03 12:00:00+00:00</td>\n",
       "      <td>Документальный</td>\n",
       "      <td>ООО \"Киностудия Азия-фильм\"</td>\n",
       "      <td>Россия</td>\n",
       "      <td>В.Эйснер</td>\n",
       "      <td>В.Федорченко</td>\n",
       "      <td>«12+» - для детей старше 12 лет</td>\n",
       "      <td>NaN</td>\n",
       "      <td>NaN</td>\n",
       "      <td>NaN</td>\n",
       "      <td>NaN</td>\n",
       "      <td>?</td>\n",
       "      <td>NaN</td>\n",
       "      <td>NaN</td>\n",
       "    </tr>\n",
       "    <tr>\n",
       "      <th>6581</th>\n",
       "      <td>Время собирать цветы</td>\n",
       "      <td>112025118</td>\n",
       "      <td>2019-01-01 12:00:00+00:00</td>\n",
       "      <td>Документальный</td>\n",
       "      <td>ООО \"Краеведофф\"</td>\n",
       "      <td>Россия</td>\n",
       "      <td>Г.Щерба</td>\n",
       "      <td>О.Ракшин</td>\n",
       "      <td>«12+» - для детей старше 12 лет</td>\n",
       "      <td>NaN</td>\n",
       "      <td>NaN</td>\n",
       "      <td>NaN</td>\n",
       "      <td>NaN</td>\n",
       "      <td>?</td>\n",
       "      <td>NaN</td>\n",
       "      <td>7,175.00</td>\n",
       "    </tr>\n",
       "    <tr>\n",
       "      <th>6640</th>\n",
       "      <td>ГАЛИЧ</td>\n",
       "      <td>112000619</td>\n",
       "      <td>2019-01-31 12:00:00+00:00</td>\n",
       "      <td>Документальный</td>\n",
       "      <td>ООО \"Студия Остров\"</td>\n",
       "      <td>Россия</td>\n",
       "      <td>П.Солдатенков</td>\n",
       "      <td>С.Мирошниченко</td>\n",
       "      <td>«12+» - для детей старше 12 лет</td>\n",
       "      <td>NaN</td>\n",
       "      <td>NaN</td>\n",
       "      <td>NaN</td>\n",
       "      <td>NaN</td>\n",
       "      <td>?</td>\n",
       "      <td>NaN</td>\n",
       "      <td>NaN</td>\n",
       "    </tr>\n",
       "    <tr>\n",
       "      <th>6736</th>\n",
       "      <td>Симфония органа</td>\n",
       "      <td>112003019</td>\n",
       "      <td>2019-03-08 12:00:00+00:00</td>\n",
       "      <td>Документальный</td>\n",
       "      <td>Московская государственная консерватория имени...</td>\n",
       "      <td>Россия</td>\n",
       "      <td>С.Уваров</td>\n",
       "      <td>А.Соколов, М.Карасева</td>\n",
       "      <td>«6+» - для детей старше 6 лет</td>\n",
       "      <td>NaN</td>\n",
       "      <td>NaN</td>\n",
       "      <td>NaN</td>\n",
       "      <td>NaN</td>\n",
       "      <td>?</td>\n",
       "      <td>NaN</td>\n",
       "      <td>NaN</td>\n",
       "    </tr>\n",
       "    <tr>\n",
       "      <th>6806</th>\n",
       "      <td>Бэйбэрикээн</td>\n",
       "      <td>111005119</td>\n",
       "      <td>2019-03-21 12:00:00+00:00</td>\n",
       "      <td>Художественный</td>\n",
       "      <td>ИП Тимофеев К.П.</td>\n",
       "      <td>Россия</td>\n",
       "      <td>К.Тимофеев</td>\n",
       "      <td>К.Тимофеев</td>\n",
       "      <td>«6+» - для детей старше 6 лет</td>\n",
       "      <td>NaN</td>\n",
       "      <td>NaN</td>\n",
       "      <td>NaN</td>\n",
       "      <td>NaN</td>\n",
       "      <td>?</td>\n",
       "      <td>NaN</td>\n",
       "      <td>6,152,598.00</td>\n",
       "    </tr>\n",
       "    <tr>\n",
       "      <th>6906</th>\n",
       "      <td>Щенячий патруль и Нелла, отважная принцесса</td>\n",
       "      <td>124002719</td>\n",
       "      <td>2019-05-02 12:00:00+00:00</td>\n",
       "      <td>Анимационный</td>\n",
       "      <td>Никелодеон Анимейшн Студиос, Спин Мастер Студи...</td>\n",
       "      <td>Канада - США</td>\n",
       "      <td>Чарльз Е.Бастьен, Джили Долев</td>\n",
       "      <td>Дженнифер Додж, Дэвид Таунсенд, Мэттью Уэкслер...</td>\n",
       "      <td>«0+» - для любой зрительской аудитории</td>\n",
       "      <td>NaN</td>\n",
       "      <td>NaN</td>\n",
       "      <td>NaN</td>\n",
       "      <td>NaN</td>\n",
       "      <td>?</td>\n",
       "      <td>NaN</td>\n",
       "      <td>NaN</td>\n",
       "    </tr>\n",
       "    <tr>\n",
       "      <th>6971</th>\n",
       "      <td>Щенячий патруль и Вспыш и чудо-машинки</td>\n",
       "      <td>124004019</td>\n",
       "      <td>2019-06-06 12:00:00+00:00</td>\n",
       "      <td>Анимационный</td>\n",
       "      <td>Спин Мастер, Никелодеон Интернэшнл, Нерд Корпс...</td>\n",
       "      <td>Канада, США</td>\n",
       "      <td>Чальз Е.Бастьен, Бронвин Деннисон, Мигель Март...</td>\n",
       "      <td>Тони Стивенс, Джона Стро, Джейсон Маккензи, Ни...</td>\n",
       "      <td>«0+» - для любой зрительской аудитории</td>\n",
       "      <td>NaN</td>\n",
       "      <td>NaN</td>\n",
       "      <td>NaN</td>\n",
       "      <td>NaN</td>\n",
       "      <td>?</td>\n",
       "      <td>NaN</td>\n",
       "      <td>NaN</td>\n",
       "    </tr>\n",
       "    <tr>\n",
       "      <th>7112</th>\n",
       "      <td>Кадиш</td>\n",
       "      <td>111012519</td>\n",
       "      <td>2019-10-01 12:00:00+00:00</td>\n",
       "      <td>Художественный</td>\n",
       "      <td>ООО \"Арк Пикчерс\"</td>\n",
       "      <td>Россия</td>\n",
       "      <td>К.Малкин-Фам</td>\n",
       "      <td>К.Малкин-Фам, Б.Минц, Е.Одинцов, К.Михайлова</td>\n",
       "      <td>«12+» - для детей старше 12 лет</td>\n",
       "      <td>NaN</td>\n",
       "      <td>NaN</td>\n",
       "      <td>NaN</td>\n",
       "      <td>NaN</td>\n",
       "      <td>?</td>\n",
       "      <td>NaN</td>\n",
       "      <td>NaN</td>\n",
       "    </tr>\n",
       "    <tr>\n",
       "      <th>7145</th>\n",
       "      <td>Улётные букашки</td>\n",
       "      <td>124006019</td>\n",
       "      <td>2019-08-29 12:00:00+00:00</td>\n",
       "      <td>Анимационный</td>\n",
       "      <td>ИТСКАРТУН</td>\n",
       "      <td>Китай</td>\n",
       "      <td>Дэн Вэйфэн</td>\n",
       "      <td>Юань Мэй, Ян Чжэньхуа, Ян Сюэцзюй</td>\n",
       "      <td>«6+» - для детей старше 6 лет</td>\n",
       "      <td>NaN</td>\n",
       "      <td>NaN</td>\n",
       "      <td>NaN</td>\n",
       "      <td>NaN</td>\n",
       "      <td>?</td>\n",
       "      <td>NaN</td>\n",
       "      <td>874,071.00</td>\n",
       "    </tr>\n",
       "    <tr>\n",
       "      <th>7282</th>\n",
       "      <td>Щенячий патруль: Мегащенки и Шиммер и Шайн</td>\n",
       "      <td>124008219</td>\n",
       "      <td>2019-10-05 12:00:00+00:00</td>\n",
       "      <td>Анимационный</td>\n",
       "      <td>Спин Мастер, Никелодеон</td>\n",
       "      <td>США, Канада</td>\n",
       "      <td>Чарльз Е.Бастьен, Дэвид Нотт, Карин-Энн Андерсон</td>\n",
       "      <td>Дэмиан Темпорале, Кит Чэпман, Дэйв Палмер</td>\n",
       "      <td>«0+» - для любой зрительской аудитории</td>\n",
       "      <td>NaN</td>\n",
       "      <td>NaN</td>\n",
       "      <td>NaN</td>\n",
       "      <td>NaN</td>\n",
       "      <td>?</td>\n",
       "      <td>NaN</td>\n",
       "      <td>NaN</td>\n",
       "    </tr>\n",
       "    <tr>\n",
       "      <th>7334</th>\n",
       "      <td>Эткер</td>\n",
       "      <td>112004719</td>\n",
       "      <td>2019-10-30 12:00:00+00:00</td>\n",
       "      <td>Документальный</td>\n",
       "      <td>БУ \"ГОСКИНОСТУДИЯ \"ЧУВАШКИНО\" И АРХИВ ЭЛЕКТРОН...</td>\n",
       "      <td>Россия</td>\n",
       "      <td>А.Митёшин</td>\n",
       "      <td>Е.Митешина</td>\n",
       "      <td>«0+» - для любой зрительской аудитории</td>\n",
       "      <td>NaN</td>\n",
       "      <td>NaN</td>\n",
       "      <td>NaN</td>\n",
       "      <td>NaN</td>\n",
       "      <td>?</td>\n",
       "      <td>NaN</td>\n",
       "      <td>NaN</td>\n",
       "    </tr>\n",
       "    <tr>\n",
       "      <th>7339</th>\n",
       "      <td>Щенячий патруль: Мегащенки и Нелла, отважная п...</td>\n",
       "      <td>124008919</td>\n",
       "      <td>2019-10-31 12:00:00+00:00</td>\n",
       "      <td>Анимационный</td>\n",
       "      <td>Спин Мастер, Браун Бэг Фильм Ю Кей ЛТД</td>\n",
       "      <td>США - Великобритания - Канада</td>\n",
       "      <td>Чарльз Е.Бастьен, Джили Долев</td>\n",
       "      <td>Дэвид Таунсенд, Дэмиан Темпорале, Кит Чэпман</td>\n",
       "      <td>«0+» - для любой зрительской аудитории</td>\n",
       "      <td>NaN</td>\n",
       "      <td>NaN</td>\n",
       "      <td>NaN</td>\n",
       "      <td>NaN</td>\n",
       "      <td>?</td>\n",
       "      <td>NaN</td>\n",
       "      <td>NaN</td>\n",
       "    </tr>\n",
       "    <tr>\n",
       "      <th>7410</th>\n",
       "      <td>А.К.А</td>\n",
       "      <td>121034519</td>\n",
       "      <td>2019-11-25 12:00:00+00:00</td>\n",
       "      <td>Художественный</td>\n",
       "      <td>ООО \"Гриар Продакшн\"</td>\n",
       "      <td>Армения</td>\n",
       "      <td>Рафик Сарджанян</td>\n",
       "      <td>Рафик Сарджанян</td>\n",
       "      <td>«16+» - для детей старше 16 лет</td>\n",
       "      <td>NaN</td>\n",
       "      <td>NaN</td>\n",
       "      <td>NaN</td>\n",
       "      <td>NaN</td>\n",
       "      <td>?</td>\n",
       "      <td>NaN</td>\n",
       "      <td>NaN</td>\n",
       "    </tr>\n",
       "  </tbody>\n",
       "</table>\n",
       "</div>"
      ],
      "text/plain": [
       "                                                  title   puNumber  \\\n",
       "881                                    Президент и бомж  131000312   \n",
       "899                                    Фэтбой Слим Лайв  126002312   \n",
       "2374                                      Живало-бывало  111022914   \n",
       "2381                                     Звёздная карта  121029014   \n",
       "2529                                       Чёрная месса  121021415   \n",
       "2695                          МУЛЬТ в кино. Выпуск № 12  114002115   \n",
       "3431                                             Наурыз  131000217   \n",
       "3447                                          Апостасия  111000317   \n",
       "4936                             БИРМИНГЕМСКИЙ ОРНАМЕНТ  111006611   \n",
       "5816                     Невероятные приключения Нильса  214003818   \n",
       "5892                                             Байгал  111006218   \n",
       "5915                                       Крым. Крылья  112000318   \n",
       "5992                                          Снегозавр  114002718   \n",
       "6015                                           Аршалуйс  111011218   \n",
       "6023                                             ОСАННА  112002618   \n",
       "6053                            Диктор Советского Союза  112003518   \n",
       "6070                                      Митина любовь  114003518   \n",
       "6086                                        Послевкусие  111012718   \n",
       "6137                                              Лорик  111014918   \n",
       "6177                                          Вертолёты  112006918   \n",
       "6209                        Похищенные сокровища Европы  126001518   \n",
       "6230                                    Своя республика  112008718   \n",
       "6233                       Кошка Бяка и хороший мальчик  114006018   \n",
       "6257                                         ИЗБРАННИКИ  112009018   \n",
       "6337                               Техническая эстетика  112010718   \n",
       "6362                                            Шахматы  114007118   \n",
       "6457                                             Ригерт  112013918   \n",
       "6581                               Время собирать цветы  112025118   \n",
       "6640                                              ГАЛИЧ  112000619   \n",
       "6736                                    Симфония органа  112003019   \n",
       "6806                                        Бэйбэрикээн  111005119   \n",
       "6906        Щенячий патруль и Нелла, отважная принцесса  124002719   \n",
       "6971             Щенячий патруль и Вспыш и чудо-машинки  124004019   \n",
       "7112                                              Кадиш  111012519   \n",
       "7145                                    Улётные букашки  124006019   \n",
       "7282         Щенячий патруль: Мегащенки и Шиммер и Шайн  124008219   \n",
       "7334                                              Эткер  112004719   \n",
       "7339  Щенячий патруль: Мегащенки и Нелла, отважная п...  124008919   \n",
       "7410                                              А.К.А  121034519   \n",
       "\n",
       "               show_start_date             type  \\\n",
       "881  2012-09-05 12:00:00+00:00   Художественный   \n",
       "899  2012-08-29 12:00:00+00:00           Прочие   \n",
       "2374 2014-12-02 12:00:00+00:00   Художественный   \n",
       "2381 2014-12-17 12:00:00+00:00   Художественный   \n",
       "2529 2015-10-23 12:00:00+00:00   Художественный   \n",
       "2695 2015-08-20 12:00:00+00:00     Анимационный   \n",
       "3431 2017-03-09 12:00:00+00:00   Художественный   \n",
       "3447 2017-01-18 12:00:00+00:00   Художественный   \n",
       "4936 2011-10-03 12:00:00+00:00   Художественный   \n",
       "5816 2018-04-16 12:00:00+00:00     Анимационный   \n",
       "5892 2018-05-29 12:00:00+00:00   Художественный   \n",
       "5915 2018-06-29 12:00:00+00:00   Документальный   \n",
       "5992 2018-07-06 12:00:00+00:00     Анимационный   \n",
       "6015 2016-07-16 12:00:00+00:00   Художественный   \n",
       "6023 2018-08-01 12:00:00+00:00   Документальный   \n",
       "6053 2018-07-25 12:00:00+00:00   Документальный   \n",
       "6070 2018-08-01 12:00:00+00:00     Анимационный   \n",
       "6086 2018-08-01 12:00:00+00:00   Художественный   \n",
       "6137 2018-08-12 12:00:00+00:00   Художественный   \n",
       "6177 2018-09-26 12:00:00+00:00   Документальный   \n",
       "6209 2018-09-06 12:00:00+00:00           Прочие   \n",
       "6230 2018-09-11 12:00:00+00:00   Документальный   \n",
       "6233 2018-09-14 12:00:00+00:00     Анимационный   \n",
       "6257 2018-09-27 12:00:00+00:00   Документальный   \n",
       "6337 2018-10-25 12:00:00+00:00   Документальный   \n",
       "6362 2018-11-12 12:00:00+00:00     Анимационный   \n",
       "6457 2018-12-03 12:00:00+00:00   Документальный   \n",
       "6581 2019-01-01 12:00:00+00:00   Документальный   \n",
       "6640 2019-01-31 12:00:00+00:00   Документальный   \n",
       "6736 2019-03-08 12:00:00+00:00   Документальный   \n",
       "6806 2019-03-21 12:00:00+00:00   Художественный   \n",
       "6906 2019-05-02 12:00:00+00:00     Анимационный   \n",
       "6971 2019-06-06 12:00:00+00:00     Анимационный   \n",
       "7112 2019-10-01 12:00:00+00:00   Художественный   \n",
       "7145 2019-08-29 12:00:00+00:00     Анимационный   \n",
       "7282 2019-10-05 12:00:00+00:00     Анимационный   \n",
       "7334 2019-10-30 12:00:00+00:00   Документальный   \n",
       "7339 2019-10-31 12:00:00+00:00     Анимационный   \n",
       "7410 2019-11-25 12:00:00+00:00   Художественный   \n",
       "\n",
       "                                            film_studio  \\\n",
       "881                                  ООО \"Акбата Фильм\"   \n",
       "899   Полиграм Мьюзик Пабл, Соутерн Френд Рекордс, Э...   \n",
       "2374                            ООО \"Кинокомпания \"Эрн\"   \n",
       "2381  Просперо Пикчерз, Сентиент Интертейнмент, Эс Б...   \n",
       "2529  Уорнер Бразерс, Кросс Крик Пикчерз, Гризби Про...   \n",
       "2695  ООО \"Студия анимационного кино \"Мельница\", ООО...   \n",
       "3431                                             Эс Джи   \n",
       "3447                         ООО \"ТПО Кинокомпания М2Ф\"   \n",
       "4936  Фонд поддержки независимого и экспериментально...   \n",
       "5816                                    ООО \"АА студио\"   \n",
       "5892                                        РОООО СК РТ   \n",
       "5915                                   ООО \"ВВП Альянс\"   \n",
       "5992             ФГУП \"ТПО \"Киностудия \"Союзмультфильм\"   \n",
       "6015                              ООО Медиагруппа \"АЙК\"   \n",
       "6023                   ИП Барыкин Алексей Александрович   \n",
       "6053                                     ООО \"Студия-А\"   \n",
       "6070          АНО Школа-Студия анимационного кино \"ШАР\"   \n",
       "6086                        Заозёрский Георгий Игоревич   \n",
       "6137                    Минасян Мартирос Константинович   \n",
       "6177                                  ООО \"Космосфильм\"   \n",
       "6209                      3D Продуциони, Нексо Диджитал   \n",
       "6230                АО \"ТПО \"Киностудия им. М.Горького\"   \n",
       "6233                               ООО \"СТУДИЯ ПАРОВОЗ\"   \n",
       "6257                            ООО \"Студия ТРЕТИЙ РИМ\"   \n",
       "6337                                 Фонд \"Возрождение\"   \n",
       "6362             ФГУП \"ТПО \"Киностудия \"Союзмультфильм\"   \n",
       "6457                        ООО \"Киностудия Азия-фильм\"   \n",
       "6581                                   ООО \"Краеведофф\"   \n",
       "6640                                ООО \"Студия Остров\"   \n",
       "6736  Московская государственная консерватория имени...   \n",
       "6806                                   ИП Тимофеев К.П.   \n",
       "6906  Никелодеон Анимейшн Студиос, Спин Мастер Студи...   \n",
       "6971  Спин Мастер, Никелодеон Интернэшнл, Нерд Корпс...   \n",
       "7112                                  ООО \"Арк Пикчерс\"   \n",
       "7145                                          ИТСКАРТУН   \n",
       "7282                            Спин Мастер, Никелодеон   \n",
       "7334  БУ \"ГОСКИНОСТУДИЯ \"ЧУВАШКИНО\" И АРХИВ ЭЛЕКТРОН...   \n",
       "7339             Спин Мастер, Браун Бэг Фильм Ю Кей ЛТД   \n",
       "7410                               ООО \"Гриар Продакшн\"   \n",
       "\n",
       "                     production_country  \\\n",
       "881                            Киргизия   \n",
       "899                           Австралия   \n",
       "2374                             Россия   \n",
       "2381  Канада - США - Германия - Франция   \n",
       "2529                                США   \n",
       "2695                        Россия-Кипр   \n",
       "3431               Республика Казахстан   \n",
       "3447                             Россия   \n",
       "4936                             Россия   \n",
       "5816                             Россия   \n",
       "5892                             Россия   \n",
       "5915                             Россия   \n",
       "5992                             Россия   \n",
       "6015                             Россия   \n",
       "6023                             Россия   \n",
       "6053                             Россия   \n",
       "6070                             Россия   \n",
       "6086                             Россия   \n",
       "6137                             Россия   \n",
       "6177                             Россия   \n",
       "6209          Италия, Франция, Германия   \n",
       "6230                             Россия   \n",
       "6233                             Россия   \n",
       "6257                             Россия   \n",
       "6337                             Россия   \n",
       "6362                             Россия   \n",
       "6457                             Россия   \n",
       "6581                             Россия   \n",
       "6640                             Россия   \n",
       "6736                             Россия   \n",
       "6806                             Россия   \n",
       "6906                       Канада - США   \n",
       "6971                        Канада, США   \n",
       "7112                             Россия   \n",
       "7145                              Китай   \n",
       "7282                        США, Канада   \n",
       "7334                             Россия   \n",
       "7339      США - Великобритания - Канада   \n",
       "7410                            Армения   \n",
       "\n",
       "                                               director  \\\n",
       "881                                        Ырыс Окенова   \n",
       "899                                           Мэт Аскем   \n",
       "2374                                         Е.Барханов   \n",
       "2381                                   Дэвид Кроненберг   \n",
       "2529                                        Скотт Купер   \n",
       "2695      В.Пономарёв, А.Миронов, Е.Салабай, Н.Мальгина   \n",
       "3431                                     Аскар Бисембин   \n",
       "3447                                          А.Мурадов   \n",
       "4936                         Ю.Лейдерман, А.Сильвестров   \n",
       "5816                                       А.Котёночкин   \n",
       "5892                                         И.Ягафаров   \n",
       "5915                                           А.Безрук   \n",
       "5992                                           А.Кузина   \n",
       "6015                            Э.Арутюнов, А.Алексиади   \n",
       "6023                                          А.Барыкин   \n",
       "6053                                          И.Фирсова   \n",
       "6070                                        С.Филиппова   \n",
       "6086                                       Г.Заозёрский   \n",
       "6137                                           А.Злобин   \n",
       "6177                                          Д.Кубасов   \n",
       "6209                                       Клаудио Поли   \n",
       "6230                                         А.Полунина   \n",
       "6233                                          Р.Верещак   \n",
       "6257                                            А.Голуб   \n",
       "6337                                           Л.Лысцов   \n",
       "6362                                        А.Почивалов   \n",
       "6457                                           В.Эйснер   \n",
       "6581                                            Г.Щерба   \n",
       "6640                                      П.Солдатенков   \n",
       "6736                                           С.Уваров   \n",
       "6806                                         К.Тимофеев   \n",
       "6906                      Чарльз Е.Бастьен, Джили Долев   \n",
       "6971  Чальз Е.Бастьен, Бронвин Деннисон, Мигель Март...   \n",
       "7112                                       К.Малкин-Фам   \n",
       "7145                                         Дэн Вэйфэн   \n",
       "7282   Чарльз Е.Бастьен, Дэвид Нотт, Карин-Энн Андерсон   \n",
       "7334                                          А.Митёшин   \n",
       "7339                      Чарльз Е.Бастьен, Джили Долев   \n",
       "7410                                    Рафик Сарджанян   \n",
       "\n",
       "                                               producer  \\\n",
       "881                                   Омурзак Толобеков   \n",
       "899   Гэрри Блэкберн, Норман Кук, Селия Мор, Джастин...   \n",
       "2374                                  А.Морозов, В.Орел   \n",
       "2381            Мартин Кац, Мишель Меркт, Саид Бен Саид   \n",
       "2529                          Джон Лешер, Брайан Оливер   \n",
       "2695  Т.Цыварева, А.Златопольский, В.Воля, Е.Головин...   \n",
       "3431                 Олег Головашкин, Алмас Султангазин   \n",
       "3447                А.Мурадов, Р.Филатов, А.Голодницкий   \n",
       "4936                                      А.Сильвестров   \n",
       "5816              А.Митрошенков, Н.Гюзалян, А.Ованнисян   \n",
       "5892                                         И.Ягафаров   \n",
       "5915                             А.Казанкова, М.Королев   \n",
       "5992             ФГУП \"ТПО \"Киностудия \"Союзмультфильм\"   \n",
       "6015                                         Э.Арутюнов   \n",
       "6023                                          А.Барыкин   \n",
       "6053                                          Е.Кривцов   \n",
       "6070                                        Н.Маковский   \n",
       "6086                                         Р.Дишдишян   \n",
       "6137                               М.Минасян, М.Погосян   \n",
       "6177                                         Т.Пендюрин   \n",
       "6209                                 Вероника Ботанелли   \n",
       "6230                                           С.Зернов   \n",
       "6233                 А.Сметанкин, Е.Головин, Т.Цыварева   \n",
       "6257       Е.Миронов, А.Новин, Е.Бренькова, А.Темникова   \n",
       "6337                                         Т.Хамитова   \n",
       "6362                         Б.Машковцев, С.Струсовский   \n",
       "6457                                       В.Федорченко   \n",
       "6581                                           О.Ракшин   \n",
       "6640                                     С.Мирошниченко   \n",
       "6736                              А.Соколов, М.Карасева   \n",
       "6806                                         К.Тимофеев   \n",
       "6906  Дженнифер Додж, Дэвид Таунсенд, Мэттью Уэкслер...   \n",
       "6971  Тони Стивенс, Джона Стро, Джейсон Маккензи, Ни...   \n",
       "7112       К.Малкин-Фам, Б.Минц, Е.Одинцов, К.Михайлова   \n",
       "7145                  Юань Мэй, Ян Чжэньхуа, Ян Сюэцзюй   \n",
       "7282          Дэмиан Темпорале, Кит Чэпман, Дэйв Палмер   \n",
       "7334                                         Е.Митешина   \n",
       "7339       Дэвид Таунсенд, Дэмиан Темпорале, Кит Чэпман   \n",
       "7410                                    Рафик Сарджанян   \n",
       "\n",
       "                             age_restriction  refundable_support  \\\n",
       "881          «16+» - для детей старше 16 лет                 NaN   \n",
       "899   «0+» - для любой зрительской аудитории                 NaN   \n",
       "2374         «16+» - для детей старше 16 лет                 NaN   \n",
       "2381             «18+» - запрещено для детей                 NaN   \n",
       "2529             «18+» - запрещено для детей                 NaN   \n",
       "2695  «0+» - для любой зрительской аудитории                 NaN   \n",
       "3431         «12+» - для детей старше 12 лет                 NaN   \n",
       "3447         «16+» - для детей старше 16 лет                 NaN   \n",
       "4936         «16+» - для детей старше 16 лет                 NaN   \n",
       "5816  «0+» - для любой зрительской аудитории                 NaN   \n",
       "5892         «12+» - для детей старше 12 лет                 NaN   \n",
       "5915           «6+» - для детей старше 6 лет                 NaN   \n",
       "5992  «0+» - для любой зрительской аудитории                 NaN   \n",
       "6015         «12+» - для детей старше 12 лет                 NaN   \n",
       "6023         «12+» - для детей старше 12 лет                 NaN   \n",
       "6053         «12+» - для детей старше 12 лет                 NaN   \n",
       "6070         «12+» - для детей старше 12 лет                 NaN   \n",
       "6086         «16+» - для детей старше 16 лет                 NaN   \n",
       "6137             «18+» - запрещено для детей                 NaN   \n",
       "6177         «16+» - для детей старше 16 лет                 NaN   \n",
       "6209         «16+» - для детей старше 16 лет                 NaN   \n",
       "6230             «18+» - запрещено для детей                 NaN   \n",
       "6233  «0+» - для любой зрительской аудитории                 NaN   \n",
       "6257         «12+» - для детей старше 12 лет                 NaN   \n",
       "6337  «0+» - для любой зрительской аудитории                 NaN   \n",
       "6362         «12+» - для детей старше 12 лет                 NaN   \n",
       "6457         «12+» - для детей старше 12 лет                 NaN   \n",
       "6581         «12+» - для детей старше 12 лет                 NaN   \n",
       "6640         «12+» - для детей старше 12 лет                 NaN   \n",
       "6736           «6+» - для детей старше 6 лет                 NaN   \n",
       "6806           «6+» - для детей старше 6 лет                 NaN   \n",
       "6906  «0+» - для любой зрительской аудитории                 NaN   \n",
       "6971  «0+» - для любой зрительской аудитории                 NaN   \n",
       "7112         «12+» - для детей старше 12 лет                 NaN   \n",
       "7145           «6+» - для детей старше 6 лет                 NaN   \n",
       "7282  «0+» - для любой зрительской аудитории                 NaN   \n",
       "7334  «0+» - для любой зрительской аудитории                 NaN   \n",
       "7339  «0+» - для любой зрительской аудитории                 NaN   \n",
       "7410         «16+» - для детей старше 16 лет                 NaN   \n",
       "\n",
       "      nonrefundable_support  budget financing_source ratings   genres  \\\n",
       "881                     NaN     NaN              NaN       ?      NaN   \n",
       "899                     NaN     NaN              NaN       ?      NaN   \n",
       "2374                    NaN     NaN              NaN       ?      NaN   \n",
       "2381                    NaN     NaN              NaN       ?      NaN   \n",
       "2529                    NaN     NaN              NaN       ?      NaN   \n",
       "2695                    NaN     NaN              NaN       ?      NaN   \n",
       "3431                    NaN     NaN              NaN       ?  комедия   \n",
       "3447                    NaN     NaN              NaN       ?      NaN   \n",
       "4936                    NaN     NaN              NaN       ?      NaN   \n",
       "5816                    NaN     NaN              NaN       ?      NaN   \n",
       "5892                    NaN     NaN              NaN       ?      NaN   \n",
       "5915                    NaN     NaN              NaN       ?      NaN   \n",
       "5992                    NaN     NaN              NaN       ?      NaN   \n",
       "6015                    NaN     NaN              NaN       ?      NaN   \n",
       "6023                    NaN     NaN              NaN       ?      NaN   \n",
       "6053                    NaN     NaN              NaN       ?      NaN   \n",
       "6070                    NaN     NaN              NaN       ?      NaN   \n",
       "6086                    NaN     NaN              NaN       ?      NaN   \n",
       "6137                    NaN     NaN              NaN       ?      NaN   \n",
       "6177                    NaN     NaN              NaN       ?      NaN   \n",
       "6209                    NaN     NaN              NaN       ?      NaN   \n",
       "6230                    NaN     NaN              NaN       ?      NaN   \n",
       "6233                    NaN     NaN              NaN       ?      NaN   \n",
       "6257                    NaN     NaN              NaN       ?      NaN   \n",
       "6337                    NaN     NaN              NaN       ?      NaN   \n",
       "6362                    NaN     NaN              NaN       ?      NaN   \n",
       "6457                    NaN     NaN              NaN       ?      NaN   \n",
       "6581                    NaN     NaN              NaN       ?      NaN   \n",
       "6640                    NaN     NaN              NaN       ?      NaN   \n",
       "6736                    NaN     NaN              NaN       ?      NaN   \n",
       "6806                    NaN     NaN              NaN       ?      NaN   \n",
       "6906                    NaN     NaN              NaN       ?      NaN   \n",
       "6971                    NaN     NaN              NaN       ?      NaN   \n",
       "7112                    NaN     NaN              NaN       ?      NaN   \n",
       "7145                    NaN     NaN              NaN       ?      NaN   \n",
       "7282                    NaN     NaN              NaN       ?      NaN   \n",
       "7334                    NaN     NaN              NaN       ?      NaN   \n",
       "7339                    NaN     NaN              NaN       ?      NaN   \n",
       "7410                    NaN     NaN              NaN       ?      NaN   \n",
       "\n",
       "         box_office  \n",
       "881             NaN  \n",
       "899             NaN  \n",
       "2374            NaN  \n",
       "2381     123,190.00  \n",
       "2529 136,223,214.80  \n",
       "2695   2,591,302.50  \n",
       "3431      37,960.00  \n",
       "3447            NaN  \n",
       "4936            NaN  \n",
       "5816            NaN  \n",
       "5892            NaN  \n",
       "5915            NaN  \n",
       "5992            NaN  \n",
       "6015            NaN  \n",
       "6023            NaN  \n",
       "6053            NaN  \n",
       "6070            NaN  \n",
       "6086            NaN  \n",
       "6137            NaN  \n",
       "6177     136,355.00  \n",
       "6209            NaN  \n",
       "6230            NaN  \n",
       "6233            NaN  \n",
       "6257            NaN  \n",
       "6337            NaN  \n",
       "6362            NaN  \n",
       "6457            NaN  \n",
       "6581       7,175.00  \n",
       "6640            NaN  \n",
       "6736            NaN  \n",
       "6806   6,152,598.00  \n",
       "6906            NaN  \n",
       "6971            NaN  \n",
       "7112            NaN  \n",
       "7145     874,071.00  \n",
       "7282            NaN  \n",
       "7334            NaN  \n",
       "7339            NaN  \n",
       "7410            NaN  "
      ]
     },
     "metadata": {},
     "output_type": "display_data"
    }
   ],
   "source": [
    "display(df[(df['ratings'] == '?')])"
   ]
  },
  {
   "cell_type": "code",
   "execution_count": 21,
   "id": "51a82a9c",
   "metadata": {},
   "outputs": [],
   "source": [
    "df['ratings'] = np.where((df.ratings == '?'), None, df.ratings)"
   ]
  },
  {
   "cell_type": "markdown",
   "id": "125b6b8e",
   "metadata": {},
   "source": [
    " После чего приведем столбец к единому типу данных float"
   ]
  },
  {
   "cell_type": "code",
   "execution_count": 22,
   "id": "9a33b7af",
   "metadata": {},
   "outputs": [],
   "source": [
    "df['ratings'] = df['ratings'].astype('float')"
   ]
  },
  {
   "cell_type": "code",
   "execution_count": 23,
   "id": "00f7192c",
   "metadata": {},
   "outputs": [
    {
     "name": "stdout",
     "output_type": "stream",
     "text": [
      "<class 'pandas.core.frame.DataFrame'>\n",
      "Int64Index: 7486 entries, 0 to 7485\n",
      "Data columns (total 16 columns):\n",
      " #   Column                 Non-Null Count  Dtype              \n",
      "---  ------                 --------------  -----              \n",
      " 0   title                  7486 non-null   object             \n",
      " 1   puNumber               7486 non-null   int64              \n",
      " 2   show_start_date        7486 non-null   datetime64[ns, UTC]\n",
      " 3   type                   7486 non-null   object             \n",
      " 4   film_studio            7468 non-null   object             \n",
      " 5   production_country     7484 non-null   object             \n",
      " 6   director               7477 non-null   object             \n",
      " 7   producer               6918 non-null   object             \n",
      " 8   age_restriction        7486 non-null   object             \n",
      " 9   refundable_support     332 non-null    float64            \n",
      " 10  nonrefundable_support  332 non-null    float64            \n",
      " 11  budget                 332 non-null    float64            \n",
      " 12  financing_source       332 non-null    object             \n",
      " 13  ratings                6691 non-null   float64            \n",
      " 14  genres                 6510 non-null   object             \n",
      " 15  box_office             3159 non-null   float64            \n",
      "dtypes: datetime64[ns, UTC](1), float64(5), int64(1), object(9)\n",
      "memory usage: 994.2+ KB\n"
     ]
    }
   ],
   "source": [
    "df.info()"
   ]
  },
  {
   "cell_type": "code",
   "execution_count": 24,
   "id": "26a387f6",
   "metadata": {},
   "outputs": [
    {
     "data": {
      "text/plain": [
       "795"
      ]
     },
     "execution_count": 24,
     "metadata": {},
     "output_type": "execute_result"
    }
   ],
   "source": [
    "df['ratings'].isna().sum()"
   ]
  },
  {
   "cell_type": "markdown",
   "id": "8029afb2",
   "metadata": {},
   "source": [
    "Вывод: как видно после парсинга и заполнения данных, остались еще данные с прощенными значениями."
   ]
  },
  {
   "cell_type": "markdown",
   "id": "1b9e6447",
   "metadata": {},
   "source": [
    "Рассмотрим значения в стоблце director."
   ]
  },
  {
   "cell_type": "code",
   "execution_count": 25,
   "id": "fe964652",
   "metadata": {},
   "outputs": [
    {
     "data": {
      "text/plain": [
       "9"
      ]
     },
     "execution_count": 25,
     "metadata": {},
     "output_type": "execute_result"
    }
   ],
   "source": [
    "df['director'].isna().sum()"
   ]
  },
  {
   "cell_type": "markdown",
   "id": "fa7fdf5c",
   "metadata": {},
   "source": [
    "Заполним по аналогии с рейтингом данные в столбце director"
   ]
  },
  {
   "cell_type": "code",
   "execution_count": 26,
   "id": "f2c6270c",
   "metadata": {},
   "outputs": [
    {
     "data": {
      "text/html": [
       "<div>\n",
       "<style scoped>\n",
       "    .dataframe tbody tr th:only-of-type {\n",
       "        vertical-align: middle;\n",
       "    }\n",
       "\n",
       "    .dataframe tbody tr th {\n",
       "        vertical-align: top;\n",
       "    }\n",
       "\n",
       "    .dataframe thead th {\n",
       "        text-align: right;\n",
       "    }\n",
       "</style>\n",
       "<table border=\"1\" class=\"dataframe\">\n",
       "  <thead>\n",
       "    <tr style=\"text-align: right;\">\n",
       "      <th></th>\n",
       "      <th>title</th>\n",
       "      <th>puNumber</th>\n",
       "      <th>show_start_date</th>\n",
       "      <th>type</th>\n",
       "      <th>film_studio</th>\n",
       "      <th>production_country</th>\n",
       "      <th>director</th>\n",
       "      <th>producer</th>\n",
       "      <th>age_restriction</th>\n",
       "      <th>refundable_support</th>\n",
       "      <th>nonrefundable_support</th>\n",
       "      <th>budget</th>\n",
       "      <th>financing_source</th>\n",
       "      <th>ratings</th>\n",
       "      <th>genres</th>\n",
       "      <th>box_office</th>\n",
       "    </tr>\n",
       "  </thead>\n",
       "  <tbody>\n",
       "    <tr>\n",
       "      <th>764</th>\n",
       "      <td>Три звезды. Концерт в Waldbuhne Theater, Берли...</td>\n",
       "      <td>126003512</td>\n",
       "      <td>2012-12-04 12:00:00+00:00</td>\n",
       "      <td>Прочие</td>\n",
       "      <td>Райзинг Алтернатив</td>\n",
       "      <td>Великобритания</td>\n",
       "      <td>нет данных</td>\n",
       "      <td>Вальдбюне Театр</td>\n",
       "      <td>«0+» - для любой зрительской аудитории</td>\n",
       "      <td>NaN</td>\n",
       "      <td>NaN</td>\n",
       "      <td>NaN</td>\n",
       "      <td>NaN</td>\n",
       "      <td>NaN</td>\n",
       "      <td>NaN</td>\n",
       "      <td>44,350.00</td>\n",
       "    </tr>\n",
       "    <tr>\n",
       "      <th>1735</th>\n",
       "      <td>Помпеи. Британский музей</td>\n",
       "      <td>126003413</td>\n",
       "      <td>2013-09-11 12:00:00+00:00</td>\n",
       "      <td>Прочие</td>\n",
       "      <td>МортуСкрин, Британский музей</td>\n",
       "      <td>Великобритания</td>\n",
       "      <td>нет данных</td>\n",
       "      <td>Британский музей</td>\n",
       "      <td>«0+» - для любой зрительской аудитории</td>\n",
       "      <td>NaN</td>\n",
       "      <td>NaN</td>\n",
       "      <td>NaN</td>\n",
       "      <td>NaN</td>\n",
       "      <td>NaN</td>\n",
       "      <td>NaN</td>\n",
       "      <td>NaN</td>\n",
       "    </tr>\n",
       "    <tr>\n",
       "      <th>3840</th>\n",
       "      <td>Зур концерт (Большой концерт).</td>\n",
       "      <td>217027010</td>\n",
       "      <td>2010-06-24 12:00:00+00:00</td>\n",
       "      <td>Художественный</td>\n",
       "      <td>ООО \"Барс Рекордс\"</td>\n",
       "      <td>Россия</td>\n",
       "      <td>нет данных</td>\n",
       "      <td>NaN</td>\n",
       "      <td>«12+» - для детей старше 12 лет</td>\n",
       "      <td>NaN</td>\n",
       "      <td>NaN</td>\n",
       "      <td>NaN</td>\n",
       "      <td>NaN</td>\n",
       "      <td>NaN</td>\n",
       "      <td>NaN</td>\n",
       "      <td>NaN</td>\n",
       "    </tr>\n",
       "    <tr>\n",
       "      <th>4052</th>\n",
       "      <td>Ганс Сэйфуллин \"Авылым чишмэлэре. Ганс Сэйфулл...</td>\n",
       "      <td>217017310</td>\n",
       "      <td>2010-04-22 12:00:00+00:00</td>\n",
       "      <td>Художественный</td>\n",
       "      <td>ООО \"Барс-Рекордс\"</td>\n",
       "      <td>Россия</td>\n",
       "      <td>нет данных</td>\n",
       "      <td>NaN</td>\n",
       "      <td>«0+» - для любой зрительской аудитории</td>\n",
       "      <td>NaN</td>\n",
       "      <td>NaN</td>\n",
       "      <td>NaN</td>\n",
       "      <td>NaN</td>\n",
       "      <td>NaN</td>\n",
       "      <td>NaN</td>\n",
       "      <td>NaN</td>\n",
       "    </tr>\n",
       "    <tr>\n",
       "      <th>4298</th>\n",
       "      <td>Изге Вэли (Святой Валентин)</td>\n",
       "      <td>217020610</td>\n",
       "      <td>2010-05-20 12:00:00+00:00</td>\n",
       "      <td>Художественный</td>\n",
       "      <td>ООО \"Барс Рекордс\"</td>\n",
       "      <td>Россия</td>\n",
       "      <td>нет данных</td>\n",
       "      <td>NaN</td>\n",
       "      <td>«12+» - для детей старше 12 лет</td>\n",
       "      <td>NaN</td>\n",
       "      <td>NaN</td>\n",
       "      <td>NaN</td>\n",
       "      <td>NaN</td>\n",
       "      <td>NaN</td>\n",
       "      <td>NaN</td>\n",
       "      <td>NaN</td>\n",
       "    </tr>\n",
       "    <tr>\n",
       "      <th>4415</th>\n",
       "      <td>Bon Jovi. The Circle Tour</td>\n",
       "      <td>126001710</td>\n",
       "      <td>2010-11-11 12:00:00+00:00</td>\n",
       "      <td>Прочие</td>\n",
       "      <td>Эншутц Интертейнмент Груп</td>\n",
       "      <td>США</td>\n",
       "      <td>нет данных</td>\n",
       "      <td>Эншутц Интертейнмент Груп</td>\n",
       "      <td>«0+» - для любой зрительской аудитории</td>\n",
       "      <td>NaN</td>\n",
       "      <td>NaN</td>\n",
       "      <td>NaN</td>\n",
       "      <td>NaN</td>\n",
       "      <td>7.90</td>\n",
       "      <td>концерт,музыка</td>\n",
       "      <td>NaN</td>\n",
       "    </tr>\n",
       "    <tr>\n",
       "      <th>4441</th>\n",
       "      <td>Мульт личности. Выпуск 5</td>\n",
       "      <td>214000410</td>\n",
       "      <td>2010-01-25 12:00:00+00:00</td>\n",
       "      <td>Художественный</td>\n",
       "      <td>NaN</td>\n",
       "      <td>NaN</td>\n",
       "      <td>нет данных</td>\n",
       "      <td>NaN</td>\n",
       "      <td>«0+» - для любой зрительской аудитории</td>\n",
       "      <td>NaN</td>\n",
       "      <td>NaN</td>\n",
       "      <td>NaN</td>\n",
       "      <td>NaN</td>\n",
       "      <td>4.00</td>\n",
       "      <td>мультфильм,комедия</td>\n",
       "      <td>NaN</td>\n",
       "    </tr>\n",
       "    <tr>\n",
       "      <th>4923</th>\n",
       "      <td>Георг Фридрих Гендель. Мессия. Оратория. Корол...</td>\n",
       "      <td>126001111</td>\n",
       "      <td>2011-04-25 12:00:00+00:00</td>\n",
       "      <td>Прочие</td>\n",
       "      <td>Опус Арт</td>\n",
       "      <td>Великобритания</td>\n",
       "      <td>нет данных</td>\n",
       "      <td>Короевский колледж Кембриджа</td>\n",
       "      <td>«0+» - для любой зрительской аудитории</td>\n",
       "      <td>NaN</td>\n",
       "      <td>NaN</td>\n",
       "      <td>NaN</td>\n",
       "      <td>NaN</td>\n",
       "      <td>NaN</td>\n",
       "      <td>NaN</td>\n",
       "      <td>NaN</td>\n",
       "    </tr>\n",
       "    <tr>\n",
       "      <th>4942</th>\n",
       "      <td>Питер Гэбриэл и New Blood Orchestra 3D</td>\n",
       "      <td>126002711</td>\n",
       "      <td>2011-11-11 12:00:00+00:00</td>\n",
       "      <td>Прочие</td>\n",
       "      <td>Омниверс Визион</td>\n",
       "      <td>Великобритания</td>\n",
       "      <td>нет данных</td>\n",
       "      <td>Омниверс Визион</td>\n",
       "      <td>«0+» - для любой зрительской аудитории</td>\n",
       "      <td>NaN</td>\n",
       "      <td>NaN</td>\n",
       "      <td>NaN</td>\n",
       "      <td>NaN</td>\n",
       "      <td>6.70</td>\n",
       "      <td>концерт,музыка</td>\n",
       "      <td>NaN</td>\n",
       "    </tr>\n",
       "  </tbody>\n",
       "</table>\n",
       "</div>"
      ],
      "text/plain": [
       "                                                  title   puNumber  \\\n",
       "764   Три звезды. Концерт в Waldbuhne Theater, Берли...  126003512   \n",
       "1735                           Помпеи. Британский музей  126003413   \n",
       "3840                     Зур концерт (Большой концерт).  217027010   \n",
       "4052  Ганс Сэйфуллин \"Авылым чишмэлэре. Ганс Сэйфулл...  217017310   \n",
       "4298                        Изге Вэли (Святой Валентин)  217020610   \n",
       "4415                          Bon Jovi. The Circle Tour  126001710   \n",
       "4441                           Мульт личности. Выпуск 5  214000410   \n",
       "4923  Георг Фридрих Гендель. Мессия. Оратория. Корол...  126001111   \n",
       "4942             Питер Гэбриэл и New Blood Orchestra 3D  126002711   \n",
       "\n",
       "               show_start_date            type                   film_studio  \\\n",
       "764  2012-12-04 12:00:00+00:00          Прочие            Райзинг Алтернатив   \n",
       "1735 2013-09-11 12:00:00+00:00          Прочие  МортуСкрин, Британский музей   \n",
       "3840 2010-06-24 12:00:00+00:00  Художественный            ООО \"Барс Рекордс\"   \n",
       "4052 2010-04-22 12:00:00+00:00  Художественный            ООО \"Барс-Рекордс\"   \n",
       "4298 2010-05-20 12:00:00+00:00  Художественный            ООО \"Барс Рекордс\"   \n",
       "4415 2010-11-11 12:00:00+00:00          Прочие     Эншутц Интертейнмент Груп   \n",
       "4441 2010-01-25 12:00:00+00:00  Художественный                           NaN   \n",
       "4923 2011-04-25 12:00:00+00:00          Прочие                      Опус Арт   \n",
       "4942 2011-11-11 12:00:00+00:00          Прочие               Омниверс Визион   \n",
       "\n",
       "     production_country    director                      producer  \\\n",
       "764      Великобритания  нет данных               Вальдбюне Театр   \n",
       "1735     Великобритания  нет данных              Британский музей   \n",
       "3840             Россия  нет данных                           NaN   \n",
       "4052             Россия  нет данных                           NaN   \n",
       "4298             Россия  нет данных                           NaN   \n",
       "4415                США  нет данных     Эншутц Интертейнмент Груп   \n",
       "4441                NaN  нет данных                           NaN   \n",
       "4923     Великобритания  нет данных  Короевский колледж Кембриджа   \n",
       "4942     Великобритания  нет данных               Омниверс Визион   \n",
       "\n",
       "                             age_restriction  refundable_support  \\\n",
       "764   «0+» - для любой зрительской аудитории                 NaN   \n",
       "1735  «0+» - для любой зрительской аудитории                 NaN   \n",
       "3840         «12+» - для детей старше 12 лет                 NaN   \n",
       "4052  «0+» - для любой зрительской аудитории                 NaN   \n",
       "4298         «12+» - для детей старше 12 лет                 NaN   \n",
       "4415  «0+» - для любой зрительской аудитории                 NaN   \n",
       "4441  «0+» - для любой зрительской аудитории                 NaN   \n",
       "4923  «0+» - для любой зрительской аудитории                 NaN   \n",
       "4942  «0+» - для любой зрительской аудитории                 NaN   \n",
       "\n",
       "      nonrefundable_support  budget financing_source  ratings  \\\n",
       "764                     NaN     NaN              NaN      NaN   \n",
       "1735                    NaN     NaN              NaN      NaN   \n",
       "3840                    NaN     NaN              NaN      NaN   \n",
       "4052                    NaN     NaN              NaN      NaN   \n",
       "4298                    NaN     NaN              NaN      NaN   \n",
       "4415                    NaN     NaN              NaN     7.90   \n",
       "4441                    NaN     NaN              NaN     4.00   \n",
       "4923                    NaN     NaN              NaN      NaN   \n",
       "4942                    NaN     NaN              NaN     6.70   \n",
       "\n",
       "                  genres  box_office  \n",
       "764                  NaN   44,350.00  \n",
       "1735                 NaN         NaN  \n",
       "3840                 NaN         NaN  \n",
       "4052                 NaN         NaN  \n",
       "4298                 NaN         NaN  \n",
       "4415      концерт,музыка         NaN  \n",
       "4441  мультфильм,комедия         NaN  \n",
       "4923                 NaN         NaN  \n",
       "4942      концерт,музыка         NaN  "
      ]
     },
     "metadata": {},
     "output_type": "display_data"
    }
   ],
   "source": [
    "df['director'] = df['director'].fillna('нет данных')\n",
    "display(df[(df['director'] == 'нет данных')])"
   ]
  },
  {
   "cell_type": "markdown",
   "id": "79bc0243",
   "metadata": {},
   "source": [
    "Аналагичным способом заполним пропуски в стобцах producer и film_studio "
   ]
  },
  {
   "cell_type": "code",
   "execution_count": 27,
   "id": "bedb762f",
   "metadata": {},
   "outputs": [
    {
     "data": {
      "text/plain": [
       "568"
      ]
     },
     "execution_count": 27,
     "metadata": {},
     "output_type": "execute_result"
    }
   ],
   "source": [
    "df['producer'].isna().sum()"
   ]
  },
  {
   "cell_type": "code",
   "execution_count": 28,
   "id": "65bd08ae",
   "metadata": {},
   "outputs": [
    {
     "data": {
      "text/html": [
       "<div>\n",
       "<style scoped>\n",
       "    .dataframe tbody tr th:only-of-type {\n",
       "        vertical-align: middle;\n",
       "    }\n",
       "\n",
       "    .dataframe tbody tr th {\n",
       "        vertical-align: top;\n",
       "    }\n",
       "\n",
       "    .dataframe thead th {\n",
       "        text-align: right;\n",
       "    }\n",
       "</style>\n",
       "<table border=\"1\" class=\"dataframe\">\n",
       "  <thead>\n",
       "    <tr style=\"text-align: right;\">\n",
       "      <th></th>\n",
       "      <th>title</th>\n",
       "      <th>puNumber</th>\n",
       "      <th>show_start_date</th>\n",
       "      <th>type</th>\n",
       "      <th>film_studio</th>\n",
       "      <th>production_country</th>\n",
       "      <th>director</th>\n",
       "      <th>producer</th>\n",
       "      <th>age_restriction</th>\n",
       "      <th>refundable_support</th>\n",
       "      <th>nonrefundable_support</th>\n",
       "      <th>budget</th>\n",
       "      <th>financing_source</th>\n",
       "      <th>ratings</th>\n",
       "      <th>genres</th>\n",
       "      <th>box_office</th>\n",
       "    </tr>\n",
       "  </thead>\n",
       "  <tbody>\n",
       "    <tr>\n",
       "      <th>1</th>\n",
       "      <td>Особо важное задание</td>\n",
       "      <td>111013716</td>\n",
       "      <td>2016-09-13 12:00:00+00:00</td>\n",
       "      <td>Художественный</td>\n",
       "      <td>Киностудия \"Мосфильм\"</td>\n",
       "      <td>СССР</td>\n",
       "      <td>Е.Матвеев</td>\n",
       "      <td>нет данных</td>\n",
       "      <td>«6+» - для детей старше 6 лет</td>\n",
       "      <td>NaN</td>\n",
       "      <td>NaN</td>\n",
       "      <td>NaN</td>\n",
       "      <td>NaN</td>\n",
       "      <td>6.60</td>\n",
       "      <td>драма,военный</td>\n",
       "      <td>NaN</td>\n",
       "    </tr>\n",
       "    <tr>\n",
       "      <th>5</th>\n",
       "      <td>Остановился поезд</td>\n",
       "      <td>111013816</td>\n",
       "      <td>2016-09-13 12:00:00+00:00</td>\n",
       "      <td>Художественный</td>\n",
       "      <td>Киностудия \"Мосфильм\"</td>\n",
       "      <td>СССР</td>\n",
       "      <td>В.Абдрашитов</td>\n",
       "      <td>нет данных</td>\n",
       "      <td>«6+» - для детей старше 6 лет</td>\n",
       "      <td>NaN</td>\n",
       "      <td>NaN</td>\n",
       "      <td>NaN</td>\n",
       "      <td>NaN</td>\n",
       "      <td>7.70</td>\n",
       "      <td>драма</td>\n",
       "      <td>NaN</td>\n",
       "    </tr>\n",
       "    <tr>\n",
       "      <th>6</th>\n",
       "      <td>Любовь и голуби</td>\n",
       "      <td>111007013</td>\n",
       "      <td>2013-10-18 12:00:00+00:00</td>\n",
       "      <td>Художественный</td>\n",
       "      <td>Киностудия \"Мосфильм\"</td>\n",
       "      <td>СССР</td>\n",
       "      <td>В.Меньшов</td>\n",
       "      <td>нет данных</td>\n",
       "      <td>«12+» - для детей старше 12 лет</td>\n",
       "      <td>NaN</td>\n",
       "      <td>NaN</td>\n",
       "      <td>NaN</td>\n",
       "      <td>NaN</td>\n",
       "      <td>8.30</td>\n",
       "      <td>мелодрама,комедия</td>\n",
       "      <td>2,700.00</td>\n",
       "    </tr>\n",
       "    <tr>\n",
       "      <th>9</th>\n",
       "      <td>Отпуск за свой счет</td>\n",
       "      <td>111019114</td>\n",
       "      <td>2014-12-01 12:00:00+00:00</td>\n",
       "      <td>Художественный</td>\n",
       "      <td>Киностудия \"Мосфильм\", Телевидение ВНР</td>\n",
       "      <td>СССР, Венгрия</td>\n",
       "      <td>В.Титов</td>\n",
       "      <td>нет данных</td>\n",
       "      <td>«12+» - для детей старше 12 лет</td>\n",
       "      <td>NaN</td>\n",
       "      <td>NaN</td>\n",
       "      <td>NaN</td>\n",
       "      <td>NaN</td>\n",
       "      <td>7.80</td>\n",
       "      <td>мелодрама,комедия</td>\n",
       "      <td>NaN</td>\n",
       "    </tr>\n",
       "    <tr>\n",
       "      <th>11</th>\n",
       "      <td>Ответный ход</td>\n",
       "      <td>111019014</td>\n",
       "      <td>2014-12-01 12:00:00+00:00</td>\n",
       "      <td>Художественный</td>\n",
       "      <td>Киностудия \"Мосфильм\"</td>\n",
       "      <td>СССР</td>\n",
       "      <td>М.Туманишвили</td>\n",
       "      <td>нет данных</td>\n",
       "      <td>«12+» - для детей старше 12 лет</td>\n",
       "      <td>NaN</td>\n",
       "      <td>NaN</td>\n",
       "      <td>NaN</td>\n",
       "      <td>NaN</td>\n",
       "      <td>7.80</td>\n",
       "      <td>боевик,драма,приключения</td>\n",
       "      <td>NaN</td>\n",
       "    </tr>\n",
       "    <tr>\n",
       "      <th>...</th>\n",
       "      <td>...</td>\n",
       "      <td>...</td>\n",
       "      <td>...</td>\n",
       "      <td>...</td>\n",
       "      <td>...</td>\n",
       "      <td>...</td>\n",
       "      <td>...</td>\n",
       "      <td>...</td>\n",
       "      <td>...</td>\n",
       "      <td>...</td>\n",
       "      <td>...</td>\n",
       "      <td>...</td>\n",
       "      <td>...</td>\n",
       "      <td>...</td>\n",
       "      <td>...</td>\n",
       "      <td>...</td>\n",
       "    </tr>\n",
       "    <tr>\n",
       "      <th>7405</th>\n",
       "      <td>Отряд специального назначения</td>\n",
       "      <td>111020419</td>\n",
       "      <td>2019-12-01 12:00:00+00:00</td>\n",
       "      <td>Художественный</td>\n",
       "      <td>Свердловская киностудия</td>\n",
       "      <td>СССР</td>\n",
       "      <td>Г.Кузнецов</td>\n",
       "      <td>нет данных</td>\n",
       "      <td>«6+» - для детей старше 6 лет</td>\n",
       "      <td>NaN</td>\n",
       "      <td>NaN</td>\n",
       "      <td>NaN</td>\n",
       "      <td>NaN</td>\n",
       "      <td>7.00</td>\n",
       "      <td>приключения,военный</td>\n",
       "      <td>NaN</td>\n",
       "    </tr>\n",
       "    <tr>\n",
       "      <th>7406</th>\n",
       "      <td>Назначаешься внучкой</td>\n",
       "      <td>111020519</td>\n",
       "      <td>2019-12-01 12:00:00+00:00</td>\n",
       "      <td>Художественный</td>\n",
       "      <td>Свердловская киностудия</td>\n",
       "      <td>СССР</td>\n",
       "      <td>Я.Лапшин</td>\n",
       "      <td>нет данных</td>\n",
       "      <td>«12+» - для детей старше 12 лет</td>\n",
       "      <td>NaN</td>\n",
       "      <td>NaN</td>\n",
       "      <td>NaN</td>\n",
       "      <td>NaN</td>\n",
       "      <td>7.00</td>\n",
       "      <td>военный</td>\n",
       "      <td>NaN</td>\n",
       "    </tr>\n",
       "    <tr>\n",
       "      <th>7407</th>\n",
       "      <td>Перед рассветом</td>\n",
       "      <td>111020619</td>\n",
       "      <td>2019-12-01 12:00:00+00:00</td>\n",
       "      <td>Художественный</td>\n",
       "      <td>Свердловская киностудия</td>\n",
       "      <td>СССР</td>\n",
       "      <td>Я.Лапшин</td>\n",
       "      <td>нет данных</td>\n",
       "      <td>«16+» - для детей старше 16 лет</td>\n",
       "      <td>NaN</td>\n",
       "      <td>NaN</td>\n",
       "      <td>NaN</td>\n",
       "      <td>NaN</td>\n",
       "      <td>7.90</td>\n",
       "      <td>драма,мелодрама</td>\n",
       "      <td>NaN</td>\n",
       "    </tr>\n",
       "    <tr>\n",
       "      <th>7408</th>\n",
       "      <td>Ты помнишь</td>\n",
       "      <td>111020719</td>\n",
       "      <td>2019-12-01 12:00:00+00:00</td>\n",
       "      <td>Художественный</td>\n",
       "      <td>Свердловская киностудия</td>\n",
       "      <td>СССР</td>\n",
       "      <td>О.Николаевский</td>\n",
       "      <td>нет данных</td>\n",
       "      <td>«12+» - для детей старше 12 лет</td>\n",
       "      <td>NaN</td>\n",
       "      <td>NaN</td>\n",
       "      <td>NaN</td>\n",
       "      <td>NaN</td>\n",
       "      <td>7.00</td>\n",
       "      <td>драма,мелодрама,военный</td>\n",
       "      <td>NaN</td>\n",
       "    </tr>\n",
       "    <tr>\n",
       "      <th>7409</th>\n",
       "      <td>Здесь твой фронт</td>\n",
       "      <td>111020819</td>\n",
       "      <td>2019-12-01 12:00:00+00:00</td>\n",
       "      <td>Художественный</td>\n",
       "      <td>Свердловская киностудия</td>\n",
       "      <td>СССР</td>\n",
       "      <td>Э.Гаврилов</td>\n",
       "      <td>нет данных</td>\n",
       "      <td>«16+» - для детей старше 16 лет</td>\n",
       "      <td>NaN</td>\n",
       "      <td>NaN</td>\n",
       "      <td>NaN</td>\n",
       "      <td>NaN</td>\n",
       "      <td>5.80</td>\n",
       "      <td>драма,военный</td>\n",
       "      <td>NaN</td>\n",
       "    </tr>\n",
       "  </tbody>\n",
       "</table>\n",
       "<p>568 rows × 16 columns</p>\n",
       "</div>"
      ],
      "text/plain": [
       "                              title   puNumber           show_start_date  \\\n",
       "1              Особо важное задание  111013716 2016-09-13 12:00:00+00:00   \n",
       "5                 Остановился поезд  111013816 2016-09-13 12:00:00+00:00   \n",
       "6                   Любовь и голуби  111007013 2013-10-18 12:00:00+00:00   \n",
       "9               Отпуск за свой счет  111019114 2014-12-01 12:00:00+00:00   \n",
       "11                     Ответный ход  111019014 2014-12-01 12:00:00+00:00   \n",
       "...                             ...        ...                       ...   \n",
       "7405  Отряд специального назначения  111020419 2019-12-01 12:00:00+00:00   \n",
       "7406           Назначаешься внучкой  111020519 2019-12-01 12:00:00+00:00   \n",
       "7407                Перед рассветом  111020619 2019-12-01 12:00:00+00:00   \n",
       "7408                     Ты помнишь  111020719 2019-12-01 12:00:00+00:00   \n",
       "7409               Здесь твой фронт  111020819 2019-12-01 12:00:00+00:00   \n",
       "\n",
       "                 type                             film_studio  \\\n",
       "1      Художественный                   Киностудия \"Мосфильм\"   \n",
       "5      Художественный                   Киностудия \"Мосфильм\"   \n",
       "6      Художественный                   Киностудия \"Мосфильм\"   \n",
       "9      Художественный  Киностудия \"Мосфильм\", Телевидение ВНР   \n",
       "11     Художественный                   Киностудия \"Мосфильм\"   \n",
       "...               ...                                     ...   \n",
       "7405   Художественный                 Свердловская киностудия   \n",
       "7406   Художественный                 Свердловская киностудия   \n",
       "7407   Художественный                 Свердловская киностудия   \n",
       "7408   Художественный                 Свердловская киностудия   \n",
       "7409   Художественный                 Свердловская киностудия   \n",
       "\n",
       "     production_country        director    producer  \\\n",
       "1                  СССР       Е.Матвеев  нет данных   \n",
       "5                  СССР    В.Абдрашитов  нет данных   \n",
       "6                  СССР       В.Меньшов  нет данных   \n",
       "9         СССР, Венгрия         В.Титов  нет данных   \n",
       "11                 СССР   М.Туманишвили  нет данных   \n",
       "...                 ...             ...         ...   \n",
       "7405               СССР      Г.Кузнецов  нет данных   \n",
       "7406               СССР        Я.Лапшин  нет данных   \n",
       "7407               СССР        Я.Лапшин  нет данных   \n",
       "7408               СССР  О.Николаевский  нет данных   \n",
       "7409               СССР      Э.Гаврилов  нет данных   \n",
       "\n",
       "                      age_restriction  refundable_support  \\\n",
       "1       «6+» - для детей старше 6 лет                 NaN   \n",
       "5       «6+» - для детей старше 6 лет                 NaN   \n",
       "6     «12+» - для детей старше 12 лет                 NaN   \n",
       "9     «12+» - для детей старше 12 лет                 NaN   \n",
       "11    «12+» - для детей старше 12 лет                 NaN   \n",
       "...                               ...                 ...   \n",
       "7405    «6+» - для детей старше 6 лет                 NaN   \n",
       "7406  «12+» - для детей старше 12 лет                 NaN   \n",
       "7407  «16+» - для детей старше 16 лет                 NaN   \n",
       "7408  «12+» - для детей старше 12 лет                 NaN   \n",
       "7409  «16+» - для детей старше 16 лет                 NaN   \n",
       "\n",
       "      nonrefundable_support  budget financing_source  ratings  \\\n",
       "1                       NaN     NaN              NaN     6.60   \n",
       "5                       NaN     NaN              NaN     7.70   \n",
       "6                       NaN     NaN              NaN     8.30   \n",
       "9                       NaN     NaN              NaN     7.80   \n",
       "11                      NaN     NaN              NaN     7.80   \n",
       "...                     ...     ...              ...      ...   \n",
       "7405                    NaN     NaN              NaN     7.00   \n",
       "7406                    NaN     NaN              NaN     7.00   \n",
       "7407                    NaN     NaN              NaN     7.90   \n",
       "7408                    NaN     NaN              NaN     7.00   \n",
       "7409                    NaN     NaN              NaN     5.80   \n",
       "\n",
       "                        genres  box_office  \n",
       "1                драма,военный         NaN  \n",
       "5                        драма         NaN  \n",
       "6            мелодрама,комедия    2,700.00  \n",
       "9            мелодрама,комедия         NaN  \n",
       "11    боевик,драма,приключения         NaN  \n",
       "...                        ...         ...  \n",
       "7405       приключения,военный         NaN  \n",
       "7406                   военный         NaN  \n",
       "7407           драма,мелодрама         NaN  \n",
       "7408   драма,мелодрама,военный         NaN  \n",
       "7409             драма,военный         NaN  \n",
       "\n",
       "[568 rows x 16 columns]"
      ]
     },
     "metadata": {},
     "output_type": "display_data"
    }
   ],
   "source": [
    "df['producer'] = df['producer'].fillna('нет данных')\n",
    "display(df[(df['producer'] == 'нет данных')])"
   ]
  },
  {
   "cell_type": "code",
   "execution_count": 29,
   "id": "5280d339",
   "metadata": {},
   "outputs": [
    {
     "data": {
      "text/plain": [
       "18"
      ]
     },
     "execution_count": 29,
     "metadata": {},
     "output_type": "execute_result"
    }
   ],
   "source": [
    "df['film_studio'].isna().sum()"
   ]
  },
  {
   "cell_type": "code",
   "execution_count": 30,
   "id": "f6c926f2",
   "metadata": {},
   "outputs": [
    {
     "data": {
      "text/html": [
       "<div>\n",
       "<style scoped>\n",
       "    .dataframe tbody tr th:only-of-type {\n",
       "        vertical-align: middle;\n",
       "    }\n",
       "\n",
       "    .dataframe tbody tr th {\n",
       "        vertical-align: top;\n",
       "    }\n",
       "\n",
       "    .dataframe thead th {\n",
       "        text-align: right;\n",
       "    }\n",
       "</style>\n",
       "<table border=\"1\" class=\"dataframe\">\n",
       "  <thead>\n",
       "    <tr style=\"text-align: right;\">\n",
       "      <th></th>\n",
       "      <th>title</th>\n",
       "      <th>puNumber</th>\n",
       "      <th>show_start_date</th>\n",
       "      <th>type</th>\n",
       "      <th>film_studio</th>\n",
       "      <th>production_country</th>\n",
       "      <th>director</th>\n",
       "      <th>producer</th>\n",
       "      <th>age_restriction</th>\n",
       "      <th>refundable_support</th>\n",
       "      <th>nonrefundable_support</th>\n",
       "      <th>budget</th>\n",
       "      <th>financing_source</th>\n",
       "      <th>ratings</th>\n",
       "      <th>genres</th>\n",
       "      <th>box_office</th>\n",
       "    </tr>\n",
       "  </thead>\n",
       "  <tbody>\n",
       "    <tr>\n",
       "      <th>1293</th>\n",
       "      <td>Stars in Shorts</td>\n",
       "      <td>121011114</td>\n",
       "      <td>2014-06-03 12:00:00+00:00</td>\n",
       "      <td>Художественный</td>\n",
       "      <td>нет данных</td>\n",
       "      <td>США, Великобритания</td>\n",
       "      <td>Роберт Фестингер, Руперт Френд, Джей Камен, Ни...</td>\n",
       "      <td>Татьяна Келли, Роберта Мунро, Руперт Френд, До...</td>\n",
       "      <td>«16+» - для детей старше 16 лет</td>\n",
       "      <td>NaN</td>\n",
       "      <td>NaN</td>\n",
       "      <td>NaN</td>\n",
       "      <td>NaN</td>\n",
       "      <td>7.30</td>\n",
       "      <td>комедия</td>\n",
       "      <td>NaN</td>\n",
       "    </tr>\n",
       "    <tr>\n",
       "      <th>4441</th>\n",
       "      <td>Мульт личности. Выпуск 5</td>\n",
       "      <td>214000410</td>\n",
       "      <td>2010-01-25 12:00:00+00:00</td>\n",
       "      <td>Художественный</td>\n",
       "      <td>нет данных</td>\n",
       "      <td>NaN</td>\n",
       "      <td>нет данных</td>\n",
       "      <td>нет данных</td>\n",
       "      <td>«0+» - для любой зрительской аудитории</td>\n",
       "      <td>NaN</td>\n",
       "      <td>NaN</td>\n",
       "      <td>NaN</td>\n",
       "      <td>NaN</td>\n",
       "      <td>4.00</td>\n",
       "      <td>мультфильм,комедия</td>\n",
       "      <td>NaN</td>\n",
       "    </tr>\n",
       "    <tr>\n",
       "      <th>6105</th>\n",
       "      <td>Значит любит</td>\n",
       "      <td>111013818</td>\n",
       "      <td>2018-08-10 12:00:00+00:00</td>\n",
       "      <td>Художественный</td>\n",
       "      <td>нет данных</td>\n",
       "      <td>Россия</td>\n",
       "      <td>А.Краевский</td>\n",
       "      <td>Е.Щербакова</td>\n",
       "      <td>«18+» - запрещено для детей</td>\n",
       "      <td>NaN</td>\n",
       "      <td>NaN</td>\n",
       "      <td>NaN</td>\n",
       "      <td>NaN</td>\n",
       "      <td>8.00</td>\n",
       "      <td>NaN</td>\n",
       "      <td>NaN</td>\n",
       "    </tr>\n",
       "    <tr>\n",
       "      <th>6181</th>\n",
       "      <td>Несейка. Младшая дочь</td>\n",
       "      <td>112007018</td>\n",
       "      <td>2018-09-01 12:00:00+00:00</td>\n",
       "      <td>Документальный</td>\n",
       "      <td>нет данных</td>\n",
       "      <td>Россия</td>\n",
       "      <td>В.Марин</td>\n",
       "      <td>Д.Якунин, Ф.Абрютин, О.Филонова</td>\n",
       "      <td>«6+» - для детей старше 6 лет</td>\n",
       "      <td>NaN</td>\n",
       "      <td>NaN</td>\n",
       "      <td>NaN</td>\n",
       "      <td>NaN</td>\n",
       "      <td>NaN</td>\n",
       "      <td>NaN</td>\n",
       "      <td>NaN</td>\n",
       "    </tr>\n",
       "    <tr>\n",
       "      <th>6379</th>\n",
       "      <td>Ян Антонышев</td>\n",
       "      <td>112011818</td>\n",
       "      <td>2018-11-15 12:00:00+00:00</td>\n",
       "      <td>Документальный</td>\n",
       "      <td>нет данных</td>\n",
       "      <td>Россия</td>\n",
       "      <td>Е.Окопная</td>\n",
       "      <td>Е.Герасимов</td>\n",
       "      <td>«12+» - для детей старше 12 лет</td>\n",
       "      <td>NaN</td>\n",
       "      <td>NaN</td>\n",
       "      <td>NaN</td>\n",
       "      <td>NaN</td>\n",
       "      <td>NaN</td>\n",
       "      <td>NaN</td>\n",
       "      <td>NaN</td>\n",
       "    </tr>\n",
       "    <tr>\n",
       "      <th>6380</th>\n",
       "      <td>Ян Антонышев</td>\n",
       "      <td>112011918</td>\n",
       "      <td>2018-11-15 12:00:00+00:00</td>\n",
       "      <td>Документальный</td>\n",
       "      <td>нет данных</td>\n",
       "      <td>Россия</td>\n",
       "      <td>Е.Окопная</td>\n",
       "      <td>Е.Герасимов</td>\n",
       "      <td>«12+» - для детей старше 12 лет</td>\n",
       "      <td>NaN</td>\n",
       "      <td>NaN</td>\n",
       "      <td>NaN</td>\n",
       "      <td>NaN</td>\n",
       "      <td>NaN</td>\n",
       "      <td>NaN</td>\n",
       "      <td>NaN</td>\n",
       "    </tr>\n",
       "    <tr>\n",
       "      <th>6399</th>\n",
       "      <td>Доживем до каникул?..</td>\n",
       "      <td>111021918</td>\n",
       "      <td>2018-11-15 12:00:00+00:00</td>\n",
       "      <td>Художественный</td>\n",
       "      <td>нет данных</td>\n",
       "      <td>Россия</td>\n",
       "      <td>Я.Хальпукова (псевдоним Яна Мартынец)</td>\n",
       "      <td>Я.Хальпукова (псевдоним Яна Мартынец)</td>\n",
       "      <td>«12+» - для детей старше 12 лет</td>\n",
       "      <td>NaN</td>\n",
       "      <td>NaN</td>\n",
       "      <td>NaN</td>\n",
       "      <td>NaN</td>\n",
       "      <td>NaN</td>\n",
       "      <td>NaN</td>\n",
       "      <td>41,225.00</td>\n",
       "    </tr>\n",
       "    <tr>\n",
       "      <th>6485</th>\n",
       "      <td>До и После</td>\n",
       "      <td>112014418</td>\n",
       "      <td>2018-12-05 12:00:00+00:00</td>\n",
       "      <td>Документальный</td>\n",
       "      <td>нет данных</td>\n",
       "      <td>Россия</td>\n",
       "      <td>А.Новокреповская</td>\n",
       "      <td>А.Новокреповская</td>\n",
       "      <td>«6+» - для детей старше 6 лет</td>\n",
       "      <td>NaN</td>\n",
       "      <td>NaN</td>\n",
       "      <td>NaN</td>\n",
       "      <td>NaN</td>\n",
       "      <td>6.90</td>\n",
       "      <td>драма,криминал,детектив</td>\n",
       "      <td>NaN</td>\n",
       "    </tr>\n",
       "    <tr>\n",
       "      <th>6494</th>\n",
       "      <td>Калмыцкий геше Нгаванг Вангьял</td>\n",
       "      <td>113002018</td>\n",
       "      <td>2018-12-05 12:00:00+00:00</td>\n",
       "      <td>Научно-популярный</td>\n",
       "      <td>нет данных</td>\n",
       "      <td>Россия</td>\n",
       "      <td>И.Долгина</td>\n",
       "      <td>И.Долгина</td>\n",
       "      <td>«12+» - для детей старше 12 лет</td>\n",
       "      <td>NaN</td>\n",
       "      <td>NaN</td>\n",
       "      <td>NaN</td>\n",
       "      <td>NaN</td>\n",
       "      <td>NaN</td>\n",
       "      <td>NaN</td>\n",
       "      <td>NaN</td>\n",
       "    </tr>\n",
       "    <tr>\n",
       "      <th>6497</th>\n",
       "      <td>Мой папа Чингисхан</td>\n",
       "      <td>112014918</td>\n",
       "      <td>2018-12-06 12:00:00+00:00</td>\n",
       "      <td>Документальный</td>\n",
       "      <td>нет данных</td>\n",
       "      <td>Россия</td>\n",
       "      <td>А.Сайфуллина</td>\n",
       "      <td>А.Сайфуллина</td>\n",
       "      <td>«12+» - для детей старше 12 лет</td>\n",
       "      <td>NaN</td>\n",
       "      <td>NaN</td>\n",
       "      <td>NaN</td>\n",
       "      <td>NaN</td>\n",
       "      <td>NaN</td>\n",
       "      <td>NaN</td>\n",
       "      <td>NaN</td>\n",
       "    </tr>\n",
       "    <tr>\n",
       "      <th>6498</th>\n",
       "      <td>В плену города грёз</td>\n",
       "      <td>112014818</td>\n",
       "      <td>2018-12-06 12:00:00+00:00</td>\n",
       "      <td>Документальный</td>\n",
       "      <td>нет данных</td>\n",
       "      <td>Россия</td>\n",
       "      <td>В.Витовцев</td>\n",
       "      <td>О.Мичи</td>\n",
       "      <td>«18+» - запрещено для детей</td>\n",
       "      <td>NaN</td>\n",
       "      <td>NaN</td>\n",
       "      <td>NaN</td>\n",
       "      <td>NaN</td>\n",
       "      <td>7.90</td>\n",
       "      <td>фантастика,боевик,триллер</td>\n",
       "      <td>NaN</td>\n",
       "    </tr>\n",
       "    <tr>\n",
       "      <th>6499</th>\n",
       "      <td>Последнее фото</td>\n",
       "      <td>112014518</td>\n",
       "      <td>2018-12-06 12:00:00+00:00</td>\n",
       "      <td>Документальный</td>\n",
       "      <td>нет данных</td>\n",
       "      <td>Россия</td>\n",
       "      <td>Е.Севастьянов</td>\n",
       "      <td>Е.Севастьянов</td>\n",
       "      <td>«18+» - запрещено для детей</td>\n",
       "      <td>NaN</td>\n",
       "      <td>NaN</td>\n",
       "      <td>NaN</td>\n",
       "      <td>NaN</td>\n",
       "      <td>8.10</td>\n",
       "      <td>NaN</td>\n",
       "      <td>NaN</td>\n",
       "    </tr>\n",
       "    <tr>\n",
       "      <th>6507</th>\n",
       "      <td>Мой селфхарм</td>\n",
       "      <td>113001918</td>\n",
       "      <td>2018-12-06 12:00:00+00:00</td>\n",
       "      <td>Научно-популярный</td>\n",
       "      <td>нет данных</td>\n",
       "      <td>Россия</td>\n",
       "      <td>Я.Лаптев (псевдоним Яков Раскалов)</td>\n",
       "      <td>Я.Лаптев (псевдоним Яков Раскалов)</td>\n",
       "      <td>«18+» - запрещено для детей</td>\n",
       "      <td>NaN</td>\n",
       "      <td>NaN</td>\n",
       "      <td>NaN</td>\n",
       "      <td>NaN</td>\n",
       "      <td>NaN</td>\n",
       "      <td>NaN</td>\n",
       "      <td>NaN</td>\n",
       "    </tr>\n",
       "    <tr>\n",
       "      <th>6511</th>\n",
       "      <td>Обстоятельства места и времени</td>\n",
       "      <td>112015018</td>\n",
       "      <td>2018-12-12 12:00:00+00:00</td>\n",
       "      <td>Документальный</td>\n",
       "      <td>нет данных</td>\n",
       "      <td>Россия</td>\n",
       "      <td>Д.Кабаков</td>\n",
       "      <td>Д.Кабаков</td>\n",
       "      <td>«12+» - для детей старше 12 лет</td>\n",
       "      <td>NaN</td>\n",
       "      <td>NaN</td>\n",
       "      <td>NaN</td>\n",
       "      <td>NaN</td>\n",
       "      <td>7.80</td>\n",
       "      <td>NaN</td>\n",
       "      <td>NaN</td>\n",
       "    </tr>\n",
       "    <tr>\n",
       "      <th>6638</th>\n",
       "      <td>Эрик Булатов. Моя Третьяковка, серии 1-2</td>\n",
       "      <td>113000319</td>\n",
       "      <td>2019-01-28 12:00:00+00:00</td>\n",
       "      <td>Научно-популярный</td>\n",
       "      <td>нет данных</td>\n",
       "      <td>Россия</td>\n",
       "      <td>С.Гарькавый</td>\n",
       "      <td>Т.Пинская</td>\n",
       "      <td>«6+» - для детей старше 6 лет</td>\n",
       "      <td>NaN</td>\n",
       "      <td>NaN</td>\n",
       "      <td>NaN</td>\n",
       "      <td>NaN</td>\n",
       "      <td>NaN</td>\n",
       "      <td>NaN</td>\n",
       "      <td>NaN</td>\n",
       "    </tr>\n",
       "    <tr>\n",
       "      <th>6639</th>\n",
       "      <td>Брови</td>\n",
       "      <td>111000719</td>\n",
       "      <td>2019-03-01 12:00:00+00:00</td>\n",
       "      <td>Художественный</td>\n",
       "      <td>нет данных</td>\n",
       "      <td>Россия</td>\n",
       "      <td>О.Штром</td>\n",
       "      <td>В.Максимов, В.Степанов, Г.Киракосян, О.Штром</td>\n",
       "      <td>«16+» - для детей старше 16 лет</td>\n",
       "      <td>NaN</td>\n",
       "      <td>NaN</td>\n",
       "      <td>NaN</td>\n",
       "      <td>NaN</td>\n",
       "      <td>6.70</td>\n",
       "      <td>NaN</td>\n",
       "      <td>NaN</td>\n",
       "    </tr>\n",
       "    <tr>\n",
       "      <th>6662</th>\n",
       "      <td>Топливо</td>\n",
       "      <td>111001419</td>\n",
       "      <td>2019-02-12 12:00:00+00:00</td>\n",
       "      <td>Художественный</td>\n",
       "      <td>нет данных</td>\n",
       "      <td>Россия</td>\n",
       "      <td>М.Архипов</td>\n",
       "      <td>М.Архипов</td>\n",
       "      <td>«12+» - для детей старше 12 лет</td>\n",
       "      <td>NaN</td>\n",
       "      <td>NaN</td>\n",
       "      <td>NaN</td>\n",
       "      <td>NaN</td>\n",
       "      <td>6.10</td>\n",
       "      <td>короткометражка,фантастика</td>\n",
       "      <td>NaN</td>\n",
       "    </tr>\n",
       "    <tr>\n",
       "      <th>6722</th>\n",
       "      <td>Путешествие в Париж</td>\n",
       "      <td>111002919</td>\n",
       "      <td>2019-03-01 12:00:00+00:00</td>\n",
       "      <td>Художественный</td>\n",
       "      <td>нет данных</td>\n",
       "      <td>Россия</td>\n",
       "      <td>М.Олейник (псевдоним - Мария Полякова)</td>\n",
       "      <td>Н.Савко</td>\n",
       "      <td>«16+» - для детей старше 16 лет</td>\n",
       "      <td>NaN</td>\n",
       "      <td>NaN</td>\n",
       "      <td>NaN</td>\n",
       "      <td>NaN</td>\n",
       "      <td>5.30</td>\n",
       "      <td>NaN</td>\n",
       "      <td>NaN</td>\n",
       "    </tr>\n",
       "  </tbody>\n",
       "</table>\n",
       "</div>"
      ],
      "text/plain": [
       "                                         title   puNumber  \\\n",
       "1293                           Stars in Shorts  121011114   \n",
       "4441                  Мульт личности. Выпуск 5  214000410   \n",
       "6105                              Значит любит  111013818   \n",
       "6181                     Несейка. Младшая дочь  112007018   \n",
       "6379                              Ян Антонышев  112011818   \n",
       "6380                              Ян Антонышев  112011918   \n",
       "6399                     Доживем до каникул?..  111021918   \n",
       "6485                                До и После  112014418   \n",
       "6494            Калмыцкий геше Нгаванг Вангьял  113002018   \n",
       "6497                        Мой папа Чингисхан  112014918   \n",
       "6498                       В плену города грёз  112014818   \n",
       "6499                            Последнее фото  112014518   \n",
       "6507                              Мой селфхарм  113001918   \n",
       "6511            Обстоятельства места и времени  112015018   \n",
       "6638  Эрик Булатов. Моя Третьяковка, серии 1-2  113000319   \n",
       "6639                                     Брови  111000719   \n",
       "6662                                   Топливо  111001419   \n",
       "6722                       Путешествие в Париж  111002919   \n",
       "\n",
       "               show_start_date               type film_studio  \\\n",
       "1293 2014-06-03 12:00:00+00:00     Художественный  нет данных   \n",
       "4441 2010-01-25 12:00:00+00:00     Художественный  нет данных   \n",
       "6105 2018-08-10 12:00:00+00:00     Художественный  нет данных   \n",
       "6181 2018-09-01 12:00:00+00:00     Документальный  нет данных   \n",
       "6379 2018-11-15 12:00:00+00:00     Документальный  нет данных   \n",
       "6380 2018-11-15 12:00:00+00:00     Документальный  нет данных   \n",
       "6399 2018-11-15 12:00:00+00:00     Художественный  нет данных   \n",
       "6485 2018-12-05 12:00:00+00:00     Документальный  нет данных   \n",
       "6494 2018-12-05 12:00:00+00:00  Научно-популярный  нет данных   \n",
       "6497 2018-12-06 12:00:00+00:00     Документальный  нет данных   \n",
       "6498 2018-12-06 12:00:00+00:00     Документальный  нет данных   \n",
       "6499 2018-12-06 12:00:00+00:00     Документальный  нет данных   \n",
       "6507 2018-12-06 12:00:00+00:00  Научно-популярный  нет данных   \n",
       "6511 2018-12-12 12:00:00+00:00     Документальный  нет данных   \n",
       "6638 2019-01-28 12:00:00+00:00  Научно-популярный  нет данных   \n",
       "6639 2019-03-01 12:00:00+00:00     Художественный  нет данных   \n",
       "6662 2019-02-12 12:00:00+00:00     Художественный  нет данных   \n",
       "6722 2019-03-01 12:00:00+00:00     Художественный  нет данных   \n",
       "\n",
       "       production_country                                           director  \\\n",
       "1293  США, Великобритания  Роберт Фестингер, Руперт Френд, Джей Камен, Ни...   \n",
       "4441                  NaN                                         нет данных   \n",
       "6105               Россия                                        А.Краевский   \n",
       "6181               Россия                                            В.Марин   \n",
       "6379               Россия                                          Е.Окопная   \n",
       "6380               Россия                                          Е.Окопная   \n",
       "6399               Россия              Я.Хальпукова (псевдоним Яна Мартынец)   \n",
       "6485               Россия                                   А.Новокреповская   \n",
       "6494               Россия                                          И.Долгина   \n",
       "6497               Россия                                       А.Сайфуллина   \n",
       "6498               Россия                                         В.Витовцев   \n",
       "6499               Россия                                      Е.Севастьянов   \n",
       "6507               Россия                 Я.Лаптев (псевдоним Яков Раскалов)   \n",
       "6511               Россия                                          Д.Кабаков   \n",
       "6638               Россия                                        С.Гарькавый   \n",
       "6639               Россия                                            О.Штром   \n",
       "6662               Россия                                          М.Архипов   \n",
       "6722               Россия             М.Олейник (псевдоним - Мария Полякова)   \n",
       "\n",
       "                                               producer  \\\n",
       "1293  Татьяна Келли, Роберта Мунро, Руперт Френд, До...   \n",
       "4441                                         нет данных   \n",
       "6105                                        Е.Щербакова   \n",
       "6181                    Д.Якунин, Ф.Абрютин, О.Филонова   \n",
       "6379                                        Е.Герасимов   \n",
       "6380                                        Е.Герасимов   \n",
       "6399              Я.Хальпукова (псевдоним Яна Мартынец)   \n",
       "6485                                   А.Новокреповская   \n",
       "6494                                          И.Долгина   \n",
       "6497                                       А.Сайфуллина   \n",
       "6498                                             О.Мичи   \n",
       "6499                                      Е.Севастьянов   \n",
       "6507                 Я.Лаптев (псевдоним Яков Раскалов)   \n",
       "6511                                          Д.Кабаков   \n",
       "6638                                          Т.Пинская   \n",
       "6639       В.Максимов, В.Степанов, Г.Киракосян, О.Штром   \n",
       "6662                                          М.Архипов   \n",
       "6722                                            Н.Савко   \n",
       "\n",
       "                             age_restriction  refundable_support  \\\n",
       "1293         «16+» - для детей старше 16 лет                 NaN   \n",
       "4441  «0+» - для любой зрительской аудитории                 NaN   \n",
       "6105             «18+» - запрещено для детей                 NaN   \n",
       "6181           «6+» - для детей старше 6 лет                 NaN   \n",
       "6379         «12+» - для детей старше 12 лет                 NaN   \n",
       "6380         «12+» - для детей старше 12 лет                 NaN   \n",
       "6399         «12+» - для детей старше 12 лет                 NaN   \n",
       "6485           «6+» - для детей старше 6 лет                 NaN   \n",
       "6494         «12+» - для детей старше 12 лет                 NaN   \n",
       "6497         «12+» - для детей старше 12 лет                 NaN   \n",
       "6498             «18+» - запрещено для детей                 NaN   \n",
       "6499             «18+» - запрещено для детей                 NaN   \n",
       "6507             «18+» - запрещено для детей                 NaN   \n",
       "6511         «12+» - для детей старше 12 лет                 NaN   \n",
       "6638           «6+» - для детей старше 6 лет                 NaN   \n",
       "6639         «16+» - для детей старше 16 лет                 NaN   \n",
       "6662         «12+» - для детей старше 12 лет                 NaN   \n",
       "6722         «16+» - для детей старше 16 лет                 NaN   \n",
       "\n",
       "      nonrefundable_support  budget financing_source  ratings  \\\n",
       "1293                    NaN     NaN              NaN     7.30   \n",
       "4441                    NaN     NaN              NaN     4.00   \n",
       "6105                    NaN     NaN              NaN     8.00   \n",
       "6181                    NaN     NaN              NaN      NaN   \n",
       "6379                    NaN     NaN              NaN      NaN   \n",
       "6380                    NaN     NaN              NaN      NaN   \n",
       "6399                    NaN     NaN              NaN      NaN   \n",
       "6485                    NaN     NaN              NaN     6.90   \n",
       "6494                    NaN     NaN              NaN      NaN   \n",
       "6497                    NaN     NaN              NaN      NaN   \n",
       "6498                    NaN     NaN              NaN     7.90   \n",
       "6499                    NaN     NaN              NaN     8.10   \n",
       "6507                    NaN     NaN              NaN      NaN   \n",
       "6511                    NaN     NaN              NaN     7.80   \n",
       "6638                    NaN     NaN              NaN      NaN   \n",
       "6639                    NaN     NaN              NaN     6.70   \n",
       "6662                    NaN     NaN              NaN     6.10   \n",
       "6722                    NaN     NaN              NaN     5.30   \n",
       "\n",
       "                          genres  box_office  \n",
       "1293                     комедия         NaN  \n",
       "4441          мультфильм,комедия         NaN  \n",
       "6105                         NaN         NaN  \n",
       "6181                         NaN         NaN  \n",
       "6379                         NaN         NaN  \n",
       "6380                         NaN         NaN  \n",
       "6399                         NaN   41,225.00  \n",
       "6485     драма,криминал,детектив         NaN  \n",
       "6494                         NaN         NaN  \n",
       "6497                         NaN         NaN  \n",
       "6498   фантастика,боевик,триллер         NaN  \n",
       "6499                         NaN         NaN  \n",
       "6507                         NaN         NaN  \n",
       "6511                         NaN         NaN  \n",
       "6638                         NaN         NaN  \n",
       "6639                         NaN         NaN  \n",
       "6662  короткометражка,фантастика         NaN  \n",
       "6722                         NaN         NaN  "
      ]
     },
     "metadata": {},
     "output_type": "display_data"
    }
   ],
   "source": [
    "df['film_studio'] = df['film_studio'].fillna('нет данных')\n",
    "display(df[(df['film_studio'] == 'нет данных')])"
   ]
  },
  {
   "cell_type": "markdown",
   "id": "9913cae8",
   "metadata": {},
   "source": [
    "Данные в столбцах  financing_source, production_country данные схожи, возможно предположить сто тут представленны только данные по фильмам которые финансировались государством. Пропуски решено заполнить как \"нет данных\""
   ]
  },
  {
   "cell_type": "code",
   "execution_count": 31,
   "id": "9be2316a",
   "metadata": {},
   "outputs": [],
   "source": [
    "\n",
    "\n",
    "df['financing_source'] = df['financing_source'].fillna('нет данных')\n",
    "df['production_country'] = df['production_country'].fillna('нет данных')"
   ]
  },
  {
   "cell_type": "markdown",
   "id": "33b3b3d5",
   "metadata": {},
   "source": [
    "Были так же проанализированы количественные значения refundable_support, nonrefundable_support, budget. Было решено пропуски не заполнять значением"
   ]
  },
  {
   "cell_type": "code",
   "execution_count": 32,
   "id": "e51cdbd3",
   "metadata": {},
   "outputs": [],
   "source": [
    "\n",
    "df['refundable_support'] = df['refundable_support'].astype('float')\n",
    "df['nonrefundable_support'] = df['nonrefundable_support'].astype('float')\n",
    "\n",
    "\n",
    "df['budget'] = df['budget'].astype('float')"
   ]
  },
  {
   "cell_type": "markdown",
   "id": "d5c4e3ab",
   "metadata": {},
   "source": [
    "Так же заменим нулевые значения на пустоту"
   ]
  },
  {
   "cell_type": "code",
   "execution_count": 33,
   "id": "f254f98d",
   "metadata": {},
   "outputs": [],
   "source": [
    "data['refundable_support'] = data['refundable_support'].replace(float('inf'), np.nan)\n",
    "data['nonrefundable_support'] = data['nonrefundable_support'].replace(float('inf'), np.nan)\n",
    "data['budget'] = data['budget'].replace(float('inf'), np.nan)"
   ]
  },
  {
   "cell_type": "markdown",
   "id": "78ddadfd",
   "metadata": {},
   "source": [
    "Теперь проанализируем столбец жанры фильмов."
   ]
  },
  {
   "cell_type": "code",
   "execution_count": 34,
   "id": "8aacbf68",
   "metadata": {},
   "outputs": [
    {
     "data": {
      "text/plain": [
       "array(['боевик,драма,мелодрама', 'драма,военный',\n",
       "       'фантастика,боевик,триллер', 'драма', 'мелодрама,комедия',\n",
       "       'мюзикл,мелодрама,комедия', 'комедия,криминал',\n",
       "       'боевик,триллер,детектив', 'боевик,драма,приключения',\n",
       "       'драма,спорт', 'триллер,драма,мелодрама', 'комедия,мелодрама',\n",
       "       'драма,мелодрама,комедия', 'драма,мелодрама', 'драма,история',\n",
       "       'драма,мелодрама,семейный', 'комедия,мелодрама,криминал',\n",
       "       'комедия', 'боевик,драма,криминал', 'драма,комедия',\n",
       "       'ужасы,фантастика,комедия', 'мультфильм,короткометражка,мелодрама',\n",
       "       'драма,криминал', 'мультфильм,фантастика,фэнтези',\n",
       "       'триллер,драма,криминал', 'драма,мелодрама,биография',\n",
       "       'драма,комедия,военный', 'фантастика,драма,детектив',\n",
       "       'мюзикл,семейный', nan, 'военный,приключения,драма',\n",
       "       'документальный,драма', 'драма,биография,история',\n",
       "       'боевик,триллер,драма', 'фэнтези,боевик',\n",
       "       'боевик,комедия,криминал', 'мюзикл,комедия,детский',\n",
       "       'комедия,мелодрама,драма', 'мультфильм,фэнтези,комедия',\n",
       "       'комедия,история', 'мелодрама', 'драма,биография,музыка',\n",
       "       'фэнтези,драма,мелодрама', 'триллер,военный',\n",
       "       'драма,мелодрама,военный', 'мюзикл,драма,мелодрама',\n",
       "       'мюзикл,комедия', 'мультфильм,приключения,семейный',\n",
       "       'ужасы,триллер', 'боевик,драма,военный', 'драма,боевик',\n",
       "       'мультфильм,драма,комедия', 'триллер,криминал',\n",
       "       'военный,биография,драма', 'комедия,семейный', 'военный',\n",
       "       'драма,семейный,биография', 'фэнтези,приключения,семейный',\n",
       "       'драма,криминал,биография', 'ужасы,триллер,детектив',\n",
       "       'боевик,история,драма', 'ужасы,триллер,драма',\n",
       "       'драма,криминал,спорт', 'документальный,короткометражка',\n",
       "       'триллер,драма', 'криминал,детектив,приключения',\n",
       "       'драма,комедия,криминал', 'драма,комедия,вестерн',\n",
       "       'драма,мелодрама,детектив', 'мелодрама,биография',\n",
       "       'фэнтези,мелодрама,драма', 'драма,мелодрама,история',\n",
       "       'комедия,приключения,история', 'приключения', 'драма,семейный',\n",
       "       'криминал,детектив', 'мультфильм,короткометражка,ужасы',\n",
       "       'фантастика,триллер,драма', 'фэнтези,мелодрама,комедия',\n",
       "       'драма,биография', 'комедия,криминал,история',\n",
       "       'триллер,драма,детектив', 'фантастика,комедия,приключения',\n",
       "       'фэнтези,семейный', 'ужасы,фантастика,боевик',\n",
       "       'мелодрама,криминал', 'комедия,приключения,мелодрама',\n",
       "       'боевик,триллер,приключения', 'боевик,приключения',\n",
       "       'боевик,триллер,криминал', 'документальный,военный,история',\n",
       "       'драма,музыка', 'боевик,драма', 'приключения,боевик',\n",
       "       'драма,военный,биография', 'триллер,драма,приключения',\n",
       "       'аниме,мультфильм,фэнтези', 'триллер,детектив,драма',\n",
       "       'боевик,триллер,мелодрама', 'боевик,история',\n",
       "       'приключения,история', 'драма,комедия,приключения',\n",
       "       'фэнтези,комедия,приключения', 'драма,вестерн',\n",
       "       'документальный,музыка', 'мелодрама,драма',\n",
       "       'триллер,криминал,детектив', 'ужасы', 'боевик,комедия,приключения',\n",
       "       'мультфильм,фэнтези,боевик', 'боевик,фэнтези,драма',\n",
       "       'фэнтези,драма', 'фэнтези,боевик,комедия',\n",
       "       'приключения,детский,комедия', 'документальный',\n",
       "       'боевик,триллер,комедия', 'мелодрама,комедия,криминал',\n",
       "       'драма,детектив', 'мюзикл,ужасы,триллер', 'детектив,триллер,ужасы',\n",
       "       'ужасы,фэнтези', 'ужасы,фэнтези,триллер', 'мультфильм,драма',\n",
       "       'ужасы,боевик,фантастика', 'боевик', 'фантастика,боевик',\n",
       "       'мелодрама,комедия,приключения', 'триллер,детектив',\n",
       "       'мюзикл,мелодрама,фэнтези', 'криминал', 'триллер,комедия,криминал',\n",
       "       'боевик,приключения,триллер', 'триллер,драма,военный',\n",
       "       'комедия,семейный,музыка', 'комедия,фантастика,мелодрама',\n",
       "       'фантастика,триллер,криминал', 'комедия,драма', 'боевик,военный',\n",
       "       'ужасы,фантастика,триллер', 'фантастика,драма,мелодрама',\n",
       "       'фэнтези,драма,детектив', 'боевик,триллер', 'боевик,драма,история',\n",
       "       'мультфильм,мюзикл,фэнтези', 'для взрослых,драма,мелодрама',\n",
       "       'мультфильм,боевик,детектив', 'фантастика,мелодрама,боевик',\n",
       "       'ужасы,фантастика,детектив', 'фантастика,боевик,приключения',\n",
       "       'мелодрама,комедия,спорт', 'комедия,боевик,приключения',\n",
       "       'документальный,приключения', 'мультфильм,короткометражка,детский',\n",
       "       'комедия,приключения', 'ужасы,драма', 'ужасы,фэнтези,боевик',\n",
       "       'мультфильм,фэнтези,детский', 'мюзикл,боевик,драма',\n",
       "       'семейный,комедия,драма', 'концерт,музыка', 'фэнтези,боевик,драма',\n",
       "       'драма,комедия,музыка', 'фантастика,фэнтези,боевик',\n",
       "       'фэнтези,комедия,семейный', 'фэнтези,драма,комедия',\n",
       "       'мультфильм,мюзикл,драма', 'триллер', 'боевик,криминал,триллер',\n",
       "       'мультфильм,приключения,драма', 'мелодрама,музыка',\n",
       "       'документальный,музыка,концерт', 'мультфильм,семейный',\n",
       "       'мультфильм,комедия,приключения', 'мультфильм,комедия,семейный',\n",
       "       'фантастика,драма', 'фэнтези,боевик,приключения',\n",
       "       'мультфильм,приключения', 'драма,военный,история', 'история',\n",
       "       'драма,приключения,военный',\n",
       "       'документальный,короткометражка,семейный',\n",
       "       'мелодрама,история,триллер', 'ужасы,детектив',\n",
       "       'мюзикл,комедия,приключения', 'драма,спорт,биография',\n",
       "       'фантастика,боевик,комедия', 'фантастика,приключения,детектив',\n",
       "       'короткометражка,драма,военный', 'драма,мультфильм',\n",
       "       'приключения,семейный', 'детектив', 'триллер,приключения',\n",
       "       'аниме,мультфильм,боевик', 'драма,комедия,биография',\n",
       "       'драма,комедия,спорт', 'боевик,мелодрама,комедия',\n",
       "       'семейный,комедия', 'фэнтези,боевик,триллер',\n",
       "       'документальный,фэнтези,семейный', 'фантастика,фэнтези,драма',\n",
       "       'ужасы,комедия,фэнтези', 'документальный,биография,музыка',\n",
       "       'фантастика,боевик,фэнтези', 'ужасы,боевик,триллер',\n",
       "       'комедия,криминал,семейный', 'приключения,драма',\n",
       "       'криминал,драма,триллер', 'драма,детектив,криминал',\n",
       "       'фэнтези,приключения,комедия', 'комедия,спорт',\n",
       "       'мюзикл,фэнтези,мелодрама', 'мультфильм,фэнтези,приключения',\n",
       "       'фантастика,фэнтези,приключения', 'фэнтези',\n",
       "       'фэнтези,приключения,боевик', 'фантастика,боевик,драма',\n",
       "       'криминал,драма', 'криминал,триллер,драма',\n",
       "       'драма,мелодрама,приключения', 'детский,комедия',\n",
       "       'фантастика,драма,боевик', 'мультфильм,семейный,фэнтези',\n",
       "       'концерт,музыка,документальный', 'ужасы,комедия,приключения',\n",
       "       'драма,мелодрама,криминал', 'ужасы,фантастика,фэнтези',\n",
       "       'боевик,комедия', 'мультфильм,фантастика,комедия', 'триллер,ужасы',\n",
       "       'мультфильм,мюзикл,комедия', 'мелодрама,фэнтези,триллер',\n",
       "       'детский,приключения,комедия', 'комедия,детектив',\n",
       "       'аниме,мультфильм,мелодрама', 'документальный,драма,семейный',\n",
       "       'документальный,биография,история', 'военный,боевик,драма',\n",
       "       'ужасы,комедия', 'комедия,приключения,семейный',\n",
       "       'приключения,биография,история', 'детский,приключения,семейный',\n",
       "       'спорт,драма,биография', 'аниме,мультфильм,ужасы',\n",
       "       'фантастика,боевик,криминал', 'мюзикл,драма',\n",
       "       'драма,криминал,детектив', 'аниме,мультфильм,драма',\n",
       "       'драма,триллер,приключения', 'триллер,криминал,драма',\n",
       "       'фэнтези,комедия,драма', 'мультфильм,комедия',\n",
       "       'драма,комедия,история', 'комедия,биография,история',\n",
       "       'мультфильм,фантастика,приключения', 'аниме,мультфильм,фантастика',\n",
       "       'мультфильм,фэнтези,семейный', 'мультфильм,боевик,комедия',\n",
       "       'комедия,криминал,спорт', 'документальный,мюзикл',\n",
       "       'мелодрама,комедия,музыка', 'биография',\n",
       "       'триллер,криминал,комедия', 'фантастика,драма,комедия',\n",
       "       'комедия,драма,мелодрама', 'фантастика,приключения,боевик',\n",
       "       'мультфильм,фэнтези,драма', 'триллер,комедия',\n",
       "       'драма,приключения,биография', 'фантастика,комедия',\n",
       "       'мелодрама,драма,комедия', 'боевик,криминал',\n",
       "       'драма,криминал,боевик', 'мультфильм,мюзикл,детский',\n",
       "       'драма,фэнтези', 'документальный,семейный',\n",
       "       'фэнтези,драма,приключения', 'ужасы,комедия,фантастика',\n",
       "       'драма,мелодрама,музыка', 'фэнтези,драма,семейный',\n",
       "       'триллер,мелодрама,драма', 'вестерн,боевик,драма',\n",
       "       'мультфильм,короткометражка,комедия', 'триллер,драма,история',\n",
       "       'ужасы,фантастика', 'ужасы,мелодрама,комедия',\n",
       "       'фэнтези,приключения', 'фантастика,триллер',\n",
       "       'ужасы,боевик,фэнтези', 'мультфильм,комедия,детский',\n",
       "       'триллер,драма,биография', 'мультфильм,ужасы,фэнтези',\n",
       "       'мультфильм,ужасы,фантастика', 'ужасы,боевик,комедия',\n",
       "       'драма,биография,спорт', 'мультфильм', 'мелодрама,комедия,драма',\n",
       "       'приключения,фантастика,семейный', 'комедия,криминал,детектив',\n",
       "       'ужасы,триллер,комедия', 'криминал,комедия,триллер',\n",
       "       'семейный,приключения,комедия', 'мультфильм,драма,приключения',\n",
       "       'ужасы,драма,детектив', 'драма,приключения,фэнтези',\n",
       "       'фантастика,мультфильм,драма', 'драма,триллер,детектив',\n",
       "       'драма,история,музыка', 'детский', 'триллер,боевик,криминал',\n",
       "       'драма,фантастика', 'комедия,драма,семейный',\n",
       "       'боевик,драма,комедия', 'комедия,ужасы',\n",
       "       'драма,фантастика,триллер', 'фантастика,драма,триллер',\n",
       "       'история,спорт,драма', 'документальный,биография',\n",
       "       'биография,история', 'спорт,драма', 'боевик,фэнтези',\n",
       "       'мультфильм,фэнтези', 'документальный,комедия,история',\n",
       "       'криминал,комедия,боевик', 'фэнтези,приключения,драма',\n",
       "       'музыка,концерт', 'триллер,драма,боевик',\n",
       "       'комедия,криминал,боевик', 'комедия,фантастика,боевик',\n",
       "       'вестерн,приключения,боевик', 'аниме,мультфильм,комедия',\n",
       "       'детектив,криминал,триллер', 'мультфильм,комедия,криминал',\n",
       "       'комедия,приключения,детектив', 'мелодрама,фантастика,драма',\n",
       "       'драма,комедия,семейный', 'приключения,фантастика',\n",
       "       'триллер,детектив,ужасы', 'комедия,приключения,фэнтези',\n",
       "       'фэнтези,триллер,драма', 'мелодрама,приключения,боевик',\n",
       "       'детектив,триллер,криминал', 'фэнтези,семейный,мелодрама',\n",
       "       'военный,драма', 'документальный,приключения,семейный',\n",
       "       'криминал,комедия,драма', 'комедия,фантастика',\n",
       "       'история,биография,драма', 'мелодрама,драма,музыка',\n",
       "       'боевик,мелодрама', 'комедия,криминал,триллер',\n",
       "       'детектив,триллер,боевик', 'комедия,боевик,криминал',\n",
       "       'комедия,вестерн', 'детский,мелодрама,семейный',\n",
       "       'короткометражка,мультфильм', 'комедия,фэнтези',\n",
       "       'фантастика,драма,ужасы', 'триллер,драма,ужасы',\n",
       "       'драма,фэнтези,история', 'комедия,драма,короткометражка',\n",
       "       'фэнтези,триллер,приключения', 'семейный',\n",
       "       'комедия,криминал,драма', 'комедия,фэнтези,ужасы',\n",
       "       'короткометражка,комедия,криминал', 'фантастика',\n",
       "       'триллер,ужасы,драма', 'мелодрама,драма,фэнтези',\n",
       "       'фантастика,приключения,драма', 'боевик,детектив',\n",
       "       'военный,драма,боевик', 'комедия,мелодрама,фэнтези',\n",
       "       'вестерн,криминал,триллер', 'драма,история,триллер',\n",
       "       'мультфильм,фантастика,боевик', 'детектив,драма,криминал',\n",
       "       'приключения,история,драма', 'мультфильм,семейный,детский',\n",
       "       'биография,драма,история', 'триллер,криминал,боевик',\n",
       "       'история,мелодрама', 'приключения,детский',\n",
       "       'музыка,приключения,концерт', 'военный,драма,комедия',\n",
       "       'фэнтези,боевик,военный', 'фантастика,детектив,боевик',\n",
       "       'мультфильм,фэнтези,история', 'биография,мелодрама,драма',\n",
       "       'документальный,биография,спорт', 'фантастика,комедия,детектив',\n",
       "       'музыка,концерт,документальный', 'триллер,боевик,приключения',\n",
       "       'триллер,драма,комедия', 'детектив,криминал',\n",
       "       'мультфильм,приключения,фэнтези', 'мелодрама,приключения',\n",
       "       'комедия,музыка', 'мелодрама,комедия,ужасы',\n",
       "       'драма,криминал,приключения', 'приключения,детектив,мелодрама',\n",
       "       'драма,криминал,фантастика', 'фэнтези,драма,биография',\n",
       "       'детектив,фантастика,криминал', 'триллер,драма,фантастика',\n",
       "       'ужасы,комедия,боевик', 'мелодрама,история', 'триллер,боевик',\n",
       "       'фильм-нуар,триллер,детектив', 'комедия,криминал,приключения',\n",
       "       'ужасы,триллер,мелодрама', 'военный,драма,история',\n",
       "       'драма,спорт,история', 'документальный,драма,история',\n",
       "       'триллер,мелодрама,детектив', 'детский,семейный',\n",
       "       'мюзикл,семейный,драма', 'биография,военный,драма',\n",
       "       'мультфильм,детский', 'боевик,криминал,драма',\n",
       "       'детектив,фэнтези,триллер', 'драма,боевик,приключения',\n",
       "       'драма,мелодрама,фэнтези', 'детектив,история,драма',\n",
       "       'фэнтези,боевик,ужасы', 'ужасы,фэнтези,мелодрама',\n",
       "       'ужасы,приключения', 'боевик,фантастика',\n",
       "       'ужасы,мелодрама,детектив', 'фантастика,триллер,приключения',\n",
       "       'боевик,приключения,история', 'приключения,боевик,триллер',\n",
       "       'детектив,ужасы,криминал', 'семейный,фэнтези', 'мюзикл,мелодрама',\n",
       "       'драма,военный,приключения', 'фантастика,драма,приключения',\n",
       "       'приключения,семейный,драма', 'история,драма,боевик',\n",
       "       'мультфильм,приключения,комедия', 'криминал,драма,комедия',\n",
       "       'ужасы,комедия,драма', 'комедия,семейный,приключения',\n",
       "       'мюзикл,фэнтези,драма', 'драма,вестерн,боевик',\n",
       "       'фантастика,триллер,детектив', 'драма,история,детектив',\n",
       "       'короткометражка,биография', 'мультфильм,приключения,фантастика',\n",
       "       'комедия,триллер', 'мультфильм,приключения,детектив',\n",
       "       'драма,триллер', 'ужасы,триллер,криминал',\n",
       "       'документальный,криминал,военный', 'ужасы,фэнтези,драма',\n",
       "       'фэнтези,комедия', 'ужасы,фэнтези,комедия', 'комедия,музыка,драма',\n",
       "       'мультфильм,приключения,военный', 'мюзикл,фэнтези,комедия',\n",
       "       'боевик,фантастика,приключения', 'триллер,ужасы,криминал',\n",
       "       'ужасы,фантастика,драма', 'фантастика,приключения,семейный',\n",
       "       'короткометражка,музыка', 'мелодрама,детектив,комедия',\n",
       "       'документальный,триллер,биография', 'боевик,фантастика,триллер',\n",
       "       'спорт,драма,комедия', 'фэнтези,мелодрама,приключения',\n",
       "       'триллер,детектив,криминал', 'короткометражка,мелодрама',\n",
       "       'мультфильм,семейный,спорт', 'комедия,фэнтези,мелодрама',\n",
       "       'драма,спорт,комедия', 'история,драма,мелодрама',\n",
       "       'драма,боевик,криминал', 'драма,комедия,триллер',\n",
       "       'аниме,мультфильм', 'документальный,ужасы',\n",
       "       'мультфильм,короткометражка', 'драма,история,военный',\n",
       "       'мультфильм,короткометражка,фэнтези', 'комедия,военный,музыка',\n",
       "       'биография,история,драма', 'ужасы,драма,мелодрама',\n",
       "       'драма,комедия,детектив', 'комедия,семейный,фантастика',\n",
       "       'мультфильм,семейный,комедия', 'история,детектив',\n",
       "       'приключения,мелодрама,детектив', 'мюзикл,комедия,мелодрама',\n",
       "       'драма,фантастика,ужасы', 'мультфильм,ужасы,комедия',\n",
       "       'для взрослых,драма,комедия', 'ужасы,комедия,музыка',\n",
       "       'комедия,история,драма', 'семейный,детектив,детский',\n",
       "       'короткометражка,драма', 'документальный,новости,драма',\n",
       "       'триллер,мелодрама', 'ужасы,драма,вестерн',\n",
       "       'мюзикл,фэнтези,семейный', 'вестерн,драма,триллер',\n",
       "       'приключения,вестерн,боевик', 'семейный,комедия,музыка',\n",
       "       'боевик,драма,вестерн', 'ужасы,драма,триллер',\n",
       "       'фантастика,мелодрама', 'комедия,криминал,биография',\n",
       "       'семейный,мультфильм,комедия', 'комедия,драма,криминал',\n",
       "       'фантастика,боевик,военный', 'приключения,биография,драма',\n",
       "       'приключения,триллер,биография', 'криминал,боевик,триллер',\n",
       "       'боевик,вестерн,приключения', 'история,драма',\n",
       "       'фантастика,фэнтези,комедия', 'мультфильм,детский,комедия',\n",
       "       'мелодрама,комедия,триллер', 'документальный,боевик,приключения',\n",
       "       'драма,приключения', 'мелодрама,военный,драма', 'триллер,фэнтези',\n",
       "       'драма,триллер,биография', 'фэнтези,боевик,семейный',\n",
       "       'фантастика,триллер,комедия', 'документальный,фэнтези',\n",
       "       'комедия,мультфильм,фантастика', 'криминал,биография,комедия',\n",
       "       'биография,спорт,драма', 'приключения,военный',\n",
       "       'мультфильм,семейный,драма', 'документальный,фэнтези,драма',\n",
       "       'комедия,боевик,фантастика', 'семейный,приключения,военный',\n",
       "       'триллер,ужасы,детектив', 'короткометражка',\n",
       "       'мелодрама,триллер,история', 'документальный,история',\n",
       "       'мультфильм,приключения,детский', 'драма,комедия,мультфильм',\n",
       "       'военный,детектив', 'семейный,приключения,документальный',\n",
       "       'детский,фэнтези', 'документальный,комедия', 'комедия,биография',\n",
       "       'криминал,комедия', 'спорт,мелодрама,криминал',\n",
       "       'фантастика,комедия,боевик', 'боевик,приключения,детектив',\n",
       "       'детектив,триллер,драма', 'документальный,фантастика',\n",
       "       'мелодрама,комедия,семейный', 'мультфильм,мелодрама,комедия',\n",
       "       'драма,спорт,семейный', 'фантастика,мелодрама,фэнтези',\n",
       "       'мюзикл,комедия,музыка', 'фантастика,триллер,мелодрама',\n",
       "       'приключения,комедия,фэнтези', 'фэнтези,боевик,детектив',\n",
       "       'фэнтези,боевик,мелодрама', 'комедия,военный',\n",
       "       'драма,спорт,боевик', 'мультфильм,боевик,триллер',\n",
       "       'мелодрама,семейный', 'фантастика,боевик,детектив',\n",
       "       'драма,приключения,история', 'документальный,драма,музыка',\n",
       "       'фантастика,триллер,боевик', 'фэнтези,боевик,вестерн',\n",
       "       'драма,комедия,мелодрама', 'ужасы,фэнтези,приключения',\n",
       "       'триллер,фэнтези,драма', 'мультфильм,мюзикл,мелодрама',\n",
       "       'ужасы,триллер,фантастика', 'триллер,мелодрама,комедия',\n",
       "       'ужасы,комедия,семейный', 'комедия,приключения,музыка',\n",
       "       'документальный,комедия,криминал', 'мелодрама,детектив',\n",
       "       'детский,приключения,фантастика', 'короткометражка,боевик,драма',\n",
       "       'боевик,комедия,семейный', 'фантастика,боевик,мелодрама',\n",
       "       'фэнтези,триллер,мелодрама', 'драма,детектив,история',\n",
       "       'боевик,криминал,детектив', 'мультфильм,фэнтези,мелодрама',\n",
       "       'мелодрама,драма,боевик', 'драма,вестерн,приключения',\n",
       "       'драма,приключения,мелодрама', 'фэнтези,боевик,криминал',\n",
       "       'фантастика,комедия,семейный', 'детский,фэнтези,приключения',\n",
       "       'ужасы,боевик', 'фантастика,мелодрама,комедия',\n",
       "       'семейный,спорт,боевик', 'триллер,биография,драма',\n",
       "       'ужасы,драма,комедия', 'мультфильм,фэнтези,триллер', 'мюзикл',\n",
       "       'боевик,спорт,драма', 'комедия,приключения,вестерн',\n",
       "       'документальный,ужасы,боевик', 'фантастика,боевик,семейный',\n",
       "       'военный,история', 'ужасы,боевик,криминал', 'детектив,триллер',\n",
       "       'драма,семейный,комедия', 'драма,детектив,приключения',\n",
       "       'драма,криминал,история', 'приключения,триллер',\n",
       "       'боевик,драма,биография', 'драма,приключения,триллер',\n",
       "       'комедия,фэнтези,приключения', 'фантастика,боевик,ужасы',\n",
       "       'драма,комедия,фантастика', 'детектив,криминал,драма',\n",
       "       'боевик,триллер,фэнтези', 'приключения,детектив,семейный',\n",
       "       'ужасы,комедия,криминал', 'мультфильм,биография,драма',\n",
       "       'история,боевик,фэнтези', 'детектив,криминал,боевик',\n",
       "       'приключения,фэнтези', 'комедия,приключения,спорт',\n",
       "       'драма,биография,мюзикл', 'комедия,семейный,фэнтези',\n",
       "       'детектив,драма,триллер', 'боевик,приключения,семейный',\n",
       "       'биография,спорт,комедия', 'фантастика,приключения,военный',\n",
       "       'документальный,драма,биография', 'детектив,приключения,драма',\n",
       "       'аниме,мультфильм,приключения', 'семейный,приключения',\n",
       "       'ужасы,фэнтези,детектив', 'семейный,документальный',\n",
       "       'драма,приключения,семейный', 'приключения,история,военный',\n",
       "       'фэнтези,мелодрама', 'фэнтези,триллер,детектив',\n",
       "       'документальный,спорт,биография', 'комедия,триллер,драма',\n",
       "       'драма,ужасы', 'биография,музыка,драма', 'фэнтези,ужасы',\n",
       "       'детектив,мелодрама,фэнтези', 'боевик,военный,история',\n",
       "       'биография,драма,криминал', 'триллер,мелодрама,криминал',\n",
       "       'семейный,мелодрама', 'биография,драма', 'военный,история,драма',\n",
       "       'фантастика,детектив,фэнтези', 'детектив,приключения,триллер',\n",
       "       'фантастика,приключения', 'мультфильм,короткометражка,мюзикл',\n",
       "       'мультфильм,детский,семейный', 'документальный,драма,комедия',\n",
       "       'комедия,приключения,криминал', 'документальный,семейный,музыка',\n",
       "       'мелодрама,музыка,драма', 'детектив,фантастика,триллер',\n",
       "       'драма,мелодрама,триллер', 'биография,драма,военный',\n",
       "       'приключения,фантастика,драма', 'детектив,фильм-нуар,комедия',\n",
       "       'документальный,спорт', 'триллер,фантастика,драма',\n",
       "       'биография,документальный', 'ужасы,фантастика,мелодрама',\n",
       "       'детектив,комедия', 'история,биография,военный',\n",
       "       'криминал,мелодрама', 'драма,криминал,вестерн',\n",
       "       'мелодрама,семейный,приключения', 'триллер,ужасы,мелодрама',\n",
       "       'фэнтези,драма,фильм-нуар', 'детектив,мелодрама',\n",
       "       'комедия,драма,биография', 'драма,военный,боевик',\n",
       "       'драма,комедия,ужасы', 'фантастика,драма,криминал',\n",
       "       'документальный,музыка,биография', 'мультфильм,боевик,приключения',\n",
       "       'короткометражка,фантастика', 'мультфильм,мелодрама,драма',\n",
       "       'боевик,военный,драма', 'фэнтези,семейный,приключения',\n",
       "       'детский,мультфильм,приключения', 'семейный,фэнтези,комедия',\n",
       "       'фэнтези,ужасы,триллер', 'ужасы,триллер,приключения',\n",
       "       'драма,боевик,история', 'фэнтези,комедия,детектив',\n",
       "       'история,приключения', 'аниме,мультфильм,короткометражка',\n",
       "       'драма,военный,триллер', 'биография,криминал,триллер',\n",
       "       'фантастика,фэнтези,детектив', 'вестерн,биография,драма',\n",
       "       'биография,музыка,мюзикл', 'драма,история,биография',\n",
       "       'приключения,драма,фантастика', 'комедия,фэнтези,криминал',\n",
       "       'биография,спорт,история', 'драма,криминал,семейный',\n",
       "       'детектив,боевик,история', 'ужасы,комедия,детектив',\n",
       "       'триллер,приключения,драма', 'фэнтези,комедия,криминал',\n",
       "       'триллер,криминал,приключения', 'комедия,детектив,приключения',\n",
       "       'фэнтези,драма,ужасы', 'ужасы,драма,военный', 'реальное ТВ',\n",
       "       'аниме,мультфильм,детектив', 'приключения,фэнтези,семейный',\n",
       "       'драма,биография,комедия', 'триллер,комедия,ужасы',\n",
       "       'музыка,мелодрама,фэнтези', 'мультфильм,история',\n",
       "       'мультфильм,комедия,фантастика', 'биография,криминал,драма',\n",
       "       'комедия,мелодрама,фантастика', 'криминал,боевик,комедия',\n",
       "       'история,криминал', 'детектив,комедия,драма',\n",
       "       'триллер,фантастика,боевик', 'криминал,боевик',\n",
       "       'комедия,драма,военный', 'драма,триллер,криминал',\n",
       "       'мультфильм,мелодрама,приключения', 'фантастика,фэнтези,триллер',\n",
       "       'короткометражка,драма,триллер', 'военный,боевик,история',\n",
       "       'боевик,драма,триллер', 'документальный,военный,драма',\n",
       "       'драма,криминал,фильм-нуар', 'мультфильм,детский,приключения',\n",
       "       'мелодрама,история,драма'], dtype=object)"
      ]
     },
     "execution_count": 34,
     "metadata": {},
     "output_type": "execute_result"
    }
   ],
   "source": [
    "df['genres'].unique()"
   ]
  },
  {
   "cell_type": "markdown",
   "id": "fddcb08b",
   "metadata": {},
   "source": [
    "Как видно в стоблце с жанрами чень много различных вариантов, в дальнейшем выберем из списков только главные жанры фильмов."
   ]
  },
  {
   "cell_type": "code",
   "execution_count": 35,
   "id": "1545e8e5",
   "metadata": {},
   "outputs": [
    {
     "data": {
      "text/plain": [
       "976"
      ]
     },
     "execution_count": 35,
     "metadata": {},
     "output_type": "execute_result"
    }
   ],
   "source": [
    "df['genres'].isna().sum()"
   ]
  },
  {
   "cell_type": "markdown",
   "id": "7b13223c",
   "metadata": {},
   "source": [
    "Как видно в данном столбце довольно много пропусков. На данном этапе заполним данные пропуски как \"нет данных\""
   ]
  },
  {
   "cell_type": "code",
   "execution_count": 36,
   "id": "ab308758",
   "metadata": {},
   "outputs": [],
   "source": [
    "df['genres'] = df['genres'].fillna('нет данных')"
   ]
  },
  {
   "cell_type": "markdown",
   "id": "e0e97ff7",
   "metadata": {},
   "source": [
    "Проанализируем данные в столбце box_office "
   ]
  },
  {
   "cell_type": "code",
   "execution_count": 37,
   "id": "06255ce2",
   "metadata": {},
   "outputs": [
    {
     "name": "stdout",
     "output_type": "stream",
     "text": [
      "<class 'pandas.core.frame.DataFrame'>\n",
      "RangeIndex: 3158 entries, 0 to 3157\n",
      "Data columns (total 2 columns):\n",
      " #   Column      Non-Null Count  Dtype  \n",
      "---  ------      --------------  -----  \n",
      " 0   puNumber    3158 non-null   int64  \n",
      " 1   box_office  3158 non-null   float64\n",
      "dtypes: float64(1), int64(1)\n",
      "memory usage: 49.5 KB\n"
     ]
    }
   ],
   "source": [
    "data1.info()"
   ]
  },
  {
   "cell_type": "markdown",
   "id": "06bd171e",
   "metadata": {},
   "source": [
    "Как видно в данном столбце представлены данные во всех строках, о сборах в рублях которых было известон из датафрейма mkrf_shows . Так как данные в этом столбце являются количественными, решено пропуски не заполнять."
   ]
  },
  {
   "cell_type": "code",
   "execution_count": 38,
   "id": "6c84925c",
   "metadata": {},
   "outputs": [
    {
     "name": "stdout",
     "output_type": "stream",
     "text": [
      "<class 'pandas.core.frame.DataFrame'>\n",
      "Int64Index: 7486 entries, 0 to 7485\n",
      "Data columns (total 16 columns):\n",
      " #   Column                 Non-Null Count  Dtype              \n",
      "---  ------                 --------------  -----              \n",
      " 0   title                  7486 non-null   object             \n",
      " 1   puNumber               7486 non-null   int64              \n",
      " 2   show_start_date        7486 non-null   datetime64[ns, UTC]\n",
      " 3   type                   7486 non-null   object             \n",
      " 4   film_studio            7486 non-null   object             \n",
      " 5   production_country     7486 non-null   object             \n",
      " 6   director               7486 non-null   object             \n",
      " 7   producer               7486 non-null   object             \n",
      " 8   age_restriction        7486 non-null   object             \n",
      " 9   refundable_support     332 non-null    float64            \n",
      " 10  nonrefundable_support  332 non-null    float64            \n",
      " 11  budget                 332 non-null    float64            \n",
      " 12  financing_source       7486 non-null   object             \n",
      " 13  ratings                6691 non-null   float64            \n",
      " 14  genres                 7486 non-null   object             \n",
      " 15  box_office             3159 non-null   float64            \n",
      "dtypes: datetime64[ns, UTC](1), float64(5), int64(1), object(9)\n",
      "memory usage: 994.2+ KB\n"
     ]
    }
   ],
   "source": [
    "df.info()"
   ]
  },
  {
   "cell_type": "markdown",
   "id": "290c2257",
   "metadata": {},
   "source": [
    "Далее выполним поиск явных дубликатов"
   ]
  },
  {
   "cell_type": "code",
   "execution_count": 39,
   "id": "b60c5287",
   "metadata": {},
   "outputs": [
    {
     "data": {
      "text/plain": [
       "0"
      ]
     },
     "execution_count": 39,
     "metadata": {},
     "output_type": "execute_result"
    }
   ],
   "source": [
    "df.duplicated().sum()"
   ]
  },
  {
   "cell_type": "markdown",
   "id": "647238c2",
   "metadata": {},
   "source": [
    "Далее поищем дубликаты в столбцах: •\ttitle и •\tpuNumber. "
   ]
  },
  {
   "cell_type": "code",
   "execution_count": 40,
   "id": "9a6c543a",
   "metadata": {},
   "outputs": [
    {
     "name": "stdout",
     "output_type": "stream",
     "text": [
      "дубликаты в столбце title: 714\tдубликаты в столбце puNumber: 3\t"
     ]
    }
   ],
   "source": [
    "print('дубликаты в столбце title:', df['title'].duplicated().sum(), end='\\t')\n",
    "print('дубликаты в столбце puNumber:', df['puNumber'].duplicated().sum(), end='\\t')"
   ]
  },
  {
   "cell_type": "code",
   "execution_count": 41,
   "id": "f6235d9a",
   "metadata": {},
   "outputs": [
    {
     "name": "stdout",
     "output_type": "stream",
     "text": [
      "День святого Валентина_                5\n",
      "Дорога /По новелле Кормака МкКарфи/    4\n",
      "Лузеры                                 4\n",
      "Непокоренный.                          4\n",
      "Рапунцель: Запутанная история          4\n",
      "Химера                                 4\n",
      "Прощание                               4\n",
      "Знакомство с Факерами 2.               4\n",
      "Там, где живут чудовища                4\n",
      "Секс в большом городе 2                4\n",
      "Name: title, dtype: int64\n"
     ]
    }
   ],
   "source": [
    "print(df['title'].value_counts().head(10))"
   ]
  },
  {
   "cell_type": "code",
   "execution_count": 42,
   "id": "99defd8a",
   "metadata": {},
   "outputs": [
    {
     "name": "stdout",
     "output_type": "stream",
     "text": [
      "221154310    2\n",
      "111009614    2\n",
      "221054410    2\n",
      "111008518    1\n",
      "114002716    1\n",
      "Name: puNumber, dtype: int64\n"
     ]
    }
   ],
   "source": [
    "print(df['puNumber'].value_counts().head())"
   ]
  },
  {
   "cell_type": "markdown",
   "id": "1225fb89",
   "metadata": {},
   "source": [
    "Вывод: данные дубли могли появиться по причине того что многие фильмы имеют несколько прокатных удостоверений. Данное утверждение можно сделать сравнив кол-во дублей в названиях и номерах прокатных удостоверений."
   ]
  },
  {
   "cell_type": "markdown",
   "id": "fe83eac4",
   "metadata": {},
   "source": [
    "Столбцы, которые имеют категориальные значения: type, production_country, age_restriction, genres, film_studio,\tdirector, producer   "
   ]
  },
  {
   "cell_type": "code",
   "execution_count": 43,
   "id": "8a39adb4",
   "metadata": {},
   "outputs": [
    {
     "data": {
      "text/plain": [
       "array(['Художественный', 'Анимационный', 'Прочие', 'Документальный',\n",
       "       'Научно-популярный', ' Художественный', ' Анимационный',\n",
       "       'Музыкально-развлекательный'], dtype=object)"
      ]
     },
     "execution_count": 43,
     "metadata": {},
     "output_type": "execute_result"
    }
   ],
   "source": [
    "df['type'].unique()"
   ]
  },
  {
   "cell_type": "markdown",
   "id": "13a17a81",
   "metadata": {},
   "source": [
    "Как видно встречаются следующие проблемные начения(из-за разного написания они дублируются): Художественный, Анимационный"
   ]
  },
  {
   "cell_type": "code",
   "execution_count": 44,
   "id": "69d3c1f7",
   "metadata": {},
   "outputs": [
    {
     "data": {
      "text/plain": [
       "array(['Художественный', 'Анимационный', 'Прочие', 'Документальный',\n",
       "       'Научно-популярный', 'Музыкально-развлекательный'], dtype=object)"
      ]
     },
     "execution_count": 44,
     "metadata": {},
     "output_type": "execute_result"
    }
   ],
   "source": [
    "df['type'] = df['type'].replace(' Художественный', 'Художественный')\n",
    "df['type'] = df['type'].replace(' Анимационный', 'Анимационный')\n",
    "df['type'].unique()"
   ]
  },
  {
   "cell_type": "code",
   "execution_count": 45,
   "id": "06b395bd",
   "metadata": {},
   "outputs": [
    {
     "data": {
      "text/plain": [
       "array(['США', 'СССР', 'Франция', 'СССР, Венгрия',\n",
       "       'Германия-Великобритания', 'Великобритания - Италия',\n",
       "       'Чехословакия', 'США - Франция - Турция', 'Новая Зеландия',\n",
       "       'Канада - Франция - Испания', 'США-Германия',\n",
       "       'США - Великобритания', 'Великобритания', 'США - Германия',\n",
       "       'Франция - Мексика - США', 'Россия, Казахстан, США',\n",
       "       'СССР, Швеция', 'СССР, Франция, Англия, Куба, ГДР', 'Германия',\n",
       "       'Великобритания-США-Германия-КНР',\n",
       "       'СССР, ЧССР, Западный Берлин, ПНР', 'СССР, Италия', 'Гонконг, КНР',\n",
       "       'США - Франция', 'США - Япония - Франция - Великобритания',\n",
       "       'Гонконг - Сингапур - Таиланд - Великобритания', 'США-Канада',\n",
       "       'Франция - Италия - Великобритания - США', 'Франция - США',\n",
       "       'Ирландия-Великобритания-Германия', 'Чехия', 'США-Австралия',\n",
       "       'СССР, Финляндия', 'США-Франция-Великобритания-Австрия',\n",
       "       'США - Бельгия', 'США - Ирландия - Великобритания',\n",
       "       'Великобритания - США',\n",
       "       'Люксембург - Нидерланды - Испания - Великобритания - США - Италия',\n",
       "       'Великобритания - Франция - США', 'Новая Зеландия - США',\n",
       "       'США - Великобритания - Чехия',\n",
       "       'Канада - Франция - Великобритания', 'Ирландия',\n",
       "       'Великобритания - Германия - США',\n",
       "       'США - Франция - Великобритания', 'Япония', 'СССР, Польша',\n",
       "       'Франция - Испания', 'Канада-Франция', 'Германия - Италия - США',\n",
       "       'Аргентина - Бразилия', 'Дания - Швейцария - Бельгия - Франция',\n",
       "       'США - Испания', 'Германия - США',\n",
       "       'Франция - Австрия - Германия - Италия - США', 'Австрия',\n",
       "       'США - Канада - Германия', 'США - Канада',\n",
       "       'СССР - Швейцария - Франция', 'Россия - Казахстан', 'Гонконг',\n",
       "       'Италия', 'США - ОАЭ', 'Россия',\n",
       "       'США - Франция - Испания - Великобритания',\n",
       "       'Великобритания - Франция', 'США-Италия-Испания-Аргентина',\n",
       "       'Франция-Великобритания', 'КНР - Гонконг',\n",
       "       'Франция - Италия - Швейцария', 'США - Новая Зеландия',\n",
       "       'Франция - Бельгия', 'КНР', 'Германия - Великобритания - Австрия',\n",
       "       'Великобритания - Израиль - Франция - Япония - США', 'Швеция',\n",
       "       'Испания', 'Дания', 'Франция - Бельгия - Люксембург',\n",
       "       'США - Индия - ОАЭ',\n",
       "       'Германия-Канада-Великобритания-Швейцария-Франция',\n",
       "       'Мексика - Чили', 'Аргентина', 'Бразилия', 'Чили', 'Австралия',\n",
       "       'Португалия - Франция', 'США - ЮАР', 'Исландия-Ирландия-Германия',\n",
       "       'США-Индонезия', 'Южная Корея', 'Мексика - Испания - Дания - США',\n",
       "       'Великобритания-США', 'Франция - Италия', 'США-Франция',\n",
       "       'США - Венгрия - Великобритания', 'Бельгия-Франция-Италия',\n",
       "       'Чехия - Германия', 'Германия - Франция', 'США-Нидерланды',\n",
       "       'Украина', 'Великобритания - Германия', 'Франция-Бельгия',\n",
       "       'США-Франция-Испания', 'Италия - Франция', 'Канада',\n",
       "       'Швеция-Франция-Дания', 'Германия-Франция-Польша',\n",
       "       'Франция-Великобритания - Германия',\n",
       "       'США - Бразилия - Франция - Австралия - Великобритания - Германия',\n",
       "       'Германия-Австрия', 'Германия-Италия- Шри-Ланка',\n",
       "       'Великобритания - Испания',\n",
       "       'США - Великобритания - Канада - Швеция',\n",
       "       'Босния и Герцеговина - Франция - Великобритания - Германия - Словения - Бельгия - Сербия',\n",
       "       'Великобритания - Франция - Италия - США', 'США-ОАЭ',\n",
       "       'Испания - Франция', 'США-Великобритания', 'США-ЮАР',\n",
       "       'Великобритания-Австралия - США',\n",
       "       'Норвегия - Швеция - Дания - Германия', 'Норвегия', 'Швейцария',\n",
       "       'Греция - Германия - Франция', 'Норвения', 'Южная Корея - США',\n",
       "       'Чили - Франция - США', 'Австрия - Германия - Франция',\n",
       "       'Швеция - Дания', 'Великобритания - Франция - Бельгия - Италия',\n",
       "       'Франция - Германия', 'Грузия - Франция - Люксембург',\n",
       "       'США - Франция - Великобритания - Бразилия ', 'США - КНР',\n",
       "       'Мексика - Франция', 'США - Германия - Гонконг - Сингапур',\n",
       "       'Финляндия - Австрия - Россия', 'Испания - Куба',\n",
       "       'Великобритания - ЮАР', 'Великобритания - Ирландия', 'Израиль',\n",
       "       'Бразилия - Германия - Порртугалия - Франция ',\n",
       "       'Франция - Канада - Бельгия', 'Франция-Испания',\n",
       "       'Испания - Канада - Япония', 'Иран', 'Швеция-Куба',\n",
       "       'США-Великобритания-Ирландия', 'Гонконг - КНР', 'Нидерланды',\n",
       "       'Испания - Канада', 'Япония-Великобритания',\n",
       "       'Великобритания - Норвегия - Дания - Германия',\n",
       "       'Финляндия - Франция - Германия',\n",
       "       'Мексика - Франция - Нидерланды - Германия', 'США - Индия',\n",
       "       'США-Великобритания-Индия', 'США-Канада-Бельгия',\n",
       "       'Республика Узбекистан', 'Италия ', 'Турция',\n",
       "       'Сербия - Словения - Хорватия - Черногория - Македония',\n",
       "       'Киргизия', 'Германия - Нидерланды - Беларусь - Россия - Латвия',\n",
       "       'Индия', 'Нидерланды - Россия - Германия',\n",
       "       'Великобритания - Нидерланды - Франция - Хорватия',\n",
       "       'Канада - Южная Корея',\n",
       "       'Великобритания - Польша - КНР - Индия - Норвегия',\n",
       "       'Япония - Франция - США - Южная Корея - Турция',\n",
       "       'Мексика - Аргентина - Великобритания', 'Израиль - Франция',\n",
       "       'Польша - Португалия - Франция - Великобритания',\n",
       "       'Австралия - США', 'США - Великобритания ',\n",
       "       'Франция - Люксембург - Бельгия', 'Армения',\n",
       "       'Бельгия - Люксембург - Франция - Швейцария',\n",
       "       'США - Великобритания - Канада', 'Норвегия - Швеция',\n",
       "       'Канада - Франция', 'КНР - Гонконг - США',\n",
       "       'США - Сингапур - Малайзия - Индонезия', 'Германия - Россия',\n",
       "       'Япония - Канада', 'Финляндия - Дания - Германия - Ирландия',\n",
       "       'Франция - Люксембург - Германия - Бельгия - Швейцария - Великобритания ',\n",
       "       'Канада - США', 'США-Италия-Испания', 'США-Испания',\n",
       "       'США - Швейцария - Франция', 'Испания - США - Колумбия',\n",
       "       'Канада-ЮАР', 'Франция - Россия',\n",
       "       'Германия - Финляндия - Австралия', 'Дания - Швеция', 'Бельгия',\n",
       "       'Германия - Франция - Австрия', 'Франция-Индия', 'ЮАР',\n",
       "       'Франция-Перу', 'Франция - Канада', 'Республика Беларусь',\n",
       "       'Великобритания - Австрия - Франция - США',\n",
       "       'Австрия-Германия-Франция', 'США-Россия', 'Германия-США',\n",
       "       'США - Южная Корея', 'Канада - КНР',\n",
       "       'Дания - Швеция - Италия - Франция - Германия',\n",
       "       'Франция-Италия-Испания-Венгрия', 'Франция - Германия - Бельгия',\n",
       "       'Франция-Великобритания-Чехия', 'Румыния - Франция - Бельгия',\n",
       "       'Болгария - Франция - Изриль',\n",
       "       'Израиль - Германия - Польша - Бельгия - Франция - Люксембург',\n",
       "       'Россия, Германия, Франция, Бельгия', 'Индонезия',\n",
       "       'Франция - Португалия', 'Великобритания - Пуэрто-Рико',\n",
       "       'СССР, ФРГ, Западный Берлин', 'Россия, Республика Беларусь',\n",
       "       'США, Великобритания', 'Франция - Австрия', 'Бельгия-Нидерланды',\n",
       "       'Великобритания - США - Индия', 'США - Великобритания - Австралия',\n",
       "       'Канада - Франция - США - ОАЭ - Великобритания',\n",
       "       'США - Австралия - Франция',\n",
       "       'Дания-Франция-Бельгия-Германия-Великобритания',\n",
       "       'Испания - Аргентина', 'Исландия - Финляндия',\n",
       "       'Россия-Польша-Голландия-Словакия', 'Дания - Германия - Швеция',\n",
       "       'Южная Корея - США - Канада', 'Таиланд', 'США-Мальта',\n",
       "       'США -Германия',\n",
       "       'Великобритания - Германия - Франция - Кипр - США', 'Мексика',\n",
       "       'США - Великобритания - Ирландия', 'США - Украина',\n",
       "       'США - Финляндия - Испания - Великобритания - Франция',\n",
       "       'Австралия-Великобритания',\n",
       "       'США - Канада - Афганистан - Бельгия - Франция',\n",
       "       'США - Великобритания - Германия - Новая Зеландия - Бельгия - Франция',\n",
       "       'Франция-Канада',\n",
       "       'Ирландия - Финляндия - Бельгия - Великобритания - США - Швейцария',\n",
       "       'Малайзия - США', 'Германия - Италия',\n",
       "       'США - Франция - Бельгия - Италия', 'Франция - Ирландия - Швеция',\n",
       "       'Азербайджан-Россия', 'Великобритания - Италия - Швейцария',\n",
       "       'США - Германия - Великобритания',\n",
       "       'Германия - Бельгия - США -Франция', 'США-Китай', 'Чили - Испания',\n",
       "       'Франция - Швейцария', 'Канада - Испания',\n",
       "       'США - Румыния - Великобритания', 'США - Япония',\n",
       "       'США - Россия - Франция', 'Франция-США', 'Парагвай',\n",
       "       'Германия - Канада', 'США - Канада - Великобритания',\n",
       "       'Финляндия - Канада', 'Уругвай-Мексика-Германия ', 'США - Чили',\n",
       "       'Германия - Аргентина - Нидерланды - Чили',\n",
       "       'США - Канада - Индонезия', 'Армения - Казахстан', 'Финляндия',\n",
       "       'Испания - Италия - Франция',\n",
       "       'Бельгия - Испания - Канада - Нидерланды',\n",
       "       'Великобритания - Франция - Швеция - Бельгия',\n",
       "       'Мексика - Эквадор - Канада - США - Франция - Малайзия - Италия - Аргентина - Германия - Индия  ',\n",
       "       'Франция - Бенльгия', 'Индия - Великобритания',\n",
       "       'Япония - Великобритания - Франция',\n",
       "       'Испания - Уругвай - Аргентина',\n",
       "       'Франция - Италия - Бельгия - Люксембург',\n",
       "       'Франция - Украина - Грузия - Армения',\n",
       "       'Сербия - Германия - Венгрия', 'Франция-Польша', 'Франция ',\n",
       "       'Румыния-США', 'Россия-Азербайджан',\n",
       "       'США - Нидерланды - Бельгия - Венгрия - Греция - Канада',\n",
       "       'Германия - Франция - Люксембург', 'США - Россия',\n",
       "       'Великобритания - США - Франция', 'США - Австралия - Дания',\n",
       "       'Бельгия-Франция', 'США-Мексика',\n",
       "       'Норвегия - Азербайджан - Россия - Колумбия - Великобритания - Венгрия - Румыния - Франция - Грузия',\n",
       "       'СЩА', 'Бразилия - Испания', 'Россия, Франция, Латвия',\n",
       "       'Нидерланды - США - Германия - Канада - Франция - Ирландия - Великобритания',\n",
       "       'Уругвай - Колумбия', 'США - Испания - Болгария',\n",
       "       'Армения - Германия', 'США - Великобритания- Франция - Швеция',\n",
       "       'США - Мексика', 'Австралия-Турция-США', 'Швеция - Германия',\n",
       "       'Польша - Италия - Россия', 'Франция - Бразилия',\n",
       "       'США - Канада - КНР', 'СССР, Венгрия, ЧССР, ГДР',\n",
       "       'Бельгия - Германия - Люксембург', 'СССР  ', 'СССР ', ' СССР ',\n",
       "       'США - Австралия', 'Бразилия - США',\n",
       "       'США - Великобритания - Канада - КНР', 'Франция - Чили',\n",
       "       'Франция - США - Великобритания - Колумбия - Бельгия - Россия',\n",
       "       'Дания - Великобритания - ЮАР', 'СССР   ',\n",
       "       'Россия-США-Канада-Люксембург', 'Россия - Республика Кипр',\n",
       "       'Германия - США - Швеция - Франция',\n",
       "       'Великобритания-Германия-Канада-ЮАР', ' СССР   ', 'СССР     ',\n",
       "       'Ирландия, Канада',\n",
       "       'Япония - Великобритания - Швейцария - Ирландия - Дания - Франция - Польша - Австралия - Канада  ',\n",
       "       'Великобритания, Канада', 'Бельгия - США',\n",
       "       'Великобритания - США - Россия', 'Россия-Украина',\n",
       "       'Германия - США - Великобритания - Израиль', 'Канада - Германия',\n",
       "       'США- Ю.Корея', 'Индия - Мексика',\n",
       "       'Великобритания - Франция - Республика Кипр - Швейцария - США - Сербия',\n",
       "       'Испания - Аргентина - Индия - США',\n",
       "       'Норвегия - Исландия - США - Великобритания ',\n",
       "       'Турция - Германя - Франция', 'Германия - Великобритания',\n",
       "       'Австралия - Германия', 'Мексика - Испания',\n",
       "       'Великобритания - США - Германия - Бельгия',\n",
       "       'США - Чехия - Франция', 'Россия - Италия', 'Франция-Россия',\n",
       "       'Норвегия - Дания - Швеция', 'Франция - Швейцария - Германия',\n",
       "       'Грузия - Украина', 'Россия - Эстония - Финляндия - Беларусь',\n",
       "       'США - Франция - ЮАР', 'Великобритания - США - Швейцария',\n",
       "       'Канада-США', 'Мексика - Нидерланды - Германия - Франция',\n",
       "       'США - Испания - Франция', 'США - Великобритания - КНР',\n",
       "       'США-Франция-Канада',\n",
       "       'Япония, Великобритания, Австрия, Германия, Ю.Корея',\n",
       "       'Великобритания - Ирландия - США', 'Бельгия - Италия - Франция ',\n",
       "       'Швейцария-Германия-ЮАР', 'Великобритания - США - Германия',\n",
       "       'Германия - Исландия', 'Испания - США', 'СССР    ', 'Хорватия',\n",
       "       'Финляндия - Исландия - Швеция',\n",
       "       'Канада - США - Германия - Франция',\n",
       "       'США - Великобритания - Испания', 'Ирландия-Великобритания',\n",
       "       'Аргентина - Испания', 'Австрия - Германия', ' СССР',\n",
       "       'Германия - Швейцария - Франция - Южная Корея - США',\n",
       "       'Украина - Нидерланды', 'Венгрия - Германия - Швеция',\n",
       "       'Германия - Франция -  Польша - Турция - Канада - Италия - Россия ',\n",
       "       'СССР, Афганистан', 'СССР, Монголия', 'Россия-Кипр',\n",
       "       'Россия, Грузия, Испания',\n",
       "       'Великобритания - Нидерланды - Германия - Франция - Бельгия - Австрия ',\n",
       "       'Испания - Великобритания - Франция',\n",
       "       'Дания - Норвегия - Великобритания',\n",
       "       'Бельгия - Франция - Люксембург',\n",
       "       'Италия - Франция - Швейцария - Великобритания',\n",
       "       'Франция - Бельгия - Великобритания - Испания - Германия - США',\n",
       "       'Швейцария - Израиль - Франция - Великобритания',\n",
       "       'Великобритания - США - Канада - Нидерланды - Франция',\n",
       "       'Россия, Италия', 'СССР, Албания',\n",
       "       'Россия, Украина, Республика Беларусь, Литва',\n",
       "       'Финляндия - Великобритания - Германия', 'Россия, Украина, Польша',\n",
       "       'Франция - Италия - Бельгия - КНР',\n",
       "       'Германия - Бельгия - Люксембург - Ирландия', 'КНР - Сингапур',\n",
       "       'Франция - Бельгия - Великобритания - США - Нидерланды - Канада',\n",
       "       'США - Россия - Польша - Германия - Пуэрто Рико',\n",
       "       'Франция - Бельгия - Канада', 'США ', 'Мексика - США',\n",
       "       'США - Гонконг - КНР ', 'Греция - Россия',\n",
       "       'Ирландия - Дания - Бельгия - Люксембург - Франция',\n",
       "       'Эстония - Россия',\n",
       "       'Великобритания - Исландия - Испания - Швейцария - США',\n",
       "       'Австралия - Великобритания - Бельгия - Индия',\n",
       "       'Швеция - Германия - Франция - Норвегия',\n",
       "       'Нидерланды - Бельгия - Германия - Ирландия',\n",
       "       'Нидерланды - Великобритания - Бельгия',\n",
       "       'США - Колумбия - Испания', 'Франция-Испания-Бельгия-Панама',\n",
       "       'США-Великобритания-Чехия-Румыния',\n",
       "       'Аргентина - Уругвай - Россия - Германия - Франция - Нидерланды',\n",
       "       'Швеция - Франция - Норвегия - Дания',\n",
       "       'Италия-Франция-Великобритания', 'Великобритания, Франция',\n",
       "       'Австралия, США', 'Венесуэла',\n",
       "       'Великобритания - США - Австралия - Ирландия - Германия - Куба - Канада',\n",
       "       'Южная Корея - КНР',\n",
       "       'Аргентина - Мексика - Бразилия - Франция - США', 'Швеция - США',\n",
       "       'Франция - Германия - Турция - Катар', 'Франция-Китай',\n",
       "       'Россия, Германия, Великобритания',\n",
       "       'Великобритания - Италия - Испания', 'Италия - Россия',\n",
       "       'Япония - КНР - Южная Корея', 'Россия, Германия',\n",
       "       'Россия-Ирландия', 'Македония - Франция - Великобритания',\n",
       "       'Франция - Бразилия - Италия', 'Россия-США', 'Армения-Россия',\n",
       "       'Россия, Румыния', 'Франция -  Бельгия', 'Грузия-Франция',\n",
       "       'ЮАР - США', 'Великобритания-США-Франция',\n",
       "       'Великобритания - США - Германия - Канада - Австралия',\n",
       "       'США-Ирландия', 'Россия, Республика Кипр',\n",
       "       'Германия - Люксембург - Франция', 'Россия-Франция',\n",
       "       'США - Нидерланды - Финляндия - Великобритания - Италия',\n",
       "       'Республика Кипр', 'Венгрия', 'Франция - США - Норвегия - Дания',\n",
       "       'Германия - Австрия - Ирландия', 'США - Финляндия',\n",
       "       'Италия-Великобритания', 'Россия, Испания',\n",
       "       'США - Великобритания - Болгария', 'Великобритания - Люксембург',\n",
       "       'Индия - США', 'США - Канада - Россия - Франция - Чили - Ирландия',\n",
       "       'Грузия-Россия',\n",
       "       'Дания - Австрия - Ирландия - Финляндия - Норвегия - Швеция - Нидерланды',\n",
       "       'США-КНР', 'Грузия', 'Австралия - Ирландия',\n",
       "       'Великобритания - Канада', 'Италия - Аргентина - Словения ',\n",
       "       'Испания - Франция - Нидерланды - Германия - Бельгия - Великобритания - Канада',\n",
       "       'Франция - Чехия - Бельгия',\n",
       "       'Великобритания - Франция - Германия - США',\n",
       "       'Ирландия - Великобритания - Франция - США - Германия - Нидерланды',\n",
       "       'США - Канада - Япония - КНР', 'Италия-Франция',\n",
       "       'США - Великобритания - Исландия', 'Великобритания-Франция',\n",
       "       'Франция - Германия - Нидерланды', 'Иран ',\n",
       "       'Франция - Германия - Швеция - США - Чехия - Словакия - Великобритания - Нидерланды',\n",
       "       'Франция - Канада - Н.Зеландия - США - Нидерланды - Германия - Швеция - Россия',\n",
       "       'Турция - США',\n",
       "       'Великобритания - США - Канада - Бельгия - Нидерланды - Австрия - Германия',\n",
       "       'Израиль - Франция - Германия - Палестина - США - Австрия - Великобритания',\n",
       "       'Аргентина - Франция - Испания', 'СССР, Россия',\n",
       "       'Великобритания - Франция - Италия - Индия - Дания - КНР - Бангладеш - Камбоджа - Гаити - Уганда',\n",
       "       'Италия - Франция - Швейцария',\n",
       "       'Ирландия - Великобритания - Канада', 'Перу', 'США - Норвегия',\n",
       "       'Испания-Канада', 'Китай-Гонконг', 'США - Германия - КНР',\n",
       "       'Великобритания - Новая Зеландия',\n",
       "       'Франция - Дания - Швеция - КНР',\n",
       "       'США - Великобритания - Германия - Бельгия - Дания',\n",
       "       'США - Франция - Канада - Германия - Австралия - Индия',\n",
       "       'нет данных', 'СССР, Румыния, Франция', 'СССР, ГДР',\n",
       "       'Австралия-Ирландия', 'США - Китай',\n",
       "       'Великобритания - Франция - Австрия - Швеция',\n",
       "       'Россия, Таджикистан', 'Нидерланды - Бельгия - Болгария',\n",
       "       'Великобритания - Канада - США', 'Франция - Бельгия - Испания',\n",
       "       'Китай-Гонконг-США', 'Франция - Великобритания', 'США - Вьетнам',\n",
       "       'США - Германия - Франция', 'Германия - Франция - Бельгия',\n",
       "       'США - Италия',\n",
       "       'Германия - Дания - Испания - Швеция - Канада - Эстония - Франция',\n",
       "       'Княжество Андорра - Украина', 'Германия - Люксембург - Бельгия',\n",
       "       'Великобритания - Россия - Украина - США',\n",
       "       'Германия - Бельгия - Люксембург - Норвегия',\n",
       "       'США - Австралия - Новая Зеландия - Великобритания',\n",
       "       'США - Франция - Канада - Великобритания', 'Испания-Колумбия',\n",
       "       'Великобритания - Чехия - Франция', 'Россия, Украина', 'Исландия',\n",
       "       'Великобритания - Франция - Венгрия',\n",
       "       'Россия, Франция, Германия, Бельгия', 'Франция - Македония',\n",
       "       'Нидерланды - Франция - Германия - Бельгия - Швеция - Великобритания',\n",
       "       'Испания - США - Великобритания - Канада', 'Германия - Австрия',\n",
       "       'Республика Казахстан',\n",
       "       'Франция - Испания - Дания - Венгрия - Швейцария', 'Франция-КНР',\n",
       "       'США - Пуэрто-Рико - Франция ', 'Мексика - Тайвань - США',\n",
       "       'Великобритания - Испания - Непал - Индия - Венгрия - Гонконг - Германия - Дания - Бахрейн',\n",
       "       'Великобритания - Аргентина - США - Франция - Россия - Испания',\n",
       "       'КНР - США', 'Италия - США', 'Финляндия - Швеция - Германия',\n",
       "       'Канада- Испания', 'Франция - Бельгия - Чехия',\n",
       "       'Франция-Бельгия-Канада', 'Франция - Германия - США',\n",
       "       'США - Дания', 'Индия - КНР', 'Чехия-Великобритания-США',\n",
       "       'США-ФРГ-Россия', 'Ирландия-Нидерланды-Франция-США-Великобритания',\n",
       "       'Россия, Грузия, Хорватия, Испания',\n",
       "       'Финляндия - Швеция - Норвегия', 'Сербия - Великобритания - США',\n",
       "       'США - Великобритания - Франция - Гонконг', 'Швейцария - Франция',\n",
       "       'Швейцария - Великобритания', 'ОАЭ - США',\n",
       "       'США - Франция - Германия - Канада - Австралия ',\n",
       "       'Германия - Австралия', 'Иран, Франция',\n",
       "       'США - Великобритания - Новая Зеландия', 'США-Колумбия',\n",
       "       'США-Франция-Ирландия', 'Великобритания - Франция - Бельгия',\n",
       "       'США - Великобритания - Япония', 'США - Франция - Германия',\n",
       "       'Польша - Ирландия', 'Ирландия - Великобритания - Франция - США',\n",
       "       'США - Бельгия - Великобритания', 'СССР, ВНР',\n",
       "       'Испания - Франция - США - Великобритания - Бельгия',\n",
       "       'Франция - Дания - США', 'США - Гонконг', 'Бразилия - К;анада',\n",
       "       'Франция-Германия', 'США - Колумбия',\n",
       "       'США - Ирландия - Великобритания - Франция',\n",
       "       'Великобритания - США - Канада', 'Польша - Франция',\n",
       "       'Канада - США - Нидерланды - Великобритания - Аргентина',\n",
       "       'Великобритания - Дания', 'Франция - Бельгия - Япония',\n",
       "       'Россия,  Испания', 'Франция -Бельгия',\n",
       "       'США - Канада - Германия - Франция', 'США-Канада-Франция',\n",
       "       'Россия - Германия', 'Россия-Италия', 'Китай - Гонконг',\n",
       "       'Германия-Австрия-Франция-Италия', 'США-Япония',\n",
       "       'США - Германия - Канада', 'Испания-Мексика',\n",
       "       'США - Япония - Канада - Великобритания - Германия - Франция',\n",
       "       'США -Великобритания - Австралия', 'Россия-Украина-Германия',\n",
       "       'Израиль - Франция - Великобритания - Германия', 'Корея',\n",
       "       'Россия - Болгария', 'США-Индия',\n",
       "       'Германия-Канада-Франция-Бельгия', 'Германия-Кения',\n",
       "       'Франция - Монако', 'Франция-Испания-Швейцария',\n",
       "       'Австрия-Франция-Германия', 'Румыния',\n",
       "       'США-Великобритания-Франция', 'Канада-Великобритания',\n",
       "       'Канада-Бразилия-Япония', 'Германия - Дания - Норвегия',\n",
       "       'Дания - Германия', 'СССР - Италия',\n",
       "       'СССР - ГДР - Польша - Италия',\n",
       "       'США - Испания - Франция - Великобритания', 'Китай',\n",
       "       'Мексика-Аргентина',\n",
       "       'Германия - Великобритания - Италия - Испания',\n",
       "       'Франция-Германия-Великобритания', 'Россия - Германия - Швейцария',\n",
       "       'Франция-Австралия', 'Голландия', 'Швейцария-Франция',\n",
       "       'Россия-Белоруссия', 'Франция - Испания - Тайвань',\n",
       "       'США-Южная Корея-Новая Зеландия', 'Великобритания-Венгрия',\n",
       "       'Россия-Германия', 'Великобритания-Франция-Германия',\n",
       "       'Франция-Германия-Италия', 'Швеция-Финляндия-Франция-Норвегия',\n",
       "       'Франция-Италия', 'Германия-Израиль',\n",
       "       'Швеция - Германия - Дания - Норвегия', 'США-Бельгия',\n",
       "       'Франция-Гонконг-Ирландия', 'Эстония', 'Литва-Россия-Украина',\n",
       "       'Германия - Италия - Франция',\n",
       "       'Великобритания - Австрия - Германия', 'Бельгия - Франция',\n",
       "       'Россия-Казахстан', 'Испания - Мальта',\n",
       "       'Франция-Россия-Румыния-Италия-Бельгия', 'Россия - Польша',\n",
       "       'Испания - Мексика', 'США-Аргентина', 'Великобритания ',\n",
       "       'Израиль-США-Франция', 'США - Новая Зеландия - Япония',\n",
       "       'Франция - Чехия - Великобритания', 'Россия-Польша',\n",
       "       'Германия-Франция-Великобритания', 'США-Германия-Канада',\n",
       "       'США-Гонконг-Китай', 'США - Великобритания - Германия',\n",
       "       'США-Канада-Австралия', 'Япония-США-Франция',\n",
       "       'Франция-Испания-Германия', 'США - Хорватия - Босния-Герцеговина',\n",
       "       'Великобритания - Чехия - Франция - Италия',\n",
       "       'США - Германия - Нидерланды', 'Германия - Франция - Канада',\n",
       "       'Франция-Грузия-Германия-Россия-Украина-Бельгия',\n",
       "       'Великобритания - Франция - Италия', 'Россия - США',\n",
       "       'Франция - Италия - Иран', 'Россия - Азербайджан', 'Греция',\n",
       "       'Дания - США', 'США-Великобритания-Новая Зеландия',\n",
       "       'США-Германия-Австралия', 'США-Канада-Италия',\n",
       "       'США - Япония - Германия', 'Австралия-США',\n",
       "       'Франция - Великобритания - Багамские острова - США',\n",
       "       'Швейцария - Люксембург', 'Швейцария - Австрия',\n",
       "       'Германия - Швейцария', 'Дания-Швеция-Франция-Германия', 'Польша',\n",
       "       'Швейцария-Австрия', 'Бразилия - Канада - США',\n",
       "       'Нидерланды - Россия', 'Португалия', 'Франция-Аргентина',\n",
       "       'Швеция-Франция', 'Франция-Украина', 'Германия-Украина-Нидерланды',\n",
       "       'Италия-Швейцария', 'США-Германия-Великобритания',\n",
       "       'Латвия - Россия', 'Германия-Франция-Великобритания-США',\n",
       "       'Канада - Италия', 'США - Объединенные Арабские Эмираты',\n",
       "       'США-Венгрия', 'Малайзия', 'Россия - Германия - Украина',\n",
       "       'США - Австралия - Мексика', 'Литва - Венгрия', 'Германия - Китай',\n",
       "       'Казахстан', 'Республика Корея',\n",
       "       'США - Германия - Франция - Великобритания - Канада ',\n",
       "       'Бельгия - Германия - Люксембург - Франция', 'Франция - Греция',\n",
       "       'Италия - Канада', 'США - Великобритания - Франция',\n",
       "       'США-Италия-Греция', 'Германия - США - Великобритания - Ирландия',\n",
       "       'Великобритания - Франция - Германия',\n",
       "       'Германия - Нидерланды - ЮАР',\n",
       "       'США-Япония-Германия-Великобритания-Нидерланды',\n",
       "       'США-Япония-Германия-Великобритания',\n",
       "       'Германия - Франция - Польша',\n",
       "       'Таиланд-Великобритания-Франция-Германия-Испания-Нидерланды',\n",
       "       'Германия-Италия-Швейцария',\n",
       "       'Дания - Швеция - Великобритания - Франция - Германия - Нидерланды - Норвегия - Финляндия',\n",
       "       'Франция - Великобритания - Нидерланды - Люксембург',\n",
       "       'Нидерланды-Великобритания-Франция-Италия-Япония',\n",
       "       'Финляндия-Дания-Германия-Ирландия', 'Испания-Аргентина',\n",
       "       'Великобритания - Нидерланды - Франция - США', 'Канада - Мексика',\n",
       "       'США, Франция', 'Канада-Южная Корея-США',\n",
       "       'Великобритания - Франция - Бельгия - США', 'КНР - Канада - США',\n",
       "       'Италия - Франция - Германия',\n",
       "       'Швеция - Германия - Франция - Дания', 'Франция - США - Бельгия',\n",
       "       'Украина - Германия - Латвия - Эстония', 'Австрия - Люксембург',\n",
       "       'Великобритания - КНР', 'Монголия', 'Франция - Дания',\n",
       "       'Швеция - Дания - Финляндия',\n",
       "       'Сингапур - Великобритания - Индонезия - Канада - США',\n",
       "       'США - Германия - Япония', 'Таиланд - США', 'Франция - Нидерланды',\n",
       "       'Великобритания - Румыния', 'США - Мальта',\n",
       "       'Великобритания - Германия - Нидерланды - Дания',\n",
       "       'Франция - Германия - Литва - Нидерланды - Россия',\n",
       "       'США - ЮАР - Гонконг', 'Австралия - Колумбия',\n",
       "       'Великобритания - Польша', 'США - Великобритания - Швеция',\n",
       "       'Франция - Швеция - Дания - Норвегия', 'Болгария - США',\n",
       "       'СССР, ФРГ', 'Бельгия - Нидерланды - Франция',\n",
       "       'Финляндия - Германия', 'Болгария',\n",
       "       'Грузия - Россия - Украина - Хорватия - Германия',\n",
       "       'Франция - Люксембург', 'Франция - Германия - Австрия',\n",
       "       'Норвегия - США', 'Германия-Швеция', 'Франция - Германия - Италия',\n",
       "       'Франция-Германия-Австрия', 'КНР-США',\n",
       "       'Великобритания - Ирландия - США ',\n",
       "       'Дания - Латвия - Россия - США', 'Финляндия - Польша',\n",
       "       'Германия - Бельгия', 'Германия - США - Франция - Испания',\n",
       "       'Бельгия-Германия-Канада-Франция-США-Великобритания',\n",
       "       'Нидерланды - Бельгия - Люксембург', 'Канада-Германия',\n",
       "       'Люксембург - Бельгия - Франция', 'США-Великобритания-Австралия',\n",
       "       'Великобритания, Новая Зеландия', 'Бельгия, Великобритания, США',\n",
       "       'Великобритания, Австралия', 'Исландия, Бельгия',\n",
       "       'Испания - Швейцария - Великобритания - Германия - Новая Зеландия - Нидерланды - Канада',\n",
       "       'Франция, Бельгия', 'Великобритания, США', 'Киргизия-Россия',\n",
       "       'Германия, США', 'Великобритания, США, Испания',\n",
       "       'Италия - Швейцария - Германия', 'Россия, Армения',\n",
       "       'Франция, Германия', 'Китай, Канада, США', 'Германия, Австралия',\n",
       "       'КНР, США', 'США, Великобритания, Люксембург',\n",
       "       'Испания, Ирландия, Бельгия, Франция',\n",
       "       'Великобритания - Гонконг - Венгрия - США - Ирландия',\n",
       "       'США - Пуэрто Рико', 'Аргентина - Испания - Уругвай',\n",
       "       'Израиль - Германия - Франция - Швейцария',\n",
       "       'Великобритания - Мексика - США', 'Испания - Болгария - США',\n",
       "       'Россия-Словакия-Чехия',\n",
       "       'Швейцария - КНР - США - Россия - Республика Корея - Великобритания',\n",
       "       'Россия, Нидерланды, Финляндия',\n",
       "       'Испания - Бельгия - Франция - Португалия - Великобритания',\n",
       "       'Бразилия - Португалия - Франция', 'Швеция - Норвегия',\n",
       "       'Франция - Польша - Бельгия', 'CША', 'Китай, США',\n",
       "       'Италия, Франция, Германия', 'Германия - Австрия - Франция',\n",
       "       'Чехия - Словакия - Хорватия', 'Россия, Польша, Финляндия',\n",
       "       'Россия, Латвия, Чешская Республика',\n",
       "       'Франция - Великобритания - Камбоджа - США - КНР',\n",
       "       'Чехия - Испания - США', 'Германия - Люксембург - Дания',\n",
       "       'Великобритания - Испания - Германия', 'Дания - Исландия',\n",
       "       'Германия, Франция, Великобритания',\n",
       "       'Великобритания - Испания - Италия - Латвия - Франция - Эстония',\n",
       "       'Дания, Швеция, Великобритания, Франция, Германия, Норвегия, Финляндия, Нидерланды, Италия',\n",
       "       'Польша - Франция - Великобритания',\n",
       "       'Дания, Норвегия, Венгрия, Чехия',\n",
       "       'Дания - Франция - Германия - Швеция',\n",
       "       'Великобритания, Швеция, США',\n",
       "       'Канада, Франция, Италия, Швейцария, США', 'США, Индия',\n",
       "       'США - Великобритания - Германия - - Швеция - Канада',\n",
       "       'Италия, Франция', 'Республика Беларусь, Германия, США, Россия',\n",
       "       'Италия-Швейцария-Франция-Германия ',\n",
       "       'Россия - Франция - Великобритания - Латвия', 'Россия-Беларусь',\n",
       "       'Франция - Испания - Румыния - США - Бельгия', 'Италия-США',\n",
       "       'Россия, Австрия', 'Ирландия - Великобритания - США',\n",
       "       'Швейцария, Великобритания, Франция, США, Ирландия',\n",
       "       'Мексика, Франция, Германия, Дания, Швеция', 'Нидерланды, Бельгия',\n",
       "       'Швеция, Норвегия, Финляндия, Франция', 'Испания, Франция, Италия',\n",
       "       'Испания-Франция-Греция-Индия-США-Россия-Великобритания',\n",
       "       'Великобритания - Япония - США',\n",
       "       'Дания, Канада, Норвегия, Австралия, США', 'Аргентина, Испания',\n",
       "       'Россия, Германия, Казахстан, Польша, Китай',\n",
       "       'Португалия, Франция, Польша, США', 'США - Канада - Аргентина',\n",
       "       'Ливан-США', 'Япония - США', 'США, Гонконг ',\n",
       "       'Франция - Россия - Швейцария - Румыния - Венгрия',\n",
       "       'Аргентина-Испания', 'Россия, Сербия', 'США - Болгария - Мексика',\n",
       "       'США - Великобритания - Швейцария - Франция',\n",
       "       'Таиланд - КНР - США',\n",
       "       'Великобритания, Нидерланды, Польша, Швейцария, Франция',\n",
       "       'Ирландия - США',\n",
       "       'Германия - Франция - Великобритания - Польша - США',\n",
       "       'Великобритания-Франция-Италия', 'США - Австралия - Индия',\n",
       "       'Франция - КНР', 'Великобритания - Израиль',\n",
       "       'Великобритания - Норвегия - Кения - Хорватия',\n",
       "       'США - Бразилия - Великобритания - Канада', 'Германия, Бельгия',\n",
       "       'Австралия, Канада', 'США, Великобритания, Франция',\n",
       "       'Кения, Германия', 'Нидерланды, Бельгия, Люксембург', 'Колумбия',\n",
       "       'Латвия - Франция', 'Ирландия, Великобритания',\n",
       "       'Франция - Израиль - Германия', 'Швеция, Франция, Великобритания',\n",
       "       'Бельгия - Люксембург', 'Германия - Бельгия - Великобритания',\n",
       "       'Испания, Франция, Великобритания, Дания, Бельгия, Германия',\n",
       "       'Румыния, ЮАР, Иран, Франция, Канада, Великобритания',\n",
       "       'Германия, Франция', 'США, Япония',\n",
       "       'США, Великобритания, Ирландия, Люксембург', 'Республика Армения',\n",
       "       'США, Франция, Япония', 'Япония, США', 'Канада, США',\n",
       "       'Республика Кипр - Россия',\n",
       "       'Дания - Франция - Италия - Бельгия - Нидерланды',\n",
       "       'Россия - Грузия', 'Италия, Германия', 'Норвегия, Швеция, Дания',\n",
       "       'Республика Кипр, Россия', 'КНР, Индия, Гонконг, США',\n",
       "       'Израиль, Украина', 'США, Россия', 'США - КНР - Индия - Ю.Корея',\n",
       "       'США - Швеция', 'Франция, Канада', 'Россия-Китай',\n",
       "       'Канада, Великобритания', 'США, Германия',\n",
       "       'Канада, США, Каймановы острова',\n",
       "       'Бразилия, Уругвай, Дания, Норвегия, Чили, Швеция',\n",
       "       'Пуэрто-Рико, Великобритания, США',\n",
       "       'Уругвай - Аргентина - Испания',\n",
       "       'США - Великобритания - Италия - Израиль - Сербия - Индия',\n",
       "       'США - Канада - Франция - Индия', 'Великобритания - Россия - КНР',\n",
       "       'Франция, Новая Зеландия', 'Франция, Люксембург, Бельгия',\n",
       "       'Канада, США, Норвегия', 'Италия, Испания',\n",
       "       'Испания - Германия - Нидерланды', 'Бразилия - США - КНР ',\n",
       "       'Великобритания, Германия, Дания, США', '2019',\n",
       "       'Италия - Фрация - Бразилия - Германия',\n",
       "       'Норвегия - Швеция - Россия', 'Великобритания, Япония, США',\n",
       "       'Сша, Канада', 'Бельгия, Канада',\n",
       "       'Великобритания - Австралия - США', 'США, Канада', 'КНР - США ',\n",
       "       'Франция - Финляндия', 'Колумбия - США',\n",
       "       'Великобритания, Франция, Бельгия', 'Норвегия - Нидерланды',\n",
       "       'Великобритания, Канада, США', 'Япония, Великобритания',\n",
       "       'Италия - Бельгия - Франция', 'Россия, Бельгия, Финляндия',\n",
       "       'США, Украина', 'Франция, Норвегия',\n",
       "       'Великобритания, Южная Корея, Канада, США, Индия, Китай, Япония',\n",
       "       'Канада - Норвегия', 'Республика Кипр-Россия', 'Германия, Россия',\n",
       "       'Польша - Франция - Испания - Бразилия - Швеция',\n",
       "       'Австрия, Великобритания, Германия', 'Франция - Сенегал - Бельгия',\n",
       "       'Франция, Бельгия, Люксембург', 'Финляндия, Латвия', 'Пакистан',\n",
       "       'Германия, Франция, США', 'Германия - Великобритания - США',\n",
       "       'КНР - Франция', 'Дания, Норвегия, Швеция, Исландия',\n",
       "       'Республика Кипр, США, Россия', 'Новая Зеландия - КНР',\n",
       "       'Дания - Канада - Швеция - Франция - Германия - Великобритания - США'],\n",
       "      dtype=object)"
      ]
     },
     "execution_count": 45,
     "metadata": {},
     "output_type": "execute_result"
    }
   ],
   "source": [
    "df['production_country'].unique()"
   ]
  },
  {
   "cell_type": "markdown",
   "id": "e3afd4cc",
   "metadata": {},
   "source": [
    "Как видно получился довольно большой список уникальных значений. Это связано с тем, что есть фильмы, которые снимались в нескольих странах. ДЛя того чтобы было проще категоризировать их, напишем функцию которая меняет строки с несколькими странами на одну - главную(которая записана первой)"
   ]
  },
  {
   "cell_type": "code",
   "execution_count": 46,
   "id": "afb5037d",
   "metadata": {},
   "outputs": [
    {
     "data": {
      "text/plain": [
       "array(['США', 'СССР', 'Франция', 'СССР, Венгрия', 'Германия',\n",
       "       'Великобритания', 'Чехословакия', 'Новая Зеландия', 'Канада',\n",
       "       'Россия, Казахстан, США', 'СССР, Швеция',\n",
       "       'СССР, Франция, Англия, Куба, ГДР',\n",
       "       'СССР, ЧССР, Западный Берлин, ПНР', 'СССР, Италия', 'Гонконг, КНР',\n",
       "       'Гонконг', 'Ирландия', 'Чехия', 'СССР, Финляндия', 'Люксембург',\n",
       "       'Япония', 'СССР, Польша', 'Аргентина', 'Дания', 'Австрия',\n",
       "       'Россия', 'Италия', 'КНР', 'Швеция', 'Испания', 'Мексика',\n",
       "       'Бразилия', 'Чили', 'Австралия', 'Португалия', 'Исландия',\n",
       "       'Южная Корея', 'Бельгия', 'Украина', 'Босния и Герцеговина',\n",
       "       'Норвегия', 'Швейцария', 'Греция', 'Норвения', 'Грузия',\n",
       "       'Финляндия', 'Израиль', 'Иран', 'Нидерланды',\n",
       "       'Республика Узбекистан', 'Турция', 'Сербия', 'Киргизия', 'Индия',\n",
       "       'Польша', 'Армения', 'ЮАР', 'Республика Беларусь', 'Румыния',\n",
       "       'Болгария', 'Россия, Германия, Франция, Бельгия', 'Индонезия',\n",
       "       'СССР, ФРГ, Западный Берлин', 'Россия, Республика Беларусь',\n",
       "       'США, Великобритания', 'Таиланд', 'Малайзия', 'Азербайджан',\n",
       "       'Парагвай', 'Уругвай', 'СЩА', 'Россия, Франция, Латвия',\n",
       "       'СССР, Венгрия, ЧССР, ГДР', 'Ирландия, Канада',\n",
       "       'Великобритания, Канада',\n",
       "       'Япония, Великобритания, Австрия, Германия, Ю.Корея', 'Хорватия',\n",
       "       'Венгрия', 'СССР, Афганистан', 'СССР, Монголия',\n",
       "       'Россия, Грузия, Испания', 'Россия, Италия', 'СССР, Албания',\n",
       "       'Россия, Украина, Республика Беларусь, Литва',\n",
       "       'Россия, Украина, Польша', 'Эстония', 'Великобритания, Франция',\n",
       "       'Австралия, США', 'Венесуэла', 'Россия, Германия, Великобритания',\n",
       "       'Россия, Германия', 'Македония', 'Россия, Румыния',\n",
       "       'Россия, Республика Кипр', 'Республика Кипр', 'Россия, Испания',\n",
       "       'СССР, Россия', 'Перу', 'Китай', 'нет данных',\n",
       "       'СССР, Румыния, Франция', 'СССР, ГДР', 'Россия, Таджикистан',\n",
       "       'Княжество Андорра', 'Россия, Украина',\n",
       "       'Россия, Франция, Германия, Бельгия', 'Республика Казахстан',\n",
       "       'Россия, Грузия, Хорватия, Испания', 'ОАЭ', 'Иран, Франция',\n",
       "       'СССР, ВНР', 'Россия,  Испания', 'Корея', 'Голландия', 'Литва',\n",
       "       'Латвия', 'Казахстан', 'Республика Корея', 'США, Франция',\n",
       "       'Монголия', 'Сингапур', 'СССР, ФРГ',\n",
       "       'Великобритания, Новая Зеландия', 'Бельгия, Великобритания, США',\n",
       "       'Великобритания, Австралия', 'Исландия, Бельгия',\n",
       "       'Франция, Бельгия', 'Великобритания, США', 'Германия, США',\n",
       "       'Великобритания, США, Испания', 'Россия, Армения',\n",
       "       'Франция, Германия', 'Китай, Канада, США', 'Германия, Австралия',\n",
       "       'КНР, США', 'США, Великобритания, Люксембург',\n",
       "       'Испания, Ирландия, Бельгия, Франция',\n",
       "       'Россия, Нидерланды, Финляндия', 'CША', 'Китай, США',\n",
       "       'Италия, Франция, Германия', 'Россия, Польша, Финляндия',\n",
       "       'Россия, Латвия, Чешская Республика',\n",
       "       'Германия, Франция, Великобритания',\n",
       "       'Дания, Швеция, Великобритания, Франция, Германия, Норвегия, Финляндия, Нидерланды, Италия',\n",
       "       'Дания, Норвегия, Венгрия, Чехия', 'Великобритания, Швеция, США',\n",
       "       'Канада, Франция, Италия, Швейцария, США', 'США, Индия',\n",
       "       'Италия, Франция', 'Республика Беларусь, Германия, США, Россия',\n",
       "       'Россия, Австрия',\n",
       "       'Швейцария, Великобритания, Франция, США, Ирландия',\n",
       "       'Мексика, Франция, Германия, Дания, Швеция', 'Нидерланды, Бельгия',\n",
       "       'Швеция, Норвегия, Финляндия, Франция', 'Испания, Франция, Италия',\n",
       "       'Дания, Канада, Норвегия, Австралия, США', 'Аргентина, Испания',\n",
       "       'Россия, Германия, Казахстан, Польша, Китай',\n",
       "       'Португалия, Франция, Польша, США', 'Ливан', 'США, Гонконг',\n",
       "       'Россия, Сербия',\n",
       "       'Великобритания, Нидерланды, Польша, Швейцария, Франция',\n",
       "       'Германия, Бельгия', 'Австралия, Канада',\n",
       "       'США, Великобритания, Франция', 'Кения, Германия',\n",
       "       'Нидерланды, Бельгия, Люксембург', 'Колумбия',\n",
       "       'Ирландия, Великобритания', 'Швеция, Франция, Великобритания',\n",
       "       'Испания, Франция, Великобритания, Дания, Бельгия, Германия',\n",
       "       'Румыния, ЮАР, Иран, Франция, Канада, Великобритания',\n",
       "       'Германия, Франция', 'США, Япония',\n",
       "       'США, Великобритания, Ирландия, Люксембург', 'Республика Армения',\n",
       "       'США, Франция, Япония', 'Япония, США', 'Канада, США',\n",
       "       'Италия, Германия', 'Норвегия, Швеция, Дания',\n",
       "       'Республика Кипр, Россия', 'КНР, Индия, Гонконг, США',\n",
       "       'Израиль, Украина', 'США, Россия', 'Франция, Канада',\n",
       "       'Канада, Великобритания', 'США, Германия',\n",
       "       'Канада, США, Каймановы острова',\n",
       "       'Бразилия, Уругвай, Дания, Норвегия, Чили, Швеция', 'Пуэрто',\n",
       "       'Франция, Новая Зеландия', 'Франция, Люксембург, Бельгия',\n",
       "       'Канада, США, Норвегия', 'Италия, Испания',\n",
       "       'Великобритания, Германия, Дания, США', '2019',\n",
       "       'Великобритания, Япония, США', 'Сша, Канада', 'Бельгия, Канада',\n",
       "       'США, Канада', 'Великобритания, Франция, Бельгия',\n",
       "       'Великобритания, Канада, США', 'Япония, Великобритания',\n",
       "       'Россия, Бельгия, Финляндия', 'США, Украина', 'Франция, Норвегия',\n",
       "       'Великобритания, Южная Корея, Канада, США, Индия, Китай, Япония',\n",
       "       'Германия, Россия', 'Австрия, Великобритания, Германия',\n",
       "       'Франция, Бельгия, Люксембург', 'Финляндия, Латвия', 'Пакистан',\n",
       "       'Германия, Франция, США', 'Дания, Норвегия, Швеция, Исландия',\n",
       "       'Республика Кипр, США, Россия'], dtype=object)"
      ]
     },
     "execution_count": 46,
     "metadata": {},
     "output_type": "execute_result"
    }
   ],
   "source": [
    "def country(cnt):\n",
    "    if '-' in cnt:\n",
    "        return cnt.split('-')[0].strip()\n",
    "    else:\n",
    "        return cnt.strip()\n",
    "df['production_country'] = df['production_country'].apply(country)\n",
    "df['production_country'].unique()"
   ]
  },
  {
   "cell_type": "code",
   "execution_count": 47,
   "id": "77da807b",
   "metadata": {},
   "outputs": [
    {
     "data": {
      "text/plain": [
       "array(['«18+» - запрещено для детей', '«6+» - для детей старше 6 лет',\n",
       "       '«12+» - для детей старше 12 лет',\n",
       "       '«16+» - для детей старше 16 лет',\n",
       "       '«0+» - для любой зрительской аудитории'], dtype=object)"
      ]
     },
     "execution_count": 47,
     "metadata": {},
     "output_type": "execute_result"
    }
   ],
   "source": [
    "df['age_restriction'].unique()"
   ]
  },
  {
   "cell_type": "markdown",
   "id": "a1bdbaed",
   "metadata": {},
   "source": [
    "В столбцу \"age_restriction\" проблемных значений в категориях не выявленно"
   ]
  },
  {
   "cell_type": "code",
   "execution_count": 48,
   "id": "788c693e",
   "metadata": {},
   "outputs": [
    {
     "data": {
      "text/plain": [
       "array(['боевик,драма,мелодрама', 'драма,военный',\n",
       "       'фантастика,боевик,триллер', 'драма', 'мелодрама,комедия',\n",
       "       'мюзикл,мелодрама,комедия', 'комедия,криминал',\n",
       "       'боевик,триллер,детектив', 'боевик,драма,приключения',\n",
       "       'драма,спорт', 'триллер,драма,мелодрама', 'комедия,мелодрама',\n",
       "       'драма,мелодрама,комедия', 'драма,мелодрама', 'драма,история',\n",
       "       'драма,мелодрама,семейный', 'комедия,мелодрама,криминал',\n",
       "       'комедия', 'боевик,драма,криминал', 'драма,комедия',\n",
       "       'ужасы,фантастика,комедия', 'мультфильм,короткометражка,мелодрама',\n",
       "       'драма,криминал', 'мультфильм,фантастика,фэнтези',\n",
       "       'триллер,драма,криминал', 'драма,мелодрама,биография',\n",
       "       'драма,комедия,военный', 'фантастика,драма,детектив',\n",
       "       'мюзикл,семейный', 'нет данных', 'военный,приключения,драма',\n",
       "       'документальный,драма', 'драма,биография,история',\n",
       "       'боевик,триллер,драма', 'фэнтези,боевик',\n",
       "       'боевик,комедия,криминал', 'мюзикл,комедия,детский',\n",
       "       'комедия,мелодрама,драма', 'мультфильм,фэнтези,комедия',\n",
       "       'комедия,история', 'мелодрама', 'драма,биография,музыка',\n",
       "       'фэнтези,драма,мелодрама', 'триллер,военный',\n",
       "       'драма,мелодрама,военный', 'мюзикл,драма,мелодрама',\n",
       "       'мюзикл,комедия', 'мультфильм,приключения,семейный',\n",
       "       'ужасы,триллер', 'боевик,драма,военный', 'драма,боевик',\n",
       "       'мультфильм,драма,комедия', 'триллер,криминал',\n",
       "       'военный,биография,драма', 'комедия,семейный', 'военный',\n",
       "       'драма,семейный,биография', 'фэнтези,приключения,семейный',\n",
       "       'драма,криминал,биография', 'ужасы,триллер,детектив',\n",
       "       'боевик,история,драма', 'ужасы,триллер,драма',\n",
       "       'драма,криминал,спорт', 'документальный,короткометражка',\n",
       "       'триллер,драма', 'криминал,детектив,приключения',\n",
       "       'драма,комедия,криминал', 'драма,комедия,вестерн',\n",
       "       'драма,мелодрама,детектив', 'мелодрама,биография',\n",
       "       'фэнтези,мелодрама,драма', 'драма,мелодрама,история',\n",
       "       'комедия,приключения,история', 'приключения', 'драма,семейный',\n",
       "       'криминал,детектив', 'мультфильм,короткометражка,ужасы',\n",
       "       'фантастика,триллер,драма', 'фэнтези,мелодрама,комедия',\n",
       "       'драма,биография', 'комедия,криминал,история',\n",
       "       'триллер,драма,детектив', 'фантастика,комедия,приключения',\n",
       "       'фэнтези,семейный', 'ужасы,фантастика,боевик',\n",
       "       'мелодрама,криминал', 'комедия,приключения,мелодрама',\n",
       "       'боевик,триллер,приключения', 'боевик,приключения',\n",
       "       'боевик,триллер,криминал', 'документальный,военный,история',\n",
       "       'драма,музыка', 'боевик,драма', 'приключения,боевик',\n",
       "       'драма,военный,биография', 'триллер,драма,приключения',\n",
       "       'аниме,мультфильм,фэнтези', 'триллер,детектив,драма',\n",
       "       'боевик,триллер,мелодрама', 'боевик,история',\n",
       "       'приключения,история', 'драма,комедия,приключения',\n",
       "       'фэнтези,комедия,приключения', 'драма,вестерн',\n",
       "       'документальный,музыка', 'мелодрама,драма',\n",
       "       'триллер,криминал,детектив', 'ужасы', 'боевик,комедия,приключения',\n",
       "       'мультфильм,фэнтези,боевик', 'боевик,фэнтези,драма',\n",
       "       'фэнтези,драма', 'фэнтези,боевик,комедия',\n",
       "       'приключения,детский,комедия', 'документальный',\n",
       "       'боевик,триллер,комедия', 'мелодрама,комедия,криминал',\n",
       "       'драма,детектив', 'мюзикл,ужасы,триллер', 'детектив,триллер,ужасы',\n",
       "       'ужасы,фэнтези', 'ужасы,фэнтези,триллер', 'мультфильм,драма',\n",
       "       'ужасы,боевик,фантастика', 'боевик', 'фантастика,боевик',\n",
       "       'мелодрама,комедия,приключения', 'триллер,детектив',\n",
       "       'мюзикл,мелодрама,фэнтези', 'криминал', 'триллер,комедия,криминал',\n",
       "       'боевик,приключения,триллер', 'триллер,драма,военный',\n",
       "       'комедия,семейный,музыка', 'комедия,фантастика,мелодрама',\n",
       "       'фантастика,триллер,криминал', 'комедия,драма', 'боевик,военный',\n",
       "       'ужасы,фантастика,триллер', 'фантастика,драма,мелодрама',\n",
       "       'фэнтези,драма,детектив', 'боевик,триллер', 'боевик,драма,история',\n",
       "       'мультфильм,мюзикл,фэнтези', 'для взрослых,драма,мелодрама',\n",
       "       'мультфильм,боевик,детектив', 'фантастика,мелодрама,боевик',\n",
       "       'ужасы,фантастика,детектив', 'фантастика,боевик,приключения',\n",
       "       'мелодрама,комедия,спорт', 'комедия,боевик,приключения',\n",
       "       'документальный,приключения', 'мультфильм,короткометражка,детский',\n",
       "       'комедия,приключения', 'ужасы,драма', 'ужасы,фэнтези,боевик',\n",
       "       'мультфильм,фэнтези,детский', 'мюзикл,боевик,драма',\n",
       "       'семейный,комедия,драма', 'концерт,музыка', 'фэнтези,боевик,драма',\n",
       "       'драма,комедия,музыка', 'фантастика,фэнтези,боевик',\n",
       "       'фэнтези,комедия,семейный', 'фэнтези,драма,комедия',\n",
       "       'мультфильм,мюзикл,драма', 'триллер', 'боевик,криминал,триллер',\n",
       "       'мультфильм,приключения,драма', 'мелодрама,музыка',\n",
       "       'документальный,музыка,концерт', 'мультфильм,семейный',\n",
       "       'мультфильм,комедия,приключения', 'мультфильм,комедия,семейный',\n",
       "       'фантастика,драма', 'фэнтези,боевик,приключения',\n",
       "       'мультфильм,приключения', 'драма,военный,история', 'история',\n",
       "       'драма,приключения,военный',\n",
       "       'документальный,короткометражка,семейный',\n",
       "       'мелодрама,история,триллер', 'ужасы,детектив',\n",
       "       'мюзикл,комедия,приключения', 'драма,спорт,биография',\n",
       "       'фантастика,боевик,комедия', 'фантастика,приключения,детектив',\n",
       "       'короткометражка,драма,военный', 'драма,мультфильм',\n",
       "       'приключения,семейный', 'детектив', 'триллер,приключения',\n",
       "       'аниме,мультфильм,боевик', 'драма,комедия,биография',\n",
       "       'драма,комедия,спорт', 'боевик,мелодрама,комедия',\n",
       "       'семейный,комедия', 'фэнтези,боевик,триллер',\n",
       "       'документальный,фэнтези,семейный', 'фантастика,фэнтези,драма',\n",
       "       'ужасы,комедия,фэнтези', 'документальный,биография,музыка',\n",
       "       'фантастика,боевик,фэнтези', 'ужасы,боевик,триллер',\n",
       "       'комедия,криминал,семейный', 'приключения,драма',\n",
       "       'криминал,драма,триллер', 'драма,детектив,криминал',\n",
       "       'фэнтези,приключения,комедия', 'комедия,спорт',\n",
       "       'мюзикл,фэнтези,мелодрама', 'мультфильм,фэнтези,приключения',\n",
       "       'фантастика,фэнтези,приключения', 'фэнтези',\n",
       "       'фэнтези,приключения,боевик', 'фантастика,боевик,драма',\n",
       "       'криминал,драма', 'криминал,триллер,драма',\n",
       "       'драма,мелодрама,приключения', 'детский,комедия',\n",
       "       'фантастика,драма,боевик', 'мультфильм,семейный,фэнтези',\n",
       "       'концерт,музыка,документальный', 'ужасы,комедия,приключения',\n",
       "       'драма,мелодрама,криминал', 'ужасы,фантастика,фэнтези',\n",
       "       'боевик,комедия', 'мультфильм,фантастика,комедия', 'триллер,ужасы',\n",
       "       'мультфильм,мюзикл,комедия', 'мелодрама,фэнтези,триллер',\n",
       "       'детский,приключения,комедия', 'комедия,детектив',\n",
       "       'аниме,мультфильм,мелодрама', 'документальный,драма,семейный',\n",
       "       'документальный,биография,история', 'военный,боевик,драма',\n",
       "       'ужасы,комедия', 'комедия,приключения,семейный',\n",
       "       'приключения,биография,история', 'детский,приключения,семейный',\n",
       "       'спорт,драма,биография', 'аниме,мультфильм,ужасы',\n",
       "       'фантастика,боевик,криминал', 'мюзикл,драма',\n",
       "       'драма,криминал,детектив', 'аниме,мультфильм,драма',\n",
       "       'драма,триллер,приключения', 'триллер,криминал,драма',\n",
       "       'фэнтези,комедия,драма', 'мультфильм,комедия',\n",
       "       'драма,комедия,история', 'комедия,биография,история',\n",
       "       'мультфильм,фантастика,приключения', 'аниме,мультфильм,фантастика',\n",
       "       'мультфильм,фэнтези,семейный', 'мультфильм,боевик,комедия',\n",
       "       'комедия,криминал,спорт', 'документальный,мюзикл',\n",
       "       'мелодрама,комедия,музыка', 'биография',\n",
       "       'триллер,криминал,комедия', 'фантастика,драма,комедия',\n",
       "       'комедия,драма,мелодрама', 'фантастика,приключения,боевик',\n",
       "       'мультфильм,фэнтези,драма', 'триллер,комедия',\n",
       "       'драма,приключения,биография', 'фантастика,комедия',\n",
       "       'мелодрама,драма,комедия', 'боевик,криминал',\n",
       "       'драма,криминал,боевик', 'мультфильм,мюзикл,детский',\n",
       "       'драма,фэнтези', 'документальный,семейный',\n",
       "       'фэнтези,драма,приключения', 'ужасы,комедия,фантастика',\n",
       "       'драма,мелодрама,музыка', 'фэнтези,драма,семейный',\n",
       "       'триллер,мелодрама,драма', 'вестерн,боевик,драма',\n",
       "       'мультфильм,короткометражка,комедия', 'триллер,драма,история',\n",
       "       'ужасы,фантастика', 'ужасы,мелодрама,комедия',\n",
       "       'фэнтези,приключения', 'фантастика,триллер',\n",
       "       'ужасы,боевик,фэнтези', 'мультфильм,комедия,детский',\n",
       "       'триллер,драма,биография', 'мультфильм,ужасы,фэнтези',\n",
       "       'мультфильм,ужасы,фантастика', 'ужасы,боевик,комедия',\n",
       "       'драма,биография,спорт', 'мультфильм', 'мелодрама,комедия,драма',\n",
       "       'приключения,фантастика,семейный', 'комедия,криминал,детектив',\n",
       "       'ужасы,триллер,комедия', 'криминал,комедия,триллер',\n",
       "       'семейный,приключения,комедия', 'мультфильм,драма,приключения',\n",
       "       'ужасы,драма,детектив', 'драма,приключения,фэнтези',\n",
       "       'фантастика,мультфильм,драма', 'драма,триллер,детектив',\n",
       "       'драма,история,музыка', 'детский', 'триллер,боевик,криминал',\n",
       "       'драма,фантастика', 'комедия,драма,семейный',\n",
       "       'боевик,драма,комедия', 'комедия,ужасы',\n",
       "       'драма,фантастика,триллер', 'фантастика,драма,триллер',\n",
       "       'история,спорт,драма', 'документальный,биография',\n",
       "       'биография,история', 'спорт,драма', 'боевик,фэнтези',\n",
       "       'мультфильм,фэнтези', 'документальный,комедия,история',\n",
       "       'криминал,комедия,боевик', 'фэнтези,приключения,драма',\n",
       "       'музыка,концерт', 'триллер,драма,боевик',\n",
       "       'комедия,криминал,боевик', 'комедия,фантастика,боевик',\n",
       "       'вестерн,приключения,боевик', 'аниме,мультфильм,комедия',\n",
       "       'детектив,криминал,триллер', 'мультфильм,комедия,криминал',\n",
       "       'комедия,приключения,детектив', 'мелодрама,фантастика,драма',\n",
       "       'драма,комедия,семейный', 'приключения,фантастика',\n",
       "       'триллер,детектив,ужасы', 'комедия,приключения,фэнтези',\n",
       "       'фэнтези,триллер,драма', 'мелодрама,приключения,боевик',\n",
       "       'детектив,триллер,криминал', 'фэнтези,семейный,мелодрама',\n",
       "       'военный,драма', 'документальный,приключения,семейный',\n",
       "       'криминал,комедия,драма', 'комедия,фантастика',\n",
       "       'история,биография,драма', 'мелодрама,драма,музыка',\n",
       "       'боевик,мелодрама', 'комедия,криминал,триллер',\n",
       "       'детектив,триллер,боевик', 'комедия,боевик,криминал',\n",
       "       'комедия,вестерн', 'детский,мелодрама,семейный',\n",
       "       'короткометражка,мультфильм', 'комедия,фэнтези',\n",
       "       'фантастика,драма,ужасы', 'триллер,драма,ужасы',\n",
       "       'драма,фэнтези,история', 'комедия,драма,короткометражка',\n",
       "       'фэнтези,триллер,приключения', 'семейный',\n",
       "       'комедия,криминал,драма', 'комедия,фэнтези,ужасы',\n",
       "       'короткометражка,комедия,криминал', 'фантастика',\n",
       "       'триллер,ужасы,драма', 'мелодрама,драма,фэнтези',\n",
       "       'фантастика,приключения,драма', 'боевик,детектив',\n",
       "       'военный,драма,боевик', 'комедия,мелодрама,фэнтези',\n",
       "       'вестерн,криминал,триллер', 'драма,история,триллер',\n",
       "       'мультфильм,фантастика,боевик', 'детектив,драма,криминал',\n",
       "       'приключения,история,драма', 'мультфильм,семейный,детский',\n",
       "       'биография,драма,история', 'триллер,криминал,боевик',\n",
       "       'история,мелодрама', 'приключения,детский',\n",
       "       'музыка,приключения,концерт', 'военный,драма,комедия',\n",
       "       'фэнтези,боевик,военный', 'фантастика,детектив,боевик',\n",
       "       'мультфильм,фэнтези,история', 'биография,мелодрама,драма',\n",
       "       'документальный,биография,спорт', 'фантастика,комедия,детектив',\n",
       "       'музыка,концерт,документальный', 'триллер,боевик,приключения',\n",
       "       'триллер,драма,комедия', 'детектив,криминал',\n",
       "       'мультфильм,приключения,фэнтези', 'мелодрама,приключения',\n",
       "       'комедия,музыка', 'мелодрама,комедия,ужасы',\n",
       "       'драма,криминал,приключения', 'приключения,детектив,мелодрама',\n",
       "       'драма,криминал,фантастика', 'фэнтези,драма,биография',\n",
       "       'детектив,фантастика,криминал', 'триллер,драма,фантастика',\n",
       "       'ужасы,комедия,боевик', 'мелодрама,история', 'триллер,боевик',\n",
       "       'фильм-нуар,триллер,детектив', 'комедия,криминал,приключения',\n",
       "       'ужасы,триллер,мелодрама', 'военный,драма,история',\n",
       "       'драма,спорт,история', 'документальный,драма,история',\n",
       "       'триллер,мелодрама,детектив', 'детский,семейный',\n",
       "       'мюзикл,семейный,драма', 'биография,военный,драма',\n",
       "       'мультфильм,детский', 'боевик,криминал,драма',\n",
       "       'детектив,фэнтези,триллер', 'драма,боевик,приключения',\n",
       "       'драма,мелодрама,фэнтези', 'детектив,история,драма',\n",
       "       'фэнтези,боевик,ужасы', 'ужасы,фэнтези,мелодрама',\n",
       "       'ужасы,приключения', 'боевик,фантастика',\n",
       "       'ужасы,мелодрама,детектив', 'фантастика,триллер,приключения',\n",
       "       'боевик,приключения,история', 'приключения,боевик,триллер',\n",
       "       'детектив,ужасы,криминал', 'семейный,фэнтези', 'мюзикл,мелодрама',\n",
       "       'драма,военный,приключения', 'фантастика,драма,приключения',\n",
       "       'приключения,семейный,драма', 'история,драма,боевик',\n",
       "       'мультфильм,приключения,комедия', 'криминал,драма,комедия',\n",
       "       'ужасы,комедия,драма', 'комедия,семейный,приключения',\n",
       "       'мюзикл,фэнтези,драма', 'драма,вестерн,боевик',\n",
       "       'фантастика,триллер,детектив', 'драма,история,детектив',\n",
       "       'короткометражка,биография', 'мультфильм,приключения,фантастика',\n",
       "       'комедия,триллер', 'мультфильм,приключения,детектив',\n",
       "       'драма,триллер', 'ужасы,триллер,криминал',\n",
       "       'документальный,криминал,военный', 'ужасы,фэнтези,драма',\n",
       "       'фэнтези,комедия', 'ужасы,фэнтези,комедия', 'комедия,музыка,драма',\n",
       "       'мультфильм,приключения,военный', 'мюзикл,фэнтези,комедия',\n",
       "       'боевик,фантастика,приключения', 'триллер,ужасы,криминал',\n",
       "       'ужасы,фантастика,драма', 'фантастика,приключения,семейный',\n",
       "       'короткометражка,музыка', 'мелодрама,детектив,комедия',\n",
       "       'документальный,триллер,биография', 'боевик,фантастика,триллер',\n",
       "       'спорт,драма,комедия', 'фэнтези,мелодрама,приключения',\n",
       "       'триллер,детектив,криминал', 'короткометражка,мелодрама',\n",
       "       'мультфильм,семейный,спорт', 'комедия,фэнтези,мелодрама',\n",
       "       'драма,спорт,комедия', 'история,драма,мелодрама',\n",
       "       'драма,боевик,криминал', 'драма,комедия,триллер',\n",
       "       'аниме,мультфильм', 'документальный,ужасы',\n",
       "       'мультфильм,короткометражка', 'драма,история,военный',\n",
       "       'мультфильм,короткометражка,фэнтези', 'комедия,военный,музыка',\n",
       "       'биография,история,драма', 'ужасы,драма,мелодрама',\n",
       "       'драма,комедия,детектив', 'комедия,семейный,фантастика',\n",
       "       'мультфильм,семейный,комедия', 'история,детектив',\n",
       "       'приключения,мелодрама,детектив', 'мюзикл,комедия,мелодрама',\n",
       "       'драма,фантастика,ужасы', 'мультфильм,ужасы,комедия',\n",
       "       'для взрослых,драма,комедия', 'ужасы,комедия,музыка',\n",
       "       'комедия,история,драма', 'семейный,детектив,детский',\n",
       "       'короткометражка,драма', 'документальный,новости,драма',\n",
       "       'триллер,мелодрама', 'ужасы,драма,вестерн',\n",
       "       'мюзикл,фэнтези,семейный', 'вестерн,драма,триллер',\n",
       "       'приключения,вестерн,боевик', 'семейный,комедия,музыка',\n",
       "       'боевик,драма,вестерн', 'ужасы,драма,триллер',\n",
       "       'фантастика,мелодрама', 'комедия,криминал,биография',\n",
       "       'семейный,мультфильм,комедия', 'комедия,драма,криминал',\n",
       "       'фантастика,боевик,военный', 'приключения,биография,драма',\n",
       "       'приключения,триллер,биография', 'криминал,боевик,триллер',\n",
       "       'боевик,вестерн,приключения', 'история,драма',\n",
       "       'фантастика,фэнтези,комедия', 'мультфильм,детский,комедия',\n",
       "       'мелодрама,комедия,триллер', 'документальный,боевик,приключения',\n",
       "       'драма,приключения', 'мелодрама,военный,драма', 'триллер,фэнтези',\n",
       "       'драма,триллер,биография', 'фэнтези,боевик,семейный',\n",
       "       'фантастика,триллер,комедия', 'документальный,фэнтези',\n",
       "       'комедия,мультфильм,фантастика', 'криминал,биография,комедия',\n",
       "       'биография,спорт,драма', 'приключения,военный',\n",
       "       'мультфильм,семейный,драма', 'документальный,фэнтези,драма',\n",
       "       'комедия,боевик,фантастика', 'семейный,приключения,военный',\n",
       "       'триллер,ужасы,детектив', 'короткометражка',\n",
       "       'мелодрама,триллер,история', 'документальный,история',\n",
       "       'мультфильм,приключения,детский', 'драма,комедия,мультфильм',\n",
       "       'военный,детектив', 'семейный,приключения,документальный',\n",
       "       'детский,фэнтези', 'документальный,комедия', 'комедия,биография',\n",
       "       'криминал,комедия', 'спорт,мелодрама,криминал',\n",
       "       'фантастика,комедия,боевик', 'боевик,приключения,детектив',\n",
       "       'детектив,триллер,драма', 'документальный,фантастика',\n",
       "       'мелодрама,комедия,семейный', 'мультфильм,мелодрама,комедия',\n",
       "       'драма,спорт,семейный', 'фантастика,мелодрама,фэнтези',\n",
       "       'мюзикл,комедия,музыка', 'фантастика,триллер,мелодрама',\n",
       "       'приключения,комедия,фэнтези', 'фэнтези,боевик,детектив',\n",
       "       'фэнтези,боевик,мелодрама', 'комедия,военный',\n",
       "       'драма,спорт,боевик', 'мультфильм,боевик,триллер',\n",
       "       'мелодрама,семейный', 'фантастика,боевик,детектив',\n",
       "       'драма,приключения,история', 'документальный,драма,музыка',\n",
       "       'фантастика,триллер,боевик', 'фэнтези,боевик,вестерн',\n",
       "       'драма,комедия,мелодрама', 'ужасы,фэнтези,приключения',\n",
       "       'триллер,фэнтези,драма', 'мультфильм,мюзикл,мелодрама',\n",
       "       'ужасы,триллер,фантастика', 'триллер,мелодрама,комедия',\n",
       "       'ужасы,комедия,семейный', 'комедия,приключения,музыка',\n",
       "       'документальный,комедия,криминал', 'мелодрама,детектив',\n",
       "       'детский,приключения,фантастика', 'короткометражка,боевик,драма',\n",
       "       'боевик,комедия,семейный', 'фантастика,боевик,мелодрама',\n",
       "       'фэнтези,триллер,мелодрама', 'драма,детектив,история',\n",
       "       'боевик,криминал,детектив', 'мультфильм,фэнтези,мелодрама',\n",
       "       'мелодрама,драма,боевик', 'драма,вестерн,приключения',\n",
       "       'драма,приключения,мелодрама', 'фэнтези,боевик,криминал',\n",
       "       'фантастика,комедия,семейный', 'детский,фэнтези,приключения',\n",
       "       'ужасы,боевик', 'фантастика,мелодрама,комедия',\n",
       "       'семейный,спорт,боевик', 'триллер,биография,драма',\n",
       "       'ужасы,драма,комедия', 'мультфильм,фэнтези,триллер', 'мюзикл',\n",
       "       'боевик,спорт,драма', 'комедия,приключения,вестерн',\n",
       "       'документальный,ужасы,боевик', 'фантастика,боевик,семейный',\n",
       "       'военный,история', 'ужасы,боевик,криминал', 'детектив,триллер',\n",
       "       'драма,семейный,комедия', 'драма,детектив,приключения',\n",
       "       'драма,криминал,история', 'приключения,триллер',\n",
       "       'боевик,драма,биография', 'драма,приключения,триллер',\n",
       "       'комедия,фэнтези,приключения', 'фантастика,боевик,ужасы',\n",
       "       'драма,комедия,фантастика', 'детектив,криминал,драма',\n",
       "       'боевик,триллер,фэнтези', 'приключения,детектив,семейный',\n",
       "       'ужасы,комедия,криминал', 'мультфильм,биография,драма',\n",
       "       'история,боевик,фэнтези', 'детектив,криминал,боевик',\n",
       "       'приключения,фэнтези', 'комедия,приключения,спорт',\n",
       "       'драма,биография,мюзикл', 'комедия,семейный,фэнтези',\n",
       "       'детектив,драма,триллер', 'боевик,приключения,семейный',\n",
       "       'биография,спорт,комедия', 'фантастика,приключения,военный',\n",
       "       'документальный,драма,биография', 'детектив,приключения,драма',\n",
       "       'аниме,мультфильм,приключения', 'семейный,приключения',\n",
       "       'ужасы,фэнтези,детектив', 'семейный,документальный',\n",
       "       'драма,приключения,семейный', 'приключения,история,военный',\n",
       "       'фэнтези,мелодрама', 'фэнтези,триллер,детектив',\n",
       "       'документальный,спорт,биография', 'комедия,триллер,драма',\n",
       "       'драма,ужасы', 'биография,музыка,драма', 'фэнтези,ужасы',\n",
       "       'детектив,мелодрама,фэнтези', 'боевик,военный,история',\n",
       "       'биография,драма,криминал', 'триллер,мелодрама,криминал',\n",
       "       'семейный,мелодрама', 'биография,драма', 'военный,история,драма',\n",
       "       'фантастика,детектив,фэнтези', 'детектив,приключения,триллер',\n",
       "       'фантастика,приключения', 'мультфильм,короткометражка,мюзикл',\n",
       "       'мультфильм,детский,семейный', 'документальный,драма,комедия',\n",
       "       'комедия,приключения,криминал', 'документальный,семейный,музыка',\n",
       "       'мелодрама,музыка,драма', 'детектив,фантастика,триллер',\n",
       "       'драма,мелодрама,триллер', 'биография,драма,военный',\n",
       "       'приключения,фантастика,драма', 'детектив,фильм-нуар,комедия',\n",
       "       'документальный,спорт', 'триллер,фантастика,драма',\n",
       "       'биография,документальный', 'ужасы,фантастика,мелодрама',\n",
       "       'детектив,комедия', 'история,биография,военный',\n",
       "       'криминал,мелодрама', 'драма,криминал,вестерн',\n",
       "       'мелодрама,семейный,приключения', 'триллер,ужасы,мелодрама',\n",
       "       'фэнтези,драма,фильм-нуар', 'детектив,мелодрама',\n",
       "       'комедия,драма,биография', 'драма,военный,боевик',\n",
       "       'драма,комедия,ужасы', 'фантастика,драма,криминал',\n",
       "       'документальный,музыка,биография', 'мультфильм,боевик,приключения',\n",
       "       'короткометражка,фантастика', 'мультфильм,мелодрама,драма',\n",
       "       'боевик,военный,драма', 'фэнтези,семейный,приключения',\n",
       "       'детский,мультфильм,приключения', 'семейный,фэнтези,комедия',\n",
       "       'фэнтези,ужасы,триллер', 'ужасы,триллер,приключения',\n",
       "       'драма,боевик,история', 'фэнтези,комедия,детектив',\n",
       "       'история,приключения', 'аниме,мультфильм,короткометражка',\n",
       "       'драма,военный,триллер', 'биография,криминал,триллер',\n",
       "       'фантастика,фэнтези,детектив', 'вестерн,биография,драма',\n",
       "       'биография,музыка,мюзикл', 'драма,история,биография',\n",
       "       'приключения,драма,фантастика', 'комедия,фэнтези,криминал',\n",
       "       'биография,спорт,история', 'драма,криминал,семейный',\n",
       "       'детектив,боевик,история', 'ужасы,комедия,детектив',\n",
       "       'триллер,приключения,драма', 'фэнтези,комедия,криминал',\n",
       "       'триллер,криминал,приключения', 'комедия,детектив,приключения',\n",
       "       'фэнтези,драма,ужасы', 'ужасы,драма,военный', 'реальное ТВ',\n",
       "       'аниме,мультфильм,детектив', 'приключения,фэнтези,семейный',\n",
       "       'драма,биография,комедия', 'триллер,комедия,ужасы',\n",
       "       'музыка,мелодрама,фэнтези', 'мультфильм,история',\n",
       "       'мультфильм,комедия,фантастика', 'биография,криминал,драма',\n",
       "       'комедия,мелодрама,фантастика', 'криминал,боевик,комедия',\n",
       "       'история,криминал', 'детектив,комедия,драма',\n",
       "       'триллер,фантастика,боевик', 'криминал,боевик',\n",
       "       'комедия,драма,военный', 'драма,триллер,криминал',\n",
       "       'мультфильм,мелодрама,приключения', 'фантастика,фэнтези,триллер',\n",
       "       'короткометражка,драма,триллер', 'военный,боевик,история',\n",
       "       'боевик,драма,триллер', 'документальный,военный,драма',\n",
       "       'драма,криминал,фильм-нуар', 'мультфильм,детский,приключения',\n",
       "       'мелодрама,история,драма'], dtype=object)"
      ]
     },
     "execution_count": 48,
     "metadata": {},
     "output_type": "execute_result"
    }
   ],
   "source": [
    "df['genres'].unique()"
   ]
  },
  {
   "cell_type": "markdown",
   "id": "3ef08876",
   "metadata": {},
   "source": [
    "Для данной категории напишем аналагичную функция, как и для столбца 'production_country'."
   ]
  },
  {
   "cell_type": "code",
   "execution_count": 49,
   "id": "7eeabcbe",
   "metadata": {},
   "outputs": [
    {
     "data": {
      "text/plain": [
       "array(['боевик', 'драма', 'фантастика', 'мелодрама', 'мюзикл', 'комедия',\n",
       "       'триллер', 'ужасы', 'мультфильм', 'нет данных', 'военный',\n",
       "       'документальный', 'фэнтези', 'криминал', 'приключения', 'аниме',\n",
       "       'детектив', 'для взрослых', 'семейный', 'концерт', 'история',\n",
       "       'короткометражка', 'детский', 'спорт', 'биография', 'вестерн',\n",
       "       'музыка', 'фильм-нуар', 'реальное ТВ'], dtype=object)"
      ]
     },
     "execution_count": 49,
     "metadata": {},
     "output_type": "execute_result"
    }
   ],
   "source": [
    "def genres(cnt):\n",
    "    if ',' in cnt:\n",
    "        return cnt.split(',')[0].strip()\n",
    "    else:\n",
    "        return cnt.strip()\n",
    "df['genres_new'] = df['genres'].apply(genres)\n",
    "df['genres_new'].unique()"
   ]
  },
  {
   "cell_type": "code",
   "execution_count": 50,
   "id": "d05e8548",
   "metadata": {},
   "outputs": [
    {
     "data": {
      "text/plain": [
       "array(['Тачстоун Пикчерз, Кобальт Пикчерз, Бикон Пикчерз, Тиг Продакшнз',\n",
       "       'Киностудия \"Мосфильм\"',\n",
       "       'Юниверсал Пикчерз, Кикстарт Продакшнз, Марк Платт Продакшнз, Рилейтивити Медиа, Спайгласс Интертейнмент, Стилкин Филмз, Топ Кау Продакшнз',\n",
       "       ...,\n",
       "       'Дэниел Гродник Продакшнз, Вандерфилм Медиа Корпорэйшн, Импринт Интертейнмент, Вор Хорс Интертейнмент, Пимиента ',\n",
       "       'Никелодеон Анимейшн Студиос, Спин Мастер',\n",
       "       'Анимаккорд Лтд., ООО Студия \"АНИМАККОРД\"'], dtype=object)"
      ]
     },
     "execution_count": 50,
     "metadata": {},
     "output_type": "execute_result"
    }
   ],
   "source": [
    "df['film_studio'].unique()"
   ]
  },
  {
   "cell_type": "code",
   "execution_count": 51,
   "id": "5acab3a4",
   "metadata": {},
   "outputs": [
    {
     "data": {
      "text/plain": [
       "array(['Кевин Костнер', 'Е.Матвеев', 'Тимур Бекмамбетов', ...,\n",
       "       'Ник Пауэлл', 'А.Беляев', 'И.Трусов'], dtype=object)"
      ]
     },
     "execution_count": 51,
     "metadata": {},
     "output_type": "execute_result"
    }
   ],
   "source": [
    "df['director'].unique()"
   ]
  },
  {
   "cell_type": "code",
   "execution_count": 52,
   "id": "f8538bb8",
   "metadata": {},
   "outputs": [
    {
     "data": {
      "text/plain": [
       "array(['Кевин Костнер', 'Е.Матвеев', 'Тимур Бекмамбетов', ...,\n",
       "       'Ник Пауэлл', 'А.Беляев', 'И.Трусов'], dtype=object)"
      ]
     },
     "execution_count": 52,
     "metadata": {},
     "output_type": "execute_result"
    }
   ],
   "source": [
    "def director(cnt):\n",
    "    if ',' in cnt:\n",
    "        return cnt.split(',')[0].strip()\n",
    "    else:\n",
    "        return cnt.strip()\n",
    "df['director_new'] = df['director'].apply(director)\n",
    "df['director_new'].unique()"
   ]
  },
  {
   "cell_type": "code",
   "execution_count": 53,
   "id": "20bc3c31",
   "metadata": {},
   "outputs": [
    {
     "data": {
      "text/plain": [
       "array(['Дэвид Валдес, Кевин Костнер, Джейк Эбертс', 'нет данных',\n",
       "       'Джим Лемли, Джейсон Нетер, Марк Е.Платт, Яйн Смит', ...,\n",
       "       'Поппи Бегум, Ник Пойнц',\n",
       "       'Джефф Боулер, Дэниэл Гродник, Луильо Руис, Брэт Саксон, Кирк Шоу',\n",
       "       'Дженнифер Додж'], dtype=object)"
      ]
     },
     "execution_count": 53,
     "metadata": {},
     "output_type": "execute_result"
    }
   ],
   "source": [
    "df['producer'].unique()"
   ]
  },
  {
   "cell_type": "markdown",
   "id": "767a77cc",
   "metadata": {},
   "source": [
    "Далее создадим столбец с годом выхода фильма."
   ]
  },
  {
   "cell_type": "code",
   "execution_count": 54,
   "id": "57e6ad99",
   "metadata": {},
   "outputs": [
    {
     "data": {
      "text/plain": [
       "array([2015, 2016, 2013, 2014, 2012, 2017, 2010, 2011, 2018, 2019])"
      ]
     },
     "execution_count": 54,
     "metadata": {},
     "output_type": "execute_result"
    }
   ],
   "source": [
    "df['year'] = df['show_start_date'].dt.year\n",
    "df['year'].unique()"
   ]
  },
  {
   "cell_type": "markdown",
   "id": "5f73ec7c",
   "metadata": {},
   "source": [
    "Вывод:  почти во всех столбцах встречается похожая проблема - это большой набор категорий в одной строке, что осложняет работу с данной информацией."
   ]
  },
  {
   "cell_type": "markdown",
   "id": "77597129",
   "metadata": {},
   "source": [
    "Проверим что значение в столбце budget не превышвет полный объем гос. поддержки фильмов"
   ]
  },
  {
   "cell_type": "code",
   "execution_count": 55,
   "id": "7e6b360b",
   "metadata": {},
   "outputs": [
    {
     "data": {
      "text/html": [
       "<div>\n",
       "<style scoped>\n",
       "    .dataframe tbody tr th:only-of-type {\n",
       "        vertical-align: middle;\n",
       "    }\n",
       "\n",
       "    .dataframe tbody tr th {\n",
       "        vertical-align: top;\n",
       "    }\n",
       "\n",
       "    .dataframe thead th {\n",
       "        text-align: right;\n",
       "    }\n",
       "</style>\n",
       "<table border=\"1\" class=\"dataframe\">\n",
       "  <thead>\n",
       "    <tr style=\"text-align: right;\">\n",
       "      <th></th>\n",
       "      <th>title</th>\n",
       "      <th>puNumber</th>\n",
       "      <th>show_start_date</th>\n",
       "      <th>type</th>\n",
       "      <th>film_studio</th>\n",
       "      <th>production_country</th>\n",
       "      <th>director</th>\n",
       "      <th>producer</th>\n",
       "      <th>age_restriction</th>\n",
       "      <th>refundable_support</th>\n",
       "      <th>nonrefundable_support</th>\n",
       "      <th>budget</th>\n",
       "      <th>financing_source</th>\n",
       "      <th>ratings</th>\n",
       "      <th>genres</th>\n",
       "      <th>box_office</th>\n",
       "      <th>genres_new</th>\n",
       "      <th>director_new</th>\n",
       "      <th>year</th>\n",
       "    </tr>\n",
       "  </thead>\n",
       "  <tbody>\n",
       "    <tr>\n",
       "      <th>2053</th>\n",
       "      <td>14+</td>\n",
       "      <td>111023614</td>\n",
       "      <td>2014-12-19 12:00:00+00:00</td>\n",
       "      <td>Художественный</td>\n",
       "      <td>ООО Киностудия  \"Сентябрь\"</td>\n",
       "      <td>Россия</td>\n",
       "      <td>А.Зайцев</td>\n",
       "      <td>О.Гранина, А.Зайцев</td>\n",
       "      <td>«16+» - для детей старше 16 лет</td>\n",
       "      <td>0.00</td>\n",
       "      <td>23,000,000.00</td>\n",
       "      <td>0.00</td>\n",
       "      <td>Министерство культуры, Фонд кино</td>\n",
       "      <td>6.60</td>\n",
       "      <td>мелодрама</td>\n",
       "      <td>10,234,016.10</td>\n",
       "      <td>мелодрама</td>\n",
       "      <td>А.Зайцев</td>\n",
       "      <td>2014</td>\n",
       "    </tr>\n",
       "    <tr>\n",
       "      <th>2058</th>\n",
       "      <td>Дуxless 2</td>\n",
       "      <td>111000415</td>\n",
       "      <td>2015-01-26 12:00:00+00:00</td>\n",
       "      <td>Художественный</td>\n",
       "      <td>ООО \"Киностудия \"Слово\", ООО \"Арт Пикчерс Студия\"</td>\n",
       "      <td>Россия</td>\n",
       "      <td>Р.Прыгунов</td>\n",
       "      <td>П.Ануров, Ф.Бондарчук, Д.Рудовский</td>\n",
       "      <td>«16+» - для детей старше 16 лет</td>\n",
       "      <td>0.00</td>\n",
       "      <td>75,000,000.00</td>\n",
       "      <td>0.00</td>\n",
       "      <td>Фонд кино</td>\n",
       "      <td>6.60</td>\n",
       "      <td>драма</td>\n",
       "      <td>446,163,511.00</td>\n",
       "      <td>драма</td>\n",
       "      <td>Р.Прыгунов</td>\n",
       "      <td>2015</td>\n",
       "    </tr>\n",
       "    <tr>\n",
       "      <th>2472</th>\n",
       "      <td>Воин (2015)</td>\n",
       "      <td>111017315</td>\n",
       "      <td>2015-09-28 12:00:00+00:00</td>\n",
       "      <td>Художественный</td>\n",
       "      <td>ООО \"Форпост Продакшн\", ООО \"Арт Пикчерс Студия\"</td>\n",
       "      <td>Россия</td>\n",
       "      <td>А.Андрианов</td>\n",
       "      <td>ООО \"Арт Пикчерс Студия\"</td>\n",
       "      <td>«12+» - для детей старше 12 лет</td>\n",
       "      <td>10,000,000.00</td>\n",
       "      <td>70,000,000.00</td>\n",
       "      <td>0.00</td>\n",
       "      <td>Фонд кино</td>\n",
       "      <td>7.80</td>\n",
       "      <td>боевик,драма,криминал</td>\n",
       "      <td>196,572,438.40</td>\n",
       "      <td>боевик</td>\n",
       "      <td>А.Андрианов</td>\n",
       "      <td>2015</td>\n",
       "    </tr>\n",
       "    <tr>\n",
       "      <th>2532</th>\n",
       "      <td>Бармен.</td>\n",
       "      <td>111009615</td>\n",
       "      <td>2015-05-26 12:00:00+00:00</td>\n",
       "      <td>Художественный</td>\n",
       "      <td>АО \"ВайТ Медиа\", ООО \"Арт Пикчерс Студия\"</td>\n",
       "      <td>Россия</td>\n",
       "      <td>Д.Штурманова</td>\n",
       "      <td>Т.Вайнштейн</td>\n",
       "      <td>«16+» - для детей старше 16 лет</td>\n",
       "      <td>20,000,000.00</td>\n",
       "      <td>0.00</td>\n",
       "      <td>0.00</td>\n",
       "      <td>Фонд кино</td>\n",
       "      <td>6.20</td>\n",
       "      <td>комедия,фэнтези</td>\n",
       "      <td>67,418,974.80</td>\n",
       "      <td>комедия</td>\n",
       "      <td>Д.Штурманова</td>\n",
       "      <td>2015</td>\n",
       "    </tr>\n",
       "    <tr>\n",
       "      <th>2615</th>\n",
       "      <td>Савва. Сердце воина</td>\n",
       "      <td>114001715</td>\n",
       "      <td>2015-07-21 12:00:00+00:00</td>\n",
       "      <td>Анимационный</td>\n",
       "      <td>ООО \"Глюкоза Продакшн\", ООО \"Арт Пикчерс Студия\"</td>\n",
       "      <td>Россия</td>\n",
       "      <td>М.Фадеев</td>\n",
       "      <td>А.Чистяков</td>\n",
       "      <td>«6+» - для детей старше 6 лет</td>\n",
       "      <td>60,000,000.00</td>\n",
       "      <td>100,000,000.00</td>\n",
       "      <td>0.00</td>\n",
       "      <td>Фонд кино</td>\n",
       "      <td>4.60</td>\n",
       "      <td>мультфильм,приключения,фэнтези</td>\n",
       "      <td>184,487,551.40</td>\n",
       "      <td>мультфильм</td>\n",
       "      <td>М.Фадеев</td>\n",
       "      <td>2015</td>\n",
       "    </tr>\n",
       "    <tr>\n",
       "      <th>2684</th>\n",
       "      <td>Тряпичный союз</td>\n",
       "      <td>111010215</td>\n",
       "      <td>2015-06-08 12:00:00+00:00</td>\n",
       "      <td>Художественный</td>\n",
       "      <td>ООО \"Кинокомпания \"КОКТЕБЕЛЬ\"</td>\n",
       "      <td>Россия</td>\n",
       "      <td>М.Местецкий</td>\n",
       "      <td>Р.Борисевич, А.Кушаев</td>\n",
       "      <td>«18+» - запрещено для детей</td>\n",
       "      <td>0.00</td>\n",
       "      <td>59,000,000.00</td>\n",
       "      <td>0.00</td>\n",
       "      <td>Фонд кино</td>\n",
       "      <td>6.30</td>\n",
       "      <td>комедия,драма</td>\n",
       "      <td>1,957,738.51</td>\n",
       "      <td>комедия</td>\n",
       "      <td>М.Местецкий</td>\n",
       "      <td>2015</td>\n",
       "    </tr>\n",
       "    <tr>\n",
       "      <th>2788</th>\n",
       "      <td>Срочно выйду замуж</td>\n",
       "      <td>111017115</td>\n",
       "      <td>2015-09-30 12:00:00+00:00</td>\n",
       "      <td>Художественный</td>\n",
       "      <td>АО \"ВайТ Медиа\", ООО \"Арт Пикчерс Студия\"</td>\n",
       "      <td>Россия</td>\n",
       "      <td>С Чекалов</td>\n",
       "      <td>Ф.Бондарчук, Т.Вайнштейн, Д.Рудовский</td>\n",
       "      <td>«16+» - для детей старше 16 лет</td>\n",
       "      <td>0.00</td>\n",
       "      <td>35,000,000.00</td>\n",
       "      <td>0.00</td>\n",
       "      <td>Фонд кино</td>\n",
       "      <td>5.10</td>\n",
       "      <td>комедия,мелодрама</td>\n",
       "      <td>72,937,783.20</td>\n",
       "      <td>комедия</td>\n",
       "      <td>С Чекалов</td>\n",
       "      <td>2015</td>\n",
       "    </tr>\n",
       "    <tr>\n",
       "      <th>2874</th>\n",
       "      <td>Помню - не помню!</td>\n",
       "      <td>111004916</td>\n",
       "      <td>2016-03-01 12:00:00+00:00</td>\n",
       "      <td>Художественный</td>\n",
       "      <td>ООО \"КиноФирма\"</td>\n",
       "      <td>Россия</td>\n",
       "      <td>В.Ровенский</td>\n",
       "      <td>ООО \"КиноФирма\"</td>\n",
       "      <td>«12+» - для детей старше 12 лет</td>\n",
       "      <td>0.00</td>\n",
       "      <td>6,000,000.00</td>\n",
       "      <td>0.00</td>\n",
       "      <td>Министерство культуры</td>\n",
       "      <td>4.30</td>\n",
       "      <td>комедия</td>\n",
       "      <td>15,362,931.43</td>\n",
       "      <td>комедия</td>\n",
       "      <td>В.Ровенский</td>\n",
       "      <td>2016</td>\n",
       "    </tr>\n",
       "    <tr>\n",
       "      <th>3047</th>\n",
       "      <td>Любовь с ограничениями</td>\n",
       "      <td>111008216</td>\n",
       "      <td>2016-04-29 12:00:00+00:00</td>\n",
       "      <td>Художественный</td>\n",
       "      <td>АО \"ВайТ Медиа\", ООО \"Арт Пикчерс Студия\"</td>\n",
       "      <td>Россия</td>\n",
       "      <td>Д.Тюрин</td>\n",
       "      <td>Ф.Бондарчук, Т.Вайнштейн, Д.Рудовский</td>\n",
       "      <td>«16+» - для детей старше 16 лет</td>\n",
       "      <td>19,000,000.00</td>\n",
       "      <td>51,000,000.00</td>\n",
       "      <td>0.00</td>\n",
       "      <td>Фонд кино</td>\n",
       "      <td>6.30</td>\n",
       "      <td>комедия,мелодрама</td>\n",
       "      <td>70,299,052.00</td>\n",
       "      <td>комедия</td>\n",
       "      <td>Д.Тюрин</td>\n",
       "      <td>2016</td>\n",
       "    </tr>\n",
       "    <tr>\n",
       "      <th>3565</th>\n",
       "      <td>Притяжение (2016)</td>\n",
       "      <td>111018116</td>\n",
       "      <td>2016-12-16 12:00:00+00:00</td>\n",
       "      <td>Художественный</td>\n",
       "      <td>ООО \"Водород 2011\",  ООО \"Арт Пикчерс Студия\"</td>\n",
       "      <td>Россия</td>\n",
       "      <td>Ф.Бондарчук</td>\n",
       "      <td>ООО \"Арт Пикчерс Студия\"</td>\n",
       "      <td>«12+» - для детей старше 12 лет</td>\n",
       "      <td>0.00</td>\n",
       "      <td>250,000,000.00</td>\n",
       "      <td>0.00</td>\n",
       "      <td>Фонд кино</td>\n",
       "      <td>5.60</td>\n",
       "      <td>фантастика</td>\n",
       "      <td>1,038,321,489.00</td>\n",
       "      <td>фантастика</td>\n",
       "      <td>Ф.Бондарчук</td>\n",
       "      <td>2016</td>\n",
       "    </tr>\n",
       "    <tr>\n",
       "      <th>3675</th>\n",
       "      <td>Чудо-юдо</td>\n",
       "      <td>114001817</td>\n",
       "      <td>2017-06-27 12:00:00+00:00</td>\n",
       "      <td>Анимационный</td>\n",
       "      <td>ООО \"КиноФирма\"</td>\n",
       "      <td>Россия</td>\n",
       "      <td>А.Лукичев</td>\n",
       "      <td>ООО \"КиноФирма\"</td>\n",
       "      <td>«6+» - для детей старше 6 лет</td>\n",
       "      <td>20,000,000.00</td>\n",
       "      <td>20,000,000.00</td>\n",
       "      <td>0.00</td>\n",
       "      <td>Фонд кино</td>\n",
       "      <td>5.20</td>\n",
       "      <td>мультфильм,фэнтези,семейный</td>\n",
       "      <td>55,108,014.76</td>\n",
       "      <td>мультфильм</td>\n",
       "      <td>А.Лукичев</td>\n",
       "      <td>2017</td>\n",
       "    </tr>\n",
       "    <tr>\n",
       "      <th>3739</th>\n",
       "      <td>Мифы</td>\n",
       "      <td>111004317</td>\n",
       "      <td>2017-06-07 12:00:00+00:00</td>\n",
       "      <td>Художественный</td>\n",
       "      <td>ООО \"ХАЙПФИЛМ\", ООО \"Арт Пикчерс Студия\"</td>\n",
       "      <td>Россия</td>\n",
       "      <td>А.Молочников</td>\n",
       "      <td>Ф.Бондарчук, Д.Рудовский, И.Стюарт, М.Османн, ...</td>\n",
       "      <td>«16+» - для детей старше 16 лет</td>\n",
       "      <td>25,000,000.00</td>\n",
       "      <td>20,000,000.00</td>\n",
       "      <td>0.00</td>\n",
       "      <td>Фонд кино</td>\n",
       "      <td>4.80</td>\n",
       "      <td>комедия</td>\n",
       "      <td>50,451,949.00</td>\n",
       "      <td>комедия</td>\n",
       "      <td>А.Молочников</td>\n",
       "      <td>2017</td>\n",
       "    </tr>\n",
       "    <tr>\n",
       "      <th>5673</th>\n",
       "      <td>Селфи</td>\n",
       "      <td>111012117</td>\n",
       "      <td>2018-02-01 12:00:00+00:00</td>\n",
       "      <td>Художественный</td>\n",
       "      <td>ООО \"Киностудия \"Слово\", ООО \"Арт Пикчерс Студия\"</td>\n",
       "      <td>Россия</td>\n",
       "      <td>Н.Хомерики</td>\n",
       "      <td>П.Ануров, Ф.Бондарчук, Д.Рудовский</td>\n",
       "      <td>«16+» - для детей старше 16 лет</td>\n",
       "      <td>20,000,000.00</td>\n",
       "      <td>40,000,000.00</td>\n",
       "      <td>0.00</td>\n",
       "      <td>Фонд кино</td>\n",
       "      <td>5.80</td>\n",
       "      <td>триллер,драма</td>\n",
       "      <td>225,196,400.03</td>\n",
       "      <td>триллер</td>\n",
       "      <td>Н.Хомерики</td>\n",
       "      <td>2018</td>\n",
       "    </tr>\n",
       "    <tr>\n",
       "      <th>5806</th>\n",
       "      <td>Два хвоста</td>\n",
       "      <td>114001018</td>\n",
       "      <td>2018-05-31 12:00:00+00:00</td>\n",
       "      <td>Анимационный</td>\n",
       "      <td>ООО \"ЛИЦЕНЗИОННЫЕ БРЕНДЫ\"</td>\n",
       "      <td>Россия</td>\n",
       "      <td>В.Ровенский, Н.Лопато, В.Азеев</td>\n",
       "      <td>ООО \"ЛИЦЕНЗИОННЫЕ БРЕНДЫ\"</td>\n",
       "      <td>«6+» - для детей старше 6 лет</td>\n",
       "      <td>10,000,000.00</td>\n",
       "      <td>60,000,000.00</td>\n",
       "      <td>0.00</td>\n",
       "      <td>Фонд кино</td>\n",
       "      <td>5.00</td>\n",
       "      <td>мультфильм,детский</td>\n",
       "      <td>106,514,301.03</td>\n",
       "      <td>мультфильм</td>\n",
       "      <td>В.Ровенский</td>\n",
       "      <td>2018</td>\n",
       "    </tr>\n",
       "    <tr>\n",
       "      <th>6008</th>\n",
       "      <td>Принцесса и дракон</td>\n",
       "      <td>114003018</td>\n",
       "      <td>2018-08-23 12:00:00+00:00</td>\n",
       "      <td>Анимационный</td>\n",
       "      <td>ООО \"ЛИЦЕНЗИОННЫЕ БРЕНДЫ\"</td>\n",
       "      <td>Россия</td>\n",
       "      <td>М.Нефедова</td>\n",
       "      <td>ООО \"ЛИЦЕНЗИОННЫЕ БРЕНДЫ\"</td>\n",
       "      <td>«6+» - для детей старше 6 лет</td>\n",
       "      <td>40,000,000.00</td>\n",
       "      <td>40,000,000.00</td>\n",
       "      <td>0.00</td>\n",
       "      <td>Фонд кино</td>\n",
       "      <td>5.20</td>\n",
       "      <td>мультфильм,фэнтези,детский</td>\n",
       "      <td>83,366,328.66</td>\n",
       "      <td>мультфильм</td>\n",
       "      <td>М.Нефедова</td>\n",
       "      <td>2018</td>\n",
       "    </tr>\n",
       "    <tr>\n",
       "      <th>6323</th>\n",
       "      <td>Баба Яга</td>\n",
       "      <td>114006518</td>\n",
       "      <td>2018-11-08 12:00:00+00:00</td>\n",
       "      <td>Анимационный</td>\n",
       "      <td>ООО \"Арт Пикчерс Студия\"</td>\n",
       "      <td>Россия</td>\n",
       "      <td>В.Саков</td>\n",
       "      <td>ООО \"Арт Пикчерс Студия\", ООО \"КРИЭЙТИВ АНИМЭЙ...</td>\n",
       "      <td>«6+» - для детей старше 6 лет</td>\n",
       "      <td>0.00</td>\n",
       "      <td>138,969,465.00</td>\n",
       "      <td>0.00</td>\n",
       "      <td>Фонд кино</td>\n",
       "      <td>6.90</td>\n",
       "      <td>нет данных</td>\n",
       "      <td>1,334,699.40</td>\n",
       "      <td>нет данных</td>\n",
       "      <td>В.Саков</td>\n",
       "      <td>2018</td>\n",
       "    </tr>\n",
       "    <tr>\n",
       "      <th>6823</th>\n",
       "      <td>Большое путешествие</td>\n",
       "      <td>114002419</td>\n",
       "      <td>2019-04-20 12:00:00+00:00</td>\n",
       "      <td>Анимационный</td>\n",
       "      <td>ООО \"ЛИЦЕНЗИОННЫЕ БРЕНДЫ\"</td>\n",
       "      <td>Россия</td>\n",
       "      <td>Н.Лопато, В.Ровенский</td>\n",
       "      <td>ООО \"ЛИЦЕНЗИОННЫЕ БРЕНДЫ\"</td>\n",
       "      <td>«6+» - для детей старше 6 лет</td>\n",
       "      <td>60,000,000.00</td>\n",
       "      <td>120,000,000.00</td>\n",
       "      <td>0.00</td>\n",
       "      <td>Фонд кино</td>\n",
       "      <td>6.20</td>\n",
       "      <td>мультфильм,комедия,приключения</td>\n",
       "      <td>147,606,826.51</td>\n",
       "      <td>мультфильм</td>\n",
       "      <td>Н.Лопато</td>\n",
       "      <td>2019</td>\n",
       "    </tr>\n",
       "  </tbody>\n",
       "</table>\n",
       "</div>"
      ],
      "text/plain": [
       "                       title   puNumber           show_start_date  \\\n",
       "2053                     14+  111023614 2014-12-19 12:00:00+00:00   \n",
       "2058               Дуxless 2  111000415 2015-01-26 12:00:00+00:00   \n",
       "2472             Воин (2015)  111017315 2015-09-28 12:00:00+00:00   \n",
       "2532                 Бармен.  111009615 2015-05-26 12:00:00+00:00   \n",
       "2615     Савва. Сердце воина  114001715 2015-07-21 12:00:00+00:00   \n",
       "2684          Тряпичный союз  111010215 2015-06-08 12:00:00+00:00   \n",
       "2788      Срочно выйду замуж  111017115 2015-09-30 12:00:00+00:00   \n",
       "2874       Помню - не помню!  111004916 2016-03-01 12:00:00+00:00   \n",
       "3047  Любовь с ограничениями  111008216 2016-04-29 12:00:00+00:00   \n",
       "3565       Притяжение (2016)  111018116 2016-12-16 12:00:00+00:00   \n",
       "3675                Чудо-юдо  114001817 2017-06-27 12:00:00+00:00   \n",
       "3739                    Мифы  111004317 2017-06-07 12:00:00+00:00   \n",
       "5673                   Селфи  111012117 2018-02-01 12:00:00+00:00   \n",
       "5806              Два хвоста  114001018 2018-05-31 12:00:00+00:00   \n",
       "6008      Принцесса и дракон  114003018 2018-08-23 12:00:00+00:00   \n",
       "6323                Баба Яга  114006518 2018-11-08 12:00:00+00:00   \n",
       "6823     Большое путешествие  114002419 2019-04-20 12:00:00+00:00   \n",
       "\n",
       "                type                                        film_studio  \\\n",
       "2053  Художественный                         ООО Киностудия  \"Сентябрь\"   \n",
       "2058  Художественный  ООО \"Киностудия \"Слово\", ООО \"Арт Пикчерс Студия\"   \n",
       "2472  Художественный   ООО \"Форпост Продакшн\", ООО \"Арт Пикчерс Студия\"   \n",
       "2532  Художественный          АО \"ВайТ Медиа\", ООО \"Арт Пикчерс Студия\"   \n",
       "2615    Анимационный   ООО \"Глюкоза Продакшн\", ООО \"Арт Пикчерс Студия\"   \n",
       "2684  Художественный                      ООО \"Кинокомпания \"КОКТЕБЕЛЬ\"   \n",
       "2788  Художественный          АО \"ВайТ Медиа\", ООО \"Арт Пикчерс Студия\"   \n",
       "2874  Художественный                                    ООО \"КиноФирма\"   \n",
       "3047  Художественный          АО \"ВайТ Медиа\", ООО \"Арт Пикчерс Студия\"   \n",
       "3565  Художественный      ООО \"Водород 2011\",  ООО \"Арт Пикчерс Студия\"   \n",
       "3675    Анимационный                                    ООО \"КиноФирма\"   \n",
       "3739  Художественный           ООО \"ХАЙПФИЛМ\", ООО \"Арт Пикчерс Студия\"   \n",
       "5673  Художественный  ООО \"Киностудия \"Слово\", ООО \"Арт Пикчерс Студия\"   \n",
       "5806    Анимационный                          ООО \"ЛИЦЕНЗИОННЫЕ БРЕНДЫ\"   \n",
       "6008    Анимационный                          ООО \"ЛИЦЕНЗИОННЫЕ БРЕНДЫ\"   \n",
       "6323    Анимационный                           ООО \"Арт Пикчерс Студия\"   \n",
       "6823    Анимационный                          ООО \"ЛИЦЕНЗИОННЫЕ БРЕНДЫ\"   \n",
       "\n",
       "     production_country                        director  \\\n",
       "2053             Россия                        А.Зайцев   \n",
       "2058             Россия                      Р.Прыгунов   \n",
       "2472             Россия                     А.Андрианов   \n",
       "2532             Россия                    Д.Штурманова   \n",
       "2615             Россия                        М.Фадеев   \n",
       "2684             Россия                     М.Местецкий   \n",
       "2788             Россия                       С Чекалов   \n",
       "2874             Россия                     В.Ровенский   \n",
       "3047             Россия                         Д.Тюрин   \n",
       "3565             Россия                     Ф.Бондарчук   \n",
       "3675             Россия                       А.Лукичев   \n",
       "3739             Россия                    А.Молочников   \n",
       "5673             Россия                      Н.Хомерики   \n",
       "5806             Россия  В.Ровенский, Н.Лопато, В.Азеев   \n",
       "6008             Россия                      М.Нефедова   \n",
       "6323             Россия                         В.Саков   \n",
       "6823             Россия           Н.Лопато, В.Ровенский   \n",
       "\n",
       "                                               producer  \\\n",
       "2053                                О.Гранина, А.Зайцев   \n",
       "2058                 П.Ануров, Ф.Бондарчук, Д.Рудовский   \n",
       "2472                           ООО \"Арт Пикчерс Студия\"   \n",
       "2532                                        Т.Вайнштейн   \n",
       "2615                                         А.Чистяков   \n",
       "2684                              Р.Борисевич, А.Кушаев   \n",
       "2788              Ф.Бондарчук, Т.Вайнштейн, Д.Рудовский   \n",
       "2874                                    ООО \"КиноФирма\"   \n",
       "3047              Ф.Бондарчук, Т.Вайнштейн, Д.Рудовский   \n",
       "3565                           ООО \"Арт Пикчерс Студия\"   \n",
       "3675                                    ООО \"КиноФирма\"   \n",
       "3739  Ф.Бондарчук, Д.Рудовский, И.Стюарт, М.Османн, ...   \n",
       "5673                 П.Ануров, Ф.Бондарчук, Д.Рудовский   \n",
       "5806                          ООО \"ЛИЦЕНЗИОННЫЕ БРЕНДЫ\"   \n",
       "6008                          ООО \"ЛИЦЕНЗИОННЫЕ БРЕНДЫ\"   \n",
       "6323  ООО \"Арт Пикчерс Студия\", ООО \"КРИЭЙТИВ АНИМЭЙ...   \n",
       "6823                          ООО \"ЛИЦЕНЗИОННЫЕ БРЕНДЫ\"   \n",
       "\n",
       "                      age_restriction  refundable_support  \\\n",
       "2053  «16+» - для детей старше 16 лет                0.00   \n",
       "2058  «16+» - для детей старше 16 лет                0.00   \n",
       "2472  «12+» - для детей старше 12 лет       10,000,000.00   \n",
       "2532  «16+» - для детей старше 16 лет       20,000,000.00   \n",
       "2615    «6+» - для детей старше 6 лет       60,000,000.00   \n",
       "2684      «18+» - запрещено для детей                0.00   \n",
       "2788  «16+» - для детей старше 16 лет                0.00   \n",
       "2874  «12+» - для детей старше 12 лет                0.00   \n",
       "3047  «16+» - для детей старше 16 лет       19,000,000.00   \n",
       "3565  «12+» - для детей старше 12 лет                0.00   \n",
       "3675    «6+» - для детей старше 6 лет       20,000,000.00   \n",
       "3739  «16+» - для детей старше 16 лет       25,000,000.00   \n",
       "5673  «16+» - для детей старше 16 лет       20,000,000.00   \n",
       "5806    «6+» - для детей старше 6 лет       10,000,000.00   \n",
       "6008    «6+» - для детей старше 6 лет       40,000,000.00   \n",
       "6323    «6+» - для детей старше 6 лет                0.00   \n",
       "6823    «6+» - для детей старше 6 лет       60,000,000.00   \n",
       "\n",
       "      nonrefundable_support  budget                  financing_source  \\\n",
       "2053          23,000,000.00    0.00  Министерство культуры, Фонд кино   \n",
       "2058          75,000,000.00    0.00                         Фонд кино   \n",
       "2472          70,000,000.00    0.00                         Фонд кино   \n",
       "2532                   0.00    0.00                         Фонд кино   \n",
       "2615         100,000,000.00    0.00                         Фонд кино   \n",
       "2684          59,000,000.00    0.00                         Фонд кино   \n",
       "2788          35,000,000.00    0.00                         Фонд кино   \n",
       "2874           6,000,000.00    0.00             Министерство культуры   \n",
       "3047          51,000,000.00    0.00                         Фонд кино   \n",
       "3565         250,000,000.00    0.00                         Фонд кино   \n",
       "3675          20,000,000.00    0.00                         Фонд кино   \n",
       "3739          20,000,000.00    0.00                         Фонд кино   \n",
       "5673          40,000,000.00    0.00                         Фонд кино   \n",
       "5806          60,000,000.00    0.00                         Фонд кино   \n",
       "6008          40,000,000.00    0.00                         Фонд кино   \n",
       "6323         138,969,465.00    0.00                         Фонд кино   \n",
       "6823         120,000,000.00    0.00                         Фонд кино   \n",
       "\n",
       "      ratings                          genres       box_office  genres_new  \\\n",
       "2053     6.60                       мелодрама    10,234,016.10   мелодрама   \n",
       "2058     6.60                           драма   446,163,511.00       драма   \n",
       "2472     7.80           боевик,драма,криминал   196,572,438.40      боевик   \n",
       "2532     6.20                 комедия,фэнтези    67,418,974.80     комедия   \n",
       "2615     4.60  мультфильм,приключения,фэнтези   184,487,551.40  мультфильм   \n",
       "2684     6.30                   комедия,драма     1,957,738.51     комедия   \n",
       "2788     5.10               комедия,мелодрама    72,937,783.20     комедия   \n",
       "2874     4.30                         комедия    15,362,931.43     комедия   \n",
       "3047     6.30               комедия,мелодрама    70,299,052.00     комедия   \n",
       "3565     5.60                      фантастика 1,038,321,489.00  фантастика   \n",
       "3675     5.20     мультфильм,фэнтези,семейный    55,108,014.76  мультфильм   \n",
       "3739     4.80                         комедия    50,451,949.00     комедия   \n",
       "5673     5.80                   триллер,драма   225,196,400.03     триллер   \n",
       "5806     5.00              мультфильм,детский   106,514,301.03  мультфильм   \n",
       "6008     5.20      мультфильм,фэнтези,детский    83,366,328.66  мультфильм   \n",
       "6323     6.90                      нет данных     1,334,699.40  нет данных   \n",
       "6823     6.20  мультфильм,комедия,приключения   147,606,826.51  мультфильм   \n",
       "\n",
       "      director_new  year  \n",
       "2053      А.Зайцев  2014  \n",
       "2058    Р.Прыгунов  2015  \n",
       "2472   А.Андрианов  2015  \n",
       "2532  Д.Штурманова  2015  \n",
       "2615      М.Фадеев  2015  \n",
       "2684   М.Местецкий  2015  \n",
       "2788     С Чекалов  2015  \n",
       "2874   В.Ровенский  2016  \n",
       "3047       Д.Тюрин  2016  \n",
       "3565   Ф.Бондарчук  2016  \n",
       "3675     А.Лукичев  2017  \n",
       "3739  А.Молочников  2017  \n",
       "5673    Н.Хомерики  2018  \n",
       "5806   В.Ровенский  2018  \n",
       "6008    М.Нефедова  2018  \n",
       "6323       В.Саков  2018  \n",
       "6823      Н.Лопато  2019  "
      ]
     },
     "metadata": {},
     "output_type": "display_data"
    },
    {
     "data": {
      "text/plain": [
       "17"
      ]
     },
     "metadata": {},
     "output_type": "display_data"
    }
   ],
   "source": [
    "otv = df[df['budget'] < df['nonrefundable_support'] + df['refundable_support']]\n",
    "display(otv, otv['budget'].count())"
   ]
  },
  {
   "cell_type": "markdown",
   "id": "5bd97241",
   "metadata": {},
   "source": [
    "Как видно из получившегося результат таких фильмов нашлось 17шт. В этот список попали фильмы информация о бюджете неизвестна. Заменим нули на пропуски"
   ]
  },
  {
   "cell_type": "code",
   "execution_count": 56,
   "id": "f6f616f5",
   "metadata": {},
   "outputs": [],
   "source": [
    "data['budget'] = data['budget'].replace(float('inf'), np.nan)"
   ]
  },
  {
   "cell_type": "markdown",
   "id": "cfcaeb12",
   "metadata": {},
   "source": [
    "Далее посчитаем, какую долю от общего бюджета фильма составляет государственная поддержка и сохраним результат в новый столбец \"government_help\""
   ]
  },
  {
   "cell_type": "code",
   "execution_count": 57,
   "id": "d1c117f6",
   "metadata": {
    "scrolled": true
   },
   "outputs": [
    {
     "data": {
      "text/html": [
       "<div>\n",
       "<style scoped>\n",
       "    .dataframe tbody tr th:only-of-type {\n",
       "        vertical-align: middle;\n",
       "    }\n",
       "\n",
       "    .dataframe tbody tr th {\n",
       "        vertical-align: top;\n",
       "    }\n",
       "\n",
       "    .dataframe thead th {\n",
       "        text-align: right;\n",
       "    }\n",
       "</style>\n",
       "<table border=\"1\" class=\"dataframe\">\n",
       "  <thead>\n",
       "    <tr style=\"text-align: right;\">\n",
       "      <th></th>\n",
       "      <th>title</th>\n",
       "      <th>puNumber</th>\n",
       "      <th>show_start_date</th>\n",
       "      <th>type</th>\n",
       "      <th>film_studio</th>\n",
       "      <th>production_country</th>\n",
       "      <th>director</th>\n",
       "      <th>producer</th>\n",
       "      <th>age_restriction</th>\n",
       "      <th>refundable_support</th>\n",
       "      <th>nonrefundable_support</th>\n",
       "      <th>budget</th>\n",
       "      <th>financing_source</th>\n",
       "      <th>ratings</th>\n",
       "      <th>genres</th>\n",
       "      <th>box_office</th>\n",
       "      <th>genres_new</th>\n",
       "      <th>director_new</th>\n",
       "      <th>year</th>\n",
       "      <th>government_help</th>\n",
       "    </tr>\n",
       "  </thead>\n",
       "  <tbody>\n",
       "    <tr>\n",
       "      <th>5600</th>\n",
       "      <td>За гранью реальности</td>\n",
       "      <td>111010817</td>\n",
       "      <td>2017-11-27 12:00:00+00:00</td>\n",
       "      <td>Художественный</td>\n",
       "      <td>ООО \"КИНОДАНЦ\"</td>\n",
       "      <td>Россия</td>\n",
       "      <td>А.Богуславский</td>\n",
       "      <td>В.Денисюк, Е.Мелентьев</td>\n",
       "      <td>«12+» - для детей старше 12 лет</td>\n",
       "      <td>0.00</td>\n",
       "      <td>6,000,000.00</td>\n",
       "      <td>136,230,333.00</td>\n",
       "      <td>Министерство культуры</td>\n",
       "      <td>5.20</td>\n",
       "      <td>приключения,фэнтези</td>\n",
       "      <td>126,713,450.16</td>\n",
       "      <td>приключения</td>\n",
       "      <td>А.Богуславский</td>\n",
       "      <td>2017</td>\n",
       "      <td>0.04</td>\n",
       "    </tr>\n",
       "    <tr>\n",
       "      <th>3732</th>\n",
       "      <td>Танцы насмерть</td>\n",
       "      <td>111013416</td>\n",
       "      <td>2016-08-31 12:00:00+00:00</td>\n",
       "      <td>Художественный</td>\n",
       "      <td>ООО \"КИНОДАНЦ\", ООО \"ЦЕНТРОКИНО\"</td>\n",
       "      <td>Россия</td>\n",
       "      <td>А.Волгин</td>\n",
       "      <td>В.Денисюк, Е.Мелентьев</td>\n",
       "      <td>«12+» - для детей старше 12 лет</td>\n",
       "      <td>0.00</td>\n",
       "      <td>6,000,000.00</td>\n",
       "      <td>90,278,063.00</td>\n",
       "      <td>Министерство культуры</td>\n",
       "      <td>4.00</td>\n",
       "      <td>фантастика</td>\n",
       "      <td>9,680,744.00</td>\n",
       "      <td>фантастика</td>\n",
       "      <td>А.Волгин</td>\n",
       "      <td>2016</td>\n",
       "      <td>0.07</td>\n",
       "    </tr>\n",
       "    <tr>\n",
       "      <th>7171</th>\n",
       "      <td>Грех</td>\n",
       "      <td>111014419</td>\n",
       "      <td>2019-08-31 12:00:00+00:00</td>\n",
       "      <td>Художественный</td>\n",
       "      <td>НО Фонд Андрея Кончаловского по поддержке кино...</td>\n",
       "      <td>Россия, Италия</td>\n",
       "      <td>А.Михалков (псевдоним А.Кончаловский)</td>\n",
       "      <td>НО Фонд Андрея Кончаловского по поддержке кино...</td>\n",
       "      <td>«16+» - для детей старше 16 лет</td>\n",
       "      <td>0.00</td>\n",
       "      <td>60,000,000.00</td>\n",
       "      <td>779,941,965.00</td>\n",
       "      <td>Министерство культуры</td>\n",
       "      <td>6.90</td>\n",
       "      <td>драма,биография,история</td>\n",
       "      <td>54,243,202.71</td>\n",
       "      <td>драма</td>\n",
       "      <td>А.Михалков (псевдоним А.Кончаловский)</td>\n",
       "      <td>2019</td>\n",
       "      <td>0.08</td>\n",
       "    </tr>\n",
       "    <tr>\n",
       "      <th>7180</th>\n",
       "      <td>Байкал - Сердце мира 3D</td>\n",
       "      <td>112004619</td>\n",
       "      <td>2019-11-01 12:00:00+00:00</td>\n",
       "      <td>Документальный</td>\n",
       "      <td>ООО \"Продюсерский центр \"Новое Время\"</td>\n",
       "      <td>Россия</td>\n",
       "      <td>А.Попова</td>\n",
       "      <td>И.Добровольский, А.Разуваева, Ю.Перкуль</td>\n",
       "      <td>«0+» - для любой зрительской аудитории</td>\n",
       "      <td>0.00</td>\n",
       "      <td>3,000,000.00</td>\n",
       "      <td>33,000,000.00</td>\n",
       "      <td>Министерство культуры</td>\n",
       "      <td>8.00</td>\n",
       "      <td>семейный</td>\n",
       "      <td>NaN</td>\n",
       "      <td>семейный</td>\n",
       "      <td>А.Попова</td>\n",
       "      <td>2019</td>\n",
       "      <td>0.09</td>\n",
       "    </tr>\n",
       "    <tr>\n",
       "      <th>3042</th>\n",
       "      <td>Крякнутые каникулы</td>\n",
       "      <td>114003615</td>\n",
       "      <td>2015-12-22 12:00:00+00:00</td>\n",
       "      <td>Анимационный</td>\n",
       "      <td>ООО \"Анимационная студия РИМ\"</td>\n",
       "      <td>Россия</td>\n",
       "      <td>В.Лакисов</td>\n",
       "      <td>Р.Атоян, В.Зорин, О.Бровченко</td>\n",
       "      <td>«6+» - для детей старше 6 лет</td>\n",
       "      <td>40,000,000.00</td>\n",
       "      <td>0.00</td>\n",
       "      <td>399,075,326.00</td>\n",
       "      <td>Фонд кино</td>\n",
       "      <td>5.40</td>\n",
       "      <td>мультфильм,комедия,приключения</td>\n",
       "      <td>69,693,747.93</td>\n",
       "      <td>мультфильм</td>\n",
       "      <td>В.Лакисов</td>\n",
       "      <td>2015</td>\n",
       "      <td>0.10</td>\n",
       "    </tr>\n",
       "  </tbody>\n",
       "</table>\n",
       "</div>"
      ],
      "text/plain": [
       "                        title   puNumber           show_start_date  \\\n",
       "5600     За гранью реальности  111010817 2017-11-27 12:00:00+00:00   \n",
       "3732           Танцы насмерть  111013416 2016-08-31 12:00:00+00:00   \n",
       "7171                     Грех  111014419 2019-08-31 12:00:00+00:00   \n",
       "7180  Байкал - Сердце мира 3D  112004619 2019-11-01 12:00:00+00:00   \n",
       "3042       Крякнутые каникулы  114003615 2015-12-22 12:00:00+00:00   \n",
       "\n",
       "                type                                        film_studio  \\\n",
       "5600  Художественный                                     ООО \"КИНОДАНЦ\"   \n",
       "3732  Художественный                   ООО \"КИНОДАНЦ\", ООО \"ЦЕНТРОКИНО\"   \n",
       "7171  Художественный  НО Фонд Андрея Кончаловского по поддержке кино...   \n",
       "7180  Документальный              ООО \"Продюсерский центр \"Новое Время\"   \n",
       "3042    Анимационный                      ООО \"Анимационная студия РИМ\"   \n",
       "\n",
       "     production_country                               director  \\\n",
       "5600             Россия                         А.Богуславский   \n",
       "3732             Россия                               А.Волгин   \n",
       "7171     Россия, Италия  А.Михалков (псевдоним А.Кончаловский)   \n",
       "7180             Россия                               А.Попова   \n",
       "3042             Россия                              В.Лакисов   \n",
       "\n",
       "                                               producer  \\\n",
       "5600                             В.Денисюк, Е.Мелентьев   \n",
       "3732                             В.Денисюк, Е.Мелентьев   \n",
       "7171  НО Фонд Андрея Кончаловского по поддержке кино...   \n",
       "7180            И.Добровольский, А.Разуваева, Ю.Перкуль   \n",
       "3042                      Р.Атоян, В.Зорин, О.Бровченко   \n",
       "\n",
       "                             age_restriction  refundable_support  \\\n",
       "5600         «12+» - для детей старше 12 лет                0.00   \n",
       "3732         «12+» - для детей старше 12 лет                0.00   \n",
       "7171         «16+» - для детей старше 16 лет                0.00   \n",
       "7180  «0+» - для любой зрительской аудитории                0.00   \n",
       "3042           «6+» - для детей старше 6 лет       40,000,000.00   \n",
       "\n",
       "      nonrefundable_support         budget       financing_source  ratings  \\\n",
       "5600           6,000,000.00 136,230,333.00  Министерство культуры     5.20   \n",
       "3732           6,000,000.00  90,278,063.00  Министерство культуры     4.00   \n",
       "7171          60,000,000.00 779,941,965.00  Министерство культуры     6.90   \n",
       "7180           3,000,000.00  33,000,000.00  Министерство культуры     8.00   \n",
       "3042                   0.00 399,075,326.00              Фонд кино     5.40   \n",
       "\n",
       "                              genres     box_office   genres_new  \\\n",
       "5600             приключения,фэнтези 126,713,450.16  приключения   \n",
       "3732                      фантастика   9,680,744.00   фантастика   \n",
       "7171         драма,биография,история  54,243,202.71        драма   \n",
       "7180                        семейный            NaN     семейный   \n",
       "3042  мультфильм,комедия,приключения  69,693,747.93   мультфильм   \n",
       "\n",
       "                               director_new  year  government_help  \n",
       "5600                         А.Богуславский  2017             0.04  \n",
       "3732                               А.Волгин  2016             0.07  \n",
       "7171  А.Михалков (псевдоним А.Кончаловский)  2019             0.08  \n",
       "7180                               А.Попова  2019             0.09  \n",
       "3042                              В.Лакисов  2015             0.10  "
      ]
     },
     "execution_count": 57,
     "metadata": {},
     "output_type": "execute_result"
    }
   ],
   "source": [
    "df['government_help'] = (df['refundable_support'] + df['nonrefundable_support']) / df['budget']\n",
    "df.sort_values(by='government_help', ascending=True).head()"
   ]
  },
  {
   "cell_type": "markdown",
   "id": "12d06d94",
   "metadata": {},
   "source": [
    "Рассмотрим, как распределены наши данные, есть ли в них аномально большие или аномально маленькие значения. "
   ]
  },
  {
   "cell_type": "markdown",
   "id": "b836a05d",
   "metadata": {},
   "source": [
    "Можно применить метод describe() и мы увидим минимальные, средние и максимальные значения, характеристики распределения. Для визуализации того как распределены данные можно построить диаграммы размаха методом boxplot() (или гистограммы методом hist()), на которых мы увидим аномальные значения.\n",
    "\n",
    "Выполни, пожалуйста, этот шаг по анализу распределения данных во всех количественных столбцах: refundable_support, nonrefundable_support, budget, ratings, box_office."
   ]
  },
  {
   "cell_type": "code",
   "execution_count": 58,
   "id": "517cc860",
   "metadata": {},
   "outputs": [
    {
     "data": {
      "text/plain": [
       "count           111.00\n",
       "mean     35,486,486.49\n",
       "std      31,972,875.36\n",
       "min       3,500,000.00\n",
       "25%      15,000,000.00\n",
       "50%      25,000,000.00\n",
       "75%      50,000,000.00\n",
       "max     180,000,000.00\n",
       "Name: refundable_support, dtype: float64"
      ]
     },
     "execution_count": 58,
     "metadata": {},
     "output_type": "execute_result"
    }
   ],
   "source": [
    "df[df['refundable_support'] > 0 ]['refundable_support'].describe()"
   ]
  },
  {
   "cell_type": "code",
   "execution_count": 59,
   "id": "175526bd",
   "metadata": {},
   "outputs": [
    {
     "data": {
      "text/plain": [
       "<AxesSubplot:>"
      ]
     },
     "execution_count": 59,
     "metadata": {},
     "output_type": "execute_result"
    },
    {
     "data": {
      "image/png": "[encoded data removed]",
      "text/plain": [
       "<Figure size 432x288 with 1 Axes>"
      ]
     },
     "metadata": {
      "needs_background": "light"
     },
     "output_type": "display_data"
    }
   ],
   "source": [
    "df[df['refundable_support'] > 0 ]['refundable_support'].hist()"
   ]
  },
  {
   "cell_type": "code",
   "execution_count": 60,
   "id": "91fc0bce",
   "metadata": {},
   "outputs": [
    {
     "data": {
      "text/plain": [
       "count           323.00\n",
       "mean     50,345,784.25\n",
       "std      60,243,206.31\n",
       "min       3,000,000.00\n",
       "25%      25,000,000.00\n",
       "50%      30,000,000.00\n",
       "75%      45,000,000.00\n",
       "max     400,000,000.00\n",
       "Name: nonrefundable_support, dtype: float64"
      ]
     },
     "execution_count": 60,
     "metadata": {},
     "output_type": "execute_result"
    }
   ],
   "source": [
    "df[df['nonrefundable_support'] > 0]['nonrefundable_support'].describe()"
   ]
  },
  {
   "cell_type": "code",
   "execution_count": 61,
   "id": "cc37d08c",
   "metadata": {},
   "outputs": [
    {
     "data": {
      "text/plain": [
       "<AxesSubplot:>"
      ]
     },
     "execution_count": 61,
     "metadata": {},
     "output_type": "execute_result"
    },
    {
     "data": {
      "image/png": "[encoded data removed]",
      "text/plain": [
       "<Figure size 432x288 with 1 Axes>"
      ]
     },
     "metadata": {
      "needs_background": "light"
     },
     "output_type": "display_data"
    }
   ],
   "source": [
    "df[df['nonrefundable_support'] > 0]['nonrefundable_support'].hist()"
   ]
  },
  {
   "cell_type": "code",
   "execution_count": 62,
   "id": "4fa6ecd1",
   "metadata": {},
   "outputs": [
    {
     "data": {
      "text/plain": [
       "count             332.00\n",
       "mean      127,229,716.68\n",
       "std       188,588,333.12\n",
       "min                 0.00\n",
       "25%        42,000,000.00\n",
       "50%        68,649,916.00\n",
       "75%       141,985,319.50\n",
       "max     2,305,074,303.00\n",
       "Name: budget, dtype: float64"
      ]
     },
     "execution_count": 62,
     "metadata": {},
     "output_type": "execute_result"
    }
   ],
   "source": [
    "df['budget'].describe()"
   ]
  },
  {
   "cell_type": "code",
   "execution_count": 63,
   "id": "672418c2",
   "metadata": {},
   "outputs": [
    {
     "data": {
      "text/plain": [
       "<AxesSubplot:>"
      ]
     },
     "execution_count": 63,
     "metadata": {},
     "output_type": "execute_result"
    },
    {
     "data": {
      "image/png": "[encoded data removed]",
      "text/plain": [
       "<Figure size 432x288 with 1 Axes>"
      ]
     },
     "metadata": {
      "needs_background": "light"
     },
     "output_type": "display_data"
    }
   ],
   "source": [
    "df['budget'].hist()"
   ]
  },
  {
   "cell_type": "code",
   "execution_count": 64,
   "id": "e5dfb8d3",
   "metadata": {},
   "outputs": [
    {
     "data": {
      "text/plain": [
       "count   6,691.00\n",
       "mean        6.48\n",
       "std         1.10\n",
       "min         1.00\n",
       "25%         5.90\n",
       "50%         6.60\n",
       "75%         7.20\n",
       "max         9.20\n",
       "Name: ratings, dtype: float64"
      ]
     },
     "execution_count": 64,
     "metadata": {},
     "output_type": "execute_result"
    }
   ],
   "source": [
    "df['ratings'].describe()"
   ]
  },
  {
   "cell_type": "code",
   "execution_count": 65,
   "id": "0afed56a",
   "metadata": {},
   "outputs": [
    {
     "data": {
      "text/plain": [
       "<AxesSubplot:>"
      ]
     },
     "execution_count": 65,
     "metadata": {},
     "output_type": "execute_result"
    },
    {
     "data": {
      "image/png": "[encoded data removed]",
      "text/plain": [
       "<Figure size 432x288 with 1 Axes>"
      ]
     },
     "metadata": {
      "needs_background": "light"
     },
     "output_type": "display_data"
    }
   ],
   "source": [
    "df['ratings'].hist()"
   ]
  },
  {
   "cell_type": "code",
   "execution_count": 66,
   "id": "6ba62480",
   "metadata": {},
   "outputs": [
    {
     "data": {
      "text/plain": [
       "count           3,134.00\n",
       "mean       77,064,365.82\n",
       "std       241,178,383.77\n",
       "min                40.00\n",
       "25%           101,028.75\n",
       "50%         2,409,099.35\n",
       "75%        24,569,794.87\n",
       "max     3,073,568,690.79\n",
       "Name: box_office, dtype: float64"
      ]
     },
     "execution_count": 66,
     "metadata": {},
     "output_type": "execute_result"
    }
   ],
   "source": [
    "df[df['box_office'] > 0]['box_office'].describe()"
   ]
  },
  {
   "cell_type": "markdown",
   "id": "ecfdf55e",
   "metadata": {},
   "source": [
    "Для того чтобы посмотреть детальней причина расхождений в среднем и мидианном значении посмотрим детальней на данные."
   ]
  },
  {
   "cell_type": "code",
   "execution_count": 135,
   "id": "2bb43512",
   "metadata": {},
   "outputs": [
    {
     "data": {
      "text/plain": [
       "<AxesSubplot:>"
      ]
     },
     "execution_count": 135,
     "metadata": {},
     "output_type": "execute_result"
    },
    {
     "data": {
      "image/png": "[encoded data removed]",
      "text/plain": [
       "<Figure size 432x288 with 1 Axes>"
      ]
     },
     "metadata": {
      "needs_background": "light"
     },
     "output_type": "display_data"
    }
   ],
   "source": [
    "df[(df['box_office'] < 2409099) & (df['box_office'] > 0)]['box_office'].hist()"
   ]
  },
  {
   "cell_type": "code",
   "execution_count": 137,
   "id": "f568b46c",
   "metadata": {},
   "outputs": [
    {
     "data": {
      "text/plain": [
       "<AxesSubplot:>"
      ]
     },
     "execution_count": 137,
     "metadata": {},
     "output_type": "execute_result"
    },
    {
     "data": {
      "image/png": "[encoded data removed]",
      "text/plain": [
       "<Figure size 432x288 with 1 Axes>"
      ]
     },
     "metadata": {
      "needs_background": "light"
     },
     "output_type": "display_data"
    }
   ],
   "source": [
    "df[df['box_office'] > 2409099]['box_office'].hist()"
   ]
  },
  {
   "cell_type": "markdown",
   "id": "25c1db60",
   "metadata": {},
   "source": [
    "<a id='otv'></a>\n",
    "Вывод: Как видно из графика видно что кол-во фильмов с увеличением бюджета заметно уменьшаешться,  так же видно в средней учитываются аномально низкие сборы, которые не попадают в выборку при подсчете медианы. Тем самым среднее и медиана сборов различается из-за разным способов подсчета, где в одном случае учитыватся очень низкие сборы, в другом нет."
   ]
  },
  {
   "cell_type": "code",
   "execution_count": 68,
   "id": "ba12a42c",
   "metadata": {},
   "outputs": [
    {
     "data": {
      "text/plain": [
       "<AxesSubplot:>"
      ]
     },
     "execution_count": 68,
     "metadata": {},
     "output_type": "execute_result"
    },
    {
     "data": {
      "image/png": "[encoded data removed]",
      "text/plain": [
       "<Figure size 432x288 with 1 Axes>"
      ]
     },
     "metadata": {
      "needs_background": "light"
     },
     "output_type": "display_data"
    }
   ],
   "source": [
    "df[df['box_office'] > 0]['box_office'].hist()"
   ]
  },
  {
   "cell_type": "markdown",
   "id": "1f065c6a",
   "metadata": {},
   "source": [
    "Вывод: как видно из полученных данных практически во всех столбцах очень сильное стандартное отклонение. Только в столбцей рейтинга наблюдается не сильное отклонение и график похож на нормальное распределение. Такое возможно из-за очень большого финансирования определенных фильмов. Фильмов с большим бюджетом намного меньше, чем фильмов с маленьким."
   ]
  },
  {
   "cell_type": "markdown",
   "id": "876b1f98",
   "metadata": {},
   "source": [
    "### Вывод 2.1 "
   ]
  },
  {
   "cell_type": "markdown",
   "id": "e90dd8d0",
   "metadata": {},
   "source": [
    "На втором этапе мы проанализировали данные в столбцах. При помощи парсенга данных сайта кинопоиск были востановлены значения рейтинга в фильмах (были указаны в процентах). Были проанализированы категориальные и количественные значения. При анализе категориальных значений было замечено, что во многих столбцах содержиться большой набор вариантов в строках, для того чтобы упростить работу, было решено сделать функции, которые выбирают основные значения из столбцов и записывают их в новые. Так же была посчитана доля участия государства в финансировании фильмов."
   ]
  },
  {
   "cell_type": "markdown",
   "id": "4b3dee6b",
   "metadata": {},
   "source": [
    "## Шаг 3. Проведите исследовательский анализ  "
   ]
  },
  {
   "cell_type": "markdown",
   "id": "2c1d1cba",
   "metadata": {},
   "source": [
    "•\tПосмотрите, сколько фильмов выходило в прокат каждый год. Обратите внимание, что данные о прокате в кинотеатрах известны не для всех фильмов. Посчитайте, какую долю составляют фильмы с указанной информацией о прокате в кинотеатрах. Проанализируйте, как эта доля менялась по годам. Сделайте вывод о том, какой период полнее всего представлен в данных."
   ]
  },
  {
   "cell_type": "markdown",
   "id": "4042b429",
   "metadata": {},
   "source": [
    "Просмотрим, сколько фильмов выходило каждый год:"
   ]
  },
  {
   "cell_type": "code",
   "execution_count": 69,
   "id": "0e292ba0",
   "metadata": {},
   "outputs": [
    {
     "data": {
      "text/plain": [
       "2010    985\n",
       "2019    930\n",
       "2018    891\n",
       "2016    818\n",
       "2014    807\n",
       "2015    705\n",
       "2013    630\n",
       "2011    622\n",
       "2012    593\n",
       "2017    505\n",
       "Name: year, dtype: int64"
      ]
     },
     "execution_count": 69,
     "metadata": {},
     "output_type": "execute_result"
    }
   ],
   "source": [
    "df['year'].value_counts()"
   ]
  },
  {
   "cell_type": "code",
   "execution_count": 70,
   "id": "5445903d",
   "metadata": {},
   "outputs": [
    {
     "data": {
      "text/plain": [
       "<AxesSubplot:>"
      ]
     },
     "execution_count": 70,
     "metadata": {},
     "output_type": "execute_result"
    },
    {
     "data": {
      "image/png": "[encoded data removed]",
      "text/plain": [
       "<Figure size 1368x288 with 1 Axes>"
      ]
     },
     "metadata": {
      "needs_background": "light"
     },
     "output_type": "display_data"
    }
   ],
   "source": [
    "df['year'].value_counts().sort_index(ascending=True).plot(x=\"year\", y=\"box_office\", kind=\"bar\", rot=5, fontsize=14, figsize=(19,4))"
   ]
  },
  {
   "cell_type": "markdown",
   "id": "d278aa89",
   "metadata": {},
   "source": [
    "Посчитаем фильмы информация в которых о прокате  ghbcendetn"
   ]
  },
  {
   "cell_type": "code",
   "execution_count": 71,
   "id": "4f653613",
   "metadata": {},
   "outputs": [
    {
     "name": "stdout",
     "output_type": "stream",
     "text": [
      "year\n",
      "2010    101\n",
      "2011    109\n",
      "2012    123\n",
      "2013    179\n",
      "2014    273\n",
      "2015    462\n",
      "2016    525\n",
      "2017    357\n",
      "2018    475\n",
      "2019    530\n",
      "Name: cinema_film, dtype: int64\n"
     ]
    }
   ],
   "source": [
    "\n",
    "def cinema_film(cnt):\n",
    "    if cnt > 0:\n",
    "        return 1\n",
    "\n",
    "df['cinema_film'] = df['box_office'].apply(cinema_film)\n",
    "\n",
    "df2 = df.groupby('year')['cinema_film'].count()\n",
    "print(df2)"
   ]
  },
  {
   "cell_type": "code",
   "execution_count": 72,
   "id": "29c7af47",
   "metadata": {},
   "outputs": [
    {
     "data": {
      "text/plain": [
       "<AxesSubplot:xlabel='year'>"
      ]
     },
     "execution_count": 72,
     "metadata": {},
     "output_type": "execute_result"
    },
    {
     "data": {
      "image/png": "[encoded data removed]",
      "text/plain": [
       "<Figure size 1368x288 with 1 Axes>"
      ]
     },
     "metadata": {
      "needs_background": "light"
     },
     "output_type": "display_data"
    }
   ],
   "source": [
    "df.groupby('year')['cinema_film'].count().plot(x=\"year\", y=\"cinema_film\", kind=\"bar\", rot=5, fontsize=14, figsize=(19,4))"
   ]
  },
  {
   "cell_type": "markdown",
   "id": "df03e9ee",
   "metadata": {},
   "source": [
    "Как видно из полученных данных, больше всего фильмов выходило в прокат в 2016 и 2019 году. Меньше всего в 2010. Виден рост выхода кино в прокат начиная с 2013 года. В 2017 году был резкий спад, после чего в 2019 году кол-во вернулось к уровню 2016 года."
   ]
  },
  {
   "cell_type": "code",
   "execution_count": 73,
   "id": "828c300b",
   "metadata": {},
   "outputs": [
    {
     "data": {
      "text/plain": [
       "year\n",
       "2010   0.10\n",
       "2011   0.18\n",
       "2012   0.21\n",
       "2013   0.28\n",
       "2014   0.34\n",
       "2015   0.66\n",
       "2016   0.64\n",
       "2017   0.71\n",
       "2018   0.53\n",
       "2019   0.57\n",
       "dtype: float64"
      ]
     },
     "execution_count": 73,
     "metadata": {},
     "output_type": "execute_result"
    }
   ],
   "source": [
    "df.groupby('year').apply(lambda x: len(x[x[\"cinema_film\"] > 0]) / len(x))"
   ]
  },
  {
   "cell_type": "markdown",
   "id": "03841cc9",
   "metadata": {},
   "source": [
    "Вывод: как видно из полученных данных больше всего представлены периоды 2015-2017 год. Начиная с 2011 года наблюдался рост представленных данных, резко увеличилась доля в 2015 году. Больше всего данных о прокате фильмов в кинотеатре в 2017 году."
   ]
  },
  {
   "cell_type": "markdown",
   "id": "e790f53b",
   "metadata": {},
   "source": [
    "•\tИзучите, как менялась динамика проката по годам. В каком году сумма сборов была минимальной? А максимальной?"
   ]
  },
  {
   "cell_type": "code",
   "execution_count": 74,
   "id": "b89bbde3",
   "metadata": {},
   "outputs": [
    {
     "data": {
      "text/plain": [
       "year\n",
       "2010        2,428,654.00\n",
       "2011       14,102,765.00\n",
       "2012        6,955,423.00\n",
       "2013       29,799,706.20\n",
       "2014    7,444,951,859.20\n",
       "2015   39,497,365,196.40\n",
       "2016   47,866,299,741.91\n",
       "2017   48,563,707,217.51\n",
       "2018   49,668,403,134.32\n",
       "2019   48,425,708,779.59\n",
       "Name: box_office, dtype: float64"
      ]
     },
     "execution_count": 74,
     "metadata": {},
     "output_type": "execute_result"
    }
   ],
   "source": [
    "df.groupby('year')['box_office'].sum()"
   ]
  },
  {
   "cell_type": "code",
   "execution_count": 75,
   "id": "a4eeb8a1",
   "metadata": {},
   "outputs": [
    {
     "data": {
      "text/plain": [
       "<AxesSubplot:xlabel='year'>"
      ]
     },
     "execution_count": 75,
     "metadata": {},
     "output_type": "execute_result"
    },
    {
     "data": {
      "image/png": "[encoded data removed]",
      "text/plain": [
       "<Figure size 1368x576 with 1 Axes>"
      ]
     },
     "metadata": {
      "needs_background": "light"
     },
     "output_type": "display_data"
    }
   ],
   "source": [
    "df.groupby('year')['box_office'].sum().plot(x=\"year\", y=\"box_office\", kind=\"bar\", rot=5, fontsize=14, figsize=(19,8))"
   ]
  },
  {
   "cell_type": "markdown",
   "id": "5a54a34b",
   "metadata": {},
   "source": [
    "Вывод: как видно из полученных данных минимальная сумма сборов пришлась на 2010 год. Динамика сборов стала резко расти начиная с 2014 года. Самый сильный скачок наблюдается в 2015 году. В период с 2016 года по 2019 динамика роста прошла. 2019 год собрал сборы немного ниже 2018 года."
   ]
  },
  {
   "cell_type": "markdown",
   "id": "8b3526b9",
   "metadata": {},
   "source": [
    "•\tС помощью сводной таблицы посчитайте среднюю и медианную сумму сборов для каждого года."
   ]
  },
  {
   "cell_type": "code",
   "execution_count": 76,
   "id": "88a10ac3",
   "metadata": {},
   "outputs": [
    {
     "data": {
      "text/html": [
       "<div>\n",
       "<style scoped>\n",
       "    .dataframe tbody tr th:only-of-type {\n",
       "        vertical-align: middle;\n",
       "    }\n",
       "\n",
       "    .dataframe tbody tr th {\n",
       "        vertical-align: top;\n",
       "    }\n",
       "\n",
       "    .dataframe thead tr th {\n",
       "        text-align: left;\n",
       "    }\n",
       "\n",
       "    .dataframe thead tr:last-of-type th {\n",
       "        text-align: right;\n",
       "    }\n",
       "</style>\n",
       "<table border=\"1\" class=\"dataframe\">\n",
       "  <thead>\n",
       "    <tr>\n",
       "      <th></th>\n",
       "      <th>mean</th>\n",
       "      <th>median</th>\n",
       "    </tr>\n",
       "    <tr>\n",
       "      <th></th>\n",
       "      <th>box_office</th>\n",
       "      <th>box_office</th>\n",
       "    </tr>\n",
       "    <tr>\n",
       "      <th>year</th>\n",
       "      <th></th>\n",
       "      <th></th>\n",
       "    </tr>\n",
       "  </thead>\n",
       "  <tbody>\n",
       "    <tr>\n",
       "      <th>2010</th>\n",
       "      <td>24,046.08</td>\n",
       "      <td>1,710.00</td>\n",
       "    </tr>\n",
       "    <tr>\n",
       "      <th>2011</th>\n",
       "      <td>129,383.17</td>\n",
       "      <td>3,000.00</td>\n",
       "    </tr>\n",
       "    <tr>\n",
       "      <th>2012</th>\n",
       "      <td>56,548.15</td>\n",
       "      <td>6,220.00</td>\n",
       "    </tr>\n",
       "    <tr>\n",
       "      <th>2013</th>\n",
       "      <td>166,478.81</td>\n",
       "      <td>3,580.00</td>\n",
       "    </tr>\n",
       "    <tr>\n",
       "      <th>2014</th>\n",
       "      <td>27,270,885.93</td>\n",
       "      <td>20,400.00</td>\n",
       "    </tr>\n",
       "    <tr>\n",
       "      <th>2015</th>\n",
       "      <td>85,492,132.46</td>\n",
       "      <td>5,003,450.15</td>\n",
       "    </tr>\n",
       "    <tr>\n",
       "      <th>2016</th>\n",
       "      <td>91,173,904.27</td>\n",
       "      <td>3,915,041.02</td>\n",
       "    </tr>\n",
       "    <tr>\n",
       "      <th>2017</th>\n",
       "      <td>136,032,793.33</td>\n",
       "      <td>9,968,340.00</td>\n",
       "    </tr>\n",
       "    <tr>\n",
       "      <th>2018</th>\n",
       "      <td>104,565,059.23</td>\n",
       "      <td>8,891,102.21</td>\n",
       "    </tr>\n",
       "    <tr>\n",
       "      <th>2019</th>\n",
       "      <td>91,369,261.85</td>\n",
       "      <td>4,627,798.34</td>\n",
       "    </tr>\n",
       "  </tbody>\n",
       "</table>\n",
       "</div>"
      ],
      "text/plain": [
       "               mean       median\n",
       "         box_office   box_office\n",
       "year                            \n",
       "2010      24,046.08     1,710.00\n",
       "2011     129,383.17     3,000.00\n",
       "2012      56,548.15     6,220.00\n",
       "2013     166,478.81     3,580.00\n",
       "2014  27,270,885.93    20,400.00\n",
       "2015  85,492,132.46 5,003,450.15\n",
       "2016  91,173,904.27 3,915,041.02\n",
       "2017 136,032,793.33 9,968,340.00\n",
       "2018 104,565,059.23 8,891,102.21\n",
       "2019  91,369,261.85 4,627,798.34"
      ]
     },
     "execution_count": 76,
     "metadata": {},
     "output_type": "execute_result"
    }
   ],
   "source": [
    "df = df[df['box_office'] > 0]\n",
    "df = df.sort_values(by='box_office', ascending='True')\n",
    "df.pivot_table(index='year', values='box_office', aggfunc=['mean', 'median'])"
   ]
  },
  {
   "cell_type": "markdown",
   "id": "96115a25",
   "metadata": {},
   "source": [
    "Вывод: как видно из данных самая большая средняя и медианная по сборам была в 2017 году."
   ]
  },
  {
   "cell_type": "markdown",
   "id": "d3fabbe7",
   "metadata": {},
   "source": [
    "•\tОпределите, влияет ли возрастное ограничение аудитории («6+», «12+», «16+», «18+» и т. д.) на сборы фильма в прокате в период с 2015 по 2019 год? Фильмы с каким возрастным ограничением собрали больше всего денег в прокате? Меняется ли картина в зависимости от года? Если да, предположите, с чем это может быть связано."
   ]
  },
  {
   "cell_type": "code",
   "execution_count": 77,
   "id": "372f46b1",
   "metadata": {},
   "outputs": [
    {
     "data": {
      "text/plain": [
       "age_restriction\n",
       "«0+» - для любой зрительской аудитории      809,077,425.97\n",
       "«12+» - для детей старше 12 лет          60,619,446,628.33\n",
       "«16+» - для детей старше 16 лет          76,034,733,643.63\n",
       "«18+» - запрещено для детей              40,759,615,572.12\n",
       "«6+» - для детей старше 6 лет            55,798,610,799.68\n",
       "Name: box_office, dtype: float64"
      ]
     },
     "execution_count": 77,
     "metadata": {},
     "output_type": "execute_result"
    }
   ],
   "source": [
    "folms_2015_2019 = df[df['year'] > 2014]\n",
    "folms_2015_2019.groupby('age_restriction')['box_office'].sum()"
   ]
  },
  {
   "cell_type": "code",
   "execution_count": 78,
   "id": "2f774c16",
   "metadata": {},
   "outputs": [
    {
     "data": {
      "text/plain": [
       "<AxesSubplot:xlabel='age_restriction'>"
      ]
     },
     "execution_count": 78,
     "metadata": {},
     "output_type": "execute_result"
    },
    {
     "data": {
      "image/png": "[encoded data removed]",
      "text/plain": [
       "<Figure size 1368x576 with 1 Axes>"
      ]
     },
     "metadata": {
      "needs_background": "light"
     },
     "output_type": "display_data"
    }
   ],
   "source": [
    "folms_2015_2019.groupby('age_restriction')['box_office'].sum().plot(x=\"age_restriction\", y=\"box_office\", kind=\"bar\", rot=5, fontsize=14, figsize=(19,8))"
   ]
  },
  {
   "cell_type": "markdown",
   "id": "02b62dc4",
   "metadata": {},
   "source": [
    "Вывод: как видно из данных больше всего собирают фильмы из категории «16+» - для детей старше 16 лет. На втором месте «12+» - для детей старше 12 лет, отсюда можно сделать вывод что фильмы для детей собирают больше всего в кино.  Меньше всего «0+» - для любой зрительской аудитории."
   ]
  },
  {
   "cell_type": "code",
   "execution_count": 79,
   "id": "d186fdd7",
   "metadata": {},
   "outputs": [
    {
     "data": {
      "text/plain": [
       "age_restriction\n",
       "«0+» - для любой зрительской аудитории      379,054,578.37\n",
       "«12+» - для детей старше 12 лет          13,616,082,008.91\n",
       "«16+» - для детей старше 16 лет          11,368,120,870.27\n",
       "«18+» - запрещено для детей               5,432,308,367.44\n",
       "«6+» - для детей старше 6 лет             8,701,799,371.41\n",
       "Name: box_office, dtype: float64"
      ]
     },
     "execution_count": 79,
     "metadata": {},
     "output_type": "execute_result"
    }
   ],
   "source": [
    "folms_2015 = df[df['year'] == 2015]\n",
    "folms_2015.groupby('age_restriction')['box_office'].sum()"
   ]
  },
  {
   "cell_type": "code",
   "execution_count": 80,
   "id": "498513b4",
   "metadata": {},
   "outputs": [
    {
     "data": {
      "text/plain": [
       "<AxesSubplot:xlabel='age_restriction'>"
      ]
     },
     "execution_count": 80,
     "metadata": {},
     "output_type": "execute_result"
    },
    {
     "data": {
      "image/png": "[encoded data removed]",
      "text/plain": [
       "<Figure size 1368x576 with 1 Axes>"
      ]
     },
     "metadata": {
      "needs_background": "light"
     },
     "output_type": "display_data"
    }
   ],
   "source": [
    "\n",
    "folms_2015.groupby('age_restriction')['box_office'].sum().plot(x=\"age_restriction\", y=\"box_office\", kind=\"bar\", rot=5, fontsize=14, figsize=(19,8))"
   ]
  },
  {
   "cell_type": "code",
   "execution_count": 81,
   "id": "edd87ea6",
   "metadata": {},
   "outputs": [
    {
     "data": {
      "text/plain": [
       "age_restriction\n",
       "«0+» - для любой зрительской аудитории      150,228,848.67\n",
       "«12+» - для детей старше 12 лет          12,204,446,524.39\n",
       "«16+» - для детей старше 16 лет          16,664,548,541.74\n",
       "«18+» - запрещено для детей               6,793,929,818.87\n",
       "«6+» - для детей старше 6 лет            12,053,146,008.24\n",
       "Name: box_office, dtype: float64"
      ]
     },
     "execution_count": 81,
     "metadata": {},
     "output_type": "execute_result"
    }
   ],
   "source": [
    "folms_2016 = df[df['year'] == 2016]\n",
    "folms_2016.groupby('age_restriction')['box_office'].sum()"
   ]
  },
  {
   "cell_type": "code",
   "execution_count": 82,
   "id": "34147459",
   "metadata": {
    "scrolled": true
   },
   "outputs": [
    {
     "data": {
      "text/plain": [
       "<AxesSubplot:xlabel='age_restriction'>"
      ]
     },
     "execution_count": 82,
     "metadata": {},
     "output_type": "execute_result"
    },
    {
     "data": {
      "image/png": "[encoded data removed]",
      "text/plain": [
       "<Figure size 1368x576 with 1 Axes>"
      ]
     },
     "metadata": {
      "needs_background": "light"
     },
     "output_type": "display_data"
    }
   ],
   "source": [
    "\n",
    "folms_2016.groupby('age_restriction')['box_office'].sum().plot(x=\"age_restriction\", y=\"box_office\", kind=\"bar\", rot=5, fontsize=14, figsize=(19,8))"
   ]
  },
  {
   "cell_type": "code",
   "execution_count": 83,
   "id": "1ebc174d",
   "metadata": {},
   "outputs": [
    {
     "data": {
      "text/plain": [
       "age_restriction\n",
       "«0+» - для любой зрительской аудитории      229,598,930.00\n",
       "«12+» - для детей старше 12 лет           7,851,427,660.67\n",
       "«16+» - для детей старше 16 лет          18,745,042,900.06\n",
       "«18+» - запрещено для детей               9,651,495,581.02\n",
       "«6+» - для детей старше 6 лет            12,086,142,145.76\n",
       "Name: box_office, dtype: float64"
      ]
     },
     "execution_count": 83,
     "metadata": {},
     "output_type": "execute_result"
    }
   ],
   "source": [
    "folms_2017 = df[df['year'] == 2017]\n",
    "folms_2017.groupby('age_restriction')['box_office'].sum()"
   ]
  },
  {
   "cell_type": "code",
   "execution_count": 84,
   "id": "2a864044",
   "metadata": {},
   "outputs": [
    {
     "data": {
      "text/plain": [
       "<AxesSubplot:xlabel='age_restriction'>"
      ]
     },
     "execution_count": 84,
     "metadata": {},
     "output_type": "execute_result"
    },
    {
     "data": {
      "image/png": "[encoded data removed]",
      "text/plain": [
       "<Figure size 1368x576 with 1 Axes>"
      ]
     },
     "metadata": {
      "needs_background": "light"
     },
     "output_type": "display_data"
    }
   ],
   "source": [
    "\n",
    "folms_2017.groupby('age_restriction')['box_office'].sum().plot(x=\"age_restriction\", y=\"box_office\", kind=\"bar\", rot=5, fontsize=14, figsize=(19,8))"
   ]
  },
  {
   "cell_type": "code",
   "execution_count": 85,
   "id": "a13efa91",
   "metadata": {},
   "outputs": [
    {
     "data": {
      "text/plain": [
       "age_restriction\n",
       "«0+» - для любой зрительской аудитории       32,449,002.11\n",
       "«12+» - для детей старше 12 лет          14,267,291,660.69\n",
       "«16+» - для детей старше 16 лет          16,503,602,346.96\n",
       "«18+» - запрещено для детей               8,760,085,501.15\n",
       "«6+» - для детей старше 6 лет            10,104,974,623.41\n",
       "Name: box_office, dtype: float64"
      ]
     },
     "execution_count": 85,
     "metadata": {},
     "output_type": "execute_result"
    }
   ],
   "source": [
    "folms_2018 = df[df['year'] == 2018]\n",
    "folms_2018.groupby('age_restriction')['box_office'].sum()"
   ]
  },
  {
   "cell_type": "code",
   "execution_count": 86,
   "id": "22fa1919",
   "metadata": {},
   "outputs": [
    {
     "data": {
      "text/plain": [
       "<AxesSubplot:xlabel='age_restriction'>"
      ]
     },
     "execution_count": 86,
     "metadata": {},
     "output_type": "execute_result"
    },
    {
     "data": {
      "image/png": "[encoded data removed]",
      "text/plain": [
       "<Figure size 1368x576 with 1 Axes>"
      ]
     },
     "metadata": {
      "needs_background": "light"
     },
     "output_type": "display_data"
    }
   ],
   "source": [
    "\n",
    "folms_2018.groupby('age_restriction')['box_office'].sum().plot(x=\"age_restriction\", y=\"box_office\", kind=\"bar\", rot=5, fontsize=14, figsize=(19,8))"
   ]
  },
  {
   "cell_type": "code",
   "execution_count": 87,
   "id": "dfba0e15",
   "metadata": {},
   "outputs": [
    {
     "data": {
      "text/plain": [
       "age_restriction\n",
       "«0+» - для любой зрительской аудитории       17,746,066.82\n",
       "«12+» - для детей старше 12 лет          12,680,198,773.67\n",
       "«16+» - для детей старше 16 лет          12,753,418,984.60\n",
       "«18+» - запрещено для детей              10,121,796,303.64\n",
       "«6+» - для детей старше 6 лет            12,852,548,650.86\n",
       "Name: box_office, dtype: float64"
      ]
     },
     "execution_count": 87,
     "metadata": {},
     "output_type": "execute_result"
    }
   ],
   "source": [
    "folms_2019 = df[df['year'] == 2019]\n",
    "folms_2019.groupby('age_restriction')['box_office'].sum()"
   ]
  },
  {
   "cell_type": "code",
   "execution_count": 88,
   "id": "f59f202c",
   "metadata": {
    "scrolled": true
   },
   "outputs": [
    {
     "data": {
      "text/plain": [
       "<AxesSubplot:xlabel='age_restriction'>"
      ]
     },
     "execution_count": 88,
     "metadata": {},
     "output_type": "execute_result"
    },
    {
     "data": {
      "image/png": "[encoded data removed]",
      "text/plain": [
       "<Figure size 1368x576 with 1 Axes>"
      ]
     },
     "metadata": {
      "needs_background": "light"
     },
     "output_type": "display_data"
    }
   ],
   "source": [
    "\n",
    "folms_2019.groupby('age_restriction')['box_office'].sum().plot(x=\"age_restriction\", y=\"box_office\", kind=\"bar\", rot=5, fontsize=14, figsize=(19,8))"
   ]
  },
  {
   "cell_type": "markdown",
   "id": "2dfaf3b2",
   "metadata": {},
   "source": [
    "Проанализируем рейтинги фильмов в этих двух категориях."
   ]
  },
  {
   "cell_type": "code",
   "execution_count": 89,
   "id": "c2ebde43",
   "metadata": {},
   "outputs": [
    {
     "data": {
      "text/html": [
       "<div>\n",
       "<style scoped>\n",
       "    .dataframe tbody tr th:only-of-type {\n",
       "        vertical-align: middle;\n",
       "    }\n",
       "\n",
       "    .dataframe tbody tr th {\n",
       "        vertical-align: top;\n",
       "    }\n",
       "\n",
       "    .dataframe thead tr th {\n",
       "        text-align: left;\n",
       "    }\n",
       "\n",
       "    .dataframe thead tr:last-of-type th {\n",
       "        text-align: right;\n",
       "    }\n",
       "</style>\n",
       "<table border=\"1\" class=\"dataframe\">\n",
       "  <thead>\n",
       "    <tr>\n",
       "      <th></th>\n",
       "      <th>mean</th>\n",
       "      <th>median</th>\n",
       "    </tr>\n",
       "    <tr>\n",
       "      <th></th>\n",
       "      <th>ratings</th>\n",
       "      <th>ratings</th>\n",
       "    </tr>\n",
       "    <tr>\n",
       "      <th>age_restriction</th>\n",
       "      <th></th>\n",
       "      <th></th>\n",
       "    </tr>\n",
       "  </thead>\n",
       "  <tbody>\n",
       "    <tr>\n",
       "      <th>«0+» - для любой зрительской аудитории</th>\n",
       "      <td>5.38</td>\n",
       "      <td>5.20</td>\n",
       "    </tr>\n",
       "    <tr>\n",
       "      <th>«12+» - для детей старше 12 лет</th>\n",
       "      <td>6.56</td>\n",
       "      <td>6.60</td>\n",
       "    </tr>\n",
       "    <tr>\n",
       "      <th>«16+» - для детей старше 16 лет</th>\n",
       "      <td>6.19</td>\n",
       "      <td>6.20</td>\n",
       "    </tr>\n",
       "    <tr>\n",
       "      <th>«18+» - запрещено для детей</th>\n",
       "      <td>6.14</td>\n",
       "      <td>6.20</td>\n",
       "    </tr>\n",
       "    <tr>\n",
       "      <th>«6+» - для детей старше 6 лет</th>\n",
       "      <td>6.12</td>\n",
       "      <td>6.20</td>\n",
       "    </tr>\n",
       "  </tbody>\n",
       "</table>\n",
       "</div>"
      ],
      "text/plain": [
       "                                          mean  median\n",
       "                                       ratings ratings\n",
       "age_restriction                                       \n",
       "«0+» - для любой зрительской аудитории    5.38    5.20\n",
       "«12+» - для детей старше 12 лет           6.56    6.60\n",
       "«16+» - для детей старше 16 лет           6.19    6.20\n",
       "«18+» - запрещено для детей               6.14    6.20\n",
       "«6+» - для детей старше 6 лет             6.12    6.20"
      ]
     },
     "execution_count": 89,
     "metadata": {},
     "output_type": "execute_result"
    }
   ],
   "source": [
    "folms_2015.pivot_table(index='age_restriction', values='ratings', aggfunc=['mean', 'median'])"
   ]
  },
  {
   "cell_type": "code",
   "execution_count": 90,
   "id": "0b6994d4",
   "metadata": {},
   "outputs": [
    {
     "data": {
      "text/html": [
       "<div>\n",
       "<style scoped>\n",
       "    .dataframe tbody tr th:only-of-type {\n",
       "        vertical-align: middle;\n",
       "    }\n",
       "\n",
       "    .dataframe tbody tr th {\n",
       "        vertical-align: top;\n",
       "    }\n",
       "\n",
       "    .dataframe thead tr th {\n",
       "        text-align: left;\n",
       "    }\n",
       "\n",
       "    .dataframe thead tr:last-of-type th {\n",
       "        text-align: right;\n",
       "    }\n",
       "</style>\n",
       "<table border=\"1\" class=\"dataframe\">\n",
       "  <thead>\n",
       "    <tr>\n",
       "      <th></th>\n",
       "      <th>mean</th>\n",
       "      <th>median</th>\n",
       "    </tr>\n",
       "    <tr>\n",
       "      <th></th>\n",
       "      <th>ratings</th>\n",
       "      <th>ratings</th>\n",
       "    </tr>\n",
       "    <tr>\n",
       "      <th>age_restriction</th>\n",
       "      <th></th>\n",
       "      <th></th>\n",
       "    </tr>\n",
       "  </thead>\n",
       "  <tbody>\n",
       "    <tr>\n",
       "      <th>«0+» - для любой зрительской аудитории</th>\n",
       "      <td>6.62</td>\n",
       "      <td>7.10</td>\n",
       "    </tr>\n",
       "    <tr>\n",
       "      <th>«12+» - для детей старше 12 лет</th>\n",
       "      <td>6.12</td>\n",
       "      <td>6.10</td>\n",
       "    </tr>\n",
       "    <tr>\n",
       "      <th>«16+» - для детей старше 16 лет</th>\n",
       "      <td>6.20</td>\n",
       "      <td>6.20</td>\n",
       "    </tr>\n",
       "    <tr>\n",
       "      <th>«18+» - запрещено для детей</th>\n",
       "      <td>6.15</td>\n",
       "      <td>6.30</td>\n",
       "    </tr>\n",
       "    <tr>\n",
       "      <th>«6+» - для детей старше 6 лет</th>\n",
       "      <td>6.19</td>\n",
       "      <td>6.60</td>\n",
       "    </tr>\n",
       "  </tbody>\n",
       "</table>\n",
       "</div>"
      ],
      "text/plain": [
       "                                          mean  median\n",
       "                                       ratings ratings\n",
       "age_restriction                                       \n",
       "«0+» - для любой зрительской аудитории    6.62    7.10\n",
       "«12+» - для детей старше 12 лет           6.12    6.10\n",
       "«16+» - для детей старше 16 лет           6.20    6.20\n",
       "«18+» - запрещено для детей               6.15    6.30\n",
       "«6+» - для детей старше 6 лет             6.19    6.60"
      ]
     },
     "execution_count": 90,
     "metadata": {},
     "output_type": "execute_result"
    }
   ],
   "source": [
    "folms_2016.pivot_table(index='age_restriction', values='ratings', aggfunc=['mean', 'median'])"
   ]
  },
  {
   "cell_type": "code",
   "execution_count": 91,
   "id": "a4a740d9",
   "metadata": {},
   "outputs": [
    {
     "data": {
      "text/html": [
       "<div>\n",
       "<style scoped>\n",
       "    .dataframe tbody tr th:only-of-type {\n",
       "        vertical-align: middle;\n",
       "    }\n",
       "\n",
       "    .dataframe tbody tr th {\n",
       "        vertical-align: top;\n",
       "    }\n",
       "\n",
       "    .dataframe thead tr th {\n",
       "        text-align: left;\n",
       "    }\n",
       "\n",
       "    .dataframe thead tr:last-of-type th {\n",
       "        text-align: right;\n",
       "    }\n",
       "</style>\n",
       "<table border=\"1\" class=\"dataframe\">\n",
       "  <thead>\n",
       "    <tr>\n",
       "      <th></th>\n",
       "      <th>mean</th>\n",
       "      <th>median</th>\n",
       "    </tr>\n",
       "    <tr>\n",
       "      <th></th>\n",
       "      <th>ratings</th>\n",
       "      <th>ratings</th>\n",
       "    </tr>\n",
       "    <tr>\n",
       "      <th>age_restriction</th>\n",
       "      <th></th>\n",
       "      <th></th>\n",
       "    </tr>\n",
       "  </thead>\n",
       "  <tbody>\n",
       "    <tr>\n",
       "      <th>«0+» - для любой зрительской аудитории</th>\n",
       "      <td>5.73</td>\n",
       "      <td>5.70</td>\n",
       "    </tr>\n",
       "    <tr>\n",
       "      <th>«12+» - для детей старше 12 лет</th>\n",
       "      <td>6.29</td>\n",
       "      <td>6.40</td>\n",
       "    </tr>\n",
       "    <tr>\n",
       "      <th>«16+» - для детей старше 16 лет</th>\n",
       "      <td>6.31</td>\n",
       "      <td>6.35</td>\n",
       "    </tr>\n",
       "    <tr>\n",
       "      <th>«18+» - запрещено для детей</th>\n",
       "      <td>6.20</td>\n",
       "      <td>6.20</td>\n",
       "    </tr>\n",
       "    <tr>\n",
       "      <th>«6+» - для детей старше 6 лет</th>\n",
       "      <td>6.17</td>\n",
       "      <td>6.25</td>\n",
       "    </tr>\n",
       "  </tbody>\n",
       "</table>\n",
       "</div>"
      ],
      "text/plain": [
       "                                          mean  median\n",
       "                                       ratings ratings\n",
       "age_restriction                                       \n",
       "«0+» - для любой зрительской аудитории    5.73    5.70\n",
       "«12+» - для детей старше 12 лет           6.29    6.40\n",
       "«16+» - для детей старше 16 лет           6.31    6.35\n",
       "«18+» - запрещено для детей               6.20    6.20\n",
       "«6+» - для детей старше 6 лет             6.17    6.25"
      ]
     },
     "execution_count": 91,
     "metadata": {},
     "output_type": "execute_result"
    }
   ],
   "source": [
    "folms_2017.pivot_table(index='age_restriction', values='ratings', aggfunc=['mean', 'median'])"
   ]
  },
  {
   "cell_type": "code",
   "execution_count": 92,
   "id": "efeac356",
   "metadata": {},
   "outputs": [
    {
     "data": {
      "text/html": [
       "<div>\n",
       "<style scoped>\n",
       "    .dataframe tbody tr th:only-of-type {\n",
       "        vertical-align: middle;\n",
       "    }\n",
       "\n",
       "    .dataframe tbody tr th {\n",
       "        vertical-align: top;\n",
       "    }\n",
       "\n",
       "    .dataframe thead tr th {\n",
       "        text-align: left;\n",
       "    }\n",
       "\n",
       "    .dataframe thead tr:last-of-type th {\n",
       "        text-align: right;\n",
       "    }\n",
       "</style>\n",
       "<table border=\"1\" class=\"dataframe\">\n",
       "  <thead>\n",
       "    <tr>\n",
       "      <th></th>\n",
       "      <th>mean</th>\n",
       "      <th>median</th>\n",
       "    </tr>\n",
       "    <tr>\n",
       "      <th></th>\n",
       "      <th>ratings</th>\n",
       "      <th>ratings</th>\n",
       "    </tr>\n",
       "    <tr>\n",
       "      <th>age_restriction</th>\n",
       "      <th></th>\n",
       "      <th></th>\n",
       "    </tr>\n",
       "  </thead>\n",
       "  <tbody>\n",
       "    <tr>\n",
       "      <th>«0+» - для любой зрительской аудитории</th>\n",
       "      <td>7.85</td>\n",
       "      <td>7.85</td>\n",
       "    </tr>\n",
       "    <tr>\n",
       "      <th>«12+» - для детей старше 12 лет</th>\n",
       "      <td>6.45</td>\n",
       "      <td>6.55</td>\n",
       "    </tr>\n",
       "    <tr>\n",
       "      <th>«16+» - для детей старше 16 лет</th>\n",
       "      <td>6.36</td>\n",
       "      <td>6.40</td>\n",
       "    </tr>\n",
       "    <tr>\n",
       "      <th>«18+» - запрещено для детей</th>\n",
       "      <td>6.15</td>\n",
       "      <td>6.30</td>\n",
       "    </tr>\n",
       "    <tr>\n",
       "      <th>«6+» - для детей старше 6 лет</th>\n",
       "      <td>6.39</td>\n",
       "      <td>6.40</td>\n",
       "    </tr>\n",
       "  </tbody>\n",
       "</table>\n",
       "</div>"
      ],
      "text/plain": [
       "                                          mean  median\n",
       "                                       ratings ratings\n",
       "age_restriction                                       \n",
       "«0+» - для любой зрительской аудитории    7.85    7.85\n",
       "«12+» - для детей старше 12 лет           6.45    6.55\n",
       "«16+» - для детей старше 16 лет           6.36    6.40\n",
       "«18+» - запрещено для детей               6.15    6.30\n",
       "«6+» - для детей старше 6 лет             6.39    6.40"
      ]
     },
     "execution_count": 92,
     "metadata": {},
     "output_type": "execute_result"
    }
   ],
   "source": [
    "folms_2018.pivot_table(index='age_restriction', values='ratings', aggfunc=['mean', 'median'])"
   ]
  },
  {
   "cell_type": "code",
   "execution_count": 93,
   "id": "7c8a1826",
   "metadata": {},
   "outputs": [
    {
     "data": {
      "text/html": [
       "<div>\n",
       "<style scoped>\n",
       "    .dataframe tbody tr th:only-of-type {\n",
       "        vertical-align: middle;\n",
       "    }\n",
       "\n",
       "    .dataframe tbody tr th {\n",
       "        vertical-align: top;\n",
       "    }\n",
       "\n",
       "    .dataframe thead tr th {\n",
       "        text-align: left;\n",
       "    }\n",
       "\n",
       "    .dataframe thead tr:last-of-type th {\n",
       "        text-align: right;\n",
       "    }\n",
       "</style>\n",
       "<table border=\"1\" class=\"dataframe\">\n",
       "  <thead>\n",
       "    <tr>\n",
       "      <th></th>\n",
       "      <th>mean</th>\n",
       "      <th>median</th>\n",
       "    </tr>\n",
       "    <tr>\n",
       "      <th></th>\n",
       "      <th>ratings</th>\n",
       "      <th>ratings</th>\n",
       "    </tr>\n",
       "    <tr>\n",
       "      <th>age_restriction</th>\n",
       "      <th></th>\n",
       "      <th></th>\n",
       "    </tr>\n",
       "  </thead>\n",
       "  <tbody>\n",
       "    <tr>\n",
       "      <th>«0+» - для любой зрительской аудитории</th>\n",
       "      <td>7.20</td>\n",
       "      <td>7.20</td>\n",
       "    </tr>\n",
       "    <tr>\n",
       "      <th>«12+» - для детей старше 12 лет</th>\n",
       "      <td>6.55</td>\n",
       "      <td>6.50</td>\n",
       "    </tr>\n",
       "    <tr>\n",
       "      <th>«16+» - для детей старше 16 лет</th>\n",
       "      <td>6.35</td>\n",
       "      <td>6.40</td>\n",
       "    </tr>\n",
       "    <tr>\n",
       "      <th>«18+» - запрещено для детей</th>\n",
       "      <td>6.12</td>\n",
       "      <td>6.20</td>\n",
       "    </tr>\n",
       "    <tr>\n",
       "      <th>«6+» - для детей старше 6 лет</th>\n",
       "      <td>6.43</td>\n",
       "      <td>6.40</td>\n",
       "    </tr>\n",
       "  </tbody>\n",
       "</table>\n",
       "</div>"
      ],
      "text/plain": [
       "                                          mean  median\n",
       "                                       ratings ratings\n",
       "age_restriction                                       \n",
       "«0+» - для любой зрительской аудитории    7.20    7.20\n",
       "«12+» - для детей старше 12 лет           6.55    6.50\n",
       "«16+» - для детей старше 16 лет           6.35    6.40\n",
       "«18+» - запрещено для детей               6.12    6.20\n",
       "«6+» - для детей старше 6 лет             6.43    6.40"
      ]
     },
     "execution_count": 93,
     "metadata": {},
     "output_type": "execute_result"
    }
   ],
   "source": [
    "folms_2019.pivot_table(index='age_restriction', values='ratings', aggfunc=['mean', 'median'])"
   ]
  },
  {
   "cell_type": "markdown",
   "id": "49f535af",
   "metadata": {},
   "source": [
    "Проанализирем кол-во фильмов в этих категориях"
   ]
  },
  {
   "cell_type": "code",
   "execution_count": 94,
   "id": "9061f7cd",
   "metadata": {},
   "outputs": [
    {
     "data": {
      "text/plain": [
       "age_restriction\n",
       "«0+» - для любой зрительской аудитории      3\n",
       "«12+» - для детей старше 12 лет            85\n",
       "«16+» - для детей старше 16 лет           178\n",
       "«18+» - запрещено для детей               183\n",
       "«6+» - для детей старше 6 лет              81\n",
       "Name: cinema_film, dtype: int64"
      ]
     },
     "execution_count": 94,
     "metadata": {},
     "output_type": "execute_result"
    }
   ],
   "source": [
    "folms_2019.groupby('age_restriction')['cinema_film'].count()"
   ]
  },
  {
   "cell_type": "code",
   "execution_count": 95,
   "id": "e293150f",
   "metadata": {},
   "outputs": [
    {
     "data": {
      "text/plain": [
       "age_restriction\n",
       "«0+» - для любой зрительской аудитории      5\n",
       "«12+» - для детей старше 12 лет            67\n",
       "«16+» - для детей старше 16 лет           156\n",
       "«18+» - запрещено для детей               179\n",
       "«6+» - для детей старше 6 лет              68\n",
       "Name: cinema_film, dtype: int64"
      ]
     },
     "execution_count": 95,
     "metadata": {},
     "output_type": "execute_result"
    }
   ],
   "source": [
    "folms_2018.groupby('age_restriction')['cinema_film'].count()"
   ]
  },
  {
   "cell_type": "code",
   "execution_count": 96,
   "id": "bb8a4eb3",
   "metadata": {},
   "outputs": [
    {
     "data": {
      "text/plain": [
       "age_restriction\n",
       "«0+» - для любой зрительской аудитории      3\n",
       "«12+» - для детей старше 12 лет            41\n",
       "«16+» - для детей старше 16 лет           121\n",
       "«18+» - запрещено для детей               147\n",
       "«6+» - для детей старше 6 лет              45\n",
       "Name: cinema_film, dtype: int64"
      ]
     },
     "execution_count": 96,
     "metadata": {},
     "output_type": "execute_result"
    }
   ],
   "source": [
    "folms_2017.groupby('age_restriction')['cinema_film'].count()"
   ]
  },
  {
   "cell_type": "code",
   "execution_count": 97,
   "id": "386cd945",
   "metadata": {},
   "outputs": [
    {
     "data": {
      "text/plain": [
       "age_restriction\n",
       "«0+» - для любой зрительской аудитории     41\n",
       "«12+» - для детей старше 12 лет            82\n",
       "«16+» - для детей старше 16 лет           181\n",
       "«18+» - запрещено для детей               151\n",
       "«6+» - для детей старше 6 лет              70\n",
       "Name: cinema_film, dtype: int64"
      ]
     },
     "execution_count": 97,
     "metadata": {},
     "output_type": "execute_result"
    }
   ],
   "source": [
    "folms_2016.groupby('age_restriction')['cinema_film'].count()"
   ]
  },
  {
   "cell_type": "code",
   "execution_count": 98,
   "id": "c0c075f5",
   "metadata": {},
   "outputs": [
    {
     "data": {
      "text/plain": [
       "age_restriction\n",
       "«0+» - для любой зрительской аудитории     38\n",
       "«12+» - для детей старше 12 лет            72\n",
       "«16+» - для детей старше 16 лет           167\n",
       "«18+» - запрещено для детей               132\n",
       "«6+» - для детей старше 6 лет              53\n",
       "Name: cinema_film, dtype: int64"
      ]
     },
     "execution_count": 98,
     "metadata": {},
     "output_type": "execute_result"
    }
   ],
   "source": [
    "folms_2015.groupby('age_restriction')['cinema_film'].count()"
   ]
  },
  {
   "cell_type": "markdown",
   "id": "9bde2d7f",
   "metadata": {},
   "source": [
    "Вывод: как видно из полученных данных только в двух категориях сильно меняется динамика сборов: «12+» - для детей старше 12 лет и «16+» - для детей старше 16 лет. Как видно из полученных данных, скорее всего изменение динамики связано с кол-во фильмов той или иной категории в определенный период."
   ]
  },
  {
   "cell_type": "markdown",
   "id": "e2ed40bd",
   "metadata": {},
   "source": [
    "## Шаг 4. Исследуйте фильмы, которые получили государственную поддержку "
   ]
  },
  {
   "cell_type": "markdown",
   "id": "70a5ce55",
   "metadata": {},
   "source": [
    "На этом этапе нет конкретных инструкций и заданий — поищите интересные закономерности в данных. Посмотрите, сколько выделяют средств на поддержку кино. Проверьте, хорошо ли окупаются такие фильмы, какой у них рейтинг."
   ]
  },
  {
   "cell_type": "markdown",
   "id": "6ffddc0f",
   "metadata": {},
   "source": [
    "Расчитаем объем гос поддержки для фильмов, для этого сложим возвратные и невозвратные средства. Результат сохраним в столбец \"refundable\""
   ]
  },
  {
   "cell_type": "code",
   "execution_count": 99,
   "id": "742adfda",
   "metadata": {},
   "outputs": [],
   "source": [
    "df['refundable'] = df['nonrefundable_support'] + df['refundable_support']"
   ]
  },
  {
   "cell_type": "code",
   "execution_count": 100,
   "id": "714ceff8",
   "metadata": {},
   "outputs": [],
   "source": [
    "df = df[df['refundable'] > 0]"
   ]
  },
  {
   "cell_type": "code",
   "execution_count": 101,
   "id": "7c27da29",
   "metadata": {},
   "outputs": [
    {
     "data": {
      "text/plain": [
       "year\n",
       "2013     134,347,945.00\n",
       "2014     572,002,299.00\n",
       "2015   3,631,241,459.00\n",
       "2016   4,291,635,482.00\n",
       "2017   3,148,971,662.00\n",
       "2018   3,446,969,465.00\n",
       "2019   4,086,000,000.00\n",
       "Name: refundable, dtype: float64"
      ]
     },
     "execution_count": 101,
     "metadata": {},
     "output_type": "execute_result"
    }
   ],
   "source": [
    "df.groupby('year')['refundable'].sum()"
   ]
  },
  {
   "cell_type": "markdown",
   "id": "eec1ef2a",
   "metadata": {},
   "source": [
    "Как видно, в период 2010 - 2012 год гос поддержки не было"
   ]
  },
  {
   "cell_type": "code",
   "execution_count": 102,
   "id": "97454428",
   "metadata": {},
   "outputs": [],
   "source": [
    "films_2013_2019 = df[df['year'] > 2012]"
   ]
  },
  {
   "cell_type": "code",
   "execution_count": 103,
   "id": "2cf9d845",
   "metadata": {},
   "outputs": [
    {
     "data": {
      "text/plain": [
       "<AxesSubplot:xlabel='year'>"
      ]
     },
     "execution_count": 103,
     "metadata": {},
     "output_type": "execute_result"
    },
    {
     "data": {
      "image/png": "[encoded data removed]",
      "text/plain": [
       "<Figure size 1368x576 with 1 Axes>"
      ]
     },
     "metadata": {
      "needs_background": "light"
     },
     "output_type": "display_data"
    }
   ],
   "source": [
    "films_2013_2019.groupby('year')['refundable'].sum().plot(x=\"year\", y=\"refundable\", kind=\"bar\", rot=5, fontsize=14, figsize=(19,8))"
   ]
  },
  {
   "cell_type": "markdown",
   "id": "90a86056",
   "metadata": {},
   "source": [
    "Как видно из полученных данных резкий скачек гос финансирования был начиная с 2015 года. В 2017 - 2018 году было снижение."
   ]
  },
  {
   "cell_type": "markdown",
   "id": "45d154e7",
   "metadata": {},
   "source": [
    "Проанализируем кол-во фильмов с гос поддержкой по годам"
   ]
  },
  {
   "cell_type": "code",
   "execution_count": 104,
   "id": "28482d94",
   "metadata": {},
   "outputs": [
    {
     "data": {
      "text/plain": [
       "year\n",
       "2013     2\n",
       "2014    16\n",
       "2015    85\n",
       "2016    60\n",
       "2017    39\n",
       "2018    56\n",
       "2019    60\n",
       "Name: refundable, dtype: int64"
      ]
     },
     "execution_count": 104,
     "metadata": {},
     "output_type": "execute_result"
    }
   ],
   "source": [
    "films_2013_2019.groupby('year')['refundable'].count()"
   ]
  },
  {
   "cell_type": "code",
   "execution_count": 105,
   "id": "7ef786d5",
   "metadata": {},
   "outputs": [
    {
     "data": {
      "text/plain": [
       "<AxesSubplot:xlabel='year'>"
      ]
     },
     "execution_count": 105,
     "metadata": {},
     "output_type": "execute_result"
    },
    {
     "data": {
      "image/png": "[encoded data removed]",
      "text/plain": [
       "<Figure size 1368x576 with 1 Axes>"
      ]
     },
     "metadata": {
      "needs_background": "light"
     },
     "output_type": "display_data"
    }
   ],
   "source": [
    "films_2013_2019.groupby('year')['refundable'].count().plot(x=\"year\", y=\"refundable\", kind=\"bar\", rot=5, fontsize=14, figsize=(19,8))"
   ]
  },
  {
   "cell_type": "markdown",
   "id": "c2d0752e",
   "metadata": {},
   "source": [
    "Как видно резкое снижение кол-ва фильмов с гос поддержкой наблюдается в 2017 году, но данная тенденция была обнаружена и для всех фильмов."
   ]
  },
  {
   "cell_type": "markdown",
   "id": "f2c301bb",
   "metadata": {},
   "source": [
    "Сохраним только фильмы с гос поддержкой"
   ]
  },
  {
   "cell_type": "code",
   "execution_count": 106,
   "id": "f93ed62d",
   "metadata": {},
   "outputs": [],
   "source": [
    "films_2013_2019 = films_2013_2019[films_2013_2019['refundable'] > 0]"
   ]
  },
  {
   "cell_type": "markdown",
   "id": "ef08d4a6",
   "metadata": {},
   "source": [
    "Расчитаем на сколько окупаемы данные фильмы, для этого возьмем сборы в кино и вычтим из них бюджет фильма и возвратные средства гос поддержки и сохраним в столбец \"payback\""
   ]
  },
  {
   "cell_type": "markdown",
   "id": "da0d0d87",
   "metadata": {},
   "source": [
    "Сначала сохраним только те фильмы, информация осборах в кино которых известна"
   ]
  },
  {
   "cell_type": "code",
   "execution_count": 107,
   "id": "d4dc6203",
   "metadata": {},
   "outputs": [],
   "source": [
    "films_2013_2019 = films_2013_2019[films_2013_2019['box_office'] > 0]"
   ]
  },
  {
   "cell_type": "code",
   "execution_count": 108,
   "id": "e9f24ace",
   "metadata": {},
   "outputs": [],
   "source": [
    "films_2013_2019['payback'] = films_2013_2019['box_office'] - films_2013_2019['budget'] - films_2013_2019['refundable_support']"
   ]
  },
  {
   "cell_type": "code",
   "execution_count": 109,
   "id": "cb40c910",
   "metadata": {},
   "outputs": [
    {
     "data": {
      "text/html": [
       "<div>\n",
       "<style scoped>\n",
       "    .dataframe tbody tr th:only-of-type {\n",
       "        vertical-align: middle;\n",
       "    }\n",
       "\n",
       "    .dataframe tbody tr th {\n",
       "        vertical-align: top;\n",
       "    }\n",
       "\n",
       "    .dataframe thead tr th {\n",
       "        text-align: left;\n",
       "    }\n",
       "\n",
       "    .dataframe thead tr:last-of-type th {\n",
       "        text-align: right;\n",
       "    }\n",
       "</style>\n",
       "<table border=\"1\" class=\"dataframe\">\n",
       "  <thead>\n",
       "    <tr>\n",
       "      <th></th>\n",
       "      <th>mean</th>\n",
       "      <th>median</th>\n",
       "    </tr>\n",
       "    <tr>\n",
       "      <th></th>\n",
       "      <th>payback</th>\n",
       "      <th>payback</th>\n",
       "    </tr>\n",
       "    <tr>\n",
       "      <th>year</th>\n",
       "      <th></th>\n",
       "      <th></th>\n",
       "    </tr>\n",
       "  </thead>\n",
       "  <tbody>\n",
       "    <tr>\n",
       "      <th>2013</th>\n",
       "      <td>-117,556,502.45</td>\n",
       "      <td>-117,556,502.45</td>\n",
       "    </tr>\n",
       "    <tr>\n",
       "      <th>2014</th>\n",
       "      <td>-20,816,413.53</td>\n",
       "      <td>-38,122,768.00</td>\n",
       "    </tr>\n",
       "    <tr>\n",
       "      <th>2015</th>\n",
       "      <td>-24,935,740.28</td>\n",
       "      <td>-38,805,656.00</td>\n",
       "    </tr>\n",
       "    <tr>\n",
       "      <th>2016</th>\n",
       "      <td>-34,167,147.15</td>\n",
       "      <td>-52,008,798.00</td>\n",
       "    </tr>\n",
       "    <tr>\n",
       "      <th>2017</th>\n",
       "      <td>84,080,919.28</td>\n",
       "      <td>-36,811,138.00</td>\n",
       "    </tr>\n",
       "    <tr>\n",
       "      <th>2018</th>\n",
       "      <td>46,792,399.58</td>\n",
       "      <td>-37,594,026.25</td>\n",
       "    </tr>\n",
       "    <tr>\n",
       "      <th>2019</th>\n",
       "      <td>-57,224,107.29</td>\n",
       "      <td>-45,909,806.00</td>\n",
       "    </tr>\n",
       "  </tbody>\n",
       "</table>\n",
       "</div>"
      ],
      "text/plain": [
       "                mean          median\n",
       "             payback         payback\n",
       "year                                \n",
       "2013 -117,556,502.45 -117,556,502.45\n",
       "2014  -20,816,413.53  -38,122,768.00\n",
       "2015  -24,935,740.28  -38,805,656.00\n",
       "2016  -34,167,147.15  -52,008,798.00\n",
       "2017   84,080,919.28  -36,811,138.00\n",
       "2018   46,792,399.58  -37,594,026.25\n",
       "2019  -57,224,107.29  -45,909,806.00"
      ]
     },
     "execution_count": 109,
     "metadata": {},
     "output_type": "execute_result"
    }
   ],
   "source": [
    "films_2013_2019.pivot_table(index='year', values='payback', aggfunc=['mean', 'median'])"
   ]
  },
  {
   "cell_type": "markdown",
   "id": "ee3dd680",
   "metadata": {},
   "source": [
    "Как видно из данных очень много фильмов не окупаемы. Рассмотрим детально кол-во оккупаемых и не окупаемых фильмов."
   ]
  },
  {
   "cell_type": "code",
   "execution_count": 110,
   "id": "5d6a808c",
   "metadata": {},
   "outputs": [
    {
     "data": {
      "text/html": [
       "<div>\n",
       "<style scoped>\n",
       "    .dataframe tbody tr th:only-of-type {\n",
       "        vertical-align: middle;\n",
       "    }\n",
       "\n",
       "    .dataframe tbody tr th {\n",
       "        vertical-align: top;\n",
       "    }\n",
       "\n",
       "    .dataframe thead tr th {\n",
       "        text-align: left;\n",
       "    }\n",
       "\n",
       "    .dataframe thead tr:last-of-type th {\n",
       "        text-align: right;\n",
       "    }\n",
       "</style>\n",
       "<table border=\"1\" class=\"dataframe\">\n",
       "  <thead>\n",
       "    <tr>\n",
       "      <th></th>\n",
       "      <th>mean</th>\n",
       "      <th>median</th>\n",
       "      <th>count</th>\n",
       "    </tr>\n",
       "    <tr>\n",
       "      <th></th>\n",
       "      <th>payback</th>\n",
       "      <th>payback</th>\n",
       "      <th>payback</th>\n",
       "    </tr>\n",
       "    <tr>\n",
       "      <th>year</th>\n",
       "      <th></th>\n",
       "      <th></th>\n",
       "      <th></th>\n",
       "    </tr>\n",
       "  </thead>\n",
       "  <tbody>\n",
       "    <tr>\n",
       "      <th>2014</th>\n",
       "      <td>93,100,700.17</td>\n",
       "      <td>23,112,954.65</td>\n",
       "      <td>4</td>\n",
       "    </tr>\n",
       "    <tr>\n",
       "      <th>2015</th>\n",
       "      <td>165,450,705.39</td>\n",
       "      <td>100,680,142.40</td>\n",
       "      <td>17</td>\n",
       "    </tr>\n",
       "    <tr>\n",
       "      <th>2016</th>\n",
       "      <td>225,676,342.74</td>\n",
       "      <td>86,884,530.30</td>\n",
       "      <td>12</td>\n",
       "    </tr>\n",
       "    <tr>\n",
       "      <th>2017</th>\n",
       "      <td>416,828,012.67</td>\n",
       "      <td>121,376,968.00</td>\n",
       "      <td>13</td>\n",
       "    </tr>\n",
       "    <tr>\n",
       "      <th>2018</th>\n",
       "      <td>324,028,181.24</td>\n",
       "      <td>154,385,813.43</td>\n",
       "      <td>18</td>\n",
       "    </tr>\n",
       "    <tr>\n",
       "      <th>2019</th>\n",
       "      <td>378,023,615.53</td>\n",
       "      <td>134,871,745.61</td>\n",
       "      <td>11</td>\n",
       "    </tr>\n",
       "  </tbody>\n",
       "</table>\n",
       "</div>"
      ],
      "text/plain": [
       "               mean         median   count\n",
       "            payback        payback payback\n",
       "year                                      \n",
       "2014  93,100,700.17  23,112,954.65       4\n",
       "2015 165,450,705.39 100,680,142.40      17\n",
       "2016 225,676,342.74  86,884,530.30      12\n",
       "2017 416,828,012.67 121,376,968.00      13\n",
       "2018 324,028,181.24 154,385,813.43      18\n",
       "2019 378,023,615.53 134,871,745.61      11"
      ]
     },
     "execution_count": 110,
     "metadata": {},
     "output_type": "execute_result"
    }
   ],
   "source": [
    "payback = films_2013_2019[films_2013_2019['payback'] > 0]\n",
    "payback.pivot_table(index='year', values='payback', aggfunc=['mean', 'median', 'count'])"
   ]
  },
  {
   "cell_type": "code",
   "execution_count": 111,
   "id": "d35c745a",
   "metadata": {},
   "outputs": [
    {
     "data": {
      "text/html": [
       "<div>\n",
       "<style scoped>\n",
       "    .dataframe tbody tr th:only-of-type {\n",
       "        vertical-align: middle;\n",
       "    }\n",
       "\n",
       "    .dataframe tbody tr th {\n",
       "        vertical-align: top;\n",
       "    }\n",
       "\n",
       "    .dataframe thead tr th {\n",
       "        text-align: left;\n",
       "    }\n",
       "\n",
       "    .dataframe thead tr:last-of-type th {\n",
       "        text-align: right;\n",
       "    }\n",
       "</style>\n",
       "<table border=\"1\" class=\"dataframe\">\n",
       "  <thead>\n",
       "    <tr>\n",
       "      <th></th>\n",
       "      <th>mean</th>\n",
       "      <th>median</th>\n",
       "      <th>count</th>\n",
       "    </tr>\n",
       "    <tr>\n",
       "      <th></th>\n",
       "      <th>payback</th>\n",
       "      <th>payback</th>\n",
       "      <th>payback</th>\n",
       "    </tr>\n",
       "    <tr>\n",
       "      <th>year</th>\n",
       "      <th></th>\n",
       "      <th></th>\n",
       "      <th></th>\n",
       "    </tr>\n",
       "  </thead>\n",
       "  <tbody>\n",
       "    <tr>\n",
       "      <th>2013</th>\n",
       "      <td>-117,556,502.45</td>\n",
       "      <td>-117,556,502.45</td>\n",
       "      <td>2</td>\n",
       "    </tr>\n",
       "    <tr>\n",
       "      <th>2014</th>\n",
       "      <td>-58,788,784.76</td>\n",
       "      <td>-40,150,622.25</td>\n",
       "      <td>12</td>\n",
       "    </tr>\n",
       "    <tr>\n",
       "      <th>2015</th>\n",
       "      <td>-72,532,351.70</td>\n",
       "      <td>-46,313,102.20</td>\n",
       "      <td>68</td>\n",
       "    </tr>\n",
       "    <tr>\n",
       "      <th>2016</th>\n",
       "      <td>-99,128,019.62</td>\n",
       "      <td>-68,133,691.50</td>\n",
       "      <td>48</td>\n",
       "    </tr>\n",
       "    <tr>\n",
       "      <th>2017</th>\n",
       "      <td>-82,292,627.42</td>\n",
       "      <td>-59,190,098.00</td>\n",
       "      <td>26</td>\n",
       "    </tr>\n",
       "    <tr>\n",
       "      <th>2018</th>\n",
       "      <td>-84,529,812.79</td>\n",
       "      <td>-51,353,558.21</td>\n",
       "      <td>38</td>\n",
       "    </tr>\n",
       "    <tr>\n",
       "      <th>2019</th>\n",
       "      <td>-154,932,779.76</td>\n",
       "      <td>-64,805,055.04</td>\n",
       "      <td>49</td>\n",
       "    </tr>\n",
       "  </tbody>\n",
       "</table>\n",
       "</div>"
      ],
      "text/plain": [
       "                mean          median   count\n",
       "             payback         payback payback\n",
       "year                                        \n",
       "2013 -117,556,502.45 -117,556,502.45       2\n",
       "2014  -58,788,784.76  -40,150,622.25      12\n",
       "2015  -72,532,351.70  -46,313,102.20      68\n",
       "2016  -99,128,019.62  -68,133,691.50      48\n",
       "2017  -82,292,627.42  -59,190,098.00      26\n",
       "2018  -84,529,812.79  -51,353,558.21      38\n",
       "2019 -154,932,779.76  -64,805,055.04      49"
      ]
     },
     "execution_count": 111,
     "metadata": {},
     "output_type": "execute_result"
    }
   ],
   "source": [
    "unpayback = films_2013_2019[films_2013_2019['payback'] < 0]\n",
    "unpayback.pivot_table(index='year', values='payback', aggfunc=['mean', 'median', 'count'])"
   ]
  },
  {
   "cell_type": "markdown",
   "id": "2343af8f",
   "metadata": {},
   "source": [
    "Вывод: как видно из полученных данных фильмы с гос поддержкой чаще всего не оккупаются. Стоит заметить что самое большое число таких фильмов пришлось на период 2015 год"
   ]
  },
  {
   "cell_type": "markdown",
   "id": "3fb8a2dd",
   "metadata": {},
   "source": [
    "Так же посмотрим оккупаемость по странам"
   ]
  },
  {
   "cell_type": "code",
   "execution_count": 112,
   "id": "fd1ee023",
   "metadata": {},
   "outputs": [
    {
     "data": {
      "text/html": [
       "<div>\n",
       "<style scoped>\n",
       "    .dataframe tbody tr th:only-of-type {\n",
       "        vertical-align: middle;\n",
       "    }\n",
       "\n",
       "    .dataframe tbody tr th {\n",
       "        vertical-align: top;\n",
       "    }\n",
       "\n",
       "    .dataframe thead tr th {\n",
       "        text-align: left;\n",
       "    }\n",
       "\n",
       "    .dataframe thead tr:last-of-type th {\n",
       "        text-align: right;\n",
       "    }\n",
       "</style>\n",
       "<table border=\"1\" class=\"dataframe\">\n",
       "  <thead>\n",
       "    <tr>\n",
       "      <th></th>\n",
       "      <th>mean</th>\n",
       "      <th>median</th>\n",
       "      <th>count</th>\n",
       "    </tr>\n",
       "    <tr>\n",
       "      <th></th>\n",
       "      <th>payback</th>\n",
       "      <th>payback</th>\n",
       "      <th>payback</th>\n",
       "    </tr>\n",
       "    <tr>\n",
       "      <th>production_country</th>\n",
       "      <th></th>\n",
       "      <th></th>\n",
       "      <th></th>\n",
       "    </tr>\n",
       "  </thead>\n",
       "  <tbody>\n",
       "    <tr>\n",
       "      <th>Россия</th>\n",
       "      <td>285,744,073.77</td>\n",
       "      <td>100,532,518.70</td>\n",
       "      <td>74</td>\n",
       "    </tr>\n",
       "    <tr>\n",
       "      <th>Россия, Сербия</th>\n",
       "      <td>157,650,644.24</td>\n",
       "      <td>157,650,644.24</td>\n",
       "      <td>1</td>\n",
       "    </tr>\n",
       "  </tbody>\n",
       "</table>\n",
       "</div>"
      ],
      "text/plain": [
       "                             mean         median   count\n",
       "                          payback        payback payback\n",
       "production_country                                      \n",
       "Россия             285,744,073.77 100,532,518.70      74\n",
       "Россия, Сербия     157,650,644.24 157,650,644.24       1"
      ]
     },
     "execution_count": 112,
     "metadata": {},
     "output_type": "execute_result"
    }
   ],
   "source": [
    "payback.pivot_table(index='production_country', values='payback', aggfunc=['mean', 'median', 'count'])"
   ]
  },
  {
   "cell_type": "code",
   "execution_count": 113,
   "id": "7895c138",
   "metadata": {},
   "outputs": [
    {
     "data": {
      "text/html": [
       "<div>\n",
       "<style scoped>\n",
       "    .dataframe tbody tr th:only-of-type {\n",
       "        vertical-align: middle;\n",
       "    }\n",
       "\n",
       "    .dataframe tbody tr th {\n",
       "        vertical-align: top;\n",
       "    }\n",
       "\n",
       "    .dataframe thead tr th {\n",
       "        text-align: left;\n",
       "    }\n",
       "\n",
       "    .dataframe thead tr:last-of-type th {\n",
       "        text-align: right;\n",
       "    }\n",
       "</style>\n",
       "<table border=\"1\" class=\"dataframe\">\n",
       "  <thead>\n",
       "    <tr>\n",
       "      <th></th>\n",
       "      <th>mean</th>\n",
       "      <th>median</th>\n",
       "      <th>count</th>\n",
       "    </tr>\n",
       "    <tr>\n",
       "      <th></th>\n",
       "      <th>payback</th>\n",
       "      <th>payback</th>\n",
       "      <th>payback</th>\n",
       "    </tr>\n",
       "    <tr>\n",
       "      <th>production_country</th>\n",
       "      <th></th>\n",
       "      <th></th>\n",
       "      <th></th>\n",
       "    </tr>\n",
       "  </thead>\n",
       "  <tbody>\n",
       "    <tr>\n",
       "      <th>Россия</th>\n",
       "      <td>-93,168,178.51</td>\n",
       "      <td>-51,689,506.00</td>\n",
       "      <td>233</td>\n",
       "    </tr>\n",
       "    <tr>\n",
       "      <th>Россия, Армения</th>\n",
       "      <td>-114,636,769.77</td>\n",
       "      <td>-114,636,769.77</td>\n",
       "      <td>1</td>\n",
       "    </tr>\n",
       "    <tr>\n",
       "      <th>Россия, Германия</th>\n",
       "      <td>-200,068,893.50</td>\n",
       "      <td>-200,068,893.50</td>\n",
       "      <td>2</td>\n",
       "    </tr>\n",
       "    <tr>\n",
       "      <th>Россия, Германия, Великобритания</th>\n",
       "      <td>-147,692,879.99</td>\n",
       "      <td>-147,692,879.99</td>\n",
       "      <td>1</td>\n",
       "    </tr>\n",
       "    <tr>\n",
       "      <th>Россия, Германия, Казахстан, Польша, Китай</th>\n",
       "      <td>-106,072,102.00</td>\n",
       "      <td>-106,072,102.00</td>\n",
       "      <td>1</td>\n",
       "    </tr>\n",
       "    <tr>\n",
       "      <th>Россия, Италия</th>\n",
       "      <td>-432,455,966.64</td>\n",
       "      <td>-432,455,966.64</td>\n",
       "      <td>2</td>\n",
       "    </tr>\n",
       "    <tr>\n",
       "      <th>Россия, Латвия, Чешская Республика</th>\n",
       "      <td>-55,549,215.47</td>\n",
       "      <td>-55,549,215.47</td>\n",
       "      <td>1</td>\n",
       "    </tr>\n",
       "    <tr>\n",
       "      <th>Россия, Украина, Польша</th>\n",
       "      <td>-95,705,578.70</td>\n",
       "      <td>-95,705,578.70</td>\n",
       "      <td>1</td>\n",
       "    </tr>\n",
       "    <tr>\n",
       "      <th>Россия, Франция, Латвия</th>\n",
       "      <td>-81,478,827.50</td>\n",
       "      <td>-81,478,827.50</td>\n",
       "      <td>1</td>\n",
       "    </tr>\n",
       "  </tbody>\n",
       "</table>\n",
       "</div>"
      ],
      "text/plain": [
       "                                                      mean          median  \\\n",
       "                                                   payback         payback   \n",
       "production_country                                                           \n",
       "Россия                                      -93,168,178.51  -51,689,506.00   \n",
       "Россия, Армения                            -114,636,769.77 -114,636,769.77   \n",
       "Россия, Германия                           -200,068,893.50 -200,068,893.50   \n",
       "Россия, Германия, Великобритания           -147,692,879.99 -147,692,879.99   \n",
       "Россия, Германия, Казахстан, Польша, Китай -106,072,102.00 -106,072,102.00   \n",
       "Россия, Италия                             -432,455,966.64 -432,455,966.64   \n",
       "Россия, Латвия, Чешская Республика          -55,549,215.47  -55,549,215.47   \n",
       "Россия, Украина, Польша                     -95,705,578.70  -95,705,578.70   \n",
       "Россия, Франция, Латвия                     -81,478,827.50  -81,478,827.50   \n",
       "\n",
       "                                             count  \n",
       "                                           payback  \n",
       "production_country                                  \n",
       "Россия                                         233  \n",
       "Россия, Армения                                  1  \n",
       "Россия, Германия                                 2  \n",
       "Россия, Германия, Великобритания                 1  \n",
       "Россия, Германия, Казахстан, Польша, Китай       1  \n",
       "Россия, Италия                                   2  \n",
       "Россия, Латвия, Чешская Республика               1  \n",
       "Россия, Украина, Польша                          1  \n",
       "Россия, Франция, Латвия                          1  "
      ]
     },
     "execution_count": 113,
     "metadata": {},
     "output_type": "execute_result"
    }
   ],
   "source": [
    "unpayback.pivot_table(index='production_country', values='payback', aggfunc=['mean', 'median', 'count'])"
   ]
  },
  {
   "cell_type": "markdown",
   "id": "958c6b81",
   "metadata": {},
   "source": [
    "Вывод: из полученных данных можно видеть что фильмы с гос поддержкой выходят только в России. Так же можно сделать вывод что фильмы снятые при участии других стран чаще всего не оккупаются, но не больше всего т.к. в основном все фильмы сняты в России"
   ]
  },
  {
   "cell_type": "markdown",
   "id": "2ce40612",
   "metadata": {},
   "source": [
    "Рассмотрим рейтинг фильмов с гос поддержкой"
   ]
  },
  {
   "cell_type": "code",
   "execution_count": 114,
   "id": "a044644f",
   "metadata": {},
   "outputs": [
    {
     "data": {
      "text/plain": [
       "<AxesSubplot:>"
      ]
     },
     "execution_count": 114,
     "metadata": {},
     "output_type": "execute_result"
    },
    {
     "data": {
      "image/png": "[encoded data removed]",
      "text/plain": [
       "<Figure size 1368x288 with 1 Axes>"
      ]
     },
     "metadata": {
      "needs_background": "light"
     },
     "output_type": "display_data"
    }
   ],
   "source": [
    "films_2013_2019['ratings'].value_counts().sort_index(ascending=True).plot(x=\"ratings\", y=\"ratings\", kind=\"bar\", rot=50, fontsize=14, figsize=(19,4))"
   ]
  },
  {
   "cell_type": "markdown",
   "id": "492b4060",
   "metadata": {},
   "source": [
    "Вывод: как видно из результата фильмы с гос поддержкой чаще всего имеют средний рейтинг."
   ]
  },
  {
   "cell_type": "markdown",
   "id": "49e7bdc0",
   "metadata": {},
   "source": [
    "## Шаг 5. Напишите общий вывод"
   ]
  },
  {
   "cell_type": "markdown",
   "id": "b6e8811b",
   "metadata": {},
   "source": [
    "Вывод: из полученных данных можно сделать вывод что основные тренды кино это мультфильмы, они больше всего собирают в кино. Фильмы с гос поддержкой имеют средний интерес для зрителей, об этом говорят средние рейтинги и сборы. Оккупаемость данных фильмов плохая, они чаще всего не оккупаются. Сильное различие средней и медианой связано с тем, что фильмы есть фильмы с сильным отклонением от среднего значения как с очень маленькими бюджетами, так и с очень большими."
   ]
  }
 ],
 "metadata": {
  "ExecuteTimeLog": [
   {
    "duration": 963,
    "start_time": "2022-04-19T17:22:04.385Z"
   },
   {
    "duration": 0,
    "start_time": "2022-04-19T17:22:05.353Z"
   },
   {
    "duration": 0,
    "start_time": "2022-04-19T17:22:05.354Z"
   },
   {
    "duration": 0,
    "start_time": "2022-04-19T17:22:05.355Z"
   },
   {
    "duration": 0,
    "start_time": "2022-04-19T17:22:05.356Z"
   },
   {
    "duration": 0,
    "start_time": "2022-04-19T17:22:05.357Z"
   },
   {
    "duration": 0,
    "start_time": "2022-04-19T17:22:05.358Z"
   },
   {
    "duration": 0,
    "start_time": "2022-04-19T17:22:05.359Z"
   },
   {
    "duration": 0,
    "start_time": "2022-04-19T17:22:05.359Z"
   },
   {
    "duration": 0,
    "start_time": "2022-04-19T17:22:05.360Z"
   },
   {
    "duration": 0,
    "start_time": "2022-04-19T17:22:05.361Z"
   },
   {
    "duration": 0,
    "start_time": "2022-04-19T17:22:05.362Z"
   },
   {
    "duration": 0,
    "start_time": "2022-04-19T17:22:05.363Z"
   },
   {
    "duration": 0,
    "start_time": "2022-04-19T17:22:05.364Z"
   },
   {
    "duration": 0,
    "start_time": "2022-04-19T17:22:05.365Z"
   },
   {
    "duration": 0,
    "start_time": "2022-04-19T17:22:05.366Z"
   },
   {
    "duration": 0,
    "start_time": "2022-04-19T17:22:05.367Z"
   },
   {
    "duration": 0,
    "start_time": "2022-04-19T17:22:05.368Z"
   },
   {
    "duration": 0,
    "start_time": "2022-04-19T17:22:05.369Z"
   },
   {
    "duration": 0,
    "start_time": "2022-04-19T17:22:05.370Z"
   },
   {
    "duration": 0,
    "start_time": "2022-04-19T17:22:05.371Z"
   },
   {
    "duration": 0,
    "start_time": "2022-04-19T17:22:05.371Z"
   },
   {
    "duration": 0,
    "start_time": "2022-04-19T17:22:05.372Z"
   },
   {
    "duration": 0,
    "start_time": "2022-04-19T17:22:05.373Z"
   },
   {
    "duration": 0,
    "start_time": "2022-04-19T17:22:05.374Z"
   },
   {
    "duration": 0,
    "start_time": "2022-04-19T17:22:05.375Z"
   },
   {
    "duration": 0,
    "start_time": "2022-04-19T17:22:05.375Z"
   },
   {
    "duration": 0,
    "start_time": "2022-04-19T17:22:05.376Z"
   },
   {
    "duration": 0,
    "start_time": "2022-04-19T17:22:05.377Z"
   },
   {
    "duration": 0,
    "start_time": "2022-04-19T17:22:05.378Z"
   },
   {
    "duration": 0,
    "start_time": "2022-04-19T17:22:05.378Z"
   },
   {
    "duration": 0,
    "start_time": "2022-04-19T17:22:05.379Z"
   },
   {
    "duration": 0,
    "start_time": "2022-04-19T17:22:05.380Z"
   },
   {
    "duration": 0,
    "start_time": "2022-04-19T17:22:05.426Z"
   },
   {
    "duration": 0,
    "start_time": "2022-04-19T17:22:05.427Z"
   },
   {
    "duration": 0,
    "start_time": "2022-04-19T17:22:05.428Z"
   },
   {
    "duration": 0,
    "start_time": "2022-04-19T17:22:05.429Z"
   },
   {
    "duration": 1,
    "start_time": "2022-04-19T17:22:05.429Z"
   },
   {
    "duration": 0,
    "start_time": "2022-04-19T17:22:05.432Z"
   },
   {
    "duration": 0,
    "start_time": "2022-04-19T17:22:05.433Z"
   },
   {
    "duration": 0,
    "start_time": "2022-04-19T17:22:05.434Z"
   },
   {
    "duration": 0,
    "start_time": "2022-04-19T17:22:05.436Z"
   },
   {
    "duration": 0,
    "start_time": "2022-04-19T17:22:05.437Z"
   },
   {
    "duration": 0,
    "start_time": "2022-04-19T17:22:05.439Z"
   },
   {
    "duration": 0,
    "start_time": "2022-04-19T17:22:05.440Z"
   },
   {
    "duration": 0,
    "start_time": "2022-04-19T17:22:05.441Z"
   },
   {
    "duration": 0,
    "start_time": "2022-04-19T17:22:05.443Z"
   },
   {
    "duration": 0,
    "start_time": "2022-04-19T17:22:05.444Z"
   },
   {
    "duration": 0,
    "start_time": "2022-04-19T17:22:05.446Z"
   },
   {
    "duration": 0,
    "start_time": "2022-04-19T17:22:05.447Z"
   },
   {
    "duration": 0,
    "start_time": "2022-04-19T17:22:05.448Z"
   },
   {
    "duration": 0,
    "start_time": "2022-04-19T17:22:05.450Z"
   },
   {
    "duration": 0,
    "start_time": "2022-04-19T17:22:05.451Z"
   },
   {
    "duration": 0,
    "start_time": "2022-04-19T17:22:05.451Z"
   },
   {
    "duration": 0,
    "start_time": "2022-04-19T17:22:05.452Z"
   },
   {
    "duration": 0,
    "start_time": "2022-04-19T17:22:05.453Z"
   },
   {
    "duration": 0,
    "start_time": "2022-04-19T17:22:05.454Z"
   },
   {
    "duration": 0,
    "start_time": "2022-04-19T17:22:05.455Z"
   },
   {
    "duration": 0,
    "start_time": "2022-04-19T17:22:05.456Z"
   },
   {
    "duration": 0,
    "start_time": "2022-04-19T17:22:05.458Z"
   },
   {
    "duration": 0,
    "start_time": "2022-04-19T17:22:05.458Z"
   },
   {
    "duration": 0,
    "start_time": "2022-04-19T17:22:05.459Z"
   },
   {
    "duration": 0,
    "start_time": "2022-04-19T17:22:05.460Z"
   },
   {
    "duration": 0,
    "start_time": "2022-04-19T17:22:05.461Z"
   },
   {
    "duration": 0,
    "start_time": "2022-04-19T17:22:05.462Z"
   },
   {
    "duration": 0,
    "start_time": "2022-04-19T17:22:05.524Z"
   },
   {
    "duration": 0,
    "start_time": "2022-04-19T17:22:05.525Z"
   },
   {
    "duration": 0,
    "start_time": "2022-04-19T17:22:05.526Z"
   },
   {
    "duration": 0,
    "start_time": "2022-04-19T17:22:05.527Z"
   },
   {
    "duration": 0,
    "start_time": "2022-04-19T17:22:05.528Z"
   },
   {
    "duration": 0,
    "start_time": "2022-04-19T17:22:05.529Z"
   },
   {
    "duration": 0,
    "start_time": "2022-04-19T17:22:05.530Z"
   },
   {
    "duration": 0,
    "start_time": "2022-04-19T17:22:05.531Z"
   },
   {
    "duration": 0,
    "start_time": "2022-04-19T17:22:05.532Z"
   },
   {
    "duration": 0,
    "start_time": "2022-04-19T17:22:05.533Z"
   },
   {
    "duration": 0,
    "start_time": "2022-04-19T17:22:05.534Z"
   },
   {
    "duration": 0,
    "start_time": "2022-04-19T17:22:05.535Z"
   },
   {
    "duration": 0,
    "start_time": "2022-04-19T17:22:05.536Z"
   },
   {
    "duration": 0,
    "start_time": "2022-04-19T17:22:05.537Z"
   },
   {
    "duration": 0,
    "start_time": "2022-04-19T17:22:05.538Z"
   },
   {
    "duration": 0,
    "start_time": "2022-04-19T17:22:05.539Z"
   },
   {
    "duration": 0,
    "start_time": "2022-04-19T17:22:05.540Z"
   },
   {
    "duration": 0,
    "start_time": "2022-04-19T17:22:05.541Z"
   },
   {
    "duration": 0,
    "start_time": "2022-04-19T17:22:05.542Z"
   },
   {
    "duration": 0,
    "start_time": "2022-04-19T17:22:05.542Z"
   },
   {
    "duration": 0,
    "start_time": "2022-04-19T17:22:05.543Z"
   },
   {
    "duration": 0,
    "start_time": "2022-04-19T17:22:05.544Z"
   },
   {
    "duration": 0,
    "start_time": "2022-04-19T17:22:05.545Z"
   },
   {
    "duration": 0,
    "start_time": "2022-04-19T17:22:05.546Z"
   },
   {
    "duration": 0,
    "start_time": "2022-04-19T17:22:05.547Z"
   },
   {
    "duration": 0,
    "start_time": "2022-04-19T17:22:05.548Z"
   },
   {
    "duration": 0,
    "start_time": "2022-04-19T17:22:05.549Z"
   },
   {
    "duration": 0,
    "start_time": "2022-04-19T17:22:05.550Z"
   },
   {
    "duration": 0,
    "start_time": "2022-04-19T17:22:05.551Z"
   },
   {
    "duration": 0,
    "start_time": "2022-04-19T17:22:05.552Z"
   },
   {
    "duration": 0,
    "start_time": "2022-04-19T17:22:05.553Z"
   },
   {
    "duration": 0,
    "start_time": "2022-04-19T17:22:05.555Z"
   },
   {
    "duration": 0,
    "start_time": "2022-04-19T17:22:05.555Z"
   },
   {
    "duration": 0,
    "start_time": "2022-04-19T17:22:05.557Z"
   },
   {
    "duration": 0,
    "start_time": "2022-04-19T17:22:05.558Z"
   },
   {
    "duration": 80,
    "start_time": "2022-04-19T17:24:26.123Z"
   },
   {
    "duration": 121,
    "start_time": "2022-04-19T17:24:38.531Z"
   },
   {
    "duration": 86,
    "start_time": "2022-04-19T17:24:44.790Z"
   },
   {
    "duration": 53,
    "start_time": "2022-04-19T17:24:44.879Z"
   },
   {
    "duration": 16,
    "start_time": "2022-04-19T17:24:44.934Z"
   },
   {
    "duration": 35,
    "start_time": "2022-04-19T17:24:44.952Z"
   },
   {
    "duration": 9,
    "start_time": "2022-04-19T17:24:44.990Z"
   },
   {
    "duration": 44,
    "start_time": "2022-04-19T17:24:45.001Z"
   },
   {
    "duration": 23,
    "start_time": "2022-04-19T17:24:45.047Z"
   },
   {
    "duration": 20,
    "start_time": "2022-04-19T17:24:45.072Z"
   },
   {
    "duration": 39,
    "start_time": "2022-04-19T17:24:45.093Z"
   },
   {
    "duration": 11,
    "start_time": "2022-04-19T17:24:45.134Z"
   },
   {
    "duration": 15,
    "start_time": "2022-04-19T17:24:45.147Z"
   },
   {
    "duration": 21,
    "start_time": "2022-04-19T17:24:45.164Z"
   },
   {
    "duration": 39,
    "start_time": "2022-04-19T17:24:45.187Z"
   },
   {
    "duration": 10,
    "start_time": "2022-04-19T17:24:45.232Z"
   },
   {
    "duration": 7,
    "start_time": "2022-04-19T17:24:45.244Z"
   },
   {
    "duration": 72,
    "start_time": "2022-04-19T17:24:45.253Z"
   },
   {
    "duration": 446466,
    "start_time": "2022-04-19T17:24:45.327Z"
   },
   {
    "duration": 6,
    "start_time": "2022-04-19T17:32:11.795Z"
   },
   {
    "duration": 38,
    "start_time": "2022-04-19T17:32:11.802Z"
   },
   {
    "duration": 21,
    "start_time": "2022-04-19T17:32:11.841Z"
   },
   {
    "duration": 10,
    "start_time": "2022-04-19T17:32:11.863Z"
   },
   {
    "duration": 26,
    "start_time": "2022-04-19T17:32:11.874Z"
   },
   {
    "duration": 32,
    "start_time": "2022-04-19T17:32:11.901Z"
   },
   {
    "duration": 11,
    "start_time": "2022-04-19T17:32:11.934Z"
   },
   {
    "duration": 28,
    "start_time": "2022-04-19T17:32:11.947Z"
   },
   {
    "duration": 25,
    "start_time": "2022-04-19T17:32:11.976Z"
   },
   {
    "duration": 7,
    "start_time": "2022-04-19T17:32:12.002Z"
   },
   {
    "duration": 26,
    "start_time": "2022-04-19T17:32:12.011Z"
   },
   {
    "duration": 8,
    "start_time": "2022-04-19T17:32:12.039Z"
   },
   {
    "duration": 41,
    "start_time": "2022-04-19T17:32:12.049Z"
   },
   {
    "duration": 18,
    "start_time": "2022-04-19T17:32:12.092Z"
   },
   {
    "duration": 15,
    "start_time": "2022-04-19T17:32:12.112Z"
   },
   {
    "duration": 35,
    "start_time": "2022-04-19T17:32:12.129Z"
   },
   {
    "duration": 19,
    "start_time": "2022-04-19T17:32:12.166Z"
   },
   {
    "duration": 22,
    "start_time": "2022-04-19T17:32:12.187Z"
   },
   {
    "duration": 26,
    "start_time": "2022-04-19T17:32:12.211Z"
   },
   {
    "duration": 27,
    "start_time": "2022-04-19T17:32:12.239Z"
   },
   {
    "duration": 26,
    "start_time": "2022-04-19T17:32:12.267Z"
   },
   {
    "duration": 18,
    "start_time": "2022-04-19T17:32:12.294Z"
   },
   {
    "duration": 18,
    "start_time": "2022-04-19T17:32:12.314Z"
   },
   {
    "duration": 15,
    "start_time": "2022-04-19T17:32:12.336Z"
   },
   {
    "duration": 28,
    "start_time": "2022-04-19T17:32:12.353Z"
   },
   {
    "duration": 18,
    "start_time": "2022-04-19T17:32:12.383Z"
   },
   {
    "duration": 15,
    "start_time": "2022-04-19T17:32:12.402Z"
   },
   {
    "duration": 23,
    "start_time": "2022-04-19T17:32:12.419Z"
   },
   {
    "duration": 12,
    "start_time": "2022-04-19T17:32:12.444Z"
   },
   {
    "duration": 26,
    "start_time": "2022-04-19T17:32:12.457Z"
   },
   {
    "duration": 16,
    "start_time": "2022-04-19T17:32:12.485Z"
   },
   {
    "duration": 22,
    "start_time": "2022-04-19T17:32:12.503Z"
   },
   {
    "duration": 23,
    "start_time": "2022-04-19T17:32:12.527Z"
   },
   {
    "duration": 18,
    "start_time": "2022-04-19T17:32:12.551Z"
   },
   {
    "duration": 25,
    "start_time": "2022-04-19T17:32:12.570Z"
   },
   {
    "duration": 18,
    "start_time": "2022-04-19T17:32:12.596Z"
   },
   {
    "duration": 29,
    "start_time": "2022-04-19T17:32:12.615Z"
   },
   {
    "duration": 44,
    "start_time": "2022-04-19T17:32:12.646Z"
   },
   {
    "duration": 5,
    "start_time": "2022-04-19T17:32:12.692Z"
   },
   {
    "duration": 351,
    "start_time": "2022-04-19T17:32:12.699Z"
   },
   {
    "duration": 8,
    "start_time": "2022-04-19T17:32:13.052Z"
   },
   {
    "duration": 197,
    "start_time": "2022-04-19T17:32:13.061Z"
   },
   {
    "duration": 20,
    "start_time": "2022-04-19T17:32:13.260Z"
   },
   {
    "duration": 6,
    "start_time": "2022-04-19T17:32:13.282Z"
   },
   {
    "duration": 180,
    "start_time": "2022-04-19T17:32:13.290Z"
   },
   {
    "duration": 21,
    "start_time": "2022-04-19T17:32:13.472Z"
   },
   {
    "duration": 9,
    "start_time": "2022-04-19T17:32:13.494Z"
   },
   {
    "duration": 191,
    "start_time": "2022-04-19T17:32:13.504Z"
   },
   {
    "duration": 9,
    "start_time": "2022-04-19T17:32:13.696Z"
   },
   {
    "duration": 177,
    "start_time": "2022-04-19T17:32:13.706Z"
   },
   {
    "duration": 8,
    "start_time": "2022-04-19T17:32:13.885Z"
   },
   {
    "duration": 187,
    "start_time": "2022-04-19T17:32:13.895Z"
   },
   {
    "duration": 8,
    "start_time": "2022-04-19T17:32:14.084Z"
   },
   {
    "duration": 179,
    "start_time": "2022-04-19T17:32:14.093Z"
   },
   {
    "duration": 8,
    "start_time": "2022-04-19T17:32:14.274Z"
   },
   {
    "duration": 184,
    "start_time": "2022-04-19T17:32:14.283Z"
   },
   {
    "duration": 8,
    "start_time": "2022-04-19T17:32:14.468Z"
   },
   {
    "duration": 178,
    "start_time": "2022-04-19T17:32:14.477Z"
   },
   {
    "duration": 19,
    "start_time": "2022-04-19T17:32:14.657Z"
   },
   {
    "duration": 17,
    "start_time": "2022-04-19T17:32:14.677Z"
   },
   {
    "duration": 40,
    "start_time": "2022-04-19T17:32:14.696Z"
   },
   {
    "duration": 18,
    "start_time": "2022-04-19T17:32:14.737Z"
   },
   {
    "duration": 17,
    "start_time": "2022-04-19T17:32:14.756Z"
   },
   {
    "duration": 5,
    "start_time": "2022-04-19T17:32:14.775Z"
   },
   {
    "duration": 9,
    "start_time": "2022-04-19T17:32:14.782Z"
   },
   {
    "duration": 35,
    "start_time": "2022-04-19T17:32:14.792Z"
   },
   {
    "duration": 6,
    "start_time": "2022-04-19T17:32:14.828Z"
   },
   {
    "duration": 11,
    "start_time": "2022-04-19T17:32:14.836Z"
   },
   {
    "duration": 5,
    "start_time": "2022-04-19T17:32:14.849Z"
   },
   {
    "duration": 8,
    "start_time": "2022-04-19T17:32:14.856Z"
   },
   {
    "duration": 6,
    "start_time": "2022-04-19T17:32:14.866Z"
   },
   {
    "duration": 175,
    "start_time": "2022-04-19T17:32:14.873Z"
   },
   {
    "duration": 5,
    "start_time": "2022-04-19T17:32:15.050Z"
   },
   {
    "duration": 147,
    "start_time": "2022-04-19T17:32:15.057Z"
   },
   {
    "duration": 4,
    "start_time": "2022-04-19T17:32:15.206Z"
   },
   {
    "duration": 14,
    "start_time": "2022-04-19T17:32:15.212Z"
   },
   {
    "duration": 5,
    "start_time": "2022-04-19T17:32:15.228Z"
   },
   {
    "duration": 18,
    "start_time": "2022-04-19T17:32:15.235Z"
   },
   {
    "duration": 22,
    "start_time": "2022-04-19T17:32:15.255Z"
   },
   {
    "duration": 47,
    "start_time": "2022-04-19T17:32:15.279Z"
   },
   {
    "duration": 23,
    "start_time": "2022-04-19T17:32:15.327Z"
   },
   {
    "duration": 38,
    "start_time": "2022-04-19T17:32:15.352Z"
   },
   {
    "duration": 1330,
    "start_time": "2022-04-19T17:32:15.393Z"
   },
   {
    "duration": 31,
    "start_time": "2022-04-19T17:34:46.729Z"
   },
   {
    "duration": 8,
    "start_time": "2022-04-19T19:46:35.275Z"
   },
   {
    "duration": 22,
    "start_time": "2022-04-19T20:04:42.963Z"
   },
   {
    "duration": 12,
    "start_time": "2022-04-19T20:15:36.074Z"
   },
   {
    "duration": 27,
    "start_time": "2022-04-19T20:26:26.996Z"
   },
   {
    "duration": 981,
    "start_time": "2022-05-23T18:26:20.010Z"
   },
   {
    "duration": 18,
    "start_time": "2022-05-23T18:26:36.848Z"
   },
   {
    "duration": 12,
    "start_time": "2022-05-23T18:26:38.189Z"
   },
   {
    "duration": 23,
    "start_time": "2022-05-23T18:26:42.067Z"
   },
   {
    "duration": 8,
    "start_time": "2022-05-23T18:26:45.388Z"
   },
   {
    "duration": 14,
    "start_time": "2022-05-23T18:26:46.377Z"
   },
   {
    "duration": 15,
    "start_time": "2022-05-23T18:26:46.761Z"
   },
   {
    "duration": 17,
    "start_time": "2022-05-23T18:26:47.649Z"
   },
   {
    "duration": 19,
    "start_time": "2022-05-23T18:26:48.428Z"
   },
   {
    "duration": 12,
    "start_time": "2022-05-23T18:26:50.048Z"
   },
   {
    "duration": 18,
    "start_time": "2022-05-23T18:26:51.375Z"
   },
   {
    "duration": 16,
    "start_time": "2022-05-23T18:26:52.205Z"
   },
   {
    "duration": 14,
    "start_time": "2022-05-23T18:30:30.329Z"
   },
   {
    "duration": 9,
    "start_time": "2022-05-23T18:30:31.421Z"
   },
   {
    "duration": 6,
    "start_time": "2022-05-23T18:30:34.784Z"
   },
   {
    "duration": 41,
    "start_time": "2022-05-23T18:30:35.665Z"
   },
   {
    "duration": 549743,
    "start_time": "2022-05-23T18:30:51.886Z"
   },
   {
    "duration": 4,
    "start_time": "2022-05-23T18:45:41.854Z"
   },
   {
    "duration": 37,
    "start_time": "2022-05-23T18:45:45.056Z"
   },
   {
    "duration": 0,
    "start_time": "2022-05-23T19:44:29.739Z"
   },
   {
    "duration": 0,
    "start_time": "2022-05-23T19:44:29.740Z"
   },
   {
    "duration": 0,
    "start_time": "2022-05-23T19:44:29.741Z"
   },
   {
    "duration": 0,
    "start_time": "2022-05-23T19:44:29.742Z"
   },
   {
    "duration": 0,
    "start_time": "2022-05-23T19:44:29.744Z"
   },
   {
    "duration": 17,
    "start_time": "2022-05-23T19:44:35.066Z"
   },
   {
    "duration": 13,
    "start_time": "2022-05-23T19:44:39.369Z"
   },
   {
    "duration": 6,
    "start_time": "2022-05-23T19:44:40.662Z"
   },
   {
    "duration": 28,
    "start_time": "2022-05-23T19:44:41.351Z"
   },
   {
    "duration": 476407,
    "start_time": "2022-05-23T19:44:44.476Z"
   },
   {
    "duration": 0,
    "start_time": "2022-05-23T19:52:40.885Z"
   },
   {
    "duration": 348,
    "start_time": "2022-05-23T19:52:51.772Z"
   },
   {
    "duration": 15,
    "start_time": "2022-05-23T19:52:53.168Z"
   },
   {
    "duration": 23,
    "start_time": "2022-05-23T19:52:53.614Z"
   },
   {
    "duration": 14,
    "start_time": "2022-05-23T19:52:54.706Z"
   },
   {
    "duration": 6,
    "start_time": "2022-05-23T19:52:55.474Z"
   },
   {
    "duration": 13,
    "start_time": "2022-05-23T19:52:56.481Z"
   },
   {
    "duration": 13,
    "start_time": "2022-05-23T19:52:57.170Z"
   },
   {
    "duration": 16,
    "start_time": "2022-05-23T19:52:58.485Z"
   },
   {
    "duration": 20,
    "start_time": "2022-05-23T19:52:59.073Z"
   },
   {
    "duration": 19,
    "start_time": "2022-05-23T19:52:59.600Z"
   },
   {
    "duration": 15,
    "start_time": "2022-05-23T19:53:00.208Z"
   },
   {
    "duration": 15,
    "start_time": "2022-05-23T19:53:00.918Z"
   },
   {
    "duration": 15,
    "start_time": "2022-05-23T19:53:06.001Z"
   },
   {
    "duration": 7,
    "start_time": "2022-05-23T19:53:08.700Z"
   },
   {
    "duration": 10,
    "start_time": "2022-05-23T19:53:10.422Z"
   },
   {
    "duration": 4,
    "start_time": "2022-05-23T19:53:38.854Z"
   },
   {
    "duration": 35,
    "start_time": "2022-05-23T19:53:39.989Z"
   },
   {
    "duration": 438828,
    "start_time": "2022-05-23T19:54:20.200Z"
   },
   {
    "duration": 146,
    "start_time": "2022-05-23T20:01:46.758Z"
   },
   {
    "duration": 25,
    "start_time": "2022-05-23T20:01:49.029Z"
   },
   {
    "duration": 16,
    "start_time": "2022-05-23T20:01:49.959Z"
   },
   {
    "duration": 17,
    "start_time": "2022-05-23T20:01:51.717Z"
   },
   {
    "duration": 9,
    "start_time": "2022-05-23T20:01:52.456Z"
   },
   {
    "duration": 23,
    "start_time": "2022-05-23T20:01:53.786Z"
   },
   {
    "duration": 20,
    "start_time": "2022-05-23T20:01:54.380Z"
   },
   {
    "duration": 17,
    "start_time": "2022-05-23T20:01:55.656Z"
   },
   {
    "duration": 28,
    "start_time": "2022-05-23T20:01:55.857Z"
   },
   {
    "duration": 20,
    "start_time": "2022-05-23T20:01:56.458Z"
   },
   {
    "duration": 17,
    "start_time": "2022-05-23T20:01:56.973Z"
   },
   {
    "duration": 27,
    "start_time": "2022-05-23T20:01:57.511Z"
   },
   {
    "duration": 23,
    "start_time": "2022-05-23T20:02:01.256Z"
   },
   {
    "duration": 8,
    "start_time": "2022-05-23T20:02:02.392Z"
   },
   {
    "duration": 11,
    "start_time": "2022-05-23T20:02:03.461Z"
   },
   {
    "duration": 9,
    "start_time": "2022-05-23T20:02:03.990Z"
   },
   {
    "duration": 43,
    "start_time": "2022-05-23T20:02:04.893Z"
   },
   {
    "duration": 256009,
    "start_time": "2022-05-23T20:02:08.830Z"
   },
   {
    "duration": 151,
    "start_time": "2022-05-23T20:07:47.536Z"
   },
   {
    "duration": 1241122,
    "start_time": "2022-05-23T20:07:59.576Z"
   },
   {
    "duration": 280,
    "start_time": "2022-05-23T20:30:40.738Z"
   },
   {
    "duration": 15,
    "start_time": "2022-05-23T20:30:41.557Z"
   },
   {
    "duration": 10,
    "start_time": "2022-05-23T20:30:41.963Z"
   },
   {
    "duration": 14,
    "start_time": "2022-05-23T20:30:42.941Z"
   },
   {
    "duration": 6,
    "start_time": "2022-05-23T20:30:43.235Z"
   },
   {
    "duration": 15,
    "start_time": "2022-05-23T20:30:43.783Z"
   },
   {
    "duration": 14,
    "start_time": "2022-05-23T20:30:44.201Z"
   },
   {
    "duration": 15,
    "start_time": "2022-05-23T20:30:45.095Z"
   },
   {
    "duration": 16,
    "start_time": "2022-05-23T20:30:45.257Z"
   },
   {
    "duration": 17,
    "start_time": "2022-05-23T20:30:45.449Z"
   },
   {
    "duration": 23,
    "start_time": "2022-05-23T20:30:45.926Z"
   },
   {
    "duration": 16,
    "start_time": "2022-05-23T20:30:46.123Z"
   },
   {
    "duration": 16,
    "start_time": "2022-05-23T20:30:48.103Z"
   },
   {
    "duration": 8,
    "start_time": "2022-05-23T20:30:49.049Z"
   },
   {
    "duration": 11,
    "start_time": "2022-05-23T20:30:49.623Z"
   },
   {
    "duration": 5,
    "start_time": "2022-05-23T20:30:49.831Z"
   },
   {
    "duration": 46,
    "start_time": "2022-05-23T20:30:50.132Z"
   },
   {
    "duration": 287724,
    "start_time": "2022-05-23T20:30:53.472Z"
   },
   {
    "duration": 107163,
    "start_time": "2022-05-23T20:44:07.587Z"
   },
   {
    "duration": 115,
    "start_time": "2022-05-23T20:48:10.042Z"
   },
   {
    "duration": 15,
    "start_time": "2022-05-23T20:48:10.817Z"
   },
   {
    "duration": 10,
    "start_time": "2022-05-23T20:48:10.986Z"
   },
   {
    "duration": 16,
    "start_time": "2022-05-23T20:48:11.331Z"
   },
   {
    "duration": 9,
    "start_time": "2022-05-23T20:48:11.514Z"
   },
   {
    "duration": 18,
    "start_time": "2022-05-23T20:48:11.864Z"
   },
   {
    "duration": 19,
    "start_time": "2022-05-23T20:48:12.054Z"
   },
   {
    "duration": 15,
    "start_time": "2022-05-23T20:48:12.432Z"
   },
   {
    "duration": 15,
    "start_time": "2022-05-23T20:48:12.640Z"
   },
   {
    "duration": 11,
    "start_time": "2022-05-23T20:48:12.798Z"
   },
   {
    "duration": 17,
    "start_time": "2022-05-23T20:48:13.033Z"
   },
   {
    "duration": 17,
    "start_time": "2022-05-23T20:48:13.201Z"
   },
   {
    "duration": 14,
    "start_time": "2022-05-23T20:48:15.656Z"
   },
   {
    "duration": 8,
    "start_time": "2022-05-23T20:48:16.712Z"
   },
   {
    "duration": 10,
    "start_time": "2022-05-23T20:48:17.308Z"
   },
   {
    "duration": 5,
    "start_time": "2022-05-23T20:48:17.860Z"
   },
   {
    "duration": 45,
    "start_time": "2022-05-23T20:48:18.633Z"
   },
   {
    "duration": 159977,
    "start_time": "2022-05-23T20:48:20.998Z"
   },
   {
    "duration": 971,
    "start_time": "2022-05-24T05:30:06.585Z"
   },
   {
    "duration": 15,
    "start_time": "2022-05-24T05:30:08.901Z"
   },
   {
    "duration": 12,
    "start_time": "2022-05-24T05:30:17.454Z"
   },
   {
    "duration": 19,
    "start_time": "2022-05-24T05:30:20.733Z"
   },
   {
    "duration": 6,
    "start_time": "2022-05-24T05:30:23.473Z"
   },
   {
    "duration": 13,
    "start_time": "2022-05-24T05:30:26.595Z"
   },
   {
    "duration": 14,
    "start_time": "2022-05-24T05:30:28.501Z"
   },
   {
    "duration": 15,
    "start_time": "2022-05-24T05:30:31.664Z"
   },
   {
    "duration": 15,
    "start_time": "2022-05-24T05:30:33.374Z"
   },
   {
    "duration": 11,
    "start_time": "2022-05-24T05:30:36.069Z"
   },
   {
    "duration": 14,
    "start_time": "2022-05-24T05:30:36.727Z"
   },
   {
    "duration": 17,
    "start_time": "2022-05-24T05:30:39.811Z"
   },
   {
    "duration": 12,
    "start_time": "2022-05-24T05:30:46.681Z"
   },
   {
    "duration": 7,
    "start_time": "2022-05-24T05:30:50.617Z"
   },
   {
    "duration": 9,
    "start_time": "2022-05-24T05:30:52.356Z"
   },
   {
    "duration": 5,
    "start_time": "2022-05-24T05:30:55.200Z"
   },
   {
    "duration": 33,
    "start_time": "2022-05-24T05:30:56.726Z"
   },
   {
    "duration": 515148,
    "start_time": "2022-05-24T05:30:58.634Z"
   },
   {
    "duration": 115,
    "start_time": "2022-05-24T05:41:29.270Z"
   },
   {
    "duration": 19,
    "start_time": "2022-05-24T05:41:31.819Z"
   },
   {
    "duration": 9,
    "start_time": "2022-05-24T05:41:32.433Z"
   },
   {
    "duration": 14,
    "start_time": "2022-05-24T05:41:33.006Z"
   },
   {
    "duration": 7,
    "start_time": "2022-05-24T05:41:33.505Z"
   },
   {
    "duration": 13,
    "start_time": "2022-05-24T05:41:34.207Z"
   },
   {
    "duration": 12,
    "start_time": "2022-05-24T05:41:34.621Z"
   },
   {
    "duration": 15,
    "start_time": "2022-05-24T05:41:35.564Z"
   },
   {
    "duration": 16,
    "start_time": "2022-05-24T05:41:36.135Z"
   },
   {
    "duration": 13,
    "start_time": "2022-05-24T05:41:36.655Z"
   },
   {
    "duration": 13,
    "start_time": "2022-05-24T05:41:37.229Z"
   },
   {
    "duration": 17,
    "start_time": "2022-05-24T05:41:37.879Z"
   },
   {
    "duration": 14,
    "start_time": "2022-05-24T05:41:42.029Z"
   },
   {
    "duration": 6,
    "start_time": "2022-05-24T05:41:43.362Z"
   },
   {
    "duration": 9,
    "start_time": "2022-05-24T05:41:44.628Z"
   },
   {
    "duration": 5,
    "start_time": "2022-05-24T05:41:45.187Z"
   },
   {
    "duration": 35,
    "start_time": "2022-05-24T05:41:45.800Z"
   },
   {
    "duration": 512071,
    "start_time": "2022-05-24T05:41:48.088Z"
   },
   {
    "duration": 145,
    "start_time": "2022-05-24T05:56:15.974Z"
   },
   {
    "duration": 20,
    "start_time": "2022-05-24T05:56:17.105Z"
   },
   {
    "duration": 13,
    "start_time": "2022-05-24T05:56:17.425Z"
   },
   {
    "duration": 15,
    "start_time": "2022-05-24T05:56:18.453Z"
   },
   {
    "duration": 10,
    "start_time": "2022-05-24T05:56:18.900Z"
   },
   {
    "duration": 22,
    "start_time": "2022-05-24T05:56:19.962Z"
   },
   {
    "duration": 15,
    "start_time": "2022-05-24T05:56:20.443Z"
   },
   {
    "duration": 18,
    "start_time": "2022-05-24T05:56:21.485Z"
   },
   {
    "duration": 20,
    "start_time": "2022-05-24T05:56:22.416Z"
   },
   {
    "duration": 18,
    "start_time": "2022-05-24T05:56:22.880Z"
   },
   {
    "duration": 24,
    "start_time": "2022-05-24T05:56:23.423Z"
   },
   {
    "duration": 27,
    "start_time": "2022-05-24T05:56:24.344Z"
   },
   {
    "duration": 23,
    "start_time": "2022-05-24T05:56:28.976Z"
   },
   {
    "duration": 8,
    "start_time": "2022-05-24T05:56:30.923Z"
   },
   {
    "duration": 19,
    "start_time": "2022-05-24T05:56:31.744Z"
   },
   {
    "duration": 6,
    "start_time": "2022-05-24T05:56:32.250Z"
   },
   {
    "duration": 40,
    "start_time": "2022-05-24T05:56:32.860Z"
   },
   {
    "duration": 500813,
    "start_time": "2022-05-24T05:56:34.356Z"
   },
   {
    "duration": 8,
    "start_time": "2022-05-24T06:04:55.171Z"
   },
   {
    "duration": 7,
    "start_time": "2022-05-24T06:08:44.767Z"
   },
   {
    "duration": 49,
    "start_time": "2022-05-24T06:08:45.500Z"
   },
   {
    "duration": 6,
    "start_time": "2022-05-24T06:08:51.688Z"
   },
   {
    "duration": 5,
    "start_time": "2022-05-24T06:08:53.114Z"
   },
   {
    "duration": 9,
    "start_time": "2022-05-24T06:08:56.041Z"
   },
   {
    "duration": 25,
    "start_time": "2022-05-24T06:09:09.034Z"
   },
   {
    "duration": 6,
    "start_time": "2022-05-24T06:09:14.728Z"
   },
   {
    "duration": 125,
    "start_time": "2022-05-24T06:09:52.999Z"
   },
   {
    "duration": 16,
    "start_time": "2022-05-24T06:09:53.779Z"
   },
   {
    "duration": 10,
    "start_time": "2022-05-24T06:09:54.040Z"
   },
   {
    "duration": 16,
    "start_time": "2022-05-24T06:09:54.580Z"
   },
   {
    "duration": 7,
    "start_time": "2022-05-24T06:09:55.000Z"
   },
   {
    "duration": 14,
    "start_time": "2022-05-24T06:09:56.025Z"
   },
   {
    "duration": 14,
    "start_time": "2022-05-24T06:09:56.608Z"
   },
   {
    "duration": 16,
    "start_time": "2022-05-24T06:09:57.971Z"
   },
   {
    "duration": 17,
    "start_time": "2022-05-24T06:09:58.829Z"
   },
   {
    "duration": 13,
    "start_time": "2022-05-24T06:09:59.363Z"
   },
   {
    "duration": 18,
    "start_time": "2022-05-24T06:09:59.823Z"
   },
   {
    "duration": 17,
    "start_time": "2022-05-24T06:10:00.244Z"
   },
   {
    "duration": 16,
    "start_time": "2022-05-24T06:10:04.144Z"
   },
   {
    "duration": 8,
    "start_time": "2022-05-24T06:10:04.987Z"
   },
   {
    "duration": 10,
    "start_time": "2022-05-24T06:10:05.818Z"
   },
   {
    "duration": 5,
    "start_time": "2022-05-24T06:10:06.242Z"
   },
   {
    "duration": 40,
    "start_time": "2022-05-24T06:10:06.793Z"
   },
   {
    "duration": 54618,
    "start_time": "2022-05-24T06:10:08.129Z"
   },
   {
    "duration": 0,
    "start_time": "2022-05-24T06:11:02.750Z"
   },
   {
    "duration": 0,
    "start_time": "2022-05-24T06:11:02.751Z"
   },
   {
    "duration": 0,
    "start_time": "2022-05-24T06:11:02.752Z"
   },
   {
    "duration": 0,
    "start_time": "2022-05-24T06:11:02.753Z"
   },
   {
    "duration": 0,
    "start_time": "2022-05-24T06:11:02.754Z"
   },
   {
    "duration": 0,
    "start_time": "2022-05-24T06:11:02.755Z"
   },
   {
    "duration": 0,
    "start_time": "2022-05-24T06:11:02.757Z"
   },
   {
    "duration": 0,
    "start_time": "2022-05-24T06:11:02.758Z"
   },
   {
    "duration": 0,
    "start_time": "2022-05-24T06:11:02.759Z"
   },
   {
    "duration": 0,
    "start_time": "2022-05-24T06:11:02.761Z"
   },
   {
    "duration": 0,
    "start_time": "2022-05-24T06:11:02.762Z"
   },
   {
    "duration": 0,
    "start_time": "2022-05-24T06:11:02.764Z"
   },
   {
    "duration": 0,
    "start_time": "2022-05-24T06:11:02.765Z"
   },
   {
    "duration": 0,
    "start_time": "2022-05-24T06:11:02.766Z"
   },
   {
    "duration": 0,
    "start_time": "2022-05-24T06:11:02.767Z"
   },
   {
    "duration": 0,
    "start_time": "2022-05-24T06:11:02.768Z"
   },
   {
    "duration": 0,
    "start_time": "2022-05-24T06:11:02.770Z"
   },
   {
    "duration": 0,
    "start_time": "2022-05-24T06:11:02.771Z"
   },
   {
    "duration": 0,
    "start_time": "2022-05-24T06:11:02.772Z"
   },
   {
    "duration": 0,
    "start_time": "2022-05-24T06:11:02.773Z"
   },
   {
    "duration": 0,
    "start_time": "2022-05-24T06:11:02.774Z"
   },
   {
    "duration": 0,
    "start_time": "2022-05-24T06:11:02.775Z"
   },
   {
    "duration": 0,
    "start_time": "2022-05-24T06:11:02.776Z"
   },
   {
    "duration": 0,
    "start_time": "2022-05-24T06:11:02.777Z"
   },
   {
    "duration": 0,
    "start_time": "2022-05-24T06:11:02.778Z"
   },
   {
    "duration": 0,
    "start_time": "2022-05-24T06:11:02.779Z"
   },
   {
    "duration": 0,
    "start_time": "2022-05-24T06:11:02.780Z"
   },
   {
    "duration": 159,
    "start_time": "2022-05-24T06:11:12.259Z"
   },
   {
    "duration": 20,
    "start_time": "2022-05-24T06:11:12.994Z"
   },
   {
    "duration": 12,
    "start_time": "2022-05-24T06:11:13.161Z"
   },
   {
    "duration": 15,
    "start_time": "2022-05-24T06:11:13.691Z"
   },
   {
    "duration": 7,
    "start_time": "2022-05-24T06:11:13.907Z"
   },
   {
    "duration": 21,
    "start_time": "2022-05-24T06:11:14.287Z"
   },
   {
    "duration": 21,
    "start_time": "2022-05-24T06:11:14.591Z"
   },
   {
    "duration": 22,
    "start_time": "2022-05-24T06:11:15.459Z"
   },
   {
    "duration": 21,
    "start_time": "2022-05-24T06:11:15.673Z"
   },
   {
    "duration": 18,
    "start_time": "2022-05-24T06:11:15.861Z"
   },
   {
    "duration": 20,
    "start_time": "2022-05-24T06:11:17.229Z"
   },
   {
    "duration": 18,
    "start_time": "2022-05-24T06:11:18.692Z"
   },
   {
    "duration": 17,
    "start_time": "2022-05-24T06:11:21.898Z"
   },
   {
    "duration": 11,
    "start_time": "2022-05-24T06:11:23.373Z"
   },
   {
    "duration": 15,
    "start_time": "2022-05-24T06:11:24.064Z"
   },
   {
    "duration": 7,
    "start_time": "2022-05-24T06:11:24.276Z"
   },
   {
    "duration": 38,
    "start_time": "2022-05-24T06:11:24.467Z"
   },
   {
    "duration": 492470,
    "start_time": "2022-05-24T06:11:27.206Z"
   },
   {
    "duration": 5,
    "start_time": "2022-05-24T06:20:14.019Z"
   },
   {
    "duration": 27,
    "start_time": "2022-05-24T06:20:15.541Z"
   },
   {
    "duration": 5,
    "start_time": "2022-05-24T06:20:27.105Z"
   },
   {
    "duration": 6,
    "start_time": "2022-05-24T06:20:34.036Z"
   },
   {
    "duration": 14,
    "start_time": "2022-05-24T06:20:36.729Z"
   },
   {
    "duration": 5,
    "start_time": "2022-05-24T06:20:41.624Z"
   },
   {
    "duration": 14,
    "start_time": "2022-05-24T06:23:44.864Z"
   },
   {
    "duration": 20,
    "start_time": "2022-05-24T06:24:42.260Z"
   },
   {
    "duration": 6,
    "start_time": "2022-05-24T06:25:12.210Z"
   },
   {
    "duration": 11,
    "start_time": "2022-05-24T06:25:18.568Z"
   },
   {
    "duration": 5,
    "start_time": "2022-05-24T06:25:34.814Z"
   },
   {
    "duration": 5,
    "start_time": "2022-05-24T06:25:35.828Z"
   },
   {
    "duration": 20,
    "start_time": "2022-05-24T06:25:36.521Z"
   },
   {
    "duration": 6,
    "start_time": "2022-05-24T06:25:37.160Z"
   },
   {
    "duration": 4,
    "start_time": "2022-05-24T06:25:40.098Z"
   },
   {
    "duration": 18,
    "start_time": "2022-05-24T06:25:41.191Z"
   },
   {
    "duration": 5,
    "start_time": "2022-05-24T06:25:41.921Z"
   },
   {
    "duration": 24,
    "start_time": "2022-05-24T06:25:42.287Z"
   },
   {
    "duration": 5,
    "start_time": "2022-05-24T06:25:42.724Z"
   },
   {
    "duration": 21,
    "start_time": "2022-05-24T06:25:43.176Z"
   },
   {
    "duration": 5,
    "start_time": "2022-05-24T06:25:43.920Z"
   },
   {
    "duration": 4,
    "start_time": "2022-05-24T06:25:44.771Z"
   },
   {
    "duration": 8,
    "start_time": "2022-05-24T06:25:45.712Z"
   },
   {
    "duration": 5,
    "start_time": "2022-05-24T06:25:46.765Z"
   },
   {
    "duration": 4,
    "start_time": "2022-05-24T06:25:47.626Z"
   },
   {
    "duration": 11,
    "start_time": "2022-05-24T06:25:48.660Z"
   },
   {
    "duration": 14,
    "start_time": "2022-05-24T06:25:50.536Z"
   },
   {
    "duration": 24,
    "start_time": "2022-05-24T06:29:51.295Z"
   },
   {
    "duration": 22,
    "start_time": "2022-05-24T06:29:58.830Z"
   },
   {
    "duration": 19,
    "start_time": "2022-05-24T06:36:47.210Z"
   },
   {
    "duration": 8,
    "start_time": "2022-05-24T06:37:46.548Z"
   },
   {
    "duration": 12,
    "start_time": "2022-05-24T06:37:59.677Z"
   },
   {
    "duration": 7,
    "start_time": "2022-05-24T06:38:46.522Z"
   },
   {
    "duration": 8,
    "start_time": "2022-05-24T08:45:02.537Z"
   },
   {
    "duration": 258,
    "start_time": "2022-05-24T08:45:07.463Z"
   },
   {
    "duration": 28,
    "start_time": "2022-05-24T08:45:31.301Z"
   },
   {
    "duration": 23,
    "start_time": "2022-05-24T08:46:33.198Z"
   },
   {
    "duration": 21,
    "start_time": "2022-05-24T08:46:54.221Z"
   },
   {
    "duration": 6,
    "start_time": "2022-05-24T08:57:43.299Z"
   },
   {
    "duration": 126,
    "start_time": "2022-05-24T08:58:18.654Z"
   },
   {
    "duration": 18,
    "start_time": "2022-05-24T08:58:20.145Z"
   },
   {
    "duration": 12,
    "start_time": "2022-05-24T08:58:20.726Z"
   },
   {
    "duration": 16,
    "start_time": "2022-05-24T08:58:21.354Z"
   },
   {
    "duration": 8,
    "start_time": "2022-05-24T08:58:21.550Z"
   },
   {
    "duration": 15,
    "start_time": "2022-05-24T08:58:22.168Z"
   },
   {
    "duration": 14,
    "start_time": "2022-05-24T08:58:22.697Z"
   },
   {
    "duration": 16,
    "start_time": "2022-05-24T08:58:23.782Z"
   },
   {
    "duration": 17,
    "start_time": "2022-05-24T08:58:24.420Z"
   },
   {
    "duration": 15,
    "start_time": "2022-05-24T08:58:24.926Z"
   },
   {
    "duration": 16,
    "start_time": "2022-05-24T08:58:25.504Z"
   },
   {
    "duration": 18,
    "start_time": "2022-05-24T08:58:26.084Z"
   },
   {
    "duration": 16,
    "start_time": "2022-05-24T08:58:29.693Z"
   },
   {
    "duration": 8,
    "start_time": "2022-05-24T08:58:30.732Z"
   },
   {
    "duration": 11,
    "start_time": "2022-05-24T08:58:31.784Z"
   },
   {
    "duration": 5,
    "start_time": "2022-05-24T08:58:32.346Z"
   },
   {
    "duration": 36,
    "start_time": "2022-05-24T08:58:33.583Z"
   },
   {
    "duration": 540559,
    "start_time": "2022-05-24T08:58:35.847Z"
   },
   {
    "duration": 5,
    "start_time": "2022-05-24T09:21:15.890Z"
   },
   {
    "duration": 26,
    "start_time": "2022-05-24T09:21:17.879Z"
   },
   {
    "duration": 7,
    "start_time": "2022-05-24T09:21:27.839Z"
   },
   {
    "duration": 7,
    "start_time": "2022-05-24T09:21:28.741Z"
   },
   {
    "duration": 20,
    "start_time": "2022-05-24T09:21:30.540Z"
   },
   {
    "duration": 6,
    "start_time": "2022-05-24T09:21:32.294Z"
   },
   {
    "duration": 8,
    "start_time": "2022-05-24T09:21:35.403Z"
   },
   {
    "duration": 29,
    "start_time": "2022-05-24T09:21:36.815Z"
   },
   {
    "duration": 6,
    "start_time": "2022-05-24T09:21:42.936Z"
   },
   {
    "duration": 25,
    "start_time": "2022-05-24T09:21:43.580Z"
   },
   {
    "duration": 6,
    "start_time": "2022-05-24T09:21:44.055Z"
   },
   {
    "duration": 31,
    "start_time": "2022-05-24T09:21:44.499Z"
   },
   {
    "duration": 6,
    "start_time": "2022-05-24T09:21:45.679Z"
   },
   {
    "duration": 5,
    "start_time": "2022-05-24T09:21:46.632Z"
   },
   {
    "duration": 8,
    "start_time": "2022-05-24T09:21:47.627Z"
   },
   {
    "duration": 9,
    "start_time": "2022-05-24T09:21:48.742Z"
   },
   {
    "duration": 5,
    "start_time": "2022-05-24T09:21:49.755Z"
   },
   {
    "duration": 11,
    "start_time": "2022-05-24T09:21:50.404Z"
   },
   {
    "duration": 15,
    "start_time": "2022-05-24T09:21:51.003Z"
   },
   {
    "duration": 27,
    "start_time": "2022-05-24T09:21:55.372Z"
   },
   {
    "duration": 8,
    "start_time": "2022-05-24T09:21:56.358Z"
   },
   {
    "duration": 11,
    "start_time": "2022-05-24T09:21:56.795Z"
   },
   {
    "duration": 6,
    "start_time": "2022-05-24T09:21:57.482Z"
   },
   {
    "duration": 7,
    "start_time": "2022-05-24T09:22:00.661Z"
   },
   {
    "duration": 7,
    "start_time": "2022-05-24T09:22:03.300Z"
   },
   {
    "duration": 13,
    "start_time": "2022-05-24T09:22:04.628Z"
   },
   {
    "duration": 9,
    "start_time": "2022-05-24T09:22:06.068Z"
   },
   {
    "duration": 13,
    "start_time": "2022-05-24T09:22:06.865Z"
   },
   {
    "duration": 8,
    "start_time": "2022-05-24T09:22:08.221Z"
   },
   {
    "duration": 15,
    "start_time": "2022-05-24T09:22:09.489Z"
   },
   {
    "duration": 9,
    "start_time": "2022-05-24T09:22:10.001Z"
   },
   {
    "duration": 5,
    "start_time": "2022-05-24T09:22:10.594Z"
   },
   {
    "duration": 13,
    "start_time": "2022-05-24T09:22:11.048Z"
   },
   {
    "duration": 7,
    "start_time": "2022-05-24T09:22:11.454Z"
   },
   {
    "duration": 7,
    "start_time": "2022-05-24T09:22:12.406Z"
   },
   {
    "duration": 37,
    "start_time": "2022-05-24T09:22:18.088Z"
   },
   {
    "duration": 5,
    "start_time": "2022-05-24T09:22:21.260Z"
   },
   {
    "duration": 34,
    "start_time": "2022-05-24T09:22:39.261Z"
   },
   {
    "duration": 11,
    "start_time": "2022-05-24T09:26:59.185Z"
   },
   {
    "duration": 1211,
    "start_time": "2022-05-24T09:34:43.362Z"
   },
   {
    "duration": 10,
    "start_time": "2022-05-24T09:40:00.492Z"
   },
   {
    "duration": 159,
    "start_time": "2022-05-24T09:40:23.312Z"
   },
   {
    "duration": 10,
    "start_time": "2022-05-24T09:40:57.943Z"
   },
   {
    "duration": 129,
    "start_time": "2022-05-24T09:41:20.914Z"
   },
   {
    "duration": 9,
    "start_time": "2022-05-24T09:42:05.207Z"
   },
   {
    "duration": 131,
    "start_time": "2022-05-24T09:42:35.700Z"
   },
   {
    "duration": 11,
    "start_time": "2022-05-24T09:43:19.212Z"
   },
   {
    "duration": 130,
    "start_time": "2022-05-24T09:43:38.858Z"
   },
   {
    "duration": 6,
    "start_time": "2022-05-24T09:46:45.807Z"
   },
   {
    "duration": 326,
    "start_time": "2022-05-24T09:46:56.986Z"
   },
   {
    "duration": 16,
    "start_time": "2022-05-24T09:46:57.938Z"
   },
   {
    "duration": 11,
    "start_time": "2022-05-24T09:46:58.265Z"
   },
   {
    "duration": 15,
    "start_time": "2022-05-24T09:46:58.867Z"
   },
   {
    "duration": 8,
    "start_time": "2022-05-24T09:46:59.137Z"
   },
   {
    "duration": 21,
    "start_time": "2022-05-24T09:46:59.688Z"
   },
   {
    "duration": 20,
    "start_time": "2022-05-24T09:46:59.980Z"
   },
   {
    "duration": 24,
    "start_time": "2022-05-24T09:47:00.588Z"
   },
   {
    "duration": 25,
    "start_time": "2022-05-24T09:47:00.843Z"
   },
   {
    "duration": 21,
    "start_time": "2022-05-24T09:47:01.423Z"
   },
   {
    "duration": 15,
    "start_time": "2022-05-24T09:47:01.989Z"
   },
   {
    "duration": 23,
    "start_time": "2022-05-24T09:47:02.558Z"
   },
   {
    "duration": 15,
    "start_time": "2022-05-24T09:47:06.606Z"
   },
   {
    "duration": 7,
    "start_time": "2022-05-24T09:47:08.213Z"
   },
   {
    "duration": 16,
    "start_time": "2022-05-24T09:47:09.897Z"
   },
   {
    "duration": 6,
    "start_time": "2022-05-24T09:47:10.496Z"
   },
   {
    "duration": 51,
    "start_time": "2022-05-24T09:47:11.061Z"
   },
   {
    "duration": 534306,
    "start_time": "2022-05-24T09:47:13.214Z"
   },
   {
    "duration": 4,
    "start_time": "2022-05-24T10:12:51.066Z"
   },
   {
    "duration": 26,
    "start_time": "2022-05-24T10:12:51.878Z"
   },
   {
    "duration": 4,
    "start_time": "2022-05-24T10:12:53.967Z"
   },
   {
    "duration": 6,
    "start_time": "2022-05-24T10:12:58.194Z"
   },
   {
    "duration": 14,
    "start_time": "2022-05-24T10:12:58.863Z"
   },
   {
    "duration": 5,
    "start_time": "2022-05-24T10:12:59.460Z"
   },
   {
    "duration": 8,
    "start_time": "2022-05-24T10:13:06.892Z"
   },
   {
    "duration": 21,
    "start_time": "2022-05-24T10:13:08.586Z"
   },
   {
    "duration": 5,
    "start_time": "2022-05-24T10:13:14.989Z"
   },
   {
    "duration": 25,
    "start_time": "2022-05-24T10:13:15.267Z"
   },
   {
    "duration": 5,
    "start_time": "2022-05-24T10:13:15.814Z"
   },
   {
    "duration": 22,
    "start_time": "2022-05-24T10:13:16.307Z"
   },
   {
    "duration": 5,
    "start_time": "2022-05-24T10:13:48.044Z"
   },
   {
    "duration": 4,
    "start_time": "2022-05-24T10:13:49.089Z"
   },
   {
    "duration": 5,
    "start_time": "2022-05-24T10:13:59.322Z"
   },
   {
    "duration": 8,
    "start_time": "2022-05-24T10:14:00.715Z"
   },
   {
    "duration": 5,
    "start_time": "2022-05-24T10:14:02.377Z"
   },
   {
    "duration": 4,
    "start_time": "2022-05-24T10:14:04.428Z"
   },
   {
    "duration": 10,
    "start_time": "2022-05-24T10:14:04.965Z"
   },
   {
    "duration": 14,
    "start_time": "2022-05-24T10:14:05.554Z"
   },
   {
    "duration": 22,
    "start_time": "2022-05-24T10:14:08.385Z"
   },
   {
    "duration": 6,
    "start_time": "2022-05-24T10:14:09.148Z"
   },
   {
    "duration": 8,
    "start_time": "2022-05-24T10:14:09.392Z"
   },
   {
    "duration": 5,
    "start_time": "2022-05-24T10:14:09.646Z"
   },
   {
    "duration": 5,
    "start_time": "2022-05-24T10:14:11.222Z"
   },
   {
    "duration": 9,
    "start_time": "2022-05-24T10:14:12.063Z"
   },
   {
    "duration": 8,
    "start_time": "2022-05-24T10:14:12.837Z"
   },
   {
    "duration": 9,
    "start_time": "2022-05-24T10:14:13.788Z"
   },
   {
    "duration": 7,
    "start_time": "2022-05-24T10:14:14.310Z"
   },
   {
    "duration": 8,
    "start_time": "2022-05-24T10:14:15.343Z"
   },
   {
    "duration": 15,
    "start_time": "2022-05-24T10:14:16.316Z"
   },
   {
    "duration": 7,
    "start_time": "2022-05-24T10:14:16.762Z"
   },
   {
    "duration": 5,
    "start_time": "2022-05-24T10:14:17.200Z"
   },
   {
    "duration": 9,
    "start_time": "2022-05-24T10:14:17.625Z"
   },
   {
    "duration": 6,
    "start_time": "2022-05-24T10:14:18.080Z"
   },
   {
    "duration": 6,
    "start_time": "2022-05-24T10:14:18.914Z"
   },
   {
    "duration": 26,
    "start_time": "2022-05-24T10:14:21.949Z"
   },
   {
    "duration": 4,
    "start_time": "2022-05-24T10:14:23.990Z"
   },
   {
    "duration": 28,
    "start_time": "2022-05-24T10:14:26.855Z"
   },
   {
    "duration": 11,
    "start_time": "2022-05-24T10:14:28.161Z"
   },
   {
    "duration": 185,
    "start_time": "2022-05-24T10:14:29.744Z"
   },
   {
    "duration": 8,
    "start_time": "2022-05-24T10:14:33.430Z"
   },
   {
    "duration": 129,
    "start_time": "2022-05-24T10:14:35.783Z"
   },
   {
    "duration": 9,
    "start_time": "2022-05-24T10:14:39.863Z"
   },
   {
    "duration": 141,
    "start_time": "2022-05-24T10:14:41.546Z"
   },
   {
    "duration": 8,
    "start_time": "2022-05-24T10:14:44.598Z"
   },
   {
    "duration": 131,
    "start_time": "2022-05-24T10:14:48.027Z"
   },
   {
    "duration": 9,
    "start_time": "2022-05-24T10:14:50.830Z"
   },
   {
    "duration": 139,
    "start_time": "2022-05-24T10:14:52.236Z"
   },
   {
    "duration": 31,
    "start_time": "2022-05-24T10:51:54.697Z"
   },
   {
    "duration": 29,
    "start_time": "2022-05-24T10:52:29.524Z"
   },
   {
    "duration": 8,
    "start_time": "2022-05-24T10:52:53.421Z"
   },
   {
    "duration": 7,
    "start_time": "2022-05-24T10:52:58.221Z"
   },
   {
    "duration": 11,
    "start_time": "2022-05-24T10:53:15.654Z"
   },
   {
    "duration": 11,
    "start_time": "2022-05-24T10:53:41.219Z"
   },
   {
    "duration": 199,
    "start_time": "2022-05-24T10:54:00.967Z"
   },
   {
    "duration": 184,
    "start_time": "2022-05-24T10:55:10.591Z"
   },
   {
    "duration": 10,
    "start_time": "2022-05-24T10:55:16.617Z"
   },
   {
    "duration": 12,
    "start_time": "2022-05-24T10:56:05.582Z"
   },
   {
    "duration": 150,
    "start_time": "2022-05-24T10:56:11.545Z"
   },
   {
    "duration": 23,
    "start_time": "2022-05-24T11:01:08.998Z"
   },
   {
    "duration": 58,
    "start_time": "2022-05-24T11:04:44.621Z"
   },
   {
    "duration": 636,
    "start_time": "2022-05-24T11:04:49.530Z"
   },
   {
    "duration": 7,
    "start_time": "2022-05-24T11:05:36.438Z"
   },
   {
    "duration": 525,
    "start_time": "2022-05-24T11:05:56.405Z"
   },
   {
    "duration": 5,
    "start_time": "2022-05-24T11:06:13.905Z"
   },
   {
    "duration": 5,
    "start_time": "2022-05-24T11:06:14.857Z"
   },
   {
    "duration": 325,
    "start_time": "2022-05-24T11:06:45.191Z"
   },
   {
    "duration": 16,
    "start_time": "2022-05-24T11:06:46.740Z"
   },
   {
    "duration": 12,
    "start_time": "2022-05-24T11:06:47.366Z"
   },
   {
    "duration": 14,
    "start_time": "2022-05-24T11:06:48.665Z"
   },
   {
    "duration": 7,
    "start_time": "2022-05-24T11:06:49.336Z"
   },
   {
    "duration": 14,
    "start_time": "2022-05-24T11:06:50.599Z"
   },
   {
    "duration": 13,
    "start_time": "2022-05-24T11:06:51.220Z"
   },
   {
    "duration": 17,
    "start_time": "2022-05-24T11:06:53.204Z"
   },
   {
    "duration": 17,
    "start_time": "2022-05-24T11:06:53.823Z"
   },
   {
    "duration": 12,
    "start_time": "2022-05-24T11:06:54.414Z"
   },
   {
    "duration": 24,
    "start_time": "2022-05-24T11:06:54.951Z"
   },
   {
    "duration": 25,
    "start_time": "2022-05-24T11:06:55.659Z"
   },
   {
    "duration": 22,
    "start_time": "2022-05-24T11:06:59.097Z"
   },
   {
    "duration": 10,
    "start_time": "2022-05-24T11:07:00.094Z"
   },
   {
    "duration": 11,
    "start_time": "2022-05-24T11:07:01.280Z"
   },
   {
    "duration": 6,
    "start_time": "2022-05-24T11:07:01.824Z"
   },
   {
    "duration": 34,
    "start_time": "2022-05-24T11:07:02.461Z"
   },
   {
    "duration": 99493,
    "start_time": "2022-05-24T11:07:04.959Z"
   },
   {
    "duration": 128,
    "start_time": "2022-05-24T11:09:19.886Z"
   },
   {
    "duration": 15,
    "start_time": "2022-05-24T11:09:21.044Z"
   },
   {
    "duration": 11,
    "start_time": "2022-05-24T11:09:21.245Z"
   },
   {
    "duration": 14,
    "start_time": "2022-05-24T11:09:22.201Z"
   },
   {
    "duration": 6,
    "start_time": "2022-05-24T11:09:22.749Z"
   },
   {
    "duration": 15,
    "start_time": "2022-05-24T11:09:23.957Z"
   },
   {
    "duration": 23,
    "start_time": "2022-05-24T11:09:24.465Z"
   },
   {
    "duration": 24,
    "start_time": "2022-05-24T11:09:25.124Z"
   },
   {
    "duration": 26,
    "start_time": "2022-05-24T11:09:25.437Z"
   },
   {
    "duration": 19,
    "start_time": "2022-05-24T11:09:25.988Z"
   },
   {
    "duration": 23,
    "start_time": "2022-05-24T11:09:26.464Z"
   },
   {
    "duration": 20,
    "start_time": "2022-05-24T11:09:26.972Z"
   },
   {
    "duration": 16,
    "start_time": "2022-05-24T11:09:29.445Z"
   },
   {
    "duration": 7,
    "start_time": "2022-05-24T11:09:30.389Z"
   },
   {
    "duration": 13,
    "start_time": "2022-05-24T11:09:31.124Z"
   },
   {
    "duration": 5,
    "start_time": "2022-05-24T11:09:31.344Z"
   },
   {
    "duration": 35,
    "start_time": "2022-05-24T11:09:31.543Z"
   },
   {
    "duration": 520303,
    "start_time": "2022-05-24T11:09:32.405Z"
   },
   {
    "duration": 5,
    "start_time": "2022-05-24T11:18:12.709Z"
   },
   {
    "duration": 32,
    "start_time": "2022-05-24T11:18:12.716Z"
   },
   {
    "duration": 14,
    "start_time": "2022-05-24T11:18:12.750Z"
   },
   {
    "duration": 8,
    "start_time": "2022-05-24T11:18:12.766Z"
   },
   {
    "duration": 17,
    "start_time": "2022-05-24T11:18:12.775Z"
   },
   {
    "duration": 4,
    "start_time": "2022-05-24T11:18:12.794Z"
   },
   {
    "duration": 12,
    "start_time": "2022-05-24T11:18:12.800Z"
   },
   {
    "duration": 32,
    "start_time": "2022-05-24T11:18:12.813Z"
   },
   {
    "duration": 5,
    "start_time": "2022-05-24T11:18:12.848Z"
   },
   {
    "duration": 27,
    "start_time": "2022-05-24T11:18:12.855Z"
   },
   {
    "duration": 6,
    "start_time": "2022-05-24T11:18:12.883Z"
   },
   {
    "duration": 21,
    "start_time": "2022-05-24T11:18:12.890Z"
   },
   {
    "duration": 32,
    "start_time": "2022-05-24T11:18:12.913Z"
   },
   {
    "duration": 5,
    "start_time": "2022-05-24T11:18:12.946Z"
   },
   {
    "duration": 9,
    "start_time": "2022-05-24T11:18:12.953Z"
   },
   {
    "duration": 12,
    "start_time": "2022-05-24T11:18:12.964Z"
   },
   {
    "duration": 8,
    "start_time": "2022-05-24T11:18:12.978Z"
   },
   {
    "duration": 6,
    "start_time": "2022-05-24T11:18:12.988Z"
   },
   {
    "duration": 18,
    "start_time": "2022-05-24T11:18:12.996Z"
   },
   {
    "duration": 44,
    "start_time": "2022-05-24T11:18:13.016Z"
   },
   {
    "duration": 30,
    "start_time": "2022-05-24T11:18:13.062Z"
   },
   {
    "duration": 5,
    "start_time": "2022-05-24T11:18:23.040Z"
   },
   {
    "duration": 10,
    "start_time": "2022-05-24T11:18:24.910Z"
   },
   {
    "duration": 4,
    "start_time": "2022-05-24T11:18:25.716Z"
   },
   {
    "duration": 6,
    "start_time": "2022-05-24T11:18:26.974Z"
   },
   {
    "duration": 15,
    "start_time": "2022-05-24T11:18:27.330Z"
   },
   {
    "duration": 6,
    "start_time": "2022-05-24T11:18:27.780Z"
   },
   {
    "duration": 6,
    "start_time": "2022-05-24T11:18:30.598Z"
   },
   {
    "duration": 21,
    "start_time": "2022-05-24T11:18:31.484Z"
   },
   {
    "duration": 5,
    "start_time": "2022-05-24T11:18:32.688Z"
   },
   {
    "duration": 28,
    "start_time": "2022-05-24T11:18:33.108Z"
   },
   {
    "duration": 5,
    "start_time": "2022-05-24T11:18:33.395Z"
   },
   {
    "duration": 21,
    "start_time": "2022-05-24T11:18:33.725Z"
   },
   {
    "duration": 5,
    "start_time": "2022-05-24T11:18:35.724Z"
   },
   {
    "duration": 7,
    "start_time": "2022-05-24T11:18:37.225Z"
   },
   {
    "duration": 7,
    "start_time": "2022-05-24T11:18:38.570Z"
   },
   {
    "duration": 11,
    "start_time": "2022-05-24T11:18:39.775Z"
   },
   {
    "duration": 6,
    "start_time": "2022-05-24T11:18:41.168Z"
   },
   {
    "duration": 6,
    "start_time": "2022-05-24T11:18:43.057Z"
   },
   {
    "duration": 11,
    "start_time": "2022-05-24T11:18:44.716Z"
   },
   {
    "duration": 13,
    "start_time": "2022-05-24T11:18:46.876Z"
   },
   {
    "duration": 20,
    "start_time": "2022-05-24T11:18:48.960Z"
   },
   {
    "duration": 7,
    "start_time": "2022-05-24T11:18:50.128Z"
   },
   {
    "duration": 8,
    "start_time": "2022-05-24T11:18:50.806Z"
   },
   {
    "duration": 5,
    "start_time": "2022-05-24T11:18:51.375Z"
   },
   {
    "duration": 6,
    "start_time": "2022-05-24T11:18:53.679Z"
   },
   {
    "duration": 7,
    "start_time": "2022-05-24T11:18:54.807Z"
   },
   {
    "duration": 9,
    "start_time": "2022-05-24T11:18:56.077Z"
   },
   {
    "duration": 10,
    "start_time": "2022-05-24T11:18:57.901Z"
   },
   {
    "duration": 5,
    "start_time": "2022-05-24T11:18:59.379Z"
   },
   {
    "duration": 8,
    "start_time": "2022-05-24T11:19:00.178Z"
   },
   {
    "duration": 12,
    "start_time": "2022-05-24T11:19:00.764Z"
   },
   {
    "duration": 8,
    "start_time": "2022-05-24T11:19:01.062Z"
   },
   {
    "duration": 9,
    "start_time": "2022-05-24T11:19:01.397Z"
   },
   {
    "duration": 12,
    "start_time": "2022-05-24T11:19:01.913Z"
   },
   {
    "duration": 5,
    "start_time": "2022-05-24T11:19:02.330Z"
   },
   {
    "duration": 6,
    "start_time": "2022-05-24T11:19:03.059Z"
   },
   {
    "duration": 24,
    "start_time": "2022-05-24T11:19:05.876Z"
   },
   {
    "duration": 5,
    "start_time": "2022-05-24T11:19:06.926Z"
   },
   {
    "duration": 25,
    "start_time": "2022-05-24T11:19:08.519Z"
   },
   {
    "duration": 10,
    "start_time": "2022-05-24T11:19:10.000Z"
   },
   {
    "duration": 142,
    "start_time": "2022-05-24T11:19:11.016Z"
   },
   {
    "duration": 10,
    "start_time": "2022-05-24T11:19:12.436Z"
   },
   {
    "duration": 149,
    "start_time": "2022-05-24T11:19:12.449Z"
   },
   {
    "duration": 8,
    "start_time": "2022-05-24T11:19:13.101Z"
   },
   {
    "duration": 146,
    "start_time": "2022-05-24T11:19:13.811Z"
   },
   {
    "duration": 10,
    "start_time": "2022-05-24T11:19:14.558Z"
   },
   {
    "duration": 173,
    "start_time": "2022-05-24T11:19:15.213Z"
   },
   {
    "duration": 11,
    "start_time": "2022-05-24T11:19:15.858Z"
   },
   {
    "duration": 153,
    "start_time": "2022-05-24T11:19:16.383Z"
   },
   {
    "duration": 6,
    "start_time": "2022-05-24T11:19:20.480Z"
   },
   {
    "duration": 162,
    "start_time": "2022-05-24T11:19:21.056Z"
   },
   {
    "duration": 9,
    "start_time": "2022-05-24T11:19:26.867Z"
   },
   {
    "duration": 151,
    "start_time": "2022-05-24T11:19:27.780Z"
   },
   {
    "duration": 30,
    "start_time": "2022-05-24T11:19:29.258Z"
   },
   {
    "duration": 6,
    "start_time": "2022-05-24T11:19:32.110Z"
   },
   {
    "duration": 174,
    "start_time": "2022-05-24T11:19:32.702Z"
   },
   {
    "duration": 23,
    "start_time": "2022-05-24T11:19:34.759Z"
   },
   {
    "duration": 11,
    "start_time": "2022-05-24T11:19:36.904Z"
   },
   {
    "duration": 210,
    "start_time": "2022-05-24T11:19:37.706Z"
   },
   {
    "duration": 9,
    "start_time": "2022-05-24T11:19:39.025Z"
   },
   {
    "duration": 314,
    "start_time": "2022-05-24T11:19:39.549Z"
   },
   {
    "duration": 8,
    "start_time": "2022-05-24T11:19:40.366Z"
   },
   {
    "duration": 200,
    "start_time": "2022-05-24T11:19:40.955Z"
   },
   {
    "duration": 13,
    "start_time": "2022-05-24T11:19:41.669Z"
   },
   {
    "duration": 242,
    "start_time": "2022-05-24T11:19:42.540Z"
   },
   {
    "duration": 8,
    "start_time": "2022-05-24T11:19:43.116Z"
   },
   {
    "duration": 208,
    "start_time": "2022-05-24T11:19:43.758Z"
   },
   {
    "duration": 9,
    "start_time": "2022-05-24T11:19:44.492Z"
   },
   {
    "duration": 198,
    "start_time": "2022-05-24T11:19:45.188Z"
   },
   {
    "duration": 26,
    "start_time": "2022-05-24T11:19:46.484Z"
   },
   {
    "duration": 25,
    "start_time": "2022-05-24T11:19:47.127Z"
   },
   {
    "duration": 20,
    "start_time": "2022-05-24T11:19:47.706Z"
   },
   {
    "duration": 20,
    "start_time": "2022-05-24T11:19:48.274Z"
   },
   {
    "duration": 18,
    "start_time": "2022-05-24T11:19:48.804Z"
   },
   {
    "duration": 7,
    "start_time": "2022-05-24T11:19:49.991Z"
   },
   {
    "duration": 6,
    "start_time": "2022-05-24T11:19:50.759Z"
   },
   {
    "duration": 6,
    "start_time": "2022-05-24T11:19:51.228Z"
   },
   {
    "duration": 7,
    "start_time": "2022-05-24T11:19:51.784Z"
   },
   {
    "duration": 6,
    "start_time": "2022-05-24T11:19:52.396Z"
   },
   {
    "duration": 4,
    "start_time": "2022-05-24T11:19:58.869Z"
   },
   {
    "duration": 6,
    "start_time": "2022-05-24T11:19:59.471Z"
   },
   {
    "duration": 7,
    "start_time": "2022-05-24T11:20:00.062Z"
   },
   {
    "duration": 5,
    "start_time": "2022-05-24T11:20:01.464Z"
   },
   {
    "duration": 179,
    "start_time": "2022-05-24T11:20:02.108Z"
   },
   {
    "duration": 6,
    "start_time": "2022-05-24T11:20:03.884Z"
   },
   {
    "duration": 199,
    "start_time": "2022-05-24T11:20:04.446Z"
   },
   {
    "duration": 4,
    "start_time": "2022-05-24T11:20:06.381Z"
   },
   {
    "duration": 6,
    "start_time": "2022-05-24T11:20:07.833Z"
   },
   {
    "duration": 5,
    "start_time": "2022-05-24T11:20:08.289Z"
   },
   {
    "duration": 31,
    "start_time": "2022-05-24T11:20:08.809Z"
   },
   {
    "duration": 29,
    "start_time": "2022-05-24T11:20:09.848Z"
   },
   {
    "duration": 25,
    "start_time": "2022-05-24T11:20:10.332Z"
   },
   {
    "duration": 26,
    "start_time": "2022-05-24T11:20:12.382Z"
   },
   {
    "duration": 26,
    "start_time": "2022-05-24T11:20:12.940Z"
   },
   {
    "duration": 731,
    "start_time": "2022-05-24T11:20:15.083Z"
   },
   {
    "duration": 1311,
    "start_time": "2022-05-24T11:40:53.754Z"
   },
   {
    "duration": 19,
    "start_time": "2022-05-24T11:40:55.068Z"
   },
   {
    "duration": 16,
    "start_time": "2022-05-24T11:40:55.088Z"
   },
   {
    "duration": 37,
    "start_time": "2022-05-24T11:40:55.106Z"
   },
   {
    "duration": 17,
    "start_time": "2022-05-24T11:40:55.150Z"
   },
   {
    "duration": 24,
    "start_time": "2022-05-24T11:40:55.169Z"
   },
   {
    "duration": 16,
    "start_time": "2022-05-24T11:40:55.195Z"
   },
   {
    "duration": 40,
    "start_time": "2022-05-24T11:40:55.213Z"
   },
   {
    "duration": 24,
    "start_time": "2022-05-24T11:40:55.255Z"
   },
   {
    "duration": 15,
    "start_time": "2022-05-24T11:40:55.280Z"
   },
   {
    "duration": 20,
    "start_time": "2022-05-24T11:40:55.297Z"
   },
   {
    "duration": 19,
    "start_time": "2022-05-24T11:40:55.340Z"
   },
   {
    "duration": 19,
    "start_time": "2022-05-24T11:40:55.361Z"
   },
   {
    "duration": 8,
    "start_time": "2022-05-24T11:40:55.383Z"
   },
   {
    "duration": 16,
    "start_time": "2022-05-24T11:40:55.393Z"
   },
   {
    "duration": 7,
    "start_time": "2022-05-24T11:40:55.442Z"
   },
   {
    "duration": 43,
    "start_time": "2022-05-24T11:40:55.451Z"
   },
   {
    "duration": 535572,
    "start_time": "2022-05-24T11:40:55.496Z"
   },
   {
    "duration": 5,
    "start_time": "2022-05-24T11:49:51.071Z"
   },
   {
    "duration": 45,
    "start_time": "2022-05-24T11:49:51.078Z"
   },
   {
    "duration": 23,
    "start_time": "2022-05-24T11:49:51.125Z"
   },
   {
    "duration": 21,
    "start_time": "2022-05-24T11:49:51.151Z"
   },
   {
    "duration": 32,
    "start_time": "2022-05-24T11:49:51.175Z"
   },
   {
    "duration": 7,
    "start_time": "2022-05-24T11:49:51.208Z"
   },
   {
    "duration": 10,
    "start_time": "2022-05-24T11:49:51.217Z"
   },
   {
    "duration": 38,
    "start_time": "2022-05-24T11:49:51.229Z"
   },
   {
    "duration": 11,
    "start_time": "2022-05-24T11:49:51.269Z"
   },
   {
    "duration": 37,
    "start_time": "2022-05-24T11:49:51.282Z"
   },
   {
    "duration": 6,
    "start_time": "2022-05-24T11:49:51.321Z"
   },
   {
    "duration": 53,
    "start_time": "2022-05-24T11:49:51.329Z"
   },
   {
    "duration": 34,
    "start_time": "2022-05-24T11:49:51.384Z"
   },
   {
    "duration": 11,
    "start_time": "2022-05-24T11:49:51.420Z"
   },
   {
    "duration": 10,
    "start_time": "2022-05-24T11:49:51.433Z"
   },
   {
    "duration": 24,
    "start_time": "2022-05-24T11:49:51.446Z"
   },
   {
    "duration": 15,
    "start_time": "2022-05-24T11:49:51.472Z"
   },
   {
    "duration": 14,
    "start_time": "2022-05-24T11:49:51.488Z"
   },
   {
    "duration": 19,
    "start_time": "2022-05-24T11:49:51.505Z"
   },
   {
    "duration": 23,
    "start_time": "2022-05-24T11:49:51.526Z"
   },
   {
    "duration": 31,
    "start_time": "2022-05-24T11:49:51.552Z"
   },
   {
    "duration": 32,
    "start_time": "2022-05-24T11:49:51.585Z"
   },
   {
    "duration": 21,
    "start_time": "2022-05-24T11:49:51.623Z"
   },
   {
    "duration": 21,
    "start_time": "2022-05-24T11:49:51.646Z"
   },
   {
    "duration": 22,
    "start_time": "2022-05-24T11:49:51.669Z"
   },
   {
    "duration": 36,
    "start_time": "2022-05-24T11:49:51.693Z"
   },
   {
    "duration": 32,
    "start_time": "2022-05-24T11:49:51.731Z"
   },
   {
    "duration": 15,
    "start_time": "2022-05-24T11:49:51.765Z"
   },
   {
    "duration": 8,
    "start_time": "2022-05-24T11:49:51.783Z"
   },
   {
    "duration": 19,
    "start_time": "2022-05-24T11:49:51.793Z"
   },
   {
    "duration": 11,
    "start_time": "2022-05-24T11:49:51.814Z"
   },
   {
    "duration": 11,
    "start_time": "2022-05-24T11:49:51.849Z"
   },
   {
    "duration": 8,
    "start_time": "2022-05-24T11:49:51.862Z"
   },
   {
    "duration": 14,
    "start_time": "2022-05-24T11:49:51.872Z"
   },
   {
    "duration": 13,
    "start_time": "2022-05-24T11:49:51.888Z"
   },
   {
    "duration": 12,
    "start_time": "2022-05-24T11:49:51.903Z"
   },
   {
    "duration": 166,
    "start_time": "2022-05-24T11:49:51.941Z"
   },
   {
    "duration": 3,
    "start_time": "2022-05-24T11:49:52.109Z"
   },
   {
    "duration": 28,
    "start_time": "2022-05-24T11:49:52.114Z"
   },
   {
    "duration": 16,
    "start_time": "2022-05-24T11:49:52.146Z"
   },
   {
    "duration": 580,
    "start_time": "2022-05-24T11:49:52.164Z"
   },
   {
    "duration": 19,
    "start_time": "2022-05-24T11:49:52.749Z"
   },
   {
    "duration": 193,
    "start_time": "2022-05-24T11:49:52.769Z"
   },
   {
    "duration": 12,
    "start_time": "2022-05-24T11:49:52.964Z"
   },
   {
    "duration": 176,
    "start_time": "2022-05-24T11:49:52.978Z"
   },
   {
    "duration": 14,
    "start_time": "2022-05-24T11:49:53.157Z"
   },
   {
    "duration": 169,
    "start_time": "2022-05-24T11:49:53.173Z"
   },
   {
    "duration": 13,
    "start_time": "2022-05-24T11:49:53.344Z"
   },
   {
    "duration": 189,
    "start_time": "2022-05-24T11:49:53.359Z"
   },
   {
    "duration": 10,
    "start_time": "2022-05-24T11:49:53.550Z"
   },
   {
    "duration": 221,
    "start_time": "2022-05-24T11:49:53.562Z"
   },
   {
    "duration": 9,
    "start_time": "2022-05-24T11:49:53.785Z"
   },
   {
    "duration": 300,
    "start_time": "2022-05-24T11:49:53.796Z"
   },
   {
    "duration": 24,
    "start_time": "2022-05-24T11:49:54.098Z"
   },
   {
    "duration": 28,
    "start_time": "2022-05-24T11:49:54.124Z"
   },
   {
    "duration": 242,
    "start_time": "2022-05-24T11:49:54.155Z"
   },
   {
    "duration": 42,
    "start_time": "2022-05-24T11:49:54.399Z"
   },
   {
    "duration": 10,
    "start_time": "2022-05-24T11:49:54.443Z"
   },
   {
    "duration": 269,
    "start_time": "2022-05-24T11:49:54.457Z"
   },
   {
    "duration": 22,
    "start_time": "2022-05-24T11:49:54.728Z"
   },
   {
    "duration": 253,
    "start_time": "2022-05-24T11:49:54.753Z"
   },
   {
    "duration": 9,
    "start_time": "2022-05-24T11:49:55.008Z"
   },
   {
    "duration": 292,
    "start_time": "2022-05-24T11:49:55.019Z"
   },
   {
    "duration": 9,
    "start_time": "2022-05-24T11:49:55.313Z"
   },
   {
    "duration": 277,
    "start_time": "2022-05-24T11:49:55.324Z"
   },
   {
    "duration": 9,
    "start_time": "2022-05-24T11:49:55.603Z"
   },
   {
    "duration": 289,
    "start_time": "2022-05-24T11:49:55.614Z"
   },
   {
    "duration": 9,
    "start_time": "2022-05-24T11:49:55.905Z"
   },
   {
    "duration": 282,
    "start_time": "2022-05-24T11:49:55.915Z"
   },
   {
    "duration": 22,
    "start_time": "2022-05-24T11:49:56.199Z"
   },
   {
    "duration": 44,
    "start_time": "2022-05-24T11:49:56.223Z"
   },
   {
    "duration": 40,
    "start_time": "2022-05-24T11:49:56.269Z"
   },
   {
    "duration": 32,
    "start_time": "2022-05-24T11:49:56.311Z"
   },
   {
    "duration": 33,
    "start_time": "2022-05-24T11:49:56.346Z"
   },
   {
    "duration": 6,
    "start_time": "2022-05-24T11:49:56.381Z"
   },
   {
    "duration": 9,
    "start_time": "2022-05-24T11:49:56.389Z"
   },
   {
    "duration": 18,
    "start_time": "2022-05-24T11:49:56.400Z"
   },
   {
    "duration": 13,
    "start_time": "2022-05-24T11:49:56.442Z"
   },
   {
    "duration": 14,
    "start_time": "2022-05-24T11:49:56.457Z"
   },
   {
    "duration": 8,
    "start_time": "2022-05-24T11:49:56.473Z"
   },
   {
    "duration": 7,
    "start_time": "2022-05-24T11:49:56.483Z"
   },
   {
    "duration": 11,
    "start_time": "2022-05-24T11:49:56.492Z"
   },
   {
    "duration": 8,
    "start_time": "2022-05-24T11:49:56.505Z"
   },
   {
    "duration": 227,
    "start_time": "2022-05-24T11:49:56.515Z"
   },
   {
    "duration": 12,
    "start_time": "2022-05-24T11:49:56.745Z"
   },
   {
    "duration": 279,
    "start_time": "2022-05-24T11:49:56.759Z"
   },
   {
    "duration": 7,
    "start_time": "2022-05-24T11:49:57.048Z"
   },
   {
    "duration": 23,
    "start_time": "2022-05-24T11:49:57.057Z"
   },
   {
    "duration": 13,
    "start_time": "2022-05-24T11:49:57.082Z"
   },
   {
    "duration": 56,
    "start_time": "2022-05-24T11:49:57.097Z"
   },
   {
    "duration": 49,
    "start_time": "2022-05-24T11:49:57.156Z"
   },
   {
    "duration": 48,
    "start_time": "2022-05-24T11:49:57.207Z"
   },
   {
    "duration": 44,
    "start_time": "2022-05-24T11:49:57.257Z"
   },
   {
    "duration": 36,
    "start_time": "2022-05-24T11:49:57.303Z"
   },
   {
    "duration": 1024,
    "start_time": "2022-05-24T11:49:57.341Z"
   },
   {
    "duration": 922,
    "start_time": "2022-05-25T06:24:31.275Z"
   },
   {
    "duration": 14,
    "start_time": "2022-05-25T06:24:32.199Z"
   },
   {
    "duration": 10,
    "start_time": "2022-05-25T06:24:32.215Z"
   },
   {
    "duration": 21,
    "start_time": "2022-05-25T06:24:32.226Z"
   },
   {
    "duration": 6,
    "start_time": "2022-05-25T06:24:32.249Z"
   },
   {
    "duration": 19,
    "start_time": "2022-05-25T06:24:32.257Z"
   },
   {
    "duration": 15,
    "start_time": "2022-05-25T06:24:32.277Z"
   },
   {
    "duration": 19,
    "start_time": "2022-05-25T06:24:32.293Z"
   },
   {
    "duration": 34,
    "start_time": "2022-05-25T06:24:32.313Z"
   },
   {
    "duration": 11,
    "start_time": "2022-05-25T06:24:32.349Z"
   },
   {
    "duration": 12,
    "start_time": "2022-05-25T06:24:32.362Z"
   },
   {
    "duration": 15,
    "start_time": "2022-05-25T06:24:32.376Z"
   },
   {
    "duration": 13,
    "start_time": "2022-05-25T06:24:32.392Z"
   },
   {
    "duration": 15,
    "start_time": "2022-05-25T06:24:32.407Z"
   },
   {
    "duration": 9,
    "start_time": "2022-05-25T06:24:32.441Z"
   },
   {
    "duration": 7,
    "start_time": "2022-05-25T06:24:32.452Z"
   },
   {
    "duration": 34,
    "start_time": "2022-05-25T06:24:32.460Z"
   },
   {
    "duration": 535738,
    "start_time": "2022-05-25T06:24:32.495Z"
   },
   {
    "duration": 5,
    "start_time": "2022-05-25T06:33:28.235Z"
   },
   {
    "duration": 28,
    "start_time": "2022-05-25T06:33:28.242Z"
   },
   {
    "duration": 5,
    "start_time": "2022-05-25T06:33:28.272Z"
   },
   {
    "duration": 6,
    "start_time": "2022-05-25T06:33:28.279Z"
   },
   {
    "duration": 12,
    "start_time": "2022-05-25T06:33:28.287Z"
   },
   {
    "duration": 4,
    "start_time": "2022-05-25T06:33:28.301Z"
   },
   {
    "duration": 40,
    "start_time": "2022-05-25T06:33:28.306Z"
   },
   {
    "duration": 21,
    "start_time": "2022-05-25T06:33:28.348Z"
   },
   {
    "duration": 10,
    "start_time": "2022-05-25T06:33:28.370Z"
   },
   {
    "duration": 25,
    "start_time": "2022-05-25T06:33:28.382Z"
   },
   {
    "duration": 4,
    "start_time": "2022-05-25T06:33:28.409Z"
   },
   {
    "duration": 41,
    "start_time": "2022-05-25T06:33:28.415Z"
   },
   {
    "duration": 8,
    "start_time": "2022-05-25T06:33:28.457Z"
   },
   {
    "duration": 9,
    "start_time": "2022-05-25T06:33:28.466Z"
   },
   {
    "duration": 7,
    "start_time": "2022-05-25T06:33:28.476Z"
   },
   {
    "duration": 11,
    "start_time": "2022-05-25T06:33:28.484Z"
   },
   {
    "duration": 6,
    "start_time": "2022-05-25T06:33:28.497Z"
   },
   {
    "duration": 6,
    "start_time": "2022-05-25T06:33:28.504Z"
   },
   {
    "duration": 36,
    "start_time": "2022-05-25T06:33:28.512Z"
   },
   {
    "duration": 13,
    "start_time": "2022-05-25T06:33:28.550Z"
   },
   {
    "duration": 24,
    "start_time": "2022-05-25T06:33:28.564Z"
   },
   {
    "duration": 6,
    "start_time": "2022-05-25T06:33:28.589Z"
   },
   {
    "duration": 43,
    "start_time": "2022-05-25T06:33:28.602Z"
   },
   {
    "duration": 5,
    "start_time": "2022-05-25T06:33:28.647Z"
   },
   {
    "duration": 5,
    "start_time": "2022-05-25T06:33:28.655Z"
   },
   {
    "duration": 9,
    "start_time": "2022-05-25T06:33:28.661Z"
   },
   {
    "duration": 12,
    "start_time": "2022-05-25T06:33:28.673Z"
   },
   {
    "duration": 14,
    "start_time": "2022-05-25T06:33:28.687Z"
   },
   {
    "duration": 44,
    "start_time": "2022-05-25T06:33:28.703Z"
   },
   {
    "duration": 10,
    "start_time": "2022-05-25T06:33:28.749Z"
   },
   {
    "duration": 14,
    "start_time": "2022-05-25T06:33:28.762Z"
   },
   {
    "duration": 9,
    "start_time": "2022-05-25T06:33:28.778Z"
   },
   {
    "duration": 10,
    "start_time": "2022-05-25T06:33:28.789Z"
   },
   {
    "duration": 11,
    "start_time": "2022-05-25T06:33:28.801Z"
   },
   {
    "duration": 7,
    "start_time": "2022-05-25T06:33:28.840Z"
   },
   {
    "duration": 9,
    "start_time": "2022-05-25T06:33:28.848Z"
   },
   {
    "duration": 202,
    "start_time": "2022-05-25T06:33:28.858Z"
   },
   {
    "duration": 4,
    "start_time": "2022-05-25T06:33:29.061Z"
   },
   {
    "duration": 27,
    "start_time": "2022-05-25T06:33:29.066Z"
   },
   {
    "duration": 9,
    "start_time": "2022-05-25T06:33:29.095Z"
   },
   {
    "duration": 573,
    "start_time": "2022-05-25T06:33:29.106Z"
   },
   {
    "duration": 11,
    "start_time": "2022-05-25T06:33:29.681Z"
   },
   {
    "duration": 163,
    "start_time": "2022-05-25T06:33:29.694Z"
   },
   {
    "duration": 8,
    "start_time": "2022-05-25T06:33:29.858Z"
   },
   {
    "duration": 156,
    "start_time": "2022-05-25T06:33:29.868Z"
   },
   {
    "duration": 18,
    "start_time": "2022-05-25T06:33:30.026Z"
   },
   {
    "duration": 135,
    "start_time": "2022-05-25T06:33:30.046Z"
   },
   {
    "duration": 11,
    "start_time": "2022-05-25T06:33:30.183Z"
   },
   {
    "duration": 219,
    "start_time": "2022-05-25T06:33:30.196Z"
   },
   {
    "duration": 5,
    "start_time": "2022-05-25T06:33:30.417Z"
   },
   {
    "duration": 166,
    "start_time": "2022-05-25T06:33:30.424Z"
   },
   {
    "duration": 9,
    "start_time": "2022-05-25T06:33:30.591Z"
   },
   {
    "duration": 156,
    "start_time": "2022-05-25T06:33:30.601Z"
   },
   {
    "duration": 19,
    "start_time": "2022-05-25T06:33:30.759Z"
   },
   {
    "duration": 6,
    "start_time": "2022-05-25T06:33:30.780Z"
   },
   {
    "duration": 202,
    "start_time": "2022-05-25T06:33:30.787Z"
   },
   {
    "duration": 22,
    "start_time": "2022-05-25T06:33:30.991Z"
   },
   {
    "duration": 26,
    "start_time": "2022-05-25T06:33:31.015Z"
   },
   {
    "duration": 204,
    "start_time": "2022-05-25T06:33:31.044Z"
   },
   {
    "duration": 8,
    "start_time": "2022-05-25T06:33:31.249Z"
   },
   {
    "duration": 197,
    "start_time": "2022-05-25T06:33:31.259Z"
   },
   {
    "duration": 7,
    "start_time": "2022-05-25T06:33:31.458Z"
   },
   {
    "duration": 201,
    "start_time": "2022-05-25T06:33:31.466Z"
   },
   {
    "duration": 7,
    "start_time": "2022-05-25T06:33:31.668Z"
   },
   {
    "duration": 241,
    "start_time": "2022-05-25T06:33:31.677Z"
   },
   {
    "duration": 9,
    "start_time": "2022-05-25T06:33:31.920Z"
   },
   {
    "duration": 215,
    "start_time": "2022-05-25T06:33:31.942Z"
   },
   {
    "duration": 8,
    "start_time": "2022-05-25T06:33:32.158Z"
   },
   {
    "duration": 200,
    "start_time": "2022-05-25T06:33:32.167Z"
   },
   {
    "duration": 19,
    "start_time": "2022-05-25T06:33:32.368Z"
   },
   {
    "duration": 19,
    "start_time": "2022-05-25T06:33:32.389Z"
   },
   {
    "duration": 42,
    "start_time": "2022-05-25T06:33:32.409Z"
   },
   {
    "duration": 23,
    "start_time": "2022-05-25T06:33:32.453Z"
   },
   {
    "duration": 24,
    "start_time": "2022-05-25T06:33:32.477Z"
   },
   {
    "duration": 14,
    "start_time": "2022-05-25T06:33:32.503Z"
   },
   {
    "duration": 13,
    "start_time": "2022-05-25T06:33:32.518Z"
   },
   {
    "duration": 22,
    "start_time": "2022-05-25T06:33:32.532Z"
   },
   {
    "duration": 20,
    "start_time": "2022-05-25T06:33:32.556Z"
   },
   {
    "duration": 17,
    "start_time": "2022-05-25T06:33:32.577Z"
   },
   {
    "duration": 14,
    "start_time": "2022-05-25T06:33:32.595Z"
   },
   {
    "duration": 22,
    "start_time": "2022-05-25T06:33:32.611Z"
   },
   {
    "duration": 13,
    "start_time": "2022-05-25T06:33:32.635Z"
   },
   {
    "duration": 9,
    "start_time": "2022-05-25T06:33:32.650Z"
   },
   {
    "duration": 161,
    "start_time": "2022-05-25T06:33:32.661Z"
   },
   {
    "duration": 6,
    "start_time": "2022-05-25T06:33:32.823Z"
   },
   {
    "duration": 268,
    "start_time": "2022-05-25T06:33:32.830Z"
   },
   {
    "duration": 4,
    "start_time": "2022-05-25T06:33:33.100Z"
   },
   {
    "duration": 12,
    "start_time": "2022-05-25T06:33:33.105Z"
   },
   {
    "duration": 13,
    "start_time": "2022-05-25T06:33:33.119Z"
   },
   {
    "duration": 28,
    "start_time": "2022-05-25T06:33:33.134Z"
   },
   {
    "duration": 38,
    "start_time": "2022-05-25T06:33:33.163Z"
   },
   {
    "duration": 36,
    "start_time": "2022-05-25T06:33:33.202Z"
   },
   {
    "duration": 38,
    "start_time": "2022-05-25T06:33:33.240Z"
   },
   {
    "duration": 33,
    "start_time": "2022-05-25T06:33:33.280Z"
   },
   {
    "duration": 704,
    "start_time": "2022-05-25T06:33:33.315Z"
   },
   {
    "duration": 8,
    "start_time": "2022-05-25T06:55:28.371Z"
   },
   {
    "duration": 4,
    "start_time": "2022-05-25T07:13:06.154Z"
   },
   {
    "duration": 57,
    "start_time": "2022-05-25T07:52:47.832Z"
   },
   {
    "duration": 936,
    "start_time": "2022-05-25T07:53:02.888Z"
   },
   {
    "duration": 16,
    "start_time": "2022-05-25T07:53:03.825Z"
   },
   {
    "duration": 11,
    "start_time": "2022-05-25T07:53:03.842Z"
   },
   {
    "duration": 21,
    "start_time": "2022-05-25T07:53:03.855Z"
   },
   {
    "duration": 6,
    "start_time": "2022-05-25T07:53:03.878Z"
   },
   {
    "duration": 15,
    "start_time": "2022-05-25T07:53:03.885Z"
   },
   {
    "duration": 17,
    "start_time": "2022-05-25T07:53:03.902Z"
   },
   {
    "duration": 16,
    "start_time": "2022-05-25T07:53:03.921Z"
   },
   {
    "duration": 19,
    "start_time": "2022-05-25T07:53:03.938Z"
   },
   {
    "duration": 11,
    "start_time": "2022-05-25T07:53:03.960Z"
   },
   {
    "duration": 33,
    "start_time": "2022-05-25T07:53:03.973Z"
   },
   {
    "duration": 16,
    "start_time": "2022-05-25T07:53:04.008Z"
   },
   {
    "duration": 15,
    "start_time": "2022-05-25T07:53:04.026Z"
   },
   {
    "duration": 8,
    "start_time": "2022-05-25T07:53:04.043Z"
   },
   {
    "duration": 9,
    "start_time": "2022-05-25T07:53:04.053Z"
   },
   {
    "duration": 5,
    "start_time": "2022-05-25T07:53:04.095Z"
   },
   {
    "duration": 37,
    "start_time": "2022-05-25T07:53:04.101Z"
   },
   {
    "duration": 469716,
    "start_time": "2022-05-25T07:53:05.117Z"
   },
   {
    "duration": 5,
    "start_time": "2022-05-25T08:00:54.835Z"
   },
   {
    "duration": 30,
    "start_time": "2022-05-25T08:00:54.841Z"
   },
   {
    "duration": 5,
    "start_time": "2022-05-25T08:00:54.873Z"
   },
   {
    "duration": 19,
    "start_time": "2022-05-25T08:00:54.880Z"
   },
   {
    "duration": 15,
    "start_time": "2022-05-25T08:00:54.900Z"
   },
   {
    "duration": 4,
    "start_time": "2022-05-25T08:00:54.917Z"
   },
   {
    "duration": 6,
    "start_time": "2022-05-25T08:00:54.922Z"
   },
   {
    "duration": 19,
    "start_time": "2022-05-25T08:00:54.929Z"
   },
   {
    "duration": 4,
    "start_time": "2022-05-25T08:00:54.950Z"
   },
   {
    "duration": 47,
    "start_time": "2022-05-25T08:00:54.956Z"
   },
   {
    "duration": 5,
    "start_time": "2022-05-25T08:00:55.004Z"
   },
   {
    "duration": 21,
    "start_time": "2022-05-25T08:00:55.011Z"
   },
   {
    "duration": 5,
    "start_time": "2022-05-25T08:00:55.035Z"
   },
   {
    "duration": 7,
    "start_time": "2022-05-25T08:00:55.041Z"
   },
   {
    "duration": 6,
    "start_time": "2022-05-25T08:00:55.049Z"
   },
   {
    "duration": 8,
    "start_time": "2022-05-25T08:00:55.057Z"
   },
   {
    "duration": 32,
    "start_time": "2022-05-25T08:00:55.066Z"
   },
   {
    "duration": 9,
    "start_time": "2022-05-25T08:00:55.099Z"
   },
   {
    "duration": 13,
    "start_time": "2022-05-25T08:00:55.109Z"
   },
   {
    "duration": 15,
    "start_time": "2022-05-25T08:00:55.124Z"
   },
   {
    "duration": 20,
    "start_time": "2022-05-25T08:00:55.140Z"
   },
   {
    "duration": 5,
    "start_time": "2022-05-25T08:00:55.161Z"
   },
   {
    "duration": 30,
    "start_time": "2022-05-25T08:00:55.168Z"
   },
   {
    "duration": 4,
    "start_time": "2022-05-25T08:00:55.200Z"
   },
   {
    "duration": 7,
    "start_time": "2022-05-25T08:00:55.205Z"
   },
   {
    "duration": 7,
    "start_time": "2022-05-25T08:00:55.213Z"
   },
   {
    "duration": 16,
    "start_time": "2022-05-25T08:00:55.221Z"
   },
   {
    "duration": 11,
    "start_time": "2022-05-25T08:00:55.239Z"
   },
   {
    "duration": 7,
    "start_time": "2022-05-25T08:00:55.251Z"
   },
   {
    "duration": 8,
    "start_time": "2022-05-25T08:00:55.260Z"
   },
   {
    "duration": 10,
    "start_time": "2022-05-25T08:00:55.295Z"
   },
   {
    "duration": 13,
    "start_time": "2022-05-25T08:00:55.307Z"
   },
   {
    "duration": 10,
    "start_time": "2022-05-25T08:00:55.321Z"
   },
   {
    "duration": 11,
    "start_time": "2022-05-25T08:00:55.332Z"
   },
   {
    "duration": 6,
    "start_time": "2022-05-25T08:00:55.344Z"
   },
   {
    "duration": 5,
    "start_time": "2022-05-25T08:00:55.351Z"
   },
   {
    "duration": 236,
    "start_time": "2022-05-25T08:00:55.358Z"
   },
   {
    "duration": 3,
    "start_time": "2022-05-25T08:00:55.596Z"
   },
   {
    "duration": 23,
    "start_time": "2022-05-25T08:00:55.600Z"
   },
   {
    "duration": 10,
    "start_time": "2022-05-25T08:00:55.627Z"
   },
   {
    "duration": 573,
    "start_time": "2022-05-25T08:00:55.638Z"
   },
   {
    "duration": 9,
    "start_time": "2022-05-25T08:00:56.213Z"
   },
   {
    "duration": 149,
    "start_time": "2022-05-25T08:00:56.223Z"
   },
   {
    "duration": 8,
    "start_time": "2022-05-25T08:00:56.374Z"
   },
   {
    "duration": 132,
    "start_time": "2022-05-25T08:00:56.383Z"
   },
   {
    "duration": 8,
    "start_time": "2022-05-25T08:00:56.516Z"
   },
   {
    "duration": 130,
    "start_time": "2022-05-25T08:00:56.525Z"
   },
   {
    "duration": 11,
    "start_time": "2022-05-25T08:00:56.657Z"
   },
   {
    "duration": 4,
    "start_time": "2022-05-25T08:00:56.670Z"
   },
   {
    "duration": 147,
    "start_time": "2022-05-25T08:00:56.675Z"
   },
   {
    "duration": 6,
    "start_time": "2022-05-25T08:00:56.824Z"
   },
   {
    "duration": 156,
    "start_time": "2022-05-25T08:00:56.831Z"
   },
   {
    "duration": 9,
    "start_time": "2022-05-25T08:00:56.989Z"
   },
   {
    "duration": 157,
    "start_time": "2022-05-25T08:00:56.999Z"
   },
   {
    "duration": 21,
    "start_time": "2022-05-25T08:00:57.158Z"
   },
   {
    "duration": 18,
    "start_time": "2022-05-25T08:00:57.180Z"
   },
   {
    "duration": 189,
    "start_time": "2022-05-25T08:00:57.199Z"
   },
   {
    "duration": 24,
    "start_time": "2022-05-25T08:00:57.389Z"
   },
   {
    "duration": 7,
    "start_time": "2022-05-25T08:00:57.415Z"
   },
   {
    "duration": 191,
    "start_time": "2022-05-25T08:00:57.424Z"
   },
   {
    "duration": 8,
    "start_time": "2022-05-25T08:00:57.617Z"
   },
   {
    "duration": 249,
    "start_time": "2022-05-25T08:00:57.626Z"
   },
   {
    "duration": 17,
    "start_time": "2022-05-25T08:00:57.877Z"
   },
   {
    "duration": 211,
    "start_time": "2022-05-25T08:00:57.896Z"
   },
   {
    "duration": 8,
    "start_time": "2022-05-25T08:00:58.108Z"
   },
   {
    "duration": 203,
    "start_time": "2022-05-25T08:00:58.117Z"
   },
   {
    "duration": 8,
    "start_time": "2022-05-25T08:00:58.322Z"
   },
   {
    "duration": 227,
    "start_time": "2022-05-25T08:00:58.331Z"
   },
   {
    "duration": 8,
    "start_time": "2022-05-25T08:00:58.560Z"
   },
   {
    "duration": 221,
    "start_time": "2022-05-25T08:00:58.570Z"
   },
   {
    "duration": 21,
    "start_time": "2022-05-25T08:00:58.794Z"
   },
   {
    "duration": 25,
    "start_time": "2022-05-25T08:00:58.817Z"
   },
   {
    "duration": 34,
    "start_time": "2022-05-25T08:00:58.843Z"
   },
   {
    "duration": 47,
    "start_time": "2022-05-25T08:00:58.881Z"
   },
   {
    "duration": 24,
    "start_time": "2022-05-25T08:00:58.931Z"
   },
   {
    "duration": 21,
    "start_time": "2022-05-25T08:00:58.958Z"
   },
   {
    "duration": 13,
    "start_time": "2022-05-25T08:00:58.981Z"
   },
   {
    "duration": 16,
    "start_time": "2022-05-25T08:00:58.996Z"
   },
   {
    "duration": 15,
    "start_time": "2022-05-25T08:00:59.014Z"
   },
   {
    "duration": 15,
    "start_time": "2022-05-25T08:00:59.031Z"
   },
   {
    "duration": 10,
    "start_time": "2022-05-25T08:00:59.048Z"
   },
   {
    "duration": 18,
    "start_time": "2022-05-25T08:00:59.060Z"
   },
   {
    "duration": 19,
    "start_time": "2022-05-25T08:00:59.080Z"
   },
   {
    "duration": 9,
    "start_time": "2022-05-25T08:00:59.101Z"
   },
   {
    "duration": 171,
    "start_time": "2022-05-25T08:00:59.113Z"
   },
   {
    "duration": 6,
    "start_time": "2022-05-25T08:00:59.293Z"
   },
   {
    "duration": 170,
    "start_time": "2022-05-25T08:00:59.301Z"
   },
   {
    "duration": 4,
    "start_time": "2022-05-25T08:00:59.472Z"
   },
   {
    "duration": 17,
    "start_time": "2022-05-25T08:00:59.477Z"
   },
   {
    "duration": 5,
    "start_time": "2022-05-25T08:00:59.495Z"
   },
   {
    "duration": 27,
    "start_time": "2022-05-25T08:00:59.502Z"
   },
   {
    "duration": 21,
    "start_time": "2022-05-25T08:00:59.530Z"
   },
   {
    "duration": 25,
    "start_time": "2022-05-25T08:00:59.553Z"
   },
   {
    "duration": 34,
    "start_time": "2022-05-25T08:00:59.580Z"
   },
   {
    "duration": 25,
    "start_time": "2022-05-25T08:00:59.616Z"
   },
   {
    "duration": 739,
    "start_time": "2022-05-25T08:00:59.643Z"
   },
   {
    "duration": 94,
    "start_time": "2022-05-25T08:07:27.319Z"
   },
   {
    "duration": 24,
    "start_time": "2022-05-25T08:07:49.541Z"
   },
   {
    "duration": 27,
    "start_time": "2022-05-25T08:08:11.413Z"
   },
   {
    "duration": 26,
    "start_time": "2022-05-25T08:08:40.330Z"
   },
   {
    "duration": 25,
    "start_time": "2022-05-25T08:08:59.768Z"
   },
   {
    "duration": 15,
    "start_time": "2022-05-25T08:14:22.956Z"
   },
   {
    "duration": 29,
    "start_time": "2022-05-25T08:14:32.187Z"
   },
   {
    "duration": 25,
    "start_time": "2022-05-25T08:15:14.221Z"
   },
   {
    "duration": 34,
    "start_time": "2022-05-25T08:15:43.192Z"
   },
   {
    "duration": 11,
    "start_time": "2022-05-25T08:15:59.015Z"
   },
   {
    "duration": 137,
    "start_time": "2022-05-25T08:16:25.936Z"
   },
   {
    "duration": 9,
    "start_time": "2022-05-25T08:16:30.580Z"
   },
   {
    "duration": 46,
    "start_time": "2022-05-25T08:16:46.022Z"
   },
   {
    "duration": 48,
    "start_time": "2022-05-25T08:16:49.970Z"
   },
   {
    "duration": 94,
    "start_time": "2022-05-25T08:16:52.556Z"
   },
   {
    "duration": 8,
    "start_time": "2022-05-25T08:17:57.555Z"
   },
   {
    "duration": 6,
    "start_time": "2022-05-25T08:21:36.003Z"
   },
   {
    "duration": 8,
    "start_time": "2022-05-25T08:22:08.395Z"
   },
   {
    "duration": 7,
    "start_time": "2022-05-25T08:22:17.533Z"
   },
   {
    "duration": 8,
    "start_time": "2022-05-25T08:22:36.563Z"
   },
   {
    "duration": 125,
    "start_time": "2022-05-25T08:25:30.481Z"
   },
   {
    "duration": 167,
    "start_time": "2022-05-25T08:27:00.047Z"
   },
   {
    "duration": 142,
    "start_time": "2022-05-25T08:27:06.679Z"
   }
  ],
  "kernelspec": {
   "display_name": "Python 3 (ipykernel)",
   "language": "python",
   "name": "python3"
  },
  "language_info": {
   "codemirror_mode": {
    "name": "ipython",
    "version": 3
   },
   "file_extension": ".py",
   "mimetype": "text/x-python",
   "name": "python",
   "nbconvert_exporter": "python",
   "pygments_lexer": "ipython3",
   "version": "3.9.12"
  },
  "toc": {
   "base_numbering": 1,
   "nav_menu": {},
   "number_sections": true,
   "sideBar": true,
   "skip_h1_title": true,
   "title_cell": "Table of Contents",
   "title_sidebar": "Contents",
   "toc_cell": false,
   "toc_position": {},
   "toc_section_display": true,
   "toc_window_display": false
  }
 },
 "nbformat": 4,
 "nbformat_minor": 5
}
