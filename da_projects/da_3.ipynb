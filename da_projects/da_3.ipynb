{
 "cells": [
  {
   "cell_type": "markdown",
   "metadata": {},
   "source": [
    "# Исследования рынка общепита в Москве для принятия решения об открытии нового заведения"
   ]
  },
  {
   "cell_type": "markdown",
   "metadata": {},
   "source": [
    "## Описание проекта"
   ]
  },
  {
   "cell_type": "markdown",
   "metadata": {},
   "source": [
    "<b>Цель:</b> исследование рынка общественного питания на основе открытых данных, подготовка презентации для инвесторов <br>\n",
    "<b>Описание:</b> мною был исследован вопрос - будет ли успешным и популярным на долгое время кафе, в\n",
    "котором гостей обслуживают роботы-официанты. По результатам анализа подготовлена\n",
    "презентация для инвесторов с рекомендациями. В построении графиков я использовали\n",
    "библиотеки seaborn и plotly. "
   ]
  },
  {
   "cell_type": "markdown",
   "metadata": {},
   "source": [
    "# Описание данных"
   ]
  },
  {
   "cell_type": "markdown",
   "metadata": {},
   "source": [
    "Таблица `rest_data`:\n",
    "\n",
    "- `id` — идентификатор объекта;\n",
    "- `object_name` — название объекта общественного питания;\n",
    "- `chain` — сетевой ресторан;\n",
    "- `object_type` — тип объекта общественного питания;\n",
    "- `address` — адрес;\n",
    "- `number` — количество посадочных мест."
   ]
  },
  {
   "cell_type": "markdown",
   "metadata": {},
   "source": [
    "## Шаг №1. Загрузка данных и подготовка их к анализу"
   ]
  },
  {
   "cell_type": "code",
   "execution_count": 1,
   "metadata": {},
   "outputs": [],
   "source": [
    "import pandas as pd\n",
    "import seaborn as sns\n",
    "import numpy as np\n",
    "import requests\n",
    "from bs4 import BeautifulSoup\n",
    "from itertools import zip_longest\n",
    "\n",
    "\n",
    "server_path = '/datasets/rest_data.csv'   \n",
    "local_path= 'datasets/rest_data.csv'              \n",
    "\n",
    "try:\n",
    "    df = pd.read_csv(server_path)    \n",
    "except: \n",
    "    df = pd.read_csv(local_path)\n",
    "\n",
    "    \n",
    "pd.options.display.float_format = '{:,.2f}'.format"
   ]
  },
  {
   "cell_type": "markdown",
   "metadata": {},
   "source": [
    "### Проверка типов данных столбцов "
   ]
  },
  {
   "cell_type": "code",
   "execution_count": 2,
   "metadata": {},
   "outputs": [
    {
     "name": "stdout",
     "output_type": "stream",
     "text": [
      "<class 'pandas.core.frame.DataFrame'>\n",
      "RangeIndex: 15366 entries, 0 to 15365\n",
      "Data columns (total 6 columns):\n",
      " #   Column       Non-Null Count  Dtype \n",
      "---  ------       --------------  ----- \n",
      " 0   id           15366 non-null  int64 \n",
      " 1   object_name  15366 non-null  object\n",
      " 2   chain        15366 non-null  object\n",
      " 3   object_type  15366 non-null  object\n",
      " 4   address      15366 non-null  object\n",
      " 5   number       15366 non-null  int64 \n",
      "dtypes: int64(2), object(4)\n",
      "memory usage: 720.4+ KB\n"
     ]
    }
   ],
   "source": [
    "df.info()"
   ]
  },
  {
   "cell_type": "code",
   "execution_count": 3,
   "metadata": {},
   "outputs": [
    {
     "data": {
      "text/html": [
       "<div>\n",
       "<style scoped>\n",
       "    .dataframe tbody tr th:only-of-type {\n",
       "        vertical-align: middle;\n",
       "    }\n",
       "\n",
       "    .dataframe tbody tr th {\n",
       "        vertical-align: top;\n",
       "    }\n",
       "\n",
       "    .dataframe thead th {\n",
       "        text-align: right;\n",
       "    }\n",
       "</style>\n",
       "<table border=\"1\" class=\"dataframe\">\n",
       "  <thead>\n",
       "    <tr style=\"text-align: right;\">\n",
       "      <th></th>\n",
       "      <th>id</th>\n",
       "      <th>object_name</th>\n",
       "      <th>chain</th>\n",
       "      <th>object_type</th>\n",
       "      <th>address</th>\n",
       "      <th>number</th>\n",
       "    </tr>\n",
       "  </thead>\n",
       "  <tbody>\n",
       "    <tr>\n",
       "      <th>0</th>\n",
       "      <td>151635</td>\n",
       "      <td>СМЕТАНА</td>\n",
       "      <td>нет</td>\n",
       "      <td>кафе</td>\n",
       "      <td>город Москва, улица Егора Абакумова, дом 9</td>\n",
       "      <td>48</td>\n",
       "    </tr>\n",
       "    <tr>\n",
       "      <th>1</th>\n",
       "      <td>77874</td>\n",
       "      <td>Родник</td>\n",
       "      <td>нет</td>\n",
       "      <td>кафе</td>\n",
       "      <td>город Москва, улица Талалихина, дом 2/1, корпус 1</td>\n",
       "      <td>35</td>\n",
       "    </tr>\n",
       "    <tr>\n",
       "      <th>2</th>\n",
       "      <td>24309</td>\n",
       "      <td>Кафе «Академия»</td>\n",
       "      <td>нет</td>\n",
       "      <td>кафе</td>\n",
       "      <td>город Москва, Абельмановская улица, дом 6</td>\n",
       "      <td>95</td>\n",
       "    </tr>\n",
       "    <tr>\n",
       "      <th>3</th>\n",
       "      <td>21894</td>\n",
       "      <td>ПИЦЦЕТОРИЯ</td>\n",
       "      <td>да</td>\n",
       "      <td>кафе</td>\n",
       "      <td>город Москва, Абрамцевская улица, дом 1</td>\n",
       "      <td>40</td>\n",
       "    </tr>\n",
       "    <tr>\n",
       "      <th>4</th>\n",
       "      <td>119365</td>\n",
       "      <td>Кафе «Вишневая метель»</td>\n",
       "      <td>нет</td>\n",
       "      <td>кафе</td>\n",
       "      <td>город Москва, Абрамцевская улица, дом 9, корпус 1</td>\n",
       "      <td>50</td>\n",
       "    </tr>\n",
       "  </tbody>\n",
       "</table>\n",
       "</div>"
      ],
      "text/plain": [
       "       id             object_name chain object_type  \\\n",
       "0  151635                 СМЕТАНА   нет        кафе   \n",
       "1   77874                  Родник   нет        кафе   \n",
       "2   24309         Кафе «Академия»   нет        кафе   \n",
       "3   21894              ПИЦЦЕТОРИЯ    да        кафе   \n",
       "4  119365  Кафе «Вишневая метель»   нет        кафе   \n",
       "\n",
       "                                             address  number  \n",
       "0         город Москва, улица Егора Абакумова, дом 9      48  \n",
       "1  город Москва, улица Талалихина, дом 2/1, корпус 1      35  \n",
       "2          город Москва, Абельмановская улица, дом 6      95  \n",
       "3            город Москва, Абрамцевская улица, дом 1      40  \n",
       "4  город Москва, Абрамцевская улица, дом 9, корпус 1      50  "
      ]
     },
     "execution_count": 3,
     "metadata": {},
     "output_type": "execute_result"
    }
   ],
   "source": [
    "df.head()"
   ]
  },
  {
   "cell_type": "code",
   "execution_count": 4,
   "metadata": {},
   "outputs": [
    {
     "data": {
      "text/html": [
       "<div>\n",
       "<style scoped>\n",
       "    .dataframe tbody tr th:only-of-type {\n",
       "        vertical-align: middle;\n",
       "    }\n",
       "\n",
       "    .dataframe tbody tr th {\n",
       "        vertical-align: top;\n",
       "    }\n",
       "\n",
       "    .dataframe thead th {\n",
       "        text-align: right;\n",
       "    }\n",
       "</style>\n",
       "<table border=\"1\" class=\"dataframe\">\n",
       "  <thead>\n",
       "    <tr style=\"text-align: right;\">\n",
       "      <th></th>\n",
       "      <th>id</th>\n",
       "      <th>object_name</th>\n",
       "      <th>chain</th>\n",
       "      <th>object_type</th>\n",
       "      <th>address</th>\n",
       "      <th>number</th>\n",
       "    </tr>\n",
       "  </thead>\n",
       "  <tbody>\n",
       "    <tr>\n",
       "      <th>1386</th>\n",
       "      <td>22331</td>\n",
       "      <td>СТОЛОВАЯ МИЭТ</td>\n",
       "      <td>нет</td>\n",
       "      <td>столовая</td>\n",
       "      <td>город Москва, город Зеленоград, улица Юности, ...</td>\n",
       "      <td>56</td>\n",
       "    </tr>\n",
       "    <tr>\n",
       "      <th>1405</th>\n",
       "      <td>20199</td>\n",
       "      <td>ЭТО</td>\n",
       "      <td>нет</td>\n",
       "      <td>кафе</td>\n",
       "      <td>город Москва, город Зеленоград, корпус 401</td>\n",
       "      <td>35</td>\n",
       "    </tr>\n",
       "    <tr>\n",
       "      <th>1406</th>\n",
       "      <td>68113</td>\n",
       "      <td>Френдс</td>\n",
       "      <td>нет</td>\n",
       "      <td>кафе</td>\n",
       "      <td>город Москва, город Зеленоград, корпус 435</td>\n",
       "      <td>34</td>\n",
       "    </tr>\n",
       "    <tr>\n",
       "      <th>1407</th>\n",
       "      <td>20105</td>\n",
       "      <td>Кафе «Граф Монте-Кристо»</td>\n",
       "      <td>нет</td>\n",
       "      <td>кафе</td>\n",
       "      <td>город Москва, город Зеленоград, корпус 436</td>\n",
       "      <td>40</td>\n",
       "    </tr>\n",
       "    <tr>\n",
       "      <th>1408</th>\n",
       "      <td>22982</td>\n",
       "      <td>Альфорно</td>\n",
       "      <td>нет</td>\n",
       "      <td>кафе</td>\n",
       "      <td>город Москва, город Зеленоград, корпус 438</td>\n",
       "      <td>49</td>\n",
       "    </tr>\n",
       "    <tr>\n",
       "      <th>...</th>\n",
       "      <td>...</td>\n",
       "      <td>...</td>\n",
       "      <td>...</td>\n",
       "      <td>...</td>\n",
       "      <td>...</td>\n",
       "      <td>...</td>\n",
       "    </tr>\n",
       "    <tr>\n",
       "      <th>14478</th>\n",
       "      <td>211676</td>\n",
       "      <td>Никольский</td>\n",
       "      <td>нет</td>\n",
       "      <td>ресторан</td>\n",
       "      <td>город Москва, город Зеленоград, корпус 532</td>\n",
       "      <td>120</td>\n",
       "    </tr>\n",
       "    <tr>\n",
       "      <th>14479</th>\n",
       "      <td>220992</td>\n",
       "      <td>Dolce crema</td>\n",
       "      <td>нет</td>\n",
       "      <td>предприятие быстрого обслуживания</td>\n",
       "      <td>город Москва, город Зеленоград, Панфиловский п...</td>\n",
       "      <td>0</td>\n",
       "    </tr>\n",
       "    <tr>\n",
       "      <th>15137</th>\n",
       "      <td>209920</td>\n",
       "      <td>Дюшес</td>\n",
       "      <td>да</td>\n",
       "      <td>ресторан</td>\n",
       "      <td>город Москва, город Зеленоград, Проезд № 4806,...</td>\n",
       "      <td>100</td>\n",
       "    </tr>\n",
       "    <tr>\n",
       "      <th>15183</th>\n",
       "      <td>205739</td>\n",
       "      <td>Пицца Паоло и Бенто WOK</td>\n",
       "      <td>да</td>\n",
       "      <td>кафе</td>\n",
       "      <td>город Москва, город Зеленоград, Панфиловский п...</td>\n",
       "      <td>30</td>\n",
       "    </tr>\n",
       "    <tr>\n",
       "      <th>15184</th>\n",
       "      <td>220587</td>\n",
       "      <td>Пицца Паоло</td>\n",
       "      <td>да</td>\n",
       "      <td>кафетерий</td>\n",
       "      <td>город Москва, город Зеленоград, корпус 1627</td>\n",
       "      <td>0</td>\n",
       "    </tr>\n",
       "  </tbody>\n",
       "</table>\n",
       "<p>234 rows × 6 columns</p>\n",
       "</div>"
      ],
      "text/plain": [
       "           id               object_name chain  \\\n",
       "1386    22331             СТОЛОВАЯ МИЭТ   нет   \n",
       "1405    20199                       ЭТО   нет   \n",
       "1406    68113                    Френдс   нет   \n",
       "1407    20105  Кафе «Граф Монте-Кристо»   нет   \n",
       "1408    22982                  Альфорно   нет   \n",
       "...       ...                       ...   ...   \n",
       "14478  211676                Никольский   нет   \n",
       "14479  220992               Dolce crema   нет   \n",
       "15137  209920                     Дюшес    да   \n",
       "15183  205739   Пицца Паоло и Бенто WOK    да   \n",
       "15184  220587               Пицца Паоло    да   \n",
       "\n",
       "                             object_type  \\\n",
       "1386                            столовая   \n",
       "1405                                кафе   \n",
       "1406                                кафе   \n",
       "1407                                кафе   \n",
       "1408                                кафе   \n",
       "...                                  ...   \n",
       "14478                           ресторан   \n",
       "14479  предприятие быстрого обслуживания   \n",
       "15137                           ресторан   \n",
       "15183                               кафе   \n",
       "15184                          кафетерий   \n",
       "\n",
       "                                                 address  number  \n",
       "1386   город Москва, город Зеленоград, улица Юности, ...      56  \n",
       "1405          город Москва, город Зеленоград, корпус 401      35  \n",
       "1406          город Москва, город Зеленоград, корпус 435      34  \n",
       "1407          город Москва, город Зеленоград, корпус 436      40  \n",
       "1408          город Москва, город Зеленоград, корпус 438      49  \n",
       "...                                                  ...     ...  \n",
       "14478         город Москва, город Зеленоград, корпус 532     120  \n",
       "14479  город Москва, город Зеленоград, Панфиловский п...       0  \n",
       "15137  город Москва, город Зеленоград, Проезд № 4806,...     100  \n",
       "15183  город Москва, город Зеленоград, Панфиловский п...      30  \n",
       "15184        город Москва, город Зеленоград, корпус 1627       0  \n",
       "\n",
       "[234 rows x 6 columns]"
      ]
     },
     "execution_count": 4,
     "metadata": {},
     "output_type": "execute_result"
    }
   ],
   "source": [
    "df[df['address'].str.contains(\"Зеленоград\")]"
   ]
  },
  {
   "cell_type": "markdown",
   "metadata": {},
   "source": [
    "### Поиск дубликатов "
   ]
  },
  {
   "cell_type": "markdown",
   "metadata": {},
   "source": [
    "Найдем явные дубликаты"
   ]
  },
  {
   "cell_type": "code",
   "execution_count": 5,
   "metadata": {},
   "outputs": [
    {
     "name": "stdout",
     "output_type": "stream",
     "text": [
      "кол-во явных дубликатов: 0\n"
     ]
    }
   ],
   "source": [
    "print('кол-во явных дубликатов:', df.duplicated().sum())"
   ]
  },
  {
   "cell_type": "code",
   "execution_count": 6,
   "metadata": {},
   "outputs": [
    {
     "name": "stdout",
     "output_type": "stream",
     "text": [
      "кол-во дубликатов в id: 0\n",
      "кол-во дубликатов в object_name: 4973\n",
      "кол-во дубликатов в address: 6258\n"
     ]
    }
   ],
   "source": [
    "print('кол-во дубликатов в id:', df['id'].duplicated().sum())\n",
    "print('кол-во дубликатов в object_name:', df['object_name'].duplicated().sum())\n",
    "print('кол-во дубликатов в address:', df['address'].duplicated().sum())\n"
   ]
  },
  {
   "cell_type": "markdown",
   "metadata": {},
   "source": [
    "Приведем столбец с названиями ресторанав к одному регистру."
   ]
  },
  {
   "cell_type": "code",
   "execution_count": 7,
   "metadata": {},
   "outputs": [],
   "source": [
    "df['object_name'] = df['object_name'].str.lower()"
   ]
  },
  {
   "cell_type": "markdown",
   "metadata": {},
   "source": [
    "Так же удалим знаки препинания"
   ]
  },
  {
   "cell_type": "code",
   "execution_count": 8,
   "metadata": {},
   "outputs": [
    {
     "data": {
      "text/html": [
       "<div>\n",
       "<style scoped>\n",
       "    .dataframe tbody tr th:only-of-type {\n",
       "        vertical-align: middle;\n",
       "    }\n",
       "\n",
       "    .dataframe tbody tr th {\n",
       "        vertical-align: top;\n",
       "    }\n",
       "\n",
       "    .dataframe thead th {\n",
       "        text-align: right;\n",
       "    }\n",
       "</style>\n",
       "<table border=\"1\" class=\"dataframe\">\n",
       "  <thead>\n",
       "    <tr style=\"text-align: right;\">\n",
       "      <th></th>\n",
       "      <th>id</th>\n",
       "      <th>object_name</th>\n",
       "      <th>chain</th>\n",
       "      <th>object_type</th>\n",
       "      <th>address</th>\n",
       "      <th>number</th>\n",
       "    </tr>\n",
       "  </thead>\n",
       "  <tbody>\n",
       "    <tr>\n",
       "      <th>0</th>\n",
       "      <td>151635</td>\n",
       "      <td>сметана</td>\n",
       "      <td>нет</td>\n",
       "      <td>кафе</td>\n",
       "      <td>город Москва, улица Егора Абакумова, дом 9</td>\n",
       "      <td>48</td>\n",
       "    </tr>\n",
       "    <tr>\n",
       "      <th>1</th>\n",
       "      <td>77874</td>\n",
       "      <td>родник</td>\n",
       "      <td>нет</td>\n",
       "      <td>кафе</td>\n",
       "      <td>город Москва, улица Талалихина, дом 2/1, корпус 1</td>\n",
       "      <td>35</td>\n",
       "    </tr>\n",
       "    <tr>\n",
       "      <th>2</th>\n",
       "      <td>24309</td>\n",
       "      <td>кафе академия</td>\n",
       "      <td>нет</td>\n",
       "      <td>кафе</td>\n",
       "      <td>город Москва, Абельмановская улица, дом 6</td>\n",
       "      <td>95</td>\n",
       "    </tr>\n",
       "    <tr>\n",
       "      <th>3</th>\n",
       "      <td>21894</td>\n",
       "      <td>пиццетория</td>\n",
       "      <td>да</td>\n",
       "      <td>кафе</td>\n",
       "      <td>город Москва, Абрамцевская улица, дом 1</td>\n",
       "      <td>40</td>\n",
       "    </tr>\n",
       "    <tr>\n",
       "      <th>4</th>\n",
       "      <td>119365</td>\n",
       "      <td>кафе вишневая метель</td>\n",
       "      <td>нет</td>\n",
       "      <td>кафе</td>\n",
       "      <td>город Москва, Абрамцевская улица, дом 9, корпус 1</td>\n",
       "      <td>50</td>\n",
       "    </tr>\n",
       "  </tbody>\n",
       "</table>\n",
       "</div>"
      ],
      "text/plain": [
       "       id           object_name chain object_type  \\\n",
       "0  151635               сметана   нет        кафе   \n",
       "1   77874                родник   нет        кафе   \n",
       "2   24309         кафе академия   нет        кафе   \n",
       "3   21894            пиццетория    да        кафе   \n",
       "4  119365  кафе вишневая метель   нет        кафе   \n",
       "\n",
       "                                             address  number  \n",
       "0         город Москва, улица Егора Абакумова, дом 9      48  \n",
       "1  город Москва, улица Талалихина, дом 2/1, корпус 1      35  \n",
       "2          город Москва, Абельмановская улица, дом 6      95  \n",
       "3            город Москва, Абрамцевская улица, дом 1      40  \n",
       "4  город Москва, Абрамцевская улица, дом 9, корпус 1      50  "
      ]
     },
     "execution_count": 8,
     "metadata": {},
     "output_type": "execute_result"
    }
   ],
   "source": [
    "df['object_name'] = df['object_name'].str.replace(r'[^\\w\\s]+', '', regex=True)\n",
    "df.head()"
   ]
  },
  {
   "cell_type": "code",
   "execution_count": 9,
   "metadata": {},
   "outputs": [
    {
     "name": "stdout",
     "output_type": "stream",
     "text": [
      "кол-во явных дубликатов: 0\n"
     ]
    }
   ],
   "source": [
    "print('кол-во явных дубликатов:', df.duplicated().sum())"
   ]
  },
  {
   "cell_type": "markdown",
   "metadata": {},
   "source": [
    "Проверим на дубликаты по двум столбцам"
   ]
  },
  {
   "cell_type": "code",
   "execution_count": 10,
   "metadata": {},
   "outputs": [
    {
     "data": {
      "text/plain": [
       "228"
      ]
     },
     "execution_count": 10,
     "metadata": {},
     "output_type": "execute_result"
    }
   ],
   "source": [
    "df.duplicated(subset=['object_name','address']).sum()"
   ]
  },
  {
   "cell_type": "markdown",
   "metadata": {},
   "source": [
    "Как видим есть дубликаты по названию и адрессу. Удалим данные дубликаты"
   ]
  },
  {
   "cell_type": "code",
   "execution_count": 11,
   "metadata": {},
   "outputs": [
    {
     "data": {
      "text/plain": [
       "0"
      ]
     },
     "execution_count": 11,
     "metadata": {},
     "output_type": "execute_result"
    }
   ],
   "source": [
    "df = df.drop_duplicates(subset=['object_name','address'])\n",
    "df.duplicated(subset=['object_name','address']).sum()"
   ]
  },
  {
   "cell_type": "markdown",
   "metadata": {},
   "source": [
    "Найдем пропуски по всем столбцам:"
   ]
  },
  {
   "cell_type": "code",
   "execution_count": 12,
   "metadata": {},
   "outputs": [
    {
     "data": {
      "text/plain": [
       "id             0\n",
       "object_name    0\n",
       "chain          0\n",
       "object_type    0\n",
       "address        0\n",
       "number         0\n",
       "dtype: int64"
      ]
     },
     "execution_count": 12,
     "metadata": {},
     "output_type": "execute_result"
    }
   ],
   "source": [
    "df.isna().sum()"
   ]
  },
  {
   "cell_type": "markdown",
   "metadata": {},
   "source": [
    "Проверим категориальные столбцы chain и object_type на уникальные значения в этих столбцах."
   ]
  },
  {
   "cell_type": "code",
   "execution_count": 13,
   "metadata": {},
   "outputs": [
    {
     "data": {
      "text/plain": [
       "array(['нет', 'да'], dtype=object)"
      ]
     },
     "execution_count": 13,
     "metadata": {},
     "output_type": "execute_result"
    }
   ],
   "source": [
    "df['chain'].unique()"
   ]
  },
  {
   "cell_type": "code",
   "execution_count": 14,
   "metadata": {},
   "outputs": [
    {
     "data": {
      "text/plain": [
       "array(['кафе', 'столовая', 'закусочная',\n",
       "       'предприятие быстрого обслуживания', 'ресторан', 'кафетерий',\n",
       "       'буфет', 'бар', 'магазин (отдел кулинарии)'], dtype=object)"
      ]
     },
     "execution_count": 14,
     "metadata": {},
     "output_type": "execute_result"
    }
   ],
   "source": [
    "df['object_type'].unique()"
   ]
  },
  {
   "cell_type": "markdown",
   "metadata": {},
   "source": [
    "### Вывод: "
   ]
  },
  {
   "cell_type": "markdown",
   "metadata": {},
   "source": [
    "как видно в таблице все столбцы соответвуют правильным типам данных. В таблице отсутвуют полные дубликаты, а так же пропуски. Были проанализированны столбцы на дубликаты. В названиях и адресе могут встречаться дубли т.к. есть заведения с одинаковыми названиями, а так же есть заведения располагающиеся по одному адресу. Были найденны дубли по двум столбца: название и адресс, данные дубли были удалены."
   ]
  },
  {
   "cell_type": "markdown",
   "metadata": {},
   "source": [
    "## Шаг №2. Анализ данных"
   ]
  },
  {
   "cell_type": "markdown",
   "metadata": {},
   "source": [
    "### Вопрос 1 "
   ]
  },
  {
   "cell_type": "markdown",
   "metadata": {},
   "source": [
    "Исследуйте соотношение видов объектов общественного питания по количеству. Постройте график."
   ]
  },
  {
   "cell_type": "code",
   "execution_count": 15,
   "metadata": {},
   "outputs": [
    {
     "data": {
      "text/plain": [
       "<AxesSubplot:ylabel='object_type'>"
      ]
     },
     "execution_count": 15,
     "metadata": {},
     "output_type": "execute_result"
    },
    {
     "data": {
      "image/png": "[encoded data removed]",
      "text/plain": [
       "<Figure size 1440x1296 with 1 Axes>"
      ]
     },
     "metadata": {},
     "output_type": "display_data"
    }
   ],
   "source": [
    "df.groupby('object_type')['object_type'].count().sort_values(ascending=False).plot(kind='pie', figsize=(20,18))"
   ]
  },
  {
   "cell_type": "markdown",
   "metadata": {},
   "source": [
    "Вывод: как видно из полученных данных большую часть рынка общственного питания занимают кафе. На втором, третьем и четвертом месте расположились Столовые, Рестораны и Предприятия общественного пистания. Все остальные типы заведений занимают значительно меньшую долю рынка."
   ]
  },
  {
   "cell_type": "markdown",
   "metadata": {},
   "source": [
    "### Вопрос 2 "
   ]
  },
  {
   "cell_type": "markdown",
   "metadata": {},
   "source": [
    "Исследуйте соотношение сетевых и несетевых заведений по количеству. Постройте график."
   ]
  },
  {
   "cell_type": "code",
   "execution_count": 16,
   "metadata": {},
   "outputs": [
    {
     "name": "stdout",
     "output_type": "stream",
     "text": [
      "Получилось сетевых заведений: 2936\n",
      "Получилось не сетевых заведений: 12202\n",
      "Соотношение сетевых/ не сетевых ресторанов: 0.24061629241108015\n"
     ]
    }
   ],
   "source": [
    "chain_restaurants = df[df['chain'] == 'да']\n",
    "\n",
    "\n",
    "unchain_restaurants = df[df['chain'] == 'нет']\n",
    "\n",
    "\n",
    "print('Получилось сетевых заведений:', chain_restaurants['chain'].count())\n",
    "print('Получилось не сетевых заведений:', unchain_restaurants['chain'].count())\n",
    "print('Соотношение сетевых/ не сетевых ресторанов:', chain_restaurants['chain'].count() / unchain_restaurants['chain'].count())"
   ]
  },
  {
   "cell_type": "code",
   "execution_count": 17,
   "metadata": {},
   "outputs": [
    {
     "data": {
      "text/plain": [
       "<AxesSubplot:xlabel='chain'>"
      ]
     },
     "execution_count": 17,
     "metadata": {},
     "output_type": "execute_result"
    },
    {
     "data": {
      "image/png": "[encoded data removed]",
      "text/plain": [
       "<Figure size 936x576 with 1 Axes>"
      ]
     },
     "metadata": {
      "needs_background": "light"
     },
     "output_type": "display_data"
    }
   ],
   "source": [
    "df['chain'] = df['chain'].str.replace('да', 'сетевой', regex=True)\n",
    "df['chain'] = df['chain'].str.replace('нет', 'не сетевой', regex=True)\n",
    "df.groupby('chain')['chain'].count().sort_values(ascending=False).plot(kind='bar', figsize=(13,8))"
   ]
  },
  {
   "cell_type": "markdown",
   "metadata": {},
   "source": [
    "Вывод: как видно из полученных данных не сетевых заведений общественного питания больше практически на 76%, чем сетевых."
   ]
  },
  {
   "cell_type": "markdown",
   "metadata": {},
   "source": [
    "### Вопрос 3 "
   ]
  },
  {
   "cell_type": "markdown",
   "metadata": {},
   "source": [
    "Для какого вида объекта общественного питания характерно сетевое распространение?"
   ]
  },
  {
   "cell_type": "code",
   "execution_count": 18,
   "metadata": {},
   "outputs": [
    {
     "data": {
      "text/html": [
       "<div>\n",
       "<style scoped>\n",
       "    .dataframe tbody tr th:only-of-type {\n",
       "        vertical-align: middle;\n",
       "    }\n",
       "\n",
       "    .dataframe tbody tr th {\n",
       "        vertical-align: top;\n",
       "    }\n",
       "\n",
       "    .dataframe thead th {\n",
       "        text-align: right;\n",
       "    }\n",
       "</style>\n",
       "<table border=\"1\" class=\"dataframe\">\n",
       "  <thead>\n",
       "    <tr style=\"text-align: right;\">\n",
       "      <th></th>\n",
       "      <th>object_type</th>\n",
       "      <th>count chain</th>\n",
       "      <th>uncount chain</th>\n",
       "    </tr>\n",
       "  </thead>\n",
       "  <tbody>\n",
       "    <tr>\n",
       "      <th>0</th>\n",
       "      <td>бар</td>\n",
       "      <td>37</td>\n",
       "      <td>849</td>\n",
       "    </tr>\n",
       "    <tr>\n",
       "      <th>1</th>\n",
       "      <td>буфет</td>\n",
       "      <td>9</td>\n",
       "      <td>565</td>\n",
       "    </tr>\n",
       "    <tr>\n",
       "      <th>2</th>\n",
       "      <td>закусочная</td>\n",
       "      <td>56</td>\n",
       "      <td>344</td>\n",
       "    </tr>\n",
       "    <tr>\n",
       "      <th>3</th>\n",
       "      <td>кафе</td>\n",
       "      <td>1382</td>\n",
       "      <td>5991</td>\n",
       "    </tr>\n",
       "    <tr>\n",
       "      <th>4</th>\n",
       "      <td>кафетерий</td>\n",
       "      <td>51</td>\n",
       "      <td>392</td>\n",
       "    </tr>\n",
       "    <tr>\n",
       "      <th>5</th>\n",
       "      <td>магазин (отдел кулинарии)</td>\n",
       "      <td>78</td>\n",
       "      <td>272</td>\n",
       "    </tr>\n",
       "    <tr>\n",
       "      <th>6</th>\n",
       "      <td>предприятие быстрого обслуживания</td>\n",
       "      <td>782</td>\n",
       "      <td>1885</td>\n",
       "    </tr>\n",
       "    <tr>\n",
       "      <th>7</th>\n",
       "      <td>ресторан</td>\n",
       "      <td>538</td>\n",
       "      <td>2268</td>\n",
       "    </tr>\n",
       "    <tr>\n",
       "      <th>8</th>\n",
       "      <td>столовая</td>\n",
       "      <td>3</td>\n",
       "      <td>2572</td>\n",
       "    </tr>\n",
       "  </tbody>\n",
       "</table>\n",
       "</div>"
      ],
      "text/plain": [
       "                         object_type  count chain  uncount chain\n",
       "0                                бар           37            849\n",
       "1                              буфет            9            565\n",
       "2                         закусочная           56            344\n",
       "3                               кафе         1382           5991\n",
       "4                          кафетерий           51            392\n",
       "5          магазин (отдел кулинарии)           78            272\n",
       "6  предприятие быстрого обслуживания          782           1885\n",
       "7                           ресторан          538           2268\n",
       "8                           столовая            3           2572"
      ]
     },
     "execution_count": 18,
     "metadata": {},
     "output_type": "execute_result"
    }
   ],
   "source": [
    "#chain_restaurants.groupby('object_type')['object_name'].count().sort_values(ascending=True)\n",
    "chain_restaurants1 = chain_restaurants\n",
    "chain_restaurants = chain_restaurants.groupby('object_type')['object_name'].count().reset_index()\n",
    "unchain_restaurants = df.groupby('object_type')['object_name'].count().reset_index()\n",
    "chain_restaurants.rename( columns={'object_name':'count chain'}, inplace=True )\n",
    "unchain_restaurants.rename( columns={'object_name':'uncount chain'}, inplace=True )\n",
    "chain_restaurants = chain_restaurants.merge(unchain_restaurants, how='left')\n",
    "chain_restaurants"
   ]
  },
  {
   "cell_type": "code",
   "execution_count": 19,
   "metadata": {},
   "outputs": [
    {
     "data": {
      "text/html": [
       "<div>\n",
       "<style scoped>\n",
       "    .dataframe tbody tr th:only-of-type {\n",
       "        vertical-align: middle;\n",
       "    }\n",
       "\n",
       "    .dataframe tbody tr th {\n",
       "        vertical-align: top;\n",
       "    }\n",
       "\n",
       "    .dataframe thead th {\n",
       "        text-align: right;\n",
       "    }\n",
       "</style>\n",
       "<table border=\"1\" class=\"dataframe\">\n",
       "  <thead>\n",
       "    <tr style=\"text-align: right;\">\n",
       "      <th></th>\n",
       "      <th>object_type</th>\n",
       "      <th>count chain</th>\n",
       "      <th>uncount chain</th>\n",
       "      <th>fraction</th>\n",
       "    </tr>\n",
       "  </thead>\n",
       "  <tbody>\n",
       "    <tr>\n",
       "      <th>6</th>\n",
       "      <td>предприятие быстрого обслуживания</td>\n",
       "      <td>782</td>\n",
       "      <td>1885</td>\n",
       "      <td>0.41</td>\n",
       "    </tr>\n",
       "    <tr>\n",
       "      <th>5</th>\n",
       "      <td>магазин (отдел кулинарии)</td>\n",
       "      <td>78</td>\n",
       "      <td>272</td>\n",
       "      <td>0.29</td>\n",
       "    </tr>\n",
       "    <tr>\n",
       "      <th>7</th>\n",
       "      <td>ресторан</td>\n",
       "      <td>538</td>\n",
       "      <td>2268</td>\n",
       "      <td>0.24</td>\n",
       "    </tr>\n",
       "    <tr>\n",
       "      <th>3</th>\n",
       "      <td>кафе</td>\n",
       "      <td>1382</td>\n",
       "      <td>5991</td>\n",
       "      <td>0.23</td>\n",
       "    </tr>\n",
       "    <tr>\n",
       "      <th>2</th>\n",
       "      <td>закусочная</td>\n",
       "      <td>56</td>\n",
       "      <td>344</td>\n",
       "      <td>0.16</td>\n",
       "    </tr>\n",
       "    <tr>\n",
       "      <th>4</th>\n",
       "      <td>кафетерий</td>\n",
       "      <td>51</td>\n",
       "      <td>392</td>\n",
       "      <td>0.13</td>\n",
       "    </tr>\n",
       "    <tr>\n",
       "      <th>0</th>\n",
       "      <td>бар</td>\n",
       "      <td>37</td>\n",
       "      <td>849</td>\n",
       "      <td>0.04</td>\n",
       "    </tr>\n",
       "    <tr>\n",
       "      <th>1</th>\n",
       "      <td>буфет</td>\n",
       "      <td>9</td>\n",
       "      <td>565</td>\n",
       "      <td>0.02</td>\n",
       "    </tr>\n",
       "    <tr>\n",
       "      <th>8</th>\n",
       "      <td>столовая</td>\n",
       "      <td>3</td>\n",
       "      <td>2572</td>\n",
       "      <td>0.00</td>\n",
       "    </tr>\n",
       "  </tbody>\n",
       "</table>\n",
       "</div>"
      ],
      "text/plain": [
       "                         object_type  count chain  uncount chain  fraction\n",
       "6  предприятие быстрого обслуживания          782           1885      0.41\n",
       "5          магазин (отдел кулинарии)           78            272      0.29\n",
       "7                           ресторан          538           2268      0.24\n",
       "3                               кафе         1382           5991      0.23\n",
       "2                         закусочная           56            344      0.16\n",
       "4                          кафетерий           51            392      0.13\n",
       "0                                бар           37            849      0.04\n",
       "1                              буфет            9            565      0.02\n",
       "8                           столовая            3           2572      0.00"
      ]
     },
     "execution_count": 19,
     "metadata": {},
     "output_type": "execute_result"
    }
   ],
   "source": [
    "chain_restaurants['fraction'] = chain_restaurants['count chain'] / chain_restaurants['uncount chain']\n",
    "chain_restaurants.sort_values(by='fraction', ascending=False)"
   ]
  },
  {
   "cell_type": "markdown",
   "metadata": {},
   "source": [
    "Вывод: как видно из полученных данных для предприятия быстрого обслуживания характерно сетевое распространение."
   ]
  },
  {
   "cell_type": "markdown",
   "metadata": {},
   "source": [
    "### Вопрос 4 "
   ]
  },
  {
   "cell_type": "markdown",
   "metadata": {},
   "source": [
    "Что характерно для сетевых заведений: много заведений с небольшим числом посадочных мест в каждом или мало заведений с большим количеством посадочных мест?"
   ]
  },
  {
   "cell_type": "code",
   "execution_count": 20,
   "metadata": {},
   "outputs": [
    {
     "name": "stdout",
     "output_type": "stream",
     "text": [
      "       count   mean\n",
      "count 246.00 246.00\n",
      "mean   10.70  59.28\n",
      "std    22.28  50.16\n",
      "min     2.00   0.00\n",
      "25%     2.00  20.54\n",
      "50%     4.00  43.50\n",
      "75%     7.75  85.00\n",
      "max   154.00 258.67\n",
      "AxesSubplot(0.125,0.125;0.775x0.755)\n"
     ]
    },
    {
     "data": {
      "image/png": "[encoded data removed]",
      "text/plain": [
       "<Figure size 936x576 with 1 Axes>"
      ]
     },
     "metadata": {
      "needs_background": "light"
     },
     "output_type": "display_data"
    }
   ],
   "source": [
    "agg_func_math = {\n",
    "    'object_name': ['count'],\n",
    "    'number' : ['mean']\n",
    "}\n",
    "dfs1 = chain_restaurants1.groupby('object_name', as_index=True).agg(agg_func_math).reset_index(drop=True)\n",
    "\n",
    "#dfs1 = dfs1.apply(lambda x: x[x.index(level=1)[\"count\"] > 1])\n",
    "dfs1.columns = [tup[1] if tup[1] else tup[0] for tup in dfs1.columns]\n",
    "dfs1 = dfs1[dfs1['count'] > 1]\n",
    "\n",
    "\n",
    "print(dfs1.describe())\n",
    "\n",
    "dfs_plot = dfs1.boxplot(figsize=(13,8))\n",
    "import matplotlib.pyplot as plt\n",
    "\n",
    "plt.ylim(-50, 300)\n",
    "print(dfs_plot)"
   ]
  },
  {
   "cell_type": "code",
   "execution_count": 21,
   "metadata": {},
   "outputs": [
    {
     "name": "stdout",
     "output_type": "stream",
     "text": [
      "По кол-ву заведений в сети\n",
      "заведений в 1 группе: 236\n",
      "заведений в 2 группе: 6\n",
      "заведений в 3 группе: 4\n",
      "По кол-ву посадочных мест\n",
      "заведений в 1 группе: 134\n",
      "заведений в 2 группе: 57\n",
      "заведений в 3 группе: 49\n"
     ]
    }
   ],
   "source": [
    "print('По кол-ву заведений в сети')\n",
    "object_name_gr1 = dfs1[(dfs1['count'] > 1) & (dfs1['count'] < 51)]\n",
    "object_name_gr2 = dfs1[(dfs1['count'] > 50) & (dfs1['count'] < 100)]\n",
    "object_name_gr3 = dfs1[(dfs1['count'] > 99) & (dfs1['count'] < 170)]\n",
    "print('заведений в 1 группе:', object_name_gr1['count'].count())\n",
    "print('заведений в 2 группе:', object_name_gr2['count'].count())\n",
    "print('заведений в 3 группе:', object_name_gr3['count'].count())\n",
    "\n",
    "print('По кол-ву посадочных мест')\n",
    "object_name_gr1 = dfs1[(dfs1['mean'] > 0) & (dfs1['mean'] < 51)]\n",
    "object_name_gr2 = dfs1[(dfs1['mean'] > 50) & (dfs1['mean'] < 100)]\n",
    "object_name_gr3 = dfs1[(dfs1['mean'] > 100) & (dfs1['mean'] < 400)]\n",
    "print('заведений в 1 группе:', object_name_gr1['mean'].count())\n",
    "print('заведений в 2 группе:', object_name_gr2['mean'].count())\n",
    "print('заведений в 3 группе:', object_name_gr3['mean'].count())"
   ]
  },
  {
   "cell_type": "code",
   "execution_count": 22,
   "metadata": {},
   "outputs": [
    {
     "data": {
      "text/plain": [
       "мало заведений\\много мест                     44\n",
       "мало заведений\\мало мест                      41\n",
       "мало заведений\\среднее число мест             35\n",
       "много заведений\\среднее число мест            27\n",
       "много заведений\\мало мест                     23\n",
       "много заведений\\много мест                    22\n",
       "среднее число заведений\\среднее число мест    20\n",
       "среднее число заведений\\мало мест             18\n",
       "среднее число заведений\\много мест            16\n",
       "dtype: int64"
      ]
     },
     "execution_count": 22,
     "metadata": {},
     "output_type": "execute_result"
    }
   ],
   "source": [
    "# Код ревьюера\n",
    "\n",
    "(pd.qcut(dfs1['count'], q=3, labels=['мало заведений', 'среднее число заведений', 'много заведений']).astype('str') + \n",
    "    '\\\\' +\n",
    "pd.qcut(dfs1['mean'], q=3, labels=['мало мест', 'среднее число мест', 'много мест']).astype('str')).value_counts()"
   ]
  },
  {
   "cell_type": "code",
   "execution_count": 23,
   "metadata": {},
   "outputs": [
    {
     "name": "stdout",
     "output_type": "stream",
     "text": [
      "Наткнуться на сеть с большим числом посадочных мест и небольшим числом заведений в сети:\n",
      "0.17886178861788618\n",
      "Наткнуться на сеть с небольшим числом посадочных мест и большим числом заведений в сети:\n",
      "0.09349593495934959\n",
      "Наткнуться на сеть с небольшим числом посадочных мест и небольшим числом заведений в сети:\n",
      "0.16666666666666666\n",
      "Наткнуться на сеть с большим числом посадочных мест и большим числом заведений в сети:\n",
      "0.08943089430894309\n"
     ]
    }
   ],
   "source": [
    "print('Наткнуться на сеть с большим числом посадочных мест и небольшим числом заведений в сети:')\n",
    "print(44/246)\n",
    "print('Наткнуться на сеть с небольшим числом посадочных мест и большим числом заведений в сети:')\n",
    "print(23/246)\n",
    "print('Наткнуться на сеть с небольшим числом посадочных мест и небольшим числом заведений в сети:')\n",
    "print(41/246)\n",
    "print('Наткнуться на сеть с большим числом посадочных мест и большим числом заведений в сети:')\n",
    "print(22/246)"
   ]
  },
  {
   "cell_type": "markdown",
   "metadata": {},
   "source": [
    "Вывод: из полученных данных видно что для сетевых заведений характерно: мало заведений с большим количеством посадочных мест. Так же стоить отметить что так же характерно для сетевых заведений: сети с небольшим кол-в посадочных мест и небольшим числом заведений в сети."
   ]
  },
  {
   "cell_type": "markdown",
   "metadata": {},
   "source": [
    "### Вопрос 5 "
   ]
  },
  {
   "cell_type": "markdown",
   "metadata": {},
   "source": [
    "Для каждого вида объекта общественного питания опишите среднее количество посадочных мест. Какой вид предоставляет в среднем самое большое количество посадочных мест? Постройте графики."
   ]
  },
  {
   "cell_type": "code",
   "execution_count": 24,
   "metadata": {},
   "outputs": [
    {
     "data": {
      "text/plain": [
       "object_type\n",
       "столовая                            112.33\n",
       "ресторан                            100.81\n",
       "бар                                  53.03\n",
       "кафе                                 47.54\n",
       "предприятие быстрого обслуживания    40.21\n",
       "закусочная                           14.38\n",
       "кафетерий                            12.51\n",
       "магазин (отдел кулинарии)             8.68\n",
       "буфет                                 7.78\n",
       "Name: number, dtype: float64"
      ]
     },
     "execution_count": 24,
     "metadata": {},
     "output_type": "execute_result"
    }
   ],
   "source": [
    "chain_restaurants1.groupby('object_type')['number'].mean().sort_values(ascending=False)"
   ]
  },
  {
   "cell_type": "code",
   "execution_count": 25,
   "metadata": {},
   "outputs": [
    {
     "data": {
      "text/plain": [
       "<AxesSubplot:ylabel='object_type'>"
      ]
     },
     "execution_count": 25,
     "metadata": {},
     "output_type": "execute_result"
    },
    {
     "data": {
      "image/png": "[encoded data removed]",
      "text/plain": [
       "<Figure size 936x576 with 1 Axes>"
      ]
     },
     "metadata": {
      "needs_background": "light"
     },
     "output_type": "display_data"
    }
   ],
   "source": [
    "chain_restaurants1.groupby('object_type')['number'].mean().sort_values(ascending=True).plot(kind='barh', figsize=(13,8))"
   ]
  },
  {
   "cell_type": "markdown",
   "metadata": {},
   "source": [
    "Вывод: как видно из полученных данных в среднем самое большое ко-во посадочных мест находятся в столовых (в среднем 112 мест)."
   ]
  },
  {
   "cell_type": "markdown",
   "metadata": {},
   "source": [
    "### Вопрос 6 "
   ]
  },
  {
   "cell_type": "markdown",
   "metadata": {},
   "source": [
    "Выделите в отдельный столбец информацию об улице из столбца address ."
   ]
  },
  {
   "cell_type": "code",
   "execution_count": 26,
   "metadata": {},
   "outputs": [
    {
     "data": {
      "text/html": [
       "<div>\n",
       "<style scoped>\n",
       "    .dataframe tbody tr th:only-of-type {\n",
       "        vertical-align: middle;\n",
       "    }\n",
       "\n",
       "    .dataframe tbody tr th {\n",
       "        vertical-align: top;\n",
       "    }\n",
       "\n",
       "    .dataframe thead th {\n",
       "        text-align: right;\n",
       "    }\n",
       "</style>\n",
       "<table border=\"1\" class=\"dataframe\">\n",
       "  <thead>\n",
       "    <tr style=\"text-align: right;\">\n",
       "      <th></th>\n",
       "      <th>id</th>\n",
       "      <th>object_name</th>\n",
       "      <th>chain</th>\n",
       "      <th>object_type</th>\n",
       "      <th>address</th>\n",
       "      <th>number</th>\n",
       "      <th>street</th>\n",
       "    </tr>\n",
       "  </thead>\n",
       "  <tbody>\n",
       "    <tr>\n",
       "      <th>0</th>\n",
       "      <td>151635</td>\n",
       "      <td>сметана</td>\n",
       "      <td>не сетевой</td>\n",
       "      <td>кафе</td>\n",
       "      <td>город Москва, улица Егора Абакумова, дом 9</td>\n",
       "      <td>48</td>\n",
       "      <td>Егора Абакумова</td>\n",
       "    </tr>\n",
       "    <tr>\n",
       "      <th>1</th>\n",
       "      <td>77874</td>\n",
       "      <td>родник</td>\n",
       "      <td>не сетевой</td>\n",
       "      <td>кафе</td>\n",
       "      <td>город Москва, улица Талалихина, дом 2/1, корпус 1</td>\n",
       "      <td>35</td>\n",
       "      <td>Талалихина</td>\n",
       "    </tr>\n",
       "    <tr>\n",
       "      <th>2</th>\n",
       "      <td>24309</td>\n",
       "      <td>кафе академия</td>\n",
       "      <td>не сетевой</td>\n",
       "      <td>кафе</td>\n",
       "      <td>город Москва, Абельмановская улица, дом 6</td>\n",
       "      <td>95</td>\n",
       "      <td>Абельмановская</td>\n",
       "    </tr>\n",
       "    <tr>\n",
       "      <th>3</th>\n",
       "      <td>21894</td>\n",
       "      <td>пиццетория</td>\n",
       "      <td>сетевой</td>\n",
       "      <td>кафе</td>\n",
       "      <td>город Москва, Абрамцевская улица, дом 1</td>\n",
       "      <td>40</td>\n",
       "      <td>Абрамцевская</td>\n",
       "    </tr>\n",
       "    <tr>\n",
       "      <th>4</th>\n",
       "      <td>119365</td>\n",
       "      <td>кафе вишневая метель</td>\n",
       "      <td>не сетевой</td>\n",
       "      <td>кафе</td>\n",
       "      <td>город Москва, Абрамцевская улица, дом 9, корпус 1</td>\n",
       "      <td>50</td>\n",
       "      <td>Абрамцевская</td>\n",
       "    </tr>\n",
       "  </tbody>\n",
       "</table>\n",
       "</div>"
      ],
      "text/plain": [
       "       id           object_name       chain object_type  \\\n",
       "0  151635               сметана  не сетевой        кафе   \n",
       "1   77874                родник  не сетевой        кафе   \n",
       "2   24309         кафе академия  не сетевой        кафе   \n",
       "3   21894            пиццетория     сетевой        кафе   \n",
       "4  119365  кафе вишневая метель  не сетевой        кафе   \n",
       "\n",
       "                                             address  number            street  \n",
       "0         город Москва, улица Егора Абакумова, дом 9      48  Егора Абакумова   \n",
       "1  город Москва, улица Талалихина, дом 2/1, корпус 1      35       Талалихина   \n",
       "2          город Москва, Абельмановская улица, дом 6      95   Абельмановская   \n",
       "3            город Москва, Абрамцевская улица, дом 1      40     Абрамцевская   \n",
       "4  город Москва, Абрамцевская улица, дом 9, корпус 1      50     Абрамцевская   "
      ]
     },
     "execution_count": 26,
     "metadata": {},
     "output_type": "execute_result"
    }
   ],
   "source": [
    "def street(st):\n",
    "    m = st.split(',')\n",
    "    if 'город' in m[1]:\n",
    "        return m[1].replace('город', '').strip('\\\"').strip(\"\\'\")\n",
    "    if 'поселение' in m[1]:\n",
    "        return m[1].replace('поселение', '').strip('\\\"').strip(\"\\'\")\n",
    "    else:\n",
    "        t = ''\n",
    "        ms = m[1].split(' ')\n",
    "        for i in ms:\n",
    "            if len(i) != 0:\n",
    "                if i[0].isupper():\n",
    "                    t += i + ' '\n",
    "        return t\n",
    "df['street'] = df['address'].apply(street)\n",
    "df.head()"
   ]
  },
  {
   "cell_type": "markdown",
   "metadata": {},
   "source": [
    "### Вопрос 7 "
   ]
  },
  {
   "cell_type": "markdown",
   "metadata": {},
   "source": [
    "Постройте график топ-10 улиц по количеству объектов общественного питания. Воспользуйтесь внешней информацией и ответьте на вопрос — в каких районах Москвы находятся эти улицы?"
   ]
  },
  {
   "cell_type": "markdown",
   "metadata": {},
   "source": [
    "Для того чтобы найти районы, воспользуемся внешней информацией с сайта: http://округа-районы.москва/ . Информацию с данного сайта спарсим. При парсинге будем учитывать тип улицы (бульвар, проспект, шоссе и т.д.). Полученные данные сохраним в столбец \"район\"."
   ]
  },
  {
   "cell_type": "code",
   "execution_count": 4,
   "metadata": {},
   "outputs": [],
   "source": [
    "# Код ревьюера\n",
    "from functools import partial\n",
    "import time\n",
    "import re\n",
    "from geopy.geocoders import Nominatim\n",
    "\n",
    "geolocator = Nominatim(user_agent=\"my_fancy_application\")\n",
    "\n",
    "direct = partial(geolocator.geocode, language=\"ru\")\n",
    "reverse = partial(geolocator.reverse, language=\"ru\")\n",
    "\n",
    "def get_lat_lng_district(row, direct, reverse):\n",
    "    \n",
    "    time.sleep(1)\n",
    "    street = row['street']\n",
    "    try:\n",
    "        house = re.search(', дом (\\d+)',row['address']).group(1)\n",
    "    except:\n",
    "        house = \"\"\n",
    "    location = direct({'city' : 'Москва', 'street' : f\"{street} {house}\"})\n",
    "    \n",
    "    \n",
    "    if location is None:\n",
    "        return [None, None, None]\n",
    "    lat = location.latitude\n",
    "    lng = location.longitude\n",
    "    \n",
    "    time.sleep(1)\n",
    "    \n",
    "    try:\n",
    "        district = reverse(f\"{lat}, {lng}\").raw['address']['suburb']\n",
    "    except KeyError:\n",
    "        district = None\n",
    "    \n",
    "    return [lat,lng,district]"
   ]
  },
  {
   "cell_type": "code",
   "execution_count": 6,
   "metadata": {},
   "outputs": [
    {
     "data": {
      "text/plain": [
       "[55.87899365, 37.7145931801882, 'Ярославский район']"
      ]
     },
     "execution_count": 6,
     "metadata": {},
     "output_type": "execute_result"
    }
   ],
   "source": [
    "# Код ревьюера\n",
    "\n",
    "s_1 = pd.Series(['город Москва, улица Егора Абакумова, дом 9','улица Егора Абакумова'], index=['address','street'])\n",
    "get_lat_lng_district(s_1, direct, reverse)"
   ]
  },
  {
   "cell_type": "code",
   "execution_count": 27,
   "metadata": {},
   "outputs": [
    {
     "name": "stdout",
     "output_type": "stream",
     "text": [
      "Requirement already satisfied: lxml in /opt/conda/lib/python3.9/site-packages (4.6.3)\n",
      "Requirement already satisfied: requests in /opt/conda/lib/python3.9/site-packages (2.25.1)\n",
      "Requirement already satisfied: urllib3<1.27,>=1.21.1 in /opt/conda/lib/python3.9/site-packages (from requests) (1.26.6)\n",
      "Requirement already satisfied: certifi>=2017.4.17 in /opt/conda/lib/python3.9/site-packages (from requests) (2022.5.18.1)\n",
      "Requirement already satisfied: chardet<5,>=3.0.2 in /opt/conda/lib/python3.9/site-packages (from requests) (4.0.0)\n",
      "Requirement already satisfied: idna<3,>=2.5 in /opt/conda/lib/python3.9/site-packages (from requests) (2.10)\n",
      "Requirement already satisfied: beautifulsoup4 in /opt/conda/lib/python3.9/site-packages (4.9.3)\n",
      "Requirement already satisfied: soupsieve>1.2 in /opt/conda/lib/python3.9/site-packages (from beautifulsoup4) (2.3.2.post1)\n",
      "Collecting selectolax\n",
      "  Downloading selectolax-0.3.7-cp39-cp39-manylinux_2_5_x86_64.manylinux1_x86_64.manylinux_2_12_x86_64.manylinux2010_x86_64.whl (5.0 MB)\n",
      "\u001b[K     |████████████████████████████████| 5.0 MB 1.7 MB/s eta 0:00:01\n",
      "\u001b[?25hCollecting Cython>=0.29.23\n",
      "  Downloading Cython-0.29.30-cp39-cp39-manylinux_2_17_x86_64.manylinux2014_x86_64.manylinux_2_24_x86_64.whl (2.0 MB)\n",
      "\u001b[K     |████████████████████████████████| 2.0 MB 43.6 MB/s eta 0:00:01\n",
      "\u001b[?25hInstalling collected packages: Cython, selectolax\n",
      "Successfully installed Cython-0.29.30 selectolax-0.3.7\n"
     ]
    }
   ],
   "source": [
    "!pip install lxml\n",
    "!pip install requests\n",
    "!pip install beautifulsoup4\n",
    "!pip install selectolax"
   ]
  },
  {
   "cell_type": "code",
   "execution_count": 28,
   "metadata": {},
   "outputs": [
    {
     "name": "stdout",
     "output_type": "stream",
     "text": [
      "[  ####################################################################################################################################################################################################################################################################################################################################################################################################################################################################################################################################################################################################################################################################################################################################################################################################################################################################################################################################################################################################################################################################################################################################################################################################################################################################################################################################################################################################################################################################################################################################################################################################################################################################################################################################################################################################################################################################################################################################################################################################################################################################################################################################################################################################################################################################################################################################################################################################################################################################################################################################################################################################################################################################################################################################################################################################################################################################################################################################################################################################################################################################################################################################################################################################################################################################################################################################################################################################################################################################################################################################################################################################################################################################################################################################################################################################################################################################################################################################################################################################################################################################################################################################################################################################################################################################################################################################################################################################################################################################################################################################################################################################################################################################################################################################################################################################################################################################################################################################################################################################################################################################################################################################################################################################################################################################################################################################################################################################################################################################################################################################################################################################################################################################################################################################################################################################################################################################################################################################################################################################################################################################################################################################################################################################################################################################################################################################################################################################################################################################################################################################################################################################################################################################################################################################################################################################################################################################################################################################################################################################################################################################################################################################################################################################################################################################################################################################################################################################################################################################################################################################################################################################################################################################################################################################################################################################################################################################################################################################################################################################################################################################################################################################################################################################################################################################################################################################################################################################################################################################################################################################################################################################################################################################################################################################################################################################################################################################################################################################################################################################################################################################################################################################################################################################################################################################################################################################################################################################################################################################################################################################################################################################################################################################################################################################################################################################################################################################################################################################################################################################################################################################################################################################################################################################################################################################################################################################################################################################################################################################################################################################################################################################################################################################################################################################################################################################################################################################################################################################################################################################################################################################################################################################################################################################################################################################################################################################################################################################################################################################################################################################################################################################################################################################################################################################################################################################################################################################################################################################################################################################################################################################################################################################################################################################################################################################################################################################################################################################################################################################################################################################################################################################################################################################################################################################################################################################################################################################################################################################################################################################################################################################################################################################################################################################################################################################################################################################################################################################################################################################################################################################################################################################################################################################################################################################################################################################################################################################################################################################################################################################################################################################################################################################################################################################################################################################################################################################################################################################################################################################################################################################################################################################################################################################################################################################################################################################################################################################################################################################################################################################################################################################################################################################################################################################################################################################################################################################################################################################################################################################################################################################################################################################################################################################################################################################################################################################################################################################  ] ok найдено: 15138"
     ]
    }
   ],
   "source": [
    "import requests, json, re\n",
    "from bs4 import BeautifulSoup\n",
    "from selectolax.parser import HTMLParser\n",
    "k = 0\n",
    "t3 = '[  '\n",
    "def pars_street(street):\n",
    "    global k, t3\n",
    "    print(t3, end='')\n",
    "    t = street['address']\n",
    "    txt = street['street'].rstrip().lstrip()  \n",
    "    url = 'http://xn----7sbbj7ab0abgod6a9h.xn--80adxhks/все_улицы_москвы?AddrobjectSearch%5Boffname%5D=' + txt\n",
    "\n",
    "    response = requests.get(url)\n",
    "    soup = BeautifulSoup(response.text, 'html.parser')\n",
    "\n",
    "    data = []\n",
    "    table = soup.find('table', attrs={'class':'table table-striped table-bordered'})\n",
    "    table_body = table.find('tbody')\n",
    "    rows = table_body.find_all('tr')\n",
    "    for row in rows:\n",
    "        cols = row.find_all('td')\n",
    "        cols = [ele.text.strip() for ele in cols]\n",
    "        data.append([ele for ele in cols if ele])\n",
    "    if len(data) != 0:\n",
    "        k += 1\n",
    "        yes = 0\n",
    "        for h in list(range(0, 15536, 153)):\n",
    "            if k == h:\n",
    "                yes = 1\n",
    "        if k == 1:\n",
    "            t3 = '#'\n",
    "            print(t3, end='')\n",
    "        elif yes == 1:\n",
    "            t3 = '#'\n",
    "            print(t3, end='')\n",
    "        if len(data) != 0:\n",
    "            for j in data:\n",
    "                if len(j) > 1 and j[1].replace('ул', 'улица').replace('пр-кт', 'проспект').replace('ш', 'шоссе').replace('пер', 'переулок').replace('наб', 'набережная').replace('пер', 'переулок') in t:\n",
    "                     return j[-1]\n",
    "                elif len(j) > 1 and  j[2].replace('ул', 'улица').replace('пр-кт', 'проспект').replace('ш', 'шоссе').replace('пер', 'переулок').replace('наб', 'набережная').replace('пер', 'переулок') in t:\n",
    "                    return j[-1]\n",
    "            return data[0][-1]\n",
    "\n",
    "df['район'] = df.apply(pars_street, axis=1) \n",
    "print('  ] ok', 'найдено:', k, end='')\n",
    "df.to_csv('street_msk.csv')"
   ]
  },
  {
   "cell_type": "markdown",
   "metadata": {},
   "source": [
    "Проверим кол-во пропусков."
   ]
  },
  {
   "cell_type": "code",
   "execution_count": 29,
   "metadata": {},
   "outputs": [
    {
     "data": {
      "text/plain": [
       "0"
      ]
     },
     "execution_count": 29,
     "metadata": {},
     "output_type": "execute_result"
    }
   ],
   "source": [
    "df['район'].isna().sum()"
   ]
  },
  {
   "cell_type": "markdown",
   "metadata": {},
   "source": [
    "Так как сайт выдает сообщение: 'Ничего не найдено.' в случае отсутвия информации. Проверим для скольки улиц не найленны районы."
   ]
  },
  {
   "cell_type": "code",
   "execution_count": 30,
   "metadata": {},
   "outputs": [
    {
     "data": {
      "text/plain": [
       "222"
      ]
     },
     "execution_count": 30,
     "metadata": {},
     "output_type": "execute_result"
    }
   ],
   "source": [
    "df[df['район'] == 'Ничего не найдено.']['район'].count()"
   ]
  },
  {
   "cell_type": "markdown",
   "metadata": {},
   "source": [
    "Как видим для 222 улиц не найленны районы. Для данных улиц попробуем найти информацию из внешнего источника google карт. У данного источника есть существенный минус, он дает пропарсить небольшое кол-во улиц в пределах МКАД и потом ставит блок на несколько часов. Появившиеся снеговики в консоли - это и есть районы в пределах МКАД. Поэтому данный источник и принято решение использовать для небольшого оставшигося кол-ва улиц."
   ]
  },
  {
   "cell_type": "code",
   "execution_count": 32,
   "metadata": {},
   "outputs": [
    {
     "name": "stdout",
     "output_type": "stream",
     "text": [
      "☃☃☃☃*☃*****☃☃☃☃☃☃☃☃☃☃☃☃☃☃☃☃☃☃☃☃☃☃*☃**☃☃*☃☃☃*******************☃*☃☃☃***☃☃☃☃☃☃*☃☃☃☃☃☃☃☃☃☃☃☃☃☃☃☃☃******☃☃**************************☃☃**☃****☃****☃☃*☃☃*☃*☃☃**☃☃☃☃*☃☃☃☃☃☃☃********************************************************ok найдено: 222\n"
     ]
    }
   ],
   "source": [
    "import requests, json, re\n",
    "from bs4 import BeautifulSoup\n",
    "from selectolax.parser import HTMLParser\n",
    "k = 0\n",
    "def pars_street(street):\n",
    "    global k\n",
    "    txt = street['address']\n",
    "    \n",
    "    if street['район'] == 'Ничего не найдено.':\n",
    "\n",
    "        if 'город Москва' in txt:\n",
    "            url = 'https://www.google.ru/maps/place/' + txt\n",
    "        else:\n",
    "            url = 'https://www.google.ru/maps/place/' + 'город Москва,' + txt\n",
    "        response = requests.get(url)\n",
    "        soup = BeautifulSoup(response.text, 'html.parser')\n",
    "        #html = response.text\n",
    "        #print(soup)\n",
    "        #tree = HTMLParser(html)\n",
    "        #sc = tree.css_first('script[nonce=\"vyt4siSU-7py2VFsXGLlgw\"]')\n",
    "        #sc = soup.find(nonce=\"vyt4siSU-7py2VFsXGLlgw\")\n",
    "        #print(len(soup.select(\"script\")))\n",
    "        #sc = json.loads(re.findall(r\"<script nonce=\\'.*\\' >(.*?)</script>\",str(soup.select(\"script\")[12]), re.DOTALL)[-1])\n",
    "        #soup = soup.split('>')\n",
    "        rez = []\n",
    "\n",
    "        for i in soup:\n",
    "            t = str(i).split('>')\n",
    "            for j in t:\n",
    "                result = re.sub(r'[^А-я-]', ' ', j)\n",
    "\n",
    "                if 'р-н' in result or 'район' in result:\n",
    "                    regex = r\"\\s((\\s)(\\s+)?)?\"\n",
    "                    subst = \"\\\\2\"\n",
    "                    result = re.sub(regex, subst, result)\n",
    "                    rez.append(result.replace(' - ', ''))\n",
    "\n",
    "        if len(rez) != 0:\n",
    "            for i in rez:\n",
    "                if 'р-н' in i or 'район' in i:\n",
    "\n",
    "                    if len(i) != 0 and i != ' ':\n",
    "\n",
    "                        txt = i.lstrip().rstrip()\n",
    "\n",
    "\n",
    "            rez = txt.split()\n",
    "\n",
    "            for i in rez:\n",
    "                if 'р-н' in i or 'район' in i:\n",
    "                    k += 1\n",
    "                    print('☃', end='')\n",
    "                    return i.capitalize().replace('р-н', ' район').replace('район',' район')\n",
    "        else:\n",
    "            k += 1\n",
    "            print('*', end='')\n",
    "            return txt.split(',')[1].lstrip().rstrip()\n",
    "    return street['район']\n",
    "df['район'] = df.apply(pars_street, axis=1) \n",
    "print('ok', 'найдено:', k)"
   ]
  },
  {
   "cell_type": "code",
   "execution_count": 33,
   "metadata": {},
   "outputs": [
    {
     "data": {
      "text/plain": [
       "0"
      ]
     },
     "execution_count": 33,
     "metadata": {},
     "output_type": "execute_result"
    }
   ],
   "source": [
    "df[df['район'] == 'Ничего не найдено.']['район'].count()"
   ]
  },
  {
   "cell_type": "markdown",
   "metadata": {},
   "source": [
    "Как видим для всех улиц районы найденны"
   ]
  },
  {
   "cell_type": "code",
   "execution_count": 34,
   "metadata": {},
   "outputs": [
    {
     "data": {
      "text/html": [
       "<div>\n",
       "<style scoped>\n",
       "    .dataframe tbody tr th:only-of-type {\n",
       "        vertical-align: middle;\n",
       "    }\n",
       "\n",
       "    .dataframe tbody tr th {\n",
       "        vertical-align: top;\n",
       "    }\n",
       "\n",
       "    .dataframe thead th {\n",
       "        text-align: right;\n",
       "    }\n",
       "</style>\n",
       "<table border=\"1\" class=\"dataframe\">\n",
       "  <thead>\n",
       "    <tr style=\"text-align: right;\">\n",
       "      <th></th>\n",
       "      <th>id</th>\n",
       "      <th>object_name</th>\n",
       "      <th>chain</th>\n",
       "      <th>object_type</th>\n",
       "      <th>address</th>\n",
       "      <th>number</th>\n",
       "      <th>street</th>\n",
       "      <th>район</th>\n",
       "    </tr>\n",
       "  </thead>\n",
       "  <tbody>\n",
       "    <tr>\n",
       "      <th>0</th>\n",
       "      <td>151635</td>\n",
       "      <td>сметана</td>\n",
       "      <td>не сетевой</td>\n",
       "      <td>кафе</td>\n",
       "      <td>город Москва, улица Егора Абакумова, дом 9</td>\n",
       "      <td>48</td>\n",
       "      <td>Егора Абакумова</td>\n",
       "      <td>Ярославский район</td>\n",
       "    </tr>\n",
       "    <tr>\n",
       "      <th>1</th>\n",
       "      <td>77874</td>\n",
       "      <td>родник</td>\n",
       "      <td>не сетевой</td>\n",
       "      <td>кафе</td>\n",
       "      <td>город Москва, улица Талалихина, дом 2/1, корпус 1</td>\n",
       "      <td>35</td>\n",
       "      <td>Талалихина</td>\n",
       "      <td>Таганский район</td>\n",
       "    </tr>\n",
       "    <tr>\n",
       "      <th>2</th>\n",
       "      <td>24309</td>\n",
       "      <td>кафе академия</td>\n",
       "      <td>не сетевой</td>\n",
       "      <td>кафе</td>\n",
       "      <td>город Москва, Абельмановская улица, дом 6</td>\n",
       "      <td>95</td>\n",
       "      <td>Абельмановская</td>\n",
       "      <td>Таганский район</td>\n",
       "    </tr>\n",
       "    <tr>\n",
       "      <th>3</th>\n",
       "      <td>21894</td>\n",
       "      <td>пиццетория</td>\n",
       "      <td>сетевой</td>\n",
       "      <td>кафе</td>\n",
       "      <td>город Москва, Абрамцевская улица, дом 1</td>\n",
       "      <td>40</td>\n",
       "      <td>Абрамцевская</td>\n",
       "      <td>район Лианозово</td>\n",
       "    </tr>\n",
       "    <tr>\n",
       "      <th>4</th>\n",
       "      <td>119365</td>\n",
       "      <td>кафе вишневая метель</td>\n",
       "      <td>не сетевой</td>\n",
       "      <td>кафе</td>\n",
       "      <td>город Москва, Абрамцевская улица, дом 9, корпус 1</td>\n",
       "      <td>50</td>\n",
       "      <td>Абрамцевская</td>\n",
       "      <td>район Лианозово</td>\n",
       "    </tr>\n",
       "    <tr>\n",
       "      <th>5</th>\n",
       "      <td>27429</td>\n",
       "      <td>стол при гоу сош  1051</td>\n",
       "      <td>не сетевой</td>\n",
       "      <td>столовая</td>\n",
       "      <td>город Москва, Абрамцевская улица, дом 15, корп...</td>\n",
       "      <td>240</td>\n",
       "      <td>Абрамцевская</td>\n",
       "      <td>район Лианозово</td>\n",
       "    </tr>\n",
       "    <tr>\n",
       "      <th>6</th>\n",
       "      <td>148815</td>\n",
       "      <td>брусника</td>\n",
       "      <td>сетевой</td>\n",
       "      <td>кафе</td>\n",
       "      <td>город Москва, переулок Сивцев Вражек, дом 6/2</td>\n",
       "      <td>10</td>\n",
       "      <td>Сивцев Вражек</td>\n",
       "      <td>район Хамовники</td>\n",
       "    </tr>\n",
       "    <tr>\n",
       "      <th>7</th>\n",
       "      <td>20957</td>\n",
       "      <td>буфет мтуси</td>\n",
       "      <td>не сетевой</td>\n",
       "      <td>столовая</td>\n",
       "      <td>город Москва, Авиамоторная улица, дом 8, строе...</td>\n",
       "      <td>90</td>\n",
       "      <td>Авиамоторная</td>\n",
       "      <td>район Лефортово</td>\n",
       "    </tr>\n",
       "    <tr>\n",
       "      <th>8</th>\n",
       "      <td>20958</td>\n",
       "      <td>кпф семья1</td>\n",
       "      <td>не сетевой</td>\n",
       "      <td>столовая</td>\n",
       "      <td>город Москва, Авиамоторная улица, дом 8, строе...</td>\n",
       "      <td>150</td>\n",
       "      <td>Авиамоторная</td>\n",
       "      <td>район Лефортово</td>\n",
       "    </tr>\n",
       "    <tr>\n",
       "      <th>9</th>\n",
       "      <td>28858</td>\n",
       "      <td>столовая мтуси</td>\n",
       "      <td>не сетевой</td>\n",
       "      <td>столовая</td>\n",
       "      <td>город Москва, Авиамоторная улица, дом 8, строе...</td>\n",
       "      <td>120</td>\n",
       "      <td>Авиамоторная</td>\n",
       "      <td>район Лефортово</td>\n",
       "    </tr>\n",
       "  </tbody>\n",
       "</table>\n",
       "</div>"
      ],
      "text/plain": [
       "       id             object_name       chain object_type  \\\n",
       "0  151635                 сметана  не сетевой        кафе   \n",
       "1   77874                  родник  не сетевой        кафе   \n",
       "2   24309           кафе академия  не сетевой        кафе   \n",
       "3   21894              пиццетория     сетевой        кафе   \n",
       "4  119365    кафе вишневая метель  не сетевой        кафе   \n",
       "5   27429  стол при гоу сош  1051  не сетевой    столовая   \n",
       "6  148815                брусника     сетевой        кафе   \n",
       "7   20957             буфет мтуси  не сетевой    столовая   \n",
       "8   20958              кпф семья1  не сетевой    столовая   \n",
       "9   28858          столовая мтуси  не сетевой    столовая   \n",
       "\n",
       "                                             address  number  \\\n",
       "0         город Москва, улица Егора Абакумова, дом 9      48   \n",
       "1  город Москва, улица Талалихина, дом 2/1, корпус 1      35   \n",
       "2          город Москва, Абельмановская улица, дом 6      95   \n",
       "3            город Москва, Абрамцевская улица, дом 1      40   \n",
       "4  город Москва, Абрамцевская улица, дом 9, корпус 1      50   \n",
       "5  город Москва, Абрамцевская улица, дом 15, корп...     240   \n",
       "6      город Москва, переулок Сивцев Вражек, дом 6/2      10   \n",
       "7  город Москва, Авиамоторная улица, дом 8, строе...      90   \n",
       "8  город Москва, Авиамоторная улица, дом 8, строе...     150   \n",
       "9  город Москва, Авиамоторная улица, дом 8, строе...     120   \n",
       "\n",
       "             street              район  \n",
       "0  Егора Абакумова   Ярославский район  \n",
       "1       Талалихина     Таганский район  \n",
       "2   Абельмановская     Таганский район  \n",
       "3     Абрамцевская     район Лианозово  \n",
       "4     Абрамцевская     район Лианозово  \n",
       "5     Абрамцевская     район Лианозово  \n",
       "6    Сивцев Вражек     район Хамовники  \n",
       "7     Авиамоторная     район Лефортово  \n",
       "8     Авиамоторная     район Лефортово  \n",
       "9     Авиамоторная     район Лефортово  "
      ]
     },
     "execution_count": 34,
     "metadata": {},
     "output_type": "execute_result"
    }
   ],
   "source": [
    "df.head(10)"
   ]
  },
  {
   "cell_type": "code",
   "execution_count": 35,
   "metadata": {},
   "outputs": [
    {
     "data": {
      "text/html": [
       "<div>\n",
       "<style scoped>\n",
       "    .dataframe tbody tr th:only-of-type {\n",
       "        vertical-align: middle;\n",
       "    }\n",
       "\n",
       "    .dataframe tbody tr th {\n",
       "        vertical-align: top;\n",
       "    }\n",
       "\n",
       "    .dataframe thead th {\n",
       "        text-align: right;\n",
       "    }\n",
       "</style>\n",
       "<table border=\"1\" class=\"dataframe\">\n",
       "  <thead>\n",
       "    <tr style=\"text-align: right;\">\n",
       "      <th></th>\n",
       "      <th>street</th>\n",
       "      <th>район</th>\n",
       "      <th>object_name</th>\n",
       "    </tr>\n",
       "  </thead>\n",
       "  <tbody>\n",
       "    <tr>\n",
       "      <th>10</th>\n",
       "      <td>Зеленоград</td>\n",
       "      <td>район Филевский парк</td>\n",
       "      <td>230</td>\n",
       "    </tr>\n",
       "    <tr>\n",
       "      <th>947</th>\n",
       "      <td>Мира</td>\n",
       "      <td>Алексеевский район</td>\n",
       "      <td>196</td>\n",
       "    </tr>\n",
       "    <tr>\n",
       "      <th>1273</th>\n",
       "      <td>Профсоюзная</td>\n",
       "      <td>Рязановское поселение</td>\n",
       "      <td>179</td>\n",
       "    </tr>\n",
       "    <tr>\n",
       "      <th>782</th>\n",
       "      <td>Ленинградский</td>\n",
       "      <td>Хорошевский район</td>\n",
       "      <td>169</td>\n",
       "    </tr>\n",
       "    <tr>\n",
       "      <th>1255</th>\n",
       "      <td>Пресненская</td>\n",
       "      <td>Пресненский район</td>\n",
       "      <td>164</td>\n",
       "    </tr>\n",
       "    <tr>\n",
       "      <th>307</th>\n",
       "      <td>Варшавское</td>\n",
       "      <td>район Чертаново Центральное</td>\n",
       "      <td>159</td>\n",
       "    </tr>\n",
       "    <tr>\n",
       "      <th>787</th>\n",
       "      <td>Ленинский</td>\n",
       "      <td>Ломоносовский район</td>\n",
       "      <td>147</td>\n",
       "    </tr>\n",
       "    <tr>\n",
       "      <th>22</th>\n",
       "      <td>Сосенское</td>\n",
       "      <td>Сосенское поселение</td>\n",
       "      <td>136</td>\n",
       "    </tr>\n",
       "    <tr>\n",
       "      <th>17</th>\n",
       "      <td>Московский</td>\n",
       "      <td>Сосенское поселение</td>\n",
       "      <td>131</td>\n",
       "    </tr>\n",
       "    <tr>\n",
       "      <th>323</th>\n",
       "      <td>Вернадского</td>\n",
       "      <td>Ломоносовский район</td>\n",
       "      <td>126</td>\n",
       "    </tr>\n",
       "  </tbody>\n",
       "</table>\n",
       "</div>"
      ],
      "text/plain": [
       "              street                        район  object_name\n",
       "10        Зеленоград         район Филевский парк          230\n",
       "947            Мира            Алексеевский район          196\n",
       "1273    Профсоюзная         Рязановское поселение          179\n",
       "782   Ленинградский             Хорошевский район          169\n",
       "1255    Пресненская             Пресненский район          164\n",
       "307      Варшавское   район Чертаново Центральное          159\n",
       "787       Ленинский           Ломоносовский район          147\n",
       "22         Сосенское          Сосенское поселение          136\n",
       "17        Московский          Сосенское поселение          131\n",
       "323     Вернадского           Ломоносовский район          126"
      ]
     },
     "execution_count": 35,
     "metadata": {},
     "output_type": "execute_result"
    }
   ],
   "source": [
    "street = df.groupby(['street', 'район'], as_index=True)['object_name'].count().reset_index().sort_values(by='object_name', ascending=False)\n",
    "street.head(10)"
   ]
  },
  {
   "cell_type": "code",
   "execution_count": 36,
   "metadata": {
    "scrolled": true
   },
   "outputs": [
    {
     "data": {
      "text/plain": [
       "<AxesSubplot:xlabel='object_name', ylabel='street'>"
      ]
     },
     "execution_count": 36,
     "metadata": {},
     "output_type": "execute_result"
    },
    {
     "data": {
      "image/png": "[encoded data removed]",
      "text/plain": [
       "<Figure size 432x288 with 1 Axes>"
      ]
     },
     "metadata": {
      "needs_background": "light"
     },
     "output_type": "display_data"
    }
   ],
   "source": [
    "ds = street.iloc[0:10]\n",
    "sns.barplot(y='street', x='object_name', data=ds) "
   ]
  },
  {
   "cell_type": "code",
   "execution_count": 37,
   "metadata": {},
   "outputs": [
    {
     "name": "stdout",
     "output_type": "stream",
     "text": [
      "Кол-во районов:  8\n",
      "Районы:  (array(['район Филевский парк', 'Алексеевский район',\n",
      "       'Рязановское поселение', 'Хорошевский район', 'Пресненский район',\n",
      "       'район Чертаново Центральное', 'Ломоносовский район',\n",
      "       'Сосенское поселение'], dtype=object),)\n"
     ]
    }
   ],
   "source": [
    "top10 = ds['район'].unique(), \n",
    "print('Кол-во районов: ', len(ds['район'].unique()))\n",
    "print('Районы: ', top10)"
   ]
  },
  {
   "cell_type": "markdown",
   "metadata": {},
   "source": [
    "Вывод: как видно из полученных данных топ-10 улиц с объектами общественного питания располагаются в 8-ми районах Москвы. Стоит отметить что Филевский парк (проверено вручную, в бд, к нему отнесены улицы г.Зеленоград) поэтому на карте в презентации отмечен как Зеленоград, Рязановское поселение и Сосенское поселение находяться за МКАД и имеют большую площадь."
   ]
  },
  {
   "cell_type": "markdown",
   "metadata": {},
   "source": [
    "### Вопрос 8 "
   ]
  },
  {
   "cell_type": "markdown",
   "metadata": {},
   "source": [
    "Найдите число улиц с одним объектом общественного питания. Воспользуйтесь внешней информацией и ответьте на вопрос — в каких районах Москвы находятся эти улицы?"
   ]
  },
  {
   "cell_type": "code",
   "execution_count": 38,
   "metadata": {},
   "outputs": [
    {
     "data": {
      "text/html": [
       "<div>\n",
       "<style scoped>\n",
       "    .dataframe tbody tr th:only-of-type {\n",
       "        vertical-align: middle;\n",
       "    }\n",
       "\n",
       "    .dataframe tbody tr th {\n",
       "        vertical-align: top;\n",
       "    }\n",
       "\n",
       "    .dataframe thead th {\n",
       "        text-align: right;\n",
       "    }\n",
       "</style>\n",
       "<table border=\"1\" class=\"dataframe\">\n",
       "  <thead>\n",
       "    <tr style=\"text-align: right;\">\n",
       "      <th></th>\n",
       "      <th>street</th>\n",
       "      <th>район</th>\n",
       "      <th>object_name</th>\n",
       "    </tr>\n",
       "  </thead>\n",
       "  <tbody>\n",
       "    <tr>\n",
       "      <th>1488</th>\n",
       "      <td>Столбово</td>\n",
       "      <td>деревня Столбово</td>\n",
       "      <td>1</td>\n",
       "    </tr>\n",
       "    <tr>\n",
       "      <th>1614</th>\n",
       "      <td>Филёвская</td>\n",
       "      <td>район Филевский парк</td>\n",
       "      <td>1</td>\n",
       "    </tr>\n",
       "    <tr>\n",
       "      <th>1705</th>\n",
       "      <td>Шубинский</td>\n",
       "      <td>район Арбат</td>\n",
       "      <td>1</td>\n",
       "    </tr>\n",
       "    <tr>\n",
       "      <th>1487</th>\n",
       "      <td>Степана Шутова</td>\n",
       "      <td>район Люблино</td>\n",
       "      <td>1</td>\n",
       "    </tr>\n",
       "    <tr>\n",
       "      <th>1650</th>\n",
       "      <td>Хользунова</td>\n",
       "      <td>район Хамовники</td>\n",
       "      <td>1</td>\n",
       "    </tr>\n",
       "    <tr>\n",
       "      <th>...</th>\n",
       "      <td>...</td>\n",
       "      <td>...</td>\n",
       "      <td>...</td>\n",
       "    </tr>\n",
       "    <tr>\n",
       "      <th>929</th>\n",
       "      <td>Маяковского</td>\n",
       "      <td>Таганский район</td>\n",
       "      <td>1</td>\n",
       "    </tr>\n",
       "    <tr>\n",
       "      <th>930</th>\n",
       "      <td>Медведева</td>\n",
       "      <td>район Косино-Ухтомский</td>\n",
       "      <td>1</td>\n",
       "    </tr>\n",
       "    <tr>\n",
       "      <th>931</th>\n",
       "      <td>Медиков</td>\n",
       "      <td>район Царицыно</td>\n",
       "      <td>1</td>\n",
       "    </tr>\n",
       "    <tr>\n",
       "      <th>933</th>\n",
       "      <td>Международная</td>\n",
       "      <td>Таганский район</td>\n",
       "      <td>1</td>\n",
       "    </tr>\n",
       "    <tr>\n",
       "      <th>1753</th>\n",
       "      <td>Яхромская</td>\n",
       "      <td>Дмитровский район</td>\n",
       "      <td>1</td>\n",
       "    </tr>\n",
       "  </tbody>\n",
       "</table>\n",
       "<p>467 rows × 3 columns</p>\n",
       "</div>"
      ],
      "text/plain": [
       "               street                   район  object_name\n",
       "1488        Столбово         деревня Столбово            1\n",
       "1614       Филёвская     район Филевский парк            1\n",
       "1705       Шубинский              район Арбат            1\n",
       "1487  Степана Шутова            район Люблино            1\n",
       "1650      Хользунова          район Хамовники            1\n",
       "...               ...                     ...          ...\n",
       "929      Маяковского          Таганский район            1\n",
       "930        Медведева   район Косино-Ухтомский            1\n",
       "931          Медиков           район Царицыно            1\n",
       "933    Международная          Таганский район            1\n",
       "1753       Яхромская        Дмитровский район            1\n",
       "\n",
       "[467 rows x 3 columns]"
      ]
     },
     "execution_count": 38,
     "metadata": {},
     "output_type": "execute_result"
    }
   ],
   "source": [
    "street_food_1 = street[street['object_name'] == 1]\n",
    "street_food_1"
   ]
  },
  {
   "cell_type": "code",
   "execution_count": 39,
   "metadata": {},
   "outputs": [
    {
     "name": "stdout",
     "output_type": "stream",
     "text": [
      "Число улиц с 1-м объектом общ. питания:  467\n"
     ]
    }
   ],
   "source": [
    "print('Число улиц с 1-м объектом общ. питания: ', street[street['object_name'] == 1]['object_name'].count())"
   ]
  },
  {
   "cell_type": "code",
   "execution_count": 40,
   "metadata": {},
   "outputs": [
    {
     "data": {
      "text/html": [
       "<div>\n",
       "<style scoped>\n",
       "    .dataframe tbody tr th:only-of-type {\n",
       "        vertical-align: middle;\n",
       "    }\n",
       "\n",
       "    .dataframe tbody tr th {\n",
       "        vertical-align: top;\n",
       "    }\n",
       "\n",
       "    .dataframe thead th {\n",
       "        text-align: right;\n",
       "    }\n",
       "</style>\n",
       "<table border=\"1\" class=\"dataframe\">\n",
       "  <thead>\n",
       "    <tr style=\"text-align: right;\">\n",
       "      <th></th>\n",
       "      <th>район</th>\n",
       "      <th>street</th>\n",
       "    </tr>\n",
       "  </thead>\n",
       "  <tbody>\n",
       "    <tr>\n",
       "      <th>16</th>\n",
       "      <td>Басманный район</td>\n",
       "      <td>25</td>\n",
       "    </tr>\n",
       "    <tr>\n",
       "      <th>54</th>\n",
       "      <td>Таганский район</td>\n",
       "      <td>22</td>\n",
       "    </tr>\n",
       "    <tr>\n",
       "      <th>118</th>\n",
       "      <td>район Хамовники</td>\n",
       "      <td>19</td>\n",
       "    </tr>\n",
       "    <tr>\n",
       "      <th>47</th>\n",
       "      <td>Пресненский район</td>\n",
       "      <td>18</td>\n",
       "    </tr>\n",
       "    <tr>\n",
       "      <th>55</th>\n",
       "      <td>Тверской район</td>\n",
       "      <td>16</td>\n",
       "    </tr>\n",
       "    <tr>\n",
       "      <th>34</th>\n",
       "      <td>Мещанский район</td>\n",
       "      <td>14</td>\n",
       "    </tr>\n",
       "    <tr>\n",
       "      <th>68</th>\n",
       "      <td>район Арбат</td>\n",
       "      <td>12</td>\n",
       "    </tr>\n",
       "    <tr>\n",
       "      <th>89</th>\n",
       "      <td>район Лефортово</td>\n",
       "      <td>10</td>\n",
       "    </tr>\n",
       "    <tr>\n",
       "      <th>111</th>\n",
       "      <td>район Соколиная Гора</td>\n",
       "      <td>10</td>\n",
       "    </tr>\n",
       "    <tr>\n",
       "      <th>112</th>\n",
       "      <td>район Сокольники</td>\n",
       "      <td>9</td>\n",
       "    </tr>\n",
       "  </tbody>\n",
       "</table>\n",
       "</div>"
      ],
      "text/plain": [
       "                    район  street\n",
       "16        Басманный район      25\n",
       "54        Таганский район      22\n",
       "118       район Хамовники      19\n",
       "47      Пресненский район      18\n",
       "55         Тверской район      16\n",
       "34        Мещанский район      14\n",
       "68            район Арбат      12\n",
       "89        район Лефортово      10\n",
       "111  район Соколиная Гора      10\n",
       "112      район Сокольники       9"
      ]
     },
     "execution_count": 40,
     "metadata": {},
     "output_type": "execute_result"
    }
   ],
   "source": [
    "street_food_1 = street_food_1.groupby(['район'], as_index=True)['street'].count().reset_index().sort_values(by = 'street', ascending=False)\n",
    "street_food_1.head(10)"
   ]
  },
  {
   "cell_type": "code",
   "execution_count": 41,
   "metadata": {},
   "outputs": [
    {
     "name": "stdout",
     "output_type": "stream",
     "text": [
      "кол-во районов: 130\n",
      "Районы:  (array(['Басманный район', 'Таганский район', 'район Хамовники',\n",
      "       'Пресненский район', 'Тверской район', 'Мещанский район',\n",
      "       'район Арбат', 'район Лефортово', 'район Соколиная Гора',\n",
      "       'район Сокольники', 'район Марьина роща', 'район Замоскворечье',\n",
      "       'район Южное Бутово', 'Красносельский район', 'район Якиманка',\n",
      "       'Нижегородский район', 'район Люблино', 'район Аэропорт',\n",
      "       'район Внуково', 'Можайский район', 'Дмитровский район',\n",
      "       'Тимирязевский район', 'район Кунцево', 'район Хорошево-Мневники',\n",
      "       'Даниловский район', 'район Ясенево', 'район Солнцево',\n",
      "       'район Южное Тушино', 'район Щукино', 'Савеловский район',\n",
      "       'Рязанский район', 'Лосиноостровский район', 'Алексеевский район',\n",
      "       'Бабушкинский район', 'район Богородское',\n",
      "       'район Косино-Ухтомский', 'Головинский район',\n",
      "       'район Покровское-Стрешнево', 'район Измайлово',\n",
      "       'район Дорогомилово', 'район Гольяново', 'район Выхино-Жулебино',\n",
      "       'район Ростокино', 'район Отрадное', 'район Митино',\n",
      "       'Донской район', 'район Северное Медведково', 'район Свиблово',\n",
      "       'район Новогиреево', 'район Кузьминки', 'район Бирюлево Восточное',\n",
      "       'район Преображенское', 'Ярославский район', 'район Коптево',\n",
      "       'район Коньково', 'район Некрасовка', 'поселение Щербинка',\n",
      "       'район Куркино', 'район Зюзино', 'район Котловка',\n",
      "       'район Печатники', 'район Очаково-Матвеевское',\n",
      "       'район Текстильщики', 'Внуковское поселение',\n",
      "       'район Фили-Давыдково', 'район Северное Бутово', 'район Черемушки',\n",
      "       'Нагорный район', 'Бутырский район', 'Останкинский район',\n",
      "       'Сосенское поселение', 'Хорошевский район', 'Южнопортовый район',\n",
      "       'район Чертаново Северное', 'улица Богородский Вал',\n",
      "       'район Царицыно', 'район Филевский парк',\n",
      "       'район Нагатино-Садовники', 'район Северное Измайлово',\n",
      "       'район Строгино', 'район Сокол', 'район Москворечье-Сабурово',\n",
      "       'район Раменки', 'район Ново-Переделкино', 'район Марфино',\n",
      "       '104-й километр Московской Кольцевой Автодороги',\n",
      "       'поселение Московский', 'район Крюково',\n",
      "       '78-й километр Московской Кольцевой Автодороги',\n",
      "       'Клёновское поселение', 'Китайгородский проезд',\n",
      "       'Звенигородское шоссе', 'Войковский район',\n",
      "       'Большой Симоновский переулок', 'Бесединское шоссе',\n",
      "       'Алтуфьевский район',\n",
      "       '80-й километр Московской Кольцевой Автодороги',\n",
      "       '67-й километр Московской Кольцевой Автодороги',\n",
      "       'Левобережный район',\n",
      "       '65-й километр Московской Кольцевой Автодороги',\n",
      "       '56-й километр Московской Кольцевой Автодороги',\n",
      "       '42-й километр Московской Кольцевой Автодороги',\n",
      "       '42-й километр Калужского шоссе',\n",
      "       '38-й километр Московской Кольцевой Автодороги',\n",
      "       '34-й километр Московской Кольцевой Автодороги',\n",
      "       '31-й километр Московской Кольцевой Автодороги',\n",
      "       '30-й километр Московской Кольцевой Автодороги',\n",
      "       'Краснопахорское поселение', 'Марушкинское поселение',\n",
      "       'район Ивановское', 'Таганский  район', 'район Западное Дегунино',\n",
      "       'поселение Троицк',\n",
      "       '26-й километр Московской Кольцевой Автодороги',\n",
      "       'поселение Кокошкино', 'деревня Столбово',\n",
      "       'деревня Сенькино-Секерино', 'деревня Дудкино',\n",
      "       'деревня Давыдково', 'Рязановское поселение',\n",
      "       'Молжаниновский район', 'Р-нлефортово', 'Новгородская улица',\n",
      "       'Нижегородскаяулнижегородскаяулмоскванижегородский  район',\n",
      "       'Москвапресненский  район', 'Москванижегородский  район',\n",
      "       'Москваданиловский  район', 'Москвабутырский  район',\n",
      "       'Москва  районбратеево', 'улица Зои и Александра Космодемьянских'],\n",
      "      dtype=object),)\n"
     ]
    }
   ],
   "source": [
    "top10_1 = street_food_1['район'].unique(), \n",
    "print('кол-во районов:', len(street_food_1['район'].unique()))\n",
    "print('Районы: ', top10_1)"
   ]
  },
  {
   "cell_type": "code",
   "execution_count": 42,
   "metadata": {},
   "outputs": [
    {
     "data": {
      "text/html": [
       "<div>\n",
       "<style scoped>\n",
       "    .dataframe tbody tr th:only-of-type {\n",
       "        vertical-align: middle;\n",
       "    }\n",
       "\n",
       "    .dataframe tbody tr th {\n",
       "        vertical-align: top;\n",
       "    }\n",
       "\n",
       "    .dataframe thead th {\n",
       "        text-align: right;\n",
       "    }\n",
       "</style>\n",
       "<table border=\"1\" class=\"dataframe\">\n",
       "  <thead>\n",
       "    <tr style=\"text-align: right;\">\n",
       "      <th></th>\n",
       "      <th>id</th>\n",
       "      <th>object_name</th>\n",
       "      <th>chain</th>\n",
       "      <th>object_type</th>\n",
       "      <th>address</th>\n",
       "      <th>number</th>\n",
       "      <th>street</th>\n",
       "      <th>район</th>\n",
       "    </tr>\n",
       "  </thead>\n",
       "  <tbody>\n",
       "    <tr>\n",
       "      <th>5118</th>\n",
       "      <td>152993</td>\n",
       "      <td>хаят</td>\n",
       "      <td>не сетевой</td>\n",
       "      <td>кафе</td>\n",
       "      <td>город Москва, Выползов переулок, дом 7, строен...</td>\n",
       "      <td>68</td>\n",
       "      <td>Выползов</td>\n",
       "      <td>Мещанский район</td>\n",
       "    </tr>\n",
       "  </tbody>\n",
       "</table>\n",
       "</div>"
      ],
      "text/plain": [
       "          id object_name       chain object_type  \\\n",
       "5118  152993        хаят  не сетевой        кафе   \n",
       "\n",
       "                                                address  number     street  \\\n",
       "5118  город Москва, Выползов переулок, дом 7, строен...      68  Выползов    \n",
       "\n",
       "                район  \n",
       "5118  Мещанский район  "
      ]
     },
     "execution_count": 42,
     "metadata": {},
     "output_type": "execute_result"
    }
   ],
   "source": [
    "# Код ревьюера\n",
    "\n",
    "df[df['street'].str.contains('Выползов')]"
   ]
  },
  {
   "cell_type": "markdown",
   "metadata": {},
   "source": [
    "Вывод: как видно из полученных данных число улиц с одним объектом общественного питания 467, располагаются они в 130-ти районах Москвы. Если выделить 10-ть по популярности районов, то в большинстве случаев они располагаются в центре Москвы."
   ]
  },
  {
   "cell_type": "markdown",
   "metadata": {},
   "source": [
    "### Вывод: "
   ]
  },
  {
   "cell_type": "markdown",
   "metadata": {},
   "source": [
    "Из полученных данных можно дать следующие рекомендации:\n",
    "- для открытия заведения в котором будут обслуживать роботы, хорошо подходит тип ресторан или кафе. Тут стоит рассмотреть стоимость роботов и сколько они смогут осблуживать мест. В ресторанах заметно больше посадочных мест, чем в кафе.\n",
    "- место для ресторана лучше рассмотреть в следующий районах: Таганский, Тверской, Хамовники, Мещанский район,  Басманный, Арбат или Пресненский. Данные районы находяться в центре, судя по кол-ву заведений данные районы  с большой проходимостью и формат нашего заведения больше подходит для центра города.\n",
    "- данную сеть возможно будет развивать если удаться наладить большой поток постоянных клиентов и при этом снизить расходы на обслуживание роботов. Возможно данный формат лучше подходит не для сетевых заведений, а заведений с эксклюзивным обслуживанием."
   ]
  },
  {
   "cell_type": "markdown",
   "metadata": {},
   "source": [
    "## Шаг №3. Подготовка презентации"
   ]
  },
  {
   "cell_type": "markdown",
   "metadata": {},
   "source": [
    "Презентация: https://disk.yandex.ru/i/5eW8stWyVNJOqQ"
   ]
  }
 ],
 "metadata": {
  "ExecuteTimeLog": [
   {
    "duration": 773,
    "start_time": "2022-05-25T18:54:22.083Z"
   },
   {
    "duration": 15,
    "start_time": "2022-05-25T18:54:31.744Z"
   },
   {
    "duration": 15,
    "start_time": "2022-05-25T18:54:59.107Z"
   },
   {
    "duration": 77,
    "start_time": "2022-05-25T18:56:27.874Z"
   },
   {
    "duration": 68,
    "start_time": "2022-05-25T18:56:48.099Z"
   },
   {
    "duration": 14,
    "start_time": "2022-05-25T18:56:48.606Z"
   },
   {
    "duration": 9,
    "start_time": "2022-05-25T18:56:49.328Z"
   },
   {
    "duration": 20,
    "start_time": "2022-05-25T18:56:49.856Z"
   },
   {
    "duration": 16,
    "start_time": "2022-05-25T18:56:56.934Z"
   },
   {
    "duration": 19,
    "start_time": "2022-05-25T18:58:50.486Z"
   },
   {
    "duration": 10,
    "start_time": "2022-05-25T19:00:32.467Z"
   },
   {
    "duration": 9,
    "start_time": "2022-05-25T19:00:39.435Z"
   },
   {
    "duration": 9,
    "start_time": "2022-05-25T19:02:01.316Z"
   },
   {
    "duration": 5,
    "start_time": "2022-05-25T19:02:19.352Z"
   },
   {
    "duration": 6,
    "start_time": "2022-05-25T19:02:43.972Z"
   },
   {
    "duration": 5,
    "start_time": "2022-05-25T19:07:13.487Z"
   },
   {
    "duration": 11,
    "start_time": "2022-05-25T19:15:42.000Z"
   },
   {
    "duration": 8,
    "start_time": "2022-05-25T19:16:04.301Z"
   },
   {
    "duration": 22,
    "start_time": "2022-05-25T19:20:37.765Z"
   },
   {
    "duration": 9,
    "start_time": "2022-05-25T19:21:22.683Z"
   },
   {
    "duration": 11,
    "start_time": "2022-05-25T19:21:42.342Z"
   },
   {
    "duration": 17,
    "start_time": "2022-05-25T19:21:59.834Z"
   },
   {
    "duration": 25,
    "start_time": "2022-05-25T19:43:08.879Z"
   },
   {
    "duration": 17,
    "start_time": "2022-05-25T19:46:01.846Z"
   },
   {
    "duration": 21,
    "start_time": "2022-05-25T19:49:40.986Z"
   },
   {
    "duration": 11,
    "start_time": "2022-05-25T19:50:06.098Z"
   },
   {
    "duration": 19,
    "start_time": "2022-05-25T19:50:07.018Z"
   },
   {
    "duration": 18,
    "start_time": "2022-05-25T19:50:08.717Z"
   },
   {
    "duration": 17,
    "start_time": "2022-05-25T19:51:53.451Z"
   },
   {
    "duration": 16,
    "start_time": "2022-05-25T19:51:55.417Z"
   },
   {
    "duration": 24,
    "start_time": "2022-05-25T19:52:09.121Z"
   },
   {
    "duration": 14,
    "start_time": "2022-05-25T19:52:59.302Z"
   },
   {
    "duration": 13,
    "start_time": "2022-05-25T19:53:06.377Z"
   },
   {
    "duration": 12,
    "start_time": "2022-05-25T19:54:05.252Z"
   },
   {
    "duration": 9,
    "start_time": "2022-05-25T19:55:25.164Z"
   },
   {
    "duration": 10,
    "start_time": "2022-05-25T20:08:01.376Z"
   },
   {
    "duration": 12,
    "start_time": "2022-05-25T20:08:19.073Z"
   },
   {
    "duration": 22,
    "start_time": "2022-05-25T20:08:25.833Z"
   },
   {
    "duration": 4,
    "start_time": "2022-05-25T20:29:04.738Z"
   },
   {
    "duration": 328,
    "start_time": "2022-05-25T20:29:04.743Z"
   },
   {
    "duration": 12,
    "start_time": "2022-05-25T20:29:41.814Z"
   },
   {
    "duration": 19,
    "start_time": "2022-05-25T20:29:47.649Z"
   },
   {
    "duration": 13,
    "start_time": "2022-05-25T20:30:28.288Z"
   },
   {
    "duration": 41,
    "start_time": "2022-05-25T20:30:58.789Z"
   },
   {
    "duration": 55,
    "start_time": "2022-05-25T20:31:10.873Z"
   },
   {
    "duration": 24,
    "start_time": "2022-05-25T20:31:14.386Z"
   },
   {
    "duration": 4,
    "start_time": "2022-05-25T20:31:41.393Z"
   },
   {
    "duration": 11,
    "start_time": "2022-05-25T20:31:42.653Z"
   },
   {
    "duration": 4,
    "start_time": "2022-05-25T20:32:07.382Z"
   },
   {
    "duration": 16,
    "start_time": "2022-05-25T20:32:08.418Z"
   },
   {
    "duration": 10,
    "start_time": "2022-05-25T20:37:05.760Z"
   },
   {
    "duration": 58,
    "start_time": "2022-05-25T20:40:54.680Z"
   },
   {
    "duration": 386,
    "start_time": "2022-05-25T20:45:18.868Z"
   },
   {
    "duration": 69,
    "start_time": "2022-05-26T05:37:22.025Z"
   },
   {
    "duration": 803,
    "start_time": "2022-05-26T05:37:29.626Z"
   },
   {
    "duration": 14,
    "start_time": "2022-05-26T05:37:30.431Z"
   },
   {
    "duration": 51,
    "start_time": "2022-05-26T05:37:30.446Z"
   },
   {
    "duration": 18,
    "start_time": "2022-05-26T05:37:30.499Z"
   },
   {
    "duration": 13,
    "start_time": "2022-05-26T05:37:30.519Z"
   },
   {
    "duration": 45,
    "start_time": "2022-05-26T05:37:30.533Z"
   },
   {
    "duration": 60,
    "start_time": "2022-05-26T05:37:30.580Z"
   },
   {
    "duration": 49,
    "start_time": "2022-05-26T05:37:30.642Z"
   },
   {
    "duration": 14,
    "start_time": "2022-05-26T05:37:30.692Z"
   },
   {
    "duration": 28,
    "start_time": "2022-05-26T05:37:30.708Z"
   },
   {
    "duration": 13,
    "start_time": "2022-05-26T05:37:30.737Z"
   },
   {
    "duration": 34,
    "start_time": "2022-05-26T05:37:30.759Z"
   },
   {
    "duration": 13,
    "start_time": "2022-05-26T05:37:30.794Z"
   },
   {
    "duration": 20,
    "start_time": "2022-05-26T05:37:30.808Z"
   },
   {
    "duration": 4,
    "start_time": "2022-05-26T05:37:39.039Z"
   },
   {
    "duration": 18,
    "start_time": "2022-05-26T05:37:45.779Z"
   },
   {
    "duration": 10,
    "start_time": "2022-05-26T05:38:18.632Z"
   },
   {
    "duration": 1048,
    "start_time": "2022-05-26T05:38:53.717Z"
   },
   {
    "duration": 110,
    "start_time": "2022-05-26T05:39:17.979Z"
   },
   {
    "duration": 20,
    "start_time": "2022-05-26T05:42:33.861Z"
   },
   {
    "duration": 11,
    "start_time": "2022-05-26T05:42:45.082Z"
   },
   {
    "duration": 18,
    "start_time": "2022-05-26T05:42:48.307Z"
   },
   {
    "duration": 14,
    "start_time": "2022-05-26T05:42:53.467Z"
   },
   {
    "duration": 433,
    "start_time": "2022-05-26T05:45:11.163Z"
   },
   {
    "duration": 18,
    "start_time": "2022-05-26T05:46:25.316Z"
   },
   {
    "duration": 611,
    "start_time": "2022-05-26T05:46:47.458Z"
   },
   {
    "duration": 203,
    "start_time": "2022-05-26T05:47:02.721Z"
   },
   {
    "duration": 10,
    "start_time": "2022-05-26T05:48:18.729Z"
   },
   {
    "duration": 11,
    "start_time": "2022-05-26T05:48:27.414Z"
   },
   {
    "duration": 10,
    "start_time": "2022-05-26T05:49:31.616Z"
   },
   {
    "duration": 192,
    "start_time": "2022-05-26T05:49:46.410Z"
   },
   {
    "duration": 153,
    "start_time": "2022-05-26T18:36:20.921Z"
   },
   {
    "duration": 18,
    "start_time": "2022-05-26T18:40:58.992Z"
   },
   {
    "duration": 794,
    "start_time": "2022-05-26T18:46:29.725Z"
   },
   {
    "duration": 23,
    "start_time": "2022-05-26T18:46:51.380Z"
   },
   {
    "duration": 24,
    "start_time": "2022-05-26T18:48:42.273Z"
   },
   {
    "duration": 12,
    "start_time": "2022-05-26T18:53:14.295Z"
   },
   {
    "duration": 22,
    "start_time": "2022-05-26T18:53:59.312Z"
   },
   {
    "duration": 12,
    "start_time": "2022-05-26T18:54:20.897Z"
   },
   {
    "duration": 14,
    "start_time": "2022-05-26T18:55:50.724Z"
   },
   {
    "duration": 12,
    "start_time": "2022-05-26T18:56:17.593Z"
   },
   {
    "duration": 24,
    "start_time": "2022-05-26T18:57:58.725Z"
   },
   {
    "duration": 21,
    "start_time": "2022-05-26T18:58:14.611Z"
   },
   {
    "duration": 22,
    "start_time": "2022-05-26T18:58:24.164Z"
   },
   {
    "duration": 29,
    "start_time": "2022-05-26T18:58:37.096Z"
   },
   {
    "duration": 21,
    "start_time": "2022-05-26T18:58:52.212Z"
   },
   {
    "duration": 4,
    "start_time": "2022-05-26T19:00:02.725Z"
   },
   {
    "duration": 189,
    "start_time": "2022-05-26T19:01:58.123Z"
   },
   {
    "duration": 25,
    "start_time": "2022-05-26T19:05:24.390Z"
   },
   {
    "duration": 23,
    "start_time": "2022-05-26T19:05:49.818Z"
   },
   {
    "duration": 5,
    "start_time": "2022-05-26T19:05:58.515Z"
   },
   {
    "duration": 5,
    "start_time": "2022-05-26T19:14:06.218Z"
   },
   {
    "duration": 9,
    "start_time": "2022-05-26T19:14:29.469Z"
   },
   {
    "duration": 5,
    "start_time": "2022-05-26T19:14:38.927Z"
   },
   {
    "duration": 16,
    "start_time": "2022-05-26T19:16:08.596Z"
   },
   {
    "duration": 14,
    "start_time": "2022-05-26T19:17:00.771Z"
   },
   {
    "duration": 12,
    "start_time": "2022-05-26T19:17:10.527Z"
   },
   {
    "duration": 20,
    "start_time": "2022-05-26T19:19:19.242Z"
   },
   {
    "duration": 886,
    "start_time": "2022-05-26T19:21:23.231Z"
   },
   {
    "duration": 14,
    "start_time": "2022-05-26T19:21:24.120Z"
   },
   {
    "duration": 35,
    "start_time": "2022-05-26T19:21:24.136Z"
   },
   {
    "duration": 24,
    "start_time": "2022-05-26T19:21:24.174Z"
   },
   {
    "duration": 11,
    "start_time": "2022-05-26T19:21:24.199Z"
   },
   {
    "duration": 16,
    "start_time": "2022-05-26T19:21:24.212Z"
   },
   {
    "duration": 60,
    "start_time": "2022-05-26T19:21:24.230Z"
   },
   {
    "duration": 16,
    "start_time": "2022-05-26T19:21:24.292Z"
   },
   {
    "duration": 14,
    "start_time": "2022-05-26T19:21:24.310Z"
   },
   {
    "duration": 27,
    "start_time": "2022-05-26T19:21:24.353Z"
   },
   {
    "duration": 8,
    "start_time": "2022-05-26T19:21:24.382Z"
   },
   {
    "duration": 9,
    "start_time": "2022-05-26T19:21:24.392Z"
   },
   {
    "duration": 7,
    "start_time": "2022-05-26T19:21:24.402Z"
   },
   {
    "duration": 482,
    "start_time": "2022-05-26T19:21:24.411Z"
   },
   {
    "duration": 24,
    "start_time": "2022-05-26T19:21:24.896Z"
   },
   {
    "duration": 29,
    "start_time": "2022-05-26T19:21:24.921Z"
   },
   {
    "duration": 115,
    "start_time": "2022-05-26T19:21:24.953Z"
   },
   {
    "duration": 22,
    "start_time": "2022-05-26T19:22:09.350Z"
   },
   {
    "duration": 16,
    "start_time": "2022-05-26T19:22:18.508Z"
   },
   {
    "duration": 8,
    "start_time": "2022-05-26T19:23:10.071Z"
   },
   {
    "duration": 17,
    "start_time": "2022-05-26T19:24:38.829Z"
   },
   {
    "duration": 580,
    "start_time": "2022-05-26T19:30:48.162Z"
   },
   {
    "duration": 16,
    "start_time": "2022-05-26T19:30:48.744Z"
   },
   {
    "duration": 34,
    "start_time": "2022-05-26T19:30:48.765Z"
   },
   {
    "duration": 17,
    "start_time": "2022-05-26T19:30:48.801Z"
   },
   {
    "duration": 8,
    "start_time": "2022-05-26T19:30:48.820Z"
   },
   {
    "duration": 10,
    "start_time": "2022-05-26T19:30:48.830Z"
   },
   {
    "duration": 49,
    "start_time": "2022-05-26T19:30:48.841Z"
   },
   {
    "duration": 17,
    "start_time": "2022-05-26T19:30:48.892Z"
   },
   {
    "duration": 13,
    "start_time": "2022-05-26T19:30:48.911Z"
   },
   {
    "duration": 52,
    "start_time": "2022-05-26T19:30:48.927Z"
   },
   {
    "duration": 10,
    "start_time": "2022-05-26T19:30:48.981Z"
   },
   {
    "duration": 7,
    "start_time": "2022-05-26T19:30:48.993Z"
   },
   {
    "duration": 10,
    "start_time": "2022-05-26T19:30:49.001Z"
   },
   {
    "duration": 481,
    "start_time": "2022-05-26T19:30:49.012Z"
   },
   {
    "duration": 24,
    "start_time": "2022-05-26T19:30:49.494Z"
   },
   {
    "duration": 18,
    "start_time": "2022-05-26T19:30:49.520Z"
   },
   {
    "duration": 129,
    "start_time": "2022-05-26T19:30:49.539Z"
   },
   {
    "duration": 8,
    "start_time": "2022-05-26T19:32:59.239Z"
   },
   {
    "duration": 6,
    "start_time": "2022-05-26T19:37:25.636Z"
   },
   {
    "duration": 8,
    "start_time": "2022-05-26T19:37:47.587Z"
   },
   {
    "duration": 11,
    "start_time": "2022-05-26T19:38:16.002Z"
   },
   {
    "duration": 28,
    "start_time": "2022-05-26T19:42:37.146Z"
   },
   {
    "duration": 20,
    "start_time": "2022-05-26T19:42:52.168Z"
   },
   {
    "duration": 95,
    "start_time": "2022-05-26T19:46:08.075Z"
   },
   {
    "duration": 12,
    "start_time": "2022-05-26T19:46:19.805Z"
   },
   {
    "duration": 12,
    "start_time": "2022-05-26T19:47:59.917Z"
   },
   {
    "duration": 12,
    "start_time": "2022-05-26T19:48:44.284Z"
   },
   {
    "duration": 562,
    "start_time": "2022-05-26T19:49:28.144Z"
   },
   {
    "duration": 693,
    "start_time": "2022-05-26T19:50:03.273Z"
   },
   {
    "duration": 545,
    "start_time": "2022-05-26T19:50:14.393Z"
   },
   {
    "duration": 22,
    "start_time": "2022-05-26T19:50:14.940Z"
   },
   {
    "duration": 20,
    "start_time": "2022-05-26T19:50:14.966Z"
   },
   {
    "duration": 17,
    "start_time": "2022-05-26T19:50:14.988Z"
   },
   {
    "duration": 9,
    "start_time": "2022-05-26T19:50:15.008Z"
   },
   {
    "duration": 18,
    "start_time": "2022-05-26T19:50:15.019Z"
   },
   {
    "duration": 54,
    "start_time": "2022-05-26T19:50:15.039Z"
   },
   {
    "duration": 25,
    "start_time": "2022-05-26T19:50:15.094Z"
   },
   {
    "duration": 18,
    "start_time": "2022-05-26T19:50:15.121Z"
   },
   {
    "duration": 30,
    "start_time": "2022-05-26T19:50:15.141Z"
   },
   {
    "duration": 11,
    "start_time": "2022-05-26T19:50:15.174Z"
   },
   {
    "duration": 9,
    "start_time": "2022-05-26T19:50:15.187Z"
   },
   {
    "duration": 16,
    "start_time": "2022-05-26T19:50:15.198Z"
   },
   {
    "duration": 525,
    "start_time": "2022-05-26T19:50:15.217Z"
   },
   {
    "duration": 26,
    "start_time": "2022-05-26T19:50:15.744Z"
   },
   {
    "duration": 41,
    "start_time": "2022-05-26T19:50:15.772Z"
   },
   {
    "duration": 4,
    "start_time": "2022-05-26T19:50:52.026Z"
   },
   {
    "duration": 140,
    "start_time": "2022-05-26T19:50:57.962Z"
   },
   {
    "duration": 116,
    "start_time": "2022-05-26T19:51:31.724Z"
   },
   {
    "duration": 164,
    "start_time": "2022-05-26T19:52:34.933Z"
   },
   {
    "duration": 145,
    "start_time": "2022-05-26T19:57:35.624Z"
   },
   {
    "duration": 113,
    "start_time": "2022-05-26T19:57:45.111Z"
   },
   {
    "duration": 209,
    "start_time": "2022-05-26T19:57:50.877Z"
   },
   {
    "duration": 10,
    "start_time": "2022-05-26T20:16:32.264Z"
   },
   {
    "duration": 1250,
    "start_time": "2022-05-26T20:17:03.616Z"
   },
   {
    "duration": 16,
    "start_time": "2022-05-26T20:17:04.868Z"
   },
   {
    "duration": 84,
    "start_time": "2022-05-26T20:17:04.885Z"
   },
   {
    "duration": 20,
    "start_time": "2022-05-26T20:17:04.971Z"
   },
   {
    "duration": 10,
    "start_time": "2022-05-26T20:17:04.992Z"
   },
   {
    "duration": 18,
    "start_time": "2022-05-26T20:17:05.004Z"
   },
   {
    "duration": 58,
    "start_time": "2022-05-26T20:17:05.024Z"
   },
   {
    "duration": 15,
    "start_time": "2022-05-26T20:17:05.083Z"
   },
   {
    "duration": 12,
    "start_time": "2022-05-26T20:17:05.100Z"
   },
   {
    "duration": 50,
    "start_time": "2022-05-26T20:17:05.114Z"
   },
   {
    "duration": 13,
    "start_time": "2022-05-26T20:17:05.166Z"
   },
   {
    "duration": 18,
    "start_time": "2022-05-26T20:17:05.181Z"
   },
   {
    "duration": 16,
    "start_time": "2022-05-26T20:17:05.201Z"
   },
   {
    "duration": 213,
    "start_time": "2022-05-26T20:17:05.220Z"
   },
   {
    "duration": 27,
    "start_time": "2022-05-26T20:17:05.435Z"
   },
   {
    "duration": 199,
    "start_time": "2022-05-26T20:17:05.467Z"
   },
   {
    "duration": 199,
    "start_time": "2022-05-26T20:17:05.668Z"
   },
   {
    "duration": 10781,
    "start_time": "2022-05-26T20:17:05.869Z"
   },
   {
    "duration": 18,
    "start_time": "2022-05-26T20:34:17.148Z"
   },
   {
    "duration": 5,
    "start_time": "2022-05-26T20:34:42.391Z"
   },
   {
    "duration": 11,
    "start_time": "2022-05-26T20:34:46.360Z"
   },
   {
    "duration": 64,
    "start_time": "2022-05-28T19:37:34.639Z"
   },
   {
    "duration": 1980,
    "start_time": "2022-05-28T19:37:41.164Z"
   },
   {
    "duration": 22,
    "start_time": "2022-05-28T19:37:43.146Z"
   },
   {
    "duration": 86,
    "start_time": "2022-05-28T19:37:43.170Z"
   },
   {
    "duration": 24,
    "start_time": "2022-05-28T19:37:43.258Z"
   },
   {
    "duration": 26,
    "start_time": "2022-05-28T19:37:43.284Z"
   },
   {
    "duration": 20,
    "start_time": "2022-05-28T19:37:43.312Z"
   },
   {
    "duration": 36,
    "start_time": "2022-05-28T19:37:43.333Z"
   },
   {
    "duration": 15,
    "start_time": "2022-05-28T19:37:43.371Z"
   },
   {
    "duration": 14,
    "start_time": "2022-05-28T19:37:43.388Z"
   },
   {
    "duration": 21,
    "start_time": "2022-05-28T19:37:43.405Z"
   },
   {
    "duration": 41,
    "start_time": "2022-05-28T19:37:43.428Z"
   },
   {
    "duration": 7,
    "start_time": "2022-05-28T19:37:43.470Z"
   },
   {
    "duration": 8,
    "start_time": "2022-05-28T19:37:43.478Z"
   },
   {
    "duration": 182,
    "start_time": "2022-05-28T19:37:43.487Z"
   },
   {
    "duration": 11,
    "start_time": "2022-05-28T19:37:43.670Z"
   },
   {
    "duration": 183,
    "start_time": "2022-05-28T19:37:43.682Z"
   },
   {
    "duration": 208,
    "start_time": "2022-05-28T19:37:43.867Z"
   },
   {
    "duration": 10803,
    "start_time": "2022-05-28T19:37:44.077Z"
   },
   {
    "duration": 0,
    "start_time": "2022-05-28T19:37:54.882Z"
   },
   {
    "duration": 0,
    "start_time": "2022-05-28T19:37:54.883Z"
   },
   {
    "duration": 10095,
    "start_time": "2022-05-28T19:38:26.437Z"
   },
   {
    "duration": 12,
    "start_time": "2022-05-28T19:38:36.583Z"
   },
   {
    "duration": 7,
    "start_time": "2022-05-28T19:46:12.155Z"
   },
   {
    "duration": 12,
    "start_time": "2022-05-28T19:46:51.096Z"
   },
   {
    "duration": 7,
    "start_time": "2022-05-28T19:47:08.184Z"
   },
   {
    "duration": 186,
    "start_time": "2022-05-28T19:47:28.928Z"
   },
   {
    "duration": 174,
    "start_time": "2022-05-28T19:48:07.925Z"
   },
   {
    "duration": 178,
    "start_time": "2022-05-28T19:48:18.388Z"
   },
   {
    "duration": 8,
    "start_time": "2022-05-28T19:48:34.320Z"
   },
   {
    "duration": 235,
    "start_time": "2022-05-28T19:48:35.162Z"
   },
   {
    "duration": 132,
    "start_time": "2022-05-28T19:49:11.368Z"
   },
   {
    "duration": 173,
    "start_time": "2022-05-28T19:49:50.214Z"
   },
   {
    "duration": 31,
    "start_time": "2022-05-28T19:57:25.181Z"
   },
   {
    "duration": 257,
    "start_time": "2022-05-28T19:58:02.487Z"
   },
   {
    "duration": 72,
    "start_time": "2022-05-28T20:06:01.853Z"
   },
   {
    "duration": 3622,
    "start_time": "2022-05-28T20:06:18.369Z"
   },
   {
    "duration": 23,
    "start_time": "2022-05-28T20:06:30.982Z"
   },
   {
    "duration": 359,
    "start_time": "2022-05-28T20:07:07.210Z"
   },
   {
    "duration": 23,
    "start_time": "2022-05-28T20:08:26.518Z"
   },
   {
    "duration": 17,
    "start_time": "2022-05-28T20:12:01.143Z"
   },
   {
    "duration": 36,
    "start_time": "2022-05-28T20:12:41.177Z"
   },
   {
    "duration": 35852,
    "start_time": "2022-05-28T20:12:47.818Z"
   },
   {
    "duration": 204,
    "start_time": "2022-05-28T20:17:42.222Z"
   },
   {
    "duration": 424,
    "start_time": "2022-05-28T20:18:17.818Z"
   },
   {
    "duration": 13,
    "start_time": "2022-05-28T20:18:42.623Z"
   },
   {
    "duration": 300,
    "start_time": "2022-05-28T20:22:36.049Z"
   },
   {
    "duration": 140,
    "start_time": "2022-05-28T20:22:49.376Z"
   },
   {
    "duration": 134,
    "start_time": "2022-05-28T20:23:31.365Z"
   },
   {
    "duration": 123,
    "start_time": "2022-05-28T20:23:39.306Z"
   },
   {
    "duration": 128,
    "start_time": "2022-05-28T20:23:43.834Z"
   },
   {
    "duration": 128,
    "start_time": "2022-05-28T20:23:49.539Z"
   },
   {
    "duration": 98,
    "start_time": "2022-05-28T20:24:27.320Z"
   },
   {
    "duration": 142,
    "start_time": "2022-05-28T20:25:06.205Z"
   },
   {
    "duration": 131,
    "start_time": "2022-05-28T20:25:24.308Z"
   },
   {
    "duration": 112,
    "start_time": "2022-05-28T20:25:30.771Z"
   },
   {
    "duration": 158,
    "start_time": "2022-05-28T20:31:26.864Z"
   },
   {
    "duration": 481,
    "start_time": "2022-05-28T20:36:23.206Z"
   },
   {
    "duration": 143,
    "start_time": "2022-05-28T20:44:02.366Z"
   },
   {
    "duration": 190,
    "start_time": "2022-05-28T20:44:11.222Z"
   },
   {
    "duration": 9,
    "start_time": "2022-05-28T20:48:25.441Z"
   },
   {
    "duration": 10,
    "start_time": "2022-05-28T20:48:39.606Z"
   },
   {
    "duration": 3,
    "start_time": "2022-05-28T20:50:50.732Z"
   },
   {
    "duration": 201,
    "start_time": "2022-05-28T20:50:51.360Z"
   },
   {
    "duration": 409,
    "start_time": "2022-05-28T20:51:13.380Z"
   },
   {
    "duration": 9,
    "start_time": "2022-05-28T20:51:41.156Z"
   },
   {
    "duration": 16,
    "start_time": "2022-05-28T20:51:49.608Z"
   },
   {
    "duration": 16,
    "start_time": "2022-05-28T20:52:34.159Z"
   },
   {
    "duration": 16,
    "start_time": "2022-05-28T20:52:57.470Z"
   },
   {
    "duration": 18,
    "start_time": "2022-05-28T20:53:12.546Z"
   },
   {
    "duration": 197,
    "start_time": "2022-05-28T20:53:38.569Z"
   },
   {
    "duration": 180,
    "start_time": "2022-05-28T20:58:35.416Z"
   },
   {
    "duration": 164,
    "start_time": "2022-05-28T20:58:56.017Z"
   },
   {
    "duration": 11,
    "start_time": "2022-05-28T20:59:43.214Z"
   },
   {
    "duration": 138,
    "start_time": "2022-05-28T20:59:52.769Z"
   },
   {
    "duration": 1567,
    "start_time": "2022-05-29T13:49:50.945Z"
   },
   {
    "duration": 22,
    "start_time": "2022-05-29T13:49:52.514Z"
   },
   {
    "duration": 86,
    "start_time": "2022-05-29T13:49:52.538Z"
   },
   {
    "duration": 17,
    "start_time": "2022-05-29T13:49:52.627Z"
   },
   {
    "duration": 9,
    "start_time": "2022-05-29T13:49:52.646Z"
   },
   {
    "duration": 11,
    "start_time": "2022-05-29T13:49:52.657Z"
   },
   {
    "duration": 27,
    "start_time": "2022-05-29T13:49:52.703Z"
   },
   {
    "duration": 20,
    "start_time": "2022-05-29T13:49:52.731Z"
   },
   {
    "duration": 11,
    "start_time": "2022-05-29T13:49:52.752Z"
   },
   {
    "duration": 46,
    "start_time": "2022-05-29T13:49:52.766Z"
   },
   {
    "duration": 8,
    "start_time": "2022-05-29T13:49:52.814Z"
   },
   {
    "duration": 5,
    "start_time": "2022-05-29T13:49:52.824Z"
   },
   {
    "duration": 12,
    "start_time": "2022-05-29T13:49:52.831Z"
   },
   {
    "duration": 178,
    "start_time": "2022-05-29T13:49:52.844Z"
   },
   {
    "duration": 11,
    "start_time": "2022-05-29T13:49:53.024Z"
   },
   {
    "duration": 183,
    "start_time": "2022-05-29T13:49:53.037Z"
   },
   {
    "duration": 216,
    "start_time": "2022-05-29T13:49:53.221Z"
   },
   {
    "duration": 11125,
    "start_time": "2022-05-29T13:49:53.439Z"
   },
   {
    "duration": 0,
    "start_time": "2022-05-29T13:50:04.566Z"
   },
   {
    "duration": 0,
    "start_time": "2022-05-29T13:50:04.567Z"
   },
   {
    "duration": 0,
    "start_time": "2022-05-29T13:50:04.568Z"
   },
   {
    "duration": 0,
    "start_time": "2022-05-29T13:50:04.569Z"
   },
   {
    "duration": 0,
    "start_time": "2022-05-29T13:50:04.570Z"
   },
   {
    "duration": 0,
    "start_time": "2022-05-29T13:50:04.571Z"
   },
   {
    "duration": 0,
    "start_time": "2022-05-29T13:50:04.572Z"
   },
   {
    "duration": 7,
    "start_time": "2022-05-29T13:50:13.513Z"
   },
   {
    "duration": 193,
    "start_time": "2022-05-29T13:50:14.244Z"
   },
   {
    "duration": 44,
    "start_time": "2022-05-29T13:50:20.547Z"
   },
   {
    "duration": 81,
    "start_time": "2022-05-29T13:52:48.478Z"
   },
   {
    "duration": 295,
    "start_time": "2022-05-29T13:57:08.365Z"
   },
   {
    "duration": 133,
    "start_time": "2022-05-29T13:57:36.152Z"
   },
   {
    "duration": 140,
    "start_time": "2022-05-29T13:58:10.177Z"
   },
   {
    "duration": 50,
    "start_time": "2022-05-29T13:58:43.722Z"
   },
   {
    "duration": 5032,
    "start_time": "2022-05-29T13:59:01.821Z"
   },
   {
    "duration": 13,
    "start_time": "2022-05-29T13:59:12.578Z"
   },
   {
    "duration": 68,
    "start_time": "2022-05-29T13:59:33.511Z"
   },
   {
    "duration": 5676,
    "start_time": "2022-05-29T14:00:16.189Z"
   },
   {
    "duration": 20,
    "start_time": "2022-05-29T14:00:27.522Z"
   },
   {
    "duration": 5547,
    "start_time": "2022-05-29T14:00:47.354Z"
   },
   {
    "duration": 10187,
    "start_time": "2022-05-29T14:01:35.863Z"
   },
   {
    "duration": 6172,
    "start_time": "2022-05-29T14:02:16.280Z"
   },
   {
    "duration": 10418,
    "start_time": "2022-05-29T14:02:56.293Z"
   },
   {
    "duration": 6576,
    "start_time": "2022-05-29T14:03:25.359Z"
   },
   {
    "duration": 13,
    "start_time": "2022-05-29T14:03:43.545Z"
   },
   {
    "duration": 7350,
    "start_time": "2022-05-29T14:04:08.820Z"
   },
   {
    "duration": 39,
    "start_time": "2022-05-29T14:15:48.123Z"
   },
   {
    "duration": 34,
    "start_time": "2022-05-29T14:16:05.474Z"
   },
   {
    "duration": 21,
    "start_time": "2022-05-29T14:16:14.349Z"
   },
   {
    "duration": 23,
    "start_time": "2022-05-29T14:17:14.224Z"
   },
   {
    "duration": 11,
    "start_time": "2022-05-29T14:17:26.630Z"
   },
   {
    "duration": 1589,
    "start_time": "2022-05-29T14:18:15.911Z"
   },
   {
    "duration": 25,
    "start_time": "2022-05-29T14:18:17.506Z"
   },
   {
    "duration": 113,
    "start_time": "2022-05-29T14:18:17.533Z"
   },
   {
    "duration": 30,
    "start_time": "2022-05-29T14:18:17.651Z"
   },
   {
    "duration": 16,
    "start_time": "2022-05-29T14:18:17.684Z"
   },
   {
    "duration": 59,
    "start_time": "2022-05-29T14:18:17.702Z"
   },
   {
    "duration": 30,
    "start_time": "2022-05-29T14:18:17.763Z"
   },
   {
    "duration": 55,
    "start_time": "2022-05-29T14:18:17.799Z"
   },
   {
    "duration": 19,
    "start_time": "2022-05-29T14:18:17.856Z"
   },
   {
    "duration": 39,
    "start_time": "2022-05-29T14:18:17.877Z"
   },
   {
    "duration": 28,
    "start_time": "2022-05-29T14:18:17.918Z"
   },
   {
    "duration": 6,
    "start_time": "2022-05-29T14:18:17.947Z"
   },
   {
    "duration": 11,
    "start_time": "2022-05-29T14:18:17.954Z"
   },
   {
    "duration": 194,
    "start_time": "2022-05-29T14:18:17.967Z"
   },
   {
    "duration": 16,
    "start_time": "2022-05-29T14:18:18.163Z"
   },
   {
    "duration": 243,
    "start_time": "2022-05-29T14:18:18.181Z"
   },
   {
    "duration": 244,
    "start_time": "2022-05-29T14:18:18.425Z"
   },
   {
    "duration": 12366,
    "start_time": "2022-05-29T14:18:18.671Z"
   },
   {
    "duration": 0,
    "start_time": "2022-05-29T14:18:31.039Z"
   },
   {
    "duration": 0,
    "start_time": "2022-05-29T14:18:31.041Z"
   },
   {
    "duration": 1,
    "start_time": "2022-05-29T14:18:31.041Z"
   },
   {
    "duration": 0,
    "start_time": "2022-05-29T14:18:31.043Z"
   },
   {
    "duration": 0,
    "start_time": "2022-05-29T14:18:31.044Z"
   },
   {
    "duration": 0,
    "start_time": "2022-05-29T14:18:31.045Z"
   },
   {
    "duration": 8,
    "start_time": "2022-05-29T14:18:34.528Z"
   },
   {
    "duration": 214,
    "start_time": "2022-05-29T14:18:35.157Z"
   },
   {
    "duration": 38,
    "start_time": "2022-05-29T14:18:37.485Z"
   },
   {
    "duration": 18,
    "start_time": "2022-05-29T14:18:39.365Z"
   },
   {
    "duration": 283,
    "start_time": "2022-05-29T14:18:40.175Z"
   },
   {
    "duration": 790,
    "start_time": "2022-05-29T14:19:11.050Z"
   },
   {
    "duration": 588,
    "start_time": "2022-05-29T14:19:33.152Z"
   },
   {
    "duration": 3,
    "start_time": "2022-05-29T14:21:34.131Z"
   },
   {
    "duration": 17,
    "start_time": "2022-05-29T14:24:05.114Z"
   },
   {
    "duration": 30,
    "start_time": "2022-05-29T14:24:49.110Z"
   },
   {
    "duration": 710,
    "start_time": "2022-05-29T14:25:05.164Z"
   },
   {
    "duration": 6,
    "start_time": "2022-05-29T14:26:45.247Z"
   },
   {
    "duration": 17,
    "start_time": "2022-05-29T14:32:03.756Z"
   },
   {
    "duration": 33,
    "start_time": "2022-05-29T14:32:44.234Z"
   },
   {
    "duration": 35,
    "start_time": "2022-05-29T14:32:52.593Z"
   },
   {
    "duration": 22,
    "start_time": "2022-05-29T14:33:09.457Z"
   },
   {
    "duration": 254,
    "start_time": "2022-05-29T14:33:12.595Z"
   },
   {
    "duration": 554,
    "start_time": "2022-05-29T14:33:45.955Z"
   },
   {
    "duration": 8,
    "start_time": "2022-05-29T14:33:53.514Z"
   },
   {
    "duration": 7,
    "start_time": "2022-05-29T14:34:06.915Z"
   },
   {
    "duration": 6,
    "start_time": "2022-05-29T14:34:55.246Z"
   },
   {
    "duration": 7,
    "start_time": "2022-05-29T14:35:39.674Z"
   },
   {
    "duration": 8,
    "start_time": "2022-05-29T14:35:44.669Z"
   },
   {
    "duration": 7,
    "start_time": "2022-05-29T14:39:58.781Z"
   },
   {
    "duration": 49,
    "start_time": "2022-05-29T14:41:43.222Z"
   },
   {
    "duration": 7,
    "start_time": "2022-05-29T14:41:49.171Z"
   },
   {
    "duration": 478,
    "start_time": "2022-05-29T14:46:10.710Z"
   },
   {
    "duration": 11,
    "start_time": "2022-05-29T14:46:58.456Z"
   },
   {
    "duration": 568,
    "start_time": "2022-05-29T14:47:00.187Z"
   },
   {
    "duration": 15,
    "start_time": "2022-05-29T14:48:04.722Z"
   },
   {
    "duration": 598,
    "start_time": "2022-05-29T14:48:06.980Z"
   },
   {
    "duration": 621,
    "start_time": "2022-05-29T14:48:16.524Z"
   },
   {
    "duration": 1578,
    "start_time": "2022-05-29T14:48:22.983Z"
   },
   {
    "duration": 18,
    "start_time": "2022-05-29T14:48:24.564Z"
   },
   {
    "duration": 104,
    "start_time": "2022-05-29T14:48:24.584Z"
   },
   {
    "duration": 37,
    "start_time": "2022-05-29T14:48:24.690Z"
   },
   {
    "duration": 23,
    "start_time": "2022-05-29T14:48:24.732Z"
   },
   {
    "duration": 20,
    "start_time": "2022-05-29T14:48:24.758Z"
   },
   {
    "duration": 53,
    "start_time": "2022-05-29T14:48:24.780Z"
   },
   {
    "duration": 39,
    "start_time": "2022-05-29T14:48:24.835Z"
   },
   {
    "duration": 23,
    "start_time": "2022-05-29T14:48:24.876Z"
   },
   {
    "duration": 61,
    "start_time": "2022-05-29T14:48:24.900Z"
   },
   {
    "duration": 12,
    "start_time": "2022-05-29T14:48:24.963Z"
   },
   {
    "duration": 6,
    "start_time": "2022-05-29T14:48:24.977Z"
   },
   {
    "duration": 9,
    "start_time": "2022-05-29T14:48:24.985Z"
   },
   {
    "duration": 316,
    "start_time": "2022-05-29T14:48:25.003Z"
   },
   {
    "duration": 16,
    "start_time": "2022-05-29T14:48:25.321Z"
   },
   {
    "duration": 266,
    "start_time": "2022-05-29T14:48:25.339Z"
   },
   {
    "duration": 242,
    "start_time": "2022-05-29T14:48:25.607Z"
   },
   {
    "duration": 13022,
    "start_time": "2022-05-29T14:48:25.850Z"
   },
   {
    "duration": 0,
    "start_time": "2022-05-29T14:48:38.874Z"
   },
   {
    "duration": 0,
    "start_time": "2022-05-29T14:48:38.876Z"
   },
   {
    "duration": 0,
    "start_time": "2022-05-29T14:48:38.877Z"
   },
   {
    "duration": 0,
    "start_time": "2022-05-29T14:48:38.878Z"
   },
   {
    "duration": 0,
    "start_time": "2022-05-29T14:48:38.879Z"
   },
   {
    "duration": 0,
    "start_time": "2022-05-29T14:48:38.900Z"
   },
   {
    "duration": 0,
    "start_time": "2022-05-29T14:48:38.901Z"
   },
   {
    "duration": 0,
    "start_time": "2022-05-29T14:48:38.903Z"
   },
   {
    "duration": 10,
    "start_time": "2022-05-29T14:49:59.069Z"
   },
   {
    "duration": 11,
    "start_time": "2022-05-29T14:50:10.648Z"
   },
   {
    "duration": 8,
    "start_time": "2022-05-29T14:50:21.085Z"
   },
   {
    "duration": 228,
    "start_time": "2022-05-29T14:50:21.744Z"
   },
   {
    "duration": 31,
    "start_time": "2022-05-29T14:50:23.650Z"
   },
   {
    "duration": 16,
    "start_time": "2022-05-29T14:50:25.078Z"
   },
   {
    "duration": 260,
    "start_time": "2022-05-29T14:50:25.510Z"
   },
   {
    "duration": 774,
    "start_time": "2022-05-29T14:50:27.026Z"
   },
   {
    "duration": 20,
    "start_time": "2022-05-29T14:50:28.145Z"
   },
   {
    "duration": 24,
    "start_time": "2022-05-29T14:50:34.292Z"
   },
   {
    "duration": 954,
    "start_time": "2022-05-29T14:53:10.842Z"
   },
   {
    "duration": 22,
    "start_time": "2022-05-29T14:53:41.435Z"
   },
   {
    "duration": 33,
    "start_time": "2022-05-29T15:12:49.385Z"
   },
   {
    "duration": 23,
    "start_time": "2022-05-29T15:13:11.909Z"
   },
   {
    "duration": 14,
    "start_time": "2022-05-29T15:15:04.942Z"
   },
   {
    "duration": 15,
    "start_time": "2022-05-29T15:16:38.278Z"
   },
   {
    "duration": 1561,
    "start_time": "2022-05-29T15:21:48.512Z"
   },
   {
    "duration": 16,
    "start_time": "2022-05-29T15:21:50.075Z"
   },
   {
    "duration": 130,
    "start_time": "2022-05-29T15:21:50.093Z"
   },
   {
    "duration": 34,
    "start_time": "2022-05-29T15:21:50.226Z"
   },
   {
    "duration": 9,
    "start_time": "2022-05-29T15:21:50.263Z"
   },
   {
    "duration": 25,
    "start_time": "2022-05-29T15:21:50.274Z"
   },
   {
    "duration": 64,
    "start_time": "2022-05-29T15:21:50.303Z"
   },
   {
    "duration": 21,
    "start_time": "2022-05-29T15:21:50.369Z"
   },
   {
    "duration": 23,
    "start_time": "2022-05-29T15:21:50.392Z"
   },
   {
    "duration": 46,
    "start_time": "2022-05-29T15:21:50.417Z"
   },
   {
    "duration": 9,
    "start_time": "2022-05-29T15:21:50.465Z"
   },
   {
    "duration": 25,
    "start_time": "2022-05-29T15:21:50.476Z"
   },
   {
    "duration": 36,
    "start_time": "2022-05-29T15:21:50.503Z"
   },
   {
    "duration": 210,
    "start_time": "2022-05-29T15:21:50.542Z"
   },
   {
    "duration": 15,
    "start_time": "2022-05-29T15:21:50.754Z"
   },
   {
    "duration": 210,
    "start_time": "2022-05-29T15:21:50.771Z"
   },
   {
    "duration": 255,
    "start_time": "2022-05-29T15:21:50.983Z"
   },
   {
    "duration": 12664,
    "start_time": "2022-05-29T15:21:51.240Z"
   },
   {
    "duration": 0,
    "start_time": "2022-05-29T15:22:03.908Z"
   },
   {
    "duration": 0,
    "start_time": "2022-05-29T15:22:03.909Z"
   },
   {
    "duration": 0,
    "start_time": "2022-05-29T15:22:03.911Z"
   },
   {
    "duration": 0,
    "start_time": "2022-05-29T15:22:03.912Z"
   },
   {
    "duration": 0,
    "start_time": "2022-05-29T15:22:03.913Z"
   },
   {
    "duration": 0,
    "start_time": "2022-05-29T15:22:03.915Z"
   },
   {
    "duration": 0,
    "start_time": "2022-05-29T15:22:03.916Z"
   },
   {
    "duration": 0,
    "start_time": "2022-05-29T15:22:03.917Z"
   },
   {
    "duration": 0,
    "start_time": "2022-05-29T15:22:03.918Z"
   },
   {
    "duration": 7,
    "start_time": "2022-05-29T15:22:08.538Z"
   },
   {
    "duration": 228,
    "start_time": "2022-05-29T15:22:09.363Z"
   },
   {
    "duration": 28,
    "start_time": "2022-05-29T15:22:11.185Z"
   },
   {
    "duration": 22,
    "start_time": "2022-05-29T15:22:12.519Z"
   },
   {
    "duration": 265,
    "start_time": "2022-05-29T15:22:13.119Z"
   },
   {
    "duration": 517,
    "start_time": "2022-05-29T15:22:14.358Z"
   },
   {
    "duration": 40,
    "start_time": "2022-05-29T15:22:14.877Z"
   },
   {
    "duration": 15,
    "start_time": "2022-05-29T15:22:15.638Z"
   },
   {
    "duration": 15,
    "start_time": "2022-05-29T15:22:16.354Z"
   },
   {
    "duration": 17,
    "start_time": "2022-05-29T15:57:13.195Z"
   },
   {
    "duration": 21,
    "start_time": "2022-05-29T15:57:22.252Z"
   },
   {
    "duration": 992,
    "start_time": "2022-05-29T15:57:26.555Z"
   },
   {
    "duration": 20,
    "start_time": "2022-05-29T15:57:27.549Z"
   },
   {
    "duration": 16,
    "start_time": "2022-05-29T15:57:28.706Z"
   },
   {
    "duration": 11,
    "start_time": "2022-05-29T15:57:29.620Z"
   },
   {
    "duration": 16,
    "start_time": "2022-05-29T15:58:53.559Z"
   },
   {
    "duration": 18,
    "start_time": "2022-05-29T15:59:02.849Z"
   },
   {
    "duration": 20,
    "start_time": "2022-05-29T16:00:21.911Z"
   },
   {
    "duration": 1290,
    "start_time": "2022-05-29T16:01:02.961Z"
   },
   {
    "duration": 15,
    "start_time": "2022-05-29T16:01:04.253Z"
   },
   {
    "duration": 87,
    "start_time": "2022-05-29T16:01:04.270Z"
   },
   {
    "duration": 18,
    "start_time": "2022-05-29T16:01:04.359Z"
   },
   {
    "duration": 13,
    "start_time": "2022-05-29T16:01:04.398Z"
   },
   {
    "duration": 13,
    "start_time": "2022-05-29T16:01:04.413Z"
   },
   {
    "duration": 29,
    "start_time": "2022-05-29T16:01:04.428Z"
   },
   {
    "duration": 40,
    "start_time": "2022-05-29T16:01:04.459Z"
   },
   {
    "duration": 15,
    "start_time": "2022-05-29T16:01:04.504Z"
   },
   {
    "duration": 22,
    "start_time": "2022-05-29T16:01:04.523Z"
   },
   {
    "duration": 9,
    "start_time": "2022-05-29T16:01:04.547Z"
   },
   {
    "duration": 6,
    "start_time": "2022-05-29T16:01:04.557Z"
   },
   {
    "duration": 31,
    "start_time": "2022-05-29T16:01:04.565Z"
   },
   {
    "duration": 172,
    "start_time": "2022-05-29T16:01:04.608Z"
   },
   {
    "duration": 28,
    "start_time": "2022-05-29T16:01:04.782Z"
   },
   {
    "duration": 169,
    "start_time": "2022-05-29T16:01:04.813Z"
   },
   {
    "duration": 219,
    "start_time": "2022-05-29T16:01:04.984Z"
   },
   {
    "duration": 11148,
    "start_time": "2022-05-29T16:01:05.208Z"
   },
   {
    "duration": 0,
    "start_time": "2022-05-29T16:01:16.358Z"
   },
   {
    "duration": 0,
    "start_time": "2022-05-29T16:01:16.359Z"
   },
   {
    "duration": 0,
    "start_time": "2022-05-29T16:01:16.360Z"
   },
   {
    "duration": 0,
    "start_time": "2022-05-29T16:01:16.362Z"
   },
   {
    "duration": 0,
    "start_time": "2022-05-29T16:01:16.363Z"
   },
   {
    "duration": 0,
    "start_time": "2022-05-29T16:01:16.364Z"
   },
   {
    "duration": 0,
    "start_time": "2022-05-29T16:01:16.365Z"
   },
   {
    "duration": 0,
    "start_time": "2022-05-29T16:01:16.366Z"
   },
   {
    "duration": 0,
    "start_time": "2022-05-29T16:01:16.367Z"
   },
   {
    "duration": 8,
    "start_time": "2022-05-29T16:01:19.816Z"
   },
   {
    "duration": 197,
    "start_time": "2022-05-29T16:01:20.366Z"
   },
   {
    "duration": 22,
    "start_time": "2022-05-29T16:01:22.252Z"
   },
   {
    "duration": 17,
    "start_time": "2022-05-29T16:01:23.561Z"
   },
   {
    "duration": 195,
    "start_time": "2022-05-29T16:01:24.223Z"
   },
   {
    "duration": 519,
    "start_time": "2022-05-29T16:01:25.474Z"
   },
   {
    "duration": 20,
    "start_time": "2022-05-29T16:01:26.249Z"
   },
   {
    "duration": 17,
    "start_time": "2022-05-29T16:01:26.857Z"
   },
   {
    "duration": 14,
    "start_time": "2022-05-29T16:01:27.678Z"
   },
   {
    "duration": 27,
    "start_time": "2022-05-29T16:02:51.393Z"
   },
   {
    "duration": 18,
    "start_time": "2022-05-29T16:02:57.353Z"
   },
   {
    "duration": 12,
    "start_time": "2022-05-29T16:02:59.948Z"
   },
   {
    "duration": 32,
    "start_time": "2022-05-29T16:04:18.292Z"
   },
   {
    "duration": 14,
    "start_time": "2022-05-29T16:04:33.051Z"
   },
   {
    "duration": 20,
    "start_time": "2022-05-29T16:04:44.015Z"
   },
   {
    "duration": 18,
    "start_time": "2022-05-29T16:04:52.875Z"
   },
   {
    "duration": 15,
    "start_time": "2022-05-29T16:04:58.421Z"
   },
   {
    "duration": 728,
    "start_time": "2022-05-29T16:06:03.574Z"
   },
   {
    "duration": 468,
    "start_time": "2022-05-29T16:06:14.453Z"
   },
   {
    "duration": 573,
    "start_time": "2022-05-29T16:06:16.690Z"
   },
   {
    "duration": 16,
    "start_time": "2022-05-29T16:06:17.537Z"
   },
   {
    "duration": 20,
    "start_time": "2022-05-29T16:06:26.331Z"
   },
   {
    "duration": 14,
    "start_time": "2022-05-29T16:06:28.646Z"
   },
   {
    "duration": 13,
    "start_time": "2022-05-29T16:06:30.210Z"
   },
   {
    "duration": 20,
    "start_time": "2022-05-29T16:07:38.853Z"
   },
   {
    "duration": 1395,
    "start_time": "2022-05-29T16:07:45.514Z"
   },
   {
    "duration": 24,
    "start_time": "2022-05-29T16:07:46.912Z"
   },
   {
    "duration": 88,
    "start_time": "2022-05-29T16:07:46.937Z"
   },
   {
    "duration": 27,
    "start_time": "2022-05-29T16:07:47.027Z"
   },
   {
    "duration": 14,
    "start_time": "2022-05-29T16:07:47.057Z"
   },
   {
    "duration": 30,
    "start_time": "2022-05-29T16:07:47.073Z"
   },
   {
    "duration": 45,
    "start_time": "2022-05-29T16:07:47.106Z"
   },
   {
    "duration": 16,
    "start_time": "2022-05-29T16:07:47.153Z"
   },
   {
    "duration": 40,
    "start_time": "2022-05-29T16:07:47.171Z"
   },
   {
    "duration": 23,
    "start_time": "2022-05-29T16:07:47.213Z"
   },
   {
    "duration": 11,
    "start_time": "2022-05-29T16:07:47.237Z"
   },
   {
    "duration": 9,
    "start_time": "2022-05-29T16:07:47.251Z"
   },
   {
    "duration": 9,
    "start_time": "2022-05-29T16:07:47.262Z"
   },
   {
    "duration": 210,
    "start_time": "2022-05-29T16:07:47.274Z"
   },
   {
    "duration": 33,
    "start_time": "2022-05-29T16:07:47.486Z"
   },
   {
    "duration": 209,
    "start_time": "2022-05-29T16:07:47.521Z"
   },
   {
    "duration": 230,
    "start_time": "2022-05-29T16:07:47.732Z"
   },
   {
    "duration": 11096,
    "start_time": "2022-05-29T16:07:47.964Z"
   },
   {
    "duration": 0,
    "start_time": "2022-05-29T16:07:59.062Z"
   },
   {
    "duration": 0,
    "start_time": "2022-05-29T16:07:59.063Z"
   },
   {
    "duration": 0,
    "start_time": "2022-05-29T16:07:59.065Z"
   },
   {
    "duration": 0,
    "start_time": "2022-05-29T16:07:59.065Z"
   },
   {
    "duration": 0,
    "start_time": "2022-05-29T16:07:59.066Z"
   },
   {
    "duration": 0,
    "start_time": "2022-05-29T16:07:59.068Z"
   },
   {
    "duration": 0,
    "start_time": "2022-05-29T16:07:59.069Z"
   },
   {
    "duration": 0,
    "start_time": "2022-05-29T16:07:59.070Z"
   },
   {
    "duration": 0,
    "start_time": "2022-05-29T16:07:59.070Z"
   },
   {
    "duration": 14,
    "start_time": "2022-05-29T16:09:33.694Z"
   },
   {
    "duration": 196,
    "start_time": "2022-05-29T16:09:33.985Z"
   },
   {
    "duration": 30,
    "start_time": "2022-05-29T16:09:35.683Z"
   },
   {
    "duration": 23,
    "start_time": "2022-05-29T16:09:36.900Z"
   },
   {
    "duration": 251,
    "start_time": "2022-05-29T16:09:37.293Z"
   },
   {
    "duration": 448,
    "start_time": "2022-05-29T16:09:38.464Z"
   },
   {
    "duration": 22,
    "start_time": "2022-05-29T16:09:39.026Z"
   },
   {
    "duration": 15,
    "start_time": "2022-05-29T16:09:40.072Z"
   },
   {
    "duration": 14,
    "start_time": "2022-05-29T16:09:45.223Z"
   },
   {
    "duration": 26,
    "start_time": "2022-05-29T16:12:18.615Z"
   },
   {
    "duration": 20,
    "start_time": "2022-05-29T16:12:24.612Z"
   },
   {
    "duration": 13,
    "start_time": "2022-05-29T16:12:25.151Z"
   },
   {
    "duration": 1303,
    "start_time": "2022-05-29T16:12:59.159Z"
   },
   {
    "duration": 16,
    "start_time": "2022-05-29T16:13:00.464Z"
   },
   {
    "duration": 100,
    "start_time": "2022-05-29T16:13:00.482Z"
   },
   {
    "duration": 33,
    "start_time": "2022-05-29T16:13:00.584Z"
   },
   {
    "duration": 23,
    "start_time": "2022-05-29T16:13:00.619Z"
   },
   {
    "duration": 32,
    "start_time": "2022-05-29T16:13:00.644Z"
   },
   {
    "duration": 72,
    "start_time": "2022-05-29T16:13:00.678Z"
   },
   {
    "duration": 17,
    "start_time": "2022-05-29T16:13:00.752Z"
   },
   {
    "duration": 16,
    "start_time": "2022-05-29T16:13:00.770Z"
   },
   {
    "duration": 34,
    "start_time": "2022-05-29T16:13:00.788Z"
   },
   {
    "duration": 13,
    "start_time": "2022-05-29T16:13:00.824Z"
   },
   {
    "duration": 40,
    "start_time": "2022-05-29T16:13:00.839Z"
   },
   {
    "duration": 15,
    "start_time": "2022-05-29T16:13:00.881Z"
   },
   {
    "duration": 191,
    "start_time": "2022-05-29T16:13:00.897Z"
   },
   {
    "duration": 25,
    "start_time": "2022-05-29T16:13:01.089Z"
   },
   {
    "duration": 168,
    "start_time": "2022-05-29T16:13:01.116Z"
   },
   {
    "duration": 226,
    "start_time": "2022-05-29T16:13:01.285Z"
   },
   {
    "duration": 11018,
    "start_time": "2022-05-29T16:13:01.513Z"
   },
   {
    "duration": 0,
    "start_time": "2022-05-29T16:13:12.533Z"
   },
   {
    "duration": 0,
    "start_time": "2022-05-29T16:13:12.534Z"
   },
   {
    "duration": 0,
    "start_time": "2022-05-29T16:13:12.535Z"
   },
   {
    "duration": 0,
    "start_time": "2022-05-29T16:13:12.537Z"
   },
   {
    "duration": 0,
    "start_time": "2022-05-29T16:13:12.538Z"
   },
   {
    "duration": 0,
    "start_time": "2022-05-29T16:13:12.538Z"
   },
   {
    "duration": 0,
    "start_time": "2022-05-29T16:13:12.540Z"
   },
   {
    "duration": 0,
    "start_time": "2022-05-29T16:13:12.541Z"
   },
   {
    "duration": 0,
    "start_time": "2022-05-29T16:13:12.542Z"
   },
   {
    "duration": 8,
    "start_time": "2022-05-29T16:13:16.366Z"
   },
   {
    "duration": 203,
    "start_time": "2022-05-29T16:13:16.815Z"
   },
   {
    "duration": 21,
    "start_time": "2022-05-29T16:13:18.625Z"
   },
   {
    "duration": 17,
    "start_time": "2022-05-29T16:13:20.050Z"
   },
   {
    "duration": 188,
    "start_time": "2022-05-29T16:13:20.492Z"
   },
   {
    "duration": 440,
    "start_time": "2022-05-29T16:13:22.082Z"
   },
   {
    "duration": 33,
    "start_time": "2022-05-29T16:13:26.187Z"
   },
   {
    "duration": 23,
    "start_time": "2022-05-29T16:13:26.915Z"
   },
   {
    "duration": 13,
    "start_time": "2022-05-29T16:13:29.650Z"
   },
   {
    "duration": 108,
    "start_time": "2022-05-29T17:38:35.563Z"
   },
   {
    "duration": 98,
    "start_time": "2022-05-29T17:38:51.126Z"
   },
   {
    "duration": 88,
    "start_time": "2022-05-29T17:39:01.523Z"
   },
   {
    "duration": 78,
    "start_time": "2022-05-29T17:39:53.815Z"
   },
   {
    "duration": 76,
    "start_time": "2022-05-29T17:40:16.986Z"
   },
   {
    "duration": 84,
    "start_time": "2022-05-29T17:44:20.673Z"
   },
   {
    "duration": 93,
    "start_time": "2022-05-29T17:49:19.316Z"
   },
   {
    "duration": 88,
    "start_time": "2022-05-29T17:49:35.858Z"
   },
   {
    "duration": 93,
    "start_time": "2022-05-29T17:56:34.816Z"
   },
   {
    "duration": 31,
    "start_time": "2022-05-29T18:22:01.955Z"
   },
   {
    "duration": 23,
    "start_time": "2022-05-29T18:22:13.432Z"
   },
   {
    "duration": 421,
    "start_time": "2022-05-29T18:23:13.453Z"
   },
   {
    "duration": 570,
    "start_time": "2022-05-29T18:23:38.411Z"
   },
   {
    "duration": 530,
    "start_time": "2022-05-29T18:24:03.360Z"
   },
   {
    "duration": 28,
    "start_time": "2022-05-29T18:24:08.558Z"
   },
   {
    "duration": 1291,
    "start_time": "2022-05-29T18:24:52.108Z"
   },
   {
    "duration": 18,
    "start_time": "2022-05-29T18:24:53.406Z"
   },
   {
    "duration": 91,
    "start_time": "2022-05-29T18:24:53.426Z"
   },
   {
    "duration": 17,
    "start_time": "2022-05-29T18:24:53.518Z"
   },
   {
    "duration": 8,
    "start_time": "2022-05-29T18:24:53.537Z"
   },
   {
    "duration": 12,
    "start_time": "2022-05-29T18:24:53.547Z"
   },
   {
    "duration": 63,
    "start_time": "2022-05-29T18:24:53.561Z"
   },
   {
    "duration": 22,
    "start_time": "2022-05-29T18:24:53.626Z"
   },
   {
    "duration": 15,
    "start_time": "2022-05-29T18:24:53.650Z"
   },
   {
    "duration": 46,
    "start_time": "2022-05-29T18:24:53.667Z"
   },
   {
    "duration": 8,
    "start_time": "2022-05-29T18:24:53.715Z"
   },
   {
    "duration": 7,
    "start_time": "2022-05-29T18:24:53.725Z"
   },
   {
    "duration": 7,
    "start_time": "2022-05-29T18:24:53.734Z"
   },
   {
    "duration": 235,
    "start_time": "2022-05-29T18:24:53.744Z"
   },
   {
    "duration": 30,
    "start_time": "2022-05-29T18:24:53.981Z"
   },
   {
    "duration": 207,
    "start_time": "2022-05-29T18:24:54.019Z"
   },
   {
    "duration": 209,
    "start_time": "2022-05-29T18:24:54.228Z"
   },
   {
    "duration": 11308,
    "start_time": "2022-05-29T18:24:54.439Z"
   },
   {
    "duration": 0,
    "start_time": "2022-05-29T18:25:05.750Z"
   },
   {
    "duration": 0,
    "start_time": "2022-05-29T18:25:05.752Z"
   },
   {
    "duration": 0,
    "start_time": "2022-05-29T18:25:05.753Z"
   },
   {
    "duration": 1,
    "start_time": "2022-05-29T18:25:05.754Z"
   },
   {
    "duration": 0,
    "start_time": "2022-05-29T18:25:05.756Z"
   },
   {
    "duration": 0,
    "start_time": "2022-05-29T18:25:05.758Z"
   },
   {
    "duration": 0,
    "start_time": "2022-05-29T18:25:05.759Z"
   },
   {
    "duration": 0,
    "start_time": "2022-05-29T18:25:05.760Z"
   },
   {
    "duration": 0,
    "start_time": "2022-05-29T18:25:05.761Z"
   },
   {
    "duration": 0,
    "start_time": "2022-05-29T18:25:05.764Z"
   },
   {
    "duration": 9,
    "start_time": "2022-05-29T18:25:11.771Z"
   },
   {
    "duration": 189,
    "start_time": "2022-05-29T18:25:12.270Z"
   },
   {
    "duration": 25,
    "start_time": "2022-05-29T18:25:14.946Z"
   },
   {
    "duration": 17,
    "start_time": "2022-05-29T18:25:16.377Z"
   },
   {
    "duration": 205,
    "start_time": "2022-05-29T18:25:16.747Z"
   },
   {
    "duration": 724,
    "start_time": "2022-05-29T18:25:17.522Z"
   },
   {
    "duration": 39,
    "start_time": "2022-05-29T18:25:18.248Z"
   },
   {
    "duration": 18,
    "start_time": "2022-05-29T18:25:18.434Z"
   },
   {
    "duration": 14,
    "start_time": "2022-05-29T18:25:23.363Z"
   },
   {
    "duration": 31,
    "start_time": "2022-05-29T18:26:49.582Z"
   },
   {
    "duration": 27,
    "start_time": "2022-05-29T18:27:10.506Z"
   },
   {
    "duration": 38,
    "start_time": "2022-05-29T18:27:24.398Z"
   },
   {
    "duration": 23,
    "start_time": "2022-05-29T18:27:30.003Z"
   },
   {
    "duration": 19,
    "start_time": "2022-05-29T18:28:07.262Z"
   },
   {
    "duration": 17,
    "start_time": "2022-05-29T18:28:26.414Z"
   },
   {
    "duration": 16,
    "start_time": "2022-05-29T18:32:49.524Z"
   },
   {
    "duration": 20,
    "start_time": "2022-05-29T18:33:01.530Z"
   },
   {
    "duration": 29,
    "start_time": "2022-05-29T18:33:19.357Z"
   },
   {
    "duration": 24,
    "start_time": "2022-05-29T18:33:20.294Z"
   },
   {
    "duration": 21,
    "start_time": "2022-05-29T18:33:20.992Z"
   },
   {
    "duration": 18,
    "start_time": "2022-05-29T18:33:22.956Z"
   },
   {
    "duration": 22,
    "start_time": "2022-05-29T18:34:44.483Z"
   },
   {
    "duration": 20,
    "start_time": "2022-05-29T18:35:25.886Z"
   },
   {
    "duration": 39,
    "start_time": "2022-05-29T18:44:31.921Z"
   },
   {
    "duration": 31,
    "start_time": "2022-05-29T18:44:49.851Z"
   },
   {
    "duration": 37,
    "start_time": "2022-05-29T18:44:54.273Z"
   },
   {
    "duration": 46,
    "start_time": "2022-05-29T18:45:14.772Z"
   },
   {
    "duration": 40,
    "start_time": "2022-05-29T18:45:47.016Z"
   },
   {
    "duration": 48,
    "start_time": "2022-05-29T18:46:11.060Z"
   },
   {
    "duration": 42,
    "start_time": "2022-05-29T18:46:33.132Z"
   },
   {
    "duration": 34,
    "start_time": "2022-05-29T18:46:39.117Z"
   },
   {
    "duration": 38,
    "start_time": "2022-05-29T18:47:33.468Z"
   },
   {
    "duration": 37,
    "start_time": "2022-05-29T18:53:33.327Z"
   },
   {
    "duration": 40,
    "start_time": "2022-05-29T18:53:50.789Z"
   },
   {
    "duration": 34,
    "start_time": "2022-05-29T18:53:59.677Z"
   },
   {
    "duration": 32,
    "start_time": "2022-05-29T18:54:09.632Z"
   },
   {
    "duration": 39,
    "start_time": "2022-05-29T18:54:22.831Z"
   },
   {
    "duration": 46,
    "start_time": "2022-05-29T18:58:18.193Z"
   },
   {
    "duration": 36,
    "start_time": "2022-05-29T18:58:30.543Z"
   },
   {
    "duration": 1454,
    "start_time": "2022-05-29T18:58:38.477Z"
   },
   {
    "duration": 24,
    "start_time": "2022-05-29T18:58:39.934Z"
   },
   {
    "duration": 101,
    "start_time": "2022-05-29T18:58:39.960Z"
   },
   {
    "duration": 38,
    "start_time": "2022-05-29T18:58:40.063Z"
   },
   {
    "duration": 13,
    "start_time": "2022-05-29T18:58:40.102Z"
   },
   {
    "duration": 20,
    "start_time": "2022-05-29T18:58:40.117Z"
   },
   {
    "duration": 31,
    "start_time": "2022-05-29T18:58:40.139Z"
   },
   {
    "duration": 24,
    "start_time": "2022-05-29T18:58:40.172Z"
   },
   {
    "duration": 24,
    "start_time": "2022-05-29T18:58:40.199Z"
   },
   {
    "duration": 24,
    "start_time": "2022-05-29T18:58:40.228Z"
   },
   {
    "duration": 9,
    "start_time": "2022-05-29T18:58:40.254Z"
   },
   {
    "duration": 32,
    "start_time": "2022-05-29T18:58:40.265Z"
   },
   {
    "duration": 6,
    "start_time": "2022-05-29T18:58:40.303Z"
   },
   {
    "duration": 187,
    "start_time": "2022-05-29T18:58:40.311Z"
   },
   {
    "duration": 18,
    "start_time": "2022-05-29T18:58:40.499Z"
   },
   {
    "duration": 245,
    "start_time": "2022-05-29T18:58:40.519Z"
   },
   {
    "duration": 313,
    "start_time": "2022-05-29T18:58:40.766Z"
   },
   {
    "duration": 224,
    "start_time": "2022-05-29T18:58:41.081Z"
   },
   {
    "duration": 0,
    "start_time": "2022-05-29T18:58:41.307Z"
   },
   {
    "duration": 0,
    "start_time": "2022-05-29T18:58:41.309Z"
   },
   {
    "duration": 0,
    "start_time": "2022-05-29T18:58:41.310Z"
   },
   {
    "duration": 0,
    "start_time": "2022-05-29T18:58:41.311Z"
   },
   {
    "duration": 0,
    "start_time": "2022-05-29T18:58:41.312Z"
   },
   {
    "duration": 0,
    "start_time": "2022-05-29T18:58:41.312Z"
   },
   {
    "duration": 0,
    "start_time": "2022-05-29T18:58:41.313Z"
   },
   {
    "duration": 0,
    "start_time": "2022-05-29T18:58:41.314Z"
   },
   {
    "duration": 0,
    "start_time": "2022-05-29T18:58:41.315Z"
   },
   {
    "duration": 0,
    "start_time": "2022-05-29T18:58:41.317Z"
   },
   {
    "duration": 0,
    "start_time": "2022-05-29T18:58:41.318Z"
   },
   {
    "duration": 39,
    "start_time": "2022-05-29T18:59:02.878Z"
   },
   {
    "duration": 35,
    "start_time": "2022-05-29T19:02:47.821Z"
   },
   {
    "duration": 1401,
    "start_time": "2022-05-29T19:04:07.050Z"
   },
   {
    "duration": 15,
    "start_time": "2022-05-29T19:04:08.454Z"
   },
   {
    "duration": 99,
    "start_time": "2022-05-29T19:04:08.473Z"
   },
   {
    "duration": 37,
    "start_time": "2022-05-29T19:04:08.574Z"
   },
   {
    "duration": 15,
    "start_time": "2022-05-29T19:04:08.614Z"
   },
   {
    "duration": 13,
    "start_time": "2022-05-29T19:04:08.631Z"
   },
   {
    "duration": 28,
    "start_time": "2022-05-29T19:04:08.646Z"
   },
   {
    "duration": 50,
    "start_time": "2022-05-29T19:04:08.676Z"
   },
   {
    "duration": 13,
    "start_time": "2022-05-29T19:04:08.729Z"
   },
   {
    "duration": 23,
    "start_time": "2022-05-29T19:04:08.744Z"
   },
   {
    "duration": 35,
    "start_time": "2022-05-29T19:04:08.769Z"
   },
   {
    "duration": 32,
    "start_time": "2022-05-29T19:04:08.805Z"
   },
   {
    "duration": 5,
    "start_time": "2022-05-29T19:04:08.839Z"
   },
   {
    "duration": 185,
    "start_time": "2022-05-29T19:04:08.846Z"
   },
   {
    "duration": 16,
    "start_time": "2022-05-29T19:04:09.034Z"
   },
   {
    "duration": 200,
    "start_time": "2022-05-29T19:04:09.052Z"
   },
   {
    "duration": 225,
    "start_time": "2022-05-29T19:04:09.253Z"
   },
   {
    "duration": 54,
    "start_time": "2022-05-29T19:04:09.480Z"
   },
   {
    "duration": 6,
    "start_time": "2022-05-29T19:04:09.536Z"
   },
   {
    "duration": 207,
    "start_time": "2022-05-29T19:04:09.544Z"
   },
   {
    "duration": 21,
    "start_time": "2022-05-29T19:04:09.753Z"
   },
   {
    "duration": 45,
    "start_time": "2022-05-29T19:04:09.775Z"
   },
   {
    "duration": 220,
    "start_time": "2022-05-29T19:04:09.822Z"
   },
   {
    "duration": 601,
    "start_time": "2022-05-29T19:04:10.044Z"
   },
   {
    "duration": 25,
    "start_time": "2022-05-29T19:04:10.647Z"
   },
   {
    "duration": 16,
    "start_time": "2022-05-29T19:04:10.674Z"
   },
   {
    "duration": 19,
    "start_time": "2022-05-29T19:04:10.692Z"
   },
   {
    "duration": 150,
    "start_time": "2022-05-29T19:04:10.713Z"
   },
   {
    "duration": 0,
    "start_time": "2022-05-29T19:04:10.864Z"
   },
   {
    "duration": 390,
    "start_time": "2022-05-29T20:04:23.422Z"
   },
   {
    "duration": 331,
    "start_time": "2022-05-29T20:04:42.856Z"
   },
   {
    "duration": 362,
    "start_time": "2022-05-29T20:05:01.973Z"
   },
   {
    "duration": 325,
    "start_time": "2022-05-29T20:05:26.737Z"
   },
   {
    "duration": 644,
    "start_time": "2022-05-29T20:06:45.718Z"
   },
   {
    "duration": 284,
    "start_time": "2022-05-29T20:07:07.789Z"
   },
   {
    "duration": 52,
    "start_time": "2022-05-29T20:08:39.013Z"
   },
   {
    "duration": 48,
    "start_time": "2022-05-29T20:09:32.536Z"
   },
   {
    "duration": 52,
    "start_time": "2022-05-29T20:10:29.285Z"
   },
   {
    "duration": 36,
    "start_time": "2022-05-29T20:10:34.246Z"
   },
   {
    "duration": 50,
    "start_time": "2022-05-29T20:10:45.342Z"
   },
   {
    "duration": 32,
    "start_time": "2022-05-29T20:10:50.853Z"
   },
   {
    "duration": 1151,
    "start_time": "2022-05-29T20:11:01.519Z"
   },
   {
    "duration": 1324,
    "start_time": "2022-05-29T20:11:39.985Z"
   },
   {
    "duration": 1353,
    "start_time": "2022-05-29T20:12:11.858Z"
   },
   {
    "duration": 67,
    "start_time": "2022-05-29T20:12:16.241Z"
   },
   {
    "duration": 43,
    "start_time": "2022-05-29T20:18:51.522Z"
   },
   {
    "duration": 43,
    "start_time": "2022-05-29T20:18:57.524Z"
   },
   {
    "duration": 1285,
    "start_time": "2022-05-29T20:19:27.479Z"
   },
   {
    "duration": 52,
    "start_time": "2022-05-29T20:19:51.374Z"
   },
   {
    "duration": 61,
    "start_time": "2022-05-29T20:24:07.076Z"
   },
   {
    "duration": 59,
    "start_time": "2022-05-29T20:24:21.948Z"
   },
   {
    "duration": 46,
    "start_time": "2022-05-29T20:24:47.524Z"
   },
   {
    "duration": 56,
    "start_time": "2022-05-29T20:24:57.465Z"
   },
   {
    "duration": 3000,
    "start_time": "2022-05-29T20:25:04.135Z"
   },
   {
    "duration": 67,
    "start_time": "2022-05-29T20:26:23.310Z"
   },
   {
    "duration": 1512,
    "start_time": "2022-05-29T20:26:29.955Z"
   },
   {
    "duration": 42,
    "start_time": "2022-05-29T20:27:36.423Z"
   },
   {
    "duration": 957,
    "start_time": "2022-05-29T20:27:37.462Z"
   },
   {
    "duration": 1057,
    "start_time": "2022-05-29T20:27:38.630Z"
   },
   {
    "duration": 17,
    "start_time": "2022-05-29T20:29:25.869Z"
   },
   {
    "duration": 1319,
    "start_time": "2022-05-29T20:29:26.730Z"
   },
   {
    "duration": 1028,
    "start_time": "2022-05-29T20:29:28.128Z"
   },
   {
    "duration": 278,
    "start_time": "2022-05-29T20:33:32.126Z"
   },
   {
    "duration": 260,
    "start_time": "2022-05-29T20:36:13.375Z"
   },
   {
    "duration": 480,
    "start_time": "2022-05-29T20:36:37.666Z"
   },
   {
    "duration": 1790,
    "start_time": "2022-05-29T20:37:06.304Z"
   },
   {
    "duration": 32,
    "start_time": "2022-05-29T20:37:08.102Z"
   },
   {
    "duration": 287,
    "start_time": "2022-05-29T20:37:08.137Z"
   },
   {
    "duration": 78,
    "start_time": "2022-05-29T20:37:08.429Z"
   },
   {
    "duration": 63,
    "start_time": "2022-05-29T20:37:08.524Z"
   },
   {
    "duration": 126,
    "start_time": "2022-05-29T20:37:08.589Z"
   },
   {
    "duration": 184,
    "start_time": "2022-05-29T20:37:08.718Z"
   },
   {
    "duration": 75,
    "start_time": "2022-05-29T20:37:08.906Z"
   },
   {
    "duration": 81,
    "start_time": "2022-05-29T20:37:08.983Z"
   },
   {
    "duration": 135,
    "start_time": "2022-05-29T20:37:09.067Z"
   },
   {
    "duration": 45,
    "start_time": "2022-05-29T20:37:09.204Z"
   },
   {
    "duration": 32,
    "start_time": "2022-05-29T20:37:09.252Z"
   },
   {
    "duration": 81,
    "start_time": "2022-05-29T20:37:09.286Z"
   },
   {
    "duration": 254,
    "start_time": "2022-05-29T20:37:09.371Z"
   },
   {
    "duration": 34,
    "start_time": "2022-05-29T20:37:09.628Z"
   },
   {
    "duration": 307,
    "start_time": "2022-05-29T20:37:09.666Z"
   },
   {
    "duration": 292,
    "start_time": "2022-05-29T20:37:09.975Z"
   },
   {
    "duration": 56,
    "start_time": "2022-05-29T20:37:10.269Z"
   },
   {
    "duration": 1533,
    "start_time": "2022-05-29T20:37:10.327Z"
   },
   {
    "duration": 1328,
    "start_time": "2022-05-29T20:37:11.863Z"
   },
   {
    "duration": 20,
    "start_time": "2022-05-29T20:37:13.193Z"
   },
   {
    "duration": 347,
    "start_time": "2022-05-29T20:37:13.215Z"
   },
   {
    "duration": 37,
    "start_time": "2022-05-29T20:37:13.564Z"
   },
   {
    "duration": 101,
    "start_time": "2022-05-29T20:37:13.606Z"
   },
   {
    "duration": 290,
    "start_time": "2022-05-29T20:37:13.713Z"
   },
   {
    "duration": 558,
    "start_time": "2022-05-29T20:37:14.005Z"
   },
   {
    "duration": 40,
    "start_time": "2022-05-29T20:37:14.565Z"
   },
   {
    "duration": 110,
    "start_time": "2022-05-29T20:37:14.607Z"
   },
   {
    "duration": 63,
    "start_time": "2022-05-29T20:37:14.719Z"
   },
   {
    "duration": 194,
    "start_time": "2022-05-29T20:37:14.785Z"
   },
   {
    "duration": 0,
    "start_time": "2022-05-29T20:37:14.982Z"
   },
   {
    "duration": 238,
    "start_time": "2022-05-29T20:37:27.069Z"
   },
   {
    "duration": 1580,
    "start_time": "2022-05-29T20:37:33.524Z"
   },
   {
    "duration": 20,
    "start_time": "2022-05-29T20:37:35.106Z"
   },
   {
    "duration": 153,
    "start_time": "2022-05-29T20:37:35.127Z"
   },
   {
    "duration": 27,
    "start_time": "2022-05-29T20:37:35.282Z"
   },
   {
    "duration": 37,
    "start_time": "2022-05-29T20:37:35.319Z"
   },
   {
    "duration": 25,
    "start_time": "2022-05-29T20:37:35.362Z"
   },
   {
    "duration": 48,
    "start_time": "2022-05-29T20:37:35.390Z"
   },
   {
    "duration": 51,
    "start_time": "2022-05-29T20:37:35.441Z"
   },
   {
    "duration": 28,
    "start_time": "2022-05-29T20:37:35.493Z"
   },
   {
    "duration": 70,
    "start_time": "2022-05-29T20:37:35.525Z"
   },
   {
    "duration": 76,
    "start_time": "2022-05-29T20:37:35.599Z"
   },
   {
    "duration": 12,
    "start_time": "2022-05-29T20:37:35.678Z"
   },
   {
    "duration": 69,
    "start_time": "2022-05-29T20:37:35.691Z"
   },
   {
    "duration": 227,
    "start_time": "2022-05-29T20:37:35.764Z"
   },
   {
    "duration": 24,
    "start_time": "2022-05-29T20:37:35.993Z"
   },
   {
    "duration": 296,
    "start_time": "2022-05-29T20:37:36.018Z"
   },
   {
    "duration": 269,
    "start_time": "2022-05-29T20:37:36.323Z"
   },
   {
    "duration": 54,
    "start_time": "2022-05-29T20:37:36.594Z"
   },
   {
    "duration": 1183,
    "start_time": "2022-05-29T20:37:36.650Z"
   },
   {
    "duration": 1227,
    "start_time": "2022-05-29T20:37:37.840Z"
   },
   {
    "duration": 10,
    "start_time": "2022-05-29T20:37:39.069Z"
   },
   {
    "duration": 307,
    "start_time": "2022-05-29T20:37:39.081Z"
   },
   {
    "duration": 47,
    "start_time": "2022-05-29T20:37:39.390Z"
   },
   {
    "duration": 1241,
    "start_time": "2022-05-29T20:37:39.439Z"
   },
   {
    "duration": 319,
    "start_time": "2022-05-29T20:37:40.681Z"
   },
   {
    "duration": 480,
    "start_time": "2022-05-29T20:37:41.007Z"
   },
   {
    "duration": 67,
    "start_time": "2022-05-29T20:37:41.488Z"
   },
   {
    "duration": 70,
    "start_time": "2022-05-29T20:37:41.558Z"
   },
   {
    "duration": 54,
    "start_time": "2022-05-29T20:37:41.630Z"
   },
   {
    "duration": 219,
    "start_time": "2022-05-29T20:37:41.686Z"
   },
   {
    "duration": 0,
    "start_time": "2022-05-29T20:37:41.911Z"
   },
   {
    "duration": 28,
    "start_time": "2022-05-29T20:38:45.887Z"
   },
   {
    "duration": 26,
    "start_time": "2022-05-29T20:39:07.775Z"
   },
   {
    "duration": 20,
    "start_time": "2022-05-29T20:39:16.636Z"
   },
   {
    "duration": 221,
    "start_time": "2022-05-29T20:41:31.240Z"
   },
   {
    "duration": 299,
    "start_time": "2022-05-29T20:42:22.416Z"
   },
   {
    "duration": 174,
    "start_time": "2022-05-29T21:37:52.154Z"
   },
   {
    "duration": 318,
    "start_time": "2022-05-29T21:37:57.339Z"
   },
   {
    "duration": 199,
    "start_time": "2022-05-29T21:40:31.336Z"
   },
   {
    "duration": 200,
    "start_time": "2022-05-29T21:40:41.396Z"
   },
   {
    "duration": 13,
    "start_time": "2022-05-29T21:45:23.836Z"
   },
   {
    "duration": 1388,
    "start_time": "2022-05-29T21:45:45.225Z"
   },
   {
    "duration": 20,
    "start_time": "2022-05-29T21:45:46.615Z"
   },
   {
    "duration": 95,
    "start_time": "2022-05-29T21:45:46.636Z"
   },
   {
    "duration": 16,
    "start_time": "2022-05-29T21:45:46.733Z"
   },
   {
    "duration": 7,
    "start_time": "2022-05-29T21:45:46.752Z"
   },
   {
    "duration": 12,
    "start_time": "2022-05-29T21:45:46.760Z"
   },
   {
    "duration": 63,
    "start_time": "2022-05-29T21:45:46.773Z"
   },
   {
    "duration": 17,
    "start_time": "2022-05-29T21:45:46.838Z"
   },
   {
    "duration": 11,
    "start_time": "2022-05-29T21:45:46.857Z"
   },
   {
    "duration": 30,
    "start_time": "2022-05-29T21:45:46.870Z"
   },
   {
    "duration": 25,
    "start_time": "2022-05-29T21:45:46.901Z"
   },
   {
    "duration": 7,
    "start_time": "2022-05-29T21:45:46.928Z"
   },
   {
    "duration": 7,
    "start_time": "2022-05-29T21:45:46.937Z"
   },
   {
    "duration": 334,
    "start_time": "2022-05-29T21:45:46.947Z"
   },
   {
    "duration": 23,
    "start_time": "2022-05-29T21:45:47.283Z"
   },
   {
    "duration": 225,
    "start_time": "2022-05-29T21:45:47.312Z"
   },
   {
    "duration": 201,
    "start_time": "2022-05-29T21:45:47.540Z"
   },
   {
    "duration": 17,
    "start_time": "2022-05-29T21:45:47.743Z"
   },
   {
    "duration": 904,
    "start_time": "2022-05-29T21:45:47.762Z"
   },
   {
    "duration": 986,
    "start_time": "2022-05-29T21:45:48.668Z"
   },
   {
    "duration": 9,
    "start_time": "2022-05-29T21:45:49.656Z"
   },
   {
    "duration": 236,
    "start_time": "2022-05-29T21:45:49.667Z"
   },
   {
    "duration": 34,
    "start_time": "2022-05-29T21:45:49.905Z"
   },
   {
    "duration": 19,
    "start_time": "2022-05-29T21:45:49.940Z"
   },
   {
    "duration": 212,
    "start_time": "2022-05-29T21:45:49.961Z"
   },
   {
    "duration": 596,
    "start_time": "2022-05-29T21:45:50.175Z"
   },
   {
    "duration": 41,
    "start_time": "2022-05-29T21:45:50.773Z"
   },
   {
    "duration": 26,
    "start_time": "2022-05-29T21:45:50.816Z"
   },
   {
    "duration": 14,
    "start_time": "2022-05-29T21:45:50.843Z"
   },
   {
    "duration": 13,
    "start_time": "2022-05-29T21:45:50.858Z"
   },
   {
    "duration": 11,
    "start_time": "2022-05-29T21:45:50.872Z"
   },
   {
    "duration": 128,
    "start_time": "2022-05-29T21:46:22.435Z"
   },
   {
    "duration": 29,
    "start_time": "2022-05-29T21:46:29.692Z"
   },
   {
    "duration": 1284,
    "start_time": "2022-05-29T21:46:48.391Z"
   },
   {
    "duration": 14,
    "start_time": "2022-05-29T21:46:49.677Z"
   },
   {
    "duration": 98,
    "start_time": "2022-05-29T21:46:49.692Z"
   },
   {
    "duration": 50,
    "start_time": "2022-05-29T21:46:49.792Z"
   },
   {
    "duration": 7,
    "start_time": "2022-05-29T21:46:49.843Z"
   },
   {
    "duration": 11,
    "start_time": "2022-05-29T21:46:49.852Z"
   },
   {
    "duration": 28,
    "start_time": "2022-05-29T21:46:49.865Z"
   },
   {
    "duration": 25,
    "start_time": "2022-05-29T21:46:49.894Z"
   },
   {
    "duration": 20,
    "start_time": "2022-05-29T21:46:49.922Z"
   },
   {
    "duration": 23,
    "start_time": "2022-05-29T21:46:49.945Z"
   },
   {
    "duration": 8,
    "start_time": "2022-05-29T21:46:49.969Z"
   },
   {
    "duration": 23,
    "start_time": "2022-05-29T21:46:49.978Z"
   },
   {
    "duration": 23,
    "start_time": "2022-05-29T21:46:50.002Z"
   },
   {
    "duration": 288,
    "start_time": "2022-05-29T21:46:50.027Z"
   },
   {
    "duration": 16,
    "start_time": "2022-05-29T21:46:50.316Z"
   },
   {
    "duration": 158,
    "start_time": "2022-05-29T21:46:50.334Z"
   },
   {
    "duration": 192,
    "start_time": "2022-05-29T21:46:50.494Z"
   },
   {
    "duration": 29,
    "start_time": "2022-05-29T21:46:50.688Z"
   },
   {
    "duration": 862,
    "start_time": "2022-05-29T21:46:50.726Z"
   },
   {
    "duration": 1029,
    "start_time": "2022-05-29T21:46:51.589Z"
   },
   {
    "duration": 9,
    "start_time": "2022-05-29T21:46:52.624Z"
   },
   {
    "duration": 192,
    "start_time": "2022-05-29T21:46:52.634Z"
   },
   {
    "duration": 23,
    "start_time": "2022-05-29T21:46:52.827Z"
   },
   {
    "duration": 13,
    "start_time": "2022-05-29T21:46:52.852Z"
   },
   {
    "duration": 218,
    "start_time": "2022-05-29T21:46:52.867Z"
   },
   {
    "duration": 757,
    "start_time": "2022-05-29T21:46:53.087Z"
   },
   {
    "duration": 23,
    "start_time": "2022-05-29T21:46:53.846Z"
   },
   {
    "duration": 15,
    "start_time": "2022-05-29T21:46:53.872Z"
   },
   {
    "duration": 13,
    "start_time": "2022-05-29T21:46:53.888Z"
   },
   {
    "duration": 39,
    "start_time": "2022-05-29T21:46:53.902Z"
   },
   {
    "duration": 11,
    "start_time": "2022-05-29T21:46:53.942Z"
   },
   {
    "duration": 1488,
    "start_time": "2022-05-29T21:59:22.370Z"
   },
   {
    "duration": 16,
    "start_time": "2022-05-29T21:59:23.860Z"
   },
   {
    "duration": 104,
    "start_time": "2022-05-29T21:59:23.878Z"
   },
   {
    "duration": 26,
    "start_time": "2022-05-29T21:59:23.984Z"
   },
   {
    "duration": 36,
    "start_time": "2022-05-29T21:59:24.012Z"
   },
   {
    "duration": 10,
    "start_time": "2022-05-29T21:59:24.050Z"
   },
   {
    "duration": 31,
    "start_time": "2022-05-29T21:59:24.061Z"
   },
   {
    "duration": 40,
    "start_time": "2022-05-29T21:59:24.101Z"
   },
   {
    "duration": 12,
    "start_time": "2022-05-29T21:59:24.143Z"
   },
   {
    "duration": 21,
    "start_time": "2022-05-29T21:59:24.158Z"
   },
   {
    "duration": 13,
    "start_time": "2022-05-29T21:59:24.182Z"
   },
   {
    "duration": 56,
    "start_time": "2022-05-29T21:59:24.198Z"
   },
   {
    "duration": 6,
    "start_time": "2022-05-29T21:59:24.256Z"
   },
   {
    "duration": 329,
    "start_time": "2022-05-29T21:59:24.264Z"
   },
   {
    "duration": 20,
    "start_time": "2022-05-29T21:59:24.595Z"
   },
   {
    "duration": 215,
    "start_time": "2022-05-29T21:59:24.617Z"
   },
   {
    "duration": 216,
    "start_time": "2022-05-29T21:59:24.833Z"
   },
   {
    "duration": 15,
    "start_time": "2022-05-29T21:59:25.051Z"
   },
   {
    "duration": 972,
    "start_time": "2022-05-29T21:59:25.068Z"
   },
   {
    "duration": 1048,
    "start_time": "2022-05-29T21:59:26.042Z"
   },
   {
    "duration": 18,
    "start_time": "2022-05-29T21:59:27.092Z"
   },
   {
    "duration": 280,
    "start_time": "2022-05-29T21:59:27.112Z"
   },
   {
    "duration": 39,
    "start_time": "2022-05-29T21:59:27.394Z"
   },
   {
    "duration": 30,
    "start_time": "2022-05-29T21:59:27.438Z"
   },
   {
    "duration": 234,
    "start_time": "2022-05-29T21:59:27.470Z"
   },
   {
    "duration": 735,
    "start_time": "2022-05-29T21:59:27.706Z"
   },
   {
    "duration": 24,
    "start_time": "2022-05-29T21:59:28.443Z"
   },
   {
    "duration": 17,
    "start_time": "2022-05-29T21:59:28.470Z"
   },
   {
    "duration": 15,
    "start_time": "2022-05-29T21:59:28.488Z"
   },
   {
    "duration": 52,
    "start_time": "2022-05-29T21:59:28.505Z"
   },
   {
    "duration": 10,
    "start_time": "2022-05-29T21:59:28.558Z"
   },
   {
    "duration": 146,
    "start_time": "2022-05-29T21:59:57.073Z"
   },
   {
    "duration": 1464,
    "start_time": "2022-05-29T22:00:06.224Z"
   },
   {
    "duration": 27,
    "start_time": "2022-05-29T22:00:07.690Z"
   },
   {
    "duration": 109,
    "start_time": "2022-05-29T22:00:07.721Z"
   },
   {
    "duration": 21,
    "start_time": "2022-05-29T22:00:07.832Z"
   },
   {
    "duration": 7,
    "start_time": "2022-05-29T22:00:07.856Z"
   },
   {
    "duration": 10,
    "start_time": "2022-05-29T22:00:07.864Z"
   },
   {
    "duration": 46,
    "start_time": "2022-05-29T22:00:07.876Z"
   },
   {
    "duration": 31,
    "start_time": "2022-05-29T22:00:07.924Z"
   },
   {
    "duration": 13,
    "start_time": "2022-05-29T22:00:07.957Z"
   },
   {
    "duration": 32,
    "start_time": "2022-05-29T22:00:07.971Z"
   },
   {
    "duration": 17,
    "start_time": "2022-05-29T22:00:08.006Z"
   },
   {
    "duration": 27,
    "start_time": "2022-05-29T22:00:08.025Z"
   },
   {
    "duration": 6,
    "start_time": "2022-05-29T22:00:08.053Z"
   },
   {
    "duration": 307,
    "start_time": "2022-05-29T22:00:08.062Z"
   },
   {
    "duration": 11,
    "start_time": "2022-05-29T22:00:08.371Z"
   },
   {
    "duration": 178,
    "start_time": "2022-05-29T22:00:08.384Z"
   },
   {
    "duration": 218,
    "start_time": "2022-05-29T22:00:08.564Z"
   },
   {
    "duration": 44,
    "start_time": "2022-05-29T22:00:08.784Z"
   },
   {
    "duration": 913,
    "start_time": "2022-05-29T22:00:08.833Z"
   },
   {
    "duration": 1015,
    "start_time": "2022-05-29T22:00:09.747Z"
   },
   {
    "duration": 7,
    "start_time": "2022-05-29T22:00:10.764Z"
   },
   {
    "duration": 205,
    "start_time": "2022-05-29T22:00:10.773Z"
   },
   {
    "duration": 41,
    "start_time": "2022-05-29T22:00:10.980Z"
   },
   {
    "duration": 15,
    "start_time": "2022-05-29T22:00:11.036Z"
   },
   {
    "duration": 210,
    "start_time": "2022-05-29T22:00:11.052Z"
   },
   {
    "duration": 771,
    "start_time": "2022-05-29T22:00:11.263Z"
   },
   {
    "duration": 25,
    "start_time": "2022-05-29T22:00:12.036Z"
   },
   {
    "duration": 16,
    "start_time": "2022-05-29T22:00:12.062Z"
   },
   {
    "duration": 14,
    "start_time": "2022-05-29T22:00:12.079Z"
   },
   {
    "duration": 23,
    "start_time": "2022-05-29T22:00:12.098Z"
   },
   {
    "duration": 25,
    "start_time": "2022-05-29T22:00:12.123Z"
   },
   {
    "duration": 1412,
    "start_time": "2022-05-29T22:13:40.926Z"
   },
   {
    "duration": 17,
    "start_time": "2022-05-29T22:13:42.340Z"
   },
   {
    "duration": 97,
    "start_time": "2022-05-29T22:13:42.358Z"
   },
   {
    "duration": 28,
    "start_time": "2022-05-29T22:13:42.457Z"
   },
   {
    "duration": 15,
    "start_time": "2022-05-29T22:13:42.487Z"
   },
   {
    "duration": 40,
    "start_time": "2022-05-29T22:13:42.507Z"
   },
   {
    "duration": 40,
    "start_time": "2022-05-29T22:13:42.549Z"
   },
   {
    "duration": 59,
    "start_time": "2022-05-29T22:13:42.590Z"
   },
   {
    "duration": 17,
    "start_time": "2022-05-29T22:13:42.651Z"
   },
   {
    "duration": 42,
    "start_time": "2022-05-29T22:13:42.670Z"
   },
   {
    "duration": 18,
    "start_time": "2022-05-29T22:13:42.716Z"
   },
   {
    "duration": 29,
    "start_time": "2022-05-29T22:13:42.737Z"
   },
   {
    "duration": 7,
    "start_time": "2022-05-29T22:13:42.768Z"
   },
   {
    "duration": 359,
    "start_time": "2022-05-29T22:13:42.778Z"
   },
   {
    "duration": 12,
    "start_time": "2022-05-29T22:13:43.139Z"
   },
   {
    "duration": 198,
    "start_time": "2022-05-29T22:13:43.153Z"
   },
   {
    "duration": 206,
    "start_time": "2022-05-29T22:13:43.353Z"
   },
   {
    "duration": 18,
    "start_time": "2022-05-29T22:13:43.561Z"
   },
   {
    "duration": 974,
    "start_time": "2022-05-29T22:13:43.581Z"
   },
   {
    "duration": 1093,
    "start_time": "2022-05-29T22:13:44.556Z"
   },
   {
    "duration": 8,
    "start_time": "2022-05-29T22:13:45.651Z"
   },
   {
    "duration": 219,
    "start_time": "2022-05-29T22:13:45.661Z"
   },
   {
    "duration": 47,
    "start_time": "2022-05-29T22:13:45.883Z"
   },
   {
    "duration": 30,
    "start_time": "2022-05-29T22:13:45.932Z"
   },
   {
    "duration": 202,
    "start_time": "2022-05-29T22:13:45.964Z"
   },
   {
    "duration": 786,
    "start_time": "2022-05-29T22:13:46.167Z"
   },
   {
    "duration": 24,
    "start_time": "2022-05-29T22:13:46.954Z"
   },
   {
    "duration": 60,
    "start_time": "2022-05-29T22:13:46.980Z"
   },
   {
    "duration": 31,
    "start_time": "2022-05-29T22:13:47.041Z"
   },
   {
    "duration": 73,
    "start_time": "2022-05-29T22:13:47.073Z"
   },
   {
    "duration": 33,
    "start_time": "2022-05-29T22:13:47.148Z"
   },
   {
    "duration": 37,
    "start_time": "2022-05-30T19:16:33.432Z"
   },
   {
    "duration": 51,
    "start_time": "2022-05-30T19:38:07.716Z"
   },
   {
    "duration": 1821,
    "start_time": "2022-05-30T19:38:17.841Z"
   },
   {
    "duration": 15,
    "start_time": "2022-05-30T19:38:19.664Z"
   },
   {
    "duration": 106,
    "start_time": "2022-05-30T19:38:19.681Z"
   },
   {
    "duration": 15,
    "start_time": "2022-05-30T19:38:19.789Z"
   },
   {
    "duration": 7,
    "start_time": "2022-05-30T19:38:19.806Z"
   },
   {
    "duration": 10,
    "start_time": "2022-05-30T19:38:19.826Z"
   },
   {
    "duration": 32,
    "start_time": "2022-05-30T19:38:19.838Z"
   },
   {
    "duration": 23,
    "start_time": "2022-05-30T19:38:19.872Z"
   },
   {
    "duration": 10,
    "start_time": "2022-05-30T19:38:19.897Z"
   },
   {
    "duration": 33,
    "start_time": "2022-05-30T19:38:19.910Z"
   },
   {
    "duration": 7,
    "start_time": "2022-05-30T19:38:19.945Z"
   },
   {
    "duration": 12,
    "start_time": "2022-05-30T19:38:19.953Z"
   },
   {
    "duration": 6,
    "start_time": "2022-05-30T19:38:19.966Z"
   },
   {
    "duration": 291,
    "start_time": "2022-05-30T19:38:19.974Z"
   },
   {
    "duration": 11,
    "start_time": "2022-05-30T19:38:20.267Z"
   },
   {
    "duration": 271,
    "start_time": "2022-05-30T19:38:20.279Z"
   },
   {
    "duration": 212,
    "start_time": "2022-05-30T19:38:20.552Z"
   },
   {
    "duration": 16,
    "start_time": "2022-05-30T19:38:20.766Z"
   },
   {
    "duration": 853,
    "start_time": "2022-05-30T19:38:20.784Z"
   },
   {
    "duration": 929,
    "start_time": "2022-05-30T19:38:21.639Z"
   },
   {
    "duration": 8,
    "start_time": "2022-05-30T19:38:22.570Z"
   },
   {
    "duration": 178,
    "start_time": "2022-05-30T19:38:22.580Z"
   },
   {
    "duration": 23,
    "start_time": "2022-05-30T19:38:22.760Z"
   },
   {
    "duration": 21,
    "start_time": "2022-05-30T19:38:22.785Z"
   },
   {
    "duration": 206,
    "start_time": "2022-05-30T19:38:22.808Z"
   },
   {
    "duration": 542,
    "start_time": "2022-05-30T19:38:23.016Z"
   },
   {
    "duration": 24,
    "start_time": "2022-05-30T19:38:23.559Z"
   },
   {
    "duration": 15,
    "start_time": "2022-05-30T19:38:23.586Z"
   },
   {
    "duration": 11,
    "start_time": "2022-05-30T19:38:23.602Z"
   },
   {
    "duration": 13,
    "start_time": "2022-05-30T19:38:23.614Z"
   },
   {
    "duration": 17,
    "start_time": "2022-05-30T19:38:23.628Z"
   },
   {
    "duration": 11,
    "start_time": "2022-05-30T19:38:23.646Z"
   },
   {
    "duration": 4,
    "start_time": "2022-05-30T19:40:26.129Z"
   },
   {
    "duration": 6,
    "start_time": "2022-05-30T19:41:46.074Z"
   },
   {
    "duration": 11,
    "start_time": "2022-05-30T19:41:58.486Z"
   },
   {
    "duration": 19,
    "start_time": "2022-05-30T19:42:46.732Z"
   },
   {
    "duration": 27,
    "start_time": "2022-05-30T19:48:44.486Z"
   },
   {
    "duration": 22,
    "start_time": "2022-05-30T19:50:35.538Z"
   },
   {
    "duration": 53,
    "start_time": "2022-05-31T07:12:49.984Z"
   },
   {
    "duration": 1559,
    "start_time": "2022-05-31T07:12:56.763Z"
   },
   {
    "duration": 23,
    "start_time": "2022-05-31T07:12:58.324Z"
   },
   {
    "duration": 91,
    "start_time": "2022-05-31T07:12:58.348Z"
   },
   {
    "duration": 16,
    "start_time": "2022-05-31T07:12:58.441Z"
   },
   {
    "duration": 8,
    "start_time": "2022-05-31T07:12:58.458Z"
   },
   {
    "duration": 10,
    "start_time": "2022-05-31T07:12:58.467Z"
   },
   {
    "duration": 26,
    "start_time": "2022-05-31T07:12:58.478Z"
   },
   {
    "duration": 45,
    "start_time": "2022-05-31T07:12:58.505Z"
   },
   {
    "duration": 11,
    "start_time": "2022-05-31T07:12:58.552Z"
   },
   {
    "duration": 21,
    "start_time": "2022-05-31T07:12:58.567Z"
   },
   {
    "duration": 10,
    "start_time": "2022-05-31T07:12:58.590Z"
   },
   {
    "duration": 8,
    "start_time": "2022-05-31T07:12:58.602Z"
   },
   {
    "duration": 6,
    "start_time": "2022-05-31T07:12:58.637Z"
   },
   {
    "duration": 299,
    "start_time": "2022-05-31T07:12:58.644Z"
   },
   {
    "duration": 12,
    "start_time": "2022-05-31T07:12:58.944Z"
   },
   {
    "duration": 151,
    "start_time": "2022-05-31T07:12:58.957Z"
   },
   {
    "duration": 16186,
    "start_time": "2022-05-31T07:12:59.109Z"
   },
   {
    "duration": 42,
    "start_time": "2022-05-31T07:13:15.297Z"
   },
   {
    "duration": 866,
    "start_time": "2022-05-31T07:13:15.340Z"
   },
   {
    "duration": 1014,
    "start_time": "2022-05-31T07:13:16.208Z"
   },
   {
    "duration": 19,
    "start_time": "2022-05-31T07:13:17.224Z"
   },
   {
    "duration": 172,
    "start_time": "2022-05-31T07:13:17.245Z"
   },
   {
    "duration": 30,
    "start_time": "2022-05-31T07:13:17.418Z"
   },
   {
    "duration": 13,
    "start_time": "2022-05-31T07:13:17.450Z"
   },
   {
    "duration": 190,
    "start_time": "2022-05-31T07:13:17.464Z"
   },
   {
    "duration": 628,
    "start_time": "2022-05-31T07:13:17.656Z"
   },
   {
    "duration": 24,
    "start_time": "2022-05-31T07:13:18.286Z"
   },
   {
    "duration": 28,
    "start_time": "2022-05-31T07:13:18.312Z"
   },
   {
    "duration": 13,
    "start_time": "2022-05-31T07:13:18.342Z"
   },
   {
    "duration": 13,
    "start_time": "2022-05-31T07:13:18.356Z"
   },
   {
    "duration": 13,
    "start_time": "2022-05-31T07:13:18.371Z"
   },
   {
    "duration": 18,
    "start_time": "2022-05-31T07:13:18.386Z"
   },
   {
    "duration": 10,
    "start_time": "2022-05-31T07:40:33.680Z"
   },
   {
    "duration": 10,
    "start_time": "2022-05-31T07:40:57.776Z"
   },
   {
    "duration": 9,
    "start_time": "2022-05-31T07:41:53.196Z"
   },
   {
    "duration": 115,
    "start_time": "2022-05-31T07:54:20.109Z"
   },
   {
    "duration": 12,
    "start_time": "2022-05-31T07:55:17.606Z"
   },
   {
    "duration": 1263,
    "start_time": "2022-05-31T07:55:49.121Z"
   },
   {
    "duration": 14,
    "start_time": "2022-05-31T07:55:50.386Z"
   },
   {
    "duration": 75,
    "start_time": "2022-05-31T07:55:50.401Z"
   },
   {
    "duration": 21,
    "start_time": "2022-05-31T07:55:50.478Z"
   },
   {
    "duration": 8,
    "start_time": "2022-05-31T07:55:50.501Z"
   },
   {
    "duration": 26,
    "start_time": "2022-05-31T07:55:50.511Z"
   },
   {
    "duration": 28,
    "start_time": "2022-05-31T07:55:50.539Z"
   },
   {
    "duration": 14,
    "start_time": "2022-05-31T07:55:50.568Z"
   },
   {
    "duration": 9,
    "start_time": "2022-05-31T07:55:50.584Z"
   },
   {
    "duration": 45,
    "start_time": "2022-05-31T07:55:50.596Z"
   },
   {
    "duration": 8,
    "start_time": "2022-05-31T07:55:50.642Z"
   },
   {
    "duration": 8,
    "start_time": "2022-05-31T07:55:50.652Z"
   },
   {
    "duration": 8,
    "start_time": "2022-05-31T07:55:50.661Z"
   },
   {
    "duration": 291,
    "start_time": "2022-05-31T07:55:50.671Z"
   },
   {
    "duration": 11,
    "start_time": "2022-05-31T07:55:50.964Z"
   },
   {
    "duration": 139,
    "start_time": "2022-05-31T07:55:50.977Z"
   },
   {
    "duration": 15,
    "start_time": "2022-05-31T07:55:51.117Z"
   },
   {
    "duration": 14,
    "start_time": "2022-05-31T07:55:51.133Z"
   },
   {
    "duration": 847,
    "start_time": "2022-05-31T07:55:51.149Z"
   },
   {
    "duration": 911,
    "start_time": "2022-05-31T07:55:51.998Z"
   },
   {
    "duration": 7,
    "start_time": "2022-05-31T07:55:52.911Z"
   },
   {
    "duration": 180,
    "start_time": "2022-05-31T07:55:52.927Z"
   },
   {
    "duration": 27,
    "start_time": "2022-05-31T07:55:53.108Z"
   },
   {
    "duration": 21,
    "start_time": "2022-05-31T07:55:53.136Z"
   },
   {
    "duration": 203,
    "start_time": "2022-05-31T07:55:53.159Z"
   },
   {
    "duration": 586,
    "start_time": "2022-05-31T07:55:53.364Z"
   },
   {
    "duration": 25,
    "start_time": "2022-05-31T07:55:53.952Z"
   },
   {
    "duration": 15,
    "start_time": "2022-05-31T07:55:53.981Z"
   },
   {
    "duration": 13,
    "start_time": "2022-05-31T07:55:53.997Z"
   },
   {
    "duration": 28,
    "start_time": "2022-05-31T07:55:54.011Z"
   },
   {
    "duration": 12,
    "start_time": "2022-05-31T07:55:54.041Z"
   },
   {
    "duration": 17,
    "start_time": "2022-05-31T07:55:54.055Z"
   },
   {
    "duration": 10,
    "start_time": "2022-05-31T07:56:42.223Z"
   },
   {
    "duration": 119,
    "start_time": "2022-05-31T07:56:51.527Z"
   },
   {
    "duration": 7,
    "start_time": "2022-05-31T10:43:05.068Z"
   },
   {
    "duration": 12,
    "start_time": "2022-05-31T10:43:33.338Z"
   },
   {
    "duration": 11,
    "start_time": "2022-05-31T10:44:32.939Z"
   },
   {
    "duration": 1394,
    "start_time": "2022-05-31T10:44:39.900Z"
   },
   {
    "duration": 18,
    "start_time": "2022-05-31T10:44:41.296Z"
   },
   {
    "duration": 92,
    "start_time": "2022-05-31T10:44:41.315Z"
   },
   {
    "duration": 16,
    "start_time": "2022-05-31T10:44:41.409Z"
   },
   {
    "duration": 8,
    "start_time": "2022-05-31T10:44:41.426Z"
   },
   {
    "duration": 10,
    "start_time": "2022-05-31T10:44:41.436Z"
   },
   {
    "duration": 30,
    "start_time": "2022-05-31T10:44:41.447Z"
   },
   {
    "duration": 18,
    "start_time": "2022-05-31T10:44:41.478Z"
   },
   {
    "duration": 19,
    "start_time": "2022-05-31T10:44:41.526Z"
   },
   {
    "duration": 18,
    "start_time": "2022-05-31T10:44:41.548Z"
   },
   {
    "duration": 8,
    "start_time": "2022-05-31T10:44:41.567Z"
   },
   {
    "duration": 7,
    "start_time": "2022-05-31T10:44:41.577Z"
   },
   {
    "duration": 6,
    "start_time": "2022-05-31T10:44:41.585Z"
   },
   {
    "duration": 291,
    "start_time": "2022-05-31T10:44:41.592Z"
   },
   {
    "duration": 12,
    "start_time": "2022-05-31T10:44:41.885Z"
   },
   {
    "duration": 143,
    "start_time": "2022-05-31T10:44:41.899Z"
   },
   {
    "duration": 186,
    "start_time": "2022-05-31T10:44:42.044Z"
   },
   {
    "duration": 22,
    "start_time": "2022-05-31T10:44:42.233Z"
   },
   {
    "duration": 856,
    "start_time": "2022-05-31T10:44:42.257Z"
   },
   {
    "duration": 959,
    "start_time": "2022-05-31T10:44:43.114Z"
   },
   {
    "duration": 8,
    "start_time": "2022-05-31T10:44:44.075Z"
   },
   {
    "duration": 218,
    "start_time": "2022-05-31T10:44:44.085Z"
   },
   {
    "duration": 33,
    "start_time": "2022-05-31T10:44:44.305Z"
   },
   {
    "duration": 32,
    "start_time": "2022-05-31T10:44:44.341Z"
   },
   {
    "duration": 185,
    "start_time": "2022-05-31T10:44:44.374Z"
   },
   {
    "duration": 462,
    "start_time": "2022-05-31T10:44:44.561Z"
   },
   {
    "duration": 31,
    "start_time": "2022-05-31T10:44:45.024Z"
   },
   {
    "duration": 15,
    "start_time": "2022-05-31T10:44:45.058Z"
   },
   {
    "duration": 11,
    "start_time": "2022-05-31T10:44:45.075Z"
   },
   {
    "duration": 12,
    "start_time": "2022-05-31T10:44:45.087Z"
   },
   {
    "duration": 39,
    "start_time": "2022-05-31T10:44:45.100Z"
   },
   {
    "duration": 17,
    "start_time": "2022-05-31T10:44:45.141Z"
   },
   {
    "duration": 17944,
    "start_time": "2022-05-31T10:55:44.848Z"
   },
   {
    "duration": 3068,
    "start_time": "2022-05-31T10:56:26.068Z"
   },
   {
    "duration": 18,
    "start_time": "2022-05-31T10:56:29.138Z"
   },
   {
    "duration": 97,
    "start_time": "2022-05-31T10:56:29.158Z"
   },
   {
    "duration": 16,
    "start_time": "2022-05-31T10:56:29.258Z"
   },
   {
    "duration": 10,
    "start_time": "2022-05-31T10:56:29.276Z"
   },
   {
    "duration": 39,
    "start_time": "2022-05-31T10:56:29.288Z"
   },
   {
    "duration": 34,
    "start_time": "2022-05-31T10:56:29.328Z"
   },
   {
    "duration": 27,
    "start_time": "2022-05-31T10:56:29.364Z"
   },
   {
    "duration": 42,
    "start_time": "2022-05-31T10:56:29.392Z"
   },
   {
    "duration": 20,
    "start_time": "2022-05-31T10:56:29.442Z"
   },
   {
    "duration": 7,
    "start_time": "2022-05-31T10:56:29.464Z"
   },
   {
    "duration": 8,
    "start_time": "2022-05-31T10:56:29.472Z"
   },
   {
    "duration": 9,
    "start_time": "2022-05-31T10:56:29.481Z"
   },
   {
    "duration": 340,
    "start_time": "2022-05-31T10:56:29.491Z"
   },
   {
    "duration": 12,
    "start_time": "2022-05-31T10:56:29.832Z"
   },
   {
    "duration": 166,
    "start_time": "2022-05-31T10:56:29.846Z"
   },
   {
    "duration": 18003,
    "start_time": "2022-05-31T10:56:30.017Z"
   },
   {
    "duration": 26,
    "start_time": "2022-05-31T10:56:48.027Z"
   },
   {
    "duration": 839,
    "start_time": "2022-05-31T10:56:48.055Z"
   },
   {
    "duration": 1009,
    "start_time": "2022-05-31T10:56:48.896Z"
   },
   {
    "duration": 7,
    "start_time": "2022-05-31T10:56:49.906Z"
   },
   {
    "duration": 200,
    "start_time": "2022-05-31T10:56:49.915Z"
   },
   {
    "duration": 33,
    "start_time": "2022-05-31T10:56:50.117Z"
   },
   {
    "duration": 24,
    "start_time": "2022-05-31T10:56:50.153Z"
   },
   {
    "duration": 213,
    "start_time": "2022-05-31T10:56:50.179Z"
   },
   {
    "duration": 509,
    "start_time": "2022-05-31T10:56:50.394Z"
   },
   {
    "duration": 28,
    "start_time": "2022-05-31T10:56:50.905Z"
   },
   {
    "duration": 25,
    "start_time": "2022-05-31T10:56:50.938Z"
   },
   {
    "duration": 23,
    "start_time": "2022-05-31T10:56:50.966Z"
   },
   {
    "duration": 42,
    "start_time": "2022-05-31T10:56:50.991Z"
   },
   {
    "duration": 15,
    "start_time": "2022-05-31T10:56:51.035Z"
   },
   {
    "duration": 20,
    "start_time": "2022-05-31T10:56:51.052Z"
   },
   {
    "duration": 111,
    "start_time": "2022-05-31T11:52:14.598Z"
   },
   {
    "duration": 1237,
    "start_time": "2022-05-31T11:52:21.267Z"
   },
   {
    "duration": 15,
    "start_time": "2022-05-31T11:52:22.505Z"
   },
   {
    "duration": 87,
    "start_time": "2022-05-31T11:52:22.521Z"
   },
   {
    "duration": 21,
    "start_time": "2022-05-31T11:52:22.610Z"
   },
   {
    "duration": 7,
    "start_time": "2022-05-31T11:52:22.633Z"
   },
   {
    "duration": 15,
    "start_time": "2022-05-31T11:52:22.642Z"
   },
   {
    "duration": 32,
    "start_time": "2022-05-31T11:52:22.659Z"
   },
   {
    "duration": 16,
    "start_time": "2022-05-31T11:52:22.692Z"
   },
   {
    "duration": 13,
    "start_time": "2022-05-31T11:52:22.727Z"
   },
   {
    "duration": 21,
    "start_time": "2022-05-31T11:52:22.743Z"
   },
   {
    "duration": 8,
    "start_time": "2022-05-31T11:52:22.766Z"
   },
   {
    "duration": 7,
    "start_time": "2022-05-31T11:52:22.775Z"
   },
   {
    "duration": 11,
    "start_time": "2022-05-31T11:52:22.783Z"
   },
   {
    "duration": 296,
    "start_time": "2022-05-31T11:52:22.795Z"
   },
   {
    "duration": 11,
    "start_time": "2022-05-31T11:52:23.092Z"
   },
   {
    "duration": 168,
    "start_time": "2022-05-31T11:52:23.104Z"
   },
   {
    "duration": 123,
    "start_time": "2022-05-31T11:52:23.274Z"
   },
   {
    "duration": 0,
    "start_time": "2022-05-31T11:52:23.399Z"
   },
   {
    "duration": 0,
    "start_time": "2022-05-31T11:52:23.400Z"
   },
   {
    "duration": 0,
    "start_time": "2022-05-31T11:52:23.402Z"
   },
   {
    "duration": 0,
    "start_time": "2022-05-31T11:52:23.403Z"
   },
   {
    "duration": 0,
    "start_time": "2022-05-31T11:52:23.405Z"
   },
   {
    "duration": 0,
    "start_time": "2022-05-31T11:52:23.406Z"
   },
   {
    "duration": 0,
    "start_time": "2022-05-31T11:52:23.408Z"
   },
   {
    "duration": 0,
    "start_time": "2022-05-31T11:52:23.409Z"
   },
   {
    "duration": 0,
    "start_time": "2022-05-31T11:52:23.428Z"
   },
   {
    "duration": 0,
    "start_time": "2022-05-31T11:52:23.429Z"
   },
   {
    "duration": 0,
    "start_time": "2022-05-31T11:52:23.430Z"
   },
   {
    "duration": 0,
    "start_time": "2022-05-31T11:52:23.432Z"
   },
   {
    "duration": 0,
    "start_time": "2022-05-31T11:52:23.433Z"
   },
   {
    "duration": 0,
    "start_time": "2022-05-31T11:52:23.435Z"
   },
   {
    "duration": 0,
    "start_time": "2022-05-31T11:52:23.436Z"
   },
   {
    "duration": 166,
    "start_time": "2022-05-31T11:52:42.161Z"
   },
   {
    "duration": 13,
    "start_time": "2022-05-31T11:56:08.883Z"
   },
   {
    "duration": 262,
    "start_time": "2022-05-31T11:56:51.755Z"
   },
   {
    "duration": 183,
    "start_time": "2022-05-31T11:57:21.614Z"
   },
   {
    "duration": 163,
    "start_time": "2022-05-31T11:58:50.580Z"
   },
   {
    "duration": 193,
    "start_time": "2022-05-31T11:59:01.190Z"
   },
   {
    "duration": 56,
    "start_time": "2022-05-31T17:38:51.268Z"
   },
   {
    "duration": 1984,
    "start_time": "2022-05-31T17:38:58.016Z"
   },
   {
    "duration": 18,
    "start_time": "2022-05-31T17:39:00.002Z"
   },
   {
    "duration": 104,
    "start_time": "2022-05-31T17:39:00.021Z"
   },
   {
    "duration": 20,
    "start_time": "2022-05-31T17:39:00.127Z"
   },
   {
    "duration": 12,
    "start_time": "2022-05-31T17:39:00.150Z"
   },
   {
    "duration": 18,
    "start_time": "2022-05-31T17:39:00.164Z"
   },
   {
    "duration": 56,
    "start_time": "2022-05-31T17:39:00.183Z"
   },
   {
    "duration": 18,
    "start_time": "2022-05-31T17:39:00.241Z"
   },
   {
    "duration": 15,
    "start_time": "2022-05-31T17:39:00.260Z"
   },
   {
    "duration": 47,
    "start_time": "2022-05-31T17:39:00.277Z"
   },
   {
    "duration": 9,
    "start_time": "2022-05-31T17:39:00.326Z"
   },
   {
    "duration": 12,
    "start_time": "2022-05-31T17:39:00.337Z"
   },
   {
    "duration": 11,
    "start_time": "2022-05-31T17:39:00.351Z"
   },
   {
    "duration": 294,
    "start_time": "2022-05-31T17:39:00.365Z"
   },
   {
    "duration": 14,
    "start_time": "2022-05-31T17:39:00.661Z"
   },
   {
    "duration": 169,
    "start_time": "2022-05-31T17:39:00.676Z"
   },
   {
    "duration": 10,
    "start_time": "2022-05-31T17:39:00.847Z"
   },
   {
    "duration": 28,
    "start_time": "2022-05-31T17:39:00.858Z"
   },
   {
    "duration": 893,
    "start_time": "2022-05-31T17:39:00.888Z"
   },
   {
    "duration": 1091,
    "start_time": "2022-05-31T17:39:01.783Z"
   },
   {
    "duration": 11,
    "start_time": "2022-05-31T17:39:02.876Z"
   },
   {
    "duration": 219,
    "start_time": "2022-05-31T17:39:02.889Z"
   },
   {
    "duration": 40,
    "start_time": "2022-05-31T17:39:03.110Z"
   },
   {
    "duration": 29,
    "start_time": "2022-05-31T17:39:03.152Z"
   },
   {
    "duration": 219,
    "start_time": "2022-05-31T17:39:03.183Z"
   },
   {
    "duration": 438,
    "start_time": "2022-05-31T17:39:03.404Z"
   },
   {
    "duration": 39,
    "start_time": "2022-05-31T17:39:03.844Z"
   },
   {
    "duration": 17,
    "start_time": "2022-05-31T17:39:03.885Z"
   },
   {
    "duration": 34,
    "start_time": "2022-05-31T17:39:03.903Z"
   },
   {
    "duration": 20,
    "start_time": "2022-05-31T17:39:03.939Z"
   },
   {
    "duration": 11,
    "start_time": "2022-05-31T17:39:03.961Z"
   },
   {
    "duration": 42,
    "start_time": "2022-05-31T17:39:03.974Z"
   },
   {
    "duration": 181,
    "start_time": "2022-05-31T17:40:06.947Z"
   },
   {
    "duration": 1781,
    "start_time": "2022-05-31T18:00:19.400Z"
   },
   {
    "duration": 16,
    "start_time": "2022-05-31T18:00:21.183Z"
   },
   {
    "duration": 104,
    "start_time": "2022-05-31T18:00:21.201Z"
   },
   {
    "duration": 36,
    "start_time": "2022-05-31T18:00:21.307Z"
   },
   {
    "duration": 10,
    "start_time": "2022-05-31T18:00:21.346Z"
   },
   {
    "duration": 14,
    "start_time": "2022-05-31T18:00:21.358Z"
   },
   {
    "duration": 29,
    "start_time": "2022-05-31T18:00:21.373Z"
   },
   {
    "duration": 35,
    "start_time": "2022-05-31T18:00:21.404Z"
   },
   {
    "duration": 13,
    "start_time": "2022-05-31T18:00:21.442Z"
   },
   {
    "duration": 22,
    "start_time": "2022-05-31T18:00:21.457Z"
   },
   {
    "duration": 8,
    "start_time": "2022-05-31T18:00:21.481Z"
   },
   {
    "duration": 37,
    "start_time": "2022-05-31T18:00:21.491Z"
   },
   {
    "duration": 20,
    "start_time": "2022-05-31T18:00:21.530Z"
   },
   {
    "duration": 294,
    "start_time": "2022-05-31T18:00:21.553Z"
   },
   {
    "duration": 11,
    "start_time": "2022-05-31T18:00:21.849Z"
   },
   {
    "duration": 181,
    "start_time": "2022-05-31T18:00:21.862Z"
   },
   {
    "duration": 215,
    "start_time": "2022-05-31T18:00:22.045Z"
   },
   {
    "duration": 8,
    "start_time": "2022-05-31T18:00:22.262Z"
   },
   {
    "duration": 210,
    "start_time": "2022-05-31T18:00:22.271Z"
   },
   {
    "duration": 21,
    "start_time": "2022-05-31T18:00:22.482Z"
   },
   {
    "duration": 39,
    "start_time": "2022-05-31T18:00:22.505Z"
   },
   {
    "duration": 236,
    "start_time": "2022-05-31T18:00:22.546Z"
   },
   {
    "duration": 415,
    "start_time": "2022-05-31T18:00:22.784Z"
   },
   {
    "duration": 30,
    "start_time": "2022-05-31T18:00:23.200Z"
   },
   {
    "duration": 23,
    "start_time": "2022-05-31T18:00:23.232Z"
   },
   {
    "duration": 17,
    "start_time": "2022-05-31T18:00:23.256Z"
   },
   {
    "duration": 15,
    "start_time": "2022-05-31T18:00:23.274Z"
   },
   {
    "duration": 37,
    "start_time": "2022-05-31T18:00:23.290Z"
   },
   {
    "duration": 24,
    "start_time": "2022-05-31T18:00:23.329Z"
   },
   {
    "duration": 133,
    "start_time": "2022-05-31T18:13:50.854Z"
   },
   {
    "duration": 6,
    "start_time": "2022-05-31T18:14:00.678Z"
   },
   {
    "duration": 21,
    "start_time": "2022-05-31T18:14:17.523Z"
   },
   {
    "duration": 10,
    "start_time": "2022-05-31T18:14:22.953Z"
   },
   {
    "duration": 13,
    "start_time": "2022-05-31T18:14:29.129Z"
   },
   {
    "duration": 17,
    "start_time": "2022-05-31T18:19:50.946Z"
   },
   {
    "duration": 1294,
    "start_time": "2022-05-31T18:20:24.588Z"
   },
   {
    "duration": 14,
    "start_time": "2022-05-31T18:20:25.884Z"
   },
   {
    "duration": 96,
    "start_time": "2022-05-31T18:20:25.900Z"
   },
   {
    "duration": 29,
    "start_time": "2022-05-31T18:20:25.998Z"
   },
   {
    "duration": 13,
    "start_time": "2022-05-31T18:20:26.029Z"
   },
   {
    "duration": 17,
    "start_time": "2022-05-31T18:20:26.044Z"
   },
   {
    "duration": 30,
    "start_time": "2022-05-31T18:20:26.063Z"
   },
   {
    "duration": 28,
    "start_time": "2022-05-31T18:20:26.095Z"
   },
   {
    "duration": 17,
    "start_time": "2022-05-31T18:20:26.125Z"
   },
   {
    "duration": 20,
    "start_time": "2022-05-31T18:20:26.146Z"
   },
   {
    "duration": 8,
    "start_time": "2022-05-31T18:20:26.168Z"
   },
   {
    "duration": 7,
    "start_time": "2022-05-31T18:20:26.178Z"
   },
   {
    "duration": 46,
    "start_time": "2022-05-31T18:20:26.187Z"
   },
   {
    "duration": 344,
    "start_time": "2022-05-31T18:20:26.235Z"
   },
   {
    "duration": 14,
    "start_time": "2022-05-31T18:20:26.581Z"
   },
   {
    "duration": 161,
    "start_time": "2022-05-31T18:20:26.596Z"
   },
   {
    "duration": 184,
    "start_time": "2022-05-31T18:20:26.758Z"
   },
   {
    "duration": 140,
    "start_time": "2022-05-31T18:20:26.944Z"
   },
   {
    "duration": 0,
    "start_time": "2022-05-31T18:20:27.086Z"
   },
   {
    "duration": 0,
    "start_time": "2022-05-31T18:20:27.088Z"
   },
   {
    "duration": 0,
    "start_time": "2022-05-31T18:20:27.089Z"
   },
   {
    "duration": 0,
    "start_time": "2022-05-31T18:20:27.090Z"
   },
   {
    "duration": 0,
    "start_time": "2022-05-31T18:20:27.091Z"
   },
   {
    "duration": 0,
    "start_time": "2022-05-31T18:20:27.092Z"
   },
   {
    "duration": 0,
    "start_time": "2022-05-31T18:20:27.093Z"
   },
   {
    "duration": 0,
    "start_time": "2022-05-31T18:20:27.096Z"
   },
   {
    "duration": 0,
    "start_time": "2022-05-31T18:20:27.097Z"
   },
   {
    "duration": 0,
    "start_time": "2022-05-31T18:20:27.098Z"
   },
   {
    "duration": 0,
    "start_time": "2022-05-31T18:20:27.126Z"
   },
   {
    "duration": 0,
    "start_time": "2022-05-31T18:20:27.128Z"
   },
   {
    "duration": 9,
    "start_time": "2022-05-31T18:21:21.475Z"
   },
   {
    "duration": 39,
    "start_time": "2022-05-31T18:21:27.936Z"
   },
   {
    "duration": 7,
    "start_time": "2022-05-31T18:21:40.058Z"
   },
   {
    "duration": 57,
    "start_time": "2022-05-31T19:31:17.249Z"
   },
   {
    "duration": 1315,
    "start_time": "2022-05-31T19:31:24.002Z"
   },
   {
    "duration": 17,
    "start_time": "2022-05-31T19:31:25.319Z"
   },
   {
    "duration": 102,
    "start_time": "2022-05-31T19:31:25.338Z"
   },
   {
    "duration": 20,
    "start_time": "2022-05-31T19:31:25.443Z"
   },
   {
    "duration": 9,
    "start_time": "2022-05-31T19:31:25.464Z"
   },
   {
    "duration": 15,
    "start_time": "2022-05-31T19:31:25.475Z"
   },
   {
    "duration": 55,
    "start_time": "2022-05-31T19:31:25.491Z"
   },
   {
    "duration": 21,
    "start_time": "2022-05-31T19:31:25.548Z"
   },
   {
    "duration": 11,
    "start_time": "2022-05-31T19:31:25.570Z"
   },
   {
    "duration": 19,
    "start_time": "2022-05-31T19:31:25.583Z"
   },
   {
    "duration": 13,
    "start_time": "2022-05-31T19:31:25.622Z"
   },
   {
    "duration": 10,
    "start_time": "2022-05-31T19:31:25.637Z"
   },
   {
    "duration": 8,
    "start_time": "2022-05-31T19:31:25.648Z"
   },
   {
    "duration": 302,
    "start_time": "2022-05-31T19:31:25.657Z"
   },
   {
    "duration": 14,
    "start_time": "2022-05-31T19:31:25.962Z"
   },
   {
    "duration": 185,
    "start_time": "2022-05-31T19:31:25.979Z"
   },
   {
    "duration": 204,
    "start_time": "2022-05-31T19:31:26.165Z"
   },
   {
    "duration": 137,
    "start_time": "2022-05-31T19:31:26.371Z"
   },
   {
    "duration": 0,
    "start_time": "2022-05-31T19:31:26.509Z"
   },
   {
    "duration": 0,
    "start_time": "2022-05-31T19:31:26.511Z"
   },
   {
    "duration": 0,
    "start_time": "2022-05-31T19:31:26.512Z"
   },
   {
    "duration": 0,
    "start_time": "2022-05-31T19:31:26.513Z"
   },
   {
    "duration": 0,
    "start_time": "2022-05-31T19:31:26.522Z"
   },
   {
    "duration": 0,
    "start_time": "2022-05-31T19:31:26.523Z"
   },
   {
    "duration": 0,
    "start_time": "2022-05-31T19:31:26.525Z"
   },
   {
    "duration": 0,
    "start_time": "2022-05-31T19:31:26.526Z"
   },
   {
    "duration": 0,
    "start_time": "2022-05-31T19:31:26.528Z"
   },
   {
    "duration": 0,
    "start_time": "2022-05-31T19:31:26.530Z"
   },
   {
    "duration": 0,
    "start_time": "2022-05-31T19:31:26.531Z"
   },
   {
    "duration": 0,
    "start_time": "2022-05-31T19:31:26.532Z"
   },
   {
    "duration": 10,
    "start_time": "2022-05-31T19:31:50.670Z"
   },
   {
    "duration": 9,
    "start_time": "2022-05-31T19:32:19.041Z"
   },
   {
    "duration": 15,
    "start_time": "2022-05-31T19:38:36.684Z"
   },
   {
    "duration": 14,
    "start_time": "2022-05-31T19:43:33.364Z"
   },
   {
    "duration": 17,
    "start_time": "2022-05-31T19:43:40.095Z"
   },
   {
    "duration": 6,
    "start_time": "2022-05-31T19:43:55.675Z"
   },
   {
    "duration": 19,
    "start_time": "2022-05-31T19:44:02.916Z"
   },
   {
    "duration": 18,
    "start_time": "2022-05-31T19:47:09.612Z"
   },
   {
    "duration": 22,
    "start_time": "2022-05-31T19:47:34.826Z"
   },
   {
    "duration": 14,
    "start_time": "2022-05-31T19:47:38.266Z"
   },
   {
    "duration": 9,
    "start_time": "2022-05-31T19:52:59.568Z"
   },
   {
    "duration": 9,
    "start_time": "2022-05-31T19:53:04.738Z"
   },
   {
    "duration": 22,
    "start_time": "2022-05-31T19:53:40.646Z"
   },
   {
    "duration": 26,
    "start_time": "2022-05-31T19:53:47.696Z"
   },
   {
    "duration": 12,
    "start_time": "2022-05-31T19:54:07.697Z"
   },
   {
    "duration": 9,
    "start_time": "2022-05-31T19:54:25.846Z"
   },
   {
    "duration": 117,
    "start_time": "2022-05-31T19:54:35.030Z"
   },
   {
    "duration": 149,
    "start_time": "2022-05-31T19:55:13.929Z"
   },
   {
    "duration": 148,
    "start_time": "2022-05-31T19:56:50.194Z"
   },
   {
    "duration": 20,
    "start_time": "2022-05-31T19:59:44.836Z"
   },
   {
    "duration": 139,
    "start_time": "2022-05-31T20:02:27.048Z"
   },
   {
    "duration": 10,
    "start_time": "2022-05-31T20:05:10.170Z"
   },
   {
    "duration": 1402,
    "start_time": "2022-05-31T20:06:38.966Z"
   },
   {
    "duration": 16,
    "start_time": "2022-05-31T20:06:40.370Z"
   },
   {
    "duration": 103,
    "start_time": "2022-05-31T20:06:40.388Z"
   },
   {
    "duration": 18,
    "start_time": "2022-05-31T20:06:40.493Z"
   },
   {
    "duration": 12,
    "start_time": "2022-05-31T20:06:40.527Z"
   },
   {
    "duration": 15,
    "start_time": "2022-05-31T20:06:40.542Z"
   },
   {
    "duration": 30,
    "start_time": "2022-05-31T20:06:40.559Z"
   },
   {
    "duration": 40,
    "start_time": "2022-05-31T20:06:40.591Z"
   },
   {
    "duration": 16,
    "start_time": "2022-05-31T20:06:40.633Z"
   },
   {
    "duration": 22,
    "start_time": "2022-05-31T20:06:40.651Z"
   },
   {
    "duration": 9,
    "start_time": "2022-05-31T20:06:40.674Z"
   },
   {
    "duration": 12,
    "start_time": "2022-05-31T20:06:40.685Z"
   },
   {
    "duration": 6,
    "start_time": "2022-05-31T20:06:40.725Z"
   },
   {
    "duration": 313,
    "start_time": "2022-05-31T20:06:40.735Z"
   },
   {
    "duration": 14,
    "start_time": "2022-05-31T20:06:41.050Z"
   },
   {
    "duration": 172,
    "start_time": "2022-05-31T20:06:41.066Z"
   },
   {
    "duration": 216,
    "start_time": "2022-05-31T20:06:41.240Z"
   },
   {
    "duration": 145,
    "start_time": "2022-05-31T20:06:41.458Z"
   },
   {
    "duration": 138,
    "start_time": "2022-05-31T20:06:41.605Z"
   },
   {
    "duration": 0,
    "start_time": "2022-05-31T20:06:41.745Z"
   },
   {
    "duration": 0,
    "start_time": "2022-05-31T20:06:41.747Z"
   },
   {
    "duration": 0,
    "start_time": "2022-05-31T20:06:41.748Z"
   },
   {
    "duration": 0,
    "start_time": "2022-05-31T20:06:41.749Z"
   },
   {
    "duration": 0,
    "start_time": "2022-05-31T20:06:41.750Z"
   },
   {
    "duration": 0,
    "start_time": "2022-05-31T20:06:41.751Z"
   },
   {
    "duration": 0,
    "start_time": "2022-05-31T20:06:41.752Z"
   },
   {
    "duration": 0,
    "start_time": "2022-05-31T20:06:41.753Z"
   },
   {
    "duration": 0,
    "start_time": "2022-05-31T20:06:41.754Z"
   },
   {
    "duration": 0,
    "start_time": "2022-05-31T20:06:41.755Z"
   },
   {
    "duration": 0,
    "start_time": "2022-05-31T20:06:41.756Z"
   },
   {
    "duration": 0,
    "start_time": "2022-05-31T20:06:41.757Z"
   },
   {
    "duration": 0,
    "start_time": "2022-05-31T20:06:41.758Z"
   },
   {
    "duration": 151,
    "start_time": "2022-05-31T20:06:54.696Z"
   },
   {
    "duration": 1435,
    "start_time": "2022-05-31T20:08:02.337Z"
   },
   {
    "duration": 15,
    "start_time": "2022-05-31T20:08:03.774Z"
   },
   {
    "duration": 106,
    "start_time": "2022-05-31T20:08:03.790Z"
   },
   {
    "duration": 26,
    "start_time": "2022-05-31T20:08:03.897Z"
   },
   {
    "duration": 11,
    "start_time": "2022-05-31T20:08:03.926Z"
   },
   {
    "duration": 18,
    "start_time": "2022-05-31T20:08:03.941Z"
   },
   {
    "duration": 48,
    "start_time": "2022-05-31T20:08:03.961Z"
   },
   {
    "duration": 20,
    "start_time": "2022-05-31T20:08:04.011Z"
   },
   {
    "duration": 15,
    "start_time": "2022-05-31T20:08:04.032Z"
   },
   {
    "duration": 21,
    "start_time": "2022-05-31T20:08:04.048Z"
   },
   {
    "duration": 8,
    "start_time": "2022-05-31T20:08:04.071Z"
   },
   {
    "duration": 8,
    "start_time": "2022-05-31T20:08:04.080Z"
   },
   {
    "duration": 36,
    "start_time": "2022-05-31T20:08:04.089Z"
   },
   {
    "duration": 344,
    "start_time": "2022-05-31T20:08:04.131Z"
   },
   {
    "duration": 12,
    "start_time": "2022-05-31T20:08:04.477Z"
   },
   {
    "duration": 152,
    "start_time": "2022-05-31T20:08:04.490Z"
   },
   {
    "duration": 187,
    "start_time": "2022-05-31T20:08:04.644Z"
   },
   {
    "duration": 153,
    "start_time": "2022-05-31T20:08:04.832Z"
   },
   {
    "duration": 0,
    "start_time": "2022-05-31T20:08:04.988Z"
   },
   {
    "duration": 0,
    "start_time": "2022-05-31T20:08:04.989Z"
   },
   {
    "duration": 0,
    "start_time": "2022-05-31T20:08:04.990Z"
   },
   {
    "duration": 0,
    "start_time": "2022-05-31T20:08:04.991Z"
   },
   {
    "duration": 0,
    "start_time": "2022-05-31T20:08:04.992Z"
   },
   {
    "duration": 0,
    "start_time": "2022-05-31T20:08:04.993Z"
   },
   {
    "duration": 0,
    "start_time": "2022-05-31T20:08:04.993Z"
   },
   {
    "duration": 0,
    "start_time": "2022-05-31T20:08:04.994Z"
   },
   {
    "duration": 0,
    "start_time": "2022-05-31T20:08:04.995Z"
   },
   {
    "duration": 0,
    "start_time": "2022-05-31T20:08:04.996Z"
   },
   {
    "duration": 0,
    "start_time": "2022-05-31T20:08:04.997Z"
   },
   {
    "duration": 0,
    "start_time": "2022-05-31T20:08:04.998Z"
   },
   {
    "duration": 0,
    "start_time": "2022-05-31T20:08:04.999Z"
   },
   {
    "duration": 0,
    "start_time": "2022-05-31T20:08:05.000Z"
   },
   {
    "duration": 1551,
    "start_time": "2022-06-01T18:03:20.293Z"
   },
   {
    "duration": 13,
    "start_time": "2022-06-01T18:03:21.846Z"
   },
   {
    "duration": 73,
    "start_time": "2022-06-01T18:03:21.860Z"
   },
   {
    "duration": 14,
    "start_time": "2022-06-01T18:03:21.935Z"
   },
   {
    "duration": 6,
    "start_time": "2022-06-01T18:03:21.950Z"
   },
   {
    "duration": 18,
    "start_time": "2022-06-01T18:03:21.958Z"
   },
   {
    "duration": 23,
    "start_time": "2022-06-01T18:03:21.977Z"
   },
   {
    "duration": 13,
    "start_time": "2022-06-01T18:03:22.001Z"
   },
   {
    "duration": 13,
    "start_time": "2022-06-01T18:03:22.015Z"
   },
   {
    "duration": 16,
    "start_time": "2022-06-01T18:03:22.030Z"
   },
   {
    "duration": 28,
    "start_time": "2022-06-01T18:03:22.048Z"
   },
   {
    "duration": 4,
    "start_time": "2022-06-01T18:03:22.077Z"
   },
   {
    "duration": 13,
    "start_time": "2022-06-01T18:03:22.082Z"
   },
   {
    "duration": 258,
    "start_time": "2022-06-01T18:03:22.096Z"
   },
   {
    "duration": 14,
    "start_time": "2022-06-01T18:03:22.356Z"
   },
   {
    "duration": 156,
    "start_time": "2022-06-01T18:03:22.372Z"
   },
   {
    "duration": 159,
    "start_time": "2022-06-01T18:03:22.530Z"
   },
   {
    "duration": 117,
    "start_time": "2022-06-01T18:03:22.690Z"
   },
   {
    "duration": 0,
    "start_time": "2022-06-01T18:03:22.809Z"
   },
   {
    "duration": 0,
    "start_time": "2022-06-01T18:03:22.810Z"
   },
   {
    "duration": 0,
    "start_time": "2022-06-01T18:03:22.812Z"
   },
   {
    "duration": 0,
    "start_time": "2022-06-01T18:03:22.813Z"
   },
   {
    "duration": 0,
    "start_time": "2022-06-01T18:03:22.814Z"
   },
   {
    "duration": 0,
    "start_time": "2022-06-01T18:03:22.815Z"
   },
   {
    "duration": 0,
    "start_time": "2022-06-01T18:03:22.817Z"
   },
   {
    "duration": 0,
    "start_time": "2022-06-01T18:03:22.818Z"
   },
   {
    "duration": 0,
    "start_time": "2022-06-01T18:03:22.819Z"
   },
   {
    "duration": 0,
    "start_time": "2022-06-01T18:03:22.820Z"
   },
   {
    "duration": 0,
    "start_time": "2022-06-01T18:03:22.821Z"
   },
   {
    "duration": 0,
    "start_time": "2022-06-01T18:03:22.822Z"
   },
   {
    "duration": 0,
    "start_time": "2022-06-01T18:03:22.823Z"
   },
   {
    "duration": 0,
    "start_time": "2022-06-01T18:03:22.824Z"
   },
   {
    "duration": 15,
    "start_time": "2022-06-01T18:03:46.792Z"
   },
   {
    "duration": 1168,
    "start_time": "2022-06-01T18:04:37.376Z"
   },
   {
    "duration": 13,
    "start_time": "2022-06-01T18:04:38.545Z"
   },
   {
    "duration": 63,
    "start_time": "2022-06-01T18:04:38.559Z"
   },
   {
    "duration": 15,
    "start_time": "2022-06-01T18:04:38.623Z"
   },
   {
    "duration": 6,
    "start_time": "2022-06-01T18:04:38.640Z"
   },
   {
    "duration": 29,
    "start_time": "2022-06-01T18:04:38.647Z"
   },
   {
    "duration": 23,
    "start_time": "2022-06-01T18:04:38.677Z"
   },
   {
    "duration": 13,
    "start_time": "2022-06-01T18:04:38.701Z"
   },
   {
    "duration": 10,
    "start_time": "2022-06-01T18:04:38.715Z"
   },
   {
    "duration": 17,
    "start_time": "2022-06-01T18:04:38.728Z"
   },
   {
    "duration": 33,
    "start_time": "2022-06-01T18:04:38.747Z"
   },
   {
    "duration": 7,
    "start_time": "2022-06-01T18:04:38.782Z"
   },
   {
    "duration": 6,
    "start_time": "2022-06-01T18:04:38.791Z"
   },
   {
    "duration": 244,
    "start_time": "2022-06-01T18:04:38.798Z"
   },
   {
    "duration": 11,
    "start_time": "2022-06-01T18:04:39.043Z"
   },
   {
    "duration": 133,
    "start_time": "2022-06-01T18:04:39.055Z"
   },
   {
    "duration": 161,
    "start_time": "2022-06-01T18:04:39.189Z"
   },
   {
    "duration": 115,
    "start_time": "2022-06-01T18:04:39.351Z"
   },
   {
    "duration": 0,
    "start_time": "2022-06-01T18:04:39.468Z"
   },
   {
    "duration": 0,
    "start_time": "2022-06-01T18:04:39.469Z"
   },
   {
    "duration": 0,
    "start_time": "2022-06-01T18:04:39.470Z"
   },
   {
    "duration": 0,
    "start_time": "2022-06-01T18:04:39.475Z"
   },
   {
    "duration": 0,
    "start_time": "2022-06-01T18:04:39.476Z"
   },
   {
    "duration": 0,
    "start_time": "2022-06-01T18:04:39.477Z"
   },
   {
    "duration": 0,
    "start_time": "2022-06-01T18:04:39.477Z"
   },
   {
    "duration": 0,
    "start_time": "2022-06-01T18:04:39.478Z"
   },
   {
    "duration": 0,
    "start_time": "2022-06-01T18:04:39.479Z"
   },
   {
    "duration": 0,
    "start_time": "2022-06-01T18:04:39.480Z"
   },
   {
    "duration": 0,
    "start_time": "2022-06-01T18:04:39.481Z"
   },
   {
    "duration": 0,
    "start_time": "2022-06-01T18:04:39.482Z"
   },
   {
    "duration": 0,
    "start_time": "2022-06-01T18:04:39.483Z"
   },
   {
    "duration": 0,
    "start_time": "2022-06-01T18:04:39.484Z"
   },
   {
    "duration": 15,
    "start_time": "2022-06-01T18:15:56.412Z"
   },
   {
    "duration": 203,
    "start_time": "2022-06-01T18:16:01.576Z"
   },
   {
    "duration": 32,
    "start_time": "2022-06-01T18:20:14.772Z"
   },
   {
    "duration": 124,
    "start_time": "2022-06-01T18:20:33.045Z"
   },
   {
    "duration": 16,
    "start_time": "2022-06-01T18:26:27.964Z"
   },
   {
    "duration": 130,
    "start_time": "2022-06-01T18:26:39.945Z"
   },
   {
    "duration": 125,
    "start_time": "2022-06-01T19:08:27.584Z"
   },
   {
    "duration": 19,
    "start_time": "2022-06-01T19:10:13.208Z"
   },
   {
    "duration": 26,
    "start_time": "2022-06-01T19:10:48.907Z"
   },
   {
    "duration": 26,
    "start_time": "2022-06-01T19:10:56.942Z"
   },
   {
    "duration": 17,
    "start_time": "2022-06-01T19:13:15.109Z"
   },
   {
    "duration": 18,
    "start_time": "2022-06-01T19:13:20.484Z"
   },
   {
    "duration": 17,
    "start_time": "2022-06-01T19:13:35.931Z"
   },
   {
    "duration": 12,
    "start_time": "2022-06-01T19:13:43.739Z"
   },
   {
    "duration": 1197,
    "start_time": "2022-06-01T19:13:57.992Z"
   },
   {
    "duration": 13,
    "start_time": "2022-06-01T19:13:59.191Z"
   },
   {
    "duration": 86,
    "start_time": "2022-06-01T19:13:59.208Z"
   },
   {
    "duration": 14,
    "start_time": "2022-06-01T19:13:59.296Z"
   },
   {
    "duration": 7,
    "start_time": "2022-06-01T19:13:59.311Z"
   },
   {
    "duration": 10,
    "start_time": "2022-06-01T19:13:59.319Z"
   },
   {
    "duration": 45,
    "start_time": "2022-06-01T19:13:59.330Z"
   },
   {
    "duration": 13,
    "start_time": "2022-06-01T19:13:59.376Z"
   },
   {
    "duration": 8,
    "start_time": "2022-06-01T19:13:59.392Z"
   },
   {
    "duration": 16,
    "start_time": "2022-06-01T19:13:59.402Z"
   },
   {
    "duration": 7,
    "start_time": "2022-06-01T19:13:59.419Z"
   },
   {
    "duration": 7,
    "start_time": "2022-06-01T19:13:59.427Z"
   },
   {
    "duration": 19,
    "start_time": "2022-06-01T19:13:59.435Z"
   },
   {
    "duration": 275,
    "start_time": "2022-06-01T19:13:59.455Z"
   },
   {
    "duration": 10,
    "start_time": "2022-06-01T19:13:59.732Z"
   },
   {
    "duration": 133,
    "start_time": "2022-06-01T19:13:59.743Z"
   },
   {
    "duration": 170,
    "start_time": "2022-06-01T19:13:59.878Z"
   },
   {
    "duration": 104,
    "start_time": "2022-06-01T19:14:00.050Z"
   },
   {
    "duration": 0,
    "start_time": "2022-06-01T19:14:00.156Z"
   },
   {
    "duration": 0,
    "start_time": "2022-06-01T19:14:00.157Z"
   },
   {
    "duration": 0,
    "start_time": "2022-06-01T19:14:00.158Z"
   },
   {
    "duration": 0,
    "start_time": "2022-06-01T19:14:00.158Z"
   },
   {
    "duration": 0,
    "start_time": "2022-06-01T19:14:00.160Z"
   },
   {
    "duration": 0,
    "start_time": "2022-06-01T19:14:00.160Z"
   },
   {
    "duration": 0,
    "start_time": "2022-06-01T19:14:00.174Z"
   },
   {
    "duration": 0,
    "start_time": "2022-06-01T19:14:00.175Z"
   },
   {
    "duration": 0,
    "start_time": "2022-06-01T19:14:00.176Z"
   },
   {
    "duration": 0,
    "start_time": "2022-06-01T19:14:00.177Z"
   },
   {
    "duration": 0,
    "start_time": "2022-06-01T19:14:00.178Z"
   },
   {
    "duration": 0,
    "start_time": "2022-06-01T19:14:00.179Z"
   },
   {
    "duration": 0,
    "start_time": "2022-06-01T19:14:00.180Z"
   },
   {
    "duration": 0,
    "start_time": "2022-06-01T19:14:00.181Z"
   },
   {
    "duration": 0,
    "start_time": "2022-06-01T19:14:00.182Z"
   },
   {
    "duration": 2,
    "start_time": "2022-06-01T19:14:21.225Z"
   },
   {
    "duration": 15,
    "start_time": "2022-06-01T19:14:23.163Z"
   },
   {
    "duration": 7,
    "start_time": "2022-06-01T19:14:31.206Z"
   },
   {
    "duration": 14,
    "start_time": "2022-06-01T19:14:33.519Z"
   },
   {
    "duration": 9,
    "start_time": "2022-06-01T19:14:57.363Z"
   },
   {
    "duration": 12,
    "start_time": "2022-06-01T19:15:01.207Z"
   },
   {
    "duration": 23,
    "start_time": "2022-06-01T19:16:12.185Z"
   },
   {
    "duration": 129,
    "start_time": "2022-06-01T19:16:56.457Z"
   },
   {
    "duration": 27,
    "start_time": "2022-06-01T19:18:17.727Z"
   },
   {
    "duration": 19,
    "start_time": "2022-06-01T19:19:52.107Z"
   },
   {
    "duration": 19,
    "start_time": "2022-06-01T19:19:59.069Z"
   },
   {
    "duration": 28,
    "start_time": "2022-06-01T19:20:09.317Z"
   },
   {
    "duration": 175,
    "start_time": "2022-06-01T19:26:07.792Z"
   },
   {
    "duration": 157,
    "start_time": "2022-06-01T19:27:10.479Z"
   },
   {
    "duration": 137,
    "start_time": "2022-06-01T19:27:44.085Z"
   },
   {
    "duration": 144,
    "start_time": "2022-06-01T19:27:53.828Z"
   },
   {
    "duration": 27,
    "start_time": "2022-06-01T19:53:30.772Z"
   },
   {
    "duration": 506,
    "start_time": "2022-06-01T19:54:37.609Z"
   },
   {
    "duration": 152,
    "start_time": "2022-06-01T19:55:07.596Z"
   },
   {
    "duration": 672,
    "start_time": "2022-06-01T19:55:20.644Z"
   },
   {
    "duration": 418,
    "start_time": "2022-06-01T19:56:20.242Z"
   },
   {
    "duration": 158,
    "start_time": "2022-06-01T19:56:54.165Z"
   },
   {
    "duration": 22,
    "start_time": "2022-06-01T19:57:44.642Z"
   },
   {
    "duration": 5,
    "start_time": "2022-06-01T19:59:57.600Z"
   },
   {
    "duration": 27,
    "start_time": "2022-06-01T20:00:15.070Z"
   },
   {
    "duration": 32,
    "start_time": "2022-06-01T20:02:39.849Z"
   },
   {
    "duration": 24,
    "start_time": "2022-06-01T20:03:32.840Z"
   },
   {
    "duration": 1257,
    "start_time": "2022-06-01T20:03:37.715Z"
   },
   {
    "duration": 15,
    "start_time": "2022-06-01T20:03:38.974Z"
   },
   {
    "duration": 76,
    "start_time": "2022-06-01T20:03:38.991Z"
   },
   {
    "duration": 17,
    "start_time": "2022-06-01T20:03:39.076Z"
   },
   {
    "duration": 8,
    "start_time": "2022-06-01T20:03:39.094Z"
   },
   {
    "duration": 10,
    "start_time": "2022-06-01T20:03:39.104Z"
   },
   {
    "duration": 34,
    "start_time": "2022-06-01T20:03:39.116Z"
   },
   {
    "duration": 38,
    "start_time": "2022-06-01T20:03:39.151Z"
   },
   {
    "duration": 12,
    "start_time": "2022-06-01T20:03:39.191Z"
   },
   {
    "duration": 21,
    "start_time": "2022-06-01T20:03:39.206Z"
   },
   {
    "duration": 8,
    "start_time": "2022-06-01T20:03:39.228Z"
   },
   {
    "duration": 38,
    "start_time": "2022-06-01T20:03:39.238Z"
   },
   {
    "duration": 10,
    "start_time": "2022-06-01T20:03:39.278Z"
   },
   {
    "duration": 301,
    "start_time": "2022-06-01T20:03:39.289Z"
   },
   {
    "duration": 11,
    "start_time": "2022-06-01T20:03:39.592Z"
   },
   {
    "duration": 157,
    "start_time": "2022-06-01T20:03:39.605Z"
   },
   {
    "duration": 206,
    "start_time": "2022-06-01T20:03:39.764Z"
   },
   {
    "duration": 3,
    "start_time": "2022-06-01T20:03:39.972Z"
   },
   {
    "duration": 127,
    "start_time": "2022-06-01T20:03:39.977Z"
   },
   {
    "duration": 0,
    "start_time": "2022-06-01T20:03:40.106Z"
   },
   {
    "duration": 0,
    "start_time": "2022-06-01T20:03:40.107Z"
   },
   {
    "duration": 0,
    "start_time": "2022-06-01T20:03:40.108Z"
   },
   {
    "duration": 0,
    "start_time": "2022-06-01T20:03:40.110Z"
   },
   {
    "duration": 0,
    "start_time": "2022-06-01T20:03:40.111Z"
   },
   {
    "duration": 0,
    "start_time": "2022-06-01T20:03:40.112Z"
   },
   {
    "duration": 0,
    "start_time": "2022-06-01T20:03:40.114Z"
   },
   {
    "duration": 0,
    "start_time": "2022-06-01T20:03:40.115Z"
   },
   {
    "duration": 0,
    "start_time": "2022-06-01T20:03:40.116Z"
   },
   {
    "duration": 0,
    "start_time": "2022-06-01T20:03:40.117Z"
   },
   {
    "duration": 0,
    "start_time": "2022-06-01T20:03:40.118Z"
   },
   {
    "duration": 0,
    "start_time": "2022-06-01T20:03:40.119Z"
   },
   {
    "duration": 0,
    "start_time": "2022-06-01T20:03:40.120Z"
   },
   {
    "duration": 153,
    "start_time": "2022-06-01T20:42:20.428Z"
   },
   {
    "duration": 148,
    "start_time": "2022-06-01T20:44:13.394Z"
   },
   {
    "duration": 161,
    "start_time": "2022-06-01T20:45:03.372Z"
   },
   {
    "duration": 142,
    "start_time": "2022-06-01T20:45:35.109Z"
   },
   {
    "duration": 25,
    "start_time": "2022-06-01T20:46:05.744Z"
   },
   {
    "duration": 149,
    "start_time": "2022-06-01T20:46:16.492Z"
   },
   {
    "duration": 152,
    "start_time": "2022-06-01T20:46:40.496Z"
   },
   {
    "duration": 136,
    "start_time": "2022-06-01T20:47:00.600Z"
   },
   {
    "duration": 153,
    "start_time": "2022-06-01T20:49:44.279Z"
   },
   {
    "duration": 1516,
    "start_time": "2022-06-01T20:50:21.380Z"
   },
   {
    "duration": 15,
    "start_time": "2022-06-01T20:50:22.898Z"
   },
   {
    "duration": 102,
    "start_time": "2022-06-01T20:50:22.915Z"
   },
   {
    "duration": 24,
    "start_time": "2022-06-01T20:50:23.020Z"
   },
   {
    "duration": 31,
    "start_time": "2022-06-01T20:50:23.046Z"
   },
   {
    "duration": 18,
    "start_time": "2022-06-01T20:50:23.079Z"
   },
   {
    "duration": 45,
    "start_time": "2022-06-01T20:50:23.099Z"
   },
   {
    "duration": 29,
    "start_time": "2022-06-01T20:50:23.146Z"
   },
   {
    "duration": 11,
    "start_time": "2022-06-01T20:50:23.177Z"
   },
   {
    "duration": 22,
    "start_time": "2022-06-01T20:50:23.190Z"
   },
   {
    "duration": 9,
    "start_time": "2022-06-01T20:50:23.214Z"
   },
   {
    "duration": 9,
    "start_time": "2022-06-01T20:50:23.226Z"
   },
   {
    "duration": 12,
    "start_time": "2022-06-01T20:50:23.236Z"
   },
   {
    "duration": 416,
    "start_time": "2022-06-01T20:50:23.250Z"
   },
   {
    "duration": 16,
    "start_time": "2022-06-01T20:50:23.668Z"
   },
   {
    "duration": 236,
    "start_time": "2022-06-01T20:50:23.686Z"
   },
   {
    "duration": 268,
    "start_time": "2022-06-01T20:50:23.926Z"
   },
   {
    "duration": 4,
    "start_time": "2022-06-01T20:50:24.196Z"
   },
   {
    "duration": 238,
    "start_time": "2022-06-01T20:50:24.202Z"
   },
   {
    "duration": 10,
    "start_time": "2022-06-01T20:50:24.442Z"
   },
   {
    "duration": 253,
    "start_time": "2022-06-01T20:50:24.455Z"
   },
   {
    "duration": 29,
    "start_time": "2022-06-01T20:50:24.711Z"
   },
   {
    "duration": 38,
    "start_time": "2022-06-01T20:50:24.742Z"
   },
   {
    "duration": 265,
    "start_time": "2022-06-01T20:50:24.782Z"
   },
   {
    "duration": 427,
    "start_time": "2022-06-01T20:50:25.050Z"
   },
   {
    "duration": 35,
    "start_time": "2022-06-01T20:50:25.479Z"
   },
   {
    "duration": 21,
    "start_time": "2022-06-01T20:50:25.517Z"
   },
   {
    "duration": 38,
    "start_time": "2022-06-01T20:50:25.542Z"
   },
   {
    "duration": 17,
    "start_time": "2022-06-01T20:50:25.582Z"
   },
   {
    "duration": 14,
    "start_time": "2022-06-01T20:50:25.601Z"
   },
   {
    "duration": 28,
    "start_time": "2022-06-01T20:50:25.617Z"
   },
   {
    "duration": 153,
    "start_time": "2022-06-01T20:52:22.643Z"
   },
   {
    "duration": 127,
    "start_time": "2022-06-01T20:52:46.325Z"
   },
   {
    "duration": 125,
    "start_time": "2022-06-01T20:53:14.726Z"
   },
   {
    "duration": 136,
    "start_time": "2022-06-01T20:53:47.473Z"
   },
   {
    "duration": 128,
    "start_time": "2022-06-01T20:55:06.331Z"
   },
   {
    "duration": 273,
    "start_time": "2022-06-01T20:58:55.183Z"
   },
   {
    "duration": 122,
    "start_time": "2022-06-01T20:59:45.014Z"
   },
   {
    "duration": 144,
    "start_time": "2022-06-01T20:59:54.132Z"
   },
   {
    "duration": 129,
    "start_time": "2022-06-01T20:59:59.231Z"
   },
   {
    "duration": 134,
    "start_time": "2022-06-01T21:00:04.495Z"
   },
   {
    "duration": 141,
    "start_time": "2022-06-01T21:00:11.596Z"
   },
   {
    "duration": 135,
    "start_time": "2022-06-01T21:00:17.704Z"
   },
   {
    "duration": 127,
    "start_time": "2022-06-01T21:00:33.005Z"
   },
   {
    "duration": 137,
    "start_time": "2022-06-01T21:00:41.097Z"
   },
   {
    "duration": 138,
    "start_time": "2022-06-01T21:00:50.126Z"
   },
   {
    "duration": 180,
    "start_time": "2022-06-01T21:00:55.786Z"
   },
   {
    "duration": 1760,
    "start_time": "2022-06-02T06:49:43.108Z"
   },
   {
    "duration": 16,
    "start_time": "2022-06-02T06:49:44.870Z"
   },
   {
    "duration": 100,
    "start_time": "2022-06-02T06:49:44.888Z"
   },
   {
    "duration": 18,
    "start_time": "2022-06-02T06:49:44.990Z"
   },
   {
    "duration": 15,
    "start_time": "2022-06-02T06:49:45.010Z"
   },
   {
    "duration": 12,
    "start_time": "2022-06-02T06:49:45.027Z"
   },
   {
    "duration": 30,
    "start_time": "2022-06-02T06:49:45.040Z"
   },
   {
    "duration": 17,
    "start_time": "2022-06-02T06:49:45.072Z"
   },
   {
    "duration": 43,
    "start_time": "2022-06-02T06:49:45.091Z"
   },
   {
    "duration": 23,
    "start_time": "2022-06-02T06:49:45.138Z"
   },
   {
    "duration": 8,
    "start_time": "2022-06-02T06:49:45.163Z"
   },
   {
    "duration": 6,
    "start_time": "2022-06-02T06:49:45.173Z"
   },
   {
    "duration": 6,
    "start_time": "2022-06-02T06:49:45.181Z"
   },
   {
    "duration": 308,
    "start_time": "2022-06-02T06:49:45.189Z"
   },
   {
    "duration": 11,
    "start_time": "2022-06-02T06:49:45.499Z"
   },
   {
    "duration": 165,
    "start_time": "2022-06-02T06:49:45.512Z"
   },
   {
    "duration": 186,
    "start_time": "2022-06-02T06:49:45.678Z"
   },
   {
    "duration": 3,
    "start_time": "2022-06-02T06:49:45.866Z"
   },
   {
    "duration": 157,
    "start_time": "2022-06-02T06:49:45.871Z"
   },
   {
    "duration": 118,
    "start_time": "2022-06-02T06:49:46.030Z"
   },
   {
    "duration": 0,
    "start_time": "2022-06-02T06:49:46.150Z"
   },
   {
    "duration": 0,
    "start_time": "2022-06-02T06:49:46.152Z"
   },
   {
    "duration": 0,
    "start_time": "2022-06-02T06:49:46.153Z"
   },
   {
    "duration": 0,
    "start_time": "2022-06-02T06:49:46.154Z"
   },
   {
    "duration": 0,
    "start_time": "2022-06-02T06:49:46.155Z"
   },
   {
    "duration": 0,
    "start_time": "2022-06-02T06:49:46.156Z"
   },
   {
    "duration": 0,
    "start_time": "2022-06-02T06:49:46.158Z"
   },
   {
    "duration": 0,
    "start_time": "2022-06-02T06:49:46.158Z"
   },
   {
    "duration": 0,
    "start_time": "2022-06-02T06:49:46.159Z"
   },
   {
    "duration": 0,
    "start_time": "2022-06-02T06:49:46.160Z"
   },
   {
    "duration": 0,
    "start_time": "2022-06-02T06:49:46.161Z"
   },
   {
    "duration": 0,
    "start_time": "2022-06-02T06:49:46.162Z"
   },
   {
    "duration": 137,
    "start_time": "2022-06-02T06:51:13.557Z"
   },
   {
    "duration": 152,
    "start_time": "2022-06-02T06:51:49.874Z"
   },
   {
    "duration": 12,
    "start_time": "2022-06-02T06:56:01.210Z"
   },
   {
    "duration": 12,
    "start_time": "2022-06-02T06:56:27.004Z"
   },
   {
    "duration": 1411,
    "start_time": "2022-06-02T06:58:18.638Z"
   },
   {
    "duration": 18,
    "start_time": "2022-06-02T06:58:20.052Z"
   },
   {
    "duration": 124,
    "start_time": "2022-06-02T06:58:20.071Z"
   },
   {
    "duration": 18,
    "start_time": "2022-06-02T06:58:20.197Z"
   },
   {
    "duration": 8,
    "start_time": "2022-06-02T06:58:20.226Z"
   },
   {
    "duration": 26,
    "start_time": "2022-06-02T06:58:20.236Z"
   },
   {
    "duration": 29,
    "start_time": "2022-06-02T06:58:20.264Z"
   },
   {
    "duration": 25,
    "start_time": "2022-06-02T06:58:20.294Z"
   },
   {
    "duration": 12,
    "start_time": "2022-06-02T06:58:20.325Z"
   },
   {
    "duration": 30,
    "start_time": "2022-06-02T06:58:20.339Z"
   },
   {
    "duration": 9,
    "start_time": "2022-06-02T06:58:20.370Z"
   },
   {
    "duration": 32,
    "start_time": "2022-06-02T06:58:20.381Z"
   },
   {
    "duration": 11,
    "start_time": "2022-06-02T06:58:20.415Z"
   },
   {
    "duration": 319,
    "start_time": "2022-06-02T06:58:20.428Z"
   },
   {
    "duration": 11,
    "start_time": "2022-06-02T06:58:20.749Z"
   },
   {
    "duration": 153,
    "start_time": "2022-06-02T06:58:20.762Z"
   },
   {
    "duration": 202,
    "start_time": "2022-06-02T06:58:20.916Z"
   },
   {
    "duration": 5,
    "start_time": "2022-06-02T06:58:21.120Z"
   },
   {
    "duration": 163,
    "start_time": "2022-06-02T06:58:21.127Z"
   },
   {
    "duration": 6,
    "start_time": "2022-06-02T06:58:21.292Z"
   },
   {
    "duration": 11,
    "start_time": "2022-06-02T06:58:21.300Z"
   },
   {
    "duration": 199,
    "start_time": "2022-06-02T06:58:21.313Z"
   },
   {
    "duration": 31,
    "start_time": "2022-06-02T06:58:21.513Z"
   },
   {
    "duration": 21,
    "start_time": "2022-06-02T06:58:21.546Z"
   },
   {
    "duration": 207,
    "start_time": "2022-06-02T06:58:21.568Z"
   },
   {
    "duration": 421,
    "start_time": "2022-06-02T06:58:21.776Z"
   },
   {
    "duration": 25,
    "start_time": "2022-06-02T06:58:22.199Z"
   },
   {
    "duration": 17,
    "start_time": "2022-06-02T06:58:22.228Z"
   },
   {
    "duration": 13,
    "start_time": "2022-06-02T06:58:22.247Z"
   },
   {
    "duration": 16,
    "start_time": "2022-06-02T06:58:22.262Z"
   },
   {
    "duration": 38,
    "start_time": "2022-06-02T06:58:22.279Z"
   },
   {
    "duration": 19,
    "start_time": "2022-06-02T06:58:22.327Z"
   },
   {
    "duration": 116,
    "start_time": "2022-06-02T06:59:32.766Z"
   },
   {
    "duration": 10,
    "start_time": "2022-06-02T06:59:41.810Z"
   },
   {
    "duration": 15,
    "start_time": "2022-06-02T07:00:01.417Z"
   },
   {
    "duration": 9,
    "start_time": "2022-06-02T07:01:15.185Z"
   },
   {
    "duration": 16,
    "start_time": "2022-06-02T07:03:33.269Z"
   },
   {
    "duration": 13,
    "start_time": "2022-06-02T07:05:29.824Z"
   },
   {
    "duration": 13,
    "start_time": "2022-06-02T07:07:26.459Z"
   },
   {
    "duration": 12,
    "start_time": "2022-06-02T07:07:57.297Z"
   },
   {
    "duration": 16,
    "start_time": "2022-06-02T07:08:03.978Z"
   },
   {
    "duration": 17,
    "start_time": "2022-06-02T07:08:08.375Z"
   },
   {
    "duration": 14,
    "start_time": "2022-06-02T07:08:17.938Z"
   },
   {
    "duration": 13,
    "start_time": "2022-06-02T07:08:21.835Z"
   },
   {
    "duration": 13,
    "start_time": "2022-06-02T07:08:26.398Z"
   },
   {
    "duration": 179,
    "start_time": "2022-06-02T07:08:49.316Z"
   },
   {
    "duration": 14,
    "start_time": "2022-06-02T07:08:58.547Z"
   },
   {
    "duration": 23,
    "start_time": "2022-06-02T07:11:34.415Z"
   },
   {
    "duration": 17,
    "start_time": "2022-06-02T07:12:49.263Z"
   },
   {
    "duration": 11,
    "start_time": "2022-06-02T07:15:57.174Z"
   },
   {
    "duration": 36,
    "start_time": "2022-06-02T07:30:22.885Z"
   },
   {
    "duration": 29,
    "start_time": "2022-06-02T07:30:38.157Z"
   },
   {
    "duration": 13,
    "start_time": "2022-06-02T07:30:47.849Z"
   },
   {
    "duration": 10,
    "start_time": "2022-06-02T07:31:37.223Z"
   },
   {
    "duration": 543,
    "start_time": "2022-06-02T07:31:53.618Z"
   },
   {
    "duration": 6,
    "start_time": "2022-06-02T07:33:47.271Z"
   },
   {
    "duration": 5,
    "start_time": "2022-06-02T07:34:07.636Z"
   },
   {
    "duration": 6,
    "start_time": "2022-06-02T07:34:23.202Z"
   },
   {
    "duration": 7,
    "start_time": "2022-06-02T07:38:13.373Z"
   },
   {
    "duration": 9,
    "start_time": "2022-06-02T07:39:02.642Z"
   },
   {
    "duration": 148,
    "start_time": "2022-06-02T08:03:06.575Z"
   },
   {
    "duration": 21,
    "start_time": "2022-06-02T08:03:13.870Z"
   },
   {
    "duration": 11,
    "start_time": "2022-06-02T08:03:51.710Z"
   },
   {
    "duration": 1353,
    "start_time": "2022-06-02T08:04:16.906Z"
   },
   {
    "duration": 16,
    "start_time": "2022-06-02T08:04:18.261Z"
   },
   {
    "duration": 114,
    "start_time": "2022-06-02T08:04:18.279Z"
   },
   {
    "duration": 34,
    "start_time": "2022-06-02T08:04:18.396Z"
   },
   {
    "duration": 13,
    "start_time": "2022-06-02T08:04:18.432Z"
   },
   {
    "duration": 15,
    "start_time": "2022-06-02T08:04:18.446Z"
   },
   {
    "duration": 29,
    "start_time": "2022-06-02T08:04:18.463Z"
   },
   {
    "duration": 32,
    "start_time": "2022-06-02T08:04:18.494Z"
   },
   {
    "duration": 13,
    "start_time": "2022-06-02T08:04:18.528Z"
   },
   {
    "duration": 24,
    "start_time": "2022-06-02T08:04:18.544Z"
   },
   {
    "duration": 9,
    "start_time": "2022-06-02T08:04:18.569Z"
   },
   {
    "duration": 7,
    "start_time": "2022-06-02T08:04:18.579Z"
   },
   {
    "duration": 41,
    "start_time": "2022-06-02T08:04:18.588Z"
   },
   {
    "duration": 284,
    "start_time": "2022-06-02T08:04:18.631Z"
   },
   {
    "duration": 13,
    "start_time": "2022-06-02T08:04:18.917Z"
   },
   {
    "duration": 174,
    "start_time": "2022-06-02T08:04:18.931Z"
   },
   {
    "duration": 225,
    "start_time": "2022-06-02T08:04:19.107Z"
   },
   {
    "duration": 3,
    "start_time": "2022-06-02T08:04:19.334Z"
   },
   {
    "duration": 179,
    "start_time": "2022-06-02T08:04:19.338Z"
   },
   {
    "duration": 19,
    "start_time": "2022-06-02T08:04:19.519Z"
   },
   {
    "duration": 8,
    "start_time": "2022-06-02T08:04:19.540Z"
   },
   {
    "duration": 202,
    "start_time": "2022-06-02T08:04:19.550Z"
   },
   {
    "duration": 22,
    "start_time": "2022-06-02T08:04:19.754Z"
   },
   {
    "duration": 18,
    "start_time": "2022-06-02T08:04:19.778Z"
   },
   {
    "duration": 208,
    "start_time": "2022-06-02T08:04:19.797Z"
   },
   {
    "duration": 687,
    "start_time": "2022-06-02T08:04:20.007Z"
   },
   {
    "duration": 11,
    "start_time": "2022-06-02T08:04:20.696Z"
   },
   {
    "duration": 35,
    "start_time": "2022-06-02T08:04:20.711Z"
   },
   {
    "duration": 13,
    "start_time": "2022-06-02T08:04:20.748Z"
   },
   {
    "duration": 16,
    "start_time": "2022-06-02T08:04:20.763Z"
   },
   {
    "duration": 19,
    "start_time": "2022-06-02T08:04:20.781Z"
   },
   {
    "duration": 32,
    "start_time": "2022-06-02T08:04:20.801Z"
   },
   {
    "duration": 17,
    "start_time": "2022-06-02T08:04:20.835Z"
   },
   {
    "duration": 152,
    "start_time": "2022-06-02T08:52:40.406Z"
   },
   {
    "duration": 1392,
    "start_time": "2022-06-02T08:52:47.069Z"
   },
   {
    "duration": 17,
    "start_time": "2022-06-02T08:52:48.463Z"
   },
   {
    "duration": 113,
    "start_time": "2022-06-02T08:52:48.482Z"
   },
   {
    "duration": 31,
    "start_time": "2022-06-02T08:52:48.597Z"
   },
   {
    "duration": 14,
    "start_time": "2022-06-02T08:52:48.630Z"
   },
   {
    "duration": 11,
    "start_time": "2022-06-02T08:52:48.647Z"
   },
   {
    "duration": 36,
    "start_time": "2022-06-02T08:52:48.660Z"
   },
   {
    "duration": 47,
    "start_time": "2022-06-02T08:52:48.698Z"
   },
   {
    "duration": 16,
    "start_time": "2022-06-02T08:52:48.747Z"
   },
   {
    "duration": 23,
    "start_time": "2022-06-02T08:52:48.766Z"
   },
   {
    "duration": 8,
    "start_time": "2022-06-02T08:52:48.791Z"
   },
   {
    "duration": 7,
    "start_time": "2022-06-02T08:52:48.827Z"
   },
   {
    "duration": 20,
    "start_time": "2022-06-02T08:52:48.836Z"
   },
   {
    "duration": 370,
    "start_time": "2022-06-02T08:52:48.858Z"
   },
   {
    "duration": 17,
    "start_time": "2022-06-02T08:52:49.231Z"
   },
   {
    "duration": 186,
    "start_time": "2022-06-02T08:52:49.250Z"
   },
   {
    "duration": 204,
    "start_time": "2022-06-02T08:52:49.438Z"
   },
   {
    "duration": 3,
    "start_time": "2022-06-02T08:52:49.645Z"
   },
   {
    "duration": 202,
    "start_time": "2022-06-02T08:52:49.650Z"
   },
   {
    "duration": 19,
    "start_time": "2022-06-02T08:52:49.854Z"
   },
   {
    "duration": 12,
    "start_time": "2022-06-02T08:52:49.875Z"
   },
   {
    "duration": 220,
    "start_time": "2022-06-02T08:52:49.889Z"
   },
   {
    "duration": 43,
    "start_time": "2022-06-02T08:52:50.112Z"
   },
   {
    "duration": 21,
    "start_time": "2022-06-02T08:52:50.157Z"
   },
   {
    "duration": 255,
    "start_time": "2022-06-02T08:52:50.180Z"
   },
   {
    "duration": 470,
    "start_time": "2022-06-02T08:52:50.437Z"
   },
   {
    "duration": 11,
    "start_time": "2022-06-02T08:52:50.909Z"
   },
   {
    "duration": 58,
    "start_time": "2022-06-02T08:52:50.925Z"
   },
   {
    "duration": 11,
    "start_time": "2022-06-02T08:52:50.985Z"
   },
   {
    "duration": 15,
    "start_time": "2022-06-02T08:52:50.998Z"
   },
   {
    "duration": 19,
    "start_time": "2022-06-02T08:52:51.015Z"
   },
   {
    "duration": 19,
    "start_time": "2022-06-02T08:52:51.036Z"
   },
   {
    "duration": 21,
    "start_time": "2022-06-02T08:52:51.057Z"
   },
   {
    "duration": 6,
    "start_time": "2022-06-02T08:53:38.867Z"
   },
   {
    "duration": 118,
    "start_time": "2022-06-02T08:53:48.757Z"
   },
   {
    "duration": 1364,
    "start_time": "2022-06-02T08:53:59.687Z"
   },
   {
    "duration": 23,
    "start_time": "2022-06-02T08:54:01.053Z"
   },
   {
    "duration": 137,
    "start_time": "2022-06-02T08:54:01.079Z"
   },
   {
    "duration": 18,
    "start_time": "2022-06-02T08:54:01.225Z"
   },
   {
    "duration": 10,
    "start_time": "2022-06-02T08:54:01.245Z"
   },
   {
    "duration": 25,
    "start_time": "2022-06-02T08:54:01.257Z"
   },
   {
    "duration": 47,
    "start_time": "2022-06-02T08:54:01.284Z"
   },
   {
    "duration": 22,
    "start_time": "2022-06-02T08:54:01.333Z"
   },
   {
    "duration": 18,
    "start_time": "2022-06-02T08:54:01.358Z"
   },
   {
    "duration": 31,
    "start_time": "2022-06-02T08:54:01.379Z"
   },
   {
    "duration": 21,
    "start_time": "2022-06-02T08:54:01.412Z"
   },
   {
    "duration": 8,
    "start_time": "2022-06-02T08:54:01.435Z"
   },
   {
    "duration": 10,
    "start_time": "2022-06-02T08:54:01.445Z"
   },
   {
    "duration": 338,
    "start_time": "2022-06-02T08:54:01.457Z"
   },
   {
    "duration": 13,
    "start_time": "2022-06-02T08:54:01.798Z"
   },
   {
    "duration": 201,
    "start_time": "2022-06-02T08:54:01.813Z"
   },
   {
    "duration": 215,
    "start_time": "2022-06-02T08:54:02.016Z"
   },
   {
    "duration": 2,
    "start_time": "2022-06-02T08:54:02.234Z"
   },
   {
    "duration": 227,
    "start_time": "2022-06-02T08:54:02.239Z"
   },
   {
    "duration": 20,
    "start_time": "2022-06-02T08:54:02.469Z"
   },
   {
    "duration": 31,
    "start_time": "2022-06-02T08:54:02.491Z"
   },
   {
    "duration": 204,
    "start_time": "2022-06-02T08:54:02.524Z"
   },
   {
    "duration": 26,
    "start_time": "2022-06-02T08:54:02.731Z"
   },
   {
    "duration": 26,
    "start_time": "2022-06-02T08:54:02.759Z"
   },
   {
    "duration": 242,
    "start_time": "2022-06-02T08:54:02.787Z"
   },
   {
    "duration": 488,
    "start_time": "2022-06-02T08:54:03.031Z"
   },
   {
    "duration": 9,
    "start_time": "2022-06-02T08:54:03.521Z"
   },
   {
    "duration": 38,
    "start_time": "2022-06-02T08:54:03.534Z"
   },
   {
    "duration": 12,
    "start_time": "2022-06-02T08:54:03.574Z"
   },
   {
    "duration": 14,
    "start_time": "2022-06-02T08:54:03.587Z"
   },
   {
    "duration": 20,
    "start_time": "2022-06-02T08:54:03.627Z"
   },
   {
    "duration": 26,
    "start_time": "2022-06-02T08:54:03.648Z"
   },
   {
    "duration": 26,
    "start_time": "2022-06-02T08:54:03.676Z"
   },
   {
    "duration": 118,
    "start_time": "2022-06-02T08:54:46.909Z"
   },
   {
    "duration": 1452,
    "start_time": "2022-06-02T08:54:53.875Z"
   },
   {
    "duration": 17,
    "start_time": "2022-06-02T08:54:55.329Z"
   },
   {
    "duration": 116,
    "start_time": "2022-06-02T08:54:55.348Z"
   },
   {
    "duration": 19,
    "start_time": "2022-06-02T08:54:55.466Z"
   },
   {
    "duration": 8,
    "start_time": "2022-06-02T08:54:55.488Z"
   },
   {
    "duration": 34,
    "start_time": "2022-06-02T08:54:55.498Z"
   },
   {
    "duration": 46,
    "start_time": "2022-06-02T08:54:55.534Z"
   },
   {
    "duration": 19,
    "start_time": "2022-06-02T08:54:55.581Z"
   },
   {
    "duration": 36,
    "start_time": "2022-06-02T08:54:55.602Z"
   },
   {
    "duration": 40,
    "start_time": "2022-06-02T08:54:55.641Z"
   },
   {
    "duration": 13,
    "start_time": "2022-06-02T08:54:55.685Z"
   },
   {
    "duration": 8,
    "start_time": "2022-06-02T08:54:55.701Z"
   },
   {
    "duration": 7,
    "start_time": "2022-06-02T08:54:55.752Z"
   },
   {
    "duration": 332,
    "start_time": "2022-06-02T08:54:55.763Z"
   },
   {
    "duration": 13,
    "start_time": "2022-06-02T08:54:56.097Z"
   },
   {
    "duration": 158,
    "start_time": "2022-06-02T08:54:56.112Z"
   },
   {
    "duration": 204,
    "start_time": "2022-06-02T08:54:56.272Z"
   },
   {
    "duration": 3,
    "start_time": "2022-06-02T08:54:56.478Z"
   },
   {
    "duration": 168,
    "start_time": "2022-06-02T08:54:56.482Z"
   },
   {
    "duration": 16,
    "start_time": "2022-06-02T08:54:56.652Z"
   },
   {
    "duration": 27,
    "start_time": "2022-06-02T08:54:56.670Z"
   },
   {
    "duration": 198,
    "start_time": "2022-06-02T08:54:56.699Z"
   },
   {
    "duration": 30,
    "start_time": "2022-06-02T08:54:56.899Z"
   },
   {
    "duration": 18,
    "start_time": "2022-06-02T08:54:56.931Z"
   },
   {
    "duration": 228,
    "start_time": "2022-06-02T08:54:56.951Z"
   },
   {
    "duration": 388,
    "start_time": "2022-06-02T08:54:57.182Z"
   },
   {
    "duration": 9,
    "start_time": "2022-06-02T08:54:57.572Z"
   },
   {
    "duration": 28,
    "start_time": "2022-06-02T08:54:57.582Z"
   },
   {
    "duration": 11,
    "start_time": "2022-06-02T08:54:57.611Z"
   },
   {
    "duration": 16,
    "start_time": "2022-06-02T08:54:57.624Z"
   },
   {
    "duration": 17,
    "start_time": "2022-06-02T08:54:57.641Z"
   },
   {
    "duration": 15,
    "start_time": "2022-06-02T08:54:57.659Z"
   },
   {
    "duration": 17,
    "start_time": "2022-06-02T08:54:57.676Z"
   },
   {
    "duration": 1374,
    "start_time": "2022-06-02T08:55:38.747Z"
   },
   {
    "duration": 16,
    "start_time": "2022-06-02T08:55:40.123Z"
   },
   {
    "duration": 115,
    "start_time": "2022-06-02T08:55:40.141Z"
   },
   {
    "duration": 23,
    "start_time": "2022-06-02T08:55:40.260Z"
   },
   {
    "duration": 10,
    "start_time": "2022-06-02T08:55:40.284Z"
   },
   {
    "duration": 41,
    "start_time": "2022-06-02T08:55:40.295Z"
   },
   {
    "duration": 45,
    "start_time": "2022-06-02T08:55:40.338Z"
   },
   {
    "duration": 18,
    "start_time": "2022-06-02T08:55:40.385Z"
   },
   {
    "duration": 18,
    "start_time": "2022-06-02T08:55:40.426Z"
   },
   {
    "duration": 30,
    "start_time": "2022-06-02T08:55:40.448Z"
   },
   {
    "duration": 7,
    "start_time": "2022-06-02T08:55:40.480Z"
   },
   {
    "duration": 7,
    "start_time": "2022-06-02T08:55:40.489Z"
   },
   {
    "duration": 6,
    "start_time": "2022-06-02T08:55:40.526Z"
   },
   {
    "duration": 285,
    "start_time": "2022-06-02T08:55:40.534Z"
   },
   {
    "duration": 12,
    "start_time": "2022-06-02T08:55:40.821Z"
   },
   {
    "duration": 171,
    "start_time": "2022-06-02T08:55:40.835Z"
   },
   {
    "duration": 198,
    "start_time": "2022-06-02T08:55:41.008Z"
   },
   {
    "duration": 3,
    "start_time": "2022-06-02T08:55:41.208Z"
   },
   {
    "duration": 200,
    "start_time": "2022-06-02T08:55:41.213Z"
   },
   {
    "duration": 26,
    "start_time": "2022-06-02T08:55:41.415Z"
   },
   {
    "duration": 13,
    "start_time": "2022-06-02T08:55:41.443Z"
   },
   {
    "duration": 218,
    "start_time": "2022-06-02T08:55:41.458Z"
   },
   {
    "duration": 22,
    "start_time": "2022-06-02T08:55:41.678Z"
   },
   {
    "duration": 29,
    "start_time": "2022-06-02T08:55:41.702Z"
   },
   {
    "duration": 210,
    "start_time": "2022-06-02T08:55:41.732Z"
   },
   {
    "duration": 412,
    "start_time": "2022-06-02T08:55:41.944Z"
   },
   {
    "duration": 11,
    "start_time": "2022-06-02T08:55:42.358Z"
   },
   {
    "duration": 33,
    "start_time": "2022-06-02T08:55:42.373Z"
   },
   {
    "duration": 20,
    "start_time": "2022-06-02T08:55:42.408Z"
   },
   {
    "duration": 22,
    "start_time": "2022-06-02T08:55:42.430Z"
   },
   {
    "duration": 37,
    "start_time": "2022-06-02T08:55:42.465Z"
   },
   {
    "duration": 26,
    "start_time": "2022-06-02T08:55:42.504Z"
   },
   {
    "duration": 32,
    "start_time": "2022-06-02T08:55:42.534Z"
   },
   {
    "duration": 130,
    "start_time": "2022-06-02T08:57:48.812Z"
   },
   {
    "duration": 1511,
    "start_time": "2022-06-02T08:57:54.085Z"
   },
   {
    "duration": 17,
    "start_time": "2022-06-02T08:57:55.599Z"
   },
   {
    "duration": 121,
    "start_time": "2022-06-02T08:57:55.621Z"
   },
   {
    "duration": 37,
    "start_time": "2022-06-02T08:57:55.745Z"
   },
   {
    "duration": 12,
    "start_time": "2022-06-02T08:57:55.784Z"
   },
   {
    "duration": 39,
    "start_time": "2022-06-02T08:57:55.798Z"
   },
   {
    "duration": 70,
    "start_time": "2022-06-02T08:57:55.840Z"
   },
   {
    "duration": 27,
    "start_time": "2022-06-02T08:57:55.912Z"
   },
   {
    "duration": 20,
    "start_time": "2022-06-02T08:57:55.944Z"
   },
   {
    "duration": 43,
    "start_time": "2022-06-02T08:57:55.967Z"
   },
   {
    "duration": 13,
    "start_time": "2022-06-02T08:57:56.027Z"
   },
   {
    "duration": 36,
    "start_time": "2022-06-02T08:57:56.042Z"
   },
   {
    "duration": 19,
    "start_time": "2022-06-02T08:57:56.081Z"
   },
   {
    "duration": 353,
    "start_time": "2022-06-02T08:57:56.102Z"
   },
   {
    "duration": 16,
    "start_time": "2022-06-02T08:57:56.458Z"
   },
   {
    "duration": 196,
    "start_time": "2022-06-02T08:57:56.475Z"
   },
   {
    "duration": 237,
    "start_time": "2022-06-02T08:57:56.673Z"
   },
   {
    "duration": 3,
    "start_time": "2022-06-02T08:57:56.912Z"
   },
   {
    "duration": 191,
    "start_time": "2022-06-02T08:57:56.916Z"
   },
   {
    "duration": 26,
    "start_time": "2022-06-02T08:57:57.108Z"
   },
   {
    "duration": 41,
    "start_time": "2022-06-02T08:57:57.136Z"
   },
   {
    "duration": 200,
    "start_time": "2022-06-02T08:57:57.179Z"
   },
   {
    "duration": 26,
    "start_time": "2022-06-02T08:57:57.380Z"
   },
   {
    "duration": 33,
    "start_time": "2022-06-02T08:57:57.408Z"
   },
   {
    "duration": 222,
    "start_time": "2022-06-02T08:57:57.444Z"
   },
   {
    "duration": 511,
    "start_time": "2022-06-02T08:57:57.669Z"
   },
   {
    "duration": 9,
    "start_time": "2022-06-02T08:57:58.183Z"
   },
   {
    "duration": 37,
    "start_time": "2022-06-02T08:57:58.194Z"
   },
   {
    "duration": 15,
    "start_time": "2022-06-02T08:57:58.233Z"
   },
   {
    "duration": 23,
    "start_time": "2022-06-02T08:57:58.250Z"
   },
   {
    "duration": 17,
    "start_time": "2022-06-02T08:57:58.275Z"
   },
   {
    "duration": 17,
    "start_time": "2022-06-02T08:57:58.326Z"
   },
   {
    "duration": 27,
    "start_time": "2022-06-02T08:57:58.345Z"
   },
   {
    "duration": 1601,
    "start_time": "2022-06-02T11:10:54.646Z"
   },
   {
    "duration": 25,
    "start_time": "2022-06-02T11:10:56.250Z"
   },
   {
    "duration": 126,
    "start_time": "2022-06-02T11:10:56.279Z"
   },
   {
    "duration": 40,
    "start_time": "2022-06-02T11:10:56.408Z"
   },
   {
    "duration": 16,
    "start_time": "2022-06-02T11:10:56.451Z"
   },
   {
    "duration": 12,
    "start_time": "2022-06-02T11:10:56.469Z"
   },
   {
    "duration": 68,
    "start_time": "2022-06-02T11:10:56.482Z"
   },
   {
    "duration": 29,
    "start_time": "2022-06-02T11:10:56.552Z"
   },
   {
    "duration": 42,
    "start_time": "2022-06-02T11:10:56.585Z"
   },
   {
    "duration": 34,
    "start_time": "2022-06-02T11:10:56.631Z"
   },
   {
    "duration": 9,
    "start_time": "2022-06-02T11:10:56.667Z"
   },
   {
    "duration": 17,
    "start_time": "2022-06-02T11:10:56.678Z"
   },
   {
    "duration": 37,
    "start_time": "2022-06-02T11:10:56.697Z"
   },
   {
    "duration": 321,
    "start_time": "2022-06-02T11:10:56.742Z"
   },
   {
    "duration": 16,
    "start_time": "2022-06-02T11:10:57.066Z"
   },
   {
    "duration": 187,
    "start_time": "2022-06-02T11:10:57.084Z"
   },
   {
    "duration": 305,
    "start_time": "2022-06-02T11:10:57.273Z"
   },
   {
    "duration": 200,
    "start_time": "2022-06-02T11:10:57.581Z"
   },
   {
    "duration": 20,
    "start_time": "2022-06-02T11:10:57.783Z"
   },
   {
    "duration": 28,
    "start_time": "2022-06-02T11:10:57.805Z"
   },
   {
    "duration": 222,
    "start_time": "2022-06-02T11:10:57.837Z"
   },
   {
    "duration": 22,
    "start_time": "2022-06-02T11:10:58.061Z"
   },
   {
    "duration": 50,
    "start_time": "2022-06-02T11:10:58.085Z"
   },
   {
    "duration": 232,
    "start_time": "2022-06-02T11:10:58.136Z"
   },
   {
    "duration": 689,
    "start_time": "2022-06-02T11:10:58.370Z"
   },
   {
    "duration": 10,
    "start_time": "2022-06-02T11:10:59.061Z"
   },
   {
    "duration": 35,
    "start_time": "2022-06-02T11:10:59.076Z"
   },
   {
    "duration": 27,
    "start_time": "2022-06-02T11:10:59.114Z"
   },
   {
    "duration": 44,
    "start_time": "2022-06-02T11:10:59.144Z"
   },
   {
    "duration": 36,
    "start_time": "2022-06-02T11:10:59.190Z"
   },
   {
    "duration": 32,
    "start_time": "2022-06-02T11:10:59.235Z"
   },
   {
    "duration": 31,
    "start_time": "2022-06-02T11:10:59.269Z"
   },
   {
    "duration": 40,
    "start_time": "2022-06-02T13:13:10.691Z"
   },
   {
    "duration": 26,
    "start_time": "2022-06-02T13:13:19.995Z"
   },
   {
    "duration": 63,
    "start_time": "2022-06-02T13:13:26.841Z"
   },
   {
    "duration": 1882,
    "start_time": "2022-06-02T13:13:31.101Z"
   },
   {
    "duration": 15,
    "start_time": "2022-06-02T13:13:32.985Z"
   },
   {
    "duration": 87,
    "start_time": "2022-06-02T13:13:33.002Z"
   },
   {
    "duration": 16,
    "start_time": "2022-06-02T13:13:33.092Z"
   },
   {
    "duration": 7,
    "start_time": "2022-06-02T13:13:33.109Z"
   },
   {
    "duration": 10,
    "start_time": "2022-06-02T13:13:33.117Z"
   },
   {
    "duration": 43,
    "start_time": "2022-06-02T13:13:33.128Z"
   },
   {
    "duration": 14,
    "start_time": "2022-06-02T13:13:33.172Z"
   },
   {
    "duration": 10,
    "start_time": "2022-06-02T13:13:33.187Z"
   },
   {
    "duration": 19,
    "start_time": "2022-06-02T13:13:33.199Z"
   },
   {
    "duration": 7,
    "start_time": "2022-06-02T13:13:33.219Z"
   },
   {
    "duration": 31,
    "start_time": "2022-06-02T13:13:33.227Z"
   },
   {
    "duration": 6,
    "start_time": "2022-06-02T13:13:33.260Z"
   },
   {
    "duration": 263,
    "start_time": "2022-06-02T13:13:33.268Z"
   },
   {
    "duration": 12,
    "start_time": "2022-06-02T13:13:33.532Z"
   },
   {
    "duration": 155,
    "start_time": "2022-06-02T13:13:33.545Z"
   },
   {
    "duration": 173,
    "start_time": "2022-06-02T13:13:33.701Z"
   },
   {
    "duration": 152,
    "start_time": "2022-06-02T13:13:33.875Z"
   },
   {
    "duration": 12,
    "start_time": "2022-06-02T13:13:34.029Z"
   },
   {
    "duration": 81,
    "start_time": "2022-06-02T13:13:34.043Z"
   },
   {
    "duration": 0,
    "start_time": "2022-06-02T13:13:34.125Z"
   },
   {
    "duration": 0,
    "start_time": "2022-06-02T13:13:34.126Z"
   },
   {
    "duration": 0,
    "start_time": "2022-06-02T13:13:34.127Z"
   },
   {
    "duration": 0,
    "start_time": "2022-06-02T13:13:34.128Z"
   },
   {
    "duration": 0,
    "start_time": "2022-06-02T13:13:34.129Z"
   },
   {
    "duration": 0,
    "start_time": "2022-06-02T13:13:34.130Z"
   },
   {
    "duration": 0,
    "start_time": "2022-06-02T13:13:34.131Z"
   },
   {
    "duration": 0,
    "start_time": "2022-06-02T13:13:34.132Z"
   },
   {
    "duration": 0,
    "start_time": "2022-06-02T13:13:34.133Z"
   },
   {
    "duration": 0,
    "start_time": "2022-06-02T13:13:34.134Z"
   },
   {
    "duration": 0,
    "start_time": "2022-06-02T13:13:34.155Z"
   },
   {
    "duration": 0,
    "start_time": "2022-06-02T13:13:34.155Z"
   },
   {
    "duration": 0,
    "start_time": "2022-06-02T13:13:34.156Z"
   },
   {
    "duration": 11,
    "start_time": "2022-06-02T13:15:27.861Z"
   },
   {
    "duration": 63,
    "start_time": "2022-06-02T13:15:54.583Z"
   },
   {
    "duration": 11,
    "start_time": "2022-06-02T13:15:54.648Z"
   },
   {
    "duration": 11,
    "start_time": "2022-06-02T13:15:54.661Z"
   },
   {
    "duration": 18,
    "start_time": "2022-06-02T13:15:54.674Z"
   },
   {
    "duration": 7,
    "start_time": "2022-06-02T13:15:54.694Z"
   },
   {
    "duration": 10,
    "start_time": "2022-06-02T13:15:54.702Z"
   },
   {
    "duration": 47,
    "start_time": "2022-06-02T13:15:54.713Z"
   },
   {
    "duration": 15,
    "start_time": "2022-06-02T13:15:54.761Z"
   },
   {
    "duration": 10,
    "start_time": "2022-06-02T13:15:54.777Z"
   },
   {
    "duration": 18,
    "start_time": "2022-06-02T13:15:54.789Z"
   },
   {
    "duration": 7,
    "start_time": "2022-06-02T13:15:54.808Z"
   },
   {
    "duration": 6,
    "start_time": "2022-06-02T13:15:54.816Z"
   },
   {
    "duration": 32,
    "start_time": "2022-06-02T13:15:54.823Z"
   },
   {
    "duration": 227,
    "start_time": "2022-06-02T13:15:54.857Z"
   },
   {
    "duration": 11,
    "start_time": "2022-06-02T13:15:55.086Z"
   },
   {
    "duration": 149,
    "start_time": "2022-06-02T13:15:55.098Z"
   },
   {
    "duration": 161,
    "start_time": "2022-06-02T13:15:55.254Z"
   },
   {
    "duration": 144,
    "start_time": "2022-06-02T13:15:55.416Z"
   },
   {
    "duration": 12,
    "start_time": "2022-06-02T13:15:55.561Z"
   },
   {
    "duration": 15,
    "start_time": "2022-06-02T13:15:55.575Z"
   },
   {
    "duration": 7,
    "start_time": "2022-06-02T13:15:55.591Z"
   },
   {
    "duration": 181,
    "start_time": "2022-06-02T13:15:55.599Z"
   },
   {
    "duration": 21,
    "start_time": "2022-06-02T13:15:55.781Z"
   },
   {
    "duration": 16,
    "start_time": "2022-06-02T13:15:55.803Z"
   },
   {
    "duration": 181,
    "start_time": "2022-06-02T13:15:55.820Z"
   },
   {
    "duration": 434,
    "start_time": "2022-06-02T13:15:56.002Z"
   },
   {
    "duration": 8,
    "start_time": "2022-06-02T13:15:56.438Z"
   },
   {
    "duration": 24,
    "start_time": "2022-06-02T13:15:56.449Z"
   },
   {
    "duration": 10,
    "start_time": "2022-06-02T13:15:56.474Z"
   },
   {
    "duration": 15,
    "start_time": "2022-06-02T13:15:56.485Z"
   },
   {
    "duration": 13,
    "start_time": "2022-06-02T13:15:56.501Z"
   },
   {
    "duration": 9,
    "start_time": "2022-06-02T13:15:56.516Z"
   },
   {
    "duration": 33,
    "start_time": "2022-06-02T13:15:56.526Z"
   },
   {
    "duration": 11,
    "start_time": "2022-06-02T13:17:17.183Z"
   },
   {
    "duration": 22,
    "start_time": "2022-06-02T13:20:13.181Z"
   },
   {
    "duration": 10,
    "start_time": "2022-06-02T13:20:55.840Z"
   },
   {
    "duration": 1802,
    "start_time": "2022-06-05T11:18:27.481Z"
   },
   {
    "duration": 18,
    "start_time": "2022-06-05T11:18:29.285Z"
   },
   {
    "duration": 87,
    "start_time": "2022-06-05T11:18:29.305Z"
   },
   {
    "duration": 17,
    "start_time": "2022-06-05T11:18:29.395Z"
   },
   {
    "duration": 22,
    "start_time": "2022-06-05T11:18:29.415Z"
   },
   {
    "duration": 14,
    "start_time": "2022-06-05T11:18:29.442Z"
   },
   {
    "duration": 29,
    "start_time": "2022-06-05T11:18:29.457Z"
   },
   {
    "duration": 17,
    "start_time": "2022-06-05T11:18:29.487Z"
   },
   {
    "duration": 28,
    "start_time": "2022-06-05T11:18:29.505Z"
   },
   {
    "duration": 34,
    "start_time": "2022-06-05T11:18:29.540Z"
   },
   {
    "duration": 13,
    "start_time": "2022-06-05T11:18:29.576Z"
   },
   {
    "duration": 9,
    "start_time": "2022-06-05T11:18:29.591Z"
   },
   {
    "duration": 26,
    "start_time": "2022-06-05T11:18:29.602Z"
   },
   {
    "duration": 284,
    "start_time": "2022-06-05T11:18:29.629Z"
   },
   {
    "duration": 12,
    "start_time": "2022-06-05T11:18:29.915Z"
   },
   {
    "duration": 189,
    "start_time": "2022-06-05T11:18:29.929Z"
   },
   {
    "duration": 196,
    "start_time": "2022-06-05T11:18:30.120Z"
   },
   {
    "duration": 163,
    "start_time": "2022-06-05T11:18:30.318Z"
   },
   {
    "duration": 13,
    "start_time": "2022-06-05T11:18:30.482Z"
   },
   {
    "duration": 19,
    "start_time": "2022-06-05T11:18:30.497Z"
   },
   {
    "duration": 14,
    "start_time": "2022-06-05T11:18:30.528Z"
   },
   {
    "duration": 190,
    "start_time": "2022-06-05T11:18:30.544Z"
   },
   {
    "duration": 23,
    "start_time": "2022-06-05T11:18:30.736Z"
   },
   {
    "duration": 15,
    "start_time": "2022-06-05T11:18:30.760Z"
   },
   {
    "duration": 205,
    "start_time": "2022-06-05T11:18:30.777Z"
   },
   {
    "duration": 430,
    "start_time": "2022-06-05T11:18:30.984Z"
   },
   {
    "duration": 9,
    "start_time": "2022-06-05T11:18:31.416Z"
   },
   {
    "duration": 63,
    "start_time": "2022-06-05T11:18:31.428Z"
   },
   {
    "duration": 28,
    "start_time": "2022-06-05T11:18:31.494Z"
   },
   {
    "duration": 37,
    "start_time": "2022-06-05T11:18:31.525Z"
   },
   {
    "duration": 21,
    "start_time": "2022-06-05T11:18:31.564Z"
   },
   {
    "duration": 13,
    "start_time": "2022-06-05T11:18:31.587Z"
   },
   {
    "duration": 11,
    "start_time": "2022-06-05T11:18:31.601Z"
   },
   {
    "duration": 19,
    "start_time": "2022-06-05T11:18:31.613Z"
   },
   {
    "duration": 39,
    "start_time": "2022-06-05T11:18:31.633Z"
   },
   {
    "duration": 1257,
    "start_time": "2022-06-05T11:26:28.242Z"
   },
   {
    "duration": 15,
    "start_time": "2022-06-05T11:26:29.500Z"
   },
   {
    "duration": 82,
    "start_time": "2022-06-05T11:26:29.517Z"
   },
   {
    "duration": 27,
    "start_time": "2022-06-05T11:26:29.600Z"
   },
   {
    "duration": 11,
    "start_time": "2022-06-05T11:26:29.637Z"
   },
   {
    "duration": 15,
    "start_time": "2022-06-05T11:26:29.650Z"
   },
   {
    "duration": 29,
    "start_time": "2022-06-05T11:26:29.666Z"
   },
   {
    "duration": 14,
    "start_time": "2022-06-05T11:26:29.697Z"
   },
   {
    "duration": 29,
    "start_time": "2022-06-05T11:26:29.713Z"
   },
   {
    "duration": 18,
    "start_time": "2022-06-05T11:26:29.744Z"
   },
   {
    "duration": 8,
    "start_time": "2022-06-05T11:26:29.763Z"
   },
   {
    "duration": 6,
    "start_time": "2022-06-05T11:26:29.772Z"
   },
   {
    "duration": 6,
    "start_time": "2022-06-05T11:26:29.780Z"
   },
   {
    "duration": 289,
    "start_time": "2022-06-05T11:26:29.788Z"
   },
   {
    "duration": 11,
    "start_time": "2022-06-05T11:26:30.079Z"
   },
   {
    "duration": 156,
    "start_time": "2022-06-05T11:26:30.091Z"
   },
   {
    "duration": 120,
    "start_time": "2022-06-05T11:26:30.248Z"
   },
   {
    "duration": 0,
    "start_time": "2022-06-05T11:26:30.370Z"
   },
   {
    "duration": 0,
    "start_time": "2022-06-05T11:26:30.371Z"
   },
   {
    "duration": 0,
    "start_time": "2022-06-05T11:26:30.372Z"
   },
   {
    "duration": 0,
    "start_time": "2022-06-05T11:26:30.373Z"
   },
   {
    "duration": 0,
    "start_time": "2022-06-05T11:26:30.374Z"
   },
   {
    "duration": 0,
    "start_time": "2022-06-05T11:26:30.375Z"
   },
   {
    "duration": 0,
    "start_time": "2022-06-05T11:26:30.376Z"
   },
   {
    "duration": 0,
    "start_time": "2022-06-05T11:26:30.377Z"
   },
   {
    "duration": 0,
    "start_time": "2022-06-05T11:26:30.378Z"
   },
   {
    "duration": 0,
    "start_time": "2022-06-05T11:26:30.379Z"
   },
   {
    "duration": 0,
    "start_time": "2022-06-05T11:26:30.380Z"
   },
   {
    "duration": 0,
    "start_time": "2022-06-05T11:26:30.381Z"
   },
   {
    "duration": 0,
    "start_time": "2022-06-05T11:26:30.382Z"
   },
   {
    "duration": 0,
    "start_time": "2022-06-05T11:26:30.383Z"
   },
   {
    "duration": 0,
    "start_time": "2022-06-05T11:26:30.384Z"
   },
   {
    "duration": 1,
    "start_time": "2022-06-05T11:26:30.384Z"
   },
   {
    "duration": 0,
    "start_time": "2022-06-05T11:26:30.386Z"
   },
   {
    "duration": 0,
    "start_time": "2022-06-05T11:26:30.386Z"
   },
   {
    "duration": 11,
    "start_time": "2022-06-05T11:26:43.324Z"
   },
   {
    "duration": 17,
    "start_time": "2022-06-05T11:31:43.498Z"
   },
   {
    "duration": 16,
    "start_time": "2022-06-05T11:31:57.103Z"
   },
   {
    "duration": 14,
    "start_time": "2022-06-05T11:34:47.157Z"
   },
   {
    "duration": 1242,
    "start_time": "2022-06-05T11:35:06.695Z"
   },
   {
    "duration": 16,
    "start_time": "2022-06-05T11:35:07.939Z"
   },
   {
    "duration": 94,
    "start_time": "2022-06-05T11:35:07.956Z"
   },
   {
    "duration": 23,
    "start_time": "2022-06-05T11:35:08.052Z"
   },
   {
    "duration": 8,
    "start_time": "2022-06-05T11:35:08.077Z"
   },
   {
    "duration": 10,
    "start_time": "2022-06-05T11:35:08.087Z"
   },
   {
    "duration": 43,
    "start_time": "2022-06-05T11:35:08.098Z"
   },
   {
    "duration": 15,
    "start_time": "2022-06-05T11:35:08.143Z"
   },
   {
    "duration": 11,
    "start_time": "2022-06-05T11:35:08.159Z"
   },
   {
    "duration": 18,
    "start_time": "2022-06-05T11:35:08.173Z"
   },
   {
    "duration": 8,
    "start_time": "2022-06-05T11:35:08.192Z"
   },
   {
    "duration": 36,
    "start_time": "2022-06-05T11:35:08.201Z"
   },
   {
    "duration": 6,
    "start_time": "2022-06-05T11:35:08.239Z"
   },
   {
    "duration": 266,
    "start_time": "2022-06-05T11:35:08.247Z"
   },
   {
    "duration": 11,
    "start_time": "2022-06-05T11:35:08.515Z"
   },
   {
    "duration": 165,
    "start_time": "2022-06-05T11:35:08.530Z"
   },
   {
    "duration": 19,
    "start_time": "2022-06-05T11:35:08.696Z"
   },
   {
    "duration": 130,
    "start_time": "2022-06-05T11:35:08.716Z"
   },
   {
    "duration": 0,
    "start_time": "2022-06-05T11:35:08.848Z"
   },
   {
    "duration": 0,
    "start_time": "2022-06-05T11:35:08.849Z"
   },
   {
    "duration": 0,
    "start_time": "2022-06-05T11:35:08.850Z"
   },
   {
    "duration": 0,
    "start_time": "2022-06-05T11:35:08.851Z"
   },
   {
    "duration": 0,
    "start_time": "2022-06-05T11:35:08.852Z"
   },
   {
    "duration": 0,
    "start_time": "2022-06-05T11:35:08.853Z"
   },
   {
    "duration": 0,
    "start_time": "2022-06-05T11:35:08.854Z"
   },
   {
    "duration": 0,
    "start_time": "2022-06-05T11:35:08.855Z"
   },
   {
    "duration": 0,
    "start_time": "2022-06-05T11:35:08.856Z"
   },
   {
    "duration": 0,
    "start_time": "2022-06-05T11:35:08.857Z"
   },
   {
    "duration": 0,
    "start_time": "2022-06-05T11:35:08.858Z"
   },
   {
    "duration": 0,
    "start_time": "2022-06-05T11:35:08.859Z"
   },
   {
    "duration": 1,
    "start_time": "2022-06-05T11:35:08.859Z"
   },
   {
    "duration": 0,
    "start_time": "2022-06-05T11:35:08.860Z"
   },
   {
    "duration": 0,
    "start_time": "2022-06-05T11:35:08.862Z"
   },
   {
    "duration": 0,
    "start_time": "2022-06-05T11:35:08.862Z"
   },
   {
    "duration": 0,
    "start_time": "2022-06-05T11:35:08.864Z"
   },
   {
    "duration": 15,
    "start_time": "2022-06-05T11:37:08.156Z"
   },
   {
    "duration": 12,
    "start_time": "2022-06-05T11:37:11.838Z"
   },
   {
    "duration": 1253,
    "start_time": "2022-06-05T11:37:23.594Z"
   },
   {
    "duration": 16,
    "start_time": "2022-06-05T11:37:24.849Z"
   },
   {
    "duration": 90,
    "start_time": "2022-06-05T11:37:24.867Z"
   },
   {
    "duration": 24,
    "start_time": "2022-06-05T11:37:24.959Z"
   },
   {
    "duration": 15,
    "start_time": "2022-06-05T11:37:24.985Z"
   },
   {
    "duration": 36,
    "start_time": "2022-06-05T11:37:25.002Z"
   },
   {
    "duration": 38,
    "start_time": "2022-06-05T11:37:25.040Z"
   },
   {
    "duration": 20,
    "start_time": "2022-06-05T11:37:25.080Z"
   },
   {
    "duration": 47,
    "start_time": "2022-06-05T11:37:25.102Z"
   },
   {
    "duration": 27,
    "start_time": "2022-06-05T11:37:25.151Z"
   },
   {
    "duration": 8,
    "start_time": "2022-06-05T11:37:25.180Z"
   },
   {
    "duration": 20,
    "start_time": "2022-06-05T11:37:25.189Z"
   },
   {
    "duration": 8,
    "start_time": "2022-06-05T11:37:25.210Z"
   },
   {
    "duration": 266,
    "start_time": "2022-06-05T11:37:25.219Z"
   },
   {
    "duration": 11,
    "start_time": "2022-06-05T11:37:25.486Z"
   },
   {
    "duration": 158,
    "start_time": "2022-06-05T11:37:25.498Z"
   },
   {
    "duration": 137,
    "start_time": "2022-06-05T11:37:25.658Z"
   },
   {
    "duration": 0,
    "start_time": "2022-06-05T11:37:25.797Z"
   },
   {
    "duration": 0,
    "start_time": "2022-06-05T11:37:25.798Z"
   },
   {
    "duration": 0,
    "start_time": "2022-06-05T11:37:25.799Z"
   },
   {
    "duration": 0,
    "start_time": "2022-06-05T11:37:25.800Z"
   },
   {
    "duration": 0,
    "start_time": "2022-06-05T11:37:25.801Z"
   },
   {
    "duration": 0,
    "start_time": "2022-06-05T11:37:25.802Z"
   },
   {
    "duration": 0,
    "start_time": "2022-06-05T11:37:25.803Z"
   },
   {
    "duration": 0,
    "start_time": "2022-06-05T11:37:25.804Z"
   },
   {
    "duration": 0,
    "start_time": "2022-06-05T11:37:25.805Z"
   },
   {
    "duration": 0,
    "start_time": "2022-06-05T11:37:25.806Z"
   },
   {
    "duration": 0,
    "start_time": "2022-06-05T11:37:25.806Z"
   },
   {
    "duration": 1,
    "start_time": "2022-06-05T11:37:25.807Z"
   },
   {
    "duration": 0,
    "start_time": "2022-06-05T11:37:25.808Z"
   },
   {
    "duration": 0,
    "start_time": "2022-06-05T11:37:25.826Z"
   },
   {
    "duration": 0,
    "start_time": "2022-06-05T11:37:25.827Z"
   },
   {
    "duration": 0,
    "start_time": "2022-06-05T11:37:25.832Z"
   },
   {
    "duration": 0,
    "start_time": "2022-06-05T11:37:25.832Z"
   },
   {
    "duration": 0,
    "start_time": "2022-06-05T11:37:25.833Z"
   },
   {
    "duration": 10,
    "start_time": "2022-06-05T11:38:03.541Z"
   },
   {
    "duration": 1243,
    "start_time": "2022-06-05T11:38:12.747Z"
   },
   {
    "duration": 15,
    "start_time": "2022-06-05T11:38:13.992Z"
   },
   {
    "duration": 76,
    "start_time": "2022-06-05T11:38:14.009Z"
   },
   {
    "duration": 20,
    "start_time": "2022-06-05T11:38:14.086Z"
   },
   {
    "duration": 7,
    "start_time": "2022-06-05T11:38:14.107Z"
   },
   {
    "duration": 27,
    "start_time": "2022-06-05T11:38:14.115Z"
   },
   {
    "duration": 27,
    "start_time": "2022-06-05T11:38:14.144Z"
   },
   {
    "duration": 15,
    "start_time": "2022-06-05T11:38:14.173Z"
   },
   {
    "duration": 11,
    "start_time": "2022-06-05T11:38:14.190Z"
   },
   {
    "duration": 20,
    "start_time": "2022-06-05T11:38:14.232Z"
   },
   {
    "duration": 7,
    "start_time": "2022-06-05T11:38:14.254Z"
   },
   {
    "duration": 5,
    "start_time": "2022-06-05T11:38:14.263Z"
   },
   {
    "duration": 13,
    "start_time": "2022-06-05T11:38:14.270Z"
   },
   {
    "duration": 293,
    "start_time": "2022-06-05T11:38:14.284Z"
   },
   {
    "duration": 11,
    "start_time": "2022-06-05T11:38:14.579Z"
   },
   {
    "duration": 162,
    "start_time": "2022-06-05T11:38:14.591Z"
   },
   {
    "duration": 11,
    "start_time": "2022-06-05T11:38:14.754Z"
   },
   {
    "duration": 123,
    "start_time": "2022-06-05T11:38:14.766Z"
   },
   {
    "duration": 0,
    "start_time": "2022-06-05T11:38:14.891Z"
   },
   {
    "duration": 0,
    "start_time": "2022-06-05T11:38:14.892Z"
   },
   {
    "duration": 0,
    "start_time": "2022-06-05T11:38:14.893Z"
   },
   {
    "duration": 0,
    "start_time": "2022-06-05T11:38:14.895Z"
   },
   {
    "duration": 0,
    "start_time": "2022-06-05T11:38:14.895Z"
   },
   {
    "duration": 0,
    "start_time": "2022-06-05T11:38:14.897Z"
   },
   {
    "duration": 0,
    "start_time": "2022-06-05T11:38:14.897Z"
   },
   {
    "duration": 0,
    "start_time": "2022-06-05T11:38:14.898Z"
   },
   {
    "duration": 0,
    "start_time": "2022-06-05T11:38:14.899Z"
   },
   {
    "duration": 1,
    "start_time": "2022-06-05T11:38:14.900Z"
   },
   {
    "duration": 0,
    "start_time": "2022-06-05T11:38:14.902Z"
   },
   {
    "duration": 0,
    "start_time": "2022-06-05T11:38:14.903Z"
   },
   {
    "duration": 0,
    "start_time": "2022-06-05T11:38:14.904Z"
   },
   {
    "duration": 0,
    "start_time": "2022-06-05T11:38:14.926Z"
   },
   {
    "duration": 0,
    "start_time": "2022-06-05T11:38:14.927Z"
   },
   {
    "duration": 0,
    "start_time": "2022-06-05T11:38:14.927Z"
   },
   {
    "duration": 0,
    "start_time": "2022-06-05T11:38:14.929Z"
   },
   {
    "duration": 3,
    "start_time": "2022-06-05T11:39:00.642Z"
   },
   {
    "duration": 1275,
    "start_time": "2022-06-05T11:40:07.938Z"
   },
   {
    "duration": 25,
    "start_time": "2022-06-05T11:40:09.217Z"
   },
   {
    "duration": 77,
    "start_time": "2022-06-05T11:40:09.244Z"
   },
   {
    "duration": 23,
    "start_time": "2022-06-05T11:40:09.322Z"
   },
   {
    "duration": 7,
    "start_time": "2022-06-05T11:40:09.347Z"
   },
   {
    "duration": 13,
    "start_time": "2022-06-05T11:40:09.356Z"
   },
   {
    "duration": 25,
    "start_time": "2022-06-05T11:40:09.370Z"
   },
   {
    "duration": 48,
    "start_time": "2022-06-05T11:40:09.396Z"
   },
   {
    "duration": 11,
    "start_time": "2022-06-05T11:40:09.446Z"
   },
   {
    "duration": 21,
    "start_time": "2022-06-05T11:40:09.458Z"
   },
   {
    "duration": 11,
    "start_time": "2022-06-05T11:40:09.481Z"
   },
   {
    "duration": 40,
    "start_time": "2022-06-05T11:40:09.495Z"
   },
   {
    "duration": 6,
    "start_time": "2022-06-05T11:40:09.539Z"
   },
   {
    "duration": 291,
    "start_time": "2022-06-05T11:40:09.548Z"
   },
   {
    "duration": 13,
    "start_time": "2022-06-05T11:40:09.841Z"
   },
   {
    "duration": 171,
    "start_time": "2022-06-05T11:40:09.855Z"
   },
   {
    "duration": 26,
    "start_time": "2022-06-05T11:40:10.031Z"
   },
   {
    "duration": 5,
    "start_time": "2022-06-05T11:40:10.059Z"
   },
   {
    "duration": 136,
    "start_time": "2022-06-05T11:40:10.065Z"
   },
   {
    "duration": 0,
    "start_time": "2022-06-05T11:40:10.202Z"
   },
   {
    "duration": 0,
    "start_time": "2022-06-05T11:40:10.203Z"
   },
   {
    "duration": 0,
    "start_time": "2022-06-05T11:40:10.204Z"
   },
   {
    "duration": 0,
    "start_time": "2022-06-05T11:40:10.205Z"
   },
   {
    "duration": 0,
    "start_time": "2022-06-05T11:40:10.206Z"
   },
   {
    "duration": 0,
    "start_time": "2022-06-05T11:40:10.207Z"
   },
   {
    "duration": 0,
    "start_time": "2022-06-05T11:40:10.208Z"
   },
   {
    "duration": 0,
    "start_time": "2022-06-05T11:40:10.208Z"
   },
   {
    "duration": 0,
    "start_time": "2022-06-05T11:40:10.209Z"
   },
   {
    "duration": 0,
    "start_time": "2022-06-05T11:40:10.228Z"
   },
   {
    "duration": 0,
    "start_time": "2022-06-05T11:40:10.229Z"
   },
   {
    "duration": 0,
    "start_time": "2022-06-05T11:40:10.230Z"
   },
   {
    "duration": 0,
    "start_time": "2022-06-05T11:40:10.231Z"
   },
   {
    "duration": 0,
    "start_time": "2022-06-05T11:40:10.232Z"
   },
   {
    "duration": 0,
    "start_time": "2022-06-05T11:40:10.233Z"
   },
   {
    "duration": 0,
    "start_time": "2022-06-05T11:40:10.233Z"
   },
   {
    "duration": 0,
    "start_time": "2022-06-05T11:40:10.234Z"
   },
   {
    "duration": 441,
    "start_time": "2022-06-05T11:42:26.118Z"
   },
   {
    "duration": 8,
    "start_time": "2022-06-05T11:42:41.144Z"
   },
   {
    "duration": 336,
    "start_time": "2022-06-05T11:43:20.841Z"
   },
   {
    "duration": 1299,
    "start_time": "2022-06-05T11:43:41.246Z"
   },
   {
    "duration": 15,
    "start_time": "2022-06-05T11:43:42.549Z"
   },
   {
    "duration": 87,
    "start_time": "2022-06-05T11:43:42.566Z"
   },
   {
    "duration": 19,
    "start_time": "2022-06-05T11:43:42.656Z"
   },
   {
    "duration": 8,
    "start_time": "2022-06-05T11:43:42.676Z"
   },
   {
    "duration": 12,
    "start_time": "2022-06-05T11:43:42.685Z"
   },
   {
    "duration": 44,
    "start_time": "2022-06-05T11:43:42.698Z"
   },
   {
    "duration": 21,
    "start_time": "2022-06-05T11:43:42.744Z"
   },
   {
    "duration": 11,
    "start_time": "2022-06-05T11:43:42.766Z"
   },
   {
    "duration": 19,
    "start_time": "2022-06-05T11:43:42.779Z"
   },
   {
    "duration": 41,
    "start_time": "2022-06-05T11:43:42.799Z"
   },
   {
    "duration": 7,
    "start_time": "2022-06-05T11:43:42.842Z"
   },
   {
    "duration": 7,
    "start_time": "2022-06-05T11:43:42.850Z"
   },
   {
    "duration": 280,
    "start_time": "2022-06-05T11:43:42.858Z"
   },
   {
    "duration": 12,
    "start_time": "2022-06-05T11:43:43.139Z"
   },
   {
    "duration": 158,
    "start_time": "2022-06-05T11:43:43.153Z"
   },
   {
    "duration": 32,
    "start_time": "2022-06-05T11:43:43.313Z"
   },
   {
    "duration": 10,
    "start_time": "2022-06-05T11:43:43.346Z"
   },
   {
    "duration": 130,
    "start_time": "2022-06-05T11:43:43.357Z"
   },
   {
    "duration": 0,
    "start_time": "2022-06-05T11:43:43.489Z"
   },
   {
    "duration": 0,
    "start_time": "2022-06-05T11:43:43.490Z"
   },
   {
    "duration": 0,
    "start_time": "2022-06-05T11:43:43.492Z"
   },
   {
    "duration": 0,
    "start_time": "2022-06-05T11:43:43.493Z"
   },
   {
    "duration": 0,
    "start_time": "2022-06-05T11:43:43.494Z"
   },
   {
    "duration": 0,
    "start_time": "2022-06-05T11:43:43.496Z"
   },
   {
    "duration": 0,
    "start_time": "2022-06-05T11:43:43.497Z"
   },
   {
    "duration": 0,
    "start_time": "2022-06-05T11:43:43.499Z"
   },
   {
    "duration": 0,
    "start_time": "2022-06-05T11:43:43.532Z"
   },
   {
    "duration": 0,
    "start_time": "2022-06-05T11:43:43.533Z"
   },
   {
    "duration": 0,
    "start_time": "2022-06-05T11:43:43.533Z"
   },
   {
    "duration": 0,
    "start_time": "2022-06-05T11:43:43.538Z"
   },
   {
    "duration": 0,
    "start_time": "2022-06-05T11:43:43.540Z"
   },
   {
    "duration": 0,
    "start_time": "2022-06-05T11:43:43.540Z"
   },
   {
    "duration": 0,
    "start_time": "2022-06-05T11:43:43.541Z"
   },
   {
    "duration": 0,
    "start_time": "2022-06-05T11:43:43.541Z"
   },
   {
    "duration": 0,
    "start_time": "2022-06-05T11:43:43.544Z"
   },
   {
    "duration": 1226,
    "start_time": "2022-06-05T11:45:38.886Z"
   },
   {
    "duration": 18,
    "start_time": "2022-06-05T11:45:40.114Z"
   },
   {
    "duration": 110,
    "start_time": "2022-06-05T11:45:40.135Z"
   },
   {
    "duration": 20,
    "start_time": "2022-06-05T11:45:40.247Z"
   },
   {
    "duration": 22,
    "start_time": "2022-06-05T11:45:40.269Z"
   },
   {
    "duration": 27,
    "start_time": "2022-06-05T11:45:40.292Z"
   },
   {
    "duration": 66,
    "start_time": "2022-06-05T11:45:40.321Z"
   },
   {
    "duration": 51,
    "start_time": "2022-06-05T11:45:40.388Z"
   },
   {
    "duration": 15,
    "start_time": "2022-06-05T11:45:40.441Z"
   },
   {
    "duration": 40,
    "start_time": "2022-06-05T11:45:40.458Z"
   },
   {
    "duration": 8,
    "start_time": "2022-06-05T11:45:40.500Z"
   },
   {
    "duration": 33,
    "start_time": "2022-06-05T11:45:40.510Z"
   },
   {
    "duration": 27,
    "start_time": "2022-06-05T11:45:40.545Z"
   },
   {
    "duration": 306,
    "start_time": "2022-06-05T11:45:40.575Z"
   },
   {
    "duration": 10,
    "start_time": "2022-06-05T11:45:40.883Z"
   },
   {
    "duration": 172,
    "start_time": "2022-06-05T11:45:40.895Z"
   },
   {
    "duration": 17,
    "start_time": "2022-06-05T11:45:41.069Z"
   },
   {
    "duration": 18,
    "start_time": "2022-06-05T11:45:41.088Z"
   },
   {
    "duration": 182,
    "start_time": "2022-06-05T11:45:41.108Z"
   },
   {
    "duration": 14,
    "start_time": "2022-06-05T11:45:41.292Z"
   },
   {
    "duration": 33,
    "start_time": "2022-06-05T11:45:41.307Z"
   },
   {
    "duration": 178,
    "start_time": "2022-06-05T11:45:41.342Z"
   },
   {
    "duration": 1,
    "start_time": "2022-06-05T11:45:41.521Z"
   },
   {
    "duration": 0,
    "start_time": "2022-06-05T11:45:41.532Z"
   },
   {
    "duration": 0,
    "start_time": "2022-06-05T11:45:41.533Z"
   },
   {
    "duration": 1,
    "start_time": "2022-06-05T11:45:41.534Z"
   },
   {
    "duration": 0,
    "start_time": "2022-06-05T11:45:41.535Z"
   },
   {
    "duration": 0,
    "start_time": "2022-06-05T11:45:41.536Z"
   },
   {
    "duration": 0,
    "start_time": "2022-06-05T11:45:41.536Z"
   },
   {
    "duration": 0,
    "start_time": "2022-06-05T11:45:41.537Z"
   },
   {
    "duration": 0,
    "start_time": "2022-06-05T11:45:41.537Z"
   },
   {
    "duration": 0,
    "start_time": "2022-06-05T11:45:41.538Z"
   },
   {
    "duration": 0,
    "start_time": "2022-06-05T11:45:41.543Z"
   },
   {
    "duration": 0,
    "start_time": "2022-06-05T11:45:41.546Z"
   },
   {
    "duration": 0,
    "start_time": "2022-06-05T11:45:41.547Z"
   },
   {
    "duration": 0,
    "start_time": "2022-06-05T11:45:41.547Z"
   },
   {
    "duration": 9,
    "start_time": "2022-06-05T11:46:19.556Z"
   },
   {
    "duration": 12,
    "start_time": "2022-06-05T11:46:22.883Z"
   },
   {
    "duration": 174,
    "start_time": "2022-06-05T11:46:26.894Z"
   },
   {
    "duration": 10,
    "start_time": "2022-06-05T11:46:51.697Z"
   },
   {
    "duration": 205,
    "start_time": "2022-06-05T11:47:09.693Z"
   },
   {
    "duration": 24,
    "start_time": "2022-06-05T11:48:29.652Z"
   },
   {
    "duration": 19,
    "start_time": "2022-06-05T11:48:35.543Z"
   },
   {
    "duration": 10,
    "start_time": "2022-06-05T11:49:42.083Z"
   },
   {
    "duration": 9,
    "start_time": "2022-06-05T11:49:48.091Z"
   },
   {
    "duration": 27,
    "start_time": "2022-06-05T11:52:04.044Z"
   },
   {
    "duration": 21,
    "start_time": "2022-06-05T11:57:44.621Z"
   },
   {
    "duration": 5,
    "start_time": "2022-06-05T12:59:28.848Z"
   },
   {
    "duration": 8,
    "start_time": "2022-06-05T13:01:12.932Z"
   },
   {
    "duration": 25,
    "start_time": "2022-06-05T13:11:38.228Z"
   },
   {
    "duration": 15,
    "start_time": "2022-06-05T13:11:40.145Z"
   },
   {
    "duration": 194,
    "start_time": "2022-06-05T13:11:40.582Z"
   },
   {
    "duration": 918,
    "start_time": "2022-06-05T13:11:42.134Z"
   },
   {
    "duration": 11,
    "start_time": "2022-06-05T13:11:43.054Z"
   },
   {
    "duration": 24,
    "start_time": "2022-06-05T13:11:43.179Z"
   },
   {
    "duration": 10,
    "start_time": "2022-06-05T13:11:44.114Z"
   },
   {
    "duration": 13,
    "start_time": "2022-06-05T13:11:44.637Z"
   },
   {
    "duration": 12,
    "start_time": "2022-06-05T13:11:45.689Z"
   },
   {
    "duration": 16,
    "start_time": "2022-06-05T13:11:59.718Z"
   },
   {
    "duration": 12,
    "start_time": "2022-06-05T13:12:00.798Z"
   },
   {
    "duration": 10,
    "start_time": "2022-06-05T13:12:02.317Z"
   },
   {
    "duration": 22,
    "start_time": "2022-06-05T13:12:02.862Z"
   },
   {
    "duration": 3008,
    "start_time": "2022-06-05T19:06:53.212Z"
   },
   {
    "duration": 28,
    "start_time": "2022-06-05T19:06:56.224Z"
   },
   {
    "duration": 131,
    "start_time": "2022-06-05T19:06:56.254Z"
   },
   {
    "duration": 46,
    "start_time": "2022-06-05T19:06:56.389Z"
   },
   {
    "duration": 17,
    "start_time": "2022-06-05T19:06:56.438Z"
   },
   {
    "duration": 25,
    "start_time": "2022-06-05T19:06:56.457Z"
   },
   {
    "duration": 64,
    "start_time": "2022-06-05T19:06:56.484Z"
   },
   {
    "duration": 24,
    "start_time": "2022-06-05T19:06:56.551Z"
   },
   {
    "duration": 18,
    "start_time": "2022-06-05T19:06:56.577Z"
   },
   {
    "duration": 42,
    "start_time": "2022-06-05T19:06:56.626Z"
   },
   {
    "duration": 13,
    "start_time": "2022-06-05T19:06:56.670Z"
   },
   {
    "duration": 33,
    "start_time": "2022-06-05T19:06:56.685Z"
   },
   {
    "duration": 27,
    "start_time": "2022-06-05T19:06:56.720Z"
   },
   {
    "duration": 485,
    "start_time": "2022-06-05T19:06:56.749Z"
   },
   {
    "duration": 21,
    "start_time": "2022-06-05T19:06:57.237Z"
   },
   {
    "duration": 248,
    "start_time": "2022-06-05T19:06:57.260Z"
   },
   {
    "duration": 47,
    "start_time": "2022-06-05T19:06:57.510Z"
   },
   {
    "duration": 17,
    "start_time": "2022-06-05T19:06:57.561Z"
   },
   {
    "duration": 258,
    "start_time": "2022-06-05T19:06:57.580Z"
   },
   {
    "duration": 25,
    "start_time": "2022-06-05T19:06:57.840Z"
   },
   {
    "duration": 20,
    "start_time": "2022-06-05T19:06:57.868Z"
   },
   {
    "duration": 37,
    "start_time": "2022-06-05T19:06:57.891Z"
   },
   {
    "duration": 23,
    "start_time": "2022-06-05T19:06:57.931Z"
   },
   {
    "duration": 313,
    "start_time": "2022-06-05T19:06:57.956Z"
   },
   {
    "duration": 37,
    "start_time": "2022-06-05T19:06:58.273Z"
   },
   {
    "duration": 43,
    "start_time": "2022-06-05T19:06:58.326Z"
   },
   {
    "duration": 307,
    "start_time": "2022-06-05T19:06:58.371Z"
   },
   {
    "duration": 592,
    "start_time": "2022-06-05T19:06:58.682Z"
   },
   {
    "duration": 13,
    "start_time": "2022-06-05T19:06:59.277Z"
   },
   {
    "duration": 53,
    "start_time": "2022-06-05T19:06:59.293Z"
   },
   {
    "duration": 19,
    "start_time": "2022-06-05T19:06:59.349Z"
   },
   {
    "duration": 36,
    "start_time": "2022-06-05T19:06:59.370Z"
   },
   {
    "duration": 40,
    "start_time": "2022-06-05T19:06:59.410Z"
   },
   {
    "duration": 54,
    "start_time": "2022-06-05T19:06:59.453Z"
   },
   {
    "duration": 26,
    "start_time": "2022-06-05T19:06:59.510Z"
   },
   {
    "duration": 22,
    "start_time": "2022-06-05T19:06:59.538Z"
   },
   {
    "duration": 41,
    "start_time": "2022-06-05T19:06:59.563Z"
   },
   {
    "duration": 1914,
    "start_time": "2022-06-05T19:09:42.101Z"
   },
   {
    "duration": 25,
    "start_time": "2022-06-05T19:09:44.021Z"
   },
   {
    "duration": 130,
    "start_time": "2022-06-05T19:09:44.051Z"
   },
   {
    "duration": 38,
    "start_time": "2022-06-05T19:09:44.184Z"
   },
   {
    "duration": 17,
    "start_time": "2022-06-05T19:09:44.226Z"
   },
   {
    "duration": 44,
    "start_time": "2022-06-05T19:09:44.245Z"
   },
   {
    "duration": 56,
    "start_time": "2022-06-05T19:09:44.291Z"
   },
   {
    "duration": 36,
    "start_time": "2022-06-05T19:09:44.349Z"
   },
   {
    "duration": 29,
    "start_time": "2022-06-05T19:09:44.389Z"
   },
   {
    "duration": 81,
    "start_time": "2022-06-05T19:09:44.423Z"
   },
   {
    "duration": 18,
    "start_time": "2022-06-05T19:09:44.506Z"
   },
   {
    "duration": 66,
    "start_time": "2022-06-05T19:09:44.528Z"
   },
   {
    "duration": 21,
    "start_time": "2022-06-05T19:09:44.599Z"
   },
   {
    "duration": 448,
    "start_time": "2022-06-05T19:09:44.622Z"
   },
   {
    "duration": 16,
    "start_time": "2022-06-05T19:09:45.073Z"
   },
   {
    "duration": 293,
    "start_time": "2022-06-05T19:09:45.092Z"
   },
   {
    "duration": 29,
    "start_time": "2022-06-05T19:09:45.400Z"
   },
   {
    "duration": 25,
    "start_time": "2022-06-05T19:09:45.431Z"
   },
   {
    "duration": 283,
    "start_time": "2022-06-05T19:09:45.458Z"
   },
   {
    "duration": 26,
    "start_time": "2022-06-05T19:09:45.743Z"
   },
   {
    "duration": 26,
    "start_time": "2022-06-05T19:09:45.771Z"
   },
   {
    "duration": 7,
    "start_time": "2022-06-05T19:09:45.800Z"
   },
   {
    "duration": 45,
    "start_time": "2022-06-05T19:09:45.826Z"
   },
   {
    "duration": 310,
    "start_time": "2022-06-05T19:09:45.875Z"
   },
   {
    "duration": 44,
    "start_time": "2022-06-05T19:09:46.188Z"
   },
   {
    "duration": 25,
    "start_time": "2022-06-05T19:09:46.234Z"
   },
   {
    "duration": 283,
    "start_time": "2022-06-05T19:09:46.263Z"
   },
   {
    "duration": 469,
    "start_time": "2022-06-05T19:09:46.551Z"
   },
   {
    "duration": 12,
    "start_time": "2022-06-05T19:09:47.022Z"
   },
   {
    "duration": 73,
    "start_time": "2022-06-05T19:09:47.036Z"
   },
   {
    "duration": 28,
    "start_time": "2022-06-05T19:09:47.111Z"
   },
   {
    "duration": 16,
    "start_time": "2022-06-05T19:09:47.141Z"
   },
   {
    "duration": 27,
    "start_time": "2022-06-05T19:09:47.159Z"
   },
   {
    "duration": 43,
    "start_time": "2022-06-05T19:09:47.189Z"
   },
   {
    "duration": 17,
    "start_time": "2022-06-05T19:09:47.234Z"
   },
   {
    "duration": 15,
    "start_time": "2022-06-05T19:09:47.253Z"
   },
   {
    "duration": 76,
    "start_time": "2022-06-05T19:09:47.271Z"
   },
   {
    "duration": 44,
    "start_time": "2022-06-05T19:10:33.904Z"
   },
   {
    "duration": 44,
    "start_time": "2022-06-05T19:15:12.914Z"
   },
   {
    "duration": 52,
    "start_time": "2022-06-05T19:17:02.210Z"
   },
   {
    "duration": 1458,
    "start_time": "2022-06-05T19:17:42.687Z"
   },
   {
    "duration": 24,
    "start_time": "2022-06-05T19:17:44.153Z"
   },
   {
    "duration": 126,
    "start_time": "2022-06-05T19:17:44.179Z"
   },
   {
    "duration": 30,
    "start_time": "2022-06-05T19:17:44.307Z"
   },
   {
    "duration": 11,
    "start_time": "2022-06-05T19:17:44.340Z"
   },
   {
    "duration": 21,
    "start_time": "2022-06-05T19:17:44.353Z"
   },
   {
    "duration": 82,
    "start_time": "2022-06-05T19:17:44.376Z"
   },
   {
    "duration": 31,
    "start_time": "2022-06-05T19:17:44.460Z"
   },
   {
    "duration": 15,
    "start_time": "2022-06-05T19:17:44.493Z"
   },
   {
    "duration": 100,
    "start_time": "2022-06-05T19:17:44.510Z"
   },
   {
    "duration": 24,
    "start_time": "2022-06-05T19:17:44.613Z"
   },
   {
    "duration": 44,
    "start_time": "2022-06-05T19:17:44.639Z"
   },
   {
    "duration": 22,
    "start_time": "2022-06-05T19:17:44.686Z"
   },
   {
    "duration": 408,
    "start_time": "2022-06-05T19:17:44.713Z"
   },
   {
    "duration": 17,
    "start_time": "2022-06-05T19:17:45.124Z"
   },
   {
    "duration": 232,
    "start_time": "2022-06-05T19:17:45.143Z"
   },
   {
    "duration": 22,
    "start_time": "2022-06-05T19:17:45.378Z"
   },
   {
    "duration": 13,
    "start_time": "2022-06-05T19:17:45.402Z"
   },
   {
    "duration": 209,
    "start_time": "2022-06-05T19:17:45.417Z"
   },
   {
    "duration": 18,
    "start_time": "2022-06-05T19:17:45.629Z"
   },
   {
    "duration": 30,
    "start_time": "2022-06-05T19:17:45.649Z"
   },
   {
    "duration": 18,
    "start_time": "2022-06-05T19:17:45.681Z"
   },
   {
    "duration": 13,
    "start_time": "2022-06-05T19:17:45.701Z"
   },
   {
    "duration": 190,
    "start_time": "2022-06-05T19:17:45.715Z"
   },
   {
    "duration": 35,
    "start_time": "2022-06-05T19:17:45.907Z"
   },
   {
    "duration": 29,
    "start_time": "2022-06-05T19:17:45.944Z"
   },
   {
    "duration": 207,
    "start_time": "2022-06-05T19:17:45.975Z"
   },
   {
    "duration": 470,
    "start_time": "2022-06-05T19:17:46.184Z"
   },
   {
    "duration": 9,
    "start_time": "2022-06-05T19:17:46.657Z"
   },
   {
    "duration": 53,
    "start_time": "2022-06-05T19:17:46.667Z"
   },
   {
    "duration": 15,
    "start_time": "2022-06-05T19:17:46.722Z"
   },
   {
    "duration": 22,
    "start_time": "2022-06-05T19:17:46.739Z"
   },
   {
    "duration": 18,
    "start_time": "2022-06-05T19:17:46.763Z"
   },
   {
    "duration": 14,
    "start_time": "2022-06-05T19:17:46.782Z"
   },
   {
    "duration": 13,
    "start_time": "2022-06-05T19:17:46.798Z"
   },
   {
    "duration": 12,
    "start_time": "2022-06-05T19:17:46.827Z"
   },
   {
    "duration": 36,
    "start_time": "2022-06-05T19:17:46.844Z"
   },
   {
    "duration": 235,
    "start_time": "2022-06-05T20:20:38.049Z"
   },
   {
    "duration": 97,
    "start_time": "2022-06-05T20:21:01.551Z"
   },
   {
    "duration": 1305,
    "start_time": "2022-06-05T20:21:06.447Z"
   },
   {
    "duration": 16,
    "start_time": "2022-06-05T20:21:07.753Z"
   },
   {
    "duration": 93,
    "start_time": "2022-06-05T20:21:07.771Z"
   },
   {
    "duration": 18,
    "start_time": "2022-06-05T20:21:07.867Z"
   },
   {
    "duration": 8,
    "start_time": "2022-06-05T20:21:07.887Z"
   },
   {
    "duration": 44,
    "start_time": "2022-06-05T20:21:07.896Z"
   },
   {
    "duration": 27,
    "start_time": "2022-06-05T20:21:07.942Z"
   },
   {
    "duration": 21,
    "start_time": "2022-06-05T20:21:07.970Z"
   },
   {
    "duration": 15,
    "start_time": "2022-06-05T20:21:07.993Z"
   },
   {
    "duration": 33,
    "start_time": "2022-06-05T20:21:08.026Z"
   },
   {
    "duration": 10,
    "start_time": "2022-06-05T20:21:08.061Z"
   },
   {
    "duration": 5,
    "start_time": "2022-06-05T20:21:08.073Z"
   },
   {
    "duration": 21,
    "start_time": "2022-06-05T20:21:08.079Z"
   },
   {
    "duration": 299,
    "start_time": "2022-06-05T20:21:08.102Z"
   },
   {
    "duration": 17,
    "start_time": "2022-06-05T20:21:08.403Z"
   },
   {
    "duration": 175,
    "start_time": "2022-06-05T20:21:08.421Z"
   },
   {
    "duration": 22,
    "start_time": "2022-06-05T20:21:08.598Z"
   },
   {
    "duration": 15,
    "start_time": "2022-06-05T20:21:08.626Z"
   },
   {
    "duration": 158,
    "start_time": "2022-06-05T20:21:08.644Z"
   },
   {
    "duration": 14,
    "start_time": "2022-06-05T20:21:08.804Z"
   },
   {
    "duration": 19,
    "start_time": "2022-06-05T20:21:08.828Z"
   },
   {
    "duration": 17,
    "start_time": "2022-06-05T20:21:08.849Z"
   },
   {
    "duration": 13,
    "start_time": "2022-06-05T20:21:08.868Z"
   },
   {
    "duration": 187,
    "start_time": "2022-06-05T20:21:08.882Z"
   },
   {
    "duration": 22,
    "start_time": "2022-06-05T20:21:09.071Z"
   },
   {
    "duration": 37,
    "start_time": "2022-06-05T20:21:09.095Z"
   },
   {
    "duration": 35,
    "start_time": "2022-06-05T20:21:09.136Z"
   },
   {
    "duration": 201,
    "start_time": "2022-06-05T20:21:09.175Z"
   },
   {
    "duration": 488,
    "start_time": "2022-06-05T20:21:09.379Z"
   },
   {
    "duration": 8,
    "start_time": "2022-06-05T20:21:09.868Z"
   },
   {
    "duration": 37,
    "start_time": "2022-06-05T20:21:09.878Z"
   },
   {
    "duration": 8,
    "start_time": "2022-06-05T20:21:09.917Z"
   },
   {
    "duration": 21,
    "start_time": "2022-06-05T20:21:09.927Z"
   },
   {
    "duration": 13,
    "start_time": "2022-06-05T20:21:09.949Z"
   },
   {
    "duration": 13,
    "start_time": "2022-06-05T20:21:09.964Z"
   },
   {
    "duration": 32,
    "start_time": "2022-06-05T20:21:09.978Z"
   },
   {
    "duration": 43,
    "start_time": "2022-06-05T20:21:10.011Z"
   },
   {
    "duration": 28,
    "start_time": "2022-06-05T20:21:10.055Z"
   },
   {
    "duration": 494,
    "start_time": "2022-06-05T20:25:31.185Z"
   },
   {
    "duration": 14,
    "start_time": "2022-06-05T20:27:17.907Z"
   },
   {
    "duration": 1343,
    "start_time": "2022-06-05T20:27:31.781Z"
   },
   {
    "duration": 21,
    "start_time": "2022-06-05T20:27:33.126Z"
   },
   {
    "duration": 96,
    "start_time": "2022-06-05T20:27:33.149Z"
   },
   {
    "duration": 17,
    "start_time": "2022-06-05T20:27:33.247Z"
   },
   {
    "duration": 7,
    "start_time": "2022-06-05T20:27:33.266Z"
   },
   {
    "duration": 11,
    "start_time": "2022-06-05T20:27:33.274Z"
   },
   {
    "duration": 44,
    "start_time": "2022-06-05T20:27:33.287Z"
   },
   {
    "duration": 20,
    "start_time": "2022-06-05T20:27:33.332Z"
   },
   {
    "duration": 11,
    "start_time": "2022-06-05T20:27:33.353Z"
   },
   {
    "duration": 21,
    "start_time": "2022-06-05T20:27:33.366Z"
   },
   {
    "duration": 12,
    "start_time": "2022-06-05T20:27:33.389Z"
   },
   {
    "duration": 9,
    "start_time": "2022-06-05T20:27:33.428Z"
   },
   {
    "duration": 14,
    "start_time": "2022-06-05T20:27:33.441Z"
   },
   {
    "duration": 300,
    "start_time": "2022-06-05T20:27:33.457Z"
   },
   {
    "duration": 13,
    "start_time": "2022-06-05T20:27:33.759Z"
   },
   {
    "duration": 148,
    "start_time": "2022-06-05T20:27:33.773Z"
   },
   {
    "duration": 26,
    "start_time": "2022-06-05T20:27:33.923Z"
   },
   {
    "duration": 10,
    "start_time": "2022-06-05T20:27:33.951Z"
   },
   {
    "duration": 173,
    "start_time": "2022-06-05T20:27:33.963Z"
   },
   {
    "duration": 14,
    "start_time": "2022-06-05T20:27:34.142Z"
   },
   {
    "duration": 17,
    "start_time": "2022-06-05T20:27:34.158Z"
   },
   {
    "duration": 5,
    "start_time": "2022-06-05T20:27:34.176Z"
   },
   {
    "duration": 11,
    "start_time": "2022-06-05T20:27:34.183Z"
   },
   {
    "duration": 191,
    "start_time": "2022-06-05T20:27:34.195Z"
   },
   {
    "duration": 38,
    "start_time": "2022-06-05T20:27:34.389Z"
   },
   {
    "duration": 39,
    "start_time": "2022-06-05T20:27:34.431Z"
   },
   {
    "duration": 36,
    "start_time": "2022-06-05T20:27:34.472Z"
   },
   {
    "duration": 251,
    "start_time": "2022-06-05T20:27:34.512Z"
   },
   {
    "duration": 667,
    "start_time": "2022-06-05T20:27:34.765Z"
   },
   {
    "duration": 11,
    "start_time": "2022-06-05T20:27:35.433Z"
   },
   {
    "duration": 37,
    "start_time": "2022-06-05T20:27:35.446Z"
   },
   {
    "duration": 9,
    "start_time": "2022-06-05T20:27:35.485Z"
   },
   {
    "duration": 32,
    "start_time": "2022-06-05T20:27:35.496Z"
   },
   {
    "duration": 28,
    "start_time": "2022-06-05T20:27:35.530Z"
   },
   {
    "duration": 126,
    "start_time": "2022-06-05T20:27:35.560Z"
   },
   {
    "duration": 0,
    "start_time": "2022-06-05T20:27:35.687Z"
   },
   {
    "duration": 0,
    "start_time": "2022-06-05T20:27:35.689Z"
   },
   {
    "duration": 0,
    "start_time": "2022-06-05T20:27:35.690Z"
   },
   {
    "duration": 15,
    "start_time": "2022-06-05T20:27:53.842Z"
   },
   {
    "duration": 12,
    "start_time": "2022-06-05T20:29:10.566Z"
   },
   {
    "duration": 30,
    "start_time": "2022-06-05T20:29:50.302Z"
   },
   {
    "duration": 12,
    "start_time": "2022-06-05T20:30:10.991Z"
   },
   {
    "duration": 1294,
    "start_time": "2022-06-05T20:30:26.173Z"
   },
   {
    "duration": 16,
    "start_time": "2022-06-05T20:30:27.470Z"
   },
   {
    "duration": 106,
    "start_time": "2022-06-05T20:30:27.488Z"
   },
   {
    "duration": 19,
    "start_time": "2022-06-05T20:30:27.596Z"
   },
   {
    "duration": 12,
    "start_time": "2022-06-05T20:30:27.629Z"
   },
   {
    "duration": 17,
    "start_time": "2022-06-05T20:30:27.645Z"
   },
   {
    "duration": 31,
    "start_time": "2022-06-05T20:30:27.664Z"
   },
   {
    "duration": 32,
    "start_time": "2022-06-05T20:30:27.697Z"
   },
   {
    "duration": 16,
    "start_time": "2022-06-05T20:30:27.732Z"
   },
   {
    "duration": 20,
    "start_time": "2022-06-05T20:30:27.751Z"
   },
   {
    "duration": 8,
    "start_time": "2022-06-05T20:30:27.773Z"
   },
   {
    "duration": 9,
    "start_time": "2022-06-05T20:30:27.782Z"
   },
   {
    "duration": 6,
    "start_time": "2022-06-05T20:30:27.792Z"
   },
   {
    "duration": 309,
    "start_time": "2022-06-05T20:30:27.800Z"
   },
   {
    "duration": 12,
    "start_time": "2022-06-05T20:30:28.111Z"
   },
   {
    "duration": 167,
    "start_time": "2022-06-05T20:30:28.125Z"
   },
   {
    "duration": 18,
    "start_time": "2022-06-05T20:30:28.294Z"
   },
   {
    "duration": 21,
    "start_time": "2022-06-05T20:30:28.314Z"
   },
   {
    "duration": 164,
    "start_time": "2022-06-05T20:30:28.336Z"
   },
   {
    "duration": 25,
    "start_time": "2022-06-05T20:30:28.502Z"
   },
   {
    "duration": 20,
    "start_time": "2022-06-05T20:30:28.535Z"
   },
   {
    "duration": 5,
    "start_time": "2022-06-05T20:30:28.557Z"
   },
   {
    "duration": 17,
    "start_time": "2022-06-05T20:30:28.563Z"
   },
   {
    "duration": 185,
    "start_time": "2022-06-05T20:30:28.583Z"
   },
   {
    "duration": 22,
    "start_time": "2022-06-05T20:30:28.771Z"
   },
   {
    "duration": 42,
    "start_time": "2022-06-05T20:30:28.795Z"
   },
   {
    "duration": 18,
    "start_time": "2022-06-05T20:30:28.838Z"
   },
   {
    "duration": 199,
    "start_time": "2022-06-05T20:30:28.858Z"
   },
   {
    "duration": 448,
    "start_time": "2022-06-05T20:30:29.059Z"
   },
   {
    "duration": 8,
    "start_time": "2022-06-05T20:30:29.509Z"
   },
   {
    "duration": 43,
    "start_time": "2022-06-05T20:30:29.519Z"
   },
   {
    "duration": 9,
    "start_time": "2022-06-05T20:30:29.564Z"
   },
   {
    "duration": 18,
    "start_time": "2022-06-05T20:30:29.575Z"
   },
   {
    "duration": 16,
    "start_time": "2022-06-05T20:30:29.595Z"
   },
   {
    "duration": 17,
    "start_time": "2022-06-05T20:30:29.627Z"
   },
   {
    "duration": 197,
    "start_time": "2022-06-05T20:30:29.646Z"
   },
   {
    "duration": 0,
    "start_time": "2022-06-05T20:30:29.845Z"
   },
   {
    "duration": 0,
    "start_time": "2022-06-05T20:30:29.846Z"
   },
   {
    "duration": 13,
    "start_time": "2022-06-05T20:30:36.145Z"
   },
   {
    "duration": 13,
    "start_time": "2022-06-05T20:30:40.409Z"
   },
   {
    "duration": 11,
    "start_time": "2022-06-05T20:30:57.150Z"
   },
   {
    "duration": 1328,
    "start_time": "2022-06-05T20:31:41.892Z"
   },
   {
    "duration": 20,
    "start_time": "2022-06-05T20:31:43.222Z"
   },
   {
    "duration": 99,
    "start_time": "2022-06-05T20:31:43.244Z"
   },
   {
    "duration": 20,
    "start_time": "2022-06-05T20:31:43.345Z"
   },
   {
    "duration": 9,
    "start_time": "2022-06-05T20:31:43.367Z"
   },
   {
    "duration": 16,
    "start_time": "2022-06-05T20:31:43.378Z"
   },
   {
    "duration": 56,
    "start_time": "2022-06-05T20:31:43.396Z"
   },
   {
    "duration": 17,
    "start_time": "2022-06-05T20:31:43.454Z"
   },
   {
    "duration": 13,
    "start_time": "2022-06-05T20:31:43.472Z"
   },
   {
    "duration": 43,
    "start_time": "2022-06-05T20:31:43.488Z"
   },
   {
    "duration": 12,
    "start_time": "2022-06-05T20:31:43.536Z"
   },
   {
    "duration": 5,
    "start_time": "2022-06-05T20:31:43.550Z"
   },
   {
    "duration": 9,
    "start_time": "2022-06-05T20:31:43.557Z"
   },
   {
    "duration": 306,
    "start_time": "2022-06-05T20:31:43.567Z"
   },
   {
    "duration": 14,
    "start_time": "2022-06-05T20:31:43.875Z"
   },
   {
    "duration": 172,
    "start_time": "2022-06-05T20:31:43.891Z"
   },
   {
    "duration": 19,
    "start_time": "2022-06-05T20:31:44.065Z"
   },
   {
    "duration": 9,
    "start_time": "2022-06-05T20:31:44.085Z"
   },
   {
    "duration": 174,
    "start_time": "2022-06-05T20:31:44.096Z"
   },
   {
    "duration": 15,
    "start_time": "2022-06-05T20:31:44.271Z"
   },
   {
    "duration": 15,
    "start_time": "2022-06-05T20:31:44.288Z"
   },
   {
    "duration": 23,
    "start_time": "2022-06-05T20:31:44.305Z"
   },
   {
    "duration": 10,
    "start_time": "2022-06-05T20:31:44.329Z"
   },
   {
    "duration": 213,
    "start_time": "2022-06-05T20:31:44.341Z"
   },
   {
    "duration": 28,
    "start_time": "2022-06-05T20:31:44.557Z"
   },
   {
    "duration": 39,
    "start_time": "2022-06-05T20:31:44.587Z"
   },
   {
    "duration": 23,
    "start_time": "2022-06-05T20:31:44.628Z"
   },
   {
    "duration": 204,
    "start_time": "2022-06-05T20:31:44.655Z"
   },
   {
    "duration": 492,
    "start_time": "2022-06-05T20:31:44.860Z"
   },
   {
    "duration": 11,
    "start_time": "2022-06-05T20:31:45.354Z"
   },
   {
    "duration": 63,
    "start_time": "2022-06-05T20:31:45.367Z"
   },
   {
    "duration": 12,
    "start_time": "2022-06-05T20:31:45.432Z"
   },
   {
    "duration": 16,
    "start_time": "2022-06-05T20:31:45.445Z"
   },
   {
    "duration": 12,
    "start_time": "2022-06-05T20:31:45.462Z"
   },
   {
    "duration": 12,
    "start_time": "2022-06-05T20:31:45.476Z"
   },
   {
    "duration": 13,
    "start_time": "2022-06-05T20:31:45.490Z"
   },
   {
    "duration": 37,
    "start_time": "2022-06-05T20:31:45.504Z"
   },
   {
    "duration": 26,
    "start_time": "2022-06-05T20:31:45.542Z"
   },
   {
    "duration": 10,
    "start_time": "2022-06-05T20:32:30.467Z"
   },
   {
    "duration": 1368,
    "start_time": "2022-06-05T20:33:02.676Z"
   },
   {
    "duration": 16,
    "start_time": "2022-06-05T20:33:04.046Z"
   },
   {
    "duration": 92,
    "start_time": "2022-06-05T20:33:04.065Z"
   },
   {
    "duration": 18,
    "start_time": "2022-06-05T20:33:04.160Z"
   },
   {
    "duration": 15,
    "start_time": "2022-06-05T20:33:04.180Z"
   },
   {
    "duration": 10,
    "start_time": "2022-06-05T20:33:04.197Z"
   },
   {
    "duration": 33,
    "start_time": "2022-06-05T20:33:04.226Z"
   },
   {
    "duration": 16,
    "start_time": "2022-06-05T20:33:04.261Z"
   },
   {
    "duration": 12,
    "start_time": "2022-06-05T20:33:04.278Z"
   },
   {
    "duration": 49,
    "start_time": "2022-06-05T20:33:04.293Z"
   },
   {
    "duration": 8,
    "start_time": "2022-06-05T20:33:04.344Z"
   },
   {
    "duration": 10,
    "start_time": "2022-06-05T20:33:04.354Z"
   },
   {
    "duration": 9,
    "start_time": "2022-06-05T20:33:04.366Z"
   },
   {
    "duration": 340,
    "start_time": "2022-06-05T20:33:04.377Z"
   },
   {
    "duration": 18,
    "start_time": "2022-06-05T20:33:04.719Z"
   },
   {
    "duration": 199,
    "start_time": "2022-06-05T20:33:04.741Z"
   },
   {
    "duration": 20,
    "start_time": "2022-06-05T20:33:04.941Z"
   },
   {
    "duration": 11,
    "start_time": "2022-06-05T20:33:04.963Z"
   },
   {
    "duration": 191,
    "start_time": "2022-06-05T20:33:04.975Z"
   },
   {
    "duration": 16,
    "start_time": "2022-06-05T20:33:05.168Z"
   },
   {
    "duration": 81,
    "start_time": "2022-06-05T20:33:05.186Z"
   },
   {
    "duration": 21,
    "start_time": "2022-06-05T20:33:05.269Z"
   },
   {
    "duration": 26,
    "start_time": "2022-06-05T20:33:05.292Z"
   },
   {
    "duration": 206,
    "start_time": "2022-06-05T20:33:05.320Z"
   },
   {
    "duration": 25,
    "start_time": "2022-06-05T20:33:05.532Z"
   },
   {
    "duration": 44,
    "start_time": "2022-06-05T20:33:05.558Z"
   },
   {
    "duration": 16,
    "start_time": "2022-06-05T20:33:05.604Z"
   },
   {
    "duration": 217,
    "start_time": "2022-06-05T20:33:05.623Z"
   },
   {
    "duration": 391,
    "start_time": "2022-06-05T20:33:05.842Z"
   },
   {
    "duration": 10,
    "start_time": "2022-06-05T20:33:06.237Z"
   },
   {
    "duration": 41,
    "start_time": "2022-06-05T20:33:06.249Z"
   },
   {
    "duration": 9,
    "start_time": "2022-06-05T20:33:06.292Z"
   },
   {
    "duration": 29,
    "start_time": "2022-06-05T20:33:06.304Z"
   },
   {
    "duration": 30,
    "start_time": "2022-06-05T20:33:06.335Z"
   },
   {
    "duration": 10,
    "start_time": "2022-06-05T20:33:06.367Z"
   },
   {
    "duration": 167,
    "start_time": "2022-06-05T20:33:06.379Z"
   },
   {
    "duration": 0,
    "start_time": "2022-06-05T20:33:06.548Z"
   },
   {
    "duration": 0,
    "start_time": "2022-06-05T20:33:06.549Z"
   },
   {
    "duration": 0,
    "start_time": "2022-06-05T20:33:06.551Z"
   },
   {
    "duration": 22,
    "start_time": "2022-06-05T20:33:14.413Z"
   },
   {
    "duration": 1295,
    "start_time": "2022-06-05T20:34:35.410Z"
   },
   {
    "duration": 16,
    "start_time": "2022-06-05T20:34:36.707Z"
   },
   {
    "duration": 91,
    "start_time": "2022-06-05T20:34:36.724Z"
   },
   {
    "duration": 22,
    "start_time": "2022-06-05T20:34:36.817Z"
   },
   {
    "duration": 9,
    "start_time": "2022-06-05T20:34:36.841Z"
   },
   {
    "duration": 16,
    "start_time": "2022-06-05T20:34:36.852Z"
   },
   {
    "duration": 28,
    "start_time": "2022-06-05T20:34:36.869Z"
   },
   {
    "duration": 40,
    "start_time": "2022-06-05T20:34:36.899Z"
   },
   {
    "duration": 16,
    "start_time": "2022-06-05T20:34:36.941Z"
   },
   {
    "duration": 25,
    "start_time": "2022-06-05T20:34:36.960Z"
   },
   {
    "duration": 9,
    "start_time": "2022-06-05T20:34:36.986Z"
   },
   {
    "duration": 40,
    "start_time": "2022-06-05T20:34:36.997Z"
   },
   {
    "duration": 7,
    "start_time": "2022-06-05T20:34:37.038Z"
   },
   {
    "duration": 286,
    "start_time": "2022-06-05T20:34:37.047Z"
   },
   {
    "duration": 13,
    "start_time": "2022-06-05T20:34:37.335Z"
   },
   {
    "duration": 182,
    "start_time": "2022-06-05T20:34:37.350Z"
   },
   {
    "duration": 19,
    "start_time": "2022-06-05T20:34:37.533Z"
   },
   {
    "duration": 10,
    "start_time": "2022-06-05T20:34:37.554Z"
   },
   {
    "duration": 173,
    "start_time": "2022-06-05T20:34:37.566Z"
   },
   {
    "duration": 15,
    "start_time": "2022-06-05T20:34:37.740Z"
   },
   {
    "duration": 22,
    "start_time": "2022-06-05T20:34:37.757Z"
   },
   {
    "duration": 5,
    "start_time": "2022-06-05T20:34:37.781Z"
   },
   {
    "duration": 14,
    "start_time": "2022-06-05T20:34:37.787Z"
   },
   {
    "duration": 211,
    "start_time": "2022-06-05T20:34:37.803Z"
   },
   {
    "duration": 30,
    "start_time": "2022-06-05T20:34:38.016Z"
   },
   {
    "duration": 53,
    "start_time": "2022-06-05T20:34:38.048Z"
   },
   {
    "duration": 19,
    "start_time": "2022-06-05T20:34:38.103Z"
   },
   {
    "duration": 192,
    "start_time": "2022-06-05T20:34:38.125Z"
   },
   {
    "duration": 480,
    "start_time": "2022-06-05T20:34:38.318Z"
   },
   {
    "duration": 9,
    "start_time": "2022-06-05T20:34:38.800Z"
   },
   {
    "duration": 58,
    "start_time": "2022-06-05T20:34:38.810Z"
   },
   {
    "duration": 13,
    "start_time": "2022-06-05T20:34:38.870Z"
   },
   {
    "duration": 21,
    "start_time": "2022-06-05T20:34:38.885Z"
   },
   {
    "duration": 21,
    "start_time": "2022-06-05T20:34:38.907Z"
   },
   {
    "duration": 19,
    "start_time": "2022-06-05T20:34:38.929Z"
   },
   {
    "duration": 123,
    "start_time": "2022-06-05T20:34:38.950Z"
   },
   {
    "duration": 0,
    "start_time": "2022-06-05T20:34:39.075Z"
   },
   {
    "duration": 0,
    "start_time": "2022-06-05T20:34:39.077Z"
   },
   {
    "duration": 0,
    "start_time": "2022-06-05T20:34:39.078Z"
   },
   {
    "duration": 3,
    "start_time": "2022-06-05T20:35:22.999Z"
   },
   {
    "duration": 13,
    "start_time": "2022-06-05T20:35:25.385Z"
   },
   {
    "duration": 18,
    "start_time": "2022-06-05T20:36:02.004Z"
   },
   {
    "duration": 1461,
    "start_time": "2022-06-05T20:36:07.257Z"
   },
   {
    "duration": 17,
    "start_time": "2022-06-05T20:36:08.723Z"
   },
   {
    "duration": 110,
    "start_time": "2022-06-05T20:36:08.742Z"
   },
   {
    "duration": 33,
    "start_time": "2022-06-05T20:36:08.854Z"
   },
   {
    "duration": 11,
    "start_time": "2022-06-05T20:36:08.890Z"
   },
   {
    "duration": 32,
    "start_time": "2022-06-05T20:36:08.902Z"
   },
   {
    "duration": 27,
    "start_time": "2022-06-05T20:36:08.936Z"
   },
   {
    "duration": 30,
    "start_time": "2022-06-05T20:36:08.964Z"
   },
   {
    "duration": 37,
    "start_time": "2022-06-05T20:36:08.996Z"
   },
   {
    "duration": 22,
    "start_time": "2022-06-05T20:36:09.035Z"
   },
   {
    "duration": 10,
    "start_time": "2022-06-05T20:36:09.059Z"
   },
   {
    "duration": 14,
    "start_time": "2022-06-05T20:36:09.071Z"
   },
   {
    "duration": 15,
    "start_time": "2022-06-05T20:36:09.087Z"
   },
   {
    "duration": 373,
    "start_time": "2022-06-05T20:36:09.128Z"
   },
   {
    "duration": 16,
    "start_time": "2022-06-05T20:36:09.503Z"
   },
   {
    "duration": 177,
    "start_time": "2022-06-05T20:36:09.521Z"
   },
   {
    "duration": 33,
    "start_time": "2022-06-05T20:36:09.700Z"
   },
   {
    "duration": 15,
    "start_time": "2022-06-05T20:36:09.736Z"
   },
   {
    "duration": 179,
    "start_time": "2022-06-05T20:36:09.754Z"
   },
   {
    "duration": 16,
    "start_time": "2022-06-05T20:36:09.935Z"
   },
   {
    "duration": 31,
    "start_time": "2022-06-05T20:36:09.953Z"
   },
   {
    "duration": 7,
    "start_time": "2022-06-05T20:36:09.986Z"
   },
   {
    "duration": 30,
    "start_time": "2022-06-05T20:36:09.995Z"
   },
   {
    "duration": 189,
    "start_time": "2022-06-05T20:36:10.027Z"
   },
   {
    "duration": 28,
    "start_time": "2022-06-05T20:36:10.218Z"
   },
   {
    "duration": 28,
    "start_time": "2022-06-05T20:36:10.249Z"
   },
   {
    "duration": 18,
    "start_time": "2022-06-05T20:36:10.279Z"
   },
   {
    "duration": 229,
    "start_time": "2022-06-05T20:36:10.299Z"
   },
   {
    "duration": 699,
    "start_time": "2022-06-05T20:36:10.530Z"
   },
   {
    "duration": 11,
    "start_time": "2022-06-05T20:36:11.232Z"
   },
   {
    "duration": 58,
    "start_time": "2022-06-05T20:36:11.245Z"
   },
   {
    "duration": 14,
    "start_time": "2022-06-05T20:36:11.305Z"
   },
   {
    "duration": 17,
    "start_time": "2022-06-05T20:36:11.326Z"
   },
   {
    "duration": 24,
    "start_time": "2022-06-05T20:36:11.345Z"
   },
   {
    "duration": 18,
    "start_time": "2022-06-05T20:36:11.371Z"
   },
   {
    "duration": 23,
    "start_time": "2022-06-05T20:36:11.391Z"
   },
   {
    "duration": 15,
    "start_time": "2022-06-05T20:36:11.425Z"
   },
   {
    "duration": 17,
    "start_time": "2022-06-05T20:36:11.442Z"
   },
   {
    "duration": 34,
    "start_time": "2022-06-05T20:36:11.461Z"
   },
   {
    "duration": 12,
    "start_time": "2022-06-05T20:36:40.618Z"
   },
   {
    "duration": 611,
    "start_time": "2022-06-05T20:37:59.655Z"
   },
   {
    "duration": 32,
    "start_time": "2022-06-05T20:38:36.078Z"
   },
   {
    "duration": 39,
    "start_time": "2022-06-05T20:38:55.699Z"
   },
   {
    "duration": 23,
    "start_time": "2022-06-05T20:39:11.594Z"
   },
   {
    "duration": 1459,
    "start_time": "2022-06-05T20:39:24.699Z"
   },
   {
    "duration": 22,
    "start_time": "2022-06-05T20:39:26.160Z"
   },
   {
    "duration": 114,
    "start_time": "2022-06-05T20:39:26.185Z"
   },
   {
    "duration": 47,
    "start_time": "2022-06-05T20:39:26.302Z"
   },
   {
    "duration": 13,
    "start_time": "2022-06-05T20:39:26.351Z"
   },
   {
    "duration": 53,
    "start_time": "2022-06-05T20:39:26.366Z"
   },
   {
    "duration": 54,
    "start_time": "2022-06-05T20:39:26.421Z"
   },
   {
    "duration": 34,
    "start_time": "2022-06-05T20:39:26.477Z"
   },
   {
    "duration": 20,
    "start_time": "2022-06-05T20:39:26.513Z"
   },
   {
    "duration": 24,
    "start_time": "2022-06-05T20:39:26.537Z"
   },
   {
    "duration": 17,
    "start_time": "2022-06-05T20:39:26.564Z"
   },
   {
    "duration": 8,
    "start_time": "2022-06-05T20:39:26.584Z"
   },
   {
    "duration": 16,
    "start_time": "2022-06-05T20:39:26.594Z"
   },
   {
    "duration": 343,
    "start_time": "2022-06-05T20:39:26.627Z"
   },
   {
    "duration": 19,
    "start_time": "2022-06-05T20:39:26.972Z"
   },
   {
    "duration": 210,
    "start_time": "2022-06-05T20:39:26.993Z"
   },
   {
    "duration": 34,
    "start_time": "2022-06-05T20:39:27.205Z"
   },
   {
    "duration": 16,
    "start_time": "2022-06-05T20:39:27.240Z"
   },
   {
    "duration": 194,
    "start_time": "2022-06-05T20:39:27.258Z"
   },
   {
    "duration": 18,
    "start_time": "2022-06-05T20:39:27.454Z"
   },
   {
    "duration": 90,
    "start_time": "2022-06-05T20:39:27.475Z"
   },
   {
    "duration": 16,
    "start_time": "2022-06-05T20:39:27.567Z"
   },
   {
    "duration": 30,
    "start_time": "2022-06-05T20:39:27.585Z"
   },
   {
    "duration": 225,
    "start_time": "2022-06-05T20:39:27.618Z"
   },
   {
    "duration": 24,
    "start_time": "2022-06-05T20:39:27.846Z"
   },
   {
    "duration": 38,
    "start_time": "2022-06-05T20:39:27.872Z"
   },
   {
    "duration": 29,
    "start_time": "2022-06-05T20:39:27.926Z"
   },
   {
    "duration": 239,
    "start_time": "2022-06-05T20:39:27.959Z"
   },
   {
    "duration": 396,
    "start_time": "2022-06-05T20:39:28.200Z"
   },
   {
    "duration": 10,
    "start_time": "2022-06-05T20:39:28.598Z"
   },
   {
    "duration": 59,
    "start_time": "2022-06-05T20:39:28.610Z"
   },
   {
    "duration": 13,
    "start_time": "2022-06-05T20:39:28.672Z"
   },
   {
    "duration": 40,
    "start_time": "2022-06-05T20:39:28.687Z"
   },
   {
    "duration": 17,
    "start_time": "2022-06-05T20:39:28.729Z"
   },
   {
    "duration": 15,
    "start_time": "2022-06-05T20:39:28.749Z"
   },
   {
    "duration": 16,
    "start_time": "2022-06-05T20:39:28.767Z"
   },
   {
    "duration": 53,
    "start_time": "2022-06-05T20:39:28.785Z"
   },
   {
    "duration": 35,
    "start_time": "2022-06-05T20:39:28.840Z"
   },
   {
    "duration": 19,
    "start_time": "2022-06-05T20:40:52.870Z"
   },
   {
    "duration": 1416,
    "start_time": "2022-06-05T20:41:49.373Z"
   },
   {
    "duration": 21,
    "start_time": "2022-06-05T20:41:50.792Z"
   },
   {
    "duration": 123,
    "start_time": "2022-06-05T20:41:50.815Z"
   },
   {
    "duration": 32,
    "start_time": "2022-06-05T20:41:50.941Z"
   },
   {
    "duration": 14,
    "start_time": "2022-06-05T20:41:50.975Z"
   },
   {
    "duration": 48,
    "start_time": "2022-06-05T20:41:50.992Z"
   },
   {
    "duration": 33,
    "start_time": "2022-06-05T20:41:51.042Z"
   },
   {
    "duration": 40,
    "start_time": "2022-06-05T20:41:51.076Z"
   },
   {
    "duration": 24,
    "start_time": "2022-06-05T20:41:51.117Z"
   },
   {
    "duration": 30,
    "start_time": "2022-06-05T20:41:51.144Z"
   },
   {
    "duration": 11,
    "start_time": "2022-06-05T20:41:51.175Z"
   },
   {
    "duration": 42,
    "start_time": "2022-06-05T20:41:51.188Z"
   },
   {
    "duration": 12,
    "start_time": "2022-06-05T20:41:51.232Z"
   },
   {
    "duration": 384,
    "start_time": "2022-06-05T20:41:51.246Z"
   },
   {
    "duration": 19,
    "start_time": "2022-06-05T20:41:51.633Z"
   },
   {
    "duration": 202,
    "start_time": "2022-06-05T20:41:51.655Z"
   },
   {
    "duration": 27,
    "start_time": "2022-06-05T20:41:51.860Z"
   },
   {
    "duration": 12,
    "start_time": "2022-06-05T20:41:51.889Z"
   },
   {
    "duration": 203,
    "start_time": "2022-06-05T20:41:51.904Z"
   },
   {
    "duration": 34,
    "start_time": "2022-06-05T20:41:52.110Z"
   },
   {
    "duration": 19,
    "start_time": "2022-06-05T20:41:52.147Z"
   },
   {
    "duration": 11,
    "start_time": "2022-06-05T20:41:52.171Z"
   },
   {
    "duration": 42,
    "start_time": "2022-06-05T20:41:52.184Z"
   },
   {
    "duration": 199,
    "start_time": "2022-06-05T20:41:52.228Z"
   },
   {
    "duration": 24,
    "start_time": "2022-06-05T20:41:52.429Z"
   },
   {
    "duration": 42,
    "start_time": "2022-06-05T20:41:52.455Z"
   },
   {
    "duration": 53,
    "start_time": "2022-06-05T20:41:52.499Z"
   },
   {
    "duration": 301,
    "start_time": "2022-06-05T20:41:52.558Z"
   },
   {
    "duration": 563,
    "start_time": "2022-06-05T20:41:52.864Z"
   },
   {
    "duration": 13,
    "start_time": "2022-06-05T20:41:53.429Z"
   },
   {
    "duration": 62,
    "start_time": "2022-06-05T20:41:53.444Z"
   },
   {
    "duration": 32,
    "start_time": "2022-06-05T20:41:53.509Z"
   },
   {
    "duration": 25,
    "start_time": "2022-06-05T20:41:53.543Z"
   },
   {
    "duration": 25,
    "start_time": "2022-06-05T20:41:53.570Z"
   },
   {
    "duration": 38,
    "start_time": "2022-06-05T20:41:53.597Z"
   },
   {
    "duration": 23,
    "start_time": "2022-06-05T20:41:53.638Z"
   },
   {
    "duration": 17,
    "start_time": "2022-06-05T20:41:53.663Z"
   },
   {
    "duration": 65,
    "start_time": "2022-06-05T20:41:53.682Z"
   },
   {
    "duration": 12,
    "start_time": "2022-06-05T20:44:08.339Z"
   },
   {
    "duration": 20,
    "start_time": "2022-06-05T20:44:11.601Z"
   },
   {
    "duration": 1384,
    "start_time": "2022-06-05T20:45:26.997Z"
   },
   {
    "duration": 19,
    "start_time": "2022-06-05T20:45:28.383Z"
   },
   {
    "duration": 100,
    "start_time": "2022-06-05T20:45:28.404Z"
   },
   {
    "duration": 30,
    "start_time": "2022-06-05T20:45:28.507Z"
   },
   {
    "duration": 13,
    "start_time": "2022-06-05T20:45:28.540Z"
   },
   {
    "duration": 19,
    "start_time": "2022-06-05T20:45:28.555Z"
   },
   {
    "duration": 40,
    "start_time": "2022-06-05T20:45:28.576Z"
   },
   {
    "duration": 20,
    "start_time": "2022-06-05T20:45:28.627Z"
   },
   {
    "duration": 22,
    "start_time": "2022-06-05T20:45:28.649Z"
   },
   {
    "duration": 25,
    "start_time": "2022-06-05T20:45:28.675Z"
   },
   {
    "duration": 29,
    "start_time": "2022-06-05T20:45:28.702Z"
   },
   {
    "duration": 7,
    "start_time": "2022-06-05T20:45:28.734Z"
   },
   {
    "duration": 8,
    "start_time": "2022-06-05T20:45:28.743Z"
   },
   {
    "duration": 293,
    "start_time": "2022-06-05T20:45:28.753Z"
   },
   {
    "duration": 13,
    "start_time": "2022-06-05T20:45:29.048Z"
   },
   {
    "duration": 169,
    "start_time": "2022-06-05T20:45:29.063Z"
   },
   {
    "duration": 33,
    "start_time": "2022-06-05T20:45:29.235Z"
   },
   {
    "duration": 10,
    "start_time": "2022-06-05T20:45:29.270Z"
   },
   {
    "duration": 227,
    "start_time": "2022-06-05T20:45:29.282Z"
   },
   {
    "duration": 23,
    "start_time": "2022-06-05T20:45:29.511Z"
   },
   {
    "duration": 15,
    "start_time": "2022-06-05T20:45:29.538Z"
   },
   {
    "duration": 5,
    "start_time": "2022-06-05T20:45:29.554Z"
   },
   {
    "duration": 15,
    "start_time": "2022-06-05T20:45:29.561Z"
   },
   {
    "duration": 211,
    "start_time": "2022-06-05T20:45:29.577Z"
   },
   {
    "duration": 24,
    "start_time": "2022-06-05T20:45:29.790Z"
   },
   {
    "duration": 28,
    "start_time": "2022-06-05T20:45:29.827Z"
   },
   {
    "duration": 48,
    "start_time": "2022-06-05T20:45:29.858Z"
   },
   {
    "duration": 247,
    "start_time": "2022-06-05T20:45:29.925Z"
   },
   {
    "duration": 489,
    "start_time": "2022-06-05T20:45:30.174Z"
   },
   {
    "duration": 11,
    "start_time": "2022-06-05T20:45:30.665Z"
   },
   {
    "duration": 75,
    "start_time": "2022-06-05T20:45:30.678Z"
   },
   {
    "duration": 27,
    "start_time": "2022-06-05T20:45:30.754Z"
   },
   {
    "duration": 36,
    "start_time": "2022-06-05T20:45:30.783Z"
   },
   {
    "duration": 50,
    "start_time": "2022-06-05T20:45:30.820Z"
   },
   {
    "duration": 74,
    "start_time": "2022-06-05T20:45:30.873Z"
   },
   {
    "duration": 54,
    "start_time": "2022-06-05T20:45:30.949Z"
   },
   {
    "duration": 32,
    "start_time": "2022-06-05T20:45:31.006Z"
   },
   {
    "duration": 36,
    "start_time": "2022-06-05T20:45:31.041Z"
   },
   {
    "duration": 51,
    "start_time": "2022-06-05T20:45:31.079Z"
   },
   {
    "duration": 1351,
    "start_time": "2022-06-05T20:47:22.142Z"
   },
   {
    "duration": 16,
    "start_time": "2022-06-05T20:47:23.495Z"
   },
   {
    "duration": 99,
    "start_time": "2022-06-05T20:47:23.513Z"
   },
   {
    "duration": 32,
    "start_time": "2022-06-05T20:47:23.614Z"
   },
   {
    "duration": 11,
    "start_time": "2022-06-05T20:47:23.649Z"
   },
   {
    "duration": 21,
    "start_time": "2022-06-05T20:47:23.662Z"
   },
   {
    "duration": 34,
    "start_time": "2022-06-05T20:47:23.684Z"
   },
   {
    "duration": 42,
    "start_time": "2022-06-05T20:47:23.719Z"
   },
   {
    "duration": 11,
    "start_time": "2022-06-05T20:47:23.764Z"
   },
   {
    "duration": 27,
    "start_time": "2022-06-05T20:47:23.777Z"
   },
   {
    "duration": 9,
    "start_time": "2022-06-05T20:47:23.806Z"
   },
   {
    "duration": 12,
    "start_time": "2022-06-05T20:47:23.817Z"
   },
   {
    "duration": 30,
    "start_time": "2022-06-05T20:47:23.831Z"
   },
   {
    "duration": 316,
    "start_time": "2022-06-05T20:47:23.865Z"
   },
   {
    "duration": 11,
    "start_time": "2022-06-05T20:47:24.183Z"
   },
   {
    "duration": 165,
    "start_time": "2022-06-05T20:47:24.196Z"
   },
   {
    "duration": 18,
    "start_time": "2022-06-05T20:47:24.364Z"
   },
   {
    "duration": 21,
    "start_time": "2022-06-05T20:47:24.384Z"
   },
   {
    "duration": 219,
    "start_time": "2022-06-05T20:47:24.407Z"
   },
   {
    "duration": 21,
    "start_time": "2022-06-05T20:47:24.628Z"
   },
   {
    "duration": 40,
    "start_time": "2022-06-05T20:47:24.651Z"
   },
   {
    "duration": 17,
    "start_time": "2022-06-05T20:47:24.693Z"
   },
   {
    "duration": 49,
    "start_time": "2022-06-05T20:47:24.712Z"
   },
   {
    "duration": 183,
    "start_time": "2022-06-05T20:47:24.763Z"
   },
   {
    "duration": 23,
    "start_time": "2022-06-05T20:47:24.947Z"
   },
   {
    "duration": 41,
    "start_time": "2022-06-05T20:47:24.973Z"
   },
   {
    "duration": 38,
    "start_time": "2022-06-05T20:47:25.016Z"
   },
   {
    "duration": 202,
    "start_time": "2022-06-05T20:47:25.056Z"
   },
   {
    "duration": 680,
    "start_time": "2022-06-05T20:47:25.259Z"
   },
   {
    "duration": 12,
    "start_time": "2022-06-05T20:47:25.940Z"
   },
   {
    "duration": 34,
    "start_time": "2022-06-05T20:47:25.954Z"
   },
   {
    "duration": 12,
    "start_time": "2022-06-05T20:47:25.989Z"
   },
   {
    "duration": 38,
    "start_time": "2022-06-05T20:47:26.003Z"
   },
   {
    "duration": 17,
    "start_time": "2022-06-05T20:47:26.043Z"
   },
   {
    "duration": 7,
    "start_time": "2022-06-05T20:47:26.061Z"
   },
   {
    "duration": 19,
    "start_time": "2022-06-05T20:47:26.069Z"
   },
   {
    "duration": 12,
    "start_time": "2022-06-05T20:47:26.090Z"
   },
   {
    "duration": 17,
    "start_time": "2022-06-05T20:47:26.127Z"
   },
   {
    "duration": 25,
    "start_time": "2022-06-05T20:47:26.146Z"
   },
   {
    "duration": 130,
    "start_time": "2022-06-05T20:52:50.213Z"
   },
   {
    "duration": 1486,
    "start_time": "2022-06-05T20:52:59.910Z"
   },
   {
    "duration": 18,
    "start_time": "2022-06-05T20:53:01.399Z"
   },
   {
    "duration": 144,
    "start_time": "2022-06-05T20:53:01.420Z"
   },
   {
    "duration": 45,
    "start_time": "2022-06-05T20:53:01.568Z"
   },
   {
    "duration": 13,
    "start_time": "2022-06-05T20:53:01.615Z"
   },
   {
    "duration": 59,
    "start_time": "2022-06-05T20:53:01.630Z"
   },
   {
    "duration": 106,
    "start_time": "2022-06-05T20:53:01.691Z"
   },
   {
    "duration": 127,
    "start_time": "2022-06-05T20:53:01.799Z"
   },
   {
    "duration": 32,
    "start_time": "2022-06-05T20:53:01.928Z"
   },
   {
    "duration": 122,
    "start_time": "2022-06-05T20:53:01.963Z"
   },
   {
    "duration": 78,
    "start_time": "2022-06-05T20:53:02.087Z"
   },
   {
    "duration": 45,
    "start_time": "2022-06-05T20:53:02.167Z"
   },
   {
    "duration": 17,
    "start_time": "2022-06-05T20:53:02.213Z"
   },
   {
    "duration": 313,
    "start_time": "2022-06-05T20:53:02.232Z"
   },
   {
    "duration": 18,
    "start_time": "2022-06-05T20:53:02.548Z"
   },
   {
    "duration": 164,
    "start_time": "2022-06-05T20:53:02.568Z"
   },
   {
    "duration": 23,
    "start_time": "2022-06-05T20:53:02.734Z"
   },
   {
    "duration": 14,
    "start_time": "2022-06-05T20:53:02.759Z"
   },
   {
    "duration": 225,
    "start_time": "2022-06-05T20:53:02.775Z"
   },
   {
    "duration": 27,
    "start_time": "2022-06-05T20:53:03.002Z"
   },
   {
    "duration": 32,
    "start_time": "2022-06-05T20:53:03.031Z"
   },
   {
    "duration": 16,
    "start_time": "2022-06-05T20:53:03.065Z"
   },
   {
    "duration": 14,
    "start_time": "2022-06-05T20:53:03.084Z"
   },
   {
    "duration": 204,
    "start_time": "2022-06-05T20:53:03.101Z"
   },
   {
    "duration": 30,
    "start_time": "2022-06-05T20:53:03.306Z"
   },
   {
    "duration": 32,
    "start_time": "2022-06-05T20:53:03.338Z"
   },
   {
    "duration": 34,
    "start_time": "2022-06-05T20:53:03.372Z"
   },
   {
    "duration": 230,
    "start_time": "2022-06-05T20:53:03.410Z"
   },
   {
    "duration": 679,
    "start_time": "2022-06-05T20:53:03.643Z"
   },
   {
    "duration": 11,
    "start_time": "2022-06-05T20:53:04.324Z"
   },
   {
    "duration": 50,
    "start_time": "2022-06-05T20:53:04.337Z"
   },
   {
    "duration": 13,
    "start_time": "2022-06-05T20:53:04.390Z"
   },
   {
    "duration": 30,
    "start_time": "2022-06-05T20:53:04.405Z"
   },
   {
    "duration": 25,
    "start_time": "2022-06-05T20:53:04.440Z"
   },
   {
    "duration": 13,
    "start_time": "2022-06-05T20:53:04.467Z"
   },
   {
    "duration": 37,
    "start_time": "2022-06-05T20:53:04.484Z"
   },
   {
    "duration": 36,
    "start_time": "2022-06-05T20:53:04.523Z"
   },
   {
    "duration": 30,
    "start_time": "2022-06-05T20:53:04.561Z"
   },
   {
    "duration": 24,
    "start_time": "2022-06-05T20:53:04.593Z"
   },
   {
    "duration": 37,
    "start_time": "2022-06-05T20:53:04.619Z"
   },
   {
    "duration": 1465,
    "start_time": "2022-06-05T20:54:20.406Z"
   },
   {
    "duration": 365,
    "start_time": "2022-06-05T20:54:37.541Z"
   },
   {
    "duration": 1343,
    "start_time": "2022-06-05T20:55:28.342Z"
   },
   {
    "duration": 18,
    "start_time": "2022-06-05T20:55:29.687Z"
   },
   {
    "duration": 109,
    "start_time": "2022-06-05T20:55:29.707Z"
   },
   {
    "duration": 26,
    "start_time": "2022-06-05T20:55:29.818Z"
   },
   {
    "duration": 11,
    "start_time": "2022-06-05T20:55:29.846Z"
   },
   {
    "duration": 12,
    "start_time": "2022-06-05T20:55:29.858Z"
   },
   {
    "duration": 29,
    "start_time": "2022-06-05T20:55:29.872Z"
   },
   {
    "duration": 31,
    "start_time": "2022-06-05T20:55:29.903Z"
   },
   {
    "duration": 20,
    "start_time": "2022-06-05T20:55:29.937Z"
   },
   {
    "duration": 28,
    "start_time": "2022-06-05T20:55:29.961Z"
   },
   {
    "duration": 10,
    "start_time": "2022-06-05T20:55:29.991Z"
   },
   {
    "duration": 10,
    "start_time": "2022-06-05T20:55:30.027Z"
   },
   {
    "duration": 16,
    "start_time": "2022-06-05T20:55:30.041Z"
   },
   {
    "duration": 270,
    "start_time": "2022-06-05T20:55:30.059Z"
   },
   {
    "duration": 12,
    "start_time": "2022-06-05T20:55:30.346Z"
   },
   {
    "duration": 195,
    "start_time": "2022-06-05T20:55:30.360Z"
   },
   {
    "duration": 20,
    "start_time": "2022-06-05T20:55:30.557Z"
   },
   {
    "duration": 26,
    "start_time": "2022-06-05T20:55:30.578Z"
   },
   {
    "duration": 173,
    "start_time": "2022-06-05T20:55:30.605Z"
   },
   {
    "duration": 13,
    "start_time": "2022-06-05T20:55:30.780Z"
   },
   {
    "duration": 56,
    "start_time": "2022-06-05T20:55:30.796Z"
   },
   {
    "duration": 5,
    "start_time": "2022-06-05T20:55:30.854Z"
   },
   {
    "duration": 12,
    "start_time": "2022-06-05T20:55:30.861Z"
   },
   {
    "duration": 183,
    "start_time": "2022-06-05T20:55:30.875Z"
   },
   {
    "duration": 22,
    "start_time": "2022-06-05T20:55:31.060Z"
   },
   {
    "duration": 62,
    "start_time": "2022-06-05T20:55:31.084Z"
   },
   {
    "duration": 45,
    "start_time": "2022-06-05T20:55:31.149Z"
   },
   {
    "duration": 205,
    "start_time": "2022-06-05T20:55:31.198Z"
   },
   {
    "duration": 473,
    "start_time": "2022-06-05T20:55:31.405Z"
   },
   {
    "duration": 11,
    "start_time": "2022-06-05T20:55:31.879Z"
   },
   {
    "duration": 53,
    "start_time": "2022-06-05T20:55:31.891Z"
   },
   {
    "duration": 28,
    "start_time": "2022-06-05T20:55:31.946Z"
   },
   {
    "duration": 22,
    "start_time": "2022-06-05T20:55:31.976Z"
   },
   {
    "duration": 33,
    "start_time": "2022-06-05T20:55:31.999Z"
   },
   {
    "duration": 31,
    "start_time": "2022-06-05T20:55:32.034Z"
   },
   {
    "duration": 25,
    "start_time": "2022-06-05T20:55:32.067Z"
   },
   {
    "duration": 15,
    "start_time": "2022-06-05T20:55:32.094Z"
   },
   {
    "duration": 34,
    "start_time": "2022-06-05T20:55:32.111Z"
   },
   {
    "duration": 39,
    "start_time": "2022-06-05T20:55:32.147Z"
   },
   {
    "duration": 23,
    "start_time": "2022-06-05T20:55:32.187Z"
   },
   {
    "duration": 64,
    "start_time": "2022-06-05T20:55:32.211Z"
   },
   {
    "duration": 1407,
    "start_time": "2022-06-05T20:55:53.273Z"
   },
   {
    "duration": 15,
    "start_time": "2022-06-05T20:55:54.682Z"
   },
   {
    "duration": 100,
    "start_time": "2022-06-05T20:55:54.699Z"
   },
   {
    "duration": 27,
    "start_time": "2022-06-05T20:55:54.801Z"
   },
   {
    "duration": 12,
    "start_time": "2022-06-05T20:55:54.830Z"
   },
   {
    "duration": 18,
    "start_time": "2022-06-05T20:55:54.843Z"
   },
   {
    "duration": 36,
    "start_time": "2022-06-05T20:55:54.863Z"
   },
   {
    "duration": 25,
    "start_time": "2022-06-05T20:55:54.902Z"
   },
   {
    "duration": 17,
    "start_time": "2022-06-05T20:55:54.929Z"
   },
   {
    "duration": 23,
    "start_time": "2022-06-05T20:55:54.949Z"
   },
   {
    "duration": 9,
    "start_time": "2022-06-05T20:55:54.973Z"
   },
   {
    "duration": 6,
    "start_time": "2022-06-05T20:55:54.983Z"
   },
   {
    "duration": 10,
    "start_time": "2022-06-05T20:55:54.991Z"
   },
   {
    "duration": 307,
    "start_time": "2022-06-05T20:55:55.026Z"
   },
   {
    "duration": 18,
    "start_time": "2022-06-05T20:55:55.335Z"
   },
   {
    "duration": 192,
    "start_time": "2022-06-05T20:55:55.355Z"
   },
   {
    "duration": 20,
    "start_time": "2022-06-05T20:55:55.548Z"
   },
   {
    "duration": 9,
    "start_time": "2022-06-05T20:55:55.570Z"
   },
   {
    "duration": 185,
    "start_time": "2022-06-05T20:55:55.580Z"
   },
   {
    "duration": 15,
    "start_time": "2022-06-05T20:55:55.767Z"
   },
   {
    "duration": 15,
    "start_time": "2022-06-05T20:55:55.783Z"
   },
   {
    "duration": 5,
    "start_time": "2022-06-05T20:55:55.800Z"
   },
   {
    "duration": 13,
    "start_time": "2022-06-05T20:55:55.829Z"
   },
   {
    "duration": 187,
    "start_time": "2022-06-05T20:55:55.844Z"
   },
   {
    "duration": 24,
    "start_time": "2022-06-05T20:55:56.034Z"
   },
   {
    "duration": 23,
    "start_time": "2022-06-05T20:55:56.059Z"
   },
   {
    "duration": 44,
    "start_time": "2022-06-05T20:55:56.083Z"
   },
   {
    "duration": 195,
    "start_time": "2022-06-05T20:55:56.132Z"
   },
   {
    "duration": 389,
    "start_time": "2022-06-05T20:55:56.329Z"
   },
   {
    "duration": 10,
    "start_time": "2022-06-05T20:55:56.720Z"
   },
   {
    "duration": 47,
    "start_time": "2022-06-05T20:55:56.732Z"
   },
   {
    "duration": 10,
    "start_time": "2022-06-05T20:55:56.781Z"
   },
   {
    "duration": 15,
    "start_time": "2022-06-05T20:55:56.793Z"
   },
   {
    "duration": 26,
    "start_time": "2022-06-05T20:55:56.809Z"
   },
   {
    "duration": 21,
    "start_time": "2022-06-05T20:55:56.837Z"
   },
   {
    "duration": 16,
    "start_time": "2022-06-05T20:55:56.859Z"
   },
   {
    "duration": 15,
    "start_time": "2022-06-05T20:55:56.877Z"
   },
   {
    "duration": 13,
    "start_time": "2022-06-05T20:55:56.894Z"
   },
   {
    "duration": 33,
    "start_time": "2022-06-05T20:55:56.909Z"
   },
   {
    "duration": 20,
    "start_time": "2022-06-05T20:55:56.946Z"
   },
   {
    "duration": 26,
    "start_time": "2022-06-05T20:55:56.967Z"
   },
   {
    "duration": 138,
    "start_time": "2022-06-05T20:57:31.258Z"
   },
   {
    "duration": 1337,
    "start_time": "2022-06-05T20:58:07.723Z"
   },
   {
    "duration": 20,
    "start_time": "2022-06-05T20:58:09.062Z"
   },
   {
    "duration": 114,
    "start_time": "2022-06-05T20:58:09.084Z"
   },
   {
    "duration": 28,
    "start_time": "2022-06-05T20:58:09.201Z"
   },
   {
    "duration": 19,
    "start_time": "2022-06-05T20:58:09.230Z"
   },
   {
    "duration": 14,
    "start_time": "2022-06-05T20:58:09.251Z"
   },
   {
    "duration": 32,
    "start_time": "2022-06-05T20:58:09.266Z"
   },
   {
    "duration": 30,
    "start_time": "2022-06-05T20:58:09.299Z"
   },
   {
    "duration": 18,
    "start_time": "2022-06-05T20:58:09.332Z"
   },
   {
    "duration": 26,
    "start_time": "2022-06-05T20:58:09.353Z"
   },
   {
    "duration": 8,
    "start_time": "2022-06-05T20:58:09.381Z"
   },
   {
    "duration": 9,
    "start_time": "2022-06-05T20:58:09.391Z"
   },
   {
    "duration": 30,
    "start_time": "2022-06-05T20:58:09.401Z"
   },
   {
    "duration": 281,
    "start_time": "2022-06-05T20:58:09.432Z"
   },
   {
    "duration": 22,
    "start_time": "2022-06-05T20:58:09.715Z"
   },
   {
    "duration": 146,
    "start_time": "2022-06-05T20:58:09.744Z"
   },
   {
    "duration": 21,
    "start_time": "2022-06-05T20:58:09.892Z"
   },
   {
    "duration": 30,
    "start_time": "2022-06-05T20:58:09.914Z"
   },
   {
    "duration": 155,
    "start_time": "2022-06-05T20:58:09.946Z"
   },
   {
    "duration": 15,
    "start_time": "2022-06-05T20:58:10.103Z"
   },
   {
    "duration": 22,
    "start_time": "2022-06-05T20:58:10.130Z"
   },
   {
    "duration": 11,
    "start_time": "2022-06-05T20:58:10.153Z"
   },
   {
    "duration": 13,
    "start_time": "2022-06-05T20:58:10.165Z"
   },
   {
    "duration": 188,
    "start_time": "2022-06-05T20:58:10.180Z"
   },
   {
    "duration": 22,
    "start_time": "2022-06-05T20:58:10.370Z"
   },
   {
    "duration": 43,
    "start_time": "2022-06-05T20:58:10.394Z"
   },
   {
    "duration": 27,
    "start_time": "2022-06-05T20:58:10.440Z"
   },
   {
    "duration": 207,
    "start_time": "2022-06-05T20:58:10.471Z"
   },
   {
    "duration": 465,
    "start_time": "2022-06-05T20:58:10.679Z"
   },
   {
    "duration": 7,
    "start_time": "2022-06-05T20:58:11.146Z"
   },
   {
    "duration": 33,
    "start_time": "2022-06-05T20:58:11.155Z"
   },
   {
    "duration": 9,
    "start_time": "2022-06-05T20:58:11.190Z"
   },
   {
    "duration": 44,
    "start_time": "2022-06-05T20:58:11.200Z"
   },
   {
    "duration": 13,
    "start_time": "2022-06-05T20:58:11.246Z"
   },
   {
    "duration": 9,
    "start_time": "2022-06-05T20:58:11.261Z"
   },
   {
    "duration": 17,
    "start_time": "2022-06-05T20:58:11.271Z"
   },
   {
    "duration": 15,
    "start_time": "2022-06-05T20:58:11.290Z"
   },
   {
    "duration": 32,
    "start_time": "2022-06-05T20:58:11.306Z"
   },
   {
    "duration": 19,
    "start_time": "2022-06-05T20:58:11.340Z"
   },
   {
    "duration": 9,
    "start_time": "2022-06-05T20:58:11.361Z"
   },
   {
    "duration": 45,
    "start_time": "2022-06-05T20:58:11.372Z"
   },
   {
    "duration": 1389,
    "start_time": "2022-06-05T20:58:34.149Z"
   },
   {
    "duration": 16,
    "start_time": "2022-06-05T20:58:35.540Z"
   },
   {
    "duration": 93,
    "start_time": "2022-06-05T20:58:35.557Z"
   },
   {
    "duration": 18,
    "start_time": "2022-06-05T20:58:35.652Z"
   },
   {
    "duration": 8,
    "start_time": "2022-06-05T20:58:35.672Z"
   },
   {
    "duration": 17,
    "start_time": "2022-06-05T20:58:35.682Z"
   },
   {
    "duration": 49,
    "start_time": "2022-06-05T20:58:35.701Z"
   },
   {
    "duration": 16,
    "start_time": "2022-06-05T20:58:35.752Z"
   },
   {
    "duration": 12,
    "start_time": "2022-06-05T20:58:35.769Z"
   },
   {
    "duration": 21,
    "start_time": "2022-06-05T20:58:35.783Z"
   },
   {
    "duration": 13,
    "start_time": "2022-06-05T20:58:35.829Z"
   },
   {
    "duration": 8,
    "start_time": "2022-06-05T20:58:35.843Z"
   },
   {
    "duration": 9,
    "start_time": "2022-06-05T20:58:35.853Z"
   },
   {
    "duration": 314,
    "start_time": "2022-06-05T20:58:35.863Z"
   },
   {
    "duration": 13,
    "start_time": "2022-06-05T20:58:36.179Z"
   },
   {
    "duration": 164,
    "start_time": "2022-06-05T20:58:36.194Z"
   },
   {
    "duration": 20,
    "start_time": "2022-06-05T20:58:36.360Z"
   },
   {
    "duration": 12,
    "start_time": "2022-06-05T20:58:36.382Z"
   },
   {
    "duration": 187,
    "start_time": "2022-06-05T20:58:36.395Z"
   },
   {
    "duration": 15,
    "start_time": "2022-06-05T20:58:36.584Z"
   },
   {
    "duration": 40,
    "start_time": "2022-06-05T20:58:36.600Z"
   },
   {
    "duration": 4,
    "start_time": "2022-06-05T20:58:36.643Z"
   },
   {
    "duration": 11,
    "start_time": "2022-06-05T20:58:36.649Z"
   },
   {
    "duration": 185,
    "start_time": "2022-06-05T20:58:36.662Z"
   },
   {
    "duration": 23,
    "start_time": "2022-06-05T20:58:36.848Z"
   },
   {
    "duration": 27,
    "start_time": "2022-06-05T20:58:36.873Z"
   },
   {
    "duration": 43,
    "start_time": "2022-06-05T20:58:36.901Z"
   },
   {
    "duration": 227,
    "start_time": "2022-06-05T20:58:36.949Z"
   },
   {
    "duration": 376,
    "start_time": "2022-06-05T20:58:37.177Z"
   },
   {
    "duration": 8,
    "start_time": "2022-06-05T20:58:37.554Z"
   },
   {
    "duration": 56,
    "start_time": "2022-06-05T20:58:37.564Z"
   },
   {
    "duration": 21,
    "start_time": "2022-06-05T20:58:37.622Z"
   },
   {
    "duration": 25,
    "start_time": "2022-06-05T20:58:37.645Z"
   },
   {
    "duration": 20,
    "start_time": "2022-06-05T20:58:37.671Z"
   },
   {
    "duration": 13,
    "start_time": "2022-06-05T20:58:37.693Z"
   },
   {
    "duration": 21,
    "start_time": "2022-06-05T20:58:37.708Z"
   },
   {
    "duration": 23,
    "start_time": "2022-06-05T20:58:37.730Z"
   },
   {
    "duration": 12,
    "start_time": "2022-06-05T20:58:37.754Z"
   },
   {
    "duration": 16,
    "start_time": "2022-06-05T20:58:37.768Z"
   },
   {
    "duration": 16,
    "start_time": "2022-06-05T20:58:37.785Z"
   },
   {
    "duration": 45,
    "start_time": "2022-06-05T20:58:37.803Z"
   },
   {
    "duration": 131,
    "start_time": "2022-06-05T20:59:04.454Z"
   },
   {
    "duration": 1327,
    "start_time": "2022-06-05T20:59:09.780Z"
   },
   {
    "duration": 37,
    "start_time": "2022-06-05T20:59:11.110Z"
   },
   {
    "duration": 116,
    "start_time": "2022-06-05T20:59:11.151Z"
   },
   {
    "duration": 19,
    "start_time": "2022-06-05T20:59:11.269Z"
   },
   {
    "duration": 9,
    "start_time": "2022-06-05T20:59:11.289Z"
   },
   {
    "duration": 34,
    "start_time": "2022-06-05T20:59:11.299Z"
   },
   {
    "duration": 61,
    "start_time": "2022-06-05T20:59:11.335Z"
   },
   {
    "duration": 35,
    "start_time": "2022-06-05T20:59:11.398Z"
   },
   {
    "duration": 27,
    "start_time": "2022-06-05T20:59:11.439Z"
   },
   {
    "duration": 33,
    "start_time": "2022-06-05T20:59:11.470Z"
   },
   {
    "duration": 12,
    "start_time": "2022-06-05T20:59:11.505Z"
   },
   {
    "duration": 50,
    "start_time": "2022-06-05T20:59:11.519Z"
   },
   {
    "duration": 14,
    "start_time": "2022-06-05T20:59:11.570Z"
   },
   {
    "duration": 307,
    "start_time": "2022-06-05T20:59:11.586Z"
   },
   {
    "duration": 14,
    "start_time": "2022-06-05T20:59:11.895Z"
   },
   {
    "duration": 246,
    "start_time": "2022-06-05T20:59:11.911Z"
   },
   {
    "duration": 23,
    "start_time": "2022-06-05T20:59:12.161Z"
   },
   {
    "duration": 18,
    "start_time": "2022-06-05T20:59:12.186Z"
   },
   {
    "duration": 224,
    "start_time": "2022-06-05T20:59:12.205Z"
   },
   {
    "duration": 19,
    "start_time": "2022-06-05T20:59:12.430Z"
   },
   {
    "duration": 118,
    "start_time": "2022-06-05T20:59:12.451Z"
   },
   {
    "duration": 14,
    "start_time": "2022-06-05T20:59:12.571Z"
   },
   {
    "duration": 23,
    "start_time": "2022-06-05T20:59:12.587Z"
   },
   {
    "duration": 234,
    "start_time": "2022-06-05T20:59:12.612Z"
   },
   {
    "duration": 38,
    "start_time": "2022-06-05T20:59:12.849Z"
   },
   {
    "duration": 28,
    "start_time": "2022-06-05T20:59:12.889Z"
   },
   {
    "duration": 50,
    "start_time": "2022-06-05T20:59:12.919Z"
   },
   {
    "duration": 224,
    "start_time": "2022-06-05T20:59:12.973Z"
   },
   {
    "duration": 460,
    "start_time": "2022-06-05T20:59:13.199Z"
   },
   {
    "duration": 7,
    "start_time": "2022-06-05T20:59:13.661Z"
   },
   {
    "duration": 43,
    "start_time": "2022-06-05T20:59:13.670Z"
   },
   {
    "duration": 18,
    "start_time": "2022-06-05T20:59:13.715Z"
   },
   {
    "duration": 26,
    "start_time": "2022-06-05T20:59:13.738Z"
   },
   {
    "duration": 19,
    "start_time": "2022-06-05T20:59:13.766Z"
   },
   {
    "duration": 6,
    "start_time": "2022-06-05T20:59:13.786Z"
   },
   {
    "duration": 17,
    "start_time": "2022-06-05T20:59:13.794Z"
   },
   {
    "duration": 17,
    "start_time": "2022-06-05T20:59:13.813Z"
   },
   {
    "duration": 22,
    "start_time": "2022-06-05T20:59:13.831Z"
   },
   {
    "duration": 13,
    "start_time": "2022-06-05T20:59:13.854Z"
   },
   {
    "duration": 11,
    "start_time": "2022-06-05T20:59:13.868Z"
   },
   {
    "duration": 28,
    "start_time": "2022-06-05T20:59:13.881Z"
   },
   {
    "duration": 1807,
    "start_time": "2022-06-06T11:03:19.317Z"
   },
   {
    "duration": 26,
    "start_time": "2022-06-06T11:03:21.127Z"
   },
   {
    "duration": 91,
    "start_time": "2022-06-06T11:03:21.157Z"
   },
   {
    "duration": 20,
    "start_time": "2022-06-06T11:03:21.251Z"
   },
   {
    "duration": 16,
    "start_time": "2022-06-06T11:03:21.291Z"
   },
   {
    "duration": 16,
    "start_time": "2022-06-06T11:03:21.309Z"
   },
   {
    "duration": 38,
    "start_time": "2022-06-06T11:03:21.327Z"
   },
   {
    "duration": 30,
    "start_time": "2022-06-06T11:03:21.367Z"
   },
   {
    "duration": 16,
    "start_time": "2022-06-06T11:03:21.399Z"
   },
   {
    "duration": 33,
    "start_time": "2022-06-06T11:03:21.419Z"
   },
   {
    "duration": 10,
    "start_time": "2022-06-06T11:03:21.453Z"
   },
   {
    "duration": 16,
    "start_time": "2022-06-06T11:03:21.492Z"
   },
   {
    "duration": 12,
    "start_time": "2022-06-06T11:03:21.510Z"
   },
   {
    "duration": 382,
    "start_time": "2022-06-06T11:03:21.524Z"
   },
   {
    "duration": 20,
    "start_time": "2022-06-06T11:03:21.908Z"
   },
   {
    "duration": 215,
    "start_time": "2022-06-06T11:03:21.930Z"
   },
   {
    "duration": 31,
    "start_time": "2022-06-06T11:03:22.147Z"
   },
   {
    "duration": 22,
    "start_time": "2022-06-06T11:03:22.200Z"
   },
   {
    "duration": 229,
    "start_time": "2022-06-06T11:03:22.224Z"
   },
   {
    "duration": 38,
    "start_time": "2022-06-06T11:03:22.456Z"
   },
   {
    "duration": 30,
    "start_time": "2022-06-06T11:03:22.496Z"
   },
   {
    "duration": 14,
    "start_time": "2022-06-06T11:03:22.528Z"
   },
   {
    "duration": 16,
    "start_time": "2022-06-06T11:03:22.544Z"
   },
   {
    "duration": 358,
    "start_time": "2022-06-06T11:03:22.562Z"
   },
   {
    "duration": 90,
    "start_time": "2022-06-06T11:03:22.922Z"
   },
   {
    "duration": 100,
    "start_time": "2022-06-06T11:03:23.015Z"
   },
   {
    "duration": 94,
    "start_time": "2022-06-06T11:03:23.117Z"
   },
   {
    "duration": 583,
    "start_time": "2022-06-06T11:03:23.216Z"
   },
   {
    "duration": 585,
    "start_time": "2022-06-06T11:03:23.802Z"
   },
   {
    "duration": 19,
    "start_time": "2022-06-06T11:03:24.394Z"
   },
   {
    "duration": 47,
    "start_time": "2022-06-06T11:03:24.415Z"
   },
   {
    "duration": 13,
    "start_time": "2022-06-06T11:03:24.464Z"
   },
   {
    "duration": 41,
    "start_time": "2022-06-06T11:03:24.479Z"
   },
   {
    "duration": 25,
    "start_time": "2022-06-06T11:03:24.522Z"
   },
   {
    "duration": 9,
    "start_time": "2022-06-06T11:03:24.550Z"
   },
   {
    "duration": 35,
    "start_time": "2022-06-06T11:03:24.561Z"
   },
   {
    "duration": 28,
    "start_time": "2022-06-06T11:03:24.605Z"
   },
   {
    "duration": 22,
    "start_time": "2022-06-06T11:03:24.635Z"
   },
   {
    "duration": 17,
    "start_time": "2022-06-06T11:03:24.659Z"
   },
   {
    "duration": 52,
    "start_time": "2022-06-06T11:03:24.678Z"
   },
   {
    "duration": 45,
    "start_time": "2022-06-06T11:03:24.733Z"
   },
   {
    "duration": 292,
    "start_time": "2022-06-06T11:17:44.636Z"
   },
   {
    "duration": 1838,
    "start_time": "2022-06-07T16:33:44.891Z"
   },
   {
    "duration": 16,
    "start_time": "2022-06-07T16:33:46.731Z"
   },
   {
    "duration": 104,
    "start_time": "2022-06-07T16:33:46.748Z"
   },
   {
    "duration": 18,
    "start_time": "2022-06-07T16:33:46.855Z"
   },
   {
    "duration": 8,
    "start_time": "2022-06-07T16:33:46.875Z"
   },
   {
    "duration": 11,
    "start_time": "2022-06-07T16:33:46.885Z"
   },
   {
    "duration": 48,
    "start_time": "2022-06-07T16:33:46.897Z"
   },
   {
    "duration": 15,
    "start_time": "2022-06-07T16:33:46.947Z"
   },
   {
    "duration": 12,
    "start_time": "2022-06-07T16:33:46.963Z"
   },
   {
    "duration": 20,
    "start_time": "2022-06-07T16:33:46.978Z"
   },
   {
    "duration": 36,
    "start_time": "2022-06-07T16:33:46.999Z"
   },
   {
    "duration": 9,
    "start_time": "2022-06-07T16:33:47.036Z"
   },
   {
    "duration": 14,
    "start_time": "2022-06-07T16:33:47.046Z"
   },
   {
    "duration": 291,
    "start_time": "2022-06-07T16:33:47.062Z"
   },
   {
    "duration": 11,
    "start_time": "2022-06-07T16:33:47.355Z"
   },
   {
    "duration": 153,
    "start_time": "2022-06-07T16:33:47.368Z"
   },
   {
    "duration": 19,
    "start_time": "2022-06-07T16:33:47.523Z"
   },
   {
    "duration": 9,
    "start_time": "2022-06-07T16:33:47.544Z"
   },
   {
    "duration": 166,
    "start_time": "2022-06-07T16:33:47.555Z"
   },
   {
    "duration": 16,
    "start_time": "2022-06-07T16:33:47.726Z"
   },
   {
    "duration": 25,
    "start_time": "2022-06-07T16:33:47.743Z"
   },
   {
    "duration": 9,
    "start_time": "2022-06-07T16:33:47.770Z"
   },
   {
    "duration": 13,
    "start_time": "2022-06-07T16:33:47.781Z"
   },
   {
    "duration": 184,
    "start_time": "2022-06-07T16:33:47.796Z"
   },
   {
    "duration": 21,
    "start_time": "2022-06-07T16:33:47.982Z"
   },
   {
    "duration": 35,
    "start_time": "2022-06-07T16:33:48.005Z"
   },
   {
    "duration": 40,
    "start_time": "2022-06-07T16:33:48.042Z"
   },
   {
    "duration": 188,
    "start_time": "2022-06-07T16:33:48.086Z"
   },
   {
    "duration": 634,
    "start_time": "2022-06-07T16:33:48.276Z"
   },
   {
    "duration": 9,
    "start_time": "2022-06-07T16:33:48.912Z"
   },
   {
    "duration": 38,
    "start_time": "2022-06-07T16:33:48.923Z"
   },
   {
    "duration": 10,
    "start_time": "2022-06-07T16:33:48.963Z"
   },
   {
    "duration": 14,
    "start_time": "2022-06-07T16:33:48.975Z"
   },
   {
    "duration": 18,
    "start_time": "2022-06-07T16:33:48.991Z"
   },
   {
    "duration": 21,
    "start_time": "2022-06-07T16:33:49.010Z"
   },
   {
    "duration": 22,
    "start_time": "2022-06-07T16:33:49.033Z"
   },
   {
    "duration": 19,
    "start_time": "2022-06-07T16:33:49.057Z"
   },
   {
    "duration": 13,
    "start_time": "2022-06-07T16:33:49.078Z"
   },
   {
    "duration": 11,
    "start_time": "2022-06-07T16:33:49.093Z"
   },
   {
    "duration": 270,
    "start_time": "2022-06-07T16:33:49.106Z"
   },
   {
    "duration": 0,
    "start_time": "2022-06-07T16:33:49.378Z"
   },
   {
    "duration": 0,
    "start_time": "2022-06-07T16:33:49.380Z"
   },
   {
    "duration": 1413,
    "start_time": "2022-06-07T16:36:04.672Z"
   },
   {
    "duration": 21,
    "start_time": "2022-06-07T16:36:06.087Z"
   },
   {
    "duration": 128,
    "start_time": "2022-06-07T16:36:06.109Z"
   },
   {
    "duration": 29,
    "start_time": "2022-06-07T16:36:06.239Z"
   },
   {
    "duration": 9,
    "start_time": "2022-06-07T16:36:06.271Z"
   },
   {
    "duration": 18,
    "start_time": "2022-06-07T16:36:06.282Z"
   },
   {
    "duration": 52,
    "start_time": "2022-06-07T16:36:06.302Z"
   },
   {
    "duration": 20,
    "start_time": "2022-06-07T16:36:06.357Z"
   },
   {
    "duration": 13,
    "start_time": "2022-06-07T16:36:06.379Z"
   },
   {
    "duration": 52,
    "start_time": "2022-06-07T16:36:06.396Z"
   },
   {
    "duration": 11,
    "start_time": "2022-06-07T16:36:06.449Z"
   },
   {
    "duration": 23,
    "start_time": "2022-06-07T16:36:06.463Z"
   },
   {
    "duration": 12,
    "start_time": "2022-06-07T16:36:06.488Z"
   },
   {
    "duration": 308,
    "start_time": "2022-06-07T16:36:06.502Z"
   },
   {
    "duration": 14,
    "start_time": "2022-06-07T16:36:06.812Z"
   },
   {
    "duration": 230,
    "start_time": "2022-06-07T16:36:06.828Z"
   },
   {
    "duration": 28,
    "start_time": "2022-06-07T16:36:07.060Z"
   },
   {
    "duration": 16,
    "start_time": "2022-06-07T16:36:07.090Z"
   },
   {
    "duration": 201,
    "start_time": "2022-06-07T16:36:07.127Z"
   },
   {
    "duration": 20,
    "start_time": "2022-06-07T16:36:07.329Z"
   },
   {
    "duration": 23,
    "start_time": "2022-06-07T16:36:07.352Z"
   },
   {
    "duration": 38,
    "start_time": "2022-06-07T16:36:07.377Z"
   },
   {
    "duration": 47,
    "start_time": "2022-06-07T16:36:07.418Z"
   },
   {
    "duration": 207,
    "start_time": "2022-06-07T16:36:07.468Z"
   },
   {
    "duration": 23,
    "start_time": "2022-06-07T16:36:07.678Z"
   },
   {
    "duration": 41,
    "start_time": "2022-06-07T16:36:07.704Z"
   },
   {
    "duration": 25,
    "start_time": "2022-06-07T16:36:07.747Z"
   },
   {
    "duration": 220,
    "start_time": "2022-06-07T16:36:07.777Z"
   },
   {
    "duration": 422,
    "start_time": "2022-06-07T16:36:07.999Z"
   },
   {
    "duration": 8,
    "start_time": "2022-06-07T16:36:08.423Z"
   },
   {
    "duration": 44,
    "start_time": "2022-06-07T16:36:08.432Z"
   },
   {
    "duration": 12,
    "start_time": "2022-06-07T16:36:08.478Z"
   },
   {
    "duration": 14,
    "start_time": "2022-06-07T16:36:08.492Z"
   },
   {
    "duration": 35,
    "start_time": "2022-06-07T16:36:08.508Z"
   },
   {
    "duration": 8,
    "start_time": "2022-06-07T16:36:08.545Z"
   },
   {
    "duration": 25,
    "start_time": "2022-06-07T16:36:08.554Z"
   },
   {
    "duration": 19,
    "start_time": "2022-06-07T16:36:08.581Z"
   },
   {
    "duration": 36,
    "start_time": "2022-06-07T16:36:08.602Z"
   },
   {
    "duration": 7,
    "start_time": "2022-06-07T16:36:08.640Z"
   },
   {
    "duration": 284,
    "start_time": "2022-06-07T16:36:08.648Z"
   },
   {
    "duration": 0,
    "start_time": "2022-06-07T16:36:08.934Z"
   },
   {
    "duration": 0,
    "start_time": "2022-06-07T16:36:08.936Z"
   },
   {
    "duration": 1488,
    "start_time": "2022-06-07T16:38:01.919Z"
   },
   {
    "duration": 17,
    "start_time": "2022-06-07T16:38:03.410Z"
   },
   {
    "duration": 100,
    "start_time": "2022-06-07T16:38:03.429Z"
   },
   {
    "duration": 26,
    "start_time": "2022-06-07T16:38:03.531Z"
   },
   {
    "duration": 8,
    "start_time": "2022-06-07T16:38:03.559Z"
   },
   {
    "duration": 27,
    "start_time": "2022-06-07T16:38:03.569Z"
   },
   {
    "duration": 63,
    "start_time": "2022-06-07T16:38:03.598Z"
   },
   {
    "duration": 41,
    "start_time": "2022-06-07T16:38:03.663Z"
   },
   {
    "duration": 12,
    "start_time": "2022-06-07T16:38:03.706Z"
   },
   {
    "duration": 31,
    "start_time": "2022-06-07T16:38:03.721Z"
   },
   {
    "duration": 12,
    "start_time": "2022-06-07T16:38:03.754Z"
   },
   {
    "duration": 29,
    "start_time": "2022-06-07T16:38:03.767Z"
   },
   {
    "duration": 19,
    "start_time": "2022-06-07T16:38:03.798Z"
   },
   {
    "duration": 309,
    "start_time": "2022-06-07T16:38:03.819Z"
   },
   {
    "duration": 16,
    "start_time": "2022-06-07T16:38:04.131Z"
   },
   {
    "duration": 169,
    "start_time": "2022-06-07T16:38:04.149Z"
   },
   {
    "duration": 22,
    "start_time": "2022-06-07T16:38:04.320Z"
   },
   {
    "duration": 18,
    "start_time": "2022-06-07T16:38:04.344Z"
   },
   {
    "duration": 256,
    "start_time": "2022-06-07T16:38:04.364Z"
   },
   {
    "duration": 19,
    "start_time": "2022-06-07T16:38:04.625Z"
   },
   {
    "duration": 38,
    "start_time": "2022-06-07T16:38:04.648Z"
   },
   {
    "duration": 16,
    "start_time": "2022-06-07T16:38:04.688Z"
   },
   {
    "duration": 35,
    "start_time": "2022-06-07T16:38:04.706Z"
   },
   {
    "duration": 224,
    "start_time": "2022-06-07T16:38:04.743Z"
   },
   {
    "duration": 34,
    "start_time": "2022-06-07T16:38:04.969Z"
   },
   {
    "duration": 48,
    "start_time": "2022-06-07T16:38:05.005Z"
   },
   {
    "duration": 43,
    "start_time": "2022-06-07T16:38:05.056Z"
   },
   {
    "duration": 261,
    "start_time": "2022-06-07T16:38:05.104Z"
   },
   {
    "duration": 646,
    "start_time": "2022-06-07T16:38:05.367Z"
   },
   {
    "duration": 11,
    "start_time": "2022-06-07T16:38:06.015Z"
   },
   {
    "duration": 71,
    "start_time": "2022-06-07T16:38:06.028Z"
   },
   {
    "duration": 15,
    "start_time": "2022-06-07T16:38:06.102Z"
   },
   {
    "duration": 28,
    "start_time": "2022-06-07T16:38:06.119Z"
   },
   {
    "duration": 30,
    "start_time": "2022-06-07T16:38:06.149Z"
   },
   {
    "duration": 18,
    "start_time": "2022-06-07T16:38:06.180Z"
   },
   {
    "duration": 41,
    "start_time": "2022-06-07T16:38:06.200Z"
   },
   {
    "duration": 43,
    "start_time": "2022-06-07T16:38:06.248Z"
   },
   {
    "duration": 28,
    "start_time": "2022-06-07T16:38:06.293Z"
   },
   {
    "duration": 30,
    "start_time": "2022-06-07T16:38:06.322Z"
   },
   {
    "duration": 273,
    "start_time": "2022-06-07T16:38:06.354Z"
   },
   {
    "duration": 0,
    "start_time": "2022-06-07T16:38:06.629Z"
   },
   {
    "duration": 0,
    "start_time": "2022-06-07T16:38:06.630Z"
   },
   {
    "duration": 22,
    "start_time": "2022-06-07T16:38:41.491Z"
   },
   {
    "duration": 18,
    "start_time": "2022-06-07T16:39:02.946Z"
   },
   {
    "duration": 203,
    "start_time": "2022-06-07T16:39:10.852Z"
   },
   {
    "duration": 446,
    "start_time": "2022-06-07T16:39:16.582Z"
   },
   {
    "duration": 13,
    "start_time": "2022-06-07T16:39:24.571Z"
   },
   {
    "duration": 35,
    "start_time": "2022-06-07T16:39:28.690Z"
   },
   {
    "duration": 11,
    "start_time": "2022-06-07T16:39:34.064Z"
   },
   {
    "duration": 12,
    "start_time": "2022-06-07T16:39:37.399Z"
   },
   {
    "duration": 18,
    "start_time": "2022-06-07T16:39:42.231Z"
   },
   {
    "duration": 7,
    "start_time": "2022-06-07T16:39:51.857Z"
   },
   {
    "duration": 17,
    "start_time": "2022-06-07T16:40:03.320Z"
   },
   {
    "duration": 14,
    "start_time": "2022-06-07T16:41:19.967Z"
   },
   {
    "duration": 14,
    "start_time": "2022-06-07T16:41:46.791Z"
   },
   {
    "duration": 10,
    "start_time": "2022-06-07T16:41:51.705Z"
   },
   {
    "duration": 12,
    "start_time": "2022-06-07T16:43:17.701Z"
   },
   {
    "duration": 1396,
    "start_time": "2022-06-07T16:45:24.453Z"
   },
   {
    "duration": 15,
    "start_time": "2022-06-07T16:45:25.851Z"
   },
   {
    "duration": 104,
    "start_time": "2022-06-07T16:45:25.869Z"
   },
   {
    "duration": 24,
    "start_time": "2022-06-07T16:45:25.975Z"
   },
   {
    "duration": 9,
    "start_time": "2022-06-07T16:45:26.000Z"
   },
   {
    "duration": 25,
    "start_time": "2022-06-07T16:45:26.010Z"
   },
   {
    "duration": 29,
    "start_time": "2022-06-07T16:45:26.036Z"
   },
   {
    "duration": 24,
    "start_time": "2022-06-07T16:45:26.067Z"
   },
   {
    "duration": 42,
    "start_time": "2022-06-07T16:45:26.093Z"
   },
   {
    "duration": 22,
    "start_time": "2022-06-07T16:45:26.140Z"
   },
   {
    "duration": 12,
    "start_time": "2022-06-07T16:45:26.164Z"
   },
   {
    "duration": 13,
    "start_time": "2022-06-07T16:45:26.177Z"
   },
   {
    "duration": 36,
    "start_time": "2022-06-07T16:45:26.192Z"
   },
   {
    "duration": 304,
    "start_time": "2022-06-07T16:45:26.230Z"
   },
   {
    "duration": 17,
    "start_time": "2022-06-07T16:45:26.537Z"
   },
   {
    "duration": 173,
    "start_time": "2022-06-07T16:45:26.556Z"
   },
   {
    "duration": 31,
    "start_time": "2022-06-07T16:45:26.731Z"
   },
   {
    "duration": 14,
    "start_time": "2022-06-07T16:45:26.764Z"
   },
   {
    "duration": 166,
    "start_time": "2022-06-07T16:45:26.781Z"
   },
   {
    "duration": 14,
    "start_time": "2022-06-07T16:45:26.949Z"
   },
   {
    "duration": 29,
    "start_time": "2022-06-07T16:45:26.965Z"
   },
   {
    "duration": 24,
    "start_time": "2022-06-07T16:45:26.996Z"
   },
   {
    "duration": 22,
    "start_time": "2022-06-07T16:45:27.022Z"
   },
   {
    "duration": 172,
    "start_time": "2022-06-07T16:45:27.046Z"
   },
   {
    "duration": 22,
    "start_time": "2022-06-07T16:45:27.220Z"
   },
   {
    "duration": 38,
    "start_time": "2022-06-07T16:45:27.244Z"
   },
   {
    "duration": 21,
    "start_time": "2022-06-07T16:45:27.284Z"
   },
   {
    "duration": 262,
    "start_time": "2022-06-07T16:45:27.328Z"
   },
   {
    "duration": 627,
    "start_time": "2022-06-07T16:45:27.592Z"
   },
   {
    "duration": 8,
    "start_time": "2022-06-07T16:45:28.221Z"
   },
   {
    "duration": 36,
    "start_time": "2022-06-07T16:45:28.231Z"
   },
   {
    "duration": 9,
    "start_time": "2022-06-07T16:45:28.269Z"
   },
   {
    "duration": 20,
    "start_time": "2022-06-07T16:45:28.280Z"
   },
   {
    "duration": 31,
    "start_time": "2022-06-07T16:45:28.301Z"
   },
   {
    "duration": 7,
    "start_time": "2022-06-07T16:45:28.334Z"
   },
   {
    "duration": 15,
    "start_time": "2022-06-07T16:45:28.342Z"
   },
   {
    "duration": 129,
    "start_time": "2022-06-07T16:45:28.359Z"
   },
   {
    "duration": 0,
    "start_time": "2022-06-07T16:45:28.490Z"
   },
   {
    "duration": 0,
    "start_time": "2022-06-07T16:45:28.492Z"
   },
   {
    "duration": 0,
    "start_time": "2022-06-07T16:45:28.493Z"
   },
   {
    "duration": 0,
    "start_time": "2022-06-07T16:45:28.495Z"
   },
   {
    "duration": 0,
    "start_time": "2022-06-07T16:45:28.496Z"
   },
   {
    "duration": 31,
    "start_time": "2022-06-07T16:46:27.951Z"
   },
   {
    "duration": 19,
    "start_time": "2022-06-07T16:46:33.600Z"
   },
   {
    "duration": 15,
    "start_time": "2022-06-07T16:47:05.171Z"
   },
   {
    "duration": 11,
    "start_time": "2022-06-07T16:47:20.450Z"
   },
   {
    "duration": 17,
    "start_time": "2022-06-07T16:47:41.508Z"
   },
   {
    "duration": 22,
    "start_time": "2022-06-07T16:47:43.600Z"
   },
   {
    "duration": 19,
    "start_time": "2022-06-07T16:47:57.800Z"
   },
   {
    "duration": 7,
    "start_time": "2022-06-07T16:49:08.072Z"
   },
   {
    "duration": 9,
    "start_time": "2022-06-07T16:50:13.396Z"
   },
   {
    "duration": 13,
    "start_time": "2022-06-07T16:51:29.801Z"
   },
   {
    "duration": 8,
    "start_time": "2022-06-07T16:51:34.230Z"
   },
   {
    "duration": 14,
    "start_time": "2022-06-07T16:51:38.437Z"
   },
   {
    "duration": 15,
    "start_time": "2022-06-07T16:52:16.622Z"
   },
   {
    "duration": 19,
    "start_time": "2022-06-07T16:53:41.190Z"
   },
   {
    "duration": 1250,
    "start_time": "2022-06-07T16:53:47.162Z"
   },
   {
    "duration": 17,
    "start_time": "2022-06-07T16:53:48.414Z"
   },
   {
    "duration": 98,
    "start_time": "2022-06-07T16:53:48.433Z"
   },
   {
    "duration": 25,
    "start_time": "2022-06-07T16:53:48.533Z"
   },
   {
    "duration": 8,
    "start_time": "2022-06-07T16:53:48.560Z"
   },
   {
    "duration": 15,
    "start_time": "2022-06-07T16:53:48.570Z"
   },
   {
    "duration": 31,
    "start_time": "2022-06-07T16:53:48.587Z"
   },
   {
    "duration": 19,
    "start_time": "2022-06-07T16:53:48.620Z"
   },
   {
    "duration": 11,
    "start_time": "2022-06-07T16:53:48.641Z"
   },
   {
    "duration": 21,
    "start_time": "2022-06-07T16:53:48.654Z"
   },
   {
    "duration": 9,
    "start_time": "2022-06-07T16:53:48.677Z"
   },
   {
    "duration": 39,
    "start_time": "2022-06-07T16:53:48.688Z"
   },
   {
    "duration": 6,
    "start_time": "2022-06-07T16:53:48.729Z"
   },
   {
    "duration": 327,
    "start_time": "2022-06-07T16:53:48.738Z"
   },
   {
    "duration": 12,
    "start_time": "2022-06-07T16:53:49.067Z"
   },
   {
    "duration": 151,
    "start_time": "2022-06-07T16:53:49.081Z"
   },
   {
    "duration": 19,
    "start_time": "2022-06-07T16:53:49.234Z"
   },
   {
    "duration": 11,
    "start_time": "2022-06-07T16:53:49.255Z"
   },
   {
    "duration": 189,
    "start_time": "2022-06-07T16:53:49.267Z"
   },
   {
    "duration": 16,
    "start_time": "2022-06-07T16:53:49.458Z"
   },
   {
    "duration": 19,
    "start_time": "2022-06-07T16:53:49.475Z"
   },
   {
    "duration": 5,
    "start_time": "2022-06-07T16:53:49.495Z"
   },
   {
    "duration": 32,
    "start_time": "2022-06-07T16:53:49.502Z"
   },
   {
    "duration": 180,
    "start_time": "2022-06-07T16:53:49.535Z"
   },
   {
    "duration": 31,
    "start_time": "2022-06-07T16:53:49.718Z"
   },
   {
    "duration": 36,
    "start_time": "2022-06-07T16:53:49.751Z"
   },
   {
    "duration": 45,
    "start_time": "2022-06-07T16:53:49.789Z"
   },
   {
    "duration": 213,
    "start_time": "2022-06-07T16:53:49.836Z"
   },
   {
    "duration": 681,
    "start_time": "2022-06-07T16:53:50.051Z"
   },
   {
    "duration": 12,
    "start_time": "2022-06-07T16:53:50.734Z"
   },
   {
    "duration": 61,
    "start_time": "2022-06-07T16:53:50.747Z"
   },
   {
    "duration": 23,
    "start_time": "2022-06-07T16:53:50.811Z"
   },
   {
    "duration": 24,
    "start_time": "2022-06-07T16:53:50.836Z"
   },
   {
    "duration": 26,
    "start_time": "2022-06-07T16:53:50.862Z"
   },
   {
    "duration": 22,
    "start_time": "2022-06-07T16:53:50.890Z"
   },
   {
    "duration": 16,
    "start_time": "2022-06-07T16:53:50.914Z"
   },
   {
    "duration": 17,
    "start_time": "2022-06-07T16:53:50.932Z"
   },
   {
    "duration": 53,
    "start_time": "2022-06-07T16:53:50.951Z"
   },
   {
    "duration": 26,
    "start_time": "2022-06-07T16:53:51.006Z"
   },
   {
    "duration": 10,
    "start_time": "2022-06-07T16:53:51.034Z"
   },
   {
    "duration": 243,
    "start_time": "2022-06-07T16:53:51.049Z"
   },
   {
    "duration": 0,
    "start_time": "2022-06-07T16:53:51.295Z"
   },
   {
    "duration": 0,
    "start_time": "2022-06-07T16:53:51.295Z"
   },
   {
    "duration": 14,
    "start_time": "2022-06-07T16:54:15.915Z"
   },
   {
    "duration": 1351,
    "start_time": "2022-06-07T16:54:24.255Z"
   },
   {
    "duration": 14,
    "start_time": "2022-06-07T16:54:25.608Z"
   },
   {
    "duration": 88,
    "start_time": "2022-06-07T16:54:25.625Z"
   },
   {
    "duration": 18,
    "start_time": "2022-06-07T16:54:25.725Z"
   },
   {
    "duration": 8,
    "start_time": "2022-06-07T16:54:25.744Z"
   },
   {
    "duration": 13,
    "start_time": "2022-06-07T16:54:25.753Z"
   },
   {
    "duration": 28,
    "start_time": "2022-06-07T16:54:25.768Z"
   },
   {
    "duration": 39,
    "start_time": "2022-06-07T16:54:25.798Z"
   },
   {
    "duration": 13,
    "start_time": "2022-06-07T16:54:25.839Z"
   },
   {
    "duration": 20,
    "start_time": "2022-06-07T16:54:25.855Z"
   },
   {
    "duration": 8,
    "start_time": "2022-06-07T16:54:25.877Z"
   },
   {
    "duration": 5,
    "start_time": "2022-06-07T16:54:25.887Z"
   },
   {
    "duration": 5,
    "start_time": "2022-06-07T16:54:25.927Z"
   },
   {
    "duration": 292,
    "start_time": "2022-06-07T16:54:25.933Z"
   },
   {
    "duration": 11,
    "start_time": "2022-06-07T16:54:26.227Z"
   },
   {
    "duration": 159,
    "start_time": "2022-06-07T16:54:26.240Z"
   },
   {
    "duration": 25,
    "start_time": "2022-06-07T16:54:26.401Z"
   },
   {
    "duration": 9,
    "start_time": "2022-06-07T16:54:26.428Z"
   },
   {
    "duration": 159,
    "start_time": "2022-06-07T16:54:26.439Z"
   },
   {
    "duration": 27,
    "start_time": "2022-06-07T16:54:26.599Z"
   },
   {
    "duration": 19,
    "start_time": "2022-06-07T16:54:26.628Z"
   },
   {
    "duration": 4,
    "start_time": "2022-06-07T16:54:26.649Z"
   },
   {
    "duration": 19,
    "start_time": "2022-06-07T16:54:26.654Z"
   },
   {
    "duration": 182,
    "start_time": "2022-06-07T16:54:26.675Z"
   },
   {
    "duration": 23,
    "start_time": "2022-06-07T16:54:26.859Z"
   },
   {
    "duration": 24,
    "start_time": "2022-06-07T16:54:26.883Z"
   },
   {
    "duration": 35,
    "start_time": "2022-06-07T16:54:26.909Z"
   },
   {
    "duration": 202,
    "start_time": "2022-06-07T16:54:26.948Z"
   },
   {
    "duration": 609,
    "start_time": "2022-06-07T16:54:27.151Z"
   },
   {
    "duration": 8,
    "start_time": "2022-06-07T16:54:27.761Z"
   },
   {
    "duration": 37,
    "start_time": "2022-06-07T16:54:27.771Z"
   },
   {
    "duration": 9,
    "start_time": "2022-06-07T16:54:27.809Z"
   },
   {
    "duration": 13,
    "start_time": "2022-06-07T16:54:27.820Z"
   },
   {
    "duration": 16,
    "start_time": "2022-06-07T16:54:27.834Z"
   },
   {
    "duration": 5,
    "start_time": "2022-06-07T16:54:27.852Z"
   },
   {
    "duration": 12,
    "start_time": "2022-06-07T16:54:27.859Z"
   },
   {
    "duration": 18,
    "start_time": "2022-06-07T16:54:27.872Z"
   },
   {
    "duration": 17,
    "start_time": "2022-06-07T16:54:27.892Z"
   },
   {
    "duration": 23,
    "start_time": "2022-06-07T16:54:27.910Z"
   },
   {
    "duration": 5,
    "start_time": "2022-06-07T16:54:27.935Z"
   },
   {
    "duration": 221,
    "start_time": "2022-06-07T16:54:27.942Z"
   },
   {
    "duration": 0,
    "start_time": "2022-06-07T16:54:28.165Z"
   },
   {
    "duration": 0,
    "start_time": "2022-06-07T16:54:28.166Z"
   },
   {
    "duration": 1763,
    "start_time": "2022-06-07T16:55:56.672Z"
   },
   {
    "duration": 18,
    "start_time": "2022-06-07T16:55:58.437Z"
   },
   {
    "duration": 95,
    "start_time": "2022-06-07T16:55:58.458Z"
   },
   {
    "duration": 17,
    "start_time": "2022-06-07T16:55:58.555Z"
   },
   {
    "duration": 8,
    "start_time": "2022-06-07T16:55:58.574Z"
   },
   {
    "duration": 21,
    "start_time": "2022-06-07T16:55:58.584Z"
   },
   {
    "duration": 41,
    "start_time": "2022-06-07T16:55:58.607Z"
   },
   {
    "duration": 24,
    "start_time": "2022-06-07T16:55:58.649Z"
   },
   {
    "duration": 18,
    "start_time": "2022-06-07T16:55:58.675Z"
   },
   {
    "duration": 36,
    "start_time": "2022-06-07T16:55:58.696Z"
   },
   {
    "duration": 9,
    "start_time": "2022-06-07T16:55:58.733Z"
   },
   {
    "duration": 17,
    "start_time": "2022-06-07T16:55:58.743Z"
   },
   {
    "duration": 18,
    "start_time": "2022-06-07T16:55:58.762Z"
   },
   {
    "duration": 296,
    "start_time": "2022-06-07T16:55:58.781Z"
   },
   {
    "duration": 13,
    "start_time": "2022-06-07T16:55:59.079Z"
   },
   {
    "duration": 173,
    "start_time": "2022-06-07T16:55:59.093Z"
   },
   {
    "duration": 22,
    "start_time": "2022-06-07T16:55:59.269Z"
   },
   {
    "duration": 10,
    "start_time": "2022-06-07T16:55:59.293Z"
   },
   {
    "duration": 189,
    "start_time": "2022-06-07T16:55:59.305Z"
   },
   {
    "duration": 15,
    "start_time": "2022-06-07T16:55:59.497Z"
   },
   {
    "duration": 17,
    "start_time": "2022-06-07T16:55:59.527Z"
   },
   {
    "duration": 14,
    "start_time": "2022-06-07T16:55:59.545Z"
   },
   {
    "duration": 33,
    "start_time": "2022-06-07T16:55:59.561Z"
   },
   {
    "duration": 184,
    "start_time": "2022-06-07T16:55:59.596Z"
   },
   {
    "duration": 22,
    "start_time": "2022-06-07T16:55:59.782Z"
   },
   {
    "duration": 37,
    "start_time": "2022-06-07T16:55:59.805Z"
   },
   {
    "duration": 31,
    "start_time": "2022-06-07T16:55:59.844Z"
   },
   {
    "duration": 201,
    "start_time": "2022-06-07T16:55:59.879Z"
   },
   {
    "duration": 656,
    "start_time": "2022-06-07T16:56:00.081Z"
   },
   {
    "duration": 9,
    "start_time": "2022-06-07T16:56:00.738Z"
   },
   {
    "duration": 48,
    "start_time": "2022-06-07T16:56:00.749Z"
   },
   {
    "duration": 35,
    "start_time": "2022-06-07T16:56:00.798Z"
   },
   {
    "duration": 52,
    "start_time": "2022-06-07T16:56:00.836Z"
   },
   {
    "duration": 78,
    "start_time": "2022-06-07T16:56:00.890Z"
   },
   {
    "duration": 10,
    "start_time": "2022-06-07T16:56:00.970Z"
   },
   {
    "duration": 40,
    "start_time": "2022-06-07T16:56:00.981Z"
   },
   {
    "duration": 41,
    "start_time": "2022-06-07T16:56:01.022Z"
   },
   {
    "duration": 31,
    "start_time": "2022-06-07T16:56:01.065Z"
   },
   {
    "duration": 16,
    "start_time": "2022-06-07T16:56:01.098Z"
   },
   {
    "duration": 18,
    "start_time": "2022-06-07T16:56:01.116Z"
   },
   {
    "duration": 328,
    "start_time": "2022-06-07T16:56:01.137Z"
   },
   {
    "duration": 0,
    "start_time": "2022-06-07T16:56:01.467Z"
   },
   {
    "duration": 0,
    "start_time": "2022-06-07T16:56:01.469Z"
   },
   {
    "duration": 23,
    "start_time": "2022-06-07T17:02:05.972Z"
   },
   {
    "duration": 1244,
    "start_time": "2022-06-07T17:03:14.563Z"
   },
   {
    "duration": 15,
    "start_time": "2022-06-07T17:03:15.810Z"
   },
   {
    "duration": 91,
    "start_time": "2022-06-07T17:03:15.827Z"
   },
   {
    "duration": 21,
    "start_time": "2022-06-07T17:03:15.920Z"
   },
   {
    "duration": 8,
    "start_time": "2022-06-07T17:03:15.943Z"
   },
   {
    "duration": 23,
    "start_time": "2022-06-07T17:03:15.953Z"
   },
   {
    "duration": 45,
    "start_time": "2022-06-07T17:03:15.978Z"
   },
   {
    "duration": 34,
    "start_time": "2022-06-07T17:03:16.025Z"
   },
   {
    "duration": 12,
    "start_time": "2022-06-07T17:03:16.061Z"
   },
   {
    "duration": 21,
    "start_time": "2022-06-07T17:03:16.075Z"
   },
   {
    "duration": 8,
    "start_time": "2022-06-07T17:03:16.097Z"
   },
   {
    "duration": 17,
    "start_time": "2022-06-07T17:03:16.107Z"
   },
   {
    "duration": 28,
    "start_time": "2022-06-07T17:03:16.126Z"
   },
   {
    "duration": 288,
    "start_time": "2022-06-07T17:03:16.157Z"
   },
   {
    "duration": 12,
    "start_time": "2022-06-07T17:03:16.447Z"
   },
   {
    "duration": 152,
    "start_time": "2022-06-07T17:03:16.461Z"
   },
   {
    "duration": 25,
    "start_time": "2022-06-07T17:03:16.615Z"
   },
   {
    "duration": 23,
    "start_time": "2022-06-07T17:03:16.641Z"
   },
   {
    "duration": 159,
    "start_time": "2022-06-07T17:03:16.666Z"
   },
   {
    "duration": 13,
    "start_time": "2022-06-07T17:03:16.827Z"
   },
   {
    "duration": 36,
    "start_time": "2022-06-07T17:03:16.841Z"
   },
   {
    "duration": 13,
    "start_time": "2022-06-07T17:03:16.878Z"
   },
   {
    "duration": 31,
    "start_time": "2022-06-07T17:03:16.893Z"
   },
   {
    "duration": 176,
    "start_time": "2022-06-07T17:03:16.925Z"
   },
   {
    "duration": 28,
    "start_time": "2022-06-07T17:03:17.102Z"
   },
   {
    "duration": 20,
    "start_time": "2022-06-07T17:03:17.132Z"
   },
   {
    "duration": 55,
    "start_time": "2022-06-07T17:03:17.154Z"
   },
   {
    "duration": 175,
    "start_time": "2022-06-07T17:03:17.211Z"
   },
   {
    "duration": 492,
    "start_time": "2022-06-07T17:03:17.388Z"
   },
   {
    "duration": 8,
    "start_time": "2022-06-07T17:03:17.882Z"
   },
   {
    "duration": 59,
    "start_time": "2022-06-07T17:03:17.891Z"
   },
   {
    "duration": 10,
    "start_time": "2022-06-07T17:03:17.952Z"
   },
   {
    "duration": 22,
    "start_time": "2022-06-07T17:03:17.964Z"
   },
   {
    "duration": 47,
    "start_time": "2022-06-07T17:03:17.987Z"
   },
   {
    "duration": 29,
    "start_time": "2022-06-07T17:03:18.036Z"
   },
   {
    "duration": 49,
    "start_time": "2022-06-07T17:03:18.067Z"
   },
   {
    "duration": 14,
    "start_time": "2022-06-07T17:03:18.117Z"
   },
   {
    "duration": 32,
    "start_time": "2022-06-07T17:03:18.133Z"
   },
   {
    "duration": 21,
    "start_time": "2022-06-07T17:03:18.167Z"
   },
   {
    "duration": 18,
    "start_time": "2022-06-07T17:03:18.190Z"
   },
   {
    "duration": 290,
    "start_time": "2022-06-07T17:03:18.212Z"
   },
   {
    "duration": 0,
    "start_time": "2022-06-07T17:03:18.504Z"
   },
   {
    "duration": 0,
    "start_time": "2022-06-07T17:03:18.506Z"
   },
   {
    "duration": 26,
    "start_time": "2022-06-07T17:04:52.847Z"
   },
   {
    "duration": 13,
    "start_time": "2022-06-07T17:06:02.116Z"
   },
   {
    "duration": 3210,
    "start_time": "2022-06-07T17:08:46.404Z"
   },
   {
    "duration": 26,
    "start_time": "2022-06-07T17:08:49.616Z"
   },
   {
    "duration": 119,
    "start_time": "2022-06-07T17:08:49.646Z"
   },
   {
    "duration": 30,
    "start_time": "2022-06-07T17:08:49.768Z"
   },
   {
    "duration": 11,
    "start_time": "2022-06-07T17:08:49.801Z"
   },
   {
    "duration": 16,
    "start_time": "2022-06-07T17:08:49.828Z"
   },
   {
    "duration": 50,
    "start_time": "2022-06-07T17:08:49.846Z"
   },
   {
    "duration": 43,
    "start_time": "2022-06-07T17:08:49.898Z"
   },
   {
    "duration": 24,
    "start_time": "2022-06-07T17:08:49.945Z"
   },
   {
    "duration": 27,
    "start_time": "2022-06-07T17:08:49.971Z"
   },
   {
    "duration": 30,
    "start_time": "2022-06-07T17:08:50.000Z"
   },
   {
    "duration": 7,
    "start_time": "2022-06-07T17:08:50.033Z"
   },
   {
    "duration": 46,
    "start_time": "2022-06-07T17:08:50.043Z"
   },
   {
    "duration": 369,
    "start_time": "2022-06-07T17:08:50.092Z"
   },
   {
    "duration": 15,
    "start_time": "2022-06-07T17:08:50.464Z"
   },
   {
    "duration": 220,
    "start_time": "2022-06-07T17:08:50.481Z"
   },
   {
    "duration": 31,
    "start_time": "2022-06-07T17:08:50.703Z"
   },
   {
    "duration": 20,
    "start_time": "2022-06-07T17:08:50.736Z"
   },
   {
    "duration": 213,
    "start_time": "2022-06-07T17:08:50.757Z"
   },
   {
    "duration": 17,
    "start_time": "2022-06-07T17:08:50.972Z"
   },
   {
    "duration": 35,
    "start_time": "2022-06-07T17:08:50.991Z"
   },
   {
    "duration": 7,
    "start_time": "2022-06-07T17:08:51.028Z"
   },
   {
    "duration": 46,
    "start_time": "2022-06-07T17:08:51.037Z"
   },
   {
    "duration": 214,
    "start_time": "2022-06-07T17:08:51.085Z"
   },
   {
    "duration": 36,
    "start_time": "2022-06-07T17:08:51.301Z"
   },
   {
    "duration": 37,
    "start_time": "2022-06-07T17:08:51.340Z"
   },
   {
    "duration": 25,
    "start_time": "2022-06-07T17:08:51.379Z"
   },
   {
    "duration": 230,
    "start_time": "2022-06-07T17:08:51.406Z"
   },
   {
    "duration": 633,
    "start_time": "2022-06-07T17:08:51.639Z"
   },
   {
    "duration": 10,
    "start_time": "2022-06-07T17:08:52.274Z"
   },
   {
    "duration": 66,
    "start_time": "2022-06-07T17:08:52.285Z"
   },
   {
    "duration": 14,
    "start_time": "2022-06-07T17:08:52.354Z"
   },
   {
    "duration": 26,
    "start_time": "2022-06-07T17:08:52.370Z"
   },
   {
    "duration": 27,
    "start_time": "2022-06-07T17:08:52.398Z"
   },
   {
    "duration": 21,
    "start_time": "2022-06-07T17:08:52.428Z"
   },
   {
    "duration": 17,
    "start_time": "2022-06-07T17:08:52.451Z"
   },
   {
    "duration": 14,
    "start_time": "2022-06-07T17:08:52.470Z"
   },
   {
    "duration": 24,
    "start_time": "2022-06-07T17:08:52.486Z"
   },
   {
    "duration": 19,
    "start_time": "2022-06-07T17:08:52.512Z"
   },
   {
    "duration": 27,
    "start_time": "2022-06-07T17:08:52.535Z"
   },
   {
    "duration": 9,
    "start_time": "2022-06-07T17:08:52.566Z"
   },
   {
    "duration": 311,
    "start_time": "2022-06-07T17:08:52.577Z"
   },
   {
    "duration": 0,
    "start_time": "2022-06-07T17:08:52.889Z"
   },
   {
    "duration": 0,
    "start_time": "2022-06-07T17:08:52.891Z"
   },
   {
    "duration": 411,
    "start_time": "2022-06-07T17:11:51.080Z"
   },
   {
    "duration": 1428,
    "start_time": "2022-06-07T17:12:11.975Z"
   },
   {
    "duration": 15,
    "start_time": "2022-06-07T17:12:13.406Z"
   },
   {
    "duration": 136,
    "start_time": "2022-06-07T17:12:13.422Z"
   },
   {
    "duration": 34,
    "start_time": "2022-06-07T17:12:13.560Z"
   },
   {
    "duration": 8,
    "start_time": "2022-06-07T17:12:13.596Z"
   },
   {
    "duration": 21,
    "start_time": "2022-06-07T17:12:13.605Z"
   },
   {
    "duration": 43,
    "start_time": "2022-06-07T17:12:13.629Z"
   },
   {
    "duration": 17,
    "start_time": "2022-06-07T17:12:13.673Z"
   },
   {
    "duration": 13,
    "start_time": "2022-06-07T17:12:13.692Z"
   },
   {
    "duration": 58,
    "start_time": "2022-06-07T17:12:13.707Z"
   },
   {
    "duration": 9,
    "start_time": "2022-06-07T17:12:13.766Z"
   },
   {
    "duration": 21,
    "start_time": "2022-06-07T17:12:13.776Z"
   },
   {
    "duration": 17,
    "start_time": "2022-06-07T17:12:13.799Z"
   },
   {
    "duration": 355,
    "start_time": "2022-06-07T17:12:13.819Z"
   },
   {
    "duration": 13,
    "start_time": "2022-06-07T17:12:14.176Z"
   },
   {
    "duration": 168,
    "start_time": "2022-06-07T17:12:14.191Z"
   },
   {
    "duration": 21,
    "start_time": "2022-06-07T17:12:14.361Z"
   },
   {
    "duration": 21,
    "start_time": "2022-06-07T17:12:14.384Z"
   },
   {
    "duration": 247,
    "start_time": "2022-06-07T17:12:14.408Z"
   },
   {
    "duration": 17,
    "start_time": "2022-06-07T17:12:14.657Z"
   },
   {
    "duration": 17,
    "start_time": "2022-06-07T17:12:14.676Z"
   },
   {
    "duration": 10,
    "start_time": "2022-06-07T17:12:14.696Z"
   },
   {
    "duration": 40,
    "start_time": "2022-06-07T17:12:14.728Z"
   },
   {
    "duration": 213,
    "start_time": "2022-06-07T17:12:14.770Z"
   },
   {
    "duration": 23,
    "start_time": "2022-06-07T17:12:14.985Z"
   },
   {
    "duration": 52,
    "start_time": "2022-06-07T17:12:15.010Z"
   },
   {
    "duration": 29,
    "start_time": "2022-06-07T17:12:15.063Z"
   },
   {
    "duration": 236,
    "start_time": "2022-06-07T17:12:15.094Z"
   },
   {
    "duration": 457,
    "start_time": "2022-06-07T17:12:15.333Z"
   },
   {
    "duration": 8,
    "start_time": "2022-06-07T17:12:15.792Z"
   },
   {
    "duration": 48,
    "start_time": "2022-06-07T17:12:15.803Z"
   },
   {
    "duration": 11,
    "start_time": "2022-06-07T17:12:15.853Z"
   },
   {
    "duration": 18,
    "start_time": "2022-06-07T17:12:15.865Z"
   },
   {
    "duration": 28,
    "start_time": "2022-06-07T17:12:15.885Z"
   },
   {
    "duration": 15,
    "start_time": "2022-06-07T17:12:15.915Z"
   },
   {
    "duration": 23,
    "start_time": "2022-06-07T17:12:15.933Z"
   },
   {
    "duration": 24,
    "start_time": "2022-06-07T17:12:15.957Z"
   },
   {
    "duration": 22,
    "start_time": "2022-06-07T17:12:15.983Z"
   },
   {
    "duration": 27,
    "start_time": "2022-06-07T17:12:16.007Z"
   },
   {
    "duration": 11,
    "start_time": "2022-06-07T17:12:16.037Z"
   },
   {
    "duration": 12,
    "start_time": "2022-06-07T17:12:16.052Z"
   },
   {
    "duration": 240,
    "start_time": "2022-06-07T17:12:16.065Z"
   },
   {
    "duration": 0,
    "start_time": "2022-06-07T17:12:16.306Z"
   },
   {
    "duration": 0,
    "start_time": "2022-06-07T17:12:16.308Z"
   },
   {
    "duration": 31,
    "start_time": "2022-06-07T18:10:56.396Z"
   },
   {
    "duration": 32,
    "start_time": "2022-06-07T18:11:23.770Z"
   },
   {
    "duration": 25,
    "start_time": "2022-06-07T18:11:35.322Z"
   },
   {
    "duration": 24,
    "start_time": "2022-06-07T18:12:03.250Z"
   },
   {
    "duration": 17,
    "start_time": "2022-06-07T18:12:18.151Z"
   },
   {
    "duration": 19,
    "start_time": "2022-06-07T18:12:34.876Z"
   },
   {
    "duration": 40,
    "start_time": "2022-06-07T20:43:48.719Z"
   },
   {
    "duration": 29,
    "start_time": "2022-06-07T20:46:40.445Z"
   },
   {
    "duration": 1771,
    "start_time": "2022-06-07T20:46:53.644Z"
   },
   {
    "duration": 25,
    "start_time": "2022-06-07T20:46:55.417Z"
   },
   {
    "duration": 110,
    "start_time": "2022-06-07T20:46:55.445Z"
   },
   {
    "duration": 17,
    "start_time": "2022-06-07T20:46:55.557Z"
   },
   {
    "duration": 8,
    "start_time": "2022-06-07T20:46:55.576Z"
   },
   {
    "duration": 20,
    "start_time": "2022-06-07T20:46:55.586Z"
   },
   {
    "duration": 54,
    "start_time": "2022-06-07T20:46:55.609Z"
   },
   {
    "duration": 19,
    "start_time": "2022-06-07T20:46:55.665Z"
   },
   {
    "duration": 14,
    "start_time": "2022-06-07T20:46:55.686Z"
   },
   {
    "duration": 28,
    "start_time": "2022-06-07T20:46:55.728Z"
   },
   {
    "duration": 10,
    "start_time": "2022-06-07T20:46:55.758Z"
   },
   {
    "duration": 9,
    "start_time": "2022-06-07T20:46:55.769Z"
   },
   {
    "duration": 7,
    "start_time": "2022-06-07T20:46:55.780Z"
   },
   {
    "duration": 318,
    "start_time": "2022-06-07T20:46:55.789Z"
   },
   {
    "duration": 18,
    "start_time": "2022-06-07T20:46:56.110Z"
   },
   {
    "duration": 183,
    "start_time": "2022-06-07T20:46:56.130Z"
   },
   {
    "duration": 36,
    "start_time": "2022-06-07T20:46:56.316Z"
   },
   {
    "duration": 34,
    "start_time": "2022-06-07T20:46:56.355Z"
   },
   {
    "duration": 163,
    "start_time": "2022-06-07T20:46:56.391Z"
   },
   {
    "duration": 15,
    "start_time": "2022-06-07T20:46:56.556Z"
   },
   {
    "duration": 19,
    "start_time": "2022-06-07T20:46:56.573Z"
   },
   {
    "duration": 12,
    "start_time": "2022-06-07T20:46:56.594Z"
   },
   {
    "duration": 29,
    "start_time": "2022-06-07T20:46:56.607Z"
   },
   {
    "duration": 173,
    "start_time": "2022-06-07T20:46:56.644Z"
   },
   {
    "duration": 37,
    "start_time": "2022-06-07T20:46:56.819Z"
   },
   {
    "duration": 28,
    "start_time": "2022-06-07T20:46:56.858Z"
   },
   {
    "duration": 54,
    "start_time": "2022-06-07T20:46:56.888Z"
   },
   {
    "duration": 209,
    "start_time": "2022-06-07T20:46:56.950Z"
   },
   {
    "duration": 427,
    "start_time": "2022-06-07T20:46:57.161Z"
   },
   {
    "duration": 10,
    "start_time": "2022-06-07T20:46:57.590Z"
   },
   {
    "duration": 44,
    "start_time": "2022-06-07T20:46:57.601Z"
   },
   {
    "duration": 22,
    "start_time": "2022-06-07T20:46:57.647Z"
   },
   {
    "duration": 14,
    "start_time": "2022-06-07T20:46:57.671Z"
   },
   {
    "duration": 14,
    "start_time": "2022-06-07T20:46:57.687Z"
   },
   {
    "duration": 6,
    "start_time": "2022-06-07T20:46:57.703Z"
   },
   {
    "duration": 22,
    "start_time": "2022-06-07T20:46:57.710Z"
   },
   {
    "duration": 28,
    "start_time": "2022-06-07T20:46:57.733Z"
   },
   {
    "duration": 21,
    "start_time": "2022-06-07T20:46:57.763Z"
   },
   {
    "duration": 7,
    "start_time": "2022-06-07T20:46:57.786Z"
   },
   {
    "duration": 13,
    "start_time": "2022-06-07T20:46:57.794Z"
   },
   {
    "duration": 25,
    "start_time": "2022-06-07T20:46:57.808Z"
   },
   {
    "duration": 269,
    "start_time": "2022-06-07T20:46:57.844Z"
   },
   {
    "duration": 0,
    "start_time": "2022-06-07T20:46:58.115Z"
   },
   {
    "duration": 0,
    "start_time": "2022-06-07T20:46:58.117Z"
   },
   {
    "duration": 28,
    "start_time": "2022-06-07T20:47:09.712Z"
   },
   {
    "duration": 22,
    "start_time": "2022-06-07T20:47:21.682Z"
   },
   {
    "duration": 17,
    "start_time": "2022-06-07T20:48:05.244Z"
   },
   {
    "duration": 11,
    "start_time": "2022-06-07T20:48:16.913Z"
   },
   {
    "duration": 15,
    "start_time": "2022-06-07T20:57:50.800Z"
   },
   {
    "duration": 13219,
    "start_time": "2022-06-07T20:58:11.662Z"
   },
   {
    "duration": 13622,
    "start_time": "2022-06-07T20:58:33.982Z"
   },
   {
    "duration": 14465,
    "start_time": "2022-06-07T20:59:17.651Z"
   },
   {
    "duration": 4153,
    "start_time": "2022-06-07T21:00:16.412Z"
   },
   {
    "duration": 7970529,
    "start_time": "2022-06-07T21:01:02.267Z"
   },
   {
    "duration": 1721,
    "start_time": "2022-06-08T06:18:55.881Z"
   },
   {
    "duration": 15,
    "start_time": "2022-06-08T06:18:57.797Z"
   },
   {
    "duration": 85,
    "start_time": "2022-06-08T06:18:59.727Z"
   },
   {
    "duration": 10,
    "start_time": "2022-06-08T06:19:06.159Z"
   },
   {
    "duration": 21,
    "start_time": "2022-06-08T06:21:09.556Z"
   },
   {
    "duration": 21,
    "start_time": "2022-06-08T06:21:57.011Z"
   },
   {
    "duration": 18,
    "start_time": "2022-06-08T06:22:14.980Z"
   },
   {
    "duration": 18,
    "start_time": "2022-06-08T06:22:25.830Z"
   },
   {
    "duration": 126,
    "start_time": "2022-06-08T06:26:54.535Z"
   },
   {
    "duration": 1288,
    "start_time": "2022-06-08T06:26:59.948Z"
   },
   {
    "duration": 17,
    "start_time": "2022-06-08T06:27:01.238Z"
   },
   {
    "duration": 104,
    "start_time": "2022-06-08T06:27:01.257Z"
   },
   {
    "duration": 35,
    "start_time": "2022-06-08T06:27:01.364Z"
   },
   {
    "duration": 50,
    "start_time": "2022-06-08T06:27:01.401Z"
   },
   {
    "duration": 14,
    "start_time": "2022-06-08T06:27:01.453Z"
   },
   {
    "duration": 23,
    "start_time": "2022-06-08T06:27:01.469Z"
   },
   {
    "duration": 72,
    "start_time": "2022-06-08T06:27:01.494Z"
   },
   {
    "duration": 50,
    "start_time": "2022-06-08T06:27:01.568Z"
   },
   {
    "duration": 56,
    "start_time": "2022-06-08T06:27:01.621Z"
   },
   {
    "duration": 67,
    "start_time": "2022-06-08T06:27:01.679Z"
   },
   {
    "duration": 34,
    "start_time": "2022-06-08T06:27:01.748Z"
   },
   {
    "duration": 48,
    "start_time": "2022-06-08T06:27:01.784Z"
   },
   {
    "duration": 40,
    "start_time": "2022-06-08T06:27:01.834Z"
   },
   {
    "duration": 309,
    "start_time": "2022-06-08T06:27:01.876Z"
   },
   {
    "duration": 11,
    "start_time": "2022-06-08T06:27:02.187Z"
   },
   {
    "duration": 160,
    "start_time": "2022-06-08T06:27:02.199Z"
   },
   {
    "duration": 19,
    "start_time": "2022-06-08T06:27:02.360Z"
   },
   {
    "duration": 19,
    "start_time": "2022-06-08T06:27:02.381Z"
   },
   {
    "duration": 184,
    "start_time": "2022-06-08T06:27:02.402Z"
   },
   {
    "duration": 15,
    "start_time": "2022-06-08T06:27:02.588Z"
   },
   {
    "duration": 39,
    "start_time": "2022-06-08T06:27:02.605Z"
   },
   {
    "duration": 13,
    "start_time": "2022-06-08T06:27:02.646Z"
   },
   {
    "duration": 32,
    "start_time": "2022-06-08T06:27:02.660Z"
   },
   {
    "duration": 192,
    "start_time": "2022-06-08T06:27:02.694Z"
   },
   {
    "duration": 23,
    "start_time": "2022-06-08T06:27:02.888Z"
   },
   {
    "duration": 19,
    "start_time": "2022-06-08T06:27:02.912Z"
   },
   {
    "duration": 18,
    "start_time": "2022-06-08T06:27:02.934Z"
   },
   {
    "duration": 208,
    "start_time": "2022-06-08T06:27:02.954Z"
   },
   {
    "duration": 687,
    "start_time": "2022-06-08T06:27:03.163Z"
   },
   {
    "duration": 8,
    "start_time": "2022-06-08T06:27:03.851Z"
   },
   {
    "duration": 35,
    "start_time": "2022-06-08T06:27:03.861Z"
   },
   {
    "duration": 9,
    "start_time": "2022-06-08T06:27:03.898Z"
   },
   {
    "duration": 15,
    "start_time": "2022-06-08T06:27:03.909Z"
   },
   {
    "duration": 24,
    "start_time": "2022-06-08T06:27:03.925Z"
   },
   {
    "duration": 6,
    "start_time": "2022-06-08T06:27:03.951Z"
   },
   {
    "duration": 14,
    "start_time": "2022-06-08T06:27:03.958Z"
   },
   {
    "duration": 24,
    "start_time": "2022-06-08T06:27:03.973Z"
   },
   {
    "duration": 23,
    "start_time": "2022-06-08T06:27:03.999Z"
   },
   {
    "duration": 9,
    "start_time": "2022-06-08T06:27:04.024Z"
   },
   {
    "duration": 10,
    "start_time": "2022-06-08T06:27:04.035Z"
   },
   {
    "duration": 11,
    "start_time": "2022-06-08T06:27:04.047Z"
   },
   {
    "duration": 11734,
    "start_time": "2022-06-08T06:27:04.059Z"
   },
   {
    "duration": 29356,
    "start_time": "2022-06-08T06:27:15.795Z"
   },
   {
    "duration": 0,
    "start_time": "2022-06-08T06:27:45.153Z"
   },
   {
    "duration": 0,
    "start_time": "2022-06-08T06:27:45.154Z"
   },
   {
    "duration": 1262,
    "start_time": "2022-06-08T06:30:55.808Z"
   },
   {
    "duration": 16,
    "start_time": "2022-06-08T06:30:57.072Z"
   },
   {
    "duration": 80,
    "start_time": "2022-06-08T06:30:57.089Z"
   },
   {
    "duration": 23,
    "start_time": "2022-06-08T06:30:57.172Z"
   },
   {
    "duration": 18,
    "start_time": "2022-06-08T06:30:57.196Z"
   },
   {
    "duration": 10,
    "start_time": "2022-06-08T06:30:57.215Z"
   },
   {
    "duration": 15,
    "start_time": "2022-06-08T06:30:57.227Z"
   },
   {
    "duration": 27,
    "start_time": "2022-06-08T06:30:57.244Z"
   },
   {
    "duration": 16,
    "start_time": "2022-06-08T06:30:57.294Z"
   },
   {
    "duration": 12,
    "start_time": "2022-06-08T06:30:57.313Z"
   },
   {
    "duration": 20,
    "start_time": "2022-06-08T06:30:57.326Z"
   },
   {
    "duration": 7,
    "start_time": "2022-06-08T06:30:57.348Z"
   },
   {
    "duration": 38,
    "start_time": "2022-06-08T06:30:57.357Z"
   },
   {
    "duration": 5,
    "start_time": "2022-06-08T06:30:57.397Z"
   },
   {
    "duration": 282,
    "start_time": "2022-06-08T06:30:57.403Z"
   },
   {
    "duration": 12,
    "start_time": "2022-06-08T06:30:57.687Z"
   },
   {
    "duration": 157,
    "start_time": "2022-06-08T06:30:57.700Z"
   },
   {
    "duration": 19,
    "start_time": "2022-06-08T06:30:57.859Z"
   },
   {
    "duration": 23,
    "start_time": "2022-06-08T06:30:57.879Z"
   },
   {
    "duration": 169,
    "start_time": "2022-06-08T06:30:57.905Z"
   },
   {
    "duration": 23,
    "start_time": "2022-06-08T06:30:58.077Z"
   },
   {
    "duration": 16,
    "start_time": "2022-06-08T06:30:58.102Z"
   },
   {
    "duration": 5,
    "start_time": "2022-06-08T06:30:58.120Z"
   },
   {
    "duration": 12,
    "start_time": "2022-06-08T06:30:58.126Z"
   },
   {
    "duration": 183,
    "start_time": "2022-06-08T06:30:58.140Z"
   },
   {
    "duration": 22,
    "start_time": "2022-06-08T06:30:58.325Z"
   },
   {
    "duration": 22,
    "start_time": "2022-06-08T06:30:58.349Z"
   },
   {
    "duration": 38,
    "start_time": "2022-06-08T06:30:58.375Z"
   },
   {
    "duration": 201,
    "start_time": "2022-06-08T06:30:58.415Z"
   },
   {
    "duration": 618,
    "start_time": "2022-06-08T06:30:58.618Z"
   },
   {
    "duration": 8,
    "start_time": "2022-06-08T06:30:59.237Z"
   },
   {
    "duration": 33,
    "start_time": "2022-06-08T06:30:59.247Z"
   },
   {
    "duration": 9,
    "start_time": "2022-06-08T06:30:59.282Z"
   },
   {
    "duration": 15,
    "start_time": "2022-06-08T06:30:59.292Z"
   },
   {
    "duration": 15,
    "start_time": "2022-06-08T06:30:59.308Z"
   },
   {
    "duration": 6,
    "start_time": "2022-06-08T06:30:59.324Z"
   },
   {
    "duration": 18,
    "start_time": "2022-06-08T06:30:59.331Z"
   },
   {
    "duration": 6,
    "start_time": "2022-06-08T06:30:59.350Z"
   },
   {
    "duration": 37,
    "start_time": "2022-06-08T06:30:59.358Z"
   },
   {
    "duration": 6,
    "start_time": "2022-06-08T06:30:59.397Z"
   },
   {
    "duration": 8,
    "start_time": "2022-06-08T06:30:59.405Z"
   },
   {
    "duration": 7,
    "start_time": "2022-06-08T06:30:59.415Z"
   },
   {
    "duration": 8441,
    "start_time": "2022-06-08T06:30:59.424Z"
   },
   {
    "duration": 1300,
    "start_time": "2022-06-08T09:16:59.652Z"
   },
   {
    "duration": 16,
    "start_time": "2022-06-08T09:17:00.955Z"
   },
   {
    "duration": 96,
    "start_time": "2022-06-08T09:17:00.973Z"
   },
   {
    "duration": 27,
    "start_time": "2022-06-08T09:17:01.071Z"
   },
   {
    "duration": 19,
    "start_time": "2022-06-08T09:17:01.099Z"
   },
   {
    "duration": 9,
    "start_time": "2022-06-08T09:17:01.119Z"
   },
   {
    "duration": 17,
    "start_time": "2022-06-08T09:17:01.130Z"
   },
   {
    "duration": 46,
    "start_time": "2022-06-08T09:17:01.149Z"
   },
   {
    "duration": 16,
    "start_time": "2022-06-08T09:17:01.197Z"
   },
   {
    "duration": 26,
    "start_time": "2022-06-08T09:17:01.217Z"
   },
   {
    "duration": 25,
    "start_time": "2022-06-08T09:17:01.245Z"
   },
   {
    "duration": 23,
    "start_time": "2022-06-08T09:17:01.272Z"
   },
   {
    "duration": 6,
    "start_time": "2022-06-08T09:17:01.297Z"
   },
   {
    "duration": 26,
    "start_time": "2022-06-08T09:17:01.305Z"
   },
   {
    "duration": 288,
    "start_time": "2022-06-08T09:17:01.333Z"
   },
   {
    "duration": 13,
    "start_time": "2022-06-08T09:17:01.623Z"
   },
   {
    "duration": 146,
    "start_time": "2022-06-08T09:17:01.638Z"
   },
   {
    "duration": 26,
    "start_time": "2022-06-08T09:17:01.786Z"
   },
   {
    "duration": 24,
    "start_time": "2022-06-08T09:17:01.813Z"
   },
   {
    "duration": 193,
    "start_time": "2022-06-08T09:17:01.839Z"
   },
   {
    "duration": 15,
    "start_time": "2022-06-08T09:17:02.035Z"
   },
   {
    "duration": 37,
    "start_time": "2022-06-08T09:17:02.051Z"
   },
   {
    "duration": 8,
    "start_time": "2022-06-08T09:17:02.090Z"
   },
   {
    "duration": 27,
    "start_time": "2022-06-08T09:17:02.100Z"
   },
   {
    "duration": 183,
    "start_time": "2022-06-08T09:17:02.129Z"
   },
   {
    "duration": 22,
    "start_time": "2022-06-08T09:17:02.313Z"
   },
   {
    "duration": 28,
    "start_time": "2022-06-08T09:17:02.337Z"
   },
   {
    "duration": 29,
    "start_time": "2022-06-08T09:17:02.368Z"
   },
   {
    "duration": 208,
    "start_time": "2022-06-08T09:17:02.398Z"
   },
   {
    "duration": 444,
    "start_time": "2022-06-08T09:17:02.608Z"
   },
   {
    "duration": 8,
    "start_time": "2022-06-08T09:17:03.054Z"
   },
   {
    "duration": 38,
    "start_time": "2022-06-08T09:17:03.064Z"
   },
   {
    "duration": 10,
    "start_time": "2022-06-08T09:17:03.104Z"
   },
   {
    "duration": 21,
    "start_time": "2022-06-08T09:17:03.116Z"
   },
   {
    "duration": 13,
    "start_time": "2022-06-08T09:17:03.140Z"
   },
   {
    "duration": 7,
    "start_time": "2022-06-08T09:17:03.155Z"
   },
   {
    "duration": 37,
    "start_time": "2022-06-08T09:17:03.164Z"
   },
   {
    "duration": 11,
    "start_time": "2022-06-08T09:17:03.203Z"
   },
   {
    "duration": 27,
    "start_time": "2022-06-08T09:17:03.216Z"
   },
   {
    "duration": 7,
    "start_time": "2022-06-08T09:17:03.245Z"
   },
   {
    "duration": 9,
    "start_time": "2022-06-08T09:17:03.253Z"
   },
   {
    "duration": 31,
    "start_time": "2022-06-08T09:17:03.264Z"
   },
   {
    "duration": 8714,
    "start_time": "2022-06-08T09:17:03.297Z"
   },
   {
    "duration": 7814943,
    "start_time": "2022-06-08T09:17:12.013Z"
   },
   {
    "duration": 11,
    "start_time": "2022-06-08T11:27:26.958Z"
   },
   {
    "duration": 37,
    "start_time": "2022-06-08T11:27:26.970Z"
   },
   {
    "duration": 3,
    "start_time": "2022-06-08T11:43:28.972Z"
   },
   {
    "duration": 2,
    "start_time": "2022-06-08T11:43:49.828Z"
   },
   {
    "duration": 84,
    "start_time": "2022-06-08T11:43:50.713Z"
   },
   {
    "duration": 18,
    "start_time": "2022-06-08T11:44:33.656Z"
   },
   {
    "duration": 181,
    "start_time": "2022-06-08T11:44:52.627Z"
   },
   {
    "duration": 88,
    "start_time": "2022-06-08T11:45:17.595Z"
   },
   {
    "duration": 13,
    "start_time": "2022-06-08T11:45:43.330Z"
   },
   {
    "duration": 12,
    "start_time": "2022-06-08T11:46:41.012Z"
   },
   {
    "duration": 14,
    "start_time": "2022-06-08T11:47:12.391Z"
   },
   {
    "duration": 13,
    "start_time": "2022-06-08T11:47:18.215Z"
   },
   {
    "duration": 15,
    "start_time": "2022-06-08T11:47:36.795Z"
   },
   {
    "duration": 15,
    "start_time": "2022-06-08T11:56:32.990Z"
   },
   {
    "duration": 33,
    "start_time": "2022-06-08T11:56:51.624Z"
   },
   {
    "duration": 190810,
    "start_time": "2022-06-08T12:00:21.272Z"
   },
   {
    "duration": 102,
    "start_time": "2022-06-08T12:04:03.273Z"
   },
   {
    "duration": 13,
    "start_time": "2022-06-08T12:05:10.310Z"
   },
   {
    "duration": 1398,
    "start_time": "2022-06-08T12:27:09.555Z"
   },
   {
    "duration": 16,
    "start_time": "2022-06-08T12:27:10.955Z"
   },
   {
    "duration": 106,
    "start_time": "2022-06-08T12:27:10.973Z"
   },
   {
    "duration": 28,
    "start_time": "2022-06-08T12:27:11.081Z"
   },
   {
    "duration": 24,
    "start_time": "2022-06-08T12:27:11.112Z"
   },
   {
    "duration": 9,
    "start_time": "2022-06-08T12:27:11.138Z"
   },
   {
    "duration": 11,
    "start_time": "2022-06-08T12:27:11.149Z"
   },
   {
    "duration": 76,
    "start_time": "2022-06-08T12:27:11.162Z"
   },
   {
    "duration": 16,
    "start_time": "2022-06-08T12:27:11.239Z"
   },
   {
    "duration": 12,
    "start_time": "2022-06-08T12:27:11.257Z"
   },
   {
    "duration": 50,
    "start_time": "2022-06-08T12:27:11.271Z"
   },
   {
    "duration": 8,
    "start_time": "2022-06-08T12:27:11.323Z"
   },
   {
    "duration": 10,
    "start_time": "2022-06-08T12:27:11.332Z"
   },
   {
    "duration": 5,
    "start_time": "2022-06-08T12:27:11.345Z"
   },
   {
    "duration": 357,
    "start_time": "2022-06-08T12:27:11.352Z"
   },
   {
    "duration": 19,
    "start_time": "2022-06-08T12:27:11.712Z"
   },
   {
    "duration": 189,
    "start_time": "2022-06-08T12:27:11.734Z"
   },
   {
    "duration": 21,
    "start_time": "2022-06-08T12:27:11.925Z"
   },
   {
    "duration": 10,
    "start_time": "2022-06-08T12:27:11.947Z"
   },
   {
    "duration": 204,
    "start_time": "2022-06-08T12:27:11.959Z"
   },
   {
    "duration": 15,
    "start_time": "2022-06-08T12:27:12.165Z"
   },
   {
    "duration": 32,
    "start_time": "2022-06-08T12:27:12.182Z"
   },
   {
    "duration": 14,
    "start_time": "2022-06-08T12:27:12.215Z"
   },
   {
    "duration": 16,
    "start_time": "2022-06-08T12:27:12.231Z"
   },
   {
    "duration": 209,
    "start_time": "2022-06-08T12:27:12.249Z"
   },
   {
    "duration": 44,
    "start_time": "2022-06-08T12:27:12.460Z"
   },
   {
    "duration": 29,
    "start_time": "2022-06-08T12:27:12.509Z"
   },
   {
    "duration": 35,
    "start_time": "2022-06-08T12:27:12.540Z"
   },
   {
    "duration": 238,
    "start_time": "2022-06-08T12:27:12.577Z"
   },
   {
    "duration": 16050,
    "start_time": "2022-06-08T12:27:12.817Z"
   },
   {
    "duration": 0,
    "start_time": "2022-06-08T12:27:28.869Z"
   },
   {
    "duration": 0,
    "start_time": "2022-06-08T12:27:28.870Z"
   },
   {
    "duration": 1,
    "start_time": "2022-06-08T12:27:28.871Z"
   },
   {
    "duration": 0,
    "start_time": "2022-06-08T12:27:28.873Z"
   },
   {
    "duration": 0,
    "start_time": "2022-06-08T12:27:28.874Z"
   },
   {
    "duration": 0,
    "start_time": "2022-06-08T12:27:28.875Z"
   },
   {
    "duration": 0,
    "start_time": "2022-06-08T12:27:28.876Z"
   },
   {
    "duration": 0,
    "start_time": "2022-06-08T12:27:28.877Z"
   },
   {
    "duration": 0,
    "start_time": "2022-06-08T12:27:28.878Z"
   },
   {
    "duration": 0,
    "start_time": "2022-06-08T12:27:28.879Z"
   },
   {
    "duration": 0,
    "start_time": "2022-06-08T12:27:28.880Z"
   },
   {
    "duration": 0,
    "start_time": "2022-06-08T12:27:28.881Z"
   },
   {
    "duration": 0,
    "start_time": "2022-06-08T12:27:28.881Z"
   },
   {
    "duration": 0,
    "start_time": "2022-06-08T12:27:28.882Z"
   },
   {
    "duration": 0,
    "start_time": "2022-06-08T12:27:28.883Z"
   },
   {
    "duration": 0,
    "start_time": "2022-06-08T12:27:28.900Z"
   },
   {
    "duration": 0,
    "start_time": "2022-06-08T12:27:28.901Z"
   },
   {
    "duration": 0,
    "start_time": "2022-06-08T12:27:28.902Z"
   },
   {
    "duration": 15588,
    "start_time": "2022-06-08T12:27:56.234Z"
   },
   {
    "duration": 15778,
    "start_time": "2022-06-08T12:28:57.770Z"
   },
   {
    "duration": 15502,
    "start_time": "2022-06-08T12:34:04.910Z"
   },
   {
    "duration": 1738,
    "start_time": "2022-06-09T06:41:25.532Z"
   },
   {
    "duration": 20,
    "start_time": "2022-06-09T06:41:27.273Z"
   },
   {
    "duration": 19,
    "start_time": "2022-06-09T06:41:27.299Z"
   },
   {
    "duration": 39,
    "start_time": "2022-06-09T06:41:27.320Z"
   },
   {
    "duration": 21,
    "start_time": "2022-06-09T06:41:27.362Z"
   },
   {
    "duration": 9,
    "start_time": "2022-06-09T06:41:27.387Z"
   },
   {
    "duration": 20,
    "start_time": "2022-06-09T06:41:27.397Z"
   },
   {
    "duration": 49,
    "start_time": "2022-06-09T06:41:27.419Z"
   },
   {
    "duration": 14,
    "start_time": "2022-06-09T06:41:27.471Z"
   },
   {
    "duration": 15,
    "start_time": "2022-06-09T06:41:27.487Z"
   },
   {
    "duration": 22,
    "start_time": "2022-06-09T06:41:27.503Z"
   },
   {
    "duration": 34,
    "start_time": "2022-06-09T06:41:27.526Z"
   },
   {
    "duration": 11,
    "start_time": "2022-06-09T06:41:27.561Z"
   },
   {
    "duration": 19,
    "start_time": "2022-06-09T06:41:27.573Z"
   },
   {
    "duration": 270,
    "start_time": "2022-06-09T06:41:27.594Z"
   },
   {
    "duration": 15,
    "start_time": "2022-06-09T06:41:27.866Z"
   },
   {
    "duration": 183,
    "start_time": "2022-06-09T06:41:27.884Z"
   },
   {
    "duration": 28,
    "start_time": "2022-06-09T06:41:28.070Z"
   },
   {
    "duration": 10,
    "start_time": "2022-06-09T06:41:28.100Z"
   },
   {
    "duration": 157,
    "start_time": "2022-06-09T06:41:28.111Z"
   },
   {
    "duration": 14,
    "start_time": "2022-06-09T06:41:28.270Z"
   },
   {
    "duration": 14,
    "start_time": "2022-06-09T06:41:28.286Z"
   },
   {
    "duration": 4,
    "start_time": "2022-06-09T06:41:28.302Z"
   },
   {
    "duration": 15,
    "start_time": "2022-06-09T06:41:28.308Z"
   },
   {
    "duration": 195,
    "start_time": "2022-06-09T06:41:28.325Z"
   },
   {
    "duration": 38,
    "start_time": "2022-06-09T06:41:28.522Z"
   },
   {
    "duration": 25,
    "start_time": "2022-06-09T06:41:28.564Z"
   },
   {
    "duration": 31,
    "start_time": "2022-06-09T06:41:28.591Z"
   },
   {
    "duration": 207,
    "start_time": "2022-06-09T06:41:28.624Z"
   },
   {
    "duration": 15641,
    "start_time": "2022-06-09T06:41:28.832Z"
   },
   {
    "duration": 0,
    "start_time": "2022-06-09T06:41:44.475Z"
   },
   {
    "duration": 0,
    "start_time": "2022-06-09T06:41:44.476Z"
   },
   {
    "duration": 0,
    "start_time": "2022-06-09T06:41:44.477Z"
   },
   {
    "duration": 0,
    "start_time": "2022-06-09T06:41:44.479Z"
   },
   {
    "duration": 0,
    "start_time": "2022-06-09T06:41:44.481Z"
   },
   {
    "duration": 0,
    "start_time": "2022-06-09T06:41:44.482Z"
   },
   {
    "duration": 0,
    "start_time": "2022-06-09T06:41:44.484Z"
   },
   {
    "duration": 0,
    "start_time": "2022-06-09T06:41:44.485Z"
   },
   {
    "duration": 0,
    "start_time": "2022-06-09T06:41:44.487Z"
   },
   {
    "duration": 0,
    "start_time": "2022-06-09T06:41:44.489Z"
   },
   {
    "duration": 0,
    "start_time": "2022-06-09T06:41:44.490Z"
   },
   {
    "duration": 0,
    "start_time": "2022-06-09T06:41:44.492Z"
   },
   {
    "duration": 0,
    "start_time": "2022-06-09T06:41:44.494Z"
   },
   {
    "duration": 0,
    "start_time": "2022-06-09T06:41:44.495Z"
   },
   {
    "duration": 0,
    "start_time": "2022-06-09T06:41:44.497Z"
   },
   {
    "duration": 0,
    "start_time": "2022-06-09T06:41:44.499Z"
   },
   {
    "duration": 0,
    "start_time": "2022-06-09T06:41:44.500Z"
   },
   {
    "duration": 0,
    "start_time": "2022-06-09T06:41:44.502Z"
   },
   {
    "duration": 1378,
    "start_time": "2022-06-13T13:03:57.519Z"
   },
   {
    "duration": 16,
    "start_time": "2022-06-13T13:03:58.899Z"
   },
   {
    "duration": 12,
    "start_time": "2022-06-13T13:03:58.916Z"
   },
   {
    "duration": 17,
    "start_time": "2022-06-13T13:03:58.930Z"
   },
   {
    "duration": 16,
    "start_time": "2022-06-13T13:03:58.949Z"
   },
   {
    "duration": 41,
    "start_time": "2022-06-13T13:03:58.966Z"
   },
   {
    "duration": 9,
    "start_time": "2022-06-13T13:03:59.010Z"
   },
   {
    "duration": 25,
    "start_time": "2022-06-13T13:03:59.021Z"
   },
   {
    "duration": 15,
    "start_time": "2022-06-13T13:03:59.048Z"
   },
   {
    "duration": 12,
    "start_time": "2022-06-13T13:03:59.066Z"
   },
   {
    "duration": 22,
    "start_time": "2022-06-13T13:03:59.095Z"
   },
   {
    "duration": 6,
    "start_time": "2022-06-13T13:03:59.119Z"
   },
   {
    "duration": 6,
    "start_time": "2022-06-13T13:03:59.127Z"
   },
   {
    "duration": 8,
    "start_time": "2022-06-13T13:03:59.134Z"
   },
   {
    "duration": 317,
    "start_time": "2022-06-13T13:03:59.144Z"
   },
   {
    "duration": 11,
    "start_time": "2022-06-13T13:03:59.462Z"
   },
   {
    "duration": 141,
    "start_time": "2022-06-13T13:03:59.474Z"
   },
   {
    "duration": 18,
    "start_time": "2022-06-13T13:03:59.617Z"
   },
   {
    "duration": 10,
    "start_time": "2022-06-13T13:03:59.637Z"
   },
   {
    "duration": 164,
    "start_time": "2022-06-13T13:03:59.649Z"
   },
   {
    "duration": 13,
    "start_time": "2022-06-13T13:03:59.815Z"
   },
   {
    "duration": 12,
    "start_time": "2022-06-13T13:03:59.829Z"
   },
   {
    "duration": 4,
    "start_time": "2022-06-13T13:03:59.843Z"
   },
   {
    "duration": 10,
    "start_time": "2022-06-13T13:03:59.848Z"
   },
   {
    "duration": 179,
    "start_time": "2022-06-13T13:03:59.860Z"
   },
   {
    "duration": 23,
    "start_time": "2022-06-13T13:04:00.040Z"
   },
   {
    "duration": 48,
    "start_time": "2022-06-13T13:04:00.064Z"
   },
   {
    "duration": 28,
    "start_time": "2022-06-13T13:04:00.115Z"
   },
   {
    "duration": 166,
    "start_time": "2022-06-13T13:04:00.145Z"
   },
   {
    "duration": 15790,
    "start_time": "2022-06-13T13:04:00.313Z"
   },
   {
    "duration": 0,
    "start_time": "2022-06-13T13:04:16.105Z"
   },
   {
    "duration": 0,
    "start_time": "2022-06-13T13:04:16.107Z"
   },
   {
    "duration": 0,
    "start_time": "2022-06-13T13:04:16.110Z"
   },
   {
    "duration": 0,
    "start_time": "2022-06-13T13:04:16.111Z"
   },
   {
    "duration": 0,
    "start_time": "2022-06-13T13:04:16.112Z"
   },
   {
    "duration": 0,
    "start_time": "2022-06-13T13:04:16.113Z"
   },
   {
    "duration": 0,
    "start_time": "2022-06-13T13:04:16.114Z"
   },
   {
    "duration": 0,
    "start_time": "2022-06-13T13:04:16.115Z"
   },
   {
    "duration": 0,
    "start_time": "2022-06-13T13:04:16.116Z"
   },
   {
    "duration": 0,
    "start_time": "2022-06-13T13:04:16.116Z"
   },
   {
    "duration": 0,
    "start_time": "2022-06-13T13:04:16.117Z"
   },
   {
    "duration": 0,
    "start_time": "2022-06-13T13:04:16.118Z"
   },
   {
    "duration": 0,
    "start_time": "2022-06-13T13:04:16.119Z"
   },
   {
    "duration": 0,
    "start_time": "2022-06-13T13:04:16.120Z"
   },
   {
    "duration": 0,
    "start_time": "2022-06-13T13:04:16.121Z"
   },
   {
    "duration": 0,
    "start_time": "2022-06-13T13:04:16.122Z"
   },
   {
    "duration": 0,
    "start_time": "2022-06-13T13:04:16.123Z"
   },
   {
    "duration": 0,
    "start_time": "2022-06-13T13:04:16.124Z"
   },
   {
    "duration": 22,
    "start_time": "2022-06-13T13:08:08.163Z"
   },
   {
    "duration": 20,
    "start_time": "2022-06-13T13:08:27.736Z"
   },
   {
    "duration": 37,
    "start_time": "2022-06-13T13:08:31.696Z"
   },
   {
    "duration": 24,
    "start_time": "2022-06-13T13:08:55.581Z"
   },
   {
    "duration": 22,
    "start_time": "2022-06-13T13:09:52.645Z"
   },
   {
    "duration": 1142,
    "start_time": "2022-06-13T13:11:23.758Z"
   },
   {
    "duration": 13,
    "start_time": "2022-06-13T13:11:24.901Z"
   },
   {
    "duration": 15,
    "start_time": "2022-06-13T13:11:24.915Z"
   },
   {
    "duration": 18,
    "start_time": "2022-06-13T13:11:24.932Z"
   },
   {
    "duration": 16,
    "start_time": "2022-06-13T13:11:24.952Z"
   },
   {
    "duration": 26,
    "start_time": "2022-06-13T13:11:24.969Z"
   },
   {
    "duration": 12,
    "start_time": "2022-06-13T13:11:24.997Z"
   },
   {
    "duration": 25,
    "start_time": "2022-06-13T13:11:25.011Z"
   },
   {
    "duration": 13,
    "start_time": "2022-06-13T13:11:25.037Z"
   },
   {
    "duration": 10,
    "start_time": "2022-06-13T13:11:25.052Z"
   },
   {
    "duration": 45,
    "start_time": "2022-06-13T13:11:25.063Z"
   },
   {
    "duration": 7,
    "start_time": "2022-06-13T13:11:25.109Z"
   },
   {
    "duration": 6,
    "start_time": "2022-06-13T13:11:25.117Z"
   },
   {
    "duration": 6,
    "start_time": "2022-06-13T13:11:25.124Z"
   },
   {
    "duration": 273,
    "start_time": "2022-06-13T13:11:25.131Z"
   },
   {
    "duration": 10,
    "start_time": "2022-06-13T13:11:25.406Z"
   },
   {
    "duration": 132,
    "start_time": "2022-06-13T13:11:25.417Z"
   },
   {
    "duration": 17,
    "start_time": "2022-06-13T13:11:25.551Z"
   },
   {
    "duration": 9,
    "start_time": "2022-06-13T13:11:25.569Z"
   },
   {
    "duration": 154,
    "start_time": "2022-06-13T13:11:25.579Z"
   },
   {
    "duration": 13,
    "start_time": "2022-06-13T13:11:25.735Z"
   },
   {
    "duration": 12,
    "start_time": "2022-06-13T13:11:25.749Z"
   },
   {
    "duration": 4,
    "start_time": "2022-06-13T13:11:25.762Z"
   },
   {
    "duration": 27,
    "start_time": "2022-06-13T13:11:25.767Z"
   },
   {
    "duration": 153,
    "start_time": "2022-06-13T13:11:25.795Z"
   },
   {
    "duration": 18,
    "start_time": "2022-06-13T13:11:25.949Z"
   },
   {
    "duration": 27,
    "start_time": "2022-06-13T13:11:25.968Z"
   },
   {
    "duration": 31,
    "start_time": "2022-06-13T13:11:25.998Z"
   },
   {
    "duration": 175,
    "start_time": "2022-06-13T13:11:26.031Z"
   },
   {
    "duration": 114,
    "start_time": "2022-06-13T13:11:26.207Z"
   },
   {
    "duration": 0,
    "start_time": "2022-06-13T13:11:26.322Z"
   },
   {
    "duration": 0,
    "start_time": "2022-06-13T13:11:26.324Z"
   },
   {
    "duration": 0,
    "start_time": "2022-06-13T13:11:26.324Z"
   },
   {
    "duration": 0,
    "start_time": "2022-06-13T13:11:26.325Z"
   },
   {
    "duration": 0,
    "start_time": "2022-06-13T13:11:26.326Z"
   },
   {
    "duration": 0,
    "start_time": "2022-06-13T13:11:26.327Z"
   },
   {
    "duration": 0,
    "start_time": "2022-06-13T13:11:26.328Z"
   },
   {
    "duration": 0,
    "start_time": "2022-06-13T13:11:26.329Z"
   },
   {
    "duration": 0,
    "start_time": "2022-06-13T13:11:26.330Z"
   },
   {
    "duration": 0,
    "start_time": "2022-06-13T13:11:26.331Z"
   },
   {
    "duration": 0,
    "start_time": "2022-06-13T13:11:26.332Z"
   },
   {
    "duration": 0,
    "start_time": "2022-06-13T13:11:26.333Z"
   },
   {
    "duration": 0,
    "start_time": "2022-06-13T13:11:26.334Z"
   },
   {
    "duration": 0,
    "start_time": "2022-06-13T13:11:26.335Z"
   },
   {
    "duration": 0,
    "start_time": "2022-06-13T13:11:26.336Z"
   },
   {
    "duration": 0,
    "start_time": "2022-06-13T13:11:26.337Z"
   },
   {
    "duration": 0,
    "start_time": "2022-06-13T13:11:26.338Z"
   },
   {
    "duration": 0,
    "start_time": "2022-06-13T13:11:26.339Z"
   },
   {
    "duration": 26,
    "start_time": "2022-06-13T13:12:05.312Z"
   },
   {
    "duration": 1153,
    "start_time": "2022-06-13T13:12:11.577Z"
   },
   {
    "duration": 13,
    "start_time": "2022-06-13T13:12:12.731Z"
   },
   {
    "duration": 13,
    "start_time": "2022-06-13T13:12:12.745Z"
   },
   {
    "duration": 16,
    "start_time": "2022-06-13T13:12:12.760Z"
   },
   {
    "duration": 25,
    "start_time": "2022-06-13T13:12:12.778Z"
   },
   {
    "duration": 8,
    "start_time": "2022-06-13T13:12:12.804Z"
   },
   {
    "duration": 9,
    "start_time": "2022-06-13T13:12:12.814Z"
   },
   {
    "duration": 28,
    "start_time": "2022-06-13T13:12:12.825Z"
   },
   {
    "duration": 15,
    "start_time": "2022-06-13T13:12:12.854Z"
   },
   {
    "duration": 28,
    "start_time": "2022-06-13T13:12:12.871Z"
   },
   {
    "duration": 17,
    "start_time": "2022-06-13T13:12:12.901Z"
   },
   {
    "duration": 7,
    "start_time": "2022-06-13T13:12:12.919Z"
   },
   {
    "duration": 4,
    "start_time": "2022-06-13T13:12:12.927Z"
   },
   {
    "duration": 5,
    "start_time": "2022-06-13T13:12:12.933Z"
   },
   {
    "duration": 268,
    "start_time": "2022-06-13T13:12:12.940Z"
   },
   {
    "duration": 10,
    "start_time": "2022-06-13T13:12:13.210Z"
   },
   {
    "duration": 128,
    "start_time": "2022-06-13T13:12:13.221Z"
   },
   {
    "duration": 17,
    "start_time": "2022-06-13T13:12:13.350Z"
   },
   {
    "duration": 9,
    "start_time": "2022-06-13T13:12:13.368Z"
   },
   {
    "duration": 147,
    "start_time": "2022-06-13T13:12:13.378Z"
   },
   {
    "duration": 11,
    "start_time": "2022-06-13T13:12:13.527Z"
   },
   {
    "duration": 14,
    "start_time": "2022-06-13T13:12:13.540Z"
   },
   {
    "duration": 4,
    "start_time": "2022-06-13T13:12:13.556Z"
   },
   {
    "duration": 9,
    "start_time": "2022-06-13T13:12:13.561Z"
   },
   {
    "duration": 175,
    "start_time": "2022-06-13T13:12:13.572Z"
   },
   {
    "duration": 19,
    "start_time": "2022-06-13T13:12:13.749Z"
   },
   {
    "duration": 36,
    "start_time": "2022-06-13T13:12:13.769Z"
   },
   {
    "duration": 33,
    "start_time": "2022-06-13T13:12:13.808Z"
   },
   {
    "duration": 155,
    "start_time": "2022-06-13T13:12:13.843Z"
   },
   {
    "duration": 14,
    "start_time": "2022-06-13T13:12:14.000Z"
   },
   {
    "duration": 7,
    "start_time": "2022-06-13T13:12:14.016Z"
   },
   {
    "duration": 40,
    "start_time": "2022-06-13T13:12:14.024Z"
   },
   {
    "duration": 8,
    "start_time": "2022-06-13T13:12:14.066Z"
   },
   {
    "duration": 10,
    "start_time": "2022-06-13T13:12:14.095Z"
   },
   {
    "duration": 11,
    "start_time": "2022-06-13T13:12:14.107Z"
   },
   {
    "duration": 7,
    "start_time": "2022-06-13T13:12:14.119Z"
   },
   {
    "duration": 9,
    "start_time": "2022-06-13T13:12:14.128Z"
   },
   {
    "duration": 139,
    "start_time": "2022-06-13T13:12:14.139Z"
   },
   {
    "duration": 0,
    "start_time": "2022-06-13T13:12:14.279Z"
   },
   {
    "duration": 0,
    "start_time": "2022-06-13T13:12:14.280Z"
   },
   {
    "duration": 0,
    "start_time": "2022-06-13T13:12:14.281Z"
   },
   {
    "duration": 0,
    "start_time": "2022-06-13T13:12:14.282Z"
   },
   {
    "duration": 0,
    "start_time": "2022-06-13T13:12:14.283Z"
   },
   {
    "duration": 0,
    "start_time": "2022-06-13T13:12:14.284Z"
   },
   {
    "duration": 0,
    "start_time": "2022-06-13T13:12:14.294Z"
   },
   {
    "duration": 0,
    "start_time": "2022-06-13T13:12:14.295Z"
   },
   {
    "duration": 0,
    "start_time": "2022-06-13T13:12:14.296Z"
   },
   {
    "duration": 0,
    "start_time": "2022-06-13T13:12:14.297Z"
   },
   {
    "duration": 452,
    "start_time": "2022-06-13T13:14:42.714Z"
   },
   {
    "duration": 10,
    "start_time": "2022-06-13T13:18:20.950Z"
   },
   {
    "duration": 17,
    "start_time": "2022-06-13T13:18:23.147Z"
   },
   {
    "duration": 415,
    "start_time": "2022-06-13T13:18:29.223Z"
   },
   {
    "duration": 7,
    "start_time": "2022-06-13T13:21:00.455Z"
   },
   {
    "duration": 1112,
    "start_time": "2022-06-13T13:21:09.189Z"
   },
   {
    "duration": 12,
    "start_time": "2022-06-13T13:21:10.303Z"
   },
   {
    "duration": 11,
    "start_time": "2022-06-13T13:21:10.316Z"
   },
   {
    "duration": 16,
    "start_time": "2022-06-13T13:21:10.328Z"
   },
   {
    "duration": 18,
    "start_time": "2022-06-13T13:21:10.346Z"
   },
   {
    "duration": 7,
    "start_time": "2022-06-13T13:21:10.365Z"
   },
   {
    "duration": 28,
    "start_time": "2022-06-13T13:21:10.373Z"
   },
   {
    "duration": 25,
    "start_time": "2022-06-13T13:21:10.402Z"
   },
   {
    "duration": 14,
    "start_time": "2022-06-13T13:21:10.429Z"
   },
   {
    "duration": 10,
    "start_time": "2022-06-13T13:21:10.444Z"
   },
   {
    "duration": 40,
    "start_time": "2022-06-13T13:21:10.456Z"
   },
   {
    "duration": 7,
    "start_time": "2022-06-13T13:21:10.497Z"
   },
   {
    "duration": 4,
    "start_time": "2022-06-13T13:21:10.506Z"
   },
   {
    "duration": 4,
    "start_time": "2022-06-13T13:21:10.513Z"
   },
   {
    "duration": 266,
    "start_time": "2022-06-13T13:21:10.518Z"
   },
   {
    "duration": 9,
    "start_time": "2022-06-13T13:21:10.786Z"
   },
   {
    "duration": 137,
    "start_time": "2022-06-13T13:21:10.797Z"
   },
   {
    "duration": 17,
    "start_time": "2022-06-13T13:21:10.936Z"
   },
   {
    "duration": 10,
    "start_time": "2022-06-13T13:21:10.954Z"
   },
   {
    "duration": 153,
    "start_time": "2022-06-13T13:21:10.965Z"
   },
   {
    "duration": 12,
    "start_time": "2022-06-13T13:21:11.120Z"
   },
   {
    "duration": 14,
    "start_time": "2022-06-13T13:21:11.133Z"
   },
   {
    "duration": 4,
    "start_time": "2022-06-13T13:21:11.149Z"
   },
   {
    "duration": 9,
    "start_time": "2022-06-13T13:21:11.154Z"
   },
   {
    "duration": 167,
    "start_time": "2022-06-13T13:21:11.164Z"
   },
   {
    "duration": 19,
    "start_time": "2022-06-13T13:21:11.332Z"
   },
   {
    "duration": 17,
    "start_time": "2022-06-13T13:21:11.353Z"
   },
   {
    "duration": 42,
    "start_time": "2022-06-13T13:21:11.372Z"
   },
   {
    "duration": 158,
    "start_time": "2022-06-13T13:21:11.415Z"
   },
   {
    "duration": 22,
    "start_time": "2022-06-13T13:21:11.574Z"
   },
   {
    "duration": 7,
    "start_time": "2022-06-13T13:21:11.598Z"
   },
   {
    "duration": 32,
    "start_time": "2022-06-13T13:21:11.606Z"
   },
   {
    "duration": 7,
    "start_time": "2022-06-13T13:21:11.640Z"
   },
   {
    "duration": 11,
    "start_time": "2022-06-13T13:21:11.648Z"
   },
   {
    "duration": 11,
    "start_time": "2022-06-13T13:21:11.661Z"
   },
   {
    "duration": 26,
    "start_time": "2022-06-13T13:21:11.673Z"
   },
   {
    "duration": 10,
    "start_time": "2022-06-13T13:21:11.701Z"
   },
   {
    "duration": 5,
    "start_time": "2022-06-13T13:21:11.713Z"
   },
   {
    "duration": 36,
    "start_time": "2022-06-13T13:21:11.719Z"
   },
   {
    "duration": 5,
    "start_time": "2022-06-13T13:21:11.757Z"
   },
   {
    "duration": 33,
    "start_time": "2022-06-13T13:21:11.766Z"
   },
   {
    "duration": 6,
    "start_time": "2022-06-13T13:21:11.800Z"
   },
   {
    "duration": 8672,
    "start_time": "2022-06-13T13:21:11.808Z"
   },
   {
    "duration": 117,
    "start_time": "2022-06-13T13:21:20.482Z"
   },
   {
    "duration": 0,
    "start_time": "2022-06-13T13:21:20.601Z"
   },
   {
    "duration": 0,
    "start_time": "2022-06-13T13:21:20.601Z"
   },
   {
    "duration": 0,
    "start_time": "2022-06-13T13:21:20.602Z"
   },
   {
    "duration": 0,
    "start_time": "2022-06-13T13:21:20.604Z"
   },
   {
    "duration": 1375,
    "start_time": "2022-06-13T13:23:39.078Z"
   },
   {
    "duration": 12,
    "start_time": "2022-06-13T13:23:40.455Z"
   },
   {
    "duration": 13,
    "start_time": "2022-06-13T13:23:40.468Z"
   },
   {
    "duration": 25,
    "start_time": "2022-06-13T13:23:40.483Z"
   },
   {
    "duration": 26,
    "start_time": "2022-06-13T13:23:40.509Z"
   },
   {
    "duration": 8,
    "start_time": "2022-06-13T13:23:40.536Z"
   },
   {
    "duration": 12,
    "start_time": "2022-06-13T13:23:40.545Z"
   },
   {
    "duration": 23,
    "start_time": "2022-06-13T13:23:40.558Z"
   },
   {
    "duration": 27,
    "start_time": "2022-06-13T13:23:40.582Z"
   },
   {
    "duration": 10,
    "start_time": "2022-06-13T13:23:40.612Z"
   },
   {
    "duration": 19,
    "start_time": "2022-06-13T13:23:40.624Z"
   },
   {
    "duration": 8,
    "start_time": "2022-06-13T13:23:40.644Z"
   },
   {
    "duration": 5,
    "start_time": "2022-06-13T13:23:40.653Z"
   },
   {
    "duration": 5,
    "start_time": "2022-06-13T13:23:40.660Z"
   },
   {
    "duration": 291,
    "start_time": "2022-06-13T13:23:40.666Z"
   },
   {
    "duration": 10,
    "start_time": "2022-06-13T13:23:40.958Z"
   },
   {
    "duration": 141,
    "start_time": "2022-06-13T13:23:40.970Z"
   },
   {
    "duration": 16,
    "start_time": "2022-06-13T13:23:41.113Z"
   },
   {
    "duration": 9,
    "start_time": "2022-06-13T13:23:41.131Z"
   },
   {
    "duration": 169,
    "start_time": "2022-06-13T13:23:41.141Z"
   },
   {
    "duration": 14,
    "start_time": "2022-06-13T13:23:41.311Z"
   },
   {
    "duration": 14,
    "start_time": "2022-06-13T13:23:41.327Z"
   },
   {
    "duration": 4,
    "start_time": "2022-06-13T13:23:41.343Z"
   },
   {
    "duration": 10,
    "start_time": "2022-06-13T13:23:41.349Z"
   },
   {
    "duration": 176,
    "start_time": "2022-06-13T13:23:41.361Z"
   },
   {
    "duration": 20,
    "start_time": "2022-06-13T13:23:41.539Z"
   },
   {
    "duration": 17,
    "start_time": "2022-06-13T13:23:41.561Z"
   },
   {
    "duration": 31,
    "start_time": "2022-06-13T13:23:41.598Z"
   },
   {
    "duration": 157,
    "start_time": "2022-06-13T13:23:41.631Z"
   },
   {
    "duration": 32,
    "start_time": "2022-06-13T13:23:41.790Z"
   },
   {
    "duration": 8,
    "start_time": "2022-06-13T13:23:41.823Z"
   },
   {
    "duration": 32,
    "start_time": "2022-06-13T13:23:41.832Z"
   },
   {
    "duration": 9,
    "start_time": "2022-06-13T13:23:41.866Z"
   },
   {
    "duration": 29,
    "start_time": "2022-06-13T13:23:41.877Z"
   },
   {
    "duration": 10,
    "start_time": "2022-06-13T13:23:41.908Z"
   },
   {
    "duration": 6,
    "start_time": "2022-06-13T13:23:41.920Z"
   },
   {
    "duration": 13,
    "start_time": "2022-06-13T13:23:41.928Z"
   },
   {
    "duration": 6,
    "start_time": "2022-06-13T13:23:41.942Z"
   },
   {
    "duration": 59,
    "start_time": "2022-06-13T13:23:41.950Z"
   },
   {
    "duration": 6,
    "start_time": "2022-06-13T13:23:42.011Z"
   },
   {
    "duration": 126,
    "start_time": "2022-06-13T13:23:42.018Z"
   },
   {
    "duration": 1,
    "start_time": "2022-06-13T13:23:42.145Z"
   },
   {
    "duration": 0,
    "start_time": "2022-06-13T13:23:42.147Z"
   },
   {
    "duration": 0,
    "start_time": "2022-06-13T13:23:42.149Z"
   },
   {
    "duration": 0,
    "start_time": "2022-06-13T13:23:42.151Z"
   },
   {
    "duration": 0,
    "start_time": "2022-06-13T13:23:42.152Z"
   },
   {
    "duration": 0,
    "start_time": "2022-06-13T13:23:42.153Z"
   },
   {
    "duration": 54,
    "start_time": "2022-06-13T13:24:51.412Z"
   },
   {
    "duration": 263,
    "start_time": "2022-06-13T13:24:58.163Z"
   },
   {
    "duration": 1269,
    "start_time": "2022-06-13T13:25:14.637Z"
   },
   {
    "duration": 14,
    "start_time": "2022-06-13T13:25:15.910Z"
   },
   {
    "duration": 14,
    "start_time": "2022-06-13T13:25:15.925Z"
   },
   {
    "duration": 27,
    "start_time": "2022-06-13T13:25:15.941Z"
   },
   {
    "duration": 29,
    "start_time": "2022-06-13T13:25:15.970Z"
   },
   {
    "duration": 11,
    "start_time": "2022-06-13T13:25:16.006Z"
   },
   {
    "duration": 15,
    "start_time": "2022-06-13T13:25:16.019Z"
   },
   {
    "duration": 33,
    "start_time": "2022-06-13T13:25:16.036Z"
   },
   {
    "duration": 33,
    "start_time": "2022-06-13T13:25:16.070Z"
   },
   {
    "duration": 22,
    "start_time": "2022-06-13T13:25:16.109Z"
   },
   {
    "duration": 26,
    "start_time": "2022-06-13T13:25:16.133Z"
   },
   {
    "duration": 9,
    "start_time": "2022-06-13T13:25:16.160Z"
   },
   {
    "duration": 52,
    "start_time": "2022-06-13T13:25:16.171Z"
   },
   {
    "duration": 10,
    "start_time": "2022-06-13T13:25:16.226Z"
   },
   {
    "duration": 304,
    "start_time": "2022-06-13T13:25:16.237Z"
   },
   {
    "duration": 10,
    "start_time": "2022-06-13T13:25:16.543Z"
   },
   {
    "duration": 164,
    "start_time": "2022-06-13T13:25:16.555Z"
   },
   {
    "duration": 17,
    "start_time": "2022-06-13T13:25:16.721Z"
   },
   {
    "duration": 9,
    "start_time": "2022-06-13T13:25:16.740Z"
   },
   {
    "duration": 191,
    "start_time": "2022-06-13T13:25:16.750Z"
   },
   {
    "duration": 12,
    "start_time": "2022-06-13T13:25:16.943Z"
   },
   {
    "duration": 13,
    "start_time": "2022-06-13T13:25:16.956Z"
   },
   {
    "duration": 25,
    "start_time": "2022-06-13T13:25:16.971Z"
   },
   {
    "duration": 24,
    "start_time": "2022-06-13T13:25:16.999Z"
   },
   {
    "duration": 161,
    "start_time": "2022-06-13T13:25:17.025Z"
   },
   {
    "duration": 25,
    "start_time": "2022-06-13T13:25:17.187Z"
   },
   {
    "duration": 22,
    "start_time": "2022-06-13T13:25:17.213Z"
   },
   {
    "duration": 32,
    "start_time": "2022-06-13T13:25:17.238Z"
   },
   {
    "duration": 211,
    "start_time": "2022-06-13T13:25:17.271Z"
   },
   {
    "duration": 40,
    "start_time": "2022-06-13T13:25:17.484Z"
   },
   {
    "duration": 19,
    "start_time": "2022-06-13T13:25:17.526Z"
   },
   {
    "duration": 75,
    "start_time": "2022-06-13T13:25:17.548Z"
   },
   {
    "duration": 12,
    "start_time": "2022-06-13T13:25:17.625Z"
   },
   {
    "duration": 34,
    "start_time": "2022-06-13T13:25:17.639Z"
   },
   {
    "duration": 34,
    "start_time": "2022-06-13T13:25:17.675Z"
   },
   {
    "duration": 43,
    "start_time": "2022-06-13T13:25:17.711Z"
   },
   {
    "duration": 37,
    "start_time": "2022-06-13T13:25:17.756Z"
   },
   {
    "duration": 39,
    "start_time": "2022-06-13T13:25:17.795Z"
   },
   {
    "duration": 41,
    "start_time": "2022-06-13T13:25:17.835Z"
   },
   {
    "duration": 8,
    "start_time": "2022-06-13T13:25:17.878Z"
   },
   {
    "duration": 161,
    "start_time": "2022-06-13T13:25:17.888Z"
   },
   {
    "duration": 0,
    "start_time": "2022-06-13T13:25:18.052Z"
   },
   {
    "duration": 0,
    "start_time": "2022-06-13T13:25:18.053Z"
   },
   {
    "duration": 0,
    "start_time": "2022-06-13T13:25:18.057Z"
   },
   {
    "duration": 0,
    "start_time": "2022-06-13T13:25:18.060Z"
   },
   {
    "duration": 0,
    "start_time": "2022-06-13T13:25:18.061Z"
   },
   {
    "duration": 0,
    "start_time": "2022-06-13T13:25:18.063Z"
   },
   {
    "duration": 1215,
    "start_time": "2022-06-13T13:26:23.757Z"
   },
   {
    "duration": 13,
    "start_time": "2022-06-13T13:26:24.974Z"
   },
   {
    "duration": 17,
    "start_time": "2022-06-13T13:26:24.988Z"
   },
   {
    "duration": 30,
    "start_time": "2022-06-13T13:26:25.008Z"
   },
   {
    "duration": 23,
    "start_time": "2022-06-13T13:26:25.040Z"
   },
   {
    "duration": 7,
    "start_time": "2022-06-13T13:26:25.066Z"
   },
   {
    "duration": 10,
    "start_time": "2022-06-13T13:26:25.075Z"
   },
   {
    "duration": 29,
    "start_time": "2022-06-13T13:26:25.098Z"
   },
   {
    "duration": 15,
    "start_time": "2022-06-13T13:26:25.129Z"
   },
   {
    "duration": 11,
    "start_time": "2022-06-13T13:26:25.146Z"
   },
   {
    "duration": 37,
    "start_time": "2022-06-13T13:26:25.158Z"
   },
   {
    "duration": 9,
    "start_time": "2022-06-13T13:26:25.202Z"
   },
   {
    "duration": 6,
    "start_time": "2022-06-13T13:26:25.213Z"
   },
   {
    "duration": 7,
    "start_time": "2022-06-13T13:26:25.220Z"
   },
   {
    "duration": 284,
    "start_time": "2022-06-13T13:26:25.228Z"
   },
   {
    "duration": 11,
    "start_time": "2022-06-13T13:26:25.514Z"
   },
   {
    "duration": 151,
    "start_time": "2022-06-13T13:26:25.526Z"
   },
   {
    "duration": 34,
    "start_time": "2022-06-13T13:26:25.680Z"
   },
   {
    "duration": 10,
    "start_time": "2022-06-13T13:26:25.716Z"
   },
   {
    "duration": 158,
    "start_time": "2022-06-13T13:26:25.728Z"
   },
   {
    "duration": 22,
    "start_time": "2022-06-13T13:26:25.887Z"
   },
   {
    "duration": 20,
    "start_time": "2022-06-13T13:26:25.911Z"
   },
   {
    "duration": 7,
    "start_time": "2022-06-13T13:26:25.933Z"
   },
   {
    "duration": 13,
    "start_time": "2022-06-13T13:26:25.942Z"
   },
   {
    "duration": 200,
    "start_time": "2022-06-13T13:26:25.958Z"
   },
   {
    "duration": 36,
    "start_time": "2022-06-13T13:26:26.160Z"
   },
   {
    "duration": 23,
    "start_time": "2022-06-13T13:26:26.204Z"
   },
   {
    "duration": 32,
    "start_time": "2022-06-13T13:26:26.231Z"
   },
   {
    "duration": 197,
    "start_time": "2022-06-13T13:26:26.266Z"
   },
   {
    "duration": 32,
    "start_time": "2022-06-13T13:26:26.465Z"
   },
   {
    "duration": 11,
    "start_time": "2022-06-13T13:26:26.498Z"
   },
   {
    "duration": 43,
    "start_time": "2022-06-13T13:26:26.510Z"
   },
   {
    "duration": 10,
    "start_time": "2022-06-13T13:26:26.555Z"
   },
   {
    "duration": 42,
    "start_time": "2022-06-13T13:26:26.567Z"
   },
   {
    "duration": 11,
    "start_time": "2022-06-13T13:26:26.611Z"
   },
   {
    "duration": 7,
    "start_time": "2022-06-13T13:26:26.623Z"
   },
   {
    "duration": 10,
    "start_time": "2022-06-13T13:26:26.632Z"
   },
   {
    "duration": 6,
    "start_time": "2022-06-13T13:26:26.644Z"
   },
   {
    "duration": 69,
    "start_time": "2022-06-13T13:26:26.651Z"
   },
   {
    "duration": 6,
    "start_time": "2022-06-13T13:26:26.722Z"
   },
   {
    "duration": 31,
    "start_time": "2022-06-13T13:26:26.730Z"
   },
   {
    "duration": 7457,
    "start_time": "2022-06-13T13:26:26.763Z"
   },
   {
    "duration": 133,
    "start_time": "2022-06-13T13:26:34.222Z"
   },
   {
    "duration": 0,
    "start_time": "2022-06-13T13:26:34.357Z"
   },
   {
    "duration": 0,
    "start_time": "2022-06-13T13:26:34.359Z"
   },
   {
    "duration": 0,
    "start_time": "2022-06-13T13:26:34.361Z"
   },
   {
    "duration": 0,
    "start_time": "2022-06-13T13:26:34.363Z"
   },
   {
    "duration": 1129,
    "start_time": "2022-06-13T13:36:10.005Z"
   },
   {
    "duration": 13,
    "start_time": "2022-06-13T13:36:11.136Z"
   },
   {
    "duration": 11,
    "start_time": "2022-06-13T13:36:11.150Z"
   },
   {
    "duration": 16,
    "start_time": "2022-06-13T13:36:11.163Z"
   },
   {
    "duration": 17,
    "start_time": "2022-06-13T13:36:11.194Z"
   },
   {
    "duration": 7,
    "start_time": "2022-06-13T13:36:11.212Z"
   },
   {
    "duration": 9,
    "start_time": "2022-06-13T13:36:11.220Z"
   },
   {
    "duration": 28,
    "start_time": "2022-06-13T13:36:11.230Z"
   },
   {
    "duration": 13,
    "start_time": "2022-06-13T13:36:11.260Z"
   },
   {
    "duration": 13,
    "start_time": "2022-06-13T13:36:11.294Z"
   },
   {
    "duration": 23,
    "start_time": "2022-06-13T13:36:11.308Z"
   },
   {
    "duration": 7,
    "start_time": "2022-06-13T13:36:11.333Z"
   },
   {
    "duration": 9,
    "start_time": "2022-06-13T13:36:11.342Z"
   },
   {
    "duration": 7,
    "start_time": "2022-06-13T13:36:11.352Z"
   },
   {
    "duration": 263,
    "start_time": "2022-06-13T13:36:11.361Z"
   },
   {
    "duration": 11,
    "start_time": "2022-06-13T13:36:11.626Z"
   },
   {
    "duration": 134,
    "start_time": "2022-06-13T13:36:11.639Z"
   },
   {
    "duration": 31,
    "start_time": "2022-06-13T13:36:11.775Z"
   },
   {
    "duration": 9,
    "start_time": "2022-06-13T13:36:11.807Z"
   },
   {
    "duration": 152,
    "start_time": "2022-06-13T13:36:11.817Z"
   },
   {
    "duration": 13,
    "start_time": "2022-06-13T13:36:11.970Z"
   },
   {
    "duration": 41,
    "start_time": "2022-06-13T13:36:11.984Z"
   },
   {
    "duration": 5,
    "start_time": "2022-06-13T13:36:12.034Z"
   },
   {
    "duration": 14,
    "start_time": "2022-06-13T13:36:12.041Z"
   },
   {
    "duration": 168,
    "start_time": "2022-06-13T13:36:12.056Z"
   },
   {
    "duration": 19,
    "start_time": "2022-06-13T13:36:12.226Z"
   },
   {
    "duration": 19,
    "start_time": "2022-06-13T13:36:12.246Z"
   },
   {
    "duration": 56,
    "start_time": "2022-06-13T13:36:12.268Z"
   },
   {
    "duration": 165,
    "start_time": "2022-06-13T13:36:12.326Z"
   },
   {
    "duration": 29,
    "start_time": "2022-06-13T13:36:12.494Z"
   },
   {
    "duration": 8,
    "start_time": "2022-06-13T13:36:12.524Z"
   },
   {
    "duration": 31,
    "start_time": "2022-06-13T13:36:12.533Z"
   },
   {
    "duration": 10,
    "start_time": "2022-06-13T13:36:12.565Z"
   },
   {
    "duration": 29,
    "start_time": "2022-06-13T13:36:12.576Z"
   },
   {
    "duration": 14,
    "start_time": "2022-06-13T13:36:12.606Z"
   },
   {
    "duration": 6,
    "start_time": "2022-06-13T13:36:12.621Z"
   },
   {
    "duration": 10,
    "start_time": "2022-06-13T13:36:12.628Z"
   },
   {
    "duration": 5,
    "start_time": "2022-06-13T13:36:12.640Z"
   },
   {
    "duration": 64,
    "start_time": "2022-06-13T13:36:12.647Z"
   },
   {
    "duration": 6,
    "start_time": "2022-06-13T13:36:12.714Z"
   },
   {
    "duration": 10,
    "start_time": "2022-06-13T13:36:12.721Z"
   },
   {
    "duration": 7214,
    "start_time": "2022-06-13T13:36:12.732Z"
   },
   {
    "duration": 2197037,
    "start_time": "2022-06-13T13:36:19.947Z"
   },
   {
    "duration": 12,
    "start_time": "2022-06-13T14:12:56.985Z"
   },
   {
    "duration": 8,
    "start_time": "2022-06-13T14:12:56.999Z"
   },
   {
    "duration": 88,
    "start_time": "2022-06-13T14:12:57.010Z"
   },
   {
    "duration": 137,
    "start_time": "2022-06-13T14:12:57.101Z"
   },
   {
    "duration": 1873,
    "start_time": "2022-06-16T19:12:43.566Z"
   },
   {
    "duration": 14,
    "start_time": "2022-06-16T19:12:45.441Z"
   },
   {
    "duration": 13,
    "start_time": "2022-06-16T19:12:45.457Z"
   },
   {
    "duration": 29,
    "start_time": "2022-06-16T19:12:45.472Z"
   },
   {
    "duration": 57,
    "start_time": "2022-06-16T19:12:45.503Z"
   },
   {
    "duration": 10,
    "start_time": "2022-06-16T19:12:45.562Z"
   },
   {
    "duration": 24,
    "start_time": "2022-06-16T19:12:45.574Z"
   },
   {
    "duration": 96,
    "start_time": "2022-06-16T19:12:45.602Z"
   },
   {
    "duration": 24,
    "start_time": "2022-06-16T19:12:45.702Z"
   },
   {
    "duration": 16,
    "start_time": "2022-06-16T19:12:45.728Z"
   },
   {
    "duration": 25,
    "start_time": "2022-06-16T19:12:45.746Z"
   },
   {
    "duration": 8,
    "start_time": "2022-06-16T19:12:45.772Z"
   },
   {
    "duration": 51,
    "start_time": "2022-06-16T19:12:45.785Z"
   },
   {
    "duration": 12,
    "start_time": "2022-06-16T19:12:45.839Z"
   },
   {
    "duration": 308,
    "start_time": "2022-06-16T19:12:45.853Z"
   },
   {
    "duration": 15,
    "start_time": "2022-06-16T19:12:46.163Z"
   },
   {
    "duration": 175,
    "start_time": "2022-06-16T19:12:46.186Z"
   },
   {
    "duration": 32,
    "start_time": "2022-06-16T19:12:46.363Z"
   },
   {
    "duration": 34,
    "start_time": "2022-06-16T19:12:46.396Z"
   },
   {
    "duration": 159,
    "start_time": "2022-06-16T19:12:46.431Z"
   },
   {
    "duration": 22,
    "start_time": "2022-06-16T19:12:46.599Z"
   },
   {
    "duration": 22,
    "start_time": "2022-06-16T19:12:46.623Z"
   },
   {
    "duration": 5,
    "start_time": "2022-06-16T19:12:46.648Z"
   },
   {
    "duration": 12,
    "start_time": "2022-06-16T19:12:46.655Z"
   },
   {
    "duration": 207,
    "start_time": "2022-06-16T19:12:46.669Z"
   },
   {
    "duration": 29,
    "start_time": "2022-06-16T19:12:46.877Z"
   },
   {
    "duration": 40,
    "start_time": "2022-06-16T19:12:46.908Z"
   },
   {
    "duration": 40,
    "start_time": "2022-06-16T19:12:46.950Z"
   },
   {
    "duration": 179,
    "start_time": "2022-06-16T19:12:46.997Z"
   },
   {
    "duration": 164,
    "start_time": "2022-06-16T19:12:47.178Z"
   },
   {
    "duration": 8,
    "start_time": "2022-06-16T19:12:47.344Z"
   },
   {
    "duration": 64,
    "start_time": "2022-06-16T19:12:47.354Z"
   },
   {
    "duration": 13,
    "start_time": "2022-06-16T19:12:47.420Z"
   },
   {
    "duration": 18,
    "start_time": "2022-06-16T19:12:47.434Z"
   },
   {
    "duration": 14,
    "start_time": "2022-06-16T19:12:47.454Z"
   },
   {
    "duration": 12,
    "start_time": "2022-06-16T19:12:47.470Z"
   },
   {
    "duration": 47,
    "start_time": "2022-06-16T19:12:47.483Z"
   },
   {
    "duration": 7,
    "start_time": "2022-06-16T19:12:47.531Z"
   },
   {
    "duration": 55,
    "start_time": "2022-06-16T19:12:47.539Z"
   },
   {
    "duration": 9,
    "start_time": "2022-06-16T19:12:47.601Z"
   },
   {
    "duration": 33,
    "start_time": "2022-06-16T19:12:47.618Z"
   },
   {
    "duration": 13314,
    "start_time": "2022-06-16T19:12:47.653Z"
   },
   {
    "duration": 2603771,
    "start_time": "2022-06-16T19:13:00.969Z"
   },
   {
    "duration": 14,
    "start_time": "2022-06-16T19:56:24.743Z"
   },
   {
    "duration": 47,
    "start_time": "2022-06-16T19:56:24.758Z"
   },
   {
    "duration": 127,
    "start_time": "2022-06-16T19:56:24.809Z"
   },
   {
    "duration": 171,
    "start_time": "2022-06-16T19:56:24.938Z"
   },
   {
    "duration": 2152,
    "start_time": "2022-06-17T07:20:05.479Z"
   },
   {
    "duration": 15,
    "start_time": "2022-06-17T07:20:07.634Z"
   },
   {
    "duration": 53,
    "start_time": "2022-06-17T07:20:07.651Z"
   },
   {
    "duration": 26,
    "start_time": "2022-06-17T07:20:07.707Z"
   },
   {
    "duration": 25,
    "start_time": "2022-06-17T07:20:07.734Z"
   },
   {
    "duration": 9,
    "start_time": "2022-06-17T07:20:07.761Z"
   },
   {
    "duration": 34,
    "start_time": "2022-06-17T07:20:07.772Z"
   },
   {
    "duration": 51,
    "start_time": "2022-06-17T07:20:07.807Z"
   },
   {
    "duration": 42,
    "start_time": "2022-06-17T07:20:07.860Z"
   },
   {
    "duration": 12,
    "start_time": "2022-06-17T07:20:07.905Z"
   },
   {
    "duration": 33,
    "start_time": "2022-06-17T07:20:07.919Z"
   },
   {
    "duration": 12,
    "start_time": "2022-06-17T07:20:07.954Z"
   },
   {
    "duration": 24,
    "start_time": "2022-06-17T07:20:07.968Z"
   },
   {
    "duration": 34,
    "start_time": "2022-06-17T07:20:07.994Z"
   },
   {
    "duration": 304,
    "start_time": "2022-06-17T07:20:08.030Z"
   },
   {
    "duration": 15,
    "start_time": "2022-06-17T07:20:08.336Z"
   },
   {
    "duration": 181,
    "start_time": "2022-06-17T07:20:08.353Z"
   },
   {
    "duration": 22,
    "start_time": "2022-06-17T07:20:08.536Z"
   },
   {
    "duration": 26,
    "start_time": "2022-06-17T07:20:08.560Z"
   },
   {
    "duration": 170,
    "start_time": "2022-06-17T07:20:08.588Z"
   },
   {
    "duration": 15,
    "start_time": "2022-06-17T07:20:08.760Z"
   },
   {
    "duration": 25,
    "start_time": "2022-06-17T07:20:08.777Z"
   },
   {
    "duration": 5,
    "start_time": "2022-06-17T07:20:08.804Z"
   },
   {
    "duration": 31,
    "start_time": "2022-06-17T07:20:08.811Z"
   },
   {
    "duration": 188,
    "start_time": "2022-06-17T07:20:08.844Z"
   },
   {
    "duration": 22,
    "start_time": "2022-06-17T07:20:09.034Z"
   },
   {
    "duration": 22,
    "start_time": "2022-06-17T07:20:09.058Z"
   },
   {
    "duration": 47,
    "start_time": "2022-06-17T07:20:09.083Z"
   },
   {
    "duration": 183,
    "start_time": "2022-06-17T07:20:09.132Z"
   },
   {
    "duration": 91,
    "start_time": "2022-06-17T07:20:09.317Z"
   },
   {
    "duration": 8,
    "start_time": "2022-06-17T07:20:09.410Z"
   },
   {
    "duration": 46,
    "start_time": "2022-06-17T07:20:09.420Z"
   },
   {
    "duration": 10,
    "start_time": "2022-06-17T07:20:09.468Z"
   },
   {
    "duration": 15,
    "start_time": "2022-06-17T07:20:09.479Z"
   },
   {
    "duration": 17,
    "start_time": "2022-06-17T07:20:09.496Z"
   },
   {
    "duration": 14,
    "start_time": "2022-06-17T07:20:09.515Z"
   },
   {
    "duration": 11,
    "start_time": "2022-06-17T07:20:09.531Z"
   },
   {
    "duration": 7,
    "start_time": "2022-06-17T07:20:09.545Z"
   },
   {
    "duration": 73,
    "start_time": "2022-06-17T07:20:09.554Z"
   },
   {
    "duration": 5,
    "start_time": "2022-06-17T07:20:09.629Z"
   },
   {
    "duration": 13,
    "start_time": "2022-06-17T07:20:09.636Z"
   },
   {
    "duration": 11043,
    "start_time": "2022-06-17T07:20:09.651Z"
   },
   {
    "duration": 167,
    "start_time": "2022-06-17T07:20:20.696Z"
   },
   {
    "duration": 0,
    "start_time": "2022-06-17T07:20:20.865Z"
   },
   {
    "duration": 0,
    "start_time": "2022-06-17T07:20:20.866Z"
   },
   {
    "duration": 0,
    "start_time": "2022-06-17T07:20:20.867Z"
   },
   {
    "duration": 0,
    "start_time": "2022-06-17T07:20:20.868Z"
   },
   {
    "duration": 1340,
    "start_time": "2022-06-17T07:21:42.926Z"
   },
   {
    "duration": 15,
    "start_time": "2022-06-17T07:21:44.268Z"
   },
   {
    "duration": 14,
    "start_time": "2022-06-17T07:21:44.285Z"
   },
   {
    "duration": 37,
    "start_time": "2022-06-17T07:21:44.301Z"
   },
   {
    "duration": 25,
    "start_time": "2022-06-17T07:21:44.340Z"
   },
   {
    "duration": 8,
    "start_time": "2022-06-17T07:21:44.367Z"
   },
   {
    "duration": 19,
    "start_time": "2022-06-17T07:21:44.376Z"
   },
   {
    "duration": 48,
    "start_time": "2022-06-17T07:21:44.399Z"
   },
   {
    "duration": 21,
    "start_time": "2022-06-17T07:21:44.450Z"
   },
   {
    "duration": 18,
    "start_time": "2022-06-17T07:21:44.475Z"
   },
   {
    "duration": 54,
    "start_time": "2022-06-17T07:21:44.494Z"
   },
   {
    "duration": 11,
    "start_time": "2022-06-17T07:21:44.550Z"
   },
   {
    "duration": 17,
    "start_time": "2022-06-17T07:21:44.562Z"
   },
   {
    "duration": 9,
    "start_time": "2022-06-17T07:21:44.581Z"
   },
   {
    "duration": 276,
    "start_time": "2022-06-17T07:21:44.593Z"
   },
   {
    "duration": 12,
    "start_time": "2022-06-17T07:21:44.871Z"
   },
   {
    "duration": 160,
    "start_time": "2022-06-17T07:21:44.884Z"
   },
   {
    "duration": 20,
    "start_time": "2022-06-17T07:21:45.046Z"
   },
   {
    "duration": 25,
    "start_time": "2022-06-17T07:21:45.067Z"
   },
   {
    "duration": 173,
    "start_time": "2022-06-17T07:21:45.093Z"
   },
   {
    "duration": 13,
    "start_time": "2022-06-17T07:21:45.267Z"
   },
   {
    "duration": 21,
    "start_time": "2022-06-17T07:21:45.281Z"
   },
   {
    "duration": 5,
    "start_time": "2022-06-17T07:21:45.303Z"
   },
   {
    "duration": 35,
    "start_time": "2022-06-17T07:21:45.309Z"
   },
   {
    "duration": 170,
    "start_time": "2022-06-17T07:21:45.346Z"
   },
   {
    "duration": 28,
    "start_time": "2022-06-17T07:21:45.518Z"
   },
   {
    "duration": 23,
    "start_time": "2022-06-17T07:21:45.548Z"
   },
   {
    "duration": 33,
    "start_time": "2022-06-17T07:21:45.575Z"
   },
   {
    "duration": 189,
    "start_time": "2022-06-17T07:21:45.610Z"
   },
   {
    "duration": 17,
    "start_time": "2022-06-17T07:21:45.801Z"
   },
   {
    "duration": 8,
    "start_time": "2022-06-17T07:21:45.826Z"
   },
   {
    "duration": 46,
    "start_time": "2022-06-17T07:21:45.835Z"
   },
   {
    "duration": 8,
    "start_time": "2022-06-17T07:21:45.883Z"
   },
   {
    "duration": 20,
    "start_time": "2022-06-17T07:21:45.893Z"
   },
   {
    "duration": 22,
    "start_time": "2022-06-17T07:21:45.915Z"
   },
   {
    "duration": 14,
    "start_time": "2022-06-17T07:21:45.939Z"
   },
   {
    "duration": 13,
    "start_time": "2022-06-17T07:21:45.955Z"
   },
   {
    "duration": 10,
    "start_time": "2022-06-17T07:21:45.970Z"
   },
   {
    "duration": 56,
    "start_time": "2022-06-17T07:21:45.982Z"
   },
   {
    "duration": 6,
    "start_time": "2022-06-17T07:21:46.039Z"
   },
   {
    "duration": 12,
    "start_time": "2022-06-17T07:21:46.047Z"
   },
   {
    "duration": 8460,
    "start_time": "2022-06-17T07:21:46.061Z"
   },
   {
    "duration": 154,
    "start_time": "2022-06-17T07:21:54.524Z"
   },
   {
    "duration": 0,
    "start_time": "2022-06-17T07:21:54.679Z"
   },
   {
    "duration": 0,
    "start_time": "2022-06-17T07:21:54.681Z"
   },
   {
    "duration": 0,
    "start_time": "2022-06-17T07:21:54.682Z"
   },
   {
    "duration": 0,
    "start_time": "2022-06-17T07:21:54.683Z"
   },
   {
    "duration": 1327,
    "start_time": "2022-06-17T07:24:48.024Z"
   },
   {
    "duration": 14,
    "start_time": "2022-06-17T07:24:49.354Z"
   },
   {
    "duration": 47,
    "start_time": "2022-06-17T07:24:49.369Z"
   },
   {
    "duration": 42,
    "start_time": "2022-06-17T07:24:49.418Z"
   },
   {
    "duration": 52,
    "start_time": "2022-06-17T07:24:49.462Z"
   },
   {
    "duration": 9,
    "start_time": "2022-06-17T07:24:49.516Z"
   },
   {
    "duration": 34,
    "start_time": "2022-06-17T07:24:49.527Z"
   },
   {
    "duration": 36,
    "start_time": "2022-06-17T07:24:49.562Z"
   },
   {
    "duration": 28,
    "start_time": "2022-06-17T07:24:49.599Z"
   },
   {
    "duration": 32,
    "start_time": "2022-06-17T07:24:49.630Z"
   },
   {
    "duration": 21,
    "start_time": "2022-06-17T07:24:49.664Z"
   },
   {
    "duration": 8,
    "start_time": "2022-06-17T07:24:49.687Z"
   },
   {
    "duration": 22,
    "start_time": "2022-06-17T07:24:49.697Z"
   },
   {
    "duration": 30,
    "start_time": "2022-06-17T07:24:49.721Z"
   },
   {
    "duration": 308,
    "start_time": "2022-06-17T07:24:49.753Z"
   },
   {
    "duration": 12,
    "start_time": "2022-06-17T07:24:50.063Z"
   },
   {
    "duration": 184,
    "start_time": "2022-06-17T07:24:50.076Z"
   },
   {
    "duration": 22,
    "start_time": "2022-06-17T07:24:50.262Z"
   },
   {
    "duration": 47,
    "start_time": "2022-06-17T07:24:50.286Z"
   },
   {
    "duration": 197,
    "start_time": "2022-06-17T07:24:50.335Z"
   },
   {
    "duration": 16,
    "start_time": "2022-06-17T07:24:50.534Z"
   },
   {
    "duration": 55,
    "start_time": "2022-06-17T07:24:50.552Z"
   },
   {
    "duration": 30,
    "start_time": "2022-06-17T07:24:50.609Z"
   },
   {
    "duration": 46,
    "start_time": "2022-06-17T07:24:50.641Z"
   },
   {
    "duration": 201,
    "start_time": "2022-06-17T07:24:50.689Z"
   },
   {
    "duration": 38,
    "start_time": "2022-06-17T07:24:50.892Z"
   },
   {
    "duration": 59,
    "start_time": "2022-06-17T07:24:50.932Z"
   },
   {
    "duration": 65,
    "start_time": "2022-06-17T07:24:50.995Z"
   },
   {
    "duration": 213,
    "start_time": "2022-06-17T07:24:51.062Z"
   },
   {
    "duration": 33,
    "start_time": "2022-06-17T07:24:51.277Z"
   },
   {
    "duration": 34,
    "start_time": "2022-06-17T07:24:51.313Z"
   },
   {
    "duration": 82,
    "start_time": "2022-06-17T07:24:51.350Z"
   },
   {
    "duration": 24,
    "start_time": "2022-06-17T07:24:51.434Z"
   },
   {
    "duration": 32,
    "start_time": "2022-06-17T07:24:51.460Z"
   },
   {
    "duration": 50,
    "start_time": "2022-06-17T07:24:51.494Z"
   },
   {
    "duration": 41,
    "start_time": "2022-06-17T07:24:51.546Z"
   },
   {
    "duration": 21,
    "start_time": "2022-06-17T07:24:51.589Z"
   },
   {
    "duration": 20,
    "start_time": "2022-06-17T07:24:51.612Z"
   },
   {
    "duration": 70,
    "start_time": "2022-06-17T07:24:51.634Z"
   },
   {
    "duration": 7,
    "start_time": "2022-06-17T07:24:51.706Z"
   },
   {
    "duration": 61,
    "start_time": "2022-06-17T07:24:51.715Z"
   },
   {
    "duration": 8732,
    "start_time": "2022-06-17T07:24:51.778Z"
   },
   {
    "duration": 2015535,
    "start_time": "2022-06-17T07:25:00.512Z"
   },
   {
    "duration": 11,
    "start_time": "2022-06-17T07:58:36.049Z"
   },
   {
    "duration": 15,
    "start_time": "2022-06-17T07:58:36.061Z"
   },
   {
    "duration": 73,
    "start_time": "2022-06-17T07:58:36.078Z"
   },
   {
    "duration": 118,
    "start_time": "2022-06-17T07:58:36.153Z"
   },
   {
    "duration": 1363,
    "start_time": "2022-06-17T09:20:36.926Z"
   },
   {
    "duration": 17,
    "start_time": "2022-06-17T09:20:38.291Z"
   },
   {
    "duration": 61,
    "start_time": "2022-06-17T09:20:38.310Z"
   },
   {
    "duration": 29,
    "start_time": "2022-06-17T09:20:38.374Z"
   },
   {
    "duration": 19,
    "start_time": "2022-06-17T09:20:38.404Z"
   },
   {
    "duration": 9,
    "start_time": "2022-06-17T09:20:38.424Z"
   },
   {
    "duration": 18,
    "start_time": "2022-06-17T09:20:38.435Z"
   },
   {
    "duration": 34,
    "start_time": "2022-06-17T09:20:38.454Z"
   },
   {
    "duration": 17,
    "start_time": "2022-06-17T09:20:38.490Z"
   },
   {
    "duration": 12,
    "start_time": "2022-06-17T09:20:38.527Z"
   },
   {
    "duration": 21,
    "start_time": "2022-06-17T09:20:38.541Z"
   },
   {
    "duration": 8,
    "start_time": "2022-06-17T09:20:38.563Z"
   },
   {
    "duration": 7,
    "start_time": "2022-06-17T09:20:38.573Z"
   },
   {
    "duration": 45,
    "start_time": "2022-06-17T09:20:38.582Z"
   },
   {
    "duration": 290,
    "start_time": "2022-06-17T09:20:38.630Z"
   },
   {
    "duration": 13,
    "start_time": "2022-06-17T09:20:38.923Z"
   },
   {
    "duration": 188,
    "start_time": "2022-06-17T09:20:38.938Z"
   },
   {
    "duration": 22,
    "start_time": "2022-06-17T09:20:39.128Z"
   },
   {
    "duration": 10,
    "start_time": "2022-06-17T09:20:39.151Z"
   },
   {
    "duration": 180,
    "start_time": "2022-06-17T09:20:39.162Z"
   },
   {
    "duration": 14,
    "start_time": "2022-06-17T09:20:39.344Z"
   },
   {
    "duration": 18,
    "start_time": "2022-06-17T09:20:39.360Z"
   },
   {
    "duration": 4,
    "start_time": "2022-06-17T09:20:39.380Z"
   },
   {
    "duration": 16,
    "start_time": "2022-06-17T09:20:39.385Z"
   },
   {
    "duration": 179,
    "start_time": "2022-06-17T09:20:39.425Z"
   },
   {
    "duration": 28,
    "start_time": "2022-06-17T09:20:39.606Z"
   },
   {
    "duration": 21,
    "start_time": "2022-06-17T09:20:39.635Z"
   },
   {
    "duration": 32,
    "start_time": "2022-06-17T09:20:39.660Z"
   },
   {
    "duration": 197,
    "start_time": "2022-06-17T09:20:39.693Z"
   },
   {
    "duration": 17,
    "start_time": "2022-06-17T09:20:39.892Z"
   },
   {
    "duration": 8,
    "start_time": "2022-06-17T09:20:39.925Z"
   },
   {
    "duration": 40,
    "start_time": "2022-06-17T09:20:39.935Z"
   },
   {
    "duration": 9,
    "start_time": "2022-06-17T09:20:39.977Z"
   },
   {
    "duration": 39,
    "start_time": "2022-06-17T09:20:39.988Z"
   },
   {
    "duration": 14,
    "start_time": "2022-06-17T09:20:40.029Z"
   },
   {
    "duration": 8,
    "start_time": "2022-06-17T09:20:40.044Z"
   },
   {
    "duration": 15,
    "start_time": "2022-06-17T09:20:40.054Z"
   },
   {
    "duration": 7,
    "start_time": "2022-06-17T09:20:40.071Z"
   },
   {
    "duration": 82,
    "start_time": "2022-06-17T09:20:40.080Z"
   },
   {
    "duration": 5,
    "start_time": "2022-06-17T09:20:40.164Z"
   },
   {
    "duration": 12,
    "start_time": "2022-06-17T09:20:40.170Z"
   },
   {
    "duration": 8167,
    "start_time": "2022-06-17T09:20:40.184Z"
   },
   {
    "duration": 1828609,
    "start_time": "2022-06-17T09:20:48.353Z"
   },
   {
    "duration": 18,
    "start_time": "2022-06-17T09:51:16.965Z"
   },
   {
    "duration": 13,
    "start_time": "2022-06-17T09:51:16.985Z"
   },
   {
    "duration": 78,
    "start_time": "2022-06-17T09:51:17.000Z"
   },
   {
    "duration": 190,
    "start_time": "2022-06-17T09:51:17.081Z"
   },
   {
    "duration": 66,
    "start_time": "2022-06-17T10:05:07.383Z"
   },
   {
    "duration": 76,
    "start_time": "2022-06-17T10:05:31.496Z"
   },
   {
    "duration": 378,
    "start_time": "2022-06-17T10:06:40.801Z"
   },
   {
    "duration": 6,
    "start_time": "2022-06-17T10:07:22.599Z"
   },
   {
    "duration": 7,
    "start_time": "2022-06-17T10:07:32.058Z"
   },
   {
    "duration": 5,
    "start_time": "2022-06-17T10:07:39.000Z"
   },
   {
    "duration": 64,
    "start_time": "2022-06-17T10:07:56.931Z"
   },
   {
    "duration": 7,
    "start_time": "2022-06-17T10:08:23.282Z"
   },
   {
    "duration": 16,
    "start_time": "2022-06-17T10:08:58.732Z"
   },
   {
    "duration": 1565,
    "start_time": "2022-06-17T10:55:22.917Z"
   },
   {
    "duration": 23,
    "start_time": "2022-06-17T10:55:24.484Z"
   },
   {
    "duration": 31,
    "start_time": "2022-06-17T10:55:24.509Z"
   },
   {
    "duration": 42,
    "start_time": "2022-06-17T10:55:24.543Z"
   },
   {
    "duration": 40,
    "start_time": "2022-06-17T10:55:24.587Z"
   },
   {
    "duration": 18,
    "start_time": "2022-06-17T10:55:24.629Z"
   },
   {
    "duration": 48,
    "start_time": "2022-06-17T10:55:24.649Z"
   },
   {
    "duration": 44,
    "start_time": "2022-06-17T10:55:24.699Z"
   },
   {
    "duration": 59,
    "start_time": "2022-06-17T10:55:24.745Z"
   },
   {
    "duration": 24,
    "start_time": "2022-06-17T10:55:24.807Z"
   },
   {
    "duration": 30,
    "start_time": "2022-06-17T10:55:24.833Z"
   },
   {
    "duration": 17,
    "start_time": "2022-06-17T10:55:24.865Z"
   },
   {
    "duration": 21,
    "start_time": "2022-06-17T10:55:24.884Z"
   },
   {
    "duration": 29,
    "start_time": "2022-06-17T10:55:24.907Z"
   },
   {
    "duration": 302,
    "start_time": "2022-06-17T10:55:24.938Z"
   },
   {
    "duration": 15,
    "start_time": "2022-06-17T10:55:25.242Z"
   },
   {
    "duration": 233,
    "start_time": "2022-06-17T10:55:25.259Z"
   },
   {
    "duration": 34,
    "start_time": "2022-06-17T10:55:25.494Z"
   },
   {
    "duration": 13,
    "start_time": "2022-06-17T10:55:25.530Z"
   },
   {
    "duration": 204,
    "start_time": "2022-06-17T10:55:25.545Z"
   },
   {
    "duration": 16,
    "start_time": "2022-06-17T10:55:25.751Z"
   },
   {
    "duration": 22,
    "start_time": "2022-06-17T10:55:25.770Z"
   },
   {
    "duration": 8,
    "start_time": "2022-06-17T10:55:25.794Z"
   },
   {
    "duration": 8,
    "start_time": "2022-06-17T10:55:25.827Z"
   },
   {
    "duration": 214,
    "start_time": "2022-06-17T10:55:25.837Z"
   },
   {
    "duration": 23,
    "start_time": "2022-06-17T10:55:26.054Z"
   },
   {
    "duration": 33,
    "start_time": "2022-06-17T10:55:26.079Z"
   },
   {
    "duration": 57,
    "start_time": "2022-06-17T10:55:26.126Z"
   },
   {
    "duration": 236,
    "start_time": "2022-06-17T10:55:26.185Z"
   },
   {
    "duration": 22,
    "start_time": "2022-06-17T10:55:26.423Z"
   },
   {
    "duration": 9,
    "start_time": "2022-06-17T10:55:26.447Z"
   },
   {
    "duration": 72,
    "start_time": "2022-06-17T10:55:26.458Z"
   },
   {
    "duration": 12,
    "start_time": "2022-06-17T10:55:26.531Z"
   },
   {
    "duration": 18,
    "start_time": "2022-06-17T10:55:26.545Z"
   },
   {
    "duration": 26,
    "start_time": "2022-06-17T10:55:26.565Z"
   },
   {
    "duration": 34,
    "start_time": "2022-06-17T10:55:26.594Z"
   },
   {
    "duration": 16,
    "start_time": "2022-06-17T10:55:26.630Z"
   },
   {
    "duration": 8,
    "start_time": "2022-06-17T10:55:26.648Z"
   },
   {
    "duration": 80,
    "start_time": "2022-06-17T10:55:26.658Z"
   },
   {
    "duration": 6,
    "start_time": "2022-06-17T10:55:26.740Z"
   },
   {
    "duration": 18,
    "start_time": "2022-06-17T10:55:26.749Z"
   },
   {
    "duration": 10149,
    "start_time": "2022-06-17T10:55:26.769Z"
   },
   {
    "duration": 14891,
    "start_time": "2022-06-17T10:55:36.921Z"
   },
   {
    "duration": 0,
    "start_time": "2022-06-17T10:55:51.814Z"
   },
   {
    "duration": 0,
    "start_time": "2022-06-17T10:55:51.817Z"
   },
   {
    "duration": 0,
    "start_time": "2022-06-17T10:55:51.819Z"
   },
   {
    "duration": 0,
    "start_time": "2022-06-17T10:55:51.819Z"
   },
   {
    "duration": 0,
    "start_time": "2022-06-17T10:55:51.822Z"
   },
   {
    "duration": 0,
    "start_time": "2022-06-17T10:55:51.823Z"
   },
   {
    "duration": 1503,
    "start_time": "2022-06-17T10:55:55.605Z"
   },
   {
    "duration": 18,
    "start_time": "2022-06-17T10:55:57.111Z"
   },
   {
    "duration": 15,
    "start_time": "2022-06-17T10:55:57.131Z"
   },
   {
    "duration": 26,
    "start_time": "2022-06-17T10:55:57.148Z"
   },
   {
    "duration": 22,
    "start_time": "2022-06-17T10:55:57.176Z"
   },
   {
    "duration": 35,
    "start_time": "2022-06-17T10:55:57.200Z"
   },
   {
    "duration": 25,
    "start_time": "2022-06-17T10:55:57.237Z"
   },
   {
    "duration": 37,
    "start_time": "2022-06-17T10:55:57.264Z"
   },
   {
    "duration": 41,
    "start_time": "2022-06-17T10:55:57.303Z"
   },
   {
    "duration": 15,
    "start_time": "2022-06-17T10:55:57.347Z"
   },
   {
    "duration": 27,
    "start_time": "2022-06-17T10:55:57.364Z"
   },
   {
    "duration": 13,
    "start_time": "2022-06-17T10:55:57.426Z"
   },
   {
    "duration": 5,
    "start_time": "2022-06-17T10:55:57.443Z"
   },
   {
    "duration": 10,
    "start_time": "2022-06-17T10:55:57.450Z"
   },
   {
    "duration": 376,
    "start_time": "2022-06-17T10:55:57.462Z"
   },
   {
    "duration": 15,
    "start_time": "2022-06-17T10:55:57.841Z"
   },
   {
    "duration": 238,
    "start_time": "2022-06-17T10:55:57.858Z"
   },
   {
    "duration": 40,
    "start_time": "2022-06-17T10:55:58.098Z"
   },
   {
    "duration": 70,
    "start_time": "2022-06-17T10:55:58.142Z"
   },
   {
    "duration": 258,
    "start_time": "2022-06-17T10:55:58.215Z"
   },
   {
    "duration": 18,
    "start_time": "2022-06-17T10:55:58.475Z"
   },
   {
    "duration": 67,
    "start_time": "2022-06-17T10:55:58.495Z"
   },
   {
    "duration": 39,
    "start_time": "2022-06-17T10:55:58.564Z"
   },
   {
    "duration": 31,
    "start_time": "2022-06-17T10:55:58.605Z"
   },
   {
    "duration": 509,
    "start_time": "2022-06-17T10:55:58.638Z"
   },
   {
    "duration": 82,
    "start_time": "2022-06-17T10:55:59.150Z"
   },
   {
    "duration": 29,
    "start_time": "2022-06-17T10:55:59.234Z"
   },
   {
    "duration": 71,
    "start_time": "2022-06-17T10:55:59.267Z"
   },
   {
    "duration": 226,
    "start_time": "2022-06-17T10:55:59.340Z"
   },
   {
    "duration": 22,
    "start_time": "2022-06-17T10:55:59.568Z"
   },
   {
    "duration": 9,
    "start_time": "2022-06-17T10:55:59.592Z"
   },
   {
    "duration": 94,
    "start_time": "2022-06-17T10:55:59.604Z"
   },
   {
    "duration": 12,
    "start_time": "2022-06-17T10:55:59.700Z"
   },
   {
    "duration": 39,
    "start_time": "2022-06-17T10:55:59.714Z"
   },
   {
    "duration": 27,
    "start_time": "2022-06-17T10:55:59.755Z"
   },
   {
    "duration": 10,
    "start_time": "2022-06-17T10:55:59.785Z"
   },
   {
    "duration": 17,
    "start_time": "2022-06-17T10:55:59.797Z"
   },
   {
    "duration": 20,
    "start_time": "2022-06-17T10:55:59.816Z"
   },
   {
    "duration": 72,
    "start_time": "2022-06-17T10:55:59.838Z"
   },
   {
    "duration": 7,
    "start_time": "2022-06-17T10:55:59.912Z"
   },
   {
    "duration": 11,
    "start_time": "2022-06-17T10:55:59.926Z"
   },
   {
    "duration": 9915,
    "start_time": "2022-06-17T10:55:59.939Z"
   },
   {
    "duration": 31653,
    "start_time": "2022-06-17T10:56:09.857Z"
   },
   {
    "duration": 0,
    "start_time": "2022-06-17T10:56:41.513Z"
   },
   {
    "duration": 0,
    "start_time": "2022-06-17T10:56:41.516Z"
   },
   {
    "duration": 0,
    "start_time": "2022-06-17T10:56:41.517Z"
   },
   {
    "duration": 0,
    "start_time": "2022-06-17T10:56:41.525Z"
   },
   {
    "duration": 0,
    "start_time": "2022-06-17T10:56:41.526Z"
   },
   {
    "duration": 0,
    "start_time": "2022-06-17T10:56:41.528Z"
   },
   {
    "duration": 1512,
    "start_time": "2022-06-17T10:56:45.641Z"
   },
   {
    "duration": 18,
    "start_time": "2022-06-17T10:56:47.155Z"
   },
   {
    "duration": 26,
    "start_time": "2022-06-17T10:56:47.175Z"
   },
   {
    "duration": 45,
    "start_time": "2022-06-17T10:56:47.203Z"
   },
   {
    "duration": 36,
    "start_time": "2022-06-17T10:56:47.251Z"
   },
   {
    "duration": 12,
    "start_time": "2022-06-17T10:56:47.289Z"
   },
   {
    "duration": 33,
    "start_time": "2022-06-17T10:56:47.303Z"
   },
   {
    "duration": 32,
    "start_time": "2022-06-17T10:56:47.339Z"
   },
   {
    "duration": 26,
    "start_time": "2022-06-17T10:56:47.374Z"
   },
   {
    "duration": 33,
    "start_time": "2022-06-17T10:56:47.427Z"
   },
   {
    "duration": 45,
    "start_time": "2022-06-17T10:56:47.462Z"
   },
   {
    "duration": 12,
    "start_time": "2022-06-17T10:56:47.510Z"
   },
   {
    "duration": 29,
    "start_time": "2022-06-17T10:56:47.524Z"
   },
   {
    "duration": 43,
    "start_time": "2022-06-17T10:56:47.557Z"
   },
   {
    "duration": 343,
    "start_time": "2022-06-17T10:56:47.602Z"
   },
   {
    "duration": 17,
    "start_time": "2022-06-17T10:56:47.947Z"
   },
   {
    "duration": 212,
    "start_time": "2022-06-17T10:56:47.966Z"
   },
   {
    "duration": 46,
    "start_time": "2022-06-17T10:56:48.180Z"
   },
   {
    "duration": 16,
    "start_time": "2022-06-17T10:56:48.228Z"
   },
   {
    "duration": 216,
    "start_time": "2022-06-17T10:56:48.247Z"
   },
   {
    "duration": 18,
    "start_time": "2022-06-17T10:56:48.465Z"
   },
   {
    "duration": 41,
    "start_time": "2022-06-17T10:56:48.486Z"
   },
   {
    "duration": 7,
    "start_time": "2022-06-17T10:56:48.531Z"
   },
   {
    "duration": 26,
    "start_time": "2022-06-17T10:56:48.541Z"
   },
   {
    "duration": 242,
    "start_time": "2022-06-17T10:56:48.570Z"
   },
   {
    "duration": 44,
    "start_time": "2022-06-17T10:56:48.814Z"
   },
   {
    "duration": 25,
    "start_time": "2022-06-17T10:56:48.861Z"
   },
   {
    "duration": 71,
    "start_time": "2022-06-17T10:56:48.888Z"
   },
   {
    "duration": 232,
    "start_time": "2022-06-17T10:56:48.961Z"
   },
   {
    "duration": 43,
    "start_time": "2022-06-17T10:56:49.196Z"
   },
   {
    "duration": 11,
    "start_time": "2022-06-17T10:56:49.242Z"
   },
   {
    "duration": 48,
    "start_time": "2022-06-17T10:56:49.255Z"
   },
   {
    "duration": 29,
    "start_time": "2022-06-17T10:56:49.305Z"
   },
   {
    "duration": 23,
    "start_time": "2022-06-17T10:56:49.336Z"
   },
   {
    "duration": 18,
    "start_time": "2022-06-17T10:56:49.361Z"
   },
   {
    "duration": 11,
    "start_time": "2022-06-17T10:56:49.380Z"
   },
   {
    "duration": 44,
    "start_time": "2022-06-17T10:56:49.393Z"
   },
   {
    "duration": 10,
    "start_time": "2022-06-17T10:56:49.439Z"
   },
   {
    "duration": 77,
    "start_time": "2022-06-17T10:56:49.451Z"
   },
   {
    "duration": 7,
    "start_time": "2022-06-17T10:56:49.529Z"
   },
   {
    "duration": 19,
    "start_time": "2022-06-17T10:56:49.540Z"
   },
   {
    "duration": 9886,
    "start_time": "2022-06-17T10:56:49.560Z"
   },
   {
    "duration": 47012,
    "start_time": "2022-06-17T10:56:59.448Z"
   },
   {
    "duration": 0,
    "start_time": "2022-06-17T10:57:46.462Z"
   },
   {
    "duration": 0,
    "start_time": "2022-06-17T10:57:46.464Z"
   },
   {
    "duration": 0,
    "start_time": "2022-06-17T10:57:46.465Z"
   },
   {
    "duration": 0,
    "start_time": "2022-06-17T10:57:46.466Z"
   },
   {
    "duration": 0,
    "start_time": "2022-06-17T10:57:46.467Z"
   },
   {
    "duration": 0,
    "start_time": "2022-06-17T10:57:46.467Z"
   },
   {
    "duration": 1596,
    "start_time": "2022-06-17T10:57:50.293Z"
   },
   {
    "duration": 22,
    "start_time": "2022-06-17T10:57:51.892Z"
   },
   {
    "duration": 31,
    "start_time": "2022-06-17T10:57:51.917Z"
   },
   {
    "duration": 32,
    "start_time": "2022-06-17T10:57:51.951Z"
   },
   {
    "duration": 58,
    "start_time": "2022-06-17T10:57:51.986Z"
   },
   {
    "duration": 12,
    "start_time": "2022-06-17T10:57:52.047Z"
   },
   {
    "duration": 16,
    "start_time": "2022-06-17T10:57:52.061Z"
   },
   {
    "duration": 78,
    "start_time": "2022-06-17T10:57:52.080Z"
   },
   {
    "duration": 24,
    "start_time": "2022-06-17T10:57:52.160Z"
   },
   {
    "duration": 43,
    "start_time": "2022-06-17T10:57:52.186Z"
   },
   {
    "duration": 30,
    "start_time": "2022-06-17T10:57:52.231Z"
   },
   {
    "duration": 13,
    "start_time": "2022-06-17T10:57:52.263Z"
   },
   {
    "duration": 20,
    "start_time": "2022-06-17T10:57:52.278Z"
   },
   {
    "duration": 9,
    "start_time": "2022-06-17T10:57:52.326Z"
   },
   {
    "duration": 400,
    "start_time": "2022-06-17T10:57:52.338Z"
   },
   {
    "duration": 16,
    "start_time": "2022-06-17T10:57:52.740Z"
   },
   {
    "duration": 232,
    "start_time": "2022-06-17T10:57:52.757Z"
   },
   {
    "duration": 37,
    "start_time": "2022-06-17T10:57:52.991Z"
   },
   {
    "duration": 20,
    "start_time": "2022-06-17T10:57:53.030Z"
   },
   {
    "duration": 214,
    "start_time": "2022-06-17T10:57:53.053Z"
   },
   {
    "duration": 22,
    "start_time": "2022-06-17T10:57:53.273Z"
   },
   {
    "duration": 38,
    "start_time": "2022-06-17T10:57:53.298Z"
   },
   {
    "duration": 22,
    "start_time": "2022-06-17T10:57:53.338Z"
   },
   {
    "duration": 21,
    "start_time": "2022-06-17T10:57:53.363Z"
   },
   {
    "duration": 200,
    "start_time": "2022-06-17T10:57:53.385Z"
   },
   {
    "duration": 39,
    "start_time": "2022-06-17T10:57:53.587Z"
   },
   {
    "duration": 25,
    "start_time": "2022-06-17T10:57:53.628Z"
   },
   {
    "duration": 46,
    "start_time": "2022-06-17T10:57:53.655Z"
   },
   {
    "duration": 228,
    "start_time": "2022-06-17T10:57:53.725Z"
   },
   {
    "duration": 21,
    "start_time": "2022-06-17T10:57:53.955Z"
   },
   {
    "duration": 9,
    "start_time": "2022-06-17T10:57:53.979Z"
   },
   {
    "duration": 76,
    "start_time": "2022-06-17T10:57:53.990Z"
   },
   {
    "duration": 14,
    "start_time": "2022-06-17T10:57:54.068Z"
   },
   {
    "duration": 51,
    "start_time": "2022-06-17T10:57:54.084Z"
   },
   {
    "duration": 23,
    "start_time": "2022-06-17T10:57:54.137Z"
   },
   {
    "duration": 10,
    "start_time": "2022-06-17T10:57:54.163Z"
   },
   {
    "duration": 21,
    "start_time": "2022-06-17T10:57:54.178Z"
   },
   {
    "duration": 44,
    "start_time": "2022-06-17T10:57:54.201Z"
   },
   {
    "duration": 77,
    "start_time": "2022-06-17T10:57:54.247Z"
   },
   {
    "duration": 11,
    "start_time": "2022-06-17T10:57:54.326Z"
   },
   {
    "duration": 25,
    "start_time": "2022-06-17T10:57:54.341Z"
   },
   {
    "duration": 10776,
    "start_time": "2022-06-17T10:57:54.368Z"
   },
   {
    "duration": 36006,
    "start_time": "2022-06-17T10:58:05.147Z"
   },
   {
    "duration": 0,
    "start_time": "2022-06-17T10:58:41.155Z"
   },
   {
    "duration": 0,
    "start_time": "2022-06-17T10:58:41.157Z"
   },
   {
    "duration": 0,
    "start_time": "2022-06-17T10:58:41.158Z"
   },
   {
    "duration": 0,
    "start_time": "2022-06-17T10:58:41.161Z"
   },
   {
    "duration": 0,
    "start_time": "2022-06-17T10:58:41.162Z"
   },
   {
    "duration": 0,
    "start_time": "2022-06-17T10:58:41.163Z"
   },
   {
    "duration": 1516,
    "start_time": "2022-06-17T10:58:44.500Z"
   },
   {
    "duration": 22,
    "start_time": "2022-06-17T10:58:46.021Z"
   },
   {
    "duration": 52,
    "start_time": "2022-06-17T10:58:46.045Z"
   },
   {
    "duration": 35,
    "start_time": "2022-06-17T10:58:46.100Z"
   },
   {
    "duration": 22,
    "start_time": "2022-06-17T10:58:46.137Z"
   },
   {
    "duration": 10,
    "start_time": "2022-06-17T10:58:46.162Z"
   },
   {
    "duration": 17,
    "start_time": "2022-06-17T10:58:46.174Z"
   },
   {
    "duration": 64,
    "start_time": "2022-06-17T10:58:46.193Z"
   },
   {
    "duration": 27,
    "start_time": "2022-06-17T10:58:46.259Z"
   },
   {
    "duration": 38,
    "start_time": "2022-06-17T10:58:46.290Z"
   },
   {
    "duration": 43,
    "start_time": "2022-06-17T10:58:46.330Z"
   },
   {
    "duration": 13,
    "start_time": "2022-06-17T10:58:46.375Z"
   },
   {
    "duration": 48,
    "start_time": "2022-06-17T10:58:46.390Z"
   },
   {
    "duration": 23,
    "start_time": "2022-06-17T10:58:46.440Z"
   },
   {
    "duration": 311,
    "start_time": "2022-06-17T10:58:46.465Z"
   },
   {
    "duration": 15,
    "start_time": "2022-06-17T10:58:46.778Z"
   },
   {
    "duration": 201,
    "start_time": "2022-06-17T10:58:46.795Z"
   },
   {
    "duration": 35,
    "start_time": "2022-06-17T10:58:46.998Z"
   },
   {
    "duration": 25,
    "start_time": "2022-06-17T10:58:47.035Z"
   },
   {
    "duration": 204,
    "start_time": "2022-06-17T10:58:47.062Z"
   },
   {
    "duration": 19,
    "start_time": "2022-06-17T10:58:47.268Z"
   },
   {
    "duration": 38,
    "start_time": "2022-06-17T10:58:47.289Z"
   },
   {
    "duration": 5,
    "start_time": "2022-06-17T10:58:47.329Z"
   },
   {
    "duration": 26,
    "start_time": "2022-06-17T10:58:47.337Z"
   },
   {
    "duration": 274,
    "start_time": "2022-06-17T10:58:47.366Z"
   },
   {
    "duration": 29,
    "start_time": "2022-06-17T10:58:47.642Z"
   },
   {
    "duration": 26,
    "start_time": "2022-06-17T10:58:47.673Z"
   },
   {
    "duration": 48,
    "start_time": "2022-06-17T10:58:47.726Z"
   },
   {
    "duration": 233,
    "start_time": "2022-06-17T10:58:47.777Z"
   },
   {
    "duration": 30,
    "start_time": "2022-06-17T10:58:48.013Z"
   },
   {
    "duration": 10,
    "start_time": "2022-06-17T10:58:48.045Z"
   },
   {
    "duration": 57,
    "start_time": "2022-06-17T10:58:48.057Z"
   },
   {
    "duration": 12,
    "start_time": "2022-06-17T10:58:48.126Z"
   },
   {
    "duration": 31,
    "start_time": "2022-06-17T10:58:48.140Z"
   },
   {
    "duration": 18,
    "start_time": "2022-06-17T10:58:48.172Z"
   },
   {
    "duration": 11,
    "start_time": "2022-06-17T10:58:48.193Z"
   },
   {
    "duration": 15,
    "start_time": "2022-06-17T10:58:48.225Z"
   },
   {
    "duration": 33,
    "start_time": "2022-06-17T10:58:48.242Z"
   },
   {
    "duration": 90,
    "start_time": "2022-06-17T10:58:48.276Z"
   },
   {
    "duration": 7,
    "start_time": "2022-06-17T10:58:48.368Z"
   },
   {
    "duration": 22,
    "start_time": "2022-06-17T10:58:48.376Z"
   },
   {
    "duration": 10230,
    "start_time": "2022-06-17T10:58:48.399Z"
   },
   {
    "duration": 1503,
    "start_time": "2022-06-17T11:02:55.360Z"
   },
   {
    "duration": 17,
    "start_time": "2022-06-17T11:02:56.865Z"
   },
   {
    "duration": 22,
    "start_time": "2022-06-17T11:02:56.883Z"
   },
   {
    "duration": 48,
    "start_time": "2022-06-17T11:02:56.906Z"
   },
   {
    "duration": 39,
    "start_time": "2022-06-17T11:02:56.958Z"
   },
   {
    "duration": 10,
    "start_time": "2022-06-17T11:02:57.000Z"
   },
   {
    "duration": 19,
    "start_time": "2022-06-17T11:02:57.026Z"
   },
   {
    "duration": 41,
    "start_time": "2022-06-17T11:02:57.047Z"
   },
   {
    "duration": 18,
    "start_time": "2022-06-17T11:02:57.090Z"
   },
   {
    "duration": 30,
    "start_time": "2022-06-17T11:02:57.109Z"
   },
   {
    "duration": 47,
    "start_time": "2022-06-17T11:02:57.141Z"
   },
   {
    "duration": 10,
    "start_time": "2022-06-17T11:02:57.190Z"
   },
   {
    "duration": 26,
    "start_time": "2022-06-17T11:02:57.202Z"
   },
   {
    "duration": 12,
    "start_time": "2022-06-17T11:02:57.233Z"
   },
   {
    "duration": 362,
    "start_time": "2022-06-17T11:02:57.248Z"
   },
   {
    "duration": 15,
    "start_time": "2022-06-17T11:02:57.612Z"
   },
   {
    "duration": 187,
    "start_time": "2022-06-17T11:02:57.629Z"
   },
   {
    "duration": 32,
    "start_time": "2022-06-17T11:02:57.818Z"
   },
   {
    "duration": 16,
    "start_time": "2022-06-17T11:02:57.853Z"
   },
   {
    "duration": 231,
    "start_time": "2022-06-17T11:02:57.870Z"
   },
   {
    "duration": 42,
    "start_time": "2022-06-17T11:02:58.103Z"
   },
   {
    "duration": 19,
    "start_time": "2022-06-17T11:02:58.147Z"
   },
   {
    "duration": 7,
    "start_time": "2022-06-17T11:02:58.169Z"
   },
   {
    "duration": 15,
    "start_time": "2022-06-17T11:02:58.178Z"
   },
   {
    "duration": 221,
    "start_time": "2022-06-17T11:02:58.195Z"
   },
   {
    "duration": 34,
    "start_time": "2022-06-17T11:02:58.417Z"
   },
   {
    "duration": 32,
    "start_time": "2022-06-17T11:02:58.453Z"
   },
   {
    "duration": 47,
    "start_time": "2022-06-17T11:02:58.487Z"
   },
   {
    "duration": 217,
    "start_time": "2022-06-17T11:02:58.536Z"
   },
   {
    "duration": 19,
    "start_time": "2022-06-17T11:02:58.755Z"
   },
   {
    "duration": 9,
    "start_time": "2022-06-17T11:02:58.776Z"
   },
   {
    "duration": 71,
    "start_time": "2022-06-17T11:02:58.787Z"
   },
   {
    "duration": 11,
    "start_time": "2022-06-17T11:02:58.860Z"
   },
   {
    "duration": 21,
    "start_time": "2022-06-17T11:02:58.872Z"
   },
   {
    "duration": 35,
    "start_time": "2022-06-17T11:02:58.895Z"
   },
   {
    "duration": 9,
    "start_time": "2022-06-17T11:02:58.933Z"
   },
   {
    "duration": 21,
    "start_time": "2022-06-17T11:02:58.944Z"
   },
   {
    "duration": 35,
    "start_time": "2022-06-17T11:02:58.967Z"
   },
   {
    "duration": 61,
    "start_time": "2022-06-17T11:02:59.009Z"
   },
   {
    "duration": 6,
    "start_time": "2022-06-17T11:02:59.072Z"
   },
   {
    "duration": 12,
    "start_time": "2022-06-17T11:02:59.083Z"
   },
   {
    "duration": 9604,
    "start_time": "2022-06-17T11:02:59.096Z"
   },
   {
    "duration": 1443,
    "start_time": "2022-06-17T11:48:28.934Z"
   },
   {
    "duration": 16,
    "start_time": "2022-06-17T11:48:30.380Z"
   },
   {
    "duration": 35,
    "start_time": "2022-06-17T11:48:30.398Z"
   },
   {
    "duration": 37,
    "start_time": "2022-06-17T11:48:30.436Z"
   },
   {
    "duration": 66,
    "start_time": "2022-06-17T11:48:30.477Z"
   },
   {
    "duration": 27,
    "start_time": "2022-06-17T11:48:30.546Z"
   },
   {
    "duration": 20,
    "start_time": "2022-06-17T11:48:30.576Z"
   },
   {
    "duration": 58,
    "start_time": "2022-06-17T11:48:30.598Z"
   },
   {
    "duration": 40,
    "start_time": "2022-06-17T11:48:30.659Z"
   },
   {
    "duration": 12,
    "start_time": "2022-06-17T11:48:30.703Z"
   },
   {
    "duration": 47,
    "start_time": "2022-06-17T11:48:30.727Z"
   },
   {
    "duration": 20,
    "start_time": "2022-06-17T11:48:30.777Z"
   },
   {
    "duration": 62,
    "start_time": "2022-06-17T11:48:30.800Z"
   },
   {
    "duration": 21,
    "start_time": "2022-06-17T11:48:30.864Z"
   },
   {
    "duration": 323,
    "start_time": "2022-06-17T11:48:30.887Z"
   },
   {
    "duration": 36,
    "start_time": "2022-06-17T11:48:31.212Z"
   },
   {
    "duration": 188,
    "start_time": "2022-06-17T11:48:31.250Z"
   },
   {
    "duration": 22,
    "start_time": "2022-06-17T11:48:31.441Z"
   },
   {
    "duration": 11,
    "start_time": "2022-06-17T11:48:31.466Z"
   },
   {
    "duration": 219,
    "start_time": "2022-06-17T11:48:31.480Z"
   },
   {
    "duration": 29,
    "start_time": "2022-06-17T11:48:31.700Z"
   },
   {
    "duration": 88,
    "start_time": "2022-06-17T11:48:31.731Z"
   },
   {
    "duration": 51,
    "start_time": "2022-06-17T11:48:31.821Z"
   },
   {
    "duration": 35,
    "start_time": "2022-06-17T11:48:31.874Z"
   },
   {
    "duration": 215,
    "start_time": "2022-06-17T11:48:31.912Z"
   },
   {
    "duration": 33,
    "start_time": "2022-06-17T11:48:32.130Z"
   },
   {
    "duration": 35,
    "start_time": "2022-06-17T11:48:32.165Z"
   },
   {
    "duration": 62,
    "start_time": "2022-06-17T11:48:32.205Z"
   },
   {
    "duration": 241,
    "start_time": "2022-06-17T11:48:32.270Z"
   },
   {
    "duration": 28,
    "start_time": "2022-06-17T11:48:32.513Z"
   },
   {
    "duration": 10,
    "start_time": "2022-06-17T11:48:32.543Z"
   },
   {
    "duration": 57,
    "start_time": "2022-06-17T11:48:32.555Z"
   },
   {
    "duration": 24,
    "start_time": "2022-06-17T11:48:32.613Z"
   },
   {
    "duration": 35,
    "start_time": "2022-06-17T11:48:32.641Z"
   },
   {
    "duration": 24,
    "start_time": "2022-06-17T11:48:32.678Z"
   },
   {
    "duration": 27,
    "start_time": "2022-06-17T11:48:32.704Z"
   },
   {
    "duration": 27,
    "start_time": "2022-06-17T11:48:32.733Z"
   },
   {
    "duration": 12,
    "start_time": "2022-06-17T11:48:32.763Z"
   },
   {
    "duration": 76,
    "start_time": "2022-06-17T11:48:32.777Z"
   },
   {
    "duration": 8,
    "start_time": "2022-06-17T11:48:32.857Z"
   },
   {
    "duration": 18,
    "start_time": "2022-06-17T11:48:32.867Z"
   },
   {
    "duration": 9490,
    "start_time": "2022-06-17T11:48:32.887Z"
   },
   {
    "duration": 9,
    "start_time": "2022-06-17T11:48:42.380Z"
   },
   {
    "duration": 0,
    "start_time": "2022-06-17T11:48:42.392Z"
   },
   {
    "duration": 0,
    "start_time": "2022-06-17T11:48:42.393Z"
   },
   {
    "duration": 0,
    "start_time": "2022-06-17T11:48:42.395Z"
   },
   {
    "duration": 0,
    "start_time": "2022-06-17T11:48:42.397Z"
   },
   {
    "duration": 0,
    "start_time": "2022-06-17T11:48:42.398Z"
   },
   {
    "duration": 0,
    "start_time": "2022-06-17T11:48:42.401Z"
   },
   {
    "duration": 1421,
    "start_time": "2022-06-17T11:49:05.981Z"
   },
   {
    "duration": 14,
    "start_time": "2022-06-17T11:49:07.404Z"
   },
   {
    "duration": 15,
    "start_time": "2022-06-17T11:49:07.420Z"
   },
   {
    "duration": 30,
    "start_time": "2022-06-17T11:49:07.437Z"
   },
   {
    "duration": 20,
    "start_time": "2022-06-17T11:49:07.470Z"
   },
   {
    "duration": 10,
    "start_time": "2022-06-17T11:49:07.492Z"
   },
   {
    "duration": 14,
    "start_time": "2022-06-17T11:49:07.527Z"
   },
   {
    "duration": 49,
    "start_time": "2022-06-17T11:49:07.543Z"
   },
   {
    "duration": 31,
    "start_time": "2022-06-17T11:49:07.595Z"
   },
   {
    "duration": 19,
    "start_time": "2022-06-17T11:49:07.628Z"
   },
   {
    "duration": 38,
    "start_time": "2022-06-17T11:49:07.649Z"
   },
   {
    "duration": 9,
    "start_time": "2022-06-17T11:49:07.688Z"
   },
   {
    "duration": 15,
    "start_time": "2022-06-17T11:49:07.698Z"
   },
   {
    "duration": 12,
    "start_time": "2022-06-17T11:49:07.727Z"
   },
   {
    "duration": 312,
    "start_time": "2022-06-17T11:49:07.741Z"
   },
   {
    "duration": 14,
    "start_time": "2022-06-17T11:49:08.056Z"
   },
   {
    "duration": 172,
    "start_time": "2022-06-17T11:49:08.072Z"
   },
   {
    "duration": 24,
    "start_time": "2022-06-17T11:49:08.246Z"
   },
   {
    "duration": 18,
    "start_time": "2022-06-17T11:49:08.272Z"
   },
   {
    "duration": 190,
    "start_time": "2022-06-17T11:49:08.292Z"
   },
   {
    "duration": 15,
    "start_time": "2022-06-17T11:49:08.484Z"
   },
   {
    "duration": 33,
    "start_time": "2022-06-17T11:49:08.501Z"
   },
   {
    "duration": 7,
    "start_time": "2022-06-17T11:49:08.536Z"
   },
   {
    "duration": 18,
    "start_time": "2022-06-17T11:49:08.545Z"
   },
   {
    "duration": 211,
    "start_time": "2022-06-17T11:49:08.565Z"
   },
   {
    "duration": 24,
    "start_time": "2022-06-17T11:49:08.778Z"
   },
   {
    "duration": 41,
    "start_time": "2022-06-17T11:49:08.804Z"
   },
   {
    "duration": 36,
    "start_time": "2022-06-17T11:49:08.847Z"
   },
   {
    "duration": 196,
    "start_time": "2022-06-17T11:49:08.885Z"
   },
   {
    "duration": 19,
    "start_time": "2022-06-17T11:49:09.083Z"
   },
   {
    "duration": 9,
    "start_time": "2022-06-17T11:49:09.103Z"
   },
   {
    "duration": 41,
    "start_time": "2022-06-17T11:49:09.126Z"
   },
   {
    "duration": 25,
    "start_time": "2022-06-17T11:49:09.169Z"
   },
   {
    "duration": 32,
    "start_time": "2022-06-17T11:49:09.196Z"
   },
   {
    "duration": 15,
    "start_time": "2022-06-17T11:49:09.230Z"
   },
   {
    "duration": 10,
    "start_time": "2022-06-17T11:49:09.248Z"
   },
   {
    "duration": 26,
    "start_time": "2022-06-17T11:49:09.260Z"
   },
   {
    "duration": 17,
    "start_time": "2022-06-17T11:49:09.288Z"
   },
   {
    "duration": 68,
    "start_time": "2022-06-17T11:49:09.307Z"
   },
   {
    "duration": 6,
    "start_time": "2022-06-17T11:49:09.377Z"
   },
   {
    "duration": 21,
    "start_time": "2022-06-17T11:49:09.387Z"
   },
   {
    "duration": 9338,
    "start_time": "2022-06-17T11:49:09.410Z"
   },
   {
    "duration": 1374,
    "start_time": "2022-06-17T11:49:40.128Z"
   },
   {
    "duration": 16,
    "start_time": "2022-06-17T11:49:41.504Z"
   },
   {
    "duration": 24,
    "start_time": "2022-06-17T11:49:41.522Z"
   },
   {
    "duration": 29,
    "start_time": "2022-06-17T11:49:41.549Z"
   },
   {
    "duration": 42,
    "start_time": "2022-06-17T11:49:41.580Z"
   },
   {
    "duration": 12,
    "start_time": "2022-06-17T11:49:41.626Z"
   },
   {
    "duration": 36,
    "start_time": "2022-06-17T11:49:41.641Z"
   },
   {
    "duration": 34,
    "start_time": "2022-06-17T11:49:41.680Z"
   },
   {
    "duration": 27,
    "start_time": "2022-06-17T11:49:41.716Z"
   },
   {
    "duration": 19,
    "start_time": "2022-06-17T11:49:41.747Z"
   },
   {
    "duration": 26,
    "start_time": "2022-06-17T11:49:41.768Z"
   },
   {
    "duration": 37,
    "start_time": "2022-06-17T11:49:41.796Z"
   },
   {
    "duration": 13,
    "start_time": "2022-06-17T11:49:41.835Z"
   },
   {
    "duration": 13,
    "start_time": "2022-06-17T11:49:41.850Z"
   },
   {
    "duration": 385,
    "start_time": "2022-06-17T11:49:41.865Z"
   },
   {
    "duration": 15,
    "start_time": "2022-06-17T11:49:42.252Z"
   },
   {
    "duration": 199,
    "start_time": "2022-06-17T11:49:42.270Z"
   },
   {
    "duration": 30,
    "start_time": "2022-06-17T11:49:42.471Z"
   },
   {
    "duration": 28,
    "start_time": "2022-06-17T11:49:42.503Z"
   },
   {
    "duration": 182,
    "start_time": "2022-06-17T11:49:42.533Z"
   },
   {
    "duration": 23,
    "start_time": "2022-06-17T11:49:42.717Z"
   },
   {
    "duration": 29,
    "start_time": "2022-06-17T11:49:42.742Z"
   },
   {
    "duration": 12,
    "start_time": "2022-06-17T11:49:42.772Z"
   },
   {
    "duration": 17,
    "start_time": "2022-06-17T11:49:42.785Z"
   },
   {
    "duration": 214,
    "start_time": "2022-06-17T11:49:42.804Z"
   },
   {
    "duration": 29,
    "start_time": "2022-06-17T11:49:43.020Z"
   },
   {
    "duration": 29,
    "start_time": "2022-06-17T11:49:43.051Z"
   },
   {
    "duration": 65,
    "start_time": "2022-06-17T11:49:43.085Z"
   },
   {
    "duration": 240,
    "start_time": "2022-06-17T11:49:43.154Z"
   },
   {
    "duration": 18,
    "start_time": "2022-06-17T11:49:43.396Z"
   },
   {
    "duration": 12,
    "start_time": "2022-06-17T11:49:43.426Z"
   },
   {
    "duration": 48,
    "start_time": "2022-06-17T11:49:43.440Z"
   },
   {
    "duration": 11,
    "start_time": "2022-06-17T11:49:43.490Z"
   },
   {
    "duration": 34,
    "start_time": "2022-06-17T11:49:43.503Z"
   },
   {
    "duration": 35,
    "start_time": "2022-06-17T11:49:43.539Z"
   },
   {
    "duration": 11,
    "start_time": "2022-06-17T11:49:43.576Z"
   },
   {
    "duration": 11,
    "start_time": "2022-06-17T11:49:43.589Z"
   },
   {
    "duration": 7,
    "start_time": "2022-06-17T11:49:43.602Z"
   },
   {
    "duration": 91,
    "start_time": "2022-06-17T11:49:43.611Z"
   },
   {
    "duration": 5,
    "start_time": "2022-06-17T11:49:43.705Z"
   },
   {
    "duration": 21,
    "start_time": "2022-06-17T11:49:43.711Z"
   },
   {
    "duration": 9945,
    "start_time": "2022-06-17T11:49:43.734Z"
   },
   {
    "duration": 1438,
    "start_time": "2022-06-17T11:51:04.483Z"
   },
   {
    "duration": 19,
    "start_time": "2022-06-17T11:51:05.924Z"
   },
   {
    "duration": 29,
    "start_time": "2022-06-17T11:51:05.944Z"
   },
   {
    "duration": 45,
    "start_time": "2022-06-17T11:51:05.976Z"
   },
   {
    "duration": 55,
    "start_time": "2022-06-17T11:51:06.023Z"
   },
   {
    "duration": 26,
    "start_time": "2022-06-17T11:51:06.080Z"
   },
   {
    "duration": 54,
    "start_time": "2022-06-17T11:51:06.108Z"
   },
   {
    "duration": 49,
    "start_time": "2022-06-17T11:51:06.165Z"
   },
   {
    "duration": 21,
    "start_time": "2022-06-17T11:51:06.217Z"
   },
   {
    "duration": 18,
    "start_time": "2022-06-17T11:51:06.241Z"
   },
   {
    "duration": 48,
    "start_time": "2022-06-17T11:51:06.261Z"
   },
   {
    "duration": 10,
    "start_time": "2022-06-17T11:51:06.311Z"
   },
   {
    "duration": 30,
    "start_time": "2022-06-17T11:51:06.323Z"
   },
   {
    "duration": 11,
    "start_time": "2022-06-17T11:51:06.355Z"
   },
   {
    "duration": 362,
    "start_time": "2022-06-17T11:51:06.367Z"
   },
   {
    "duration": 15,
    "start_time": "2022-06-17T11:51:06.731Z"
   },
   {
    "duration": 191,
    "start_time": "2022-06-17T11:51:06.748Z"
   },
   {
    "duration": 24,
    "start_time": "2022-06-17T11:51:06.941Z"
   },
   {
    "duration": 14,
    "start_time": "2022-06-17T11:51:06.968Z"
   },
   {
    "duration": 205,
    "start_time": "2022-06-17T11:51:06.984Z"
   },
   {
    "duration": 14,
    "start_time": "2022-06-17T11:51:07.190Z"
   },
   {
    "duration": 26,
    "start_time": "2022-06-17T11:51:07.206Z"
   },
   {
    "duration": 6,
    "start_time": "2022-06-17T11:51:07.234Z"
   },
   {
    "duration": 34,
    "start_time": "2022-06-17T11:51:07.242Z"
   },
   {
    "duration": 224,
    "start_time": "2022-06-17T11:51:07.278Z"
   },
   {
    "duration": 30,
    "start_time": "2022-06-17T11:51:07.503Z"
   },
   {
    "duration": 36,
    "start_time": "2022-06-17T11:51:07.536Z"
   },
   {
    "duration": 44,
    "start_time": "2022-06-17T11:51:07.578Z"
   },
   {
    "duration": 218,
    "start_time": "2022-06-17T11:51:07.624Z"
   },
   {
    "duration": 25,
    "start_time": "2022-06-17T11:51:07.844Z"
   },
   {
    "duration": 9,
    "start_time": "2022-06-17T11:51:07.871Z"
   },
   {
    "duration": 61,
    "start_time": "2022-06-17T11:51:07.882Z"
   },
   {
    "duration": 12,
    "start_time": "2022-06-17T11:51:07.945Z"
   },
   {
    "duration": 18,
    "start_time": "2022-06-17T11:51:07.960Z"
   },
   {
    "duration": 30,
    "start_time": "2022-06-17T11:51:07.980Z"
   },
   {
    "duration": 20,
    "start_time": "2022-06-17T11:51:08.012Z"
   },
   {
    "duration": 19,
    "start_time": "2022-06-17T11:51:08.034Z"
   },
   {
    "duration": 13,
    "start_time": "2022-06-17T11:51:08.055Z"
   },
   {
    "duration": 57,
    "start_time": "2022-06-17T11:51:08.070Z"
   },
   {
    "duration": 8,
    "start_time": "2022-06-17T11:51:08.129Z"
   },
   {
    "duration": 21,
    "start_time": "2022-06-17T11:51:08.139Z"
   },
   {
    "duration": 9582,
    "start_time": "2022-06-17T11:51:08.163Z"
   },
   {
    "duration": 1473,
    "start_time": "2022-06-17T11:52:02.910Z"
   },
   {
    "duration": 19,
    "start_time": "2022-06-17T11:52:04.389Z"
   },
   {
    "duration": 26,
    "start_time": "2022-06-17T11:52:04.410Z"
   },
   {
    "duration": 52,
    "start_time": "2022-06-17T11:52:04.440Z"
   },
   {
    "duration": 30,
    "start_time": "2022-06-17T11:52:04.494Z"
   },
   {
    "duration": 15,
    "start_time": "2022-06-17T11:52:04.530Z"
   },
   {
    "duration": 14,
    "start_time": "2022-06-17T11:52:04.547Z"
   },
   {
    "duration": 66,
    "start_time": "2022-06-17T11:52:04.562Z"
   },
   {
    "duration": 68,
    "start_time": "2022-06-17T11:52:04.630Z"
   },
   {
    "duration": 20,
    "start_time": "2022-06-17T11:52:04.701Z"
   },
   {
    "duration": 27,
    "start_time": "2022-06-17T11:52:04.723Z"
   },
   {
    "duration": 10,
    "start_time": "2022-06-17T11:52:04.752Z"
   },
   {
    "duration": 11,
    "start_time": "2022-06-17T11:52:04.764Z"
   },
   {
    "duration": 9,
    "start_time": "2022-06-17T11:52:04.777Z"
   },
   {
    "duration": 305,
    "start_time": "2022-06-17T11:52:04.788Z"
   },
   {
    "duration": 14,
    "start_time": "2022-06-17T11:52:05.095Z"
   },
   {
    "duration": 161,
    "start_time": "2022-06-17T11:52:05.111Z"
   },
   {
    "duration": 22,
    "start_time": "2022-06-17T11:52:05.275Z"
   },
   {
    "duration": 29,
    "start_time": "2022-06-17T11:52:05.299Z"
   },
   {
    "duration": 171,
    "start_time": "2022-06-17T11:52:05.330Z"
   },
   {
    "duration": 23,
    "start_time": "2022-06-17T11:52:05.503Z"
   },
   {
    "duration": 12,
    "start_time": "2022-06-17T11:52:05.528Z"
   },
   {
    "duration": 11,
    "start_time": "2022-06-17T11:52:05.542Z"
   },
   {
    "duration": 20,
    "start_time": "2022-06-17T11:52:05.555Z"
   },
   {
    "duration": 194,
    "start_time": "2022-06-17T11:52:05.576Z"
   },
   {
    "duration": 23,
    "start_time": "2022-06-17T11:52:05.771Z"
   },
   {
    "duration": 37,
    "start_time": "2022-06-17T11:52:05.796Z"
   },
   {
    "duration": 36,
    "start_time": "2022-06-17T11:52:05.837Z"
   },
   {
    "duration": 205,
    "start_time": "2022-06-17T11:52:05.876Z"
   },
   {
    "duration": 20,
    "start_time": "2022-06-17T11:52:06.083Z"
   },
   {
    "duration": 11,
    "start_time": "2022-06-17T11:52:06.104Z"
   },
   {
    "duration": 40,
    "start_time": "2022-06-17T11:52:06.126Z"
   },
   {
    "duration": 17,
    "start_time": "2022-06-17T11:52:06.167Z"
   },
   {
    "duration": 16,
    "start_time": "2022-06-17T11:52:06.185Z"
   },
   {
    "duration": 60,
    "start_time": "2022-06-17T11:52:06.202Z"
   },
   {
    "duration": 11,
    "start_time": "2022-06-17T11:52:06.264Z"
   },
   {
    "duration": 19,
    "start_time": "2022-06-17T11:52:06.277Z"
   },
   {
    "duration": 20,
    "start_time": "2022-06-17T11:52:06.299Z"
   },
   {
    "duration": 54,
    "start_time": "2022-06-17T11:52:06.322Z"
   },
   {
    "duration": 6,
    "start_time": "2022-06-17T11:52:06.377Z"
   },
   {
    "duration": 17,
    "start_time": "2022-06-17T11:52:06.385Z"
   },
   {
    "duration": 8834,
    "start_time": "2022-06-17T11:52:06.404Z"
   },
   {
    "duration": 1476,
    "start_time": "2022-06-17T11:52:53.385Z"
   },
   {
    "duration": 16,
    "start_time": "2022-06-17T11:52:54.864Z"
   },
   {
    "duration": 19,
    "start_time": "2022-06-17T11:52:54.881Z"
   },
   {
    "duration": 29,
    "start_time": "2022-06-17T11:52:54.902Z"
   },
   {
    "duration": 23,
    "start_time": "2022-06-17T11:52:54.934Z"
   },
   {
    "duration": 8,
    "start_time": "2022-06-17T11:52:54.959Z"
   },
   {
    "duration": 15,
    "start_time": "2022-06-17T11:52:54.969Z"
   },
   {
    "duration": 50,
    "start_time": "2022-06-17T11:52:54.985Z"
   },
   {
    "duration": 19,
    "start_time": "2022-06-17T11:52:55.037Z"
   },
   {
    "duration": 14,
    "start_time": "2022-06-17T11:52:55.059Z"
   },
   {
    "duration": 23,
    "start_time": "2022-06-17T11:52:55.075Z"
   },
   {
    "duration": 13,
    "start_time": "2022-06-17T11:52:55.126Z"
   },
   {
    "duration": 16,
    "start_time": "2022-06-17T11:52:55.141Z"
   },
   {
    "duration": 7,
    "start_time": "2022-06-17T11:52:55.161Z"
   },
   {
    "duration": 371,
    "start_time": "2022-06-17T11:52:55.170Z"
   },
   {
    "duration": 15,
    "start_time": "2022-06-17T11:52:55.544Z"
   },
   {
    "duration": 169,
    "start_time": "2022-06-17T11:52:55.561Z"
   },
   {
    "duration": 22,
    "start_time": "2022-06-17T11:52:55.732Z"
   },
   {
    "duration": 13,
    "start_time": "2022-06-17T11:52:55.756Z"
   },
   {
    "duration": 188,
    "start_time": "2022-06-17T11:52:55.771Z"
   },
   {
    "duration": 18,
    "start_time": "2022-06-17T11:52:55.961Z"
   },
   {
    "duration": 19,
    "start_time": "2022-06-17T11:52:55.981Z"
   },
   {
    "duration": 19,
    "start_time": "2022-06-17T11:52:56.002Z"
   },
   {
    "duration": 29,
    "start_time": "2022-06-17T11:52:56.023Z"
   },
   {
    "duration": 185,
    "start_time": "2022-06-17T11:52:56.054Z"
   },
   {
    "duration": 26,
    "start_time": "2022-06-17T11:52:56.241Z"
   },
   {
    "duration": 40,
    "start_time": "2022-06-17T11:52:56.269Z"
   },
   {
    "duration": 62,
    "start_time": "2022-06-17T11:52:56.311Z"
   },
   {
    "duration": 181,
    "start_time": "2022-06-17T11:52:56.375Z"
   },
   {
    "duration": 20,
    "start_time": "2022-06-17T11:52:56.558Z"
   },
   {
    "duration": 25,
    "start_time": "2022-06-17T11:52:56.580Z"
   },
   {
    "duration": 48,
    "start_time": "2022-06-17T11:52:56.608Z"
   },
   {
    "duration": 11,
    "start_time": "2022-06-17T11:52:56.658Z"
   },
   {
    "duration": 36,
    "start_time": "2022-06-17T11:52:56.672Z"
   },
   {
    "duration": 42,
    "start_time": "2022-06-17T11:52:56.710Z"
   },
   {
    "duration": 30,
    "start_time": "2022-06-17T11:52:56.754Z"
   },
   {
    "duration": 24,
    "start_time": "2022-06-17T11:52:56.785Z"
   },
   {
    "duration": 14,
    "start_time": "2022-06-17T11:52:56.811Z"
   },
   {
    "duration": 68,
    "start_time": "2022-06-17T11:52:56.828Z"
   },
   {
    "duration": 4,
    "start_time": "2022-06-17T11:52:56.898Z"
   },
   {
    "duration": 25,
    "start_time": "2022-06-17T11:52:56.906Z"
   },
   {
    "duration": 9203,
    "start_time": "2022-06-17T11:52:56.933Z"
   },
   {
    "duration": 1546,
    "start_time": "2022-06-17T11:56:59.707Z"
   },
   {
    "duration": 22,
    "start_time": "2022-06-17T11:57:01.256Z"
   },
   {
    "duration": 42,
    "start_time": "2022-06-17T11:57:01.283Z"
   },
   {
    "duration": 60,
    "start_time": "2022-06-17T11:57:01.329Z"
   },
   {
    "duration": 84,
    "start_time": "2022-06-17T11:57:01.391Z"
   },
   {
    "duration": 36,
    "start_time": "2022-06-17T11:57:01.477Z"
   },
   {
    "duration": 30,
    "start_time": "2022-06-17T11:57:01.515Z"
   },
   {
    "duration": 64,
    "start_time": "2022-06-17T11:57:01.549Z"
   },
   {
    "duration": 108,
    "start_time": "2022-06-17T11:57:01.615Z"
   },
   {
    "duration": 45,
    "start_time": "2022-06-17T11:57:01.726Z"
   },
   {
    "duration": 102,
    "start_time": "2022-06-17T11:57:01.773Z"
   },
   {
    "duration": 23,
    "start_time": "2022-06-17T11:57:01.878Z"
   },
   {
    "duration": 53,
    "start_time": "2022-06-17T11:57:01.903Z"
   },
   {
    "duration": 59,
    "start_time": "2022-06-17T11:57:01.958Z"
   },
   {
    "duration": 394,
    "start_time": "2022-06-17T11:57:02.019Z"
   },
   {
    "duration": 22,
    "start_time": "2022-06-17T11:57:02.415Z"
   },
   {
    "duration": 188,
    "start_time": "2022-06-17T11:57:02.442Z"
   },
   {
    "duration": 29,
    "start_time": "2022-06-17T11:57:02.632Z"
   },
   {
    "duration": 13,
    "start_time": "2022-06-17T11:57:02.663Z"
   },
   {
    "duration": 226,
    "start_time": "2022-06-17T11:57:02.678Z"
   },
   {
    "duration": 31,
    "start_time": "2022-06-17T11:57:02.906Z"
   },
   {
    "duration": 22,
    "start_time": "2022-06-17T11:57:02.942Z"
   },
   {
    "duration": 6,
    "start_time": "2022-06-17T11:57:02.966Z"
   },
   {
    "duration": 15,
    "start_time": "2022-06-17T11:57:02.974Z"
   },
   {
    "duration": 224,
    "start_time": "2022-06-17T11:57:02.991Z"
   },
   {
    "duration": 41,
    "start_time": "2022-06-17T11:57:03.217Z"
   },
   {
    "duration": 33,
    "start_time": "2022-06-17T11:57:03.260Z"
   },
   {
    "duration": 52,
    "start_time": "2022-06-17T11:57:03.297Z"
   },
   {
    "duration": 233,
    "start_time": "2022-06-17T11:57:03.351Z"
   },
   {
    "duration": 19,
    "start_time": "2022-06-17T11:57:03.586Z"
   },
   {
    "duration": 20,
    "start_time": "2022-06-17T11:57:03.606Z"
   },
   {
    "duration": 58,
    "start_time": "2022-06-17T11:57:03.629Z"
   },
   {
    "duration": 10,
    "start_time": "2022-06-17T11:57:03.689Z"
   },
   {
    "duration": 14,
    "start_time": "2022-06-17T11:57:03.701Z"
   },
   {
    "duration": 30,
    "start_time": "2022-06-17T11:57:03.727Z"
   },
   {
    "duration": 23,
    "start_time": "2022-06-17T11:57:03.759Z"
   },
   {
    "duration": 15,
    "start_time": "2022-06-17T11:57:03.784Z"
   },
   {
    "duration": 8,
    "start_time": "2022-06-17T11:57:03.801Z"
   },
   {
    "duration": 87,
    "start_time": "2022-06-17T11:57:03.811Z"
   },
   {
    "duration": 5,
    "start_time": "2022-06-17T11:57:03.900Z"
   },
   {
    "duration": 18,
    "start_time": "2022-06-17T11:57:03.907Z"
   },
   {
    "duration": 9975,
    "start_time": "2022-06-17T11:57:03.928Z"
   },
   {
    "duration": 1366,
    "start_time": "2022-06-17T11:58:57.054Z"
   },
   {
    "duration": 20,
    "start_time": "2022-06-17T11:58:58.422Z"
   },
   {
    "duration": 16,
    "start_time": "2022-06-17T11:58:58.446Z"
   },
   {
    "duration": 34,
    "start_time": "2022-06-17T11:58:58.465Z"
   },
   {
    "duration": 50,
    "start_time": "2022-06-17T11:58:58.501Z"
   },
   {
    "duration": 12,
    "start_time": "2022-06-17T11:58:58.553Z"
   },
   {
    "duration": 29,
    "start_time": "2022-06-17T11:58:58.567Z"
   },
   {
    "duration": 41,
    "start_time": "2022-06-17T11:58:58.599Z"
   },
   {
    "duration": 23,
    "start_time": "2022-06-17T11:58:58.642Z"
   },
   {
    "duration": 31,
    "start_time": "2022-06-17T11:58:58.668Z"
   },
   {
    "duration": 52,
    "start_time": "2022-06-17T11:58:58.701Z"
   },
   {
    "duration": 15,
    "start_time": "2022-06-17T11:58:58.755Z"
   },
   {
    "duration": 19,
    "start_time": "2022-06-17T11:58:58.772Z"
   },
   {
    "duration": 8,
    "start_time": "2022-06-17T11:58:58.793Z"
   },
   {
    "duration": 320,
    "start_time": "2022-06-17T11:58:58.802Z"
   },
   {
    "duration": 18,
    "start_time": "2022-06-17T11:58:59.124Z"
   },
   {
    "duration": 215,
    "start_time": "2022-06-17T11:58:59.144Z"
   },
   {
    "duration": 29,
    "start_time": "2022-06-17T11:58:59.361Z"
   },
   {
    "duration": 12,
    "start_time": "2022-06-17T11:58:59.392Z"
   },
   {
    "duration": 202,
    "start_time": "2022-06-17T11:58:59.428Z"
   },
   {
    "duration": 16,
    "start_time": "2022-06-17T11:58:59.633Z"
   },
   {
    "duration": 19,
    "start_time": "2022-06-17T11:58:59.651Z"
   },
   {
    "duration": 18,
    "start_time": "2022-06-17T11:58:59.672Z"
   },
   {
    "duration": 22,
    "start_time": "2022-06-17T11:58:59.692Z"
   },
   {
    "duration": 206,
    "start_time": "2022-06-17T11:58:59.715Z"
   },
   {
    "duration": 28,
    "start_time": "2022-06-17T11:58:59.924Z"
   },
   {
    "duration": 27,
    "start_time": "2022-06-17T11:58:59.954Z"
   },
   {
    "duration": 71,
    "start_time": "2022-06-17T11:58:59.986Z"
   },
   {
    "duration": 218,
    "start_time": "2022-06-17T11:59:00.059Z"
   },
   {
    "duration": 23,
    "start_time": "2022-06-17T11:59:00.279Z"
   },
   {
    "duration": 22,
    "start_time": "2022-06-17T11:59:00.305Z"
   },
   {
    "duration": 61,
    "start_time": "2022-06-17T11:59:00.329Z"
   },
   {
    "duration": 36,
    "start_time": "2022-06-17T11:59:00.392Z"
   },
   {
    "duration": 56,
    "start_time": "2022-06-17T11:59:00.431Z"
   },
   {
    "duration": 45,
    "start_time": "2022-06-17T11:59:00.488Z"
   },
   {
    "duration": 43,
    "start_time": "2022-06-17T11:59:00.536Z"
   },
   {
    "duration": 20,
    "start_time": "2022-06-17T11:59:00.580Z"
   },
   {
    "duration": 23,
    "start_time": "2022-06-17T11:59:00.602Z"
   },
   {
    "duration": 90,
    "start_time": "2022-06-17T11:59:00.628Z"
   },
   {
    "duration": 9,
    "start_time": "2022-06-17T11:59:00.720Z"
   },
   {
    "duration": 33,
    "start_time": "2022-06-17T11:59:00.731Z"
   },
   {
    "duration": 9476,
    "start_time": "2022-06-17T11:59:00.767Z"
   },
   {
    "duration": 20181,
    "start_time": "2022-06-17T11:59:10.246Z"
   },
   {
    "duration": 0,
    "start_time": "2022-06-17T11:59:30.430Z"
   },
   {
    "duration": 0,
    "start_time": "2022-06-17T11:59:30.432Z"
   },
   {
    "duration": 0,
    "start_time": "2022-06-17T11:59:30.434Z"
   },
   {
    "duration": 0,
    "start_time": "2022-06-17T11:59:30.435Z"
   },
   {
    "duration": 0,
    "start_time": "2022-06-17T11:59:30.436Z"
   },
   {
    "duration": 0,
    "start_time": "2022-06-17T11:59:30.438Z"
   },
   {
    "duration": 1452,
    "start_time": "2022-06-17T12:01:04.487Z"
   },
   {
    "duration": 19,
    "start_time": "2022-06-17T12:01:05.942Z"
   },
   {
    "duration": 15,
    "start_time": "2022-06-17T12:01:05.963Z"
   },
   {
    "duration": 26,
    "start_time": "2022-06-17T12:01:05.980Z"
   },
   {
    "duration": 31,
    "start_time": "2022-06-17T12:01:06.008Z"
   },
   {
    "duration": 11,
    "start_time": "2022-06-17T12:01:06.041Z"
   },
   {
    "duration": 22,
    "start_time": "2022-06-17T12:01:06.054Z"
   },
   {
    "duration": 49,
    "start_time": "2022-06-17T12:01:06.078Z"
   },
   {
    "duration": 19,
    "start_time": "2022-06-17T12:01:06.129Z"
   },
   {
    "duration": 15,
    "start_time": "2022-06-17T12:01:06.151Z"
   },
   {
    "duration": 24,
    "start_time": "2022-06-17T12:01:06.168Z"
   },
   {
    "duration": 41,
    "start_time": "2022-06-17T12:01:06.193Z"
   },
   {
    "duration": 15,
    "start_time": "2022-06-17T12:01:06.235Z"
   },
   {
    "duration": 10,
    "start_time": "2022-06-17T12:01:06.252Z"
   },
   {
    "duration": 350,
    "start_time": "2022-06-17T12:01:06.263Z"
   },
   {
    "duration": 14,
    "start_time": "2022-06-17T12:01:06.615Z"
   },
   {
    "duration": 185,
    "start_time": "2022-06-17T12:01:06.631Z"
   },
   {
    "duration": 35,
    "start_time": "2022-06-17T12:01:06.818Z"
   },
   {
    "duration": 16,
    "start_time": "2022-06-17T12:01:06.855Z"
   },
   {
    "duration": 190,
    "start_time": "2022-06-17T12:01:06.873Z"
   },
   {
    "duration": 16,
    "start_time": "2022-06-17T12:01:07.066Z"
   },
   {
    "duration": 17,
    "start_time": "2022-06-17T12:01:07.083Z"
   },
   {
    "duration": 25,
    "start_time": "2022-06-17T12:01:07.102Z"
   },
   {
    "duration": 10,
    "start_time": "2022-06-17T12:01:07.129Z"
   },
   {
    "duration": 202,
    "start_time": "2022-06-17T12:01:07.141Z"
   },
   {
    "duration": 28,
    "start_time": "2022-06-17T12:01:07.345Z"
   },
   {
    "duration": 22,
    "start_time": "2022-06-17T12:01:07.375Z"
   },
   {
    "duration": 58,
    "start_time": "2022-06-17T12:01:07.401Z"
   },
   {
    "duration": 216,
    "start_time": "2022-06-17T12:01:07.461Z"
   },
   {
    "duration": 18,
    "start_time": "2022-06-17T12:01:07.679Z"
   },
   {
    "duration": 10,
    "start_time": "2022-06-17T12:01:07.699Z"
   },
   {
    "duration": 49,
    "start_time": "2022-06-17T12:01:07.727Z"
   },
   {
    "duration": 11,
    "start_time": "2022-06-17T12:01:07.778Z"
   },
   {
    "duration": 42,
    "start_time": "2022-06-17T12:01:07.792Z"
   },
   {
    "duration": 28,
    "start_time": "2022-06-17T12:01:07.836Z"
   },
   {
    "duration": 14,
    "start_time": "2022-06-17T12:01:07.866Z"
   },
   {
    "duration": 15,
    "start_time": "2022-06-17T12:01:07.882Z"
   },
   {
    "duration": 27,
    "start_time": "2022-06-17T12:01:07.899Z"
   },
   {
    "duration": 58,
    "start_time": "2022-06-17T12:01:07.928Z"
   },
   {
    "duration": 6,
    "start_time": "2022-06-17T12:01:07.989Z"
   },
   {
    "duration": 34,
    "start_time": "2022-06-17T12:01:07.997Z"
   },
   {
    "duration": 9182,
    "start_time": "2022-06-17T12:01:08.033Z"
   },
   {
    "duration": 23987,
    "start_time": "2022-06-17T12:01:17.217Z"
   },
   {
    "duration": 0,
    "start_time": "2022-06-17T12:01:41.206Z"
   },
   {
    "duration": 0,
    "start_time": "2022-06-17T12:01:41.207Z"
   },
   {
    "duration": 0,
    "start_time": "2022-06-17T12:01:41.209Z"
   },
   {
    "duration": 0,
    "start_time": "2022-06-17T12:01:41.210Z"
   },
   {
    "duration": 0,
    "start_time": "2022-06-17T12:01:41.211Z"
   },
   {
    "duration": 0,
    "start_time": "2022-06-17T12:01:41.212Z"
   },
   {
    "duration": 1470,
    "start_time": "2022-06-17T12:03:31.526Z"
   },
   {
    "duration": 14,
    "start_time": "2022-06-17T12:03:32.998Z"
   },
   {
    "duration": 23,
    "start_time": "2022-06-17T12:03:33.014Z"
   },
   {
    "duration": 25,
    "start_time": "2022-06-17T12:03:33.039Z"
   },
   {
    "duration": 24,
    "start_time": "2022-06-17T12:03:33.065Z"
   },
   {
    "duration": 9,
    "start_time": "2022-06-17T12:03:33.091Z"
   },
   {
    "duration": 15,
    "start_time": "2022-06-17T12:03:33.127Z"
   },
   {
    "duration": 37,
    "start_time": "2022-06-17T12:03:33.144Z"
   },
   {
    "duration": 17,
    "start_time": "2022-06-17T12:03:33.182Z"
   },
   {
    "duration": 43,
    "start_time": "2022-06-17T12:03:33.202Z"
   },
   {
    "duration": 37,
    "start_time": "2022-06-17T12:03:33.247Z"
   },
   {
    "duration": 13,
    "start_time": "2022-06-17T12:03:33.286Z"
   },
   {
    "duration": 8,
    "start_time": "2022-06-17T12:03:33.326Z"
   },
   {
    "duration": 24,
    "start_time": "2022-06-17T12:03:33.336Z"
   },
   {
    "duration": 319,
    "start_time": "2022-06-17T12:03:33.362Z"
   },
   {
    "duration": 13,
    "start_time": "2022-06-17T12:03:33.683Z"
   },
   {
    "duration": 192,
    "start_time": "2022-06-17T12:03:33.698Z"
   },
   {
    "duration": 21,
    "start_time": "2022-06-17T12:03:33.892Z"
   },
   {
    "duration": 22,
    "start_time": "2022-06-17T12:03:33.914Z"
   },
   {
    "duration": 192,
    "start_time": "2022-06-17T12:03:33.938Z"
   },
   {
    "duration": 18,
    "start_time": "2022-06-17T12:03:34.132Z"
   },
   {
    "duration": 22,
    "start_time": "2022-06-17T12:03:34.152Z"
   },
   {
    "duration": 9,
    "start_time": "2022-06-17T12:03:34.176Z"
   },
   {
    "duration": 11,
    "start_time": "2022-06-17T12:03:34.187Z"
   },
   {
    "duration": 264,
    "start_time": "2022-06-17T12:03:34.199Z"
   },
   {
    "duration": 35,
    "start_time": "2022-06-17T12:03:34.465Z"
   },
   {
    "duration": 44,
    "start_time": "2022-06-17T12:03:34.502Z"
   },
   {
    "duration": 56,
    "start_time": "2022-06-17T12:03:34.550Z"
   },
   {
    "duration": 235,
    "start_time": "2022-06-17T12:03:34.609Z"
   },
   {
    "duration": 23,
    "start_time": "2022-06-17T12:03:34.846Z"
   },
   {
    "duration": 11,
    "start_time": "2022-06-17T12:03:34.872Z"
   },
   {
    "duration": 63,
    "start_time": "2022-06-17T12:03:34.885Z"
   },
   {
    "duration": 15,
    "start_time": "2022-06-17T12:03:34.951Z"
   },
   {
    "duration": 22,
    "start_time": "2022-06-17T12:03:34.968Z"
   },
   {
    "duration": 36,
    "start_time": "2022-06-17T12:03:34.992Z"
   },
   {
    "duration": 63,
    "start_time": "2022-06-17T12:03:35.030Z"
   },
   {
    "duration": 24,
    "start_time": "2022-06-17T12:03:35.094Z"
   },
   {
    "duration": 9,
    "start_time": "2022-06-17T12:03:35.120Z"
   },
   {
    "duration": 58,
    "start_time": "2022-06-17T12:03:35.131Z"
   },
   {
    "duration": 6,
    "start_time": "2022-06-17T12:03:35.191Z"
   },
   {
    "duration": 29,
    "start_time": "2022-06-17T12:03:35.199Z"
   },
   {
    "duration": 9210,
    "start_time": "2022-06-17T12:03:35.231Z"
   },
   {
    "duration": 1478,
    "start_time": "2022-06-17T12:04:14.314Z"
   },
   {
    "duration": 16,
    "start_time": "2022-06-17T12:04:15.794Z"
   },
   {
    "duration": 16,
    "start_time": "2022-06-17T12:04:15.812Z"
   },
   {
    "duration": 28,
    "start_time": "2022-06-17T12:04:15.831Z"
   },
   {
    "duration": 25,
    "start_time": "2022-06-17T12:04:15.862Z"
   },
   {
    "duration": 38,
    "start_time": "2022-06-17T12:04:15.889Z"
   },
   {
    "duration": 25,
    "start_time": "2022-06-17T12:04:15.929Z"
   },
   {
    "duration": 43,
    "start_time": "2022-06-17T12:04:15.956Z"
   },
   {
    "duration": 17,
    "start_time": "2022-06-17T12:04:16.001Z"
   },
   {
    "duration": 20,
    "start_time": "2022-06-17T12:04:16.032Z"
   },
   {
    "duration": 26,
    "start_time": "2022-06-17T12:04:16.055Z"
   },
   {
    "duration": 9,
    "start_time": "2022-06-17T12:04:16.083Z"
   },
   {
    "duration": 9,
    "start_time": "2022-06-17T12:04:16.093Z"
   },
   {
    "duration": 27,
    "start_time": "2022-06-17T12:04:16.103Z"
   },
   {
    "duration": 317,
    "start_time": "2022-06-17T12:04:16.132Z"
   },
   {
    "duration": 17,
    "start_time": "2022-06-17T12:04:16.452Z"
   },
   {
    "duration": 173,
    "start_time": "2022-06-17T12:04:16.471Z"
   },
   {
    "duration": 29,
    "start_time": "2022-06-17T12:04:16.645Z"
   },
   {
    "duration": 12,
    "start_time": "2022-06-17T12:04:16.676Z"
   },
   {
    "duration": 199,
    "start_time": "2022-06-17T12:04:16.690Z"
   },
   {
    "duration": 15,
    "start_time": "2022-06-17T12:04:16.891Z"
   },
   {
    "duration": 15,
    "start_time": "2022-06-17T12:04:16.925Z"
   },
   {
    "duration": 17,
    "start_time": "2022-06-17T12:04:16.942Z"
   },
   {
    "duration": 20,
    "start_time": "2022-06-17T12:04:16.961Z"
   },
   {
    "duration": 199,
    "start_time": "2022-06-17T12:04:16.983Z"
   },
   {
    "duration": 22,
    "start_time": "2022-06-17T12:04:17.184Z"
   },
   {
    "duration": 33,
    "start_time": "2022-06-17T12:04:17.208Z"
   },
   {
    "duration": 42,
    "start_time": "2022-06-17T12:04:17.245Z"
   },
   {
    "duration": 220,
    "start_time": "2022-06-17T12:04:17.288Z"
   },
   {
    "duration": 31,
    "start_time": "2022-06-17T12:04:17.510Z"
   },
   {
    "duration": 12,
    "start_time": "2022-06-17T12:04:17.544Z"
   },
   {
    "duration": 49,
    "start_time": "2022-06-17T12:04:17.558Z"
   },
   {
    "duration": 23,
    "start_time": "2022-06-17T12:04:17.609Z"
   },
   {
    "duration": 26,
    "start_time": "2022-06-17T12:04:17.634Z"
   },
   {
    "duration": 28,
    "start_time": "2022-06-17T12:04:17.662Z"
   },
   {
    "duration": 10,
    "start_time": "2022-06-17T12:04:17.692Z"
   },
   {
    "duration": 14,
    "start_time": "2022-06-17T12:04:17.704Z"
   },
   {
    "duration": 9,
    "start_time": "2022-06-17T12:04:17.726Z"
   },
   {
    "duration": 64,
    "start_time": "2022-06-17T12:04:17.738Z"
   },
   {
    "duration": 5,
    "start_time": "2022-06-17T12:04:17.803Z"
   },
   {
    "duration": 11,
    "start_time": "2022-06-17T12:04:17.825Z"
   },
   {
    "duration": 9151,
    "start_time": "2022-06-17T12:04:17.838Z"
   },
   {
    "duration": 1365,
    "start_time": "2022-06-17T12:05:26.549Z"
   },
   {
    "duration": 15,
    "start_time": "2022-06-17T12:05:27.916Z"
   },
   {
    "duration": 17,
    "start_time": "2022-06-17T12:05:27.933Z"
   },
   {
    "duration": 33,
    "start_time": "2022-06-17T12:05:27.953Z"
   },
   {
    "duration": 29,
    "start_time": "2022-06-17T12:05:27.987Z"
   },
   {
    "duration": 17,
    "start_time": "2022-06-17T12:05:28.018Z"
   },
   {
    "duration": 25,
    "start_time": "2022-06-17T12:05:28.037Z"
   },
   {
    "duration": 46,
    "start_time": "2022-06-17T12:05:28.064Z"
   },
   {
    "duration": 16,
    "start_time": "2022-06-17T12:05:28.111Z"
   },
   {
    "duration": 15,
    "start_time": "2022-06-17T12:05:28.131Z"
   },
   {
    "duration": 33,
    "start_time": "2022-06-17T12:05:28.148Z"
   },
   {
    "duration": 9,
    "start_time": "2022-06-17T12:05:28.183Z"
   },
   {
    "duration": 7,
    "start_time": "2022-06-17T12:05:28.193Z"
   },
   {
    "duration": 6,
    "start_time": "2022-06-17T12:05:28.226Z"
   },
   {
    "duration": 380,
    "start_time": "2022-06-17T12:05:28.233Z"
   },
   {
    "duration": 13,
    "start_time": "2022-06-17T12:05:28.616Z"
   },
   {
    "duration": 177,
    "start_time": "2022-06-17T12:05:28.631Z"
   },
   {
    "duration": 40,
    "start_time": "2022-06-17T12:05:28.810Z"
   },
   {
    "duration": 13,
    "start_time": "2022-06-17T12:05:28.852Z"
   },
   {
    "duration": 189,
    "start_time": "2022-06-17T12:05:28.867Z"
   },
   {
    "duration": 18,
    "start_time": "2022-06-17T12:05:29.058Z"
   },
   {
    "duration": 20,
    "start_time": "2022-06-17T12:05:29.077Z"
   },
   {
    "duration": 11,
    "start_time": "2022-06-17T12:05:29.099Z"
   },
   {
    "duration": 21,
    "start_time": "2022-06-17T12:05:29.111Z"
   },
   {
    "duration": 216,
    "start_time": "2022-06-17T12:05:29.134Z"
   },
   {
    "duration": 26,
    "start_time": "2022-06-17T12:05:29.353Z"
   },
   {
    "duration": 23,
    "start_time": "2022-06-17T12:05:29.382Z"
   },
   {
    "duration": 41,
    "start_time": "2022-06-17T12:05:29.427Z"
   },
   {
    "duration": 215,
    "start_time": "2022-06-17T12:05:29.470Z"
   },
   {
    "duration": 18,
    "start_time": "2022-06-17T12:05:29.687Z"
   },
   {
    "duration": 20,
    "start_time": "2022-06-17T12:05:29.706Z"
   },
   {
    "duration": 39,
    "start_time": "2022-06-17T12:05:29.727Z"
   },
   {
    "duration": 12,
    "start_time": "2022-06-17T12:05:29.768Z"
   },
   {
    "duration": 11,
    "start_time": "2022-06-17T12:05:29.783Z"
   },
   {
    "duration": 42,
    "start_time": "2022-06-17T12:05:29.796Z"
   },
   {
    "duration": 10,
    "start_time": "2022-06-17T12:05:29.840Z"
   },
   {
    "duration": 19,
    "start_time": "2022-06-17T12:05:29.852Z"
   },
   {
    "duration": 8,
    "start_time": "2022-06-17T12:05:29.873Z"
   },
   {
    "duration": 94,
    "start_time": "2022-06-17T12:05:29.882Z"
   },
   {
    "duration": 6,
    "start_time": "2022-06-17T12:05:29.978Z"
   },
   {
    "duration": 19,
    "start_time": "2022-06-17T12:05:29.986Z"
   },
   {
    "duration": 9414,
    "start_time": "2022-06-17T12:05:30.007Z"
   },
   {
    "duration": 1338,
    "start_time": "2022-06-17T12:06:16.274Z"
   },
   {
    "duration": 16,
    "start_time": "2022-06-17T12:06:17.615Z"
   },
   {
    "duration": 16,
    "start_time": "2022-06-17T12:06:17.632Z"
   },
   {
    "duration": 30,
    "start_time": "2022-06-17T12:06:17.651Z"
   },
   {
    "duration": 20,
    "start_time": "2022-06-17T12:06:17.682Z"
   },
   {
    "duration": 26,
    "start_time": "2022-06-17T12:06:17.704Z"
   },
   {
    "duration": 14,
    "start_time": "2022-06-17T12:06:17.732Z"
   },
   {
    "duration": 44,
    "start_time": "2022-06-17T12:06:17.748Z"
   },
   {
    "duration": 23,
    "start_time": "2022-06-17T12:06:17.793Z"
   },
   {
    "duration": 15,
    "start_time": "2022-06-17T12:06:17.825Z"
   },
   {
    "duration": 23,
    "start_time": "2022-06-17T12:06:17.842Z"
   },
   {
    "duration": 12,
    "start_time": "2022-06-17T12:06:17.867Z"
   },
   {
    "duration": 9,
    "start_time": "2022-06-17T12:06:17.881Z"
   },
   {
    "duration": 11,
    "start_time": "2022-06-17T12:06:17.892Z"
   },
   {
    "duration": 341,
    "start_time": "2022-06-17T12:06:17.904Z"
   },
   {
    "duration": 15,
    "start_time": "2022-06-17T12:06:18.247Z"
   },
   {
    "duration": 201,
    "start_time": "2022-06-17T12:06:18.264Z"
   },
   {
    "duration": 22,
    "start_time": "2022-06-17T12:06:18.467Z"
   },
   {
    "duration": 10,
    "start_time": "2022-06-17T12:06:18.490Z"
   },
   {
    "duration": 168,
    "start_time": "2022-06-17T12:06:18.526Z"
   },
   {
    "duration": 15,
    "start_time": "2022-06-17T12:06:18.695Z"
   },
   {
    "duration": 36,
    "start_time": "2022-06-17T12:06:18.711Z"
   },
   {
    "duration": 14,
    "start_time": "2022-06-17T12:06:18.748Z"
   },
   {
    "duration": 18,
    "start_time": "2022-06-17T12:06:18.764Z"
   },
   {
    "duration": 219,
    "start_time": "2022-06-17T12:06:18.784Z"
   },
   {
    "duration": 39,
    "start_time": "2022-06-17T12:06:19.005Z"
   },
   {
    "duration": 26,
    "start_time": "2022-06-17T12:06:19.046Z"
   },
   {
    "duration": 57,
    "start_time": "2022-06-17T12:06:19.076Z"
   },
   {
    "duration": 216,
    "start_time": "2022-06-17T12:06:19.135Z"
   },
   {
    "duration": 24,
    "start_time": "2022-06-17T12:06:19.354Z"
   },
   {
    "duration": 11,
    "start_time": "2022-06-17T12:06:19.380Z"
   },
   {
    "duration": 72,
    "start_time": "2022-06-17T12:06:19.393Z"
   },
   {
    "duration": 15,
    "start_time": "2022-06-17T12:06:19.468Z"
   },
   {
    "duration": 18,
    "start_time": "2022-06-17T12:06:19.485Z"
   },
   {
    "duration": 49,
    "start_time": "2022-06-17T12:06:19.505Z"
   },
   {
    "duration": 12,
    "start_time": "2022-06-17T12:06:19.556Z"
   },
   {
    "duration": 19,
    "start_time": "2022-06-17T12:06:19.570Z"
   },
   {
    "duration": 8,
    "start_time": "2022-06-17T12:06:19.591Z"
   },
   {
    "duration": 65,
    "start_time": "2022-06-17T12:06:19.600Z"
   },
   {
    "duration": 8,
    "start_time": "2022-06-17T12:06:19.667Z"
   },
   {
    "duration": 21,
    "start_time": "2022-06-17T12:06:19.677Z"
   },
   {
    "duration": 9518,
    "start_time": "2022-06-17T12:06:19.700Z"
   },
   {
    "duration": 1421,
    "start_time": "2022-06-17T12:07:45.783Z"
   },
   {
    "duration": 14,
    "start_time": "2022-06-17T12:07:47.206Z"
   },
   {
    "duration": 15,
    "start_time": "2022-06-17T12:07:47.221Z"
   },
   {
    "duration": 27,
    "start_time": "2022-06-17T12:07:47.239Z"
   },
   {
    "duration": 24,
    "start_time": "2022-06-17T12:07:47.267Z"
   },
   {
    "duration": 9,
    "start_time": "2022-06-17T12:07:47.293Z"
   },
   {
    "duration": 34,
    "start_time": "2022-06-17T12:07:47.303Z"
   },
   {
    "duration": 35,
    "start_time": "2022-06-17T12:07:47.339Z"
   },
   {
    "duration": 18,
    "start_time": "2022-06-17T12:07:47.375Z"
   },
   {
    "duration": 36,
    "start_time": "2022-06-17T12:07:47.395Z"
   },
   {
    "duration": 24,
    "start_time": "2022-06-17T12:07:47.433Z"
   },
   {
    "duration": 11,
    "start_time": "2022-06-17T12:07:47.459Z"
   },
   {
    "duration": 10,
    "start_time": "2022-06-17T12:07:47.472Z"
   },
   {
    "duration": 8,
    "start_time": "2022-06-17T12:07:47.484Z"
   },
   {
    "duration": 383,
    "start_time": "2022-06-17T12:07:47.494Z"
   },
   {
    "duration": 12,
    "start_time": "2022-06-17T12:07:47.880Z"
   },
   {
    "duration": 162,
    "start_time": "2022-06-17T12:07:47.893Z"
   },
   {
    "duration": 23,
    "start_time": "2022-06-17T12:07:48.058Z"
   },
   {
    "duration": 11,
    "start_time": "2022-06-17T12:07:48.084Z"
   },
   {
    "duration": 195,
    "start_time": "2022-06-17T12:07:48.097Z"
   },
   {
    "duration": 15,
    "start_time": "2022-06-17T12:07:48.294Z"
   },
   {
    "duration": 53,
    "start_time": "2022-06-17T12:07:48.332Z"
   },
   {
    "duration": 15,
    "start_time": "2022-06-17T12:07:48.387Z"
   },
   {
    "duration": 42,
    "start_time": "2022-06-17T12:07:48.404Z"
   },
   {
    "duration": 196,
    "start_time": "2022-06-17T12:07:48.448Z"
   },
   {
    "duration": 25,
    "start_time": "2022-06-17T12:07:48.647Z"
   },
   {
    "duration": 22,
    "start_time": "2022-06-17T12:07:48.675Z"
   },
   {
    "duration": 60,
    "start_time": "2022-06-17T12:07:48.701Z"
   },
   {
    "duration": 206,
    "start_time": "2022-06-17T12:07:48.763Z"
   },
   {
    "duration": 19,
    "start_time": "2022-06-17T12:07:48.971Z"
   },
   {
    "duration": 23,
    "start_time": "2022-06-17T12:07:48.991Z"
   },
   {
    "duration": 58,
    "start_time": "2022-06-17T12:07:49.016Z"
   },
   {
    "duration": 12,
    "start_time": "2022-06-17T12:07:49.076Z"
   },
   {
    "duration": 31,
    "start_time": "2022-06-17T12:07:49.089Z"
   },
   {
    "duration": 50,
    "start_time": "2022-06-17T12:07:49.122Z"
   },
   {
    "duration": 21,
    "start_time": "2022-06-17T12:07:49.175Z"
   },
   {
    "duration": 39,
    "start_time": "2022-06-17T12:07:49.198Z"
   },
   {
    "duration": 11,
    "start_time": "2022-06-17T12:07:49.239Z"
   },
   {
    "duration": 79,
    "start_time": "2022-06-17T12:07:49.252Z"
   },
   {
    "duration": 7,
    "start_time": "2022-06-17T12:07:49.334Z"
   },
   {
    "duration": 23,
    "start_time": "2022-06-17T12:07:49.343Z"
   },
   {
    "duration": 9114,
    "start_time": "2022-06-17T12:07:49.368Z"
   },
   {
    "duration": 1754,
    "start_time": "2022-06-17T19:27:52.986Z"
   },
   {
    "duration": 14,
    "start_time": "2022-06-17T19:27:54.742Z"
   },
   {
    "duration": 20,
    "start_time": "2022-06-17T19:27:54.758Z"
   },
   {
    "duration": 23,
    "start_time": "2022-06-17T19:27:54.781Z"
   },
   {
    "duration": 21,
    "start_time": "2022-06-17T19:27:54.806Z"
   },
   {
    "duration": 7,
    "start_time": "2022-06-17T19:27:54.829Z"
   },
   {
    "duration": 10,
    "start_time": "2022-06-17T19:27:54.838Z"
   },
   {
    "duration": 28,
    "start_time": "2022-06-17T19:27:54.850Z"
   },
   {
    "duration": 16,
    "start_time": "2022-06-17T19:27:54.880Z"
   },
   {
    "duration": 35,
    "start_time": "2022-06-17T19:27:54.898Z"
   },
   {
    "duration": 24,
    "start_time": "2022-06-17T19:27:54.934Z"
   },
   {
    "duration": 8,
    "start_time": "2022-06-17T19:27:54.960Z"
   },
   {
    "duration": 12,
    "start_time": "2022-06-17T19:27:54.970Z"
   },
   {
    "duration": 11,
    "start_time": "2022-06-17T19:27:54.983Z"
   },
   {
    "duration": 290,
    "start_time": "2022-06-17T19:27:54.995Z"
   },
   {
    "duration": 12,
    "start_time": "2022-06-17T19:27:55.288Z"
   },
   {
    "duration": 154,
    "start_time": "2022-06-17T19:27:55.302Z"
   },
   {
    "duration": 19,
    "start_time": "2022-06-17T19:27:55.457Z"
   },
   {
    "duration": 8,
    "start_time": "2022-06-17T19:27:55.478Z"
   },
   {
    "duration": 159,
    "start_time": "2022-06-17T19:27:55.487Z"
   },
   {
    "duration": 14,
    "start_time": "2022-06-17T19:27:55.647Z"
   },
   {
    "duration": 25,
    "start_time": "2022-06-17T19:27:55.662Z"
   },
   {
    "duration": 7,
    "start_time": "2022-06-17T19:27:55.688Z"
   },
   {
    "duration": 11,
    "start_time": "2022-06-17T19:27:55.696Z"
   },
   {
    "duration": 172,
    "start_time": "2022-06-17T19:27:55.709Z"
   },
   {
    "duration": 21,
    "start_time": "2022-06-17T19:27:55.882Z"
   },
   {
    "duration": 32,
    "start_time": "2022-06-17T19:27:55.904Z"
   },
   {
    "duration": 30,
    "start_time": "2022-06-17T19:27:55.939Z"
   },
   {
    "duration": 177,
    "start_time": "2022-06-17T19:27:55.970Z"
   },
   {
    "duration": 71,
    "start_time": "2022-06-17T19:27:56.148Z"
   },
   {
    "duration": 7,
    "start_time": "2022-06-17T19:27:56.221Z"
   },
   {
    "duration": 35,
    "start_time": "2022-06-17T19:27:56.229Z"
   },
   {
    "duration": 8,
    "start_time": "2022-06-17T19:27:56.266Z"
   },
   {
    "duration": 13,
    "start_time": "2022-06-17T19:27:56.275Z"
   },
   {
    "duration": 13,
    "start_time": "2022-06-17T19:27:56.289Z"
   },
   {
    "duration": 28,
    "start_time": "2022-06-17T19:27:56.304Z"
   },
   {
    "duration": 12,
    "start_time": "2022-06-17T19:27:56.333Z"
   },
   {
    "duration": 6,
    "start_time": "2022-06-17T19:27:56.346Z"
   },
   {
    "duration": 44,
    "start_time": "2022-06-17T19:27:56.354Z"
   },
   {
    "duration": 4,
    "start_time": "2022-06-17T19:27:56.400Z"
   },
   {
    "duration": 9,
    "start_time": "2022-06-17T19:27:56.426Z"
   },
   {
    "duration": 10614,
    "start_time": "2022-06-17T19:27:56.437Z"
   },
   {
    "duration": 1305,
    "start_time": "2022-06-17T19:28:48.610Z"
   },
   {
    "duration": 14,
    "start_time": "2022-06-17T19:28:49.916Z"
   },
   {
    "duration": 13,
    "start_time": "2022-06-17T19:28:49.932Z"
   },
   {
    "duration": 22,
    "start_time": "2022-06-17T19:28:49.947Z"
   },
   {
    "duration": 17,
    "start_time": "2022-06-17T19:28:49.971Z"
   },
   {
    "duration": 8,
    "start_time": "2022-06-17T19:28:49.989Z"
   },
   {
    "duration": 28,
    "start_time": "2022-06-17T19:28:49.998Z"
   },
   {
    "duration": 27,
    "start_time": "2022-06-17T19:28:50.028Z"
   },
   {
    "duration": 28,
    "start_time": "2022-06-17T19:28:50.057Z"
   },
   {
    "duration": 11,
    "start_time": "2022-06-17T19:28:50.088Z"
   },
   {
    "duration": 38,
    "start_time": "2022-06-17T19:28:50.100Z"
   },
   {
    "duration": 8,
    "start_time": "2022-06-17T19:28:50.140Z"
   },
   {
    "duration": 8,
    "start_time": "2022-06-17T19:28:50.149Z"
   },
   {
    "duration": 6,
    "start_time": "2022-06-17T19:28:50.159Z"
   },
   {
    "duration": 303,
    "start_time": "2022-06-17T19:28:50.166Z"
   },
   {
    "duration": 12,
    "start_time": "2022-06-17T19:28:50.471Z"
   },
   {
    "duration": 145,
    "start_time": "2022-06-17T19:28:50.484Z"
   },
   {
    "duration": 20,
    "start_time": "2022-06-17T19:28:50.631Z"
   },
   {
    "duration": 10,
    "start_time": "2022-06-17T19:28:50.652Z"
   },
   {
    "duration": 169,
    "start_time": "2022-06-17T19:28:50.663Z"
   },
   {
    "duration": 14,
    "start_time": "2022-06-17T19:28:50.833Z"
   },
   {
    "duration": 25,
    "start_time": "2022-06-17T19:28:50.848Z"
   },
   {
    "duration": 4,
    "start_time": "2022-06-17T19:28:50.874Z"
   },
   {
    "duration": 15,
    "start_time": "2022-06-17T19:28:50.880Z"
   },
   {
    "duration": 174,
    "start_time": "2022-06-17T19:28:50.897Z"
   },
   {
    "duration": 21,
    "start_time": "2022-06-17T19:28:51.073Z"
   },
   {
    "duration": 31,
    "start_time": "2022-06-17T19:28:51.096Z"
   },
   {
    "duration": 32,
    "start_time": "2022-06-17T19:28:51.130Z"
   },
   {
    "duration": 188,
    "start_time": "2022-06-17T19:28:51.163Z"
   },
   {
    "duration": 19,
    "start_time": "2022-06-17T19:28:51.352Z"
   },
   {
    "duration": 8,
    "start_time": "2022-06-17T19:28:51.373Z"
   },
   {
    "duration": 56,
    "start_time": "2022-06-17T19:28:51.383Z"
   },
   {
    "duration": 10,
    "start_time": "2022-06-17T19:28:51.440Z"
   },
   {
    "duration": 14,
    "start_time": "2022-06-17T19:28:51.452Z"
   },
   {
    "duration": 16,
    "start_time": "2022-06-17T19:28:51.468Z"
   },
   {
    "duration": 11,
    "start_time": "2022-06-17T19:28:51.486Z"
   },
   {
    "duration": 32,
    "start_time": "2022-06-17T19:28:51.499Z"
   },
   {
    "duration": 8,
    "start_time": "2022-06-17T19:28:51.532Z"
   },
   {
    "duration": 63,
    "start_time": "2022-06-17T19:28:51.542Z"
   },
   {
    "duration": 22,
    "start_time": "2022-06-17T19:28:51.607Z"
   },
   {
    "duration": 21,
    "start_time": "2022-06-17T19:28:51.631Z"
   },
   {
    "duration": 8142,
    "start_time": "2022-06-17T19:28:51.654Z"
   },
   {
    "duration": 103668,
    "start_time": "2022-06-17T19:28:59.798Z"
   },
   {
    "duration": 0,
    "start_time": "2022-06-17T19:30:43.468Z"
   },
   {
    "duration": 0,
    "start_time": "2022-06-17T19:30:43.469Z"
   },
   {
    "duration": 0,
    "start_time": "2022-06-17T19:30:43.470Z"
   },
   {
    "duration": 0,
    "start_time": "2022-06-17T19:30:43.471Z"
   },
   {
    "duration": 0,
    "start_time": "2022-06-17T19:30:43.472Z"
   },
   {
    "duration": 0,
    "start_time": "2022-06-17T19:30:43.473Z"
   },
   {
    "duration": 1289,
    "start_time": "2022-06-17T19:30:48.820Z"
   },
   {
    "duration": 14,
    "start_time": "2022-06-17T19:30:50.111Z"
   },
   {
    "duration": 14,
    "start_time": "2022-06-17T19:30:50.126Z"
   },
   {
    "duration": 24,
    "start_time": "2022-06-17T19:30:50.142Z"
   },
   {
    "duration": 28,
    "start_time": "2022-06-17T19:30:50.168Z"
   },
   {
    "duration": 9,
    "start_time": "2022-06-17T19:30:50.198Z"
   },
   {
    "duration": 30,
    "start_time": "2022-06-17T19:30:50.209Z"
   },
   {
    "duration": 43,
    "start_time": "2022-06-17T19:30:50.241Z"
   },
   {
    "duration": 17,
    "start_time": "2022-06-17T19:30:50.286Z"
   },
   {
    "duration": 39,
    "start_time": "2022-06-17T19:30:50.306Z"
   },
   {
    "duration": 26,
    "start_time": "2022-06-17T19:30:50.347Z"
   },
   {
    "duration": 8,
    "start_time": "2022-06-17T19:30:50.375Z"
   },
   {
    "duration": 8,
    "start_time": "2022-06-17T19:30:50.384Z"
   },
   {
    "duration": 6,
    "start_time": "2022-06-17T19:30:50.393Z"
   },
   {
    "duration": 292,
    "start_time": "2022-06-17T19:30:50.401Z"
   },
   {
    "duration": 12,
    "start_time": "2022-06-17T19:30:50.695Z"
   },
   {
    "duration": 167,
    "start_time": "2022-06-17T19:30:50.708Z"
   },
   {
    "duration": 20,
    "start_time": "2022-06-17T19:30:50.877Z"
   },
   {
    "duration": 36,
    "start_time": "2022-06-17T19:30:50.899Z"
   },
   {
    "duration": 173,
    "start_time": "2022-06-17T19:30:50.937Z"
   },
   {
    "duration": 22,
    "start_time": "2022-06-17T19:30:51.111Z"
   },
   {
    "duration": 29,
    "start_time": "2022-06-17T19:30:51.136Z"
   },
   {
    "duration": 9,
    "start_time": "2022-06-17T19:30:51.166Z"
   },
   {
    "duration": 17,
    "start_time": "2022-06-17T19:30:51.177Z"
   },
   {
    "duration": 198,
    "start_time": "2022-06-17T19:30:51.196Z"
   },
   {
    "duration": 22,
    "start_time": "2022-06-17T19:30:51.396Z"
   },
   {
    "duration": 19,
    "start_time": "2022-06-17T19:30:51.426Z"
   },
   {
    "duration": 36,
    "start_time": "2022-06-17T19:30:51.448Z"
   },
   {
    "duration": 190,
    "start_time": "2022-06-17T19:30:51.487Z"
   },
   {
    "duration": 18,
    "start_time": "2022-06-17T19:30:51.679Z"
   },
   {
    "duration": 12,
    "start_time": "2022-06-17T19:30:51.698Z"
   },
   {
    "duration": 65,
    "start_time": "2022-06-17T19:30:51.727Z"
   },
   {
    "duration": 11,
    "start_time": "2022-06-17T19:30:51.794Z"
   },
   {
    "duration": 22,
    "start_time": "2022-06-17T19:30:51.806Z"
   },
   {
    "duration": 39,
    "start_time": "2022-06-17T19:30:51.830Z"
   },
   {
    "duration": 19,
    "start_time": "2022-06-17T19:30:51.871Z"
   },
   {
    "duration": 30,
    "start_time": "2022-06-17T19:30:51.891Z"
   },
   {
    "duration": 41,
    "start_time": "2022-06-17T19:30:51.923Z"
   },
   {
    "duration": 65,
    "start_time": "2022-06-17T19:30:51.966Z"
   },
   {
    "duration": 6,
    "start_time": "2022-06-17T19:30:52.033Z"
   },
   {
    "duration": 43,
    "start_time": "2022-06-17T19:30:52.041Z"
   },
   {
    "duration": 8297,
    "start_time": "2022-06-17T19:30:52.086Z"
   },
   {
    "duration": 97388,
    "start_time": "2022-06-17T19:31:00.385Z"
   },
   {
    "duration": 0,
    "start_time": "2022-06-17T19:32:37.775Z"
   },
   {
    "duration": 0,
    "start_time": "2022-06-17T19:32:37.777Z"
   },
   {
    "duration": 0,
    "start_time": "2022-06-17T19:32:37.778Z"
   },
   {
    "duration": 0,
    "start_time": "2022-06-17T19:32:37.780Z"
   },
   {
    "duration": 0,
    "start_time": "2022-06-17T19:32:37.781Z"
   },
   {
    "duration": 0,
    "start_time": "2022-06-17T19:32:37.783Z"
   },
   {
    "duration": 1254,
    "start_time": "2022-06-17T19:32:41.153Z"
   },
   {
    "duration": 12,
    "start_time": "2022-06-17T19:32:42.410Z"
   },
   {
    "duration": 16,
    "start_time": "2022-06-17T19:32:42.424Z"
   },
   {
    "duration": 19,
    "start_time": "2022-06-17T19:32:42.442Z"
   },
   {
    "duration": 20,
    "start_time": "2022-06-17T19:32:42.463Z"
   },
   {
    "duration": 8,
    "start_time": "2022-06-17T19:32:42.485Z"
   },
   {
    "duration": 37,
    "start_time": "2022-06-17T19:32:42.494Z"
   },
   {
    "duration": 30,
    "start_time": "2022-06-17T19:32:42.532Z"
   },
   {
    "duration": 17,
    "start_time": "2022-06-17T19:32:42.564Z"
   },
   {
    "duration": 12,
    "start_time": "2022-06-17T19:32:42.582Z"
   },
   {
    "duration": 40,
    "start_time": "2022-06-17T19:32:42.595Z"
   },
   {
    "duration": 7,
    "start_time": "2022-06-17T19:32:42.637Z"
   },
   {
    "duration": 11,
    "start_time": "2022-06-17T19:32:42.646Z"
   },
   {
    "duration": 6,
    "start_time": "2022-06-17T19:32:42.659Z"
   },
   {
    "duration": 271,
    "start_time": "2022-06-17T19:32:42.666Z"
   },
   {
    "duration": 12,
    "start_time": "2022-06-17T19:32:42.939Z"
   },
   {
    "duration": 156,
    "start_time": "2022-06-17T19:32:42.953Z"
   },
   {
    "duration": 25,
    "start_time": "2022-06-17T19:32:43.111Z"
   },
   {
    "duration": 9,
    "start_time": "2022-06-17T19:32:43.137Z"
   },
   {
    "duration": 165,
    "start_time": "2022-06-17T19:32:43.148Z"
   },
   {
    "duration": 16,
    "start_time": "2022-06-17T19:32:43.315Z"
   },
   {
    "duration": 17,
    "start_time": "2022-06-17T19:32:43.333Z"
   },
   {
    "duration": 8,
    "start_time": "2022-06-17T19:32:43.352Z"
   },
   {
    "duration": 11,
    "start_time": "2022-06-17T19:32:43.362Z"
   },
   {
    "duration": 183,
    "start_time": "2022-06-17T19:32:43.375Z"
   },
   {
    "duration": 22,
    "start_time": "2022-06-17T19:32:43.560Z"
   },
   {
    "duration": 22,
    "start_time": "2022-06-17T19:32:43.583Z"
   },
   {
    "duration": 45,
    "start_time": "2022-06-17T19:32:43.607Z"
   },
   {
    "duration": 176,
    "start_time": "2022-06-17T19:32:43.653Z"
   },
   {
    "duration": 17,
    "start_time": "2022-06-17T19:32:43.831Z"
   },
   {
    "duration": 11,
    "start_time": "2022-06-17T19:32:43.849Z"
   },
   {
    "duration": 35,
    "start_time": "2022-06-17T19:32:43.861Z"
   },
   {
    "duration": 29,
    "start_time": "2022-06-17T19:32:43.898Z"
   },
   {
    "duration": 12,
    "start_time": "2022-06-17T19:32:43.929Z"
   },
   {
    "duration": 12,
    "start_time": "2022-06-17T19:32:43.943Z"
   },
   {
    "duration": 10,
    "start_time": "2022-06-17T19:32:43.957Z"
   },
   {
    "duration": 14,
    "start_time": "2022-06-17T19:32:43.969Z"
   },
   {
    "duration": 7,
    "start_time": "2022-06-17T19:32:43.985Z"
   },
   {
    "duration": 51,
    "start_time": "2022-06-17T19:32:44.026Z"
   },
   {
    "duration": 5,
    "start_time": "2022-06-17T19:32:44.080Z"
   },
   {
    "duration": 36,
    "start_time": "2022-06-17T19:32:44.090Z"
   },
   {
    "duration": 7947,
    "start_time": "2022-06-17T19:32:44.128Z"
   },
   {
    "duration": 10889,
    "start_time": "2022-06-17T19:32:52.078Z"
   },
   {
    "duration": 0,
    "start_time": "2022-06-17T19:33:02.969Z"
   },
   {
    "duration": 0,
    "start_time": "2022-06-17T19:33:02.970Z"
   },
   {
    "duration": 0,
    "start_time": "2022-06-17T19:33:02.972Z"
   },
   {
    "duration": 0,
    "start_time": "2022-06-17T19:33:02.972Z"
   },
   {
    "duration": 0,
    "start_time": "2022-06-17T19:33:02.973Z"
   },
   {
    "duration": 0,
    "start_time": "2022-06-17T19:33:02.974Z"
   },
   {
    "duration": 1300,
    "start_time": "2022-06-17T19:40:24.819Z"
   },
   {
    "duration": 12,
    "start_time": "2022-06-17T19:40:26.121Z"
   },
   {
    "duration": 21,
    "start_time": "2022-06-17T19:40:26.134Z"
   },
   {
    "duration": 25,
    "start_time": "2022-06-17T19:40:26.157Z"
   },
   {
    "duration": 35,
    "start_time": "2022-06-17T19:40:26.184Z"
   },
   {
    "duration": 7,
    "start_time": "2022-06-17T19:40:26.221Z"
   },
   {
    "duration": 45,
    "start_time": "2022-06-17T19:40:26.230Z"
   },
   {
    "duration": 30,
    "start_time": "2022-06-17T19:40:26.277Z"
   },
   {
    "duration": 23,
    "start_time": "2022-06-17T19:40:26.309Z"
   },
   {
    "duration": 16,
    "start_time": "2022-06-17T19:40:26.334Z"
   },
   {
    "duration": 19,
    "start_time": "2022-06-17T19:40:26.352Z"
   },
   {
    "duration": 8,
    "start_time": "2022-06-17T19:40:26.373Z"
   },
   {
    "duration": 8,
    "start_time": "2022-06-17T19:40:26.382Z"
   },
   {
    "duration": 19,
    "start_time": "2022-06-17T19:40:26.392Z"
   },
   {
    "duration": 292,
    "start_time": "2022-06-17T19:40:26.413Z"
   },
   {
    "duration": 12,
    "start_time": "2022-06-17T19:40:26.707Z"
   },
   {
    "duration": 148,
    "start_time": "2022-06-17T19:40:26.720Z"
   },
   {
    "duration": 19,
    "start_time": "2022-06-17T19:40:26.870Z"
   },
   {
    "duration": 9,
    "start_time": "2022-06-17T19:40:26.890Z"
   },
   {
    "duration": 174,
    "start_time": "2022-06-17T19:40:26.901Z"
   },
   {
    "duration": 16,
    "start_time": "2022-06-17T19:40:27.077Z"
   },
   {
    "duration": 32,
    "start_time": "2022-06-17T19:40:27.095Z"
   },
   {
    "duration": 5,
    "start_time": "2022-06-17T19:40:27.128Z"
   },
   {
    "duration": 13,
    "start_time": "2022-06-17T19:40:27.135Z"
   },
   {
    "duration": 179,
    "start_time": "2022-06-17T19:40:27.149Z"
   },
   {
    "duration": 23,
    "start_time": "2022-06-17T19:40:27.329Z"
   },
   {
    "duration": 23,
    "start_time": "2022-06-17T19:40:27.354Z"
   },
   {
    "duration": 55,
    "start_time": "2022-06-17T19:40:27.380Z"
   },
   {
    "duration": 167,
    "start_time": "2022-06-17T19:40:27.437Z"
   },
   {
    "duration": 22,
    "start_time": "2022-06-17T19:40:27.606Z"
   },
   {
    "duration": 8,
    "start_time": "2022-06-17T19:40:27.629Z"
   },
   {
    "duration": 34,
    "start_time": "2022-06-17T19:40:27.638Z"
   },
   {
    "duration": 9,
    "start_time": "2022-06-17T19:40:27.674Z"
   },
   {
    "duration": 13,
    "start_time": "2022-06-17T19:40:27.685Z"
   },
   {
    "duration": 36,
    "start_time": "2022-06-17T19:40:27.699Z"
   },
   {
    "duration": 8,
    "start_time": "2022-06-17T19:40:27.737Z"
   },
   {
    "duration": 12,
    "start_time": "2022-06-17T19:40:27.746Z"
   },
   {
    "duration": 6,
    "start_time": "2022-06-17T19:40:27.760Z"
   },
   {
    "duration": 72,
    "start_time": "2022-06-17T19:40:27.768Z"
   },
   {
    "duration": 5,
    "start_time": "2022-06-17T19:40:27.842Z"
   },
   {
    "duration": 17,
    "start_time": "2022-06-17T19:40:27.849Z"
   },
   {
    "duration": 8185,
    "start_time": "2022-06-17T19:40:27.868Z"
   },
   {
    "duration": 3098,
    "start_time": "2022-06-17T19:40:36.055Z"
   },
   {
    "duration": 0,
    "start_time": "2022-06-17T19:40:39.155Z"
   },
   {
    "duration": 0,
    "start_time": "2022-06-17T19:40:39.156Z"
   },
   {
    "duration": 0,
    "start_time": "2022-06-17T19:40:39.157Z"
   },
   {
    "duration": 0,
    "start_time": "2022-06-17T19:40:39.158Z"
   },
   {
    "duration": 0,
    "start_time": "2022-06-17T19:40:39.159Z"
   },
   {
    "duration": 0,
    "start_time": "2022-06-17T19:40:39.160Z"
   },
   {
    "duration": 1299,
    "start_time": "2022-06-17T19:41:51.544Z"
   },
   {
    "duration": 15,
    "start_time": "2022-06-17T19:41:52.845Z"
   },
   {
    "duration": 15,
    "start_time": "2022-06-17T19:41:52.862Z"
   },
   {
    "duration": 24,
    "start_time": "2022-06-17T19:41:52.879Z"
   },
   {
    "duration": 35,
    "start_time": "2022-06-17T19:41:52.905Z"
   },
   {
    "duration": 9,
    "start_time": "2022-06-17T19:41:52.942Z"
   },
   {
    "duration": 19,
    "start_time": "2022-06-17T19:41:52.953Z"
   },
   {
    "duration": 38,
    "start_time": "2022-06-17T19:41:52.974Z"
   },
   {
    "duration": 19,
    "start_time": "2022-06-17T19:41:53.027Z"
   },
   {
    "duration": 13,
    "start_time": "2022-06-17T19:41:53.049Z"
   },
   {
    "duration": 21,
    "start_time": "2022-06-17T19:41:53.063Z"
   },
   {
    "duration": 9,
    "start_time": "2022-06-17T19:41:53.086Z"
   },
   {
    "duration": 7,
    "start_time": "2022-06-17T19:41:53.125Z"
   },
   {
    "duration": 9,
    "start_time": "2022-06-17T19:41:53.134Z"
   },
   {
    "duration": 320,
    "start_time": "2022-06-17T19:41:53.145Z"
   },
   {
    "duration": 16,
    "start_time": "2022-06-17T19:41:53.468Z"
   },
   {
    "duration": 164,
    "start_time": "2022-06-17T19:41:53.487Z"
   },
   {
    "duration": 20,
    "start_time": "2022-06-17T19:41:53.653Z"
   },
   {
    "duration": 10,
    "start_time": "2022-06-17T19:41:53.675Z"
   },
   {
    "duration": 177,
    "start_time": "2022-06-17T19:41:53.687Z"
   },
   {
    "duration": 16,
    "start_time": "2022-06-17T19:41:53.865Z"
   },
   {
    "duration": 13,
    "start_time": "2022-06-17T19:41:53.882Z"
   },
   {
    "duration": 31,
    "start_time": "2022-06-17T19:41:53.896Z"
   },
   {
    "duration": 12,
    "start_time": "2022-06-17T19:41:53.929Z"
   },
   {
    "duration": 196,
    "start_time": "2022-06-17T19:41:53.943Z"
   },
   {
    "duration": 23,
    "start_time": "2022-06-17T19:41:54.141Z"
   },
   {
    "duration": 21,
    "start_time": "2022-06-17T19:41:54.166Z"
   },
   {
    "duration": 63,
    "start_time": "2022-06-17T19:41:54.190Z"
   },
   {
    "duration": 227,
    "start_time": "2022-06-17T19:41:54.255Z"
   },
   {
    "duration": 23,
    "start_time": "2022-06-17T19:41:54.484Z"
   },
   {
    "duration": 37,
    "start_time": "2022-06-17T19:41:54.509Z"
   },
   {
    "duration": 43,
    "start_time": "2022-06-17T19:41:54.548Z"
   },
   {
    "duration": 13,
    "start_time": "2022-06-17T19:41:54.593Z"
   },
   {
    "duration": 29,
    "start_time": "2022-06-17T19:41:54.608Z"
   },
   {
    "duration": 30,
    "start_time": "2022-06-17T19:41:54.640Z"
   },
   {
    "duration": 10,
    "start_time": "2022-06-17T19:41:54.672Z"
   },
   {
    "duration": 12,
    "start_time": "2022-06-17T19:41:54.684Z"
   },
   {
    "duration": 6,
    "start_time": "2022-06-17T19:41:54.698Z"
   },
   {
    "duration": 67,
    "start_time": "2022-06-17T19:41:54.706Z"
   },
   {
    "duration": 5,
    "start_time": "2022-06-17T19:41:54.775Z"
   },
   {
    "duration": 18,
    "start_time": "2022-06-17T19:41:54.781Z"
   },
   {
    "duration": 8182,
    "start_time": "2022-06-17T19:41:54.801Z"
   },
   {
    "duration": 171379,
    "start_time": "2022-06-17T19:42:02.985Z"
   },
   {
    "duration": 0,
    "start_time": "2022-06-17T19:44:54.365Z"
   },
   {
    "duration": 0,
    "start_time": "2022-06-17T19:44:54.367Z"
   },
   {
    "duration": 0,
    "start_time": "2022-06-17T19:44:54.368Z"
   },
   {
    "duration": 0,
    "start_time": "2022-06-17T19:44:54.370Z"
   },
   {
    "duration": 0,
    "start_time": "2022-06-17T19:44:54.371Z"
   },
   {
    "duration": 0,
    "start_time": "2022-06-17T19:44:54.372Z"
   },
   {
    "duration": 1318,
    "start_time": "2022-06-17T19:48:24.797Z"
   },
   {
    "duration": 15,
    "start_time": "2022-06-17T19:48:26.117Z"
   },
   {
    "duration": 14,
    "start_time": "2022-06-17T19:48:26.133Z"
   },
   {
    "duration": 27,
    "start_time": "2022-06-17T19:48:26.149Z"
   },
   {
    "duration": 18,
    "start_time": "2022-06-17T19:48:26.177Z"
   },
   {
    "duration": 7,
    "start_time": "2022-06-17T19:48:26.197Z"
   },
   {
    "duration": 24,
    "start_time": "2022-06-17T19:48:26.206Z"
   },
   {
    "duration": 31,
    "start_time": "2022-06-17T19:48:26.232Z"
   },
   {
    "duration": 23,
    "start_time": "2022-06-17T19:48:26.265Z"
   },
   {
    "duration": 14,
    "start_time": "2022-06-17T19:48:26.291Z"
   },
   {
    "duration": 22,
    "start_time": "2022-06-17T19:48:26.326Z"
   },
   {
    "duration": 8,
    "start_time": "2022-06-17T19:48:26.350Z"
   },
   {
    "duration": 7,
    "start_time": "2022-06-17T19:48:26.359Z"
   },
   {
    "duration": 7,
    "start_time": "2022-06-17T19:48:26.367Z"
   },
   {
    "duration": 286,
    "start_time": "2022-06-17T19:48:26.375Z"
   },
   {
    "duration": 14,
    "start_time": "2022-06-17T19:48:26.663Z"
   },
   {
    "duration": 155,
    "start_time": "2022-06-17T19:48:26.679Z"
   },
   {
    "duration": 21,
    "start_time": "2022-06-17T19:48:26.836Z"
   },
   {
    "duration": 10,
    "start_time": "2022-06-17T19:48:26.859Z"
   },
   {
    "duration": 165,
    "start_time": "2022-06-17T19:48:26.870Z"
   },
   {
    "duration": 13,
    "start_time": "2022-06-17T19:48:27.037Z"
   },
   {
    "duration": 16,
    "start_time": "2022-06-17T19:48:27.052Z"
   },
   {
    "duration": 5,
    "start_time": "2022-06-17T19:48:27.069Z"
   },
   {
    "duration": 19,
    "start_time": "2022-06-17T19:48:27.075Z"
   },
   {
    "duration": 198,
    "start_time": "2022-06-17T19:48:27.096Z"
   },
   {
    "duration": 38,
    "start_time": "2022-06-17T19:48:27.296Z"
   },
   {
    "duration": 29,
    "start_time": "2022-06-17T19:48:27.335Z"
   },
   {
    "duration": 44,
    "start_time": "2022-06-17T19:48:27.369Z"
   },
   {
    "duration": 180,
    "start_time": "2022-06-17T19:48:27.415Z"
   },
   {
    "duration": 18,
    "start_time": "2022-06-17T19:48:27.597Z"
   },
   {
    "duration": 8,
    "start_time": "2022-06-17T19:48:27.625Z"
   },
   {
    "duration": 36,
    "start_time": "2022-06-17T19:48:27.635Z"
   },
   {
    "duration": 10,
    "start_time": "2022-06-17T19:48:27.672Z"
   },
   {
    "duration": 14,
    "start_time": "2022-06-17T19:48:27.683Z"
   },
   {
    "duration": 36,
    "start_time": "2022-06-17T19:48:27.699Z"
   },
   {
    "duration": 8,
    "start_time": "2022-06-17T19:48:27.737Z"
   },
   {
    "duration": 16,
    "start_time": "2022-06-17T19:48:27.747Z"
   },
   {
    "duration": 7,
    "start_time": "2022-06-17T19:48:27.765Z"
   },
   {
    "duration": 73,
    "start_time": "2022-06-17T19:48:27.774Z"
   },
   {
    "duration": 6,
    "start_time": "2022-06-17T19:48:27.849Z"
   },
   {
    "duration": 14,
    "start_time": "2022-06-17T19:48:27.856Z"
   },
   {
    "duration": 8276,
    "start_time": "2022-06-17T19:48:27.872Z"
   },
   {
    "duration": 40654,
    "start_time": "2022-06-17T19:48:36.151Z"
   },
   {
    "duration": 0,
    "start_time": "2022-06-17T19:49:16.807Z"
   },
   {
    "duration": 0,
    "start_time": "2022-06-17T19:49:16.808Z"
   },
   {
    "duration": 0,
    "start_time": "2022-06-17T19:49:16.809Z"
   },
   {
    "duration": 0,
    "start_time": "2022-06-17T19:49:16.811Z"
   },
   {
    "duration": 0,
    "start_time": "2022-06-17T19:49:16.812Z"
   },
   {
    "duration": 0,
    "start_time": "2022-06-17T19:49:16.813Z"
   },
   {
    "duration": 1424,
    "start_time": "2022-06-17T20:11:22.034Z"
   },
   {
    "duration": 15,
    "start_time": "2022-06-17T20:11:23.460Z"
   },
   {
    "duration": 24,
    "start_time": "2022-06-17T20:11:23.476Z"
   },
   {
    "duration": 25,
    "start_time": "2022-06-17T20:11:23.502Z"
   },
   {
    "duration": 25,
    "start_time": "2022-06-17T20:11:23.528Z"
   },
   {
    "duration": 10,
    "start_time": "2022-06-17T20:11:23.555Z"
   },
   {
    "duration": 15,
    "start_time": "2022-06-17T20:11:23.567Z"
   },
   {
    "duration": 49,
    "start_time": "2022-06-17T20:11:23.584Z"
   },
   {
    "duration": 16,
    "start_time": "2022-06-17T20:11:23.635Z"
   },
   {
    "duration": 12,
    "start_time": "2022-06-17T20:11:23.653Z"
   },
   {
    "duration": 20,
    "start_time": "2022-06-17T20:11:23.667Z"
   },
   {
    "duration": 38,
    "start_time": "2022-06-17T20:11:23.689Z"
   },
   {
    "duration": 5,
    "start_time": "2022-06-17T20:11:23.729Z"
   },
   {
    "duration": 12,
    "start_time": "2022-06-17T20:11:23.735Z"
   },
   {
    "duration": 302,
    "start_time": "2022-06-17T20:11:23.748Z"
   },
   {
    "duration": 11,
    "start_time": "2022-06-17T20:11:24.052Z"
   },
   {
    "duration": 150,
    "start_time": "2022-06-17T20:11:24.064Z"
   },
   {
    "duration": 26,
    "start_time": "2022-06-17T20:11:24.216Z"
   },
   {
    "duration": 9,
    "start_time": "2022-06-17T20:11:24.244Z"
   },
   {
    "duration": 191,
    "start_time": "2022-06-17T20:11:24.254Z"
   },
   {
    "duration": 18,
    "start_time": "2022-06-17T20:11:24.447Z"
   },
   {
    "duration": 25,
    "start_time": "2022-06-17T20:11:24.467Z"
   },
   {
    "duration": 11,
    "start_time": "2022-06-17T20:11:24.493Z"
   },
   {
    "duration": 27,
    "start_time": "2022-06-17T20:11:24.508Z"
   },
   {
    "duration": 193,
    "start_time": "2022-06-17T20:11:24.537Z"
   },
   {
    "duration": 20,
    "start_time": "2022-06-17T20:11:24.732Z"
   },
   {
    "duration": 26,
    "start_time": "2022-06-17T20:11:24.754Z"
   },
   {
    "duration": 54,
    "start_time": "2022-06-17T20:11:24.784Z"
   },
   {
    "duration": 168,
    "start_time": "2022-06-17T20:11:24.840Z"
   },
   {
    "duration": 27,
    "start_time": "2022-06-17T20:11:25.010Z"
   },
   {
    "duration": 9,
    "start_time": "2022-06-17T20:11:25.039Z"
   },
   {
    "duration": 38,
    "start_time": "2022-06-17T20:11:25.049Z"
   },
   {
    "duration": 9,
    "start_time": "2022-06-17T20:11:25.088Z"
   },
   {
    "duration": 37,
    "start_time": "2022-06-17T20:11:25.098Z"
   },
   {
    "duration": 12,
    "start_time": "2022-06-17T20:11:25.137Z"
   },
   {
    "duration": 7,
    "start_time": "2022-06-17T20:11:25.150Z"
   },
   {
    "duration": 16,
    "start_time": "2022-06-17T20:11:25.159Z"
   },
   {
    "duration": 6,
    "start_time": "2022-06-17T20:11:25.176Z"
   },
   {
    "duration": 73,
    "start_time": "2022-06-17T20:11:25.184Z"
   },
   {
    "duration": 5,
    "start_time": "2022-06-17T20:11:25.259Z"
   },
   {
    "duration": 11,
    "start_time": "2022-06-17T20:11:25.266Z"
   },
   {
    "duration": 7989,
    "start_time": "2022-06-17T20:11:25.279Z"
   },
   {
    "duration": 972874,
    "start_time": "2022-06-17T20:11:33.270Z"
   },
   {
    "duration": 0,
    "start_time": "2022-06-17T20:27:46.147Z"
   },
   {
    "duration": 0,
    "start_time": "2022-06-17T20:27:46.148Z"
   },
   {
    "duration": 0,
    "start_time": "2022-06-17T20:27:46.149Z"
   },
   {
    "duration": 0,
    "start_time": "2022-06-17T20:27:46.151Z"
   },
   {
    "duration": 0,
    "start_time": "2022-06-17T20:27:46.152Z"
   },
   {
    "duration": 0,
    "start_time": "2022-06-17T20:27:46.153Z"
   },
   {
    "duration": 1396,
    "start_time": "2022-06-17T20:28:00.823Z"
   },
   {
    "duration": 16,
    "start_time": "2022-06-17T20:28:02.220Z"
   },
   {
    "duration": 31,
    "start_time": "2022-06-17T20:28:02.238Z"
   },
   {
    "duration": 37,
    "start_time": "2022-06-17T20:28:02.271Z"
   },
   {
    "duration": 26,
    "start_time": "2022-06-17T20:28:02.309Z"
   },
   {
    "duration": 10,
    "start_time": "2022-06-17T20:28:02.337Z"
   },
   {
    "duration": 16,
    "start_time": "2022-06-17T20:28:02.349Z"
   },
   {
    "duration": 47,
    "start_time": "2022-06-17T20:28:02.366Z"
   },
   {
    "duration": 32,
    "start_time": "2022-06-17T20:28:02.414Z"
   },
   {
    "duration": 14,
    "start_time": "2022-06-17T20:28:02.449Z"
   },
   {
    "duration": 27,
    "start_time": "2022-06-17T20:28:02.465Z"
   },
   {
    "duration": 35,
    "start_time": "2022-06-17T20:28:02.493Z"
   },
   {
    "duration": 22,
    "start_time": "2022-06-17T20:28:02.531Z"
   },
   {
    "duration": 10,
    "start_time": "2022-06-17T20:28:02.555Z"
   },
   {
    "duration": 339,
    "start_time": "2022-06-17T20:28:02.567Z"
   },
   {
    "duration": 11,
    "start_time": "2022-06-17T20:28:02.908Z"
   },
   {
    "duration": 154,
    "start_time": "2022-06-17T20:28:02.921Z"
   },
   {
    "duration": 22,
    "start_time": "2022-06-17T20:28:03.077Z"
   },
   {
    "duration": 31,
    "start_time": "2022-06-17T20:28:03.101Z"
   },
   {
    "duration": 179,
    "start_time": "2022-06-17T20:28:03.136Z"
   },
   {
    "duration": 22,
    "start_time": "2022-06-17T20:28:03.317Z"
   },
   {
    "duration": 23,
    "start_time": "2022-06-17T20:28:03.341Z"
   },
   {
    "duration": 5,
    "start_time": "2022-06-17T20:28:03.365Z"
   },
   {
    "duration": 18,
    "start_time": "2022-06-17T20:28:03.371Z"
   },
   {
    "duration": 192,
    "start_time": "2022-06-17T20:28:03.391Z"
   },
   {
    "duration": 25,
    "start_time": "2022-06-17T20:28:03.585Z"
   },
   {
    "duration": 40,
    "start_time": "2022-06-17T20:28:03.612Z"
   },
   {
    "duration": 36,
    "start_time": "2022-06-17T20:28:03.655Z"
   },
   {
    "duration": 218,
    "start_time": "2022-06-17T20:28:03.692Z"
   },
   {
    "duration": 32,
    "start_time": "2022-06-17T20:28:03.913Z"
   },
   {
    "duration": 11,
    "start_time": "2022-06-17T20:28:03.947Z"
   },
   {
    "duration": 36,
    "start_time": "2022-06-17T20:28:03.959Z"
   },
   {
    "duration": 40,
    "start_time": "2022-06-17T20:28:03.997Z"
   },
   {
    "duration": 23,
    "start_time": "2022-06-17T20:28:04.039Z"
   },
   {
    "duration": 15,
    "start_time": "2022-06-17T20:28:04.064Z"
   },
   {
    "duration": 7,
    "start_time": "2022-06-17T20:28:04.081Z"
   },
   {
    "duration": 49,
    "start_time": "2022-06-17T20:28:04.089Z"
   },
   {
    "duration": 9,
    "start_time": "2022-06-17T20:28:04.140Z"
   },
   {
    "duration": 48,
    "start_time": "2022-06-17T20:28:04.151Z"
   },
   {
    "duration": 26,
    "start_time": "2022-06-17T20:28:04.201Z"
   },
   {
    "duration": 22,
    "start_time": "2022-06-17T20:28:04.229Z"
   },
   {
    "duration": 8590,
    "start_time": "2022-06-17T20:28:04.253Z"
   },
   {
    "duration": 22852,
    "start_time": "2022-06-17T20:28:12.846Z"
   },
   {
    "duration": 0,
    "start_time": "2022-06-17T20:28:35.701Z"
   },
   {
    "duration": 0,
    "start_time": "2022-06-17T20:28:35.702Z"
   },
   {
    "duration": 0,
    "start_time": "2022-06-17T20:28:35.703Z"
   },
   {
    "duration": 0,
    "start_time": "2022-06-17T20:28:35.704Z"
   },
   {
    "duration": 0,
    "start_time": "2022-06-17T20:28:35.706Z"
   },
   {
    "duration": 0,
    "start_time": "2022-06-17T20:28:35.707Z"
   },
   {
    "duration": 1738,
    "start_time": "2022-06-18T06:41:23.367Z"
   },
   {
    "duration": 13,
    "start_time": "2022-06-18T06:41:25.107Z"
   },
   {
    "duration": 17,
    "start_time": "2022-06-18T06:41:25.122Z"
   },
   {
    "duration": 18,
    "start_time": "2022-06-18T06:41:25.141Z"
   },
   {
    "duration": 17,
    "start_time": "2022-06-18T06:41:25.160Z"
   },
   {
    "duration": 7,
    "start_time": "2022-06-18T06:41:25.179Z"
   },
   {
    "duration": 10,
    "start_time": "2022-06-18T06:41:25.188Z"
   },
   {
    "duration": 51,
    "start_time": "2022-06-18T06:41:25.200Z"
   },
   {
    "duration": 18,
    "start_time": "2022-06-18T06:41:25.253Z"
   },
   {
    "duration": 13,
    "start_time": "2022-06-18T06:41:25.273Z"
   },
   {
    "duration": 40,
    "start_time": "2022-06-18T06:41:25.288Z"
   },
   {
    "duration": 8,
    "start_time": "2022-06-18T06:41:25.330Z"
   },
   {
    "duration": 5,
    "start_time": "2022-06-18T06:41:25.340Z"
   },
   {
    "duration": 9,
    "start_time": "2022-06-18T06:41:25.346Z"
   },
   {
    "duration": 290,
    "start_time": "2022-06-18T06:41:25.357Z"
   },
   {
    "duration": 11,
    "start_time": "2022-06-18T06:41:25.648Z"
   },
   {
    "duration": 145,
    "start_time": "2022-06-18T06:41:25.660Z"
   },
   {
    "duration": 24,
    "start_time": "2022-06-18T06:41:25.806Z"
   },
   {
    "duration": 10,
    "start_time": "2022-06-18T06:41:25.831Z"
   },
   {
    "duration": 158,
    "start_time": "2022-06-18T06:41:25.842Z"
   },
   {
    "duration": 14,
    "start_time": "2022-06-18T06:41:26.002Z"
   },
   {
    "duration": 11,
    "start_time": "2022-06-18T06:41:26.027Z"
   },
   {
    "duration": 8,
    "start_time": "2022-06-18T06:41:26.039Z"
   },
   {
    "duration": 13,
    "start_time": "2022-06-18T06:41:26.048Z"
   },
   {
    "duration": 182,
    "start_time": "2022-06-18T06:41:26.063Z"
   },
   {
    "duration": 27,
    "start_time": "2022-06-18T06:41:26.247Z"
   },
   {
    "duration": 30,
    "start_time": "2022-06-18T06:41:26.276Z"
   },
   {
    "duration": 39,
    "start_time": "2022-06-18T06:41:26.327Z"
   },
   {
    "duration": 189,
    "start_time": "2022-06-18T06:41:26.368Z"
   },
   {
    "duration": 90,
    "start_time": "2022-06-18T06:41:26.559Z"
   },
   {
    "duration": 9,
    "start_time": "2022-06-18T06:41:26.650Z"
   },
   {
    "duration": 43,
    "start_time": "2022-06-18T06:41:26.661Z"
   },
   {
    "duration": 10,
    "start_time": "2022-06-18T06:41:26.705Z"
   },
   {
    "duration": 14,
    "start_time": "2022-06-18T06:41:26.717Z"
   },
   {
    "duration": 12,
    "start_time": "2022-06-18T06:41:26.733Z"
   },
   {
    "duration": 7,
    "start_time": "2022-06-18T06:41:26.746Z"
   },
   {
    "duration": 10,
    "start_time": "2022-06-18T06:41:26.755Z"
   },
   {
    "duration": 9,
    "start_time": "2022-06-18T06:41:26.767Z"
   },
   {
    "duration": 78,
    "start_time": "2022-06-18T06:41:26.778Z"
   },
   {
    "duration": 5,
    "start_time": "2022-06-18T06:41:26.858Z"
   },
   {
    "duration": 11,
    "start_time": "2022-06-18T06:41:26.864Z"
   },
   {
    "duration": 10396,
    "start_time": "2022-06-18T06:41:26.877Z"
   },
   {
    "duration": 5669195,
    "start_time": "2022-06-18T06:41:37.277Z"
   },
   {
    "duration": 11,
    "start_time": "2022-06-18T08:16:06.475Z"
   },
   {
    "duration": 23,
    "start_time": "2022-06-18T08:16:06.488Z"
   },
   {
    "duration": 10,
    "start_time": "2022-06-18T08:16:06.513Z"
   },
   {
    "duration": 43,
    "start_time": "2022-06-18T08:16:06.524Z"
   },
   {
    "duration": 73,
    "start_time": "2022-06-18T08:16:06.570Z"
   },
   {
    "duration": 117,
    "start_time": "2022-06-18T08:16:06.645Z"
   },
   {
    "duration": 1300,
    "start_time": "2022-06-18T21:39:57.804Z"
   },
   {
    "duration": 14,
    "start_time": "2022-06-18T21:39:59.106Z"
   },
   {
    "duration": 15,
    "start_time": "2022-06-18T21:39:59.121Z"
   },
   {
    "duration": 19,
    "start_time": "2022-06-18T21:39:59.138Z"
   },
   {
    "duration": 16,
    "start_time": "2022-06-18T21:39:59.159Z"
   },
   {
    "duration": 7,
    "start_time": "2022-06-18T21:39:59.177Z"
   },
   {
    "duration": 44,
    "start_time": "2022-06-18T21:39:59.185Z"
   },
   {
    "duration": 41,
    "start_time": "2022-06-18T21:39:59.231Z"
   },
   {
    "duration": 16,
    "start_time": "2022-06-18T21:39:59.274Z"
   },
   {
    "duration": 36,
    "start_time": "2022-06-18T21:39:59.292Z"
   },
   {
    "duration": 20,
    "start_time": "2022-06-18T21:39:59.329Z"
   },
   {
    "duration": 7,
    "start_time": "2022-06-18T21:39:59.351Z"
   },
   {
    "duration": 7,
    "start_time": "2022-06-18T21:39:59.360Z"
   },
   {
    "duration": 7,
    "start_time": "2022-06-18T21:39:59.369Z"
   },
   {
    "duration": 310,
    "start_time": "2022-06-18T21:39:59.377Z"
   },
   {
    "duration": 11,
    "start_time": "2022-06-18T21:39:59.688Z"
   },
   {
    "duration": 153,
    "start_time": "2022-06-18T21:39:59.701Z"
   },
   {
    "duration": 19,
    "start_time": "2022-06-18T21:39:59.856Z"
   },
   {
    "duration": 9,
    "start_time": "2022-06-18T21:39:59.877Z"
   },
   {
    "duration": 179,
    "start_time": "2022-06-18T21:39:59.887Z"
   },
   {
    "duration": 14,
    "start_time": "2022-06-18T21:40:00.068Z"
   },
   {
    "duration": 30,
    "start_time": "2022-06-18T21:40:00.084Z"
   },
   {
    "duration": 14,
    "start_time": "2022-06-18T21:40:00.116Z"
   },
   {
    "duration": 18,
    "start_time": "2022-06-18T21:40:00.131Z"
   },
   {
    "duration": 169,
    "start_time": "2022-06-18T21:40:00.151Z"
   },
   {
    "duration": 30,
    "start_time": "2022-06-18T21:40:00.327Z"
   },
   {
    "duration": 21,
    "start_time": "2022-06-18T21:40:00.358Z"
   },
   {
    "duration": 29,
    "start_time": "2022-06-18T21:40:00.381Z"
   },
   {
    "duration": 227,
    "start_time": "2022-06-18T21:40:00.412Z"
   },
   {
    "duration": 18,
    "start_time": "2022-06-18T21:40:00.641Z"
   },
   {
    "duration": 9,
    "start_time": "2022-06-18T21:40:00.660Z"
   },
   {
    "duration": 59,
    "start_time": "2022-06-18T21:40:00.670Z"
   },
   {
    "duration": 10,
    "start_time": "2022-06-18T21:40:00.731Z"
   },
   {
    "duration": 40,
    "start_time": "2022-06-18T21:40:00.743Z"
   },
   {
    "duration": 33,
    "start_time": "2022-06-18T21:40:00.784Z"
   },
   {
    "duration": 13,
    "start_time": "2022-06-18T21:40:00.819Z"
   },
   {
    "duration": 35,
    "start_time": "2022-06-18T21:40:00.834Z"
   },
   {
    "duration": 20,
    "start_time": "2022-06-18T21:40:00.871Z"
   },
   {
    "duration": 26,
    "start_time": "2022-06-18T21:40:00.893Z"
   },
   {
    "duration": 14,
    "start_time": "2022-06-18T21:40:00.921Z"
   },
   {
    "duration": 11,
    "start_time": "2022-06-18T21:40:00.938Z"
   },
   {
    "duration": 8483,
    "start_time": "2022-06-18T21:40:00.950Z"
   },
   {
    "duration": 24889,
    "start_time": "2022-06-18T21:40:09.435Z"
   },
   {
    "duration": 0,
    "start_time": "2022-06-18T21:40:34.326Z"
   },
   {
    "duration": 0,
    "start_time": "2022-06-18T21:40:34.327Z"
   },
   {
    "duration": 0,
    "start_time": "2022-06-18T21:40:34.328Z"
   },
   {
    "duration": 0,
    "start_time": "2022-06-18T21:40:34.329Z"
   },
   {
    "duration": 0,
    "start_time": "2022-06-18T21:40:34.331Z"
   },
   {
    "duration": 0,
    "start_time": "2022-06-18T21:40:34.331Z"
   },
   {
    "duration": 1260,
    "start_time": "2022-06-18T21:40:37.945Z"
   },
   {
    "duration": 12,
    "start_time": "2022-06-18T21:40:39.207Z"
   },
   {
    "duration": 15,
    "start_time": "2022-06-18T21:40:39.220Z"
   },
   {
    "duration": 19,
    "start_time": "2022-06-18T21:40:39.237Z"
   },
   {
    "duration": 19,
    "start_time": "2022-06-18T21:40:39.257Z"
   },
   {
    "duration": 9,
    "start_time": "2022-06-18T21:40:39.278Z"
   },
   {
    "duration": 46,
    "start_time": "2022-06-18T21:40:39.289Z"
   },
   {
    "duration": 27,
    "start_time": "2022-06-18T21:40:39.337Z"
   },
   {
    "duration": 14,
    "start_time": "2022-06-18T21:40:39.365Z"
   },
   {
    "duration": 10,
    "start_time": "2022-06-18T21:40:39.382Z"
   },
   {
    "duration": 49,
    "start_time": "2022-06-18T21:40:39.393Z"
   },
   {
    "duration": 8,
    "start_time": "2022-06-18T21:40:39.443Z"
   },
   {
    "duration": 12,
    "start_time": "2022-06-18T21:40:39.453Z"
   },
   {
    "duration": 5,
    "start_time": "2022-06-18T21:40:39.466Z"
   },
   {
    "duration": 271,
    "start_time": "2022-06-18T21:40:39.472Z"
   },
   {
    "duration": 11,
    "start_time": "2022-06-18T21:40:39.744Z"
   },
   {
    "duration": 158,
    "start_time": "2022-06-18T21:40:39.756Z"
   },
   {
    "duration": 27,
    "start_time": "2022-06-18T21:40:39.916Z"
   },
   {
    "duration": 10,
    "start_time": "2022-06-18T21:40:39.945Z"
   },
   {
    "duration": 165,
    "start_time": "2022-06-18T21:40:39.956Z"
   },
   {
    "duration": 13,
    "start_time": "2022-06-18T21:40:40.127Z"
   },
   {
    "duration": 18,
    "start_time": "2022-06-18T21:40:40.141Z"
   },
   {
    "duration": 4,
    "start_time": "2022-06-18T21:40:40.160Z"
   },
   {
    "duration": 9,
    "start_time": "2022-06-18T21:40:40.166Z"
   },
   {
    "duration": 189,
    "start_time": "2022-06-18T21:40:40.176Z"
   },
   {
    "duration": 24,
    "start_time": "2022-06-18T21:40:40.367Z"
   },
   {
    "duration": 36,
    "start_time": "2022-06-18T21:40:40.392Z"
   },
   {
    "duration": 23,
    "start_time": "2022-06-18T21:40:40.431Z"
   },
   {
    "duration": 212,
    "start_time": "2022-06-18T21:40:40.456Z"
   },
   {
    "duration": 17,
    "start_time": "2022-06-18T21:40:40.669Z"
   },
   {
    "duration": 9,
    "start_time": "2022-06-18T21:40:40.688Z"
   },
   {
    "duration": 59,
    "start_time": "2022-06-18T21:40:40.698Z"
   },
   {
    "duration": 9,
    "start_time": "2022-06-18T21:40:40.759Z"
   },
   {
    "duration": 20,
    "start_time": "2022-06-18T21:40:40.770Z"
   },
   {
    "duration": 15,
    "start_time": "2022-06-18T21:40:40.792Z"
   },
   {
    "duration": 7,
    "start_time": "2022-06-18T21:40:40.826Z"
   },
   {
    "duration": 11,
    "start_time": "2022-06-18T21:40:40.834Z"
   },
   {
    "duration": 8,
    "start_time": "2022-06-18T21:40:40.847Z"
   },
   {
    "duration": 20,
    "start_time": "2022-06-18T21:40:40.856Z"
   },
   {
    "duration": 4,
    "start_time": "2022-06-18T21:40:40.878Z"
   },
   {
    "duration": 52,
    "start_time": "2022-06-18T21:40:40.883Z"
   },
   {
    "duration": 8257,
    "start_time": "2022-06-18T21:40:40.937Z"
   },
   {
    "duration": 63870,
    "start_time": "2022-06-18T21:40:49.196Z"
   },
   {
    "duration": 0,
    "start_time": "2022-06-18T21:41:53.068Z"
   },
   {
    "duration": 0,
    "start_time": "2022-06-18T21:41:53.069Z"
   },
   {
    "duration": 0,
    "start_time": "2022-06-18T21:41:53.071Z"
   },
   {
    "duration": 0,
    "start_time": "2022-06-18T21:41:53.072Z"
   },
   {
    "duration": 0,
    "start_time": "2022-06-18T21:41:53.073Z"
   },
   {
    "duration": 0,
    "start_time": "2022-06-18T21:41:53.074Z"
   },
   {
    "duration": 0,
    "start_time": "2022-06-18T21:41:53.075Z"
   },
   {
    "duration": 5677,
    "start_time": "2022-06-18T21:41:58.186Z"
   },
   {
    "duration": 28,
    "start_time": "2022-06-18T21:43:06.598Z"
   },
   {
    "duration": 106,
    "start_time": "2022-06-18T21:45:20.118Z"
   },
   {
    "duration": 28,
    "start_time": "2022-06-18T21:45:49.490Z"
   },
   {
    "duration": 1391,
    "start_time": "2022-06-18T21:45:54.468Z"
   },
   {
    "duration": 18,
    "start_time": "2022-06-18T21:45:55.861Z"
   },
   {
    "duration": 68,
    "start_time": "2022-06-18T21:45:55.880Z"
   },
   {
    "duration": 91,
    "start_time": "2022-06-18T21:45:55.951Z"
   },
   {
    "duration": 22,
    "start_time": "2022-06-18T21:45:56.045Z"
   },
   {
    "duration": 60,
    "start_time": "2022-06-18T21:45:56.068Z"
   },
   {
    "duration": 21,
    "start_time": "2022-06-18T21:45:56.130Z"
   },
   {
    "duration": 81,
    "start_time": "2022-06-18T21:45:56.153Z"
   },
   {
    "duration": 42,
    "start_time": "2022-06-18T21:45:56.236Z"
   },
   {
    "duration": 13,
    "start_time": "2022-06-18T21:45:56.281Z"
   },
   {
    "duration": 42,
    "start_time": "2022-06-18T21:45:56.296Z"
   },
   {
    "duration": 14,
    "start_time": "2022-06-18T21:45:56.341Z"
   },
   {
    "duration": 7,
    "start_time": "2022-06-18T21:45:56.358Z"
   },
   {
    "duration": 64,
    "start_time": "2022-06-18T21:45:56.366Z"
   },
   {
    "duration": 362,
    "start_time": "2022-06-18T21:45:56.432Z"
   },
   {
    "duration": 10,
    "start_time": "2022-06-18T21:45:56.796Z"
   },
   {
    "duration": 174,
    "start_time": "2022-06-18T21:45:56.808Z"
   },
   {
    "duration": 19,
    "start_time": "2022-06-18T21:45:56.984Z"
   },
   {
    "duration": 24,
    "start_time": "2022-06-18T21:45:57.005Z"
   },
   {
    "duration": 164,
    "start_time": "2022-06-18T21:45:57.031Z"
   },
   {
    "duration": 18,
    "start_time": "2022-06-18T21:45:57.197Z"
   },
   {
    "duration": 22,
    "start_time": "2022-06-18T21:45:57.233Z"
   },
   {
    "duration": 8,
    "start_time": "2022-06-18T21:45:57.258Z"
   },
   {
    "duration": 11,
    "start_time": "2022-06-18T21:45:57.268Z"
   },
   {
    "duration": 210,
    "start_time": "2022-06-18T21:45:57.281Z"
   },
   {
    "duration": 37,
    "start_time": "2022-06-18T21:45:57.493Z"
   },
   {
    "duration": 25,
    "start_time": "2022-06-18T21:45:57.534Z"
   },
   {
    "duration": 28,
    "start_time": "2022-06-18T21:45:57.564Z"
   },
   {
    "duration": 130,
    "start_time": "2022-06-18T21:45:57.627Z"
   },
   {
    "duration": 17,
    "start_time": "2022-06-18T21:45:57.758Z"
   },
   {
    "duration": 8,
    "start_time": "2022-06-18T21:45:57.776Z"
   },
   {
    "duration": 58,
    "start_time": "2022-06-18T21:45:57.786Z"
   },
   {
    "duration": 13,
    "start_time": "2022-06-18T21:45:57.847Z"
   },
   {
    "duration": 14,
    "start_time": "2022-06-18T21:45:57.862Z"
   },
   {
    "duration": 20,
    "start_time": "2022-06-18T21:45:57.878Z"
   },
   {
    "duration": 36,
    "start_time": "2022-06-18T21:45:57.899Z"
   },
   {
    "duration": 26,
    "start_time": "2022-06-18T21:45:57.940Z"
   },
   {
    "duration": 7,
    "start_time": "2022-06-18T21:45:57.968Z"
   },
   {
    "duration": 52,
    "start_time": "2022-06-18T21:45:57.977Z"
   },
   {
    "duration": 15,
    "start_time": "2022-06-18T21:45:58.032Z"
   },
   {
    "duration": 15,
    "start_time": "2022-06-18T21:45:58.049Z"
   },
   {
    "duration": 8945,
    "start_time": "2022-06-18T21:45:58.065Z"
   },
   {
    "duration": 97260,
    "start_time": "2022-06-18T21:46:07.012Z"
   },
   {
    "duration": 0,
    "start_time": "2022-06-18T21:47:44.274Z"
   },
   {
    "duration": 0,
    "start_time": "2022-06-18T21:47:44.275Z"
   },
   {
    "duration": 0,
    "start_time": "2022-06-18T21:47:44.276Z"
   },
   {
    "duration": 0,
    "start_time": "2022-06-18T21:47:44.277Z"
   },
   {
    "duration": 0,
    "start_time": "2022-06-18T21:47:44.278Z"
   },
   {
    "duration": 0,
    "start_time": "2022-06-18T21:47:44.279Z"
   },
   {
    "duration": 0,
    "start_time": "2022-06-18T21:47:44.280Z"
   },
   {
    "duration": 30,
    "start_time": "2022-06-18T21:47:45.954Z"
   },
   {
    "duration": 5470,
    "start_time": "2022-06-18T21:48:24.686Z"
   },
   {
    "duration": 98,
    "start_time": "2022-06-18T21:53:50.162Z"
   },
   {
    "duration": 103,
    "start_time": "2022-06-18T21:54:28.256Z"
   },
   {
    "duration": 1269,
    "start_time": "2022-06-18T21:54:40.637Z"
   },
   {
    "duration": 14,
    "start_time": "2022-06-18T21:54:41.907Z"
   },
   {
    "duration": 12,
    "start_time": "2022-06-18T21:54:41.923Z"
   },
   {
    "duration": 20,
    "start_time": "2022-06-18T21:54:41.937Z"
   },
   {
    "duration": 23,
    "start_time": "2022-06-18T21:54:41.959Z"
   },
   {
    "duration": 8,
    "start_time": "2022-06-18T21:54:41.984Z"
   },
   {
    "duration": 39,
    "start_time": "2022-06-18T21:54:41.995Z"
   },
   {
    "duration": 27,
    "start_time": "2022-06-18T21:54:42.036Z"
   },
   {
    "duration": 35,
    "start_time": "2022-06-18T21:54:42.065Z"
   },
   {
    "duration": 24,
    "start_time": "2022-06-18T21:54:42.104Z"
   },
   {
    "duration": 20,
    "start_time": "2022-06-18T21:54:42.129Z"
   },
   {
    "duration": 8,
    "start_time": "2022-06-18T21:54:42.151Z"
   },
   {
    "duration": 5,
    "start_time": "2022-06-18T21:54:42.161Z"
   },
   {
    "duration": 20,
    "start_time": "2022-06-18T21:54:42.167Z"
   },
   {
    "duration": 290,
    "start_time": "2022-06-18T21:54:42.189Z"
   },
   {
    "duration": 11,
    "start_time": "2022-06-18T21:54:42.480Z"
   },
   {
    "duration": 154,
    "start_time": "2022-06-18T21:54:42.493Z"
   },
   {
    "duration": 19,
    "start_time": "2022-06-18T21:54:42.649Z"
   },
   {
    "duration": 10,
    "start_time": "2022-06-18T21:54:42.669Z"
   },
   {
    "duration": 177,
    "start_time": "2022-06-18T21:54:42.680Z"
   },
   {
    "duration": 15,
    "start_time": "2022-06-18T21:54:42.858Z"
   },
   {
    "duration": 11,
    "start_time": "2022-06-18T21:54:42.875Z"
   },
   {
    "duration": 5,
    "start_time": "2022-06-18T21:54:42.888Z"
   },
   {
    "duration": 37,
    "start_time": "2022-06-18T21:54:42.894Z"
   },
   {
    "duration": 179,
    "start_time": "2022-06-18T21:54:42.932Z"
   },
   {
    "duration": 138,
    "start_time": "2022-06-18T21:54:43.113Z"
   },
   {
    "duration": 0,
    "start_time": "2022-06-18T21:54:43.253Z"
   },
   {
    "duration": 0,
    "start_time": "2022-06-18T21:54:43.259Z"
   },
   {
    "duration": 0,
    "start_time": "2022-06-18T21:54:43.259Z"
   },
   {
    "duration": 0,
    "start_time": "2022-06-18T21:54:43.260Z"
   },
   {
    "duration": 0,
    "start_time": "2022-06-18T21:54:43.261Z"
   },
   {
    "duration": 0,
    "start_time": "2022-06-18T21:54:43.262Z"
   },
   {
    "duration": 0,
    "start_time": "2022-06-18T21:54:43.263Z"
   },
   {
    "duration": 0,
    "start_time": "2022-06-18T21:54:43.265Z"
   },
   {
    "duration": 0,
    "start_time": "2022-06-18T21:54:43.266Z"
   },
   {
    "duration": 0,
    "start_time": "2022-06-18T21:54:43.267Z"
   },
   {
    "duration": 0,
    "start_time": "2022-06-18T21:54:43.268Z"
   },
   {
    "duration": 0,
    "start_time": "2022-06-18T21:54:43.269Z"
   },
   {
    "duration": 0,
    "start_time": "2022-06-18T21:54:43.270Z"
   },
   {
    "duration": 0,
    "start_time": "2022-06-18T21:54:43.271Z"
   },
   {
    "duration": 0,
    "start_time": "2022-06-18T21:54:43.273Z"
   },
   {
    "duration": 0,
    "start_time": "2022-06-18T21:54:43.274Z"
   },
   {
    "duration": 0,
    "start_time": "2022-06-18T21:54:43.275Z"
   },
   {
    "duration": 0,
    "start_time": "2022-06-18T21:54:43.276Z"
   },
   {
    "duration": 0,
    "start_time": "2022-06-18T21:54:43.277Z"
   },
   {
    "duration": 0,
    "start_time": "2022-06-18T21:54:43.279Z"
   },
   {
    "duration": 0,
    "start_time": "2022-06-18T21:54:43.280Z"
   },
   {
    "duration": 0,
    "start_time": "2022-06-18T21:54:43.281Z"
   },
   {
    "duration": 0,
    "start_time": "2022-06-18T21:54:43.282Z"
   },
   {
    "duration": 32,
    "start_time": "2022-06-18T21:55:06.225Z"
   },
   {
    "duration": 7775,
    "start_time": "2022-06-18T21:57:32.052Z"
   },
   {
    "duration": 30,
    "start_time": "2022-06-18T21:57:54.440Z"
   },
   {
    "duration": 33,
    "start_time": "2022-06-18T21:58:12.864Z"
   },
   {
    "duration": 31,
    "start_time": "2022-06-18T21:58:18.956Z"
   },
   {
    "duration": 1313,
    "start_time": "2022-06-18T22:28:40.963Z"
   },
   {
    "duration": 14,
    "start_time": "2022-06-18T22:28:42.278Z"
   },
   {
    "duration": 14,
    "start_time": "2022-06-18T22:28:42.294Z"
   },
   {
    "duration": 19,
    "start_time": "2022-06-18T22:28:42.328Z"
   },
   {
    "duration": 25,
    "start_time": "2022-06-18T22:28:42.349Z"
   },
   {
    "duration": 10,
    "start_time": "2022-06-18T22:28:42.376Z"
   },
   {
    "duration": 39,
    "start_time": "2022-06-18T22:28:42.388Z"
   },
   {
    "duration": 26,
    "start_time": "2022-06-18T22:28:42.429Z"
   },
   {
    "duration": 18,
    "start_time": "2022-06-18T22:28:42.456Z"
   },
   {
    "duration": 12,
    "start_time": "2022-06-18T22:28:42.476Z"
   },
   {
    "duration": 51,
    "start_time": "2022-06-18T22:28:42.490Z"
   },
   {
    "duration": 8,
    "start_time": "2022-06-18T22:28:42.542Z"
   },
   {
    "duration": 6,
    "start_time": "2022-06-18T22:28:42.552Z"
   },
   {
    "duration": 10,
    "start_time": "2022-06-18T22:28:42.559Z"
   },
   {
    "duration": 332,
    "start_time": "2022-06-18T22:28:42.571Z"
   },
   {
    "duration": 12,
    "start_time": "2022-06-18T22:28:42.904Z"
   },
   {
    "duration": 143,
    "start_time": "2022-06-18T22:28:42.917Z"
   },
   {
    "duration": 21,
    "start_time": "2022-06-18T22:28:43.061Z"
   },
   {
    "duration": 11,
    "start_time": "2022-06-18T22:28:43.083Z"
   },
   {
    "duration": 180,
    "start_time": "2022-06-18T22:28:43.096Z"
   },
   {
    "duration": 19,
    "start_time": "2022-06-18T22:28:43.278Z"
   },
   {
    "duration": 36,
    "start_time": "2022-06-18T22:28:43.299Z"
   },
   {
    "duration": 7,
    "start_time": "2022-06-18T22:28:43.336Z"
   },
   {
    "duration": 11,
    "start_time": "2022-06-18T22:28:43.345Z"
   },
   {
    "duration": 194,
    "start_time": "2022-06-18T22:28:43.358Z"
   },
   {
    "duration": 32,
    "start_time": "2022-06-18T22:28:43.553Z"
   },
   {
    "duration": 42,
    "start_time": "2022-06-18T22:28:43.587Z"
   },
   {
    "duration": 8077,
    "start_time": "2022-06-18T22:28:43.632Z"
   },
   {
    "duration": 113,
    "start_time": "2022-06-18T22:28:51.712Z"
   },
   {
    "duration": 0,
    "start_time": "2022-06-18T22:28:51.827Z"
   },
   {
    "duration": 0,
    "start_time": "2022-06-18T22:28:51.828Z"
   },
   {
    "duration": 0,
    "start_time": "2022-06-18T22:28:51.830Z"
   },
   {
    "duration": 0,
    "start_time": "2022-06-18T22:28:51.831Z"
   },
   {
    "duration": 0,
    "start_time": "2022-06-18T22:28:51.832Z"
   },
   {
    "duration": 0,
    "start_time": "2022-06-18T22:28:51.833Z"
   },
   {
    "duration": 0,
    "start_time": "2022-06-18T22:28:51.834Z"
   },
   {
    "duration": 0,
    "start_time": "2022-06-18T22:28:51.836Z"
   },
   {
    "duration": 0,
    "start_time": "2022-06-18T22:28:51.836Z"
   },
   {
    "duration": 0,
    "start_time": "2022-06-18T22:28:51.837Z"
   },
   {
    "duration": 0,
    "start_time": "2022-06-18T22:28:51.838Z"
   },
   {
    "duration": 0,
    "start_time": "2022-06-18T22:28:51.840Z"
   },
   {
    "duration": 0,
    "start_time": "2022-06-18T22:28:51.841Z"
   },
   {
    "duration": 0,
    "start_time": "2022-06-18T22:28:51.842Z"
   },
   {
    "duration": 0,
    "start_time": "2022-06-18T22:28:51.843Z"
   },
   {
    "duration": 0,
    "start_time": "2022-06-18T22:28:51.844Z"
   },
   {
    "duration": 0,
    "start_time": "2022-06-18T22:28:51.845Z"
   },
   {
    "duration": 0,
    "start_time": "2022-06-18T22:28:51.846Z"
   },
   {
    "duration": 0,
    "start_time": "2022-06-18T22:28:51.847Z"
   },
   {
    "duration": 0,
    "start_time": "2022-06-18T22:28:51.848Z"
   },
   {
    "duration": 0,
    "start_time": "2022-06-18T22:28:51.849Z"
   },
   {
    "duration": 0,
    "start_time": "2022-06-18T22:28:51.851Z"
   },
   {
    "duration": 1323,
    "start_time": "2022-06-18T22:31:11.798Z"
   },
   {
    "duration": 19,
    "start_time": "2022-06-18T22:31:13.124Z"
   },
   {
    "duration": 17,
    "start_time": "2022-06-18T22:31:13.144Z"
   },
   {
    "duration": 26,
    "start_time": "2022-06-18T22:31:13.164Z"
   },
   {
    "duration": 46,
    "start_time": "2022-06-18T22:31:13.191Z"
   },
   {
    "duration": 12,
    "start_time": "2022-06-18T22:31:13.239Z"
   },
   {
    "duration": 23,
    "start_time": "2022-06-18T22:31:13.253Z"
   },
   {
    "duration": 52,
    "start_time": "2022-06-18T22:31:13.277Z"
   },
   {
    "duration": 17,
    "start_time": "2022-06-18T22:31:13.330Z"
   },
   {
    "duration": 16,
    "start_time": "2022-06-18T22:31:13.350Z"
   },
   {
    "duration": 59,
    "start_time": "2022-06-18T22:31:13.368Z"
   },
   {
    "duration": 12,
    "start_time": "2022-06-18T22:31:13.429Z"
   },
   {
    "duration": 9,
    "start_time": "2022-06-18T22:31:13.444Z"
   },
   {
    "duration": 6,
    "start_time": "2022-06-18T22:31:13.455Z"
   },
   {
    "duration": 328,
    "start_time": "2022-06-18T22:31:13.463Z"
   },
   {
    "duration": 13,
    "start_time": "2022-06-18T22:31:13.793Z"
   },
   {
    "duration": 169,
    "start_time": "2022-06-18T22:31:13.808Z"
   },
   {
    "duration": 20,
    "start_time": "2022-06-18T22:31:13.979Z"
   },
   {
    "duration": 28,
    "start_time": "2022-06-18T22:31:14.001Z"
   },
   {
    "duration": 161,
    "start_time": "2022-06-18T22:31:14.031Z"
   },
   {
    "duration": 14,
    "start_time": "2022-06-18T22:31:14.193Z"
   },
   {
    "duration": 13,
    "start_time": "2022-06-18T22:31:14.226Z"
   },
   {
    "duration": 6,
    "start_time": "2022-06-18T22:31:14.240Z"
   },
   {
    "duration": 15,
    "start_time": "2022-06-18T22:31:14.247Z"
   },
   {
    "duration": 202,
    "start_time": "2022-06-18T22:31:14.263Z"
   },
   {
    "duration": 34,
    "start_time": "2022-06-18T22:31:14.467Z"
   },
   {
    "duration": 38,
    "start_time": "2022-06-18T22:31:14.503Z"
   },
   {
    "duration": 8167,
    "start_time": "2022-06-18T22:31:14.546Z"
   },
   {
    "duration": 1861739,
    "start_time": "2022-06-18T22:31:22.715Z"
   },
   {
    "duration": 6,
    "start_time": "2022-06-18T23:02:24.456Z"
   },
   {
    "duration": 36,
    "start_time": "2022-06-18T23:02:24.464Z"
   },
   {
    "duration": 162,
    "start_time": "2022-06-18T23:02:24.501Z"
   },
   {
    "duration": 32,
    "start_time": "2022-06-18T23:02:24.664Z"
   },
   {
    "duration": 9,
    "start_time": "2022-06-18T23:02:24.698Z"
   },
   {
    "duration": 52,
    "start_time": "2022-06-18T23:02:24.709Z"
   },
   {
    "duration": 10,
    "start_time": "2022-06-18T23:02:24.763Z"
   },
   {
    "duration": 37,
    "start_time": "2022-06-18T23:02:24.775Z"
   },
   {
    "duration": 62,
    "start_time": "2022-06-18T23:02:24.814Z"
   },
   {
    "duration": 21,
    "start_time": "2022-06-18T23:02:24.879Z"
   },
   {
    "duration": 31,
    "start_time": "2022-06-18T23:02:24.902Z"
   },
   {
    "duration": 17,
    "start_time": "2022-06-18T23:02:24.934Z"
   },
   {
    "duration": 74,
    "start_time": "2022-06-18T23:02:24.953Z"
   },
   {
    "duration": 5,
    "start_time": "2022-06-18T23:02:25.029Z"
   },
   {
    "duration": 39,
    "start_time": "2022-06-18T23:02:25.036Z"
   },
   {
    "duration": 8217,
    "start_time": "2022-06-18T23:02:25.077Z"
   },
   {
    "duration": 122593,
    "start_time": "2022-06-18T23:02:33.297Z"
   },
   {
    "duration": 0,
    "start_time": "2022-06-18T23:04:35.892Z"
   },
   {
    "duration": 0,
    "start_time": "2022-06-18T23:04:35.893Z"
   },
   {
    "duration": 0,
    "start_time": "2022-06-18T23:04:35.895Z"
   },
   {
    "duration": 0,
    "start_time": "2022-06-18T23:04:35.896Z"
   },
   {
    "duration": 0,
    "start_time": "2022-06-18T23:04:35.897Z"
   },
   {
    "duration": 0,
    "start_time": "2022-06-18T23:04:35.898Z"
   },
   {
    "duration": 0,
    "start_time": "2022-06-18T23:04:35.904Z"
   },
   {
    "duration": 11,
    "start_time": "2022-06-18T23:04:47.021Z"
   },
   {
    "duration": 13,
    "start_time": "2022-06-18T23:05:11.079Z"
   },
   {
    "duration": 13,
    "start_time": "2022-06-18T23:05:46.806Z"
   },
   {
    "duration": 12,
    "start_time": "2022-06-18T23:05:54.767Z"
   },
   {
    "duration": 11769,
    "start_time": "2022-06-18T23:09:48.373Z"
   },
   {
    "duration": 3568,
    "start_time": "2022-06-18T23:10:17.863Z"
   },
   {
    "duration": 49723,
    "start_time": "2022-06-18T23:14:34.418Z"
   },
   {
    "duration": 1258,
    "start_time": "2022-06-18T23:20:07.657Z"
   },
   {
    "duration": 21,
    "start_time": "2022-06-18T23:20:08.917Z"
   },
   {
    "duration": 45,
    "start_time": "2022-06-18T23:20:08.940Z"
   },
   {
    "duration": 38,
    "start_time": "2022-06-18T23:20:08.987Z"
   },
   {
    "duration": 36,
    "start_time": "2022-06-18T23:20:09.027Z"
   },
   {
    "duration": 10,
    "start_time": "2022-06-18T23:20:09.065Z"
   },
   {
    "duration": 31,
    "start_time": "2022-06-18T23:20:09.076Z"
   },
   {
    "duration": 49,
    "start_time": "2022-06-18T23:20:09.109Z"
   },
   {
    "duration": 17,
    "start_time": "2022-06-18T23:20:09.160Z"
   },
   {
    "duration": 17,
    "start_time": "2022-06-18T23:20:09.181Z"
   },
   {
    "duration": 49,
    "start_time": "2022-06-18T23:20:09.200Z"
   },
   {
    "duration": 15,
    "start_time": "2022-06-18T23:20:09.251Z"
   },
   {
    "duration": 20,
    "start_time": "2022-06-18T23:20:09.268Z"
   },
   {
    "duration": 28,
    "start_time": "2022-06-18T23:20:09.289Z"
   },
   {
    "duration": 289,
    "start_time": "2022-06-18T23:20:09.318Z"
   },
   {
    "duration": 18,
    "start_time": "2022-06-18T23:20:09.609Z"
   },
   {
    "duration": 171,
    "start_time": "2022-06-18T23:20:09.629Z"
   },
   {
    "duration": 33,
    "start_time": "2022-06-18T23:20:09.802Z"
   },
   {
    "duration": 11,
    "start_time": "2022-06-18T23:20:09.837Z"
   },
   {
    "duration": 166,
    "start_time": "2022-06-18T23:20:09.850Z"
   },
   {
    "duration": 16,
    "start_time": "2022-06-18T23:20:10.027Z"
   },
   {
    "duration": 28,
    "start_time": "2022-06-18T23:20:10.044Z"
   },
   {
    "duration": 5,
    "start_time": "2022-06-18T23:20:10.074Z"
   },
   {
    "duration": 11,
    "start_time": "2022-06-18T23:20:10.080Z"
   },
   {
    "duration": 206,
    "start_time": "2022-06-18T23:20:10.092Z"
   },
   {
    "duration": 42,
    "start_time": "2022-06-18T23:20:10.300Z"
   },
   {
    "duration": 20,
    "start_time": "2022-06-18T23:20:10.344Z"
   },
   {
    "duration": 8517,
    "start_time": "2022-06-18T23:20:10.367Z"
   },
   {
    "duration": 1910202,
    "start_time": "2022-06-18T23:20:18.887Z"
   },
   {
    "duration": 8,
    "start_time": "2022-06-18T23:52:09.091Z"
   },
   {
    "duration": 29,
    "start_time": "2022-06-18T23:52:09.100Z"
   },
   {
    "duration": 37,
    "start_time": "2022-06-18T23:52:09.131Z"
   },
   {
    "duration": 185,
    "start_time": "2022-06-18T23:52:09.170Z"
   },
   {
    "duration": 27,
    "start_time": "2022-06-18T23:52:09.357Z"
   },
   {
    "duration": 9,
    "start_time": "2022-06-18T23:52:09.386Z"
   },
   {
    "duration": 53,
    "start_time": "2022-06-18T23:52:09.397Z"
   },
   {
    "duration": 11,
    "start_time": "2022-06-18T23:52:09.452Z"
   },
   {
    "duration": 14,
    "start_time": "2022-06-18T23:52:09.465Z"
   },
   {
    "duration": 136,
    "start_time": "2022-06-18T23:52:09.481Z"
   },
   {
    "duration": 0,
    "start_time": "2022-06-18T23:52:09.619Z"
   },
   {
    "duration": 0,
    "start_time": "2022-06-18T23:52:09.620Z"
   },
   {
    "duration": 0,
    "start_time": "2022-06-18T23:52:09.621Z"
   },
   {
    "duration": 0,
    "start_time": "2022-06-18T23:52:09.622Z"
   },
   {
    "duration": 0,
    "start_time": "2022-06-18T23:52:09.627Z"
   },
   {
    "duration": 0,
    "start_time": "2022-06-18T23:52:09.628Z"
   },
   {
    "duration": 0,
    "start_time": "2022-06-18T23:52:09.630Z"
   },
   {
    "duration": 0,
    "start_time": "2022-06-18T23:52:09.631Z"
   },
   {
    "duration": 0,
    "start_time": "2022-06-18T23:52:09.632Z"
   },
   {
    "duration": 0,
    "start_time": "2022-06-18T23:52:09.634Z"
   },
   {
    "duration": 0,
    "start_time": "2022-06-18T23:52:09.635Z"
   },
   {
    "duration": 0,
    "start_time": "2022-06-18T23:52:09.637Z"
   },
   {
    "duration": 0,
    "start_time": "2022-06-18T23:52:09.638Z"
   },
   {
    "duration": 15,
    "start_time": "2022-06-18T23:53:50.405Z"
   },
   {
    "duration": 8,
    "start_time": "2022-06-18T23:54:15.364Z"
   },
   {
    "duration": 1641,
    "start_time": "2022-06-19T08:52:35.833Z"
   },
   {
    "duration": 15,
    "start_time": "2022-06-19T08:52:37.478Z"
   },
   {
    "duration": 16,
    "start_time": "2022-06-19T08:52:37.496Z"
   },
   {
    "duration": 28,
    "start_time": "2022-06-19T08:52:37.514Z"
   },
   {
    "duration": 18,
    "start_time": "2022-06-19T08:52:37.544Z"
   },
   {
    "duration": 10,
    "start_time": "2022-06-19T08:52:37.564Z"
   },
   {
    "duration": 11,
    "start_time": "2022-06-19T08:52:37.575Z"
   },
   {
    "duration": 56,
    "start_time": "2022-06-19T08:52:37.587Z"
   },
   {
    "duration": 18,
    "start_time": "2022-06-19T08:52:37.645Z"
   },
   {
    "duration": 13,
    "start_time": "2022-06-19T08:52:37.664Z"
   },
   {
    "duration": 22,
    "start_time": "2022-06-19T08:52:37.678Z"
   },
   {
    "duration": 8,
    "start_time": "2022-06-19T08:52:37.702Z"
   },
   {
    "duration": 34,
    "start_time": "2022-06-19T08:52:37.712Z"
   },
   {
    "duration": 6,
    "start_time": "2022-06-19T08:52:37.748Z"
   },
   {
    "duration": 324,
    "start_time": "2022-06-19T08:52:37.756Z"
   },
   {
    "duration": 12,
    "start_time": "2022-06-19T08:52:38.082Z"
   },
   {
    "duration": 166,
    "start_time": "2022-06-19T08:52:38.096Z"
   },
   {
    "duration": 21,
    "start_time": "2022-06-19T08:52:38.264Z"
   },
   {
    "duration": 10,
    "start_time": "2022-06-19T08:52:38.288Z"
   },
   {
    "duration": 191,
    "start_time": "2022-06-19T08:52:38.300Z"
   },
   {
    "duration": 15,
    "start_time": "2022-06-19T08:52:38.493Z"
   },
   {
    "duration": 15,
    "start_time": "2022-06-19T08:52:38.510Z"
   },
   {
    "duration": 5,
    "start_time": "2022-06-19T08:52:38.542Z"
   },
   {
    "duration": 13,
    "start_time": "2022-06-19T08:52:38.549Z"
   },
   {
    "duration": 201,
    "start_time": "2022-06-19T08:52:38.564Z"
   },
   {
    "duration": 35,
    "start_time": "2022-06-19T08:52:38.767Z"
   },
   {
    "duration": 37,
    "start_time": "2022-06-19T08:52:38.806Z"
   },
   {
    "duration": 10589,
    "start_time": "2022-06-19T08:52:38.844Z"
   },
   {
    "duration": 5780,
    "start_time": "2022-06-19T08:52:49.435Z"
   },
   {
    "duration": 0,
    "start_time": "2022-06-19T08:52:55.217Z"
   },
   {
    "duration": 0,
    "start_time": "2022-06-19T08:52:55.219Z"
   },
   {
    "duration": 0,
    "start_time": "2022-06-19T08:52:55.220Z"
   },
   {
    "duration": 0,
    "start_time": "2022-06-19T08:52:55.221Z"
   },
   {
    "duration": 0,
    "start_time": "2022-06-19T08:52:55.222Z"
   },
   {
    "duration": 0,
    "start_time": "2022-06-19T08:52:55.223Z"
   },
   {
    "duration": 0,
    "start_time": "2022-06-19T08:52:55.225Z"
   },
   {
    "duration": 0,
    "start_time": "2022-06-19T08:52:55.225Z"
   },
   {
    "duration": 0,
    "start_time": "2022-06-19T08:52:55.227Z"
   },
   {
    "duration": 0,
    "start_time": "2022-06-19T08:52:55.228Z"
   },
   {
    "duration": 0,
    "start_time": "2022-06-19T08:52:55.229Z"
   },
   {
    "duration": 0,
    "start_time": "2022-06-19T08:52:55.230Z"
   },
   {
    "duration": 0,
    "start_time": "2022-06-19T08:52:55.231Z"
   },
   {
    "duration": 0,
    "start_time": "2022-06-19T08:52:55.241Z"
   },
   {
    "duration": 0,
    "start_time": "2022-06-19T08:52:55.242Z"
   },
   {
    "duration": 0,
    "start_time": "2022-06-19T08:52:55.243Z"
   },
   {
    "duration": 0,
    "start_time": "2022-06-19T08:52:55.244Z"
   },
   {
    "duration": 0,
    "start_time": "2022-06-19T08:52:55.246Z"
   },
   {
    "duration": 0,
    "start_time": "2022-06-19T08:52:55.247Z"
   },
   {
    "duration": 0,
    "start_time": "2022-06-19T08:52:55.249Z"
   },
   {
    "duration": 0,
    "start_time": "2022-06-19T08:52:55.250Z"
   },
   {
    "duration": 0,
    "start_time": "2022-06-19T08:52:55.251Z"
   },
   {
    "duration": 0,
    "start_time": "2022-06-19T08:52:55.252Z"
   },
   {
    "duration": 0,
    "start_time": "2022-06-19T08:52:55.252Z"
   },
   {
    "duration": 1306,
    "start_time": "2022-06-19T08:53:08.014Z"
   },
   {
    "duration": 15,
    "start_time": "2022-06-19T08:53:09.322Z"
   },
   {
    "duration": 20,
    "start_time": "2022-06-19T08:53:09.338Z"
   },
   {
    "duration": 23,
    "start_time": "2022-06-19T08:53:09.360Z"
   },
   {
    "duration": 25,
    "start_time": "2022-06-19T08:53:09.385Z"
   },
   {
    "duration": 10,
    "start_time": "2022-06-19T08:53:09.412Z"
   },
   {
    "duration": 26,
    "start_time": "2022-06-19T08:53:09.424Z"
   },
   {
    "duration": 35,
    "start_time": "2022-06-19T08:53:09.452Z"
   },
   {
    "duration": 24,
    "start_time": "2022-06-19T08:53:09.489Z"
   },
   {
    "duration": 34,
    "start_time": "2022-06-19T08:53:09.516Z"
   },
   {
    "duration": 25,
    "start_time": "2022-06-19T08:53:09.552Z"
   },
   {
    "duration": 11,
    "start_time": "2022-06-19T08:53:09.579Z"
   },
   {
    "duration": 11,
    "start_time": "2022-06-19T08:53:09.592Z"
   },
   {
    "duration": 10,
    "start_time": "2022-06-19T08:53:09.605Z"
   },
   {
    "duration": 333,
    "start_time": "2022-06-19T08:53:09.617Z"
   },
   {
    "duration": 13,
    "start_time": "2022-06-19T08:53:09.952Z"
   },
   {
    "duration": 165,
    "start_time": "2022-06-19T08:53:09.967Z"
   },
   {
    "duration": 25,
    "start_time": "2022-06-19T08:53:10.133Z"
   },
   {
    "duration": 10,
    "start_time": "2022-06-19T08:53:10.160Z"
   },
   {
    "duration": 181,
    "start_time": "2022-06-19T08:53:10.172Z"
   },
   {
    "duration": 15,
    "start_time": "2022-06-19T08:53:10.355Z"
   },
   {
    "duration": 16,
    "start_time": "2022-06-19T08:53:10.372Z"
   },
   {
    "duration": 4,
    "start_time": "2022-06-19T08:53:10.390Z"
   },
   {
    "duration": 12,
    "start_time": "2022-06-19T08:53:10.396Z"
   },
   {
    "duration": 209,
    "start_time": "2022-06-19T08:53:10.410Z"
   },
   {
    "duration": 43,
    "start_time": "2022-06-19T08:53:10.621Z"
   },
   {
    "duration": 23,
    "start_time": "2022-06-19T08:53:10.665Z"
   },
   {
    "duration": 7688,
    "start_time": "2022-06-19T08:53:10.691Z"
   },
   {
    "duration": 126702,
    "start_time": "2022-06-19T08:53:18.381Z"
   },
   {
    "duration": 0,
    "start_time": "2022-06-19T08:55:25.085Z"
   },
   {
    "duration": 0,
    "start_time": "2022-06-19T08:55:25.087Z"
   },
   {
    "duration": 0,
    "start_time": "2022-06-19T08:55:25.089Z"
   },
   {
    "duration": 0,
    "start_time": "2022-06-19T08:55:25.090Z"
   },
   {
    "duration": 0,
    "start_time": "2022-06-19T08:55:25.092Z"
   },
   {
    "duration": 0,
    "start_time": "2022-06-19T08:55:25.094Z"
   },
   {
    "duration": 0,
    "start_time": "2022-06-19T08:55:25.095Z"
   },
   {
    "duration": 0,
    "start_time": "2022-06-19T08:55:25.097Z"
   },
   {
    "duration": 0,
    "start_time": "2022-06-19T08:55:25.099Z"
   },
   {
    "duration": 0,
    "start_time": "2022-06-19T08:55:25.100Z"
   },
   {
    "duration": 0,
    "start_time": "2022-06-19T08:55:25.102Z"
   },
   {
    "duration": 0,
    "start_time": "2022-06-19T08:55:25.102Z"
   },
   {
    "duration": 0,
    "start_time": "2022-06-19T08:55:25.104Z"
   },
   {
    "duration": 0,
    "start_time": "2022-06-19T08:55:25.105Z"
   },
   {
    "duration": 0,
    "start_time": "2022-06-19T08:55:25.106Z"
   },
   {
    "duration": 0,
    "start_time": "2022-06-19T08:55:25.108Z"
   },
   {
    "duration": 0,
    "start_time": "2022-06-19T08:55:25.143Z"
   },
   {
    "duration": 0,
    "start_time": "2022-06-19T08:55:25.144Z"
   },
   {
    "duration": 0,
    "start_time": "2022-06-19T08:55:25.146Z"
   },
   {
    "duration": 0,
    "start_time": "2022-06-19T08:55:25.147Z"
   },
   {
    "duration": 0,
    "start_time": "2022-06-19T08:55:25.148Z"
   },
   {
    "duration": 0,
    "start_time": "2022-06-19T08:55:25.149Z"
   },
   {
    "duration": 0,
    "start_time": "2022-06-19T08:55:25.150Z"
   },
   {
    "duration": 0,
    "start_time": "2022-06-19T08:55:25.151Z"
   },
   {
    "duration": 1317,
    "start_time": "2022-06-19T10:12:04.517Z"
   },
   {
    "duration": 15,
    "start_time": "2022-06-19T10:12:05.835Z"
   },
   {
    "duration": 27,
    "start_time": "2022-06-19T10:12:05.852Z"
   },
   {
    "duration": 20,
    "start_time": "2022-06-19T10:12:05.881Z"
   },
   {
    "duration": 17,
    "start_time": "2022-06-19T10:12:05.903Z"
   },
   {
    "duration": 22,
    "start_time": "2022-06-19T10:12:05.922Z"
   },
   {
    "duration": 11,
    "start_time": "2022-06-19T10:12:05.945Z"
   },
   {
    "duration": 36,
    "start_time": "2022-06-19T10:12:05.958Z"
   },
   {
    "duration": 18,
    "start_time": "2022-06-19T10:12:05.996Z"
   },
   {
    "duration": 37,
    "start_time": "2022-06-19T10:12:06.016Z"
   },
   {
    "duration": 23,
    "start_time": "2022-06-19T10:12:06.055Z"
   },
   {
    "duration": 9,
    "start_time": "2022-06-19T10:12:06.080Z"
   },
   {
    "duration": 5,
    "start_time": "2022-06-19T10:12:06.092Z"
   },
   {
    "duration": 8,
    "start_time": "2022-06-19T10:12:06.099Z"
   },
   {
    "duration": 304,
    "start_time": "2022-06-19T10:12:06.109Z"
   },
   {
    "duration": 12,
    "start_time": "2022-06-19T10:12:06.415Z"
   },
   {
    "duration": 148,
    "start_time": "2022-06-19T10:12:06.428Z"
   },
   {
    "duration": 19,
    "start_time": "2022-06-19T10:12:06.578Z"
   },
   {
    "duration": 10,
    "start_time": "2022-06-19T10:12:06.598Z"
   },
   {
    "duration": 214,
    "start_time": "2022-06-19T10:12:06.609Z"
   },
   {
    "duration": 31,
    "start_time": "2022-06-19T10:12:06.825Z"
   },
   {
    "duration": 26,
    "start_time": "2022-06-19T10:12:06.858Z"
   },
   {
    "duration": 6,
    "start_time": "2022-06-19T10:12:06.885Z"
   },
   {
    "duration": 11,
    "start_time": "2022-06-19T10:12:06.893Z"
   },
   {
    "duration": 215,
    "start_time": "2022-06-19T10:12:06.906Z"
   },
   {
    "duration": 40,
    "start_time": "2022-06-19T10:12:07.123Z"
   },
   {
    "duration": 24,
    "start_time": "2022-06-19T10:12:07.165Z"
   },
   {
    "duration": 7538,
    "start_time": "2022-06-19T10:12:07.193Z"
   },
   {
    "duration": 119900,
    "start_time": "2022-06-19T10:12:14.733Z"
   },
   {
    "duration": 0,
    "start_time": "2022-06-19T10:14:14.635Z"
   },
   {
    "duration": 0,
    "start_time": "2022-06-19T10:14:14.636Z"
   },
   {
    "duration": 0,
    "start_time": "2022-06-19T10:14:14.641Z"
   },
   {
    "duration": 0,
    "start_time": "2022-06-19T10:14:14.643Z"
   },
   {
    "duration": 0,
    "start_time": "2022-06-19T10:14:14.644Z"
   },
   {
    "duration": 0,
    "start_time": "2022-06-19T10:14:14.645Z"
   },
   {
    "duration": 0,
    "start_time": "2022-06-19T10:14:14.647Z"
   },
   {
    "duration": 0,
    "start_time": "2022-06-19T10:14:14.648Z"
   },
   {
    "duration": 0,
    "start_time": "2022-06-19T10:14:14.649Z"
   },
   {
    "duration": 0,
    "start_time": "2022-06-19T10:14:14.650Z"
   },
   {
    "duration": 0,
    "start_time": "2022-06-19T10:14:14.651Z"
   },
   {
    "duration": 0,
    "start_time": "2022-06-19T10:14:14.653Z"
   },
   {
    "duration": 0,
    "start_time": "2022-06-19T10:14:14.654Z"
   },
   {
    "duration": 0,
    "start_time": "2022-06-19T10:14:14.656Z"
   },
   {
    "duration": 0,
    "start_time": "2022-06-19T10:14:14.657Z"
   },
   {
    "duration": 0,
    "start_time": "2022-06-19T10:14:14.658Z"
   },
   {
    "duration": 0,
    "start_time": "2022-06-19T10:14:14.660Z"
   },
   {
    "duration": 0,
    "start_time": "2022-06-19T10:14:14.661Z"
   },
   {
    "duration": 0,
    "start_time": "2022-06-19T10:14:14.662Z"
   },
   {
    "duration": 0,
    "start_time": "2022-06-19T10:14:14.663Z"
   },
   {
    "duration": 0,
    "start_time": "2022-06-19T10:14:14.664Z"
   },
   {
    "duration": 0,
    "start_time": "2022-06-19T10:14:14.666Z"
   },
   {
    "duration": 0,
    "start_time": "2022-06-19T10:14:14.667Z"
   },
   {
    "duration": 0,
    "start_time": "2022-06-19T10:14:14.668Z"
   },
   {
    "duration": 1275,
    "start_time": "2022-06-19T10:18:58.459Z"
   },
   {
    "duration": 16,
    "start_time": "2022-06-19T10:18:59.736Z"
   },
   {
    "duration": 14,
    "start_time": "2022-06-19T10:18:59.754Z"
   },
   {
    "duration": 22,
    "start_time": "2022-06-19T10:18:59.770Z"
   },
   {
    "duration": 17,
    "start_time": "2022-06-19T10:18:59.794Z"
   },
   {
    "duration": 35,
    "start_time": "2022-06-19T10:18:59.813Z"
   },
   {
    "duration": 11,
    "start_time": "2022-06-19T10:18:59.849Z"
   },
   {
    "duration": 31,
    "start_time": "2022-06-19T10:18:59.862Z"
   },
   {
    "duration": 18,
    "start_time": "2022-06-19T10:18:59.895Z"
   },
   {
    "duration": 13,
    "start_time": "2022-06-19T10:18:59.942Z"
   },
   {
    "duration": 24,
    "start_time": "2022-06-19T10:18:59.957Z"
   },
   {
    "duration": 8,
    "start_time": "2022-06-19T10:18:59.983Z"
   },
   {
    "duration": 5,
    "start_time": "2022-06-19T10:18:59.993Z"
   },
   {
    "duration": 43,
    "start_time": "2022-06-19T10:19:00.000Z"
   },
   {
    "duration": 305,
    "start_time": "2022-06-19T10:19:00.045Z"
   },
   {
    "duration": 14,
    "start_time": "2022-06-19T10:19:00.352Z"
   },
   {
    "duration": 181,
    "start_time": "2022-06-19T10:19:00.368Z"
   },
   {
    "duration": 20,
    "start_time": "2022-06-19T10:19:00.551Z"
   },
   {
    "duration": 10,
    "start_time": "2022-06-19T10:19:00.573Z"
   },
   {
    "duration": 184,
    "start_time": "2022-06-19T10:19:00.585Z"
   },
   {
    "duration": 13,
    "start_time": "2022-06-19T10:19:00.771Z"
   },
   {
    "duration": 35,
    "start_time": "2022-06-19T10:19:00.786Z"
   },
   {
    "duration": 9,
    "start_time": "2022-06-19T10:19:00.822Z"
   },
   {
    "duration": 27,
    "start_time": "2022-06-19T10:19:00.833Z"
   },
   {
    "duration": 173,
    "start_time": "2022-06-19T10:19:00.862Z"
   },
   {
    "duration": 33,
    "start_time": "2022-06-19T10:19:01.037Z"
   },
   {
    "duration": 22,
    "start_time": "2022-06-19T10:19:01.072Z"
   },
   {
    "duration": 7525,
    "start_time": "2022-06-19T10:19:01.097Z"
   },
   {
    "duration": 817,
    "start_time": "2022-06-19T10:19:08.624Z"
   },
   {
    "duration": 0,
    "start_time": "2022-06-19T10:19:09.443Z"
   },
   {
    "duration": 0,
    "start_time": "2022-06-19T10:19:09.444Z"
   },
   {
    "duration": 0,
    "start_time": "2022-06-19T10:19:09.446Z"
   },
   {
    "duration": 0,
    "start_time": "2022-06-19T10:19:09.447Z"
   },
   {
    "duration": 0,
    "start_time": "2022-06-19T10:19:09.448Z"
   },
   {
    "duration": 0,
    "start_time": "2022-06-19T10:19:09.449Z"
   },
   {
    "duration": 0,
    "start_time": "2022-06-19T10:19:09.450Z"
   },
   {
    "duration": 0,
    "start_time": "2022-06-19T10:19:09.451Z"
   },
   {
    "duration": 0,
    "start_time": "2022-06-19T10:19:09.452Z"
   },
   {
    "duration": 0,
    "start_time": "2022-06-19T10:19:09.453Z"
   },
   {
    "duration": 0,
    "start_time": "2022-06-19T10:19:09.454Z"
   },
   {
    "duration": 0,
    "start_time": "2022-06-19T10:19:09.455Z"
   },
   {
    "duration": 0,
    "start_time": "2022-06-19T10:19:09.456Z"
   },
   {
    "duration": 0,
    "start_time": "2022-06-19T10:19:09.457Z"
   },
   {
    "duration": 0,
    "start_time": "2022-06-19T10:19:09.458Z"
   },
   {
    "duration": 0,
    "start_time": "2022-06-19T10:19:09.459Z"
   },
   {
    "duration": 0,
    "start_time": "2022-06-19T10:19:09.460Z"
   },
   {
    "duration": 0,
    "start_time": "2022-06-19T10:19:09.461Z"
   },
   {
    "duration": 0,
    "start_time": "2022-06-19T10:19:09.462Z"
   },
   {
    "duration": 0,
    "start_time": "2022-06-19T10:19:09.463Z"
   },
   {
    "duration": 0,
    "start_time": "2022-06-19T10:19:09.464Z"
   },
   {
    "duration": 0,
    "start_time": "2022-06-19T10:19:09.465Z"
   },
   {
    "duration": 0,
    "start_time": "2022-06-19T10:19:09.465Z"
   },
   {
    "duration": 0,
    "start_time": "2022-06-19T10:19:09.466Z"
   },
   {
    "duration": 1237,
    "start_time": "2022-06-19T10:19:38.596Z"
   },
   {
    "duration": 13,
    "start_time": "2022-06-19T10:19:39.835Z"
   },
   {
    "duration": 17,
    "start_time": "2022-06-19T10:19:39.850Z"
   },
   {
    "duration": 21,
    "start_time": "2022-06-19T10:19:39.870Z"
   },
   {
    "duration": 20,
    "start_time": "2022-06-19T10:19:39.892Z"
   },
   {
    "duration": 35,
    "start_time": "2022-06-19T10:19:39.914Z"
   },
   {
    "duration": 12,
    "start_time": "2022-06-19T10:19:39.951Z"
   },
   {
    "duration": 29,
    "start_time": "2022-06-19T10:19:39.965Z"
   },
   {
    "duration": 18,
    "start_time": "2022-06-19T10:19:39.996Z"
   },
   {
    "duration": 31,
    "start_time": "2022-06-19T10:19:40.016Z"
   },
   {
    "duration": 27,
    "start_time": "2022-06-19T10:19:40.049Z"
   },
   {
    "duration": 10,
    "start_time": "2022-06-19T10:19:40.077Z"
   },
   {
    "duration": 18,
    "start_time": "2022-06-19T10:19:40.089Z"
   },
   {
    "duration": 7,
    "start_time": "2022-06-19T10:19:40.109Z"
   },
   {
    "duration": 327,
    "start_time": "2022-06-19T10:19:40.118Z"
   },
   {
    "duration": 11,
    "start_time": "2022-06-19T10:19:40.447Z"
   },
   {
    "duration": 167,
    "start_time": "2022-06-19T10:19:40.460Z"
   },
   {
    "duration": 25,
    "start_time": "2022-06-19T10:19:40.629Z"
   },
   {
    "duration": 13,
    "start_time": "2022-06-19T10:19:40.656Z"
   },
   {
    "duration": 173,
    "start_time": "2022-06-19T10:19:40.670Z"
   },
   {
    "duration": 14,
    "start_time": "2022-06-19T10:19:40.844Z"
   },
   {
    "duration": 17,
    "start_time": "2022-06-19T10:19:40.860Z"
   },
   {
    "duration": 4,
    "start_time": "2022-06-19T10:19:40.879Z"
   },
   {
    "duration": 10,
    "start_time": "2022-06-19T10:19:40.885Z"
   },
   {
    "duration": 196,
    "start_time": "2022-06-19T10:19:40.897Z"
   },
   {
    "duration": 32,
    "start_time": "2022-06-19T10:19:41.095Z"
   },
   {
    "duration": 29,
    "start_time": "2022-06-19T10:19:41.128Z"
   },
   {
    "duration": 7445,
    "start_time": "2022-06-19T10:19:41.160Z"
   },
   {
    "duration": 121964,
    "start_time": "2022-06-19T10:19:48.607Z"
   },
   {
    "duration": 0,
    "start_time": "2022-06-19T10:21:50.573Z"
   },
   {
    "duration": 0,
    "start_time": "2022-06-19T10:21:50.574Z"
   },
   {
    "duration": 0,
    "start_time": "2022-06-19T10:21:50.575Z"
   },
   {
    "duration": 0,
    "start_time": "2022-06-19T10:21:50.576Z"
   },
   {
    "duration": 0,
    "start_time": "2022-06-19T10:21:50.577Z"
   },
   {
    "duration": 0,
    "start_time": "2022-06-19T10:21:50.578Z"
   },
   {
    "duration": 0,
    "start_time": "2022-06-19T10:21:50.579Z"
   },
   {
    "duration": 0,
    "start_time": "2022-06-19T10:21:50.580Z"
   },
   {
    "duration": 0,
    "start_time": "2022-06-19T10:21:50.581Z"
   },
   {
    "duration": 0,
    "start_time": "2022-06-19T10:21:50.582Z"
   },
   {
    "duration": 0,
    "start_time": "2022-06-19T10:21:50.583Z"
   },
   {
    "duration": 0,
    "start_time": "2022-06-19T10:21:50.584Z"
   },
   {
    "duration": 0,
    "start_time": "2022-06-19T10:21:50.585Z"
   },
   {
    "duration": 0,
    "start_time": "2022-06-19T10:21:50.586Z"
   },
   {
    "duration": 0,
    "start_time": "2022-06-19T10:21:50.587Z"
   },
   {
    "duration": 0,
    "start_time": "2022-06-19T10:21:50.588Z"
   },
   {
    "duration": 0,
    "start_time": "2022-06-19T10:21:50.589Z"
   },
   {
    "duration": 0,
    "start_time": "2022-06-19T10:21:50.590Z"
   },
   {
    "duration": 0,
    "start_time": "2022-06-19T10:21:50.592Z"
   },
   {
    "duration": 0,
    "start_time": "2022-06-19T10:21:50.593Z"
   },
   {
    "duration": 0,
    "start_time": "2022-06-19T10:21:50.594Z"
   },
   {
    "duration": 0,
    "start_time": "2022-06-19T10:21:50.594Z"
   },
   {
    "duration": 0,
    "start_time": "2022-06-19T10:21:50.596Z"
   },
   {
    "duration": 1,
    "start_time": "2022-06-19T10:21:50.596Z"
   },
   {
    "duration": 1303,
    "start_time": "2022-06-19T10:22:55.118Z"
   },
   {
    "duration": 13,
    "start_time": "2022-06-19T10:22:56.423Z"
   },
   {
    "duration": 31,
    "start_time": "2022-06-19T10:22:56.438Z"
   },
   {
    "duration": 22,
    "start_time": "2022-06-19T10:22:56.471Z"
   },
   {
    "duration": 21,
    "start_time": "2022-06-19T10:22:56.495Z"
   },
   {
    "duration": 9,
    "start_time": "2022-06-19T10:22:56.518Z"
   },
   {
    "duration": 16,
    "start_time": "2022-06-19T10:22:56.529Z"
   },
   {
    "duration": 33,
    "start_time": "2022-06-19T10:22:56.546Z"
   },
   {
    "duration": 22,
    "start_time": "2022-06-19T10:22:56.581Z"
   },
   {
    "duration": 13,
    "start_time": "2022-06-19T10:22:56.605Z"
   },
   {
    "duration": 41,
    "start_time": "2022-06-19T10:22:56.620Z"
   },
   {
    "duration": 9,
    "start_time": "2022-06-19T10:22:56.662Z"
   },
   {
    "duration": 9,
    "start_time": "2022-06-19T10:22:56.672Z"
   },
   {
    "duration": 34,
    "start_time": "2022-06-19T10:22:56.684Z"
   },
   {
    "duration": 334,
    "start_time": "2022-06-19T10:22:56.720Z"
   },
   {
    "duration": 12,
    "start_time": "2022-06-19T10:22:57.055Z"
   },
   {
    "duration": 160,
    "start_time": "2022-06-19T10:22:57.069Z"
   },
   {
    "duration": 32,
    "start_time": "2022-06-19T10:22:57.231Z"
   },
   {
    "duration": 10,
    "start_time": "2022-06-19T10:22:57.265Z"
   },
   {
    "duration": 185,
    "start_time": "2022-06-19T10:22:57.277Z"
   },
   {
    "duration": 14,
    "start_time": "2022-06-19T10:22:57.463Z"
   },
   {
    "duration": 16,
    "start_time": "2022-06-19T10:22:57.478Z"
   },
   {
    "duration": 5,
    "start_time": "2022-06-19T10:22:57.496Z"
   },
   {
    "duration": 12,
    "start_time": "2022-06-19T10:22:57.503Z"
   },
   {
    "duration": 202,
    "start_time": "2022-06-19T10:22:57.517Z"
   },
   {
    "duration": 38,
    "start_time": "2022-06-19T10:22:57.721Z"
   },
   {
    "duration": 19,
    "start_time": "2022-06-19T10:22:57.760Z"
   },
   {
    "duration": 7500,
    "start_time": "2022-06-19T10:22:57.782Z"
   },
   {
    "duration": 121225,
    "start_time": "2022-06-19T10:23:05.285Z"
   },
   {
    "duration": 0,
    "start_time": "2022-06-19T10:25:06.511Z"
   },
   {
    "duration": 0,
    "start_time": "2022-06-19T10:25:06.512Z"
   },
   {
    "duration": 0,
    "start_time": "2022-06-19T10:25:06.513Z"
   },
   {
    "duration": 0,
    "start_time": "2022-06-19T10:25:06.514Z"
   },
   {
    "duration": 0,
    "start_time": "2022-06-19T10:25:06.515Z"
   },
   {
    "duration": 0,
    "start_time": "2022-06-19T10:25:06.516Z"
   },
   {
    "duration": 0,
    "start_time": "2022-06-19T10:25:06.517Z"
   },
   {
    "duration": 0,
    "start_time": "2022-06-19T10:25:06.518Z"
   },
   {
    "duration": 0,
    "start_time": "2022-06-19T10:25:06.519Z"
   },
   {
    "duration": 0,
    "start_time": "2022-06-19T10:25:06.521Z"
   },
   {
    "duration": 0,
    "start_time": "2022-06-19T10:25:06.521Z"
   },
   {
    "duration": 0,
    "start_time": "2022-06-19T10:25:06.541Z"
   },
   {
    "duration": 0,
    "start_time": "2022-06-19T10:25:06.542Z"
   },
   {
    "duration": 0,
    "start_time": "2022-06-19T10:25:06.543Z"
   },
   {
    "duration": 0,
    "start_time": "2022-06-19T10:25:06.544Z"
   },
   {
    "duration": 0,
    "start_time": "2022-06-19T10:25:06.545Z"
   },
   {
    "duration": 1,
    "start_time": "2022-06-19T10:25:06.545Z"
   },
   {
    "duration": 0,
    "start_time": "2022-06-19T10:25:06.547Z"
   },
   {
    "duration": 0,
    "start_time": "2022-06-19T10:25:06.547Z"
   },
   {
    "duration": 0,
    "start_time": "2022-06-19T10:25:06.549Z"
   },
   {
    "duration": 0,
    "start_time": "2022-06-19T10:25:06.550Z"
   },
   {
    "duration": 0,
    "start_time": "2022-06-19T10:25:06.551Z"
   },
   {
    "duration": 0,
    "start_time": "2022-06-19T10:25:06.552Z"
   },
   {
    "duration": 0,
    "start_time": "2022-06-19T10:25:06.553Z"
   },
   {
    "duration": 1330,
    "start_time": "2022-06-19T10:26:05.752Z"
   },
   {
    "duration": 16,
    "start_time": "2022-06-19T10:26:07.085Z"
   },
   {
    "duration": 16,
    "start_time": "2022-06-19T10:26:07.102Z"
   },
   {
    "duration": 32,
    "start_time": "2022-06-19T10:26:07.121Z"
   },
   {
    "duration": 19,
    "start_time": "2022-06-19T10:26:07.154Z"
   },
   {
    "duration": 10,
    "start_time": "2022-06-19T10:26:07.175Z"
   },
   {
    "duration": 14,
    "start_time": "2022-06-19T10:26:07.187Z"
   },
   {
    "duration": 55,
    "start_time": "2022-06-19T10:26:07.203Z"
   },
   {
    "duration": 17,
    "start_time": "2022-06-19T10:26:07.260Z"
   },
   {
    "duration": 15,
    "start_time": "2022-06-19T10:26:07.279Z"
   },
   {
    "duration": 22,
    "start_time": "2022-06-19T10:26:07.295Z"
   },
   {
    "duration": 33,
    "start_time": "2022-06-19T10:26:07.319Z"
   },
   {
    "duration": 5,
    "start_time": "2022-06-19T10:26:07.354Z"
   },
   {
    "duration": 9,
    "start_time": "2022-06-19T10:26:07.361Z"
   },
   {
    "duration": 295,
    "start_time": "2022-06-19T10:26:07.371Z"
   },
   {
    "duration": 11,
    "start_time": "2022-06-19T10:26:07.668Z"
   },
   {
    "duration": 154,
    "start_time": "2022-06-19T10:26:07.681Z"
   },
   {
    "duration": 22,
    "start_time": "2022-06-19T10:26:07.836Z"
   },
   {
    "duration": 11,
    "start_time": "2022-06-19T10:26:07.860Z"
   },
   {
    "duration": 174,
    "start_time": "2022-06-19T10:26:07.872Z"
   },
   {
    "duration": 15,
    "start_time": "2022-06-19T10:26:08.048Z"
   },
   {
    "duration": 23,
    "start_time": "2022-06-19T10:26:08.065Z"
   },
   {
    "duration": 5,
    "start_time": "2022-06-19T10:26:08.090Z"
   },
   {
    "duration": 15,
    "start_time": "2022-06-19T10:26:08.097Z"
   },
   {
    "duration": 199,
    "start_time": "2022-06-19T10:26:08.114Z"
   },
   {
    "duration": 44,
    "start_time": "2022-06-19T10:26:08.315Z"
   },
   {
    "duration": 20,
    "start_time": "2022-06-19T10:26:08.361Z"
   },
   {
    "duration": 7888,
    "start_time": "2022-06-19T10:26:08.385Z"
   },
   {
    "duration": 1874,
    "start_time": "2022-06-19T11:17:51.013Z"
   },
   {
    "duration": 15,
    "start_time": "2022-06-19T11:17:52.889Z"
   },
   {
    "duration": 13,
    "start_time": "2022-06-19T11:17:52.905Z"
   },
   {
    "duration": 20,
    "start_time": "2022-06-19T11:17:52.920Z"
   },
   {
    "duration": 26,
    "start_time": "2022-06-19T11:17:52.942Z"
   },
   {
    "duration": 8,
    "start_time": "2022-06-19T11:17:52.970Z"
   },
   {
    "duration": 10,
    "start_time": "2022-06-19T11:17:52.979Z"
   },
   {
    "duration": 38,
    "start_time": "2022-06-19T11:17:52.991Z"
   },
   {
    "duration": 29,
    "start_time": "2022-06-19T11:17:53.031Z"
   },
   {
    "duration": 13,
    "start_time": "2022-06-19T11:17:53.063Z"
   },
   {
    "duration": 22,
    "start_time": "2022-06-19T11:17:53.078Z"
   },
   {
    "duration": 8,
    "start_time": "2022-06-19T11:17:53.102Z"
   },
   {
    "duration": 6,
    "start_time": "2022-06-19T11:17:53.112Z"
   },
   {
    "duration": 36,
    "start_time": "2022-06-19T11:17:53.120Z"
   },
   {
    "duration": 302,
    "start_time": "2022-06-19T11:17:53.158Z"
   },
   {
    "duration": 10,
    "start_time": "2022-06-19T11:17:53.462Z"
   },
   {
    "duration": 157,
    "start_time": "2022-06-19T11:17:53.474Z"
   },
   {
    "duration": 28,
    "start_time": "2022-06-19T11:17:53.633Z"
   },
   {
    "duration": 9,
    "start_time": "2022-06-19T11:17:53.663Z"
   },
   {
    "duration": 158,
    "start_time": "2022-06-19T11:17:53.673Z"
   },
   {
    "duration": 24,
    "start_time": "2022-06-19T11:17:53.833Z"
   },
   {
    "duration": 11,
    "start_time": "2022-06-19T11:17:53.859Z"
   },
   {
    "duration": 6,
    "start_time": "2022-06-19T11:17:53.871Z"
   },
   {
    "duration": 11,
    "start_time": "2022-06-19T11:17:53.879Z"
   },
   {
    "duration": 194,
    "start_time": "2022-06-19T11:17:53.891Z"
   },
   {
    "duration": 35,
    "start_time": "2022-06-19T11:17:54.087Z"
   },
   {
    "duration": 39,
    "start_time": "2022-06-19T11:17:54.124Z"
   },
   {
    "duration": 9873,
    "start_time": "2022-06-19T11:17:54.166Z"
   },
   {
    "duration": 11878,
    "start_time": "2022-06-19T11:18:04.041Z"
   },
   {
    "duration": 0,
    "start_time": "2022-06-19T11:18:15.921Z"
   },
   {
    "duration": 0,
    "start_time": "2022-06-19T11:18:15.922Z"
   },
   {
    "duration": 0,
    "start_time": "2022-06-19T11:18:15.923Z"
   },
   {
    "duration": 0,
    "start_time": "2022-06-19T11:18:15.924Z"
   },
   {
    "duration": 0,
    "start_time": "2022-06-19T11:18:15.925Z"
   },
   {
    "duration": 0,
    "start_time": "2022-06-19T11:18:15.927Z"
   },
   {
    "duration": 0,
    "start_time": "2022-06-19T11:18:15.928Z"
   },
   {
    "duration": 0,
    "start_time": "2022-06-19T11:18:15.929Z"
   },
   {
    "duration": 0,
    "start_time": "2022-06-19T11:18:15.931Z"
   },
   {
    "duration": 0,
    "start_time": "2022-06-19T11:18:15.932Z"
   },
   {
    "duration": 0,
    "start_time": "2022-06-19T11:18:15.952Z"
   },
   {
    "duration": 0,
    "start_time": "2022-06-19T11:18:15.953Z"
   },
   {
    "duration": 0,
    "start_time": "2022-06-19T11:18:15.954Z"
   },
   {
    "duration": 0,
    "start_time": "2022-06-19T11:18:15.955Z"
   },
   {
    "duration": 0,
    "start_time": "2022-06-19T11:18:15.956Z"
   },
   {
    "duration": 0,
    "start_time": "2022-06-19T11:18:15.957Z"
   },
   {
    "duration": 0,
    "start_time": "2022-06-19T11:18:15.957Z"
   },
   {
    "duration": 0,
    "start_time": "2022-06-19T11:18:15.958Z"
   },
   {
    "duration": 0,
    "start_time": "2022-06-19T11:18:15.959Z"
   },
   {
    "duration": 0,
    "start_time": "2022-06-19T11:18:15.960Z"
   },
   {
    "duration": 0,
    "start_time": "2022-06-19T11:18:15.961Z"
   },
   {
    "duration": 0,
    "start_time": "2022-06-19T11:18:15.963Z"
   },
   {
    "duration": 0,
    "start_time": "2022-06-19T11:18:15.964Z"
   },
   {
    "duration": 0,
    "start_time": "2022-06-19T11:18:15.965Z"
   },
   {
    "duration": 1268,
    "start_time": "2022-06-19T11:19:01.457Z"
   },
   {
    "duration": 12,
    "start_time": "2022-06-19T11:19:02.727Z"
   },
   {
    "duration": 12,
    "start_time": "2022-06-19T11:19:02.740Z"
   },
   {
    "duration": 17,
    "start_time": "2022-06-19T11:19:02.754Z"
   },
   {
    "duration": 28,
    "start_time": "2022-06-19T11:19:02.773Z"
   },
   {
    "duration": 7,
    "start_time": "2022-06-19T11:19:02.803Z"
   },
   {
    "duration": 18,
    "start_time": "2022-06-19T11:19:02.812Z"
   },
   {
    "duration": 42,
    "start_time": "2022-06-19T11:19:02.832Z"
   },
   {
    "duration": 15,
    "start_time": "2022-06-19T11:19:02.876Z"
   },
   {
    "duration": 11,
    "start_time": "2022-06-19T11:19:02.893Z"
   },
   {
    "duration": 19,
    "start_time": "2022-06-19T11:19:02.905Z"
   },
   {
    "duration": 28,
    "start_time": "2022-06-19T11:19:02.925Z"
   },
   {
    "duration": 9,
    "start_time": "2022-06-19T11:19:02.955Z"
   },
   {
    "duration": 6,
    "start_time": "2022-06-19T11:19:02.967Z"
   },
   {
    "duration": 273,
    "start_time": "2022-06-19T11:19:02.975Z"
   },
   {
    "duration": 11,
    "start_time": "2022-06-19T11:19:03.250Z"
   },
   {
    "duration": 149,
    "start_time": "2022-06-19T11:19:03.263Z"
   },
   {
    "duration": 19,
    "start_time": "2022-06-19T11:19:03.414Z"
   },
   {
    "duration": 24,
    "start_time": "2022-06-19T11:19:03.435Z"
   },
   {
    "duration": 155,
    "start_time": "2022-06-19T11:19:03.461Z"
   },
   {
    "duration": 14,
    "start_time": "2022-06-19T11:19:03.617Z"
   },
   {
    "duration": 26,
    "start_time": "2022-06-19T11:19:03.632Z"
   },
   {
    "duration": 15,
    "start_time": "2022-06-19T11:19:03.659Z"
   },
   {
    "duration": 13,
    "start_time": "2022-06-19T11:19:03.676Z"
   },
   {
    "duration": 181,
    "start_time": "2022-06-19T11:19:03.691Z"
   },
   {
    "duration": 31,
    "start_time": "2022-06-19T11:19:03.873Z"
   },
   {
    "duration": 24,
    "start_time": "2022-06-19T11:19:03.906Z"
   },
   {
    "duration": 7086,
    "start_time": "2022-06-19T11:19:03.932Z"
   },
   {
    "duration": 7987,
    "start_time": "2022-06-19T11:19:11.020Z"
   },
   {
    "duration": 0,
    "start_time": "2022-06-19T11:19:19.009Z"
   },
   {
    "duration": 0,
    "start_time": "2022-06-19T11:19:19.011Z"
   },
   {
    "duration": 0,
    "start_time": "2022-06-19T11:19:19.012Z"
   },
   {
    "duration": 0,
    "start_time": "2022-06-19T11:19:19.013Z"
   },
   {
    "duration": 0,
    "start_time": "2022-06-19T11:19:19.014Z"
   },
   {
    "duration": 0,
    "start_time": "2022-06-19T11:19:19.015Z"
   },
   {
    "duration": 0,
    "start_time": "2022-06-19T11:19:19.016Z"
   },
   {
    "duration": 0,
    "start_time": "2022-06-19T11:19:19.017Z"
   },
   {
    "duration": 1,
    "start_time": "2022-06-19T11:19:19.017Z"
   },
   {
    "duration": 0,
    "start_time": "2022-06-19T11:19:19.018Z"
   },
   {
    "duration": 0,
    "start_time": "2022-06-19T11:19:19.019Z"
   },
   {
    "duration": 0,
    "start_time": "2022-06-19T11:19:19.020Z"
   },
   {
    "duration": 0,
    "start_time": "2022-06-19T11:19:19.021Z"
   },
   {
    "duration": 0,
    "start_time": "2022-06-19T11:19:19.022Z"
   },
   {
    "duration": 0,
    "start_time": "2022-06-19T11:19:19.023Z"
   },
   {
    "duration": 0,
    "start_time": "2022-06-19T11:19:19.024Z"
   },
   {
    "duration": 0,
    "start_time": "2022-06-19T11:19:19.025Z"
   },
   {
    "duration": 0,
    "start_time": "2022-06-19T11:19:19.026Z"
   },
   {
    "duration": 0,
    "start_time": "2022-06-19T11:19:19.052Z"
   },
   {
    "duration": 0,
    "start_time": "2022-06-19T11:19:19.053Z"
   },
   {
    "duration": 0,
    "start_time": "2022-06-19T11:19:19.054Z"
   },
   {
    "duration": 0,
    "start_time": "2022-06-19T11:19:19.055Z"
   },
   {
    "duration": 0,
    "start_time": "2022-06-19T11:19:19.056Z"
   },
   {
    "duration": 0,
    "start_time": "2022-06-19T11:19:19.057Z"
   },
   {
    "duration": 1195,
    "start_time": "2022-06-19T11:19:27.997Z"
   },
   {
    "duration": 15,
    "start_time": "2022-06-19T11:19:29.194Z"
   },
   {
    "duration": 12,
    "start_time": "2022-06-19T11:19:29.210Z"
   },
   {
    "duration": 30,
    "start_time": "2022-06-19T11:19:29.223Z"
   },
   {
    "duration": 16,
    "start_time": "2022-06-19T11:19:29.255Z"
   },
   {
    "duration": 7,
    "start_time": "2022-06-19T11:19:29.272Z"
   },
   {
    "duration": 10,
    "start_time": "2022-06-19T11:19:29.281Z"
   },
   {
    "duration": 24,
    "start_time": "2022-06-19T11:19:29.292Z"
   },
   {
    "duration": 43,
    "start_time": "2022-06-19T11:19:29.318Z"
   },
   {
    "duration": 10,
    "start_time": "2022-06-19T11:19:29.363Z"
   },
   {
    "duration": 19,
    "start_time": "2022-06-19T11:19:29.375Z"
   },
   {
    "duration": 7,
    "start_time": "2022-06-19T11:19:29.396Z"
   },
   {
    "duration": 7,
    "start_time": "2022-06-19T11:19:29.404Z"
   },
   {
    "duration": 5,
    "start_time": "2022-06-19T11:19:29.413Z"
   },
   {
    "duration": 300,
    "start_time": "2022-06-19T11:19:29.420Z"
   },
   {
    "duration": 10,
    "start_time": "2022-06-19T11:19:29.722Z"
   },
   {
    "duration": 155,
    "start_time": "2022-06-19T11:19:29.734Z"
   },
   {
    "duration": 20,
    "start_time": "2022-06-19T11:19:29.891Z"
   },
   {
    "duration": 11,
    "start_time": "2022-06-19T11:19:29.912Z"
   },
   {
    "duration": 170,
    "start_time": "2022-06-19T11:19:29.925Z"
   },
   {
    "duration": 14,
    "start_time": "2022-06-19T11:19:30.097Z"
   },
   {
    "duration": 20,
    "start_time": "2022-06-19T11:19:30.112Z"
   },
   {
    "duration": 22,
    "start_time": "2022-06-19T11:19:30.133Z"
   },
   {
    "duration": 24,
    "start_time": "2022-06-19T11:19:30.157Z"
   },
   {
    "duration": 183,
    "start_time": "2022-06-19T11:19:30.182Z"
   },
   {
    "duration": 32,
    "start_time": "2022-06-19T11:19:30.366Z"
   },
   {
    "duration": 32,
    "start_time": "2022-06-19T11:19:30.400Z"
   },
   {
    "duration": 7500,
    "start_time": "2022-06-19T11:19:30.434Z"
   },
   {
    "duration": 346752,
    "start_time": "2022-06-19T11:19:37.936Z"
   },
   {
    "duration": 0,
    "start_time": "2022-06-19T11:25:24.690Z"
   },
   {
    "duration": 0,
    "start_time": "2022-06-19T11:25:24.691Z"
   },
   {
    "duration": 0,
    "start_time": "2022-06-19T11:25:24.692Z"
   },
   {
    "duration": 0,
    "start_time": "2022-06-19T11:25:24.693Z"
   },
   {
    "duration": 0,
    "start_time": "2022-06-19T11:25:24.694Z"
   },
   {
    "duration": 0,
    "start_time": "2022-06-19T11:25:24.695Z"
   },
   {
    "duration": 0,
    "start_time": "2022-06-19T11:25:24.696Z"
   },
   {
    "duration": 1,
    "start_time": "2022-06-19T11:25:24.697Z"
   },
   {
    "duration": 0,
    "start_time": "2022-06-19T11:25:24.699Z"
   },
   {
    "duration": 0,
    "start_time": "2022-06-19T11:25:24.700Z"
   },
   {
    "duration": 0,
    "start_time": "2022-06-19T11:25:24.701Z"
   },
   {
    "duration": 0,
    "start_time": "2022-06-19T11:25:24.702Z"
   },
   {
    "duration": 0,
    "start_time": "2022-06-19T11:25:24.703Z"
   },
   {
    "duration": 0,
    "start_time": "2022-06-19T11:25:24.704Z"
   },
   {
    "duration": 0,
    "start_time": "2022-06-19T11:25:24.705Z"
   },
   {
    "duration": 0,
    "start_time": "2022-06-19T11:25:24.706Z"
   },
   {
    "duration": 0,
    "start_time": "2022-06-19T11:25:24.707Z"
   },
   {
    "duration": 0,
    "start_time": "2022-06-19T11:25:24.708Z"
   },
   {
    "duration": 0,
    "start_time": "2022-06-19T11:25:24.709Z"
   },
   {
    "duration": 0,
    "start_time": "2022-06-19T11:25:24.710Z"
   },
   {
    "duration": 0,
    "start_time": "2022-06-19T11:25:24.711Z"
   },
   {
    "duration": 0,
    "start_time": "2022-06-19T11:25:24.712Z"
   },
   {
    "duration": 0,
    "start_time": "2022-06-19T11:25:24.713Z"
   },
   {
    "duration": 0,
    "start_time": "2022-06-19T11:25:24.752Z"
   },
   {
    "duration": 1272,
    "start_time": "2022-06-19T11:25:27.744Z"
   },
   {
    "duration": 13,
    "start_time": "2022-06-19T11:25:29.018Z"
   },
   {
    "duration": 20,
    "start_time": "2022-06-19T11:25:29.033Z"
   },
   {
    "duration": 34,
    "start_time": "2022-06-19T11:25:29.055Z"
   },
   {
    "duration": 38,
    "start_time": "2022-06-19T11:25:29.091Z"
   },
   {
    "duration": 8,
    "start_time": "2022-06-19T11:25:29.130Z"
   },
   {
    "duration": 11,
    "start_time": "2022-06-19T11:25:29.139Z"
   },
   {
    "duration": 33,
    "start_time": "2022-06-19T11:25:29.152Z"
   },
   {
    "duration": 14,
    "start_time": "2022-06-19T11:25:29.187Z"
   },
   {
    "duration": 12,
    "start_time": "2022-06-19T11:25:29.203Z"
   },
   {
    "duration": 39,
    "start_time": "2022-06-19T11:25:29.217Z"
   },
   {
    "duration": 9,
    "start_time": "2022-06-19T11:25:29.257Z"
   },
   {
    "duration": 12,
    "start_time": "2022-06-19T11:25:29.267Z"
   },
   {
    "duration": 7,
    "start_time": "2022-06-19T11:25:29.282Z"
   },
   {
    "duration": 306,
    "start_time": "2022-06-19T11:25:29.290Z"
   },
   {
    "duration": 10,
    "start_time": "2022-06-19T11:25:29.598Z"
   },
   {
    "duration": 145,
    "start_time": "2022-06-19T11:25:29.610Z"
   },
   {
    "duration": 18,
    "start_time": "2022-06-19T11:25:29.757Z"
   },
   {
    "duration": 9,
    "start_time": "2022-06-19T11:25:29.777Z"
   },
   {
    "duration": 174,
    "start_time": "2022-06-19T11:25:29.788Z"
   },
   {
    "duration": 15,
    "start_time": "2022-06-19T11:25:29.963Z"
   },
   {
    "duration": 14,
    "start_time": "2022-06-19T11:25:29.980Z"
   },
   {
    "duration": 6,
    "start_time": "2022-06-19T11:25:29.995Z"
   },
   {
    "duration": 27,
    "start_time": "2022-06-19T11:25:30.002Z"
   },
   {
    "duration": 191,
    "start_time": "2022-06-19T11:25:30.030Z"
   },
   {
    "duration": 39,
    "start_time": "2022-06-19T11:25:30.223Z"
   },
   {
    "duration": 40,
    "start_time": "2022-06-19T11:25:30.263Z"
   },
   {
    "duration": 7607,
    "start_time": "2022-06-19T11:25:30.304Z"
   },
   {
    "duration": 1320,
    "start_time": "2022-06-19T11:31:41.824Z"
   },
   {
    "duration": 13,
    "start_time": "2022-06-19T11:31:43.146Z"
   },
   {
    "duration": 17,
    "start_time": "2022-06-19T11:31:43.161Z"
   },
   {
    "duration": 18,
    "start_time": "2022-06-19T11:31:43.180Z"
   },
   {
    "duration": 19,
    "start_time": "2022-06-19T11:31:43.200Z"
   },
   {
    "duration": 8,
    "start_time": "2022-06-19T11:31:43.221Z"
   },
   {
    "duration": 35,
    "start_time": "2022-06-19T11:31:43.231Z"
   },
   {
    "duration": 31,
    "start_time": "2022-06-19T11:31:43.269Z"
   },
   {
    "duration": 15,
    "start_time": "2022-06-19T11:31:43.301Z"
   },
   {
    "duration": 41,
    "start_time": "2022-06-19T11:31:43.317Z"
   },
   {
    "duration": 21,
    "start_time": "2022-06-19T11:31:43.359Z"
   },
   {
    "duration": 9,
    "start_time": "2022-06-19T11:31:43.381Z"
   },
   {
    "duration": 9,
    "start_time": "2022-06-19T11:31:43.391Z"
   },
   {
    "duration": 15,
    "start_time": "2022-06-19T11:31:43.402Z"
   },
   {
    "duration": 298,
    "start_time": "2022-06-19T11:31:43.418Z"
   },
   {
    "duration": 11,
    "start_time": "2022-06-19T11:31:43.717Z"
   },
   {
    "duration": 148,
    "start_time": "2022-06-19T11:31:43.729Z"
   },
   {
    "duration": 18,
    "start_time": "2022-06-19T11:31:43.879Z"
   },
   {
    "duration": 9,
    "start_time": "2022-06-19T11:31:43.899Z"
   },
   {
    "duration": 159,
    "start_time": "2022-06-19T11:31:43.910Z"
   },
   {
    "duration": 14,
    "start_time": "2022-06-19T11:31:44.070Z"
   },
   {
    "duration": 19,
    "start_time": "2022-06-19T11:31:44.085Z"
   },
   {
    "duration": 4,
    "start_time": "2022-06-19T11:31:44.105Z"
   },
   {
    "duration": 9,
    "start_time": "2022-06-19T11:31:44.111Z"
   },
   {
    "duration": 192,
    "start_time": "2022-06-19T11:31:44.122Z"
   },
   {
    "duration": 37,
    "start_time": "2022-06-19T11:31:44.316Z"
   },
   {
    "duration": 23,
    "start_time": "2022-06-19T11:31:44.355Z"
   },
   {
    "duration": 7069,
    "start_time": "2022-06-19T11:31:44.380Z"
   },
   {
    "duration": 44453,
    "start_time": "2022-06-19T11:31:51.451Z"
   },
   {
    "duration": 0,
    "start_time": "2022-06-19T11:32:35.906Z"
   },
   {
    "duration": 0,
    "start_time": "2022-06-19T11:32:35.907Z"
   },
   {
    "duration": 0,
    "start_time": "2022-06-19T11:32:35.909Z"
   },
   {
    "duration": 0,
    "start_time": "2022-06-19T11:32:35.910Z"
   },
   {
    "duration": 0,
    "start_time": "2022-06-19T11:32:35.911Z"
   },
   {
    "duration": 0,
    "start_time": "2022-06-19T11:32:35.912Z"
   },
   {
    "duration": 0,
    "start_time": "2022-06-19T11:32:35.913Z"
   },
   {
    "duration": 0,
    "start_time": "2022-06-19T11:32:35.914Z"
   },
   {
    "duration": 0,
    "start_time": "2022-06-19T11:32:35.915Z"
   },
   {
    "duration": 0,
    "start_time": "2022-06-19T11:32:35.916Z"
   },
   {
    "duration": 0,
    "start_time": "2022-06-19T11:32:35.917Z"
   },
   {
    "duration": 0,
    "start_time": "2022-06-19T11:32:35.919Z"
   },
   {
    "duration": 0,
    "start_time": "2022-06-19T11:32:35.920Z"
   },
   {
    "duration": 0,
    "start_time": "2022-06-19T11:32:35.921Z"
   },
   {
    "duration": 0,
    "start_time": "2022-06-19T11:32:35.922Z"
   },
   {
    "duration": 0,
    "start_time": "2022-06-19T11:32:35.923Z"
   },
   {
    "duration": 0,
    "start_time": "2022-06-19T11:32:35.925Z"
   },
   {
    "duration": 0,
    "start_time": "2022-06-19T11:32:35.952Z"
   },
   {
    "duration": 0,
    "start_time": "2022-06-19T11:32:35.953Z"
   },
   {
    "duration": 0,
    "start_time": "2022-06-19T11:32:35.954Z"
   },
   {
    "duration": 0,
    "start_time": "2022-06-19T11:32:35.956Z"
   },
   {
    "duration": 0,
    "start_time": "2022-06-19T11:32:35.957Z"
   },
   {
    "duration": 0,
    "start_time": "2022-06-19T11:32:35.958Z"
   },
   {
    "duration": 0,
    "start_time": "2022-06-19T11:32:35.959Z"
   },
   {
    "duration": 1236,
    "start_time": "2022-06-19T11:32:40.057Z"
   },
   {
    "duration": 13,
    "start_time": "2022-06-19T11:32:41.295Z"
   },
   {
    "duration": 16,
    "start_time": "2022-06-19T11:32:41.310Z"
   },
   {
    "duration": 28,
    "start_time": "2022-06-19T11:32:41.328Z"
   },
   {
    "duration": 19,
    "start_time": "2022-06-19T11:32:41.358Z"
   },
   {
    "duration": 9,
    "start_time": "2022-06-19T11:32:41.378Z"
   },
   {
    "duration": 19,
    "start_time": "2022-06-19T11:32:41.388Z"
   },
   {
    "duration": 67,
    "start_time": "2022-06-19T11:32:41.410Z"
   },
   {
    "duration": 18,
    "start_time": "2022-06-19T11:32:41.479Z"
   },
   {
    "duration": 12,
    "start_time": "2022-06-19T11:32:41.498Z"
   },
   {
    "duration": 42,
    "start_time": "2022-06-19T11:32:41.512Z"
   },
   {
    "duration": 10,
    "start_time": "2022-06-19T11:32:41.556Z"
   },
   {
    "duration": 5,
    "start_time": "2022-06-19T11:32:41.568Z"
   },
   {
    "duration": 8,
    "start_time": "2022-06-19T11:32:41.575Z"
   },
   {
    "duration": 296,
    "start_time": "2022-06-19T11:32:41.584Z"
   },
   {
    "duration": 11,
    "start_time": "2022-06-19T11:32:41.881Z"
   },
   {
    "duration": 144,
    "start_time": "2022-06-19T11:32:41.894Z"
   },
   {
    "duration": 25,
    "start_time": "2022-06-19T11:32:42.040Z"
   },
   {
    "duration": 9,
    "start_time": "2022-06-19T11:32:42.067Z"
   },
   {
    "duration": 169,
    "start_time": "2022-06-19T11:32:42.077Z"
   },
   {
    "duration": 16,
    "start_time": "2022-06-19T11:32:42.247Z"
   },
   {
    "duration": 16,
    "start_time": "2022-06-19T11:32:42.264Z"
   },
   {
    "duration": 11,
    "start_time": "2022-06-19T11:32:42.282Z"
   },
   {
    "duration": 14,
    "start_time": "2022-06-19T11:32:42.294Z"
   },
   {
    "duration": 196,
    "start_time": "2022-06-19T11:32:42.310Z"
   },
   {
    "duration": 45,
    "start_time": "2022-06-19T11:32:42.508Z"
   },
   {
    "duration": 19,
    "start_time": "2022-06-19T11:32:42.555Z"
   },
   {
    "duration": 7390,
    "start_time": "2022-06-19T11:32:42.576Z"
   },
   {
    "duration": 17016,
    "start_time": "2022-06-19T11:32:49.969Z"
   },
   {
    "duration": 0,
    "start_time": "2022-06-19T11:33:06.987Z"
   },
   {
    "duration": 0,
    "start_time": "2022-06-19T11:33:06.989Z"
   },
   {
    "duration": 0,
    "start_time": "2022-06-19T11:33:06.990Z"
   },
   {
    "duration": 0,
    "start_time": "2022-06-19T11:33:06.991Z"
   },
   {
    "duration": 0,
    "start_time": "2022-06-19T11:33:06.992Z"
   },
   {
    "duration": 1,
    "start_time": "2022-06-19T11:33:06.992Z"
   },
   {
    "duration": 0,
    "start_time": "2022-06-19T11:33:06.993Z"
   },
   {
    "duration": 0,
    "start_time": "2022-06-19T11:33:06.994Z"
   },
   {
    "duration": 0,
    "start_time": "2022-06-19T11:33:06.995Z"
   },
   {
    "duration": 0,
    "start_time": "2022-06-19T11:33:06.996Z"
   },
   {
    "duration": 0,
    "start_time": "2022-06-19T11:33:06.997Z"
   },
   {
    "duration": 0,
    "start_time": "2022-06-19T11:33:06.998Z"
   },
   {
    "duration": 0,
    "start_time": "2022-06-19T11:33:06.999Z"
   },
   {
    "duration": 0,
    "start_time": "2022-06-19T11:33:07.000Z"
   },
   {
    "duration": 0,
    "start_time": "2022-06-19T11:33:07.001Z"
   },
   {
    "duration": 0,
    "start_time": "2022-06-19T11:33:07.003Z"
   },
   {
    "duration": 0,
    "start_time": "2022-06-19T11:33:07.004Z"
   },
   {
    "duration": 1,
    "start_time": "2022-06-19T11:33:07.005Z"
   },
   {
    "duration": 0,
    "start_time": "2022-06-19T11:33:07.007Z"
   },
   {
    "duration": 0,
    "start_time": "2022-06-19T11:33:07.008Z"
   },
   {
    "duration": 0,
    "start_time": "2022-06-19T11:33:07.009Z"
   },
   {
    "duration": 0,
    "start_time": "2022-06-19T11:33:07.010Z"
   },
   {
    "duration": 0,
    "start_time": "2022-06-19T11:33:07.011Z"
   },
   {
    "duration": 0,
    "start_time": "2022-06-19T11:33:07.012Z"
   },
   {
    "duration": 1234,
    "start_time": "2022-06-19T11:33:28.562Z"
   },
   {
    "duration": 13,
    "start_time": "2022-06-19T11:33:29.798Z"
   },
   {
    "duration": 17,
    "start_time": "2022-06-19T11:33:29.814Z"
   },
   {
    "duration": 21,
    "start_time": "2022-06-19T11:33:29.832Z"
   },
   {
    "duration": 18,
    "start_time": "2022-06-19T11:33:29.855Z"
   },
   {
    "duration": 8,
    "start_time": "2022-06-19T11:33:29.874Z"
   },
   {
    "duration": 11,
    "start_time": "2022-06-19T11:33:29.883Z"
   },
   {
    "duration": 25,
    "start_time": "2022-06-19T11:33:29.895Z"
   },
   {
    "duration": 40,
    "start_time": "2022-06-19T11:33:29.921Z"
   },
   {
    "duration": 11,
    "start_time": "2022-06-19T11:33:29.962Z"
   },
   {
    "duration": 19,
    "start_time": "2022-06-19T11:33:29.974Z"
   },
   {
    "duration": 7,
    "start_time": "2022-06-19T11:33:29.994Z"
   },
   {
    "duration": 19,
    "start_time": "2022-06-19T11:33:30.002Z"
   },
   {
    "duration": 7,
    "start_time": "2022-06-19T11:33:30.024Z"
   },
   {
    "duration": 320,
    "start_time": "2022-06-19T11:33:30.032Z"
   },
   {
    "duration": 12,
    "start_time": "2022-06-19T11:33:30.354Z"
   },
   {
    "duration": 180,
    "start_time": "2022-06-19T11:33:30.368Z"
   },
   {
    "duration": 20,
    "start_time": "2022-06-19T11:33:30.549Z"
   },
   {
    "duration": 37,
    "start_time": "2022-06-19T11:33:30.571Z"
   },
   {
    "duration": 167,
    "start_time": "2022-06-19T11:33:30.610Z"
   },
   {
    "duration": 18,
    "start_time": "2022-06-19T11:33:30.779Z"
   },
   {
    "duration": 42,
    "start_time": "2022-06-19T11:33:30.798Z"
   },
   {
    "duration": 25,
    "start_time": "2022-06-19T11:33:30.842Z"
   },
   {
    "duration": 38,
    "start_time": "2022-06-19T11:33:30.869Z"
   },
   {
    "duration": 186,
    "start_time": "2022-06-19T11:33:30.908Z"
   },
   {
    "duration": 33,
    "start_time": "2022-06-19T11:33:31.096Z"
   },
   {
    "duration": 30,
    "start_time": "2022-06-19T11:33:31.131Z"
   },
   {
    "duration": 7469,
    "start_time": "2022-06-19T11:33:31.163Z"
   },
   {
    "duration": 19365,
    "start_time": "2022-06-19T11:33:38.634Z"
   },
   {
    "duration": 0,
    "start_time": "2022-06-19T11:33:58.001Z"
   },
   {
    "duration": 0,
    "start_time": "2022-06-19T11:33:58.002Z"
   },
   {
    "duration": 0,
    "start_time": "2022-06-19T11:33:58.003Z"
   },
   {
    "duration": 0,
    "start_time": "2022-06-19T11:33:58.004Z"
   },
   {
    "duration": 0,
    "start_time": "2022-06-19T11:33:58.005Z"
   },
   {
    "duration": 0,
    "start_time": "2022-06-19T11:33:58.006Z"
   },
   {
    "duration": 0,
    "start_time": "2022-06-19T11:33:58.007Z"
   },
   {
    "duration": 0,
    "start_time": "2022-06-19T11:33:58.008Z"
   },
   {
    "duration": 0,
    "start_time": "2022-06-19T11:33:58.009Z"
   },
   {
    "duration": 0,
    "start_time": "2022-06-19T11:33:58.010Z"
   },
   {
    "duration": 0,
    "start_time": "2022-06-19T11:33:58.011Z"
   },
   {
    "duration": 0,
    "start_time": "2022-06-19T11:33:58.012Z"
   },
   {
    "duration": 0,
    "start_time": "2022-06-19T11:33:58.012Z"
   },
   {
    "duration": 0,
    "start_time": "2022-06-19T11:33:58.014Z"
   },
   {
    "duration": 0,
    "start_time": "2022-06-19T11:33:58.015Z"
   },
   {
    "duration": 0,
    "start_time": "2022-06-19T11:33:58.016Z"
   },
   {
    "duration": 0,
    "start_time": "2022-06-19T11:33:58.017Z"
   },
   {
    "duration": 0,
    "start_time": "2022-06-19T11:33:58.018Z"
   },
   {
    "duration": 0,
    "start_time": "2022-06-19T11:33:58.019Z"
   },
   {
    "duration": 0,
    "start_time": "2022-06-19T11:33:58.021Z"
   },
   {
    "duration": 0,
    "start_time": "2022-06-19T11:33:58.022Z"
   },
   {
    "duration": 1,
    "start_time": "2022-06-19T11:33:58.023Z"
   },
   {
    "duration": 0,
    "start_time": "2022-06-19T11:33:58.025Z"
   },
   {
    "duration": 0,
    "start_time": "2022-06-19T11:33:58.026Z"
   },
   {
    "duration": 1209,
    "start_time": "2022-06-19T11:34:08.693Z"
   },
   {
    "duration": 14,
    "start_time": "2022-06-19T11:34:09.904Z"
   },
   {
    "duration": 12,
    "start_time": "2022-06-19T11:34:09.919Z"
   },
   {
    "duration": 22,
    "start_time": "2022-06-19T11:34:09.933Z"
   },
   {
    "duration": 15,
    "start_time": "2022-06-19T11:34:09.957Z"
   },
   {
    "duration": 7,
    "start_time": "2022-06-19T11:34:09.974Z"
   },
   {
    "duration": 10,
    "start_time": "2022-06-19T11:34:09.982Z"
   },
   {
    "duration": 27,
    "start_time": "2022-06-19T11:34:09.994Z"
   },
   {
    "duration": 40,
    "start_time": "2022-06-19T11:34:10.023Z"
   },
   {
    "duration": 11,
    "start_time": "2022-06-19T11:34:10.065Z"
   },
   {
    "duration": 20,
    "start_time": "2022-06-19T11:34:10.078Z"
   },
   {
    "duration": 8,
    "start_time": "2022-06-19T11:34:10.099Z"
   },
   {
    "duration": 7,
    "start_time": "2022-06-19T11:34:10.108Z"
   },
   {
    "duration": 37,
    "start_time": "2022-06-19T11:34:10.116Z"
   },
   {
    "duration": 265,
    "start_time": "2022-06-19T11:34:10.155Z"
   },
   {
    "duration": 11,
    "start_time": "2022-06-19T11:34:10.421Z"
   },
   {
    "duration": 148,
    "start_time": "2022-06-19T11:34:10.433Z"
   },
   {
    "duration": 19,
    "start_time": "2022-06-19T11:34:10.582Z"
   },
   {
    "duration": 9,
    "start_time": "2022-06-19T11:34:10.602Z"
   },
   {
    "duration": 158,
    "start_time": "2022-06-19T11:34:10.612Z"
   },
   {
    "duration": 13,
    "start_time": "2022-06-19T11:34:10.772Z"
   },
   {
    "duration": 15,
    "start_time": "2022-06-19T11:34:10.787Z"
   },
   {
    "duration": 4,
    "start_time": "2022-06-19T11:34:10.804Z"
   },
   {
    "duration": 9,
    "start_time": "2022-06-19T11:34:10.810Z"
   },
   {
    "duration": 184,
    "start_time": "2022-06-19T11:34:10.820Z"
   },
   {
    "duration": 30,
    "start_time": "2022-06-19T11:34:11.006Z"
   },
   {
    "duration": 29,
    "start_time": "2022-06-19T11:34:11.038Z"
   },
   {
    "duration": 7138,
    "start_time": "2022-06-19T11:34:11.071Z"
   },
   {
    "duration": 1996304,
    "start_time": "2022-06-19T11:34:18.211Z"
   },
   {
    "duration": 7,
    "start_time": "2022-06-19T12:07:34.516Z"
   },
   {
    "duration": 21,
    "start_time": "2022-06-19T12:07:34.524Z"
   },
   {
    "duration": 24,
    "start_time": "2022-06-19T12:07:34.547Z"
   },
   {
    "duration": 33,
    "start_time": "2022-06-19T12:07:34.572Z"
   },
   {
    "duration": 268,
    "start_time": "2022-06-19T12:07:34.607Z"
   },
   {
    "duration": 92,
    "start_time": "2022-06-19T12:07:34.876Z"
   },
   {
    "duration": 8,
    "start_time": "2022-06-19T12:07:34.970Z"
   },
   {
    "duration": 37,
    "start_time": "2022-06-19T12:07:34.980Z"
   },
   {
    "duration": 11,
    "start_time": "2022-06-19T12:07:35.019Z"
   },
   {
    "duration": 30,
    "start_time": "2022-06-19T12:07:35.031Z"
   },
   {
    "duration": 122,
    "start_time": "2022-06-19T12:07:35.063Z"
   },
   {
    "duration": 0,
    "start_time": "2022-06-19T12:07:35.188Z"
   },
   {
    "duration": 0,
    "start_time": "2022-06-19T12:07:35.190Z"
   },
   {
    "duration": 0,
    "start_time": "2022-06-19T12:07:35.192Z"
   },
   {
    "duration": 0,
    "start_time": "2022-06-19T12:07:35.194Z"
   },
   {
    "duration": 0,
    "start_time": "2022-06-19T12:07:35.195Z"
   },
   {
    "duration": 0,
    "start_time": "2022-06-19T12:07:35.204Z"
   },
   {
    "duration": 0,
    "start_time": "2022-06-19T12:07:35.205Z"
   },
   {
    "duration": 0,
    "start_time": "2022-06-19T12:07:35.207Z"
   },
   {
    "duration": 0,
    "start_time": "2022-06-19T12:07:35.209Z"
   },
   {
    "duration": 0,
    "start_time": "2022-06-19T12:07:35.210Z"
   },
   {
    "duration": 0,
    "start_time": "2022-06-19T12:07:35.211Z"
   },
   {
    "duration": 0,
    "start_time": "2022-06-19T12:07:35.212Z"
   },
   {
    "duration": 0,
    "start_time": "2022-06-19T12:07:35.213Z"
   },
   {
    "duration": 12,
    "start_time": "2022-06-19T12:09:39.356Z"
   },
   {
    "duration": 44,
    "start_time": "2022-06-19T12:10:20.792Z"
   },
   {
    "duration": 12,
    "start_time": "2022-06-19T12:12:13.505Z"
   },
   {
    "duration": 14,
    "start_time": "2022-06-19T12:12:21.363Z"
   },
   {
    "duration": 13,
    "start_time": "2022-06-19T12:13:55.083Z"
   },
   {
    "duration": 13,
    "start_time": "2022-06-19T12:14:20.324Z"
   },
   {
    "duration": 10,
    "start_time": "2022-06-19T12:15:35.182Z"
   },
   {
    "duration": 12,
    "start_time": "2022-06-19T12:15:40.655Z"
   },
   {
    "duration": 5,
    "start_time": "2022-06-19T12:17:14.328Z"
   },
   {
    "duration": 20,
    "start_time": "2022-06-19T12:18:20.350Z"
   },
   {
    "duration": 13,
    "start_time": "2022-06-19T12:18:30.767Z"
   },
   {
    "duration": 11,
    "start_time": "2022-06-19T12:18:33.594Z"
   },
   {
    "duration": 13,
    "start_time": "2022-06-19T12:18:55.138Z"
   },
   {
    "duration": 5,
    "start_time": "2022-06-19T12:18:57.961Z"
   },
   {
    "duration": 9,
    "start_time": "2022-06-19T12:18:58.662Z"
   },
   {
    "duration": 359,
    "start_time": "2022-06-19T12:23:40.071Z"
   },
   {
    "duration": 0,
    "start_time": "2022-06-19T12:25:03.357Z"
   },
   {
    "duration": 215442,
    "start_time": "2022-06-19T12:25:04.769Z"
   },
   {
    "duration": 6,
    "start_time": "2022-06-19T12:28:59.245Z"
   },
   {
    "duration": 19,
    "start_time": "2022-06-19T12:29:14.674Z"
   },
   {
    "duration": 1199,
    "start_time": "2022-06-19T12:35:28.001Z"
   },
   {
    "duration": 13,
    "start_time": "2022-06-19T12:35:29.201Z"
   },
   {
    "duration": 14,
    "start_time": "2022-06-19T12:35:29.216Z"
   },
   {
    "duration": 23,
    "start_time": "2022-06-19T12:35:29.232Z"
   },
   {
    "duration": 16,
    "start_time": "2022-06-19T12:35:29.256Z"
   },
   {
    "duration": 7,
    "start_time": "2022-06-19T12:35:29.273Z"
   },
   {
    "duration": 10,
    "start_time": "2022-06-19T12:35:29.281Z"
   },
   {
    "duration": 31,
    "start_time": "2022-06-19T12:35:29.292Z"
   },
   {
    "duration": 36,
    "start_time": "2022-06-19T12:35:29.324Z"
   },
   {
    "duration": 10,
    "start_time": "2022-06-19T12:35:29.362Z"
   },
   {
    "duration": 20,
    "start_time": "2022-06-19T12:35:29.373Z"
   },
   {
    "duration": 7,
    "start_time": "2022-06-19T12:35:29.394Z"
   },
   {
    "duration": 9,
    "start_time": "2022-06-19T12:35:29.402Z"
   },
   {
    "duration": 7,
    "start_time": "2022-06-19T12:35:29.413Z"
   },
   {
    "duration": 283,
    "start_time": "2022-06-19T12:35:29.421Z"
   },
   {
    "duration": 10,
    "start_time": "2022-06-19T12:35:29.706Z"
   },
   {
    "duration": 144,
    "start_time": "2022-06-19T12:35:29.718Z"
   },
   {
    "duration": 18,
    "start_time": "2022-06-19T12:35:29.864Z"
   },
   {
    "duration": 10,
    "start_time": "2022-06-19T12:35:29.883Z"
   },
   {
    "duration": 166,
    "start_time": "2022-06-19T12:35:29.894Z"
   },
   {
    "duration": 15,
    "start_time": "2022-06-19T12:35:30.061Z"
   },
   {
    "duration": 20,
    "start_time": "2022-06-19T12:35:30.077Z"
   },
   {
    "duration": 5,
    "start_time": "2022-06-19T12:35:30.099Z"
   },
   {
    "duration": 19,
    "start_time": "2022-06-19T12:35:30.105Z"
   },
   {
    "duration": 185,
    "start_time": "2022-06-19T12:35:30.126Z"
   },
   {
    "duration": 43,
    "start_time": "2022-06-19T12:35:30.313Z"
   },
   {
    "duration": 25,
    "start_time": "2022-06-19T12:35:30.358Z"
   },
   {
    "duration": 7843,
    "start_time": "2022-06-19T12:35:30.387Z"
   },
   {
    "duration": 85609,
    "start_time": "2022-06-19T12:35:38.232Z"
   },
   {
    "duration": 1,
    "start_time": "2022-06-19T12:37:03.842Z"
   },
   {
    "duration": 0,
    "start_time": "2022-06-19T12:37:03.843Z"
   },
   {
    "duration": 0,
    "start_time": "2022-06-19T12:37:03.845Z"
   },
   {
    "duration": 0,
    "start_time": "2022-06-19T12:37:03.846Z"
   },
   {
    "duration": 0,
    "start_time": "2022-06-19T12:37:03.847Z"
   },
   {
    "duration": 0,
    "start_time": "2022-06-19T12:37:03.847Z"
   },
   {
    "duration": 0,
    "start_time": "2022-06-19T12:37:03.848Z"
   },
   {
    "duration": 0,
    "start_time": "2022-06-19T12:37:03.849Z"
   },
   {
    "duration": 0,
    "start_time": "2022-06-19T12:37:03.850Z"
   },
   {
    "duration": 0,
    "start_time": "2022-06-19T12:37:03.851Z"
   },
   {
    "duration": 0,
    "start_time": "2022-06-19T12:37:03.852Z"
   },
   {
    "duration": 0,
    "start_time": "2022-06-19T12:37:03.853Z"
   },
   {
    "duration": 0,
    "start_time": "2022-06-19T12:37:03.854Z"
   },
   {
    "duration": 0,
    "start_time": "2022-06-19T12:37:03.855Z"
   },
   {
    "duration": 0,
    "start_time": "2022-06-19T12:37:03.856Z"
   },
   {
    "duration": 0,
    "start_time": "2022-06-19T12:37:03.857Z"
   },
   {
    "duration": 0,
    "start_time": "2022-06-19T12:37:03.858Z"
   },
   {
    "duration": 0,
    "start_time": "2022-06-19T12:37:03.859Z"
   },
   {
    "duration": 0,
    "start_time": "2022-06-19T12:37:03.859Z"
   },
   {
    "duration": 1250,
    "start_time": "2022-06-19T12:39:27.949Z"
   },
   {
    "duration": 14,
    "start_time": "2022-06-19T12:39:29.201Z"
   },
   {
    "duration": 16,
    "start_time": "2022-06-19T12:39:29.216Z"
   },
   {
    "duration": 19,
    "start_time": "2022-06-19T12:39:29.234Z"
   },
   {
    "duration": 15,
    "start_time": "2022-06-19T12:39:29.255Z"
   },
   {
    "duration": 6,
    "start_time": "2022-06-19T12:39:29.272Z"
   },
   {
    "duration": 9,
    "start_time": "2022-06-19T12:39:29.280Z"
   },
   {
    "duration": 30,
    "start_time": "2022-06-19T12:39:29.291Z"
   },
   {
    "duration": 43,
    "start_time": "2022-06-19T12:39:29.322Z"
   },
   {
    "duration": 10,
    "start_time": "2022-06-19T12:39:29.367Z"
   },
   {
    "duration": 20,
    "start_time": "2022-06-19T12:39:29.379Z"
   },
   {
    "duration": 9,
    "start_time": "2022-06-19T12:39:29.401Z"
   },
   {
    "duration": 5,
    "start_time": "2022-06-19T12:39:29.411Z"
   },
   {
    "duration": 35,
    "start_time": "2022-06-19T12:39:29.418Z"
   },
   {
    "duration": 266,
    "start_time": "2022-06-19T12:39:29.454Z"
   },
   {
    "duration": 11,
    "start_time": "2022-06-19T12:39:29.721Z"
   },
   {
    "duration": 151,
    "start_time": "2022-06-19T12:39:29.733Z"
   },
   {
    "duration": 19,
    "start_time": "2022-06-19T12:39:29.885Z"
   },
   {
    "duration": 10,
    "start_time": "2022-06-19T12:39:29.905Z"
   },
   {
    "duration": 159,
    "start_time": "2022-06-19T12:39:29.916Z"
   },
   {
    "duration": 13,
    "start_time": "2022-06-19T12:39:30.077Z"
   },
   {
    "duration": 19,
    "start_time": "2022-06-19T12:39:30.092Z"
   },
   {
    "duration": 4,
    "start_time": "2022-06-19T12:39:30.112Z"
   },
   {
    "duration": 14,
    "start_time": "2022-06-19T12:39:30.118Z"
   },
   {
    "duration": 180,
    "start_time": "2022-06-19T12:39:30.133Z"
   },
   {
    "duration": 41,
    "start_time": "2022-06-19T12:39:30.315Z"
   },
   {
    "duration": 24,
    "start_time": "2022-06-19T12:39:30.358Z"
   },
   {
    "duration": 7422,
    "start_time": "2022-06-19T12:39:30.384Z"
   },
   {
    "duration": 32481,
    "start_time": "2022-06-19T12:39:37.808Z"
   },
   {
    "duration": 0,
    "start_time": "2022-06-19T12:40:10.291Z"
   },
   {
    "duration": 0,
    "start_time": "2022-06-19T12:40:10.293Z"
   },
   {
    "duration": 0,
    "start_time": "2022-06-19T12:40:10.295Z"
   },
   {
    "duration": 0,
    "start_time": "2022-06-19T12:40:10.296Z"
   },
   {
    "duration": 0,
    "start_time": "2022-06-19T12:40:10.297Z"
   },
   {
    "duration": 0,
    "start_time": "2022-06-19T12:40:10.298Z"
   },
   {
    "duration": 0,
    "start_time": "2022-06-19T12:40:10.300Z"
   },
   {
    "duration": 0,
    "start_time": "2022-06-19T12:40:10.301Z"
   },
   {
    "duration": 0,
    "start_time": "2022-06-19T12:40:10.303Z"
   },
   {
    "duration": 0,
    "start_time": "2022-06-19T12:40:10.305Z"
   },
   {
    "duration": 0,
    "start_time": "2022-06-19T12:40:10.306Z"
   },
   {
    "duration": 0,
    "start_time": "2022-06-19T12:40:10.307Z"
   },
   {
    "duration": 0,
    "start_time": "2022-06-19T12:40:10.308Z"
   },
   {
    "duration": 0,
    "start_time": "2022-06-19T12:40:10.310Z"
   },
   {
    "duration": 0,
    "start_time": "2022-06-19T12:40:10.311Z"
   },
   {
    "duration": 0,
    "start_time": "2022-06-19T12:40:10.312Z"
   },
   {
    "duration": 0,
    "start_time": "2022-06-19T12:40:10.314Z"
   },
   {
    "duration": 0,
    "start_time": "2022-06-19T12:40:10.352Z"
   },
   {
    "duration": 0,
    "start_time": "2022-06-19T12:40:10.354Z"
   },
   {
    "duration": 1255,
    "start_time": "2022-06-19T12:42:28.977Z"
   },
   {
    "duration": 13,
    "start_time": "2022-06-19T12:42:30.235Z"
   },
   {
    "duration": 16,
    "start_time": "2022-06-19T12:42:30.250Z"
   },
   {
    "duration": 28,
    "start_time": "2022-06-19T12:42:30.268Z"
   },
   {
    "duration": 28,
    "start_time": "2022-06-19T12:42:30.299Z"
   },
   {
    "duration": 11,
    "start_time": "2022-06-19T12:42:30.330Z"
   },
   {
    "duration": 18,
    "start_time": "2022-06-19T12:42:30.351Z"
   },
   {
    "duration": 42,
    "start_time": "2022-06-19T12:42:30.372Z"
   },
   {
    "duration": 47,
    "start_time": "2022-06-19T12:42:30.416Z"
   },
   {
    "duration": 31,
    "start_time": "2022-06-19T12:42:30.464Z"
   },
   {
    "duration": 36,
    "start_time": "2022-06-19T12:42:30.497Z"
   },
   {
    "duration": 9,
    "start_time": "2022-06-19T12:42:30.535Z"
   },
   {
    "duration": 9,
    "start_time": "2022-06-19T12:42:30.545Z"
   },
   {
    "duration": 10,
    "start_time": "2022-06-19T12:42:30.556Z"
   },
   {
    "duration": 296,
    "start_time": "2022-06-19T12:42:30.568Z"
   },
   {
    "duration": 12,
    "start_time": "2022-06-19T12:42:30.866Z"
   },
   {
    "duration": 155,
    "start_time": "2022-06-19T12:42:30.880Z"
   },
   {
    "duration": 25,
    "start_time": "2022-06-19T12:42:31.037Z"
   },
   {
    "duration": 15,
    "start_time": "2022-06-19T12:42:31.064Z"
   },
   {
    "duration": 223,
    "start_time": "2022-06-19T12:42:31.080Z"
   },
   {
    "duration": 13,
    "start_time": "2022-06-19T12:42:31.305Z"
   },
   {
    "duration": 40,
    "start_time": "2022-06-19T12:42:31.320Z"
   },
   {
    "duration": 9,
    "start_time": "2022-06-19T12:42:31.362Z"
   },
   {
    "duration": 34,
    "start_time": "2022-06-19T12:42:31.373Z"
   },
   {
    "duration": 208,
    "start_time": "2022-06-19T12:42:31.408Z"
   },
   {
    "duration": 35,
    "start_time": "2022-06-19T12:42:31.618Z"
   },
   {
    "duration": 33,
    "start_time": "2022-06-19T12:42:31.654Z"
   },
   {
    "duration": 7613,
    "start_time": "2022-06-19T12:42:31.688Z"
   },
   {
    "duration": 2153699,
    "start_time": "2022-06-19T12:42:39.303Z"
   },
   {
    "duration": 7,
    "start_time": "2022-06-19T13:18:33.003Z"
   },
   {
    "duration": 20,
    "start_time": "2022-06-19T13:18:33.012Z"
   },
   {
    "duration": 128606,
    "start_time": "2022-06-19T13:18:33.033Z"
   },
   {
    "duration": 7,
    "start_time": "2022-06-19T13:20:41.641Z"
   },
   {
    "duration": 17,
    "start_time": "2022-06-19T13:20:41.651Z"
   },
   {
    "duration": 47,
    "start_time": "2022-06-19T13:20:41.669Z"
   },
   {
    "duration": 179,
    "start_time": "2022-06-19T13:20:41.718Z"
   },
   {
    "duration": 15,
    "start_time": "2022-06-19T13:20:41.899Z"
   },
   {
    "duration": 12,
    "start_time": "2022-06-19T13:20:41.916Z"
   },
   {
    "duration": 29,
    "start_time": "2022-06-19T13:20:41.929Z"
   },
   {
    "duration": 5,
    "start_time": "2022-06-19T13:20:41.960Z"
   },
   {
    "duration": 8,
    "start_time": "2022-06-19T13:20:41.968Z"
   },
   {
    "duration": 236,
    "start_time": "2022-06-19T13:20:41.977Z"
   },
   {
    "duration": 0,
    "start_time": "2022-06-19T13:20:42.214Z"
   },
   {
    "duration": 0,
    "start_time": "2022-06-19T13:20:42.216Z"
   },
   {
    "duration": 0,
    "start_time": "2022-06-19T13:20:42.217Z"
   },
   {
    "duration": 0,
    "start_time": "2022-06-19T13:20:42.219Z"
   },
   {
    "duration": 0,
    "start_time": "2022-06-19T13:20:42.220Z"
   },
   {
    "duration": 0,
    "start_time": "2022-06-19T13:20:42.221Z"
   },
   {
    "duration": 20,
    "start_time": "2022-06-19T13:23:56.858Z"
   },
   {
    "duration": 3,
    "start_time": "2022-06-19T13:24:16.887Z"
   },
   {
    "duration": 334,
    "start_time": "2022-06-19T13:24:20.475Z"
   },
   {
    "duration": 13,
    "start_time": "2022-06-19T13:24:29.697Z"
   },
   {
    "duration": 67,
    "start_time": "2022-06-19T13:24:40.065Z"
   },
   {
    "duration": 38,
    "start_time": "2022-06-19T13:26:00.650Z"
   },
   {
    "duration": 34,
    "start_time": "2022-06-19T13:26:19.591Z"
   },
   {
    "duration": 27,
    "start_time": "2022-06-19T13:40:43.462Z"
   },
   {
    "duration": 18,
    "start_time": "2022-06-19T13:45:42.988Z"
   },
   {
    "duration": 148,
    "start_time": "2022-06-19T13:46:05.866Z"
   },
   {
    "duration": 368,
    "start_time": "2022-06-19T13:50:04.866Z"
   },
   {
    "duration": 348,
    "start_time": "2022-06-19T13:50:21.194Z"
   },
   {
    "duration": 5,
    "start_time": "2022-06-19T13:50:36.171Z"
   },
   {
    "duration": 33,
    "start_time": "2022-06-19T13:51:58.022Z"
   },
   {
    "duration": 20,
    "start_time": "2022-06-19T13:52:01.898Z"
   },
   {
    "duration": 4,
    "start_time": "2022-06-19T13:52:11.126Z"
   },
   {
    "duration": 5,
    "start_time": "2022-06-19T13:52:23.803Z"
   },
   {
    "duration": 9,
    "start_time": "2022-06-19T13:52:48.206Z"
   },
   {
    "duration": 9,
    "start_time": "2022-06-19T13:52:55.814Z"
   },
   {
    "duration": 4,
    "start_time": "2022-06-19T13:53:02.558Z"
   },
   {
    "duration": 4,
    "start_time": "2022-06-19T13:53:29.174Z"
   },
   {
    "duration": 7,
    "start_time": "2022-06-19T13:59:09.182Z"
   },
   {
    "duration": 5,
    "start_time": "2022-06-19T13:59:28.903Z"
   },
   {
    "duration": 11,
    "start_time": "2022-06-19T13:59:39.778Z"
   },
   {
    "duration": 19,
    "start_time": "2022-06-19T14:00:04.030Z"
   },
   {
    "duration": 146,
    "start_time": "2022-06-19T14:00:04.562Z"
   },
   {
    "duration": 5,
    "start_time": "2022-06-19T14:00:05.209Z"
   },
   {
    "duration": 10,
    "start_time": "2022-06-19T14:00:09.870Z"
   },
   {
    "duration": 5,
    "start_time": "2022-06-19T14:00:13.263Z"
   },
   {
    "duration": 7,
    "start_time": "2022-06-19T14:00:15.874Z"
   },
   {
    "duration": 332,
    "start_time": "2022-06-19T14:02:32.702Z"
   },
   {
    "duration": 4,
    "start_time": "2022-06-19T14:02:49.357Z"
   },
   {
    "duration": 10,
    "start_time": "2022-06-19T14:03:12.402Z"
   },
   {
    "duration": 12,
    "start_time": "2022-06-19T14:03:16.193Z"
   },
   {
    "duration": 10,
    "start_time": "2022-06-19T14:03:19.626Z"
   },
   {
    "duration": 11,
    "start_time": "2022-06-19T14:03:22.640Z"
   },
   {
    "duration": 19,
    "start_time": "2022-06-19T14:04:00.395Z"
   },
   {
    "duration": 151,
    "start_time": "2022-06-19T14:04:00.919Z"
   },
   {
    "duration": 4,
    "start_time": "2022-06-19T14:04:01.484Z"
   },
   {
    "duration": 11,
    "start_time": "2022-06-19T14:04:04.777Z"
   },
   {
    "duration": 6,
    "start_time": "2022-06-19T14:04:05.248Z"
   },
   {
    "duration": 7,
    "start_time": "2022-06-19T14:04:06.156Z"
   },
   {
    "duration": 312,
    "start_time": "2022-06-19T14:04:06.791Z"
   },
   {
    "duration": 21,
    "start_time": "2022-06-19T14:04:58.068Z"
   },
   {
    "duration": 245,
    "start_time": "2022-06-19T14:04:58.635Z"
   },
   {
    "duration": 5,
    "start_time": "2022-06-19T14:04:58.882Z"
   },
   {
    "duration": 11,
    "start_time": "2022-06-19T14:05:01.354Z"
   },
   {
    "duration": 5,
    "start_time": "2022-06-19T14:05:01.921Z"
   },
   {
    "duration": 16,
    "start_time": "2022-06-19T14:05:03.123Z"
   },
   {
    "duration": 5,
    "start_time": "2022-06-19T14:05:04.181Z"
   },
   {
    "duration": 14,
    "start_time": "2022-06-19T14:05:35.168Z"
   },
   {
    "duration": 4,
    "start_time": "2022-06-19T14:17:37.557Z"
   },
   {
    "duration": 6,
    "start_time": "2022-06-19T14:17:57.197Z"
   },
   {
    "duration": 5,
    "start_time": "2022-06-19T14:18:46.851Z"
   },
   {
    "duration": 6,
    "start_time": "2022-06-19T14:19:19.932Z"
   },
   {
    "duration": 4,
    "start_time": "2022-06-19T14:19:39.587Z"
   },
   {
    "duration": 1557,
    "start_time": "2022-06-19T17:06:36.406Z"
   },
   {
    "duration": 17,
    "start_time": "2022-06-19T17:06:37.965Z"
   },
   {
    "duration": 15,
    "start_time": "2022-06-19T17:06:37.984Z"
   },
   {
    "duration": 20,
    "start_time": "2022-06-19T17:06:38.002Z"
   },
   {
    "duration": 35,
    "start_time": "2022-06-19T17:06:38.023Z"
   },
   {
    "duration": 9,
    "start_time": "2022-06-19T17:06:38.061Z"
   },
   {
    "duration": 18,
    "start_time": "2022-06-19T17:06:38.072Z"
   },
   {
    "duration": 51,
    "start_time": "2022-06-19T17:06:38.092Z"
   },
   {
    "duration": 18,
    "start_time": "2022-06-19T17:06:38.145Z"
   },
   {
    "duration": 11,
    "start_time": "2022-06-19T17:06:38.166Z"
   },
   {
    "duration": 20,
    "start_time": "2022-06-19T17:06:38.179Z"
   },
   {
    "duration": 8,
    "start_time": "2022-06-19T17:06:38.201Z"
   },
   {
    "duration": 9,
    "start_time": "2022-06-19T17:06:38.241Z"
   },
   {
    "duration": 7,
    "start_time": "2022-06-19T17:06:38.251Z"
   },
   {
    "duration": 305,
    "start_time": "2022-06-19T17:06:38.260Z"
   },
   {
    "duration": 12,
    "start_time": "2022-06-19T17:06:38.568Z"
   },
   {
    "duration": 159,
    "start_time": "2022-06-19T17:06:38.582Z"
   },
   {
    "duration": 20,
    "start_time": "2022-06-19T17:06:38.742Z"
   },
   {
    "duration": 9,
    "start_time": "2022-06-19T17:06:38.763Z"
   },
   {
    "duration": 183,
    "start_time": "2022-06-19T17:06:38.774Z"
   },
   {
    "duration": 16,
    "start_time": "2022-06-19T17:06:38.959Z"
   },
   {
    "duration": 14,
    "start_time": "2022-06-19T17:06:38.977Z"
   },
   {
    "duration": 6,
    "start_time": "2022-06-19T17:06:38.993Z"
   },
   {
    "duration": 43,
    "start_time": "2022-06-19T17:06:39.000Z"
   },
   {
    "duration": 247,
    "start_time": "2022-06-19T17:06:39.044Z"
   },
   {
    "duration": 49,
    "start_time": "2022-06-19T17:06:39.293Z"
   },
   {
    "duration": 12741,
    "start_time": "2022-06-19T17:06:39.344Z"
   },
   {
    "duration": 2414361,
    "start_time": "2022-06-19T17:06:52.092Z"
   },
   {
    "duration": 6,
    "start_time": "2022-06-19T17:47:06.455Z"
   },
   {
    "duration": 19,
    "start_time": "2022-06-19T17:47:06.463Z"
   },
   {
    "duration": 2205,
    "start_time": "2022-06-19T17:47:06.483Z"
   },
   {
    "duration": 0,
    "start_time": "2022-06-19T17:47:08.690Z"
   },
   {
    "duration": 0,
    "start_time": "2022-06-19T17:47:08.691Z"
   },
   {
    "duration": 0,
    "start_time": "2022-06-19T17:47:08.693Z"
   },
   {
    "duration": 0,
    "start_time": "2022-06-19T17:47:08.694Z"
   },
   {
    "duration": 0,
    "start_time": "2022-06-19T17:47:08.695Z"
   },
   {
    "duration": 0,
    "start_time": "2022-06-19T17:47:08.696Z"
   },
   {
    "duration": 0,
    "start_time": "2022-06-19T17:47:08.697Z"
   },
   {
    "duration": 0,
    "start_time": "2022-06-19T17:47:08.698Z"
   },
   {
    "duration": 0,
    "start_time": "2022-06-19T17:47:08.699Z"
   },
   {
    "duration": 0,
    "start_time": "2022-06-19T17:47:08.700Z"
   },
   {
    "duration": 355649,
    "start_time": "2022-06-19T17:48:56.391Z"
   },
   {
    "duration": 8,
    "start_time": "2022-06-19T17:58:12.315Z"
   },
   {
    "duration": 11,
    "start_time": "2022-06-19T17:58:13.909Z"
   },
   {
    "duration": 30,
    "start_time": "2022-06-19T17:58:16.919Z"
   },
   {
    "duration": 155,
    "start_time": "2022-06-19T17:58:22.948Z"
   },
   {
    "duration": 5,
    "start_time": "2022-06-19T17:58:24.479Z"
   },
   {
    "duration": 10,
    "start_time": "2022-06-19T17:59:05.676Z"
   },
   {
    "duration": 4,
    "start_time": "2022-06-19T17:59:12.842Z"
   },
   {
    "duration": 13,
    "start_time": "2022-06-19T17:59:19.311Z"
   },
   {
    "duration": 6,
    "start_time": "2022-06-19T17:59:25.578Z"
   },
   {
    "duration": 17,
    "start_time": "2022-06-19T18:00:12.468Z"
   },
   {
    "duration": 69,
    "start_time": "2022-06-20T11:45:35.860Z"
   },
   {
    "duration": 54,
    "start_time": "2022-06-20T11:46:59.724Z"
   },
   {
    "duration": 3163,
    "start_time": "2022-06-20T11:47:10.803Z"
   },
   {
    "duration": 8,
    "start_time": "2022-06-20T11:47:23.101Z"
   },
   {
    "duration": 1287,
    "start_time": "2022-06-20T11:47:26.265Z"
   },
   {
    "duration": 2328,
    "start_time": "2022-06-20T11:48:05.696Z"
   }
  ],
  "kernelspec": {
   "display_name": "Python 3 (ipykernel)",
   "language": "python",
   "name": "python3"
  },
  "language_info": {
   "codemirror_mode": {
    "name": "ipython",
    "version": 3
   },
   "file_extension": ".py",
   "mimetype": "text/x-python",
   "name": "python",
   "nbconvert_exporter": "python",
   "pygments_lexer": "ipython3",
   "version": "3.9.12"
  },
  "toc": {
   "base_numbering": 1,
   "nav_menu": {},
   "number_sections": true,
   "sideBar": true,
   "skip_h1_title": true,
   "title_cell": "Table of Contents",
   "title_sidebar": "Contents",
   "toc_cell": false,
   "toc_position": {},
   "toc_section_display": true,
   "toc_window_display": false
  }
 },
 "nbformat": 4,
 "nbformat_minor": 2
}
